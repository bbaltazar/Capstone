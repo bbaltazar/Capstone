{
 "cells": [
  {
   "cell_type": "code",
   "execution_count": 3,
   "metadata": {
    "collapsed": true
   },
   "outputs": [],
   "source": [
    "import requests\n",
    "from bs4 import BeautifulSoup"
   ]
  },
  {
   "cell_type": "code",
   "execution_count": 87,
   "metadata": {
    "collapsed": true
   },
   "outputs": [],
   "source": [
    "url = 'https://catalog.bodybuilding.com/products/28286/reviews' #?page=1&size=5&reviewType=verified'"
   ]
  },
  {
   "cell_type": "code",
   "execution_count": 1,
   "metadata": {
    "collapsed": false
   },
   "outputs": [],
   "source": [
    "params = {\\\n",
    "         'page':1,\n",
    "          'reviewType':'verified'}\n",
    "#           ,'size':1000\n",
    "#          }\n",
    "\n",
    "\n",
    "# headers = {\\\n",
    "#            'Accept':'application/json',\n",
    "# 'Accept-Encoding':'gzip, deflate, sdch, br',\n",
    "# 'Accept-Language':'en-US,en;q=0.8',\n",
    "# 'BB-App':'product-detail-app, 5.1.3',\n",
    "# 'Connection':'keep-alive',\n",
    "# 'Host':'catalog.bodybuilding.com',\n",
    "# 'Origin':'http://www.bodybuilding.com',\n",
    "# 'User-Agent':'Mozilla/5.0 (Linux; Android 6.0; Nexus 5 Build/MRA58N) AppleWebKit/537.36 (KHTML, like Gecko) Chrome/46.0.2490.76 Mobile Safari/537.36}'\n",
    "#           }\n",
    "\n",
    "# 'Referer':'http://www.bodybuilding.com/store/musclepharm/combat.html',\n"
   ]
  },
  {
   "cell_type": "code",
   "execution_count": 73,
   "metadata": {
    "collapsed": false
   },
   "outputs": [
    {
     "ename": "NameError",
     "evalue": "name 'foo2' is not defined",
     "output_type": "error",
     "traceback": [
      "\u001b[0;31m---------------------------------------------------------------------------\u001b[0m",
      "\u001b[0;31mNameError\u001b[0m                                 Traceback (most recent call last)",
      "\u001b[0;32m<ipython-input-73-f2d832cc8c06>\u001b[0m in \u001b[0;36m<module>\u001b[0;34m()\u001b[0m\n\u001b[0;32m----> 1\u001b[0;31m \u001b[0mlen\u001b[0m\u001b[0;34m(\u001b[0m\u001b[0mfoo2\u001b[0m\u001b[0;34m.\u001b[0m\u001b[0mjson\u001b[0m\u001b[0;34m(\u001b[0m\u001b[0;34m)\u001b[0m\u001b[0;34m[\u001b[0m\u001b[0;34m'productReviews'\u001b[0m\u001b[0;34m]\u001b[0m\u001b[0;34m)\u001b[0m\u001b[0;34m\u001b[0m\u001b[0m\n\u001b[0m",
      "\u001b[0;31mNameError\u001b[0m: name 'foo2' is not defined"
     ]
    }
   ],
   "source": [
    "len(foo2.json()['productReviews'])"
   ]
  },
  {
   "cell_type": "code",
   "execution_count": 120,
   "metadata": {
    "collapsed": false
   },
   "outputs": [],
   "source": [
    "headers = {\\\n",
    "           'Accept':'application/json',\n",
    "'Accept-Encoding':'gzip, deflate, sdch, br',\n",
    "'Accept-Language':'en-US,en;q=0.8',\n",
    "'BB-App':'product-detail-app, 5.1.3',\n",
    "'Connection':'keep-alive',\n",
    "'Host':'catalog.bodybuilding.com',\n",
    "'Origin':'http://www.bodybuilding.com',\n",
    "'User-Agent':'Mozilla/5.0 (Linux; Android 6.0; Nexus 5 Build/MRA58N) AppleWebKit/537.36 (KHTML, like Gecko) Chrome/46.0.2490.76 Mobile Safari/537.36}'\n",
    "          }\n",
    "# def prod_list(prod_num):\n",
    "#     params = {\\\n",
    "#           'page':1,\n",
    "#           'reviewType':'verified'\n",
    "#          }\n",
    "#     for i in xrange(24000):\n",
    "#         products = []\n",
    "#         url = 'https://catalog.bodybuilding.com/products/'+str(prod_num)+'/reviews'\n",
    "#         foo = requests.get(url, headers=headers, params=params)\n",
    "#         if foo.json()['productReviews']:\n",
    "#             products.append(prod_num)\n",
    "#             prod_num +=1\n",
    "#         else:\n",
    "#             prod_num +=1\n",
    "#     return products \n",
    "def store_data(prod_num):\n",
    "    params = {\\\n",
    "              'page':1,\n",
    "          'reviewType':'verified', 'size':10}\n",
    "    url = 'https://catalog.bodybuilding.com/products/'+str(prod_num)+'/reviews'\n",
    "    foo = requests.get(url, headers=headers, params=params)\n",
    "#         foo = requests.get(url, headers=headers, params={\\\n",
    "#           'page':1,\n",
    "#       'reviewType':'verified',\n",
    "#           'size':foo.json()['totalItems']})\n",
    "#         if foo.json()['productReviews']:\n",
    "#             break          \n",
    "#         else:\n",
    "#             prod_num +=1\n",
    "    return prod_num, foo.json().keys(), foo.json().values(),\\\n",
    "'Total items', foo.json()['totalItems'],\\\n",
    "'Len of prodReviews:', len(foo.json()['productReviews']),\\\n",
    "foo.json()['productReviews']\n",
    "# len(foo.json()), foo.json()['productReviews'], foo.json()"
   ]
  },
  {
   "cell_type": "code",
   "execution_count": 121,
   "metadata": {
    "collapsed": true
   },
   "outputs": [
    {
     "data": {
      "text/plain": [
       "(23880,\n",
       " [u'totalItems', u'productReviews'],\n",
       " [35,\n",
       "  [{u'commentCount': 0,\n",
       "    u'flavorRatings': None,\n",
       "    u'helpful': 0,\n",
       "    u'helpfulTotal': 0,\n",
       "    u'likeCount': None,\n",
       "    u'likeStats': None,\n",
       "    u'member': {u'activated': False,\n",
       "     u'emailAddress': None,\n",
       "     u'gender': None,\n",
       "     u'groupId': None,\n",
       "     u'joinDate': None,\n",
       "     u'lastActivity': None,\n",
       "     u'photoCount': 0,\n",
       "     u'profilePicAvatarPath': None,\n",
       "     u'profilePicOriginalPath': None,\n",
       "     u'profilePicPath': u'http://assets.bodybuilding.com/images/profiledefault_thumb.jpg',\n",
       "     u'profilePicThumbPath': None,\n",
       "     u'profileURL': None,\n",
       "     u'realName': None,\n",
       "     u'slug': u'jrgill525',\n",
       "     u'userId': 67939522,\n",
       "     u'username': u'jrgill525',\n",
       "     u'vbuserId': 0},\n",
       "    u'overallRating': 9.1,\n",
       "    u'product': {u'brandId': u'BRAND_OPTIMUM',\n",
       "     u'brandName': u'Optimum Nutrition',\n",
       "     u'briefDescription': u'',\n",
       "     u'description': u'Helps Refuel And Replenish Hard-Working Muscles!*',\n",
       "     u'flavorList': [u'Colossal Chocolate'],\n",
       "     u'flavorRatings': {u'overallRating': 9.3,\n",
       "      u'ratings': [{u'flavor': u'Colossal Chocolate',\n",
       "        u'id': u'23880-colossal_chocolate',\n",
       "        u'rating': 9.3,\n",
       "        u'totalRatings': 62}],\n",
       "      u'totalRatings': 1},\n",
       "     u'id': u'23880',\n",
       "     u'imageLarge': u'http://store.bbcomcdn.com/images/store/prodimage/prod_23880/image_23880_original_X_450_white.jpg',\n",
       "     u'imageMedium': u'http://store.bbcomcdn.com/images/store/prodimage/prod_23880/image_23880_original_X_130_white.jpg',\n",
       "     u'imageSmall': u'http://store.bbcomcdn.com/images/store/prodimage/prod_23880/image_23880_original_X_70_white.jpg',\n",
       "     u'name': u'2:1:1 Recovery',\n",
       "     u'overallRating': 9.1,\n",
       "     u'productId': u'23880',\n",
       "     u'reviewUrl': u'http://reviews.bodybuilding.com/Optimum/2_1_1_Recovery/',\n",
       "     u'skuList': None,\n",
       "     u'totalRatings': 135,\n",
       "     u'totalReviews': 132,\n",
       "     u'totalVerifiedBuyers': 32,\n",
       "     u'totalVerifiedReviews': 36,\n",
       "     u'url': u'http://www.bodybuilding.com/store/opt/recovery.html',\n",
       "     u'verified': None,\n",
       "     u'verifiedBuyerRating': 9.4},\n",
       "    u'productReview': {u'_id': u'52288bfb0cf243fccd2166ec',\n",
       "     u'brandId': u'BRAND_OPTIMUM',\n",
       "     u'date': 1378388987000,\n",
       "     u'entityId': u'productreview-23880',\n",
       "     u'modDate': 1378388987000,\n",
       "     u'overallRating': None,\n",
       "     u'productId': u'23880',\n",
       "     u'skuList': None,\n",
       "     u'slug': u'jrgill525',\n",
       "     u'status': 1,\n",
       "     u'text': u'Best product I have found. Great after a long bike ride or hard gym workout. Mango flavor taste good and is easy to down. My only Iagree is it tends to clump.',\n",
       "     u'title': u'',\n",
       "     u'totalRatings': None,\n",
       "     u'updateStatusReason': None,\n",
       "     u'userId': 67939522,\n",
       "     u'username': u'jrgill525',\n",
       "     u'verified': True},\n",
       "    u'stats': None,\n",
       "    u'totalRatings': 135,\n",
       "    u'userRating': {u'overallRating': 9.0,\n",
       "     u'ratings': [],\n",
       "     u'totalRatings': None},\n",
       "    u'wasHelpful': None},\n",
       "   {u'commentCount': 0,\n",
       "    u'flavorRatings': None,\n",
       "    u'helpful': 0,\n",
       "    u'helpfulTotal': 0,\n",
       "    u'likeCount': None,\n",
       "    u'likeStats': None,\n",
       "    u'member': {u'activated': False,\n",
       "     u'emailAddress': None,\n",
       "     u'gender': None,\n",
       "     u'groupId': None,\n",
       "     u'joinDate': None,\n",
       "     u'lastActivity': None,\n",
       "     u'photoCount': 0,\n",
       "     u'profilePicAvatarPath': None,\n",
       "     u'profilePicOriginalPath': None,\n",
       "     u'profilePicPath': u'http://imagecdn.bodybuilding.com/profile-photo/15744017/930eb18faf1c42a5837ad05216307365p.jpg',\n",
       "     u'profilePicThumbPath': None,\n",
       "     u'profileURL': None,\n",
       "     u'realName': None,\n",
       "     u'slug': u'lopezjg',\n",
       "     u'userId': 71044751,\n",
       "     u'username': u'lopezjg',\n",
       "     u'vbuserId': 0},\n",
       "    u'overallRating': 9.1,\n",
       "    u'product': {u'brandId': u'BRAND_OPTIMUM',\n",
       "     u'brandName': u'Optimum Nutrition',\n",
       "     u'briefDescription': u'',\n",
       "     u'description': u'Helps Refuel And Replenish Hard-Working Muscles!*',\n",
       "     u'flavorList': [u'Colossal Chocolate'],\n",
       "     u'flavorRatings': {u'overallRating': 9.3,\n",
       "      u'ratings': [{u'flavor': u'Colossal Chocolate',\n",
       "        u'id': u'23880-colossal_chocolate',\n",
       "        u'rating': 9.3,\n",
       "        u'totalRatings': 62}],\n",
       "      u'totalRatings': 1},\n",
       "     u'id': u'23880',\n",
       "     u'imageLarge': u'http://store.bbcomcdn.com/images/store/prodimage/prod_23880/image_23880_original_X_450_white.jpg',\n",
       "     u'imageMedium': u'http://store.bbcomcdn.com/images/store/prodimage/prod_23880/image_23880_original_X_130_white.jpg',\n",
       "     u'imageSmall': u'http://store.bbcomcdn.com/images/store/prodimage/prod_23880/image_23880_original_X_70_white.jpg',\n",
       "     u'name': u'2:1:1 Recovery',\n",
       "     u'overallRating': 9.1,\n",
       "     u'productId': u'23880',\n",
       "     u'reviewUrl': u'http://reviews.bodybuilding.com/Optimum/2_1_1_Recovery/',\n",
       "     u'skuList': None,\n",
       "     u'totalRatings': 135,\n",
       "     u'totalReviews': 132,\n",
       "     u'totalVerifiedBuyers': 32,\n",
       "     u'totalVerifiedReviews': 36,\n",
       "     u'url': u'http://www.bodybuilding.com/store/opt/recovery.html',\n",
       "     u'verified': None,\n",
       "     u'verifiedBuyerRating': 9.4},\n",
       "    u'productReview': {u'_id': u'52193b160cf2452c88d42ff6',\n",
       "     u'brandId': u'BRAND_OPTIMUM',\n",
       "     u'date': 1377385238000,\n",
       "     u'entityId': u'productreview-23880',\n",
       "     u'modDate': 1377385238000,\n",
       "     u'overallRating': None,\n",
       "     u'productId': u'23880',\n",
       "     u'skuList': None,\n",
       "     u'slug': u'lopezjg',\n",
       "     u'status': 1,\n",
       "     u'text': u\"I've used this product for quite some time.  Oddly enough, there aren't that many products that combine carbs and protein in a recovery drink, which this does nicely.  The Mucho Mango flavor is nice and light to chug down following a workout; however, you really need to shake it to avoid clumping, and even then it has a tendency to be a bit chalky... hence the 2pt deduction.  Nevertheless, great product, and a staple in my supp regimen.  \",\n",
       "     u'title': u'',\n",
       "     u'totalRatings': None,\n",
       "     u'updateStatusReason': None,\n",
       "     u'userId': 71044751,\n",
       "     u'username': u'lopezjg',\n",
       "     u'verified': True},\n",
       "    u'stats': {u'bodyfat': u'20.0',\n",
       "     u'height': u'70.0',\n",
       "     u'weight': u'177.0',\n",
       "     u'weightChange': None},\n",
       "    u'totalRatings': 135,\n",
       "    u'userRating': {u'overallRating': 8.0,\n",
       "     u'ratings': [],\n",
       "     u'totalRatings': None},\n",
       "    u'wasHelpful': None},\n",
       "   {u'commentCount': 0,\n",
       "    u'flavorRatings': None,\n",
       "    u'helpful': 0,\n",
       "    u'helpfulTotal': 0,\n",
       "    u'likeCount': None,\n",
       "    u'likeStats': None,\n",
       "    u'member': {u'activated': False,\n",
       "     u'emailAddress': None,\n",
       "     u'gender': None,\n",
       "     u'groupId': None,\n",
       "     u'joinDate': None,\n",
       "     u'lastActivity': None,\n",
       "     u'photoCount': 0,\n",
       "     u'profilePicAvatarPath': None,\n",
       "     u'profilePicOriginalPath': None,\n",
       "     u'profilePicPath': u'http://assets.bodybuilding.com/images/profiledefault_thumb.jpg',\n",
       "     u'profilePicThumbPath': None,\n",
       "     u'profileURL': None,\n",
       "     u'realName': None,\n",
       "     u'slug': u'bkunkelman',\n",
       "     u'userId': 69501242,\n",
       "     u'username': u'bkunkelman',\n",
       "     u'vbuserId': 0},\n",
       "    u'overallRating': 9.1,\n",
       "    u'product': {u'brandId': u'BRAND_OPTIMUM',\n",
       "     u'brandName': u'Optimum Nutrition',\n",
       "     u'briefDescription': u'',\n",
       "     u'description': u'Helps Refuel And Replenish Hard-Working Muscles!*',\n",
       "     u'flavorList': [u'Colossal Chocolate'],\n",
       "     u'flavorRatings': {u'overallRating': 9.3,\n",
       "      u'ratings': [{u'flavor': u'Colossal Chocolate',\n",
       "        u'id': u'23880-colossal_chocolate',\n",
       "        u'rating': 9.3,\n",
       "        u'totalRatings': 62}],\n",
       "      u'totalRatings': 1},\n",
       "     u'id': u'23880',\n",
       "     u'imageLarge': u'http://store.bbcomcdn.com/images/store/prodimage/prod_23880/image_23880_original_X_450_white.jpg',\n",
       "     u'imageMedium': u'http://store.bbcomcdn.com/images/store/prodimage/prod_23880/image_23880_original_X_130_white.jpg',\n",
       "     u'imageSmall': u'http://store.bbcomcdn.com/images/store/prodimage/prod_23880/image_23880_original_X_70_white.jpg',\n",
       "     u'name': u'2:1:1 Recovery',\n",
       "     u'overallRating': 9.1,\n",
       "     u'productId': u'23880',\n",
       "     u'reviewUrl': u'http://reviews.bodybuilding.com/Optimum/2_1_1_Recovery/',\n",
       "     u'skuList': None,\n",
       "     u'totalRatings': 135,\n",
       "     u'totalReviews': 132,\n",
       "     u'totalVerifiedBuyers': 32,\n",
       "     u'totalVerifiedReviews': 36,\n",
       "     u'url': u'http://www.bodybuilding.com/store/opt/recovery.html',\n",
       "     u'verified': None,\n",
       "     u'verifiedBuyerRating': 9.4},\n",
       "    u'productReview': {u'_id': u'51eaa93b0cf2ee4143247ee7',\n",
       "     u'brandId': u'BRAND_OPTIMUM',\n",
       "     u'date': 1374333243000,\n",
       "     u'entityId': u'productreview-23880',\n",
       "     u'modDate': 1374333243000,\n",
       "     u'overallRating': None,\n",
       "     u'productId': u'23880',\n",
       "     u'skuList': None,\n",
       "     u'slug': u'bkunkelman',\n",
       "     u'status': 1,\n",
       "     u'text': u'',\n",
       "     u'title': u'',\n",
       "     u'totalRatings': None,\n",
       "     u'updateStatusReason': None,\n",
       "     u'userId': 69501242,\n",
       "     u'username': u'bkunkelman',\n",
       "     u'verified': True},\n",
       "    u'stats': None,\n",
       "    u'totalRatings': 135,\n",
       "    u'userRating': {u'overallRating': 10.0,\n",
       "     u'ratings': [],\n",
       "     u'totalRatings': None},\n",
       "    u'wasHelpful': None},\n",
       "   {u'commentCount': 0,\n",
       "    u'flavorRatings': None,\n",
       "    u'helpful': 0,\n",
       "    u'helpfulTotal': 0,\n",
       "    u'likeCount': None,\n",
       "    u'likeStats': None,\n",
       "    u'member': {u'activated': False,\n",
       "     u'emailAddress': None,\n",
       "     u'gender': None,\n",
       "     u'groupId': None,\n",
       "     u'joinDate': None,\n",
       "     u'lastActivity': None,\n",
       "     u'photoCount': 0,\n",
       "     u'profilePicAvatarPath': None,\n",
       "     u'profilePicOriginalPath': None,\n",
       "     u'profilePicPath': u'http://imagecdn.bodybuilding.com/profile-photo/19536015/815d1c14b6b044b297f232a6ecbbc82fp.jpg',\n",
       "     u'profilePicThumbPath': None,\n",
       "     u'profileURL': None,\n",
       "     u'realName': None,\n",
       "     u'slug': u'rodolfo1069',\n",
       "     u'userId': 51063591,\n",
       "     u'username': u'rodolfo1069',\n",
       "     u'vbuserId': 0},\n",
       "    u'overallRating': 9.1,\n",
       "    u'product': {u'brandId': u'BRAND_OPTIMUM',\n",
       "     u'brandName': u'Optimum Nutrition',\n",
       "     u'briefDescription': u'',\n",
       "     u'description': u'Helps Refuel And Replenish Hard-Working Muscles!*',\n",
       "     u'flavorList': [u'Colossal Chocolate'],\n",
       "     u'flavorRatings': {u'overallRating': 9.3,\n",
       "      u'ratings': [{u'flavor': u'Colossal Chocolate',\n",
       "        u'id': u'23880-colossal_chocolate',\n",
       "        u'rating': 9.3,\n",
       "        u'totalRatings': 62}],\n",
       "      u'totalRatings': 1},\n",
       "     u'id': u'23880',\n",
       "     u'imageLarge': u'http://store.bbcomcdn.com/images/store/prodimage/prod_23880/image_23880_original_X_450_white.jpg',\n",
       "     u'imageMedium': u'http://store.bbcomcdn.com/images/store/prodimage/prod_23880/image_23880_original_X_130_white.jpg',\n",
       "     u'imageSmall': u'http://store.bbcomcdn.com/images/store/prodimage/prod_23880/image_23880_original_X_70_white.jpg',\n",
       "     u'name': u'2:1:1 Recovery',\n",
       "     u'overallRating': 9.1,\n",
       "     u'productId': u'23880',\n",
       "     u'reviewUrl': u'http://reviews.bodybuilding.com/Optimum/2_1_1_Recovery/',\n",
       "     u'skuList': None,\n",
       "     u'totalRatings': 135,\n",
       "     u'totalReviews': 132,\n",
       "     u'totalVerifiedBuyers': 32,\n",
       "     u'totalVerifiedReviews': 36,\n",
       "     u'url': u'http://www.bodybuilding.com/store/opt/recovery.html',\n",
       "     u'verified': None,\n",
       "     u'verifiedBuyerRating': 9.4},\n",
       "    u'productReview': {u'_id': u'51a7c7730cf23b2043032cde',\n",
       "     u'brandId': u'BRAND_OPTIMUM',\n",
       "     u'date': 1363848509000,\n",
       "     u'entityId': u'productreview-23880',\n",
       "     u'modDate': 1376086131000,\n",
       "     u'overallRating': None,\n",
       "     u'productId': u'23880',\n",
       "     u'skuList': None,\n",
       "     u'slug': u'rodolfo1069',\n",
       "     u'status': 1,\n",
       "     u'text': u'',\n",
       "     u'title': None,\n",
       "     u'totalRatings': None,\n",
       "     u'updateStatusReason': None,\n",
       "     u'userId': 51063591,\n",
       "     u'username': u'rodolfo1069',\n",
       "     u'verified': True},\n",
       "    u'stats': {u'bodyfat': u'8.0',\n",
       "     u'height': u'68.0',\n",
       "     u'weight': u'205.0',\n",
       "     u'weightChange': None},\n",
       "    u'totalRatings': 135,\n",
       "    u'userRating': {u'overallRating': 10.0,\n",
       "     u'ratings': [{u'flavor': u'Colossal Chocolate',\n",
       "       u'id': u'23880-colossal_chocolate',\n",
       "       u'rating': 10.0,\n",
       "       u'totalRatings': 1}],\n",
       "     u'totalRatings': None},\n",
       "    u'wasHelpful': None},\n",
       "   {u'commentCount': 0,\n",
       "    u'flavorRatings': None,\n",
       "    u'helpful': 0,\n",
       "    u'helpfulTotal': 0,\n",
       "    u'likeCount': None,\n",
       "    u'likeStats': None,\n",
       "    u'member': {u'activated': False,\n",
       "     u'emailAddress': None,\n",
       "     u'gender': None,\n",
       "     u'groupId': None,\n",
       "     u'joinDate': None,\n",
       "     u'lastActivity': None,\n",
       "     u'photoCount': 0,\n",
       "     u'profilePicAvatarPath': None,\n",
       "     u'profilePicOriginalPath': None,\n",
       "     u'profilePicPath': u'http://assets.bodybuilding.com/images/profiledefault_thumb.jpg',\n",
       "     u'profilePicThumbPath': None,\n",
       "     u'profileURL': None,\n",
       "     u'realName': None,\n",
       "     u'slug': u'Tmo23',\n",
       "     u'userId': 58868432,\n",
       "     u'username': u'Tmo23',\n",
       "     u'vbuserId': 0},\n",
       "    u'overallRating': 9.1,\n",
       "    u'product': {u'brandId': u'BRAND_OPTIMUM',\n",
       "     u'brandName': u'Optimum Nutrition',\n",
       "     u'briefDescription': u'',\n",
       "     u'description': u'Helps Refuel And Replenish Hard-Working Muscles!*',\n",
       "     u'flavorList': [u'Colossal Chocolate'],\n",
       "     u'flavorRatings': {u'overallRating': 9.3,\n",
       "      u'ratings': [{u'flavor': u'Colossal Chocolate',\n",
       "        u'id': u'23880-colossal_chocolate',\n",
       "        u'rating': 9.3,\n",
       "        u'totalRatings': 62}],\n",
       "      u'totalRatings': 1},\n",
       "     u'id': u'23880',\n",
       "     u'imageLarge': u'http://store.bbcomcdn.com/images/store/prodimage/prod_23880/image_23880_original_X_450_white.jpg',\n",
       "     u'imageMedium': u'http://store.bbcomcdn.com/images/store/prodimage/prod_23880/image_23880_original_X_130_white.jpg',\n",
       "     u'imageSmall': u'http://store.bbcomcdn.com/images/store/prodimage/prod_23880/image_23880_original_X_70_white.jpg',\n",
       "     u'name': u'2:1:1 Recovery',\n",
       "     u'overallRating': 9.1,\n",
       "     u'productId': u'23880',\n",
       "     u'reviewUrl': u'http://reviews.bodybuilding.com/Optimum/2_1_1_Recovery/',\n",
       "     u'skuList': None,\n",
       "     u'totalRatings': 135,\n",
       "     u'totalReviews': 132,\n",
       "     u'totalVerifiedBuyers': 32,\n",
       "     u'totalVerifiedReviews': 36,\n",
       "     u'url': u'http://www.bodybuilding.com/store/opt/recovery.html',\n",
       "     u'verified': None,\n",
       "     u'verifiedBuyerRating': 9.4},\n",
       "    u'productReview': {u'_id': u'51a7c7720cf23b204302f265',\n",
       "     u'brandId': u'BRAND_OPTIMUM',\n",
       "     u'date': 1362598337000,\n",
       "     u'entityId': u'productreview-23880',\n",
       "     u'modDate': 1376085247000,\n",
       "     u'overallRating': None,\n",
       "     u'productId': u'23880',\n",
       "     u'skuList': None,\n",
       "     u'slug': u'Tmo23',\n",
       "     u'status': 1,\n",
       "     u'text': u'',\n",
       "     u'title': None,\n",
       "     u'totalRatings': None,\n",
       "     u'updateStatusReason': None,\n",
       "     u'userId': 58868432,\n",
       "     u'username': u'Tmo23',\n",
       "     u'verified': True},\n",
       "    u'stats': {u'bodyfat': u'8.0',\n",
       "     u'height': u'71.0',\n",
       "     u'weight': u'215.0',\n",
       "     u'weightChange': None},\n",
       "    u'totalRatings': 135,\n",
       "    u'userRating': {u'overallRating': 8.0,\n",
       "     u'ratings': [],\n",
       "     u'totalRatings': None},\n",
       "    u'wasHelpful': None},\n",
       "   {u'commentCount': 0,\n",
       "    u'flavorRatings': None,\n",
       "    u'helpful': 0,\n",
       "    u'helpfulTotal': 0,\n",
       "    u'likeCount': None,\n",
       "    u'likeStats': None,\n",
       "    u'member': {u'activated': False,\n",
       "     u'emailAddress': None,\n",
       "     u'gender': None,\n",
       "     u'groupId': None,\n",
       "     u'joinDate': None,\n",
       "     u'lastActivity': None,\n",
       "     u'photoCount': 0,\n",
       "     u'profilePicAvatarPath': None,\n",
       "     u'profilePicOriginalPath': None,\n",
       "     u'profilePicPath': u'http://assets.bodybuilding.com/images/profiledefault_thumb.jpg',\n",
       "     u'profilePicThumbPath': None,\n",
       "     u'profileURL': None,\n",
       "     u'realName': None,\n",
       "     u'slug': u'japacker',\n",
       "     u'userId': 13791472,\n",
       "     u'username': u'j.a.packer',\n",
       "     u'vbuserId': 0},\n",
       "    u'overallRating': 9.1,\n",
       "    u'product': {u'brandId': u'BRAND_OPTIMUM',\n",
       "     u'brandName': u'Optimum Nutrition',\n",
       "     u'briefDescription': u'',\n",
       "     u'description': u'Helps Refuel And Replenish Hard-Working Muscles!*',\n",
       "     u'flavorList': [u'Colossal Chocolate'],\n",
       "     u'flavorRatings': {u'overallRating': 9.3,\n",
       "      u'ratings': [{u'flavor': u'Colossal Chocolate',\n",
       "        u'id': u'23880-colossal_chocolate',\n",
       "        u'rating': 9.3,\n",
       "        u'totalRatings': 62}],\n",
       "      u'totalRatings': 1},\n",
       "     u'id': u'23880',\n",
       "     u'imageLarge': u'http://store.bbcomcdn.com/images/store/prodimage/prod_23880/image_23880_original_X_450_white.jpg',\n",
       "     u'imageMedium': u'http://store.bbcomcdn.com/images/store/prodimage/prod_23880/image_23880_original_X_130_white.jpg',\n",
       "     u'imageSmall': u'http://store.bbcomcdn.com/images/store/prodimage/prod_23880/image_23880_original_X_70_white.jpg',\n",
       "     u'name': u'2:1:1 Recovery',\n",
       "     u'overallRating': 9.1,\n",
       "     u'productId': u'23880',\n",
       "     u'reviewUrl': u'http://reviews.bodybuilding.com/Optimum/2_1_1_Recovery/',\n",
       "     u'skuList': None,\n",
       "     u'totalRatings': 135,\n",
       "     u'totalReviews': 132,\n",
       "     u'totalVerifiedBuyers': 32,\n",
       "     u'totalVerifiedReviews': 36,\n",
       "     u'url': u'http://www.bodybuilding.com/store/opt/recovery.html',\n",
       "     u'verified': None,\n",
       "     u'verifiedBuyerRating': 9.4},\n",
       "    u'productReview': {u'_id': u'51a7c7710cf23b204302a616',\n",
       "     u'brandId': u'BRAND_OPTIMUM',\n",
       "     u'date': 1352950451000,\n",
       "     u'entityId': u'productreview-23880',\n",
       "     u'modDate': 1376084062000,\n",
       "     u'overallRating': None,\n",
       "     u'productId': u'23880',\n",
       "     u'skuList': None,\n",
       "     u'slug': u'japacker',\n",
       "     u'status': 1,\n",
       "     u'text': u'',\n",
       "     u'title': None,\n",
       "     u'totalRatings': None,\n",
       "     u'updateStatusReason': None,\n",
       "     u'userId': 13791472,\n",
       "     u'username': u'j.a.packer',\n",
       "     u'verified': True},\n",
       "    u'stats': {u'bodyfat': u'10.0',\n",
       "     u'height': None,\n",
       "     u'weight': u'173.0',\n",
       "     u'weightChange': None},\n",
       "    u'totalRatings': 135,\n",
       "    u'userRating': {u'overallRating': 9.0,\n",
       "     u'ratings': [],\n",
       "     u'totalRatings': None},\n",
       "    u'wasHelpful': None},\n",
       "   {u'commentCount': 0,\n",
       "    u'flavorRatings': None,\n",
       "    u'helpful': 0,\n",
       "    u'helpfulTotal': 0,\n",
       "    u'likeCount': None,\n",
       "    u'likeStats': None,\n",
       "    u'member': {u'activated': False,\n",
       "     u'emailAddress': None,\n",
       "     u'gender': None,\n",
       "     u'groupId': None,\n",
       "     u'joinDate': None,\n",
       "     u'lastActivity': None,\n",
       "     u'photoCount': 0,\n",
       "     u'profilePicAvatarPath': None,\n",
       "     u'profilePicOriginalPath': None,\n",
       "     u'profilePicPath': u'http://imagecdn.bodybuilding.com/profile-photo/21786953/18402c81451944e5a1898fce9d388441p.jpg',\n",
       "     u'profilePicThumbPath': None,\n",
       "     u'profileURL': None,\n",
       "     u'realName': None,\n",
       "     u'slug': u'jeffjackson',\n",
       "     u'userId': 35968712,\n",
       "     u'username': u'jeffjackson',\n",
       "     u'vbuserId': 0},\n",
       "    u'overallRating': 9.1,\n",
       "    u'product': {u'brandId': u'BRAND_OPTIMUM',\n",
       "     u'brandName': u'Optimum Nutrition',\n",
       "     u'briefDescription': u'',\n",
       "     u'description': u'Helps Refuel And Replenish Hard-Working Muscles!*',\n",
       "     u'flavorList': [u'Colossal Chocolate'],\n",
       "     u'flavorRatings': {u'overallRating': 9.3,\n",
       "      u'ratings': [{u'flavor': u'Colossal Chocolate',\n",
       "        u'id': u'23880-colossal_chocolate',\n",
       "        u'rating': 9.3,\n",
       "        u'totalRatings': 62}],\n",
       "      u'totalRatings': 1},\n",
       "     u'id': u'23880',\n",
       "     u'imageLarge': u'http://store.bbcomcdn.com/images/store/prodimage/prod_23880/image_23880_original_X_450_white.jpg',\n",
       "     u'imageMedium': u'http://store.bbcomcdn.com/images/store/prodimage/prod_23880/image_23880_original_X_130_white.jpg',\n",
       "     u'imageSmall': u'http://store.bbcomcdn.com/images/store/prodimage/prod_23880/image_23880_original_X_70_white.jpg',\n",
       "     u'name': u'2:1:1 Recovery',\n",
       "     u'overallRating': 9.1,\n",
       "     u'productId': u'23880',\n",
       "     u'reviewUrl': u'http://reviews.bodybuilding.com/Optimum/2_1_1_Recovery/',\n",
       "     u'skuList': None,\n",
       "     u'totalRatings': 135,\n",
       "     u'totalReviews': 132,\n",
       "     u'totalVerifiedBuyers': 32,\n",
       "     u'totalVerifiedReviews': 36,\n",
       "     u'url': u'http://www.bodybuilding.com/store/opt/recovery.html',\n",
       "     u'verified': None,\n",
       "     u'verifiedBuyerRating': 9.4},\n",
       "    u'productReview': {u'_id': u'51a7c7710cf23b204302a407',\n",
       "     u'brandId': u'BRAND_OPTIMUM',\n",
       "     u'date': 1352799454000,\n",
       "     u'entityId': u'productreview-23880',\n",
       "     u'modDate': 1376084034000,\n",
       "     u'overallRating': None,\n",
       "     u'productId': u'23880',\n",
       "     u'skuList': None,\n",
       "     u'slug': u'jeffjackson',\n",
       "     u'status': 1,\n",
       "     u'text': u'Awesome for post workout! \\r\\nI use it with just water from the drinking fountain after my workout. Mixes well and taste great for a protein powder. \\r\\n\\r\\nAwesome product!! ',\n",
       "     u'title': None,\n",
       "     u'totalRatings': None,\n",
       "     u'updateStatusReason': None,\n",
       "     u'userId': 35968712,\n",
       "     u'username': u'jeffjackson',\n",
       "     u'verified': True},\n",
       "    u'stats': {u'bodyfat': u'11.0',\n",
       "     u'height': u'74.0',\n",
       "     u'weight': u'201.0',\n",
       "     u'weightChange': None},\n",
       "    u'totalRatings': 135,\n",
       "    u'userRating': {u'overallRating': 10.0,\n",
       "     u'ratings': [],\n",
       "     u'totalRatings': None},\n",
       "    u'wasHelpful': None},\n",
       "   {u'commentCount': 0,\n",
       "    u'flavorRatings': None,\n",
       "    u'helpful': 0,\n",
       "    u'helpfulTotal': 0,\n",
       "    u'likeCount': None,\n",
       "    u'likeStats': None,\n",
       "    u'member': {u'activated': False,\n",
       "     u'emailAddress': None,\n",
       "     u'gender': None,\n",
       "     u'groupId': None,\n",
       "     u'joinDate': None,\n",
       "     u'lastActivity': None,\n",
       "     u'photoCount': 0,\n",
       "     u'profilePicAvatarPath': None,\n",
       "     u'profilePicOriginalPath': None,\n",
       "     u'profilePicPath': u'http://imagecdn.bodybuilding.com/profile-photo/27753811/1a75eb589eab40fca4d331a9a5dfdbc8p.jpg',\n",
       "     u'profilePicThumbPath': None,\n",
       "     u'profileURL': None,\n",
       "     u'realName': None,\n",
       "     u'slug': u'LimaX',\n",
       "     u'userId': 11835772,\n",
       "     u'username': u'LimaX',\n",
       "     u'vbuserId': 0},\n",
       "    u'overallRating': 9.1,\n",
       "    u'product': {u'brandId': u'BRAND_OPTIMUM',\n",
       "     u'brandName': u'Optimum Nutrition',\n",
       "     u'briefDescription': u'',\n",
       "     u'description': u'Helps Refuel And Replenish Hard-Working Muscles!*',\n",
       "     u'flavorList': [u'Colossal Chocolate'],\n",
       "     u'flavorRatings': {u'overallRating': 9.3,\n",
       "      u'ratings': [{u'flavor': u'Colossal Chocolate',\n",
       "        u'id': u'23880-colossal_chocolate',\n",
       "        u'rating': 9.3,\n",
       "        u'totalRatings': 62}],\n",
       "      u'totalRatings': 1},\n",
       "     u'id': u'23880',\n",
       "     u'imageLarge': u'http://store.bbcomcdn.com/images/store/prodimage/prod_23880/image_23880_original_X_450_white.jpg',\n",
       "     u'imageMedium': u'http://store.bbcomcdn.com/images/store/prodimage/prod_23880/image_23880_original_X_130_white.jpg',\n",
       "     u'imageSmall': u'http://store.bbcomcdn.com/images/store/prodimage/prod_23880/image_23880_original_X_70_white.jpg',\n",
       "     u'name': u'2:1:1 Recovery',\n",
       "     u'overallRating': 9.1,\n",
       "     u'productId': u'23880',\n",
       "     u'reviewUrl': u'http://reviews.bodybuilding.com/Optimum/2_1_1_Recovery/',\n",
       "     u'skuList': None,\n",
       "     u'totalRatings': 135,\n",
       "     u'totalReviews': 132,\n",
       "     u'totalVerifiedBuyers': 32,\n",
       "     u'totalVerifiedReviews': 36,\n",
       "     u'url': u'http://www.bodybuilding.com/store/opt/recovery.html',\n",
       "     u'verified': None,\n",
       "     u'verifiedBuyerRating': 9.4},\n",
       "    u'productReview': {u'_id': u'51a7c7730cf23b2043035db9',\n",
       "     u'brandId': u'BRAND_OPTIMUM',\n",
       "     u'date': 1350083538000,\n",
       "     u'entityId': u'productreview-23880',\n",
       "     u'modDate': 1376086882000,\n",
       "     u'overallRating': None,\n",
       "     u'productId': u'23880',\n",
       "     u'skuList': None,\n",
       "     u'slug': u'LimaX',\n",
       "     u'status': 1,\n",
       "     u'text': u'',\n",
       "     u'title': None,\n",
       "     u'totalRatings': None,\n",
       "     u'updateStatusReason': None,\n",
       "     u'userId': 11835772,\n",
       "     u'username': u'LimaX',\n",
       "     u'verified': True},\n",
       "    u'stats': {u'bodyfat': u'10.0',\n",
       "     u'height': u'71.0',\n",
       "     u'weight': u'172.0',\n",
       "     u'weightChange': None},\n",
       "    u'totalRatings': 135,\n",
       "    u'userRating': {u'overallRating': 10.0,\n",
       "     u'ratings': [],\n",
       "     u'totalRatings': None},\n",
       "    u'wasHelpful': None},\n",
       "   {u'commentCount': 0,\n",
       "    u'flavorRatings': None,\n",
       "    u'helpful': 0,\n",
       "    u'helpfulTotal': 0,\n",
       "    u'likeCount': None,\n",
       "    u'likeStats': None,\n",
       "    u'member': {u'activated': False,\n",
       "     u'emailAddress': None,\n",
       "     u'gender': None,\n",
       "     u'groupId': None,\n",
       "     u'joinDate': None,\n",
       "     u'lastActivity': None,\n",
       "     u'photoCount': 0,\n",
       "     u'profilePicAvatarPath': None,\n",
       "     u'profilePicOriginalPath': None,\n",
       "     u'profilePicPath': u'http://imagecdn.bodybuilding.com/profile-photo/24541514/55fdc93e62994528b5a95c13467cae8bp.jpg',\n",
       "     u'profilePicThumbPath': None,\n",
       "     u'profileURL': None,\n",
       "     u'realName': None,\n",
       "     u'slug': u'noahbehbudi',\n",
       "     u'userId': 41514542,\n",
       "     u'username': u'noahbehbudi',\n",
       "     u'vbuserId': 0},\n",
       "    u'overallRating': 9.1,\n",
       "    u'product': {u'brandId': u'BRAND_OPTIMUM',\n",
       "     u'brandName': u'Optimum Nutrition',\n",
       "     u'briefDescription': u'',\n",
       "     u'description': u'Helps Refuel And Replenish Hard-Working Muscles!*',\n",
       "     u'flavorList': [u'Colossal Chocolate'],\n",
       "     u'flavorRatings': {u'overallRating': 9.3,\n",
       "      u'ratings': [{u'flavor': u'Colossal Chocolate',\n",
       "        u'id': u'23880-colossal_chocolate',\n",
       "        u'rating': 9.3,\n",
       "        u'totalRatings': 62}],\n",
       "      u'totalRatings': 1},\n",
       "     u'id': u'23880',\n",
       "     u'imageLarge': u'http://store.bbcomcdn.com/images/store/prodimage/prod_23880/image_23880_original_X_450_white.jpg',\n",
       "     u'imageMedium': u'http://store.bbcomcdn.com/images/store/prodimage/prod_23880/image_23880_original_X_130_white.jpg',\n",
       "     u'imageSmall': u'http://store.bbcomcdn.com/images/store/prodimage/prod_23880/image_23880_original_X_70_white.jpg',\n",
       "     u'name': u'2:1:1 Recovery',\n",
       "     u'overallRating': 9.1,\n",
       "     u'productId': u'23880',\n",
       "     u'reviewUrl': u'http://reviews.bodybuilding.com/Optimum/2_1_1_Recovery/',\n",
       "     u'skuList': None,\n",
       "     u'totalRatings': 135,\n",
       "     u'totalReviews': 132,\n",
       "     u'totalVerifiedBuyers': 32,\n",
       "     u'totalVerifiedReviews': 36,\n",
       "     u'url': u'http://www.bodybuilding.com/store/opt/recovery.html',\n",
       "     u'verified': None,\n",
       "     u'verifiedBuyerRating': 9.4},\n",
       "    u'productReview': {u'_id': u'51a7c7730cf23b2043036da8',\n",
       "     u'brandId': u'BRAND_OPTIMUM',\n",
       "     u'date': 1349574149000,\n",
       "     u'entityId': u'productreview-23880',\n",
       "     u'modDate': 1376087139000,\n",
       "     u'overallRating': None,\n",
       "     u'productId': u'23880',\n",
       "     u'skuList': None,\n",
       "     u'slug': u'noahbehbudi',\n",
       "     u'status': 1,\n",
       "     u'text': u'This is a great product i would seriously recommend this',\n",
       "     u'title': None,\n",
       "     u'totalRatings': None,\n",
       "     u'updateStatusReason': None,\n",
       "     u'userId': 41514542,\n",
       "     u'username': u'noahbehbudi',\n",
       "     u'verified': True},\n",
       "    u'stats': None,\n",
       "    u'totalRatings': 135,\n",
       "    u'userRating': {u'overallRating': 10.0,\n",
       "     u'ratings': [{u'flavor': u'Colossal Chocolate',\n",
       "       u'id': u'23880-colossal_chocolate',\n",
       "       u'rating': 10.0,\n",
       "       u'totalRatings': 1}],\n",
       "     u'totalRatings': None},\n",
       "    u'wasHelpful': None},\n",
       "   {u'commentCount': 0,\n",
       "    u'flavorRatings': None,\n",
       "    u'helpful': 0,\n",
       "    u'helpfulTotal': 0,\n",
       "    u'likeCount': None,\n",
       "    u'likeStats': None,\n",
       "    u'member': {u'activated': False,\n",
       "     u'emailAddress': None,\n",
       "     u'gender': None,\n",
       "     u'groupId': None,\n",
       "     u'joinDate': None,\n",
       "     u'lastActivity': None,\n",
       "     u'photoCount': 0,\n",
       "     u'profilePicAvatarPath': None,\n",
       "     u'profilePicOriginalPath': None,\n",
       "     u'profilePicPath': u'http://assets.bodybuilding.com/images/profiledefault_thumb.jpg',\n",
       "     u'profilePicThumbPath': None,\n",
       "     u'profileURL': None,\n",
       "     u'realName': None,\n",
       "     u'slug': u'ndalcortivo',\n",
       "     u'userId': 48670762,\n",
       "     u'username': u'ndalcortivo',\n",
       "     u'vbuserId': 0},\n",
       "    u'overallRating': 9.1,\n",
       "    u'product': {u'brandId': u'BRAND_OPTIMUM',\n",
       "     u'brandName': u'Optimum Nutrition',\n",
       "     u'briefDescription': u'',\n",
       "     u'description': u'Helps Refuel And Replenish Hard-Working Muscles!*',\n",
       "     u'flavorList': [u'Colossal Chocolate'],\n",
       "     u'flavorRatings': {u'overallRating': 9.3,\n",
       "      u'ratings': [{u'flavor': u'Colossal Chocolate',\n",
       "        u'id': u'23880-colossal_chocolate',\n",
       "        u'rating': 9.3,\n",
       "        u'totalRatings': 62}],\n",
       "      u'totalRatings': 1},\n",
       "     u'id': u'23880',\n",
       "     u'imageLarge': u'http://store.bbcomcdn.com/images/store/prodimage/prod_23880/image_23880_original_X_450_white.jpg',\n",
       "     u'imageMedium': u'http://store.bbcomcdn.com/images/store/prodimage/prod_23880/image_23880_original_X_130_white.jpg',\n",
       "     u'imageSmall': u'http://store.bbcomcdn.com/images/store/prodimage/prod_23880/image_23880_original_X_70_white.jpg',\n",
       "     u'name': u'2:1:1 Recovery',\n",
       "     u'overallRating': 9.1,\n",
       "     u'productId': u'23880',\n",
       "     u'reviewUrl': u'http://reviews.bodybuilding.com/Optimum/2_1_1_Recovery/',\n",
       "     u'skuList': None,\n",
       "     u'totalRatings': 135,\n",
       "     u'totalReviews': 132,\n",
       "     u'totalVerifiedBuyers': 32,\n",
       "     u'totalVerifiedReviews': 36,\n",
       "     u'url': u'http://www.bodybuilding.com/store/opt/recovery.html',\n",
       "     u'verified': None,\n",
       "     u'verifiedBuyerRating': 9.4},\n",
       "    u'productReview': {u'_id': u'51a7c7730cf23b2043033bb6',\n",
       "     u'brandId': u'BRAND_OPTIMUM',\n",
       "     u'date': 1348324148000,\n",
       "     u'entityId': u'productreview-23880',\n",
       "     u'modDate': 1376086335000,\n",
       "     u'overallRating': None,\n",
       "     u'productId': u'23880',\n",
       "     u'skuList': None,\n",
       "     u'slug': u'ndalcortivo',\n",
       "     u'status': 1,\n",
       "     u'text': u'easily the best supplement I have ever purchased',\n",
       "     u'title': None,\n",
       "     u'totalRatings': None,\n",
       "     u'updateStatusReason': None,\n",
       "     u'userId': 48670762,\n",
       "     u'username': u'ndalcortivo',\n",
       "     u'verified': True},\n",
       "    u'stats': {u'bodyfat': u'9.0',\n",
       "     u'height': u'70.0',\n",
       "     u'weight': u'165.0',\n",
       "     u'weightChange': None},\n",
       "    u'totalRatings': 135,\n",
       "    u'userRating': {u'overallRating': 10.0,\n",
       "     u'ratings': [{u'flavor': u'Colossal Chocolate',\n",
       "       u'id': u'23880-colossal_chocolate',\n",
       "       u'rating': 10.0,\n",
       "       u'totalRatings': 1}],\n",
       "     u'totalRatings': None},\n",
       "    u'wasHelpful': None}]],\n",
       " 'Total items',\n",
       " 35,\n",
       " 'Len of prodReviews:',\n",
       " 10,\n",
       " [{u'commentCount': 0,\n",
       "   u'flavorRatings': None,\n",
       "   u'helpful': 0,\n",
       "   u'helpfulTotal': 0,\n",
       "   u'likeCount': None,\n",
       "   u'likeStats': None,\n",
       "   u'member': {u'activated': False,\n",
       "    u'emailAddress': None,\n",
       "    u'gender': None,\n",
       "    u'groupId': None,\n",
       "    u'joinDate': None,\n",
       "    u'lastActivity': None,\n",
       "    u'photoCount': 0,\n",
       "    u'profilePicAvatarPath': None,\n",
       "    u'profilePicOriginalPath': None,\n",
       "    u'profilePicPath': u'http://assets.bodybuilding.com/images/profiledefault_thumb.jpg',\n",
       "    u'profilePicThumbPath': None,\n",
       "    u'profileURL': None,\n",
       "    u'realName': None,\n",
       "    u'slug': u'jrgill525',\n",
       "    u'userId': 67939522,\n",
       "    u'username': u'jrgill525',\n",
       "    u'vbuserId': 0},\n",
       "   u'overallRating': 9.1,\n",
       "   u'product': {u'brandId': u'BRAND_OPTIMUM',\n",
       "    u'brandName': u'Optimum Nutrition',\n",
       "    u'briefDescription': u'',\n",
       "    u'description': u'Helps Refuel And Replenish Hard-Working Muscles!*',\n",
       "    u'flavorList': [u'Colossal Chocolate'],\n",
       "    u'flavorRatings': {u'overallRating': 9.3,\n",
       "     u'ratings': [{u'flavor': u'Colossal Chocolate',\n",
       "       u'id': u'23880-colossal_chocolate',\n",
       "       u'rating': 9.3,\n",
       "       u'totalRatings': 62}],\n",
       "     u'totalRatings': 1},\n",
       "    u'id': u'23880',\n",
       "    u'imageLarge': u'http://store.bbcomcdn.com/images/store/prodimage/prod_23880/image_23880_original_X_450_white.jpg',\n",
       "    u'imageMedium': u'http://store.bbcomcdn.com/images/store/prodimage/prod_23880/image_23880_original_X_130_white.jpg',\n",
       "    u'imageSmall': u'http://store.bbcomcdn.com/images/store/prodimage/prod_23880/image_23880_original_X_70_white.jpg',\n",
       "    u'name': u'2:1:1 Recovery',\n",
       "    u'overallRating': 9.1,\n",
       "    u'productId': u'23880',\n",
       "    u'reviewUrl': u'http://reviews.bodybuilding.com/Optimum/2_1_1_Recovery/',\n",
       "    u'skuList': None,\n",
       "    u'totalRatings': 135,\n",
       "    u'totalReviews': 132,\n",
       "    u'totalVerifiedBuyers': 32,\n",
       "    u'totalVerifiedReviews': 36,\n",
       "    u'url': u'http://www.bodybuilding.com/store/opt/recovery.html',\n",
       "    u'verified': None,\n",
       "    u'verifiedBuyerRating': 9.4},\n",
       "   u'productReview': {u'_id': u'52288bfb0cf243fccd2166ec',\n",
       "    u'brandId': u'BRAND_OPTIMUM',\n",
       "    u'date': 1378388987000,\n",
       "    u'entityId': u'productreview-23880',\n",
       "    u'modDate': 1378388987000,\n",
       "    u'overallRating': None,\n",
       "    u'productId': u'23880',\n",
       "    u'skuList': None,\n",
       "    u'slug': u'jrgill525',\n",
       "    u'status': 1,\n",
       "    u'text': u'Best product I have found. Great after a long bike ride or hard gym workout. Mango flavor taste good and is easy to down. My only Iagree is it tends to clump.',\n",
       "    u'title': u'',\n",
       "    u'totalRatings': None,\n",
       "    u'updateStatusReason': None,\n",
       "    u'userId': 67939522,\n",
       "    u'username': u'jrgill525',\n",
       "    u'verified': True},\n",
       "   u'stats': None,\n",
       "   u'totalRatings': 135,\n",
       "   u'userRating': {u'overallRating': 9.0,\n",
       "    u'ratings': [],\n",
       "    u'totalRatings': None},\n",
       "   u'wasHelpful': None},\n",
       "  {u'commentCount': 0,\n",
       "   u'flavorRatings': None,\n",
       "   u'helpful': 0,\n",
       "   u'helpfulTotal': 0,\n",
       "   u'likeCount': None,\n",
       "   u'likeStats': None,\n",
       "   u'member': {u'activated': False,\n",
       "    u'emailAddress': None,\n",
       "    u'gender': None,\n",
       "    u'groupId': None,\n",
       "    u'joinDate': None,\n",
       "    u'lastActivity': None,\n",
       "    u'photoCount': 0,\n",
       "    u'profilePicAvatarPath': None,\n",
       "    u'profilePicOriginalPath': None,\n",
       "    u'profilePicPath': u'http://imagecdn.bodybuilding.com/profile-photo/15744017/930eb18faf1c42a5837ad05216307365p.jpg',\n",
       "    u'profilePicThumbPath': None,\n",
       "    u'profileURL': None,\n",
       "    u'realName': None,\n",
       "    u'slug': u'lopezjg',\n",
       "    u'userId': 71044751,\n",
       "    u'username': u'lopezjg',\n",
       "    u'vbuserId': 0},\n",
       "   u'overallRating': 9.1,\n",
       "   u'product': {u'brandId': u'BRAND_OPTIMUM',\n",
       "    u'brandName': u'Optimum Nutrition',\n",
       "    u'briefDescription': u'',\n",
       "    u'description': u'Helps Refuel And Replenish Hard-Working Muscles!*',\n",
       "    u'flavorList': [u'Colossal Chocolate'],\n",
       "    u'flavorRatings': {u'overallRating': 9.3,\n",
       "     u'ratings': [{u'flavor': u'Colossal Chocolate',\n",
       "       u'id': u'23880-colossal_chocolate',\n",
       "       u'rating': 9.3,\n",
       "       u'totalRatings': 62}],\n",
       "     u'totalRatings': 1},\n",
       "    u'id': u'23880',\n",
       "    u'imageLarge': u'http://store.bbcomcdn.com/images/store/prodimage/prod_23880/image_23880_original_X_450_white.jpg',\n",
       "    u'imageMedium': u'http://store.bbcomcdn.com/images/store/prodimage/prod_23880/image_23880_original_X_130_white.jpg',\n",
       "    u'imageSmall': u'http://store.bbcomcdn.com/images/store/prodimage/prod_23880/image_23880_original_X_70_white.jpg',\n",
       "    u'name': u'2:1:1 Recovery',\n",
       "    u'overallRating': 9.1,\n",
       "    u'productId': u'23880',\n",
       "    u'reviewUrl': u'http://reviews.bodybuilding.com/Optimum/2_1_1_Recovery/',\n",
       "    u'skuList': None,\n",
       "    u'totalRatings': 135,\n",
       "    u'totalReviews': 132,\n",
       "    u'totalVerifiedBuyers': 32,\n",
       "    u'totalVerifiedReviews': 36,\n",
       "    u'url': u'http://www.bodybuilding.com/store/opt/recovery.html',\n",
       "    u'verified': None,\n",
       "    u'verifiedBuyerRating': 9.4},\n",
       "   u'productReview': {u'_id': u'52193b160cf2452c88d42ff6',\n",
       "    u'brandId': u'BRAND_OPTIMUM',\n",
       "    u'date': 1377385238000,\n",
       "    u'entityId': u'productreview-23880',\n",
       "    u'modDate': 1377385238000,\n",
       "    u'overallRating': None,\n",
       "    u'productId': u'23880',\n",
       "    u'skuList': None,\n",
       "    u'slug': u'lopezjg',\n",
       "    u'status': 1,\n",
       "    u'text': u\"I've used this product for quite some time.  Oddly enough, there aren't that many products that combine carbs and protein in a recovery drink, which this does nicely.  The Mucho Mango flavor is nice and light to chug down following a workout; however, you really need to shake it to avoid clumping, and even then it has a tendency to be a bit chalky... hence the 2pt deduction.  Nevertheless, great product, and a staple in my supp regimen.  \",\n",
       "    u'title': u'',\n",
       "    u'totalRatings': None,\n",
       "    u'updateStatusReason': None,\n",
       "    u'userId': 71044751,\n",
       "    u'username': u'lopezjg',\n",
       "    u'verified': True},\n",
       "   u'stats': {u'bodyfat': u'20.0',\n",
       "    u'height': u'70.0',\n",
       "    u'weight': u'177.0',\n",
       "    u'weightChange': None},\n",
       "   u'totalRatings': 135,\n",
       "   u'userRating': {u'overallRating': 8.0,\n",
       "    u'ratings': [],\n",
       "    u'totalRatings': None},\n",
       "   u'wasHelpful': None},\n",
       "  {u'commentCount': 0,\n",
       "   u'flavorRatings': None,\n",
       "   u'helpful': 0,\n",
       "   u'helpfulTotal': 0,\n",
       "   u'likeCount': None,\n",
       "   u'likeStats': None,\n",
       "   u'member': {u'activated': False,\n",
       "    u'emailAddress': None,\n",
       "    u'gender': None,\n",
       "    u'groupId': None,\n",
       "    u'joinDate': None,\n",
       "    u'lastActivity': None,\n",
       "    u'photoCount': 0,\n",
       "    u'profilePicAvatarPath': None,\n",
       "    u'profilePicOriginalPath': None,\n",
       "    u'profilePicPath': u'http://assets.bodybuilding.com/images/profiledefault_thumb.jpg',\n",
       "    u'profilePicThumbPath': None,\n",
       "    u'profileURL': None,\n",
       "    u'realName': None,\n",
       "    u'slug': u'bkunkelman',\n",
       "    u'userId': 69501242,\n",
       "    u'username': u'bkunkelman',\n",
       "    u'vbuserId': 0},\n",
       "   u'overallRating': 9.1,\n",
       "   u'product': {u'brandId': u'BRAND_OPTIMUM',\n",
       "    u'brandName': u'Optimum Nutrition',\n",
       "    u'briefDescription': u'',\n",
       "    u'description': u'Helps Refuel And Replenish Hard-Working Muscles!*',\n",
       "    u'flavorList': [u'Colossal Chocolate'],\n",
       "    u'flavorRatings': {u'overallRating': 9.3,\n",
       "     u'ratings': [{u'flavor': u'Colossal Chocolate',\n",
       "       u'id': u'23880-colossal_chocolate',\n",
       "       u'rating': 9.3,\n",
       "       u'totalRatings': 62}],\n",
       "     u'totalRatings': 1},\n",
       "    u'id': u'23880',\n",
       "    u'imageLarge': u'http://store.bbcomcdn.com/images/store/prodimage/prod_23880/image_23880_original_X_450_white.jpg',\n",
       "    u'imageMedium': u'http://store.bbcomcdn.com/images/store/prodimage/prod_23880/image_23880_original_X_130_white.jpg',\n",
       "    u'imageSmall': u'http://store.bbcomcdn.com/images/store/prodimage/prod_23880/image_23880_original_X_70_white.jpg',\n",
       "    u'name': u'2:1:1 Recovery',\n",
       "    u'overallRating': 9.1,\n",
       "    u'productId': u'23880',\n",
       "    u'reviewUrl': u'http://reviews.bodybuilding.com/Optimum/2_1_1_Recovery/',\n",
       "    u'skuList': None,\n",
       "    u'totalRatings': 135,\n",
       "    u'totalReviews': 132,\n",
       "    u'totalVerifiedBuyers': 32,\n",
       "    u'totalVerifiedReviews': 36,\n",
       "    u'url': u'http://www.bodybuilding.com/store/opt/recovery.html',\n",
       "    u'verified': None,\n",
       "    u'verifiedBuyerRating': 9.4},\n",
       "   u'productReview': {u'_id': u'51eaa93b0cf2ee4143247ee7',\n",
       "    u'brandId': u'BRAND_OPTIMUM',\n",
       "    u'date': 1374333243000,\n",
       "    u'entityId': u'productreview-23880',\n",
       "    u'modDate': 1374333243000,\n",
       "    u'overallRating': None,\n",
       "    u'productId': u'23880',\n",
       "    u'skuList': None,\n",
       "    u'slug': u'bkunkelman',\n",
       "    u'status': 1,\n",
       "    u'text': u'',\n",
       "    u'title': u'',\n",
       "    u'totalRatings': None,\n",
       "    u'updateStatusReason': None,\n",
       "    u'userId': 69501242,\n",
       "    u'username': u'bkunkelman',\n",
       "    u'verified': True},\n",
       "   u'stats': None,\n",
       "   u'totalRatings': 135,\n",
       "   u'userRating': {u'overallRating': 10.0,\n",
       "    u'ratings': [],\n",
       "    u'totalRatings': None},\n",
       "   u'wasHelpful': None},\n",
       "  {u'commentCount': 0,\n",
       "   u'flavorRatings': None,\n",
       "   u'helpful': 0,\n",
       "   u'helpfulTotal': 0,\n",
       "   u'likeCount': None,\n",
       "   u'likeStats': None,\n",
       "   u'member': {u'activated': False,\n",
       "    u'emailAddress': None,\n",
       "    u'gender': None,\n",
       "    u'groupId': None,\n",
       "    u'joinDate': None,\n",
       "    u'lastActivity': None,\n",
       "    u'photoCount': 0,\n",
       "    u'profilePicAvatarPath': None,\n",
       "    u'profilePicOriginalPath': None,\n",
       "    u'profilePicPath': u'http://imagecdn.bodybuilding.com/profile-photo/19536015/815d1c14b6b044b297f232a6ecbbc82fp.jpg',\n",
       "    u'profilePicThumbPath': None,\n",
       "    u'profileURL': None,\n",
       "    u'realName': None,\n",
       "    u'slug': u'rodolfo1069',\n",
       "    u'userId': 51063591,\n",
       "    u'username': u'rodolfo1069',\n",
       "    u'vbuserId': 0},\n",
       "   u'overallRating': 9.1,\n",
       "   u'product': {u'brandId': u'BRAND_OPTIMUM',\n",
       "    u'brandName': u'Optimum Nutrition',\n",
       "    u'briefDescription': u'',\n",
       "    u'description': u'Helps Refuel And Replenish Hard-Working Muscles!*',\n",
       "    u'flavorList': [u'Colossal Chocolate'],\n",
       "    u'flavorRatings': {u'overallRating': 9.3,\n",
       "     u'ratings': [{u'flavor': u'Colossal Chocolate',\n",
       "       u'id': u'23880-colossal_chocolate',\n",
       "       u'rating': 9.3,\n",
       "       u'totalRatings': 62}],\n",
       "     u'totalRatings': 1},\n",
       "    u'id': u'23880',\n",
       "    u'imageLarge': u'http://store.bbcomcdn.com/images/store/prodimage/prod_23880/image_23880_original_X_450_white.jpg',\n",
       "    u'imageMedium': u'http://store.bbcomcdn.com/images/store/prodimage/prod_23880/image_23880_original_X_130_white.jpg',\n",
       "    u'imageSmall': u'http://store.bbcomcdn.com/images/store/prodimage/prod_23880/image_23880_original_X_70_white.jpg',\n",
       "    u'name': u'2:1:1 Recovery',\n",
       "    u'overallRating': 9.1,\n",
       "    u'productId': u'23880',\n",
       "    u'reviewUrl': u'http://reviews.bodybuilding.com/Optimum/2_1_1_Recovery/',\n",
       "    u'skuList': None,\n",
       "    u'totalRatings': 135,\n",
       "    u'totalReviews': 132,\n",
       "    u'totalVerifiedBuyers': 32,\n",
       "    u'totalVerifiedReviews': 36,\n",
       "    u'url': u'http://www.bodybuilding.com/store/opt/recovery.html',\n",
       "    u'verified': None,\n",
       "    u'verifiedBuyerRating': 9.4},\n",
       "   u'productReview': {u'_id': u'51a7c7730cf23b2043032cde',\n",
       "    u'brandId': u'BRAND_OPTIMUM',\n",
       "    u'date': 1363848509000,\n",
       "    u'entityId': u'productreview-23880',\n",
       "    u'modDate': 1376086131000,\n",
       "    u'overallRating': None,\n",
       "    u'productId': u'23880',\n",
       "    u'skuList': None,\n",
       "    u'slug': u'rodolfo1069',\n",
       "    u'status': 1,\n",
       "    u'text': u'',\n",
       "    u'title': None,\n",
       "    u'totalRatings': None,\n",
       "    u'updateStatusReason': None,\n",
       "    u'userId': 51063591,\n",
       "    u'username': u'rodolfo1069',\n",
       "    u'verified': True},\n",
       "   u'stats': {u'bodyfat': u'8.0',\n",
       "    u'height': u'68.0',\n",
       "    u'weight': u'205.0',\n",
       "    u'weightChange': None},\n",
       "   u'totalRatings': 135,\n",
       "   u'userRating': {u'overallRating': 10.0,\n",
       "    u'ratings': [{u'flavor': u'Colossal Chocolate',\n",
       "      u'id': u'23880-colossal_chocolate',\n",
       "      u'rating': 10.0,\n",
       "      u'totalRatings': 1}],\n",
       "    u'totalRatings': None},\n",
       "   u'wasHelpful': None},\n",
       "  {u'commentCount': 0,\n",
       "   u'flavorRatings': None,\n",
       "   u'helpful': 0,\n",
       "   u'helpfulTotal': 0,\n",
       "   u'likeCount': None,\n",
       "   u'likeStats': None,\n",
       "   u'member': {u'activated': False,\n",
       "    u'emailAddress': None,\n",
       "    u'gender': None,\n",
       "    u'groupId': None,\n",
       "    u'joinDate': None,\n",
       "    u'lastActivity': None,\n",
       "    u'photoCount': 0,\n",
       "    u'profilePicAvatarPath': None,\n",
       "    u'profilePicOriginalPath': None,\n",
       "    u'profilePicPath': u'http://assets.bodybuilding.com/images/profiledefault_thumb.jpg',\n",
       "    u'profilePicThumbPath': None,\n",
       "    u'profileURL': None,\n",
       "    u'realName': None,\n",
       "    u'slug': u'Tmo23',\n",
       "    u'userId': 58868432,\n",
       "    u'username': u'Tmo23',\n",
       "    u'vbuserId': 0},\n",
       "   u'overallRating': 9.1,\n",
       "   u'product': {u'brandId': u'BRAND_OPTIMUM',\n",
       "    u'brandName': u'Optimum Nutrition',\n",
       "    u'briefDescription': u'',\n",
       "    u'description': u'Helps Refuel And Replenish Hard-Working Muscles!*',\n",
       "    u'flavorList': [u'Colossal Chocolate'],\n",
       "    u'flavorRatings': {u'overallRating': 9.3,\n",
       "     u'ratings': [{u'flavor': u'Colossal Chocolate',\n",
       "       u'id': u'23880-colossal_chocolate',\n",
       "       u'rating': 9.3,\n",
       "       u'totalRatings': 62}],\n",
       "     u'totalRatings': 1},\n",
       "    u'id': u'23880',\n",
       "    u'imageLarge': u'http://store.bbcomcdn.com/images/store/prodimage/prod_23880/image_23880_original_X_450_white.jpg',\n",
       "    u'imageMedium': u'http://store.bbcomcdn.com/images/store/prodimage/prod_23880/image_23880_original_X_130_white.jpg',\n",
       "    u'imageSmall': u'http://store.bbcomcdn.com/images/store/prodimage/prod_23880/image_23880_original_X_70_white.jpg',\n",
       "    u'name': u'2:1:1 Recovery',\n",
       "    u'overallRating': 9.1,\n",
       "    u'productId': u'23880',\n",
       "    u'reviewUrl': u'http://reviews.bodybuilding.com/Optimum/2_1_1_Recovery/',\n",
       "    u'skuList': None,\n",
       "    u'totalRatings': 135,\n",
       "    u'totalReviews': 132,\n",
       "    u'totalVerifiedBuyers': 32,\n",
       "    u'totalVerifiedReviews': 36,\n",
       "    u'url': u'http://www.bodybuilding.com/store/opt/recovery.html',\n",
       "    u'verified': None,\n",
       "    u'verifiedBuyerRating': 9.4},\n",
       "   u'productReview': {u'_id': u'51a7c7720cf23b204302f265',\n",
       "    u'brandId': u'BRAND_OPTIMUM',\n",
       "    u'date': 1362598337000,\n",
       "    u'entityId': u'productreview-23880',\n",
       "    u'modDate': 1376085247000,\n",
       "    u'overallRating': None,\n",
       "    u'productId': u'23880',\n",
       "    u'skuList': None,\n",
       "    u'slug': u'Tmo23',\n",
       "    u'status': 1,\n",
       "    u'text': u'',\n",
       "    u'title': None,\n",
       "    u'totalRatings': None,\n",
       "    u'updateStatusReason': None,\n",
       "    u'userId': 58868432,\n",
       "    u'username': u'Tmo23',\n",
       "    u'verified': True},\n",
       "   u'stats': {u'bodyfat': u'8.0',\n",
       "    u'height': u'71.0',\n",
       "    u'weight': u'215.0',\n",
       "    u'weightChange': None},\n",
       "   u'totalRatings': 135,\n",
       "   u'userRating': {u'overallRating': 8.0,\n",
       "    u'ratings': [],\n",
       "    u'totalRatings': None},\n",
       "   u'wasHelpful': None},\n",
       "  {u'commentCount': 0,\n",
       "   u'flavorRatings': None,\n",
       "   u'helpful': 0,\n",
       "   u'helpfulTotal': 0,\n",
       "   u'likeCount': None,\n",
       "   u'likeStats': None,\n",
       "   u'member': {u'activated': False,\n",
       "    u'emailAddress': None,\n",
       "    u'gender': None,\n",
       "    u'groupId': None,\n",
       "    u'joinDate': None,\n",
       "    u'lastActivity': None,\n",
       "    u'photoCount': 0,\n",
       "    u'profilePicAvatarPath': None,\n",
       "    u'profilePicOriginalPath': None,\n",
       "    u'profilePicPath': u'http://assets.bodybuilding.com/images/profiledefault_thumb.jpg',\n",
       "    u'profilePicThumbPath': None,\n",
       "    u'profileURL': None,\n",
       "    u'realName': None,\n",
       "    u'slug': u'japacker',\n",
       "    u'userId': 13791472,\n",
       "    u'username': u'j.a.packer',\n",
       "    u'vbuserId': 0},\n",
       "   u'overallRating': 9.1,\n",
       "   u'product': {u'brandId': u'BRAND_OPTIMUM',\n",
       "    u'brandName': u'Optimum Nutrition',\n",
       "    u'briefDescription': u'',\n",
       "    u'description': u'Helps Refuel And Replenish Hard-Working Muscles!*',\n",
       "    u'flavorList': [u'Colossal Chocolate'],\n",
       "    u'flavorRatings': {u'overallRating': 9.3,\n",
       "     u'ratings': [{u'flavor': u'Colossal Chocolate',\n",
       "       u'id': u'23880-colossal_chocolate',\n",
       "       u'rating': 9.3,\n",
       "       u'totalRatings': 62}],\n",
       "     u'totalRatings': 1},\n",
       "    u'id': u'23880',\n",
       "    u'imageLarge': u'http://store.bbcomcdn.com/images/store/prodimage/prod_23880/image_23880_original_X_450_white.jpg',\n",
       "    u'imageMedium': u'http://store.bbcomcdn.com/images/store/prodimage/prod_23880/image_23880_original_X_130_white.jpg',\n",
       "    u'imageSmall': u'http://store.bbcomcdn.com/images/store/prodimage/prod_23880/image_23880_original_X_70_white.jpg',\n",
       "    u'name': u'2:1:1 Recovery',\n",
       "    u'overallRating': 9.1,\n",
       "    u'productId': u'23880',\n",
       "    u'reviewUrl': u'http://reviews.bodybuilding.com/Optimum/2_1_1_Recovery/',\n",
       "    u'skuList': None,\n",
       "    u'totalRatings': 135,\n",
       "    u'totalReviews': 132,\n",
       "    u'totalVerifiedBuyers': 32,\n",
       "    u'totalVerifiedReviews': 36,\n",
       "    u'url': u'http://www.bodybuilding.com/store/opt/recovery.html',\n",
       "    u'verified': None,\n",
       "    u'verifiedBuyerRating': 9.4},\n",
       "   u'productReview': {u'_id': u'51a7c7710cf23b204302a616',\n",
       "    u'brandId': u'BRAND_OPTIMUM',\n",
       "    u'date': 1352950451000,\n",
       "    u'entityId': u'productreview-23880',\n",
       "    u'modDate': 1376084062000,\n",
       "    u'overallRating': None,\n",
       "    u'productId': u'23880',\n",
       "    u'skuList': None,\n",
       "    u'slug': u'japacker',\n",
       "    u'status': 1,\n",
       "    u'text': u'',\n",
       "    u'title': None,\n",
       "    u'totalRatings': None,\n",
       "    u'updateStatusReason': None,\n",
       "    u'userId': 13791472,\n",
       "    u'username': u'j.a.packer',\n",
       "    u'verified': True},\n",
       "   u'stats': {u'bodyfat': u'10.0',\n",
       "    u'height': None,\n",
       "    u'weight': u'173.0',\n",
       "    u'weightChange': None},\n",
       "   u'totalRatings': 135,\n",
       "   u'userRating': {u'overallRating': 9.0,\n",
       "    u'ratings': [],\n",
       "    u'totalRatings': None},\n",
       "   u'wasHelpful': None},\n",
       "  {u'commentCount': 0,\n",
       "   u'flavorRatings': None,\n",
       "   u'helpful': 0,\n",
       "   u'helpfulTotal': 0,\n",
       "   u'likeCount': None,\n",
       "   u'likeStats': None,\n",
       "   u'member': {u'activated': False,\n",
       "    u'emailAddress': None,\n",
       "    u'gender': None,\n",
       "    u'groupId': None,\n",
       "    u'joinDate': None,\n",
       "    u'lastActivity': None,\n",
       "    u'photoCount': 0,\n",
       "    u'profilePicAvatarPath': None,\n",
       "    u'profilePicOriginalPath': None,\n",
       "    u'profilePicPath': u'http://imagecdn.bodybuilding.com/profile-photo/21786953/18402c81451944e5a1898fce9d388441p.jpg',\n",
       "    u'profilePicThumbPath': None,\n",
       "    u'profileURL': None,\n",
       "    u'realName': None,\n",
       "    u'slug': u'jeffjackson',\n",
       "    u'userId': 35968712,\n",
       "    u'username': u'jeffjackson',\n",
       "    u'vbuserId': 0},\n",
       "   u'overallRating': 9.1,\n",
       "   u'product': {u'brandId': u'BRAND_OPTIMUM',\n",
       "    u'brandName': u'Optimum Nutrition',\n",
       "    u'briefDescription': u'',\n",
       "    u'description': u'Helps Refuel And Replenish Hard-Working Muscles!*',\n",
       "    u'flavorList': [u'Colossal Chocolate'],\n",
       "    u'flavorRatings': {u'overallRating': 9.3,\n",
       "     u'ratings': [{u'flavor': u'Colossal Chocolate',\n",
       "       u'id': u'23880-colossal_chocolate',\n",
       "       u'rating': 9.3,\n",
       "       u'totalRatings': 62}],\n",
       "     u'totalRatings': 1},\n",
       "    u'id': u'23880',\n",
       "    u'imageLarge': u'http://store.bbcomcdn.com/images/store/prodimage/prod_23880/image_23880_original_X_450_white.jpg',\n",
       "    u'imageMedium': u'http://store.bbcomcdn.com/images/store/prodimage/prod_23880/image_23880_original_X_130_white.jpg',\n",
       "    u'imageSmall': u'http://store.bbcomcdn.com/images/store/prodimage/prod_23880/image_23880_original_X_70_white.jpg',\n",
       "    u'name': u'2:1:1 Recovery',\n",
       "    u'overallRating': 9.1,\n",
       "    u'productId': u'23880',\n",
       "    u'reviewUrl': u'http://reviews.bodybuilding.com/Optimum/2_1_1_Recovery/',\n",
       "    u'skuList': None,\n",
       "    u'totalRatings': 135,\n",
       "    u'totalReviews': 132,\n",
       "    u'totalVerifiedBuyers': 32,\n",
       "    u'totalVerifiedReviews': 36,\n",
       "    u'url': u'http://www.bodybuilding.com/store/opt/recovery.html',\n",
       "    u'verified': None,\n",
       "    u'verifiedBuyerRating': 9.4},\n",
       "   u'productReview': {u'_id': u'51a7c7710cf23b204302a407',\n",
       "    u'brandId': u'BRAND_OPTIMUM',\n",
       "    u'date': 1352799454000,\n",
       "    u'entityId': u'productreview-23880',\n",
       "    u'modDate': 1376084034000,\n",
       "    u'overallRating': None,\n",
       "    u'productId': u'23880',\n",
       "    u'skuList': None,\n",
       "    u'slug': u'jeffjackson',\n",
       "    u'status': 1,\n",
       "    u'text': u'Awesome for post workout! \\r\\nI use it with just water from the drinking fountain after my workout. Mixes well and taste great for a protein powder. \\r\\n\\r\\nAwesome product!! ',\n",
       "    u'title': None,\n",
       "    u'totalRatings': None,\n",
       "    u'updateStatusReason': None,\n",
       "    u'userId': 35968712,\n",
       "    u'username': u'jeffjackson',\n",
       "    u'verified': True},\n",
       "   u'stats': {u'bodyfat': u'11.0',\n",
       "    u'height': u'74.0',\n",
       "    u'weight': u'201.0',\n",
       "    u'weightChange': None},\n",
       "   u'totalRatings': 135,\n",
       "   u'userRating': {u'overallRating': 10.0,\n",
       "    u'ratings': [],\n",
       "    u'totalRatings': None},\n",
       "   u'wasHelpful': None},\n",
       "  {u'commentCount': 0,\n",
       "   u'flavorRatings': None,\n",
       "   u'helpful': 0,\n",
       "   u'helpfulTotal': 0,\n",
       "   u'likeCount': None,\n",
       "   u'likeStats': None,\n",
       "   u'member': {u'activated': False,\n",
       "    u'emailAddress': None,\n",
       "    u'gender': None,\n",
       "    u'groupId': None,\n",
       "    u'joinDate': None,\n",
       "    u'lastActivity': None,\n",
       "    u'photoCount': 0,\n",
       "    u'profilePicAvatarPath': None,\n",
       "    u'profilePicOriginalPath': None,\n",
       "    u'profilePicPath': u'http://imagecdn.bodybuilding.com/profile-photo/27753811/1a75eb589eab40fca4d331a9a5dfdbc8p.jpg',\n",
       "    u'profilePicThumbPath': None,\n",
       "    u'profileURL': None,\n",
       "    u'realName': None,\n",
       "    u'slug': u'LimaX',\n",
       "    u'userId': 11835772,\n",
       "    u'username': u'LimaX',\n",
       "    u'vbuserId': 0},\n",
       "   u'overallRating': 9.1,\n",
       "   u'product': {u'brandId': u'BRAND_OPTIMUM',\n",
       "    u'brandName': u'Optimum Nutrition',\n",
       "    u'briefDescription': u'',\n",
       "    u'description': u'Helps Refuel And Replenish Hard-Working Muscles!*',\n",
       "    u'flavorList': [u'Colossal Chocolate'],\n",
       "    u'flavorRatings': {u'overallRating': 9.3,\n",
       "     u'ratings': [{u'flavor': u'Colossal Chocolate',\n",
       "       u'id': u'23880-colossal_chocolate',\n",
       "       u'rating': 9.3,\n",
       "       u'totalRatings': 62}],\n",
       "     u'totalRatings': 1},\n",
       "    u'id': u'23880',\n",
       "    u'imageLarge': u'http://store.bbcomcdn.com/images/store/prodimage/prod_23880/image_23880_original_X_450_white.jpg',\n",
       "    u'imageMedium': u'http://store.bbcomcdn.com/images/store/prodimage/prod_23880/image_23880_original_X_130_white.jpg',\n",
       "    u'imageSmall': u'http://store.bbcomcdn.com/images/store/prodimage/prod_23880/image_23880_original_X_70_white.jpg',\n",
       "    u'name': u'2:1:1 Recovery',\n",
       "    u'overallRating': 9.1,\n",
       "    u'productId': u'23880',\n",
       "    u'reviewUrl': u'http://reviews.bodybuilding.com/Optimum/2_1_1_Recovery/',\n",
       "    u'skuList': None,\n",
       "    u'totalRatings': 135,\n",
       "    u'totalReviews': 132,\n",
       "    u'totalVerifiedBuyers': 32,\n",
       "    u'totalVerifiedReviews': 36,\n",
       "    u'url': u'http://www.bodybuilding.com/store/opt/recovery.html',\n",
       "    u'verified': None,\n",
       "    u'verifiedBuyerRating': 9.4},\n",
       "   u'productReview': {u'_id': u'51a7c7730cf23b2043035db9',\n",
       "    u'brandId': u'BRAND_OPTIMUM',\n",
       "    u'date': 1350083538000,\n",
       "    u'entityId': u'productreview-23880',\n",
       "    u'modDate': 1376086882000,\n",
       "    u'overallRating': None,\n",
       "    u'productId': u'23880',\n",
       "    u'skuList': None,\n",
       "    u'slug': u'LimaX',\n",
       "    u'status': 1,\n",
       "    u'text': u'',\n",
       "    u'title': None,\n",
       "    u'totalRatings': None,\n",
       "    u'updateStatusReason': None,\n",
       "    u'userId': 11835772,\n",
       "    u'username': u'LimaX',\n",
       "    u'verified': True},\n",
       "   u'stats': {u'bodyfat': u'10.0',\n",
       "    u'height': u'71.0',\n",
       "    u'weight': u'172.0',\n",
       "    u'weightChange': None},\n",
       "   u'totalRatings': 135,\n",
       "   u'userRating': {u'overallRating': 10.0,\n",
       "    u'ratings': [],\n",
       "    u'totalRatings': None},\n",
       "   u'wasHelpful': None},\n",
       "  {u'commentCount': 0,\n",
       "   u'flavorRatings': None,\n",
       "   u'helpful': 0,\n",
       "   u'helpfulTotal': 0,\n",
       "   u'likeCount': None,\n",
       "   u'likeStats': None,\n",
       "   u'member': {u'activated': False,\n",
       "    u'emailAddress': None,\n",
       "    u'gender': None,\n",
       "    u'groupId': None,\n",
       "    u'joinDate': None,\n",
       "    u'lastActivity': None,\n",
       "    u'photoCount': 0,\n",
       "    u'profilePicAvatarPath': None,\n",
       "    u'profilePicOriginalPath': None,\n",
       "    u'profilePicPath': u'http://imagecdn.bodybuilding.com/profile-photo/24541514/55fdc93e62994528b5a95c13467cae8bp.jpg',\n",
       "    u'profilePicThumbPath': None,\n",
       "    u'profileURL': None,\n",
       "    u'realName': None,\n",
       "    u'slug': u'noahbehbudi',\n",
       "    u'userId': 41514542,\n",
       "    u'username': u'noahbehbudi',\n",
       "    u'vbuserId': 0},\n",
       "   u'overallRating': 9.1,\n",
       "   u'product': {u'brandId': u'BRAND_OPTIMUM',\n",
       "    u'brandName': u'Optimum Nutrition',\n",
       "    u'briefDescription': u'',\n",
       "    u'description': u'Helps Refuel And Replenish Hard-Working Muscles!*',\n",
       "    u'flavorList': [u'Colossal Chocolate'],\n",
       "    u'flavorRatings': {u'overallRating': 9.3,\n",
       "     u'ratings': [{u'flavor': u'Colossal Chocolate',\n",
       "       u'id': u'23880-colossal_chocolate',\n",
       "       u'rating': 9.3,\n",
       "       u'totalRatings': 62}],\n",
       "     u'totalRatings': 1},\n",
       "    u'id': u'23880',\n",
       "    u'imageLarge': u'http://store.bbcomcdn.com/images/store/prodimage/prod_23880/image_23880_original_X_450_white.jpg',\n",
       "    u'imageMedium': u'http://store.bbcomcdn.com/images/store/prodimage/prod_23880/image_23880_original_X_130_white.jpg',\n",
       "    u'imageSmall': u'http://store.bbcomcdn.com/images/store/prodimage/prod_23880/image_23880_original_X_70_white.jpg',\n",
       "    u'name': u'2:1:1 Recovery',\n",
       "    u'overallRating': 9.1,\n",
       "    u'productId': u'23880',\n",
       "    u'reviewUrl': u'http://reviews.bodybuilding.com/Optimum/2_1_1_Recovery/',\n",
       "    u'skuList': None,\n",
       "    u'totalRatings': 135,\n",
       "    u'totalReviews': 132,\n",
       "    u'totalVerifiedBuyers': 32,\n",
       "    u'totalVerifiedReviews': 36,\n",
       "    u'url': u'http://www.bodybuilding.com/store/opt/recovery.html',\n",
       "    u'verified': None,\n",
       "    u'verifiedBuyerRating': 9.4},\n",
       "   u'productReview': {u'_id': u'51a7c7730cf23b2043036da8',\n",
       "    u'brandId': u'BRAND_OPTIMUM',\n",
       "    u'date': 1349574149000,\n",
       "    u'entityId': u'productreview-23880',\n",
       "    u'modDate': 1376087139000,\n",
       "    u'overallRating': None,\n",
       "    u'productId': u'23880',\n",
       "    u'skuList': None,\n",
       "    u'slug': u'noahbehbudi',\n",
       "    u'status': 1,\n",
       "    u'text': u'This is a great product i would seriously recommend this',\n",
       "    u'title': None,\n",
       "    u'totalRatings': None,\n",
       "    u'updateStatusReason': None,\n",
       "    u'userId': 41514542,\n",
       "    u'username': u'noahbehbudi',\n",
       "    u'verified': True},\n",
       "   u'stats': None,\n",
       "   u'totalRatings': 135,\n",
       "   u'userRating': {u'overallRating': 10.0,\n",
       "    u'ratings': [{u'flavor': u'Colossal Chocolate',\n",
       "      u'id': u'23880-colossal_chocolate',\n",
       "      u'rating': 10.0,\n",
       "      u'totalRatings': 1}],\n",
       "    u'totalRatings': None},\n",
       "   u'wasHelpful': None},\n",
       "  {u'commentCount': 0,\n",
       "   u'flavorRatings': None,\n",
       "   u'helpful': 0,\n",
       "   u'helpfulTotal': 0,\n",
       "   u'likeCount': None,\n",
       "   u'likeStats': None,\n",
       "   u'member': {u'activated': False,\n",
       "    u'emailAddress': None,\n",
       "    u'gender': None,\n",
       "    u'groupId': None,\n",
       "    u'joinDate': None,\n",
       "    u'lastActivity': None,\n",
       "    u'photoCount': 0,\n",
       "    u'profilePicAvatarPath': None,\n",
       "    u'profilePicOriginalPath': None,\n",
       "    u'profilePicPath': u'http://assets.bodybuilding.com/images/profiledefault_thumb.jpg',\n",
       "    u'profilePicThumbPath': None,\n",
       "    u'profileURL': None,\n",
       "    u'realName': None,\n",
       "    u'slug': u'ndalcortivo',\n",
       "    u'userId': 48670762,\n",
       "    u'username': u'ndalcortivo',\n",
       "    u'vbuserId': 0},\n",
       "   u'overallRating': 9.1,\n",
       "   u'product': {u'brandId': u'BRAND_OPTIMUM',\n",
       "    u'brandName': u'Optimum Nutrition',\n",
       "    u'briefDescription': u'',\n",
       "    u'description': u'Helps Refuel And Replenish Hard-Working Muscles!*',\n",
       "    u'flavorList': [u'Colossal Chocolate'],\n",
       "    u'flavorRatings': {u'overallRating': 9.3,\n",
       "     u'ratings': [{u'flavor': u'Colossal Chocolate',\n",
       "       u'id': u'23880-colossal_chocolate',\n",
       "       u'rating': 9.3,\n",
       "       u'totalRatings': 62}],\n",
       "     u'totalRatings': 1},\n",
       "    u'id': u'23880',\n",
       "    u'imageLarge': u'http://store.bbcomcdn.com/images/store/prodimage/prod_23880/image_23880_original_X_450_white.jpg',\n",
       "    u'imageMedium': u'http://store.bbcomcdn.com/images/store/prodimage/prod_23880/image_23880_original_X_130_white.jpg',\n",
       "    u'imageSmall': u'http://store.bbcomcdn.com/images/store/prodimage/prod_23880/image_23880_original_X_70_white.jpg',\n",
       "    u'name': u'2:1:1 Recovery',\n",
       "    u'overallRating': 9.1,\n",
       "    u'productId': u'23880',\n",
       "    u'reviewUrl': u'http://reviews.bodybuilding.com/Optimum/2_1_1_Recovery/',\n",
       "    u'skuList': None,\n",
       "    u'totalRatings': 135,\n",
       "    u'totalReviews': 132,\n",
       "    u'totalVerifiedBuyers': 32,\n",
       "    u'totalVerifiedReviews': 36,\n",
       "    u'url': u'http://www.bodybuilding.com/store/opt/recovery.html',\n",
       "    u'verified': None,\n",
       "    u'verifiedBuyerRating': 9.4},\n",
       "   u'productReview': {u'_id': u'51a7c7730cf23b2043033bb6',\n",
       "    u'brandId': u'BRAND_OPTIMUM',\n",
       "    u'date': 1348324148000,\n",
       "    u'entityId': u'productreview-23880',\n",
       "    u'modDate': 1376086335000,\n",
       "    u'overallRating': None,\n",
       "    u'productId': u'23880',\n",
       "    u'skuList': None,\n",
       "    u'slug': u'ndalcortivo',\n",
       "    u'status': 1,\n",
       "    u'text': u'easily the best supplement I have ever purchased',\n",
       "    u'title': None,\n",
       "    u'totalRatings': None,\n",
       "    u'updateStatusReason': None,\n",
       "    u'userId': 48670762,\n",
       "    u'username': u'ndalcortivo',\n",
       "    u'verified': True},\n",
       "   u'stats': {u'bodyfat': u'9.0',\n",
       "    u'height': u'70.0',\n",
       "    u'weight': u'165.0',\n",
       "    u'weightChange': None},\n",
       "   u'totalRatings': 135,\n",
       "   u'userRating': {u'overallRating': 10.0,\n",
       "    u'ratings': [{u'flavor': u'Colossal Chocolate',\n",
       "      u'id': u'23880-colossal_chocolate',\n",
       "      u'rating': 10.0,\n",
       "      u'totalRatings': 1}],\n",
       "    u'totalRatings': None},\n",
       "   u'wasHelpful': None}])"
      ]
     },
     "execution_count": 121,
     "metadata": {},
     "output_type": "execute_result"
    }
   ],
   "source": [
    "store_data(23880)"
   ]
  },
  {
   "cell_type": "code",
   "execution_count": 64,
   "metadata": {
    "collapsed": true
   },
   "outputs": [],
   "source": [
    " def prod_list(prod_num):\n",
    "    products = []\n",
    "    for i in xrange(10):\n",
    "        url = 'https://catalog.bodybuilding.com/products/'+str(prod_num)+'/reviews'\n",
    "        foo = requests.get(url, headers=headers, params={'page':1, 'reviewType':'verified'})\n",
    "        if foo.json()['productReviews']:\n",
    "            products.append(prod_num)\n",
    "            prod_num +=1\n",
    "        else:\n",
    "            prod_num +=1\n",
    "    return products "
   ]
  },
  {
   "cell_type": "code",
   "execution_count": 65,
   "metadata": {
    "collapsed": false
   },
   "outputs": [
    {
     "data": {
      "text/plain": [
       "[28286]"
      ]
     },
     "execution_count": 65,
     "metadata": {},
     "output_type": "execute_result"
    }
   ],
   "source": [
    "prod_list(28280)"
   ]
  },
  {
   "cell_type": "code",
   "execution_count": 153,
   "metadata": {
    "collapsed": true
   },
   "outputs": [],
   "source": [
    "def brands_list():\n",
    "    z = requests.get('http://reviews.bodybuilding.com/view-reviews')\n",
    "    soup = BeautifulSoup(z.content)\n",
    "    brands = [soup.findAll(id='brandName')[i]['href'] for i in \n",
    "    xrange(len(soup.findAll(id='brandName')))]\n",
    "    return brands\n",
    "\n",
    "def brand_numbers(brands):\n",
    "    brand_num_list = [] \n",
    "    for brand in brands:\n",
    "        z = requests.get(brand)\n",
    "        soup = BeautifulSoup(z.content)\n",
    "        tags = soup.findAll(attrs={'class':'product-image'})\n",
    "        for i in xrange(0, len(tags), 2):\n",
    "            product_num = tags[i].find('img')['src'].split('image/prod_')[1].split('/')[0]\n",
    "            brand_num_list.append(product_num)\n",
    "    return brand_num_list"
   ]
  },
  {
   "cell_type": "code",
   "execution_count": 156,
   "metadata": {
    "collapsed": false
   },
   "outputs": [
    {
     "data": {
      "text/plain": [
       "4032"
      ]
     },
     "execution_count": 156,
     "metadata": {},
     "output_type": "execute_result"
    }
   ],
   "source": [
    "len(brand_numbers(brands_list()))"
   ]
  },
  {
   "cell_type": "code",
   "execution_count": 4,
   "metadata": {
    "collapsed": true
   },
   "outputs": [
    {
     "name": "stderr",
     "output_type": "stream",
     "text": [
      "/Users/medrine/anaconda/lib/python2.7/site-packages/bs4/__init__.py:166: UserWarning: No parser was explicitly specified, so I'm using the best available HTML parser for this system (\"lxml\"). This usually isn't a problem, but if you run this code on another system, or in a different virtual environment, it may use a different parser and behave differently.\n",
      "\n",
      "To get rid of this warning, change this:\n",
      "\n",
      " BeautifulSoup([your markup])\n",
      "\n",
      "to this:\n",
      "\n",
      " BeautifulSoup([your markup], \"lxml\")\n",
      "\n",
      "  markup_type=markup_type))\n"
     ]
    }
   ],
   "source": [
    "z = requests.get('http://reviews.bodybuilding.com/Allmax_Nutrition/')\n",
    "soup = BeautifulSoup(z.content)\n",
    "tags = soup.findAll(attrs={'class':'pagination-buttons'})"
   ]
  },
  {
   "cell_type": "code",
   "execution_count": 2,
   "metadata": {
    "collapsed": false
   },
   "outputs": [
    {
     "data": {
      "text/plain": [
       "u'/Users/gSchool/Desktop/bodyscrape/Capstone'"
      ]
     },
     "execution_count": 2,
     "metadata": {},
     "output_type": "execute_result"
    }
   ],
   "source": []
  },
  {
   "cell_type": "code",
   "execution_count": 55,
   "metadata": {
    "collapsed": true
   },
   "outputs": [],
   "source": [
    "import graphlab as gl"
   ]
  },
  {
   "cell_type": "code",
   "execution_count": 1,
   "metadata": {
    "collapsed": true
   },
   "outputs": [],
   "source": [
    "import pandas as pd"
   ]
  },
  {
   "cell_type": "code",
   "execution_count": 71,
   "metadata": {
    "collapsed": false
   },
   "outputs": [],
   "source": [
    "run bodycleaning.py"
   ]
  },
  {
   "cell_type": "code",
   "execution_count": 72,
   "metadata": {
    "collapsed": false
   },
   "outputs": [
    {
     "data": {
      "text/plain": [
       "(11091, 2)"
      ]
     },
     "execution_count": 72,
     "metadata": {},
     "output_type": "execute_result"
    }
   ],
   "source": [
    "model.df.shape"
   ]
  },
  {
   "cell_type": "code",
   "execution_count": 73,
   "metadata": {
    "collapsed": false
   },
   "outputs": [],
   "source": [
    "model.add_columns()"
   ]
  },
  {
   "cell_type": "code",
   "execution_count": 74,
   "metadata": {
    "collapsed": true
   },
   "outputs": [],
   "source": [
    "model.df['rating'] = [model.df.userRating[i]['overallRating'] for i in xrange(model.df.shape[0])]"
   ]
  },
  {
   "cell_type": "code",
   "execution_count": 52,
   "metadata": {
    "collapsed": false,
    "scrolled": true
   },
   "outputs": [],
   "source": [
    "sf_product = model.df[['userId', 'productId', 'rating']]"
   ]
  },
  {
   "cell_type": "code",
   "execution_count": 69,
   "metadata": {
    "collapsed": false
   },
   "outputs": [
    {
     "ename": "AttributeError",
     "evalue": "'RankingFactorizationRecommender' object has no attribute 'df'",
     "output_type": "error",
     "traceback": [
      "\u001b[0;31m---------------------------------------------------------------------------\u001b[0m",
      "\u001b[0;31mAttributeError\u001b[0m                            Traceback (most recent call last)",
      "\u001b[0;32m<ipython-input-69-b46a95361546>\u001b[0m in \u001b[0;36m<module>\u001b[0;34m()\u001b[0m\n\u001b[0;32m----> 1\u001b[0;31m \u001b[0mmodel\u001b[0m\u001b[0;34m.\u001b[0m\u001b[0mdf\u001b[0m\u001b[0;34m\u001b[0m\u001b[0m\n\u001b[0m",
      "\u001b[0;32m/Users/gSchool/anaconda2/lib/python2.7/site-packages/graphlab/toolkits/_model.pyc\u001b[0m in \u001b[0;36m__getattribute__\u001b[0;34m(self, attr)\u001b[0m\n\u001b[1;32m    633\u001b[0m             \u001b[0;32mreturn\u001b[0m \u001b[0mself\u001b[0m\u001b[0;34m.\u001b[0m\u001b[0mget\u001b[0m\u001b[0;34m(\u001b[0m\u001b[0mattr\u001b[0m\u001b[0;34m)\u001b[0m\u001b[0;34m\u001b[0m\u001b[0m\n\u001b[1;32m    634\u001b[0m         \u001b[0;32melse\u001b[0m\u001b[0;34m:\u001b[0m\u001b[0;34m\u001b[0m\u001b[0m\n\u001b[0;32m--> 635\u001b[0;31m             \u001b[0;32mreturn\u001b[0m \u001b[0mobject\u001b[0m\u001b[0;34m.\u001b[0m\u001b[0m__getattribute__\u001b[0m\u001b[0;34m(\u001b[0m\u001b[0mself\u001b[0m\u001b[0;34m,\u001b[0m \u001b[0mattr\u001b[0m\u001b[0;34m)\u001b[0m\u001b[0;34m\u001b[0m\u001b[0m\n\u001b[0m\u001b[1;32m    636\u001b[0m \u001b[0;34m\u001b[0m\u001b[0m\n\u001b[1;32m    637\u001b[0m \u001b[0;32mclass\u001b[0m \u001b[0mModel\u001b[0m\u001b[0;34m(\u001b[0m\u001b[0mCustomModel\u001b[0m\u001b[0;34m,\u001b[0m \u001b[0mProxyBasedModel\u001b[0m\u001b[0;34m)\u001b[0m\u001b[0;34m:\u001b[0m\u001b[0;34m\u001b[0m\u001b[0m\n",
      "\u001b[0;31mAttributeError\u001b[0m: 'RankingFactorizationRecommender' object has no attribute 'df'"
     ]
    }
   ],
   "source": []
  },
  {
   "cell_type": "code",
   "execution_count": 66,
   "metadata": {
    "collapsed": false
   },
   "outputs": [
    {
     "ename": "AttributeError",
     "evalue": "'RankingFactorizationRecommender' object has no attribute 'df'",
     "output_type": "error",
     "traceback": [
      "\u001b[0;31m---------------------------------------------------------------------------\u001b[0m",
      "\u001b[0;31mAttributeError\u001b[0m                            Traceback (most recent call last)",
      "\u001b[0;32m<ipython-input-66-33c8fbe39a40>\u001b[0m in \u001b[0;36m<module>\u001b[0;34m()\u001b[0m\n\u001b[0;32m----> 1\u001b[0;31m \u001b[0msf\u001b[0m \u001b[0;34m=\u001b[0m \u001b[0mgl\u001b[0m\u001b[0;34m.\u001b[0m\u001b[0mSFrame\u001b[0m\u001b[0;34m(\u001b[0m\u001b[0mmodel\u001b[0m\u001b[0;34m.\u001b[0m\u001b[0mdf\u001b[0m\u001b[0;34m)\u001b[0m\u001b[0;34m\u001b[0m\u001b[0m\n\u001b[0m",
      "\u001b[0;32m/Users/gSchool/anaconda2/lib/python2.7/site-packages/graphlab/toolkits/_model.pyc\u001b[0m in \u001b[0;36m__getattribute__\u001b[0;34m(self, attr)\u001b[0m\n\u001b[1;32m    633\u001b[0m             \u001b[0;32mreturn\u001b[0m \u001b[0mself\u001b[0m\u001b[0;34m.\u001b[0m\u001b[0mget\u001b[0m\u001b[0;34m(\u001b[0m\u001b[0mattr\u001b[0m\u001b[0;34m)\u001b[0m\u001b[0;34m\u001b[0m\u001b[0m\n\u001b[1;32m    634\u001b[0m         \u001b[0;32melse\u001b[0m\u001b[0;34m:\u001b[0m\u001b[0;34m\u001b[0m\u001b[0m\n\u001b[0;32m--> 635\u001b[0;31m             \u001b[0;32mreturn\u001b[0m \u001b[0mobject\u001b[0m\u001b[0;34m.\u001b[0m\u001b[0m__getattribute__\u001b[0m\u001b[0;34m(\u001b[0m\u001b[0mself\u001b[0m\u001b[0;34m,\u001b[0m \u001b[0mattr\u001b[0m\u001b[0;34m)\u001b[0m\u001b[0;34m\u001b[0m\u001b[0m\n\u001b[0m\u001b[1;32m    636\u001b[0m \u001b[0;34m\u001b[0m\u001b[0m\n\u001b[1;32m    637\u001b[0m \u001b[0;32mclass\u001b[0m \u001b[0mModel\u001b[0m\u001b[0;34m(\u001b[0m\u001b[0mCustomModel\u001b[0m\u001b[0;34m,\u001b[0m \u001b[0mProxyBasedModel\u001b[0m\u001b[0;34m)\u001b[0m\u001b[0;34m:\u001b[0m\u001b[0;34m\u001b[0m\u001b[0m\n",
      "\u001b[0;31mAttributeError\u001b[0m: 'RankingFactorizationRecommender' object has no attribute 'df'"
     ]
    }
   ],
   "source": [
    "sf = gl.SFrame(model.df)"
   ]
  },
  {
   "cell_type": "code",
   "execution_count": 64,
   "metadata": {
    "collapsed": false,
    "scrolled": true
   },
   "outputs": [
    {
     "data": {
      "text/html": [
       "<pre>Recsys training: model = ranking_factorization_recommender</pre>"
      ],
      "text/plain": [
       "Recsys training: model = ranking_factorization_recommender"
      ]
     },
     "metadata": {},
     "output_type": "display_data"
    },
    {
     "data": {
      "text/html": [
       "<pre>Preparing data set.</pre>"
      ],
      "text/plain": [
       "Preparing data set."
      ]
     },
     "metadata": {},
     "output_type": "display_data"
    },
    {
     "data": {
      "text/html": [
       "<pre>    Data has 11091 observations with 8882 users and 17 items.</pre>"
      ],
      "text/plain": [
       "    Data has 11091 observations with 8882 users and 17 items."
      ]
     },
     "metadata": {},
     "output_type": "display_data"
    },
    {
     "data": {
      "text/html": [
       "<pre>    Data prepared in: 0.034279s</pre>"
      ],
      "text/plain": [
       "    Data prepared in: 0.034279s"
      ]
     },
     "metadata": {},
     "output_type": "display_data"
    },
    {
     "data": {
      "text/html": [
       "<pre>Training ranking_factorization_recommender for recommendations.</pre>"
      ],
      "text/plain": [
       "Training ranking_factorization_recommender for recommendations."
      ]
     },
     "metadata": {},
     "output_type": "display_data"
    },
    {
     "data": {
      "text/html": [
       "<pre>+--------------------------------+--------------------------------------------------+----------+</pre>"
      ],
      "text/plain": [
       "+--------------------------------+--------------------------------------------------+----------+"
      ]
     },
     "metadata": {},
     "output_type": "display_data"
    },
    {
     "data": {
      "text/html": [
       "<pre>| Parameter                      | Description                                      | Value    |</pre>"
      ],
      "text/plain": [
       "| Parameter                      | Description                                      | Value    |"
      ]
     },
     "metadata": {},
     "output_type": "display_data"
    },
    {
     "data": {
      "text/html": [
       "<pre>+--------------------------------+--------------------------------------------------+----------+</pre>"
      ],
      "text/plain": [
       "+--------------------------------+--------------------------------------------------+----------+"
      ]
     },
     "metadata": {},
     "output_type": "display_data"
    },
    {
     "data": {
      "text/html": [
       "<pre>| num_factors                    | Factor Dimension                                 | 32       |</pre>"
      ],
      "text/plain": [
       "| num_factors                    | Factor Dimension                                 | 32       |"
      ]
     },
     "metadata": {},
     "output_type": "display_data"
    },
    {
     "data": {
      "text/html": [
       "<pre>| regularization                 | L2 Regularization on Factors                     | 1e-09    |</pre>"
      ],
      "text/plain": [
       "| regularization                 | L2 Regularization on Factors                     | 1e-09    |"
      ]
     },
     "metadata": {},
     "output_type": "display_data"
    },
    {
     "data": {
      "text/html": [
       "<pre>| solver                         | Solver used for training                         | sgd      |</pre>"
      ],
      "text/plain": [
       "| solver                         | Solver used for training                         | sgd      |"
      ]
     },
     "metadata": {},
     "output_type": "display_data"
    },
    {
     "data": {
      "text/html": [
       "<pre>| linear_regularization          | L2 Regularization on Linear Coefficients         | 1e-09    |</pre>"
      ],
      "text/plain": [
       "| linear_regularization          | L2 Regularization on Linear Coefficients         | 1e-09    |"
      ]
     },
     "metadata": {},
     "output_type": "display_data"
    },
    {
     "data": {
      "text/html": [
       "<pre>| ranking_regularization         | Rank-based Regularization Weight                 | 0.25     |</pre>"
      ],
      "text/plain": [
       "| ranking_regularization         | Rank-based Regularization Weight                 | 0.25     |"
      ]
     },
     "metadata": {},
     "output_type": "display_data"
    },
    {
     "data": {
      "text/html": [
       "<pre>| max_iterations                 | Maximum Number of Iterations                     | 25       |</pre>"
      ],
      "text/plain": [
       "| max_iterations                 | Maximum Number of Iterations                     | 25       |"
      ]
     },
     "metadata": {},
     "output_type": "display_data"
    },
    {
     "data": {
      "text/html": [
       "<pre>+--------------------------------+--------------------------------------------------+----------+</pre>"
      ],
      "text/plain": [
       "+--------------------------------+--------------------------------------------------+----------+"
      ]
     },
     "metadata": {},
     "output_type": "display_data"
    },
    {
     "data": {
      "text/html": [
       "<pre>  Optimizing model using SGD; tuning step size.</pre>"
      ],
      "text/plain": [
       "  Optimizing model using SGD; tuning step size."
      ]
     },
     "metadata": {},
     "output_type": "display_data"
    },
    {
     "data": {
      "text/html": [
       "<pre>  Using 10000 / 11091 points for tuning the step size.</pre>"
      ],
      "text/plain": [
       "  Using 10000 / 11091 points for tuning the step size."
      ]
     },
     "metadata": {},
     "output_type": "display_data"
    },
    {
     "data": {
      "text/html": [
       "<pre>+---------+-------------------+------------------------------------------+</pre>"
      ],
      "text/plain": [
       "+---------+-------------------+------------------------------------------+"
      ]
     },
     "metadata": {},
     "output_type": "display_data"
    },
    {
     "data": {
      "text/html": [
       "<pre>| Attempt | Initial Step Size | Estimated Objective Value                |</pre>"
      ],
      "text/plain": [
       "| Attempt | Initial Step Size | Estimated Objective Value                |"
      ]
     },
     "metadata": {},
     "output_type": "display_data"
    },
    {
     "data": {
      "text/html": [
       "<pre>+---------+-------------------+------------------------------------------+</pre>"
      ],
      "text/plain": [
       "+---------+-------------------+------------------------------------------+"
      ]
     },
     "metadata": {},
     "output_type": "display_data"
    },
    {
     "data": {
      "text/html": [
       "<pre>| 0       | 25                | Not Viable                               |</pre>"
      ],
      "text/plain": [
       "| 0       | 25                | Not Viable                               |"
      ]
     },
     "metadata": {},
     "output_type": "display_data"
    },
    {
     "data": {
      "text/html": [
       "<pre>| 1       | 6.25              | Not Viable                               |</pre>"
      ],
      "text/plain": [
       "| 1       | 6.25              | Not Viable                               |"
      ]
     },
     "metadata": {},
     "output_type": "display_data"
    },
    {
     "data": {
      "text/html": [
       "<pre>| 2       | 1.5625            | Not Viable                               |</pre>"
      ],
      "text/plain": [
       "| 2       | 1.5625            | Not Viable                               |"
      ]
     },
     "metadata": {},
     "output_type": "display_data"
    },
    {
     "data": {
      "text/html": [
       "<pre>| 3       | 0.390625          | Not Viable                               |</pre>"
      ],
      "text/plain": [
       "| 3       | 0.390625          | Not Viable                               |"
      ]
     },
     "metadata": {},
     "output_type": "display_data"
    },
    {
     "data": {
      "text/html": [
       "<pre>| 4       | 0.0976562         | 4.68439                                  |</pre>"
      ],
      "text/plain": [
       "| 4       | 0.0976562         | 4.68439                                  |"
      ]
     },
     "metadata": {},
     "output_type": "display_data"
    },
    {
     "data": {
      "text/html": [
       "<pre>| 5       | 0.0488281         | 4.19378                                  |</pre>"
      ],
      "text/plain": [
       "| 5       | 0.0488281         | 4.19378                                  |"
      ]
     },
     "metadata": {},
     "output_type": "display_data"
    },
    {
     "data": {
      "text/html": [
       "<pre>| 6       | 0.0244141         | 5.5593                                   |</pre>"
      ],
      "text/plain": [
       "| 6       | 0.0244141         | 5.5593                                   |"
      ]
     },
     "metadata": {},
     "output_type": "display_data"
    },
    {
     "data": {
      "text/html": [
       "<pre>| 7       | 0.012207          | 5.71911                                  |</pre>"
      ],
      "text/plain": [
       "| 7       | 0.012207          | 5.71911                                  |"
      ]
     },
     "metadata": {},
     "output_type": "display_data"
    },
    {
     "data": {
      "text/html": [
       "<pre>| 8       | 0.00610352        | 5.70219                                  |</pre>"
      ],
      "text/plain": [
       "| 8       | 0.00610352        | 5.70219                                  |"
      ]
     },
     "metadata": {},
     "output_type": "display_data"
    },
    {
     "data": {
      "text/html": [
       "<pre>+---------+-------------------+------------------------------------------+</pre>"
      ],
      "text/plain": [
       "+---------+-------------------+------------------------------------------+"
      ]
     },
     "metadata": {},
     "output_type": "display_data"
    },
    {
     "data": {
      "text/html": [
       "<pre>| Final   | 0.0488281         | 4.19378                                  |</pre>"
      ],
      "text/plain": [
       "| Final   | 0.0488281         | 4.19378                                  |"
      ]
     },
     "metadata": {},
     "output_type": "display_data"
    },
    {
     "data": {
      "text/html": [
       "<pre>+---------+-------------------+------------------------------------------+</pre>"
      ],
      "text/plain": [
       "+---------+-------------------+------------------------------------------+"
      ]
     },
     "metadata": {},
     "output_type": "display_data"
    },
    {
     "data": {
      "text/html": [
       "<pre>Starting Optimization.</pre>"
      ],
      "text/plain": [
       "Starting Optimization."
      ]
     },
     "metadata": {},
     "output_type": "display_data"
    },
    {
     "data": {
      "text/html": [
       "<pre>+---------+--------------+-------------------+-----------------------+-------------+</pre>"
      ],
      "text/plain": [
       "+---------+--------------+-------------------+-----------------------+-------------+"
      ]
     },
     "metadata": {},
     "output_type": "display_data"
    },
    {
     "data": {
      "text/html": [
       "<pre>| Iter.   | Elapsed Time | Approx. Objective | Approx. Training RMSE | Step Size   |</pre>"
      ],
      "text/plain": [
       "| Iter.   | Elapsed Time | Approx. Objective | Approx. Training RMSE | Step Size   |"
      ]
     },
     "metadata": {},
     "output_type": "display_data"
    },
    {
     "data": {
      "text/html": [
       "<pre>+---------+--------------+-------------------+-----------------------+-------------+</pre>"
      ],
      "text/plain": [
       "+---------+--------------+-------------------+-----------------------+-------------+"
      ]
     },
     "metadata": {},
     "output_type": "display_data"
    },
    {
     "data": {
      "text/html": [
       "<pre>| Initial | 114us        | 6.85317           | 1.86961               |             |</pre>"
      ],
      "text/plain": [
       "| Initial | 114us        | 6.85317           | 1.86961               |             |"
      ]
     },
     "metadata": {},
     "output_type": "display_data"
    },
    {
     "data": {
      "text/html": [
       "<pre>+---------+--------------+-------------------+-----------------------+-------------+</pre>"
      ],
      "text/plain": [
       "+---------+--------------+-------------------+-----------------------+-------------+"
      ]
     },
     "metadata": {},
     "output_type": "display_data"
    },
    {
     "data": {
      "text/html": [
       "<pre>| 1       | 30.095ms     | 4.40378           | 1.87655               | 0.0488281   |</pre>"
      ],
      "text/plain": [
       "| 1       | 30.095ms     | 4.40378           | 1.87655               | 0.0488281   |"
      ]
     },
     "metadata": {},
     "output_type": "display_data"
    },
    {
     "data": {
      "text/html": [
       "<pre>| 2       | 79.073ms     | 3.69959           | 1.674                 | 0.0290334   |</pre>"
      ],
      "text/plain": [
       "| 2       | 79.073ms     | 3.69959           | 1.674                 | 0.0290334   |"
      ]
     },
     "metadata": {},
     "output_type": "display_data"
    },
    {
     "data": {
      "text/html": [
       "<pre>| 3       | 163.639ms    | 3.23437           | 1.50576               | 0.0214205   |</pre>"
      ],
      "text/plain": [
       "| 3       | 163.639ms    | 3.23437           | 1.50576               | 0.0214205   |"
      ]
     },
     "metadata": {},
     "output_type": "display_data"
    },
    {
     "data": {
      "text/html": [
       "<pre>| 4       | 218.626ms    | 2.82593           | 1.32434               | 0.0172633   |</pre>"
      ],
      "text/plain": [
       "| 4       | 218.626ms    | 2.82593           | 1.32434               | 0.0172633   |"
      ]
     },
     "metadata": {},
     "output_type": "display_data"
    },
    {
     "data": {
      "text/html": [
       "<pre>| 5       | 273.508ms    | 2.33252           | 1.11168               | 0.014603    |</pre>"
      ],
      "text/plain": [
       "| 5       | 273.508ms    | 2.33252           | 1.11168               | 0.014603    |"
      ]
     },
     "metadata": {},
     "output_type": "display_data"
    },
    {
     "data": {
      "text/html": [
       "<pre>| 6       | 339.319ms    | 1.72066           | 0.885964              | 0.0127367   |</pre>"
      ],
      "text/plain": [
       "| 6       | 339.319ms    | 1.72066           | 0.885964              | 0.0127367   |"
      ]
     },
     "metadata": {},
     "output_type": "display_data"
    },
    {
     "data": {
      "text/html": [
       "<pre>| 11      | 632.895ms    | 0.668237          | 0.525713              | 0.00808399  |</pre>"
      ],
      "text/plain": [
       "| 11      | 632.895ms    | 0.668237          | 0.525713              | 0.00808399  |"
      ]
     },
     "metadata": {},
     "output_type": "display_data"
    },
    {
     "data": {
      "text/html": [
       "<pre>| 25      | 1.05s        | 0.0626311         | 0.128923              | 0.00436732  |</pre>"
      ],
      "text/plain": [
       "| 25      | 1.05s        | 0.0626311         | 0.128923              | 0.00436732  |"
      ]
     },
     "metadata": {},
     "output_type": "display_data"
    },
    {
     "data": {
      "text/html": [
       "<pre>+---------+--------------+-------------------+-----------------------+-------------+</pre>"
      ],
      "text/plain": [
       "+---------+--------------+-------------------+-----------------------+-------------+"
      ]
     },
     "metadata": {},
     "output_type": "display_data"
    },
    {
     "data": {
      "text/html": [
       "<pre>Optimization Complete: Maximum number of passes through the data reached.</pre>"
      ],
      "text/plain": [
       "Optimization Complete: Maximum number of passes through the data reached."
      ]
     },
     "metadata": {},
     "output_type": "display_data"
    },
    {
     "data": {
      "text/html": [
       "<pre>Computing final objective value and training RMSE.</pre>"
      ],
      "text/plain": [
       "Computing final objective value and training RMSE."
      ]
     },
     "metadata": {},
     "output_type": "display_data"
    },
    {
     "data": {
      "text/html": [
       "<pre>       Final objective value: 0.0598014</pre>"
      ],
      "text/plain": [
       "       Final objective value: 0.0598014"
      ]
     },
     "metadata": {},
     "output_type": "display_data"
    },
    {
     "data": {
      "text/html": [
       "<pre>       Final training RMSE: 0.132512</pre>"
      ],
      "text/plain": [
       "       Final training RMSE: 0.132512"
      ]
     },
     "metadata": {},
     "output_type": "display_data"
    }
   ],
   "source": [
    "model_1 = gl.toolkits.recommender.create(sf, user_id = 'userId', item_id='productId', target='rating')"
   ]
  },
  {
   "cell_type": "code",
   "execution_count": 65,
   "metadata": {
    "collapsed": false,
    "scrolled": true
   },
   "outputs": [
    {
     "data": {
      "text/html": [
       "<pre>Recsys training: model = ranking_factorization_recommender</pre>"
      ],
      "text/plain": [
       "Recsys training: model = ranking_factorization_recommender"
      ]
     },
     "metadata": {},
     "output_type": "display_data"
    },
    {
     "name": "stderr",
     "output_type": "stream",
     "text": [
      "[ERROR] graphlab.toolkits._main: Toolkit error: Column name brandId does not exist.\n"
     ]
    },
    {
     "ename": "ToolkitError",
     "evalue": "Column name brandId does not exist.",
     "output_type": "error",
     "traceback": [
      "\u001b[0;31m---------------------------------------------------------------------------\u001b[0m",
      "\u001b[0;31mToolkitError\u001b[0m                              Traceback (most recent call last)",
      "\u001b[0;32m<ipython-input-65-88381fc962b9>\u001b[0m in \u001b[0;36m<module>\u001b[0;34m()\u001b[0m\n\u001b[0;32m----> 1\u001b[0;31m \u001b[0mmodel_2\u001b[0m \u001b[0;34m=\u001b[0m \u001b[0mgl\u001b[0m\u001b[0;34m.\u001b[0m\u001b[0mtoolkits\u001b[0m\u001b[0;34m.\u001b[0m\u001b[0mrecommender\u001b[0m\u001b[0;34m.\u001b[0m\u001b[0mcreate\u001b[0m\u001b[0;34m(\u001b[0m\u001b[0msf\u001b[0m\u001b[0;34m,\u001b[0m \u001b[0muser_id\u001b[0m \u001b[0;34m=\u001b[0m \u001b[0;34m'userId'\u001b[0m\u001b[0;34m,\u001b[0m \u001b[0mitem_id\u001b[0m\u001b[0;34m=\u001b[0m\u001b[0;34m'brandId'\u001b[0m\u001b[0;34m,\u001b[0m \u001b[0mtarget\u001b[0m\u001b[0;34m=\u001b[0m\u001b[0;34m'rating'\u001b[0m\u001b[0;34m)\u001b[0m\u001b[0;34m\u001b[0m\u001b[0m\n\u001b[0m",
      "\u001b[0;32m/Users/gSchool/anaconda2/lib/python2.7/site-packages/graphlab/toolkits/recommender/util.pyc\u001b[0m in \u001b[0;36m_create\u001b[0;34m(observation_data, user_id, item_id, target, user_data, item_data, ranking, verbose)\u001b[0m\n\u001b[1;32m    175\u001b[0m         \u001b[0;32mreturn\u001b[0m \u001b[0m_graphlab\u001b[0m\u001b[0;34m.\u001b[0m\u001b[0mrecommender\u001b[0m\u001b[0;34m.\u001b[0m\u001b[0mfactorization_recommender\u001b[0m\u001b[0;34m.\u001b[0m\u001b[0mcreate\u001b[0m\u001b[0;34m(\u001b[0m\u001b[0;34m**\u001b[0m\u001b[0mopts\u001b[0m\u001b[0;34m)\u001b[0m\u001b[0;34m\u001b[0m\u001b[0m\n\u001b[1;32m    176\u001b[0m     \u001b[0;32melif\u001b[0m \u001b[0mmethod\u001b[0m \u001b[0;34m==\u001b[0m \u001b[0;34m\"ranking_factorization_recommender\"\u001b[0m\u001b[0;34m:\u001b[0m\u001b[0;34m\u001b[0m\u001b[0m\n\u001b[0;32m--> 177\u001b[0;31m         \u001b[0;32mreturn\u001b[0m \u001b[0m_graphlab\u001b[0m\u001b[0;34m.\u001b[0m\u001b[0mrecommender\u001b[0m\u001b[0;34m.\u001b[0m\u001b[0mranking_factorization_recommender\u001b[0m\u001b[0;34m.\u001b[0m\u001b[0mcreate\u001b[0m\u001b[0;34m(\u001b[0m\u001b[0;34m**\u001b[0m\u001b[0mopts\u001b[0m\u001b[0;34m)\u001b[0m\u001b[0;34m\u001b[0m\u001b[0m\n\u001b[0m\u001b[1;32m    178\u001b[0m     \u001b[0;32melse\u001b[0m\u001b[0;34m:\u001b[0m\u001b[0;34m\u001b[0m\u001b[0m\n\u001b[1;32m    179\u001b[0m         \u001b[0;32mraise\u001b[0m \u001b[0mRuntimeError\u001b[0m\u001b[0;34m(\u001b[0m\u001b[0;34m\"Provided method not recognized.\"\u001b[0m\u001b[0;34m)\u001b[0m\u001b[0;34m\u001b[0m\u001b[0m\n",
      "\u001b[0;32m/Users/gSchool/anaconda2/lib/python2.7/site-packages/graphlab/toolkits/recommender/ranking_factorization_recommender.pyc\u001b[0m in \u001b[0;36mcreate\u001b[0;34m(observation_data, user_id, item_id, target, user_data, item_data, num_factors, regularization, linear_regularization, side_data_factorization, ranking_regularization, unobserved_rating_value, num_sampled_negative_examples, max_iterations, sgd_step_size, random_seed, binary_target, solver, verbose, **kwargs)\u001b[0m\n\u001b[1;32m    267\u001b[0m         \u001b[0mopts\u001b[0m\u001b[0;34m.\u001b[0m\u001b[0mupdate\u001b[0m\u001b[0;34m(\u001b[0m\u001b[0mkwargs\u001b[0m\u001b[0;34m)\u001b[0m\u001b[0;34m\u001b[0m\u001b[0m\n\u001b[1;32m    268\u001b[0m \u001b[0;34m\u001b[0m\u001b[0m\n\u001b[0;32m--> 269\u001b[0;31m     \u001b[0mresponse\u001b[0m \u001b[0;34m=\u001b[0m \u001b[0m_graphlab\u001b[0m\u001b[0;34m.\u001b[0m\u001b[0mtoolkits\u001b[0m\u001b[0;34m.\u001b[0m\u001b[0m_main\u001b[0m\u001b[0;34m.\u001b[0m\u001b[0mrun\u001b[0m\u001b[0;34m(\u001b[0m\u001b[0;34m'recsys_train'\u001b[0m\u001b[0;34m,\u001b[0m \u001b[0mopts\u001b[0m\u001b[0;34m,\u001b[0m \u001b[0mverbose\u001b[0m\u001b[0;34m)\u001b[0m\u001b[0;34m\u001b[0m\u001b[0m\n\u001b[0m\u001b[1;32m    270\u001b[0m \u001b[0;34m\u001b[0m\u001b[0m\n\u001b[1;32m    271\u001b[0m     \u001b[0;32mreturn\u001b[0m \u001b[0mRankingFactorizationRecommender\u001b[0m\u001b[0;34m(\u001b[0m\u001b[0mresponse\u001b[0m\u001b[0;34m[\u001b[0m\u001b[0;34m'model'\u001b[0m\u001b[0;34m]\u001b[0m\u001b[0;34m)\u001b[0m\u001b[0;34m\u001b[0m\u001b[0m\n",
      "\u001b[0;32m/Users/gSchool/anaconda2/lib/python2.7/site-packages/graphlab/toolkits/_main.pyc\u001b[0m in \u001b[0;36mrun\u001b[0;34m(toolkit_name, options, verbose, show_progress)\u001b[0m\n\u001b[1;32m     87\u001b[0m         \u001b[0m_get_metric_tracker\u001b[0m\u001b[0;34m(\u001b[0m\u001b[0;34m)\u001b[0m\u001b[0;34m.\u001b[0m\u001b[0mtrack\u001b[0m\u001b[0;34m(\u001b[0m\u001b[0mmetric_name\u001b[0m\u001b[0;34m,\u001b[0m \u001b[0mvalue\u001b[0m\u001b[0;34m=\u001b[0m\u001b[0;36m1\u001b[0m\u001b[0;34m,\u001b[0m \u001b[0mproperties\u001b[0m\u001b[0;34m=\u001b[0m\u001b[0mtrack_props\u001b[0m\u001b[0;34m,\u001b[0m \u001b[0msend_sys_info\u001b[0m\u001b[0;34m=\u001b[0m\u001b[0mFalse\u001b[0m\u001b[0;34m)\u001b[0m\u001b[0;34m\u001b[0m\u001b[0m\n\u001b[1;32m     88\u001b[0m \u001b[0;34m\u001b[0m\u001b[0m\n\u001b[0;32m---> 89\u001b[0;31m         \u001b[0;32mraise\u001b[0m \u001b[0mToolkitError\u001b[0m\u001b[0;34m(\u001b[0m\u001b[0mstr\u001b[0m\u001b[0;34m(\u001b[0m\u001b[0mmessage\u001b[0m\u001b[0;34m)\u001b[0m\u001b[0;34m)\u001b[0m\u001b[0;34m\u001b[0m\u001b[0m\n\u001b[0m",
      "\u001b[0;31mToolkitError\u001b[0m: Column name brandId does not exist."
     ]
    }
   ],
   "source": [
    "model_2 = gl.toolkits.recommender.create(sf, user_id = 'userId', item_id='brandId', target='rating')"
   ]
  },
  {
   "cell_type": "code",
   "execution_count": 76,
   "metadata": {
    "collapsed": false
   },
   "outputs": [
    {
     "ename": "NameError",
     "evalue": "global name 'model' is not defined",
     "output_type": "error",
     "traceback": [
      "\u001b[0;31m---------------------------------------------------------------------------\u001b[0m",
      "\u001b[0;31mNameError\u001b[0m                                 Traceback (most recent call last)",
      "\u001b[0;32m/Users/gSchool/Desktop/bodyscrape/Capstone/bodycleaning.py\u001b[0m in \u001b[0;36m<module>\u001b[0;34m()\u001b[0m\n\u001b[1;32m     50\u001b[0m \u001b[0;32mif\u001b[0m \u001b[0m__name__\u001b[0m \u001b[0;34m==\u001b[0m \u001b[0;34m'__main__'\u001b[0m\u001b[0;34m:\u001b[0m\u001b[0;34m\u001b[0m\u001b[0m\n\u001b[1;32m     51\u001b[0m     \u001b[0mdata\u001b[0m \u001b[0;34m=\u001b[0m \u001b[0mBBclean\u001b[0m\u001b[0;34m(\u001b[0m\u001b[0;34m)\u001b[0m\u001b[0;34m\u001b[0m\u001b[0m\n\u001b[0;32m---> 52\u001b[0;31m     \u001b[0mdata\u001b[0m\u001b[0;34m.\u001b[0m\u001b[0mexpand_columns\u001b[0m\u001b[0;34m(\u001b[0m\u001b[0;34m)\u001b[0m\u001b[0;34m\u001b[0m\u001b[0m\n\u001b[0m\u001b[1;32m     53\u001b[0m     \u001b[0mmodel\u001b[0m\u001b[0;34m.\u001b[0m\u001b[0mcheck_useless\u001b[0m\u001b[0;34m(\u001b[0m\u001b[0;34m)\u001b[0m\u001b[0;34m\u001b[0m\u001b[0m\n\u001b[1;32m     54\u001b[0m     \u001b[0mmodel\u001b[0m\u001b[0;34m.\u001b[0m\u001b[0mdel_columns\u001b[0m\u001b[0;34m(\u001b[0m\u001b[0;34m)\u001b[0m\u001b[0;34m\u001b[0m\u001b[0m\n",
      "\u001b[0;32m/Users/gSchool/Desktop/bodyscrape/Capstone/bodycleaning.py\u001b[0m in \u001b[0;36mexpand_columns\u001b[0;34m(self)\u001b[0m\n\u001b[1;32m     27\u001b[0m                     \u001b[0;32mfor\u001b[0m \u001b[0mi\u001b[0m \u001b[0;32min\u001b[0m \u001b[0mxrange\u001b[0m\u001b[0;34m(\u001b[0m\u001b[0mself\u001b[0m\u001b[0;34m.\u001b[0m\u001b[0mdf\u001b[0m\u001b[0;34m.\u001b[0m\u001b[0mshape\u001b[0m\u001b[0;34m[\u001b[0m\u001b[0;36m0\u001b[0m\u001b[0;34m]\u001b[0m\u001b[0;34m)\u001b[0m\u001b[0;34m:\u001b[0m\u001b[0;34m\u001b[0m\u001b[0m\n\u001b[1;32m     28\u001b[0m                         \u001b[0;32mtry\u001b[0m\u001b[0;34m:\u001b[0m\u001b[0;34m\u001b[0m\u001b[0m\n\u001b[0;32m---> 29\u001b[0;31m                             \u001b[0mcolumn_list\u001b[0m\u001b[0;34m.\u001b[0m\u001b[0mappend\u001b[0m\u001b[0;34m(\u001b[0m\u001b[0mmodel\u001b[0m\u001b[0;34m.\u001b[0m\u001b[0mdf\u001b[0m\u001b[0;34m[\u001b[0m\u001b[0mnew_col\u001b[0m\u001b[0;34m]\u001b[0m\u001b[0;34m[\u001b[0m\u001b[0mi\u001b[0m\u001b[0;34m]\u001b[0m\u001b[0;34m[\u001b[0m\u001b[0msub_col\u001b[0m\u001b[0;34m]\u001b[0m\u001b[0;34m)\u001b[0m\u001b[0;34m\u001b[0m\u001b[0m\n\u001b[0m\u001b[1;32m     30\u001b[0m                         \u001b[0;32mexcept\u001b[0m \u001b[0mTypeError\u001b[0m\u001b[0;34m:\u001b[0m\u001b[0;34m\u001b[0m\u001b[0m\n\u001b[1;32m     31\u001b[0m                             \u001b[0mcolumn_list\u001b[0m\u001b[0;34m.\u001b[0m\u001b[0mappend\u001b[0m\u001b[0;34m(\u001b[0m\u001b[0mNone\u001b[0m\u001b[0;34m)\u001b[0m\u001b[0;34m\u001b[0m\u001b[0m\n",
      "\u001b[0;31mNameError\u001b[0m: global name 'model' is not defined"
     ]
    }
   ],
   "source": [
    "run bodycleaning.py"
   ]
  },
  {
   "cell_type": "code",
   "execution_count": null,
   "metadata": {
    "collapsed": true
   },
   "outputs": [],
   "source": []
  }
 ],
 "metadata": {
  "anaconda-cloud": {},
  "kernelspec": {
   "display_name": "Python [Root]",
   "language": "python",
   "name": "Python [Root]"
  },
  "language_info": {
   "codemirror_mode": {
    "name": "ipython",
    "version": 2
   },
   "file_extension": ".py",
   "mimetype": "text/x-python",
   "name": "python",
   "nbconvert_exporter": "python",
   "pygments_lexer": "ipython2",
   "version": "2.7.12"
  }
 },
 "nbformat": 4,
 "nbformat_minor": 0
}
