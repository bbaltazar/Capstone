{
 "cells": [
  {
   "cell_type": "code",
   "execution_count": 3,
   "metadata": {
    "collapsed": true
   },
   "outputs": [],
   "source": [
    "import requests\n",
    "from bs4 import BeautifulSoup"
   ]
  },
  {
   "cell_type": "code",
   "execution_count": 87,
   "metadata": {
    "collapsed": true
   },
   "outputs": [],
   "source": [
    "url = 'https://catalog.bodybuilding.com/products/28286/reviews' #?page=1&size=5&reviewType=verified'"
   ]
  },
  {
   "cell_type": "code",
   "execution_count": 1,
   "metadata": {
    "collapsed": false
   },
   "outputs": [],
   "source": [
    "params = {\\\n",
    "         'page':1,\n",
    "          'reviewType':'verified'}\n",
    "#           ,'size':1000\n",
    "#          }\n",
    "\n",
    "\n",
    "# headers = {\\\n",
    "#            'Accept':'application/json',\n",
    "# 'Accept-Encoding':'gzip, deflate, sdch, br',\n",
    "# 'Accept-Language':'en-US,en;q=0.8',\n",
    "# 'BB-App':'product-detail-app, 5.1.3',\n",
    "# 'Connection':'keep-alive',\n",
    "# 'Host':'catalog.bodybuilding.com',\n",
    "# 'Origin':'http://www.bodybuilding.com',\n",
    "# 'User-Agent':'Mozilla/5.0 (Linux; Android 6.0; Nexus 5 Build/MRA58N) AppleWebKit/537.36 (KHTML, like Gecko) Chrome/46.0.2490.76 Mobile Safari/537.36}'\n",
    "#           }\n",
    "\n",
    "# 'Referer':'http://www.bodybuilding.com/store/musclepharm/combat.html',\n"
   ]
  },
  {
   "cell_type": "code",
   "execution_count": 73,
   "metadata": {
    "collapsed": false
   },
   "outputs": [
    {
     "ename": "NameError",
     "evalue": "name 'foo2' is not defined",
     "output_type": "error",
     "traceback": [
      "\u001b[0;31m---------------------------------------------------------------------------\u001b[0m",
      "\u001b[0;31mNameError\u001b[0m                                 Traceback (most recent call last)",
      "\u001b[0;32m<ipython-input-73-f2d832cc8c06>\u001b[0m in \u001b[0;36m<module>\u001b[0;34m()\u001b[0m\n\u001b[0;32m----> 1\u001b[0;31m \u001b[0mlen\u001b[0m\u001b[0;34m(\u001b[0m\u001b[0mfoo2\u001b[0m\u001b[0;34m.\u001b[0m\u001b[0mjson\u001b[0m\u001b[0;34m(\u001b[0m\u001b[0;34m)\u001b[0m\u001b[0;34m[\u001b[0m\u001b[0;34m'productReviews'\u001b[0m\u001b[0;34m]\u001b[0m\u001b[0;34m)\u001b[0m\u001b[0;34m\u001b[0m\u001b[0m\n\u001b[0m",
      "\u001b[0;31mNameError\u001b[0m: name 'foo2' is not defined"
     ]
    }
   ],
   "source": [
    "len(foo2.json()['productReviews'])"
   ]
  },
  {
   "cell_type": "code",
   "execution_count": 120,
   "metadata": {
    "collapsed": false
   },
   "outputs": [],
   "source": [
    "headers = {\\\n",
    "           'Accept':'application/json',\n",
    "'Accept-Encoding':'gzip, deflate, sdch, br',\n",
    "'Accept-Language':'en-US,en;q=0.8',\n",
    "'BB-App':'product-detail-app, 5.1.3',\n",
    "'Connection':'keep-alive',\n",
    "'Host':'catalog.bodybuilding.com',\n",
    "'Origin':'http://www.bodybuilding.com',\n",
    "'User-Agent':'Mozilla/5.0 (Linux; Android 6.0; Nexus 5 Build/MRA58N) AppleWebKit/537.36 (KHTML, like Gecko) Chrome/46.0.2490.76 Mobile Safari/537.36}'\n",
    "          }\n",
    "# def prod_list(prod_num):\n",
    "#     params = {\\\n",
    "#           'page':1,\n",
    "#           'reviewType':'verified'\n",
    "#          }\n",
    "#     for i in xrange(24000):\n",
    "#         products = []\n",
    "#         url = 'https://catalog.bodybuilding.com/products/'+str(prod_num)+'/reviews'\n",
    "#         foo = requests.get(url, headers=headers, params=params)\n",
    "#         if foo.json()['productReviews']:\n",
    "#             products.append(prod_num)\n",
    "#             prod_num +=1\n",
    "#         else:\n",
    "#             prod_num +=1\n",
    "#     return products \n",
    "def store_data(prod_num):\n",
    "    params = {\\\n",
    "              'page':1,\n",
    "          'reviewType':'verified', 'size':10}\n",
    "    url = 'https://catalog.bodybuilding.com/products/'+str(prod_num)+'/reviews'\n",
    "    foo = requests.get(url, headers=headers, params=params)\n",
    "#         foo = requests.get(url, headers=headers, params={\\\n",
    "#           'page':1,\n",
    "#       'reviewType':'verified',\n",
    "#           'size':foo.json()['totalItems']})\n",
    "#         if foo.json()['productReviews']:\n",
    "#             break          \n",
    "#         else:\n",
    "#             prod_num +=1\n",
    "    return prod_num, foo.json().keys(), foo.json().values(),\\\n",
    "'Total items', foo.json()['totalItems'],\\\n",
    "'Len of prodReviews:', len(foo.json()['productReviews']),\\\n",
    "foo.json()['productReviews']\n",
    "# len(foo.json()), foo.json()['productReviews'], foo.json()"
   ]
  },
  {
   "cell_type": "code",
   "execution_count": 121,
   "metadata": {
    "collapsed": true
   },
   "outputs": [
    {
     "data": {
      "text/plain": [
       "(23880,\n",
       " [u'totalItems', u'productReviews'],\n",
       " [35,\n",
       "  [{u'commentCount': 0,\n",
       "    u'flavorRatings': None,\n",
       "    u'helpful': 0,\n",
       "    u'helpfulTotal': 0,\n",
       "    u'likeCount': None,\n",
       "    u'likeStats': None,\n",
       "    u'member': {u'activated': False,\n",
       "     u'emailAddress': None,\n",
       "     u'gender': None,\n",
       "     u'groupId': None,\n",
       "     u'joinDate': None,\n",
       "     u'lastActivity': None,\n",
       "     u'photoCount': 0,\n",
       "     u'profilePicAvatarPath': None,\n",
       "     u'profilePicOriginalPath': None,\n",
       "     u'profilePicPath': u'http://assets.bodybuilding.com/images/profiledefault_thumb.jpg',\n",
       "     u'profilePicThumbPath': None,\n",
       "     u'profileURL': None,\n",
       "     u'realName': None,\n",
       "     u'slug': u'jrgill525',\n",
       "     u'userId': 67939522,\n",
       "     u'username': u'jrgill525',\n",
       "     u'vbuserId': 0},\n",
       "    u'overallRating': 9.1,\n",
       "    u'product': {u'brandId': u'BRAND_OPTIMUM',\n",
       "     u'brandName': u'Optimum Nutrition',\n",
       "     u'briefDescription': u'',\n",
       "     u'description': u'Helps Refuel And Replenish Hard-Working Muscles!*',\n",
       "     u'flavorList': [u'Colossal Chocolate'],\n",
       "     u'flavorRatings': {u'overallRating': 9.3,\n",
       "      u'ratings': [{u'flavor': u'Colossal Chocolate',\n",
       "        u'id': u'23880-colossal_chocolate',\n",
       "        u'rating': 9.3,\n",
       "        u'totalRatings': 62}],\n",
       "      u'totalRatings': 1},\n",
       "     u'id': u'23880',\n",
       "     u'imageLarge': u'http://store.bbcomcdn.com/images/store/prodimage/prod_23880/image_23880_original_X_450_white.jpg',\n",
       "     u'imageMedium': u'http://store.bbcomcdn.com/images/store/prodimage/prod_23880/image_23880_original_X_130_white.jpg',\n",
       "     u'imageSmall': u'http://store.bbcomcdn.com/images/store/prodimage/prod_23880/image_23880_original_X_70_white.jpg',\n",
       "     u'name': u'2:1:1 Recovery',\n",
       "     u'overallRating': 9.1,\n",
       "     u'productId': u'23880',\n",
       "     u'reviewUrl': u'http://reviews.bodybuilding.com/Optimum/2_1_1_Recovery/',\n",
       "     u'skuList': None,\n",
       "     u'totalRatings': 135,\n",
       "     u'totalReviews': 132,\n",
       "     u'totalVerifiedBuyers': 32,\n",
       "     u'totalVerifiedReviews': 36,\n",
       "     u'url': u'http://www.bodybuilding.com/store/opt/recovery.html',\n",
       "     u'verified': None,\n",
       "     u'verifiedBuyerRating': 9.4},\n",
       "    u'productReview': {u'_id': u'52288bfb0cf243fccd2166ec',\n",
       "     u'brandId': u'BRAND_OPTIMUM',\n",
       "     u'date': 1378388987000,\n",
       "     u'entityId': u'productreview-23880',\n",
       "     u'modDate': 1378388987000,\n",
       "     u'overallRating': None,\n",
       "     u'productId': u'23880',\n",
       "     u'skuList': None,\n",
       "     u'slug': u'jrgill525',\n",
       "     u'status': 1,\n",
       "     u'text': u'Best product I have found. Great after a long bike ride or hard gym workout. Mango flavor taste good and is easy to down. My only Iagree is it tends to clump.',\n",
       "     u'title': u'',\n",
       "     u'totalRatings': None,\n",
       "     u'updateStatusReason': None,\n",
       "     u'userId': 67939522,\n",
       "     u'username': u'jrgill525',\n",
       "     u'verified': True},\n",
       "    u'stats': None,\n",
       "    u'totalRatings': 135,\n",
       "    u'userRating': {u'overallRating': 9.0,\n",
       "     u'ratings': [],\n",
       "     u'totalRatings': None},\n",
       "    u'wasHelpful': None},\n",
       "   {u'commentCount': 0,\n",
       "    u'flavorRatings': None,\n",
       "    u'helpful': 0,\n",
       "    u'helpfulTotal': 0,\n",
       "    u'likeCount': None,\n",
       "    u'likeStats': None,\n",
       "    u'member': {u'activated': False,\n",
       "     u'emailAddress': None,\n",
       "     u'gender': None,\n",
       "     u'groupId': None,\n",
       "     u'joinDate': None,\n",
       "     u'lastActivity': None,\n",
       "     u'photoCount': 0,\n",
       "     u'profilePicAvatarPath': None,\n",
       "     u'profilePicOriginalPath': None,\n",
       "     u'profilePicPath': u'http://imagecdn.bodybuilding.com/profile-photo/15744017/930eb18faf1c42a5837ad05216307365p.jpg',\n",
       "     u'profilePicThumbPath': None,\n",
       "     u'profileURL': None,\n",
       "     u'realName': None,\n",
       "     u'slug': u'lopezjg',\n",
       "     u'userId': 71044751,\n",
       "     u'username': u'lopezjg',\n",
       "     u'vbuserId': 0},\n",
       "    u'overallRating': 9.1,\n",
       "    u'product': {u'brandId': u'BRAND_OPTIMUM',\n",
       "     u'brandName': u'Optimum Nutrition',\n",
       "     u'briefDescription': u'',\n",
       "     u'description': u'Helps Refuel And Replenish Hard-Working Muscles!*',\n",
       "     u'flavorList': [u'Colossal Chocolate'],\n",
       "     u'flavorRatings': {u'overallRating': 9.3,\n",
       "      u'ratings': [{u'flavor': u'Colossal Chocolate',\n",
       "        u'id': u'23880-colossal_chocolate',\n",
       "        u'rating': 9.3,\n",
       "        u'totalRatings': 62}],\n",
       "      u'totalRatings': 1},\n",
       "     u'id': u'23880',\n",
       "     u'imageLarge': u'http://store.bbcomcdn.com/images/store/prodimage/prod_23880/image_23880_original_X_450_white.jpg',\n",
       "     u'imageMedium': u'http://store.bbcomcdn.com/images/store/prodimage/prod_23880/image_23880_original_X_130_white.jpg',\n",
       "     u'imageSmall': u'http://store.bbcomcdn.com/images/store/prodimage/prod_23880/image_23880_original_X_70_white.jpg',\n",
       "     u'name': u'2:1:1 Recovery',\n",
       "     u'overallRating': 9.1,\n",
       "     u'productId': u'23880',\n",
       "     u'reviewUrl': u'http://reviews.bodybuilding.com/Optimum/2_1_1_Recovery/',\n",
       "     u'skuList': None,\n",
       "     u'totalRatings': 135,\n",
       "     u'totalReviews': 132,\n",
       "     u'totalVerifiedBuyers': 32,\n",
       "     u'totalVerifiedReviews': 36,\n",
       "     u'url': u'http://www.bodybuilding.com/store/opt/recovery.html',\n",
       "     u'verified': None,\n",
       "     u'verifiedBuyerRating': 9.4},\n",
       "    u'productReview': {u'_id': u'52193b160cf2452c88d42ff6',\n",
       "     u'brandId': u'BRAND_OPTIMUM',\n",
       "     u'date': 1377385238000,\n",
       "     u'entityId': u'productreview-23880',\n",
       "     u'modDate': 1377385238000,\n",
       "     u'overallRating': None,\n",
       "     u'productId': u'23880',\n",
       "     u'skuList': None,\n",
       "     u'slug': u'lopezjg',\n",
       "     u'status': 1,\n",
       "     u'text': u\"I've used this product for quite some time.  Oddly enough, there aren't that many products that combine carbs and protein in a recovery drink, which this does nicely.  The Mucho Mango flavor is nice and light to chug down following a workout; however, you really need to shake it to avoid clumping, and even then it has a tendency to be a bit chalky... hence the 2pt deduction.  Nevertheless, great product, and a staple in my supp regimen.  \",\n",
       "     u'title': u'',\n",
       "     u'totalRatings': None,\n",
       "     u'updateStatusReason': None,\n",
       "     u'userId': 71044751,\n",
       "     u'username': u'lopezjg',\n",
       "     u'verified': True},\n",
       "    u'stats': {u'bodyfat': u'20.0',\n",
       "     u'height': u'70.0',\n",
       "     u'weight': u'177.0',\n",
       "     u'weightChange': None},\n",
       "    u'totalRatings': 135,\n",
       "    u'userRating': {u'overallRating': 8.0,\n",
       "     u'ratings': [],\n",
       "     u'totalRatings': None},\n",
       "    u'wasHelpful': None},\n",
       "   {u'commentCount': 0,\n",
       "    u'flavorRatings': None,\n",
       "    u'helpful': 0,\n",
       "    u'helpfulTotal': 0,\n",
       "    u'likeCount': None,\n",
       "    u'likeStats': None,\n",
       "    u'member': {u'activated': False,\n",
       "     u'emailAddress': None,\n",
       "     u'gender': None,\n",
       "     u'groupId': None,\n",
       "     u'joinDate': None,\n",
       "     u'lastActivity': None,\n",
       "     u'photoCount': 0,\n",
       "     u'profilePicAvatarPath': None,\n",
       "     u'profilePicOriginalPath': None,\n",
       "     u'profilePicPath': u'http://assets.bodybuilding.com/images/profiledefault_thumb.jpg',\n",
       "     u'profilePicThumbPath': None,\n",
       "     u'profileURL': None,\n",
       "     u'realName': None,\n",
       "     u'slug': u'bkunkelman',\n",
       "     u'userId': 69501242,\n",
       "     u'username': u'bkunkelman',\n",
       "     u'vbuserId': 0},\n",
       "    u'overallRating': 9.1,\n",
       "    u'product': {u'brandId': u'BRAND_OPTIMUM',\n",
       "     u'brandName': u'Optimum Nutrition',\n",
       "     u'briefDescription': u'',\n",
       "     u'description': u'Helps Refuel And Replenish Hard-Working Muscles!*',\n",
       "     u'flavorList': [u'Colossal Chocolate'],\n",
       "     u'flavorRatings': {u'overallRating': 9.3,\n",
       "      u'ratings': [{u'flavor': u'Colossal Chocolate',\n",
       "        u'id': u'23880-colossal_chocolate',\n",
       "        u'rating': 9.3,\n",
       "        u'totalRatings': 62}],\n",
       "      u'totalRatings': 1},\n",
       "     u'id': u'23880',\n",
       "     u'imageLarge': u'http://store.bbcomcdn.com/images/store/prodimage/prod_23880/image_23880_original_X_450_white.jpg',\n",
       "     u'imageMedium': u'http://store.bbcomcdn.com/images/store/prodimage/prod_23880/image_23880_original_X_130_white.jpg',\n",
       "     u'imageSmall': u'http://store.bbcomcdn.com/images/store/prodimage/prod_23880/image_23880_original_X_70_white.jpg',\n",
       "     u'name': u'2:1:1 Recovery',\n",
       "     u'overallRating': 9.1,\n",
       "     u'productId': u'23880',\n",
       "     u'reviewUrl': u'http://reviews.bodybuilding.com/Optimum/2_1_1_Recovery/',\n",
       "     u'skuList': None,\n",
       "     u'totalRatings': 135,\n",
       "     u'totalReviews': 132,\n",
       "     u'totalVerifiedBuyers': 32,\n",
       "     u'totalVerifiedReviews': 36,\n",
       "     u'url': u'http://www.bodybuilding.com/store/opt/recovery.html',\n",
       "     u'verified': None,\n",
       "     u'verifiedBuyerRating': 9.4},\n",
       "    u'productReview': {u'_id': u'51eaa93b0cf2ee4143247ee7',\n",
       "     u'brandId': u'BRAND_OPTIMUM',\n",
       "     u'date': 1374333243000,\n",
       "     u'entityId': u'productreview-23880',\n",
       "     u'modDate': 1374333243000,\n",
       "     u'overallRating': None,\n",
       "     u'productId': u'23880',\n",
       "     u'skuList': None,\n",
       "     u'slug': u'bkunkelman',\n",
       "     u'status': 1,\n",
       "     u'text': u'',\n",
       "     u'title': u'',\n",
       "     u'totalRatings': None,\n",
       "     u'updateStatusReason': None,\n",
       "     u'userId': 69501242,\n",
       "     u'username': u'bkunkelman',\n",
       "     u'verified': True},\n",
       "    u'stats': None,\n",
       "    u'totalRatings': 135,\n",
       "    u'userRating': {u'overallRating': 10.0,\n",
       "     u'ratings': [],\n",
       "     u'totalRatings': None},\n",
       "    u'wasHelpful': None},\n",
       "   {u'commentCount': 0,\n",
       "    u'flavorRatings': None,\n",
       "    u'helpful': 0,\n",
       "    u'helpfulTotal': 0,\n",
       "    u'likeCount': None,\n",
       "    u'likeStats': None,\n",
       "    u'member': {u'activated': False,\n",
       "     u'emailAddress': None,\n",
       "     u'gender': None,\n",
       "     u'groupId': None,\n",
       "     u'joinDate': None,\n",
       "     u'lastActivity': None,\n",
       "     u'photoCount': 0,\n",
       "     u'profilePicAvatarPath': None,\n",
       "     u'profilePicOriginalPath': None,\n",
       "     u'profilePicPath': u'http://imagecdn.bodybuilding.com/profile-photo/19536015/815d1c14b6b044b297f232a6ecbbc82fp.jpg',\n",
       "     u'profilePicThumbPath': None,\n",
       "     u'profileURL': None,\n",
       "     u'realName': None,\n",
       "     u'slug': u'rodolfo1069',\n",
       "     u'userId': 51063591,\n",
       "     u'username': u'rodolfo1069',\n",
       "     u'vbuserId': 0},\n",
       "    u'overallRating': 9.1,\n",
       "    u'product': {u'brandId': u'BRAND_OPTIMUM',\n",
       "     u'brandName': u'Optimum Nutrition',\n",
       "     u'briefDescription': u'',\n",
       "     u'description': u'Helps Refuel And Replenish Hard-Working Muscles!*',\n",
       "     u'flavorList': [u'Colossal Chocolate'],\n",
       "     u'flavorRatings': {u'overallRating': 9.3,\n",
       "      u'ratings': [{u'flavor': u'Colossal Chocolate',\n",
       "        u'id': u'23880-colossal_chocolate',\n",
       "        u'rating': 9.3,\n",
       "        u'totalRatings': 62}],\n",
       "      u'totalRatings': 1},\n",
       "     u'id': u'23880',\n",
       "     u'imageLarge': u'http://store.bbcomcdn.com/images/store/prodimage/prod_23880/image_23880_original_X_450_white.jpg',\n",
       "     u'imageMedium': u'http://store.bbcomcdn.com/images/store/prodimage/prod_23880/image_23880_original_X_130_white.jpg',\n",
       "     u'imageSmall': u'http://store.bbcomcdn.com/images/store/prodimage/prod_23880/image_23880_original_X_70_white.jpg',\n",
       "     u'name': u'2:1:1 Recovery',\n",
       "     u'overallRating': 9.1,\n",
       "     u'productId': u'23880',\n",
       "     u'reviewUrl': u'http://reviews.bodybuilding.com/Optimum/2_1_1_Recovery/',\n",
       "     u'skuList': None,\n",
       "     u'totalRatings': 135,\n",
       "     u'totalReviews': 132,\n",
       "     u'totalVerifiedBuyers': 32,\n",
       "     u'totalVerifiedReviews': 36,\n",
       "     u'url': u'http://www.bodybuilding.com/store/opt/recovery.html',\n",
       "     u'verified': None,\n",
       "     u'verifiedBuyerRating': 9.4},\n",
       "    u'productReview': {u'_id': u'51a7c7730cf23b2043032cde',\n",
       "     u'brandId': u'BRAND_OPTIMUM',\n",
       "     u'date': 1363848509000,\n",
       "     u'entityId': u'productreview-23880',\n",
       "     u'modDate': 1376086131000,\n",
       "     u'overallRating': None,\n",
       "     u'productId': u'23880',\n",
       "     u'skuList': None,\n",
       "     u'slug': u'rodolfo1069',\n",
       "     u'status': 1,\n",
       "     u'text': u'',\n",
       "     u'title': None,\n",
       "     u'totalRatings': None,\n",
       "     u'updateStatusReason': None,\n",
       "     u'userId': 51063591,\n",
       "     u'username': u'rodolfo1069',\n",
       "     u'verified': True},\n",
       "    u'stats': {u'bodyfat': u'8.0',\n",
       "     u'height': u'68.0',\n",
       "     u'weight': u'205.0',\n",
       "     u'weightChange': None},\n",
       "    u'totalRatings': 135,\n",
       "    u'userRating': {u'overallRating': 10.0,\n",
       "     u'ratings': [{u'flavor': u'Colossal Chocolate',\n",
       "       u'id': u'23880-colossal_chocolate',\n",
       "       u'rating': 10.0,\n",
       "       u'totalRatings': 1}],\n",
       "     u'totalRatings': None},\n",
       "    u'wasHelpful': None},\n",
       "   {u'commentCount': 0,\n",
       "    u'flavorRatings': None,\n",
       "    u'helpful': 0,\n",
       "    u'helpfulTotal': 0,\n",
       "    u'likeCount': None,\n",
       "    u'likeStats': None,\n",
       "    u'member': {u'activated': False,\n",
       "     u'emailAddress': None,\n",
       "     u'gender': None,\n",
       "     u'groupId': None,\n",
       "     u'joinDate': None,\n",
       "     u'lastActivity': None,\n",
       "     u'photoCount': 0,\n",
       "     u'profilePicAvatarPath': None,\n",
       "     u'profilePicOriginalPath': None,\n",
       "     u'profilePicPath': u'http://assets.bodybuilding.com/images/profiledefault_thumb.jpg',\n",
       "     u'profilePicThumbPath': None,\n",
       "     u'profileURL': None,\n",
       "     u'realName': None,\n",
       "     u'slug': u'Tmo23',\n",
       "     u'userId': 58868432,\n",
       "     u'username': u'Tmo23',\n",
       "     u'vbuserId': 0},\n",
       "    u'overallRating': 9.1,\n",
       "    u'product': {u'brandId': u'BRAND_OPTIMUM',\n",
       "     u'brandName': u'Optimum Nutrition',\n",
       "     u'briefDescription': u'',\n",
       "     u'description': u'Helps Refuel And Replenish Hard-Working Muscles!*',\n",
       "     u'flavorList': [u'Colossal Chocolate'],\n",
       "     u'flavorRatings': {u'overallRating': 9.3,\n",
       "      u'ratings': [{u'flavor': u'Colossal Chocolate',\n",
       "        u'id': u'23880-colossal_chocolate',\n",
       "        u'rating': 9.3,\n",
       "        u'totalRatings': 62}],\n",
       "      u'totalRatings': 1},\n",
       "     u'id': u'23880',\n",
       "     u'imageLarge': u'http://store.bbcomcdn.com/images/store/prodimage/prod_23880/image_23880_original_X_450_white.jpg',\n",
       "     u'imageMedium': u'http://store.bbcomcdn.com/images/store/prodimage/prod_23880/image_23880_original_X_130_white.jpg',\n",
       "     u'imageSmall': u'http://store.bbcomcdn.com/images/store/prodimage/prod_23880/image_23880_original_X_70_white.jpg',\n",
       "     u'name': u'2:1:1 Recovery',\n",
       "     u'overallRating': 9.1,\n",
       "     u'productId': u'23880',\n",
       "     u'reviewUrl': u'http://reviews.bodybuilding.com/Optimum/2_1_1_Recovery/',\n",
       "     u'skuList': None,\n",
       "     u'totalRatings': 135,\n",
       "     u'totalReviews': 132,\n",
       "     u'totalVerifiedBuyers': 32,\n",
       "     u'totalVerifiedReviews': 36,\n",
       "     u'url': u'http://www.bodybuilding.com/store/opt/recovery.html',\n",
       "     u'verified': None,\n",
       "     u'verifiedBuyerRating': 9.4},\n",
       "    u'productReview': {u'_id': u'51a7c7720cf23b204302f265',\n",
       "     u'brandId': u'BRAND_OPTIMUM',\n",
       "     u'date': 1362598337000,\n",
       "     u'entityId': u'productreview-23880',\n",
       "     u'modDate': 1376085247000,\n",
       "     u'overallRating': None,\n",
       "     u'productId': u'23880',\n",
       "     u'skuList': None,\n",
       "     u'slug': u'Tmo23',\n",
       "     u'status': 1,\n",
       "     u'text': u'',\n",
       "     u'title': None,\n",
       "     u'totalRatings': None,\n",
       "     u'updateStatusReason': None,\n",
       "     u'userId': 58868432,\n",
       "     u'username': u'Tmo23',\n",
       "     u'verified': True},\n",
       "    u'stats': {u'bodyfat': u'8.0',\n",
       "     u'height': u'71.0',\n",
       "     u'weight': u'215.0',\n",
       "     u'weightChange': None},\n",
       "    u'totalRatings': 135,\n",
       "    u'userRating': {u'overallRating': 8.0,\n",
       "     u'ratings': [],\n",
       "     u'totalRatings': None},\n",
       "    u'wasHelpful': None},\n",
       "   {u'commentCount': 0,\n",
       "    u'flavorRatings': None,\n",
       "    u'helpful': 0,\n",
       "    u'helpfulTotal': 0,\n",
       "    u'likeCount': None,\n",
       "    u'likeStats': None,\n",
       "    u'member': {u'activated': False,\n",
       "     u'emailAddress': None,\n",
       "     u'gender': None,\n",
       "     u'groupId': None,\n",
       "     u'joinDate': None,\n",
       "     u'lastActivity': None,\n",
       "     u'photoCount': 0,\n",
       "     u'profilePicAvatarPath': None,\n",
       "     u'profilePicOriginalPath': None,\n",
       "     u'profilePicPath': u'http://assets.bodybuilding.com/images/profiledefault_thumb.jpg',\n",
       "     u'profilePicThumbPath': None,\n",
       "     u'profileURL': None,\n",
       "     u'realName': None,\n",
       "     u'slug': u'japacker',\n",
       "     u'userId': 13791472,\n",
       "     u'username': u'j.a.packer',\n",
       "     u'vbuserId': 0},\n",
       "    u'overallRating': 9.1,\n",
       "    u'product': {u'brandId': u'BRAND_OPTIMUM',\n",
       "     u'brandName': u'Optimum Nutrition',\n",
       "     u'briefDescription': u'',\n",
       "     u'description': u'Helps Refuel And Replenish Hard-Working Muscles!*',\n",
       "     u'flavorList': [u'Colossal Chocolate'],\n",
       "     u'flavorRatings': {u'overallRating': 9.3,\n",
       "      u'ratings': [{u'flavor': u'Colossal Chocolate',\n",
       "        u'id': u'23880-colossal_chocolate',\n",
       "        u'rating': 9.3,\n",
       "        u'totalRatings': 62}],\n",
       "      u'totalRatings': 1},\n",
       "     u'id': u'23880',\n",
       "     u'imageLarge': u'http://store.bbcomcdn.com/images/store/prodimage/prod_23880/image_23880_original_X_450_white.jpg',\n",
       "     u'imageMedium': u'http://store.bbcomcdn.com/images/store/prodimage/prod_23880/image_23880_original_X_130_white.jpg',\n",
       "     u'imageSmall': u'http://store.bbcomcdn.com/images/store/prodimage/prod_23880/image_23880_original_X_70_white.jpg',\n",
       "     u'name': u'2:1:1 Recovery',\n",
       "     u'overallRating': 9.1,\n",
       "     u'productId': u'23880',\n",
       "     u'reviewUrl': u'http://reviews.bodybuilding.com/Optimum/2_1_1_Recovery/',\n",
       "     u'skuList': None,\n",
       "     u'totalRatings': 135,\n",
       "     u'totalReviews': 132,\n",
       "     u'totalVerifiedBuyers': 32,\n",
       "     u'totalVerifiedReviews': 36,\n",
       "     u'url': u'http://www.bodybuilding.com/store/opt/recovery.html',\n",
       "     u'verified': None,\n",
       "     u'verifiedBuyerRating': 9.4},\n",
       "    u'productReview': {u'_id': u'51a7c7710cf23b204302a616',\n",
       "     u'brandId': u'BRAND_OPTIMUM',\n",
       "     u'date': 1352950451000,\n",
       "     u'entityId': u'productreview-23880',\n",
       "     u'modDate': 1376084062000,\n",
       "     u'overallRating': None,\n",
       "     u'productId': u'23880',\n",
       "     u'skuList': None,\n",
       "     u'slug': u'japacker',\n",
       "     u'status': 1,\n",
       "     u'text': u'',\n",
       "     u'title': None,\n",
       "     u'totalRatings': None,\n",
       "     u'updateStatusReason': None,\n",
       "     u'userId': 13791472,\n",
       "     u'username': u'j.a.packer',\n",
       "     u'verified': True},\n",
       "    u'stats': {u'bodyfat': u'10.0',\n",
       "     u'height': None,\n",
       "     u'weight': u'173.0',\n",
       "     u'weightChange': None},\n",
       "    u'totalRatings': 135,\n",
       "    u'userRating': {u'overallRating': 9.0,\n",
       "     u'ratings': [],\n",
       "     u'totalRatings': None},\n",
       "    u'wasHelpful': None},\n",
       "   {u'commentCount': 0,\n",
       "    u'flavorRatings': None,\n",
       "    u'helpful': 0,\n",
       "    u'helpfulTotal': 0,\n",
       "    u'likeCount': None,\n",
       "    u'likeStats': None,\n",
       "    u'member': {u'activated': False,\n",
       "     u'emailAddress': None,\n",
       "     u'gender': None,\n",
       "     u'groupId': None,\n",
       "     u'joinDate': None,\n",
       "     u'lastActivity': None,\n",
       "     u'photoCount': 0,\n",
       "     u'profilePicAvatarPath': None,\n",
       "     u'profilePicOriginalPath': None,\n",
       "     u'profilePicPath': u'http://imagecdn.bodybuilding.com/profile-photo/21786953/18402c81451944e5a1898fce9d388441p.jpg',\n",
       "     u'profilePicThumbPath': None,\n",
       "     u'profileURL': None,\n",
       "     u'realName': None,\n",
       "     u'slug': u'jeffjackson',\n",
       "     u'userId': 35968712,\n",
       "     u'username': u'jeffjackson',\n",
       "     u'vbuserId': 0},\n",
       "    u'overallRating': 9.1,\n",
       "    u'product': {u'brandId': u'BRAND_OPTIMUM',\n",
       "     u'brandName': u'Optimum Nutrition',\n",
       "     u'briefDescription': u'',\n",
       "     u'description': u'Helps Refuel And Replenish Hard-Working Muscles!*',\n",
       "     u'flavorList': [u'Colossal Chocolate'],\n",
       "     u'flavorRatings': {u'overallRating': 9.3,\n",
       "      u'ratings': [{u'flavor': u'Colossal Chocolate',\n",
       "        u'id': u'23880-colossal_chocolate',\n",
       "        u'rating': 9.3,\n",
       "        u'totalRatings': 62}],\n",
       "      u'totalRatings': 1},\n",
       "     u'id': u'23880',\n",
       "     u'imageLarge': u'http://store.bbcomcdn.com/images/store/prodimage/prod_23880/image_23880_original_X_450_white.jpg',\n",
       "     u'imageMedium': u'http://store.bbcomcdn.com/images/store/prodimage/prod_23880/image_23880_original_X_130_white.jpg',\n",
       "     u'imageSmall': u'http://store.bbcomcdn.com/images/store/prodimage/prod_23880/image_23880_original_X_70_white.jpg',\n",
       "     u'name': u'2:1:1 Recovery',\n",
       "     u'overallRating': 9.1,\n",
       "     u'productId': u'23880',\n",
       "     u'reviewUrl': u'http://reviews.bodybuilding.com/Optimum/2_1_1_Recovery/',\n",
       "     u'skuList': None,\n",
       "     u'totalRatings': 135,\n",
       "     u'totalReviews': 132,\n",
       "     u'totalVerifiedBuyers': 32,\n",
       "     u'totalVerifiedReviews': 36,\n",
       "     u'url': u'http://www.bodybuilding.com/store/opt/recovery.html',\n",
       "     u'verified': None,\n",
       "     u'verifiedBuyerRating': 9.4},\n",
       "    u'productReview': {u'_id': u'51a7c7710cf23b204302a407',\n",
       "     u'brandId': u'BRAND_OPTIMUM',\n",
       "     u'date': 1352799454000,\n",
       "     u'entityId': u'productreview-23880',\n",
       "     u'modDate': 1376084034000,\n",
       "     u'overallRating': None,\n",
       "     u'productId': u'23880',\n",
       "     u'skuList': None,\n",
       "     u'slug': u'jeffjackson',\n",
       "     u'status': 1,\n",
       "     u'text': u'Awesome for post workout! \\r\\nI use it with just water from the drinking fountain after my workout. Mixes well and taste great for a protein powder. \\r\\n\\r\\nAwesome product!! ',\n",
       "     u'title': None,\n",
       "     u'totalRatings': None,\n",
       "     u'updateStatusReason': None,\n",
       "     u'userId': 35968712,\n",
       "     u'username': u'jeffjackson',\n",
       "     u'verified': True},\n",
       "    u'stats': {u'bodyfat': u'11.0',\n",
       "     u'height': u'74.0',\n",
       "     u'weight': u'201.0',\n",
       "     u'weightChange': None},\n",
       "    u'totalRatings': 135,\n",
       "    u'userRating': {u'overallRating': 10.0,\n",
       "     u'ratings': [],\n",
       "     u'totalRatings': None},\n",
       "    u'wasHelpful': None},\n",
       "   {u'commentCount': 0,\n",
       "    u'flavorRatings': None,\n",
       "    u'helpful': 0,\n",
       "    u'helpfulTotal': 0,\n",
       "    u'likeCount': None,\n",
       "    u'likeStats': None,\n",
       "    u'member': {u'activated': False,\n",
       "     u'emailAddress': None,\n",
       "     u'gender': None,\n",
       "     u'groupId': None,\n",
       "     u'joinDate': None,\n",
       "     u'lastActivity': None,\n",
       "     u'photoCount': 0,\n",
       "     u'profilePicAvatarPath': None,\n",
       "     u'profilePicOriginalPath': None,\n",
       "     u'profilePicPath': u'http://imagecdn.bodybuilding.com/profile-photo/27753811/1a75eb589eab40fca4d331a9a5dfdbc8p.jpg',\n",
       "     u'profilePicThumbPath': None,\n",
       "     u'profileURL': None,\n",
       "     u'realName': None,\n",
       "     u'slug': u'LimaX',\n",
       "     u'userId': 11835772,\n",
       "     u'username': u'LimaX',\n",
       "     u'vbuserId': 0},\n",
       "    u'overallRating': 9.1,\n",
       "    u'product': {u'brandId': u'BRAND_OPTIMUM',\n",
       "     u'brandName': u'Optimum Nutrition',\n",
       "     u'briefDescription': u'',\n",
       "     u'description': u'Helps Refuel And Replenish Hard-Working Muscles!*',\n",
       "     u'flavorList': [u'Colossal Chocolate'],\n",
       "     u'flavorRatings': {u'overallRating': 9.3,\n",
       "      u'ratings': [{u'flavor': u'Colossal Chocolate',\n",
       "        u'id': u'23880-colossal_chocolate',\n",
       "        u'rating': 9.3,\n",
       "        u'totalRatings': 62}],\n",
       "      u'totalRatings': 1},\n",
       "     u'id': u'23880',\n",
       "     u'imageLarge': u'http://store.bbcomcdn.com/images/store/prodimage/prod_23880/image_23880_original_X_450_white.jpg',\n",
       "     u'imageMedium': u'http://store.bbcomcdn.com/images/store/prodimage/prod_23880/image_23880_original_X_130_white.jpg',\n",
       "     u'imageSmall': u'http://store.bbcomcdn.com/images/store/prodimage/prod_23880/image_23880_original_X_70_white.jpg',\n",
       "     u'name': u'2:1:1 Recovery',\n",
       "     u'overallRating': 9.1,\n",
       "     u'productId': u'23880',\n",
       "     u'reviewUrl': u'http://reviews.bodybuilding.com/Optimum/2_1_1_Recovery/',\n",
       "     u'skuList': None,\n",
       "     u'totalRatings': 135,\n",
       "     u'totalReviews': 132,\n",
       "     u'totalVerifiedBuyers': 32,\n",
       "     u'totalVerifiedReviews': 36,\n",
       "     u'url': u'http://www.bodybuilding.com/store/opt/recovery.html',\n",
       "     u'verified': None,\n",
       "     u'verifiedBuyerRating': 9.4},\n",
       "    u'productReview': {u'_id': u'51a7c7730cf23b2043035db9',\n",
       "     u'brandId': u'BRAND_OPTIMUM',\n",
       "     u'date': 1350083538000,\n",
       "     u'entityId': u'productreview-23880',\n",
       "     u'modDate': 1376086882000,\n",
       "     u'overallRating': None,\n",
       "     u'productId': u'23880',\n",
       "     u'skuList': None,\n",
       "     u'slug': u'LimaX',\n",
       "     u'status': 1,\n",
       "     u'text': u'',\n",
       "     u'title': None,\n",
       "     u'totalRatings': None,\n",
       "     u'updateStatusReason': None,\n",
       "     u'userId': 11835772,\n",
       "     u'username': u'LimaX',\n",
       "     u'verified': True},\n",
       "    u'stats': {u'bodyfat': u'10.0',\n",
       "     u'height': u'71.0',\n",
       "     u'weight': u'172.0',\n",
       "     u'weightChange': None},\n",
       "    u'totalRatings': 135,\n",
       "    u'userRating': {u'overallRating': 10.0,\n",
       "     u'ratings': [],\n",
       "     u'totalRatings': None},\n",
       "    u'wasHelpful': None},\n",
       "   {u'commentCount': 0,\n",
       "    u'flavorRatings': None,\n",
       "    u'helpful': 0,\n",
       "    u'helpfulTotal': 0,\n",
       "    u'likeCount': None,\n",
       "    u'likeStats': None,\n",
       "    u'member': {u'activated': False,\n",
       "     u'emailAddress': None,\n",
       "     u'gender': None,\n",
       "     u'groupId': None,\n",
       "     u'joinDate': None,\n",
       "     u'lastActivity': None,\n",
       "     u'photoCount': 0,\n",
       "     u'profilePicAvatarPath': None,\n",
       "     u'profilePicOriginalPath': None,\n",
       "     u'profilePicPath': u'http://imagecdn.bodybuilding.com/profile-photo/24541514/55fdc93e62994528b5a95c13467cae8bp.jpg',\n",
       "     u'profilePicThumbPath': None,\n",
       "     u'profileURL': None,\n",
       "     u'realName': None,\n",
       "     u'slug': u'noahbehbudi',\n",
       "     u'userId': 41514542,\n",
       "     u'username': u'noahbehbudi',\n",
       "     u'vbuserId': 0},\n",
       "    u'overallRating': 9.1,\n",
       "    u'product': {u'brandId': u'BRAND_OPTIMUM',\n",
       "     u'brandName': u'Optimum Nutrition',\n",
       "     u'briefDescription': u'',\n",
       "     u'description': u'Helps Refuel And Replenish Hard-Working Muscles!*',\n",
       "     u'flavorList': [u'Colossal Chocolate'],\n",
       "     u'flavorRatings': {u'overallRating': 9.3,\n",
       "      u'ratings': [{u'flavor': u'Colossal Chocolate',\n",
       "        u'id': u'23880-colossal_chocolate',\n",
       "        u'rating': 9.3,\n",
       "        u'totalRatings': 62}],\n",
       "      u'totalRatings': 1},\n",
       "     u'id': u'23880',\n",
       "     u'imageLarge': u'http://store.bbcomcdn.com/images/store/prodimage/prod_23880/image_23880_original_X_450_white.jpg',\n",
       "     u'imageMedium': u'http://store.bbcomcdn.com/images/store/prodimage/prod_23880/image_23880_original_X_130_white.jpg',\n",
       "     u'imageSmall': u'http://store.bbcomcdn.com/images/store/prodimage/prod_23880/image_23880_original_X_70_white.jpg',\n",
       "     u'name': u'2:1:1 Recovery',\n",
       "     u'overallRating': 9.1,\n",
       "     u'productId': u'23880',\n",
       "     u'reviewUrl': u'http://reviews.bodybuilding.com/Optimum/2_1_1_Recovery/',\n",
       "     u'skuList': None,\n",
       "     u'totalRatings': 135,\n",
       "     u'totalReviews': 132,\n",
       "     u'totalVerifiedBuyers': 32,\n",
       "     u'totalVerifiedReviews': 36,\n",
       "     u'url': u'http://www.bodybuilding.com/store/opt/recovery.html',\n",
       "     u'verified': None,\n",
       "     u'verifiedBuyerRating': 9.4},\n",
       "    u'productReview': {u'_id': u'51a7c7730cf23b2043036da8',\n",
       "     u'brandId': u'BRAND_OPTIMUM',\n",
       "     u'date': 1349574149000,\n",
       "     u'entityId': u'productreview-23880',\n",
       "     u'modDate': 1376087139000,\n",
       "     u'overallRating': None,\n",
       "     u'productId': u'23880',\n",
       "     u'skuList': None,\n",
       "     u'slug': u'noahbehbudi',\n",
       "     u'status': 1,\n",
       "     u'text': u'This is a great product i would seriously recommend this',\n",
       "     u'title': None,\n",
       "     u'totalRatings': None,\n",
       "     u'updateStatusReason': None,\n",
       "     u'userId': 41514542,\n",
       "     u'username': u'noahbehbudi',\n",
       "     u'verified': True},\n",
       "    u'stats': None,\n",
       "    u'totalRatings': 135,\n",
       "    u'userRating': {u'overallRating': 10.0,\n",
       "     u'ratings': [{u'flavor': u'Colossal Chocolate',\n",
       "       u'id': u'23880-colossal_chocolate',\n",
       "       u'rating': 10.0,\n",
       "       u'totalRatings': 1}],\n",
       "     u'totalRatings': None},\n",
       "    u'wasHelpful': None},\n",
       "   {u'commentCount': 0,\n",
       "    u'flavorRatings': None,\n",
       "    u'helpful': 0,\n",
       "    u'helpfulTotal': 0,\n",
       "    u'likeCount': None,\n",
       "    u'likeStats': None,\n",
       "    u'member': {u'activated': False,\n",
       "     u'emailAddress': None,\n",
       "     u'gender': None,\n",
       "     u'groupId': None,\n",
       "     u'joinDate': None,\n",
       "     u'lastActivity': None,\n",
       "     u'photoCount': 0,\n",
       "     u'profilePicAvatarPath': None,\n",
       "     u'profilePicOriginalPath': None,\n",
       "     u'profilePicPath': u'http://assets.bodybuilding.com/images/profiledefault_thumb.jpg',\n",
       "     u'profilePicThumbPath': None,\n",
       "     u'profileURL': None,\n",
       "     u'realName': None,\n",
       "     u'slug': u'ndalcortivo',\n",
       "     u'userId': 48670762,\n",
       "     u'username': u'ndalcortivo',\n",
       "     u'vbuserId': 0},\n",
       "    u'overallRating': 9.1,\n",
       "    u'product': {u'brandId': u'BRAND_OPTIMUM',\n",
       "     u'brandName': u'Optimum Nutrition',\n",
       "     u'briefDescription': u'',\n",
       "     u'description': u'Helps Refuel And Replenish Hard-Working Muscles!*',\n",
       "     u'flavorList': [u'Colossal Chocolate'],\n",
       "     u'flavorRatings': {u'overallRating': 9.3,\n",
       "      u'ratings': [{u'flavor': u'Colossal Chocolate',\n",
       "        u'id': u'23880-colossal_chocolate',\n",
       "        u'rating': 9.3,\n",
       "        u'totalRatings': 62}],\n",
       "      u'totalRatings': 1},\n",
       "     u'id': u'23880',\n",
       "     u'imageLarge': u'http://store.bbcomcdn.com/images/store/prodimage/prod_23880/image_23880_original_X_450_white.jpg',\n",
       "     u'imageMedium': u'http://store.bbcomcdn.com/images/store/prodimage/prod_23880/image_23880_original_X_130_white.jpg',\n",
       "     u'imageSmall': u'http://store.bbcomcdn.com/images/store/prodimage/prod_23880/image_23880_original_X_70_white.jpg',\n",
       "     u'name': u'2:1:1 Recovery',\n",
       "     u'overallRating': 9.1,\n",
       "     u'productId': u'23880',\n",
       "     u'reviewUrl': u'http://reviews.bodybuilding.com/Optimum/2_1_1_Recovery/',\n",
       "     u'skuList': None,\n",
       "     u'totalRatings': 135,\n",
       "     u'totalReviews': 132,\n",
       "     u'totalVerifiedBuyers': 32,\n",
       "     u'totalVerifiedReviews': 36,\n",
       "     u'url': u'http://www.bodybuilding.com/store/opt/recovery.html',\n",
       "     u'verified': None,\n",
       "     u'verifiedBuyerRating': 9.4},\n",
       "    u'productReview': {u'_id': u'51a7c7730cf23b2043033bb6',\n",
       "     u'brandId': u'BRAND_OPTIMUM',\n",
       "     u'date': 1348324148000,\n",
       "     u'entityId': u'productreview-23880',\n",
       "     u'modDate': 1376086335000,\n",
       "     u'overallRating': None,\n",
       "     u'productId': u'23880',\n",
       "     u'skuList': None,\n",
       "     u'slug': u'ndalcortivo',\n",
       "     u'status': 1,\n",
       "     u'text': u'easily the best supplement I have ever purchased',\n",
       "     u'title': None,\n",
       "     u'totalRatings': None,\n",
       "     u'updateStatusReason': None,\n",
       "     u'userId': 48670762,\n",
       "     u'username': u'ndalcortivo',\n",
       "     u'verified': True},\n",
       "    u'stats': {u'bodyfat': u'9.0',\n",
       "     u'height': u'70.0',\n",
       "     u'weight': u'165.0',\n",
       "     u'weightChange': None},\n",
       "    u'totalRatings': 135,\n",
       "    u'userRating': {u'overallRating': 10.0,\n",
       "     u'ratings': [{u'flavor': u'Colossal Chocolate',\n",
       "       u'id': u'23880-colossal_chocolate',\n",
       "       u'rating': 10.0,\n",
       "       u'totalRatings': 1}],\n",
       "     u'totalRatings': None},\n",
       "    u'wasHelpful': None}]],\n",
       " 'Total items',\n",
       " 35,\n",
       " 'Len of prodReviews:',\n",
       " 10,\n",
       " [{u'commentCount': 0,\n",
       "   u'flavorRatings': None,\n",
       "   u'helpful': 0,\n",
       "   u'helpfulTotal': 0,\n",
       "   u'likeCount': None,\n",
       "   u'likeStats': None,\n",
       "   u'member': {u'activated': False,\n",
       "    u'emailAddress': None,\n",
       "    u'gender': None,\n",
       "    u'groupId': None,\n",
       "    u'joinDate': None,\n",
       "    u'lastActivity': None,\n",
       "    u'photoCount': 0,\n",
       "    u'profilePicAvatarPath': None,\n",
       "    u'profilePicOriginalPath': None,\n",
       "    u'profilePicPath': u'http://assets.bodybuilding.com/images/profiledefault_thumb.jpg',\n",
       "    u'profilePicThumbPath': None,\n",
       "    u'profileURL': None,\n",
       "    u'realName': None,\n",
       "    u'slug': u'jrgill525',\n",
       "    u'userId': 67939522,\n",
       "    u'username': u'jrgill525',\n",
       "    u'vbuserId': 0},\n",
       "   u'overallRating': 9.1,\n",
       "   u'product': {u'brandId': u'BRAND_OPTIMUM',\n",
       "    u'brandName': u'Optimum Nutrition',\n",
       "    u'briefDescription': u'',\n",
       "    u'description': u'Helps Refuel And Replenish Hard-Working Muscles!*',\n",
       "    u'flavorList': [u'Colossal Chocolate'],\n",
       "    u'flavorRatings': {u'overallRating': 9.3,\n",
       "     u'ratings': [{u'flavor': u'Colossal Chocolate',\n",
       "       u'id': u'23880-colossal_chocolate',\n",
       "       u'rating': 9.3,\n",
       "       u'totalRatings': 62}],\n",
       "     u'totalRatings': 1},\n",
       "    u'id': u'23880',\n",
       "    u'imageLarge': u'http://store.bbcomcdn.com/images/store/prodimage/prod_23880/image_23880_original_X_450_white.jpg',\n",
       "    u'imageMedium': u'http://store.bbcomcdn.com/images/store/prodimage/prod_23880/image_23880_original_X_130_white.jpg',\n",
       "    u'imageSmall': u'http://store.bbcomcdn.com/images/store/prodimage/prod_23880/image_23880_original_X_70_white.jpg',\n",
       "    u'name': u'2:1:1 Recovery',\n",
       "    u'overallRating': 9.1,\n",
       "    u'productId': u'23880',\n",
       "    u'reviewUrl': u'http://reviews.bodybuilding.com/Optimum/2_1_1_Recovery/',\n",
       "    u'skuList': None,\n",
       "    u'totalRatings': 135,\n",
       "    u'totalReviews': 132,\n",
       "    u'totalVerifiedBuyers': 32,\n",
       "    u'totalVerifiedReviews': 36,\n",
       "    u'url': u'http://www.bodybuilding.com/store/opt/recovery.html',\n",
       "    u'verified': None,\n",
       "    u'verifiedBuyerRating': 9.4},\n",
       "   u'productReview': {u'_id': u'52288bfb0cf243fccd2166ec',\n",
       "    u'brandId': u'BRAND_OPTIMUM',\n",
       "    u'date': 1378388987000,\n",
       "    u'entityId': u'productreview-23880',\n",
       "    u'modDate': 1378388987000,\n",
       "    u'overallRating': None,\n",
       "    u'productId': u'23880',\n",
       "    u'skuList': None,\n",
       "    u'slug': u'jrgill525',\n",
       "    u'status': 1,\n",
       "    u'text': u'Best product I have found. Great after a long bike ride or hard gym workout. Mango flavor taste good and is easy to down. My only Iagree is it tends to clump.',\n",
       "    u'title': u'',\n",
       "    u'totalRatings': None,\n",
       "    u'updateStatusReason': None,\n",
       "    u'userId': 67939522,\n",
       "    u'username': u'jrgill525',\n",
       "    u'verified': True},\n",
       "   u'stats': None,\n",
       "   u'totalRatings': 135,\n",
       "   u'userRating': {u'overallRating': 9.0,\n",
       "    u'ratings': [],\n",
       "    u'totalRatings': None},\n",
       "   u'wasHelpful': None},\n",
       "  {u'commentCount': 0,\n",
       "   u'flavorRatings': None,\n",
       "   u'helpful': 0,\n",
       "   u'helpfulTotal': 0,\n",
       "   u'likeCount': None,\n",
       "   u'likeStats': None,\n",
       "   u'member': {u'activated': False,\n",
       "    u'emailAddress': None,\n",
       "    u'gender': None,\n",
       "    u'groupId': None,\n",
       "    u'joinDate': None,\n",
       "    u'lastActivity': None,\n",
       "    u'photoCount': 0,\n",
       "    u'profilePicAvatarPath': None,\n",
       "    u'profilePicOriginalPath': None,\n",
       "    u'profilePicPath': u'http://imagecdn.bodybuilding.com/profile-photo/15744017/930eb18faf1c42a5837ad05216307365p.jpg',\n",
       "    u'profilePicThumbPath': None,\n",
       "    u'profileURL': None,\n",
       "    u'realName': None,\n",
       "    u'slug': u'lopezjg',\n",
       "    u'userId': 71044751,\n",
       "    u'username': u'lopezjg',\n",
       "    u'vbuserId': 0},\n",
       "   u'overallRating': 9.1,\n",
       "   u'product': {u'brandId': u'BRAND_OPTIMUM',\n",
       "    u'brandName': u'Optimum Nutrition',\n",
       "    u'briefDescription': u'',\n",
       "    u'description': u'Helps Refuel And Replenish Hard-Working Muscles!*',\n",
       "    u'flavorList': [u'Colossal Chocolate'],\n",
       "    u'flavorRatings': {u'overallRating': 9.3,\n",
       "     u'ratings': [{u'flavor': u'Colossal Chocolate',\n",
       "       u'id': u'23880-colossal_chocolate',\n",
       "       u'rating': 9.3,\n",
       "       u'totalRatings': 62}],\n",
       "     u'totalRatings': 1},\n",
       "    u'id': u'23880',\n",
       "    u'imageLarge': u'http://store.bbcomcdn.com/images/store/prodimage/prod_23880/image_23880_original_X_450_white.jpg',\n",
       "    u'imageMedium': u'http://store.bbcomcdn.com/images/store/prodimage/prod_23880/image_23880_original_X_130_white.jpg',\n",
       "    u'imageSmall': u'http://store.bbcomcdn.com/images/store/prodimage/prod_23880/image_23880_original_X_70_white.jpg',\n",
       "    u'name': u'2:1:1 Recovery',\n",
       "    u'overallRating': 9.1,\n",
       "    u'productId': u'23880',\n",
       "    u'reviewUrl': u'http://reviews.bodybuilding.com/Optimum/2_1_1_Recovery/',\n",
       "    u'skuList': None,\n",
       "    u'totalRatings': 135,\n",
       "    u'totalReviews': 132,\n",
       "    u'totalVerifiedBuyers': 32,\n",
       "    u'totalVerifiedReviews': 36,\n",
       "    u'url': u'http://www.bodybuilding.com/store/opt/recovery.html',\n",
       "    u'verified': None,\n",
       "    u'verifiedBuyerRating': 9.4},\n",
       "   u'productReview': {u'_id': u'52193b160cf2452c88d42ff6',\n",
       "    u'brandId': u'BRAND_OPTIMUM',\n",
       "    u'date': 1377385238000,\n",
       "    u'entityId': u'productreview-23880',\n",
       "    u'modDate': 1377385238000,\n",
       "    u'overallRating': None,\n",
       "    u'productId': u'23880',\n",
       "    u'skuList': None,\n",
       "    u'slug': u'lopezjg',\n",
       "    u'status': 1,\n",
       "    u'text': u\"I've used this product for quite some time.  Oddly enough, there aren't that many products that combine carbs and protein in a recovery drink, which this does nicely.  The Mucho Mango flavor is nice and light to chug down following a workout; however, you really need to shake it to avoid clumping, and even then it has a tendency to be a bit chalky... hence the 2pt deduction.  Nevertheless, great product, and a staple in my supp regimen.  \",\n",
       "    u'title': u'',\n",
       "    u'totalRatings': None,\n",
       "    u'updateStatusReason': None,\n",
       "    u'userId': 71044751,\n",
       "    u'username': u'lopezjg',\n",
       "    u'verified': True},\n",
       "   u'stats': {u'bodyfat': u'20.0',\n",
       "    u'height': u'70.0',\n",
       "    u'weight': u'177.0',\n",
       "    u'weightChange': None},\n",
       "   u'totalRatings': 135,\n",
       "   u'userRating': {u'overallRating': 8.0,\n",
       "    u'ratings': [],\n",
       "    u'totalRatings': None},\n",
       "   u'wasHelpful': None},\n",
       "  {u'commentCount': 0,\n",
       "   u'flavorRatings': None,\n",
       "   u'helpful': 0,\n",
       "   u'helpfulTotal': 0,\n",
       "   u'likeCount': None,\n",
       "   u'likeStats': None,\n",
       "   u'member': {u'activated': False,\n",
       "    u'emailAddress': None,\n",
       "    u'gender': None,\n",
       "    u'groupId': None,\n",
       "    u'joinDate': None,\n",
       "    u'lastActivity': None,\n",
       "    u'photoCount': 0,\n",
       "    u'profilePicAvatarPath': None,\n",
       "    u'profilePicOriginalPath': None,\n",
       "    u'profilePicPath': u'http://assets.bodybuilding.com/images/profiledefault_thumb.jpg',\n",
       "    u'profilePicThumbPath': None,\n",
       "    u'profileURL': None,\n",
       "    u'realName': None,\n",
       "    u'slug': u'bkunkelman',\n",
       "    u'userId': 69501242,\n",
       "    u'username': u'bkunkelman',\n",
       "    u'vbuserId': 0},\n",
       "   u'overallRating': 9.1,\n",
       "   u'product': {u'brandId': u'BRAND_OPTIMUM',\n",
       "    u'brandName': u'Optimum Nutrition',\n",
       "    u'briefDescription': u'',\n",
       "    u'description': u'Helps Refuel And Replenish Hard-Working Muscles!*',\n",
       "    u'flavorList': [u'Colossal Chocolate'],\n",
       "    u'flavorRatings': {u'overallRating': 9.3,\n",
       "     u'ratings': [{u'flavor': u'Colossal Chocolate',\n",
       "       u'id': u'23880-colossal_chocolate',\n",
       "       u'rating': 9.3,\n",
       "       u'totalRatings': 62}],\n",
       "     u'totalRatings': 1},\n",
       "    u'id': u'23880',\n",
       "    u'imageLarge': u'http://store.bbcomcdn.com/images/store/prodimage/prod_23880/image_23880_original_X_450_white.jpg',\n",
       "    u'imageMedium': u'http://store.bbcomcdn.com/images/store/prodimage/prod_23880/image_23880_original_X_130_white.jpg',\n",
       "    u'imageSmall': u'http://store.bbcomcdn.com/images/store/prodimage/prod_23880/image_23880_original_X_70_white.jpg',\n",
       "    u'name': u'2:1:1 Recovery',\n",
       "    u'overallRating': 9.1,\n",
       "    u'productId': u'23880',\n",
       "    u'reviewUrl': u'http://reviews.bodybuilding.com/Optimum/2_1_1_Recovery/',\n",
       "    u'skuList': None,\n",
       "    u'totalRatings': 135,\n",
       "    u'totalReviews': 132,\n",
       "    u'totalVerifiedBuyers': 32,\n",
       "    u'totalVerifiedReviews': 36,\n",
       "    u'url': u'http://www.bodybuilding.com/store/opt/recovery.html',\n",
       "    u'verified': None,\n",
       "    u'verifiedBuyerRating': 9.4},\n",
       "   u'productReview': {u'_id': u'51eaa93b0cf2ee4143247ee7',\n",
       "    u'brandId': u'BRAND_OPTIMUM',\n",
       "    u'date': 1374333243000,\n",
       "    u'entityId': u'productreview-23880',\n",
       "    u'modDate': 1374333243000,\n",
       "    u'overallRating': None,\n",
       "    u'productId': u'23880',\n",
       "    u'skuList': None,\n",
       "    u'slug': u'bkunkelman',\n",
       "    u'status': 1,\n",
       "    u'text': u'',\n",
       "    u'title': u'',\n",
       "    u'totalRatings': None,\n",
       "    u'updateStatusReason': None,\n",
       "    u'userId': 69501242,\n",
       "    u'username': u'bkunkelman',\n",
       "    u'verified': True},\n",
       "   u'stats': None,\n",
       "   u'totalRatings': 135,\n",
       "   u'userRating': {u'overallRating': 10.0,\n",
       "    u'ratings': [],\n",
       "    u'totalRatings': None},\n",
       "   u'wasHelpful': None},\n",
       "  {u'commentCount': 0,\n",
       "   u'flavorRatings': None,\n",
       "   u'helpful': 0,\n",
       "   u'helpfulTotal': 0,\n",
       "   u'likeCount': None,\n",
       "   u'likeStats': None,\n",
       "   u'member': {u'activated': False,\n",
       "    u'emailAddress': None,\n",
       "    u'gender': None,\n",
       "    u'groupId': None,\n",
       "    u'joinDate': None,\n",
       "    u'lastActivity': None,\n",
       "    u'photoCount': 0,\n",
       "    u'profilePicAvatarPath': None,\n",
       "    u'profilePicOriginalPath': None,\n",
       "    u'profilePicPath': u'http://imagecdn.bodybuilding.com/profile-photo/19536015/815d1c14b6b044b297f232a6ecbbc82fp.jpg',\n",
       "    u'profilePicThumbPath': None,\n",
       "    u'profileURL': None,\n",
       "    u'realName': None,\n",
       "    u'slug': u'rodolfo1069',\n",
       "    u'userId': 51063591,\n",
       "    u'username': u'rodolfo1069',\n",
       "    u'vbuserId': 0},\n",
       "   u'overallRating': 9.1,\n",
       "   u'product': {u'brandId': u'BRAND_OPTIMUM',\n",
       "    u'brandName': u'Optimum Nutrition',\n",
       "    u'briefDescription': u'',\n",
       "    u'description': u'Helps Refuel And Replenish Hard-Working Muscles!*',\n",
       "    u'flavorList': [u'Colossal Chocolate'],\n",
       "    u'flavorRatings': {u'overallRating': 9.3,\n",
       "     u'ratings': [{u'flavor': u'Colossal Chocolate',\n",
       "       u'id': u'23880-colossal_chocolate',\n",
       "       u'rating': 9.3,\n",
       "       u'totalRatings': 62}],\n",
       "     u'totalRatings': 1},\n",
       "    u'id': u'23880',\n",
       "    u'imageLarge': u'http://store.bbcomcdn.com/images/store/prodimage/prod_23880/image_23880_original_X_450_white.jpg',\n",
       "    u'imageMedium': u'http://store.bbcomcdn.com/images/store/prodimage/prod_23880/image_23880_original_X_130_white.jpg',\n",
       "    u'imageSmall': u'http://store.bbcomcdn.com/images/store/prodimage/prod_23880/image_23880_original_X_70_white.jpg',\n",
       "    u'name': u'2:1:1 Recovery',\n",
       "    u'overallRating': 9.1,\n",
       "    u'productId': u'23880',\n",
       "    u'reviewUrl': u'http://reviews.bodybuilding.com/Optimum/2_1_1_Recovery/',\n",
       "    u'skuList': None,\n",
       "    u'totalRatings': 135,\n",
       "    u'totalReviews': 132,\n",
       "    u'totalVerifiedBuyers': 32,\n",
       "    u'totalVerifiedReviews': 36,\n",
       "    u'url': u'http://www.bodybuilding.com/store/opt/recovery.html',\n",
       "    u'verified': None,\n",
       "    u'verifiedBuyerRating': 9.4},\n",
       "   u'productReview': {u'_id': u'51a7c7730cf23b2043032cde',\n",
       "    u'brandId': u'BRAND_OPTIMUM',\n",
       "    u'date': 1363848509000,\n",
       "    u'entityId': u'productreview-23880',\n",
       "    u'modDate': 1376086131000,\n",
       "    u'overallRating': None,\n",
       "    u'productId': u'23880',\n",
       "    u'skuList': None,\n",
       "    u'slug': u'rodolfo1069',\n",
       "    u'status': 1,\n",
       "    u'text': u'',\n",
       "    u'title': None,\n",
       "    u'totalRatings': None,\n",
       "    u'updateStatusReason': None,\n",
       "    u'userId': 51063591,\n",
       "    u'username': u'rodolfo1069',\n",
       "    u'verified': True},\n",
       "   u'stats': {u'bodyfat': u'8.0',\n",
       "    u'height': u'68.0',\n",
       "    u'weight': u'205.0',\n",
       "    u'weightChange': None},\n",
       "   u'totalRatings': 135,\n",
       "   u'userRating': {u'overallRating': 10.0,\n",
       "    u'ratings': [{u'flavor': u'Colossal Chocolate',\n",
       "      u'id': u'23880-colossal_chocolate',\n",
       "      u'rating': 10.0,\n",
       "      u'totalRatings': 1}],\n",
       "    u'totalRatings': None},\n",
       "   u'wasHelpful': None},\n",
       "  {u'commentCount': 0,\n",
       "   u'flavorRatings': None,\n",
       "   u'helpful': 0,\n",
       "   u'helpfulTotal': 0,\n",
       "   u'likeCount': None,\n",
       "   u'likeStats': None,\n",
       "   u'member': {u'activated': False,\n",
       "    u'emailAddress': None,\n",
       "    u'gender': None,\n",
       "    u'groupId': None,\n",
       "    u'joinDate': None,\n",
       "    u'lastActivity': None,\n",
       "    u'photoCount': 0,\n",
       "    u'profilePicAvatarPath': None,\n",
       "    u'profilePicOriginalPath': None,\n",
       "    u'profilePicPath': u'http://assets.bodybuilding.com/images/profiledefault_thumb.jpg',\n",
       "    u'profilePicThumbPath': None,\n",
       "    u'profileURL': None,\n",
       "    u'realName': None,\n",
       "    u'slug': u'Tmo23',\n",
       "    u'userId': 58868432,\n",
       "    u'username': u'Tmo23',\n",
       "    u'vbuserId': 0},\n",
       "   u'overallRating': 9.1,\n",
       "   u'product': {u'brandId': u'BRAND_OPTIMUM',\n",
       "    u'brandName': u'Optimum Nutrition',\n",
       "    u'briefDescription': u'',\n",
       "    u'description': u'Helps Refuel And Replenish Hard-Working Muscles!*',\n",
       "    u'flavorList': [u'Colossal Chocolate'],\n",
       "    u'flavorRatings': {u'overallRating': 9.3,\n",
       "     u'ratings': [{u'flavor': u'Colossal Chocolate',\n",
       "       u'id': u'23880-colossal_chocolate',\n",
       "       u'rating': 9.3,\n",
       "       u'totalRatings': 62}],\n",
       "     u'totalRatings': 1},\n",
       "    u'id': u'23880',\n",
       "    u'imageLarge': u'http://store.bbcomcdn.com/images/store/prodimage/prod_23880/image_23880_original_X_450_white.jpg',\n",
       "    u'imageMedium': u'http://store.bbcomcdn.com/images/store/prodimage/prod_23880/image_23880_original_X_130_white.jpg',\n",
       "    u'imageSmall': u'http://store.bbcomcdn.com/images/store/prodimage/prod_23880/image_23880_original_X_70_white.jpg',\n",
       "    u'name': u'2:1:1 Recovery',\n",
       "    u'overallRating': 9.1,\n",
       "    u'productId': u'23880',\n",
       "    u'reviewUrl': u'http://reviews.bodybuilding.com/Optimum/2_1_1_Recovery/',\n",
       "    u'skuList': None,\n",
       "    u'totalRatings': 135,\n",
       "    u'totalReviews': 132,\n",
       "    u'totalVerifiedBuyers': 32,\n",
       "    u'totalVerifiedReviews': 36,\n",
       "    u'url': u'http://www.bodybuilding.com/store/opt/recovery.html',\n",
       "    u'verified': None,\n",
       "    u'verifiedBuyerRating': 9.4},\n",
       "   u'productReview': {u'_id': u'51a7c7720cf23b204302f265',\n",
       "    u'brandId': u'BRAND_OPTIMUM',\n",
       "    u'date': 1362598337000,\n",
       "    u'entityId': u'productreview-23880',\n",
       "    u'modDate': 1376085247000,\n",
       "    u'overallRating': None,\n",
       "    u'productId': u'23880',\n",
       "    u'skuList': None,\n",
       "    u'slug': u'Tmo23',\n",
       "    u'status': 1,\n",
       "    u'text': u'',\n",
       "    u'title': None,\n",
       "    u'totalRatings': None,\n",
       "    u'updateStatusReason': None,\n",
       "    u'userId': 58868432,\n",
       "    u'username': u'Tmo23',\n",
       "    u'verified': True},\n",
       "   u'stats': {u'bodyfat': u'8.0',\n",
       "    u'height': u'71.0',\n",
       "    u'weight': u'215.0',\n",
       "    u'weightChange': None},\n",
       "   u'totalRatings': 135,\n",
       "   u'userRating': {u'overallRating': 8.0,\n",
       "    u'ratings': [],\n",
       "    u'totalRatings': None},\n",
       "   u'wasHelpful': None},\n",
       "  {u'commentCount': 0,\n",
       "   u'flavorRatings': None,\n",
       "   u'helpful': 0,\n",
       "   u'helpfulTotal': 0,\n",
       "   u'likeCount': None,\n",
       "   u'likeStats': None,\n",
       "   u'member': {u'activated': False,\n",
       "    u'emailAddress': None,\n",
       "    u'gender': None,\n",
       "    u'groupId': None,\n",
       "    u'joinDate': None,\n",
       "    u'lastActivity': None,\n",
       "    u'photoCount': 0,\n",
       "    u'profilePicAvatarPath': None,\n",
       "    u'profilePicOriginalPath': None,\n",
       "    u'profilePicPath': u'http://assets.bodybuilding.com/images/profiledefault_thumb.jpg',\n",
       "    u'profilePicThumbPath': None,\n",
       "    u'profileURL': None,\n",
       "    u'realName': None,\n",
       "    u'slug': u'japacker',\n",
       "    u'userId': 13791472,\n",
       "    u'username': u'j.a.packer',\n",
       "    u'vbuserId': 0},\n",
       "   u'overallRating': 9.1,\n",
       "   u'product': {u'brandId': u'BRAND_OPTIMUM',\n",
       "    u'brandName': u'Optimum Nutrition',\n",
       "    u'briefDescription': u'',\n",
       "    u'description': u'Helps Refuel And Replenish Hard-Working Muscles!*',\n",
       "    u'flavorList': [u'Colossal Chocolate'],\n",
       "    u'flavorRatings': {u'overallRating': 9.3,\n",
       "     u'ratings': [{u'flavor': u'Colossal Chocolate',\n",
       "       u'id': u'23880-colossal_chocolate',\n",
       "       u'rating': 9.3,\n",
       "       u'totalRatings': 62}],\n",
       "     u'totalRatings': 1},\n",
       "    u'id': u'23880',\n",
       "    u'imageLarge': u'http://store.bbcomcdn.com/images/store/prodimage/prod_23880/image_23880_original_X_450_white.jpg',\n",
       "    u'imageMedium': u'http://store.bbcomcdn.com/images/store/prodimage/prod_23880/image_23880_original_X_130_white.jpg',\n",
       "    u'imageSmall': u'http://store.bbcomcdn.com/images/store/prodimage/prod_23880/image_23880_original_X_70_white.jpg',\n",
       "    u'name': u'2:1:1 Recovery',\n",
       "    u'overallRating': 9.1,\n",
       "    u'productId': u'23880',\n",
       "    u'reviewUrl': u'http://reviews.bodybuilding.com/Optimum/2_1_1_Recovery/',\n",
       "    u'skuList': None,\n",
       "    u'totalRatings': 135,\n",
       "    u'totalReviews': 132,\n",
       "    u'totalVerifiedBuyers': 32,\n",
       "    u'totalVerifiedReviews': 36,\n",
       "    u'url': u'http://www.bodybuilding.com/store/opt/recovery.html',\n",
       "    u'verified': None,\n",
       "    u'verifiedBuyerRating': 9.4},\n",
       "   u'productReview': {u'_id': u'51a7c7710cf23b204302a616',\n",
       "    u'brandId': u'BRAND_OPTIMUM',\n",
       "    u'date': 1352950451000,\n",
       "    u'entityId': u'productreview-23880',\n",
       "    u'modDate': 1376084062000,\n",
       "    u'overallRating': None,\n",
       "    u'productId': u'23880',\n",
       "    u'skuList': None,\n",
       "    u'slug': u'japacker',\n",
       "    u'status': 1,\n",
       "    u'text': u'',\n",
       "    u'title': None,\n",
       "    u'totalRatings': None,\n",
       "    u'updateStatusReason': None,\n",
       "    u'userId': 13791472,\n",
       "    u'username': u'j.a.packer',\n",
       "    u'verified': True},\n",
       "   u'stats': {u'bodyfat': u'10.0',\n",
       "    u'height': None,\n",
       "    u'weight': u'173.0',\n",
       "    u'weightChange': None},\n",
       "   u'totalRatings': 135,\n",
       "   u'userRating': {u'overallRating': 9.0,\n",
       "    u'ratings': [],\n",
       "    u'totalRatings': None},\n",
       "   u'wasHelpful': None},\n",
       "  {u'commentCount': 0,\n",
       "   u'flavorRatings': None,\n",
       "   u'helpful': 0,\n",
       "   u'helpfulTotal': 0,\n",
       "   u'likeCount': None,\n",
       "   u'likeStats': None,\n",
       "   u'member': {u'activated': False,\n",
       "    u'emailAddress': None,\n",
       "    u'gender': None,\n",
       "    u'groupId': None,\n",
       "    u'joinDate': None,\n",
       "    u'lastActivity': None,\n",
       "    u'photoCount': 0,\n",
       "    u'profilePicAvatarPath': None,\n",
       "    u'profilePicOriginalPath': None,\n",
       "    u'profilePicPath': u'http://imagecdn.bodybuilding.com/profile-photo/21786953/18402c81451944e5a1898fce9d388441p.jpg',\n",
       "    u'profilePicThumbPath': None,\n",
       "    u'profileURL': None,\n",
       "    u'realName': None,\n",
       "    u'slug': u'jeffjackson',\n",
       "    u'userId': 35968712,\n",
       "    u'username': u'jeffjackson',\n",
       "    u'vbuserId': 0},\n",
       "   u'overallRating': 9.1,\n",
       "   u'product': {u'brandId': u'BRAND_OPTIMUM',\n",
       "    u'brandName': u'Optimum Nutrition',\n",
       "    u'briefDescription': u'',\n",
       "    u'description': u'Helps Refuel And Replenish Hard-Working Muscles!*',\n",
       "    u'flavorList': [u'Colossal Chocolate'],\n",
       "    u'flavorRatings': {u'overallRating': 9.3,\n",
       "     u'ratings': [{u'flavor': u'Colossal Chocolate',\n",
       "       u'id': u'23880-colossal_chocolate',\n",
       "       u'rating': 9.3,\n",
       "       u'totalRatings': 62}],\n",
       "     u'totalRatings': 1},\n",
       "    u'id': u'23880',\n",
       "    u'imageLarge': u'http://store.bbcomcdn.com/images/store/prodimage/prod_23880/image_23880_original_X_450_white.jpg',\n",
       "    u'imageMedium': u'http://store.bbcomcdn.com/images/store/prodimage/prod_23880/image_23880_original_X_130_white.jpg',\n",
       "    u'imageSmall': u'http://store.bbcomcdn.com/images/store/prodimage/prod_23880/image_23880_original_X_70_white.jpg',\n",
       "    u'name': u'2:1:1 Recovery',\n",
       "    u'overallRating': 9.1,\n",
       "    u'productId': u'23880',\n",
       "    u'reviewUrl': u'http://reviews.bodybuilding.com/Optimum/2_1_1_Recovery/',\n",
       "    u'skuList': None,\n",
       "    u'totalRatings': 135,\n",
       "    u'totalReviews': 132,\n",
       "    u'totalVerifiedBuyers': 32,\n",
       "    u'totalVerifiedReviews': 36,\n",
       "    u'url': u'http://www.bodybuilding.com/store/opt/recovery.html',\n",
       "    u'verified': None,\n",
       "    u'verifiedBuyerRating': 9.4},\n",
       "   u'productReview': {u'_id': u'51a7c7710cf23b204302a407',\n",
       "    u'brandId': u'BRAND_OPTIMUM',\n",
       "    u'date': 1352799454000,\n",
       "    u'entityId': u'productreview-23880',\n",
       "    u'modDate': 1376084034000,\n",
       "    u'overallRating': None,\n",
       "    u'productId': u'23880',\n",
       "    u'skuList': None,\n",
       "    u'slug': u'jeffjackson',\n",
       "    u'status': 1,\n",
       "    u'text': u'Awesome for post workout! \\r\\nI use it with just water from the drinking fountain after my workout. Mixes well and taste great for a protein powder. \\r\\n\\r\\nAwesome product!! ',\n",
       "    u'title': None,\n",
       "    u'totalRatings': None,\n",
       "    u'updateStatusReason': None,\n",
       "    u'userId': 35968712,\n",
       "    u'username': u'jeffjackson',\n",
       "    u'verified': True},\n",
       "   u'stats': {u'bodyfat': u'11.0',\n",
       "    u'height': u'74.0',\n",
       "    u'weight': u'201.0',\n",
       "    u'weightChange': None},\n",
       "   u'totalRatings': 135,\n",
       "   u'userRating': {u'overallRating': 10.0,\n",
       "    u'ratings': [],\n",
       "    u'totalRatings': None},\n",
       "   u'wasHelpful': None},\n",
       "  {u'commentCount': 0,\n",
       "   u'flavorRatings': None,\n",
       "   u'helpful': 0,\n",
       "   u'helpfulTotal': 0,\n",
       "   u'likeCount': None,\n",
       "   u'likeStats': None,\n",
       "   u'member': {u'activated': False,\n",
       "    u'emailAddress': None,\n",
       "    u'gender': None,\n",
       "    u'groupId': None,\n",
       "    u'joinDate': None,\n",
       "    u'lastActivity': None,\n",
       "    u'photoCount': 0,\n",
       "    u'profilePicAvatarPath': None,\n",
       "    u'profilePicOriginalPath': None,\n",
       "    u'profilePicPath': u'http://imagecdn.bodybuilding.com/profile-photo/27753811/1a75eb589eab40fca4d331a9a5dfdbc8p.jpg',\n",
       "    u'profilePicThumbPath': None,\n",
       "    u'profileURL': None,\n",
       "    u'realName': None,\n",
       "    u'slug': u'LimaX',\n",
       "    u'userId': 11835772,\n",
       "    u'username': u'LimaX',\n",
       "    u'vbuserId': 0},\n",
       "   u'overallRating': 9.1,\n",
       "   u'product': {u'brandId': u'BRAND_OPTIMUM',\n",
       "    u'brandName': u'Optimum Nutrition',\n",
       "    u'briefDescription': u'',\n",
       "    u'description': u'Helps Refuel And Replenish Hard-Working Muscles!*',\n",
       "    u'flavorList': [u'Colossal Chocolate'],\n",
       "    u'flavorRatings': {u'overallRating': 9.3,\n",
       "     u'ratings': [{u'flavor': u'Colossal Chocolate',\n",
       "       u'id': u'23880-colossal_chocolate',\n",
       "       u'rating': 9.3,\n",
       "       u'totalRatings': 62}],\n",
       "     u'totalRatings': 1},\n",
       "    u'id': u'23880',\n",
       "    u'imageLarge': u'http://store.bbcomcdn.com/images/store/prodimage/prod_23880/image_23880_original_X_450_white.jpg',\n",
       "    u'imageMedium': u'http://store.bbcomcdn.com/images/store/prodimage/prod_23880/image_23880_original_X_130_white.jpg',\n",
       "    u'imageSmall': u'http://store.bbcomcdn.com/images/store/prodimage/prod_23880/image_23880_original_X_70_white.jpg',\n",
       "    u'name': u'2:1:1 Recovery',\n",
       "    u'overallRating': 9.1,\n",
       "    u'productId': u'23880',\n",
       "    u'reviewUrl': u'http://reviews.bodybuilding.com/Optimum/2_1_1_Recovery/',\n",
       "    u'skuList': None,\n",
       "    u'totalRatings': 135,\n",
       "    u'totalReviews': 132,\n",
       "    u'totalVerifiedBuyers': 32,\n",
       "    u'totalVerifiedReviews': 36,\n",
       "    u'url': u'http://www.bodybuilding.com/store/opt/recovery.html',\n",
       "    u'verified': None,\n",
       "    u'verifiedBuyerRating': 9.4},\n",
       "   u'productReview': {u'_id': u'51a7c7730cf23b2043035db9',\n",
       "    u'brandId': u'BRAND_OPTIMUM',\n",
       "    u'date': 1350083538000,\n",
       "    u'entityId': u'productreview-23880',\n",
       "    u'modDate': 1376086882000,\n",
       "    u'overallRating': None,\n",
       "    u'productId': u'23880',\n",
       "    u'skuList': None,\n",
       "    u'slug': u'LimaX',\n",
       "    u'status': 1,\n",
       "    u'text': u'',\n",
       "    u'title': None,\n",
       "    u'totalRatings': None,\n",
       "    u'updateStatusReason': None,\n",
       "    u'userId': 11835772,\n",
       "    u'username': u'LimaX',\n",
       "    u'verified': True},\n",
       "   u'stats': {u'bodyfat': u'10.0',\n",
       "    u'height': u'71.0',\n",
       "    u'weight': u'172.0',\n",
       "    u'weightChange': None},\n",
       "   u'totalRatings': 135,\n",
       "   u'userRating': {u'overallRating': 10.0,\n",
       "    u'ratings': [],\n",
       "    u'totalRatings': None},\n",
       "   u'wasHelpful': None},\n",
       "  {u'commentCount': 0,\n",
       "   u'flavorRatings': None,\n",
       "   u'helpful': 0,\n",
       "   u'helpfulTotal': 0,\n",
       "   u'likeCount': None,\n",
       "   u'likeStats': None,\n",
       "   u'member': {u'activated': False,\n",
       "    u'emailAddress': None,\n",
       "    u'gender': None,\n",
       "    u'groupId': None,\n",
       "    u'joinDate': None,\n",
       "    u'lastActivity': None,\n",
       "    u'photoCount': 0,\n",
       "    u'profilePicAvatarPath': None,\n",
       "    u'profilePicOriginalPath': None,\n",
       "    u'profilePicPath': u'http://imagecdn.bodybuilding.com/profile-photo/24541514/55fdc93e62994528b5a95c13467cae8bp.jpg',\n",
       "    u'profilePicThumbPath': None,\n",
       "    u'profileURL': None,\n",
       "    u'realName': None,\n",
       "    u'slug': u'noahbehbudi',\n",
       "    u'userId': 41514542,\n",
       "    u'username': u'noahbehbudi',\n",
       "    u'vbuserId': 0},\n",
       "   u'overallRating': 9.1,\n",
       "   u'product': {u'brandId': u'BRAND_OPTIMUM',\n",
       "    u'brandName': u'Optimum Nutrition',\n",
       "    u'briefDescription': u'',\n",
       "    u'description': u'Helps Refuel And Replenish Hard-Working Muscles!*',\n",
       "    u'flavorList': [u'Colossal Chocolate'],\n",
       "    u'flavorRatings': {u'overallRating': 9.3,\n",
       "     u'ratings': [{u'flavor': u'Colossal Chocolate',\n",
       "       u'id': u'23880-colossal_chocolate',\n",
       "       u'rating': 9.3,\n",
       "       u'totalRatings': 62}],\n",
       "     u'totalRatings': 1},\n",
       "    u'id': u'23880',\n",
       "    u'imageLarge': u'http://store.bbcomcdn.com/images/store/prodimage/prod_23880/image_23880_original_X_450_white.jpg',\n",
       "    u'imageMedium': u'http://store.bbcomcdn.com/images/store/prodimage/prod_23880/image_23880_original_X_130_white.jpg',\n",
       "    u'imageSmall': u'http://store.bbcomcdn.com/images/store/prodimage/prod_23880/image_23880_original_X_70_white.jpg',\n",
       "    u'name': u'2:1:1 Recovery',\n",
       "    u'overallRating': 9.1,\n",
       "    u'productId': u'23880',\n",
       "    u'reviewUrl': u'http://reviews.bodybuilding.com/Optimum/2_1_1_Recovery/',\n",
       "    u'skuList': None,\n",
       "    u'totalRatings': 135,\n",
       "    u'totalReviews': 132,\n",
       "    u'totalVerifiedBuyers': 32,\n",
       "    u'totalVerifiedReviews': 36,\n",
       "    u'url': u'http://www.bodybuilding.com/store/opt/recovery.html',\n",
       "    u'verified': None,\n",
       "    u'verifiedBuyerRating': 9.4},\n",
       "   u'productReview': {u'_id': u'51a7c7730cf23b2043036da8',\n",
       "    u'brandId': u'BRAND_OPTIMUM',\n",
       "    u'date': 1349574149000,\n",
       "    u'entityId': u'productreview-23880',\n",
       "    u'modDate': 1376087139000,\n",
       "    u'overallRating': None,\n",
       "    u'productId': u'23880',\n",
       "    u'skuList': None,\n",
       "    u'slug': u'noahbehbudi',\n",
       "    u'status': 1,\n",
       "    u'text': u'This is a great product i would seriously recommend this',\n",
       "    u'title': None,\n",
       "    u'totalRatings': None,\n",
       "    u'updateStatusReason': None,\n",
       "    u'userId': 41514542,\n",
       "    u'username': u'noahbehbudi',\n",
       "    u'verified': True},\n",
       "   u'stats': None,\n",
       "   u'totalRatings': 135,\n",
       "   u'userRating': {u'overallRating': 10.0,\n",
       "    u'ratings': [{u'flavor': u'Colossal Chocolate',\n",
       "      u'id': u'23880-colossal_chocolate',\n",
       "      u'rating': 10.0,\n",
       "      u'totalRatings': 1}],\n",
       "    u'totalRatings': None},\n",
       "   u'wasHelpful': None},\n",
       "  {u'commentCount': 0,\n",
       "   u'flavorRatings': None,\n",
       "   u'helpful': 0,\n",
       "   u'helpfulTotal': 0,\n",
       "   u'likeCount': None,\n",
       "   u'likeStats': None,\n",
       "   u'member': {u'activated': False,\n",
       "    u'emailAddress': None,\n",
       "    u'gender': None,\n",
       "    u'groupId': None,\n",
       "    u'joinDate': None,\n",
       "    u'lastActivity': None,\n",
       "    u'photoCount': 0,\n",
       "    u'profilePicAvatarPath': None,\n",
       "    u'profilePicOriginalPath': None,\n",
       "    u'profilePicPath': u'http://assets.bodybuilding.com/images/profiledefault_thumb.jpg',\n",
       "    u'profilePicThumbPath': None,\n",
       "    u'profileURL': None,\n",
       "    u'realName': None,\n",
       "    u'slug': u'ndalcortivo',\n",
       "    u'userId': 48670762,\n",
       "    u'username': u'ndalcortivo',\n",
       "    u'vbuserId': 0},\n",
       "   u'overallRating': 9.1,\n",
       "   u'product': {u'brandId': u'BRAND_OPTIMUM',\n",
       "    u'brandName': u'Optimum Nutrition',\n",
       "    u'briefDescription': u'',\n",
       "    u'description': u'Helps Refuel And Replenish Hard-Working Muscles!*',\n",
       "    u'flavorList': [u'Colossal Chocolate'],\n",
       "    u'flavorRatings': {u'overallRating': 9.3,\n",
       "     u'ratings': [{u'flavor': u'Colossal Chocolate',\n",
       "       u'id': u'23880-colossal_chocolate',\n",
       "       u'rating': 9.3,\n",
       "       u'totalRatings': 62}],\n",
       "     u'totalRatings': 1},\n",
       "    u'id': u'23880',\n",
       "    u'imageLarge': u'http://store.bbcomcdn.com/images/store/prodimage/prod_23880/image_23880_original_X_450_white.jpg',\n",
       "    u'imageMedium': u'http://store.bbcomcdn.com/images/store/prodimage/prod_23880/image_23880_original_X_130_white.jpg',\n",
       "    u'imageSmall': u'http://store.bbcomcdn.com/images/store/prodimage/prod_23880/image_23880_original_X_70_white.jpg',\n",
       "    u'name': u'2:1:1 Recovery',\n",
       "    u'overallRating': 9.1,\n",
       "    u'productId': u'23880',\n",
       "    u'reviewUrl': u'http://reviews.bodybuilding.com/Optimum/2_1_1_Recovery/',\n",
       "    u'skuList': None,\n",
       "    u'totalRatings': 135,\n",
       "    u'totalReviews': 132,\n",
       "    u'totalVerifiedBuyers': 32,\n",
       "    u'totalVerifiedReviews': 36,\n",
       "    u'url': u'http://www.bodybuilding.com/store/opt/recovery.html',\n",
       "    u'verified': None,\n",
       "    u'verifiedBuyerRating': 9.4},\n",
       "   u'productReview': {u'_id': u'51a7c7730cf23b2043033bb6',\n",
       "    u'brandId': u'BRAND_OPTIMUM',\n",
       "    u'date': 1348324148000,\n",
       "    u'entityId': u'productreview-23880',\n",
       "    u'modDate': 1376086335000,\n",
       "    u'overallRating': None,\n",
       "    u'productId': u'23880',\n",
       "    u'skuList': None,\n",
       "    u'slug': u'ndalcortivo',\n",
       "    u'status': 1,\n",
       "    u'text': u'easily the best supplement I have ever purchased',\n",
       "    u'title': None,\n",
       "    u'totalRatings': None,\n",
       "    u'updateStatusReason': None,\n",
       "    u'userId': 48670762,\n",
       "    u'username': u'ndalcortivo',\n",
       "    u'verified': True},\n",
       "   u'stats': {u'bodyfat': u'9.0',\n",
       "    u'height': u'70.0',\n",
       "    u'weight': u'165.0',\n",
       "    u'weightChange': None},\n",
       "   u'totalRatings': 135,\n",
       "   u'userRating': {u'overallRating': 10.0,\n",
       "    u'ratings': [{u'flavor': u'Colossal Chocolate',\n",
       "      u'id': u'23880-colossal_chocolate',\n",
       "      u'rating': 10.0,\n",
       "      u'totalRatings': 1}],\n",
       "    u'totalRatings': None},\n",
       "   u'wasHelpful': None}])"
      ]
     },
     "execution_count": 121,
     "metadata": {},
     "output_type": "execute_result"
    }
   ],
   "source": [
    "store_data(23880)"
   ]
  },
  {
   "cell_type": "code",
   "execution_count": 64,
   "metadata": {
    "collapsed": true
   },
   "outputs": [],
   "source": [
    " def prod_list(prod_num):\n",
    "    products = []\n",
    "    for i in xrange(10):\n",
    "        url = 'https://catalog.bodybuilding.com/products/'+str(prod_num)+'/reviews'\n",
    "        foo = requests.get(url, headers=headers, params={'page':1, 'reviewType':'verified'})\n",
    "        if foo.json()['productReviews']:\n",
    "            products.append(prod_num)\n",
    "            prod_num +=1\n",
    "        else:\n",
    "            prod_num +=1\n",
    "    return products "
   ]
  },
  {
   "cell_type": "code",
   "execution_count": 65,
   "metadata": {
    "collapsed": false
   },
   "outputs": [
    {
     "data": {
      "text/plain": [
       "[28286]"
      ]
     },
     "execution_count": 65,
     "metadata": {},
     "output_type": "execute_result"
    }
   ],
   "source": [
    "prod_list(28280)"
   ]
  },
  {
   "cell_type": "code",
   "execution_count": 153,
   "metadata": {
    "collapsed": true
   },
   "outputs": [],
   "source": [
    "def brands_list():\n",
    "    z = requests.get('http://reviews.bodybuilding.com/view-reviews')\n",
    "    soup = BeautifulSoup(z.content)\n",
    "    brands = [soup.findAll(id='brandName')[i]['href'] for i in \n",
    "    xrange(len(soup.findAll(id='brandName')))]\n",
    "    return brands\n",
    "\n",
    "def brand_numbers(brands):\n",
    "    brand_num_list = [] \n",
    "    for brand in brands:\n",
    "        z = requests.get(brand)\n",
    "        soup = BeautifulSoup(z.content)\n",
    "        tags = soup.findAll(attrs={'class':'product-image'})\n",
    "        for i in xrange(0, len(tags), 2):\n",
    "            product_num = tags[i].find('img')['src'].split('image/prod_')[1].split('/')[0]\n",
    "            brand_num_list.append(product_num)\n",
    "    return brand_num_list"
   ]
  },
  {
   "cell_type": "code",
   "execution_count": 156,
   "metadata": {
    "collapsed": false
   },
   "outputs": [
    {
     "data": {
      "text/plain": [
       "4032"
      ]
     },
     "execution_count": 156,
     "metadata": {},
     "output_type": "execute_result"
    }
   ],
   "source": [
    "len(brand_numbers(brands_list()))"
   ]
  },
  {
   "cell_type": "code",
   "execution_count": 4,
   "metadata": {
    "collapsed": true
   },
   "outputs": [
    {
     "name": "stderr",
     "output_type": "stream",
     "text": [
      "/Users/medrine/anaconda/lib/python2.7/site-packages/bs4/__init__.py:166: UserWarning: No parser was explicitly specified, so I'm using the best available HTML parser for this system (\"lxml\"). This usually isn't a problem, but if you run this code on another system, or in a different virtual environment, it may use a different parser and behave differently.\n",
      "\n",
      "To get rid of this warning, change this:\n",
      "\n",
      " BeautifulSoup([your markup])\n",
      "\n",
      "to this:\n",
      "\n",
      " BeautifulSoup([your markup], \"lxml\")\n",
      "\n",
      "  markup_type=markup_type))\n"
     ]
    }
   ],
   "source": [
    "z = requests.get('http://reviews.bodybuilding.com/Allmax_Nutrition/')\n",
    "soup = BeautifulSoup(z.content)\n",
    "tags = soup.findAll(attrs={'class':'pagination-buttons'})"
   ]
  },
  {
   "cell_type": "code",
   "execution_count": 2,
   "metadata": {
    "collapsed": false
   },
   "outputs": [
    {
     "data": {
      "text/plain": [
       "u'/Users/gSchool/Desktop/bodyscrape/Capstone'"
      ]
     },
     "execution_count": 2,
     "metadata": {},
     "output_type": "execute_result"
    }
   ],
   "source": []
  },
  {
   "cell_type": "code",
   "execution_count": 55,
   "metadata": {
    "collapsed": true
   },
   "outputs": [],
   "source": [
    "import graphlab as gl"
   ]
  },
  {
   "cell_type": "code",
   "execution_count": 1,
   "metadata": {
    "collapsed": true
   },
   "outputs": [],
   "source": [
    "import pandas as pd"
   ]
  },
  {
   "cell_type": "code",
   "execution_count": 71,
   "metadata": {
    "collapsed": false
   },
   "outputs": [],
   "source": [
    "run bodycleaning.py"
   ]
  },
  {
   "cell_type": "code",
   "execution_count": 72,
   "metadata": {
    "collapsed": false
   },
   "outputs": [
    {
     "data": {
      "text/plain": [
       "(11091, 2)"
      ]
     },
     "execution_count": 72,
     "metadata": {},
     "output_type": "execute_result"
    }
   ],
   "source": [
    "model.df.shape"
   ]
  },
  {
   "cell_type": "code",
   "execution_count": 73,
   "metadata": {
    "collapsed": false
   },
   "outputs": [],
   "source": [
    "model.add_columns()"
   ]
  },
  {
   "cell_type": "code",
   "execution_count": 74,
   "metadata": {
    "collapsed": true
   },
   "outputs": [],
   "source": [
    "model.df['rating'] = [model.df.userRating[i]['overallRating'] for i in xrange(model.df.shape[0])]"
   ]
  },
  {
   "cell_type": "code",
   "execution_count": 52,
   "metadata": {
    "collapsed": false,
    "scrolled": true
   },
   "outputs": [],
   "source": [
    "sf_product = model.df[['userId', 'productId', 'rating']]"
   ]
  },
  {
   "cell_type": "code",
   "execution_count": 69,
   "metadata": {
    "collapsed": false
   },
   "outputs": [
    {
     "ename": "AttributeError",
     "evalue": "'RankingFactorizationRecommender' object has no attribute 'df'",
     "output_type": "error",
     "traceback": [
      "\u001b[0;31m---------------------------------------------------------------------------\u001b[0m",
      "\u001b[0;31mAttributeError\u001b[0m                            Traceback (most recent call last)",
      "\u001b[0;32m<ipython-input-69-b46a95361546>\u001b[0m in \u001b[0;36m<module>\u001b[0;34m()\u001b[0m\n\u001b[0;32m----> 1\u001b[0;31m \u001b[0mmodel\u001b[0m\u001b[0;34m.\u001b[0m\u001b[0mdf\u001b[0m\u001b[0;34m\u001b[0m\u001b[0m\n\u001b[0m",
      "\u001b[0;32m/Users/gSchool/anaconda2/lib/python2.7/site-packages/graphlab/toolkits/_model.pyc\u001b[0m in \u001b[0;36m__getattribute__\u001b[0;34m(self, attr)\u001b[0m\n\u001b[1;32m    633\u001b[0m             \u001b[0;32mreturn\u001b[0m \u001b[0mself\u001b[0m\u001b[0;34m.\u001b[0m\u001b[0mget\u001b[0m\u001b[0;34m(\u001b[0m\u001b[0mattr\u001b[0m\u001b[0;34m)\u001b[0m\u001b[0;34m\u001b[0m\u001b[0m\n\u001b[1;32m    634\u001b[0m         \u001b[0;32melse\u001b[0m\u001b[0;34m:\u001b[0m\u001b[0;34m\u001b[0m\u001b[0m\n\u001b[0;32m--> 635\u001b[0;31m             \u001b[0;32mreturn\u001b[0m \u001b[0mobject\u001b[0m\u001b[0;34m.\u001b[0m\u001b[0m__getattribute__\u001b[0m\u001b[0;34m(\u001b[0m\u001b[0mself\u001b[0m\u001b[0;34m,\u001b[0m \u001b[0mattr\u001b[0m\u001b[0;34m)\u001b[0m\u001b[0;34m\u001b[0m\u001b[0m\n\u001b[0m\u001b[1;32m    636\u001b[0m \u001b[0;34m\u001b[0m\u001b[0m\n\u001b[1;32m    637\u001b[0m \u001b[0;32mclass\u001b[0m \u001b[0mModel\u001b[0m\u001b[0;34m(\u001b[0m\u001b[0mCustomModel\u001b[0m\u001b[0;34m,\u001b[0m \u001b[0mProxyBasedModel\u001b[0m\u001b[0;34m)\u001b[0m\u001b[0;34m:\u001b[0m\u001b[0;34m\u001b[0m\u001b[0m\n",
      "\u001b[0;31mAttributeError\u001b[0m: 'RankingFactorizationRecommender' object has no attribute 'df'"
     ]
    }
   ],
   "source": []
  },
  {
   "cell_type": "code",
   "execution_count": 66,
   "metadata": {
    "collapsed": false
   },
   "outputs": [
    {
     "ename": "AttributeError",
     "evalue": "'RankingFactorizationRecommender' object has no attribute 'df'",
     "output_type": "error",
     "traceback": [
      "\u001b[0;31m---------------------------------------------------------------------------\u001b[0m",
      "\u001b[0;31mAttributeError\u001b[0m                            Traceback (most recent call last)",
      "\u001b[0;32m<ipython-input-66-33c8fbe39a40>\u001b[0m in \u001b[0;36m<module>\u001b[0;34m()\u001b[0m\n\u001b[0;32m----> 1\u001b[0;31m \u001b[0msf\u001b[0m \u001b[0;34m=\u001b[0m \u001b[0mgl\u001b[0m\u001b[0;34m.\u001b[0m\u001b[0mSFrame\u001b[0m\u001b[0;34m(\u001b[0m\u001b[0mmodel\u001b[0m\u001b[0;34m.\u001b[0m\u001b[0mdf\u001b[0m\u001b[0;34m)\u001b[0m\u001b[0;34m\u001b[0m\u001b[0m\n\u001b[0m",
      "\u001b[0;32m/Users/gSchool/anaconda2/lib/python2.7/site-packages/graphlab/toolkits/_model.pyc\u001b[0m in \u001b[0;36m__getattribute__\u001b[0;34m(self, attr)\u001b[0m\n\u001b[1;32m    633\u001b[0m             \u001b[0;32mreturn\u001b[0m \u001b[0mself\u001b[0m\u001b[0;34m.\u001b[0m\u001b[0mget\u001b[0m\u001b[0;34m(\u001b[0m\u001b[0mattr\u001b[0m\u001b[0;34m)\u001b[0m\u001b[0;34m\u001b[0m\u001b[0m\n\u001b[1;32m    634\u001b[0m         \u001b[0;32melse\u001b[0m\u001b[0;34m:\u001b[0m\u001b[0;34m\u001b[0m\u001b[0m\n\u001b[0;32m--> 635\u001b[0;31m             \u001b[0;32mreturn\u001b[0m \u001b[0mobject\u001b[0m\u001b[0;34m.\u001b[0m\u001b[0m__getattribute__\u001b[0m\u001b[0;34m(\u001b[0m\u001b[0mself\u001b[0m\u001b[0;34m,\u001b[0m \u001b[0mattr\u001b[0m\u001b[0;34m)\u001b[0m\u001b[0;34m\u001b[0m\u001b[0m\n\u001b[0m\u001b[1;32m    636\u001b[0m \u001b[0;34m\u001b[0m\u001b[0m\n\u001b[1;32m    637\u001b[0m \u001b[0;32mclass\u001b[0m \u001b[0mModel\u001b[0m\u001b[0;34m(\u001b[0m\u001b[0mCustomModel\u001b[0m\u001b[0;34m,\u001b[0m \u001b[0mProxyBasedModel\u001b[0m\u001b[0;34m)\u001b[0m\u001b[0;34m:\u001b[0m\u001b[0;34m\u001b[0m\u001b[0m\n",
      "\u001b[0;31mAttributeError\u001b[0m: 'RankingFactorizationRecommender' object has no attribute 'df'"
     ]
    }
   ],
   "source": [
    "sf = gl.SFrame(model.df)"
   ]
  },
  {
   "cell_type": "code",
   "execution_count": 64,
   "metadata": {
    "collapsed": false,
    "scrolled": true
   },
   "outputs": [
    {
     "data": {
      "text/html": [
       "<pre>Recsys training: model = ranking_factorization_recommender</pre>"
      ],
      "text/plain": [
       "Recsys training: model = ranking_factorization_recommender"
      ]
     },
     "metadata": {},
     "output_type": "display_data"
    },
    {
     "data": {
      "text/html": [
       "<pre>Preparing data set.</pre>"
      ],
      "text/plain": [
       "Preparing data set."
      ]
     },
     "metadata": {},
     "output_type": "display_data"
    },
    {
     "data": {
      "text/html": [
       "<pre>    Data has 11091 observations with 8882 users and 17 items.</pre>"
      ],
      "text/plain": [
       "    Data has 11091 observations with 8882 users and 17 items."
      ]
     },
     "metadata": {},
     "output_type": "display_data"
    },
    {
     "data": {
      "text/html": [
       "<pre>    Data prepared in: 0.034279s</pre>"
      ],
      "text/plain": [
       "    Data prepared in: 0.034279s"
      ]
     },
     "metadata": {},
     "output_type": "display_data"
    },
    {
     "data": {
      "text/html": [
       "<pre>Training ranking_factorization_recommender for recommendations.</pre>"
      ],
      "text/plain": [
       "Training ranking_factorization_recommender for recommendations."
      ]
     },
     "metadata": {},
     "output_type": "display_data"
    },
    {
     "data": {
      "text/html": [
       "<pre>+--------------------------------+--------------------------------------------------+----------+</pre>"
      ],
      "text/plain": [
       "+--------------------------------+--------------------------------------------------+----------+"
      ]
     },
     "metadata": {},
     "output_type": "display_data"
    },
    {
     "data": {
      "text/html": [
       "<pre>| Parameter                      | Description                                      | Value    |</pre>"
      ],
      "text/plain": [
       "| Parameter                      | Description                                      | Value    |"
      ]
     },
     "metadata": {},
     "output_type": "display_data"
    },
    {
     "data": {
      "text/html": [
       "<pre>+--------------------------------+--------------------------------------------------+----------+</pre>"
      ],
      "text/plain": [
       "+--------------------------------+--------------------------------------------------+----------+"
      ]
     },
     "metadata": {},
     "output_type": "display_data"
    },
    {
     "data": {
      "text/html": [
       "<pre>| num_factors                    | Factor Dimension                                 | 32       |</pre>"
      ],
      "text/plain": [
       "| num_factors                    | Factor Dimension                                 | 32       |"
      ]
     },
     "metadata": {},
     "output_type": "display_data"
    },
    {
     "data": {
      "text/html": [
       "<pre>| regularization                 | L2 Regularization on Factors                     | 1e-09    |</pre>"
      ],
      "text/plain": [
       "| regularization                 | L2 Regularization on Factors                     | 1e-09    |"
      ]
     },
     "metadata": {},
     "output_type": "display_data"
    },
    {
     "data": {
      "text/html": [
       "<pre>| solver                         | Solver used for training                         | sgd      |</pre>"
      ],
      "text/plain": [
       "| solver                         | Solver used for training                         | sgd      |"
      ]
     },
     "metadata": {},
     "output_type": "display_data"
    },
    {
     "data": {
      "text/html": [
       "<pre>| linear_regularization          | L2 Regularization on Linear Coefficients         | 1e-09    |</pre>"
      ],
      "text/plain": [
       "| linear_regularization          | L2 Regularization on Linear Coefficients         | 1e-09    |"
      ]
     },
     "metadata": {},
     "output_type": "display_data"
    },
    {
     "data": {
      "text/html": [
       "<pre>| ranking_regularization         | Rank-based Regularization Weight                 | 0.25     |</pre>"
      ],
      "text/plain": [
       "| ranking_regularization         | Rank-based Regularization Weight                 | 0.25     |"
      ]
     },
     "metadata": {},
     "output_type": "display_data"
    },
    {
     "data": {
      "text/html": [
       "<pre>| max_iterations                 | Maximum Number of Iterations                     | 25       |</pre>"
      ],
      "text/plain": [
       "| max_iterations                 | Maximum Number of Iterations                     | 25       |"
      ]
     },
     "metadata": {},
     "output_type": "display_data"
    },
    {
     "data": {
      "text/html": [
       "<pre>+--------------------------------+--------------------------------------------------+----------+</pre>"
      ],
      "text/plain": [
       "+--------------------------------+--------------------------------------------------+----------+"
      ]
     },
     "metadata": {},
     "output_type": "display_data"
    },
    {
     "data": {
      "text/html": [
       "<pre>  Optimizing model using SGD; tuning step size.</pre>"
      ],
      "text/plain": [
       "  Optimizing model using SGD; tuning step size."
      ]
     },
     "metadata": {},
     "output_type": "display_data"
    },
    {
     "data": {
      "text/html": [
       "<pre>  Using 10000 / 11091 points for tuning the step size.</pre>"
      ],
      "text/plain": [
       "  Using 10000 / 11091 points for tuning the step size."
      ]
     },
     "metadata": {},
     "output_type": "display_data"
    },
    {
     "data": {
      "text/html": [
       "<pre>+---------+-------------------+------------------------------------------+</pre>"
      ],
      "text/plain": [
       "+---------+-------------------+------------------------------------------+"
      ]
     },
     "metadata": {},
     "output_type": "display_data"
    },
    {
     "data": {
      "text/html": [
       "<pre>| Attempt | Initial Step Size | Estimated Objective Value                |</pre>"
      ],
      "text/plain": [
       "| Attempt | Initial Step Size | Estimated Objective Value                |"
      ]
     },
     "metadata": {},
     "output_type": "display_data"
    },
    {
     "data": {
      "text/html": [
       "<pre>+---------+-------------------+------------------------------------------+</pre>"
      ],
      "text/plain": [
       "+---------+-------------------+------------------------------------------+"
      ]
     },
     "metadata": {},
     "output_type": "display_data"
    },
    {
     "data": {
      "text/html": [
       "<pre>| 0       | 25                | Not Viable                               |</pre>"
      ],
      "text/plain": [
       "| 0       | 25                | Not Viable                               |"
      ]
     },
     "metadata": {},
     "output_type": "display_data"
    },
    {
     "data": {
      "text/html": [
       "<pre>| 1       | 6.25              | Not Viable                               |</pre>"
      ],
      "text/plain": [
       "| 1       | 6.25              | Not Viable                               |"
      ]
     },
     "metadata": {},
     "output_type": "display_data"
    },
    {
     "data": {
      "text/html": [
       "<pre>| 2       | 1.5625            | Not Viable                               |</pre>"
      ],
      "text/plain": [
       "| 2       | 1.5625            | Not Viable                               |"
      ]
     },
     "metadata": {},
     "output_type": "display_data"
    },
    {
     "data": {
      "text/html": [
       "<pre>| 3       | 0.390625          | Not Viable                               |</pre>"
      ],
      "text/plain": [
       "| 3       | 0.390625          | Not Viable                               |"
      ]
     },
     "metadata": {},
     "output_type": "display_data"
    },
    {
     "data": {
      "text/html": [
       "<pre>| 4       | 0.0976562         | 4.68439                                  |</pre>"
      ],
      "text/plain": [
       "| 4       | 0.0976562         | 4.68439                                  |"
      ]
     },
     "metadata": {},
     "output_type": "display_data"
    },
    {
     "data": {
      "text/html": [
       "<pre>| 5       | 0.0488281         | 4.19378                                  |</pre>"
      ],
      "text/plain": [
       "| 5       | 0.0488281         | 4.19378                                  |"
      ]
     },
     "metadata": {},
     "output_type": "display_data"
    },
    {
     "data": {
      "text/html": [
       "<pre>| 6       | 0.0244141         | 5.5593                                   |</pre>"
      ],
      "text/plain": [
       "| 6       | 0.0244141         | 5.5593                                   |"
      ]
     },
     "metadata": {},
     "output_type": "display_data"
    },
    {
     "data": {
      "text/html": [
       "<pre>| 7       | 0.012207          | 5.71911                                  |</pre>"
      ],
      "text/plain": [
       "| 7       | 0.012207          | 5.71911                                  |"
      ]
     },
     "metadata": {},
     "output_type": "display_data"
    },
    {
     "data": {
      "text/html": [
       "<pre>| 8       | 0.00610352        | 5.70219                                  |</pre>"
      ],
      "text/plain": [
       "| 8       | 0.00610352        | 5.70219                                  |"
      ]
     },
     "metadata": {},
     "output_type": "display_data"
    },
    {
     "data": {
      "text/html": [
       "<pre>+---------+-------------------+------------------------------------------+</pre>"
      ],
      "text/plain": [
       "+---------+-------------------+------------------------------------------+"
      ]
     },
     "metadata": {},
     "output_type": "display_data"
    },
    {
     "data": {
      "text/html": [
       "<pre>| Final   | 0.0488281         | 4.19378                                  |</pre>"
      ],
      "text/plain": [
       "| Final   | 0.0488281         | 4.19378                                  |"
      ]
     },
     "metadata": {},
     "output_type": "display_data"
    },
    {
     "data": {
      "text/html": [
       "<pre>+---------+-------------------+------------------------------------------+</pre>"
      ],
      "text/plain": [
       "+---------+-------------------+------------------------------------------+"
      ]
     },
     "metadata": {},
     "output_type": "display_data"
    },
    {
     "data": {
      "text/html": [
       "<pre>Starting Optimization.</pre>"
      ],
      "text/plain": [
       "Starting Optimization."
      ]
     },
     "metadata": {},
     "output_type": "display_data"
    },
    {
     "data": {
      "text/html": [
       "<pre>+---------+--------------+-------------------+-----------------------+-------------+</pre>"
      ],
      "text/plain": [
       "+---------+--------------+-------------------+-----------------------+-------------+"
      ]
     },
     "metadata": {},
     "output_type": "display_data"
    },
    {
     "data": {
      "text/html": [
       "<pre>| Iter.   | Elapsed Time | Approx. Objective | Approx. Training RMSE | Step Size   |</pre>"
      ],
      "text/plain": [
       "| Iter.   | Elapsed Time | Approx. Objective | Approx. Training RMSE | Step Size   |"
      ]
     },
     "metadata": {},
     "output_type": "display_data"
    },
    {
     "data": {
      "text/html": [
       "<pre>+---------+--------------+-------------------+-----------------------+-------------+</pre>"
      ],
      "text/plain": [
       "+---------+--------------+-------------------+-----------------------+-------------+"
      ]
     },
     "metadata": {},
     "output_type": "display_data"
    },
    {
     "data": {
      "text/html": [
       "<pre>| Initial | 114us        | 6.85317           | 1.86961               |             |</pre>"
      ],
      "text/plain": [
       "| Initial | 114us        | 6.85317           | 1.86961               |             |"
      ]
     },
     "metadata": {},
     "output_type": "display_data"
    },
    {
     "data": {
      "text/html": [
       "<pre>+---------+--------------+-------------------+-----------------------+-------------+</pre>"
      ],
      "text/plain": [
       "+---------+--------------+-------------------+-----------------------+-------------+"
      ]
     },
     "metadata": {},
     "output_type": "display_data"
    },
    {
     "data": {
      "text/html": [
       "<pre>| 1       | 30.095ms     | 4.40378           | 1.87655               | 0.0488281   |</pre>"
      ],
      "text/plain": [
       "| 1       | 30.095ms     | 4.40378           | 1.87655               | 0.0488281   |"
      ]
     },
     "metadata": {},
     "output_type": "display_data"
    },
    {
     "data": {
      "text/html": [
       "<pre>| 2       | 79.073ms     | 3.69959           | 1.674                 | 0.0290334   |</pre>"
      ],
      "text/plain": [
       "| 2       | 79.073ms     | 3.69959           | 1.674                 | 0.0290334   |"
      ]
     },
     "metadata": {},
     "output_type": "display_data"
    },
    {
     "data": {
      "text/html": [
       "<pre>| 3       | 163.639ms    | 3.23437           | 1.50576               | 0.0214205   |</pre>"
      ],
      "text/plain": [
       "| 3       | 163.639ms    | 3.23437           | 1.50576               | 0.0214205   |"
      ]
     },
     "metadata": {},
     "output_type": "display_data"
    },
    {
     "data": {
      "text/html": [
       "<pre>| 4       | 218.626ms    | 2.82593           | 1.32434               | 0.0172633   |</pre>"
      ],
      "text/plain": [
       "| 4       | 218.626ms    | 2.82593           | 1.32434               | 0.0172633   |"
      ]
     },
     "metadata": {},
     "output_type": "display_data"
    },
    {
     "data": {
      "text/html": [
       "<pre>| 5       | 273.508ms    | 2.33252           | 1.11168               | 0.014603    |</pre>"
      ],
      "text/plain": [
       "| 5       | 273.508ms    | 2.33252           | 1.11168               | 0.014603    |"
      ]
     },
     "metadata": {},
     "output_type": "display_data"
    },
    {
     "data": {
      "text/html": [
       "<pre>| 6       | 339.319ms    | 1.72066           | 0.885964              | 0.0127367   |</pre>"
      ],
      "text/plain": [
       "| 6       | 339.319ms    | 1.72066           | 0.885964              | 0.0127367   |"
      ]
     },
     "metadata": {},
     "output_type": "display_data"
    },
    {
     "data": {
      "text/html": [
       "<pre>| 11      | 632.895ms    | 0.668237          | 0.525713              | 0.00808399  |</pre>"
      ],
      "text/plain": [
       "| 11      | 632.895ms    | 0.668237          | 0.525713              | 0.00808399  |"
      ]
     },
     "metadata": {},
     "output_type": "display_data"
    },
    {
     "data": {
      "text/html": [
       "<pre>| 25      | 1.05s        | 0.0626311         | 0.128923              | 0.00436732  |</pre>"
      ],
      "text/plain": [
       "| 25      | 1.05s        | 0.0626311         | 0.128923              | 0.00436732  |"
      ]
     },
     "metadata": {},
     "output_type": "display_data"
    },
    {
     "data": {
      "text/html": [
       "<pre>+---------+--------------+-------------------+-----------------------+-------------+</pre>"
      ],
      "text/plain": [
       "+---------+--------------+-------------------+-----------------------+-------------+"
      ]
     },
     "metadata": {},
     "output_type": "display_data"
    },
    {
     "data": {
      "text/html": [
       "<pre>Optimization Complete: Maximum number of passes through the data reached.</pre>"
      ],
      "text/plain": [
       "Optimization Complete: Maximum number of passes through the data reached."
      ]
     },
     "metadata": {},
     "output_type": "display_data"
    },
    {
     "data": {
      "text/html": [
       "<pre>Computing final objective value and training RMSE.</pre>"
      ],
      "text/plain": [
       "Computing final objective value and training RMSE."
      ]
     },
     "metadata": {},
     "output_type": "display_data"
    },
    {
     "data": {
      "text/html": [
       "<pre>       Final objective value: 0.0598014</pre>"
      ],
      "text/plain": [
       "       Final objective value: 0.0598014"
      ]
     },
     "metadata": {},
     "output_type": "display_data"
    },
    {
     "data": {
      "text/html": [
       "<pre>       Final training RMSE: 0.132512</pre>"
      ],
      "text/plain": [
       "       Final training RMSE: 0.132512"
      ]
     },
     "metadata": {},
     "output_type": "display_data"
    }
   ],
   "source": [
    "model_1 = gl.toolkits.recommender.create(sf, user_id = 'userId', item_id='productId', target='rating')"
   ]
  },
  {
   "cell_type": "code",
   "execution_count": 65,
   "metadata": {
    "collapsed": false,
    "scrolled": true
   },
   "outputs": [
    {
     "data": {
      "text/html": [
       "<pre>Recsys training: model = ranking_factorization_recommender</pre>"
      ],
      "text/plain": [
       "Recsys training: model = ranking_factorization_recommender"
      ]
     },
     "metadata": {},
     "output_type": "display_data"
    },
    {
     "name": "stderr",
     "output_type": "stream",
     "text": [
      "[ERROR] graphlab.toolkits._main: Toolkit error: Column name brandId does not exist.\n"
     ]
    },
    {
     "ename": "ToolkitError",
     "evalue": "Column name brandId does not exist.",
     "output_type": "error",
     "traceback": [
      "\u001b[0;31m---------------------------------------------------------------------------\u001b[0m",
      "\u001b[0;31mToolkitError\u001b[0m                              Traceback (most recent call last)",
      "\u001b[0;32m<ipython-input-65-88381fc962b9>\u001b[0m in \u001b[0;36m<module>\u001b[0;34m()\u001b[0m\n\u001b[0;32m----> 1\u001b[0;31m \u001b[0mmodel_2\u001b[0m \u001b[0;34m=\u001b[0m \u001b[0mgl\u001b[0m\u001b[0;34m.\u001b[0m\u001b[0mtoolkits\u001b[0m\u001b[0;34m.\u001b[0m\u001b[0mrecommender\u001b[0m\u001b[0;34m.\u001b[0m\u001b[0mcreate\u001b[0m\u001b[0;34m(\u001b[0m\u001b[0msf\u001b[0m\u001b[0;34m,\u001b[0m \u001b[0muser_id\u001b[0m \u001b[0;34m=\u001b[0m \u001b[0;34m'userId'\u001b[0m\u001b[0;34m,\u001b[0m \u001b[0mitem_id\u001b[0m\u001b[0;34m=\u001b[0m\u001b[0;34m'brandId'\u001b[0m\u001b[0;34m,\u001b[0m \u001b[0mtarget\u001b[0m\u001b[0;34m=\u001b[0m\u001b[0;34m'rating'\u001b[0m\u001b[0;34m)\u001b[0m\u001b[0;34m\u001b[0m\u001b[0m\n\u001b[0m",
      "\u001b[0;32m/Users/gSchool/anaconda2/lib/python2.7/site-packages/graphlab/toolkits/recommender/util.pyc\u001b[0m in \u001b[0;36m_create\u001b[0;34m(observation_data, user_id, item_id, target, user_data, item_data, ranking, verbose)\u001b[0m\n\u001b[1;32m    175\u001b[0m         \u001b[0;32mreturn\u001b[0m \u001b[0m_graphlab\u001b[0m\u001b[0;34m.\u001b[0m\u001b[0mrecommender\u001b[0m\u001b[0;34m.\u001b[0m\u001b[0mfactorization_recommender\u001b[0m\u001b[0;34m.\u001b[0m\u001b[0mcreate\u001b[0m\u001b[0;34m(\u001b[0m\u001b[0;34m**\u001b[0m\u001b[0mopts\u001b[0m\u001b[0;34m)\u001b[0m\u001b[0;34m\u001b[0m\u001b[0m\n\u001b[1;32m    176\u001b[0m     \u001b[0;32melif\u001b[0m \u001b[0mmethod\u001b[0m \u001b[0;34m==\u001b[0m \u001b[0;34m\"ranking_factorization_recommender\"\u001b[0m\u001b[0;34m:\u001b[0m\u001b[0;34m\u001b[0m\u001b[0m\n\u001b[0;32m--> 177\u001b[0;31m         \u001b[0;32mreturn\u001b[0m \u001b[0m_graphlab\u001b[0m\u001b[0;34m.\u001b[0m\u001b[0mrecommender\u001b[0m\u001b[0;34m.\u001b[0m\u001b[0mranking_factorization_recommender\u001b[0m\u001b[0;34m.\u001b[0m\u001b[0mcreate\u001b[0m\u001b[0;34m(\u001b[0m\u001b[0;34m**\u001b[0m\u001b[0mopts\u001b[0m\u001b[0;34m)\u001b[0m\u001b[0;34m\u001b[0m\u001b[0m\n\u001b[0m\u001b[1;32m    178\u001b[0m     \u001b[0;32melse\u001b[0m\u001b[0;34m:\u001b[0m\u001b[0;34m\u001b[0m\u001b[0m\n\u001b[1;32m    179\u001b[0m         \u001b[0;32mraise\u001b[0m \u001b[0mRuntimeError\u001b[0m\u001b[0;34m(\u001b[0m\u001b[0;34m\"Provided method not recognized.\"\u001b[0m\u001b[0;34m)\u001b[0m\u001b[0;34m\u001b[0m\u001b[0m\n",
      "\u001b[0;32m/Users/gSchool/anaconda2/lib/python2.7/site-packages/graphlab/toolkits/recommender/ranking_factorization_recommender.pyc\u001b[0m in \u001b[0;36mcreate\u001b[0;34m(observation_data, user_id, item_id, target, user_data, item_data, num_factors, regularization, linear_regularization, side_data_factorization, ranking_regularization, unobserved_rating_value, num_sampled_negative_examples, max_iterations, sgd_step_size, random_seed, binary_target, solver, verbose, **kwargs)\u001b[0m\n\u001b[1;32m    267\u001b[0m         \u001b[0mopts\u001b[0m\u001b[0;34m.\u001b[0m\u001b[0mupdate\u001b[0m\u001b[0;34m(\u001b[0m\u001b[0mkwargs\u001b[0m\u001b[0;34m)\u001b[0m\u001b[0;34m\u001b[0m\u001b[0m\n\u001b[1;32m    268\u001b[0m \u001b[0;34m\u001b[0m\u001b[0m\n\u001b[0;32m--> 269\u001b[0;31m     \u001b[0mresponse\u001b[0m \u001b[0;34m=\u001b[0m \u001b[0m_graphlab\u001b[0m\u001b[0;34m.\u001b[0m\u001b[0mtoolkits\u001b[0m\u001b[0;34m.\u001b[0m\u001b[0m_main\u001b[0m\u001b[0;34m.\u001b[0m\u001b[0mrun\u001b[0m\u001b[0;34m(\u001b[0m\u001b[0;34m'recsys_train'\u001b[0m\u001b[0;34m,\u001b[0m \u001b[0mopts\u001b[0m\u001b[0;34m,\u001b[0m \u001b[0mverbose\u001b[0m\u001b[0;34m)\u001b[0m\u001b[0;34m\u001b[0m\u001b[0m\n\u001b[0m\u001b[1;32m    270\u001b[0m \u001b[0;34m\u001b[0m\u001b[0m\n\u001b[1;32m    271\u001b[0m     \u001b[0;32mreturn\u001b[0m \u001b[0mRankingFactorizationRecommender\u001b[0m\u001b[0;34m(\u001b[0m\u001b[0mresponse\u001b[0m\u001b[0;34m[\u001b[0m\u001b[0;34m'model'\u001b[0m\u001b[0;34m]\u001b[0m\u001b[0;34m)\u001b[0m\u001b[0;34m\u001b[0m\u001b[0m\n",
      "\u001b[0;32m/Users/gSchool/anaconda2/lib/python2.7/site-packages/graphlab/toolkits/_main.pyc\u001b[0m in \u001b[0;36mrun\u001b[0;34m(toolkit_name, options, verbose, show_progress)\u001b[0m\n\u001b[1;32m     87\u001b[0m         \u001b[0m_get_metric_tracker\u001b[0m\u001b[0;34m(\u001b[0m\u001b[0;34m)\u001b[0m\u001b[0;34m.\u001b[0m\u001b[0mtrack\u001b[0m\u001b[0;34m(\u001b[0m\u001b[0mmetric_name\u001b[0m\u001b[0;34m,\u001b[0m \u001b[0mvalue\u001b[0m\u001b[0;34m=\u001b[0m\u001b[0;36m1\u001b[0m\u001b[0;34m,\u001b[0m \u001b[0mproperties\u001b[0m\u001b[0;34m=\u001b[0m\u001b[0mtrack_props\u001b[0m\u001b[0;34m,\u001b[0m \u001b[0msend_sys_info\u001b[0m\u001b[0;34m=\u001b[0m\u001b[0mFalse\u001b[0m\u001b[0;34m)\u001b[0m\u001b[0;34m\u001b[0m\u001b[0m\n\u001b[1;32m     88\u001b[0m \u001b[0;34m\u001b[0m\u001b[0m\n\u001b[0;32m---> 89\u001b[0;31m         \u001b[0;32mraise\u001b[0m \u001b[0mToolkitError\u001b[0m\u001b[0;34m(\u001b[0m\u001b[0mstr\u001b[0m\u001b[0;34m(\u001b[0m\u001b[0mmessage\u001b[0m\u001b[0;34m)\u001b[0m\u001b[0;34m)\u001b[0m\u001b[0;34m\u001b[0m\u001b[0m\n\u001b[0m",
      "\u001b[0;31mToolkitError\u001b[0m: Column name brandId does not exist."
     ]
    }
   ],
   "source": [
    "model_2 = gl.toolkits.recommender.create(sf, user_id = 'userId', item_id='brandId', target='rating')"
   ]
  },
  {
   "cell_type": "code",
   "execution_count": 77,
   "metadata": {
    "collapsed": false
   },
   "outputs": [],
   "source": [
    "run bodycleaning.py"
   ]
  },
  {
   "cell_type": "code",
   "execution_count": 92,
   "metadata": {
    "collapsed": false
   },
   "outputs": [],
   "source": [
    "sf_1 = gl.SFrame(data.df[['userId', 'brandId', 'rating']])"
   ]
  },
  {
   "cell_type": "code",
   "execution_count": 94,
   "metadata": {
    "collapsed": false,
    "scrolled": false
   },
   "outputs": [
    {
     "data": {
      "text/html": [
       "<pre>Recsys training: model = ranking_factorization_recommender</pre>"
      ],
      "text/plain": [
       "Recsys training: model = ranking_factorization_recommender"
      ]
     },
     "metadata": {},
     "output_type": "display_data"
    },
    {
     "data": {
      "text/html": [
       "<pre>Preparing data set.</pre>"
      ],
      "text/plain": [
       "Preparing data set."
      ]
     },
     "metadata": {},
     "output_type": "display_data"
    },
    {
     "data": {
      "text/html": [
       "<pre>    Data has 67611 observations with 41069 users and 392 items.</pre>"
      ],
      "text/plain": [
       "    Data has 67611 observations with 41069 users and 392 items."
      ]
     },
     "metadata": {},
     "output_type": "display_data"
    },
    {
     "data": {
      "text/html": [
       "<pre>    Data prepared in: 0.314815s</pre>"
      ],
      "text/plain": [
       "    Data prepared in: 0.314815s"
      ]
     },
     "metadata": {},
     "output_type": "display_data"
    },
    {
     "data": {
      "text/html": [
       "<pre>Training ranking_factorization_recommender for recommendations.</pre>"
      ],
      "text/plain": [
       "Training ranking_factorization_recommender for recommendations."
      ]
     },
     "metadata": {},
     "output_type": "display_data"
    },
    {
     "data": {
      "text/html": [
       "<pre>+--------------------------------+--------------------------------------------------+----------+</pre>"
      ],
      "text/plain": [
       "+--------------------------------+--------------------------------------------------+----------+"
      ]
     },
     "metadata": {},
     "output_type": "display_data"
    },
    {
     "data": {
      "text/html": [
       "<pre>| Parameter                      | Description                                      | Value    |</pre>"
      ],
      "text/plain": [
       "| Parameter                      | Description                                      | Value    |"
      ]
     },
     "metadata": {},
     "output_type": "display_data"
    },
    {
     "data": {
      "text/html": [
       "<pre>+--------------------------------+--------------------------------------------------+----------+</pre>"
      ],
      "text/plain": [
       "+--------------------------------+--------------------------------------------------+----------+"
      ]
     },
     "metadata": {},
     "output_type": "display_data"
    },
    {
     "data": {
      "text/html": [
       "<pre>| num_factors                    | Factor Dimension                                 | 32       |</pre>"
      ],
      "text/plain": [
       "| num_factors                    | Factor Dimension                                 | 32       |"
      ]
     },
     "metadata": {},
     "output_type": "display_data"
    },
    {
     "data": {
      "text/html": [
       "<pre>| regularization                 | L2 Regularization on Factors                     | 1e-09    |</pre>"
      ],
      "text/plain": [
       "| regularization                 | L2 Regularization on Factors                     | 1e-09    |"
      ]
     },
     "metadata": {},
     "output_type": "display_data"
    },
    {
     "data": {
      "text/html": [
       "<pre>| solver                         | Solver used for training                         | sgd      |</pre>"
      ],
      "text/plain": [
       "| solver                         | Solver used for training                         | sgd      |"
      ]
     },
     "metadata": {},
     "output_type": "display_data"
    },
    {
     "data": {
      "text/html": [
       "<pre>| linear_regularization          | L2 Regularization on Linear Coefficients         | 1e-09    |</pre>"
      ],
      "text/plain": [
       "| linear_regularization          | L2 Regularization on Linear Coefficients         | 1e-09    |"
      ]
     },
     "metadata": {},
     "output_type": "display_data"
    },
    {
     "data": {
      "text/html": [
       "<pre>| ranking_regularization         | Rank-based Regularization Weight                 | 0.25     |</pre>"
      ],
      "text/plain": [
       "| ranking_regularization         | Rank-based Regularization Weight                 | 0.25     |"
      ]
     },
     "metadata": {},
     "output_type": "display_data"
    },
    {
     "data": {
      "text/html": [
       "<pre>| max_iterations                 | Maximum Number of Iterations                     | 25       |</pre>"
      ],
      "text/plain": [
       "| max_iterations                 | Maximum Number of Iterations                     | 25       |"
      ]
     },
     "metadata": {},
     "output_type": "display_data"
    },
    {
     "data": {
      "text/html": [
       "<pre>+--------------------------------+--------------------------------------------------+----------+</pre>"
      ],
      "text/plain": [
       "+--------------------------------+--------------------------------------------------+----------+"
      ]
     },
     "metadata": {},
     "output_type": "display_data"
    },
    {
     "data": {
      "text/html": [
       "<pre>  Optimizing model using SGD; tuning step size.</pre>"
      ],
      "text/plain": [
       "  Optimizing model using SGD; tuning step size."
      ]
     },
     "metadata": {},
     "output_type": "display_data"
    },
    {
     "data": {
      "text/html": [
       "<pre>  Using 10000 / 67611 points for tuning the step size.</pre>"
      ],
      "text/plain": [
       "  Using 10000 / 67611 points for tuning the step size."
      ]
     },
     "metadata": {},
     "output_type": "display_data"
    },
    {
     "data": {
      "text/html": [
       "<pre>+---------+-------------------+------------------------------------------+</pre>"
      ],
      "text/plain": [
       "+---------+-------------------+------------------------------------------+"
      ]
     },
     "metadata": {},
     "output_type": "display_data"
    },
    {
     "data": {
      "text/html": [
       "<pre>| Attempt | Initial Step Size | Estimated Objective Value                |</pre>"
      ],
      "text/plain": [
       "| Attempt | Initial Step Size | Estimated Objective Value                |"
      ]
     },
     "metadata": {},
     "output_type": "display_data"
    },
    {
     "data": {
      "text/html": [
       "<pre>+---------+-------------------+------------------------------------------+</pre>"
      ],
      "text/plain": [
       "+---------+-------------------+------------------------------------------+"
      ]
     },
     "metadata": {},
     "output_type": "display_data"
    },
    {
     "data": {
      "text/html": [
       "<pre>| 0       | 25                | Not Viable                               |</pre>"
      ],
      "text/plain": [
       "| 0       | 25                | Not Viable                               |"
      ]
     },
     "metadata": {},
     "output_type": "display_data"
    },
    {
     "data": {
      "text/html": [
       "<pre>| 1       | 6.25              | Not Viable                               |</pre>"
      ],
      "text/plain": [
       "| 1       | 6.25              | Not Viable                               |"
      ]
     },
     "metadata": {},
     "output_type": "display_data"
    },
    {
     "data": {
      "text/html": [
       "<pre>| 2       | 1.5625            | Not Viable                               |</pre>"
      ],
      "text/plain": [
       "| 2       | 1.5625            | Not Viable                               |"
      ]
     },
     "metadata": {},
     "output_type": "display_data"
    },
    {
     "data": {
      "text/html": [
       "<pre>| 3       | 0.390625          | Not Viable                               |</pre>"
      ],
      "text/plain": [
       "| 3       | 0.390625          | Not Viable                               |"
      ]
     },
     "metadata": {},
     "output_type": "display_data"
    },
    {
     "data": {
      "text/html": [
       "<pre>| 4       | 0.0976562         | 3.90255                                  |</pre>"
      ],
      "text/plain": [
       "| 4       | 0.0976562         | 3.90255                                  |"
      ]
     },
     "metadata": {},
     "output_type": "display_data"
    },
    {
     "data": {
      "text/html": [
       "<pre>| 5       | 0.0488281         | 5.41912                                  |</pre>"
      ],
      "text/plain": [
       "| 5       | 0.0488281         | 5.41912                                  |"
      ]
     },
     "metadata": {},
     "output_type": "display_data"
    },
    {
     "data": {
      "text/html": [
       "<pre>| 6       | 0.0244141         | 6.32864                                  |</pre>"
      ],
      "text/plain": [
       "| 6       | 0.0244141         | 6.32864                                  |"
      ]
     },
     "metadata": {},
     "output_type": "display_data"
    },
    {
     "data": {
      "text/html": [
       "<pre>| 7       | 0.012207          | 7.05844                                  |</pre>"
      ],
      "text/plain": [
       "| 7       | 0.012207          | 7.05844                                  |"
      ]
     },
     "metadata": {},
     "output_type": "display_data"
    },
    {
     "data": {
      "text/html": [
       "<pre>+---------+-------------------+------------------------------------------+</pre>"
      ],
      "text/plain": [
       "+---------+-------------------+------------------------------------------+"
      ]
     },
     "metadata": {},
     "output_type": "display_data"
    },
    {
     "data": {
      "text/html": [
       "<pre>| Final   | 0.0976562         | 3.90255                                  |</pre>"
      ],
      "text/plain": [
       "| Final   | 0.0976562         | 3.90255                                  |"
      ]
     },
     "metadata": {},
     "output_type": "display_data"
    },
    {
     "data": {
      "text/html": [
       "<pre>+---------+-------------------+------------------------------------------+</pre>"
      ],
      "text/plain": [
       "+---------+-------------------+------------------------------------------+"
      ]
     },
     "metadata": {},
     "output_type": "display_data"
    },
    {
     "data": {
      "text/html": [
       "<pre>Starting Optimization.</pre>"
      ],
      "text/plain": [
       "Starting Optimization."
      ]
     },
     "metadata": {},
     "output_type": "display_data"
    },
    {
     "data": {
      "text/html": [
       "<pre>+---------+--------------+-------------------+-----------------------+-------------+</pre>"
      ],
      "text/plain": [
       "+---------+--------------+-------------------+-----------------------+-------------+"
      ]
     },
     "metadata": {},
     "output_type": "display_data"
    },
    {
     "data": {
      "text/html": [
       "<pre>| Iter.   | Elapsed Time | Approx. Objective | Approx. Training RMSE | Step Size   |</pre>"
      ],
      "text/plain": [
       "| Iter.   | Elapsed Time | Approx. Objective | Approx. Training RMSE | Step Size   |"
      ]
     },
     "metadata": {},
     "output_type": "display_data"
    },
    {
     "data": {
      "text/html": [
       "<pre>+---------+--------------+-------------------+-----------------------+-------------+</pre>"
      ],
      "text/plain": [
       "+---------+--------------+-------------------+-----------------------+-------------+"
      ]
     },
     "metadata": {},
     "output_type": "display_data"
    },
    {
     "data": {
      "text/html": [
       "<pre>| Initial | 126us        | 9.20352           | 2.16664               |             |</pre>"
      ],
      "text/plain": [
       "| Initial | 126us        | 9.20352           | 2.16664               |             |"
      ]
     },
     "metadata": {},
     "output_type": "display_data"
    },
    {
     "data": {
      "text/html": [
       "<pre>+---------+--------------+-------------------+-----------------------+-------------+</pre>"
      ],
      "text/plain": [
       "+---------+--------------+-------------------+-----------------------+-------------+"
      ]
     },
     "metadata": {},
     "output_type": "display_data"
    },
    {
     "data": {
      "text/html": [
       "<pre>| 1       | 104.401ms    | 10.3317           | 2.91485               | 0.0976562   |</pre>"
      ],
      "text/plain": [
       "| 1       | 104.401ms    | 10.3317           | 2.91485               | 0.0976562   |"
      ]
     },
     "metadata": {},
     "output_type": "display_data"
    },
    {
     "data": {
      "text/html": [
       "<pre>| 2       | 274.492ms    | DIVERGED          | DIVERGED              | 0.0580668   |</pre>"
      ],
      "text/plain": [
       "| 2       | 274.492ms    | DIVERGED          | DIVERGED              | 0.0580668   |"
      ]
     },
     "metadata": {},
     "output_type": "display_data"
    },
    {
     "data": {
      "text/html": [
       "<pre>| RESET   | 361.696ms    | 9.20355           | 2.16665               |             |</pre>"
      ],
      "text/plain": [
       "| RESET   | 361.696ms    | 9.20355           | 2.16665               |             |"
      ]
     },
     "metadata": {},
     "output_type": "display_data"
    },
    {
     "data": {
      "text/html": [
       "<pre>| 1       | 476.569ms    | 7.1644            | 2.25872               | 0.0290334   |</pre>"
      ],
      "text/plain": [
       "| 1       | 476.569ms    | 7.1644            | 2.25872               | 0.0290334   |"
      ]
     },
     "metadata": {},
     "output_type": "display_data"
    },
    {
     "data": {
      "text/html": [
       "<pre>| 2       | 582.429ms    | 6.45383           | 2.1985                | 0.0172633   |</pre>"
      ],
      "text/plain": [
       "| 2       | 582.429ms    | 6.45383           | 2.1985                | 0.0172633   |"
      ]
     },
     "metadata": {},
     "output_type": "display_data"
    },
    {
     "data": {
      "text/html": [
       "<pre>| 3       | 676.699ms    | 6.20107           | 2.14344               | 0.0127367   |</pre>"
      ],
      "text/plain": [
       "| 3       | 676.699ms    | 6.20107           | 2.14344               | 0.0127367   |"
      ]
     },
     "metadata": {},
     "output_type": "display_data"
    },
    {
     "data": {
      "text/html": [
       "<pre>| 4       | 784.509ms    | 5.80887           | 2.04322               | 0.0102648   |</pre>"
      ],
      "text/plain": [
       "| 4       | 784.509ms    | 5.80887           | 2.04322               | 0.0102648   |"
      ]
     },
     "metadata": {},
     "output_type": "display_data"
    },
    {
     "data": {
      "text/html": [
       "<pre>| 5       | 880.274ms    | 5.32976           | 1.92484               | 0.008683    |</pre>"
      ],
      "text/plain": [
       "| 5       | 880.274ms    | 5.32976           | 1.92484               | 0.008683    |"
      ]
     },
     "metadata": {},
     "output_type": "display_data"
    },
    {
     "data": {
      "text/html": [
       "<pre>| 8       | 1.16s        | 4.0567            | 1.57382               | 0.00610352  |</pre>"
      ],
      "text/plain": [
       "| 8       | 1.16s        | 4.0567            | 1.57382               | 0.00610352  |"
      ]
     },
     "metadata": {},
     "output_type": "display_data"
    },
    {
     "data": {
      "text/html": [
       "<pre>| 10      | 1.34s        | 3.63584           | 1.45438               | 0.00516295  |</pre>"
      ],
      "text/plain": [
       "| 10      | 1.34s        | 3.63584           | 1.45438               | 0.00516295  |"
      ]
     },
     "metadata": {},
     "output_type": "display_data"
    },
    {
     "data": {
      "text/html": [
       "<pre>| 18      | 2.13s        | 2.45612           | 1.14067               | 0.00332233  |</pre>"
      ],
      "text/plain": [
       "| 18      | 2.13s        | 2.45612           | 1.14067               | 0.00332233  |"
      ]
     },
     "metadata": {},
     "output_type": "display_data"
    },
    {
     "data": {
      "text/html": [
       "<pre>+---------+--------------+-------------------+-----------------------+-------------+</pre>"
      ],
      "text/plain": [
       "+---------+--------------+-------------------+-----------------------+-------------+"
      ]
     },
     "metadata": {},
     "output_type": "display_data"
    },
    {
     "data": {
      "text/html": [
       "<pre>Optimization Complete: Maximum number of passes through the data reached.</pre>"
      ],
      "text/plain": [
       "Optimization Complete: Maximum number of passes through the data reached."
      ]
     },
     "metadata": {},
     "output_type": "display_data"
    },
    {
     "data": {
      "text/html": [
       "<pre>Computing final objective value and training RMSE.</pre>"
      ],
      "text/plain": [
       "Computing final objective value and training RMSE."
      ]
     },
     "metadata": {},
     "output_type": "display_data"
    },
    {
     "data": {
      "text/html": [
       "<pre>       Final objective value: 1.78124</pre>"
      ],
      "text/plain": [
       "       Final objective value: 1.78124"
      ]
     },
     "metadata": {},
     "output_type": "display_data"
    },
    {
     "data": {
      "text/html": [
       "<pre>       Final training RMSE: 0.940268</pre>"
      ],
      "text/plain": [
       "       Final training RMSE: 0.940268"
      ]
     },
     "metadata": {},
     "output_type": "display_data"
    }
   ],
   "source": [
    "model_1_brand = gl.toolkits.recommender.create(sf_1, user_id = 'userId', item_id='brandId', target='rating')"
   ]
  },
  {
   "cell_type": "code",
   "execution_count": 95,
   "metadata": {
    "collapsed": false
   },
   "outputs": [
    {
     "data": {
      "text/html": [
       "<pre>Recsys training: model = ranking_factorization_recommender</pre>"
      ],
      "text/plain": [
       "Recsys training: model = ranking_factorization_recommender"
      ]
     },
     "metadata": {},
     "output_type": "display_data"
    },
    {
     "data": {
      "text/html": [
       "<pre>Preparing data set.</pre>"
      ],
      "text/plain": [
       "Preparing data set."
      ]
     },
     "metadata": {},
     "output_type": "display_data"
    },
    {
     "data": {
      "text/html": [
       "<pre>    Data has 67611 observations with 41069 users and 2496 items.</pre>"
      ],
      "text/plain": [
       "    Data has 67611 observations with 41069 users and 2496 items."
      ]
     },
     "metadata": {},
     "output_type": "display_data"
    },
    {
     "data": {
      "text/html": [
       "<pre>    Data prepared in: 0.174181s</pre>"
      ],
      "text/plain": [
       "    Data prepared in: 0.174181s"
      ]
     },
     "metadata": {},
     "output_type": "display_data"
    },
    {
     "data": {
      "text/html": [
       "<pre>Training ranking_factorization_recommender for recommendations.</pre>"
      ],
      "text/plain": [
       "Training ranking_factorization_recommender for recommendations."
      ]
     },
     "metadata": {},
     "output_type": "display_data"
    },
    {
     "data": {
      "text/html": [
       "<pre>+--------------------------------+--------------------------------------------------+----------+</pre>"
      ],
      "text/plain": [
       "+--------------------------------+--------------------------------------------------+----------+"
      ]
     },
     "metadata": {},
     "output_type": "display_data"
    },
    {
     "data": {
      "text/html": [
       "<pre>| Parameter                      | Description                                      | Value    |</pre>"
      ],
      "text/plain": [
       "| Parameter                      | Description                                      | Value    |"
      ]
     },
     "metadata": {},
     "output_type": "display_data"
    },
    {
     "data": {
      "text/html": [
       "<pre>+--------------------------------+--------------------------------------------------+----------+</pre>"
      ],
      "text/plain": [
       "+--------------------------------+--------------------------------------------------+----------+"
      ]
     },
     "metadata": {},
     "output_type": "display_data"
    },
    {
     "data": {
      "text/html": [
       "<pre>| num_factors                    | Factor Dimension                                 | 32       |</pre>"
      ],
      "text/plain": [
       "| num_factors                    | Factor Dimension                                 | 32       |"
      ]
     },
     "metadata": {},
     "output_type": "display_data"
    },
    {
     "data": {
      "text/html": [
       "<pre>| regularization                 | L2 Regularization on Factors                     | 1e-09    |</pre>"
      ],
      "text/plain": [
       "| regularization                 | L2 Regularization on Factors                     | 1e-09    |"
      ]
     },
     "metadata": {},
     "output_type": "display_data"
    },
    {
     "data": {
      "text/html": [
       "<pre>| solver                         | Solver used for training                         | sgd      |</pre>"
      ],
      "text/plain": [
       "| solver                         | Solver used for training                         | sgd      |"
      ]
     },
     "metadata": {},
     "output_type": "display_data"
    },
    {
     "data": {
      "text/html": [
       "<pre>| linear_regularization          | L2 Regularization on Linear Coefficients         | 1e-09    |</pre>"
      ],
      "text/plain": [
       "| linear_regularization          | L2 Regularization on Linear Coefficients         | 1e-09    |"
      ]
     },
     "metadata": {},
     "output_type": "display_data"
    },
    {
     "data": {
      "text/html": [
       "<pre>| ranking_regularization         | Rank-based Regularization Weight                 | 0.25     |</pre>"
      ],
      "text/plain": [
       "| ranking_regularization         | Rank-based Regularization Weight                 | 0.25     |"
      ]
     },
     "metadata": {},
     "output_type": "display_data"
    },
    {
     "data": {
      "text/html": [
       "<pre>| max_iterations                 | Maximum Number of Iterations                     | 25       |</pre>"
      ],
      "text/plain": [
       "| max_iterations                 | Maximum Number of Iterations                     | 25       |"
      ]
     },
     "metadata": {},
     "output_type": "display_data"
    },
    {
     "data": {
      "text/html": [
       "<pre>+--------------------------------+--------------------------------------------------+----------+</pre>"
      ],
      "text/plain": [
       "+--------------------------------+--------------------------------------------------+----------+"
      ]
     },
     "metadata": {},
     "output_type": "display_data"
    },
    {
     "data": {
      "text/html": [
       "<pre>  Optimizing model using SGD; tuning step size.</pre>"
      ],
      "text/plain": [
       "  Optimizing model using SGD; tuning step size."
      ]
     },
     "metadata": {},
     "output_type": "display_data"
    },
    {
     "data": {
      "text/html": [
       "<pre>  Using 10000 / 67611 points for tuning the step size.</pre>"
      ],
      "text/plain": [
       "  Using 10000 / 67611 points for tuning the step size."
      ]
     },
     "metadata": {},
     "output_type": "display_data"
    },
    {
     "data": {
      "text/html": [
       "<pre>+---------+-------------------+------------------------------------------+</pre>"
      ],
      "text/plain": [
       "+---------+-------------------+------------------------------------------+"
      ]
     },
     "metadata": {},
     "output_type": "display_data"
    },
    {
     "data": {
      "text/html": [
       "<pre>| Attempt | Initial Step Size | Estimated Objective Value                |</pre>"
      ],
      "text/plain": [
       "| Attempt | Initial Step Size | Estimated Objective Value                |"
      ]
     },
     "metadata": {},
     "output_type": "display_data"
    },
    {
     "data": {
      "text/html": [
       "<pre>+---------+-------------------+------------------------------------------+</pre>"
      ],
      "text/plain": [
       "+---------+-------------------+------------------------------------------+"
      ]
     },
     "metadata": {},
     "output_type": "display_data"
    },
    {
     "data": {
      "text/html": [
       "<pre>| 0       | 25                | Not Viable                               |</pre>"
      ],
      "text/plain": [
       "| 0       | 25                | Not Viable                               |"
      ]
     },
     "metadata": {},
     "output_type": "display_data"
    },
    {
     "data": {
      "text/html": [
       "<pre>| 1       | 6.25              | Not Viable                               |</pre>"
      ],
      "text/plain": [
       "| 1       | 6.25              | Not Viable                               |"
      ]
     },
     "metadata": {},
     "output_type": "display_data"
    },
    {
     "data": {
      "text/html": [
       "<pre>| 2       | 1.5625            | Not Viable                               |</pre>"
      ],
      "text/plain": [
       "| 2       | 1.5625            | Not Viable                               |"
      ]
     },
     "metadata": {},
     "output_type": "display_data"
    },
    {
     "data": {
      "text/html": [
       "<pre>| 3       | 0.390625          | Not Viable                               |</pre>"
      ],
      "text/plain": [
       "| 3       | 0.390625          | Not Viable                               |"
      ]
     },
     "metadata": {},
     "output_type": "display_data"
    },
    {
     "data": {
      "text/html": [
       "<pre>| 4       | 0.0976562         | 4.90351                                  |</pre>"
      ],
      "text/plain": [
       "| 4       | 0.0976562         | 4.90351                                  |"
      ]
     },
     "metadata": {},
     "output_type": "display_data"
    },
    {
     "data": {
      "text/html": [
       "<pre>| 5       | 0.0488281         | 5.95423                                  |</pre>"
      ],
      "text/plain": [
       "| 5       | 0.0488281         | 5.95423                                  |"
      ]
     },
     "metadata": {},
     "output_type": "display_data"
    },
    {
     "data": {
      "text/html": [
       "<pre>| 6       | 0.0244141         | 7.04764                                  |</pre>"
      ],
      "text/plain": [
       "| 6       | 0.0244141         | 7.04764                                  |"
      ]
     },
     "metadata": {},
     "output_type": "display_data"
    },
    {
     "data": {
      "text/html": [
       "<pre>| 7       | 0.012207          | 7.89343                                  |</pre>"
      ],
      "text/plain": [
       "| 7       | 0.012207          | 7.89343                                  |"
      ]
     },
     "metadata": {},
     "output_type": "display_data"
    },
    {
     "data": {
      "text/html": [
       "<pre>+---------+-------------------+------------------------------------------+</pre>"
      ],
      "text/plain": [
       "+---------+-------------------+------------------------------------------+"
      ]
     },
     "metadata": {},
     "output_type": "display_data"
    },
    {
     "data": {
      "text/html": [
       "<pre>| Final   | 0.0976562         | 4.90351                                  |</pre>"
      ],
      "text/plain": [
       "| Final   | 0.0976562         | 4.90351                                  |"
      ]
     },
     "metadata": {},
     "output_type": "display_data"
    },
    {
     "data": {
      "text/html": [
       "<pre>+---------+-------------------+------------------------------------------+</pre>"
      ],
      "text/plain": [
       "+---------+-------------------+------------------------------------------+"
      ]
     },
     "metadata": {},
     "output_type": "display_data"
    },
    {
     "data": {
      "text/html": [
       "<pre>Starting Optimization.</pre>"
      ],
      "text/plain": [
       "Starting Optimization."
      ]
     },
     "metadata": {},
     "output_type": "display_data"
    },
    {
     "data": {
      "text/html": [
       "<pre>+---------+--------------+-------------------+-----------------------+-------------+</pre>"
      ],
      "text/plain": [
       "+---------+--------------+-------------------+-----------------------+-------------+"
      ]
     },
     "metadata": {},
     "output_type": "display_data"
    },
    {
     "data": {
      "text/html": [
       "<pre>| Iter.   | Elapsed Time | Approx. Objective | Approx. Training RMSE | Step Size   |</pre>"
      ],
      "text/plain": [
       "| Iter.   | Elapsed Time | Approx. Objective | Approx. Training RMSE | Step Size   |"
      ]
     },
     "metadata": {},
     "output_type": "display_data"
    },
    {
     "data": {
      "text/html": [
       "<pre>+---------+--------------+-------------------+-----------------------+-------------+</pre>"
      ],
      "text/plain": [
       "+---------+--------------+-------------------+-----------------------+-------------+"
      ]
     },
     "metadata": {},
     "output_type": "display_data"
    },
    {
     "data": {
      "text/html": [
       "<pre>| Initial | 121us        | 9.20356           | 2.16665               |             |</pre>"
      ],
      "text/plain": [
       "| Initial | 121us        | 9.20356           | 2.16665               |             |"
      ]
     },
     "metadata": {},
     "output_type": "display_data"
    },
    {
     "data": {
      "text/html": [
       "<pre>+---------+--------------+-------------------+-----------------------+-------------+</pre>"
      ],
      "text/plain": [
       "+---------+--------------+-------------------+-----------------------+-------------+"
      ]
     },
     "metadata": {},
     "output_type": "display_data"
    },
    {
     "data": {
      "text/html": [
       "<pre>| 1       | 107.076ms    | 7.8591            | 2.23672               | 0.0976562   |</pre>"
      ],
      "text/plain": [
       "| 1       | 107.076ms    | 7.8591            | 2.23672               | 0.0976562   |"
      ]
     },
     "metadata": {},
     "output_type": "display_data"
    },
    {
     "data": {
      "text/html": [
       "<pre>| 2       | 207.258ms    | 6.32357           | 2.06083               | 0.0580668   |</pre>"
      ],
      "text/plain": [
       "| 2       | 207.258ms    | 6.32357           | 2.06083               | 0.0580668   |"
      ]
     },
     "metadata": {},
     "output_type": "display_data"
    },
    {
     "data": {
      "text/html": [
       "<pre>| 3       | 338.666ms    | 5.58567           | 1.87695               | 0.042841    |</pre>"
      ],
      "text/plain": [
       "| 3       | 338.666ms    | 5.58567           | 1.87695               | 0.042841    |"
      ]
     },
     "metadata": {},
     "output_type": "display_data"
    },
    {
     "data": {
      "text/html": [
       "<pre>| 4       | 451.822ms    | 4.70572           | 1.62648               | 0.0345267   |</pre>"
      ],
      "text/plain": [
       "| 4       | 451.822ms    | 4.70572           | 1.62648               | 0.0345267   |"
      ]
     },
     "metadata": {},
     "output_type": "display_data"
    },
    {
     "data": {
      "text/html": [
       "<pre>| 5       | 554.316ms    | 3.97722           | 1.41277               | 0.029206    |</pre>"
      ],
      "text/plain": [
       "| 5       | 554.316ms    | 3.97722           | 1.41277               | 0.029206    |"
      ]
     },
     "metadata": {},
     "output_type": "display_data"
    },
    {
     "data": {
      "text/html": [
       "<pre>| 6       | 663.81ms     | 3.51685           | 1.25104               | 0.0254734   |</pre>"
      ],
      "text/plain": [
       "| 6       | 663.81ms     | 3.51685           | 1.25104               | 0.0254734   |"
      ]
     },
     "metadata": {},
     "output_type": "display_data"
    },
    {
     "data": {
      "text/html": [
       "<pre>| 10      | 1.05s        | 2.36486           | 0.895164              | 0.017366    |</pre>"
      ],
      "text/plain": [
       "| 10      | 1.05s        | 2.36486           | 0.895164              | 0.017366    |"
      ]
     },
     "metadata": {},
     "output_type": "display_data"
    },
    {
     "data": {
      "text/html": [
       "<pre>| 11      | 1.17s        | 2.1878            | 0.839246              | 0.016168    |</pre>"
      ],
      "text/plain": [
       "| 11      | 1.17s        | 2.1878            | 0.839246              | 0.016168    |"
      ]
     },
     "metadata": {},
     "output_type": "display_data"
    },
    {
     "data": {
      "text/html": [
       "<pre>| 20      | 2.03s        | 1.25341           | 0.567368              | 0.0103259   |</pre>"
      ],
      "text/plain": [
       "| 20      | 2.03s        | 1.25341           | 0.567368              | 0.0103259   |"
      ]
     },
     "metadata": {},
     "output_type": "display_data"
    },
    {
     "data": {
      "text/html": [
       "<pre>+---------+--------------+-------------------+-----------------------+-------------+</pre>"
      ],
      "text/plain": [
       "+---------+--------------+-------------------+-----------------------+-------------+"
      ]
     },
     "metadata": {},
     "output_type": "display_data"
    },
    {
     "data": {
      "text/html": [
       "<pre>Optimization Complete: Maximum number of passes through the data reached.</pre>"
      ],
      "text/plain": [
       "Optimization Complete: Maximum number of passes through the data reached."
      ]
     },
     "metadata": {},
     "output_type": "display_data"
    },
    {
     "data": {
      "text/html": [
       "<pre>Computing final objective value and training RMSE.</pre>"
      ],
      "text/plain": [
       "Computing final objective value and training RMSE."
      ]
     },
     "metadata": {},
     "output_type": "display_data"
    },
    {
     "data": {
      "text/html": [
       "<pre>       Final objective value: 1.01031</pre>"
      ],
      "text/plain": [
       "       Final objective value: 1.01031"
      ]
     },
     "metadata": {},
     "output_type": "display_data"
    },
    {
     "data": {
      "text/html": [
       "<pre>       Final training RMSE: 0.504773</pre>"
      ],
      "text/plain": [
       "       Final training RMSE: 0.504773"
      ]
     },
     "metadata": {},
     "output_type": "display_data"
    }
   ],
   "source": [
    "sf_2 = gl.SFrame(data.df[['userId', 'productId', 'rating']])\n",
    "model_2_product = gl.toolkits.recommender.create(sf_2, user_id = 'userId', item_id='productId', target='rating')"
   ]
  },
  {
   "cell_type": "code",
   "execution_count": null,
   "metadata": {
    "collapsed": false
   },
   "outputs": [
    {
     "data": {
      "text/html": [
       "<pre>Recsys training: model = ranking_factorization_recommender</pre>"
      ],
      "text/plain": [
       "Recsys training: model = ranking_factorization_recommender"
      ]
     },
     "metadata": {},
     "output_type": "display_data"
    },
    {
     "data": {
      "text/html": [
       "<pre>Preparing data set.</pre>"
      ],
      "text/plain": [
       "Preparing data set."
      ]
     },
     "metadata": {},
     "output_type": "display_data"
    },
    {
     "data": {
      "text/html": [
       "<pre>    Data has 67611 observations with 41069 users and 67514 items.</pre>"
      ],
      "text/plain": [
       "    Data has 67611 observations with 41069 users and 67514 items."
      ]
     },
     "metadata": {},
     "output_type": "display_data"
    },
    {
     "data": {
      "text/html": [
       "<pre>    Data prepared in: 0.20154s</pre>"
      ],
      "text/plain": [
       "    Data prepared in: 0.20154s"
      ]
     },
     "metadata": {},
     "output_type": "display_data"
    },
    {
     "data": {
      "text/html": [
       "<pre>Training ranking_factorization_recommender for recommendations.</pre>"
      ],
      "text/plain": [
       "Training ranking_factorization_recommender for recommendations."
      ]
     },
     "metadata": {},
     "output_type": "display_data"
    },
    {
     "data": {
      "text/html": [
       "<pre>+--------------------------------+--------------------------------------------------+----------+</pre>"
      ],
      "text/plain": [
       "+--------------------------------+--------------------------------------------------+----------+"
      ]
     },
     "metadata": {},
     "output_type": "display_data"
    },
    {
     "data": {
      "text/html": [
       "<pre>| Parameter                      | Description                                      | Value    |</pre>"
      ],
      "text/plain": [
       "| Parameter                      | Description                                      | Value    |"
      ]
     },
     "metadata": {},
     "output_type": "display_data"
    },
    {
     "data": {
      "text/html": [
       "<pre>+--------------------------------+--------------------------------------------------+----------+</pre>"
      ],
      "text/plain": [
       "+--------------------------------+--------------------------------------------------+----------+"
      ]
     },
     "metadata": {},
     "output_type": "display_data"
    },
    {
     "data": {
      "text/html": [
       "<pre>| num_factors                    | Factor Dimension                                 | 32       |</pre>"
      ],
      "text/plain": [
       "| num_factors                    | Factor Dimension                                 | 32       |"
      ]
     },
     "metadata": {},
     "output_type": "display_data"
    },
    {
     "data": {
      "text/html": [
       "<pre>| regularization                 | L2 Regularization on Factors                     | 1e-09    |</pre>"
      ],
      "text/plain": [
       "| regularization                 | L2 Regularization on Factors                     | 1e-09    |"
      ]
     },
     "metadata": {},
     "output_type": "display_data"
    },
    {
     "data": {
      "text/html": [
       "<pre>| solver                         | Solver used for training                         | sgd      |</pre>"
      ],
      "text/plain": [
       "| solver                         | Solver used for training                         | sgd      |"
      ]
     },
     "metadata": {},
     "output_type": "display_data"
    },
    {
     "data": {
      "text/html": [
       "<pre>| linear_regularization          | L2 Regularization on Linear Coefficients         | 1e-09    |</pre>"
      ],
      "text/plain": [
       "| linear_regularization          | L2 Regularization on Linear Coefficients         | 1e-09    |"
      ]
     },
     "metadata": {},
     "output_type": "display_data"
    },
    {
     "data": {
      "text/html": [
       "<pre>| ranking_regularization         | Rank-based Regularization Weight                 | 0.25     |</pre>"
      ],
      "text/plain": [
       "| ranking_regularization         | Rank-based Regularization Weight                 | 0.25     |"
      ]
     },
     "metadata": {},
     "output_type": "display_data"
    },
    {
     "data": {
      "text/html": [
       "<pre>| max_iterations                 | Maximum Number of Iterations                     | 25       |</pre>"
      ],
      "text/plain": [
       "| max_iterations                 | Maximum Number of Iterations                     | 25       |"
      ]
     },
     "metadata": {},
     "output_type": "display_data"
    },
    {
     "data": {
      "text/html": [
       "<pre>+--------------------------------+--------------------------------------------------+----------+</pre>"
      ],
      "text/plain": [
       "+--------------------------------+--------------------------------------------------+----------+"
      ]
     },
     "metadata": {},
     "output_type": "display_data"
    },
    {
     "data": {
      "text/html": [
       "<pre>  Optimizing model using SGD; tuning step size.</pre>"
      ],
      "text/plain": [
       "  Optimizing model using SGD; tuning step size."
      ]
     },
     "metadata": {},
     "output_type": "display_data"
    },
    {
     "data": {
      "text/html": [
       "<pre>  Using 10000 / 67611 points for tuning the step size.</pre>"
      ],
      "text/plain": [
       "  Using 10000 / 67611 points for tuning the step size."
      ]
     },
     "metadata": {},
     "output_type": "display_data"
    },
    {
     "data": {
      "text/html": [
       "<pre>+---------+-------------------+------------------------------------------+</pre>"
      ],
      "text/plain": [
       "+---------+-------------------+------------------------------------------+"
      ]
     },
     "metadata": {},
     "output_type": "display_data"
    },
    {
     "data": {
      "text/html": [
       "<pre>| Attempt | Initial Step Size | Estimated Objective Value                |</pre>"
      ],
      "text/plain": [
       "| Attempt | Initial Step Size | Estimated Objective Value                |"
      ]
     },
     "metadata": {},
     "output_type": "display_data"
    },
    {
     "data": {
      "text/html": [
       "<pre>+---------+-------------------+------------------------------------------+</pre>"
      ],
      "text/plain": [
       "+---------+-------------------+------------------------------------------+"
      ]
     },
     "metadata": {},
     "output_type": "display_data"
    },
    {
     "data": {
      "text/html": [
       "<pre>| 0       | 25                | Not Viable                               |</pre>"
      ],
      "text/plain": [
       "| 0       | 25                | Not Viable                               |"
      ]
     },
     "metadata": {},
     "output_type": "display_data"
    },
    {
     "data": {
      "text/html": [
       "<pre>| 1       | 6.25              | Not Viable                               |</pre>"
      ],
      "text/plain": [
       "| 1       | 6.25              | Not Viable                               |"
      ]
     },
     "metadata": {},
     "output_type": "display_data"
    },
    {
     "data": {
      "text/html": [
       "<pre>| 2       | 1.5625            | No Decrease (62.2395 >= 9.21281)         |</pre>"
      ],
      "text/plain": [
       "| 2       | 1.5625            | No Decrease (62.2395 >= 9.21281)         |"
      ]
     },
     "metadata": {},
     "output_type": "display_data"
    },
    {
     "data": {
      "text/html": [
       "<pre>| 3       | 0.390625          | 3.73461                                  |</pre>"
      ],
      "text/plain": [
       "| 3       | 0.390625          | 3.73461                                  |"
      ]
     },
     "metadata": {},
     "output_type": "display_data"
    },
    {
     "data": {
      "text/html": [
       "<pre>| 4       | 0.195312          | 4.19545                                  |</pre>"
      ],
      "text/plain": [
       "| 4       | 0.195312          | 4.19545                                  |"
      ]
     },
     "metadata": {},
     "output_type": "display_data"
    },
    {
     "data": {
      "text/html": [
       "<pre>| 5       | 0.0976562         | 4.81384                                  |</pre>"
      ],
      "text/plain": [
       "| 5       | 0.0976562         | 4.81384                                  |"
      ]
     },
     "metadata": {},
     "output_type": "display_data"
    },
    {
     "data": {
      "text/html": [
       "<pre>| 6       | 0.0488281         | 5.86524                                  |</pre>"
      ],
      "text/plain": [
       "| 6       | 0.0488281         | 5.86524                                  |"
      ]
     },
     "metadata": {},
     "output_type": "display_data"
    },
    {
     "data": {
      "text/html": [
       "<pre>+---------+-------------------+------------------------------------------+</pre>"
      ],
      "text/plain": [
       "+---------+-------------------+------------------------------------------+"
      ]
     },
     "metadata": {},
     "output_type": "display_data"
    },
    {
     "data": {
      "text/html": [
       "<pre>| Final   | 0.390625          | 3.73461                                  |</pre>"
      ],
      "text/plain": [
       "| Final   | 0.390625          | 3.73461                                  |"
      ]
     },
     "metadata": {},
     "output_type": "display_data"
    },
    {
     "data": {
      "text/html": [
       "<pre>+---------+-------------------+------------------------------------------+</pre>"
      ],
      "text/plain": [
       "+---------+-------------------+------------------------------------------+"
      ]
     },
     "metadata": {},
     "output_type": "display_data"
    },
    {
     "data": {
      "text/html": [
       "<pre>Starting Optimization.</pre>"
      ],
      "text/plain": [
       "Starting Optimization."
      ]
     },
     "metadata": {},
     "output_type": "display_data"
    },
    {
     "data": {
      "text/html": [
       "<pre>+---------+--------------+-------------------+-----------------------+-------------+</pre>"
      ],
      "text/plain": [
       "+---------+--------------+-------------------+-----------------------+-------------+"
      ]
     },
     "metadata": {},
     "output_type": "display_data"
    },
    {
     "data": {
      "text/html": [
       "<pre>| Iter.   | Elapsed Time | Approx. Objective | Approx. Training RMSE | Step Size   |</pre>"
      ],
      "text/plain": [
       "| Iter.   | Elapsed Time | Approx. Objective | Approx. Training RMSE | Step Size   |"
      ]
     },
     "metadata": {},
     "output_type": "display_data"
    },
    {
     "data": {
      "text/html": [
       "<pre>+---------+--------------+-------------------+-----------------------+-------------+</pre>"
      ],
      "text/plain": [
       "+---------+--------------+-------------------+-----------------------+-------------+"
      ]
     },
     "metadata": {},
     "output_type": "display_data"
    },
    {
     "data": {
      "text/html": [
       "<pre>| Initial | 133us        | 9.20355           | 2.16665               |             |</pre>"
      ],
      "text/plain": [
       "| Initial | 133us        | 9.20355           | 2.16665               |             |"
      ]
     },
     "metadata": {},
     "output_type": "display_data"
    },
    {
     "data": {
      "text/html": [
       "<pre>+---------+--------------+-------------------+-----------------------+-------------+</pre>"
      ],
      "text/plain": [
       "+---------+--------------+-------------------+-----------------------+-------------+"
      ]
     },
     "metadata": {},
     "output_type": "display_data"
    },
    {
     "data": {
      "text/html": [
       "<pre>| 1       | 151.187ms    | 11.4325           | 2.47223               | 0.390625    |</pre>"
      ],
      "text/plain": [
       "| 1       | 151.187ms    | 11.4325           | 2.47223               | 0.390625    |"
      ]
     },
     "metadata": {},
     "output_type": "display_data"
    },
    {
     "data": {
      "text/html": [
       "<pre>| 2       | 281.22ms     | 9.09611           | 2.05705               | 0.232267    |</pre>"
      ],
      "text/plain": [
       "| 2       | 281.22ms     | 9.09611           | 2.05705               | 0.232267    |"
      ]
     },
     "metadata": {},
     "output_type": "display_data"
    },
    {
     "data": {
      "text/html": [
       "<pre>| 3       | 406.296ms    | 7.09458           | 1.52901               | 0.171364    |</pre>"
      ],
      "text/plain": [
       "| 3       | 406.296ms    | 7.09458           | 1.52901               | 0.171364    |"
      ]
     },
     "metadata": {},
     "output_type": "display_data"
    },
    {
     "data": {
      "text/html": [
       "<pre>| 4       | 517.573ms    | 6.08377           | 1.28535               | 0.116134    |</pre>"
      ],
      "text/plain": [
       "| 4       | 517.573ms    | 6.08377           | 1.28535               | 0.116134    |"
      ]
     },
     "metadata": {},
     "output_type": "display_data"
    },
    {
     "data": {
      "text/html": [
       "<pre>| 5       | 659.985ms    | 5.56454           | 1.16891               | 0.098237    |</pre>"
      ],
      "text/plain": [
       "| 5       | 659.985ms    | 5.56454           | 1.16891               | 0.098237    |"
      ]
     },
     "metadata": {},
     "output_type": "display_data"
    },
    {
     "data": {
      "text/html": [
       "<pre>| 6       | 784.56ms     | 5.17405           | 1.08503               | 0.0856819   |</pre>"
      ],
      "text/plain": [
       "| 6       | 784.56ms     | 5.17405           | 1.08503               | 0.0856819   |"
      ]
     },
     "metadata": {},
     "output_type": "display_data"
    }
   ],
   "source": [
    "sf_3 = gl.SFrame(data.df[['userId', '_id', 'rating']])\n",
    "model_3_purchase = gl.toolkits.recommender.create(sf_3, user_id = 'userId', item_id='_id', target='rating')"
   ]
  },
  {
   "cell_type": "code",
   "execution_count": null,
   "metadata": {
    "collapsed": true
   },
   "outputs": [],
   "source": []
  },
  {
   "cell_type": "code",
   "execution_count": null,
   "metadata": {
    "collapsed": true
   },
   "outputs": [],
   "source": []
  },
  {
   "cell_type": "code",
   "execution_count": 91,
   "metadata": {
    "collapsed": false
   },
   "outputs": [
    {
     "data": {
      "text/html": [
       "<div>\n",
       "<table border=\"1\" class=\"dataframe\">\n",
       "  <thead>\n",
       "    <tr style=\"text-align: right;\">\n",
       "      <th></th>\n",
       "      <th>1863</th>\n",
       "      <th>1893</th>\n",
       "      <th>1915</th>\n",
       "      <th>1934</th>\n",
       "      <th>1956</th>\n",
       "      <th>4485</th>\n",
       "      <th>5014</th>\n",
       "      <th>5020</th>\n",
       "      <th>5269</th>\n",
       "      <th>6445</th>\n",
       "      <th>...</th>\n",
       "      <th>63443</th>\n",
       "      <th>63449</th>\n",
       "      <th>63958</th>\n",
       "      <th>63962</th>\n",
       "      <th>63966</th>\n",
       "      <th>64009</th>\n",
       "      <th>64040</th>\n",
       "      <th>64043</th>\n",
       "      <th>64933</th>\n",
       "      <th>66848</th>\n",
       "    </tr>\n",
       "  </thead>\n",
       "  <tbody>\n",
       "    <tr>\n",
       "      <th>totalItems</th>\n",
       "      <td>214</td>\n",
       "      <td>214</td>\n",
       "      <td>214</td>\n",
       "      <td>214</td>\n",
       "      <td>214</td>\n",
       "      <td>1408</td>\n",
       "      <td>1408</td>\n",
       "      <td>1408</td>\n",
       "      <td>1321</td>\n",
       "      <td>1321</td>\n",
       "      <td>...</td>\n",
       "      <td>50</td>\n",
       "      <td>50</td>\n",
       "      <td>248</td>\n",
       "      <td>248</td>\n",
       "      <td>248</td>\n",
       "      <td>248</td>\n",
       "      <td>248</td>\n",
       "      <td>248</td>\n",
       "      <td>98</td>\n",
       "      <td>92</td>\n",
       "    </tr>\n",
       "    <tr>\n",
       "      <th>overallRating</th>\n",
       "      <td>8.5</td>\n",
       "      <td>8.5</td>\n",
       "      <td>8.5</td>\n",
       "      <td>8.5</td>\n",
       "      <td>8.5</td>\n",
       "      <td>8.8</td>\n",
       "      <td>8.8</td>\n",
       "      <td>8.8</td>\n",
       "      <td>8.5</td>\n",
       "      <td>8.5</td>\n",
       "      <td>...</td>\n",
       "      <td>8.4</td>\n",
       "      <td>8.4</td>\n",
       "      <td>8.6</td>\n",
       "      <td>8.6</td>\n",
       "      <td>8.6</td>\n",
       "      <td>8.6</td>\n",
       "      <td>8.6</td>\n",
       "      <td>8.6</td>\n",
       "      <td>0</td>\n",
       "      <td>5.2</td>\n",
       "    </tr>\n",
       "    <tr>\n",
       "      <th>helpful</th>\n",
       "      <td>0</td>\n",
       "      <td>0</td>\n",
       "      <td>0</td>\n",
       "      <td>0</td>\n",
       "      <td>0</td>\n",
       "      <td>0</td>\n",
       "      <td>0</td>\n",
       "      <td>0</td>\n",
       "      <td>1</td>\n",
       "      <td>0</td>\n",
       "      <td>...</td>\n",
       "      <td>0</td>\n",
       "      <td>0</td>\n",
       "      <td>0</td>\n",
       "      <td>0</td>\n",
       "      <td>1</td>\n",
       "      <td>0</td>\n",
       "      <td>0</td>\n",
       "      <td>0</td>\n",
       "      <td>0</td>\n",
       "      <td>0</td>\n",
       "    </tr>\n",
       "    <tr>\n",
       "      <th>totalRatings</th>\n",
       "      <td>4</td>\n",
       "      <td>4</td>\n",
       "      <td>4</td>\n",
       "      <td>4</td>\n",
       "      <td>4</td>\n",
       "      <td>13</td>\n",
       "      <td>13</td>\n",
       "      <td>13</td>\n",
       "      <td>8</td>\n",
       "      <td>8</td>\n",
       "      <td>...</td>\n",
       "      <td>5</td>\n",
       "      <td>5</td>\n",
       "      <td>3</td>\n",
       "      <td>3</td>\n",
       "      <td>3</td>\n",
       "      <td>3</td>\n",
       "      <td>3</td>\n",
       "      <td>3</td>\n",
       "      <td>0</td>\n",
       "      <td>6</td>\n",
       "    </tr>\n",
       "    <tr>\n",
       "      <th>helpfulTotal</th>\n",
       "      <td>0</td>\n",
       "      <td>0</td>\n",
       "      <td>0</td>\n",
       "      <td>0</td>\n",
       "      <td>0</td>\n",
       "      <td>0</td>\n",
       "      <td>0</td>\n",
       "      <td>0</td>\n",
       "      <td>1</td>\n",
       "      <td>0</td>\n",
       "      <td>...</td>\n",
       "      <td>0</td>\n",
       "      <td>0</td>\n",
       "      <td>0</td>\n",
       "      <td>0</td>\n",
       "      <td>1</td>\n",
       "      <td>0</td>\n",
       "      <td>0</td>\n",
       "      <td>0</td>\n",
       "      <td>2</td>\n",
       "      <td>0</td>\n",
       "    </tr>\n",
       "    <tr>\n",
       "      <th>username</th>\n",
       "      <td>unnefer88</td>\n",
       "      <td>RaneyR</td>\n",
       "      <td>Regyptphrh</td>\n",
       "      <td>deathbirthday</td>\n",
       "      <td>spaceballsrules</td>\n",
       "      <td>dking88</td>\n",
       "      <td>youngkang</td>\n",
       "      <td>g-tasha</td>\n",
       "      <td>LXA1150</td>\n",
       "      <td>garick111</td>\n",
       "      <td>...</td>\n",
       "      <td>cmdavis11</td>\n",
       "      <td>GoHeavy1</td>\n",
       "      <td>shmitchell</td>\n",
       "      <td>JustiNtense</td>\n",
       "      <td>TOMaHULK</td>\n",
       "      <td>jon326</td>\n",
       "      <td>bballcatcher</td>\n",
       "      <td>Greek_Elite</td>\n",
       "      <td>loanky</td>\n",
       "      <td>raylors</td>\n",
       "    </tr>\n",
       "    <tr>\n",
       "      <th>_id</th>\n",
       "      <td>51a7c76f0cf23b2043027d5f</td>\n",
       "      <td>51a7c7730cf23b2043037a8d</td>\n",
       "      <td>51a7c7730cf23b2043034aeb</td>\n",
       "      <td>51a7c76e0cf23b2043021d96</td>\n",
       "      <td>51a7c76c0cf23b204301f451</td>\n",
       "      <td>51a7c7740cf23b204303905d</td>\n",
       "      <td>51a7c76e0cf23b2043022504</td>\n",
       "      <td>51a7c7720cf23b2043030f89</td>\n",
       "      <td>51a7c76e0cf23b2043024543</td>\n",
       "      <td>51a7c7720cf23b204302b6e4</td>\n",
       "      <td>...</td>\n",
       "      <td>51a7c76f0cf23b2043026a87</td>\n",
       "      <td>51a7c76e0cf23b2043021d38</td>\n",
       "      <td>51a7c76e0cf23b2043024c2f</td>\n",
       "      <td>51a7c76e0cf23b2043023c73</td>\n",
       "      <td>51a7c7710cf23b2043029bde</td>\n",
       "      <td>51a7c7720cf23b204302e6cd</td>\n",
       "      <td>51a7c76e0cf23b204302200a</td>\n",
       "      <td>51a7c7730cf23b2043032148</td>\n",
       "      <td>51a7c7730cf23b204303452a</td>\n",
       "      <td>51a7c76f0cf23b20430261f2</td>\n",
       "    </tr>\n",
       "    <tr>\n",
       "      <th>title</th>\n",
       "      <td>None</td>\n",
       "      <td>None</td>\n",
       "      <td>None</td>\n",
       "      <td>None</td>\n",
       "      <td>None</td>\n",
       "      <td>None</td>\n",
       "      <td>None</td>\n",
       "      <td>None</td>\n",
       "      <td></td>\n",
       "      <td>None</td>\n",
       "      <td>...</td>\n",
       "      <td>None</td>\n",
       "      <td>None</td>\n",
       "      <td>None</td>\n",
       "      <td>None</td>\n",
       "      <td>None</td>\n",
       "      <td>None</td>\n",
       "      <td>None</td>\n",
       "      <td>None</td>\n",
       "      <td>None</td>\n",
       "      <td>None</td>\n",
       "    </tr>\n",
       "    <tr>\n",
       "      <th>text</th>\n",
       "      <td>smelly ****</td>\n",
       "      <td>VERY DISAPPOINTING. The Cookies and Cream tast...</td>\n",
       "      <td>Please add more flavers to 10 LBS</td>\n",
       "      <td>I used it right after work outs and as a meal ...</td>\n",
       "      <td>Macros are great. Price is outstanding.\\r The ...</td>\n",
       "      <td>I have been using C4 for about 2 years now, an...</td>\n",
       "      <td>Good stuff! Clean energy with a good amount of...</td>\n",
       "      <td>I'm taking 2 scoops in the am before my workou...</td>\n",
       "      <td>I got a chance to review Cellucor's new Chocol...</td>\n",
       "      <td></td>\n",
       "      <td>...</td>\n",
       "      <td>Tastes great and has a good BCAA profile, but ...</td>\n",
       "      <td>Watermelon tastes just like Rage.. not what i ...</td>\n",
       "      <td>Not impressed....loved the original but not to...</td>\n",
       "      <td>I love White Flood, it has been my go to pre-w...</td>\n",
       "      <td>To me, this product lost it's effectiveness fo...</td>\n",
       "      <td>Got this in lue of the White Raspberry. Flavor...</td>\n",
       "      <td>You will know when this hits you it will liter...</td>\n",
       "      <td>First tub I had tasted great, 2nd one not so m...</td>\n",
       "      <td></td>\n",
       "      <td>Look around and you may be surprised. The prof...</td>\n",
       "    </tr>\n",
       "    <tr>\n",
       "      <th>brandId</th>\n",
       "      <td>cat200002</td>\n",
       "      <td>cat200002</td>\n",
       "      <td>cat200002</td>\n",
       "      <td>cat200002</td>\n",
       "      <td>cat200002</td>\n",
       "      <td>BRAND_CELLUCOR</td>\n",
       "      <td>BRAND_CELLUCOR</td>\n",
       "      <td>BRAND_CELLUCOR</td>\n",
       "      <td>BRAND_CELLUCOR</td>\n",
       "      <td>BRAND_CELLUCOR</td>\n",
       "      <td>...</td>\n",
       "      <td>BRAND_UNIVERSAL</td>\n",
       "      <td>BRAND_UNIVERSAL</td>\n",
       "      <td>BRAND_CONTROLLED_LABS</td>\n",
       "      <td>BRAND_CONTROLLED_LABS</td>\n",
       "      <td>BRAND_CONTROLLED_LABS</td>\n",
       "      <td>BRAND_CONTROLLED_LABS</td>\n",
       "      <td>BRAND_CONTROLLED_LABS</td>\n",
       "      <td>BRAND_CONTROLLED_LABS</td>\n",
       "      <td>BRAND_OPTIMUM</td>\n",
       "      <td>BRAND_NOW</td>\n",
       "    </tr>\n",
       "    <tr>\n",
       "      <th>modDate</th>\n",
       "      <td>{u'$numberLong': u'1376083423000'}</td>\n",
       "      <td>{u'$numberLong': u'1376087344000'}</td>\n",
       "      <td>{u'$numberLong': u'1376086577000'}</td>\n",
       "      <td>{u'$numberLong': u'1376081929000'}</td>\n",
       "      <td>{u'$numberLong': u'1376081285000'}</td>\n",
       "      <td>{u'$numberLong': u'1376087690000'}</td>\n",
       "      <td>{u'$numberLong': u'1376082049000'}</td>\n",
       "      <td>{u'$numberLong': u'1376085698000'}</td>\n",
       "      <td>{u'$numberLong': u'1467309576000'}</td>\n",
       "      <td>{u'$numberLong': u'1376084318000'}</td>\n",
       "      <td>...</td>\n",
       "      <td>{u'$numberLong': u'1376083126000'}</td>\n",
       "      <td>{u'$numberLong': u'1376081924000'}</td>\n",
       "      <td>{u'$numberLong': u'1376082666000'}</td>\n",
       "      <td>{u'$numberLong': u'1376082430000'}</td>\n",
       "      <td>{u'$numberLong': u'1376083910000'}</td>\n",
       "      <td>{u'$numberLong': u'1376085064000'}</td>\n",
       "      <td>{u'$numberLong': u'1376081968000'}</td>\n",
       "      <td>{u'$numberLong': u'1376085961000'}</td>\n",
       "      <td>{u'$numberLong': u'1376086495000'}</td>\n",
       "      <td>{u'$numberLong': u'1376082999000'}</td>\n",
       "    </tr>\n",
       "    <tr>\n",
       "      <th>date</th>\n",
       "      <td>{u'$numberLong': u'1352770622000'}</td>\n",
       "      <td>{u'$numberLong': u'1342043013000'}</td>\n",
       "      <td>{u'$numberLong': u'1332625921000'}</td>\n",
       "      <td>{u'$numberLong': u'1327983520000'}</td>\n",
       "      <td>{u'$numberLong': u'1325088108000'}</td>\n",
       "      <td>{u'$numberLong': u'1366669622000'}</td>\n",
       "      <td>{u'$numberLong': u'1300337954000'}</td>\n",
       "      <td>{u'$numberLong': u'1298725792000'}</td>\n",
       "      <td>{u'$numberLong': u'1467309576000'}</td>\n",
       "      <td>{u'$numberLong': u'1368525365000'}</td>\n",
       "      <td>...</td>\n",
       "      <td>{u'$numberLong': u'1351975690000'}</td>\n",
       "      <td>{u'$numberLong': u'1340989691000'}</td>\n",
       "      <td>{u'$numberLong': u'1309288405000'}</td>\n",
       "      <td>{u'$numberLong': u'1308798535000'}</td>\n",
       "      <td>{u'$numberLong': u'1306365100000'}</td>\n",
       "      <td>{u'$numberLong': u'1284747761000'}</td>\n",
       "      <td>{u'$numberLong': u'1246988217000'}</td>\n",
       "      <td>{u'$numberLong': u'1245595392000'}</td>\n",
       "      <td>{u'$numberLong': u'1243806241000'}</td>\n",
       "      <td>{u'$numberLong': u'1293444836000'}</td>\n",
       "    </tr>\n",
       "    <tr>\n",
       "      <th>entityId</th>\n",
       "      <td>productreview-prod4300044</td>\n",
       "      <td>productreview-prod4300044</td>\n",
       "      <td>productreview-prod4300044</td>\n",
       "      <td>productreview-prod4300044</td>\n",
       "      <td>productreview-prod4300044</td>\n",
       "      <td>productreview-prod130042</td>\n",
       "      <td>productreview-prod130042</td>\n",
       "      <td>productreview-prod130042</td>\n",
       "      <td>productreview-prod1250016</td>\n",
       "      <td>productreview-prod1250016</td>\n",
       "      <td>...</td>\n",
       "      <td>productreview-prod440032</td>\n",
       "      <td>productreview-prod440032</td>\n",
       "      <td>productreview-27834</td>\n",
       "      <td>productreview-27834</td>\n",
       "      <td>productreview-27834</td>\n",
       "      <td>productreview-27834</td>\n",
       "      <td>productreview-27834</td>\n",
       "      <td>productreview-27834</td>\n",
       "      <td>productreview-24238</td>\n",
       "      <td>productreview-25445</td>\n",
       "    </tr>\n",
       "    <tr>\n",
       "      <th>updateStatusReason</th>\n",
       "      <td>None</td>\n",
       "      <td>None</td>\n",
       "      <td>None</td>\n",
       "      <td>None</td>\n",
       "      <td>None</td>\n",
       "      <td>None</td>\n",
       "      <td>None</td>\n",
       "      <td>None</td>\n",
       "      <td>None</td>\n",
       "      <td>None</td>\n",
       "      <td>...</td>\n",
       "      <td>None</td>\n",
       "      <td>None</td>\n",
       "      <td>None</td>\n",
       "      <td>None</td>\n",
       "      <td>None</td>\n",
       "      <td>None</td>\n",
       "      <td>None</td>\n",
       "      <td>None</td>\n",
       "      <td>None</td>\n",
       "      <td>None</td>\n",
       "    </tr>\n",
       "    <tr>\n",
       "      <th>slug</th>\n",
       "      <td>unnefer88</td>\n",
       "      <td>RaneyR</td>\n",
       "      <td>Regyptphrh</td>\n",
       "      <td>deathbirthday</td>\n",
       "      <td>spaceballsrules</td>\n",
       "      <td>dking88</td>\n",
       "      <td>youngkang</td>\n",
       "      <td>g-tasha</td>\n",
       "      <td>LXA1150</td>\n",
       "      <td>garick111</td>\n",
       "      <td>...</td>\n",
       "      <td>cmdavis11</td>\n",
       "      <td>RobM22</td>\n",
       "      <td>shmitchell</td>\n",
       "      <td>PainIsResults</td>\n",
       "      <td>TomTank77</td>\n",
       "      <td>jon326</td>\n",
       "      <td>bballcatcher</td>\n",
       "      <td>Greek_Elite</td>\n",
       "      <td>loanky</td>\n",
       "      <td>raylors</td>\n",
       "    </tr>\n",
       "    <tr>\n",
       "      <th>userId</th>\n",
       "      <td>41704992</td>\n",
       "      <td>23140361</td>\n",
       "      <td>17184952</td>\n",
       "      <td>46642901</td>\n",
       "      <td>31497052</td>\n",
       "      <td>39924102</td>\n",
       "      <td>16935452</td>\n",
       "      <td>19819242</td>\n",
       "      <td>42595012</td>\n",
       "      <td>62571662</td>\n",
       "      <td>...</td>\n",
       "      <td>43581152</td>\n",
       "      <td>27423892</td>\n",
       "      <td>24513221</td>\n",
       "      <td>335315</td>\n",
       "      <td>19885682</td>\n",
       "      <td>24499901</td>\n",
       "      <td>20100962</td>\n",
       "      <td>13749802</td>\n",
       "      <td>14892662</td>\n",
       "      <td>17245742</td>\n",
       "    </tr>\n",
       "    <tr>\n",
       "      <th>productId</th>\n",
       "      <td>prod4300044</td>\n",
       "      <td>prod4300044</td>\n",
       "      <td>prod4300044</td>\n",
       "      <td>prod4300044</td>\n",
       "      <td>prod4300044</td>\n",
       "      <td>prod130042</td>\n",
       "      <td>prod130042</td>\n",
       "      <td>prod130042</td>\n",
       "      <td>prod1250016</td>\n",
       "      <td>prod1250016</td>\n",
       "      <td>...</td>\n",
       "      <td>prod440032</td>\n",
       "      <td>prod440032</td>\n",
       "      <td>27834</td>\n",
       "      <td>27834</td>\n",
       "      <td>27834</td>\n",
       "      <td>27834</td>\n",
       "      <td>27834</td>\n",
       "      <td>27834</td>\n",
       "      <td>24238</td>\n",
       "      <td>25445</td>\n",
       "    </tr>\n",
       "    <tr>\n",
       "      <th>imageMedium</th>\n",
       "      <td>http://store.bbcomcdn.com/images/store/prodima...</td>\n",
       "      <td>http://store.bbcomcdn.com/images/store/prodima...</td>\n",
       "      <td>http://store.bbcomcdn.com/images/store/prodima...</td>\n",
       "      <td>http://store.bbcomcdn.com/images/store/prodima...</td>\n",
       "      <td>http://store.bbcomcdn.com/images/store/prodima...</td>\n",
       "      <td>http://store.bbcomcdn.com/images/store/prodima...</td>\n",
       "      <td>http://store.bbcomcdn.com/images/store/prodima...</td>\n",
       "      <td>http://store.bbcomcdn.com/images/store/prodima...</td>\n",
       "      <td>http://store.bbcomcdn.com/images/store/prodima...</td>\n",
       "      <td>http://store.bbcomcdn.com/images/store/prodima...</td>\n",
       "      <td>...</td>\n",
       "      <td>http://store.bbcomcdn.com/images/store/prodima...</td>\n",
       "      <td>http://store.bbcomcdn.com/images/store/prodima...</td>\n",
       "      <td>http://store.bbcomcdn.com/images/store/prodima...</td>\n",
       "      <td>http://store.bbcomcdn.com/images/store/prodima...</td>\n",
       "      <td>http://store.bbcomcdn.com/images/store/prodima...</td>\n",
       "      <td>http://store.bbcomcdn.com/images/store/prodima...</td>\n",
       "      <td>http://store.bbcomcdn.com/images/store/prodima...</td>\n",
       "      <td>http://store.bbcomcdn.com/images/store/prodima...</td>\n",
       "      <td>http://store.bbcomcdn.com/images/store/prodima...</td>\n",
       "      <td>http://store.bbcomcdn.com/images/store/prodima...</td>\n",
       "    </tr>\n",
       "    <tr>\n",
       "      <th>totalReviews</th>\n",
       "      <td>340</td>\n",
       "      <td>340</td>\n",
       "      <td>340</td>\n",
       "      <td>340</td>\n",
       "      <td>340</td>\n",
       "      <td>4341</td>\n",
       "      <td>4341</td>\n",
       "      <td>4341</td>\n",
       "      <td>1895</td>\n",
       "      <td>1895</td>\n",
       "      <td>...</td>\n",
       "      <td>102</td>\n",
       "      <td>102</td>\n",
       "      <td>970</td>\n",
       "      <td>970</td>\n",
       "      <td>970</td>\n",
       "      <td>970</td>\n",
       "      <td>970</td>\n",
       "      <td>970</td>\n",
       "      <td>392</td>\n",
       "      <td>211</td>\n",
       "    </tr>\n",
       "    <tr>\n",
       "      <th>flavorList</th>\n",
       "      <td>[Chocolate, Cinnamon Bun, Cookies &amp; Cream, Van...</td>\n",
       "      <td>[Chocolate, Cinnamon Bun, Cookies &amp; Cream, Van...</td>\n",
       "      <td>[Chocolate, Cinnamon Bun, Cookies &amp; Cream, Van...</td>\n",
       "      <td>[Chocolate, Cinnamon Bun, Cookies &amp; Cream, Van...</td>\n",
       "      <td>[Chocolate, Cinnamon Bun, Cookies &amp; Cream, Van...</td>\n",
       "      <td>[Lemon Lime, Strawberry Margarita, Orange Drea...</td>\n",
       "      <td>[Lemon Lime, Strawberry Margarita, Orange Drea...</td>\n",
       "      <td>[Lemon Lime, Strawberry Margarita, Orange Drea...</td>\n",
       "      <td>[Molten Chocolate, Cookies N' Cream, Whipped V...</td>\n",
       "      <td>[Molten Chocolate, Cookies N' Cream, Whipped V...</td>\n",
       "      <td>...</td>\n",
       "      <td>[Black Cherry Bomb, Rockin' Raz Lemonade - Exc...</td>\n",
       "      <td>[Black Cherry Bomb, Rockin' Raz Lemonade - Exc...</td>\n",
       "      <td>[Raspberry Lemonade, Bubble Gum, Furious Fruit...</td>\n",
       "      <td>[Raspberry Lemonade, Bubble Gum, Furious Fruit...</td>\n",
       "      <td>[Raspberry Lemonade, Bubble Gum, Furious Fruit...</td>\n",
       "      <td>[Raspberry Lemonade, Bubble Gum, Furious Fruit...</td>\n",
       "      <td>[Raspberry Lemonade, Bubble Gum, Furious Fruit...</td>\n",
       "      <td>[Raspberry Lemonade, Bubble Gum, Furious Fruit...</td>\n",
       "      <td>None</td>\n",
       "      <td>[Strawberry, Natural Vanilla, Cookies 'n' Crem...</td>\n",
       "    </tr>\n",
       "    <tr>\n",
       "      <th>totalVerifiedBuyers</th>\n",
       "      <td>205</td>\n",
       "      <td>205</td>\n",
       "      <td>205</td>\n",
       "      <td>205</td>\n",
       "      <td>205</td>\n",
       "      <td>1428</td>\n",
       "      <td>1428</td>\n",
       "      <td>1428</td>\n",
       "      <td>1346</td>\n",
       "      <td>1346</td>\n",
       "      <td>...</td>\n",
       "      <td>46</td>\n",
       "      <td>46</td>\n",
       "      <td>223</td>\n",
       "      <td>223</td>\n",
       "      <td>223</td>\n",
       "      <td>223</td>\n",
       "      <td>223</td>\n",
       "      <td>223</td>\n",
       "      <td>104</td>\n",
       "      <td>90</td>\n",
       "    </tr>\n",
       "    <tr>\n",
       "      <th>id</th>\n",
       "      <td>prod4300044</td>\n",
       "      <td>prod4300044</td>\n",
       "      <td>prod4300044</td>\n",
       "      <td>prod4300044</td>\n",
       "      <td>prod4300044</td>\n",
       "      <td>prod130042</td>\n",
       "      <td>prod130042</td>\n",
       "      <td>prod130042</td>\n",
       "      <td>prod1250016</td>\n",
       "      <td>prod1250016</td>\n",
       "      <td>...</td>\n",
       "      <td>prod440032</td>\n",
       "      <td>prod440032</td>\n",
       "      <td>27834</td>\n",
       "      <td>27834</td>\n",
       "      <td>27834</td>\n",
       "      <td>27834</td>\n",
       "      <td>27834</td>\n",
       "      <td>27834</td>\n",
       "      <td>24238</td>\n",
       "      <td>25445</td>\n",
       "    </tr>\n",
       "    <tr>\n",
       "      <th>verifiedBuyerRating</th>\n",
       "      <td>8.9</td>\n",
       "      <td>8.9</td>\n",
       "      <td>8.9</td>\n",
       "      <td>8.9</td>\n",
       "      <td>8.9</td>\n",
       "      <td>8.8</td>\n",
       "      <td>8.8</td>\n",
       "      <td>8.8</td>\n",
       "      <td>9</td>\n",
       "      <td>9</td>\n",
       "      <td>...</td>\n",
       "      <td>9.1</td>\n",
       "      <td>9.1</td>\n",
       "      <td>8.6</td>\n",
       "      <td>8.6</td>\n",
       "      <td>8.6</td>\n",
       "      <td>8.6</td>\n",
       "      <td>8.6</td>\n",
       "      <td>8.6</td>\n",
       "      <td>8.8</td>\n",
       "      <td>9.4</td>\n",
       "    </tr>\n",
       "    <tr>\n",
       "      <th>description</th>\n",
       "      <td>Packed with 25g of Low-fat, Low-calorie, &amp; Low...</td>\n",
       "      <td>Packed with 25g of Low-fat, Low-calorie, &amp; Low...</td>\n",
       "      <td>Packed with 25g of Low-fat, Low-calorie, &amp; Low...</td>\n",
       "      <td>Packed with 25g of Low-fat, Low-calorie, &amp; Low...</td>\n",
       "      <td>Packed with 25g of Low-fat, Low-calorie, &amp; Low...</td>\n",
       "      <td>Great Tasting Powder to Provide an Explosive S...</td>\n",
       "      <td>Great Tasting Powder to Provide an Explosive S...</td>\n",
       "      <td>Great Tasting Powder to Provide an Explosive S...</td>\n",
       "      <td>Great Tasting Protein with Minimal Fat and Car...</td>\n",
       "      <td>Great Tasting Protein with Minimal Fat and Car...</td>\n",
       "      <td>...</td>\n",
       "      <td>Strategically Enhanced BCAA Performance Supple...</td>\n",
       "      <td>Strategically Enhanced BCAA Performance Supple...</td>\n",
       "      <td>Preworkout Nitric Oxide and Energy Enhancer!*</td>\n",
       "      <td>Preworkout Nitric Oxide and Energy Enhancer!*</td>\n",
       "      <td>Preworkout Nitric Oxide and Energy Enhancer!*</td>\n",
       "      <td>Preworkout Nitric Oxide and Energy Enhancer!*</td>\n",
       "      <td>Preworkout Nitric Oxide and Energy Enhancer!*</td>\n",
       "      <td>Preworkout Nitric Oxide and Energy Enhancer!*</td>\n",
       "      <td>Support Testosterone Levels And Muscle Strength!*</td>\n",
       "      <td>Cross Flow Filtered Whey High In Branch Chain ...</td>\n",
       "    </tr>\n",
       "    <tr>\n",
       "      <th>totalVerifiedReviews</th>\n",
       "      <td>220</td>\n",
       "      <td>220</td>\n",
       "      <td>220</td>\n",
       "      <td>220</td>\n",
       "      <td>220</td>\n",
       "      <td>1510</td>\n",
       "      <td>1510</td>\n",
       "      <td>1510</td>\n",
       "      <td>1375</td>\n",
       "      <td>1375</td>\n",
       "      <td>...</td>\n",
       "      <td>51</td>\n",
       "      <td>51</td>\n",
       "      <td>255</td>\n",
       "      <td>255</td>\n",
       "      <td>255</td>\n",
       "      <td>255</td>\n",
       "      <td>255</td>\n",
       "      <td>255</td>\n",
       "      <td>109</td>\n",
       "      <td>94</td>\n",
       "    </tr>\n",
       "    <tr>\n",
       "      <th>imageLarge</th>\n",
       "      <td>http://store.bbcomcdn.com/images/store/prodima...</td>\n",
       "      <td>http://store.bbcomcdn.com/images/store/prodima...</td>\n",
       "      <td>http://store.bbcomcdn.com/images/store/prodima...</td>\n",
       "      <td>http://store.bbcomcdn.com/images/store/prodima...</td>\n",
       "      <td>http://store.bbcomcdn.com/images/store/prodima...</td>\n",
       "      <td>http://store.bbcomcdn.com/images/store/prodima...</td>\n",
       "      <td>http://store.bbcomcdn.com/images/store/prodima...</td>\n",
       "      <td>http://store.bbcomcdn.com/images/store/prodima...</td>\n",
       "      <td>http://store.bbcomcdn.com/images/store/prodima...</td>\n",
       "      <td>http://store.bbcomcdn.com/images/store/prodima...</td>\n",
       "      <td>...</td>\n",
       "      <td>http://store.bbcomcdn.com/images/store/prodima...</td>\n",
       "      <td>http://store.bbcomcdn.com/images/store/prodima...</td>\n",
       "      <td>http://store.bbcomcdn.com/images/store/prodima...</td>\n",
       "      <td>http://store.bbcomcdn.com/images/store/prodima...</td>\n",
       "      <td>http://store.bbcomcdn.com/images/store/prodima...</td>\n",
       "      <td>http://store.bbcomcdn.com/images/store/prodima...</td>\n",
       "      <td>http://store.bbcomcdn.com/images/store/prodima...</td>\n",
       "      <td>http://store.bbcomcdn.com/images/store/prodima...</td>\n",
       "      <td>http://store.bbcomcdn.com/images/store/prodima...</td>\n",
       "      <td>http://store.bbcomcdn.com/images/store/prodima...</td>\n",
       "    </tr>\n",
       "    <tr>\n",
       "      <th>name</th>\n",
       "      <td>100% Whey Power</td>\n",
       "      <td>100% Whey Power</td>\n",
       "      <td>100% Whey Power</td>\n",
       "      <td>100% Whey Power</td>\n",
       "      <td>100% Whey Power</td>\n",
       "      <td>C4</td>\n",
       "      <td>C4</td>\n",
       "      <td>C4</td>\n",
       "      <td>COR-Performance Whey</td>\n",
       "      <td>COR-Performance Whey</td>\n",
       "      <td>...</td>\n",
       "      <td>Atomic 7</td>\n",
       "      <td>Atomic 7</td>\n",
       "      <td>White Flood</td>\n",
       "      <td>White Flood</td>\n",
       "      <td>White Flood</td>\n",
       "      <td>White Flood</td>\n",
       "      <td>White Flood</td>\n",
       "      <td>White Flood</td>\n",
       "      <td>ZMA</td>\n",
       "      <td>Whey Protein Isolate</td>\n",
       "    </tr>\n",
       "    <tr>\n",
       "      <th>imageSmall</th>\n",
       "      <td>http://store.bbcomcdn.com/images/store/prodima...</td>\n",
       "      <td>http://store.bbcomcdn.com/images/store/prodima...</td>\n",
       "      <td>http://store.bbcomcdn.com/images/store/prodima...</td>\n",
       "      <td>http://store.bbcomcdn.com/images/store/prodima...</td>\n",
       "      <td>http://store.bbcomcdn.com/images/store/prodima...</td>\n",
       "      <td>http://store.bbcomcdn.com/images/store/prodima...</td>\n",
       "      <td>http://store.bbcomcdn.com/images/store/prodima...</td>\n",
       "      <td>http://store.bbcomcdn.com/images/store/prodima...</td>\n",
       "      <td>http://store.bbcomcdn.com/images/store/prodima...</td>\n",
       "      <td>http://store.bbcomcdn.com/images/store/prodima...</td>\n",
       "      <td>...</td>\n",
       "      <td>http://store.bbcomcdn.com/images/store/prodima...</td>\n",
       "      <td>http://store.bbcomcdn.com/images/store/prodima...</td>\n",
       "      <td>http://store.bbcomcdn.com/images/store/prodima...</td>\n",
       "      <td>http://store.bbcomcdn.com/images/store/prodima...</td>\n",
       "      <td>http://store.bbcomcdn.com/images/store/prodima...</td>\n",
       "      <td>http://store.bbcomcdn.com/images/store/prodima...</td>\n",
       "      <td>http://store.bbcomcdn.com/images/store/prodima...</td>\n",
       "      <td>http://store.bbcomcdn.com/images/store/prodima...</td>\n",
       "      <td>http://store.bbcomcdn.com/images/store/prodima...</td>\n",
       "      <td>http://store.bbcomcdn.com/images/store/prodima...</td>\n",
       "    </tr>\n",
       "    <tr>\n",
       "      <th>url</th>\n",
       "      <td>http://www.bodybuilding.com/store/bodybuilding...</td>\n",
       "      <td>http://www.bodybuilding.com/store/bodybuilding...</td>\n",
       "      <td>http://www.bodybuilding.com/store/bodybuilding...</td>\n",
       "      <td>http://www.bodybuilding.com/store/bodybuilding...</td>\n",
       "      <td>http://www.bodybuilding.com/store/bodybuilding...</td>\n",
       "      <td>http://www.bodybuilding.com/store/cellucor/c4....</td>\n",
       "      <td>http://www.bodybuilding.com/store/cellucor/c4....</td>\n",
       "      <td>http://www.bodybuilding.com/store/cellucor/c4....</td>\n",
       "      <td>http://www.bodybuilding.com/store/cellucor/cor...</td>\n",
       "      <td>http://www.bodybuilding.com/store/cellucor/cor...</td>\n",
       "      <td>...</td>\n",
       "      <td>http://www.bodybuilding.com/store/univ/atomic-...</td>\n",
       "      <td>http://www.bodybuilding.com/store/univ/atomic-...</td>\n",
       "      <td>http://www.bodybuilding.com/store/clabs/flood....</td>\n",
       "      <td>http://www.bodybuilding.com/store/clabs/flood....</td>\n",
       "      <td>http://www.bodybuilding.com/store/clabs/flood....</td>\n",
       "      <td>http://www.bodybuilding.com/store/clabs/flood....</td>\n",
       "      <td>http://www.bodybuilding.com/store/clabs/flood....</td>\n",
       "      <td>http://www.bodybuilding.com/store/clabs/flood....</td>\n",
       "      <td>http://www.bodybuilding.com/store/opt/zma.html</td>\n",
       "      <td>http://www.bodybuilding.com/store/now/whey.html</td>\n",
       "    </tr>\n",
       "    <tr>\n",
       "      <th>brandName</th>\n",
       "      <td>Bodybuilding.com Foundation Series</td>\n",
       "      <td>Bodybuilding.com Foundation Series</td>\n",
       "      <td>Bodybuilding.com Foundation Series</td>\n",
       "      <td>Bodybuilding.com Foundation Series</td>\n",
       "      <td>Bodybuilding.com Foundation Series</td>\n",
       "      <td>Cellucor</td>\n",
       "      <td>Cellucor</td>\n",
       "      <td>Cellucor</td>\n",
       "      <td>Cellucor</td>\n",
       "      <td>Cellucor</td>\n",
       "      <td>...</td>\n",
       "      <td>Universal Nutrition</td>\n",
       "      <td>Universal Nutrition</td>\n",
       "      <td>Controlled Labs</td>\n",
       "      <td>Controlled Labs</td>\n",
       "      <td>Controlled Labs</td>\n",
       "      <td>Controlled Labs</td>\n",
       "      <td>Controlled Labs</td>\n",
       "      <td>Controlled Labs</td>\n",
       "      <td>Optimum Nutrition</td>\n",
       "      <td>NOW</td>\n",
       "    </tr>\n",
       "    <tr>\n",
       "      <th>reviewUrl</th>\n",
       "      <td>http://reviews.bodybuilding.com/Bodybuildingco...</td>\n",
       "      <td>http://reviews.bodybuilding.com/Bodybuildingco...</td>\n",
       "      <td>http://reviews.bodybuilding.com/Bodybuildingco...</td>\n",
       "      <td>http://reviews.bodybuilding.com/Bodybuildingco...</td>\n",
       "      <td>http://reviews.bodybuilding.com/Bodybuildingco...</td>\n",
       "      <td>http://reviews.bodybuilding.com/Cellucor/C4_Ex...</td>\n",
       "      <td>http://reviews.bodybuilding.com/Cellucor/C4_Ex...</td>\n",
       "      <td>http://reviews.bodybuilding.com/Cellucor/C4_Ex...</td>\n",
       "      <td>http://reviews.bodybuilding.com/Cellucor/CORPe...</td>\n",
       "      <td>http://reviews.bodybuilding.com/Cellucor/CORPe...</td>\n",
       "      <td>...</td>\n",
       "      <td>http://reviews.bodybuilding.com/Universal_Nutr...</td>\n",
       "      <td>http://reviews.bodybuilding.com/Universal_Nutr...</td>\n",
       "      <td>http://reviews.bodybuilding.com/Controlled_Lab...</td>\n",
       "      <td>http://reviews.bodybuilding.com/Controlled_Lab...</td>\n",
       "      <td>http://reviews.bodybuilding.com/Controlled_Lab...</td>\n",
       "      <td>http://reviews.bodybuilding.com/Controlled_Lab...</td>\n",
       "      <td>http://reviews.bodybuilding.com/Controlled_Lab...</td>\n",
       "      <td>http://reviews.bodybuilding.com/Controlled_Lab...</td>\n",
       "      <td>http://reviews.bodybuilding.com/Optimum/ZMA/</td>\n",
       "      <td>http://reviews.bodybuilding.com/NOW/Whey_Prote...</td>\n",
       "    </tr>\n",
       "    <tr>\n",
       "      <th>weight</th>\n",
       "      <td>190.0</td>\n",
       "      <td>195.0</td>\n",
       "      <td>190.0</td>\n",
       "      <td>169.0</td>\n",
       "      <td>246.4</td>\n",
       "      <td>214.0</td>\n",
       "      <td>245.0</td>\n",
       "      <td>150.0</td>\n",
       "      <td>202.5</td>\n",
       "      <td>154.0</td>\n",
       "      <td>...</td>\n",
       "      <td>167.0</td>\n",
       "      <td>202.0</td>\n",
       "      <td>261.0</td>\n",
       "      <td>None</td>\n",
       "      <td>None</td>\n",
       "      <td>155.0</td>\n",
       "      <td>205.0</td>\n",
       "      <td>184.0</td>\n",
       "      <td>175.0</td>\n",
       "      <td>None</td>\n",
       "    </tr>\n",
       "    <tr>\n",
       "      <th>bodyfat</th>\n",
       "      <td>None</td>\n",
       "      <td>15.0</td>\n",
       "      <td>11.9</td>\n",
       "      <td>12.0</td>\n",
       "      <td>35.0</td>\n",
       "      <td>14.5</td>\n",
       "      <td>30.0</td>\n",
       "      <td>26.7</td>\n",
       "      <td>8.0</td>\n",
       "      <td>9.0</td>\n",
       "      <td>...</td>\n",
       "      <td>11.1</td>\n",
       "      <td>18.0</td>\n",
       "      <td>30.0</td>\n",
       "      <td>None</td>\n",
       "      <td>None</td>\n",
       "      <td>11.0</td>\n",
       "      <td>17.0</td>\n",
       "      <td>11.0</td>\n",
       "      <td>3.1</td>\n",
       "      <td>None</td>\n",
       "    </tr>\n",
       "    <tr>\n",
       "      <th>height</th>\n",
       "      <td>None</td>\n",
       "      <td>72.0</td>\n",
       "      <td>71.0</td>\n",
       "      <td>71.0</td>\n",
       "      <td>70.0</td>\n",
       "      <td>74.0</td>\n",
       "      <td>72.0</td>\n",
       "      <td>63.0</td>\n",
       "      <td>74.0</td>\n",
       "      <td>None</td>\n",
       "      <td>...</td>\n",
       "      <td>71.0</td>\n",
       "      <td>68.0</td>\n",
       "      <td>74.0</td>\n",
       "      <td>None</td>\n",
       "      <td>76.5</td>\n",
       "      <td>69.0</td>\n",
       "      <td>67.0</td>\n",
       "      <td>69.5</td>\n",
       "      <td>73.0</td>\n",
       "      <td>None</td>\n",
       "    </tr>\n",
       "    <tr>\n",
       "      <th>profilePicPath</th>\n",
       "      <td>http://assets.bodybuilding.com/images/profiled...</td>\n",
       "      <td>http://imagecdn.bodybuilding.com/profile-photo...</td>\n",
       "      <td>http://imagecdn.bodybuilding.com/profile-photo...</td>\n",
       "      <td>http://imagecdn.bodybuilding.com/profile-photo...</td>\n",
       "      <td>http://assets.bodybuilding.com/images/profiled...</td>\n",
       "      <td>http://imagecdn.bodybuilding.com/profile-photo...</td>\n",
       "      <td>http://imagecdn.bodybuilding.com/profile-photo...</td>\n",
       "      <td>http://imagecdn.bodybuilding.com/profile-photo...</td>\n",
       "      <td>http://imagecdn.bodybuilding.com/profile-photo...</td>\n",
       "      <td>http://assets.bodybuilding.com/images/profiled...</td>\n",
       "      <td>...</td>\n",
       "      <td>http://imagecdn.bodybuilding.com/profile-photo...</td>\n",
       "      <td>http://assets.bodybuilding.com/images/profiled...</td>\n",
       "      <td>http://assets.bodybuilding.com/images/profiled...</td>\n",
       "      <td>http://imagecdn.bodybuilding.com/profile-photo...</td>\n",
       "      <td>http://imagecdn.bodybuilding.com/profile-photo...</td>\n",
       "      <td>http://assets.bodybuilding.com/images/profiled...</td>\n",
       "      <td>http://imagecdn.bodybuilding.com/profile-photo...</td>\n",
       "      <td>http://imagecdn.bodybuilding.com/profile-photo...</td>\n",
       "      <td>http://assets.bodybuilding.com/images/profiled...</td>\n",
       "      <td>http://assets.bodybuilding.com/images/profiled...</td>\n",
       "    </tr>\n",
       "    <tr>\n",
       "      <th>ratings</th>\n",
       "      <td>[{u'rating': 8.5, u'flavor': u'Chocolate', u't...</td>\n",
       "      <td>[{u'rating': 8.5, u'flavor': u'Chocolate', u't...</td>\n",
       "      <td>[{u'rating': 8.5, u'flavor': u'Chocolate', u't...</td>\n",
       "      <td>[{u'rating': 8.5, u'flavor': u'Chocolate', u't...</td>\n",
       "      <td>[{u'rating': 8.5, u'flavor': u'Chocolate', u't...</td>\n",
       "      <td>[{u'rating': 8.9, u'flavor': u'Watermelon', u'...</td>\n",
       "      <td>[{u'rating': 8.9, u'flavor': u'Watermelon', u'...</td>\n",
       "      <td>[{u'rating': 8.9, u'flavor': u'Watermelon', u'...</td>\n",
       "      <td>[{u'rating': 8.4, u'flavor': u'Whipped Vanilla...</td>\n",
       "      <td>[{u'rating': 8.4, u'flavor': u'Whipped Vanilla...</td>\n",
       "      <td>...</td>\n",
       "      <td>[{u'rating': 8.6, u'flavor': u'Lectric Lemon L...</td>\n",
       "      <td>[{u'rating': 8.6, u'flavor': u'Lectric Lemon L...</td>\n",
       "      <td>[{u'rating': 9.2, u'flavor': u'Raspberry Lemon...</td>\n",
       "      <td>[{u'rating': 9.2, u'flavor': u'Raspberry Lemon...</td>\n",
       "      <td>[{u'rating': 9.2, u'flavor': u'Raspberry Lemon...</td>\n",
       "      <td>[{u'rating': 9.2, u'flavor': u'Raspberry Lemon...</td>\n",
       "      <td>[{u'rating': 9.2, u'flavor': u'Raspberry Lemon...</td>\n",
       "      <td>[{u'rating': 9.2, u'flavor': u'Raspberry Lemon...</td>\n",
       "      <td>[]</td>\n",
       "      <td>[{u'rating': 8.3, u'flavor': u'Natural Unflavo...</td>\n",
       "    </tr>\n",
       "    <tr>\n",
       "      <th>rating</th>\n",
       "      <td>6.5</td>\n",
       "      <td>8.5</td>\n",
       "      <td>8.5</td>\n",
       "      <td>9.5</td>\n",
       "      <td>3.5</td>\n",
       "      <td>9.5</td>\n",
       "      <td>9.25</td>\n",
       "      <td>9.5</td>\n",
       "      <td>9.66667</td>\n",
       "      <td>7.5</td>\n",
       "      <td>...</td>\n",
       "      <td>8.5</td>\n",
       "      <td>9.25</td>\n",
       "      <td>5.5</td>\n",
       "      <td>9.5</td>\n",
       "      <td>8.33333</td>\n",
       "      <td>9.5</td>\n",
       "      <td>8.5</td>\n",
       "      <td>9.5</td>\n",
       "      <td>8.5</td>\n",
       "      <td>9.5</td>\n",
       "    </tr>\n",
       "  </tbody>\n",
       "</table>\n",
       "<p>37 rows × 125 columns</p>\n",
       "</div>"
      ],
      "text/plain": [
       "                                                                  1863   \\\n",
       "totalItems                                                          214   \n",
       "overallRating                                                       8.5   \n",
       "helpful                                                               0   \n",
       "totalRatings                                                          4   \n",
       "helpfulTotal                                                          0   \n",
       "username                                                      unnefer88   \n",
       "_id                                            51a7c76f0cf23b2043027d5f   \n",
       "title                                                              None   \n",
       "text                                                        smelly ****   \n",
       "brandId                                                       cat200002   \n",
       "modDate                              {u'$numberLong': u'1376083423000'}   \n",
       "date                                 {u'$numberLong': u'1352770622000'}   \n",
       "entityId                                      productreview-prod4300044   \n",
       "updateStatusReason                                                 None   \n",
       "slug                                                          unnefer88   \n",
       "userId                                                         41704992   \n",
       "productId                                                   prod4300044   \n",
       "imageMedium           http://store.bbcomcdn.com/images/store/prodima...   \n",
       "totalReviews                                                        340   \n",
       "flavorList            [Chocolate, Cinnamon Bun, Cookies & Cream, Van...   \n",
       "totalVerifiedBuyers                                                 205   \n",
       "id                                                          prod4300044   \n",
       "verifiedBuyerRating                                                 8.9   \n",
       "description           Packed with 25g of Low-fat, Low-calorie, & Low...   \n",
       "totalVerifiedReviews                                                220   \n",
       "imageLarge            http://store.bbcomcdn.com/images/store/prodima...   \n",
       "name                                                    100% Whey Power   \n",
       "imageSmall            http://store.bbcomcdn.com/images/store/prodima...   \n",
       "url                   http://www.bodybuilding.com/store/bodybuilding...   \n",
       "brandName                            Bodybuilding.com Foundation Series   \n",
       "reviewUrl             http://reviews.bodybuilding.com/Bodybuildingco...   \n",
       "weight                                                            190.0   \n",
       "bodyfat                                                            None   \n",
       "height                                                             None   \n",
       "profilePicPath        http://assets.bodybuilding.com/images/profiled...   \n",
       "ratings               [{u'rating': 8.5, u'flavor': u'Chocolate', u't...   \n",
       "rating                                                              6.5   \n",
       "\n",
       "                                                                  1893   \\\n",
       "totalItems                                                          214   \n",
       "overallRating                                                       8.5   \n",
       "helpful                                                               0   \n",
       "totalRatings                                                          4   \n",
       "helpfulTotal                                                          0   \n",
       "username                                                         RaneyR   \n",
       "_id                                            51a7c7730cf23b2043037a8d   \n",
       "title                                                              None   \n",
       "text                  VERY DISAPPOINTING. The Cookies and Cream tast...   \n",
       "brandId                                                       cat200002   \n",
       "modDate                              {u'$numberLong': u'1376087344000'}   \n",
       "date                                 {u'$numberLong': u'1342043013000'}   \n",
       "entityId                                      productreview-prod4300044   \n",
       "updateStatusReason                                                 None   \n",
       "slug                                                             RaneyR   \n",
       "userId                                                         23140361   \n",
       "productId                                                   prod4300044   \n",
       "imageMedium           http://store.bbcomcdn.com/images/store/prodima...   \n",
       "totalReviews                                                        340   \n",
       "flavorList            [Chocolate, Cinnamon Bun, Cookies & Cream, Van...   \n",
       "totalVerifiedBuyers                                                 205   \n",
       "id                                                          prod4300044   \n",
       "verifiedBuyerRating                                                 8.9   \n",
       "description           Packed with 25g of Low-fat, Low-calorie, & Low...   \n",
       "totalVerifiedReviews                                                220   \n",
       "imageLarge            http://store.bbcomcdn.com/images/store/prodima...   \n",
       "name                                                    100% Whey Power   \n",
       "imageSmall            http://store.bbcomcdn.com/images/store/prodima...   \n",
       "url                   http://www.bodybuilding.com/store/bodybuilding...   \n",
       "brandName                            Bodybuilding.com Foundation Series   \n",
       "reviewUrl             http://reviews.bodybuilding.com/Bodybuildingco...   \n",
       "weight                                                            195.0   \n",
       "bodyfat                                                            15.0   \n",
       "height                                                             72.0   \n",
       "profilePicPath        http://imagecdn.bodybuilding.com/profile-photo...   \n",
       "ratings               [{u'rating': 8.5, u'flavor': u'Chocolate', u't...   \n",
       "rating                                                              8.5   \n",
       "\n",
       "                                                                  1915   \\\n",
       "totalItems                                                          214   \n",
       "overallRating                                                       8.5   \n",
       "helpful                                                               0   \n",
       "totalRatings                                                          4   \n",
       "helpfulTotal                                                          0   \n",
       "username                                                     Regyptphrh   \n",
       "_id                                            51a7c7730cf23b2043034aeb   \n",
       "title                                                              None   \n",
       "text                                  Please add more flavers to 10 LBS   \n",
       "brandId                                                       cat200002   \n",
       "modDate                              {u'$numberLong': u'1376086577000'}   \n",
       "date                                 {u'$numberLong': u'1332625921000'}   \n",
       "entityId                                      productreview-prod4300044   \n",
       "updateStatusReason                                                 None   \n",
       "slug                                                         Regyptphrh   \n",
       "userId                                                         17184952   \n",
       "productId                                                   prod4300044   \n",
       "imageMedium           http://store.bbcomcdn.com/images/store/prodima...   \n",
       "totalReviews                                                        340   \n",
       "flavorList            [Chocolate, Cinnamon Bun, Cookies & Cream, Van...   \n",
       "totalVerifiedBuyers                                                 205   \n",
       "id                                                          prod4300044   \n",
       "verifiedBuyerRating                                                 8.9   \n",
       "description           Packed with 25g of Low-fat, Low-calorie, & Low...   \n",
       "totalVerifiedReviews                                                220   \n",
       "imageLarge            http://store.bbcomcdn.com/images/store/prodima...   \n",
       "name                                                    100% Whey Power   \n",
       "imageSmall            http://store.bbcomcdn.com/images/store/prodima...   \n",
       "url                   http://www.bodybuilding.com/store/bodybuilding...   \n",
       "brandName                            Bodybuilding.com Foundation Series   \n",
       "reviewUrl             http://reviews.bodybuilding.com/Bodybuildingco...   \n",
       "weight                                                            190.0   \n",
       "bodyfat                                                            11.9   \n",
       "height                                                             71.0   \n",
       "profilePicPath        http://imagecdn.bodybuilding.com/profile-photo...   \n",
       "ratings               [{u'rating': 8.5, u'flavor': u'Chocolate', u't...   \n",
       "rating                                                              8.5   \n",
       "\n",
       "                                                                  1934   \\\n",
       "totalItems                                                          214   \n",
       "overallRating                                                       8.5   \n",
       "helpful                                                               0   \n",
       "totalRatings                                                          4   \n",
       "helpfulTotal                                                          0   \n",
       "username                                                  deathbirthday   \n",
       "_id                                            51a7c76e0cf23b2043021d96   \n",
       "title                                                              None   \n",
       "text                  I used it right after work outs and as a meal ...   \n",
       "brandId                                                       cat200002   \n",
       "modDate                              {u'$numberLong': u'1376081929000'}   \n",
       "date                                 {u'$numberLong': u'1327983520000'}   \n",
       "entityId                                      productreview-prod4300044   \n",
       "updateStatusReason                                                 None   \n",
       "slug                                                      deathbirthday   \n",
       "userId                                                         46642901   \n",
       "productId                                                   prod4300044   \n",
       "imageMedium           http://store.bbcomcdn.com/images/store/prodima...   \n",
       "totalReviews                                                        340   \n",
       "flavorList            [Chocolate, Cinnamon Bun, Cookies & Cream, Van...   \n",
       "totalVerifiedBuyers                                                 205   \n",
       "id                                                          prod4300044   \n",
       "verifiedBuyerRating                                                 8.9   \n",
       "description           Packed with 25g of Low-fat, Low-calorie, & Low...   \n",
       "totalVerifiedReviews                                                220   \n",
       "imageLarge            http://store.bbcomcdn.com/images/store/prodima...   \n",
       "name                                                    100% Whey Power   \n",
       "imageSmall            http://store.bbcomcdn.com/images/store/prodima...   \n",
       "url                   http://www.bodybuilding.com/store/bodybuilding...   \n",
       "brandName                            Bodybuilding.com Foundation Series   \n",
       "reviewUrl             http://reviews.bodybuilding.com/Bodybuildingco...   \n",
       "weight                                                            169.0   \n",
       "bodyfat                                                            12.0   \n",
       "height                                                             71.0   \n",
       "profilePicPath        http://imagecdn.bodybuilding.com/profile-photo...   \n",
       "ratings               [{u'rating': 8.5, u'flavor': u'Chocolate', u't...   \n",
       "rating                                                              9.5   \n",
       "\n",
       "                                                                  1956   \\\n",
       "totalItems                                                          214   \n",
       "overallRating                                                       8.5   \n",
       "helpful                                                               0   \n",
       "totalRatings                                                          4   \n",
       "helpfulTotal                                                          0   \n",
       "username                                                spaceballsrules   \n",
       "_id                                            51a7c76c0cf23b204301f451   \n",
       "title                                                              None   \n",
       "text                  Macros are great. Price is outstanding.\\r The ...   \n",
       "brandId                                                       cat200002   \n",
       "modDate                              {u'$numberLong': u'1376081285000'}   \n",
       "date                                 {u'$numberLong': u'1325088108000'}   \n",
       "entityId                                      productreview-prod4300044   \n",
       "updateStatusReason                                                 None   \n",
       "slug                                                    spaceballsrules   \n",
       "userId                                                         31497052   \n",
       "productId                                                   prod4300044   \n",
       "imageMedium           http://store.bbcomcdn.com/images/store/prodima...   \n",
       "totalReviews                                                        340   \n",
       "flavorList            [Chocolate, Cinnamon Bun, Cookies & Cream, Van...   \n",
       "totalVerifiedBuyers                                                 205   \n",
       "id                                                          prod4300044   \n",
       "verifiedBuyerRating                                                 8.9   \n",
       "description           Packed with 25g of Low-fat, Low-calorie, & Low...   \n",
       "totalVerifiedReviews                                                220   \n",
       "imageLarge            http://store.bbcomcdn.com/images/store/prodima...   \n",
       "name                                                    100% Whey Power   \n",
       "imageSmall            http://store.bbcomcdn.com/images/store/prodima...   \n",
       "url                   http://www.bodybuilding.com/store/bodybuilding...   \n",
       "brandName                            Bodybuilding.com Foundation Series   \n",
       "reviewUrl             http://reviews.bodybuilding.com/Bodybuildingco...   \n",
       "weight                                                            246.4   \n",
       "bodyfat                                                            35.0   \n",
       "height                                                             70.0   \n",
       "profilePicPath        http://assets.bodybuilding.com/images/profiled...   \n",
       "ratings               [{u'rating': 8.5, u'flavor': u'Chocolate', u't...   \n",
       "rating                                                              3.5   \n",
       "\n",
       "                                                                  4485   \\\n",
       "totalItems                                                         1408   \n",
       "overallRating                                                       8.8   \n",
       "helpful                                                               0   \n",
       "totalRatings                                                         13   \n",
       "helpfulTotal                                                          0   \n",
       "username                                                        dking88   \n",
       "_id                                            51a7c7740cf23b204303905d   \n",
       "title                                                              None   \n",
       "text                  I have been using C4 for about 2 years now, an...   \n",
       "brandId                                                  BRAND_CELLUCOR   \n",
       "modDate                              {u'$numberLong': u'1376087690000'}   \n",
       "date                                 {u'$numberLong': u'1366669622000'}   \n",
       "entityId                                       productreview-prod130042   \n",
       "updateStatusReason                                                 None   \n",
       "slug                                                            dking88   \n",
       "userId                                                         39924102   \n",
       "productId                                                    prod130042   \n",
       "imageMedium           http://store.bbcomcdn.com/images/store/prodima...   \n",
       "totalReviews                                                       4341   \n",
       "flavorList            [Lemon Lime, Strawberry Margarita, Orange Drea...   \n",
       "totalVerifiedBuyers                                                1428   \n",
       "id                                                           prod130042   \n",
       "verifiedBuyerRating                                                 8.8   \n",
       "description           Great Tasting Powder to Provide an Explosive S...   \n",
       "totalVerifiedReviews                                               1510   \n",
       "imageLarge            http://store.bbcomcdn.com/images/store/prodima...   \n",
       "name                                                                 C4   \n",
       "imageSmall            http://store.bbcomcdn.com/images/store/prodima...   \n",
       "url                   http://www.bodybuilding.com/store/cellucor/c4....   \n",
       "brandName                                                      Cellucor   \n",
       "reviewUrl             http://reviews.bodybuilding.com/Cellucor/C4_Ex...   \n",
       "weight                                                            214.0   \n",
       "bodyfat                                                            14.5   \n",
       "height                                                             74.0   \n",
       "profilePicPath        http://imagecdn.bodybuilding.com/profile-photo...   \n",
       "ratings               [{u'rating': 8.9, u'flavor': u'Watermelon', u'...   \n",
       "rating                                                              9.5   \n",
       "\n",
       "                                                                  5014   \\\n",
       "totalItems                                                         1408   \n",
       "overallRating                                                       8.8   \n",
       "helpful                                                               0   \n",
       "totalRatings                                                         13   \n",
       "helpfulTotal                                                          0   \n",
       "username                                                      youngkang   \n",
       "_id                                            51a7c76e0cf23b2043022504   \n",
       "title                                                              None   \n",
       "text                  Good stuff! Clean energy with a good amount of...   \n",
       "brandId                                                  BRAND_CELLUCOR   \n",
       "modDate                              {u'$numberLong': u'1376082049000'}   \n",
       "date                                 {u'$numberLong': u'1300337954000'}   \n",
       "entityId                                       productreview-prod130042   \n",
       "updateStatusReason                                                 None   \n",
       "slug                                                          youngkang   \n",
       "userId                                                         16935452   \n",
       "productId                                                    prod130042   \n",
       "imageMedium           http://store.bbcomcdn.com/images/store/prodima...   \n",
       "totalReviews                                                       4341   \n",
       "flavorList            [Lemon Lime, Strawberry Margarita, Orange Drea...   \n",
       "totalVerifiedBuyers                                                1428   \n",
       "id                                                           prod130042   \n",
       "verifiedBuyerRating                                                 8.8   \n",
       "description           Great Tasting Powder to Provide an Explosive S...   \n",
       "totalVerifiedReviews                                               1510   \n",
       "imageLarge            http://store.bbcomcdn.com/images/store/prodima...   \n",
       "name                                                                 C4   \n",
       "imageSmall            http://store.bbcomcdn.com/images/store/prodima...   \n",
       "url                   http://www.bodybuilding.com/store/cellucor/c4....   \n",
       "brandName                                                      Cellucor   \n",
       "reviewUrl             http://reviews.bodybuilding.com/Cellucor/C4_Ex...   \n",
       "weight                                                            245.0   \n",
       "bodyfat                                                            30.0   \n",
       "height                                                             72.0   \n",
       "profilePicPath        http://imagecdn.bodybuilding.com/profile-photo...   \n",
       "ratings               [{u'rating': 8.9, u'flavor': u'Watermelon', u'...   \n",
       "rating                                                             9.25   \n",
       "\n",
       "                                                                  5020   \\\n",
       "totalItems                                                         1408   \n",
       "overallRating                                                       8.8   \n",
       "helpful                                                               0   \n",
       "totalRatings                                                         13   \n",
       "helpfulTotal                                                          0   \n",
       "username                                                        g-tasha   \n",
       "_id                                            51a7c7720cf23b2043030f89   \n",
       "title                                                              None   \n",
       "text                  I'm taking 2 scoops in the am before my workou...   \n",
       "brandId                                                  BRAND_CELLUCOR   \n",
       "modDate                              {u'$numberLong': u'1376085698000'}   \n",
       "date                                 {u'$numberLong': u'1298725792000'}   \n",
       "entityId                                       productreview-prod130042   \n",
       "updateStatusReason                                                 None   \n",
       "slug                                                            g-tasha   \n",
       "userId                                                         19819242   \n",
       "productId                                                    prod130042   \n",
       "imageMedium           http://store.bbcomcdn.com/images/store/prodima...   \n",
       "totalReviews                                                       4341   \n",
       "flavorList            [Lemon Lime, Strawberry Margarita, Orange Drea...   \n",
       "totalVerifiedBuyers                                                1428   \n",
       "id                                                           prod130042   \n",
       "verifiedBuyerRating                                                 8.8   \n",
       "description           Great Tasting Powder to Provide an Explosive S...   \n",
       "totalVerifiedReviews                                               1510   \n",
       "imageLarge            http://store.bbcomcdn.com/images/store/prodima...   \n",
       "name                                                                 C4   \n",
       "imageSmall            http://store.bbcomcdn.com/images/store/prodima...   \n",
       "url                   http://www.bodybuilding.com/store/cellucor/c4....   \n",
       "brandName                                                      Cellucor   \n",
       "reviewUrl             http://reviews.bodybuilding.com/Cellucor/C4_Ex...   \n",
       "weight                                                            150.0   \n",
       "bodyfat                                                            26.7   \n",
       "height                                                             63.0   \n",
       "profilePicPath        http://imagecdn.bodybuilding.com/profile-photo...   \n",
       "ratings               [{u'rating': 8.9, u'flavor': u'Watermelon', u'...   \n",
       "rating                                                              9.5   \n",
       "\n",
       "                                                                  5269   \\\n",
       "totalItems                                                         1321   \n",
       "overallRating                                                       8.5   \n",
       "helpful                                                               1   \n",
       "totalRatings                                                          8   \n",
       "helpfulTotal                                                          1   \n",
       "username                                                        LXA1150   \n",
       "_id                                            51a7c76e0cf23b2043024543   \n",
       "title                                                                     \n",
       "text                  I got a chance to review Cellucor's new Chocol...   \n",
       "brandId                                                  BRAND_CELLUCOR   \n",
       "modDate                              {u'$numberLong': u'1467309576000'}   \n",
       "date                                 {u'$numberLong': u'1467309576000'}   \n",
       "entityId                                      productreview-prod1250016   \n",
       "updateStatusReason                                                 None   \n",
       "slug                                                            LXA1150   \n",
       "userId                                                         42595012   \n",
       "productId                                                   prod1250016   \n",
       "imageMedium           http://store.bbcomcdn.com/images/store/prodima...   \n",
       "totalReviews                                                       1895   \n",
       "flavorList            [Molten Chocolate, Cookies N' Cream, Whipped V...   \n",
       "totalVerifiedBuyers                                                1346   \n",
       "id                                                          prod1250016   \n",
       "verifiedBuyerRating                                                   9   \n",
       "description           Great Tasting Protein with Minimal Fat and Car...   \n",
       "totalVerifiedReviews                                               1375   \n",
       "imageLarge            http://store.bbcomcdn.com/images/store/prodima...   \n",
       "name                                               COR-Performance Whey   \n",
       "imageSmall            http://store.bbcomcdn.com/images/store/prodima...   \n",
       "url                   http://www.bodybuilding.com/store/cellucor/cor...   \n",
       "brandName                                                      Cellucor   \n",
       "reviewUrl             http://reviews.bodybuilding.com/Cellucor/CORPe...   \n",
       "weight                                                            202.5   \n",
       "bodyfat                                                             8.0   \n",
       "height                                                             74.0   \n",
       "profilePicPath        http://imagecdn.bodybuilding.com/profile-photo...   \n",
       "ratings               [{u'rating': 8.4, u'flavor': u'Whipped Vanilla...   \n",
       "rating                                                          9.66667   \n",
       "\n",
       "                                                                  6445   \\\n",
       "totalItems                                                         1321   \n",
       "overallRating                                                       8.5   \n",
       "helpful                                                               0   \n",
       "totalRatings                                                          8   \n",
       "helpfulTotal                                                          0   \n",
       "username                                                      garick111   \n",
       "_id                                            51a7c7720cf23b204302b6e4   \n",
       "title                                                              None   \n",
       "text                                                                      \n",
       "brandId                                                  BRAND_CELLUCOR   \n",
       "modDate                              {u'$numberLong': u'1376084318000'}   \n",
       "date                                 {u'$numberLong': u'1368525365000'}   \n",
       "entityId                                      productreview-prod1250016   \n",
       "updateStatusReason                                                 None   \n",
       "slug                                                          garick111   \n",
       "userId                                                         62571662   \n",
       "productId                                                   prod1250016   \n",
       "imageMedium           http://store.bbcomcdn.com/images/store/prodima...   \n",
       "totalReviews                                                       1895   \n",
       "flavorList            [Molten Chocolate, Cookies N' Cream, Whipped V...   \n",
       "totalVerifiedBuyers                                                1346   \n",
       "id                                                          prod1250016   \n",
       "verifiedBuyerRating                                                   9   \n",
       "description           Great Tasting Protein with Minimal Fat and Car...   \n",
       "totalVerifiedReviews                                               1375   \n",
       "imageLarge            http://store.bbcomcdn.com/images/store/prodima...   \n",
       "name                                               COR-Performance Whey   \n",
       "imageSmall            http://store.bbcomcdn.com/images/store/prodima...   \n",
       "url                   http://www.bodybuilding.com/store/cellucor/cor...   \n",
       "brandName                                                      Cellucor   \n",
       "reviewUrl             http://reviews.bodybuilding.com/Cellucor/CORPe...   \n",
       "weight                                                            154.0   \n",
       "bodyfat                                                             9.0   \n",
       "height                                                             None   \n",
       "profilePicPath        http://assets.bodybuilding.com/images/profiled...   \n",
       "ratings               [{u'rating': 8.4, u'flavor': u'Whipped Vanilla...   \n",
       "rating                                                              7.5   \n",
       "\n",
       "                                            ...                          \\\n",
       "totalItems                                  ...                           \n",
       "overallRating                               ...                           \n",
       "helpful                                     ...                           \n",
       "totalRatings                                ...                           \n",
       "helpfulTotal                                ...                           \n",
       "username                                    ...                           \n",
       "_id                                         ...                           \n",
       "title                                       ...                           \n",
       "text                                        ...                           \n",
       "brandId                                     ...                           \n",
       "modDate                                     ...                           \n",
       "date                                        ...                           \n",
       "entityId                                    ...                           \n",
       "updateStatusReason                          ...                           \n",
       "slug                                        ...                           \n",
       "userId                                      ...                           \n",
       "productId                                   ...                           \n",
       "imageMedium                                 ...                           \n",
       "totalReviews                                ...                           \n",
       "flavorList                                  ...                           \n",
       "totalVerifiedBuyers                         ...                           \n",
       "id                                          ...                           \n",
       "verifiedBuyerRating                         ...                           \n",
       "description                                 ...                           \n",
       "totalVerifiedReviews                        ...                           \n",
       "imageLarge                                  ...                           \n",
       "name                                        ...                           \n",
       "imageSmall                                  ...                           \n",
       "url                                         ...                           \n",
       "brandName                                   ...                           \n",
       "reviewUrl                                   ...                           \n",
       "weight                                      ...                           \n",
       "bodyfat                                     ...                           \n",
       "height                                      ...                           \n",
       "profilePicPath                              ...                           \n",
       "ratings                                     ...                           \n",
       "rating                                      ...                           \n",
       "\n",
       "                                                                  63443  \\\n",
       "totalItems                                                           50   \n",
       "overallRating                                                       8.4   \n",
       "helpful                                                               0   \n",
       "totalRatings                                                          5   \n",
       "helpfulTotal                                                          0   \n",
       "username                                                      cmdavis11   \n",
       "_id                                            51a7c76f0cf23b2043026a87   \n",
       "title                                                              None   \n",
       "text                  Tastes great and has a good BCAA profile, but ...   \n",
       "brandId                                                 BRAND_UNIVERSAL   \n",
       "modDate                              {u'$numberLong': u'1376083126000'}   \n",
       "date                                 {u'$numberLong': u'1351975690000'}   \n",
       "entityId                                       productreview-prod440032   \n",
       "updateStatusReason                                                 None   \n",
       "slug                                                          cmdavis11   \n",
       "userId                                                         43581152   \n",
       "productId                                                    prod440032   \n",
       "imageMedium           http://store.bbcomcdn.com/images/store/prodima...   \n",
       "totalReviews                                                        102   \n",
       "flavorList            [Black Cherry Bomb, Rockin' Raz Lemonade - Exc...   \n",
       "totalVerifiedBuyers                                                  46   \n",
       "id                                                           prod440032   \n",
       "verifiedBuyerRating                                                 9.1   \n",
       "description           Strategically Enhanced BCAA Performance Supple...   \n",
       "totalVerifiedReviews                                                 51   \n",
       "imageLarge            http://store.bbcomcdn.com/images/store/prodima...   \n",
       "name                                                           Atomic 7   \n",
       "imageSmall            http://store.bbcomcdn.com/images/store/prodima...   \n",
       "url                   http://www.bodybuilding.com/store/univ/atomic-...   \n",
       "brandName                                           Universal Nutrition   \n",
       "reviewUrl             http://reviews.bodybuilding.com/Universal_Nutr...   \n",
       "weight                                                            167.0   \n",
       "bodyfat                                                            11.1   \n",
       "height                                                             71.0   \n",
       "profilePicPath        http://imagecdn.bodybuilding.com/profile-photo...   \n",
       "ratings               [{u'rating': 8.6, u'flavor': u'Lectric Lemon L...   \n",
       "rating                                                              8.5   \n",
       "\n",
       "                                                                  63449  \\\n",
       "totalItems                                                           50   \n",
       "overallRating                                                       8.4   \n",
       "helpful                                                               0   \n",
       "totalRatings                                                          5   \n",
       "helpfulTotal                                                          0   \n",
       "username                                                       GoHeavy1   \n",
       "_id                                            51a7c76e0cf23b2043021d38   \n",
       "title                                                              None   \n",
       "text                  Watermelon tastes just like Rage.. not what i ...   \n",
       "brandId                                                 BRAND_UNIVERSAL   \n",
       "modDate                              {u'$numberLong': u'1376081924000'}   \n",
       "date                                 {u'$numberLong': u'1340989691000'}   \n",
       "entityId                                       productreview-prod440032   \n",
       "updateStatusReason                                                 None   \n",
       "slug                                                             RobM22   \n",
       "userId                                                         27423892   \n",
       "productId                                                    prod440032   \n",
       "imageMedium           http://store.bbcomcdn.com/images/store/prodima...   \n",
       "totalReviews                                                        102   \n",
       "flavorList            [Black Cherry Bomb, Rockin' Raz Lemonade - Exc...   \n",
       "totalVerifiedBuyers                                                  46   \n",
       "id                                                           prod440032   \n",
       "verifiedBuyerRating                                                 9.1   \n",
       "description           Strategically Enhanced BCAA Performance Supple...   \n",
       "totalVerifiedReviews                                                 51   \n",
       "imageLarge            http://store.bbcomcdn.com/images/store/prodima...   \n",
       "name                                                           Atomic 7   \n",
       "imageSmall            http://store.bbcomcdn.com/images/store/prodima...   \n",
       "url                   http://www.bodybuilding.com/store/univ/atomic-...   \n",
       "brandName                                           Universal Nutrition   \n",
       "reviewUrl             http://reviews.bodybuilding.com/Universal_Nutr...   \n",
       "weight                                                            202.0   \n",
       "bodyfat                                                            18.0   \n",
       "height                                                             68.0   \n",
       "profilePicPath        http://assets.bodybuilding.com/images/profiled...   \n",
       "ratings               [{u'rating': 8.6, u'flavor': u'Lectric Lemon L...   \n",
       "rating                                                             9.25   \n",
       "\n",
       "                                                                  63958  \\\n",
       "totalItems                                                          248   \n",
       "overallRating                                                       8.6   \n",
       "helpful                                                               0   \n",
       "totalRatings                                                          3   \n",
       "helpfulTotal                                                          0   \n",
       "username                                                     shmitchell   \n",
       "_id                                            51a7c76e0cf23b2043024c2f   \n",
       "title                                                              None   \n",
       "text                  Not impressed....loved the original but not to...   \n",
       "brandId                                           BRAND_CONTROLLED_LABS   \n",
       "modDate                              {u'$numberLong': u'1376082666000'}   \n",
       "date                                 {u'$numberLong': u'1309288405000'}   \n",
       "entityId                                            productreview-27834   \n",
       "updateStatusReason                                                 None   \n",
       "slug                                                         shmitchell   \n",
       "userId                                                         24513221   \n",
       "productId                                                         27834   \n",
       "imageMedium           http://store.bbcomcdn.com/images/store/prodima...   \n",
       "totalReviews                                                        970   \n",
       "flavorList            [Raspberry Lemonade, Bubble Gum, Furious Fruit...   \n",
       "totalVerifiedBuyers                                                 223   \n",
       "id                                                                27834   \n",
       "verifiedBuyerRating                                                 8.6   \n",
       "description               Preworkout Nitric Oxide and Energy Enhancer!*   \n",
       "totalVerifiedReviews                                                255   \n",
       "imageLarge            http://store.bbcomcdn.com/images/store/prodima...   \n",
       "name                                                        White Flood   \n",
       "imageSmall            http://store.bbcomcdn.com/images/store/prodima...   \n",
       "url                   http://www.bodybuilding.com/store/clabs/flood....   \n",
       "brandName                                               Controlled Labs   \n",
       "reviewUrl             http://reviews.bodybuilding.com/Controlled_Lab...   \n",
       "weight                                                            261.0   \n",
       "bodyfat                                                            30.0   \n",
       "height                                                             74.0   \n",
       "profilePicPath        http://assets.bodybuilding.com/images/profiled...   \n",
       "ratings               [{u'rating': 9.2, u'flavor': u'Raspberry Lemon...   \n",
       "rating                                                              5.5   \n",
       "\n",
       "                                                                  63962  \\\n",
       "totalItems                                                          248   \n",
       "overallRating                                                       8.6   \n",
       "helpful                                                               0   \n",
       "totalRatings                                                          3   \n",
       "helpfulTotal                                                          0   \n",
       "username                                                    JustiNtense   \n",
       "_id                                            51a7c76e0cf23b2043023c73   \n",
       "title                                                              None   \n",
       "text                  I love White Flood, it has been my go to pre-w...   \n",
       "brandId                                           BRAND_CONTROLLED_LABS   \n",
       "modDate                              {u'$numberLong': u'1376082430000'}   \n",
       "date                                 {u'$numberLong': u'1308798535000'}   \n",
       "entityId                                            productreview-27834   \n",
       "updateStatusReason                                                 None   \n",
       "slug                                                      PainIsResults   \n",
       "userId                                                           335315   \n",
       "productId                                                         27834   \n",
       "imageMedium           http://store.bbcomcdn.com/images/store/prodima...   \n",
       "totalReviews                                                        970   \n",
       "flavorList            [Raspberry Lemonade, Bubble Gum, Furious Fruit...   \n",
       "totalVerifiedBuyers                                                 223   \n",
       "id                                                                27834   \n",
       "verifiedBuyerRating                                                 8.6   \n",
       "description               Preworkout Nitric Oxide and Energy Enhancer!*   \n",
       "totalVerifiedReviews                                                255   \n",
       "imageLarge            http://store.bbcomcdn.com/images/store/prodima...   \n",
       "name                                                        White Flood   \n",
       "imageSmall            http://store.bbcomcdn.com/images/store/prodima...   \n",
       "url                   http://www.bodybuilding.com/store/clabs/flood....   \n",
       "brandName                                               Controlled Labs   \n",
       "reviewUrl             http://reviews.bodybuilding.com/Controlled_Lab...   \n",
       "weight                                                             None   \n",
       "bodyfat                                                            None   \n",
       "height                                                             None   \n",
       "profilePicPath        http://imagecdn.bodybuilding.com/profile-photo...   \n",
       "ratings               [{u'rating': 9.2, u'flavor': u'Raspberry Lemon...   \n",
       "rating                                                              9.5   \n",
       "\n",
       "                                                                  63966  \\\n",
       "totalItems                                                          248   \n",
       "overallRating                                                       8.6   \n",
       "helpful                                                               1   \n",
       "totalRatings                                                          3   \n",
       "helpfulTotal                                                          1   \n",
       "username                                                       TOMaHULK   \n",
       "_id                                            51a7c7710cf23b2043029bde   \n",
       "title                                                              None   \n",
       "text                  To me, this product lost it's effectiveness fo...   \n",
       "brandId                                           BRAND_CONTROLLED_LABS   \n",
       "modDate                              {u'$numberLong': u'1376083910000'}   \n",
       "date                                 {u'$numberLong': u'1306365100000'}   \n",
       "entityId                                            productreview-27834   \n",
       "updateStatusReason                                                 None   \n",
       "slug                                                          TomTank77   \n",
       "userId                                                         19885682   \n",
       "productId                                                         27834   \n",
       "imageMedium           http://store.bbcomcdn.com/images/store/prodima...   \n",
       "totalReviews                                                        970   \n",
       "flavorList            [Raspberry Lemonade, Bubble Gum, Furious Fruit...   \n",
       "totalVerifiedBuyers                                                 223   \n",
       "id                                                                27834   \n",
       "verifiedBuyerRating                                                 8.6   \n",
       "description               Preworkout Nitric Oxide and Energy Enhancer!*   \n",
       "totalVerifiedReviews                                                255   \n",
       "imageLarge            http://store.bbcomcdn.com/images/store/prodima...   \n",
       "name                                                        White Flood   \n",
       "imageSmall            http://store.bbcomcdn.com/images/store/prodima...   \n",
       "url                   http://www.bodybuilding.com/store/clabs/flood....   \n",
       "brandName                                               Controlled Labs   \n",
       "reviewUrl             http://reviews.bodybuilding.com/Controlled_Lab...   \n",
       "weight                                                             None   \n",
       "bodyfat                                                            None   \n",
       "height                                                             76.5   \n",
       "profilePicPath        http://imagecdn.bodybuilding.com/profile-photo...   \n",
       "ratings               [{u'rating': 9.2, u'flavor': u'Raspberry Lemon...   \n",
       "rating                                                          8.33333   \n",
       "\n",
       "                                                                  64009  \\\n",
       "totalItems                                                          248   \n",
       "overallRating                                                       8.6   \n",
       "helpful                                                               0   \n",
       "totalRatings                                                          3   \n",
       "helpfulTotal                                                          0   \n",
       "username                                                         jon326   \n",
       "_id                                            51a7c7720cf23b204302e6cd   \n",
       "title                                                              None   \n",
       "text                  Got this in lue of the White Raspberry. Flavor...   \n",
       "brandId                                           BRAND_CONTROLLED_LABS   \n",
       "modDate                              {u'$numberLong': u'1376085064000'}   \n",
       "date                                 {u'$numberLong': u'1284747761000'}   \n",
       "entityId                                            productreview-27834   \n",
       "updateStatusReason                                                 None   \n",
       "slug                                                             jon326   \n",
       "userId                                                         24499901   \n",
       "productId                                                         27834   \n",
       "imageMedium           http://store.bbcomcdn.com/images/store/prodima...   \n",
       "totalReviews                                                        970   \n",
       "flavorList            [Raspberry Lemonade, Bubble Gum, Furious Fruit...   \n",
       "totalVerifiedBuyers                                                 223   \n",
       "id                                                                27834   \n",
       "verifiedBuyerRating                                                 8.6   \n",
       "description               Preworkout Nitric Oxide and Energy Enhancer!*   \n",
       "totalVerifiedReviews                                                255   \n",
       "imageLarge            http://store.bbcomcdn.com/images/store/prodima...   \n",
       "name                                                        White Flood   \n",
       "imageSmall            http://store.bbcomcdn.com/images/store/prodima...   \n",
       "url                   http://www.bodybuilding.com/store/clabs/flood....   \n",
       "brandName                                               Controlled Labs   \n",
       "reviewUrl             http://reviews.bodybuilding.com/Controlled_Lab...   \n",
       "weight                                                            155.0   \n",
       "bodyfat                                                            11.0   \n",
       "height                                                             69.0   \n",
       "profilePicPath        http://assets.bodybuilding.com/images/profiled...   \n",
       "ratings               [{u'rating': 9.2, u'flavor': u'Raspberry Lemon...   \n",
       "rating                                                              9.5   \n",
       "\n",
       "                                                                  64040  \\\n",
       "totalItems                                                          248   \n",
       "overallRating                                                       8.6   \n",
       "helpful                                                               0   \n",
       "totalRatings                                                          3   \n",
       "helpfulTotal                                                          0   \n",
       "username                                                   bballcatcher   \n",
       "_id                                            51a7c76e0cf23b204302200a   \n",
       "title                                                              None   \n",
       "text                  You will know when this hits you it will liter...   \n",
       "brandId                                           BRAND_CONTROLLED_LABS   \n",
       "modDate                              {u'$numberLong': u'1376081968000'}   \n",
       "date                                 {u'$numberLong': u'1246988217000'}   \n",
       "entityId                                            productreview-27834   \n",
       "updateStatusReason                                                 None   \n",
       "slug                                                       bballcatcher   \n",
       "userId                                                         20100962   \n",
       "productId                                                         27834   \n",
       "imageMedium           http://store.bbcomcdn.com/images/store/prodima...   \n",
       "totalReviews                                                        970   \n",
       "flavorList            [Raspberry Lemonade, Bubble Gum, Furious Fruit...   \n",
       "totalVerifiedBuyers                                                 223   \n",
       "id                                                                27834   \n",
       "verifiedBuyerRating                                                 8.6   \n",
       "description               Preworkout Nitric Oxide and Energy Enhancer!*   \n",
       "totalVerifiedReviews                                                255   \n",
       "imageLarge            http://store.bbcomcdn.com/images/store/prodima...   \n",
       "name                                                        White Flood   \n",
       "imageSmall            http://store.bbcomcdn.com/images/store/prodima...   \n",
       "url                   http://www.bodybuilding.com/store/clabs/flood....   \n",
       "brandName                                               Controlled Labs   \n",
       "reviewUrl             http://reviews.bodybuilding.com/Controlled_Lab...   \n",
       "weight                                                            205.0   \n",
       "bodyfat                                                            17.0   \n",
       "height                                                             67.0   \n",
       "profilePicPath        http://imagecdn.bodybuilding.com/profile-photo...   \n",
       "ratings               [{u'rating': 9.2, u'flavor': u'Raspberry Lemon...   \n",
       "rating                                                              8.5   \n",
       "\n",
       "                                                                  64043  \\\n",
       "totalItems                                                          248   \n",
       "overallRating                                                       8.6   \n",
       "helpful                                                               0   \n",
       "totalRatings                                                          3   \n",
       "helpfulTotal                                                          0   \n",
       "username                                                    Greek_Elite   \n",
       "_id                                            51a7c7730cf23b2043032148   \n",
       "title                                                              None   \n",
       "text                  First tub I had tasted great, 2nd one not so m...   \n",
       "brandId                                           BRAND_CONTROLLED_LABS   \n",
       "modDate                              {u'$numberLong': u'1376085961000'}   \n",
       "date                                 {u'$numberLong': u'1245595392000'}   \n",
       "entityId                                            productreview-27834   \n",
       "updateStatusReason                                                 None   \n",
       "slug                                                        Greek_Elite   \n",
       "userId                                                         13749802   \n",
       "productId                                                         27834   \n",
       "imageMedium           http://store.bbcomcdn.com/images/store/prodima...   \n",
       "totalReviews                                                        970   \n",
       "flavorList            [Raspberry Lemonade, Bubble Gum, Furious Fruit...   \n",
       "totalVerifiedBuyers                                                 223   \n",
       "id                                                                27834   \n",
       "verifiedBuyerRating                                                 8.6   \n",
       "description               Preworkout Nitric Oxide and Energy Enhancer!*   \n",
       "totalVerifiedReviews                                                255   \n",
       "imageLarge            http://store.bbcomcdn.com/images/store/prodima...   \n",
       "name                                                        White Flood   \n",
       "imageSmall            http://store.bbcomcdn.com/images/store/prodima...   \n",
       "url                   http://www.bodybuilding.com/store/clabs/flood....   \n",
       "brandName                                               Controlled Labs   \n",
       "reviewUrl             http://reviews.bodybuilding.com/Controlled_Lab...   \n",
       "weight                                                            184.0   \n",
       "bodyfat                                                            11.0   \n",
       "height                                                             69.5   \n",
       "profilePicPath        http://imagecdn.bodybuilding.com/profile-photo...   \n",
       "ratings               [{u'rating': 9.2, u'flavor': u'Raspberry Lemon...   \n",
       "rating                                                              9.5   \n",
       "\n",
       "                                                                  64933  \\\n",
       "totalItems                                                           98   \n",
       "overallRating                                                         0   \n",
       "helpful                                                               0   \n",
       "totalRatings                                                          0   \n",
       "helpfulTotal                                                          2   \n",
       "username                                                         loanky   \n",
       "_id                                            51a7c7730cf23b204303452a   \n",
       "title                                                              None   \n",
       "text                                                                      \n",
       "brandId                                                   BRAND_OPTIMUM   \n",
       "modDate                              {u'$numberLong': u'1376086495000'}   \n",
       "date                                 {u'$numberLong': u'1243806241000'}   \n",
       "entityId                                            productreview-24238   \n",
       "updateStatusReason                                                 None   \n",
       "slug                                                             loanky   \n",
       "userId                                                         14892662   \n",
       "productId                                                         24238   \n",
       "imageMedium           http://store.bbcomcdn.com/images/store/prodima...   \n",
       "totalReviews                                                        392   \n",
       "flavorList                                                         None   \n",
       "totalVerifiedBuyers                                                 104   \n",
       "id                                                                24238   \n",
       "verifiedBuyerRating                                                 8.8   \n",
       "description           Support Testosterone Levels And Muscle Strength!*   \n",
       "totalVerifiedReviews                                                109   \n",
       "imageLarge            http://store.bbcomcdn.com/images/store/prodima...   \n",
       "name                                                                ZMA   \n",
       "imageSmall            http://store.bbcomcdn.com/images/store/prodima...   \n",
       "url                      http://www.bodybuilding.com/store/opt/zma.html   \n",
       "brandName                                             Optimum Nutrition   \n",
       "reviewUrl                  http://reviews.bodybuilding.com/Optimum/ZMA/   \n",
       "weight                                                            175.0   \n",
       "bodyfat                                                             3.1   \n",
       "height                                                             73.0   \n",
       "profilePicPath        http://assets.bodybuilding.com/images/profiled...   \n",
       "ratings                                                              []   \n",
       "rating                                                              8.5   \n",
       "\n",
       "                                                                  66848  \n",
       "totalItems                                                           92  \n",
       "overallRating                                                       5.2  \n",
       "helpful                                                               0  \n",
       "totalRatings                                                          6  \n",
       "helpfulTotal                                                          0  \n",
       "username                                                        raylors  \n",
       "_id                                            51a7c76f0cf23b20430261f2  \n",
       "title                                                              None  \n",
       "text                  Look around and you may be surprised. The prof...  \n",
       "brandId                                                       BRAND_NOW  \n",
       "modDate                              {u'$numberLong': u'1376082999000'}  \n",
       "date                                 {u'$numberLong': u'1293444836000'}  \n",
       "entityId                                            productreview-25445  \n",
       "updateStatusReason                                                 None  \n",
       "slug                                                            raylors  \n",
       "userId                                                         17245742  \n",
       "productId                                                         25445  \n",
       "imageMedium           http://store.bbcomcdn.com/images/store/prodima...  \n",
       "totalReviews                                                        211  \n",
       "flavorList            [Strawberry, Natural Vanilla, Cookies 'n' Crem...  \n",
       "totalVerifiedBuyers                                                  90  \n",
       "id                                                                25445  \n",
       "verifiedBuyerRating                                                 9.4  \n",
       "description           Cross Flow Filtered Whey High In Branch Chain ...  \n",
       "totalVerifiedReviews                                                 94  \n",
       "imageLarge            http://store.bbcomcdn.com/images/store/prodima...  \n",
       "name                                               Whey Protein Isolate  \n",
       "imageSmall            http://store.bbcomcdn.com/images/store/prodima...  \n",
       "url                     http://www.bodybuilding.com/store/now/whey.html  \n",
       "brandName                                                           NOW  \n",
       "reviewUrl             http://reviews.bodybuilding.com/NOW/Whey_Prote...  \n",
       "weight                                                             None  \n",
       "bodyfat                                                            None  \n",
       "height                                                             None  \n",
       "profilePicPath        http://assets.bodybuilding.com/images/profiled...  \n",
       "ratings               [{u'rating': 8.3, u'flavor': u'Natural Unflavo...  \n",
       "rating                                                              9.5  \n",
       "\n",
       "[37 rows x 125 columns]"
      ]
     },
     "execution_count": 91,
     "metadata": {},
     "output_type": "execute_result"
    }
   ],
   "source": [
    "data.df[data.df.rating%1 != 0].T"
   ]
  },
  {
   "cell_type": "code",
   "execution_count": null,
   "metadata": {
    "collapsed": true
   },
   "outputs": [],
   "source": [
    "data.df[data.df.rating ==8.75]"
   ]
  }
 ],
 "metadata": {
  "anaconda-cloud": {},
  "kernelspec": {
   "display_name": "Python [Root]",
   "language": "python",
   "name": "Python [Root]"
  },
  "language_info": {
   "codemirror_mode": {
    "name": "ipython",
    "version": 2
   },
   "file_extension": ".py",
   "mimetype": "text/x-python",
   "name": "python",
   "nbconvert_exporter": "python",
   "pygments_lexer": "ipython2",
   "version": "2.7.12"
  }
 },
 "nbformat": 4,
 "nbformat_minor": 0
}
