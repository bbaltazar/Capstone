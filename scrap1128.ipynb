{
 "cells": [
  {
   "cell_type": "code",
   "execution_count": 1,
   "metadata": {
    "collapsed": false
   },
   "outputs": [],
   "source": [
    "import pandas as pd"
   ]
  },
  {
   "cell_type": "code",
   "execution_count": 2,
   "metadata": {
    "collapsed": true
   },
   "outputs": [],
   "source": [
    "import graphlab as gl\n",
    "from graphlab import SFrame\n",
    "import graphlab as gl"
   ]
  },
  {
   "cell_type": "code",
   "execution_count": 3,
   "metadata": {
    "collapsed": false
   },
   "outputs": [],
   "source": [
    "from graphlab.toolkits.recommender import factorization_recommender"
   ]
  },
  {
   "cell_type": "code",
   "execution_count": 4,
   "metadata": {
    "collapsed": false
   },
   "outputs": [],
   "source": [
    "df = pd.read_pickle('nutrition.pkl')"
   ]
  },
  {
   "cell_type": "markdown",
   "metadata": {},
   "source": [
    "First Model trained is simply checking to root mean squared error on the SFrame based solely on user, generalizing item by brand, and included what they rated it. Base RMSE found to be 0.95111"
   ]
  },
  {
   "cell_type": "code",
   "execution_count": 33,
   "metadata": {
    "collapsed": true
   },
   "outputs": [
    {
     "data": {
      "text/html": [
       "<pre>Recsys training: model = factorization_recommender</pre>"
      ],
      "text/plain": [
       "Recsys training: model = factorization_recommender"
      ]
     },
     "metadata": {},
     "output_type": "display_data"
    },
    {
     "data": {
      "text/html": [
       "<pre>Preparing data set.</pre>"
      ],
      "text/plain": [
       "Preparing data set."
      ]
     },
     "metadata": {},
     "output_type": "display_data"
    },
    {
     "data": {
      "text/html": [
       "<pre>    Data has 46199 observations with 31023 users and 323 items.</pre>"
      ],
      "text/plain": [
       "    Data has 46199 observations with 31023 users and 323 items."
      ]
     },
     "metadata": {},
     "output_type": "display_data"
    },
    {
     "data": {
      "text/html": [
       "<pre>    Data prepared in: 0.178463s</pre>"
      ],
      "text/plain": [
       "    Data prepared in: 0.178463s"
      ]
     },
     "metadata": {},
     "output_type": "display_data"
    },
    {
     "data": {
      "text/html": [
       "<pre>Training factorization_recommender for recommendations.</pre>"
      ],
      "text/plain": [
       "Training factorization_recommender for recommendations."
      ]
     },
     "metadata": {},
     "output_type": "display_data"
    },
    {
     "data": {
      "text/html": [
       "<pre>+--------------------------------+--------------------------------------------------+----------+</pre>"
      ],
      "text/plain": [
       "+--------------------------------+--------------------------------------------------+----------+"
      ]
     },
     "metadata": {},
     "output_type": "display_data"
    },
    {
     "data": {
      "text/html": [
       "<pre>| Parameter                      | Description                                      | Value    |</pre>"
      ],
      "text/plain": [
       "| Parameter                      | Description                                      | Value    |"
      ]
     },
     "metadata": {},
     "output_type": "display_data"
    },
    {
     "data": {
      "text/html": [
       "<pre>+--------------------------------+--------------------------------------------------+----------+</pre>"
      ],
      "text/plain": [
       "+--------------------------------+--------------------------------------------------+----------+"
      ]
     },
     "metadata": {},
     "output_type": "display_data"
    },
    {
     "data": {
      "text/html": [
       "<pre>| num_factors                    | Factor Dimension                                 | 8        |</pre>"
      ],
      "text/plain": [
       "| num_factors                    | Factor Dimension                                 | 8        |"
      ]
     },
     "metadata": {},
     "output_type": "display_data"
    },
    {
     "data": {
      "text/html": [
       "<pre>| regularization                 | L2 Regularization on Factors                     | 1e-08    |</pre>"
      ],
      "text/plain": [
       "| regularization                 | L2 Regularization on Factors                     | 1e-08    |"
      ]
     },
     "metadata": {},
     "output_type": "display_data"
    },
    {
     "data": {
      "text/html": [
       "<pre>| solver                         | Solver used for training                         | sgd      |</pre>"
      ],
      "text/plain": [
       "| solver                         | Solver used for training                         | sgd      |"
      ]
     },
     "metadata": {},
     "output_type": "display_data"
    },
    {
     "data": {
      "text/html": [
       "<pre>| linear_regularization          | L2 Regularization on Linear Coefficients         | 1e-10    |</pre>"
      ],
      "text/plain": [
       "| linear_regularization          | L2 Regularization on Linear Coefficients         | 1e-10    |"
      ]
     },
     "metadata": {},
     "output_type": "display_data"
    },
    {
     "data": {
      "text/html": [
       "<pre>| max_iterations                 | Maximum Number of Iterations                     | 50       |</pre>"
      ],
      "text/plain": [
       "| max_iterations                 | Maximum Number of Iterations                     | 50       |"
      ]
     },
     "metadata": {},
     "output_type": "display_data"
    },
    {
     "data": {
      "text/html": [
       "<pre>+--------------------------------+--------------------------------------------------+----------+</pre>"
      ],
      "text/plain": [
       "+--------------------------------+--------------------------------------------------+----------+"
      ]
     },
     "metadata": {},
     "output_type": "display_data"
    },
    {
     "data": {
      "text/html": [
       "<pre>  Optimizing model using SGD; tuning step size.</pre>"
      ],
      "text/plain": [
       "  Optimizing model using SGD; tuning step size."
      ]
     },
     "metadata": {},
     "output_type": "display_data"
    },
    {
     "data": {
      "text/html": [
       "<pre>  Using 10000 / 46199 points for tuning the step size.</pre>"
      ],
      "text/plain": [
       "  Using 10000 / 46199 points for tuning the step size."
      ]
     },
     "metadata": {},
     "output_type": "display_data"
    },
    {
     "data": {
      "text/html": [
       "<pre>+---------+-------------------+------------------------------------------+</pre>"
      ],
      "text/plain": [
       "+---------+-------------------+------------------------------------------+"
      ]
     },
     "metadata": {},
     "output_type": "display_data"
    },
    {
     "data": {
      "text/html": [
       "<pre>| Attempt | Initial Step Size | Estimated Objective Value                |</pre>"
      ],
      "text/plain": [
       "| Attempt | Initial Step Size | Estimated Objective Value                |"
      ]
     },
     "metadata": {},
     "output_type": "display_data"
    },
    {
     "data": {
      "text/html": [
       "<pre>+---------+-------------------+------------------------------------------+</pre>"
      ],
      "text/plain": [
       "+---------+-------------------+------------------------------------------+"
      ]
     },
     "metadata": {},
     "output_type": "display_data"
    },
    {
     "data": {
      "text/html": [
       "<pre>| 0       | 25                | Not Viable                               |</pre>"
      ],
      "text/plain": [
       "| 0       | 25                | Not Viable                               |"
      ]
     },
     "metadata": {},
     "output_type": "display_data"
    },
    {
     "data": {
      "text/html": [
       "<pre>| 1       | 6.25              | Not Viable                               |</pre>"
      ],
      "text/plain": [
       "| 1       | 6.25              | Not Viable                               |"
      ]
     },
     "metadata": {},
     "output_type": "display_data"
    },
    {
     "data": {
      "text/html": [
       "<pre>| 2       | 1.5625            | Not Viable                               |</pre>"
      ],
      "text/plain": [
       "| 2       | 1.5625            | Not Viable                               |"
      ]
     },
     "metadata": {},
     "output_type": "display_data"
    },
    {
     "data": {
      "text/html": [
       "<pre>| 3       | 0.390625          | No Decrease (4.69996 >= 4.57544)         |</pre>"
      ],
      "text/plain": [
       "| 3       | 0.390625          | No Decrease (4.69996 >= 4.57544)         |"
      ]
     },
     "metadata": {},
     "output_type": "display_data"
    },
    {
     "data": {
      "text/html": [
       "<pre>| 4       | 0.0976562         | 0.956562                                 |</pre>"
      ],
      "text/plain": [
       "| 4       | 0.0976562         | 0.956562                                 |"
      ]
     },
     "metadata": {},
     "output_type": "display_data"
    },
    {
     "data": {
      "text/html": [
       "<pre>| 5       | 0.0488281         | 2.60204                                  |</pre>"
      ],
      "text/plain": [
       "| 5       | 0.0488281         | 2.60204                                  |"
      ]
     },
     "metadata": {},
     "output_type": "display_data"
    },
    {
     "data": {
      "text/html": [
       "<pre>+---------+-------------------+------------------------------------------+</pre>"
      ],
      "text/plain": [
       "+---------+-------------------+------------------------------------------+"
      ]
     },
     "metadata": {},
     "output_type": "display_data"
    },
    {
     "data": {
      "text/html": [
       "<pre>| Final   | 0.0976562         | 0.956562                                 |</pre>"
      ],
      "text/plain": [
       "| Final   | 0.0976562         | 0.956562                                 |"
      ]
     },
     "metadata": {},
     "output_type": "display_data"
    },
    {
     "data": {
      "text/html": [
       "<pre>+---------+-------------------+------------------------------------------+</pre>"
      ],
      "text/plain": [
       "+---------+-------------------+------------------------------------------+"
      ]
     },
     "metadata": {},
     "output_type": "display_data"
    },
    {
     "data": {
      "text/html": [
       "<pre>Starting Optimization.</pre>"
      ],
      "text/plain": [
       "Starting Optimization."
      ]
     },
     "metadata": {},
     "output_type": "display_data"
    },
    {
     "data": {
      "text/html": [
       "<pre>+---------+--------------+-------------------+-----------------------+-------------+</pre>"
      ],
      "text/plain": [
       "+---------+--------------+-------------------+-----------------------+-------------+"
      ]
     },
     "metadata": {},
     "output_type": "display_data"
    },
    {
     "data": {
      "text/html": [
       "<pre>| Iter.   | Elapsed Time | Approx. Objective | Approx. Training RMSE | Step Size   |</pre>"
      ],
      "text/plain": [
       "| Iter.   | Elapsed Time | Approx. Objective | Approx. Training RMSE | Step Size   |"
      ]
     },
     "metadata": {},
     "output_type": "display_data"
    },
    {
     "data": {
      "text/html": [
       "<pre>+---------+--------------+-------------------+-----------------------+-------------+</pre>"
      ],
      "text/plain": [
       "+---------+--------------+-------------------+-----------------------+-------------+"
      ]
     },
     "metadata": {},
     "output_type": "display_data"
    },
    {
     "data": {
      "text/html": [
       "<pre>| Initial | 109us        | 4.52543           | 2.12731               |             |</pre>"
      ],
      "text/plain": [
       "| Initial | 109us        | 4.52543           | 2.12731               |             |"
      ]
     },
     "metadata": {},
     "output_type": "display_data"
    },
    {
     "data": {
      "text/html": [
       "<pre>+---------+--------------+-------------------+-----------------------+-------------+</pre>"
      ],
      "text/plain": [
       "+---------+--------------+-------------------+-----------------------+-------------+"
      ]
     },
     "metadata": {},
     "output_type": "display_data"
    },
    {
     "data": {
      "text/html": [
       "<pre>| 1       | 90.681ms     | 4.65336           | 2.15714               | 0.0976562   |</pre>"
      ],
      "text/plain": [
       "| 1       | 90.681ms     | 4.65336           | 2.15714               | 0.0976562   |"
      ]
     },
     "metadata": {},
     "output_type": "display_data"
    },
    {
     "data": {
      "text/html": [
       "<pre>| 2       | 166.611ms    | 2.89494           | 1.70141               | 0.0580668   |</pre>"
      ],
      "text/plain": [
       "| 2       | 166.611ms    | 2.89494           | 1.70141               | 0.0580668   |"
      ]
     },
     "metadata": {},
     "output_type": "display_data"
    },
    {
     "data": {
      "text/html": [
       "<pre>| 3       | 239.034ms    | 1.45511           | 1.20622               | 0.042841    |</pre>"
      ],
      "text/plain": [
       "| 3       | 239.034ms    | 1.45511           | 1.20622               | 0.042841    |"
      ]
     },
     "metadata": {},
     "output_type": "display_data"
    },
    {
     "data": {
      "text/html": [
       "<pre>| 4       | 293.816ms    | 0.76834           | 0.876464              | 0.0290334   |</pre>"
      ],
      "text/plain": [
       "| 4       | 293.816ms    | 0.76834           | 0.876464              | 0.0290334   |"
      ]
     },
     "metadata": {},
     "output_type": "display_data"
    },
    {
     "data": {
      "text/html": [
       "<pre>| 5       | 344.668ms    | 0.537441          | 0.733                 | 0.0245592   |</pre>"
      ],
      "text/plain": [
       "| 5       | 344.668ms    | 0.537441          | 0.733                 | 0.0245592   |"
      ]
     },
     "metadata": {},
     "output_type": "display_data"
    },
    {
     "data": {
      "text/html": [
       "<pre>| 6       | 510.47ms     | 0.430721          | 0.656174              | 0.0214205   |</pre>"
      ],
      "text/plain": [
       "| 6       | 510.47ms     | 0.430721          | 0.656174              | 0.0214205   |"
      ]
     },
     "metadata": {},
     "output_type": "display_data"
    },
    {
     "data": {
      "text/html": [
       "<pre>| 11      | 996.324ms    | 0.272658          | 0.522008              | 0.0135956   |</pre>"
      ],
      "text/plain": [
       "| 11      | 996.324ms    | 0.272658          | 0.522008              | 0.0135956   |"
      ]
     },
     "metadata": {},
     "output_type": "display_data"
    },
    {
     "data": {
      "text/html": [
       "<pre>| 25      | 2.16s        | 0.210268          | 0.458362              | 0.00734493  |</pre>"
      ],
      "text/plain": [
       "| 25      | 2.16s        | 0.210268          | 0.458362              | 0.00734493  |"
      ]
     },
     "metadata": {},
     "output_type": "display_data"
    },
    {
     "data": {
      "text/html": [
       "<pre>| 50      | 3.65s        | 0.189209          | 0.43478               | 0.00436732  |</pre>"
      ],
      "text/plain": [
       "| 50      | 3.65s        | 0.189209          | 0.43478               | 0.00436732  |"
      ]
     },
     "metadata": {},
     "output_type": "display_data"
    },
    {
     "data": {
      "text/html": [
       "<pre>+---------+--------------+-------------------+-----------------------+-------------+</pre>"
      ],
      "text/plain": [
       "+---------+--------------+-------------------+-----------------------+-------------+"
      ]
     },
     "metadata": {},
     "output_type": "display_data"
    },
    {
     "data": {
      "text/html": [
       "<pre>Optimization Complete: Maximum number of passes through the data reached.</pre>"
      ],
      "text/plain": [
       "Optimization Complete: Maximum number of passes through the data reached."
      ]
     },
     "metadata": {},
     "output_type": "display_data"
    },
    {
     "data": {
      "text/html": [
       "<pre>Computing final objective value and training RMSE.</pre>"
      ],
      "text/plain": [
       "Computing final objective value and training RMSE."
      ]
     },
     "metadata": {},
     "output_type": "display_data"
    },
    {
     "data": {
      "text/html": [
       "<pre>       Final objective value: 0.170648</pre>"
      ],
      "text/plain": [
       "       Final objective value: 0.170648"
      ]
     },
     "metadata": {},
     "output_type": "display_data"
    },
    {
     "data": {
      "text/html": [
       "<pre>       Final training RMSE: 0.412883</pre>"
      ],
      "text/plain": [
       "       Final training RMSE: 0.412883"
      ]
     },
     "metadata": {},
     "output_type": "display_data"
    }
   ],
   "source": [
    "m01 = factorization_recommender.create(sf_train[['userId', 'brandId', 'rating']], user_id = 'userId', item_id='brandId', target='rating')\n"
   ]
  },
  {
   "cell_type": "code",
   "execution_count": 24,
   "metadata": {
    "collapsed": true
   },
   "outputs": [
    {
     "data": {
      "text/plain": [
       "{'rmse_by_item': Columns:\n",
       " \tbrandId\tstr\n",
       " \tcount\tint\n",
       " \trmse\tfloat\n",
       " \n",
       " Rows: 250\n",
       " \n",
       " Data:\n",
       " +-------------------------+-------+----------------+\n",
       " |         brandId         | count |      rmse      |\n",
       " +-------------------------+-------+----------------+\n",
       " |   BRAND_DOCTOR_S_BEST   |   14  | 3.07602114693  |\n",
       " |  BRAND_NORDIC_NATURALS  |   7   | 1.52659685652  |\n",
       " |  BRAND_ALLMAX_NUTRITION |   63  | 3.05039978569  |\n",
       " |        cat1340006       |   6   | 2.25337669137  |\n",
       " |         BRAND_GU        |   6   |  1.4955570503  |\n",
       " |        cat320010        |  384  | 2.22269357873  |\n",
       " | BRAND_ENZYMATIC_THERAPY |   5   | 0.381342089108 |\n",
       " |        cat510018        |   6   | 2.27351097181  |\n",
       " |        cat1030006       |   17  | 3.54611578851  |\n",
       " |        cat1960001       |   1   | 0.289701709895 |\n",
       " +-------------------------+-------+----------------+\n",
       " [250 rows x 3 columns]\n",
       " Note: Only the head of the SFrame is printed.\n",
       " You can use print_rows(num_rows=m, num_columns=n) to print more rows and columns.,\n",
       " 'rmse_by_user': Columns:\n",
       " \tuserId\tstr\n",
       " \tcount\tint\n",
       " \trmse\tfloat\n",
       " \n",
       " Rows: 10532\n",
       " \n",
       " Data:\n",
       " +-----------+-------+-----------------+\n",
       " |   userId  | count |       rmse      |\n",
       " +-----------+-------+-----------------+\n",
       " | 109123202 |   1   |  1.73088843152  |\n",
       " |  32762012 |   1   |  1.00876820609  |\n",
       " |  69888552 |   1   |  1.33592942879  |\n",
       " |  17183152 |   1   |  1.02076061405  |\n",
       " |  71869291 |   1   |  1.14615777657  |\n",
       " |  61102152 |   2   |  1.42220184469  |\n",
       " |  60500192 |   1   |  9.07108518611  |\n",
       " | 106612472 |   1   |  1.55093971417  |\n",
       " |  67686962 |   1   | 0.0349086575227 |\n",
       " |  16434252 |   1   |  1.13155193404  |\n",
       " +-----------+-------+-----------------+\n",
       " [10532 rows x 3 columns]\n",
       " Note: Only the head of the SFrame is printed.\n",
       " You can use print_rows(num_rows=m, num_columns=n) to print more rows and columns.,\n",
       " 'rmse_overall': 2.3021235395483512}"
      ]
     },
     "execution_count": 24,
     "metadata": {},
     "output_type": "execute_result"
    }
   ],
   "source": [
    "eval = m01.evaluate_rmse(sf_test[['userId', 'brandId', 'rating']], target= 'rating')\n",
    "eval"
   ]
  },
  {
   "cell_type": "code",
   "execution_count": 56,
   "metadata": {
    "collapsed": true
   },
   "outputs": [
    {
     "data": {
      "text/html": [
       "<pre>Recsys training: model = factorization_recommender</pre>"
      ],
      "text/plain": [
       "Recsys training: model = factorization_recommender"
      ]
     },
     "metadata": {},
     "output_type": "display_data"
    },
    {
     "data": {
      "text/html": [
       "<pre>Preparing data set.</pre>"
      ],
      "text/plain": [
       "Preparing data set."
      ]
     },
     "metadata": {},
     "output_type": "display_data"
    },
    {
     "data": {
      "text/html": [
       "<pre>    Data has 46169 observations with 31073 users and 1992 items.</pre>"
      ],
      "text/plain": [
       "    Data has 46169 observations with 31073 users and 1992 items."
      ]
     },
     "metadata": {},
     "output_type": "display_data"
    },
    {
     "data": {
      "text/html": [
       "<pre>    Data prepared in: 0.175567s</pre>"
      ],
      "text/plain": [
       "    Data prepared in: 0.175567s"
      ]
     },
     "metadata": {},
     "output_type": "display_data"
    },
    {
     "data": {
      "text/html": [
       "<pre>Training factorization_recommender for recommendations.</pre>"
      ],
      "text/plain": [
       "Training factorization_recommender for recommendations."
      ]
     },
     "metadata": {},
     "output_type": "display_data"
    },
    {
     "data": {
      "text/html": [
       "<pre>+--------------------------------+--------------------------------------------------+----------+</pre>"
      ],
      "text/plain": [
       "+--------------------------------+--------------------------------------------------+----------+"
      ]
     },
     "metadata": {},
     "output_type": "display_data"
    },
    {
     "data": {
      "text/html": [
       "<pre>| Parameter                      | Description                                      | Value    |</pre>"
      ],
      "text/plain": [
       "| Parameter                      | Description                                      | Value    |"
      ]
     },
     "metadata": {},
     "output_type": "display_data"
    },
    {
     "data": {
      "text/html": [
       "<pre>+--------------------------------+--------------------------------------------------+----------+</pre>"
      ],
      "text/plain": [
       "+--------------------------------+--------------------------------------------------+----------+"
      ]
     },
     "metadata": {},
     "output_type": "display_data"
    },
    {
     "data": {
      "text/html": [
       "<pre>| num_factors                    | Factor Dimension                                 | 8        |</pre>"
      ],
      "text/plain": [
       "| num_factors                    | Factor Dimension                                 | 8        |"
      ]
     },
     "metadata": {},
     "output_type": "display_data"
    },
    {
     "data": {
      "text/html": [
       "<pre>| regularization                 | L2 Regularization on Factors                     | 1e-08    |</pre>"
      ],
      "text/plain": [
       "| regularization                 | L2 Regularization on Factors                     | 1e-08    |"
      ]
     },
     "metadata": {},
     "output_type": "display_data"
    },
    {
     "data": {
      "text/html": [
       "<pre>| solver                         | Solver used for training                         | sgd      |</pre>"
      ],
      "text/plain": [
       "| solver                         | Solver used for training                         | sgd      |"
      ]
     },
     "metadata": {},
     "output_type": "display_data"
    },
    {
     "data": {
      "text/html": [
       "<pre>| linear_regularization          | L2 Regularization on Linear Coefficients         | 1e-10    |</pre>"
      ],
      "text/plain": [
       "| linear_regularization          | L2 Regularization on Linear Coefficients         | 1e-10    |"
      ]
     },
     "metadata": {},
     "output_type": "display_data"
    },
    {
     "data": {
      "text/html": [
       "<pre>| max_iterations                 | Maximum Number of Iterations                     | 50       |</pre>"
      ],
      "text/plain": [
       "| max_iterations                 | Maximum Number of Iterations                     | 50       |"
      ]
     },
     "metadata": {},
     "output_type": "display_data"
    },
    {
     "data": {
      "text/html": [
       "<pre>+--------------------------------+--------------------------------------------------+----------+</pre>"
      ],
      "text/plain": [
       "+--------------------------------+--------------------------------------------------+----------+"
      ]
     },
     "metadata": {},
     "output_type": "display_data"
    },
    {
     "data": {
      "text/html": [
       "<pre>  Optimizing model using SGD; tuning step size.</pre>"
      ],
      "text/plain": [
       "  Optimizing model using SGD; tuning step size."
      ]
     },
     "metadata": {},
     "output_type": "display_data"
    },
    {
     "data": {
      "text/html": [
       "<pre>  Using 10000 / 46169 points for tuning the step size.</pre>"
      ],
      "text/plain": [
       "  Using 10000 / 46169 points for tuning the step size."
      ]
     },
     "metadata": {},
     "output_type": "display_data"
    },
    {
     "data": {
      "text/html": [
       "<pre>+---------+-------------------+------------------------------------------+</pre>"
      ],
      "text/plain": [
       "+---------+-------------------+------------------------------------------+"
      ]
     },
     "metadata": {},
     "output_type": "display_data"
    },
    {
     "data": {
      "text/html": [
       "<pre>| Attempt | Initial Step Size | Estimated Objective Value                |</pre>"
      ],
      "text/plain": [
       "| Attempt | Initial Step Size | Estimated Objective Value                |"
      ]
     },
     "metadata": {},
     "output_type": "display_data"
    },
    {
     "data": {
      "text/html": [
       "<pre>+---------+-------------------+------------------------------------------+</pre>"
      ],
      "text/plain": [
       "+---------+-------------------+------------------------------------------+"
      ]
     },
     "metadata": {},
     "output_type": "display_data"
    },
    {
     "data": {
      "text/html": [
       "<pre>| 0       | 25                | Not Viable                               |</pre>"
      ],
      "text/plain": [
       "| 0       | 25                | Not Viable                               |"
      ]
     },
     "metadata": {},
     "output_type": "display_data"
    },
    {
     "data": {
      "text/html": [
       "<pre>| 1       | 6.25              | Not Viable                               |</pre>"
      ],
      "text/plain": [
       "| 1       | 6.25              | Not Viable                               |"
      ]
     },
     "metadata": {},
     "output_type": "display_data"
    },
    {
     "data": {
      "text/html": [
       "<pre>| 2       | 1.5625            | No Decrease (64.0795 >= 4.7443)          |</pre>"
      ],
      "text/plain": [
       "| 2       | 1.5625            | No Decrease (64.0795 >= 4.7443)          |"
      ]
     },
     "metadata": {},
     "output_type": "display_data"
    },
    {
     "data": {
      "text/html": [
       "<pre>| 3       | 0.390625          | 0.438626                                 |</pre>"
      ],
      "text/plain": [
       "| 3       | 0.390625          | 0.438626                                 |"
      ]
     },
     "metadata": {},
     "output_type": "display_data"
    },
    {
     "data": {
      "text/html": [
       "<pre>| 4       | 0.195312          | 0.604749                                 |</pre>"
      ],
      "text/plain": [
       "| 4       | 0.195312          | 0.604749                                 |"
      ]
     },
     "metadata": {},
     "output_type": "display_data"
    },
    {
     "data": {
      "text/html": [
       "<pre>| 5       | 0.0976562         | 1.39051                                  |</pre>"
      ],
      "text/plain": [
       "| 5       | 0.0976562         | 1.39051                                  |"
      ]
     },
     "metadata": {},
     "output_type": "display_data"
    },
    {
     "data": {
      "text/html": [
       "<pre>+---------+-------------------+------------------------------------------+</pre>"
      ],
      "text/plain": [
       "+---------+-------------------+------------------------------------------+"
      ]
     },
     "metadata": {},
     "output_type": "display_data"
    },
    {
     "data": {
      "text/html": [
       "<pre>| Final   | 0.390625          | 0.438626                                 |</pre>"
      ],
      "text/plain": [
       "| Final   | 0.390625          | 0.438626                                 |"
      ]
     },
     "metadata": {},
     "output_type": "display_data"
    },
    {
     "data": {
      "text/html": [
       "<pre>+---------+-------------------+------------------------------------------+</pre>"
      ],
      "text/plain": [
       "+---------+-------------------+------------------------------------------+"
      ]
     },
     "metadata": {},
     "output_type": "display_data"
    },
    {
     "data": {
      "text/html": [
       "<pre>Starting Optimization.</pre>"
      ],
      "text/plain": [
       "Starting Optimization."
      ]
     },
     "metadata": {},
     "output_type": "display_data"
    },
    {
     "data": {
      "text/html": [
       "<pre>+---------+--------------+-------------------+-----------------------+-------------+</pre>"
      ],
      "text/plain": [
       "+---------+--------------+-------------------+-----------------------+-------------+"
      ]
     },
     "metadata": {},
     "output_type": "display_data"
    },
    {
     "data": {
      "text/html": [
       "<pre>| Iter.   | Elapsed Time | Approx. Objective | Approx. Training RMSE | Step Size   |</pre>"
      ],
      "text/plain": [
       "| Iter.   | Elapsed Time | Approx. Objective | Approx. Training RMSE | Step Size   |"
      ]
     },
     "metadata": {},
     "output_type": "display_data"
    },
    {
     "data": {
      "text/html": [
       "<pre>+---------+--------------+-------------------+-----------------------+-------------+</pre>"
      ],
      "text/plain": [
       "+---------+--------------+-------------------+-----------------------+-------------+"
      ]
     },
     "metadata": {},
     "output_type": "display_data"
    },
    {
     "data": {
      "text/html": [
       "<pre>| Initial | 124us        | 4.63679           | 2.15332               |             |</pre>"
      ],
      "text/plain": [
       "| Initial | 124us        | 4.63679           | 2.15332               |             |"
      ]
     },
     "metadata": {},
     "output_type": "display_data"
    },
    {
     "data": {
      "text/html": [
       "<pre>+---------+--------------+-------------------+-----------------------+-------------+</pre>"
      ],
      "text/plain": [
       "+---------+--------------+-------------------+-----------------------+-------------+"
      ]
     },
     "metadata": {},
     "output_type": "display_data"
    },
    {
     "data": {
      "text/html": [
       "<pre>| 1       | 49.7ms       | 8.32001           | 2.88419               | 0.390625    |</pre>"
      ],
      "text/plain": [
       "| 1       | 49.7ms       | 8.32001           | 2.88419               | 0.390625    |"
      ]
     },
     "metadata": {},
     "output_type": "display_data"
    },
    {
     "data": {
      "text/html": [
       "<pre>| 2       | 122.582ms    | DIVERGED          | DIVERGED              | 0.232267    |</pre>"
      ],
      "text/plain": [
       "| 2       | 122.582ms    | DIVERGED          | DIVERGED              | 0.232267    |"
      ]
     },
     "metadata": {},
     "output_type": "display_data"
    },
    {
     "data": {
      "text/html": [
       "<pre>| RESET   | 148.097ms    | 4.63686           | 2.15334               |             |</pre>"
      ],
      "text/plain": [
       "| RESET   | 148.097ms    | 4.63686           | 2.15334               |             |"
      ]
     },
     "metadata": {},
     "output_type": "display_data"
    },
    {
     "data": {
      "text/html": [
       "<pre>| 1       | 196.405ms    | 4.58592           | 2.14146               | 0.116134    |</pre>"
      ],
      "text/plain": [
       "| 1       | 196.405ms    | 4.58592           | 2.14146               | 0.116134    |"
      ]
     },
     "metadata": {},
     "output_type": "display_data"
    },
    {
     "data": {
      "text/html": [
       "<pre>| 2       | 262.056ms    | 3.14309           | 1.77286               | 0.0690534   |</pre>"
      ],
      "text/plain": [
       "| 2       | 262.056ms    | 3.14309           | 1.77286               | 0.0690534   |"
      ]
     },
     "metadata": {},
     "output_type": "display_data"
    },
    {
     "data": {
      "text/html": [
       "<pre>| 3       | 305.045ms    | 2.23631           | 1.49541               | 0.0509468   |</pre>"
      ],
      "text/plain": [
       "| 3       | 305.045ms    | 2.23631           | 1.49541               | 0.0509468   |"
      ]
     },
     "metadata": {},
     "output_type": "display_data"
    },
    {
     "data": {
      "text/html": [
       "<pre>| 4       | 367.874ms    | 1.50595           | 1.22715               | 0.0410594   |</pre>"
      ],
      "text/plain": [
       "| 4       | 367.874ms    | 1.50595           | 1.22715               | 0.0410594   |"
      ]
     },
     "metadata": {},
     "output_type": "display_data"
    },
    {
     "data": {
      "text/html": [
       "<pre>| 5       | 445.411ms    | 0.971608          | 0.985669              | 0.034732    |</pre>"
      ],
      "text/plain": [
       "| 5       | 445.411ms    | 0.971608          | 0.985669              | 0.034732    |"
      ]
     },
     "metadata": {},
     "output_type": "display_data"
    },
    {
     "data": {
      "text/html": [
       "<pre>| 10      | 734.674ms    | 0.214987          | 0.463557              | 0.0206518   |</pre>"
      ],
      "text/plain": [
       "| 10      | 734.674ms    | 0.214987          | 0.463557              | 0.0206518   |"
      ]
     },
     "metadata": {},
     "output_type": "display_data"
    },
    {
     "data": {
      "text/html": [
       "<pre>| 23      | 1.31s        | 0.0425562         | 0.205991              | 0.0110576   |</pre>"
      ],
      "text/plain": [
       "| 23      | 1.31s        | 0.0425562         | 0.205991              | 0.0110576   |"
      ]
     },
     "metadata": {},
     "output_type": "display_data"
    },
    {
     "data": {
      "text/html": [
       "<pre>| 48      | 2.81s        | 0.0126099         | 0.111706              | 0.00636835  |</pre>"
      ],
      "text/plain": [
       "| 48      | 2.81s        | 0.0126099         | 0.111706              | 0.00636835  |"
      ]
     },
     "metadata": {},
     "output_type": "display_data"
    },
    {
     "data": {
      "text/html": [
       "<pre>| 50      | 2.91s        | 0.0118161         | 0.108093              | 0.00617632  |</pre>"
      ],
      "text/plain": [
       "| 50      | 2.91s        | 0.0118161         | 0.108093              | 0.00617632  |"
      ]
     },
     "metadata": {},
     "output_type": "display_data"
    },
    {
     "data": {
      "text/html": [
       "<pre>+---------+--------------+-------------------+-----------------------+-------------+</pre>"
      ],
      "text/plain": [
       "+---------+--------------+-------------------+-----------------------+-------------+"
      ]
     },
     "metadata": {},
     "output_type": "display_data"
    },
    {
     "data": {
      "text/html": [
       "<pre>Optimization Complete: Maximum number of passes through the data reached.</pre>"
      ],
      "text/plain": [
       "Optimization Complete: Maximum number of passes through the data reached."
      ]
     },
     "metadata": {},
     "output_type": "display_data"
    },
    {
     "data": {
      "text/html": [
       "<pre>Computing final objective value and training RMSE.</pre>"
      ],
      "text/plain": [
       "Computing final objective value and training RMSE."
      ]
     },
     "metadata": {},
     "output_type": "display_data"
    },
    {
     "data": {
      "text/html": [
       "<pre>       Final objective value: 0.011111</pre>"
      ],
      "text/plain": [
       "       Final objective value: 0.011111"
      ]
     },
     "metadata": {},
     "output_type": "display_data"
    },
    {
     "data": {
      "text/html": [
       "<pre>       Final training RMSE: 0.104781</pre>"
      ],
      "text/plain": [
       "       Final training RMSE: 0.104781"
      ]
     },
     "metadata": {},
     "output_type": "display_data"
    }
   ],
   "source": [
    "m09 = factorization_recommender.create(sf_train[['userId', 'productId', 'rating']], user_id = 'userId', item_id='productId', target='rating')"
   ]
  },
  {
   "cell_type": "code",
   "execution_count": 57,
   "metadata": {
    "collapsed": true
   },
   "outputs": [
    {
     "data": {
      "text/plain": [
       "{'rmse_by_item': Columns:\n",
       " \tproductId\tstr\n",
       " \tcount\tint\n",
       " \trmse\tfloat\n",
       " \n",
       " Rows: 1519\n",
       " \n",
       " Data:\n",
       " +-------------+-------+----------------+\n",
       " |  productId  | count |      rmse      |\n",
       " +-------------+-------+----------------+\n",
       " | prod1250008 |   5   | 3.76805491352  |\n",
       " |  prod140038 |   8   | 0.798663481768 |\n",
       " |    25154    |   2   | 1.25704123067  |\n",
       " |    26493    |   3   | 2.83606805901  |\n",
       " |    26994    |   86  | 1.35366066188  |\n",
       " |    28496    |   3   | 1.86522803519  |\n",
       " |    26713    |   11  | 0.890392337044 |\n",
       " | prod3820059 |   86  | 1.15838625538  |\n",
       " |  prod800014 |   3   | 1.94012446024  |\n",
       " | prod1180014 |   1   | 4.23313754661  |\n",
       " +-------------+-------+----------------+\n",
       " [1519 rows x 3 columns]\n",
       " Note: Only the head of the SFrame is printed.\n",
       " You can use print_rows(num_rows=m, num_columns=n) to print more rows and columns.,\n",
       " 'rmse_by_user': Columns:\n",
       " \tuserId\tstr\n",
       " \tcount\tint\n",
       " \trmse\tfloat\n",
       " \n",
       " Rows: 12792\n",
       " \n",
       " Data:\n",
       " +----------+-------+----------------+\n",
       " |  userId  | count |      rmse      |\n",
       " +----------+-------+----------------+\n",
       " | 61237842 |   1   | 1.36396053115  |\n",
       " | 67202742 |   1   | 2.09760915169  |\n",
       " | 90464702 |   1   | 0.43700073233  |\n",
       " | 17183152 |   1   | 0.196749885175 |\n",
       " | 47203051 |   1   | 2.45275195369  |\n",
       " | 16434252 |   1   |  1.4101837171  |\n",
       " | 71550891 |   1   | 0.733734418246 |\n",
       " | 25590161 |   1   | 6.05755808523  |\n",
       " | 79233772 |   3   | 1.46424853562  |\n",
       " |  171341  |   1   | 4.43855358234  |\n",
       " +----------+-------+----------------+\n",
       " [12792 rows x 3 columns]\n",
       " Note: Only the head of the SFrame is printed.\n",
       " You can use print_rows(num_rows=m, num_columns=n) to print more rows and columns.,\n",
       " 'rmse_overall': 2.112897830951264}"
      ]
     },
     "execution_count": 57,
     "metadata": {},
     "output_type": "execute_result"
    }
   ],
   "source": [
    "eval = m09.evaluate_rmse(sf_test[['userId', 'productId', 'rating']], target= 'rating')\n",
    "eval"
   ]
  },
  {
   "cell_type": "code",
   "execution_count": 10,
   "metadata": {
    "collapsed": false
   },
   "outputs": [
    {
     "data": {
      "text/plain": [
       "(181.77160511611612, 69.52690519331404, 15.524334234187396)"
      ]
     },
     "execution_count": 10,
     "metadata": {},
     "output_type": "execute_result"
    }
   ],
   "source": [
    "df[df.weight > 0].weight.mean(), df[df.height > 0].height.mean(), df[df.bodyfat > 0].bodyfat.mean()"
   ]
  },
  {
   "cell_type": "code",
   "execution_count": 65,
   "metadata": {
    "collapsed": true
   },
   "outputs": [
    {
     "data": {
      "text/html": [
       "<pre>Recsys training: model = factorization_recommender</pre>"
      ],
      "text/plain": [
       "Recsys training: model = factorization_recommender"
      ]
     },
     "metadata": {},
     "output_type": "display_data"
    },
    {
     "data": {
      "text/html": [
       "<pre>Preparing data set.</pre>"
      ],
      "text/plain": [
       "Preparing data set."
      ]
     },
     "metadata": {},
     "output_type": "display_data"
    },
    {
     "data": {
      "text/html": [
       "<pre>    Data has 46170 observations with 31071 users and 2008 items.</pre>"
      ],
      "text/plain": [
       "    Data has 46170 observations with 31071 users and 2008 items."
      ]
     },
     "metadata": {},
     "output_type": "display_data"
    },
    {
     "data": {
      "text/html": [
       "<pre>    Data prepared in: 0.148373s</pre>"
      ],
      "text/plain": [
       "    Data prepared in: 0.148373s"
      ]
     },
     "metadata": {},
     "output_type": "display_data"
    },
    {
     "data": {
      "text/html": [
       "<pre>Training factorization_recommender for recommendations.</pre>"
      ],
      "text/plain": [
       "Training factorization_recommender for recommendations."
      ]
     },
     "metadata": {},
     "output_type": "display_data"
    },
    {
     "data": {
      "text/html": [
       "<pre>+--------------------------------+--------------------------------------------------+----------+</pre>"
      ],
      "text/plain": [
       "+--------------------------------+--------------------------------------------------+----------+"
      ]
     },
     "metadata": {},
     "output_type": "display_data"
    },
    {
     "data": {
      "text/html": [
       "<pre>| Parameter                      | Description                                      | Value    |</pre>"
      ],
      "text/plain": [
       "| Parameter                      | Description                                      | Value    |"
      ]
     },
     "metadata": {},
     "output_type": "display_data"
    },
    {
     "data": {
      "text/html": [
       "<pre>+--------------------------------+--------------------------------------------------+----------+</pre>"
      ],
      "text/plain": [
       "+--------------------------------+--------------------------------------------------+----------+"
      ]
     },
     "metadata": {},
     "output_type": "display_data"
    },
    {
     "data": {
      "text/html": [
       "<pre>| num_factors                    | Factor Dimension                                 | 8        |</pre>"
      ],
      "text/plain": [
       "| num_factors                    | Factor Dimension                                 | 8        |"
      ]
     },
     "metadata": {},
     "output_type": "display_data"
    },
    {
     "data": {
      "text/html": [
       "<pre>| regularization                 | L2 Regularization on Factors                     | 1e-08    |</pre>"
      ],
      "text/plain": [
       "| regularization                 | L2 Regularization on Factors                     | 1e-08    |"
      ]
     },
     "metadata": {},
     "output_type": "display_data"
    },
    {
     "data": {
      "text/html": [
       "<pre>| solver                         | Solver used for training                         | adagrad  |</pre>"
      ],
      "text/plain": [
       "| solver                         | Solver used for training                         | adagrad  |"
      ]
     },
     "metadata": {},
     "output_type": "display_data"
    },
    {
     "data": {
      "text/html": [
       "<pre>| linear_regularization          | L2 Regularization on Linear Coefficients         | 1e-10    |</pre>"
      ],
      "text/plain": [
       "| linear_regularization          | L2 Regularization on Linear Coefficients         | 1e-10    |"
      ]
     },
     "metadata": {},
     "output_type": "display_data"
    },
    {
     "data": {
      "text/html": [
       "<pre>| side_data_factorization        | Assign Factors for Side Data                     | True     |</pre>"
      ],
      "text/plain": [
       "| side_data_factorization        | Assign Factors for Side Data                     | True     |"
      ]
     },
     "metadata": {},
     "output_type": "display_data"
    },
    {
     "data": {
      "text/html": [
       "<pre>| max_iterations                 | Maximum Number of Iterations                     | 50       |</pre>"
      ],
      "text/plain": [
       "| max_iterations                 | Maximum Number of Iterations                     | 50       |"
      ]
     },
     "metadata": {},
     "output_type": "display_data"
    },
    {
     "data": {
      "text/html": [
       "<pre>+--------------------------------+--------------------------------------------------+----------+</pre>"
      ],
      "text/plain": [
       "+--------------------------------+--------------------------------------------------+----------+"
      ]
     },
     "metadata": {},
     "output_type": "display_data"
    },
    {
     "data": {
      "text/html": [
       "<pre>  Optimizing model using SGD; tuning step size.</pre>"
      ],
      "text/plain": [
       "  Optimizing model using SGD; tuning step size."
      ]
     },
     "metadata": {},
     "output_type": "display_data"
    },
    {
     "data": {
      "text/html": [
       "<pre>  Using 10000 / 46170 points for tuning the step size.</pre>"
      ],
      "text/plain": [
       "  Using 10000 / 46170 points for tuning the step size."
      ]
     },
     "metadata": {},
     "output_type": "display_data"
    },
    {
     "data": {
      "text/html": [
       "<pre>+---------+-------------------+------------------------------------------+</pre>"
      ],
      "text/plain": [
       "+---------+-------------------+------------------------------------------+"
      ]
     },
     "metadata": {},
     "output_type": "display_data"
    },
    {
     "data": {
      "text/html": [
       "<pre>| Attempt | Initial Step Size | Estimated Objective Value                |</pre>"
      ],
      "text/plain": [
       "| Attempt | Initial Step Size | Estimated Objective Value                |"
      ]
     },
     "metadata": {},
     "output_type": "display_data"
    },
    {
     "data": {
      "text/html": [
       "<pre>+---------+-------------------+------------------------------------------+</pre>"
      ],
      "text/plain": [
       "+---------+-------------------+------------------------------------------+"
      ]
     },
     "metadata": {},
     "output_type": "display_data"
    },
    {
     "data": {
      "text/html": [
       "<pre>| 0       | 16.6667           | Not Viable                               |</pre>"
      ],
      "text/plain": [
       "| 0       | 16.6667           | Not Viable                               |"
      ]
     },
     "metadata": {},
     "output_type": "display_data"
    },
    {
     "data": {
      "text/html": [
       "<pre>| 1       | 4.16667           | No Decrease (21.5597 >= 4.58588)         |</pre>"
      ],
      "text/plain": [
       "| 1       | 4.16667           | No Decrease (21.5597 >= 4.58588)         |"
      ]
     },
     "metadata": {},
     "output_type": "display_data"
    },
    {
     "data": {
      "text/html": [
       "<pre>| 2       | 1.04167           | 0.53367                                  |</pre>"
      ],
      "text/plain": [
       "| 2       | 1.04167           | 0.53367                                  |"
      ]
     },
     "metadata": {},
     "output_type": "display_data"
    },
    {
     "data": {
      "text/html": [
       "<pre>| 3       | 0.520833          | 0.149768                                 |</pre>"
      ],
      "text/plain": [
       "| 3       | 0.520833          | 0.149768                                 |"
      ]
     },
     "metadata": {},
     "output_type": "display_data"
    },
    {
     "data": {
      "text/html": [
       "<pre>| 4       | 0.260417          | 0.216257                                 |</pre>"
      ],
      "text/plain": [
       "| 4       | 0.260417          | 0.216257                                 |"
      ]
     },
     "metadata": {},
     "output_type": "display_data"
    },
    {
     "data": {
      "text/html": [
       "<pre>| 5       | 0.130208          | 0.619232                                 |</pre>"
      ],
      "text/plain": [
       "| 5       | 0.130208          | 0.619232                                 |"
      ]
     },
     "metadata": {},
     "output_type": "display_data"
    },
    {
     "data": {
      "text/html": [
       "<pre>+---------+-------------------+------------------------------------------+</pre>"
      ],
      "text/plain": [
       "+---------+-------------------+------------------------------------------+"
      ]
     },
     "metadata": {},
     "output_type": "display_data"
    },
    {
     "data": {
      "text/html": [
       "<pre>| Final   | 0.520833          | 0.149768                                 |</pre>"
      ],
      "text/plain": [
       "| Final   | 0.520833          | 0.149768                                 |"
      ]
     },
     "metadata": {},
     "output_type": "display_data"
    },
    {
     "data": {
      "text/html": [
       "<pre>+---------+-------------------+------------------------------------------+</pre>"
      ],
      "text/plain": [
       "+---------+-------------------+------------------------------------------+"
      ]
     },
     "metadata": {},
     "output_type": "display_data"
    },
    {
     "data": {
      "text/html": [
       "<pre>Starting Optimization.</pre>"
      ],
      "text/plain": [
       "Starting Optimization."
      ]
     },
     "metadata": {},
     "output_type": "display_data"
    },
    {
     "data": {
      "text/html": [
       "<pre>+---------+--------------+-------------------+-----------------------+-------------+</pre>"
      ],
      "text/plain": [
       "+---------+--------------+-------------------+-----------------------+-------------+"
      ]
     },
     "metadata": {},
     "output_type": "display_data"
    },
    {
     "data": {
      "text/html": [
       "<pre>| Iter.   | Elapsed Time | Approx. Objective | Approx. Training RMSE | Step Size   |</pre>"
      ],
      "text/plain": [
       "| Iter.   | Elapsed Time | Approx. Objective | Approx. Training RMSE | Step Size   |"
      ]
     },
     "metadata": {},
     "output_type": "display_data"
    },
    {
     "data": {
      "text/html": [
       "<pre>+---------+--------------+-------------------+-----------------------+-------------+</pre>"
      ],
      "text/plain": [
       "+---------+--------------+-------------------+-----------------------+-------------+"
      ]
     },
     "metadata": {},
     "output_type": "display_data"
    },
    {
     "data": {
      "text/html": [
       "<pre>| Initial | 119us        | 4.54844           | 2.13271               |             |</pre>"
      ],
      "text/plain": [
       "| Initial | 119us        | 4.54844           | 2.13271               |             |"
      ]
     },
     "metadata": {},
     "output_type": "display_data"
    },
    {
     "data": {
      "text/html": [
       "<pre>+---------+--------------+-------------------+-----------------------+-------------+</pre>"
      ],
      "text/plain": [
       "+---------+--------------+-------------------+-----------------------+-------------+"
      ]
     },
     "metadata": {},
     "output_type": "display_data"
    },
    {
     "data": {
      "text/html": [
       "<pre>| 1       | 41.548ms     | 4.80553           | 2.19195               | 0.520833    |</pre>"
      ],
      "text/plain": [
       "| 1       | 41.548ms     | 4.80553           | 2.19195               | 0.520833    |"
      ]
     },
     "metadata": {},
     "output_type": "display_data"
    },
    {
     "data": {
      "text/html": [
       "<pre>| 2       | 113.945ms    | 2.61072           | 1.61552               | 0.520833    |</pre>"
      ],
      "text/plain": [
       "| 2       | 113.945ms    | 2.61072           | 1.61552               | 0.520833    |"
      ]
     },
     "metadata": {},
     "output_type": "display_data"
    },
    {
     "data": {
      "text/html": [
       "<pre>| 3       | 152.463ms    | 1.06709           | 1.03262               | 0.520833    |</pre>"
      ],
      "text/plain": [
       "| 3       | 152.463ms    | 1.06709           | 1.03262               | 0.520833    |"
      ]
     },
     "metadata": {},
     "output_type": "display_data"
    },
    {
     "data": {
      "text/html": [
       "<pre>| 4       | 212.41ms     | 0.456048          | 0.674728              | 0.520833    |</pre>"
      ],
      "text/plain": [
       "| 4       | 212.41ms     | 0.456048          | 0.674728              | 0.520833    |"
      ]
     },
     "metadata": {},
     "output_type": "display_data"
    },
    {
     "data": {
      "text/html": [
       "<pre>| 5       | 264.125ms    | 0.212475          | 0.460092              | 0.520833    |</pre>"
      ],
      "text/plain": [
       "| 5       | 264.125ms    | 0.212475          | 0.460092              | 0.520833    |"
      ]
     },
     "metadata": {},
     "output_type": "display_data"
    },
    {
     "data": {
      "text/html": [
       "<pre>| 6       | 326.643ms    | 0.111294          | 0.332419              | 0.520833    |</pre>"
      ],
      "text/plain": [
       "| 6       | 326.643ms    | 0.111294          | 0.332419              | 0.520833    |"
      ]
     },
     "metadata": {},
     "output_type": "display_data"
    },
    {
     "data": {
      "text/html": [
       "<pre>| 11      | 726.339ms    | 0.0229296         | 0.148779              | 0.520833    |</pre>"
      ],
      "text/plain": [
       "| 11      | 726.339ms    | 0.0229296         | 0.148779              | 0.520833    |"
      ]
     },
     "metadata": {},
     "output_type": "display_data"
    },
    {
     "data": {
      "text/html": [
       "<pre>| 25      | 1.48s        | 0.0087273         | 0.0890617             | 0.520833    |</pre>"
      ],
      "text/plain": [
       "| 25      | 1.48s        | 0.0087273         | 0.0890617             | 0.520833    |"
      ]
     },
     "metadata": {},
     "output_type": "display_data"
    },
    {
     "data": {
      "text/html": [
       "<pre>| 50      | 3.21s        | 0.010719          | 0.0996324             | 0.520833    |</pre>"
      ],
      "text/plain": [
       "| 50      | 3.21s        | 0.010719          | 0.0996324             | 0.520833    |"
      ]
     },
     "metadata": {},
     "output_type": "display_data"
    },
    {
     "data": {
      "text/html": [
       "<pre>+---------+--------------+-------------------+-----------------------+-------------+</pre>"
      ],
      "text/plain": [
       "+---------+--------------+-------------------+-----------------------+-------------+"
      ]
     },
     "metadata": {},
     "output_type": "display_data"
    },
    {
     "data": {
      "text/html": [
       "<pre>Optimization Complete: Maximum number of passes through the data reached.</pre>"
      ],
      "text/plain": [
       "Optimization Complete: Maximum number of passes through the data reached."
      ]
     },
     "metadata": {},
     "output_type": "display_data"
    },
    {
     "data": {
      "text/html": [
       "<pre>Computing final objective value and training RMSE.</pre>"
      ],
      "text/plain": [
       "Computing final objective value and training RMSE."
      ]
     },
     "metadata": {},
     "output_type": "display_data"
    },
    {
     "data": {
      "text/html": [
       "<pre>       Final objective value: 0.0143545</pre>"
      ],
      "text/plain": [
       "       Final objective value: 0.0143545"
      ]
     },
     "metadata": {},
     "output_type": "display_data"
    },
    {
     "data": {
      "text/html": [
       "<pre>       Final training RMSE: 0.116456</pre>"
      ],
      "text/plain": [
       "       Final training RMSE: 0.116456"
      ]
     },
     "metadata": {},
     "output_type": "display_data"
    }
   ],
   "source": [
    "user_info = sf_train[['userId', 'height', 'weight', 'bodyfat']]\n",
    "item_info = sf_train[['brandId', 'productId']]\n",
    "user_info = user_info.fillna('weight',181.7716)\n",
    "user_info = user_info.fillna('height',69.5269)\n",
    "user_info = user_info.fillna('bodyfat',15.5243)\n",
    "m07 = factorization_recommender.create(sf_train[['userId', 'productId', 'rating']], user_id = 'userId', item_id='productId', target='rating',\\\n",
    "                                    #user_data=user_info,\\\n",
    "                                    item_data=item_info)"
   ]
  },
  {
   "cell_type": "code",
   "execution_count": 66,
   "metadata": {
    "collapsed": true
   },
   "outputs": [
    {
     "data": {
      "text/plain": [
       "{'rmse_by_item': Columns:\n",
       " \tproductId\tstr\n",
       " \tcount\tint\n",
       " \trmse\tfloat\n",
       " \n",
       " Rows: 1519\n",
       " \n",
       " Data:\n",
       " +-------------+-------+----------------+\n",
       " |  productId  | count |      rmse      |\n",
       " +-------------+-------+----------------+\n",
       " | prod1250008 |   6   |  4.1462266865  |\n",
       " |  prod140038 |   9   | 1.24685206005  |\n",
       " |    25154    |   1   | 1.98425638797  |\n",
       " |    26493    |   1   | 1.79682567595  |\n",
       " |    26994    |  100  | 1.47388070783  |\n",
       " |    28496    |   3   | 2.66383027909  |\n",
       " | prod1120036 |   1   | 2.15727895377  |\n",
       " |    26713    |   13  | 0.996572648736 |\n",
       " | prod3820059 |   68  | 1.41687581438  |\n",
       " |  prod800014 |   1   |  1.1567268881  |\n",
       " +-------------+-------+----------------+\n",
       " [1519 rows x 3 columns]\n",
       " Note: Only the head of the SFrame is printed.\n",
       " You can use print_rows(num_rows=m, num_columns=n) to print more rows and columns.,\n",
       " 'rmse_by_user': Columns:\n",
       " \tuserId\tstr\n",
       " \tcount\tint\n",
       " \trmse\tfloat\n",
       " \n",
       " Rows: 12869\n",
       " \n",
       " Data:\n",
       " +-----------+-------+----------------+\n",
       " |   userId  | count |      rmse      |\n",
       " +-----------+-------+----------------+\n",
       " | 109123202 |   1   | 2.51288375137  |\n",
       " |  90464702 |   4   | 1.12926425123  |\n",
       " |  25956861 |   1   | 0.882211557311 |\n",
       " |  17183152 |   1   | 1.15834327294  |\n",
       " |  47203051 |   2   | 6.16613930102  |\n",
       " |  60163242 |   1   | 0.265012143832 |\n",
       " |  16434252 |   1   | 1.71782661853  |\n",
       " |  79233772 |   3   | 1.37756900506  |\n",
       " |  56313712 |   1   | 2.50275534512  |\n",
       " |  51140351 |   1   | 1.37710414706  |\n",
       " +-----------+-------+----------------+\n",
       " [12869 rows x 3 columns]\n",
       " Note: Only the head of the SFrame is printed.\n",
       " You can use print_rows(num_rows=m, num_columns=n) to print more rows and columns.,\n",
       " 'rmse_overall': 2.2952779217375534}"
      ]
     },
     "execution_count": 66,
     "metadata": {},
     "output_type": "execute_result"
    }
   ],
   "source": [
    "eval = m07.evaluate_rmse(sf_test[['userId', 'productId', 'rating', 'brandId']], target= 'rating')\n",
    "eval"
   ]
  },
  {
   "cell_type": "code",
   "execution_count": 101,
   "metadata": {
    "collapsed": false
   },
   "outputs": [],
   "source": [
    "sf = SFrame(df)\n",
    "sf_train, sf_test = sf.random_split(.75)"
   ]
  },
  {
   "cell_type": "markdown",
   "metadata": {},
   "source": [
    "Item     Item Data  User Data         Train    Test\n",
    "Brand    None       None              .412    2.302\n",
    "Product  None       None              .105    2.113\n",
    "Product  Brand      None              .116    2.230\n",
    "Product  None       Weight            .132    2.284\n",
    "Product  None       Height           1.087    2.390\n",
    "Product  None       Bodyfat           .450    2.373\n",
    "Product  None       Weight, Bf        .592    2.855\n",
    "Product  None       Height, Bf        .856    2.681\n",
    "Product  None       Height, Weight   2.087    2.132\n",
    "Product  None       Ht, Wt, Bf       1.870    2.256\n"
   ]
  },
  {
   "cell_type": "code",
   "execution_count": 103,
   "metadata": {
    "collapsed": false,
    "scrolled": false
   },
   "outputs": [
    {
     "data": {
      "text/html": [
       "<pre>Recsys training: model = factorization_recommender</pre>"
      ],
      "text/plain": [
       "Recsys training: model = factorization_recommender"
      ]
     },
     "metadata": {},
     "output_type": "display_data"
    },
    {
     "data": {
      "text/html": [
       "<pre>Preparing data set.</pre>"
      ],
      "text/plain": [
       "Preparing data set."
      ]
     },
     "metadata": {},
     "output_type": "display_data"
    },
    {
     "data": {
      "text/html": [
       "<pre>    Data has 46367 observations with 31161 users and 1973 items.</pre>"
      ],
      "text/plain": [
       "    Data has 46367 observations with 31161 users and 1973 items."
      ]
     },
     "metadata": {},
     "output_type": "display_data"
    },
    {
     "data": {
      "text/html": [
       "<pre>    Data prepared in: 0.685639s</pre>"
      ],
      "text/plain": [
       "    Data prepared in: 0.685639s"
      ]
     },
     "metadata": {},
     "output_type": "display_data"
    },
    {
     "data": {
      "text/html": [
       "<pre>Training factorization_recommender for recommendations.</pre>"
      ],
      "text/plain": [
       "Training factorization_recommender for recommendations."
      ]
     },
     "metadata": {},
     "output_type": "display_data"
    },
    {
     "data": {
      "text/html": [
       "<pre>+--------------------------------+--------------------------------------------------+----------+</pre>"
      ],
      "text/plain": [
       "+--------------------------------+--------------------------------------------------+----------+"
      ]
     },
     "metadata": {},
     "output_type": "display_data"
    },
    {
     "data": {
      "text/html": [
       "<pre>| Parameter                      | Description                                      | Value    |</pre>"
      ],
      "text/plain": [
       "| Parameter                      | Description                                      | Value    |"
      ]
     },
     "metadata": {},
     "output_type": "display_data"
    },
    {
     "data": {
      "text/html": [
       "<pre>+--------------------------------+--------------------------------------------------+----------+</pre>"
      ],
      "text/plain": [
       "+--------------------------------+--------------------------------------------------+----------+"
      ]
     },
     "metadata": {},
     "output_type": "display_data"
    },
    {
     "data": {
      "text/html": [
       "<pre>| num_factors                    | Factor Dimension                                 | 8        |</pre>"
      ],
      "text/plain": [
       "| num_factors                    | Factor Dimension                                 | 8        |"
      ]
     },
     "metadata": {},
     "output_type": "display_data"
    },
    {
     "data": {
      "text/html": [
       "<pre>| regularization                 | L2 Regularization on Factors                     | 1e-08    |</pre>"
      ],
      "text/plain": [
       "| regularization                 | L2 Regularization on Factors                     | 1e-08    |"
      ]
     },
     "metadata": {},
     "output_type": "display_data"
    },
    {
     "data": {
      "text/html": [
       "<pre>| solver                         | Solver used for training                         | adagrad  |</pre>"
      ],
      "text/plain": [
       "| solver                         | Solver used for training                         | adagrad  |"
      ]
     },
     "metadata": {},
     "output_type": "display_data"
    },
    {
     "data": {
      "text/html": [
       "<pre>| linear_regularization          | L2 Regularization on Linear Coefficients         | 1e-10    |</pre>"
      ],
      "text/plain": [
       "| linear_regularization          | L2 Regularization on Linear Coefficients         | 1e-10    |"
      ]
     },
     "metadata": {},
     "output_type": "display_data"
    },
    {
     "data": {
      "text/html": [
       "<pre>| side_data_factorization        | Assign Factors for Side Data                     | True     |</pre>"
      ],
      "text/plain": [
       "| side_data_factorization        | Assign Factors for Side Data                     | True     |"
      ]
     },
     "metadata": {},
     "output_type": "display_data"
    },
    {
     "data": {
      "text/html": [
       "<pre>| max_iterations                 | Maximum Number of Iterations                     | 50       |</pre>"
      ],
      "text/plain": [
       "| max_iterations                 | Maximum Number of Iterations                     | 50       |"
      ]
     },
     "metadata": {},
     "output_type": "display_data"
    },
    {
     "data": {
      "text/html": [
       "<pre>+--------------------------------+--------------------------------------------------+----------+</pre>"
      ],
      "text/plain": [
       "+--------------------------------+--------------------------------------------------+----------+"
      ]
     },
     "metadata": {},
     "output_type": "display_data"
    },
    {
     "data": {
      "text/html": [
       "<pre>  Optimizing model using SGD; tuning step size.</pre>"
      ],
      "text/plain": [
       "  Optimizing model using SGD; tuning step size."
      ]
     },
     "metadata": {},
     "output_type": "display_data"
    },
    {
     "data": {
      "text/html": [
       "<pre>  Using 10000 / 46367 points for tuning the step size.</pre>"
      ],
      "text/plain": [
       "  Using 10000 / 46367 points for tuning the step size."
      ]
     },
     "metadata": {},
     "output_type": "display_data"
    },
    {
     "data": {
      "text/html": [
       "<pre>+---------+-------------------+------------------------------------------+</pre>"
      ],
      "text/plain": [
       "+---------+-------------------+------------------------------------------+"
      ]
     },
     "metadata": {},
     "output_type": "display_data"
    },
    {
     "data": {
      "text/html": [
       "<pre>| Attempt | Initial Step Size | Estimated Objective Value                |</pre>"
      ],
      "text/plain": [
       "| Attempt | Initial Step Size | Estimated Objective Value                |"
      ]
     },
     "metadata": {},
     "output_type": "display_data"
    },
    {
     "data": {
      "text/html": [
       "<pre>+---------+-------------------+------------------------------------------+</pre>"
      ],
      "text/plain": [
       "+---------+-------------------+------------------------------------------+"
      ]
     },
     "metadata": {},
     "output_type": "display_data"
    },
    {
     "data": {
      "text/html": [
       "<pre>| 0       | 10                | Not Viable                               |</pre>"
      ],
      "text/plain": [
       "| 0       | 10                | Not Viable                               |"
      ]
     },
     "metadata": {},
     "output_type": "display_data"
    },
    {
     "data": {
      "text/html": [
       "<pre>| 1       | 2.5               | Not Viable                               |</pre>"
      ],
      "text/plain": [
       "| 1       | 2.5               | Not Viable                               |"
      ]
     },
     "metadata": {},
     "output_type": "display_data"
    },
    {
     "data": {
      "text/html": [
       "<pre>| 2       | 0.625             | Not Viable                               |</pre>"
      ],
      "text/plain": [
       "| 2       | 0.625             | Not Viable                               |"
      ]
     },
     "metadata": {},
     "output_type": "display_data"
    },
    {
     "data": {
      "text/html": [
       "<pre>| 3       | 0.15625           | No Decrease (5.18042 >= 4.67807)         |</pre>"
      ],
      "text/plain": [
       "| 3       | 0.15625           | No Decrease (5.18042 >= 4.67807)         |"
      ]
     },
     "metadata": {},
     "output_type": "display_data"
    },
    {
     "data": {
      "text/html": [
       "<pre>| 4       | 0.0390625         | 3.57296                                  |</pre>"
      ],
      "text/plain": [
       "| 4       | 0.0390625         | 3.57296                                  |"
      ]
     },
     "metadata": {},
     "output_type": "display_data"
    },
    {
     "data": {
      "text/html": [
       "<pre>| 5       | 0.0195312         | 4.20784                                  |</pre>"
      ],
      "text/plain": [
       "| 5       | 0.0195312         | 4.20784                                  |"
      ]
     },
     "metadata": {},
     "output_type": "display_data"
    },
    {
     "data": {
      "text/html": [
       "<pre>| 6       | 0.00976562        | 4.43192                                  |</pre>"
      ],
      "text/plain": [
       "| 6       | 0.00976562        | 4.43192                                  |"
      ]
     },
     "metadata": {},
     "output_type": "display_data"
    },
    {
     "data": {
      "text/html": [
       "<pre>| 7       | 0.00488281        | 4.55595                                  |</pre>"
      ],
      "text/plain": [
       "| 7       | 0.00488281        | 4.55595                                  |"
      ]
     },
     "metadata": {},
     "output_type": "display_data"
    },
    {
     "data": {
      "text/html": [
       "<pre>+---------+-------------------+------------------------------------------+</pre>"
      ],
      "text/plain": [
       "+---------+-------------------+------------------------------------------+"
      ]
     },
     "metadata": {},
     "output_type": "display_data"
    },
    {
     "data": {
      "text/html": [
       "<pre>| Final   | 0.0390625         | 3.57296                                  |</pre>"
      ],
      "text/plain": [
       "| Final   | 0.0390625         | 3.57296                                  |"
      ]
     },
     "metadata": {},
     "output_type": "display_data"
    },
    {
     "data": {
      "text/html": [
       "<pre>+---------+-------------------+------------------------------------------+</pre>"
      ],
      "text/plain": [
       "+---------+-------------------+------------------------------------------+"
      ]
     },
     "metadata": {},
     "output_type": "display_data"
    },
    {
     "data": {
      "text/html": [
       "<pre>Starting Optimization.</pre>"
      ],
      "text/plain": [
       "Starting Optimization."
      ]
     },
     "metadata": {},
     "output_type": "display_data"
    },
    {
     "data": {
      "text/html": [
       "<pre>+---------+--------------+-------------------+-----------------------+-------------+</pre>"
      ],
      "text/plain": [
       "+---------+--------------+-------------------+-----------------------+-------------+"
      ]
     },
     "metadata": {},
     "output_type": "display_data"
    },
    {
     "data": {
      "text/html": [
       "<pre>| Iter.   | Elapsed Time | Approx. Objective | Approx. Training RMSE | Step Size   |</pre>"
      ],
      "text/plain": [
       "| Iter.   | Elapsed Time | Approx. Objective | Approx. Training RMSE | Step Size   |"
      ]
     },
     "metadata": {},
     "output_type": "display_data"
    },
    {
     "data": {
      "text/html": [
       "<pre>+---------+--------------+-------------------+-----------------------+-------------+</pre>"
      ],
      "text/plain": [
       "+---------+--------------+-------------------+-----------------------+-------------+"
      ]
     },
     "metadata": {},
     "output_type": "display_data"
    },
    {
     "data": {
      "text/html": [
       "<pre>| Initial | 135us        | 4.56799           | 2.13729               |             |</pre>"
      ],
      "text/plain": [
       "| Initial | 135us        | 4.56799           | 2.13729               |             |"
      ]
     },
     "metadata": {},
     "output_type": "display_data"
    },
    {
     "data": {
      "text/html": [
       "<pre>+---------+--------------+-------------------+-----------------------+-------------+</pre>"
      ],
      "text/plain": [
       "+---------+--------------+-------------------+-----------------------+-------------+"
      ]
     },
     "metadata": {},
     "output_type": "display_data"
    },
    {
     "data": {
      "text/html": [
       "<pre>| 1       | 86.448ms     | 4.4558            | 2.11088               | 0.0390625   |</pre>"
      ],
      "text/plain": [
       "| 1       | 86.448ms     | 4.4558            | 2.11088               | 0.0390625   |"
      ]
     },
     "metadata": {},
     "output_type": "display_data"
    },
    {
     "data": {
      "text/html": [
       "<pre>| 2       | 192.545ms    | 4.24682           | 2.06078               | 0.0390625   |</pre>"
      ],
      "text/plain": [
       "| 2       | 192.545ms    | 4.24682           | 2.06078               | 0.0390625   |"
      ]
     },
     "metadata": {},
     "output_type": "display_data"
    },
    {
     "data": {
      "text/html": [
       "<pre>| 3       | 257.925ms    | 4.08696           | 2.02162               | 0.0390625   |</pre>"
      ],
      "text/plain": [
       "| 3       | 257.925ms    | 4.08696           | 2.02162               | 0.0390625   |"
      ]
     },
     "metadata": {},
     "output_type": "display_data"
    },
    {
     "data": {
      "text/html": [
       "<pre>| 4       | 330.478ms    | 3.94442           | 1.98605               | 0.0390625   |</pre>"
      ],
      "text/plain": [
       "| 4       | 330.478ms    | 3.94442           | 1.98605               | 0.0390625   |"
      ]
     },
     "metadata": {},
     "output_type": "display_data"
    },
    {
     "data": {
      "text/html": [
       "<pre>| 5       | 406.23ms     | 3.79457           | 1.94796               | 0.0390625   |</pre>"
      ],
      "text/plain": [
       "| 5       | 406.23ms     | 3.79457           | 1.94796               | 0.0390625   |"
      ]
     },
     "metadata": {},
     "output_type": "display_data"
    },
    {
     "data": {
      "text/html": [
       "<pre>| 6       | 491.468ms    | 3.63034           | 1.90534               | 0.0390625   |</pre>"
      ],
      "text/plain": [
       "| 6       | 491.468ms    | 3.63034           | 1.90534               | 0.0390625   |"
      ]
     },
     "metadata": {},
     "output_type": "display_data"
    },
    {
     "data": {
      "text/html": [
       "<pre>| 11      | 831.107ms    | 2.93838           | 1.71416               | 0.0390625   |</pre>"
      ],
      "text/plain": [
       "| 11      | 831.107ms    | 2.93838           | 1.71416               | 0.0390625   |"
      ]
     },
     "metadata": {},
     "output_type": "display_data"
    },
    {
     "data": {
      "text/html": [
       "<pre>| 25      | 2.19s        | 1.77172           | 1.33103               | 0.0390625   |</pre>"
      ],
      "text/plain": [
       "| 25      | 2.19s        | 1.77172           | 1.33103               | 0.0390625   |"
      ]
     },
     "metadata": {},
     "output_type": "display_data"
    },
    {
     "data": {
      "text/html": [
       "<pre>| 50      | 4.24s        | 1.28716           | 1.13448               | 0.0390625   |</pre>"
      ],
      "text/plain": [
       "| 50      | 4.24s        | 1.28716           | 1.13448               | 0.0390625   |"
      ]
     },
     "metadata": {},
     "output_type": "display_data"
    },
    {
     "data": {
      "text/html": [
       "<pre>+---------+--------------+-------------------+-----------------------+-------------+</pre>"
      ],
      "text/plain": [
       "+---------+--------------+-------------------+-----------------------+-------------+"
      ]
     },
     "metadata": {},
     "output_type": "display_data"
    },
    {
     "data": {
      "text/html": [
       "<pre>Optimization Complete: Maximum number of passes through the data reached.</pre>"
      ],
      "text/plain": [
       "Optimization Complete: Maximum number of passes through the data reached."
      ]
     },
     "metadata": {},
     "output_type": "display_data"
    },
    {
     "data": {
      "text/html": [
       "<pre>Computing final objective value and training RMSE.</pre>"
      ],
      "text/plain": [
       "Computing final objective value and training RMSE."
      ]
     },
     "metadata": {},
     "output_type": "display_data"
    },
    {
     "data": {
      "text/html": [
       "<pre>       Final objective value: 1.24618</pre>"
      ],
      "text/plain": [
       "       Final objective value: 1.24618"
      ]
     },
     "metadata": {},
     "output_type": "display_data"
    },
    {
     "data": {
      "text/html": [
       "<pre>       Final training RMSE: 1.11627</pre>"
      ],
      "text/plain": [
       "       Final training RMSE: 1.11627"
      ]
     },
     "metadata": {},
     "output_type": "display_data"
    }
   ],
   "source": [
    "user_info = sf_train[['userId', 'height', 'weight', 'bodyfat']]\n",
    "item_info = sf_train[['productId']]\n",
    "user_info = user_info.fillna('weight',181.7716)\n",
    "user_info = user_info.fillna('height',69.5269)\n",
    "user_info = user_info.fillna('bodyfat',15.5243)\n",
    "lb = factorization_recommender.create(sf_train[['userId', 'productId', 'rating']], user_id = 'userId', item_id='productId', target='rating',\\\n",
    "                                     user_data=user_info)#,\\\n",
    "#                                     item_data=item_info)"
   ]
  },
  {
   "cell_type": "code",
   "execution_count": 105,
   "metadata": {
    "collapsed": false
   },
   "outputs": [
    {
     "name": "stderr",
     "output_type": "stream",
     "text": [
      "[ERROR] graphlab.toolkits._main: Toolkit error: Provided data missing required columns: productId.\n"
     ]
    },
    {
     "ename": "ToolkitError",
     "evalue": "Provided data missing required columns: productId.",
     "output_type": "error",
     "traceback": [
      "\u001b[0;31m---------------------------------------------------------------------------\u001b[0m",
      "\u001b[0;31mToolkitError\u001b[0m                              Traceback (most recent call last)",
      "\u001b[0;32m<ipython-input-105-5b24a3fbf8a2>\u001b[0m in \u001b[0;36m<module>\u001b[0;34m()\u001b[0m\n\u001b[0;32m----> 1\u001b[0;31m \u001b[0meval\u001b[0m \u001b[0;34m=\u001b[0m \u001b[0mlb\u001b[0m\u001b[0;34m.\u001b[0m\u001b[0mevaluate_rmse\u001b[0m\u001b[0;34m(\u001b[0m\u001b[0msf_test\u001b[0m\u001b[0;34m[\u001b[0m\u001b[0;34m[\u001b[0m\u001b[0;34m'userId'\u001b[0m\u001b[0;34m,\u001b[0m\u001b[0;34m'height'\u001b[0m\u001b[0;34m,\u001b[0m \u001b[0;34m'weight'\u001b[0m\u001b[0;34m,\u001b[0m \u001b[0;34m'bodyfat'\u001b[0m\u001b[0;34m,\u001b[0m \u001b[0;34m'rating'\u001b[0m\u001b[0;34m]\u001b[0m\u001b[0;34m]\u001b[0m\u001b[0;34m,\u001b[0m \u001b[0mtarget\u001b[0m\u001b[0;34m=\u001b[0m \u001b[0;34m'rating'\u001b[0m\u001b[0;34m)\u001b[0m\u001b[0;34m\u001b[0m\u001b[0m\n\u001b[0m\u001b[1;32m      2\u001b[0m \u001b[0meval\u001b[0m\u001b[0;34m\u001b[0m\u001b[0m\n",
      "\u001b[0;32m/Users/medrine/anaconda/lib/python2.7/site-packages/graphlab/toolkits/recommender/util.pyc\u001b[0m in \u001b[0;36mevaluate_rmse\u001b[0;34m(self, dataset, target)\u001b[0m\n\u001b[1;32m   2188\u001b[0m                 \u001b[0mname\u001b[0m \u001b[0;32mas\u001b[0m \u001b[0mthe\u001b[0m \u001b[0mtarget\u001b[0m \u001b[0mused\u001b[0m \u001b[0mduring\u001b[0m \u001b[0mtraining\u001b[0m\u001b[0;34m.\u001b[0m\u001b[0;31m'\u001b[0m\u001b[0;34m\u001b[0m\u001b[0m\n\u001b[1;32m   2189\u001b[0m         \u001b[0my\u001b[0m \u001b[0;34m=\u001b[0m \u001b[0mdataset\u001b[0m\u001b[0;34m[\u001b[0m\u001b[0mtarget\u001b[0m\u001b[0;34m]\u001b[0m\u001b[0;34m\u001b[0m\u001b[0m\n\u001b[0;32m-> 2190\u001b[0;31m         \u001b[0myhat\u001b[0m \u001b[0;34m=\u001b[0m \u001b[0mself\u001b[0m\u001b[0;34m.\u001b[0m\u001b[0mpredict\u001b[0m\u001b[0;34m(\u001b[0m\u001b[0mdataset\u001b[0m\u001b[0;34m)\u001b[0m\u001b[0;34m\u001b[0m\u001b[0m\n\u001b[0m\u001b[1;32m   2191\u001b[0m         \u001b[0muser_column\u001b[0m \u001b[0;34m=\u001b[0m \u001b[0mself\u001b[0m\u001b[0;34m.\u001b[0m\u001b[0mget\u001b[0m\u001b[0;34m(\u001b[0m\u001b[0;34m'user_id'\u001b[0m\u001b[0;34m)\u001b[0m\u001b[0;34m\u001b[0m\u001b[0m\n\u001b[1;32m   2192\u001b[0m         \u001b[0mitem_column\u001b[0m \u001b[0;34m=\u001b[0m \u001b[0mself\u001b[0m\u001b[0;34m.\u001b[0m\u001b[0mget\u001b[0m\u001b[0;34m(\u001b[0m\u001b[0;34m'item_id'\u001b[0m\u001b[0;34m)\u001b[0m\u001b[0;34m\u001b[0m\u001b[0m\n",
      "\u001b[0;32m/Users/medrine/anaconda/lib/python2.7/site-packages/graphlab/toolkits/recommender/util.pyc\u001b[0m in \u001b[0;36mpredict\u001b[0;34m(self, dataset, new_observation_data, new_user_data, new_item_data)\u001b[0m\n\u001b[1;32m   1483\u001b[0m \u001b[0;34m\u001b[0m\u001b[0m\n\u001b[1;32m   1484\u001b[0m         \u001b[0;31m# Call the C++ function for recommender_model\u001b[0m\u001b[0;34m\u001b[0m\u001b[0;34m\u001b[0m\u001b[0m\n\u001b[0;32m-> 1485\u001b[0;31m         \u001b[0mresponse\u001b[0m \u001b[0;34m=\u001b[0m \u001b[0m_graphlab\u001b[0m\u001b[0;34m.\u001b[0m\u001b[0mtoolkits\u001b[0m\u001b[0;34m.\u001b[0m\u001b[0m_main\u001b[0m\u001b[0;34m.\u001b[0m\u001b[0mrun\u001b[0m\u001b[0;34m(\u001b[0m\u001b[0;34m'recsys_predict'\u001b[0m\u001b[0;34m,\u001b[0m \u001b[0mopts\u001b[0m\u001b[0;34m)\u001b[0m\u001b[0;34m\u001b[0m\u001b[0m\n\u001b[0m\u001b[1;32m   1486\u001b[0m         \u001b[0mresult\u001b[0m \u001b[0;34m=\u001b[0m \u001b[0m_SFrame\u001b[0m\u001b[0;34m(\u001b[0m\u001b[0mNone\u001b[0m\u001b[0;34m,\u001b[0m \u001b[0m_proxy\u001b[0m\u001b[0;34m=\u001b[0m\u001b[0mresponse\u001b[0m\u001b[0;34m[\u001b[0m\u001b[0;34m'data'\u001b[0m\u001b[0;34m]\u001b[0m\u001b[0;34m)\u001b[0m\u001b[0;34m\u001b[0m\u001b[0m\n\u001b[1;32m   1487\u001b[0m         \u001b[0;32mreturn\u001b[0m \u001b[0mresult\u001b[0m\u001b[0;34m[\u001b[0m\u001b[0;34m'prediction'\u001b[0m\u001b[0;34m]\u001b[0m\u001b[0;34m\u001b[0m\u001b[0m\n",
      "\u001b[0;32m/Users/medrine/anaconda/lib/python2.7/site-packages/graphlab/toolkits/_main.pyc\u001b[0m in \u001b[0;36mrun\u001b[0;34m(toolkit_name, options, verbose, show_progress)\u001b[0m\n\u001b[1;32m     87\u001b[0m         \u001b[0m_get_metric_tracker\u001b[0m\u001b[0;34m(\u001b[0m\u001b[0;34m)\u001b[0m\u001b[0;34m.\u001b[0m\u001b[0mtrack\u001b[0m\u001b[0;34m(\u001b[0m\u001b[0mmetric_name\u001b[0m\u001b[0;34m,\u001b[0m \u001b[0mvalue\u001b[0m\u001b[0;34m=\u001b[0m\u001b[0;36m1\u001b[0m\u001b[0;34m,\u001b[0m \u001b[0mproperties\u001b[0m\u001b[0;34m=\u001b[0m\u001b[0mtrack_props\u001b[0m\u001b[0;34m,\u001b[0m \u001b[0msend_sys_info\u001b[0m\u001b[0;34m=\u001b[0m\u001b[0mFalse\u001b[0m\u001b[0;34m)\u001b[0m\u001b[0;34m\u001b[0m\u001b[0m\n\u001b[1;32m     88\u001b[0m \u001b[0;34m\u001b[0m\u001b[0m\n\u001b[0;32m---> 89\u001b[0;31m         \u001b[0;32mraise\u001b[0m \u001b[0mToolkitError\u001b[0m\u001b[0;34m(\u001b[0m\u001b[0mstr\u001b[0m\u001b[0;34m(\u001b[0m\u001b[0mmessage\u001b[0m\u001b[0;34m)\u001b[0m\u001b[0;34m)\u001b[0m\u001b[0;34m\u001b[0m\u001b[0m\n\u001b[0m",
      "\u001b[0;31mToolkitError\u001b[0m: Provided data missing required columns: productId."
     ]
    }
   ],
   "source": [
    "eval = lb.evaluate_rmse(sf_test[['userId', 'productId','height', 'weight', 'bodyfat', 'rating']], target= 'rating')\n",
    "eval"
   ]
  },
  {
   "cell_type": "code",
   "execution_count": null,
   "metadata": {
    "collapsed": true
   },
   "outputs": [],
   "source": []
  },
  {
   "cell_type": "code",
   "execution_count": null,
   "metadata": {
    "collapsed": true
   },
   "outputs": [],
   "source": []
  },
  {
   "cell_type": "markdown",
   "metadata": {},
   "source": [
    "Next model trained incorporated user specific attributes as well as item specific data, effectively lowering the RMSE to 0.261932"
   ]
  },
  {
   "cell_type": "code",
   "execution_count": 332,
   "metadata": {
    "collapsed": true
   },
   "outputs": [],
   "source": [
    "df = pd.read_pickle('nutrition.pkl')"
   ]
  },
  {
   "cell_type": "code",
   "execution_count": 337,
   "metadata": {
    "collapsed": true
   },
   "outputs": [],
   "source": [
    "sf = gl.SFrame(df[['userId', 'productId', 'rating']])\n",
    "user_info = gl.SFrame(df[['username', 'userId', 'height', 'weight', 'bodyfat']])\n",
    "item_info = gl.SFrame(df[['brandName', 'name', 'brandId', 'productId']])"
   ]
  },
  {
   "cell_type": "code",
   "execution_count": 343,
   "metadata": {
    "collapsed": false
   },
   "outputs": [],
   "source": [
    "user_info = user_info.fillna('weight',0)\n",
    "user_info = user_info.fillna('height',0)\n",
    "user_info = user_info.fillna('bodyfat',0)\n",
    "\n"
   ]
  },
  {
   "cell_type": "code",
   "execution_count": 344,
   "metadata": {
    "collapsed": false,
    "scrolled": true
   },
   "outputs": [
    {
     "data": {
      "text/html": [
       "<pre>Recsys training: model = factorization_recommender</pre>"
      ],
      "text/plain": [
       "Recsys training: model = factorization_recommender"
      ]
     },
     "metadata": {},
     "output_type": "display_data"
    },
    {
     "data": {
      "text/html": [
       "<pre>Preparing data set.</pre>"
      ],
      "text/plain": [
       "Preparing data set."
      ]
     },
     "metadata": {},
     "output_type": "display_data"
    },
    {
     "data": {
      "text/html": [
       "<pre>    Data has 64312 observations with 39465 users and 2131 items.</pre>"
      ],
      "text/plain": [
       "    Data has 64312 observations with 39465 users and 2131 items."
      ]
     },
     "metadata": {},
     "output_type": "display_data"
    },
    {
     "data": {
      "text/html": [
       "<pre>    Data prepared in: 0.577575s</pre>"
      ],
      "text/plain": [
       "    Data prepared in: 0.577575s"
      ]
     },
     "metadata": {},
     "output_type": "display_data"
    },
    {
     "data": {
      "text/html": [
       "<pre>Training factorization_recommender for recommendations.</pre>"
      ],
      "text/plain": [
       "Training factorization_recommender for recommendations."
      ]
     },
     "metadata": {},
     "output_type": "display_data"
    },
    {
     "data": {
      "text/html": [
       "<pre>+--------------------------------+--------------------------------------------------+----------+</pre>"
      ],
      "text/plain": [
       "+--------------------------------+--------------------------------------------------+----------+"
      ]
     },
     "metadata": {},
     "output_type": "display_data"
    },
    {
     "data": {
      "text/html": [
       "<pre>| Parameter                      | Description                                      | Value    |</pre>"
      ],
      "text/plain": [
       "| Parameter                      | Description                                      | Value    |"
      ]
     },
     "metadata": {},
     "output_type": "display_data"
    },
    {
     "data": {
      "text/html": [
       "<pre>+--------------------------------+--------------------------------------------------+----------+</pre>"
      ],
      "text/plain": [
       "+--------------------------------+--------------------------------------------------+----------+"
      ]
     },
     "metadata": {},
     "output_type": "display_data"
    },
    {
     "data": {
      "text/html": [
       "<pre>| num_factors                    | Factor Dimension                                 | 8        |</pre>"
      ],
      "text/plain": [
       "| num_factors                    | Factor Dimension                                 | 8        |"
      ]
     },
     "metadata": {},
     "output_type": "display_data"
    },
    {
     "data": {
      "text/html": [
       "<pre>| regularization                 | L2 Regularization on Factors                     | 1e-08    |</pre>"
      ],
      "text/plain": [
       "| regularization                 | L2 Regularization on Factors                     | 1e-08    |"
      ]
     },
     "metadata": {},
     "output_type": "display_data"
    },
    {
     "data": {
      "text/html": [
       "<pre>| solver                         | Solver used for training                         | adagrad  |</pre>"
      ],
      "text/plain": [
       "| solver                         | Solver used for training                         | adagrad  |"
      ]
     },
     "metadata": {},
     "output_type": "display_data"
    },
    {
     "data": {
      "text/html": [
       "<pre>| linear_regularization          | L2 Regularization on Linear Coefficients         | 1e-10    |</pre>"
      ],
      "text/plain": [
       "| linear_regularization          | L2 Regularization on Linear Coefficients         | 1e-10    |"
      ]
     },
     "metadata": {},
     "output_type": "display_data"
    },
    {
     "data": {
      "text/html": [
       "<pre>| side_data_factorization        | Assign Factors for Side Data                     | True     |</pre>"
      ],
      "text/plain": [
       "| side_data_factorization        | Assign Factors for Side Data                     | True     |"
      ]
     },
     "metadata": {},
     "output_type": "display_data"
    },
    {
     "data": {
      "text/html": [
       "<pre>| max_iterations                 | Maximum Number of Iterations                     | 50       |</pre>"
      ],
      "text/plain": [
       "| max_iterations                 | Maximum Number of Iterations                     | 50       |"
      ]
     },
     "metadata": {},
     "output_type": "display_data"
    },
    {
     "data": {
      "text/html": [
       "<pre>+--------------------------------+--------------------------------------------------+----------+</pre>"
      ],
      "text/plain": [
       "+--------------------------------+--------------------------------------------------+----------+"
      ]
     },
     "metadata": {},
     "output_type": "display_data"
    },
    {
     "data": {
      "text/html": [
       "<pre>  Optimizing model using SGD; tuning step size.</pre>"
      ],
      "text/plain": [
       "  Optimizing model using SGD; tuning step size."
      ]
     },
     "metadata": {},
     "output_type": "display_data"
    },
    {
     "data": {
      "text/html": [
       "<pre>  Using 10000 / 64312 points for tuning the step size.</pre>"
      ],
      "text/plain": [
       "  Using 10000 / 64312 points for tuning the step size."
      ]
     },
     "metadata": {},
     "output_type": "display_data"
    },
    {
     "data": {
      "text/html": [
       "<pre>+---------+-------------------+------------------------------------------+</pre>"
      ],
      "text/plain": [
       "+---------+-------------------+------------------------------------------+"
      ]
     },
     "metadata": {},
     "output_type": "display_data"
    },
    {
     "data": {
      "text/html": [
       "<pre>| Attempt | Initial Step Size | Estimated Objective Value                |</pre>"
      ],
      "text/plain": [
       "| Attempt | Initial Step Size | Estimated Objective Value                |"
      ]
     },
     "metadata": {},
     "output_type": "display_data"
    },
    {
     "data": {
      "text/html": [
       "<pre>+---------+-------------------+------------------------------------------+</pre>"
      ],
      "text/plain": [
       "+---------+-------------------+------------------------------------------+"
      ]
     },
     "metadata": {},
     "output_type": "display_data"
    },
    {
     "data": {
      "text/html": [
       "<pre>| 0       | 5.55556           | Not Viable                               |</pre>"
      ],
      "text/plain": [
       "| 0       | 5.55556           | Not Viable                               |"
      ]
     },
     "metadata": {},
     "output_type": "display_data"
    },
    {
     "data": {
      "text/html": [
       "<pre>| 1       | 1.38889           | Not Viable                               |</pre>"
      ],
      "text/plain": [
       "| 1       | 1.38889           | Not Viable                               |"
      ]
     },
     "metadata": {},
     "output_type": "display_data"
    },
    {
     "data": {
      "text/html": [
       "<pre>| 2       | 0.347222          | Not Viable                               |</pre>"
      ],
      "text/plain": [
       "| 2       | 0.347222          | Not Viable                               |"
      ]
     },
     "metadata": {},
     "output_type": "display_data"
    },
    {
     "data": {
      "text/html": [
       "<pre>| 3       | 0.0868056         | 1.56668                                  |</pre>"
      ],
      "text/plain": [
       "| 3       | 0.0868056         | 1.56668                                  |"
      ]
     },
     "metadata": {},
     "output_type": "display_data"
    },
    {
     "data": {
      "text/html": [
       "<pre>| 4       | 0.0434028         | 2.05017                                  |</pre>"
      ],
      "text/plain": [
       "| 4       | 0.0434028         | 2.05017                                  |"
      ]
     },
     "metadata": {},
     "output_type": "display_data"
    },
    {
     "data": {
      "text/html": [
       "<pre>| 5       | 0.0217014         | 3.23899                                  |</pre>"
      ],
      "text/plain": [
       "| 5       | 0.0217014         | 3.23899                                  |"
      ]
     },
     "metadata": {},
     "output_type": "display_data"
    },
    {
     "data": {
      "text/html": [
       "<pre>+---------+-------------------+------------------------------------------+</pre>"
      ],
      "text/plain": [
       "+---------+-------------------+------------------------------------------+"
      ]
     },
     "metadata": {},
     "output_type": "display_data"
    },
    {
     "data": {
      "text/html": [
       "<pre>| Final   | 0.0868056         | 1.56668                                  |</pre>"
      ],
      "text/plain": [
       "| Final   | 0.0868056         | 1.56668                                  |"
      ]
     },
     "metadata": {},
     "output_type": "display_data"
    },
    {
     "data": {
      "text/html": [
       "<pre>+---------+-------------------+------------------------------------------+</pre>"
      ],
      "text/plain": [
       "+---------+-------------------+------------------------------------------+"
      ]
     },
     "metadata": {},
     "output_type": "display_data"
    },
    {
     "data": {
      "text/html": [
       "<pre>Starting Optimization.</pre>"
      ],
      "text/plain": [
       "Starting Optimization."
      ]
     },
     "metadata": {},
     "output_type": "display_data"
    },
    {
     "data": {
      "text/html": [
       "<pre>+---------+--------------+-------------------+-----------------------+-------------+</pre>"
      ],
      "text/plain": [
       "+---------+--------------+-------------------+-----------------------+-------------+"
      ]
     },
     "metadata": {},
     "output_type": "display_data"
    },
    {
     "data": {
      "text/html": [
       "<pre>| Iter.   | Elapsed Time | Approx. Objective | Approx. Training RMSE | Step Size   |</pre>"
      ],
      "text/plain": [
       "| Iter.   | Elapsed Time | Approx. Objective | Approx. Training RMSE | Step Size   |"
      ]
     },
     "metadata": {},
     "output_type": "display_data"
    },
    {
     "data": {
      "text/html": [
       "<pre>+---------+--------------+-------------------+-----------------------+-------------+</pre>"
      ],
      "text/plain": [
       "+---------+--------------+-------------------+-----------------------+-------------+"
      ]
     },
     "metadata": {},
     "output_type": "display_data"
    },
    {
     "data": {
      "text/html": [
       "<pre>| Initial | 194us        | 4.54328           | 2.1315                |             |</pre>"
      ],
      "text/plain": [
       "| Initial | 194us        | 4.54328           | 2.1315                |             |"
      ]
     },
     "metadata": {},
     "output_type": "display_data"
    },
    {
     "data": {
      "text/html": [
       "<pre>+---------+--------------+-------------------+-----------------------+-------------+</pre>"
      ],
      "text/plain": [
       "+---------+--------------+-------------------+-----------------------+-------------+"
      ]
     },
     "metadata": {},
     "output_type": "display_data"
    },
    {
     "data": {
      "text/html": [
       "<pre>| 1       | 240.92ms     | 4.37119           | 2.09072               | 0.0868056   |</pre>"
      ],
      "text/plain": [
       "| 1       | 240.92ms     | 4.37119           | 2.09072               | 0.0868056   |"
      ]
     },
     "metadata": {},
     "output_type": "display_data"
    },
    {
     "data": {
      "text/html": [
       "<pre>| 2       | 394.357ms    | 3.21557           | 1.79318               | 0.0868056   |</pre>"
      ],
      "text/plain": [
       "| 2       | 394.357ms    | 3.21557           | 1.79318               | 0.0868056   |"
      ]
     },
     "metadata": {},
     "output_type": "display_data"
    },
    {
     "data": {
      "text/html": [
       "<pre>| 3       | 570.799ms    | 2.34373           | 1.53089               | 0.0868056   |</pre>"
      ],
      "text/plain": [
       "| 3       | 570.799ms    | 2.34373           | 1.53089               | 0.0868056   |"
      ]
     },
     "metadata": {},
     "output_type": "display_data"
    },
    {
     "data": {
      "text/html": [
       "<pre>| 4       | 710.548ms    | 1.71776           | 1.31059               | 0.0868056   |</pre>"
      ],
      "text/plain": [
       "| 4       | 710.548ms    | 1.71776           | 1.31059               | 0.0868056   |"
      ]
     },
     "metadata": {},
     "output_type": "display_data"
    },
    {
     "data": {
      "text/html": [
       "<pre>| 5       | 808.914ms    | 1.29278           | 1.13695               | 0.0868056   |</pre>"
      ],
      "text/plain": [
       "| 5       | 808.914ms    | 1.29278           | 1.13695               | 0.0868056   |"
      ]
     },
     "metadata": {},
     "output_type": "display_data"
    },
    {
     "data": {
      "text/html": [
       "<pre>| 6       | 887.623ms    | 1.0056            | 1.00273               | 0.0868056   |</pre>"
      ],
      "text/plain": [
       "| 6       | 887.623ms    | 1.0056            | 1.00273               | 0.0868056   |"
      ]
     },
     "metadata": {},
     "output_type": "display_data"
    },
    {
     "data": {
      "text/html": [
       "<pre>| 10      | 1.19s        | 0.426159          | 0.652679              | 0.0868056   |</pre>"
      ],
      "text/plain": [
       "| 10      | 1.19s        | 0.426159          | 0.652679              | 0.0868056   |"
      ]
     },
     "metadata": {},
     "output_type": "display_data"
    },
    {
     "data": {
      "text/html": [
       "<pre>| 11      | 1.27s        | 0.359798          | 0.599687              | 0.0868056   |</pre>"
      ],
      "text/plain": [
       "| 11      | 1.27s        | 0.359798          | 0.599687              | 0.0868056   |"
      ]
     },
     "metadata": {},
     "output_type": "display_data"
    },
    {
     "data": {
      "text/html": [
       "<pre>| 20      | 2.35s        | 0.144336          | 0.37966               | 0.0868056   |</pre>"
      ],
      "text/plain": [
       "| 20      | 2.35s        | 0.144336          | 0.37966               | 0.0868056   |"
      ]
     },
     "metadata": {},
     "output_type": "display_data"
    },
    {
     "data": {
      "text/html": [
       "<pre>| 30      | 3.88s        | 0.0927258         | 0.304176              | 0.0868056   |</pre>"
      ],
      "text/plain": [
       "| 30      | 3.88s        | 0.0927258         | 0.304176              | 0.0868056   |"
      ]
     },
     "metadata": {},
     "output_type": "display_data"
    },
    {
     "data": {
      "text/html": [
       "<pre>| 40      | 5.19s        | 0.0627754         | 0.250139              | 0.0868056   |</pre>"
      ],
      "text/plain": [
       "| 40      | 5.19s        | 0.0627754         | 0.250139              | 0.0868056   |"
      ]
     },
     "metadata": {},
     "output_type": "display_data"
    },
    {
     "data": {
      "text/html": [
       "<pre>| 50      | 6.03s        | 0.0516047         | 0.22671               | 0.0868056   |</pre>"
      ],
      "text/plain": [
       "| 50      | 6.03s        | 0.0516047         | 0.22671               | 0.0868056   |"
      ]
     },
     "metadata": {},
     "output_type": "display_data"
    },
    {
     "data": {
      "text/html": [
       "<pre>+---------+--------------+-------------------+-----------------------+-------------+</pre>"
      ],
      "text/plain": [
       "+---------+--------------+-------------------+-----------------------+-------------+"
      ]
     },
     "metadata": {},
     "output_type": "display_data"
    },
    {
     "data": {
      "text/html": [
       "<pre>Optimization Complete: Maximum number of passes through the data reached.</pre>"
      ],
      "text/plain": [
       "Optimization Complete: Maximum number of passes through the data reached."
      ]
     },
     "metadata": {},
     "output_type": "display_data"
    },
    {
     "data": {
      "text/html": [
       "<pre>Computing final objective value and training RMSE.</pre>"
      ],
      "text/plain": [
       "Computing final objective value and training RMSE."
      ]
     },
     "metadata": {},
     "output_type": "display_data"
    },
    {
     "data": {
      "text/html": [
       "<pre>       Final objective value: 0.0488329</pre>"
      ],
      "text/plain": [
       "       Final objective value: 0.0488329"
      ]
     },
     "metadata": {},
     "output_type": "display_data"
    },
    {
     "data": {
      "text/html": [
       "<pre>       Final training RMSE: 0.220512</pre>"
      ],
      "text/plain": [
       "       Final training RMSE: 0.220512"
      ]
     },
     "metadata": {},
     "output_type": "display_data"
    }
   ],
   "source": [
    "m = factorization_recommender.create(sf, user_id='userId', item_id='productId', target='rating',\\\n",
    "                                     user_data=user_info, item_data=item_info)"
   ]
  },
  {
   "cell_type": "code",
   "execution_count": 177,
   "metadata": {
    "collapsed": false
   },
   "outputs": [
    {
     "name": "stdout",
     "output_type": "stream",
     "text": [
      "Canvas is accessible via web browser at the URL: http://localhost:60407/index.html\n",
      "Opening Canvas in default web browser.\n"
     ]
    }
   ],
   "source": [
    "m.show()"
   ]
  },
  {
   "cell_type": "code",
   "execution_count": 51,
   "metadata": {
    "collapsed": true
   },
   "outputs": [],
   "source": [
    "import graphlab as gl\n",
    "from sklearn.decomposition import NMF, LatentDirichletAllocation\n",
    "import pandas as pd\n",
    "from nltk.corpus import stopwords\n",
    "from nltk.stem.snowball import SnowballStemmer\n",
    "from sklearn.feature_extraction.text import TfidfVectorizer, CountVectorizer\n",
    "from string import punctuation"
   ]
  },
  {
   "cell_type": "code",
   "execution_count": 52,
   "metadata": {
    "collapsed": false,
    "scrolled": true
   },
   "outputs": [],
   "source": [
    "def topics(n_topics):\n",
    "    corpus = []\n",
    "    stemmer = SnowballStemmer('english')\n",
    "    for prodId in df.productId.unique():\n",
    "        docs = []\n",
    "        for doc in df[df.productId == prodId].text:\n",
    "            if doc:\n",
    "                doc = ' '.join(stemmer.stem(word.strip(punctuation).lower()) \\\n",
    "                                                for word in doc.split())\n",
    "                docs.append(doc)\n",
    "        corpus.append(' '.join(docs))\n",
    "    tfidf_vectorizer = TfidfVectorizer(stop_words='english')\n",
    "    tfidf = tfidf_vectorizer.fit_transform(corpus)\n",
    "    nmf = NMF(n_components = n_topics).fit(tfidf)\n",
    "    n_topic_words = n_topics\n",
    "    for topic_idx, topic in enumerate(nmf.components_):\n",
    "        print 'Topic #{}:' .format(topic_idx)\n",
    "        print ' '.join([tfidf_vectorizer.get_feature_names()[i] for i \\\n",
    "                            in topic.argsort()[:-n_topic_words -1:-1]])\n",
    "        print()\n",
    "    return str(n_topics) + 'topics' \n",
    "\n",
    "def ldatopics(n_topics):\n",
    "    corpus = []\n",
    "    stemmer = SnowballStemmer('english')\n",
    "    for prodId in df.productId.unique():\n",
    "        docs = []\n",
    "        for doc in df[df.productId == prodId].text:\n",
    "            if doc:\n",
    "                doc = ' '.join(stemmer.stem(word.strip(punctuation).lower()) \\\n",
    "                                                for word in doc.split())\n",
    "                docs.append(doc)\n",
    "        corpus.append(' '.join(docs))\n",
    "    tfidf_vectorizer = TfidfVectorizer(stop_words='english')\n",
    "    tfidf = tfidf_vectorizer.fit_transform(corpus)\n",
    "    lda = LatentDirichletAllocation(n_topics=n_topics, max_iter=5,\n",
    "                                learning_method='online',\n",
    "                                learning_offset=50.,\n",
    "                                random_state=0).fit(tfidf)\n",
    "    n_topic_words = n_topics\n",
    "    for topic_idx, topic in enumerate(lda.components_):\n",
    "        print 'Topic #{}:' .format(topic_idx)\n",
    "        print ' '.join([tfidf_vectorizer.get_feature_names()[i] for i \\\n",
    "                            in topic.argsort()[:-n_topic_words -1:-1]])\n",
    "        print()\n",
    "    return str(n_topics) + 'topics' \n"
   ]
  },
  {
   "cell_type": "code",
   "execution_count": 55,
   "metadata": {
    "collapsed": false
   },
   "outputs": [
    {
     "ename": "NameError",
     "evalue": "name 'tfidf' is not defined",
     "output_type": "error",
     "traceback": [
      "\u001b[0;31m---------------------------------------------------------------------------\u001b[0m",
      "\u001b[0;31mNameError\u001b[0m                                 Traceback (most recent call last)",
      "\u001b[0;32m<ipython-input-55-a5950dfa33ac>\u001b[0m in \u001b[0;36m<module>\u001b[0;34m()\u001b[0m\n\u001b[0;32m----> 1\u001b[0;31m \u001b[0mtype\u001b[0m\u001b[0;34m(\u001b[0m\u001b[0mtfidf\u001b[0m\u001b[0;34m)\u001b[0m\u001b[0;34m\u001b[0m\u001b[0m\n\u001b[0m",
      "\u001b[0;31mNameError\u001b[0m: name 'tfidf' is not defined"
     ]
    }
   ],
   "source": [
    "type(tfidf)"
   ]
  },
  {
   "cell_type": "code",
   "execution_count": 53,
   "metadata": {
    "collapsed": false,
    "scrolled": true
   },
   "outputs": [
    {
     "name": "stdout",
     "output_type": "stream",
     "text": [
      "Topic #0:\n",
      "product workout pre tast pump great good feel energi use tri ani work\n",
      "()\n",
      "Topic #1:\n",
      "protein product flavor bi great tast caffein differ mix use good redic watermelon\n",
      "()\n",
      "Topic #2:\n",
      "amino tast great tri good cheap product flavor pretti protein trutein digest add\n",
      "()\n",
      "Topic #3:\n",
      "product great workout tast energi protein tri flavor use dure like good mix\n",
      "()\n",
      "Topic #4:\n",
      "phone lean protein monstrous mix esp galaxi nevvvvver idgaf relato gainer somwth tast\n",
      "()\n",
      "Topic #5:\n",
      "bar product like tast great tri ape jerki protein mom good chewi small\n",
      "()\n",
      "Topic #6:\n",
      "fish protein product oil great burp like result tast time junk good bcaa\n",
      "()\n",
      "Topic #7:\n",
      "tast protein mix great product like good use flavor fish tri workout love\n",
      "()\n",
      "Topic #8:\n",
      "product did great return work multi good result noth conveni mix use tast\n",
      "()\n",
      "Topic #9:\n",
      "brazil recomendo bom melhor muito great product horribl affect primarili use stomach indian\n",
      "()\n",
      "Topic #10:\n",
      "pre great effect excel pill workout product focus size defen break met swallow\n",
      "()\n",
      "Topic #11:\n",
      "good tast product carnitin mix great like milk powder allmax help serv flavor\n",
      "()\n",
      "Topic #12:\n",
      "product tast great protein good use workout like mix work flavor tri feel\n",
      "()\n"
     ]
    },
    {
     "data": {
      "text/plain": [
       "'13topics'"
      ]
     },
     "execution_count": 53,
     "metadata": {},
     "output_type": "execute_result"
    }
   ],
   "source": [
    "ldatopics(13)"
   ]
  },
  {
   "cell_type": "code",
   "execution_count": 58,
   "metadata": {
    "collapsed": false,
    "scrolled": true
   },
   "outputs": [
    {
     "name": "stdout",
     "output_type": "stream",
     "text": [
      "Topic #0:\n",
      "gain product notic week use muscl day test strength result mass increas\n",
      "()\n",
      "Topic #1:\n",
      "protein chocol mix milk whey powder vanilla tast shake great flavor best\n",
      "()\n",
      "Topic #2:\n",
      "workout pre pump energi focus scoop feel tri preworkout caffein use great\n",
      "()\n",
      "Topic #3:\n",
      "bar protein tast chocol quest eat like snack good textur cooki flavor\n",
      "()\n",
      "Topic #4:\n",
      "vitamin multi multivitamin pill day great price need feel swallow easi energi\n",
      "()\n",
      "Topic #5:\n",
      "sleep night wake zma asleep help feel dream fall rest bed befor\n",
      "()\n",
      "Topic #6:\n",
      "bcaa workout recoveri amino glutamin product great post use help sore dure\n",
      "()\n",
      "Topic #7:\n",
      "tast flavor like mix good water tri drink bad just scoop pretti\n",
      "()\n",
      "Topic #8:\n",
      "fish oil burp omega fishi dha epa pill cla great softgel high\n",
      "()\n",
      "Topic #9:\n",
      "creatin mix unflavor strength monohydr gain water shake price use mono notic\n",
      "()\n",
      "Topic #10:\n",
      "product good great veri price work excel qualiti recommend use cheap best\n",
      "()\n",
      "Topic #11:\n",
      "fat energi burner cla help work weight day loss appetit feel product\n",
      "()\n"
     ]
    },
    {
     "data": {
      "text/plain": [
       "'12topics'"
      ]
     },
     "execution_count": 58,
     "metadata": {},
     "output_type": "execute_result"
    }
   ],
   "source": [
    "topics(12)"
   ]
  },
  {
   "cell_type": "markdown",
   "metadata": {},
   "source": [
    "gainer, protein, preworkout, snack, vitamin, sleep, bcaa, mixturability, fish oil, creatine, value, fat burner"
   ]
  },
  {
   "cell_type": "code",
   "execution_count": 196,
   "metadata": {
    "collapsed": false,
    "scrolled": true
   },
   "outputs": [
    {
     "name": "stdout",
     "output_type": "stream",
     "text": [
      "Topic #0:\n",
      "product notic use day week work differ test feel ani strength booster gain\n",
      "()\n",
      "Topic #1:\n",
      "protein chocol mix milk whey powder vanilla tast shake flavor great best use\n",
      "()\n",
      "Topic #2:\n",
      "workout pre pump energi focus scoop feel preworkout tri caffein great use c4\n",
      "()\n",
      "Topic #3:\n",
      "bar protein tast chocol quest eat like snack good textur cooki flavor chewi\n",
      "()\n",
      "Topic #4:\n",
      "vitamin multi multivitamin pill day great price need swallow easi energi feel pak\n",
      "()\n",
      "Topic #5:\n",
      "sleep night wake zma asleep help dream feel fall rest bed hour melatonin\n",
      "()\n",
      "Topic #6:\n",
      "bcaa workout recoveri amino glutamin product great post use help sore dure mix\n",
      "()\n",
      "Topic #7:\n",
      "tast flavor like mix good water tri drink bad just scoop realli pretti\n",
      "()\n",
      "Topic #8:\n",
      "fish oil burp omega fishi dha epa pill cla great softgel high supplement\n",
      "()\n",
      "Topic #9:\n",
      "creatin mix unflavor strength monohydr gain water shake price use notic muscl mono\n",
      "()\n",
      "Topic #10:\n",
      "product good great veri price work excel qualiti recommend use cheap best high\n",
      "()\n",
      "Topic #11:\n",
      "fat energi burner cla help weight loss appetit work product day burn diet\n",
      "()\n",
      "Topic #12:\n",
      "gainer mass gain weight muscl calori scoop carb pound lean serv use shake\n",
      "()\n"
     ]
    },
    {
     "data": {
      "text/plain": [
       "'13topics'"
      ]
     },
     "execution_count": 196,
     "metadata": {},
     "output_type": "execute_result"
    }
   ],
   "source": [
    "topics(13)"
   ]
  },
  {
   "cell_type": "markdown",
   "metadata": {},
   "source": [
    "strength gaib, fat burner, value, creatine, fish oil, quality/mixturability, bcaa, sleep, vitamin, bar, preworkout, protein, mass gainer"
   ]
  },
  {
   "cell_type": "code",
   "execution_count": 56,
   "metadata": {
    "collapsed": false,
    "scrolled": true
   },
   "outputs": [
    {
     "name": "stdout",
     "output_type": "stream",
     "text": [
      "Topic #0:\n",
      "product notic day week use differ test work feel booster strength ani gain increas\n",
      "()\n",
      "Topic #1:\n",
      "protein chocol mix milk whey powder tast vanilla flavor shake great best tri use\n",
      "()\n",
      "Topic #2:\n",
      "workout pre pump energi focus scoop feel preworkout tri caffein use c4 like gym\n",
      "()\n",
      "Topic #3:\n",
      "bar protein tast chocol quest eat like snack textur cooki flavor chewi great tri\n",
      "()\n",
      "Topic #4:\n",
      "vitamin multi multivitamin pill day need swallow great easi feel price pak energi best\n",
      "()\n",
      "Topic #5:\n",
      "sleep night wake zma asleep help dream feel fall rest bed hour melatonin deep\n",
      "()\n",
      "Topic #6:\n",
      "bcaa workout recoveri amino glutamin post sore help dure mix use muscl day drink\n",
      "()\n",
      "Topic #7:\n",
      "tast flavor like mix water drink tri just bad scoop sweet don realli green\n",
      "()\n",
      "Topic #8:\n",
      "fish oil burp omega fishi dha epa pill cla softgel high tast supplement qualiti\n",
      "()\n",
      "Topic #9:\n",
      "creatin mix unflavor strength monohydr gain water shake price notic muscl mono use creapur\n",
      "()\n",
      "Topic #10:\n",
      "product great work recommend excel use best high qualiti price result cheap super love\n",
      "()\n",
      "Topic #11:\n",
      "fat energi burner cla weight help loss appetit day burn diet feel work lost\n",
      "()\n",
      "Topic #12:\n",
      "gainer mass gain weight muscl scoop calori carb pound lean serv use shake milk\n",
      "()\n",
      "Topic #13:\n",
      "good veri price product pretti qualiti energi realli buy bought valu compar labrada anyth\n",
      "()\n"
     ]
    },
    {
     "data": {
      "text/plain": [
       "'14topics'"
      ]
     },
     "execution_count": 56,
     "metadata": {},
     "output_type": "execute_result"
    }
   ],
   "source": [
    "topics(14)"
   ]
  },
  {
   "cell_type": "code",
   "execution_count": null,
   "metadata": {
    "collapsed": true
   },
   "outputs": [],
   "source": [
    "value, gainer, fat burner, value,  creatine, fish oil, mixturability, bcaa, sleep, vitamin, bar, preworkout, protein, strength"
   ]
  },
  {
   "cell_type": "code",
   "execution_count": null,
   "metadata": {
    "collapsed": true
   },
   "outputs": [],
   "source": []
  },
  {
   "cell_type": "code",
   "execution_count": 395,
   "metadata": {
    "collapsed": false
   },
   "outputs": [
    {
     "data": {
      "text/html": [
       "<div>\n",
       "<table border=\"1\" class=\"dataframe\">\n",
       "  <thead>\n",
       "    <tr style=\"text-align: right;\">\n",
       "      <th></th>\n",
       "      <th>brandName</th>\n",
       "      <th>brandId</th>\n",
       "      <th>name</th>\n",
       "      <th>productId</th>\n",
       "      <th>username</th>\n",
       "      <th>userId</th>\n",
       "      <th>_id</th>\n",
       "      <th>height</th>\n",
       "      <th>weight</th>\n",
       "      <th>bodyfat</th>\n",
       "      <th>totalItems</th>\n",
       "      <th>text</th>\n",
       "      <th>date</th>\n",
       "      <th>modDate</th>\n",
       "      <th>slug</th>\n",
       "      <th>verifiedBuyerRating</th>\n",
       "      <th>description</th>\n",
       "      <th>updateStatusReason</th>\n",
       "      <th>rating</th>\n",
       "    </tr>\n",
       "  </thead>\n",
       "  <tbody>\n",
       "    <tr>\n",
       "      <th>14489</th>\n",
       "      <td>Miracle Noodle</td>\n",
       "      <td>cat1840001</td>\n",
       "      <td>Angel Hair</td>\n",
       "      <td>prod2720004</td>\n",
       "      <td>spacejim67</td>\n",
       "      <td>57009792</td>\n",
       "      <td>573d267c0cf223211f76869a</td>\n",
       "      <td>70.0</td>\n",
       "      <td>191.0</td>\n",
       "      <td>12.8</td>\n",
       "      <td>None</td>\n",
       "      <td>So I gave this a ten because, it had no bad sm...</td>\n",
       "      <td>{u'$numberLong': u'1463625340000'}</td>\n",
       "      <td>{u'$numberLong': u'1463625340000'}</td>\n",
       "      <td>spacejim67</td>\n",
       "      <td>7.0</td>\n",
       "      <td>Low Calorie, Soy Free, Gluten Free, Vegan, Non...</td>\n",
       "      <td>None</td>\n",
       "      <td>10.0</td>\n",
       "    </tr>\n",
       "    <tr>\n",
       "      <th>14490</th>\n",
       "      <td>Miracle Noodle</td>\n",
       "      <td>cat1840001</td>\n",
       "      <td>Angel Hair</td>\n",
       "      <td>prod2720004</td>\n",
       "      <td>kimberlygorgone</td>\n",
       "      <td>123245611</td>\n",
       "      <td>568eef0d0cf2b1f59d30c8c8</td>\n",
       "      <td>69.0</td>\n",
       "      <td>188.0</td>\n",
       "      <td>25.5</td>\n",
       "      <td>None</td>\n",
       "      <td>Do not buy this!!!! It's like chewing a rubber...</td>\n",
       "      <td>{u'$numberLong': u'1452207885000'}</td>\n",
       "      <td>{u'$numberLong': u'1452207885000'}</td>\n",
       "      <td>kimberlygorgone</td>\n",
       "      <td>7.0</td>\n",
       "      <td>Low Calorie, Soy Free, Gluten Free, Vegan, Non...</td>\n",
       "      <td>None</td>\n",
       "      <td>1.0</td>\n",
       "    </tr>\n",
       "    <tr>\n",
       "      <th>14491</th>\n",
       "      <td>Miracle Noodle</td>\n",
       "      <td>cat1840001</td>\n",
       "      <td>Angel Hair</td>\n",
       "      <td>prod2720004</td>\n",
       "      <td>Brit0Brit0</td>\n",
       "      <td>104394142</td>\n",
       "      <td>55d869220cf2153e8e940538</td>\n",
       "      <td>71.0</td>\n",
       "      <td>198.0</td>\n",
       "      <td>11.0</td>\n",
       "      <td>None</td>\n",
       "      <td>One of the best things I could have purchased....</td>\n",
       "      <td>{u'$numberLong': u'1440246050000'}</td>\n",
       "      <td>{u'$numberLong': u'1440246050000'}</td>\n",
       "      <td>Brit0Brit0</td>\n",
       "      <td>7.0</td>\n",
       "      <td>Low Calorie, Soy Free, Gluten Free, Vegan, Non...</td>\n",
       "      <td>None</td>\n",
       "      <td>10.0</td>\n",
       "    </tr>\n",
       "  </tbody>\n",
       "</table>\n",
       "</div>"
      ],
      "text/plain": [
       "            brandName     brandId        name    productId         username  \\\n",
       "14489  Miracle Noodle  cat1840001  Angel Hair  prod2720004       spacejim67   \n",
       "14490  Miracle Noodle  cat1840001  Angel Hair  prod2720004  kimberlygorgone   \n",
       "14491  Miracle Noodle  cat1840001  Angel Hair  prod2720004       Brit0Brit0   \n",
       "\n",
       "          userId                       _id  height  weight  bodyfat  \\\n",
       "14489   57009792  573d267c0cf223211f76869a    70.0   191.0     12.8   \n",
       "14490  123245611  568eef0d0cf2b1f59d30c8c8    69.0   188.0     25.5   \n",
       "14491  104394142  55d869220cf2153e8e940538    71.0   198.0     11.0   \n",
       "\n",
       "      totalItems                                               text  \\\n",
       "14489       None  So I gave this a ten because, it had no bad sm...   \n",
       "14490       None  Do not buy this!!!! It's like chewing a rubber...   \n",
       "14491       None  One of the best things I could have purchased....   \n",
       "\n",
       "                                     date                             modDate  \\\n",
       "14489  {u'$numberLong': u'1463625340000'}  {u'$numberLong': u'1463625340000'}   \n",
       "14490  {u'$numberLong': u'1452207885000'}  {u'$numberLong': u'1452207885000'}   \n",
       "14491  {u'$numberLong': u'1440246050000'}  {u'$numberLong': u'1440246050000'}   \n",
       "\n",
       "                  slug  verifiedBuyerRating  \\\n",
       "14489       spacejim67                  7.0   \n",
       "14490  kimberlygorgone                  7.0   \n",
       "14491       Brit0Brit0                  7.0   \n",
       "\n",
       "                                             description updateStatusReason  \\\n",
       "14489  Low Calorie, Soy Free, Gluten Free, Vegan, Non...               None   \n",
       "14490  Low Calorie, Soy Free, Gluten Free, Vegan, Non...               None   \n",
       "14491  Low Calorie, Soy Free, Gluten Free, Vegan, Non...               None   \n",
       "\n",
       "       rating  \n",
       "14489    10.0  \n",
       "14490     1.0  \n",
       "14491    10.0  "
      ]
     },
     "execution_count": 395,
     "metadata": {},
     "output_type": "execute_result"
    }
   ],
   "source": [
    "df[df.productId == 'prod2720004']"
   ]
  },
  {
   "cell_type": "code",
   "execution_count": 3,
   "metadata": {
    "collapsed": false
   },
   "outputs": [
    {
     "data": {
      "text/html": [
       "<div>\n",
       "<table border=\"1\" class=\"dataframe\">\n",
       "  <thead>\n",
       "    <tr style=\"text-align: right;\">\n",
       "      <th></th>\n",
       "      <th>brandName</th>\n",
       "      <th>brandId</th>\n",
       "      <th>name</th>\n",
       "      <th>productId</th>\n",
       "      <th>username</th>\n",
       "      <th>userId</th>\n",
       "      <th>_id</th>\n",
       "      <th>height</th>\n",
       "      <th>weight</th>\n",
       "      <th>bodyfat</th>\n",
       "      <th>totalItems</th>\n",
       "      <th>text</th>\n",
       "      <th>date</th>\n",
       "      <th>modDate</th>\n",
       "      <th>slug</th>\n",
       "      <th>verifiedBuyerRating</th>\n",
       "      <th>description</th>\n",
       "      <th>updateStatusReason</th>\n",
       "      <th>rating</th>\n",
       "    </tr>\n",
       "  </thead>\n",
       "  <tbody>\n",
       "    <tr>\n",
       "      <th>0</th>\n",
       "      <td>360CUT</td>\n",
       "      <td>cat1150004</td>\n",
       "      <td>360LEAN</td>\n",
       "      <td>prod1620022</td>\n",
       "      <td>coryacehall</td>\n",
       "      <td>58617272</td>\n",
       "      <td>5787b7850cf262c7c0381cc6</td>\n",
       "      <td>74.00</td>\n",
       "      <td>185.00</td>\n",
       "      <td>11.90</td>\n",
       "      <td>None</td>\n",
       "      <td>I did really like this product. I used it in r...</td>\n",
       "      <td>{u'$numberLong': u'1468512417000'}</td>\n",
       "      <td>{u'$numberLong': u'1468512417000'}</td>\n",
       "      <td>coryacehall</td>\n",
       "      <td>9.0</td>\n",
       "      <td>Promotes Mental Focus, Memory, Mood, and Fat B...</td>\n",
       "      <td>:lifes2good</td>\n",
       "      <td>8.0</td>\n",
       "    </tr>\n",
       "    <tr>\n",
       "      <th>1</th>\n",
       "      <td>360CUT</td>\n",
       "      <td>cat1150004</td>\n",
       "      <td>360LEAN</td>\n",
       "      <td>prod1620022</td>\n",
       "      <td>dida1984</td>\n",
       "      <td>120584661</td>\n",
       "      <td>5721f4cf0cf2d7a0bb1d391f</td>\n",
       "      <td>NaN</td>\n",
       "      <td>143.96</td>\n",
       "      <td>16.70</td>\n",
       "      <td>None</td>\n",
       "      <td>Didn't get a lot of energy like other suppleme...</td>\n",
       "      <td>{u'$numberLong': u'1461843151000'}</td>\n",
       "      <td>{u'$numberLong': u'1461843151000'}</td>\n",
       "      <td>dida1984</td>\n",
       "      <td>9.0</td>\n",
       "      <td>Promotes Mental Focus, Memory, Mood, and Fat B...</td>\n",
       "      <td>None</td>\n",
       "      <td>8.0</td>\n",
       "    </tr>\n",
       "    <tr>\n",
       "      <th>2</th>\n",
       "      <td>360CUT</td>\n",
       "      <td>cat1150004</td>\n",
       "      <td>360LEAN</td>\n",
       "      <td>prod1620022</td>\n",
       "      <td>mango1515</td>\n",
       "      <td>88002491</td>\n",
       "      <td>5714f2d70cf2a1797c83f8b8</td>\n",
       "      <td>68.00</td>\n",
       "      <td>158.00</td>\n",
       "      <td>12.30</td>\n",
       "      <td>None</td>\n",
       "      <td>My 1st review on a product. I did 20 capsules ...</td>\n",
       "      <td>{u'$numberLong': u'1460990679000'}</td>\n",
       "      <td>{u'$numberLong': u'1460990679000'}</td>\n",
       "      <td>mango1515</td>\n",
       "      <td>9.0</td>\n",
       "      <td>Promotes Mental Focus, Memory, Mood, and Fat B...</td>\n",
       "      <td>None</td>\n",
       "      <td>9.0</td>\n",
       "    </tr>\n",
       "    <tr>\n",
       "      <th>3</th>\n",
       "      <td>360CUT</td>\n",
       "      <td>cat1150004</td>\n",
       "      <td>360LEAN</td>\n",
       "      <td>prod1620022</td>\n",
       "      <td>DCGuru</td>\n",
       "      <td>34717082</td>\n",
       "      <td>56fad5250cf2ae532b9b5462</td>\n",
       "      <td>69.00</td>\n",
       "      <td>179.50</td>\n",
       "      <td>9.00</td>\n",
       "      <td>None</td>\n",
       "      <td>I've never really been a fan of thermogenics s...</td>\n",
       "      <td>{u'$numberLong': u'1459279141000'}</td>\n",
       "      <td>{u'$numberLong': u'1459279141000'}</td>\n",
       "      <td>DCGuru</td>\n",
       "      <td>9.0</td>\n",
       "      <td>Promotes Mental Focus, Memory, Mood, and Fat B...</td>\n",
       "      <td>None</td>\n",
       "      <td>9.0</td>\n",
       "    </tr>\n",
       "    <tr>\n",
       "      <th>4</th>\n",
       "      <td>360CUT</td>\n",
       "      <td>cat1150004</td>\n",
       "      <td>360LEAN</td>\n",
       "      <td>prod1620022</td>\n",
       "      <td>bcnus</td>\n",
       "      <td>98886182</td>\n",
       "      <td>56e1857f0cf2857466d1b465</td>\n",
       "      <td>76.00</td>\n",
       "      <td>230.00</td>\n",
       "      <td>12.00</td>\n",
       "      <td>None</td>\n",
       "      <td></td>\n",
       "      <td>{u'$numberLong': u'1457620351000'}</td>\n",
       "      <td>{u'$numberLong': u'1457620351000'}</td>\n",
       "      <td>bcnus</td>\n",
       "      <td>9.0</td>\n",
       "      <td>Promotes Mental Focus, Memory, Mood, and Fat B...</td>\n",
       "      <td>None</td>\n",
       "      <td>9.0</td>\n",
       "    </tr>\n",
       "    <tr>\n",
       "      <th>5</th>\n",
       "      <td>360CUT</td>\n",
       "      <td>cat1150004</td>\n",
       "      <td>360LEAN</td>\n",
       "      <td>prod1620022</td>\n",
       "      <td>aslzr23</td>\n",
       "      <td>42621942</td>\n",
       "      <td>55a68a7a0cf22545627578e5</td>\n",
       "      <td>NaN</td>\n",
       "      <td>215.00</td>\n",
       "      <td>23.00</td>\n",
       "      <td>None</td>\n",
       "      <td>I've been taking this product for a couple of ...</td>\n",
       "      <td>{u'$numberLong': u'1436977786000'}</td>\n",
       "      <td>{u'$numberLong': u'1436977786000'}</td>\n",
       "      <td>aslzr23</td>\n",
       "      <td>9.0</td>\n",
       "      <td>Promotes Mental Focus, Memory, Mood, and Fat B...</td>\n",
       "      <td>None</td>\n",
       "      <td>9.0</td>\n",
       "    </tr>\n",
       "    <tr>\n",
       "      <th>6</th>\n",
       "      <td>360CUT</td>\n",
       "      <td>cat1150004</td>\n",
       "      <td>360LEAN</td>\n",
       "      <td>prod1620022</td>\n",
       "      <td>Rafaelg90</td>\n",
       "      <td>87306721</td>\n",
       "      <td>5579f6b60cf281d23a605392</td>\n",
       "      <td>NaN</td>\n",
       "      <td>245.00</td>\n",
       "      <td>NaN</td>\n",
       "      <td>None</td>\n",
       "      <td>This product really worked for me gets me up a...</td>\n",
       "      <td>{u'$numberLong': u'1434056374000'}</td>\n",
       "      <td>{u'$numberLong': u'1434056374000'}</td>\n",
       "      <td>Rafaelg90</td>\n",
       "      <td>9.0</td>\n",
       "      <td>Promotes Mental Focus, Memory, Mood, and Fat B...</td>\n",
       "      <td>None</td>\n",
       "      <td>10.0</td>\n",
       "    </tr>\n",
       "    <tr>\n",
       "      <th>7</th>\n",
       "      <td>360CUT</td>\n",
       "      <td>cat1150004</td>\n",
       "      <td>360LEAN</td>\n",
       "      <td>prod1620022</td>\n",
       "      <td>lizziehessxo</td>\n",
       "      <td>101296512</td>\n",
       "      <td>54ff4f360cf23daccb3ce189</td>\n",
       "      <td>NaN</td>\n",
       "      <td>NaN</td>\n",
       "      <td>NaN</td>\n",
       "      <td>None</td>\n",
       "      <td>I have tried many fat burners before, but have...</td>\n",
       "      <td>{u'$numberLong': u'1434056177000'}</td>\n",
       "      <td>{u'$numberLong': u'1434056177000'}</td>\n",
       "      <td>lizziehessxo</td>\n",
       "      <td>9.0</td>\n",
       "      <td>Promotes Mental Focus, Memory, Mood, and Fat B...</td>\n",
       "      <td>None</td>\n",
       "      <td>10.0</td>\n",
       "    </tr>\n",
       "    <tr>\n",
       "      <th>8</th>\n",
       "      <td>360CUT</td>\n",
       "      <td>cat1150004</td>\n",
       "      <td>360LEAN</td>\n",
       "      <td>prod1620022</td>\n",
       "      <td>desmichelle</td>\n",
       "      <td>108628242</td>\n",
       "      <td>555cd9600cf26d3993e1e227</td>\n",
       "      <td>NaN</td>\n",
       "      <td>NaN</td>\n",
       "      <td>NaN</td>\n",
       "      <td>None</td>\n",
       "      <td>i have tried four other companies and this is ...</td>\n",
       "      <td>{u'$numberLong': u'1432148320000'}</td>\n",
       "      <td>{u'$numberLong': u'1432148320000'}</td>\n",
       "      <td>desmichelle</td>\n",
       "      <td>9.0</td>\n",
       "      <td>Promotes Mental Focus, Memory, Mood, and Fat B...</td>\n",
       "      <td>None</td>\n",
       "      <td>10.0</td>\n",
       "    </tr>\n",
       "    <tr>\n",
       "      <th>9</th>\n",
       "      <td>360CUT</td>\n",
       "      <td>cat1150004</td>\n",
       "      <td>360LEAN</td>\n",
       "      <td>prod1620022</td>\n",
       "      <td>nmontelli8</td>\n",
       "      <td>87861531</td>\n",
       "      <td>555a4a1a0cf29545352ebb23</td>\n",
       "      <td>NaN</td>\n",
       "      <td>106.50</td>\n",
       "      <td>NaN</td>\n",
       "      <td>None</td>\n",
       "      <td>Hands down one of the best thermos I've used. ...</td>\n",
       "      <td>{u'$numberLong': u'1431980570000'}</td>\n",
       "      <td>{u'$numberLong': u'1431980570000'}</td>\n",
       "      <td>nmontelli8</td>\n",
       "      <td>9.0</td>\n",
       "      <td>Promotes Mental Focus, Memory, Mood, and Fat B...</td>\n",
       "      <td>None</td>\n",
       "      <td>8.0</td>\n",
       "    </tr>\n",
       "    <tr>\n",
       "      <th>10</th>\n",
       "      <td>360CUT</td>\n",
       "      <td>cat1150004</td>\n",
       "      <td>360LEAN</td>\n",
       "      <td>prod1620022</td>\n",
       "      <td>columbusguy</td>\n",
       "      <td>51772531</td>\n",
       "      <td>54c8d7660cf2f88a824d4784</td>\n",
       "      <td>76.00</td>\n",
       "      <td>176.00</td>\n",
       "      <td>11.00</td>\n",
       "      <td>None</td>\n",
       "      <td>This product is awesome.  I was wanting a prod...</td>\n",
       "      <td>{u'$numberLong': u'1422448486000'}</td>\n",
       "      <td>{u'$numberLong': u'1422448486000'}</td>\n",
       "      <td>columbusguy</td>\n",
       "      <td>9.0</td>\n",
       "      <td>Promotes Mental Focus, Memory, Mood, and Fat B...</td>\n",
       "      <td>None</td>\n",
       "      <td>10.0</td>\n",
       "    </tr>\n",
       "    <tr>\n",
       "      <th>11</th>\n",
       "      <td>360CUT</td>\n",
       "      <td>cat1150004</td>\n",
       "      <td>360LEAN</td>\n",
       "      <td>prod1620022</td>\n",
       "      <td>Lui561</td>\n",
       "      <td>95336442</td>\n",
       "      <td>54a40fec0cf2f8c60d323acf</td>\n",
       "      <td>NaN</td>\n",
       "      <td>NaN</td>\n",
       "      <td>NaN</td>\n",
       "      <td>None</td>\n",
       "      <td>My boyfriend and I love this thermogenic, he d...</td>\n",
       "      <td>{u'$numberLong': u'1420038124000'}</td>\n",
       "      <td>{u'$numberLong': u'1420038124000'}</td>\n",
       "      <td>Lui561</td>\n",
       "      <td>9.0</td>\n",
       "      <td>Promotes Mental Focus, Memory, Mood, and Fat B...</td>\n",
       "      <td>None</td>\n",
       "      <td>10.0</td>\n",
       "    </tr>\n",
       "    <tr>\n",
       "      <th>12</th>\n",
       "      <td>360CUT</td>\n",
       "      <td>cat1150004</td>\n",
       "      <td>360LEAN</td>\n",
       "      <td>prod1620022</td>\n",
       "      <td>Kjcmpls</td>\n",
       "      <td>78825802</td>\n",
       "      <td>549db02a0cf2df130405808e</td>\n",
       "      <td>NaN</td>\n",
       "      <td>NaN</td>\n",
       "      <td>NaN</td>\n",
       "      <td>None</td>\n",
       "      <td>\\nLove this product and happy to see it on BB....</td>\n",
       "      <td>{u'$numberLong': u'1419620394000'}</td>\n",
       "      <td>{u'$numberLong': u'1419620394000'}</td>\n",
       "      <td>Kjcmpls</td>\n",
       "      <td>9.0</td>\n",
       "      <td>Promotes Mental Focus, Memory, Mood, and Fat B...</td>\n",
       "      <td>None</td>\n",
       "      <td>10.0</td>\n",
       "    </tr>\n",
       "    <tr>\n",
       "      <th>13</th>\n",
       "      <td>360CUT</td>\n",
       "      <td>cat1150004</td>\n",
       "      <td>360LEAN</td>\n",
       "      <td>prod1620022</td>\n",
       "      <td>Ampit06</td>\n",
       "      <td>48470802</td>\n",
       "      <td>54946d130cf2f8c60d2b7b3e</td>\n",
       "      <td>70.00</td>\n",
       "      <td>265.00</td>\n",
       "      <td>25.00</td>\n",
       "      <td>None</td>\n",
       "      <td>Tried thIs product after following the Dean Mi...</td>\n",
       "      <td>{u'$numberLong': u'1419013395000'}</td>\n",
       "      <td>{u'$numberLong': u'1419013395000'}</td>\n",
       "      <td>Ampit06</td>\n",
       "      <td>9.0</td>\n",
       "      <td>Promotes Mental Focus, Memory, Mood, and Fat B...</td>\n",
       "      <td>None</td>\n",
       "      <td>9.0</td>\n",
       "    </tr>\n",
       "    <tr>\n",
       "      <th>14</th>\n",
       "      <td>360CUT</td>\n",
       "      <td>cat1150004</td>\n",
       "      <td>360LEAN</td>\n",
       "      <td>prod1620022</td>\n",
       "      <td>xXXxDUDExXXx</td>\n",
       "      <td>69060542</td>\n",
       "      <td>5480d1be0cf230e63923f36a</td>\n",
       "      <td>71.00</td>\n",
       "      <td>212.00</td>\n",
       "      <td>21.00</td>\n",
       "      <td>None</td>\n",
       "      <td></td>\n",
       "      <td>{u'$numberLong': u'1417728446000'}</td>\n",
       "      <td>{u'$numberLong': u'1417728446000'}</td>\n",
       "      <td>xXXxDUDExXXx</td>\n",
       "      <td>9.0</td>\n",
       "      <td>Promotes Mental Focus, Memory, Mood, and Fat B...</td>\n",
       "      <td>None</td>\n",
       "      <td>7.0</td>\n",
       "    </tr>\n",
       "    <tr>\n",
       "      <th>15</th>\n",
       "      <td>360CUT</td>\n",
       "      <td>cat1150004</td>\n",
       "      <td>360LEAN</td>\n",
       "      <td>prod1620022</td>\n",
       "      <td>kurttackoor</td>\n",
       "      <td>212578</td>\n",
       "      <td>53a45a9e0cf2af71edcce854</td>\n",
       "      <td>NaN</td>\n",
       "      <td>154.00</td>\n",
       "      <td>NaN</td>\n",
       "      <td>None</td>\n",
       "      <td>Will definitely have you feeling \"heated\". Gre...</td>\n",
       "      <td>{u'$numberLong': u'1403280030000'}</td>\n",
       "      <td>{u'$numberLong': u'1403280030000'}</td>\n",
       "      <td>kurttackoor</td>\n",
       "      <td>9.0</td>\n",
       "      <td>Promotes Mental Focus, Memory, Mood, and Fat B...</td>\n",
       "      <td>None</td>\n",
       "      <td>10.0</td>\n",
       "    </tr>\n",
       "    <tr>\n",
       "      <th>16</th>\n",
       "      <td>360CUT</td>\n",
       "      <td>cat1150004</td>\n",
       "      <td>360LEAN</td>\n",
       "      <td>prod1620022</td>\n",
       "      <td>Laurenlotz5</td>\n",
       "      <td>71682151</td>\n",
       "      <td>530d31560cf2c8186f246335</td>\n",
       "      <td>NaN</td>\n",
       "      <td>NaN</td>\n",
       "      <td>NaN</td>\n",
       "      <td>None</td>\n",
       "      <td>great mood stabilizer, and great evergy withou...</td>\n",
       "      <td>{u'$numberLong': u'1393373526000'}</td>\n",
       "      <td>{u'$numberLong': u'1393373526000'}</td>\n",
       "      <td>Laurenlotz5</td>\n",
       "      <td>9.0</td>\n",
       "      <td>Promotes Mental Focus, Memory, Mood, and Fat B...</td>\n",
       "      <td>None</td>\n",
       "      <td>10.0</td>\n",
       "    </tr>\n",
       "    <tr>\n",
       "      <th>17</th>\n",
       "      <td>360CUT</td>\n",
       "      <td>cat1150004</td>\n",
       "      <td>360LEAN</td>\n",
       "      <td>prod1620022</td>\n",
       "      <td>Zenchick</td>\n",
       "      <td>24300321</td>\n",
       "      <td>529e01620cf2addcb8250592</td>\n",
       "      <td>66.00</td>\n",
       "      <td>155.00</td>\n",
       "      <td>20.00</td>\n",
       "      <td>None</td>\n",
       "      <td></td>\n",
       "      <td>{u'$numberLong': u'1386086754000'}</td>\n",
       "      <td>{u'$numberLong': u'1386086754000'}</td>\n",
       "      <td>Zenchick</td>\n",
       "      <td>9.0</td>\n",
       "      <td>Promotes Mental Focus, Memory, Mood, and Fat B...</td>\n",
       "      <td>None</td>\n",
       "      <td>8.0</td>\n",
       "    </tr>\n",
       "    <tr>\n",
       "      <th>18</th>\n",
       "      <td>360CUT</td>\n",
       "      <td>cat1150004</td>\n",
       "      <td>360PRE</td>\n",
       "      <td>prod1620026</td>\n",
       "      <td>dyertyler2009</td>\n",
       "      <td>43307192</td>\n",
       "      <td>581ad1760cf2e9995f83db0c</td>\n",
       "      <td>68.00</td>\n",
       "      <td>166.00</td>\n",
       "      <td>12.00</td>\n",
       "      <td>None</td>\n",
       "      <td>I just received this pre-workout this week and...</td>\n",
       "      <td>{u'$numberLong': u'1478152566000'}</td>\n",
       "      <td>{u'$numberLong': u'1478152566000'}</td>\n",
       "      <td>dyertyler2009</td>\n",
       "      <td>8.8</td>\n",
       "      <td>Great Tasting Pre-Training Formula for Increas...</td>\n",
       "      <td>None</td>\n",
       "      <td>10.0</td>\n",
       "    </tr>\n",
       "    <tr>\n",
       "      <th>19</th>\n",
       "      <td>360CUT</td>\n",
       "      <td>cat1150004</td>\n",
       "      <td>360PRE</td>\n",
       "      <td>prod1620026</td>\n",
       "      <td>samholik</td>\n",
       "      <td>108501372</td>\n",
       "      <td>56f19c740cf2d06ac0211eed</td>\n",
       "      <td>NaN</td>\n",
       "      <td>174.17</td>\n",
       "      <td>NaN</td>\n",
       "      <td>None</td>\n",
       "      <td></td>\n",
       "      <td>{u'$numberLong': u'1458674804000'}</td>\n",
       "      <td>{u'$numberLong': u'1458674804000'}</td>\n",
       "      <td>samholik</td>\n",
       "      <td>8.8</td>\n",
       "      <td>Great Tasting Pre-Training Formula for Increas...</td>\n",
       "      <td>None</td>\n",
       "      <td>6.0</td>\n",
       "    </tr>\n",
       "    <tr>\n",
       "      <th>20</th>\n",
       "      <td>360CUT</td>\n",
       "      <td>cat1150004</td>\n",
       "      <td>360PRE</td>\n",
       "      <td>prod1620026</td>\n",
       "      <td>Sheridan001</td>\n",
       "      <td>101302652</td>\n",
       "      <td>56bb671a0cf2555a11c85748</td>\n",
       "      <td>NaN</td>\n",
       "      <td>NaN</td>\n",
       "      <td>NaN</td>\n",
       "      <td>None</td>\n",
       "      <td>I've tried multiple types of preworkout and ha...</td>\n",
       "      <td>{u'$numberLong': u'1455122202000'}</td>\n",
       "      <td>{u'$numberLong': u'1455122202000'}</td>\n",
       "      <td>Sheridan001</td>\n",
       "      <td>8.8</td>\n",
       "      <td>Great Tasting Pre-Training Formula for Increas...</td>\n",
       "      <td>None</td>\n",
       "      <td>9.0</td>\n",
       "    </tr>\n",
       "    <tr>\n",
       "      <th>21</th>\n",
       "      <td>360CUT</td>\n",
       "      <td>cat1150004</td>\n",
       "      <td>360PRE</td>\n",
       "      <td>prod1620026</td>\n",
       "      <td>kawebb</td>\n",
       "      <td>118448411</td>\n",
       "      <td>569578760cf2d063ce4ebe94</td>\n",
       "      <td>64.00</td>\n",
       "      <td>146.00</td>\n",
       "      <td>20.00</td>\n",
       "      <td>None</td>\n",
       "      <td>I love the cotton candy flavor of this product...</td>\n",
       "      <td>{u'$numberLong': u'1454345705000'}</td>\n",
       "      <td>{u'$numberLong': u'1454345705000'}</td>\n",
       "      <td>kawebb</td>\n",
       "      <td>8.8</td>\n",
       "      <td>Great Tasting Pre-Training Formula for Increas...</td>\n",
       "      <td>None</td>\n",
       "      <td>9.0</td>\n",
       "    </tr>\n",
       "    <tr>\n",
       "      <th>22</th>\n",
       "      <td>360CUT</td>\n",
       "      <td>cat1150004</td>\n",
       "      <td>360PRE</td>\n",
       "      <td>prod1620026</td>\n",
       "      <td>columbusguy</td>\n",
       "      <td>51772531</td>\n",
       "      <td>55876a630cf2aac51828bd7f</td>\n",
       "      <td>76.00</td>\n",
       "      <td>176.00</td>\n",
       "      <td>11.00</td>\n",
       "      <td>None</td>\n",
       "      <td>Mixes easily, gets me energized and helps me m...</td>\n",
       "      <td>{u'$numberLong': u'1434937955000'}</td>\n",
       "      <td>{u'$numberLong': u'1434937955000'}</td>\n",
       "      <td>columbusguy</td>\n",
       "      <td>8.8</td>\n",
       "      <td>Great Tasting Pre-Training Formula for Increas...</td>\n",
       "      <td>None</td>\n",
       "      <td>10.0</td>\n",
       "    </tr>\n",
       "    <tr>\n",
       "      <th>23</th>\n",
       "      <td>360CUT</td>\n",
       "      <td>cat1150004</td>\n",
       "      <td>360PRE</td>\n",
       "      <td>prod1620026</td>\n",
       "      <td>Akmred9</td>\n",
       "      <td>86773691</td>\n",
       "      <td>555a4ce30cf218cdb3fb453b</td>\n",
       "      <td>NaN</td>\n",
       "      <td>NaN</td>\n",
       "      <td>NaN</td>\n",
       "      <td>None</td>\n",
       "      <td>Great pre workout! No jitters, headaches, naus...</td>\n",
       "      <td>{u'$numberLong': u'1431981283000'}</td>\n",
       "      <td>{u'$numberLong': u'1431981283000'}</td>\n",
       "      <td>Akmred9</td>\n",
       "      <td>8.8</td>\n",
       "      <td>Great Tasting Pre-Training Formula for Increas...</td>\n",
       "      <td>None</td>\n",
       "      <td>10.0</td>\n",
       "    </tr>\n",
       "    <tr>\n",
       "      <th>24</th>\n",
       "      <td>360CUT</td>\n",
       "      <td>cat1150004</td>\n",
       "      <td>360PRE</td>\n",
       "      <td>prod1620026</td>\n",
       "      <td>sjonathan91</td>\n",
       "      <td>94917662</td>\n",
       "      <td>554bd45c0cf288ba80afedfd</td>\n",
       "      <td>NaN</td>\n",
       "      <td>NaN</td>\n",
       "      <td>NaN</td>\n",
       "      <td>None</td>\n",
       "      <td>This is one of the best preworkouts I have eve...</td>\n",
       "      <td>{u'$numberLong': u'1431032924000'}</td>\n",
       "      <td>{u'$numberLong': u'1431032924000'}</td>\n",
       "      <td>sjonathan91</td>\n",
       "      <td>8.8</td>\n",
       "      <td>Great Tasting Pre-Training Formula for Increas...</td>\n",
       "      <td>None</td>\n",
       "      <td>10.0</td>\n",
       "    </tr>\n",
       "    <tr>\n",
       "      <th>25</th>\n",
       "      <td>360CUT</td>\n",
       "      <td>cat1150004</td>\n",
       "      <td>360PRE</td>\n",
       "      <td>prod1620026</td>\n",
       "      <td>alv653</td>\n",
       "      <td>74001271</td>\n",
       "      <td>54ff51860cf2924672bcaa59</td>\n",
       "      <td>NaN</td>\n",
       "      <td>223.00</td>\n",
       "      <td>18.70</td>\n",
       "      <td>None</td>\n",
       "      <td>I have been using 360cut products for over a y...</td>\n",
       "      <td>{u'$numberLong': u'1426018694000'}</td>\n",
       "      <td>{u'$numberLong': u'1426018694000'}</td>\n",
       "      <td>alv653</td>\n",
       "      <td>8.8</td>\n",
       "      <td>Great Tasting Pre-Training Formula for Increas...</td>\n",
       "      <td>None</td>\n",
       "      <td>9.0</td>\n",
       "    </tr>\n",
       "    <tr>\n",
       "      <th>26</th>\n",
       "      <td>360CUT</td>\n",
       "      <td>cat1150004</td>\n",
       "      <td>360PRE</td>\n",
       "      <td>prod1620026</td>\n",
       "      <td>Katwhite729</td>\n",
       "      <td>100954982</td>\n",
       "      <td>54e5025a0cf265b01aa88732</td>\n",
       "      <td>NaN</td>\n",
       "      <td>NaN</td>\n",
       "      <td>NaN</td>\n",
       "      <td>None</td>\n",
       "      <td>Tried it for the first time a few weeks ago an...</td>\n",
       "      <td>{u'$numberLong': u'1424294490000'}</td>\n",
       "      <td>{u'$numberLong': u'1424294490000'}</td>\n",
       "      <td>Katwhite729</td>\n",
       "      <td>8.8</td>\n",
       "      <td>Great Tasting Pre-Training Formula for Increas...</td>\n",
       "      <td>None</td>\n",
       "      <td>10.0</td>\n",
       "    </tr>\n",
       "    <tr>\n",
       "      <th>27</th>\n",
       "      <td>360CUT</td>\n",
       "      <td>cat1150004</td>\n",
       "      <td>360PRE</td>\n",
       "      <td>prod1620026</td>\n",
       "      <td>JFulton59</td>\n",
       "      <td>80907252</td>\n",
       "      <td>54c5aa220cf22344376f5832</td>\n",
       "      <td>69.00</td>\n",
       "      <td>175.50</td>\n",
       "      <td>11.80</td>\n",
       "      <td>None</td>\n",
       "      <td>This is one of the best pre workout supplement...</td>\n",
       "      <td>{u'$numberLong': u'1422240290000'}</td>\n",
       "      <td>{u'$numberLong': u'1422240290000'}</td>\n",
       "      <td>JFulton59</td>\n",
       "      <td>8.8</td>\n",
       "      <td>Great Tasting Pre-Training Formula for Increas...</td>\n",
       "      <td>None</td>\n",
       "      <td>10.0</td>\n",
       "    </tr>\n",
       "    <tr>\n",
       "      <th>28</th>\n",
       "      <td>360CUT</td>\n",
       "      <td>cat1150004</td>\n",
       "      <td>360PRE</td>\n",
       "      <td>prod1620026</td>\n",
       "      <td>juancenteno</td>\n",
       "      <td>61067782</td>\n",
       "      <td>54c423d00cf2ba310f2d607c</td>\n",
       "      <td>64.00</td>\n",
       "      <td>161.00</td>\n",
       "      <td>19.00</td>\n",
       "      <td>None</td>\n",
       "      <td>I kept hearing about 360 products on social me...</td>\n",
       "      <td>{u'$numberLong': u'1422140368000'}</td>\n",
       "      <td>{u'$numberLong': u'1422140368000'}</td>\n",
       "      <td>juancenteno</td>\n",
       "      <td>8.8</td>\n",
       "      <td>Great Tasting Pre-Training Formula for Increas...</td>\n",
       "      <td>None</td>\n",
       "      <td>10.0</td>\n",
       "    </tr>\n",
       "    <tr>\n",
       "      <th>29</th>\n",
       "      <td>360CUT</td>\n",
       "      <td>cat1150004</td>\n",
       "      <td>360PRE</td>\n",
       "      <td>prod1620026</td>\n",
       "      <td>Bliuberry</td>\n",
       "      <td>73073251</td>\n",
       "      <td>54bea1160cf21e039e6a18b2</td>\n",
       "      <td>NaN</td>\n",
       "      <td>NaN</td>\n",
       "      <td>NaN</td>\n",
       "      <td>None</td>\n",
       "      <td>This Pre-workout is great! The flavors taste a...</td>\n",
       "      <td>{u'$numberLong': u'1421779222000'}</td>\n",
       "      <td>{u'$numberLong': u'1421779222000'}</td>\n",
       "      <td>Bliuberry</td>\n",
       "      <td>8.8</td>\n",
       "      <td>Great Tasting Pre-Training Formula for Increas...</td>\n",
       "      <td>None</td>\n",
       "      <td>8.0</td>\n",
       "    </tr>\n",
       "    <tr>\n",
       "      <th>...</th>\n",
       "      <td>...</td>\n",
       "      <td>...</td>\n",
       "      <td>...</td>\n",
       "      <td>...</td>\n",
       "      <td>...</td>\n",
       "      <td>...</td>\n",
       "      <td>...</td>\n",
       "      <td>...</td>\n",
       "      <td>...</td>\n",
       "      <td>...</td>\n",
       "      <td>...</td>\n",
       "      <td>...</td>\n",
       "      <td>...</td>\n",
       "      <td>...</td>\n",
       "      <td>...</td>\n",
       "      <td>...</td>\n",
       "      <td>...</td>\n",
       "      <td>...</td>\n",
       "      <td>...</td>\n",
       "    </tr>\n",
       "    <tr>\n",
       "      <th>67581</th>\n",
       "      <td>Dymatize</td>\n",
       "      <td>BRAND_DYMATIZE</td>\n",
       "      <td>Super Mass Gainer</td>\n",
       "      <td>23745</td>\n",
       "      <td>dondillardo325</td>\n",
       "      <td>59125022</td>\n",
       "      <td>51a7c76e0cf23b20430246f7</td>\n",
       "      <td>67.00</td>\n",
       "      <td>185.50</td>\n",
       "      <td>13.52</td>\n",
       "      <td>None</td>\n",
       "      <td>I like the taste of this product and the cost ...</td>\n",
       "      <td>{u'$numberLong': u'1358265319000'}</td>\n",
       "      <td>{u'$numberLong': u'1376082588000'}</td>\n",
       "      <td>dondillardo325</td>\n",
       "      <td>8.1</td>\n",
       "      <td>Awesome Value, High Calorie, Mass Builder Prot...</td>\n",
       "      <td>None</td>\n",
       "      <td>5.0</td>\n",
       "    </tr>\n",
       "    <tr>\n",
       "      <th>67582</th>\n",
       "      <td>Dymatize</td>\n",
       "      <td>BRAND_DYMATIZE</td>\n",
       "      <td>Super Mass Gainer</td>\n",
       "      <td>23745</td>\n",
       "      <td>trinikhaleel</td>\n",
       "      <td>49449611</td>\n",
       "      <td>51a7c76f0cf23b2043028a53</td>\n",
       "      <td>68.00</td>\n",
       "      <td>278.50</td>\n",
       "      <td>28.00</td>\n",
       "      <td>None</td>\n",
       "      <td></td>\n",
       "      <td>{u'$numberLong': u'1353474079000'}</td>\n",
       "      <td>{u'$numberLong': u'1376083638000'}</td>\n",
       "      <td>trinikhaleel</td>\n",
       "      <td>8.1</td>\n",
       "      <td>Awesome Value, High Calorie, Mass Builder Prot...</td>\n",
       "      <td>None</td>\n",
       "      <td>8.0</td>\n",
       "    </tr>\n",
       "    <tr>\n",
       "      <th>67583</th>\n",
       "      <td>Dymatize</td>\n",
       "      <td>BRAND_DYMATIZE</td>\n",
       "      <td>Super Mass Gainer</td>\n",
       "      <td>23745</td>\n",
       "      <td>ipjhscq</td>\n",
       "      <td>50734731</td>\n",
       "      <td>51a7c76f0cf23b204302689e</td>\n",
       "      <td>68.00</td>\n",
       "      <td>199.50</td>\n",
       "      <td>14.60</td>\n",
       "      <td>None</td>\n",
       "      <td>I have been taking this supplement since two w...</td>\n",
       "      <td>{u'$numberLong': u'1352211730000'}</td>\n",
       "      <td>{u'$numberLong': u'1376083096000'}</td>\n",
       "      <td>ipjhscq</td>\n",
       "      <td>8.1</td>\n",
       "      <td>Awesome Value, High Calorie, Mass Builder Prot...</td>\n",
       "      <td>None</td>\n",
       "      <td>8.0</td>\n",
       "    </tr>\n",
       "    <tr>\n",
       "      <th>67584</th>\n",
       "      <td>Dymatize</td>\n",
       "      <td>BRAND_DYMATIZE</td>\n",
       "      <td>Super Mass Gainer</td>\n",
       "      <td>23745</td>\n",
       "      <td>harpreetbasra</td>\n",
       "      <td>57805902</td>\n",
       "      <td>51a7c76f0cf23b2043026885</td>\n",
       "      <td>NaN</td>\n",
       "      <td>NaN</td>\n",
       "      <td>NaN</td>\n",
       "      <td>None</td>\n",
       "      <td></td>\n",
       "      <td>{u'$numberLong': u'1352179803000'}</td>\n",
       "      <td>{u'$numberLong': u'1376083095000'}</td>\n",
       "      <td>harpreetbasra</td>\n",
       "      <td>8.1</td>\n",
       "      <td>Awesome Value, High Calorie, Mass Builder Prot...</td>\n",
       "      <td>None</td>\n",
       "      <td>10.0</td>\n",
       "    </tr>\n",
       "    <tr>\n",
       "      <th>67585</th>\n",
       "      <td>Dymatize</td>\n",
       "      <td>BRAND_DYMATIZE</td>\n",
       "      <td>Super Mass Gainer</td>\n",
       "      <td>23745</td>\n",
       "      <td>bodybldrmarcus</td>\n",
       "      <td>27471272</td>\n",
       "      <td>51a7c76f0cf23b2043026894</td>\n",
       "      <td>68.00</td>\n",
       "      <td>224.00</td>\n",
       "      <td>15.00</td>\n",
       "      <td>None</td>\n",
       "      <td>Super Mass Gainer isn't that great from a dige...</td>\n",
       "      <td>{u'$numberLong': u'1352175960000'}</td>\n",
       "      <td>{u'$numberLong': u'1376083095000'}</td>\n",
       "      <td>bodybldrmarcus</td>\n",
       "      <td>8.1</td>\n",
       "      <td>Awesome Value, High Calorie, Mass Builder Prot...</td>\n",
       "      <td>None</td>\n",
       "      <td>2.0</td>\n",
       "    </tr>\n",
       "    <tr>\n",
       "      <th>67586</th>\n",
       "      <td>Dymatize</td>\n",
       "      <td>BRAND_DYMATIZE</td>\n",
       "      <td>Super Mass Gainer</td>\n",
       "      <td>23745</td>\n",
       "      <td>nashbro1</td>\n",
       "      <td>55147672</td>\n",
       "      <td>51a7c7730cf23b2043033a74</td>\n",
       "      <td>71.00</td>\n",
       "      <td>319.00</td>\n",
       "      <td>36.00</td>\n",
       "      <td>None</td>\n",
       "      <td>I just took my first serving of Dymatize super...</td>\n",
       "      <td>{u'$numberLong': u'1343721104000'}</td>\n",
       "      <td>{u'$numberLong': u'1376086319000'}</td>\n",
       "      <td>nashbro1</td>\n",
       "      <td>8.1</td>\n",
       "      <td>Awesome Value, High Calorie, Mass Builder Prot...</td>\n",
       "      <td>None</td>\n",
       "      <td>9.0</td>\n",
       "    </tr>\n",
       "    <tr>\n",
       "      <th>67587</th>\n",
       "      <td>Dymatize</td>\n",
       "      <td>BRAND_DYMATIZE</td>\n",
       "      <td>Super Mass Gainer</td>\n",
       "      <td>23745</td>\n",
       "      <td>letsdothisquick</td>\n",
       "      <td>35082842</td>\n",
       "      <td>51a7c7730cf23b2043034ee6</td>\n",
       "      <td>67.00</td>\n",
       "      <td>169.60</td>\n",
       "      <td>15.00</td>\n",
       "      <td>None</td>\n",
       "      <td>Gained from 70Kg to 73Kg and still gaining, wi...</td>\n",
       "      <td>{u'$numberLong': u'1333867909000'}</td>\n",
       "      <td>{u'$numberLong': u'1376086638000'}</td>\n",
       "      <td>letsdothisquick</td>\n",
       "      <td>8.1</td>\n",
       "      <td>Awesome Value, High Calorie, Mass Builder Prot...</td>\n",
       "      <td>None</td>\n",
       "      <td>10.0</td>\n",
       "    </tr>\n",
       "    <tr>\n",
       "      <th>67588</th>\n",
       "      <td>Dymatize</td>\n",
       "      <td>BRAND_DYMATIZE</td>\n",
       "      <td>Super Mass Gainer</td>\n",
       "      <td>23745</td>\n",
       "      <td>jandrews24</td>\n",
       "      <td>370165</td>\n",
       "      <td>51a7c7730cf23b2043034300</td>\n",
       "      <td>65.00</td>\n",
       "      <td>197.50</td>\n",
       "      <td>23.00</td>\n",
       "      <td>None</td>\n",
       "      <td></td>\n",
       "      <td>{u'$numberLong': u'1332983908000'}</td>\n",
       "      <td>{u'$numberLong': u'1376086453000'}</td>\n",
       "      <td>jandrews24</td>\n",
       "      <td>8.1</td>\n",
       "      <td>Awesome Value, High Calorie, Mass Builder Prot...</td>\n",
       "      <td>None</td>\n",
       "      <td>9.0</td>\n",
       "    </tr>\n",
       "    <tr>\n",
       "      <th>67589</th>\n",
       "      <td>Dymatize</td>\n",
       "      <td>BRAND_DYMATIZE</td>\n",
       "      <td>Super Mass Gainer</td>\n",
       "      <td>23745</td>\n",
       "      <td>ishant15</td>\n",
       "      <td>49127841</td>\n",
       "      <td>51a7c7730cf23b2043034101</td>\n",
       "      <td>69.00</td>\n",
       "      <td>154.00</td>\n",
       "      <td>26.00</td>\n",
       "      <td>None</td>\n",
       "      <td></td>\n",
       "      <td>{u'$numberLong': u'1332939623000'}</td>\n",
       "      <td>{u'$numberLong': u'1376086426000'}</td>\n",
       "      <td>ishant15</td>\n",
       "      <td>8.1</td>\n",
       "      <td>Awesome Value, High Calorie, Mass Builder Prot...</td>\n",
       "      <td>None</td>\n",
       "      <td>8.0</td>\n",
       "    </tr>\n",
       "    <tr>\n",
       "      <th>67590</th>\n",
       "      <td>Dymatize</td>\n",
       "      <td>BRAND_DYMATIZE</td>\n",
       "      <td>Super Mass Gainer</td>\n",
       "      <td>23745</td>\n",
       "      <td>blueblop</td>\n",
       "      <td>37128042</td>\n",
       "      <td>51a7c76e0cf23b20430218a7</td>\n",
       "      <td>69.00</td>\n",
       "      <td>184.50</td>\n",
       "      <td>12.00</td>\n",
       "      <td>None</td>\n",
       "      <td>When I read the other peoples reviews I though...</td>\n",
       "      <td>{u'$numberLong': u'1327843944000'}</td>\n",
       "      <td>{u'$numberLong': u'1376081853000'}</td>\n",
       "      <td>blueblop</td>\n",
       "      <td>8.1</td>\n",
       "      <td>Awesome Value, High Calorie, Mass Builder Prot...</td>\n",
       "      <td>None</td>\n",
       "      <td>5.0</td>\n",
       "    </tr>\n",
       "    <tr>\n",
       "      <th>67591</th>\n",
       "      <td>Dymatize</td>\n",
       "      <td>BRAND_DYMATIZE</td>\n",
       "      <td>Super Mass Gainer</td>\n",
       "      <td>23745</td>\n",
       "      <td>Abraham2566</td>\n",
       "      <td>26866771</td>\n",
       "      <td>51a7c76d0cf23b2043021067</td>\n",
       "      <td>72.00</td>\n",
       "      <td>184.00</td>\n",
       "      <td>10.00</td>\n",
       "      <td>None</td>\n",
       "      <td>awesome price. bang for your buck. i recommend...</td>\n",
       "      <td>{u'$numberLong': u'1327556273000'}</td>\n",
       "      <td>{u'$numberLong': u'1376081730000'}</td>\n",
       "      <td>Abraham2566</td>\n",
       "      <td>8.1</td>\n",
       "      <td>Awesome Value, High Calorie, Mass Builder Prot...</td>\n",
       "      <td>None</td>\n",
       "      <td>10.0</td>\n",
       "    </tr>\n",
       "    <tr>\n",
       "      <th>67592</th>\n",
       "      <td>Dymatize</td>\n",
       "      <td>BRAND_DYMATIZE</td>\n",
       "      <td>Super Mass Gainer</td>\n",
       "      <td>23745</td>\n",
       "      <td>xRAPTOR26x</td>\n",
       "      <td>45800191</td>\n",
       "      <td>51a7c76d0cf23b204301f7a2</td>\n",
       "      <td>67.00</td>\n",
       "      <td>160.00</td>\n",
       "      <td>15.50</td>\n",
       "      <td>None</td>\n",
       "      <td>This is a great mass gainer. Taste is one of t...</td>\n",
       "      <td>{u'$numberLong': u'1325742159000'}</td>\n",
       "      <td>{u'$numberLong': u'1376081341000'}</td>\n",
       "      <td>xRAPTOR26x</td>\n",
       "      <td>8.1</td>\n",
       "      <td>Awesome Value, High Calorie, Mass Builder Prot...</td>\n",
       "      <td>None</td>\n",
       "      <td>10.0</td>\n",
       "    </tr>\n",
       "    <tr>\n",
       "      <th>67593</th>\n",
       "      <td>Dymatize</td>\n",
       "      <td>BRAND_DYMATIZE</td>\n",
       "      <td>Super Mass Gainer</td>\n",
       "      <td>23745</td>\n",
       "      <td>7m3rrr</td>\n",
       "      <td>42051982</td>\n",
       "      <td>51a7c76c0cf23b204301f2e1</td>\n",
       "      <td>69.00</td>\n",
       "      <td>206.00</td>\n",
       "      <td>16.50</td>\n",
       "      <td>None</td>\n",
       "      <td></td>\n",
       "      <td>{u'$numberLong': u'1324923547000'}</td>\n",
       "      <td>{u'$numberLong': u'1376081259000'}</td>\n",
       "      <td>7m3rrr</td>\n",
       "      <td>8.1</td>\n",
       "      <td>Awesome Value, High Calorie, Mass Builder Prot...</td>\n",
       "      <td>None</td>\n",
       "      <td>10.0</td>\n",
       "    </tr>\n",
       "    <tr>\n",
       "      <th>67594</th>\n",
       "      <td>Dymatize</td>\n",
       "      <td>BRAND_DYMATIZE</td>\n",
       "      <td>Super Mass Gainer</td>\n",
       "      <td>23745</td>\n",
       "      <td>PrimeBlocker</td>\n",
       "      <td>23495631</td>\n",
       "      <td>51a7c76e0cf23b20430223e9</td>\n",
       "      <td>71.00</td>\n",
       "      <td>245.00</td>\n",
       "      <td>32.70</td>\n",
       "      <td>None</td>\n",
       "      <td>Taste great gain about twelve pounds in two mo...</td>\n",
       "      <td>{u'$numberLong': u'1300604151000'}</td>\n",
       "      <td>{u'$numberLong': u'1376082033000'}</td>\n",
       "      <td>PrimeBlocker</td>\n",
       "      <td>8.1</td>\n",
       "      <td>Awesome Value, High Calorie, Mass Builder Prot...</td>\n",
       "      <td>None</td>\n",
       "      <td>10.0</td>\n",
       "    </tr>\n",
       "    <tr>\n",
       "      <th>67595</th>\n",
       "      <td>S.A.N.</td>\n",
       "      <td>BRAND_S_A_N_</td>\n",
       "      <td>Green Supreme Fusion</td>\n",
       "      <td>prod680032</td>\n",
       "      <td>maclarenrobin</td>\n",
       "      <td>62468622</td>\n",
       "      <td>5707c9a80cf2e0601a69c9ce</td>\n",
       "      <td>63.00</td>\n",
       "      <td>120.00</td>\n",
       "      <td>20.00</td>\n",
       "      <td>None</td>\n",
       "      <td>This product gives me the greens I want and a ...</td>\n",
       "      <td>{u'$numberLong': u'1460128168000'}</td>\n",
       "      <td>{u'$numberLong': u'1460128168000'}</td>\n",
       "      <td>maclarenrobin</td>\n",
       "      <td>9.4</td>\n",
       "      <td>Supports Digestive Health &amp; Food Assimilation!*</td>\n",
       "      <td>None</td>\n",
       "      <td>8.0</td>\n",
       "    </tr>\n",
       "    <tr>\n",
       "      <th>67596</th>\n",
       "      <td>S.A.N.</td>\n",
       "      <td>BRAND_S_A_N_</td>\n",
       "      <td>Green Supreme Fusion</td>\n",
       "      <td>prod680032</td>\n",
       "      <td>actmh3a</td>\n",
       "      <td>107883502</td>\n",
       "      <td>5624f15e0cf2b2b3a5ba659c</td>\n",
       "      <td>NaN</td>\n",
       "      <td>NaN</td>\n",
       "      <td>NaN</td>\n",
       "      <td>None</td>\n",
       "      <td>I purchased this product according to the revi...</td>\n",
       "      <td>{u'$numberLong': u'1445261662000'}</td>\n",
       "      <td>{u'$numberLong': u'1445261662000'}</td>\n",
       "      <td>actmh3a</td>\n",
       "      <td>9.4</td>\n",
       "      <td>Supports Digestive Health &amp; Food Assimilation!*</td>\n",
       "      <td>None</td>\n",
       "      <td>7.0</td>\n",
       "    </tr>\n",
       "    <tr>\n",
       "      <th>67597</th>\n",
       "      <td>S.A.N.</td>\n",
       "      <td>BRAND_S_A_N_</td>\n",
       "      <td>Green Supreme Fusion</td>\n",
       "      <td>prod680032</td>\n",
       "      <td>sugolik</td>\n",
       "      <td>19860102</td>\n",
       "      <td>55a7b27e0cf2e0eac2243c16</td>\n",
       "      <td>NaN</td>\n",
       "      <td>220.00</td>\n",
       "      <td>15.00</td>\n",
       "      <td>None</td>\n",
       "      <td>Love this product. The infusion of fruits , gr...</td>\n",
       "      <td>{u'$numberLong': u'1437053566000'}</td>\n",
       "      <td>{u'$numberLong': u'1437053566000'}</td>\n",
       "      <td>sugolik</td>\n",
       "      <td>9.4</td>\n",
       "      <td>Supports Digestive Health &amp; Food Assimilation!*</td>\n",
       "      <td>:lifes2good</td>\n",
       "      <td>10.0</td>\n",
       "    </tr>\n",
       "    <tr>\n",
       "      <th>67598</th>\n",
       "      <td>S.A.N.</td>\n",
       "      <td>BRAND_S_A_N_</td>\n",
       "      <td>Green Supreme Fusion</td>\n",
       "      <td>prod680032</td>\n",
       "      <td>xxx_jfb_xxx</td>\n",
       "      <td>24381631</td>\n",
       "      <td>554f843d0cf2513e89833f84</td>\n",
       "      <td>67.00</td>\n",
       "      <td>165.00</td>\n",
       "      <td>13.00</td>\n",
       "      <td>None</td>\n",
       "      <td></td>\n",
       "      <td>{u'$numberLong': u'1431274557000'}</td>\n",
       "      <td>{u'$numberLong': u'1431274557000'}</td>\n",
       "      <td>xxx_jfb_xxx</td>\n",
       "      <td>9.4</td>\n",
       "      <td>Supports Digestive Health &amp; Food Assimilation!*</td>\n",
       "      <td>None</td>\n",
       "      <td>10.0</td>\n",
       "    </tr>\n",
       "    <tr>\n",
       "      <th>67599</th>\n",
       "      <td>S.A.N.</td>\n",
       "      <td>BRAND_S_A_N_</td>\n",
       "      <td>Green Supreme Fusion</td>\n",
       "      <td>prod680032</td>\n",
       "      <td>PullupMaster</td>\n",
       "      <td>38738022</td>\n",
       "      <td>54f5cd680cf24ca43abace97</td>\n",
       "      <td>63.00</td>\n",
       "      <td>194.00</td>\n",
       "      <td>20.00</td>\n",
       "      <td>None</td>\n",
       "      <td>This is such a great product! I love that they...</td>\n",
       "      <td>{u'$numberLong': u'1425395047000'}</td>\n",
       "      <td>{u'$numberLong': u'1425395047000'}</td>\n",
       "      <td>PullupMaster</td>\n",
       "      <td>9.4</td>\n",
       "      <td>Supports Digestive Health &amp; Food Assimilation!*</td>\n",
       "      <td>None</td>\n",
       "      <td>10.0</td>\n",
       "    </tr>\n",
       "    <tr>\n",
       "      <th>67600</th>\n",
       "      <td>S.A.N.</td>\n",
       "      <td>BRAND_S_A_N_</td>\n",
       "      <td>Green Supreme Fusion</td>\n",
       "      <td>prod680032</td>\n",
       "      <td>wo4life</td>\n",
       "      <td>31572632</td>\n",
       "      <td>5449487c0cf2caa5f43faa23</td>\n",
       "      <td>69.00</td>\n",
       "      <td>177.00</td>\n",
       "      <td>7.00</td>\n",
       "      <td>None</td>\n",
       "      <td>This stuff is AWESOMMMMMMMMMMME! I used to thi...</td>\n",
       "      <td>{u'$numberLong': u'1414088835000'}</td>\n",
       "      <td>{u'$numberLong': u'1414088835000'}</td>\n",
       "      <td>wo4life</td>\n",
       "      <td>9.4</td>\n",
       "      <td>Supports Digestive Health &amp; Food Assimilation!*</td>\n",
       "      <td>None</td>\n",
       "      <td>10.0</td>\n",
       "    </tr>\n",
       "    <tr>\n",
       "      <th>67601</th>\n",
       "      <td>S.A.N.</td>\n",
       "      <td>BRAND_S_A_N_</td>\n",
       "      <td>Green Supreme Fusion</td>\n",
       "      <td>prod680032</td>\n",
       "      <td>fitbabe6</td>\n",
       "      <td>392653</td>\n",
       "      <td>5421d6740cf206d284d4d150</td>\n",
       "      <td>67.00</td>\n",
       "      <td>146.60</td>\n",
       "      <td>13.40</td>\n",
       "      <td>None</td>\n",
       "      <td>I love this product! The taste is quite good a...</td>\n",
       "      <td>{u'$numberLong': u'1411503732000'}</td>\n",
       "      <td>{u'$numberLong': u'1411503732000'}</td>\n",
       "      <td>fitbabe6</td>\n",
       "      <td>9.4</td>\n",
       "      <td>Supports Digestive Health &amp; Food Assimilation!*</td>\n",
       "      <td>None</td>\n",
       "      <td>10.0</td>\n",
       "    </tr>\n",
       "    <tr>\n",
       "      <th>67602</th>\n",
       "      <td>S.A.N.</td>\n",
       "      <td>BRAND_S_A_N_</td>\n",
       "      <td>Green Supreme Fusion</td>\n",
       "      <td>prod680032</td>\n",
       "      <td>NickJames206</td>\n",
       "      <td>67710702</td>\n",
       "      <td>53ee6b320cf2b899939e6cc8</td>\n",
       "      <td>NaN</td>\n",
       "      <td>NaN</td>\n",
       "      <td>NaN</td>\n",
       "      <td>None</td>\n",
       "      <td>This is the first time using a green product. ...</td>\n",
       "      <td>{u'$numberLong': u'1408133938000'}</td>\n",
       "      <td>{u'$numberLong': u'1408133938000'}</td>\n",
       "      <td>NickJames206</td>\n",
       "      <td>9.4</td>\n",
       "      <td>Supports Digestive Health &amp; Food Assimilation!*</td>\n",
       "      <td>None</td>\n",
       "      <td>10.0</td>\n",
       "    </tr>\n",
       "    <tr>\n",
       "      <th>67603</th>\n",
       "      <td>S.A.N.</td>\n",
       "      <td>BRAND_S_A_N_</td>\n",
       "      <td>Green Supreme Fusion</td>\n",
       "      <td>prod680032</td>\n",
       "      <td>nebraskaheat</td>\n",
       "      <td>57064062</td>\n",
       "      <td>51a7c7720cf23b204302c5fd</td>\n",
       "      <td>64.96</td>\n",
       "      <td>143.00</td>\n",
       "      <td>15.00</td>\n",
       "      <td>None</td>\n",
       "      <td>A great profile in an easily drinkable greens ...</td>\n",
       "      <td>{u'$numberLong': u'1354654769000'}</td>\n",
       "      <td>{u'$numberLong': u'1376084542000'}</td>\n",
       "      <td>nebraskaheat</td>\n",
       "      <td>9.4</td>\n",
       "      <td>Supports Digestive Health &amp; Food Assimilation!*</td>\n",
       "      <td>None</td>\n",
       "      <td>9.0</td>\n",
       "    </tr>\n",
       "    <tr>\n",
       "      <th>67604</th>\n",
       "      <td>S.A.N.</td>\n",
       "      <td>BRAND_S_A_N_</td>\n",
       "      <td>Green Supreme Fusion</td>\n",
       "      <td>prod680032</td>\n",
       "      <td>cmdavis11</td>\n",
       "      <td>43581152</td>\n",
       "      <td>51a7c7730cf23b2043033dda</td>\n",
       "      <td>68.00</td>\n",
       "      <td>149.91</td>\n",
       "      <td>12.40</td>\n",
       "      <td>None</td>\n",
       "      <td>This blows Oximega Greens out of the water in ...</td>\n",
       "      <td>{u'$numberLong': u'1348527318000'}</td>\n",
       "      <td>{u'$numberLong': u'1376086379000'}</td>\n",
       "      <td>cmdavis11</td>\n",
       "      <td>9.4</td>\n",
       "      <td>Supports Digestive Health &amp; Food Assimilation!*</td>\n",
       "      <td>None</td>\n",
       "      <td>9.0</td>\n",
       "    </tr>\n",
       "    <tr>\n",
       "      <th>67605</th>\n",
       "      <td>NOW</td>\n",
       "      <td>BRAND_NOW</td>\n",
       "      <td>Ginkgo Biloba</td>\n",
       "      <td>23649</td>\n",
       "      <td>rrcarroll</td>\n",
       "      <td>103018372</td>\n",
       "      <td>56f7e9660cf2e2d6c1d3d29e</td>\n",
       "      <td>72.00</td>\n",
       "      <td>205.00</td>\n",
       "      <td>16.00</td>\n",
       "      <td>None</td>\n",
       "      <td>Does what it is suppose to do without any fluff.</td>\n",
       "      <td>{u'$numberLong': u'1459087718000'}</td>\n",
       "      <td>{u'$numberLong': u'1459087718000'}</td>\n",
       "      <td>rrcarroll</td>\n",
       "      <td>9.0</td>\n",
       "      <td>Promote Optimal Health!*</td>\n",
       "      <td>None</td>\n",
       "      <td>9.0</td>\n",
       "    </tr>\n",
       "    <tr>\n",
       "      <th>67606</th>\n",
       "      <td>NOW</td>\n",
       "      <td>BRAND_NOW</td>\n",
       "      <td>Ginkgo Biloba</td>\n",
       "      <td>23649</td>\n",
       "      <td>musartnova</td>\n",
       "      <td>32410682</td>\n",
       "      <td>567d6a330cf215707c6aca98</td>\n",
       "      <td>NaN</td>\n",
       "      <td>NaN</td>\n",
       "      <td>NaN</td>\n",
       "      <td>None</td>\n",
       "      <td>A+++</td>\n",
       "      <td>{u'$numberLong': u'1451059763000'}</td>\n",
       "      <td>{u'$numberLong': u'1451059763000'}</td>\n",
       "      <td>musartnova</td>\n",
       "      <td>9.0</td>\n",
       "      <td>Promote Optimal Health!*</td>\n",
       "      <td>None</td>\n",
       "      <td>9.0</td>\n",
       "    </tr>\n",
       "    <tr>\n",
       "      <th>67607</th>\n",
       "      <td>NOW</td>\n",
       "      <td>BRAND_NOW</td>\n",
       "      <td>Ginkgo Biloba</td>\n",
       "      <td>23649</td>\n",
       "      <td>TBug</td>\n",
       "      <td>79101492</td>\n",
       "      <td>52f47f8b0cf212e540f28752</td>\n",
       "      <td>70.87</td>\n",
       "      <td>137.99</td>\n",
       "      <td>15.00</td>\n",
       "      <td>None</td>\n",
       "      <td>Your mind awareness is a little sharper and fo...</td>\n",
       "      <td>{u'$numberLong': u'1391755147000'}</td>\n",
       "      <td>{u'$numberLong': u'1391755147000'}</td>\n",
       "      <td>TBug</td>\n",
       "      <td>9.0</td>\n",
       "      <td>Promote Optimal Health!*</td>\n",
       "      <td>None</td>\n",
       "      <td>8.0</td>\n",
       "    </tr>\n",
       "    <tr>\n",
       "      <th>67608</th>\n",
       "      <td>NOW</td>\n",
       "      <td>BRAND_NOW</td>\n",
       "      <td>Ginkgo Biloba</td>\n",
       "      <td>23649</td>\n",
       "      <td>jonav</td>\n",
       "      <td>63134382</td>\n",
       "      <td>51fa807c0cf27692f076eb86</td>\n",
       "      <td>73.00</td>\n",
       "      <td>170.00</td>\n",
       "      <td>11.00</td>\n",
       "      <td>None</td>\n",
       "      <td>Its a great product</td>\n",
       "      <td>{u'$numberLong': u'1375371388000'}</td>\n",
       "      <td>{u'$numberLong': u'1375371388000'}</td>\n",
       "      <td>jonav</td>\n",
       "      <td>9.0</td>\n",
       "      <td>Promote Optimal Health!*</td>\n",
       "      <td>None</td>\n",
       "      <td>8.0</td>\n",
       "    </tr>\n",
       "    <tr>\n",
       "      <th>67609</th>\n",
       "      <td>NOW</td>\n",
       "      <td>BRAND_NOW</td>\n",
       "      <td>Ginkgo Biloba</td>\n",
       "      <td>23649</td>\n",
       "      <td>Senad54</td>\n",
       "      <td>55870402</td>\n",
       "      <td>51f9de820cf25611125e7b1e</td>\n",
       "      <td>62.00</td>\n",
       "      <td>133.50</td>\n",
       "      <td>17.00</td>\n",
       "      <td>None</td>\n",
       "      <td>I like this product. Before taking it, I could...</td>\n",
       "      <td>{u'$numberLong': u'1375329922000'}</td>\n",
       "      <td>{u'$numberLong': u'1375329922000'}</td>\n",
       "      <td>Senad54</td>\n",
       "      <td>9.0</td>\n",
       "      <td>Promote Optimal Health!*</td>\n",
       "      <td>None</td>\n",
       "      <td>10.0</td>\n",
       "    </tr>\n",
       "    <tr>\n",
       "      <th>67610</th>\n",
       "      <td>NOW</td>\n",
       "      <td>BRAND_NOW</td>\n",
       "      <td>Ginkgo Biloba</td>\n",
       "      <td>23649</td>\n",
       "      <td>ecrivain75000</td>\n",
       "      <td>49004332</td>\n",
       "      <td>51a7c7740cf23b20430392d7</td>\n",
       "      <td>NaN</td>\n",
       "      <td>NaN</td>\n",
       "      <td>NaN</td>\n",
       "      <td>None</td>\n",
       "      <td></td>\n",
       "      <td>{u'$numberLong': u'1340283671000'}</td>\n",
       "      <td>{u'$numberLong': u'1376087727000'}</td>\n",
       "      <td>ecrivain75000</td>\n",
       "      <td>9.0</td>\n",
       "      <td>Promote Optimal Health!*</td>\n",
       "      <td>None</td>\n",
       "      <td>10.0</td>\n",
       "    </tr>\n",
       "  </tbody>\n",
       "</table>\n",
       "<p>64312 rows × 19 columns</p>\n",
       "</div>"
      ],
      "text/plain": [
       "      brandName         brandId                  name    productId  \\\n",
       "0        360CUT      cat1150004               360LEAN  prod1620022   \n",
       "1        360CUT      cat1150004               360LEAN  prod1620022   \n",
       "2        360CUT      cat1150004               360LEAN  prod1620022   \n",
       "3        360CUT      cat1150004               360LEAN  prod1620022   \n",
       "4        360CUT      cat1150004               360LEAN  prod1620022   \n",
       "5        360CUT      cat1150004               360LEAN  prod1620022   \n",
       "6        360CUT      cat1150004               360LEAN  prod1620022   \n",
       "7        360CUT      cat1150004               360LEAN  prod1620022   \n",
       "8        360CUT      cat1150004               360LEAN  prod1620022   \n",
       "9        360CUT      cat1150004               360LEAN  prod1620022   \n",
       "10       360CUT      cat1150004               360LEAN  prod1620022   \n",
       "11       360CUT      cat1150004               360LEAN  prod1620022   \n",
       "12       360CUT      cat1150004               360LEAN  prod1620022   \n",
       "13       360CUT      cat1150004               360LEAN  prod1620022   \n",
       "14       360CUT      cat1150004               360LEAN  prod1620022   \n",
       "15       360CUT      cat1150004               360LEAN  prod1620022   \n",
       "16       360CUT      cat1150004               360LEAN  prod1620022   \n",
       "17       360CUT      cat1150004               360LEAN  prod1620022   \n",
       "18       360CUT      cat1150004                360PRE  prod1620026   \n",
       "19       360CUT      cat1150004                360PRE  prod1620026   \n",
       "20       360CUT      cat1150004                360PRE  prod1620026   \n",
       "21       360CUT      cat1150004                360PRE  prod1620026   \n",
       "22       360CUT      cat1150004                360PRE  prod1620026   \n",
       "23       360CUT      cat1150004                360PRE  prod1620026   \n",
       "24       360CUT      cat1150004                360PRE  prod1620026   \n",
       "25       360CUT      cat1150004                360PRE  prod1620026   \n",
       "26       360CUT      cat1150004                360PRE  prod1620026   \n",
       "27       360CUT      cat1150004                360PRE  prod1620026   \n",
       "28       360CUT      cat1150004                360PRE  prod1620026   \n",
       "29       360CUT      cat1150004                360PRE  prod1620026   \n",
       "...         ...             ...                   ...          ...   \n",
       "67581  Dymatize  BRAND_DYMATIZE     Super Mass Gainer        23745   \n",
       "67582  Dymatize  BRAND_DYMATIZE     Super Mass Gainer        23745   \n",
       "67583  Dymatize  BRAND_DYMATIZE     Super Mass Gainer        23745   \n",
       "67584  Dymatize  BRAND_DYMATIZE     Super Mass Gainer        23745   \n",
       "67585  Dymatize  BRAND_DYMATIZE     Super Mass Gainer        23745   \n",
       "67586  Dymatize  BRAND_DYMATIZE     Super Mass Gainer        23745   \n",
       "67587  Dymatize  BRAND_DYMATIZE     Super Mass Gainer        23745   \n",
       "67588  Dymatize  BRAND_DYMATIZE     Super Mass Gainer        23745   \n",
       "67589  Dymatize  BRAND_DYMATIZE     Super Mass Gainer        23745   \n",
       "67590  Dymatize  BRAND_DYMATIZE     Super Mass Gainer        23745   \n",
       "67591  Dymatize  BRAND_DYMATIZE     Super Mass Gainer        23745   \n",
       "67592  Dymatize  BRAND_DYMATIZE     Super Mass Gainer        23745   \n",
       "67593  Dymatize  BRAND_DYMATIZE     Super Mass Gainer        23745   \n",
       "67594  Dymatize  BRAND_DYMATIZE     Super Mass Gainer        23745   \n",
       "67595    S.A.N.    BRAND_S_A_N_  Green Supreme Fusion   prod680032   \n",
       "67596    S.A.N.    BRAND_S_A_N_  Green Supreme Fusion   prod680032   \n",
       "67597    S.A.N.    BRAND_S_A_N_  Green Supreme Fusion   prod680032   \n",
       "67598    S.A.N.    BRAND_S_A_N_  Green Supreme Fusion   prod680032   \n",
       "67599    S.A.N.    BRAND_S_A_N_  Green Supreme Fusion   prod680032   \n",
       "67600    S.A.N.    BRAND_S_A_N_  Green Supreme Fusion   prod680032   \n",
       "67601    S.A.N.    BRAND_S_A_N_  Green Supreme Fusion   prod680032   \n",
       "67602    S.A.N.    BRAND_S_A_N_  Green Supreme Fusion   prod680032   \n",
       "67603    S.A.N.    BRAND_S_A_N_  Green Supreme Fusion   prod680032   \n",
       "67604    S.A.N.    BRAND_S_A_N_  Green Supreme Fusion   prod680032   \n",
       "67605       NOW       BRAND_NOW         Ginkgo Biloba        23649   \n",
       "67606       NOW       BRAND_NOW         Ginkgo Biloba        23649   \n",
       "67607       NOW       BRAND_NOW         Ginkgo Biloba        23649   \n",
       "67608       NOW       BRAND_NOW         Ginkgo Biloba        23649   \n",
       "67609       NOW       BRAND_NOW         Ginkgo Biloba        23649   \n",
       "67610       NOW       BRAND_NOW         Ginkgo Biloba        23649   \n",
       "\n",
       "              username     userId                       _id  height  weight  \\\n",
       "0          coryacehall   58617272  5787b7850cf262c7c0381cc6   74.00  185.00   \n",
       "1             dida1984  120584661  5721f4cf0cf2d7a0bb1d391f     NaN  143.96   \n",
       "2            mango1515   88002491  5714f2d70cf2a1797c83f8b8   68.00  158.00   \n",
       "3               DCGuru   34717082  56fad5250cf2ae532b9b5462   69.00  179.50   \n",
       "4                bcnus   98886182  56e1857f0cf2857466d1b465   76.00  230.00   \n",
       "5              aslzr23   42621942  55a68a7a0cf22545627578e5     NaN  215.00   \n",
       "6            Rafaelg90   87306721  5579f6b60cf281d23a605392     NaN  245.00   \n",
       "7         lizziehessxo  101296512  54ff4f360cf23daccb3ce189     NaN     NaN   \n",
       "8          desmichelle  108628242  555cd9600cf26d3993e1e227     NaN     NaN   \n",
       "9           nmontelli8   87861531  555a4a1a0cf29545352ebb23     NaN  106.50   \n",
       "10         columbusguy   51772531  54c8d7660cf2f88a824d4784   76.00  176.00   \n",
       "11              Lui561   95336442  54a40fec0cf2f8c60d323acf     NaN     NaN   \n",
       "12             Kjcmpls   78825802  549db02a0cf2df130405808e     NaN     NaN   \n",
       "13             Ampit06   48470802  54946d130cf2f8c60d2b7b3e   70.00  265.00   \n",
       "14        xXXxDUDExXXx   69060542  5480d1be0cf230e63923f36a   71.00  212.00   \n",
       "15         kurttackoor     212578  53a45a9e0cf2af71edcce854     NaN  154.00   \n",
       "16         Laurenlotz5   71682151  530d31560cf2c8186f246335     NaN     NaN   \n",
       "17            Zenchick   24300321  529e01620cf2addcb8250592   66.00  155.00   \n",
       "18       dyertyler2009   43307192  581ad1760cf2e9995f83db0c   68.00  166.00   \n",
       "19            samholik  108501372  56f19c740cf2d06ac0211eed     NaN  174.17   \n",
       "20         Sheridan001  101302652  56bb671a0cf2555a11c85748     NaN     NaN   \n",
       "21              kawebb  118448411  569578760cf2d063ce4ebe94   64.00  146.00   \n",
       "22         columbusguy   51772531  55876a630cf2aac51828bd7f   76.00  176.00   \n",
       "23             Akmred9   86773691  555a4ce30cf218cdb3fb453b     NaN     NaN   \n",
       "24         sjonathan91   94917662  554bd45c0cf288ba80afedfd     NaN     NaN   \n",
       "25              alv653   74001271  54ff51860cf2924672bcaa59     NaN  223.00   \n",
       "26         Katwhite729  100954982  54e5025a0cf265b01aa88732     NaN     NaN   \n",
       "27           JFulton59   80907252  54c5aa220cf22344376f5832   69.00  175.50   \n",
       "28         juancenteno   61067782  54c423d00cf2ba310f2d607c   64.00  161.00   \n",
       "29           Bliuberry   73073251  54bea1160cf21e039e6a18b2     NaN     NaN   \n",
       "...                ...        ...                       ...     ...     ...   \n",
       "67581   dondillardo325   59125022  51a7c76e0cf23b20430246f7   67.00  185.50   \n",
       "67582     trinikhaleel   49449611  51a7c76f0cf23b2043028a53   68.00  278.50   \n",
       "67583          ipjhscq   50734731  51a7c76f0cf23b204302689e   68.00  199.50   \n",
       "67584    harpreetbasra   57805902  51a7c76f0cf23b2043026885     NaN     NaN   \n",
       "67585   bodybldrmarcus   27471272  51a7c76f0cf23b2043026894   68.00  224.00   \n",
       "67586         nashbro1   55147672  51a7c7730cf23b2043033a74   71.00  319.00   \n",
       "67587  letsdothisquick   35082842  51a7c7730cf23b2043034ee6   67.00  169.60   \n",
       "67588       jandrews24     370165  51a7c7730cf23b2043034300   65.00  197.50   \n",
       "67589         ishant15   49127841  51a7c7730cf23b2043034101   69.00  154.00   \n",
       "67590         blueblop   37128042  51a7c76e0cf23b20430218a7   69.00  184.50   \n",
       "67591      Abraham2566   26866771  51a7c76d0cf23b2043021067   72.00  184.00   \n",
       "67592       xRAPTOR26x   45800191  51a7c76d0cf23b204301f7a2   67.00  160.00   \n",
       "67593           7m3rrr   42051982  51a7c76c0cf23b204301f2e1   69.00  206.00   \n",
       "67594     PrimeBlocker   23495631  51a7c76e0cf23b20430223e9   71.00  245.00   \n",
       "67595    maclarenrobin   62468622  5707c9a80cf2e0601a69c9ce   63.00  120.00   \n",
       "67596          actmh3a  107883502  5624f15e0cf2b2b3a5ba659c     NaN     NaN   \n",
       "67597          sugolik   19860102  55a7b27e0cf2e0eac2243c16     NaN  220.00   \n",
       "67598      xxx_jfb_xxx   24381631  554f843d0cf2513e89833f84   67.00  165.00   \n",
       "67599     PullupMaster   38738022  54f5cd680cf24ca43abace97   63.00  194.00   \n",
       "67600          wo4life   31572632  5449487c0cf2caa5f43faa23   69.00  177.00   \n",
       "67601         fitbabe6     392653  5421d6740cf206d284d4d150   67.00  146.60   \n",
       "67602     NickJames206   67710702  53ee6b320cf2b899939e6cc8     NaN     NaN   \n",
       "67603     nebraskaheat   57064062  51a7c7720cf23b204302c5fd   64.96  143.00   \n",
       "67604        cmdavis11   43581152  51a7c7730cf23b2043033dda   68.00  149.91   \n",
       "67605        rrcarroll  103018372  56f7e9660cf2e2d6c1d3d29e   72.00  205.00   \n",
       "67606       musartnova   32410682  567d6a330cf215707c6aca98     NaN     NaN   \n",
       "67607             TBug   79101492  52f47f8b0cf212e540f28752   70.87  137.99   \n",
       "67608            jonav   63134382  51fa807c0cf27692f076eb86   73.00  170.00   \n",
       "67609          Senad54   55870402  51f9de820cf25611125e7b1e   62.00  133.50   \n",
       "67610    ecrivain75000   49004332  51a7c7740cf23b20430392d7     NaN     NaN   \n",
       "\n",
       "       bodyfat totalItems                                               text  \\\n",
       "0        11.90       None  I did really like this product. I used it in r...   \n",
       "1        16.70       None  Didn't get a lot of energy like other suppleme...   \n",
       "2        12.30       None  My 1st review on a product. I did 20 capsules ...   \n",
       "3         9.00       None  I've never really been a fan of thermogenics s...   \n",
       "4        12.00       None                                                      \n",
       "5        23.00       None  I've been taking this product for a couple of ...   \n",
       "6          NaN       None  This product really worked for me gets me up a...   \n",
       "7          NaN       None  I have tried many fat burners before, but have...   \n",
       "8          NaN       None  i have tried four other companies and this is ...   \n",
       "9          NaN       None  Hands down one of the best thermos I've used. ...   \n",
       "10       11.00       None  This product is awesome.  I was wanting a prod...   \n",
       "11         NaN       None  My boyfriend and I love this thermogenic, he d...   \n",
       "12         NaN       None  \\nLove this product and happy to see it on BB....   \n",
       "13       25.00       None  Tried thIs product after following the Dean Mi...   \n",
       "14       21.00       None                                                      \n",
       "15         NaN       None  Will definitely have you feeling \"heated\". Gre...   \n",
       "16         NaN       None  great mood stabilizer, and great evergy withou...   \n",
       "17       20.00       None                                                      \n",
       "18       12.00       None  I just received this pre-workout this week and...   \n",
       "19         NaN       None                                                      \n",
       "20         NaN       None  I've tried multiple types of preworkout and ha...   \n",
       "21       20.00       None  I love the cotton candy flavor of this product...   \n",
       "22       11.00       None  Mixes easily, gets me energized and helps me m...   \n",
       "23         NaN       None  Great pre workout! No jitters, headaches, naus...   \n",
       "24         NaN       None  This is one of the best preworkouts I have eve...   \n",
       "25       18.70       None  I have been using 360cut products for over a y...   \n",
       "26         NaN       None  Tried it for the first time a few weeks ago an...   \n",
       "27       11.80       None  This is one of the best pre workout supplement...   \n",
       "28       19.00       None  I kept hearing about 360 products on social me...   \n",
       "29         NaN       None  This Pre-workout is great! The flavors taste a...   \n",
       "...        ...        ...                                                ...   \n",
       "67581    13.52       None  I like the taste of this product and the cost ...   \n",
       "67582    28.00       None                                                      \n",
       "67583    14.60       None  I have been taking this supplement since two w...   \n",
       "67584      NaN       None                                                      \n",
       "67585    15.00       None  Super Mass Gainer isn't that great from a dige...   \n",
       "67586    36.00       None  I just took my first serving of Dymatize super...   \n",
       "67587    15.00       None  Gained from 70Kg to 73Kg and still gaining, wi...   \n",
       "67588    23.00       None                                                      \n",
       "67589    26.00       None                                                      \n",
       "67590    12.00       None  When I read the other peoples reviews I though...   \n",
       "67591    10.00       None  awesome price. bang for your buck. i recommend...   \n",
       "67592    15.50       None  This is a great mass gainer. Taste is one of t...   \n",
       "67593    16.50       None                                                      \n",
       "67594    32.70       None  Taste great gain about twelve pounds in two mo...   \n",
       "67595    20.00       None  This product gives me the greens I want and a ...   \n",
       "67596      NaN       None  I purchased this product according to the revi...   \n",
       "67597    15.00       None  Love this product. The infusion of fruits , gr...   \n",
       "67598    13.00       None                                                      \n",
       "67599    20.00       None  This is such a great product! I love that they...   \n",
       "67600     7.00       None  This stuff is AWESOMMMMMMMMMMME! I used to thi...   \n",
       "67601    13.40       None  I love this product! The taste is quite good a...   \n",
       "67602      NaN       None  This is the first time using a green product. ...   \n",
       "67603    15.00       None  A great profile in an easily drinkable greens ...   \n",
       "67604    12.40       None  This blows Oximega Greens out of the water in ...   \n",
       "67605    16.00       None  Does what it is suppose to do without any fluff.    \n",
       "67606      NaN       None                                               A+++   \n",
       "67607    15.00       None  Your mind awareness is a little sharper and fo...   \n",
       "67608    11.00       None                                Its a great product   \n",
       "67609    17.00       None  I like this product. Before taking it, I could...   \n",
       "67610      NaN       None                                                      \n",
       "\n",
       "                                     date                             modDate  \\\n",
       "0      {u'$numberLong': u'1468512417000'}  {u'$numberLong': u'1468512417000'}   \n",
       "1      {u'$numberLong': u'1461843151000'}  {u'$numberLong': u'1461843151000'}   \n",
       "2      {u'$numberLong': u'1460990679000'}  {u'$numberLong': u'1460990679000'}   \n",
       "3      {u'$numberLong': u'1459279141000'}  {u'$numberLong': u'1459279141000'}   \n",
       "4      {u'$numberLong': u'1457620351000'}  {u'$numberLong': u'1457620351000'}   \n",
       "5      {u'$numberLong': u'1436977786000'}  {u'$numberLong': u'1436977786000'}   \n",
       "6      {u'$numberLong': u'1434056374000'}  {u'$numberLong': u'1434056374000'}   \n",
       "7      {u'$numberLong': u'1434056177000'}  {u'$numberLong': u'1434056177000'}   \n",
       "8      {u'$numberLong': u'1432148320000'}  {u'$numberLong': u'1432148320000'}   \n",
       "9      {u'$numberLong': u'1431980570000'}  {u'$numberLong': u'1431980570000'}   \n",
       "10     {u'$numberLong': u'1422448486000'}  {u'$numberLong': u'1422448486000'}   \n",
       "11     {u'$numberLong': u'1420038124000'}  {u'$numberLong': u'1420038124000'}   \n",
       "12     {u'$numberLong': u'1419620394000'}  {u'$numberLong': u'1419620394000'}   \n",
       "13     {u'$numberLong': u'1419013395000'}  {u'$numberLong': u'1419013395000'}   \n",
       "14     {u'$numberLong': u'1417728446000'}  {u'$numberLong': u'1417728446000'}   \n",
       "15     {u'$numberLong': u'1403280030000'}  {u'$numberLong': u'1403280030000'}   \n",
       "16     {u'$numberLong': u'1393373526000'}  {u'$numberLong': u'1393373526000'}   \n",
       "17     {u'$numberLong': u'1386086754000'}  {u'$numberLong': u'1386086754000'}   \n",
       "18     {u'$numberLong': u'1478152566000'}  {u'$numberLong': u'1478152566000'}   \n",
       "19     {u'$numberLong': u'1458674804000'}  {u'$numberLong': u'1458674804000'}   \n",
       "20     {u'$numberLong': u'1455122202000'}  {u'$numberLong': u'1455122202000'}   \n",
       "21     {u'$numberLong': u'1454345705000'}  {u'$numberLong': u'1454345705000'}   \n",
       "22     {u'$numberLong': u'1434937955000'}  {u'$numberLong': u'1434937955000'}   \n",
       "23     {u'$numberLong': u'1431981283000'}  {u'$numberLong': u'1431981283000'}   \n",
       "24     {u'$numberLong': u'1431032924000'}  {u'$numberLong': u'1431032924000'}   \n",
       "25     {u'$numberLong': u'1426018694000'}  {u'$numberLong': u'1426018694000'}   \n",
       "26     {u'$numberLong': u'1424294490000'}  {u'$numberLong': u'1424294490000'}   \n",
       "27     {u'$numberLong': u'1422240290000'}  {u'$numberLong': u'1422240290000'}   \n",
       "28     {u'$numberLong': u'1422140368000'}  {u'$numberLong': u'1422140368000'}   \n",
       "29     {u'$numberLong': u'1421779222000'}  {u'$numberLong': u'1421779222000'}   \n",
       "...                                   ...                                 ...   \n",
       "67581  {u'$numberLong': u'1358265319000'}  {u'$numberLong': u'1376082588000'}   \n",
       "67582  {u'$numberLong': u'1353474079000'}  {u'$numberLong': u'1376083638000'}   \n",
       "67583  {u'$numberLong': u'1352211730000'}  {u'$numberLong': u'1376083096000'}   \n",
       "67584  {u'$numberLong': u'1352179803000'}  {u'$numberLong': u'1376083095000'}   \n",
       "67585  {u'$numberLong': u'1352175960000'}  {u'$numberLong': u'1376083095000'}   \n",
       "67586  {u'$numberLong': u'1343721104000'}  {u'$numberLong': u'1376086319000'}   \n",
       "67587  {u'$numberLong': u'1333867909000'}  {u'$numberLong': u'1376086638000'}   \n",
       "67588  {u'$numberLong': u'1332983908000'}  {u'$numberLong': u'1376086453000'}   \n",
       "67589  {u'$numberLong': u'1332939623000'}  {u'$numberLong': u'1376086426000'}   \n",
       "67590  {u'$numberLong': u'1327843944000'}  {u'$numberLong': u'1376081853000'}   \n",
       "67591  {u'$numberLong': u'1327556273000'}  {u'$numberLong': u'1376081730000'}   \n",
       "67592  {u'$numberLong': u'1325742159000'}  {u'$numberLong': u'1376081341000'}   \n",
       "67593  {u'$numberLong': u'1324923547000'}  {u'$numberLong': u'1376081259000'}   \n",
       "67594  {u'$numberLong': u'1300604151000'}  {u'$numberLong': u'1376082033000'}   \n",
       "67595  {u'$numberLong': u'1460128168000'}  {u'$numberLong': u'1460128168000'}   \n",
       "67596  {u'$numberLong': u'1445261662000'}  {u'$numberLong': u'1445261662000'}   \n",
       "67597  {u'$numberLong': u'1437053566000'}  {u'$numberLong': u'1437053566000'}   \n",
       "67598  {u'$numberLong': u'1431274557000'}  {u'$numberLong': u'1431274557000'}   \n",
       "67599  {u'$numberLong': u'1425395047000'}  {u'$numberLong': u'1425395047000'}   \n",
       "67600  {u'$numberLong': u'1414088835000'}  {u'$numberLong': u'1414088835000'}   \n",
       "67601  {u'$numberLong': u'1411503732000'}  {u'$numberLong': u'1411503732000'}   \n",
       "67602  {u'$numberLong': u'1408133938000'}  {u'$numberLong': u'1408133938000'}   \n",
       "67603  {u'$numberLong': u'1354654769000'}  {u'$numberLong': u'1376084542000'}   \n",
       "67604  {u'$numberLong': u'1348527318000'}  {u'$numberLong': u'1376086379000'}   \n",
       "67605  {u'$numberLong': u'1459087718000'}  {u'$numberLong': u'1459087718000'}   \n",
       "67606  {u'$numberLong': u'1451059763000'}  {u'$numberLong': u'1451059763000'}   \n",
       "67607  {u'$numberLong': u'1391755147000'}  {u'$numberLong': u'1391755147000'}   \n",
       "67608  {u'$numberLong': u'1375371388000'}  {u'$numberLong': u'1375371388000'}   \n",
       "67609  {u'$numberLong': u'1375329922000'}  {u'$numberLong': u'1375329922000'}   \n",
       "67610  {u'$numberLong': u'1340283671000'}  {u'$numberLong': u'1376087727000'}   \n",
       "\n",
       "                  slug  verifiedBuyerRating  \\\n",
       "0          coryacehall                  9.0   \n",
       "1             dida1984                  9.0   \n",
       "2            mango1515                  9.0   \n",
       "3               DCGuru                  9.0   \n",
       "4                bcnus                  9.0   \n",
       "5              aslzr23                  9.0   \n",
       "6            Rafaelg90                  9.0   \n",
       "7         lizziehessxo                  9.0   \n",
       "8          desmichelle                  9.0   \n",
       "9           nmontelli8                  9.0   \n",
       "10         columbusguy                  9.0   \n",
       "11              Lui561                  9.0   \n",
       "12             Kjcmpls                  9.0   \n",
       "13             Ampit06                  9.0   \n",
       "14        xXXxDUDExXXx                  9.0   \n",
       "15         kurttackoor                  9.0   \n",
       "16         Laurenlotz5                  9.0   \n",
       "17            Zenchick                  9.0   \n",
       "18       dyertyler2009                  8.8   \n",
       "19            samholik                  8.8   \n",
       "20         Sheridan001                  8.8   \n",
       "21              kawebb                  8.8   \n",
       "22         columbusguy                  8.8   \n",
       "23             Akmred9                  8.8   \n",
       "24         sjonathan91                  8.8   \n",
       "25              alv653                  8.8   \n",
       "26         Katwhite729                  8.8   \n",
       "27           JFulton59                  8.8   \n",
       "28         juancenteno                  8.8   \n",
       "29           Bliuberry                  8.8   \n",
       "...                ...                  ...   \n",
       "67581   dondillardo325                  8.1   \n",
       "67582     trinikhaleel                  8.1   \n",
       "67583          ipjhscq                  8.1   \n",
       "67584    harpreetbasra                  8.1   \n",
       "67585   bodybldrmarcus                  8.1   \n",
       "67586         nashbro1                  8.1   \n",
       "67587  letsdothisquick                  8.1   \n",
       "67588       jandrews24                  8.1   \n",
       "67589         ishant15                  8.1   \n",
       "67590         blueblop                  8.1   \n",
       "67591      Abraham2566                  8.1   \n",
       "67592       xRAPTOR26x                  8.1   \n",
       "67593           7m3rrr                  8.1   \n",
       "67594     PrimeBlocker                  8.1   \n",
       "67595    maclarenrobin                  9.4   \n",
       "67596          actmh3a                  9.4   \n",
       "67597          sugolik                  9.4   \n",
       "67598      xxx_jfb_xxx                  9.4   \n",
       "67599     PullupMaster                  9.4   \n",
       "67600          wo4life                  9.4   \n",
       "67601         fitbabe6                  9.4   \n",
       "67602     NickJames206                  9.4   \n",
       "67603     nebraskaheat                  9.4   \n",
       "67604        cmdavis11                  9.4   \n",
       "67605        rrcarroll                  9.0   \n",
       "67606       musartnova                  9.0   \n",
       "67607             TBug                  9.0   \n",
       "67608            jonav                  9.0   \n",
       "67609          Senad54                  9.0   \n",
       "67610    ecrivain75000                  9.0   \n",
       "\n",
       "                                             description updateStatusReason  \\\n",
       "0      Promotes Mental Focus, Memory, Mood, and Fat B...        :lifes2good   \n",
       "1      Promotes Mental Focus, Memory, Mood, and Fat B...               None   \n",
       "2      Promotes Mental Focus, Memory, Mood, and Fat B...               None   \n",
       "3      Promotes Mental Focus, Memory, Mood, and Fat B...               None   \n",
       "4      Promotes Mental Focus, Memory, Mood, and Fat B...               None   \n",
       "5      Promotes Mental Focus, Memory, Mood, and Fat B...               None   \n",
       "6      Promotes Mental Focus, Memory, Mood, and Fat B...               None   \n",
       "7      Promotes Mental Focus, Memory, Mood, and Fat B...               None   \n",
       "8      Promotes Mental Focus, Memory, Mood, and Fat B...               None   \n",
       "9      Promotes Mental Focus, Memory, Mood, and Fat B...               None   \n",
       "10     Promotes Mental Focus, Memory, Mood, and Fat B...               None   \n",
       "11     Promotes Mental Focus, Memory, Mood, and Fat B...               None   \n",
       "12     Promotes Mental Focus, Memory, Mood, and Fat B...               None   \n",
       "13     Promotes Mental Focus, Memory, Mood, and Fat B...               None   \n",
       "14     Promotes Mental Focus, Memory, Mood, and Fat B...               None   \n",
       "15     Promotes Mental Focus, Memory, Mood, and Fat B...               None   \n",
       "16     Promotes Mental Focus, Memory, Mood, and Fat B...               None   \n",
       "17     Promotes Mental Focus, Memory, Mood, and Fat B...               None   \n",
       "18     Great Tasting Pre-Training Formula for Increas...               None   \n",
       "19     Great Tasting Pre-Training Formula for Increas...               None   \n",
       "20     Great Tasting Pre-Training Formula for Increas...               None   \n",
       "21     Great Tasting Pre-Training Formula for Increas...               None   \n",
       "22     Great Tasting Pre-Training Formula for Increas...               None   \n",
       "23     Great Tasting Pre-Training Formula for Increas...               None   \n",
       "24     Great Tasting Pre-Training Formula for Increas...               None   \n",
       "25     Great Tasting Pre-Training Formula for Increas...               None   \n",
       "26     Great Tasting Pre-Training Formula for Increas...               None   \n",
       "27     Great Tasting Pre-Training Formula for Increas...               None   \n",
       "28     Great Tasting Pre-Training Formula for Increas...               None   \n",
       "29     Great Tasting Pre-Training Formula for Increas...               None   \n",
       "...                                                  ...                ...   \n",
       "67581  Awesome Value, High Calorie, Mass Builder Prot...               None   \n",
       "67582  Awesome Value, High Calorie, Mass Builder Prot...               None   \n",
       "67583  Awesome Value, High Calorie, Mass Builder Prot...               None   \n",
       "67584  Awesome Value, High Calorie, Mass Builder Prot...               None   \n",
       "67585  Awesome Value, High Calorie, Mass Builder Prot...               None   \n",
       "67586  Awesome Value, High Calorie, Mass Builder Prot...               None   \n",
       "67587  Awesome Value, High Calorie, Mass Builder Prot...               None   \n",
       "67588  Awesome Value, High Calorie, Mass Builder Prot...               None   \n",
       "67589  Awesome Value, High Calorie, Mass Builder Prot...               None   \n",
       "67590  Awesome Value, High Calorie, Mass Builder Prot...               None   \n",
       "67591  Awesome Value, High Calorie, Mass Builder Prot...               None   \n",
       "67592  Awesome Value, High Calorie, Mass Builder Prot...               None   \n",
       "67593  Awesome Value, High Calorie, Mass Builder Prot...               None   \n",
       "67594  Awesome Value, High Calorie, Mass Builder Prot...               None   \n",
       "67595    Supports Digestive Health & Food Assimilation!*               None   \n",
       "67596    Supports Digestive Health & Food Assimilation!*               None   \n",
       "67597    Supports Digestive Health & Food Assimilation!*        :lifes2good   \n",
       "67598    Supports Digestive Health & Food Assimilation!*               None   \n",
       "67599    Supports Digestive Health & Food Assimilation!*               None   \n",
       "67600    Supports Digestive Health & Food Assimilation!*               None   \n",
       "67601    Supports Digestive Health & Food Assimilation!*               None   \n",
       "67602    Supports Digestive Health & Food Assimilation!*               None   \n",
       "67603    Supports Digestive Health & Food Assimilation!*               None   \n",
       "67604    Supports Digestive Health & Food Assimilation!*               None   \n",
       "67605                           Promote Optimal Health!*               None   \n",
       "67606                           Promote Optimal Health!*               None   \n",
       "67607                           Promote Optimal Health!*               None   \n",
       "67608                           Promote Optimal Health!*               None   \n",
       "67609                           Promote Optimal Health!*               None   \n",
       "67610                           Promote Optimal Health!*               None   \n",
       "\n",
       "       rating  \n",
       "0         8.0  \n",
       "1         8.0  \n",
       "2         9.0  \n",
       "3         9.0  \n",
       "4         9.0  \n",
       "5         9.0  \n",
       "6        10.0  \n",
       "7        10.0  \n",
       "8        10.0  \n",
       "9         8.0  \n",
       "10       10.0  \n",
       "11       10.0  \n",
       "12       10.0  \n",
       "13        9.0  \n",
       "14        7.0  \n",
       "15       10.0  \n",
       "16       10.0  \n",
       "17        8.0  \n",
       "18       10.0  \n",
       "19        6.0  \n",
       "20        9.0  \n",
       "21        9.0  \n",
       "22       10.0  \n",
       "23       10.0  \n",
       "24       10.0  \n",
       "25        9.0  \n",
       "26       10.0  \n",
       "27       10.0  \n",
       "28       10.0  \n",
       "29        8.0  \n",
       "...       ...  \n",
       "67581     5.0  \n",
       "67582     8.0  \n",
       "67583     8.0  \n",
       "67584    10.0  \n",
       "67585     2.0  \n",
       "67586     9.0  \n",
       "67587    10.0  \n",
       "67588     9.0  \n",
       "67589     8.0  \n",
       "67590     5.0  \n",
       "67591    10.0  \n",
       "67592    10.0  \n",
       "67593    10.0  \n",
       "67594    10.0  \n",
       "67595     8.0  \n",
       "67596     7.0  \n",
       "67597    10.0  \n",
       "67598    10.0  \n",
       "67599    10.0  \n",
       "67600    10.0  \n",
       "67601    10.0  \n",
       "67602    10.0  \n",
       "67603     9.0  \n",
       "67604     9.0  \n",
       "67605     9.0  \n",
       "67606     9.0  \n",
       "67607     8.0  \n",
       "67608     8.0  \n",
       "67609    10.0  \n",
       "67610    10.0  \n",
       "\n",
       "[64312 rows x 19 columns]"
      ]
     },
     "execution_count": 3,
     "metadata": {},
     "output_type": "execute_result"
    }
   ],
   "source": [
    "df"
   ]
  },
  {
   "cell_type": "code",
   "execution_count": 16,
   "metadata": {
    "collapsed": false
   },
   "outputs": [
    {
     "data": {
      "text/html": [
       "<pre>Recsys training: model = factorization_recommender</pre>"
      ],
      "text/plain": [
       "Recsys training: model = factorization_recommender"
      ]
     },
     "metadata": {},
     "output_type": "display_data"
    },
    {
     "data": {
      "text/html": [
       "<pre>Preparing data set.</pre>"
      ],
      "text/plain": [
       "Preparing data set."
      ]
     },
     "metadata": {},
     "output_type": "display_data"
    },
    {
     "data": {
      "text/html": [
       "<pre>    Data has 64312 observations with 39465 users and 2131 items.</pre>"
      ],
      "text/plain": [
       "    Data has 64312 observations with 39465 users and 2131 items."
      ]
     },
     "metadata": {},
     "output_type": "display_data"
    },
    {
     "data": {
      "text/html": [
       "<pre>    Data prepared in: 0.268693s</pre>"
      ],
      "text/plain": [
       "    Data prepared in: 0.268693s"
      ]
     },
     "metadata": {},
     "output_type": "display_data"
    },
    {
     "data": {
      "text/html": [
       "<pre>Training factorization_recommender for recommendations.</pre>"
      ],
      "text/plain": [
       "Training factorization_recommender for recommendations."
      ]
     },
     "metadata": {},
     "output_type": "display_data"
    },
    {
     "data": {
      "text/html": [
       "<pre>+--------------------------------+--------------------------------------------------+----------+</pre>"
      ],
      "text/plain": [
       "+--------------------------------+--------------------------------------------------+----------+"
      ]
     },
     "metadata": {},
     "output_type": "display_data"
    },
    {
     "data": {
      "text/html": [
       "<pre>| Parameter                      | Description                                      | Value    |</pre>"
      ],
      "text/plain": [
       "| Parameter                      | Description                                      | Value    |"
      ]
     },
     "metadata": {},
     "output_type": "display_data"
    },
    {
     "data": {
      "text/html": [
       "<pre>+--------------------------------+--------------------------------------------------+----------+</pre>"
      ],
      "text/plain": [
       "+--------------------------------+--------------------------------------------------+----------+"
      ]
     },
     "metadata": {},
     "output_type": "display_data"
    },
    {
     "data": {
      "text/html": [
       "<pre>| num_factors                    | Factor Dimension                                 | 8        |</pre>"
      ],
      "text/plain": [
       "| num_factors                    | Factor Dimension                                 | 8        |"
      ]
     },
     "metadata": {},
     "output_type": "display_data"
    },
    {
     "data": {
      "text/html": [
       "<pre>| regularization                 | L2 Regularization on Factors                     | 1e-08    |</pre>"
      ],
      "text/plain": [
       "| regularization                 | L2 Regularization on Factors                     | 1e-08    |"
      ]
     },
     "metadata": {},
     "output_type": "display_data"
    },
    {
     "data": {
      "text/html": [
       "<pre>| solver                         | Solver used for training                         | adagrad  |</pre>"
      ],
      "text/plain": [
       "| solver                         | Solver used for training                         | adagrad  |"
      ]
     },
     "metadata": {},
     "output_type": "display_data"
    },
    {
     "data": {
      "text/html": [
       "<pre>| linear_regularization          | L2 Regularization on Linear Coefficients         | 1e-10    |</pre>"
      ],
      "text/plain": [
       "| linear_regularization          | L2 Regularization on Linear Coefficients         | 1e-10    |"
      ]
     },
     "metadata": {},
     "output_type": "display_data"
    },
    {
     "data": {
      "text/html": [
       "<pre>| side_data_factorization        | Assign Factors for Side Data                     | True     |</pre>"
      ],
      "text/plain": [
       "| side_data_factorization        | Assign Factors for Side Data                     | True     |"
      ]
     },
     "metadata": {},
     "output_type": "display_data"
    },
    {
     "data": {
      "text/html": [
       "<pre>| max_iterations                 | Maximum Number of Iterations                     | 50       |</pre>"
      ],
      "text/plain": [
       "| max_iterations                 | Maximum Number of Iterations                     | 50       |"
      ]
     },
     "metadata": {},
     "output_type": "display_data"
    },
    {
     "data": {
      "text/html": [
       "<pre>+--------------------------------+--------------------------------------------------+----------+</pre>"
      ],
      "text/plain": [
       "+--------------------------------+--------------------------------------------------+----------+"
      ]
     },
     "metadata": {},
     "output_type": "display_data"
    },
    {
     "data": {
      "text/html": [
       "<pre>  Optimizing model using SGD; tuning step size.</pre>"
      ],
      "text/plain": [
       "  Optimizing model using SGD; tuning step size."
      ]
     },
     "metadata": {},
     "output_type": "display_data"
    },
    {
     "data": {
      "text/html": [
       "<pre>  Using 10000 / 64312 points for tuning the step size.</pre>"
      ],
      "text/plain": [
       "  Using 10000 / 64312 points for tuning the step size."
      ]
     },
     "metadata": {},
     "output_type": "display_data"
    },
    {
     "data": {
      "text/html": [
       "<pre>+---------+-------------------+------------------------------------------+</pre>"
      ],
      "text/plain": [
       "+---------+-------------------+------------------------------------------+"
      ]
     },
     "metadata": {},
     "output_type": "display_data"
    },
    {
     "data": {
      "text/html": [
       "<pre>| Attempt | Initial Step Size | Estimated Objective Value                |</pre>"
      ],
      "text/plain": [
       "| Attempt | Initial Step Size | Estimated Objective Value                |"
      ]
     },
     "metadata": {},
     "output_type": "display_data"
    },
    {
     "data": {
      "text/html": [
       "<pre>+---------+-------------------+------------------------------------------+</pre>"
      ],
      "text/plain": [
       "+---------+-------------------+------------------------------------------+"
      ]
     },
     "metadata": {},
     "output_type": "display_data"
    },
    {
     "data": {
      "text/html": [
       "<pre>| 0       | 7.14286           | Not Viable                               |</pre>"
      ],
      "text/plain": [
       "| 0       | 7.14286           | Not Viable                               |"
      ]
     },
     "metadata": {},
     "output_type": "display_data"
    },
    {
     "data": {
      "text/html": [
       "<pre>| 1       | 1.78571           | Not Viable                               |</pre>"
      ],
      "text/plain": [
       "| 1       | 1.78571           | Not Viable                               |"
      ]
     },
     "metadata": {},
     "output_type": "display_data"
    },
    {
     "data": {
      "text/html": [
       "<pre>| 2       | 0.446429          | Not Viable                               |</pre>"
      ],
      "text/plain": [
       "| 2       | 0.446429          | Not Viable                               |"
      ]
     },
     "metadata": {},
     "output_type": "display_data"
    },
    {
     "data": {
      "text/html": [
       "<pre>| 3       | 0.111607          | 2.4037                                   |</pre>"
      ],
      "text/plain": [
       "| 3       | 0.111607          | 2.4037                                   |"
      ]
     },
     "metadata": {},
     "output_type": "display_data"
    },
    {
     "data": {
      "text/html": [
       "<pre>| 4       | 0.0558036         | 2.85335                                  |</pre>"
      ],
      "text/plain": [
       "| 4       | 0.0558036         | 2.85335                                  |"
      ]
     },
     "metadata": {},
     "output_type": "display_data"
    },
    {
     "data": {
      "text/html": [
       "<pre>| 5       | 0.0279018         | 3.61804                                  |</pre>"
      ],
      "text/plain": [
       "| 5       | 0.0279018         | 3.61804                                  |"
      ]
     },
     "metadata": {},
     "output_type": "display_data"
    },
    {
     "data": {
      "text/html": [
       "<pre>| 6       | 0.0139509         | 4.141                                    |</pre>"
      ],
      "text/plain": [
       "| 6       | 0.0139509         | 4.141                                    |"
      ]
     },
     "metadata": {},
     "output_type": "display_data"
    },
    {
     "data": {
      "text/html": [
       "<pre>+---------+-------------------+------------------------------------------+</pre>"
      ],
      "text/plain": [
       "+---------+-------------------+------------------------------------------+"
      ]
     },
     "metadata": {},
     "output_type": "display_data"
    },
    {
     "data": {
      "text/html": [
       "<pre>| Final   | 0.111607          | 2.4037                                   |</pre>"
      ],
      "text/plain": [
       "| Final   | 0.111607          | 2.4037                                   |"
      ]
     },
     "metadata": {},
     "output_type": "display_data"
    },
    {
     "data": {
      "text/html": [
       "<pre>+---------+-------------------+------------------------------------------+</pre>"
      ],
      "text/plain": [
       "+---------+-------------------+------------------------------------------+"
      ]
     },
     "metadata": {},
     "output_type": "display_data"
    },
    {
     "data": {
      "text/html": [
       "<pre>Starting Optimization.</pre>"
      ],
      "text/plain": [
       "Starting Optimization."
      ]
     },
     "metadata": {},
     "output_type": "display_data"
    },
    {
     "data": {
      "text/html": [
       "<pre>+---------+--------------+-------------------+-----------------------+-------------+</pre>"
      ],
      "text/plain": [
       "+---------+--------------+-------------------+-----------------------+-------------+"
      ]
     },
     "metadata": {},
     "output_type": "display_data"
    },
    {
     "data": {
      "text/html": [
       "<pre>| Iter.   | Elapsed Time | Approx. Objective | Approx. Training RMSE | Step Size   |</pre>"
      ],
      "text/plain": [
       "| Iter.   | Elapsed Time | Approx. Objective | Approx. Training RMSE | Step Size   |"
      ]
     },
     "metadata": {},
     "output_type": "display_data"
    },
    {
     "data": {
      "text/html": [
       "<pre>+---------+--------------+-------------------+-----------------------+-------------+</pre>"
      ],
      "text/plain": [
       "+---------+--------------+-------------------+-----------------------+-------------+"
      ]
     },
     "metadata": {},
     "output_type": "display_data"
    },
    {
     "data": {
      "text/html": [
       "<pre>| Initial | 105us        | 4.54328           | 2.1315                |             |</pre>"
      ],
      "text/plain": [
       "| Initial | 105us        | 4.54328           | 2.1315                |             |"
      ]
     },
     "metadata": {},
     "output_type": "display_data"
    },
    {
     "data": {
      "text/html": [
       "<pre>+---------+--------------+-------------------+-----------------------+-------------+</pre>"
      ],
      "text/plain": [
       "+---------+--------------+-------------------+-----------------------+-------------+"
      ]
     },
     "metadata": {},
     "output_type": "display_data"
    },
    {
     "data": {
      "text/html": [
       "<pre>| 1       | 142.861ms    | 5.05691           | 2.24874               | 0.111607    |</pre>"
      ],
      "text/plain": [
       "| 1       | 142.861ms    | 5.05691           | 2.24874               | 0.111607    |"
      ]
     },
     "metadata": {},
     "output_type": "display_data"
    },
    {
     "data": {
      "text/html": [
       "<pre>| 2       | 249.084ms    | 4.1686            | 2.0417                | 0.111607    |</pre>"
      ],
      "text/plain": [
       "| 2       | 249.084ms    | 4.1686            | 2.0417                | 0.111607    |"
      ]
     },
     "metadata": {},
     "output_type": "display_data"
    },
    {
     "data": {
      "text/html": [
       "<pre>| 3       | 353.507ms    | 3.32151           | 1.82248               | 0.111607    |</pre>"
      ],
      "text/plain": [
       "| 3       | 353.507ms    | 3.32151           | 1.82248               | 0.111607    |"
      ]
     },
     "metadata": {},
     "output_type": "display_data"
    },
    {
     "data": {
      "text/html": [
       "<pre>| 4       | 433.281ms    | 2.81503           | 1.67778               | 0.111607    |</pre>"
      ],
      "text/plain": [
       "| 4       | 433.281ms    | 2.81503           | 1.67778               | 0.111607    |"
      ]
     },
     "metadata": {},
     "output_type": "display_data"
    },
    {
     "data": {
      "text/html": [
       "<pre>| 5       | 560.578ms    | 2.40009           | 1.54919               | 0.111607    |</pre>"
      ],
      "text/plain": [
       "| 5       | 560.578ms    | 2.40009           | 1.54919               | 0.111607    |"
      ]
     },
     "metadata": {},
     "output_type": "display_data"
    },
    {
     "data": {
      "text/html": [
       "<pre>| 6       | 811.301ms    | 2.08135           | 1.44265               | 0.111607    |</pre>"
      ],
      "text/plain": [
       "| 6       | 811.301ms    | 2.08135           | 1.44265               | 0.111607    |"
      ]
     },
     "metadata": {},
     "output_type": "display_data"
    },
    {
     "data": {
      "text/html": [
       "<pre>| 10      | 1.21s        | 1.40615           | 1.18576               | 0.111607    |</pre>"
      ],
      "text/plain": [
       "| 10      | 1.21s        | 1.40615           | 1.18576               | 0.111607    |"
      ]
     },
     "metadata": {},
     "output_type": "display_data"
    },
    {
     "data": {
      "text/html": [
       "<pre>| 11      | 1.33s        | 1.2831            | 1.13269               | 0.111607    |</pre>"
      ],
      "text/plain": [
       "| 11      | 1.33s        | 1.2831            | 1.13269               | 0.111607    |"
      ]
     },
     "metadata": {},
     "output_type": "display_data"
    },
    {
     "data": {
      "text/html": [
       "<pre>| 20      | 2.22s        | 0.893228          | 0.945035              | 0.111607    |</pre>"
      ],
      "text/plain": [
       "| 20      | 2.22s        | 0.893228          | 0.945035              | 0.111607    |"
      ]
     },
     "metadata": {},
     "output_type": "display_data"
    },
    {
     "data": {
      "text/html": [
       "<pre>| 30      | 3.02s        | 0.682877          | 0.826276              | 0.111607    |</pre>"
      ],
      "text/plain": [
       "| 30      | 3.02s        | 0.682877          | 0.826276              | 0.111607    |"
      ]
     },
     "metadata": {},
     "output_type": "display_data"
    },
    {
     "data": {
      "text/html": [
       "<pre>| 40      | 3.80s        | 0.961171          | 0.980317              | 0.111607    |</pre>"
      ],
      "text/plain": [
       "| 40      | 3.80s        | 0.961171          | 0.980317              | 0.111607    |"
      ]
     },
     "metadata": {},
     "output_type": "display_data"
    },
    {
     "data": {
      "text/html": [
       "<pre>| 50      | 4.61s        | 0.513387          | 0.716403              | 0.111607    |</pre>"
      ],
      "text/plain": [
       "| 50      | 4.61s        | 0.513387          | 0.716403              | 0.111607    |"
      ]
     },
     "metadata": {},
     "output_type": "display_data"
    },
    {
     "data": {
      "text/html": [
       "<pre>+---------+--------------+-------------------+-----------------------+-------------+</pre>"
      ],
      "text/plain": [
       "+---------+--------------+-------------------+-----------------------+-------------+"
      ]
     },
     "metadata": {},
     "output_type": "display_data"
    },
    {
     "data": {
      "text/html": [
       "<pre>Optimization Complete: Maximum number of passes through the data reached.</pre>"
      ],
      "text/plain": [
       "Optimization Complete: Maximum number of passes through the data reached."
      ]
     },
     "metadata": {},
     "output_type": "display_data"
    },
    {
     "data": {
      "text/html": [
       "<pre>Computing final objective value and training RMSE.</pre>"
      ],
      "text/plain": [
       "Computing final objective value and training RMSE."
      ]
     },
     "metadata": {},
     "output_type": "display_data"
    },
    {
     "data": {
      "text/html": [
       "<pre>       Final objective value: 0.719539</pre>"
      ],
      "text/plain": [
       "       Final objective value: 0.719539"
      ]
     },
     "metadata": {},
     "output_type": "display_data"
    },
    {
     "data": {
      "text/html": [
       "<pre>       Final training RMSE: 0.848166</pre>"
      ],
      "text/plain": [
       "       Final training RMSE: 0.848166"
      ]
     },
     "metadata": {},
     "output_type": "display_data"
    }
   ],
   "source": [
    "df2 = pd.read_pickle('nutrition.pkl')\n",
    "sf = gl.SFrame(df2[['userId', 'productId', 'rating']])\n",
    "user_info = gl.SFrame(df2[['userId', 'height', 'weight', 'bodyfat']])\n",
    "item_info = gl.SFrame(df2[['brandId', 'productId', 'description']])\n",
    "user_info = user_info.fillna('weight',0)\n",
    "user_info = user_info.fillna('height',0)\n",
    "user_info = user_info.fillna('bodyfat',0)\n",
    "m = factorization_recommender.create(sf, user_id='userId', \\\n",
    "                                    item_id='productId', target='rating',\\\n",
    "                                user_data=user_info, item_data=item_info)"
   ]
  },
  {
   "cell_type": "code",
   "execution_count": 54,
   "metadata": {
    "collapsed": false
   },
   "outputs": [],
   "source": [
    "user = random.randint(1,1000000000)\n",
    "recent_data = gl.SFrame({'userId':[1, 1, 1], \\\n",
    "                      'productId':['prod2810009', 'prod3280025', 'prod1620046'], \\\n",
    "                         'rating':[8, 7, 2], \\\n",
    "                       'username':['test', 'test', 'test'], \\\n",
    "                         'height': [60, 60, 60], \\\n",
    "                         'weight': [165, 165, 165], \\\n",
    "                        'bodyfat': [10, 10, 10]})\n",
    "\n",
    "recs = m.recommend(users=[1], new_observation_data=recent_data)"
   ]
  },
  {
   "cell_type": "code",
   "execution_count": 55,
   "metadata": {
    "collapsed": false
   },
   "outputs": [
    {
     "data": {
      "text/html": [
       "<div style=\"max-height:1000px;max-width:1500px;overflow:auto;\"><table frame=\"box\" rules=\"cols\">\n",
       "    <tr>\n",
       "        <th style=\"padding-left: 1em; padding-right: 1em; text-align: center\">userId</th>\n",
       "        <th style=\"padding-left: 1em; padding-right: 1em; text-align: center\">productId</th>\n",
       "        <th style=\"padding-left: 1em; padding-right: 1em; text-align: center\">score</th>\n",
       "        <th style=\"padding-left: 1em; padding-right: 1em; text-align: center\">rank</th>\n",
       "    </tr>\n",
       "    <tr>\n",
       "        <td style=\"padding-left: 1em; padding-right: 1em; text-align: center; vertical-align: top\">1</td>\n",
       "        <td style=\"padding-left: 1em; padding-right: 1em; text-align: center; vertical-align: top\">23899</td>\n",
       "        <td style=\"padding-left: 1em; padding-right: 1em; text-align: center; vertical-align: top\">10.9215935248</td>\n",
       "        <td style=\"padding-left: 1em; padding-right: 1em; text-align: center; vertical-align: top\">1</td>\n",
       "    </tr>\n",
       "    <tr>\n",
       "        <td style=\"padding-left: 1em; padding-right: 1em; text-align: center; vertical-align: top\">1</td>\n",
       "        <td style=\"padding-left: 1em; padding-right: 1em; text-align: center; vertical-align: top\">28105</td>\n",
       "        <td style=\"padding-left: 1em; padding-right: 1em; text-align: center; vertical-align: top\">10.8611961084</td>\n",
       "        <td style=\"padding-left: 1em; padding-right: 1em; text-align: center; vertical-align: top\">2</td>\n",
       "    </tr>\n",
       "    <tr>\n",
       "        <td style=\"padding-left: 1em; padding-right: 1em; text-align: center; vertical-align: top\">1</td>\n",
       "        <td style=\"padding-left: 1em; padding-right: 1em; text-align: center; vertical-align: top\">prod4030010</td>\n",
       "        <td style=\"padding-left: 1em; padding-right: 1em; text-align: center; vertical-align: top\">10.8009966391</td>\n",
       "        <td style=\"padding-left: 1em; padding-right: 1em; text-align: center; vertical-align: top\">3</td>\n",
       "    </tr>\n",
       "    <tr>\n",
       "        <td style=\"padding-left: 1em; padding-right: 1em; text-align: center; vertical-align: top\">1</td>\n",
       "        <td style=\"padding-left: 1em; padding-right: 1em; text-align: center; vertical-align: top\">prod1700096</td>\n",
       "        <td style=\"padding-left: 1em; padding-right: 1em; text-align: center; vertical-align: top\">10.6903678107</td>\n",
       "        <td style=\"padding-left: 1em; padding-right: 1em; text-align: center; vertical-align: top\">4</td>\n",
       "    </tr>\n",
       "    <tr>\n",
       "        <td style=\"padding-left: 1em; padding-right: 1em; text-align: center; vertical-align: top\">1</td>\n",
       "        <td style=\"padding-left: 1em; padding-right: 1em; text-align: center; vertical-align: top\">prod1330052</td>\n",
       "        <td style=\"padding-left: 1em; padding-right: 1em; text-align: center; vertical-align: top\">10.2422781366</td>\n",
       "        <td style=\"padding-left: 1em; padding-right: 1em; text-align: center; vertical-align: top\">5</td>\n",
       "    </tr>\n",
       "    <tr>\n",
       "        <td style=\"padding-left: 1em; padding-right: 1em; text-align: center; vertical-align: top\">1</td>\n",
       "        <td style=\"padding-left: 1em; padding-right: 1em; text-align: center; vertical-align: top\">prod1010022</td>\n",
       "        <td style=\"padding-left: 1em; padding-right: 1em; text-align: center; vertical-align: top\">10.1725648421</td>\n",
       "        <td style=\"padding-left: 1em; padding-right: 1em; text-align: center; vertical-align: top\">6</td>\n",
       "    </tr>\n",
       "    <tr>\n",
       "        <td style=\"padding-left: 1em; padding-right: 1em; text-align: center; vertical-align: top\">1</td>\n",
       "        <td style=\"padding-left: 1em; padding-right: 1em; text-align: center; vertical-align: top\">prod2030106</td>\n",
       "        <td style=\"padding-left: 1em; padding-right: 1em; text-align: center; vertical-align: top\">10.1561737883</td>\n",
       "        <td style=\"padding-left: 1em; padding-right: 1em; text-align: center; vertical-align: top\">7</td>\n",
       "    </tr>\n",
       "    <tr>\n",
       "        <td style=\"padding-left: 1em; padding-right: 1em; text-align: center; vertical-align: top\">1</td>\n",
       "        <td style=\"padding-left: 1em; padding-right: 1em; text-align: center; vertical-align: top\">prod3200011</td>\n",
       "        <td style=\"padding-left: 1em; padding-right: 1em; text-align: center; vertical-align: top\">10.1505964774</td>\n",
       "        <td style=\"padding-left: 1em; padding-right: 1em; text-align: center; vertical-align: top\">8</td>\n",
       "    </tr>\n",
       "    <tr>\n",
       "        <td style=\"padding-left: 1em; padding-right: 1em; text-align: center; vertical-align: top\">1</td>\n",
       "        <td style=\"padding-left: 1em; padding-right: 1em; text-align: center; vertical-align: top\">prod2320060</td>\n",
       "        <td style=\"padding-left: 1em; padding-right: 1em; text-align: center; vertical-align: top\">10.1493489819</td>\n",
       "        <td style=\"padding-left: 1em; padding-right: 1em; text-align: center; vertical-align: top\">9</td>\n",
       "    </tr>\n",
       "    <tr>\n",
       "        <td style=\"padding-left: 1em; padding-right: 1em; text-align: center; vertical-align: top\">1</td>\n",
       "        <td style=\"padding-left: 1em; padding-right: 1em; text-align: center; vertical-align: top\">26102</td>\n",
       "        <td style=\"padding-left: 1em; padding-right: 1em; text-align: center; vertical-align: top\">10.1187886375</td>\n",
       "        <td style=\"padding-left: 1em; padding-right: 1em; text-align: center; vertical-align: top\">10</td>\n",
       "    </tr>\n",
       "</table>\n",
       "[10 rows x 4 columns]<br/>\n",
       "</div>"
      ],
      "text/plain": [
       "Columns:\n",
       "\tuserId\tint\n",
       "\tproductId\tstr\n",
       "\tscore\tfloat\n",
       "\trank\tint\n",
       "\n",
       "Rows: 10\n",
       "\n",
       "Data:\n",
       "+--------+-------------+---------------+------+\n",
       "| userId |  productId  |     score     | rank |\n",
       "+--------+-------------+---------------+------+\n",
       "|   1    |    23899    | 10.9215935248 |  1   |\n",
       "|   1    |    28105    | 10.8611961084 |  2   |\n",
       "|   1    | prod4030010 | 10.8009966391 |  3   |\n",
       "|   1    | prod1700096 | 10.6903678107 |  4   |\n",
       "|   1    | prod1330052 | 10.2422781366 |  5   |\n",
       "|   1    | prod1010022 | 10.1725648421 |  6   |\n",
       "|   1    | prod2030106 | 10.1561737883 |  7   |\n",
       "|   1    | prod3200011 | 10.1505964774 |  8   |\n",
       "|   1    | prod2320060 | 10.1493489819 |  9   |\n",
       "|   1    |    26102    | 10.1187886375 |  10  |\n",
       "+--------+-------------+---------------+------+\n",
       "[10 rows x 4 columns]"
      ]
     },
     "execution_count": 55,
     "metadata": {},
     "output_type": "execute_result"
    }
   ],
   "source": [
    "recs"
   ]
  },
  {
   "cell_type": "code",
   "execution_count": 38,
   "metadata": {
    "collapsed": false,
    "scrolled": false
   },
   "outputs": [
    {
     "data": {
      "text/plain": [
       "dtype: str\n",
       "Rows: 10\n",
       "['23899', '28105', 'prod4030010', 'prod1620046', 'prod1700096', 'prod1330052', 'prod1010022', 'prod2030106', 'prod3200011', 'prod2320060']"
      ]
     },
     "execution_count": 38,
     "metadata": {},
     "output_type": "execute_result"
    }
   ],
   "source": [
    "recs['productId']"
   ]
  },
  {
   "cell_type": "code",
   "execution_count": 42,
   "metadata": {
    "collapsed": false
   },
   "outputs": [
    {
     "data": {
      "text/plain": [
       "Index([u'productId', u'drop_down'], dtype='object')"
      ]
     },
     "execution_count": 42,
     "metadata": {},
     "output_type": "execute_result"
    }
   ],
   "source": [
    "df = pd.read_pickle('rateaproduct.pkl')"
   ]
  },
  {
   "cell_type": "code",
   "execution_count": 51,
   "metadata": {
    "collapsed": false,
    "scrolled": true
   },
   "outputs": [],
   "source": [
    "top = []\n",
    "for prod in recs['productId']:\n",
    "    top.append(df[df.productId == prod].values[0][1])"
   ]
  },
  {
   "cell_type": "code",
   "execution_count": 53,
   "metadata": {
    "collapsed": false
   },
   "outputs": [
    {
     "name": "stdout",
     "output_type": "stream",
     "text": [
      "High Energy Labs Multiflex Complete\n",
      "Eggology 100% Egg Whites\n",
      "Neogenix Bodyforge Ultra\n",
      "RockTape Kinesiology Tape\n",
      "Inner Armour Shred Factor\n",
      "iForce Nutrition Intimidate SRT\n",
      "BarnDad Innovative Nutrition Fiber DX\n",
      "Probar Core Protein Bar\n",
      "Core Nutritionals Pump\n",
      "Axis Labs Instantized N'Gage Amino\n"
     ]
    }
   ],
   "source": [
    "for rec in top:\n",
    "    print rec"
   ]
  },
  {
   "cell_type": "code",
   "execution_count": 31,
   "metadata": {
    "collapsed": false
   },
   "outputs": [
    {
     "data": {
      "text/html": [
       "<div>\n",
       "<table border=\"1\" class=\"dataframe\">\n",
       "  <thead>\n",
       "    <tr style=\"text-align: right;\">\n",
       "      <th></th>\n",
       "      <th>brandName</th>\n",
       "      <th>brandId</th>\n",
       "      <th>name</th>\n",
       "      <th>productId</th>\n",
       "      <th>username</th>\n",
       "      <th>userId</th>\n",
       "      <th>_id</th>\n",
       "      <th>height</th>\n",
       "      <th>weight</th>\n",
       "      <th>bodyfat</th>\n",
       "      <th>totalItems</th>\n",
       "      <th>text</th>\n",
       "      <th>date</th>\n",
       "      <th>modDate</th>\n",
       "      <th>slug</th>\n",
       "      <th>verifiedBuyerRating</th>\n",
       "      <th>description</th>\n",
       "      <th>updateStatusReason</th>\n",
       "      <th>rating</th>\n",
       "    </tr>\n",
       "  </thead>\n",
       "  <tbody>\n",
       "    <tr>\n",
       "      <th>46143</th>\n",
       "      <td>Neogenix</td>\n",
       "      <td>BRAND_NEOGENIX</td>\n",
       "      <td>Bodyforge Ultra</td>\n",
       "      <td>prod4030010</td>\n",
       "      <td>Dairyman209</td>\n",
       "      <td>52412341</td>\n",
       "      <td>5814a0500cf2dadf1bd4921e</td>\n",
       "      <td>NaN</td>\n",
       "      <td>160.0</td>\n",
       "      <td>14.5</td>\n",
       "      <td>None</td>\n",
       "      <td></td>\n",
       "      <td>{u'$numberLong': u'1477746768000'}</td>\n",
       "      <td>{u'$numberLong': u'1477746768000'}</td>\n",
       "      <td>Dairyman209</td>\n",
       "      <td>9.0</td>\n",
       "      <td>Designed to Enhance Strength, Endurance and Re...</td>\n",
       "      <td>None</td>\n",
       "      <td>10.0</td>\n",
       "    </tr>\n",
       "    <tr>\n",
       "      <th>46144</th>\n",
       "      <td>Neogenix</td>\n",
       "      <td>BRAND_NEOGENIX</td>\n",
       "      <td>Bodyforge Ultra</td>\n",
       "      <td>prod4030010</td>\n",
       "      <td>alexaluker</td>\n",
       "      <td>140223911</td>\n",
       "      <td>581234f50cf236d07b65ea7a</td>\n",
       "      <td>70.0</td>\n",
       "      <td>177.0</td>\n",
       "      <td>15.0</td>\n",
       "      <td>None</td>\n",
       "      <td>Flavor is atrocious. Only when I mixed it with...</td>\n",
       "      <td>{u'$numberLong': u'1477588213000'}</td>\n",
       "      <td>{u'$numberLong': u'1477588213000'}</td>\n",
       "      <td>alexaluker</td>\n",
       "      <td>9.0</td>\n",
       "      <td>Designed to Enhance Strength, Endurance and Re...</td>\n",
       "      <td>None</td>\n",
       "      <td>8.0</td>\n",
       "    </tr>\n",
       "  </tbody>\n",
       "</table>\n",
       "</div>"
      ],
      "text/plain": [
       "      brandName         brandId             name    productId     username  \\\n",
       "46143  Neogenix  BRAND_NEOGENIX  Bodyforge Ultra  prod4030010  Dairyman209   \n",
       "46144  Neogenix  BRAND_NEOGENIX  Bodyforge Ultra  prod4030010   alexaluker   \n",
       "\n",
       "          userId                       _id  height  weight  bodyfat  \\\n",
       "46143   52412341  5814a0500cf2dadf1bd4921e     NaN   160.0     14.5   \n",
       "46144  140223911  581234f50cf236d07b65ea7a    70.0   177.0     15.0   \n",
       "\n",
       "      totalItems                                               text  \\\n",
       "46143       None                                                      \n",
       "46144       None  Flavor is atrocious. Only when I mixed it with...   \n",
       "\n",
       "                                     date                             modDate  \\\n",
       "46143  {u'$numberLong': u'1477746768000'}  {u'$numberLong': u'1477746768000'}   \n",
       "46144  {u'$numberLong': u'1477588213000'}  {u'$numberLong': u'1477588213000'}   \n",
       "\n",
       "              slug  verifiedBuyerRating  \\\n",
       "46143  Dairyman209                  9.0   \n",
       "46144   alexaluker                  9.0   \n",
       "\n",
       "                                             description updateStatusReason  \\\n",
       "46143  Designed to Enhance Strength, Endurance and Re...               None   \n",
       "46144  Designed to Enhance Strength, Endurance and Re...               None   \n",
       "\n",
       "       rating  \n",
       "46143    10.0  \n",
       "46144     8.0  "
      ]
     },
     "execution_count": 31,
     "metadata": {},
     "output_type": "execute_result"
    }
   ],
   "source": [
    "df[df.productId =='prod4030010']"
   ]
  },
  {
   "cell_type": "code",
   "execution_count": 160,
   "metadata": {
    "collapsed": false
   },
   "outputs": [],
   "source": [
    "df.to_pickle('nutrition.pkl')"
   ]
  },
  {
   "cell_type": "code",
   "execution_count": 42,
   "metadata": {
    "collapsed": false
   },
   "outputs": [],
   "source": [
    "df2 =df2[df2.productId != 'prod540102']"
   ]
  },
  {
   "cell_type": "code",
   "execution_count": 43,
   "metadata": {
    "collapsed": true
   },
   "outputs": [],
   "source": [
    "df2.to_pickle('rateaproduct.pkl')"
   ]
  },
  {
   "cell_type": "code",
   "execution_count": 44,
   "metadata": {
    "collapsed": false
   },
   "outputs": [
    {
     "data": {
      "text/plain": [
       "(2130, 2)"
      ]
     },
     "execution_count": 44,
     "metadata": {},
     "output_type": "execute_result"
    }
   ],
   "source": [
    "df2.shape"
   ]
  },
  {
   "cell_type": "code",
   "execution_count": 143,
   "metadata": {
    "collapsed": false
   },
   "outputs": [
    {
     "data": {
      "text/plain": [
       "(61550, 19)"
      ]
     },
     "execution_count": 143,
     "metadata": {},
     "output_type": "execute_result"
    }
   ],
   "source": [
    "df.shape"
   ]
  },
  {
   "cell_type": "code",
   "execution_count": 158,
   "metadata": {
    "collapsed": false
   },
   "outputs": [],
   "source": [
    "df =df[df.name != 'Xercuffs']"
   ]
  },
  {
   "cell_type": "code",
   "execution_count": 159,
   "metadata": {
    "collapsed": false
   },
   "outputs": [
    {
     "data": {
      "text/plain": [
       "(61524, 19)"
      ]
     },
     "execution_count": 159,
     "metadata": {},
     "output_type": "execute_result"
    }
   ],
   "source": [
    "df.shape"
   ]
  },
  {
   "cell_type": "code",
   "execution_count": null,
   "metadata": {
    "collapsed": true
   },
   "outputs": [],
   "source": []
  }
 ],
 "metadata": {
  "anaconda-cloud": {},
  "kernelspec": {
   "display_name": "Python [Root]",
   "language": "python",
   "name": "Python [Root]"
  },
  "language_info": {
   "codemirror_mode": {
    "name": "ipython",
    "version": 2
   },
   "file_extension": ".py",
   "mimetype": "text/x-python",
   "name": "python",
   "nbconvert_exporter": "python",
   "pygments_lexer": "ipython2",
   "version": "2.7.12"
  }
 },
 "nbformat": 4,
 "nbformat_minor": 0
}
