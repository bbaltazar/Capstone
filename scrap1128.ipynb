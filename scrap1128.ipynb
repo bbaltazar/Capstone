{
 "cells": [
  {
   "cell_type": "code",
   "execution_count": 129,
   "metadata": {
    "collapsed": false
   },
   "outputs": [],
   "source": [
    "import pandas as pd"
   ]
  },
  {
   "cell_type": "code",
   "execution_count": 161,
   "metadata": {
    "collapsed": true
   },
   "outputs": [],
   "source": [
    "import graphlab as gl"
   ]
  },
  {
   "cell_type": "code",
   "execution_count": 165,
   "metadata": {
    "collapsed": false
   },
   "outputs": [],
   "source": [
    "from graphlab.toolkits.recommender import factorization_recommender"
   ]
  },
  {
   "cell_type": "code",
   "execution_count": 133,
   "metadata": {
    "collapsed": false
   },
   "outputs": [],
   "source": [
    "df = pd.read_pickle('reviews.pkl')"
   ]
  },
  {
   "cell_type": "markdown",
   "metadata": {},
   "source": [
    "First Model trained is simply checking to root mean squared error on the SFrame based solely on user, generalizing item by brand, and included what they rated it. Base RMSE found to be 0.95111"
   ]
  },
  {
   "cell_type": "code",
   "execution_count": 114,
   "metadata": {
    "collapsed": false,
    "scrolled": true
   },
   "outputs": [
    {
     "name": "stdout",
     "output_type": "stream",
     "text": [
      "This non-commercial license of GraphLab Create for academic use is assigned to bta.baltazar@gmail.com and will expire on October 21, 2017.\n"
     ]
    },
    {
     "name": "stderr",
     "output_type": "stream",
     "text": [
      "[INFO] graphlab.cython.cy_server: GraphLab Create v2.1 started. Logging: /tmp/graphlab_server_1480121902.log\n"
     ]
    },
    {
     "data": {
      "text/html": [
       "<pre>Recsys training: model = ranking_factorization_recommender</pre>"
      ],
      "text/plain": [
       "Recsys training: model = ranking_factorization_recommender"
      ]
     },
     "metadata": {},
     "output_type": "display_data"
    },
    {
     "data": {
      "text/html": [
       "<pre>Preparing data set.</pre>"
      ],
      "text/plain": [
       "Preparing data set."
      ]
     },
     "metadata": {},
     "output_type": "display_data"
    },
    {
     "data": {
      "text/html": [
       "<pre>    Data has 67514 observations with 41069 users and 392 items.</pre>"
      ],
      "text/plain": [
       "    Data has 67514 observations with 41069 users and 392 items."
      ]
     },
     "metadata": {},
     "output_type": "display_data"
    },
    {
     "data": {
      "text/html": [
       "<pre>    Data prepared in: 0.539759s</pre>"
      ],
      "text/plain": [
       "    Data prepared in: 0.539759s"
      ]
     },
     "metadata": {},
     "output_type": "display_data"
    },
    {
     "data": {
      "text/html": [
       "<pre>Training ranking_factorization_recommender for recommendations.</pre>"
      ],
      "text/plain": [
       "Training ranking_factorization_recommender for recommendations."
      ]
     },
     "metadata": {},
     "output_type": "display_data"
    },
    {
     "data": {
      "text/html": [
       "<pre>+--------------------------------+--------------------------------------------------+----------+</pre>"
      ],
      "text/plain": [
       "+--------------------------------+--------------------------------------------------+----------+"
      ]
     },
     "metadata": {},
     "output_type": "display_data"
    },
    {
     "data": {
      "text/html": [
       "<pre>| Parameter                      | Description                                      | Value    |</pre>"
      ],
      "text/plain": [
       "| Parameter                      | Description                                      | Value    |"
      ]
     },
     "metadata": {},
     "output_type": "display_data"
    },
    {
     "data": {
      "text/html": [
       "<pre>+--------------------------------+--------------------------------------------------+----------+</pre>"
      ],
      "text/plain": [
       "+--------------------------------+--------------------------------------------------+----------+"
      ]
     },
     "metadata": {},
     "output_type": "display_data"
    },
    {
     "data": {
      "text/html": [
       "<pre>| num_factors                    | Factor Dimension                                 | 32       |</pre>"
      ],
      "text/plain": [
       "| num_factors                    | Factor Dimension                                 | 32       |"
      ]
     },
     "metadata": {},
     "output_type": "display_data"
    },
    {
     "data": {
      "text/html": [
       "<pre>| regularization                 | L2 Regularization on Factors                     | 1e-09    |</pre>"
      ],
      "text/plain": [
       "| regularization                 | L2 Regularization on Factors                     | 1e-09    |"
      ]
     },
     "metadata": {},
     "output_type": "display_data"
    },
    {
     "data": {
      "text/html": [
       "<pre>| solver                         | Solver used for training                         | sgd      |</pre>"
      ],
      "text/plain": [
       "| solver                         | Solver used for training                         | sgd      |"
      ]
     },
     "metadata": {},
     "output_type": "display_data"
    },
    {
     "data": {
      "text/html": [
       "<pre>| linear_regularization          | L2 Regularization on Linear Coefficients         | 1e-09    |</pre>"
      ],
      "text/plain": [
       "| linear_regularization          | L2 Regularization on Linear Coefficients         | 1e-09    |"
      ]
     },
     "metadata": {},
     "output_type": "display_data"
    },
    {
     "data": {
      "text/html": [
       "<pre>| ranking_regularization         | Rank-based Regularization Weight                 | 0.25     |</pre>"
      ],
      "text/plain": [
       "| ranking_regularization         | Rank-based Regularization Weight                 | 0.25     |"
      ]
     },
     "metadata": {},
     "output_type": "display_data"
    },
    {
     "data": {
      "text/html": [
       "<pre>| max_iterations                 | Maximum Number of Iterations                     | 25       |</pre>"
      ],
      "text/plain": [
       "| max_iterations                 | Maximum Number of Iterations                     | 25       |"
      ]
     },
     "metadata": {},
     "output_type": "display_data"
    },
    {
     "data": {
      "text/html": [
       "<pre>+--------------------------------+--------------------------------------------------+----------+</pre>"
      ],
      "text/plain": [
       "+--------------------------------+--------------------------------------------------+----------+"
      ]
     },
     "metadata": {},
     "output_type": "display_data"
    },
    {
     "data": {
      "text/html": [
       "<pre>  Optimizing model using SGD; tuning step size.</pre>"
      ],
      "text/plain": [
       "  Optimizing model using SGD; tuning step size."
      ]
     },
     "metadata": {},
     "output_type": "display_data"
    },
    {
     "data": {
      "text/html": [
       "<pre>  Using 10000 / 67514 points for tuning the step size.</pre>"
      ],
      "text/plain": [
       "  Using 10000 / 67514 points for tuning the step size."
      ]
     },
     "metadata": {},
     "output_type": "display_data"
    },
    {
     "data": {
      "text/html": [
       "<pre>+---------+-------------------+------------------------------------------+</pre>"
      ],
      "text/plain": [
       "+---------+-------------------+------------------------------------------+"
      ]
     },
     "metadata": {},
     "output_type": "display_data"
    },
    {
     "data": {
      "text/html": [
       "<pre>| Attempt | Initial Step Size | Estimated Objective Value                |</pre>"
      ],
      "text/plain": [
       "| Attempt | Initial Step Size | Estimated Objective Value                |"
      ]
     },
     "metadata": {},
     "output_type": "display_data"
    },
    {
     "data": {
      "text/html": [
       "<pre>+---------+-------------------+------------------------------------------+</pre>"
      ],
      "text/plain": [
       "+---------+-------------------+------------------------------------------+"
      ]
     },
     "metadata": {},
     "output_type": "display_data"
    },
    {
     "data": {
      "text/html": [
       "<pre>| 0       | 25                | Not Viable                               |</pre>"
      ],
      "text/plain": [
       "| 0       | 25                | Not Viable                               |"
      ]
     },
     "metadata": {},
     "output_type": "display_data"
    },
    {
     "data": {
      "text/html": [
       "<pre>| 1       | 6.25              | Not Viable                               |</pre>"
      ],
      "text/plain": [
       "| 1       | 6.25              | Not Viable                               |"
      ]
     },
     "metadata": {},
     "output_type": "display_data"
    },
    {
     "data": {
      "text/html": [
       "<pre>| 2       | 1.5625            | Not Viable                               |</pre>"
      ],
      "text/plain": [
       "| 2       | 1.5625            | Not Viable                               |"
      ]
     },
     "metadata": {},
     "output_type": "display_data"
    },
    {
     "data": {
      "text/html": [
       "<pre>| 3       | 0.390625          | Not Viable                               |</pre>"
      ],
      "text/plain": [
       "| 3       | 0.390625          | Not Viable                               |"
      ]
     },
     "metadata": {},
     "output_type": "display_data"
    },
    {
     "data": {
      "text/html": [
       "<pre>| 4       | 0.0976562         | 3.86508                                  |</pre>"
      ],
      "text/plain": [
       "| 4       | 0.0976562         | 3.86508                                  |"
      ]
     },
     "metadata": {},
     "output_type": "display_data"
    },
    {
     "data": {
      "text/html": [
       "<pre>| 5       | 0.0488281         | 5.44629                                  |</pre>"
      ],
      "text/plain": [
       "| 5       | 0.0488281         | 5.44629                                  |"
      ]
     },
     "metadata": {},
     "output_type": "display_data"
    },
    {
     "data": {
      "text/html": [
       "<pre>| 6       | 0.0244141         | 6.32479                                  |</pre>"
      ],
      "text/plain": [
       "| 6       | 0.0244141         | 6.32479                                  |"
      ]
     },
     "metadata": {},
     "output_type": "display_data"
    },
    {
     "data": {
      "text/html": [
       "<pre>| 7       | 0.012207          | 7.08025                                  |</pre>"
      ],
      "text/plain": [
       "| 7       | 0.012207          | 7.08025                                  |"
      ]
     },
     "metadata": {},
     "output_type": "display_data"
    },
    {
     "data": {
      "text/html": [
       "<pre>+---------+-------------------+------------------------------------------+</pre>"
      ],
      "text/plain": [
       "+---------+-------------------+------------------------------------------+"
      ]
     },
     "metadata": {},
     "output_type": "display_data"
    },
    {
     "data": {
      "text/html": [
       "<pre>| Final   | 0.0976562         | 3.86508                                  |</pre>"
      ],
      "text/plain": [
       "| Final   | 0.0976562         | 3.86508                                  |"
      ]
     },
     "metadata": {},
     "output_type": "display_data"
    },
    {
     "data": {
      "text/html": [
       "<pre>+---------+-------------------+------------------------------------------+</pre>"
      ],
      "text/plain": [
       "+---------+-------------------+------------------------------------------+"
      ]
     },
     "metadata": {},
     "output_type": "display_data"
    },
    {
     "data": {
      "text/html": [
       "<pre>Starting Optimization.</pre>"
      ],
      "text/plain": [
       "Starting Optimization."
      ]
     },
     "metadata": {},
     "output_type": "display_data"
    },
    {
     "data": {
      "text/html": [
       "<pre>+---------+--------------+-------------------+-----------------------+-------------+</pre>"
      ],
      "text/plain": [
       "+---------+--------------+-------------------+-----------------------+-------------+"
      ]
     },
     "metadata": {},
     "output_type": "display_data"
    },
    {
     "data": {
      "text/html": [
       "<pre>| Iter.   | Elapsed Time | Approx. Objective | Approx. Training RMSE | Step Size   |</pre>"
      ],
      "text/plain": [
       "| Iter.   | Elapsed Time | Approx. Objective | Approx. Training RMSE | Step Size   |"
      ]
     },
     "metadata": {},
     "output_type": "display_data"
    },
    {
     "data": {
      "text/html": [
       "<pre>+---------+--------------+-------------------+-----------------------+-------------+</pre>"
      ],
      "text/plain": [
       "+---------+--------------+-------------------+-----------------------+-------------+"
      ]
     },
     "metadata": {},
     "output_type": "display_data"
    },
    {
     "data": {
      "text/html": [
       "<pre>| Initial | 159us        | 9.2015            | 2.16641               |             |</pre>"
      ],
      "text/plain": [
       "| Initial | 159us        | 9.2015            | 2.16641               |             |"
      ]
     },
     "metadata": {},
     "output_type": "display_data"
    },
    {
     "data": {
      "text/html": [
       "<pre>+---------+--------------+-------------------+-----------------------+-------------+</pre>"
      ],
      "text/plain": [
       "+---------+--------------+-------------------+-----------------------+-------------+"
      ]
     },
     "metadata": {},
     "output_type": "display_data"
    },
    {
     "data": {
      "text/html": [
       "<pre>| 1       | 167.762ms    | 12.2226           | 3.2139                | 0.0976562   |</pre>"
      ],
      "text/plain": [
       "| 1       | 167.762ms    | 12.2226           | 3.2139                | 0.0976562   |"
      ]
     },
     "metadata": {},
     "output_type": "display_data"
    },
    {
     "data": {
      "text/html": [
       "<pre>| 2       | 375.187ms    | DIVERGED          | DIVERGED              | 0.0580668   |</pre>"
      ],
      "text/plain": [
       "| 2       | 375.187ms    | DIVERGED          | DIVERGED              | 0.0580668   |"
      ]
     },
     "metadata": {},
     "output_type": "display_data"
    },
    {
     "data": {
      "text/html": [
       "<pre>| RESET   | 586.547ms    | 9.20146           | 2.1664                |             |</pre>"
      ],
      "text/plain": [
       "| RESET   | 586.547ms    | 9.20146           | 2.1664                |             |"
      ]
     },
     "metadata": {},
     "output_type": "display_data"
    },
    {
     "data": {
      "text/html": [
       "<pre>| 1       | 921.088ms    | 7.16264           | 2.25971               | 0.0290334   |</pre>"
      ],
      "text/plain": [
       "| 1       | 921.088ms    | 7.16264           | 2.25971               | 0.0290334   |"
      ]
     },
     "metadata": {},
     "output_type": "display_data"
    },
    {
     "data": {
      "text/html": [
       "<pre>| 2       | 1.08s        | 6.46584           | 2.20564               | 0.0172633   |</pre>"
      ],
      "text/plain": [
       "| 2       | 1.08s        | 6.46584           | 2.20564               | 0.0172633   |"
      ]
     },
     "metadata": {},
     "output_type": "display_data"
    },
    {
     "data": {
      "text/html": [
       "<pre>| 3       | 1.41s        | 6.16767           | 2.1363                | 0.0127367   |</pre>"
      ],
      "text/plain": [
       "| 3       | 1.41s        | 6.16767           | 2.1363                | 0.0127367   |"
      ]
     },
     "metadata": {},
     "output_type": "display_data"
    },
    {
     "data": {
      "text/html": [
       "<pre>| 4       | 1.76s        | 5.79627           | 2.04536               | 0.0102648   |</pre>"
      ],
      "text/plain": [
       "| 4       | 1.76s        | 5.79627           | 2.04536               | 0.0102648   |"
      ]
     },
     "metadata": {},
     "output_type": "display_data"
    },
    {
     "data": {
      "text/html": [
       "<pre>| 5       | 1.93s        | 5.32714           | 1.92761               | 0.008683    |</pre>"
      ],
      "text/plain": [
       "| 5       | 1.93s        | 5.32714           | 1.92761               | 0.008683    |"
      ]
     },
     "metadata": {},
     "output_type": "display_data"
    },
    {
     "data": {
      "text/html": [
       "<pre>| 8       | 2.82s        | 4.04547           | 1.58002               | 0.00610352  |</pre>"
      ],
      "text/plain": [
       "| 8       | 2.82s        | 4.04547           | 1.58002               | 0.00610352  |"
      ]
     },
     "metadata": {},
     "output_type": "display_data"
    },
    {
     "data": {
      "text/html": [
       "<pre>| 10      | 3.20s        | 3.67643           | 1.4686                | 0.00516295  |</pre>"
      ],
      "text/plain": [
       "| 10      | 3.20s        | 3.67643           | 1.4686                | 0.00516295  |"
      ]
     },
     "metadata": {},
     "output_type": "display_data"
    },
    {
     "data": {
      "text/html": [
       "<pre>| 13      | 3.71s        | 3.13462           | 1.32525               | 0.00424072  |</pre>"
      ],
      "text/plain": [
       "| 13      | 3.71s        | 3.13462           | 1.32525               | 0.00424072  |"
      ]
     },
     "metadata": {},
     "output_type": "display_data"
    },
    {
     "data": {
      "text/html": [
       "<pre>| 18      | 4.52s        | 2.49541           | 1.1493                | 0.00332233  |</pre>"
      ],
      "text/plain": [
       "| 18      | 4.52s        | 2.49541           | 1.1493                | 0.00332233  |"
      ]
     },
     "metadata": {},
     "output_type": "display_data"
    },
    {
     "data": {
      "text/html": [
       "<pre>| 23      | 5.24s        | 2.08258           | 1.03863               | 0.00276441  |</pre>"
      ],
      "text/plain": [
       "| 23      | 5.24s        | 2.08258           | 1.03863               | 0.00276441  |"
      ]
     },
     "metadata": {},
     "output_type": "display_data"
    },
    {
     "data": {
      "text/html": [
       "<pre>+---------+--------------+-------------------+-----------------------+-------------+</pre>"
      ],
      "text/plain": [
       "+---------+--------------+-------------------+-----------------------+-------------+"
      ]
     },
     "metadata": {},
     "output_type": "display_data"
    },
    {
     "data": {
      "text/html": [
       "<pre>Optimization Complete: Maximum number of passes through the data reached.</pre>"
      ],
      "text/plain": [
       "Optimization Complete: Maximum number of passes through the data reached."
      ]
     },
     "metadata": {},
     "output_type": "display_data"
    },
    {
     "data": {
      "text/html": [
       "<pre>Computing final objective value and training RMSE.</pre>"
      ],
      "text/plain": [
       "Computing final objective value and training RMSE."
      ]
     },
     "metadata": {},
     "output_type": "display_data"
    },
    {
     "data": {
      "text/html": [
       "<pre>       Final objective value: 1.84137</pre>"
      ],
      "text/plain": [
       "       Final objective value: 1.84137"
      ]
     },
     "metadata": {},
     "output_type": "display_data"
    },
    {
     "data": {
      "text/html": [
       "<pre>       Final training RMSE: 0.95111</pre>"
      ],
      "text/plain": [
       "       Final training RMSE: 0.95111"
      ]
     },
     "metadata": {},
     "output_type": "display_data"
    }
   ],
   "source": [
    "sf = gl.SFrame(df[['userId', 'brandId', 'rating']])\n",
    "model = gl.toolkits.recommender.create(sf, user_id = 'userId', item_id='brandId', target='rating')"
   ]
  },
  {
   "cell_type": "markdown",
   "metadata": {},
   "source": [
    "Next model specified the item_id to be the exact product ID instead of brand ID and lowered the RMSE to 0.509202"
   ]
  },
  {
   "cell_type": "code",
   "execution_count": 175,
   "metadata": {
    "collapsed": false,
    "scrolled": true
   },
   "outputs": [
    {
     "data": {
      "text/html": [
       "<pre>Recsys training: model = ranking_factorization_recommender</pre>"
      ],
      "text/plain": [
       "Recsys training: model = ranking_factorization_recommender"
      ]
     },
     "metadata": {},
     "output_type": "display_data"
    },
    {
     "data": {
      "text/html": [
       "<pre>Preparing data set.</pre>"
      ],
      "text/plain": [
       "Preparing data set."
      ]
     },
     "metadata": {},
     "output_type": "display_data"
    },
    {
     "data": {
      "text/html": [
       "<pre>    Data has 67514 observations with 41069 users and 2496 items.</pre>"
      ],
      "text/plain": [
       "    Data has 67514 observations with 41069 users and 2496 items."
      ]
     },
     "metadata": {},
     "output_type": "display_data"
    },
    {
     "data": {
      "text/html": [
       "<pre>    Data prepared in: 0.304782s</pre>"
      ],
      "text/plain": [
       "    Data prepared in: 0.304782s"
      ]
     },
     "metadata": {},
     "output_type": "display_data"
    },
    {
     "data": {
      "text/html": [
       "<pre>Training ranking_factorization_recommender for recommendations.</pre>"
      ],
      "text/plain": [
       "Training ranking_factorization_recommender for recommendations."
      ]
     },
     "metadata": {},
     "output_type": "display_data"
    },
    {
     "data": {
      "text/html": [
       "<pre>+--------------------------------+--------------------------------------------------+----------+</pre>"
      ],
      "text/plain": [
       "+--------------------------------+--------------------------------------------------+----------+"
      ]
     },
     "metadata": {},
     "output_type": "display_data"
    },
    {
     "data": {
      "text/html": [
       "<pre>| Parameter                      | Description                                      | Value    |</pre>"
      ],
      "text/plain": [
       "| Parameter                      | Description                                      | Value    |"
      ]
     },
     "metadata": {},
     "output_type": "display_data"
    },
    {
     "data": {
      "text/html": [
       "<pre>+--------------------------------+--------------------------------------------------+----------+</pre>"
      ],
      "text/plain": [
       "+--------------------------------+--------------------------------------------------+----------+"
      ]
     },
     "metadata": {},
     "output_type": "display_data"
    },
    {
     "data": {
      "text/html": [
       "<pre>| num_factors                    | Factor Dimension                                 | 32       |</pre>"
      ],
      "text/plain": [
       "| num_factors                    | Factor Dimension                                 | 32       |"
      ]
     },
     "metadata": {},
     "output_type": "display_data"
    },
    {
     "data": {
      "text/html": [
       "<pre>| regularization                 | L2 Regularization on Factors                     | 1e-09    |</pre>"
      ],
      "text/plain": [
       "| regularization                 | L2 Regularization on Factors                     | 1e-09    |"
      ]
     },
     "metadata": {},
     "output_type": "display_data"
    },
    {
     "data": {
      "text/html": [
       "<pre>| solver                         | Solver used for training                         | sgd      |</pre>"
      ],
      "text/plain": [
       "| solver                         | Solver used for training                         | sgd      |"
      ]
     },
     "metadata": {},
     "output_type": "display_data"
    },
    {
     "data": {
      "text/html": [
       "<pre>| linear_regularization          | L2 Regularization on Linear Coefficients         | 1e-09    |</pre>"
      ],
      "text/plain": [
       "| linear_regularization          | L2 Regularization on Linear Coefficients         | 1e-09    |"
      ]
     },
     "metadata": {},
     "output_type": "display_data"
    },
    {
     "data": {
      "text/html": [
       "<pre>| ranking_regularization         | Rank-based Regularization Weight                 | 0.25     |</pre>"
      ],
      "text/plain": [
       "| ranking_regularization         | Rank-based Regularization Weight                 | 0.25     |"
      ]
     },
     "metadata": {},
     "output_type": "display_data"
    },
    {
     "data": {
      "text/html": [
       "<pre>| max_iterations                 | Maximum Number of Iterations                     | 25       |</pre>"
      ],
      "text/plain": [
       "| max_iterations                 | Maximum Number of Iterations                     | 25       |"
      ]
     },
     "metadata": {},
     "output_type": "display_data"
    },
    {
     "data": {
      "text/html": [
       "<pre>+--------------------------------+--------------------------------------------------+----------+</pre>"
      ],
      "text/plain": [
       "+--------------------------------+--------------------------------------------------+----------+"
      ]
     },
     "metadata": {},
     "output_type": "display_data"
    },
    {
     "data": {
      "text/html": [
       "<pre>  Optimizing model using SGD; tuning step size.</pre>"
      ],
      "text/plain": [
       "  Optimizing model using SGD; tuning step size."
      ]
     },
     "metadata": {},
     "output_type": "display_data"
    },
    {
     "data": {
      "text/html": [
       "<pre>  Using 10000 / 67514 points for tuning the step size.</pre>"
      ],
      "text/plain": [
       "  Using 10000 / 67514 points for tuning the step size."
      ]
     },
     "metadata": {},
     "output_type": "display_data"
    },
    {
     "data": {
      "text/html": [
       "<pre>+---------+-------------------+------------------------------------------+</pre>"
      ],
      "text/plain": [
       "+---------+-------------------+------------------------------------------+"
      ]
     },
     "metadata": {},
     "output_type": "display_data"
    },
    {
     "data": {
      "text/html": [
       "<pre>| Attempt | Initial Step Size | Estimated Objective Value                |</pre>"
      ],
      "text/plain": [
       "| Attempt | Initial Step Size | Estimated Objective Value                |"
      ]
     },
     "metadata": {},
     "output_type": "display_data"
    },
    {
     "data": {
      "text/html": [
       "<pre>+---------+-------------------+------------------------------------------+</pre>"
      ],
      "text/plain": [
       "+---------+-------------------+------------------------------------------+"
      ]
     },
     "metadata": {},
     "output_type": "display_data"
    },
    {
     "data": {
      "text/html": [
       "<pre>| 0       | 25                | Not Viable                               |</pre>"
      ],
      "text/plain": [
       "| 0       | 25                | Not Viable                               |"
      ]
     },
     "metadata": {},
     "output_type": "display_data"
    },
    {
     "data": {
      "text/html": [
       "<pre>| 1       | 6.25              | Not Viable                               |</pre>"
      ],
      "text/plain": [
       "| 1       | 6.25              | Not Viable                               |"
      ]
     },
     "metadata": {},
     "output_type": "display_data"
    },
    {
     "data": {
      "text/html": [
       "<pre>| 2       | 1.5625            | Not Viable                               |</pre>"
      ],
      "text/plain": [
       "| 2       | 1.5625            | Not Viable                               |"
      ]
     },
     "metadata": {},
     "output_type": "display_data"
    },
    {
     "data": {
      "text/html": [
       "<pre>| 3       | 0.390625          | Not Viable                               |</pre>"
      ],
      "text/plain": [
       "| 3       | 0.390625          | Not Viable                               |"
      ]
     },
     "metadata": {},
     "output_type": "display_data"
    },
    {
     "data": {
      "text/html": [
       "<pre>| 4       | 0.0976562         | 4.84401                                  |</pre>"
      ],
      "text/plain": [
       "| 4       | 0.0976562         | 4.84401                                  |"
      ]
     },
     "metadata": {},
     "output_type": "display_data"
    },
    {
     "data": {
      "text/html": [
       "<pre>| 5       | 0.0488281         | 5.86715                                  |</pre>"
      ],
      "text/plain": [
       "| 5       | 0.0488281         | 5.86715                                  |"
      ]
     },
     "metadata": {},
     "output_type": "display_data"
    },
    {
     "data": {
      "text/html": [
       "<pre>| 6       | 0.0244141         | 6.93233                                  |</pre>"
      ],
      "text/plain": [
       "| 6       | 0.0244141         | 6.93233                                  |"
      ]
     },
     "metadata": {},
     "output_type": "display_data"
    },
    {
     "data": {
      "text/html": [
       "<pre>| 7       | 0.012207          | 7.7498                                   |</pre>"
      ],
      "text/plain": [
       "| 7       | 0.012207          | 7.7498                                   |"
      ]
     },
     "metadata": {},
     "output_type": "display_data"
    },
    {
     "data": {
      "text/html": [
       "<pre>+---------+-------------------+------------------------------------------+</pre>"
      ],
      "text/plain": [
       "+---------+-------------------+------------------------------------------+"
      ]
     },
     "metadata": {},
     "output_type": "display_data"
    },
    {
     "data": {
      "text/html": [
       "<pre>| Final   | 0.0976562         | 4.84401                                  |</pre>"
      ],
      "text/plain": [
       "| Final   | 0.0976562         | 4.84401                                  |"
      ]
     },
     "metadata": {},
     "output_type": "display_data"
    },
    {
     "data": {
      "text/html": [
       "<pre>+---------+-------------------+------------------------------------------+</pre>"
      ],
      "text/plain": [
       "+---------+-------------------+------------------------------------------+"
      ]
     },
     "metadata": {},
     "output_type": "display_data"
    },
    {
     "data": {
      "text/html": [
       "<pre>Starting Optimization.</pre>"
      ],
      "text/plain": [
       "Starting Optimization."
      ]
     },
     "metadata": {},
     "output_type": "display_data"
    },
    {
     "data": {
      "text/html": [
       "<pre>+---------+--------------+-------------------+-----------------------+-------------+</pre>"
      ],
      "text/plain": [
       "+---------+--------------+-------------------+-----------------------+-------------+"
      ]
     },
     "metadata": {},
     "output_type": "display_data"
    },
    {
     "data": {
      "text/html": [
       "<pre>| Iter.   | Elapsed Time | Approx. Objective | Approx. Training RMSE | Step Size   |</pre>"
      ],
      "text/plain": [
       "| Iter.   | Elapsed Time | Approx. Objective | Approx. Training RMSE | Step Size   |"
      ]
     },
     "metadata": {},
     "output_type": "display_data"
    },
    {
     "data": {
      "text/html": [
       "<pre>+---------+--------------+-------------------+-----------------------+-------------+</pre>"
      ],
      "text/plain": [
       "+---------+--------------+-------------------+-----------------------+-------------+"
      ]
     },
     "metadata": {},
     "output_type": "display_data"
    },
    {
     "data": {
      "text/html": [
       "<pre>| Initial | 183us        | 9.20145           | 2.1664                |             |</pre>"
      ],
      "text/plain": [
       "| Initial | 183us        | 9.20145           | 2.1664                |             |"
      ]
     },
     "metadata": {},
     "output_type": "display_data"
    },
    {
     "data": {
      "text/html": [
       "<pre>+---------+--------------+-------------------+-----------------------+-------------+</pre>"
      ],
      "text/plain": [
       "+---------+--------------+-------------------+-----------------------+-------------+"
      ]
     },
     "metadata": {},
     "output_type": "display_data"
    },
    {
     "data": {
      "text/html": [
       "<pre>| 1       | 130.165ms    | 7.85017           | 2.23302               | 0.0976562   |</pre>"
      ],
      "text/plain": [
       "| 1       | 130.165ms    | 7.85017           | 2.23302               | 0.0976562   |"
      ]
     },
     "metadata": {},
     "output_type": "display_data"
    },
    {
     "data": {
      "text/html": [
       "<pre>| 2       | 242.134ms    | 6.3366            | 2.06227               | 0.0580668   |</pre>"
      ],
      "text/plain": [
       "| 2       | 242.134ms    | 6.3366            | 2.06227               | 0.0580668   |"
      ]
     },
     "metadata": {},
     "output_type": "display_data"
    },
    {
     "data": {
      "text/html": [
       "<pre>| 3       | 359.686ms    | 5.56253           | 1.86765               | 0.042841    |</pre>"
      ],
      "text/plain": [
       "| 3       | 359.686ms    | 5.56253           | 1.86765               | 0.042841    |"
      ]
     },
     "metadata": {},
     "output_type": "display_data"
    },
    {
     "data": {
      "text/html": [
       "<pre>| 4       | 486.41ms     | 4.69172           | 1.62878               | 0.0345267   |</pre>"
      ],
      "text/plain": [
       "| 4       | 486.41ms     | 4.69172           | 1.62878               | 0.0345267   |"
      ]
     },
     "metadata": {},
     "output_type": "display_data"
    },
    {
     "data": {
      "text/html": [
       "<pre>| 5       | 607.19ms     | 3.99903           | 1.41502               | 0.029206    |</pre>"
      ],
      "text/plain": [
       "| 5       | 607.19ms     | 3.99903           | 1.41502               | 0.029206    |"
      ]
     },
     "metadata": {},
     "output_type": "display_data"
    },
    {
     "data": {
      "text/html": [
       "<pre>| 6       | 754.624ms    | 3.5264            | 1.26492               | 0.0254734   |</pre>"
      ],
      "text/plain": [
       "| 6       | 754.624ms    | 3.5264            | 1.26492               | 0.0254734   |"
      ]
     },
     "metadata": {},
     "output_type": "display_data"
    },
    {
     "data": {
      "text/html": [
       "<pre>| 10      | 1.18s        | 2.39208           | 0.901251              | 0.017366    |</pre>"
      ],
      "text/plain": [
       "| 10      | 1.18s        | 2.39208           | 0.901251              | 0.017366    |"
      ]
     },
     "metadata": {},
     "output_type": "display_data"
    },
    {
     "data": {
      "text/html": [
       "<pre>| 11      | 1.44s        | 2.20681           | 0.844108              | 0.016168    |</pre>"
      ],
      "text/plain": [
       "| 11      | 1.44s        | 2.20681           | 0.844108              | 0.016168    |"
      ]
     },
     "metadata": {},
     "output_type": "display_data"
    },
    {
     "data": {
      "text/html": [
       "<pre>| 20      | 2.85s        | 1.26701           | 0.572069              | 0.0103259   |</pre>"
      ],
      "text/plain": [
       "| 20      | 2.85s        | 1.26701           | 0.572069              | 0.0103259   |"
      ]
     },
     "metadata": {},
     "output_type": "display_data"
    },
    {
     "data": {
      "text/html": [
       "<pre>+---------+--------------+-------------------+-----------------------+-------------+</pre>"
      ],
      "text/plain": [
       "+---------+--------------+-------------------+-----------------------+-------------+"
      ]
     },
     "metadata": {},
     "output_type": "display_data"
    },
    {
     "data": {
      "text/html": [
       "<pre>Optimization Complete: Maximum number of passes through the data reached.</pre>"
      ],
      "text/plain": [
       "Optimization Complete: Maximum number of passes through the data reached."
      ]
     },
     "metadata": {},
     "output_type": "display_data"
    },
    {
     "data": {
      "text/html": [
       "<pre>Computing final objective value and training RMSE.</pre>"
      ],
      "text/plain": [
       "Computing final objective value and training RMSE."
      ]
     },
     "metadata": {},
     "output_type": "display_data"
    },
    {
     "data": {
      "text/html": [
       "<pre>       Final objective value: 1.02262</pre>"
      ],
      "text/plain": [
       "       Final objective value: 1.02262"
      ]
     },
     "metadata": {},
     "output_type": "display_data"
    },
    {
     "data": {
      "text/html": [
       "<pre>       Final training RMSE: 0.509202</pre>"
      ],
      "text/plain": [
       "       Final training RMSE: 0.509202"
      ]
     },
     "metadata": {},
     "output_type": "display_data"
    }
   ],
   "source": [
    "sf = gl.SFrame(df[['userId', 'productId', 'rating']])\n",
    "m = gl.toolkits.recommender.create(sf, user_id = 'userId', item_id='productId', target='rating')"
   ]
  },
  {
   "cell_type": "markdown",
   "metadata": {},
   "source": [
    "Next model trained incorporated user specific attributes as well as item specific data, effectively lowering the RMSE to 0.261932"
   ]
  },
  {
   "cell_type": "code",
   "execution_count": 332,
   "metadata": {
    "collapsed": true
   },
   "outputs": [],
   "source": [
    "df = pd.read_pickle('nutrition.pkl')"
   ]
  },
  {
   "cell_type": "code",
   "execution_count": 337,
   "metadata": {
    "collapsed": true
   },
   "outputs": [],
   "source": [
    "sf = gl.SFrame(df[['userId', 'productId', 'rating']])\n",
    "user_info = gl.SFrame(df[['username', 'userId', 'height', 'weight', 'bodyfat']])\n",
    "item_info = gl.SFrame(df[['brandName', 'name', 'brandId', 'productId']])"
   ]
  },
  {
   "cell_type": "code",
   "execution_count": 343,
   "metadata": {
    "collapsed": false
   },
   "outputs": [],
   "source": [
    "user_info = user_info.fillna('weight',0)\n",
    "user_info = user_info.fillna('height',0)\n",
    "user_info = user_info.fillna('bodyfat',0)\n",
    "\n"
   ]
  },
  {
   "cell_type": "code",
   "execution_count": 344,
   "metadata": {
    "collapsed": false,
    "scrolled": true
   },
   "outputs": [
    {
     "data": {
      "text/html": [
       "<pre>Recsys training: model = factorization_recommender</pre>"
      ],
      "text/plain": [
       "Recsys training: model = factorization_recommender"
      ]
     },
     "metadata": {},
     "output_type": "display_data"
    },
    {
     "data": {
      "text/html": [
       "<pre>Preparing data set.</pre>"
      ],
      "text/plain": [
       "Preparing data set."
      ]
     },
     "metadata": {},
     "output_type": "display_data"
    },
    {
     "data": {
      "text/html": [
       "<pre>    Data has 64312 observations with 39465 users and 2131 items.</pre>"
      ],
      "text/plain": [
       "    Data has 64312 observations with 39465 users and 2131 items."
      ]
     },
     "metadata": {},
     "output_type": "display_data"
    },
    {
     "data": {
      "text/html": [
       "<pre>    Data prepared in: 0.577575s</pre>"
      ],
      "text/plain": [
       "    Data prepared in: 0.577575s"
      ]
     },
     "metadata": {},
     "output_type": "display_data"
    },
    {
     "data": {
      "text/html": [
       "<pre>Training factorization_recommender for recommendations.</pre>"
      ],
      "text/plain": [
       "Training factorization_recommender for recommendations."
      ]
     },
     "metadata": {},
     "output_type": "display_data"
    },
    {
     "data": {
      "text/html": [
       "<pre>+--------------------------------+--------------------------------------------------+----------+</pre>"
      ],
      "text/plain": [
       "+--------------------------------+--------------------------------------------------+----------+"
      ]
     },
     "metadata": {},
     "output_type": "display_data"
    },
    {
     "data": {
      "text/html": [
       "<pre>| Parameter                      | Description                                      | Value    |</pre>"
      ],
      "text/plain": [
       "| Parameter                      | Description                                      | Value    |"
      ]
     },
     "metadata": {},
     "output_type": "display_data"
    },
    {
     "data": {
      "text/html": [
       "<pre>+--------------------------------+--------------------------------------------------+----------+</pre>"
      ],
      "text/plain": [
       "+--------------------------------+--------------------------------------------------+----------+"
      ]
     },
     "metadata": {},
     "output_type": "display_data"
    },
    {
     "data": {
      "text/html": [
       "<pre>| num_factors                    | Factor Dimension                                 | 8        |</pre>"
      ],
      "text/plain": [
       "| num_factors                    | Factor Dimension                                 | 8        |"
      ]
     },
     "metadata": {},
     "output_type": "display_data"
    },
    {
     "data": {
      "text/html": [
       "<pre>| regularization                 | L2 Regularization on Factors                     | 1e-08    |</pre>"
      ],
      "text/plain": [
       "| regularization                 | L2 Regularization on Factors                     | 1e-08    |"
      ]
     },
     "metadata": {},
     "output_type": "display_data"
    },
    {
     "data": {
      "text/html": [
       "<pre>| solver                         | Solver used for training                         | adagrad  |</pre>"
      ],
      "text/plain": [
       "| solver                         | Solver used for training                         | adagrad  |"
      ]
     },
     "metadata": {},
     "output_type": "display_data"
    },
    {
     "data": {
      "text/html": [
       "<pre>| linear_regularization          | L2 Regularization on Linear Coefficients         | 1e-10    |</pre>"
      ],
      "text/plain": [
       "| linear_regularization          | L2 Regularization on Linear Coefficients         | 1e-10    |"
      ]
     },
     "metadata": {},
     "output_type": "display_data"
    },
    {
     "data": {
      "text/html": [
       "<pre>| side_data_factorization        | Assign Factors for Side Data                     | True     |</pre>"
      ],
      "text/plain": [
       "| side_data_factorization        | Assign Factors for Side Data                     | True     |"
      ]
     },
     "metadata": {},
     "output_type": "display_data"
    },
    {
     "data": {
      "text/html": [
       "<pre>| max_iterations                 | Maximum Number of Iterations                     | 50       |</pre>"
      ],
      "text/plain": [
       "| max_iterations                 | Maximum Number of Iterations                     | 50       |"
      ]
     },
     "metadata": {},
     "output_type": "display_data"
    },
    {
     "data": {
      "text/html": [
       "<pre>+--------------------------------+--------------------------------------------------+----------+</pre>"
      ],
      "text/plain": [
       "+--------------------------------+--------------------------------------------------+----------+"
      ]
     },
     "metadata": {},
     "output_type": "display_data"
    },
    {
     "data": {
      "text/html": [
       "<pre>  Optimizing model using SGD; tuning step size.</pre>"
      ],
      "text/plain": [
       "  Optimizing model using SGD; tuning step size."
      ]
     },
     "metadata": {},
     "output_type": "display_data"
    },
    {
     "data": {
      "text/html": [
       "<pre>  Using 10000 / 64312 points for tuning the step size.</pre>"
      ],
      "text/plain": [
       "  Using 10000 / 64312 points for tuning the step size."
      ]
     },
     "metadata": {},
     "output_type": "display_data"
    },
    {
     "data": {
      "text/html": [
       "<pre>+---------+-------------------+------------------------------------------+</pre>"
      ],
      "text/plain": [
       "+---------+-------------------+------------------------------------------+"
      ]
     },
     "metadata": {},
     "output_type": "display_data"
    },
    {
     "data": {
      "text/html": [
       "<pre>| Attempt | Initial Step Size | Estimated Objective Value                |</pre>"
      ],
      "text/plain": [
       "| Attempt | Initial Step Size | Estimated Objective Value                |"
      ]
     },
     "metadata": {},
     "output_type": "display_data"
    },
    {
     "data": {
      "text/html": [
       "<pre>+---------+-------------------+------------------------------------------+</pre>"
      ],
      "text/plain": [
       "+---------+-------------------+------------------------------------------+"
      ]
     },
     "metadata": {},
     "output_type": "display_data"
    },
    {
     "data": {
      "text/html": [
       "<pre>| 0       | 5.55556           | Not Viable                               |</pre>"
      ],
      "text/plain": [
       "| 0       | 5.55556           | Not Viable                               |"
      ]
     },
     "metadata": {},
     "output_type": "display_data"
    },
    {
     "data": {
      "text/html": [
       "<pre>| 1       | 1.38889           | Not Viable                               |</pre>"
      ],
      "text/plain": [
       "| 1       | 1.38889           | Not Viable                               |"
      ]
     },
     "metadata": {},
     "output_type": "display_data"
    },
    {
     "data": {
      "text/html": [
       "<pre>| 2       | 0.347222          | Not Viable                               |</pre>"
      ],
      "text/plain": [
       "| 2       | 0.347222          | Not Viable                               |"
      ]
     },
     "metadata": {},
     "output_type": "display_data"
    },
    {
     "data": {
      "text/html": [
       "<pre>| 3       | 0.0868056         | 1.56668                                  |</pre>"
      ],
      "text/plain": [
       "| 3       | 0.0868056         | 1.56668                                  |"
      ]
     },
     "metadata": {},
     "output_type": "display_data"
    },
    {
     "data": {
      "text/html": [
       "<pre>| 4       | 0.0434028         | 2.05017                                  |</pre>"
      ],
      "text/plain": [
       "| 4       | 0.0434028         | 2.05017                                  |"
      ]
     },
     "metadata": {},
     "output_type": "display_data"
    },
    {
     "data": {
      "text/html": [
       "<pre>| 5       | 0.0217014         | 3.23899                                  |</pre>"
      ],
      "text/plain": [
       "| 5       | 0.0217014         | 3.23899                                  |"
      ]
     },
     "metadata": {},
     "output_type": "display_data"
    },
    {
     "data": {
      "text/html": [
       "<pre>+---------+-------------------+------------------------------------------+</pre>"
      ],
      "text/plain": [
       "+---------+-------------------+------------------------------------------+"
      ]
     },
     "metadata": {},
     "output_type": "display_data"
    },
    {
     "data": {
      "text/html": [
       "<pre>| Final   | 0.0868056         | 1.56668                                  |</pre>"
      ],
      "text/plain": [
       "| Final   | 0.0868056         | 1.56668                                  |"
      ]
     },
     "metadata": {},
     "output_type": "display_data"
    },
    {
     "data": {
      "text/html": [
       "<pre>+---------+-------------------+------------------------------------------+</pre>"
      ],
      "text/plain": [
       "+---------+-------------------+------------------------------------------+"
      ]
     },
     "metadata": {},
     "output_type": "display_data"
    },
    {
     "data": {
      "text/html": [
       "<pre>Starting Optimization.</pre>"
      ],
      "text/plain": [
       "Starting Optimization."
      ]
     },
     "metadata": {},
     "output_type": "display_data"
    },
    {
     "data": {
      "text/html": [
       "<pre>+---------+--------------+-------------------+-----------------------+-------------+</pre>"
      ],
      "text/plain": [
       "+---------+--------------+-------------------+-----------------------+-------------+"
      ]
     },
     "metadata": {},
     "output_type": "display_data"
    },
    {
     "data": {
      "text/html": [
       "<pre>| Iter.   | Elapsed Time | Approx. Objective | Approx. Training RMSE | Step Size   |</pre>"
      ],
      "text/plain": [
       "| Iter.   | Elapsed Time | Approx. Objective | Approx. Training RMSE | Step Size   |"
      ]
     },
     "metadata": {},
     "output_type": "display_data"
    },
    {
     "data": {
      "text/html": [
       "<pre>+---------+--------------+-------------------+-----------------------+-------------+</pre>"
      ],
      "text/plain": [
       "+---------+--------------+-------------------+-----------------------+-------------+"
      ]
     },
     "metadata": {},
     "output_type": "display_data"
    },
    {
     "data": {
      "text/html": [
       "<pre>| Initial | 194us        | 4.54328           | 2.1315                |             |</pre>"
      ],
      "text/plain": [
       "| Initial | 194us        | 4.54328           | 2.1315                |             |"
      ]
     },
     "metadata": {},
     "output_type": "display_data"
    },
    {
     "data": {
      "text/html": [
       "<pre>+---------+--------------+-------------------+-----------------------+-------------+</pre>"
      ],
      "text/plain": [
       "+---------+--------------+-------------------+-----------------------+-------------+"
      ]
     },
     "metadata": {},
     "output_type": "display_data"
    },
    {
     "data": {
      "text/html": [
       "<pre>| 1       | 240.92ms     | 4.37119           | 2.09072               | 0.0868056   |</pre>"
      ],
      "text/plain": [
       "| 1       | 240.92ms     | 4.37119           | 2.09072               | 0.0868056   |"
      ]
     },
     "metadata": {},
     "output_type": "display_data"
    },
    {
     "data": {
      "text/html": [
       "<pre>| 2       | 394.357ms    | 3.21557           | 1.79318               | 0.0868056   |</pre>"
      ],
      "text/plain": [
       "| 2       | 394.357ms    | 3.21557           | 1.79318               | 0.0868056   |"
      ]
     },
     "metadata": {},
     "output_type": "display_data"
    },
    {
     "data": {
      "text/html": [
       "<pre>| 3       | 570.799ms    | 2.34373           | 1.53089               | 0.0868056   |</pre>"
      ],
      "text/plain": [
       "| 3       | 570.799ms    | 2.34373           | 1.53089               | 0.0868056   |"
      ]
     },
     "metadata": {},
     "output_type": "display_data"
    },
    {
     "data": {
      "text/html": [
       "<pre>| 4       | 710.548ms    | 1.71776           | 1.31059               | 0.0868056   |</pre>"
      ],
      "text/plain": [
       "| 4       | 710.548ms    | 1.71776           | 1.31059               | 0.0868056   |"
      ]
     },
     "metadata": {},
     "output_type": "display_data"
    },
    {
     "data": {
      "text/html": [
       "<pre>| 5       | 808.914ms    | 1.29278           | 1.13695               | 0.0868056   |</pre>"
      ],
      "text/plain": [
       "| 5       | 808.914ms    | 1.29278           | 1.13695               | 0.0868056   |"
      ]
     },
     "metadata": {},
     "output_type": "display_data"
    },
    {
     "data": {
      "text/html": [
       "<pre>| 6       | 887.623ms    | 1.0056            | 1.00273               | 0.0868056   |</pre>"
      ],
      "text/plain": [
       "| 6       | 887.623ms    | 1.0056            | 1.00273               | 0.0868056   |"
      ]
     },
     "metadata": {},
     "output_type": "display_data"
    },
    {
     "data": {
      "text/html": [
       "<pre>| 10      | 1.19s        | 0.426159          | 0.652679              | 0.0868056   |</pre>"
      ],
      "text/plain": [
       "| 10      | 1.19s        | 0.426159          | 0.652679              | 0.0868056   |"
      ]
     },
     "metadata": {},
     "output_type": "display_data"
    },
    {
     "data": {
      "text/html": [
       "<pre>| 11      | 1.27s        | 0.359798          | 0.599687              | 0.0868056   |</pre>"
      ],
      "text/plain": [
       "| 11      | 1.27s        | 0.359798          | 0.599687              | 0.0868056   |"
      ]
     },
     "metadata": {},
     "output_type": "display_data"
    },
    {
     "data": {
      "text/html": [
       "<pre>| 20      | 2.35s        | 0.144336          | 0.37966               | 0.0868056   |</pre>"
      ],
      "text/plain": [
       "| 20      | 2.35s        | 0.144336          | 0.37966               | 0.0868056   |"
      ]
     },
     "metadata": {},
     "output_type": "display_data"
    },
    {
     "data": {
      "text/html": [
       "<pre>| 30      | 3.88s        | 0.0927258         | 0.304176              | 0.0868056   |</pre>"
      ],
      "text/plain": [
       "| 30      | 3.88s        | 0.0927258         | 0.304176              | 0.0868056   |"
      ]
     },
     "metadata": {},
     "output_type": "display_data"
    },
    {
     "data": {
      "text/html": [
       "<pre>| 40      | 5.19s        | 0.0627754         | 0.250139              | 0.0868056   |</pre>"
      ],
      "text/plain": [
       "| 40      | 5.19s        | 0.0627754         | 0.250139              | 0.0868056   |"
      ]
     },
     "metadata": {},
     "output_type": "display_data"
    },
    {
     "data": {
      "text/html": [
       "<pre>| 50      | 6.03s        | 0.0516047         | 0.22671               | 0.0868056   |</pre>"
      ],
      "text/plain": [
       "| 50      | 6.03s        | 0.0516047         | 0.22671               | 0.0868056   |"
      ]
     },
     "metadata": {},
     "output_type": "display_data"
    },
    {
     "data": {
      "text/html": [
       "<pre>+---------+--------------+-------------------+-----------------------+-------------+</pre>"
      ],
      "text/plain": [
       "+---------+--------------+-------------------+-----------------------+-------------+"
      ]
     },
     "metadata": {},
     "output_type": "display_data"
    },
    {
     "data": {
      "text/html": [
       "<pre>Optimization Complete: Maximum number of passes through the data reached.</pre>"
      ],
      "text/plain": [
       "Optimization Complete: Maximum number of passes through the data reached."
      ]
     },
     "metadata": {},
     "output_type": "display_data"
    },
    {
     "data": {
      "text/html": [
       "<pre>Computing final objective value and training RMSE.</pre>"
      ],
      "text/plain": [
       "Computing final objective value and training RMSE."
      ]
     },
     "metadata": {},
     "output_type": "display_data"
    },
    {
     "data": {
      "text/html": [
       "<pre>       Final objective value: 0.0488329</pre>"
      ],
      "text/plain": [
       "       Final objective value: 0.0488329"
      ]
     },
     "metadata": {},
     "output_type": "display_data"
    },
    {
     "data": {
      "text/html": [
       "<pre>       Final training RMSE: 0.220512</pre>"
      ],
      "text/plain": [
       "       Final training RMSE: 0.220512"
      ]
     },
     "metadata": {},
     "output_type": "display_data"
    }
   ],
   "source": [
    "m = factorization_recommender.create(sf, user_id='userId', item_id='productId', target='rating',\\\n",
    "                                     user_data=user_info, item_data=item_info)"
   ]
  },
  {
   "cell_type": "code",
   "execution_count": 177,
   "metadata": {
    "collapsed": false
   },
   "outputs": [
    {
     "name": "stdout",
     "output_type": "stream",
     "text": [
      "Canvas is accessible via web browser at the URL: http://localhost:60407/index.html\n",
      "Opening Canvas in default web browser.\n"
     ]
    }
   ],
   "source": [
    "m.show()"
   ]
  },
  {
   "cell_type": "code",
   "execution_count": 188,
   "metadata": {
    "collapsed": true
   },
   "outputs": [],
   "source": [
    "import graphlab as gl\n",
    "from sklearn.decomposition import NMF\n",
    "import pandas as pd\n",
    "from nltk.corpus import stopwords\n",
    "from nltk.stem.snowball import SnowballStemmer\n",
    "from sklearn.feature_extraction.text import TfidfVectorizer, CountVectorizer\n",
    "from string import punctuation"
   ]
  },
  {
   "cell_type": "code",
   "execution_count": 195,
   "metadata": {
    "collapsed": false,
    "scrolled": true
   },
   "outputs": [],
   "source": [
    "def topics(n_topics):\n",
    "    corpus = []\n",
    "    stemmer = SnowballStemmer('english')\n",
    "    for prodId in df.productId.unique():\n",
    "        docs = []\n",
    "        for doc in df[df.productId == prodId].text:\n",
    "            if doc:\n",
    "                doc = ' '.join(stemmer.stem(word.strip(punctuation).lower()) \\\n",
    "                                                for word in doc.split())\n",
    "                docs.append(doc)\n",
    "        corpus.append(' '.join(docs))\n",
    "    tfidf_vectorizer = TfidfVectorizer(stop_words='english')\n",
    "    tfidf = tfidf_vectorizer.fit_transform(corpus)\n",
    "    nmf = NMF(n_components = n_topics).fit(tfidf)\n",
    "    n_topic_words = n_topics\n",
    "    for topic_idx, topic in enumerate(nmf.components_):\n",
    "        print 'Topic #{}:' .format(topic_idx)\n",
    "        print ' '.join([tfidf_vectorizer.get_feature_names()[i] for i \\\n",
    "                            in topic.argsort()[:-n_topic_words -1:-1]])\n",
    "        print()\n",
    "    return str(n_topics) + 'topics' "
   ]
  },
  {
   "cell_type": "code",
   "execution_count": 196,
   "metadata": {
    "collapsed": true
   },
   "outputs": [
    {
     "name": "stdout",
     "output_type": "stream",
     "text": [
      "Topic #0:\n",
      "product notic use day week work differ test feel ani strength booster gain\n",
      "()\n",
      "Topic #1:\n",
      "protein chocol mix milk whey powder vanilla tast shake flavor great best use\n",
      "()\n",
      "Topic #2:\n",
      "workout pre pump energi focus scoop feel preworkout tri caffein great use c4\n",
      "()\n",
      "Topic #3:\n",
      "bar protein tast chocol quest eat like snack good textur cooki flavor chewi\n",
      "()\n",
      "Topic #4:\n",
      "vitamin multi multivitamin pill day great price need swallow easi energi feel pak\n",
      "()\n",
      "Topic #5:\n",
      "sleep night wake zma asleep help dream feel fall rest bed hour melatonin\n",
      "()\n",
      "Topic #6:\n",
      "bcaa workout recoveri amino glutamin product great post use help sore dure mix\n",
      "()\n",
      "Topic #7:\n",
      "tast flavor like mix good water tri drink bad just scoop realli pretti\n",
      "()\n",
      "Topic #8:\n",
      "fish oil burp omega fishi dha epa pill cla great softgel high supplement\n",
      "()\n",
      "Topic #9:\n",
      "creatin mix unflavor strength monohydr gain water shake price use notic muscl mono\n",
      "()\n",
      "Topic #10:\n",
      "product good great veri price work excel qualiti recommend use cheap best high\n",
      "()\n",
      "Topic #11:\n",
      "fat energi burner cla help weight loss appetit work product day burn diet\n",
      "()\n",
      "Topic #12:\n",
      "gainer mass gain weight muscl calori scoop carb pound lean serv use shake\n",
      "()\n"
     ]
    },
    {
     "data": {
      "text/plain": [
       "'13topics'"
      ]
     },
     "execution_count": 196,
     "metadata": {},
     "output_type": "execute_result"
    }
   ],
   "source": [
    "topics(13)"
   ]
  },
  {
   "cell_type": "code",
   "execution_count": 197,
   "metadata": {
    "collapsed": true
   },
   "outputs": [
    {
     "name": "stdout",
     "output_type": "stream",
     "text": [
      "Topic #0:\n",
      "product notic week day use differ test work feel booster strength ani gain increas\n",
      "()\n",
      "Topic #1:\n",
      "protein chocol mix milk whey powder tast vanilla shake flavor great best tri use\n",
      "()\n",
      "Topic #2:\n",
      "workout pre pump energi focus scoop feel preworkout tri caffein use c4 like gym\n",
      "()\n",
      "Topic #3:\n",
      "bar protein tast chocol quest eat like snack textur cooki flavor chewi great tri\n",
      "()\n",
      "Topic #4:\n",
      "vitamin multi multivitamin pill day need swallow great easi feel price pak energi best\n",
      "()\n",
      "Topic #5:\n",
      "sleep night wake zma asleep help dream feel fall rest bed hour melatonin deep\n",
      "()\n",
      "Topic #6:\n",
      "bcaa workout recoveri amino glutamin post sore help dure mix use muscl day drink\n",
      "()\n",
      "Topic #7:\n",
      "tast flavor like mix water drink tri just bad scoop sweet don realli green\n",
      "()\n",
      "Topic #8:\n",
      "fish oil burp omega fishi dha epa pill cla softgel high tast supplement qualiti\n",
      "()\n",
      "Topic #9:\n",
      "creatin mix unflavor strength monohydr gain water shake price notic muscl mono use creapur\n",
      "()\n",
      "Topic #10:\n",
      "good veri price product pretti qualiti energi realli buy bought valu compar labrada anyth\n",
      "()\n",
      "Topic #11:\n",
      "fat energi burner cla weight help loss appetit day burn diet feel work lost\n",
      "()\n",
      "Topic #12:\n",
      "gainer mass gain weight muscl scoop calori carb pound lean serv use shake milk\n",
      "()\n",
      "Topic #13:\n",
      "product great work recommend excel use best high qualiti price result cheap super love\n",
      "()\n"
     ]
    },
    {
     "data": {
      "text/plain": [
       "'14topics'"
      ]
     },
     "execution_count": 197,
     "metadata": {},
     "output_type": "execute_result"
    }
   ],
   "source": [
    "topics(14)"
   ]
  },
  {
   "cell_type": "code",
   "execution_count": 198,
   "metadata": {
    "collapsed": true
   },
   "outputs": [
    {
     "name": "stdout",
     "output_type": "stream",
     "text": [
      "Topic #0:\n",
      "product notic day week use test differ work feel booster ani gain strength increas bottl\n",
      "()\n",
      "Topic #1:\n",
      "protein chocol mix milk whey powder vanilla tast shake flavor great best use tri love\n",
      "()\n",
      "Topic #2:\n",
      "pump workout pre scoop focus tri preworkout c4 best like beta use feel alanin gym\n",
      "()\n",
      "Topic #3:\n",
      "bar protein tast chocol quest eat like snack textur cooki flavor chewi great tri peanut\n",
      "()\n",
      "Topic #4:\n",
      "vitamin multi multivitamin pill day swallow need easi price great pak best feel onli miner\n",
      "()\n",
      "Topic #5:\n",
      "sleep night wake zma asleep help dream feel fall rest bed melatonin deep hour befor\n",
      "()\n",
      "Topic #6:\n",
      "bcaa workout recoveri amino glutamin post sore help dure mix use muscl supplement drink day\n",
      "()\n",
      "Topic #7:\n",
      "tast flavor like mix tri water just bad drink scoop don sweet realli green horribl\n",
      "()\n",
      "Topic #8:\n",
      "fish oil burp omega fishi dha epa pill softgel cla high tast supplement qualiti swallow\n",
      "()\n",
      "Topic #9:\n",
      "creatin mix unflavor strength monohydr gain water shake price notic muscl mono use creapur load\n",
      "()\n",
      "Topic #10:\n",
      "product great work recommend excel use best qualiti high result price cheap love super definit\n",
      "()\n",
      "Topic #11:\n",
      "energi workout caffein feel focus boost pre work day drink jitter morn crash jitteri need\n",
      "()\n",
      "Topic #12:\n",
      "gainer mass gain weight muscl calori scoop pound carb serv lean use shake milk bulk\n",
      "()\n",
      "Topic #13:\n",
      "good veri price product qualiti pretti realli buy compar valu bought labrada anyth overal bit\n",
      "()\n",
      "Topic #14:\n",
      "fat cla burner help weight loss diet appetit product carnitin burn lost bodi result lose\n",
      "()\n"
     ]
    },
    {
     "data": {
      "text/plain": [
       "'15topics'"
      ]
     },
     "execution_count": 198,
     "metadata": {},
     "output_type": "execute_result"
    }
   ],
   "source": [
    "topics(15)"
   ]
  },
  {
   "cell_type": "code",
   "execution_count": 394,
   "metadata": {
    "collapsed": false,
    "scrolled": true
   },
   "outputs": [
    {
     "data": {
      "text/html": [
       "<div style=\"max-height:1000px;max-width:1500px;overflow:auto;\"><table frame=\"box\" rules=\"cols\">\n",
       "    <tr>\n",
       "        <th style=\"padding-left: 1em; padding-right: 1em; text-align: center\">userId</th>\n",
       "        <th style=\"padding-left: 1em; padding-right: 1em; text-align: center\">productId</th>\n",
       "        <th style=\"padding-left: 1em; padding-right: 1em; text-align: center\">score</th>\n",
       "        <th style=\"padding-left: 1em; padding-right: 1em; text-align: center\">rank</th>\n",
       "    </tr>\n",
       "    <tr>\n",
       "        <td style=\"padding-left: 1em; padding-right: 1em; text-align: center; vertical-align: top\">14999999</td>\n",
       "        <td style=\"padding-left: 1em; padding-right: 1em; text-align: center; vertical-align: top\">prod2720004</td>\n",
       "        <td style=\"padding-left: 1em; padding-right: 1em; text-align: center; vertical-align: top\">11.9986316043</td>\n",
       "        <td style=\"padding-left: 1em; padding-right: 1em; text-align: center; vertical-align: top\">1</td>\n",
       "    </tr>\n",
       "    <tr>\n",
       "        <td style=\"padding-left: 1em; padding-right: 1em; text-align: center; vertical-align: top\">14999999</td>\n",
       "        <td style=\"padding-left: 1em; padding-right: 1em; text-align: center; vertical-align: top\">29324</td>\n",
       "        <td style=\"padding-left: 1em; padding-right: 1em; text-align: center; vertical-align: top\">11.5165574926</td>\n",
       "        <td style=\"padding-left: 1em; padding-right: 1em; text-align: center; vertical-align: top\">2</td>\n",
       "    </tr>\n",
       "    <tr>\n",
       "        <td style=\"padding-left: 1em; padding-right: 1em; text-align: center; vertical-align: top\">14999999</td>\n",
       "        <td style=\"padding-left: 1em; padding-right: 1em; text-align: center; vertical-align: top\">prod3720069</td>\n",
       "        <td style=\"padding-left: 1em; padding-right: 1em; text-align: center; vertical-align: top\">10.9748120236</td>\n",
       "        <td style=\"padding-left: 1em; padding-right: 1em; text-align: center; vertical-align: top\">3</td>\n",
       "    </tr>\n",
       "    <tr>\n",
       "        <td style=\"padding-left: 1em; padding-right: 1em; text-align: center; vertical-align: top\">14999999</td>\n",
       "        <td style=\"padding-left: 1em; padding-right: 1em; text-align: center; vertical-align: top\">25218</td>\n",
       "        <td style=\"padding-left: 1em; padding-right: 1em; text-align: center; vertical-align: top\">10.3787223923</td>\n",
       "        <td style=\"padding-left: 1em; padding-right: 1em; text-align: center; vertical-align: top\">4</td>\n",
       "    </tr>\n",
       "    <tr>\n",
       "        <td style=\"padding-left: 1em; padding-right: 1em; text-align: center; vertical-align: top\">14999999</td>\n",
       "        <td style=\"padding-left: 1em; padding-right: 1em; text-align: center; vertical-align: top\">prod3670019</td>\n",
       "        <td style=\"padding-left: 1em; padding-right: 1em; text-align: center; vertical-align: top\">10.3643848675</td>\n",
       "        <td style=\"padding-left: 1em; padding-right: 1em; text-align: center; vertical-align: top\">5</td>\n",
       "    </tr>\n",
       "    <tr>\n",
       "        <td style=\"padding-left: 1em; padding-right: 1em; text-align: center; vertical-align: top\">14999999</td>\n",
       "        <td style=\"padding-left: 1em; padding-right: 1em; text-align: center; vertical-align: top\">28280</td>\n",
       "        <td style=\"padding-left: 1em; padding-right: 1em; text-align: center; vertical-align: top\">10.2900598573</td>\n",
       "        <td style=\"padding-left: 1em; padding-right: 1em; text-align: center; vertical-align: top\">6</td>\n",
       "    </tr>\n",
       "    <tr>\n",
       "        <td style=\"padding-left: 1em; padding-right: 1em; text-align: center; vertical-align: top\">14999999</td>\n",
       "        <td style=\"padding-left: 1em; padding-right: 1em; text-align: center; vertical-align: top\">27837</td>\n",
       "        <td style=\"padding-left: 1em; padding-right: 1em; text-align: center; vertical-align: top\">10.2511611062</td>\n",
       "        <td style=\"padding-left: 1em; padding-right: 1em; text-align: center; vertical-align: top\">7</td>\n",
       "    </tr>\n",
       "    <tr>\n",
       "        <td style=\"padding-left: 1em; padding-right: 1em; text-align: center; vertical-align: top\">14999999</td>\n",
       "        <td style=\"padding-left: 1em; padding-right: 1em; text-align: center; vertical-align: top\">prod4030010</td>\n",
       "        <td style=\"padding-left: 1em; padding-right: 1em; text-align: center; vertical-align: top\">9.97214020024</td>\n",
       "        <td style=\"padding-left: 1em; padding-right: 1em; text-align: center; vertical-align: top\">8</td>\n",
       "    </tr>\n",
       "    <tr>\n",
       "        <td style=\"padding-left: 1em; padding-right: 1em; text-align: center; vertical-align: top\">14999999</td>\n",
       "        <td style=\"padding-left: 1em; padding-right: 1em; text-align: center; vertical-align: top\">prod1830058</td>\n",
       "        <td style=\"padding-left: 1em; padding-right: 1em; text-align: center; vertical-align: top\">9.90689162191</td>\n",
       "        <td style=\"padding-left: 1em; padding-right: 1em; text-align: center; vertical-align: top\">9</td>\n",
       "    </tr>\n",
       "    <tr>\n",
       "        <td style=\"padding-left: 1em; padding-right: 1em; text-align: center; vertical-align: top\">14999999</td>\n",
       "        <td style=\"padding-left: 1em; padding-right: 1em; text-align: center; vertical-align: top\">prod2150018</td>\n",
       "        <td style=\"padding-left: 1em; padding-right: 1em; text-align: center; vertical-align: top\">9.88391724255</td>\n",
       "        <td style=\"padding-left: 1em; padding-right: 1em; text-align: center; vertical-align: top\">10</td>\n",
       "    </tr>\n",
       "</table>\n",
       "[10 rows x 4 columns]<br/>\n",
       "</div>"
      ],
      "text/plain": [
       "Columns:\n",
       "\tuserId\tint\n",
       "\tproductId\tstr\n",
       "\tscore\tfloat\n",
       "\trank\tint\n",
       "\n",
       "Rows: 10\n",
       "\n",
       "Data:\n",
       "+----------+-------------+---------------+------+\n",
       "|  userId  |  productId  |     score     | rank |\n",
       "+----------+-------------+---------------+------+\n",
       "| 14999999 | prod2720004 | 11.9986316043 |  1   |\n",
       "| 14999999 |    29324    | 11.5165574926 |  2   |\n",
       "| 14999999 | prod3720069 | 10.9748120236 |  3   |\n",
       "| 14999999 |    25218    | 10.3787223923 |  4   |\n",
       "| 14999999 | prod3670019 | 10.3643848675 |  5   |\n",
       "| 14999999 |    28280    | 10.2900598573 |  6   |\n",
       "| 14999999 |    27837    | 10.2511611062 |  7   |\n",
       "| 14999999 | prod4030010 | 9.97214020024 |  8   |\n",
       "| 14999999 | prod1830058 | 9.90689162191 |  9   |\n",
       "| 14999999 | prod2150018 | 9.88391724255 |  10  |\n",
       "+----------+-------------+---------------+------+\n",
       "[10 rows x 4 columns]"
      ]
     },
     "execution_count": 394,
     "metadata": {},
     "output_type": "execute_result"
    }
   ],
   "source": [
    "recent_data = gl.SFrame({'userId':[14999999], 'productId':['23899'], 'rating':[1], 'username':['idk'], 'height': [68], 'weight': [390], 'bodyfat': [42]})\n",
    "\n",
    "m.recommend(users=[14999999], new_observation_data=recent_data)"
   ]
  },
  {
   "cell_type": "code",
   "execution_count": 395,
   "metadata": {
    "collapsed": false
   },
   "outputs": [
    {
     "data": {
      "text/html": [
       "<div>\n",
       "<table border=\"1\" class=\"dataframe\">\n",
       "  <thead>\n",
       "    <tr style=\"text-align: right;\">\n",
       "      <th></th>\n",
       "      <th>brandName</th>\n",
       "      <th>brandId</th>\n",
       "      <th>name</th>\n",
       "      <th>productId</th>\n",
       "      <th>username</th>\n",
       "      <th>userId</th>\n",
       "      <th>_id</th>\n",
       "      <th>height</th>\n",
       "      <th>weight</th>\n",
       "      <th>bodyfat</th>\n",
       "      <th>totalItems</th>\n",
       "      <th>text</th>\n",
       "      <th>date</th>\n",
       "      <th>modDate</th>\n",
       "      <th>slug</th>\n",
       "      <th>verifiedBuyerRating</th>\n",
       "      <th>description</th>\n",
       "      <th>updateStatusReason</th>\n",
       "      <th>rating</th>\n",
       "    </tr>\n",
       "  </thead>\n",
       "  <tbody>\n",
       "    <tr>\n",
       "      <th>14489</th>\n",
       "      <td>Miracle Noodle</td>\n",
       "      <td>cat1840001</td>\n",
       "      <td>Angel Hair</td>\n",
       "      <td>prod2720004</td>\n",
       "      <td>spacejim67</td>\n",
       "      <td>57009792</td>\n",
       "      <td>573d267c0cf223211f76869a</td>\n",
       "      <td>70.0</td>\n",
       "      <td>191.0</td>\n",
       "      <td>12.8</td>\n",
       "      <td>None</td>\n",
       "      <td>So I gave this a ten because, it had no bad sm...</td>\n",
       "      <td>{u'$numberLong': u'1463625340000'}</td>\n",
       "      <td>{u'$numberLong': u'1463625340000'}</td>\n",
       "      <td>spacejim67</td>\n",
       "      <td>7.0</td>\n",
       "      <td>Low Calorie, Soy Free, Gluten Free, Vegan, Non...</td>\n",
       "      <td>None</td>\n",
       "      <td>10.0</td>\n",
       "    </tr>\n",
       "    <tr>\n",
       "      <th>14490</th>\n",
       "      <td>Miracle Noodle</td>\n",
       "      <td>cat1840001</td>\n",
       "      <td>Angel Hair</td>\n",
       "      <td>prod2720004</td>\n",
       "      <td>kimberlygorgone</td>\n",
       "      <td>123245611</td>\n",
       "      <td>568eef0d0cf2b1f59d30c8c8</td>\n",
       "      <td>69.0</td>\n",
       "      <td>188.0</td>\n",
       "      <td>25.5</td>\n",
       "      <td>None</td>\n",
       "      <td>Do not buy this!!!! It's like chewing a rubber...</td>\n",
       "      <td>{u'$numberLong': u'1452207885000'}</td>\n",
       "      <td>{u'$numberLong': u'1452207885000'}</td>\n",
       "      <td>kimberlygorgone</td>\n",
       "      <td>7.0</td>\n",
       "      <td>Low Calorie, Soy Free, Gluten Free, Vegan, Non...</td>\n",
       "      <td>None</td>\n",
       "      <td>1.0</td>\n",
       "    </tr>\n",
       "    <tr>\n",
       "      <th>14491</th>\n",
       "      <td>Miracle Noodle</td>\n",
       "      <td>cat1840001</td>\n",
       "      <td>Angel Hair</td>\n",
       "      <td>prod2720004</td>\n",
       "      <td>Brit0Brit0</td>\n",
       "      <td>104394142</td>\n",
       "      <td>55d869220cf2153e8e940538</td>\n",
       "      <td>71.0</td>\n",
       "      <td>198.0</td>\n",
       "      <td>11.0</td>\n",
       "      <td>None</td>\n",
       "      <td>One of the best things I could have purchased....</td>\n",
       "      <td>{u'$numberLong': u'1440246050000'}</td>\n",
       "      <td>{u'$numberLong': u'1440246050000'}</td>\n",
       "      <td>Brit0Brit0</td>\n",
       "      <td>7.0</td>\n",
       "      <td>Low Calorie, Soy Free, Gluten Free, Vegan, Non...</td>\n",
       "      <td>None</td>\n",
       "      <td>10.0</td>\n",
       "    </tr>\n",
       "  </tbody>\n",
       "</table>\n",
       "</div>"
      ],
      "text/plain": [
       "            brandName     brandId        name    productId         username  \\\n",
       "14489  Miracle Noodle  cat1840001  Angel Hair  prod2720004       spacejim67   \n",
       "14490  Miracle Noodle  cat1840001  Angel Hair  prod2720004  kimberlygorgone   \n",
       "14491  Miracle Noodle  cat1840001  Angel Hair  prod2720004       Brit0Brit0   \n",
       "\n",
       "          userId                       _id  height  weight  bodyfat  \\\n",
       "14489   57009792  573d267c0cf223211f76869a    70.0   191.0     12.8   \n",
       "14490  123245611  568eef0d0cf2b1f59d30c8c8    69.0   188.0     25.5   \n",
       "14491  104394142  55d869220cf2153e8e940538    71.0   198.0     11.0   \n",
       "\n",
       "      totalItems                                               text  \\\n",
       "14489       None  So I gave this a ten because, it had no bad sm...   \n",
       "14490       None  Do not buy this!!!! It's like chewing a rubber...   \n",
       "14491       None  One of the best things I could have purchased....   \n",
       "\n",
       "                                     date                             modDate  \\\n",
       "14489  {u'$numberLong': u'1463625340000'}  {u'$numberLong': u'1463625340000'}   \n",
       "14490  {u'$numberLong': u'1452207885000'}  {u'$numberLong': u'1452207885000'}   \n",
       "14491  {u'$numberLong': u'1440246050000'}  {u'$numberLong': u'1440246050000'}   \n",
       "\n",
       "                  slug  verifiedBuyerRating  \\\n",
       "14489       spacejim67                  7.0   \n",
       "14490  kimberlygorgone                  7.0   \n",
       "14491       Brit0Brit0                  7.0   \n",
       "\n",
       "                                             description updateStatusReason  \\\n",
       "14489  Low Calorie, Soy Free, Gluten Free, Vegan, Non...               None   \n",
       "14490  Low Calorie, Soy Free, Gluten Free, Vegan, Non...               None   \n",
       "14491  Low Calorie, Soy Free, Gluten Free, Vegan, Non...               None   \n",
       "\n",
       "       rating  \n",
       "14489    10.0  \n",
       "14490     1.0  \n",
       "14491    10.0  "
      ]
     },
     "execution_count": 395,
     "metadata": {},
     "output_type": "execute_result"
    }
   ],
   "source": [
    "df[df.productId == 'prod2720004']"
   ]
  },
  {
   "cell_type": "code",
   "execution_count": 376,
   "metadata": {
    "collapsed": false
   },
   "outputs": [],
   "source": [
    "prod_drop = df.copy()\n",
    "prod_drop = prod_drop[['productId','brandName', 'name']]\n",
    "prod_drop.drop_duplicates(inplace=True)"
   ]
  },
  {
   "cell_type": "code",
   "execution_count": 387,
   "metadata": {
    "collapsed": false
   },
   "outputs": [],
   "source": [
    "prod_drop['drop_down'] = prod_drop.brandName + ' ' + prod_drop.name"
   ]
  },
  {
   "cell_type": "code",
   "execution_count": 390,
   "metadata": {
    "collapsed": false
   },
   "outputs": [],
   "source": [
    "prod_drop.drop(['brandName', 'name'], axis=1, inplace=True)"
   ]
  },
  {
   "cell_type": "code",
   "execution_count": 392,
   "metadata": {
    "collapsed": false
   },
   "outputs": [],
   "source": [
    "prod_drop.to_pickle('rateaproduct.pkl')"
   ]
  },
  {
   "cell_type": "code",
   "execution_count": null,
   "metadata": {
    "collapsed": true
   },
   "outputs": [],
   "source": []
  }
 ],
 "metadata": {
  "anaconda-cloud": {},
  "kernelspec": {
   "display_name": "Python [Root]",
   "language": "python",
   "name": "Python [Root]"
  },
  "language_info": {
   "codemirror_mode": {
    "name": "ipython",
    "version": 2
   },
   "file_extension": ".py",
   "mimetype": "text/x-python",
   "name": "python",
   "nbconvert_exporter": "python",
   "pygments_lexer": "ipython2",
   "version": "2.7.12"
  }
 },
 "nbformat": 4,
 "nbformat_minor": 0
}
