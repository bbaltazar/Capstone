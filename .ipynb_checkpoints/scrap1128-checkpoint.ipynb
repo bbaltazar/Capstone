{
 "cells": [
  {
   "cell_type": "code",
   "execution_count": 129,
   "metadata": {
    "collapsed": false
   },
   "outputs": [],
   "source": [
    "import pandas as pd"
   ]
  },
  {
   "cell_type": "code",
   "execution_count": 161,
   "metadata": {
    "collapsed": true
   },
   "outputs": [],
   "source": [
    "import graphlab as gl"
   ]
  },
  {
   "cell_type": "code",
   "execution_count": 165,
   "metadata": {
    "collapsed": false
   },
   "outputs": [],
   "source": [
    "from graphlab.toolkits.recommender import factorization_recommender"
   ]
  },
  {
   "cell_type": "code",
   "execution_count": 133,
   "metadata": {
    "collapsed": false
   },
   "outputs": [],
   "source": [
    "df = pd.read_pickle('reviews.pkl')"
   ]
  },
  {
   "cell_type": "markdown",
   "metadata": {},
   "source": [
    "First Model trained is simply checking to root mean squared error on the SFrame based solely on user, generalizing item by brand, and included what they rated it. Base RMSE found to be 0.95111"
   ]
  },
  {
   "cell_type": "code",
   "execution_count": 114,
   "metadata": {
    "collapsed": false,
    "scrolled": true
   },
   "outputs": [
    {
     "name": "stdout",
     "output_type": "stream",
     "text": [
      "This non-commercial license of GraphLab Create for academic use is assigned to bta.baltazar@gmail.com and will expire on October 21, 2017.\n"
     ]
    },
    {
     "name": "stderr",
     "output_type": "stream",
     "text": [
      "[INFO] graphlab.cython.cy_server: GraphLab Create v2.1 started. Logging: /tmp/graphlab_server_1480121902.log\n"
     ]
    },
    {
     "data": {
      "text/html": [
       "<pre>Recsys training: model = ranking_factorization_recommender</pre>"
      ],
      "text/plain": [
       "Recsys training: model = ranking_factorization_recommender"
      ]
     },
     "metadata": {},
     "output_type": "display_data"
    },
    {
     "data": {
      "text/html": [
       "<pre>Preparing data set.</pre>"
      ],
      "text/plain": [
       "Preparing data set."
      ]
     },
     "metadata": {},
     "output_type": "display_data"
    },
    {
     "data": {
      "text/html": [
       "<pre>    Data has 67514 observations with 41069 users and 392 items.</pre>"
      ],
      "text/plain": [
       "    Data has 67514 observations with 41069 users and 392 items."
      ]
     },
     "metadata": {},
     "output_type": "display_data"
    },
    {
     "data": {
      "text/html": [
       "<pre>    Data prepared in: 0.539759s</pre>"
      ],
      "text/plain": [
       "    Data prepared in: 0.539759s"
      ]
     },
     "metadata": {},
     "output_type": "display_data"
    },
    {
     "data": {
      "text/html": [
       "<pre>Training ranking_factorization_recommender for recommendations.</pre>"
      ],
      "text/plain": [
       "Training ranking_factorization_recommender for recommendations."
      ]
     },
     "metadata": {},
     "output_type": "display_data"
    },
    {
     "data": {
      "text/html": [
       "<pre>+--------------------------------+--------------------------------------------------+----------+</pre>"
      ],
      "text/plain": [
       "+--------------------------------+--------------------------------------------------+----------+"
      ]
     },
     "metadata": {},
     "output_type": "display_data"
    },
    {
     "data": {
      "text/html": [
       "<pre>| Parameter                      | Description                                      | Value    |</pre>"
      ],
      "text/plain": [
       "| Parameter                      | Description                                      | Value    |"
      ]
     },
     "metadata": {},
     "output_type": "display_data"
    },
    {
     "data": {
      "text/html": [
       "<pre>+--------------------------------+--------------------------------------------------+----------+</pre>"
      ],
      "text/plain": [
       "+--------------------------------+--------------------------------------------------+----------+"
      ]
     },
     "metadata": {},
     "output_type": "display_data"
    },
    {
     "data": {
      "text/html": [
       "<pre>| num_factors                    | Factor Dimension                                 | 32       |</pre>"
      ],
      "text/plain": [
       "| num_factors                    | Factor Dimension                                 | 32       |"
      ]
     },
     "metadata": {},
     "output_type": "display_data"
    },
    {
     "data": {
      "text/html": [
       "<pre>| regularization                 | L2 Regularization on Factors                     | 1e-09    |</pre>"
      ],
      "text/plain": [
       "| regularization                 | L2 Regularization on Factors                     | 1e-09    |"
      ]
     },
     "metadata": {},
     "output_type": "display_data"
    },
    {
     "data": {
      "text/html": [
       "<pre>| solver                         | Solver used for training                         | sgd      |</pre>"
      ],
      "text/plain": [
       "| solver                         | Solver used for training                         | sgd      |"
      ]
     },
     "metadata": {},
     "output_type": "display_data"
    },
    {
     "data": {
      "text/html": [
       "<pre>| linear_regularization          | L2 Regularization on Linear Coefficients         | 1e-09    |</pre>"
      ],
      "text/plain": [
       "| linear_regularization          | L2 Regularization on Linear Coefficients         | 1e-09    |"
      ]
     },
     "metadata": {},
     "output_type": "display_data"
    },
    {
     "data": {
      "text/html": [
       "<pre>| ranking_regularization         | Rank-based Regularization Weight                 | 0.25     |</pre>"
      ],
      "text/plain": [
       "| ranking_regularization         | Rank-based Regularization Weight                 | 0.25     |"
      ]
     },
     "metadata": {},
     "output_type": "display_data"
    },
    {
     "data": {
      "text/html": [
       "<pre>| max_iterations                 | Maximum Number of Iterations                     | 25       |</pre>"
      ],
      "text/plain": [
       "| max_iterations                 | Maximum Number of Iterations                     | 25       |"
      ]
     },
     "metadata": {},
     "output_type": "display_data"
    },
    {
     "data": {
      "text/html": [
       "<pre>+--------------------------------+--------------------------------------------------+----------+</pre>"
      ],
      "text/plain": [
       "+--------------------------------+--------------------------------------------------+----------+"
      ]
     },
     "metadata": {},
     "output_type": "display_data"
    },
    {
     "data": {
      "text/html": [
       "<pre>  Optimizing model using SGD; tuning step size.</pre>"
      ],
      "text/plain": [
       "  Optimizing model using SGD; tuning step size."
      ]
     },
     "metadata": {},
     "output_type": "display_data"
    },
    {
     "data": {
      "text/html": [
       "<pre>  Using 10000 / 67514 points for tuning the step size.</pre>"
      ],
      "text/plain": [
       "  Using 10000 / 67514 points for tuning the step size."
      ]
     },
     "metadata": {},
     "output_type": "display_data"
    },
    {
     "data": {
      "text/html": [
       "<pre>+---------+-------------------+------------------------------------------+</pre>"
      ],
      "text/plain": [
       "+---------+-------------------+------------------------------------------+"
      ]
     },
     "metadata": {},
     "output_type": "display_data"
    },
    {
     "data": {
      "text/html": [
       "<pre>| Attempt | Initial Step Size | Estimated Objective Value                |</pre>"
      ],
      "text/plain": [
       "| Attempt | Initial Step Size | Estimated Objective Value                |"
      ]
     },
     "metadata": {},
     "output_type": "display_data"
    },
    {
     "data": {
      "text/html": [
       "<pre>+---------+-------------------+------------------------------------------+</pre>"
      ],
      "text/plain": [
       "+---------+-------------------+------------------------------------------+"
      ]
     },
     "metadata": {},
     "output_type": "display_data"
    },
    {
     "data": {
      "text/html": [
       "<pre>| 0       | 25                | Not Viable                               |</pre>"
      ],
      "text/plain": [
       "| 0       | 25                | Not Viable                               |"
      ]
     },
     "metadata": {},
     "output_type": "display_data"
    },
    {
     "data": {
      "text/html": [
       "<pre>| 1       | 6.25              | Not Viable                               |</pre>"
      ],
      "text/plain": [
       "| 1       | 6.25              | Not Viable                               |"
      ]
     },
     "metadata": {},
     "output_type": "display_data"
    },
    {
     "data": {
      "text/html": [
       "<pre>| 2       | 1.5625            | Not Viable                               |</pre>"
      ],
      "text/plain": [
       "| 2       | 1.5625            | Not Viable                               |"
      ]
     },
     "metadata": {},
     "output_type": "display_data"
    },
    {
     "data": {
      "text/html": [
       "<pre>| 3       | 0.390625          | Not Viable                               |</pre>"
      ],
      "text/plain": [
       "| 3       | 0.390625          | Not Viable                               |"
      ]
     },
     "metadata": {},
     "output_type": "display_data"
    },
    {
     "data": {
      "text/html": [
       "<pre>| 4       | 0.0976562         | 3.86508                                  |</pre>"
      ],
      "text/plain": [
       "| 4       | 0.0976562         | 3.86508                                  |"
      ]
     },
     "metadata": {},
     "output_type": "display_data"
    },
    {
     "data": {
      "text/html": [
       "<pre>| 5       | 0.0488281         | 5.44629                                  |</pre>"
      ],
      "text/plain": [
       "| 5       | 0.0488281         | 5.44629                                  |"
      ]
     },
     "metadata": {},
     "output_type": "display_data"
    },
    {
     "data": {
      "text/html": [
       "<pre>| 6       | 0.0244141         | 6.32479                                  |</pre>"
      ],
      "text/plain": [
       "| 6       | 0.0244141         | 6.32479                                  |"
      ]
     },
     "metadata": {},
     "output_type": "display_data"
    },
    {
     "data": {
      "text/html": [
       "<pre>| 7       | 0.012207          | 7.08025                                  |</pre>"
      ],
      "text/plain": [
       "| 7       | 0.012207          | 7.08025                                  |"
      ]
     },
     "metadata": {},
     "output_type": "display_data"
    },
    {
     "data": {
      "text/html": [
       "<pre>+---------+-------------------+------------------------------------------+</pre>"
      ],
      "text/plain": [
       "+---------+-------------------+------------------------------------------+"
      ]
     },
     "metadata": {},
     "output_type": "display_data"
    },
    {
     "data": {
      "text/html": [
       "<pre>| Final   | 0.0976562         | 3.86508                                  |</pre>"
      ],
      "text/plain": [
       "| Final   | 0.0976562         | 3.86508                                  |"
      ]
     },
     "metadata": {},
     "output_type": "display_data"
    },
    {
     "data": {
      "text/html": [
       "<pre>+---------+-------------------+------------------------------------------+</pre>"
      ],
      "text/plain": [
       "+---------+-------------------+------------------------------------------+"
      ]
     },
     "metadata": {},
     "output_type": "display_data"
    },
    {
     "data": {
      "text/html": [
       "<pre>Starting Optimization.</pre>"
      ],
      "text/plain": [
       "Starting Optimization."
      ]
     },
     "metadata": {},
     "output_type": "display_data"
    },
    {
     "data": {
      "text/html": [
       "<pre>+---------+--------------+-------------------+-----------------------+-------------+</pre>"
      ],
      "text/plain": [
       "+---------+--------------+-------------------+-----------------------+-------------+"
      ]
     },
     "metadata": {},
     "output_type": "display_data"
    },
    {
     "data": {
      "text/html": [
       "<pre>| Iter.   | Elapsed Time | Approx. Objective | Approx. Training RMSE | Step Size   |</pre>"
      ],
      "text/plain": [
       "| Iter.   | Elapsed Time | Approx. Objective | Approx. Training RMSE | Step Size   |"
      ]
     },
     "metadata": {},
     "output_type": "display_data"
    },
    {
     "data": {
      "text/html": [
       "<pre>+---------+--------------+-------------------+-----------------------+-------------+</pre>"
      ],
      "text/plain": [
       "+---------+--------------+-------------------+-----------------------+-------------+"
      ]
     },
     "metadata": {},
     "output_type": "display_data"
    },
    {
     "data": {
      "text/html": [
       "<pre>| Initial | 159us        | 9.2015            | 2.16641               |             |</pre>"
      ],
      "text/plain": [
       "| Initial | 159us        | 9.2015            | 2.16641               |             |"
      ]
     },
     "metadata": {},
     "output_type": "display_data"
    },
    {
     "data": {
      "text/html": [
       "<pre>+---------+--------------+-------------------+-----------------------+-------------+</pre>"
      ],
      "text/plain": [
       "+---------+--------------+-------------------+-----------------------+-------------+"
      ]
     },
     "metadata": {},
     "output_type": "display_data"
    },
    {
     "data": {
      "text/html": [
       "<pre>| 1       | 167.762ms    | 12.2226           | 3.2139                | 0.0976562   |</pre>"
      ],
      "text/plain": [
       "| 1       | 167.762ms    | 12.2226           | 3.2139                | 0.0976562   |"
      ]
     },
     "metadata": {},
     "output_type": "display_data"
    },
    {
     "data": {
      "text/html": [
       "<pre>| 2       | 375.187ms    | DIVERGED          | DIVERGED              | 0.0580668   |</pre>"
      ],
      "text/plain": [
       "| 2       | 375.187ms    | DIVERGED          | DIVERGED              | 0.0580668   |"
      ]
     },
     "metadata": {},
     "output_type": "display_data"
    },
    {
     "data": {
      "text/html": [
       "<pre>| RESET   | 586.547ms    | 9.20146           | 2.1664                |             |</pre>"
      ],
      "text/plain": [
       "| RESET   | 586.547ms    | 9.20146           | 2.1664                |             |"
      ]
     },
     "metadata": {},
     "output_type": "display_data"
    },
    {
     "data": {
      "text/html": [
       "<pre>| 1       | 921.088ms    | 7.16264           | 2.25971               | 0.0290334   |</pre>"
      ],
      "text/plain": [
       "| 1       | 921.088ms    | 7.16264           | 2.25971               | 0.0290334   |"
      ]
     },
     "metadata": {},
     "output_type": "display_data"
    },
    {
     "data": {
      "text/html": [
       "<pre>| 2       | 1.08s        | 6.46584           | 2.20564               | 0.0172633   |</pre>"
      ],
      "text/plain": [
       "| 2       | 1.08s        | 6.46584           | 2.20564               | 0.0172633   |"
      ]
     },
     "metadata": {},
     "output_type": "display_data"
    },
    {
     "data": {
      "text/html": [
       "<pre>| 3       | 1.41s        | 6.16767           | 2.1363                | 0.0127367   |</pre>"
      ],
      "text/plain": [
       "| 3       | 1.41s        | 6.16767           | 2.1363                | 0.0127367   |"
      ]
     },
     "metadata": {},
     "output_type": "display_data"
    },
    {
     "data": {
      "text/html": [
       "<pre>| 4       | 1.76s        | 5.79627           | 2.04536               | 0.0102648   |</pre>"
      ],
      "text/plain": [
       "| 4       | 1.76s        | 5.79627           | 2.04536               | 0.0102648   |"
      ]
     },
     "metadata": {},
     "output_type": "display_data"
    },
    {
     "data": {
      "text/html": [
       "<pre>| 5       | 1.93s        | 5.32714           | 1.92761               | 0.008683    |</pre>"
      ],
      "text/plain": [
       "| 5       | 1.93s        | 5.32714           | 1.92761               | 0.008683    |"
      ]
     },
     "metadata": {},
     "output_type": "display_data"
    },
    {
     "data": {
      "text/html": [
       "<pre>| 8       | 2.82s        | 4.04547           | 1.58002               | 0.00610352  |</pre>"
      ],
      "text/plain": [
       "| 8       | 2.82s        | 4.04547           | 1.58002               | 0.00610352  |"
      ]
     },
     "metadata": {},
     "output_type": "display_data"
    },
    {
     "data": {
      "text/html": [
       "<pre>| 10      | 3.20s        | 3.67643           | 1.4686                | 0.00516295  |</pre>"
      ],
      "text/plain": [
       "| 10      | 3.20s        | 3.67643           | 1.4686                | 0.00516295  |"
      ]
     },
     "metadata": {},
     "output_type": "display_data"
    },
    {
     "data": {
      "text/html": [
       "<pre>| 13      | 3.71s        | 3.13462           | 1.32525               | 0.00424072  |</pre>"
      ],
      "text/plain": [
       "| 13      | 3.71s        | 3.13462           | 1.32525               | 0.00424072  |"
      ]
     },
     "metadata": {},
     "output_type": "display_data"
    },
    {
     "data": {
      "text/html": [
       "<pre>| 18      | 4.52s        | 2.49541           | 1.1493                | 0.00332233  |</pre>"
      ],
      "text/plain": [
       "| 18      | 4.52s        | 2.49541           | 1.1493                | 0.00332233  |"
      ]
     },
     "metadata": {},
     "output_type": "display_data"
    },
    {
     "data": {
      "text/html": [
       "<pre>| 23      | 5.24s        | 2.08258           | 1.03863               | 0.00276441  |</pre>"
      ],
      "text/plain": [
       "| 23      | 5.24s        | 2.08258           | 1.03863               | 0.00276441  |"
      ]
     },
     "metadata": {},
     "output_type": "display_data"
    },
    {
     "data": {
      "text/html": [
       "<pre>+---------+--------------+-------------------+-----------------------+-------------+</pre>"
      ],
      "text/plain": [
       "+---------+--------------+-------------------+-----------------------+-------------+"
      ]
     },
     "metadata": {},
     "output_type": "display_data"
    },
    {
     "data": {
      "text/html": [
       "<pre>Optimization Complete: Maximum number of passes through the data reached.</pre>"
      ],
      "text/plain": [
       "Optimization Complete: Maximum number of passes through the data reached."
      ]
     },
     "metadata": {},
     "output_type": "display_data"
    },
    {
     "data": {
      "text/html": [
       "<pre>Computing final objective value and training RMSE.</pre>"
      ],
      "text/plain": [
       "Computing final objective value and training RMSE."
      ]
     },
     "metadata": {},
     "output_type": "display_data"
    },
    {
     "data": {
      "text/html": [
       "<pre>       Final objective value: 1.84137</pre>"
      ],
      "text/plain": [
       "       Final objective value: 1.84137"
      ]
     },
     "metadata": {},
     "output_type": "display_data"
    },
    {
     "data": {
      "text/html": [
       "<pre>       Final training RMSE: 0.95111</pre>"
      ],
      "text/plain": [
       "       Final training RMSE: 0.95111"
      ]
     },
     "metadata": {},
     "output_type": "display_data"
    }
   ],
   "source": [
    "sf = gl.SFrame(df[['userId', 'brandId', 'rating']])\n",
    "model = gl.toolkits.recommender.create(sf, user_id = 'userId', item_id='brandId', target='rating')"
   ]
  },
  {
   "cell_type": "markdown",
   "metadata": {},
   "source": [
    "Next model specified the item_id to be the exact product ID instead of brand ID and lowered the RMSE to 0.509202"
   ]
  },
  {
   "cell_type": "code",
   "execution_count": 175,
   "metadata": {
    "collapsed": false,
    "scrolled": true
   },
   "outputs": [
    {
     "data": {
      "text/html": [
       "<pre>Recsys training: model = ranking_factorization_recommender</pre>"
      ],
      "text/plain": [
       "Recsys training: model = ranking_factorization_recommender"
      ]
     },
     "metadata": {},
     "output_type": "display_data"
    },
    {
     "data": {
      "text/html": [
       "<pre>Preparing data set.</pre>"
      ],
      "text/plain": [
       "Preparing data set."
      ]
     },
     "metadata": {},
     "output_type": "display_data"
    },
    {
     "data": {
      "text/html": [
       "<pre>    Data has 67514 observations with 41069 users and 2496 items.</pre>"
      ],
      "text/plain": [
       "    Data has 67514 observations with 41069 users and 2496 items."
      ]
     },
     "metadata": {},
     "output_type": "display_data"
    },
    {
     "data": {
      "text/html": [
       "<pre>    Data prepared in: 0.304782s</pre>"
      ],
      "text/plain": [
       "    Data prepared in: 0.304782s"
      ]
     },
     "metadata": {},
     "output_type": "display_data"
    },
    {
     "data": {
      "text/html": [
       "<pre>Training ranking_factorization_recommender for recommendations.</pre>"
      ],
      "text/plain": [
       "Training ranking_factorization_recommender for recommendations."
      ]
     },
     "metadata": {},
     "output_type": "display_data"
    },
    {
     "data": {
      "text/html": [
       "<pre>+--------------------------------+--------------------------------------------------+----------+</pre>"
      ],
      "text/plain": [
       "+--------------------------------+--------------------------------------------------+----------+"
      ]
     },
     "metadata": {},
     "output_type": "display_data"
    },
    {
     "data": {
      "text/html": [
       "<pre>| Parameter                      | Description                                      | Value    |</pre>"
      ],
      "text/plain": [
       "| Parameter                      | Description                                      | Value    |"
      ]
     },
     "metadata": {},
     "output_type": "display_data"
    },
    {
     "data": {
      "text/html": [
       "<pre>+--------------------------------+--------------------------------------------------+----------+</pre>"
      ],
      "text/plain": [
       "+--------------------------------+--------------------------------------------------+----------+"
      ]
     },
     "metadata": {},
     "output_type": "display_data"
    },
    {
     "data": {
      "text/html": [
       "<pre>| num_factors                    | Factor Dimension                                 | 32       |</pre>"
      ],
      "text/plain": [
       "| num_factors                    | Factor Dimension                                 | 32       |"
      ]
     },
     "metadata": {},
     "output_type": "display_data"
    },
    {
     "data": {
      "text/html": [
       "<pre>| regularization                 | L2 Regularization on Factors                     | 1e-09    |</pre>"
      ],
      "text/plain": [
       "| regularization                 | L2 Regularization on Factors                     | 1e-09    |"
      ]
     },
     "metadata": {},
     "output_type": "display_data"
    },
    {
     "data": {
      "text/html": [
       "<pre>| solver                         | Solver used for training                         | sgd      |</pre>"
      ],
      "text/plain": [
       "| solver                         | Solver used for training                         | sgd      |"
      ]
     },
     "metadata": {},
     "output_type": "display_data"
    },
    {
     "data": {
      "text/html": [
       "<pre>| linear_regularization          | L2 Regularization on Linear Coefficients         | 1e-09    |</pre>"
      ],
      "text/plain": [
       "| linear_regularization          | L2 Regularization on Linear Coefficients         | 1e-09    |"
      ]
     },
     "metadata": {},
     "output_type": "display_data"
    },
    {
     "data": {
      "text/html": [
       "<pre>| ranking_regularization         | Rank-based Regularization Weight                 | 0.25     |</pre>"
      ],
      "text/plain": [
       "| ranking_regularization         | Rank-based Regularization Weight                 | 0.25     |"
      ]
     },
     "metadata": {},
     "output_type": "display_data"
    },
    {
     "data": {
      "text/html": [
       "<pre>| max_iterations                 | Maximum Number of Iterations                     | 25       |</pre>"
      ],
      "text/plain": [
       "| max_iterations                 | Maximum Number of Iterations                     | 25       |"
      ]
     },
     "metadata": {},
     "output_type": "display_data"
    },
    {
     "data": {
      "text/html": [
       "<pre>+--------------------------------+--------------------------------------------------+----------+</pre>"
      ],
      "text/plain": [
       "+--------------------------------+--------------------------------------------------+----------+"
      ]
     },
     "metadata": {},
     "output_type": "display_data"
    },
    {
     "data": {
      "text/html": [
       "<pre>  Optimizing model using SGD; tuning step size.</pre>"
      ],
      "text/plain": [
       "  Optimizing model using SGD; tuning step size."
      ]
     },
     "metadata": {},
     "output_type": "display_data"
    },
    {
     "data": {
      "text/html": [
       "<pre>  Using 10000 / 67514 points for tuning the step size.</pre>"
      ],
      "text/plain": [
       "  Using 10000 / 67514 points for tuning the step size."
      ]
     },
     "metadata": {},
     "output_type": "display_data"
    },
    {
     "data": {
      "text/html": [
       "<pre>+---------+-------------------+------------------------------------------+</pre>"
      ],
      "text/plain": [
       "+---------+-------------------+------------------------------------------+"
      ]
     },
     "metadata": {},
     "output_type": "display_data"
    },
    {
     "data": {
      "text/html": [
       "<pre>| Attempt | Initial Step Size | Estimated Objective Value                |</pre>"
      ],
      "text/plain": [
       "| Attempt | Initial Step Size | Estimated Objective Value                |"
      ]
     },
     "metadata": {},
     "output_type": "display_data"
    },
    {
     "data": {
      "text/html": [
       "<pre>+---------+-------------------+------------------------------------------+</pre>"
      ],
      "text/plain": [
       "+---------+-------------------+------------------------------------------+"
      ]
     },
     "metadata": {},
     "output_type": "display_data"
    },
    {
     "data": {
      "text/html": [
       "<pre>| 0       | 25                | Not Viable                               |</pre>"
      ],
      "text/plain": [
       "| 0       | 25                | Not Viable                               |"
      ]
     },
     "metadata": {},
     "output_type": "display_data"
    },
    {
     "data": {
      "text/html": [
       "<pre>| 1       | 6.25              | Not Viable                               |</pre>"
      ],
      "text/plain": [
       "| 1       | 6.25              | Not Viable                               |"
      ]
     },
     "metadata": {},
     "output_type": "display_data"
    },
    {
     "data": {
      "text/html": [
       "<pre>| 2       | 1.5625            | Not Viable                               |</pre>"
      ],
      "text/plain": [
       "| 2       | 1.5625            | Not Viable                               |"
      ]
     },
     "metadata": {},
     "output_type": "display_data"
    },
    {
     "data": {
      "text/html": [
       "<pre>| 3       | 0.390625          | Not Viable                               |</pre>"
      ],
      "text/plain": [
       "| 3       | 0.390625          | Not Viable                               |"
      ]
     },
     "metadata": {},
     "output_type": "display_data"
    },
    {
     "data": {
      "text/html": [
       "<pre>| 4       | 0.0976562         | 4.84401                                  |</pre>"
      ],
      "text/plain": [
       "| 4       | 0.0976562         | 4.84401                                  |"
      ]
     },
     "metadata": {},
     "output_type": "display_data"
    },
    {
     "data": {
      "text/html": [
       "<pre>| 5       | 0.0488281         | 5.86715                                  |</pre>"
      ],
      "text/plain": [
       "| 5       | 0.0488281         | 5.86715                                  |"
      ]
     },
     "metadata": {},
     "output_type": "display_data"
    },
    {
     "data": {
      "text/html": [
       "<pre>| 6       | 0.0244141         | 6.93233                                  |</pre>"
      ],
      "text/plain": [
       "| 6       | 0.0244141         | 6.93233                                  |"
      ]
     },
     "metadata": {},
     "output_type": "display_data"
    },
    {
     "data": {
      "text/html": [
       "<pre>| 7       | 0.012207          | 7.7498                                   |</pre>"
      ],
      "text/plain": [
       "| 7       | 0.012207          | 7.7498                                   |"
      ]
     },
     "metadata": {},
     "output_type": "display_data"
    },
    {
     "data": {
      "text/html": [
       "<pre>+---------+-------------------+------------------------------------------+</pre>"
      ],
      "text/plain": [
       "+---------+-------------------+------------------------------------------+"
      ]
     },
     "metadata": {},
     "output_type": "display_data"
    },
    {
     "data": {
      "text/html": [
       "<pre>| Final   | 0.0976562         | 4.84401                                  |</pre>"
      ],
      "text/plain": [
       "| Final   | 0.0976562         | 4.84401                                  |"
      ]
     },
     "metadata": {},
     "output_type": "display_data"
    },
    {
     "data": {
      "text/html": [
       "<pre>+---------+-------------------+------------------------------------------+</pre>"
      ],
      "text/plain": [
       "+---------+-------------------+------------------------------------------+"
      ]
     },
     "metadata": {},
     "output_type": "display_data"
    },
    {
     "data": {
      "text/html": [
       "<pre>Starting Optimization.</pre>"
      ],
      "text/plain": [
       "Starting Optimization."
      ]
     },
     "metadata": {},
     "output_type": "display_data"
    },
    {
     "data": {
      "text/html": [
       "<pre>+---------+--------------+-------------------+-----------------------+-------------+</pre>"
      ],
      "text/plain": [
       "+---------+--------------+-------------------+-----------------------+-------------+"
      ]
     },
     "metadata": {},
     "output_type": "display_data"
    },
    {
     "data": {
      "text/html": [
       "<pre>| Iter.   | Elapsed Time | Approx. Objective | Approx. Training RMSE | Step Size   |</pre>"
      ],
      "text/plain": [
       "| Iter.   | Elapsed Time | Approx. Objective | Approx. Training RMSE | Step Size   |"
      ]
     },
     "metadata": {},
     "output_type": "display_data"
    },
    {
     "data": {
      "text/html": [
       "<pre>+---------+--------------+-------------------+-----------------------+-------------+</pre>"
      ],
      "text/plain": [
       "+---------+--------------+-------------------+-----------------------+-------------+"
      ]
     },
     "metadata": {},
     "output_type": "display_data"
    },
    {
     "data": {
      "text/html": [
       "<pre>| Initial | 183us        | 9.20145           | 2.1664                |             |</pre>"
      ],
      "text/plain": [
       "| Initial | 183us        | 9.20145           | 2.1664                |             |"
      ]
     },
     "metadata": {},
     "output_type": "display_data"
    },
    {
     "data": {
      "text/html": [
       "<pre>+---------+--------------+-------------------+-----------------------+-------------+</pre>"
      ],
      "text/plain": [
       "+---------+--------------+-------------------+-----------------------+-------------+"
      ]
     },
     "metadata": {},
     "output_type": "display_data"
    },
    {
     "data": {
      "text/html": [
       "<pre>| 1       | 130.165ms    | 7.85017           | 2.23302               | 0.0976562   |</pre>"
      ],
      "text/plain": [
       "| 1       | 130.165ms    | 7.85017           | 2.23302               | 0.0976562   |"
      ]
     },
     "metadata": {},
     "output_type": "display_data"
    },
    {
     "data": {
      "text/html": [
       "<pre>| 2       | 242.134ms    | 6.3366            | 2.06227               | 0.0580668   |</pre>"
      ],
      "text/plain": [
       "| 2       | 242.134ms    | 6.3366            | 2.06227               | 0.0580668   |"
      ]
     },
     "metadata": {},
     "output_type": "display_data"
    },
    {
     "data": {
      "text/html": [
       "<pre>| 3       | 359.686ms    | 5.56253           | 1.86765               | 0.042841    |</pre>"
      ],
      "text/plain": [
       "| 3       | 359.686ms    | 5.56253           | 1.86765               | 0.042841    |"
      ]
     },
     "metadata": {},
     "output_type": "display_data"
    },
    {
     "data": {
      "text/html": [
       "<pre>| 4       | 486.41ms     | 4.69172           | 1.62878               | 0.0345267   |</pre>"
      ],
      "text/plain": [
       "| 4       | 486.41ms     | 4.69172           | 1.62878               | 0.0345267   |"
      ]
     },
     "metadata": {},
     "output_type": "display_data"
    },
    {
     "data": {
      "text/html": [
       "<pre>| 5       | 607.19ms     | 3.99903           | 1.41502               | 0.029206    |</pre>"
      ],
      "text/plain": [
       "| 5       | 607.19ms     | 3.99903           | 1.41502               | 0.029206    |"
      ]
     },
     "metadata": {},
     "output_type": "display_data"
    },
    {
     "data": {
      "text/html": [
       "<pre>| 6       | 754.624ms    | 3.5264            | 1.26492               | 0.0254734   |</pre>"
      ],
      "text/plain": [
       "| 6       | 754.624ms    | 3.5264            | 1.26492               | 0.0254734   |"
      ]
     },
     "metadata": {},
     "output_type": "display_data"
    },
    {
     "data": {
      "text/html": [
       "<pre>| 10      | 1.18s        | 2.39208           | 0.901251              | 0.017366    |</pre>"
      ],
      "text/plain": [
       "| 10      | 1.18s        | 2.39208           | 0.901251              | 0.017366    |"
      ]
     },
     "metadata": {},
     "output_type": "display_data"
    },
    {
     "data": {
      "text/html": [
       "<pre>| 11      | 1.44s        | 2.20681           | 0.844108              | 0.016168    |</pre>"
      ],
      "text/plain": [
       "| 11      | 1.44s        | 2.20681           | 0.844108              | 0.016168    |"
      ]
     },
     "metadata": {},
     "output_type": "display_data"
    },
    {
     "data": {
      "text/html": [
       "<pre>| 20      | 2.85s        | 1.26701           | 0.572069              | 0.0103259   |</pre>"
      ],
      "text/plain": [
       "| 20      | 2.85s        | 1.26701           | 0.572069              | 0.0103259   |"
      ]
     },
     "metadata": {},
     "output_type": "display_data"
    },
    {
     "data": {
      "text/html": [
       "<pre>+---------+--------------+-------------------+-----------------------+-------------+</pre>"
      ],
      "text/plain": [
       "+---------+--------------+-------------------+-----------------------+-------------+"
      ]
     },
     "metadata": {},
     "output_type": "display_data"
    },
    {
     "data": {
      "text/html": [
       "<pre>Optimization Complete: Maximum number of passes through the data reached.</pre>"
      ],
      "text/plain": [
       "Optimization Complete: Maximum number of passes through the data reached."
      ]
     },
     "metadata": {},
     "output_type": "display_data"
    },
    {
     "data": {
      "text/html": [
       "<pre>Computing final objective value and training RMSE.</pre>"
      ],
      "text/plain": [
       "Computing final objective value and training RMSE."
      ]
     },
     "metadata": {},
     "output_type": "display_data"
    },
    {
     "data": {
      "text/html": [
       "<pre>       Final objective value: 1.02262</pre>"
      ],
      "text/plain": [
       "       Final objective value: 1.02262"
      ]
     },
     "metadata": {},
     "output_type": "display_data"
    },
    {
     "data": {
      "text/html": [
       "<pre>       Final training RMSE: 0.509202</pre>"
      ],
      "text/plain": [
       "       Final training RMSE: 0.509202"
      ]
     },
     "metadata": {},
     "output_type": "display_data"
    }
   ],
   "source": [
    "sf = gl.SFrame(df[['userId', 'productId', 'rating']])\n",
    "m = gl.toolkits.recommender.create(sf, user_id = 'userId', item_id='productId', target='rating')"
   ]
  },
  {
   "cell_type": "markdown",
   "metadata": {},
   "source": [
    "Next model trained incorporated user specific attributes as well as item specific data, effectively lowering the RMSE to 0.261932"
   ]
  },
  {
   "cell_type": "code",
   "execution_count": 176,
   "metadata": {
    "collapsed": true
   },
   "outputs": [],
   "source": [
    "sf = gl.SFrame(df[['userId', 'productId', 'rating']])\n",
    "user_info = gl.SFrame(df[['username', 'userId', 'height', 'weight', 'bodyfat', 'slug']])\n",
    "item_info = gl.SFrame(df[['brandName', 'name', 'brandId', 'productId', 'totalItems']])"
   ]
  },
  {
   "cell_type": "code",
   "execution_count": 171,
   "metadata": {
    "collapsed": false,
    "scrolled": true
   },
   "outputs": [
    {
     "data": {
      "text/html": [
       "<pre>Recsys training: model = factorization_recommender</pre>"
      ],
      "text/plain": [
       "Recsys training: model = factorization_recommender"
      ]
     },
     "metadata": {},
     "output_type": "display_data"
    },
    {
     "data": {
      "text/html": [
       "<pre>Preparing data set.</pre>"
      ],
      "text/plain": [
       "Preparing data set."
      ]
     },
     "metadata": {},
     "output_type": "display_data"
    },
    {
     "data": {
      "text/html": [
       "<pre>    Data has 67514 observations with 41069 users and 2496 items.</pre>"
      ],
      "text/plain": [
       "    Data has 67514 observations with 41069 users and 2496 items."
      ]
     },
     "metadata": {},
     "output_type": "display_data"
    },
    {
     "data": {
      "text/html": [
       "<pre>    Data prepared in: 3.88232s</pre>"
      ],
      "text/plain": [
       "    Data prepared in: 3.88232s"
      ]
     },
     "metadata": {},
     "output_type": "display_data"
    },
    {
     "data": {
      "text/html": [
       "<pre>Training factorization_recommender for recommendations.</pre>"
      ],
      "text/plain": [
       "Training factorization_recommender for recommendations."
      ]
     },
     "metadata": {},
     "output_type": "display_data"
    },
    {
     "data": {
      "text/html": [
       "<pre>+--------------------------------+--------------------------------------------------+----------+</pre>"
      ],
      "text/plain": [
       "+--------------------------------+--------------------------------------------------+----------+"
      ]
     },
     "metadata": {},
     "output_type": "display_data"
    },
    {
     "data": {
      "text/html": [
       "<pre>| Parameter                      | Description                                      | Value    |</pre>"
      ],
      "text/plain": [
       "| Parameter                      | Description                                      | Value    |"
      ]
     },
     "metadata": {},
     "output_type": "display_data"
    },
    {
     "data": {
      "text/html": [
       "<pre>+--------------------------------+--------------------------------------------------+----------+</pre>"
      ],
      "text/plain": [
       "+--------------------------------+--------------------------------------------------+----------+"
      ]
     },
     "metadata": {},
     "output_type": "display_data"
    },
    {
     "data": {
      "text/html": [
       "<pre>| num_factors                    | Factor Dimension                                 | 8        |</pre>"
      ],
      "text/plain": [
       "| num_factors                    | Factor Dimension                                 | 8        |"
      ]
     },
     "metadata": {},
     "output_type": "display_data"
    },
    {
     "data": {
      "text/html": [
       "<pre>| regularization                 | L2 Regularization on Factors                     | 1e-08    |</pre>"
      ],
      "text/plain": [
       "| regularization                 | L2 Regularization on Factors                     | 1e-08    |"
      ]
     },
     "metadata": {},
     "output_type": "display_data"
    },
    {
     "data": {
      "text/html": [
       "<pre>| solver                         | Solver used for training                         | adagrad  |</pre>"
      ],
      "text/plain": [
       "| solver                         | Solver used for training                         | adagrad  |"
      ]
     },
     "metadata": {},
     "output_type": "display_data"
    },
    {
     "data": {
      "text/html": [
       "<pre>| linear_regularization          | L2 Regularization on Linear Coefficients         | 1e-10    |</pre>"
      ],
      "text/plain": [
       "| linear_regularization          | L2 Regularization on Linear Coefficients         | 1e-10    |"
      ]
     },
     "metadata": {},
     "output_type": "display_data"
    },
    {
     "data": {
      "text/html": [
       "<pre>| side_data_factorization        | Assign Factors for Side Data                     | True     |</pre>"
      ],
      "text/plain": [
       "| side_data_factorization        | Assign Factors for Side Data                     | True     |"
      ]
     },
     "metadata": {},
     "output_type": "display_data"
    },
    {
     "data": {
      "text/html": [
       "<pre>| max_iterations                 | Maximum Number of Iterations                     | 50       |</pre>"
      ],
      "text/plain": [
       "| max_iterations                 | Maximum Number of Iterations                     | 50       |"
      ]
     },
     "metadata": {},
     "output_type": "display_data"
    },
    {
     "data": {
      "text/html": [
       "<pre>+--------------------------------+--------------------------------------------------+----------+</pre>"
      ],
      "text/plain": [
       "+--------------------------------+--------------------------------------------------+----------+"
      ]
     },
     "metadata": {},
     "output_type": "display_data"
    },
    {
     "data": {
      "text/html": [
       "<pre>  Optimizing model using SGD; tuning step size.</pre>"
      ],
      "text/plain": [
       "  Optimizing model using SGD; tuning step size."
      ]
     },
     "metadata": {},
     "output_type": "display_data"
    },
    {
     "data": {
      "text/html": [
       "<pre>  Using 10000 / 67514 points for tuning the step size.</pre>"
      ],
      "text/plain": [
       "  Using 10000 / 67514 points for tuning the step size."
      ]
     },
     "metadata": {},
     "output_type": "display_data"
    },
    {
     "data": {
      "text/html": [
       "<pre>+---------+-------------------+------------------------------------------+</pre>"
      ],
      "text/plain": [
       "+---------+-------------------+------------------------------------------+"
      ]
     },
     "metadata": {},
     "output_type": "display_data"
    },
    {
     "data": {
      "text/html": [
       "<pre>| Attempt | Initial Step Size | Estimated Objective Value                |</pre>"
      ],
      "text/plain": [
       "| Attempt | Initial Step Size | Estimated Objective Value                |"
      ]
     },
     "metadata": {},
     "output_type": "display_data"
    },
    {
     "data": {
      "text/html": [
       "<pre>+---------+-------------------+------------------------------------------+</pre>"
      ],
      "text/plain": [
       "+---------+-------------------+------------------------------------------+"
      ]
     },
     "metadata": {},
     "output_type": "display_data"
    },
    {
     "data": {
      "text/html": [
       "<pre>| 0       | 4.54545           | Not Viable                               |</pre>"
      ],
      "text/plain": [
       "| 0       | 4.54545           | Not Viable                               |"
      ]
     },
     "metadata": {},
     "output_type": "display_data"
    },
    {
     "data": {
      "text/html": [
       "<pre>| 1       | 1.13636           | Not Viable                               |</pre>"
      ],
      "text/plain": [
       "| 1       | 1.13636           | Not Viable                               |"
      ]
     },
     "metadata": {},
     "output_type": "display_data"
    },
    {
     "data": {
      "text/html": [
       "<pre>| 2       | 0.284091          | Not Viable                               |</pre>"
      ],
      "text/plain": [
       "| 2       | 0.284091          | Not Viable                               |"
      ]
     },
     "metadata": {},
     "output_type": "display_data"
    },
    {
     "data": {
      "text/html": [
       "<pre>| 3       | 0.0710227         | 1.61932                                  |</pre>"
      ],
      "text/plain": [
       "| 3       | 0.0710227         | 1.61932                                  |"
      ]
     },
     "metadata": {},
     "output_type": "display_data"
    },
    {
     "data": {
      "text/html": [
       "<pre>| 4       | 0.0355114         | 1.44302                                  |</pre>"
      ],
      "text/plain": [
       "| 4       | 0.0355114         | 1.44302                                  |"
      ]
     },
     "metadata": {},
     "output_type": "display_data"
    },
    {
     "data": {
      "text/html": [
       "<pre>| 5       | 0.0177557         | 2.90092                                  |</pre>"
      ],
      "text/plain": [
       "| 5       | 0.0177557         | 2.90092                                  |"
      ]
     },
     "metadata": {},
     "output_type": "display_data"
    },
    {
     "data": {
      "text/html": [
       "<pre>+---------+-------------------+------------------------------------------+</pre>"
      ],
      "text/plain": [
       "+---------+-------------------+------------------------------------------+"
      ]
     },
     "metadata": {},
     "output_type": "display_data"
    },
    {
     "data": {
      "text/html": [
       "<pre>| Final   | 0.0355114         | 1.44302                                  |</pre>"
      ],
      "text/plain": [
       "| Final   | 0.0355114         | 1.44302                                  |"
      ]
     },
     "metadata": {},
     "output_type": "display_data"
    },
    {
     "data": {
      "text/html": [
       "<pre>+---------+-------------------+------------------------------------------+</pre>"
      ],
      "text/plain": [
       "+---------+-------------------+------------------------------------------+"
      ]
     },
     "metadata": {},
     "output_type": "display_data"
    },
    {
     "data": {
      "text/html": [
       "<pre>Starting Optimization.</pre>"
      ],
      "text/plain": [
       "Starting Optimization."
      ]
     },
     "metadata": {},
     "output_type": "display_data"
    },
    {
     "data": {
      "text/html": [
       "<pre>+---------+--------------+-------------------+-----------------------+-------------+</pre>"
      ],
      "text/plain": [
       "+---------+--------------+-------------------+-----------------------+-------------+"
      ]
     },
     "metadata": {},
     "output_type": "display_data"
    },
    {
     "data": {
      "text/html": [
       "<pre>| Iter.   | Elapsed Time | Approx. Objective | Approx. Training RMSE | Step Size   |</pre>"
      ],
      "text/plain": [
       "| Iter.   | Elapsed Time | Approx. Objective | Approx. Training RMSE | Step Size   |"
      ]
     },
     "metadata": {},
     "output_type": "display_data"
    },
    {
     "data": {
      "text/html": [
       "<pre>+---------+--------------+-------------------+-----------------------+-------------+</pre>"
      ],
      "text/plain": [
       "+---------+--------------+-------------------+-----------------------+-------------+"
      ]
     },
     "metadata": {},
     "output_type": "display_data"
    },
    {
     "data": {
      "text/html": [
       "<pre>| Initial | 153us        | 4.69342           | 2.16643               |             |</pre>"
      ],
      "text/plain": [
       "| Initial | 153us        | 4.69342           | 2.16643               |             |"
      ]
     },
     "metadata": {},
     "output_type": "display_data"
    },
    {
     "data": {
      "text/html": [
       "<pre>+---------+--------------+-------------------+-----------------------+-------------+</pre>"
      ],
      "text/plain": [
       "+---------+--------------+-------------------+-----------------------+-------------+"
      ]
     },
     "metadata": {},
     "output_type": "display_data"
    },
    {
     "data": {
      "text/html": [
       "<pre>| 1       | 125.759ms    | 4.41188           | 2.10044               | 0.0355114   |</pre>"
      ],
      "text/plain": [
       "| 1       | 125.759ms    | 4.41188           | 2.10044               | 0.0355114   |"
      ]
     },
     "metadata": {},
     "output_type": "display_data"
    },
    {
     "data": {
      "text/html": [
       "<pre>| 2       | 252.228ms    | 3.53273           | 1.87955               | 0.0355114   |</pre>"
      ],
      "text/plain": [
       "| 2       | 252.228ms    | 3.53273           | 1.87955               | 0.0355114   |"
      ]
     },
     "metadata": {},
     "output_type": "display_data"
    },
    {
     "data": {
      "text/html": [
       "<pre>| 3       | 385.697ms    | 2.86895           | 1.69378               | 0.0355114   |</pre>"
      ],
      "text/plain": [
       "| 3       | 385.697ms    | 2.86895           | 1.69378               | 0.0355114   |"
      ]
     },
     "metadata": {},
     "output_type": "display_data"
    },
    {
     "data": {
      "text/html": [
       "<pre>| 4       | 674.079ms    | 2.33097           | 1.52674               | 0.0355114   |</pre>"
      ],
      "text/plain": [
       "| 4       | 674.079ms    | 2.33097           | 1.52674               | 0.0355114   |"
      ]
     },
     "metadata": {},
     "output_type": "display_data"
    },
    {
     "data": {
      "text/html": [
       "<pre>| 5       | 782.277ms    | 1.91442           | 1.38361               | 0.0355114   |</pre>"
      ],
      "text/plain": [
       "| 5       | 782.277ms    | 1.91442           | 1.38361               | 0.0355114   |"
      ]
     },
     "metadata": {},
     "output_type": "display_data"
    },
    {
     "data": {
      "text/html": [
       "<pre>| 6       | 933.887ms    | 1.59317           | 1.26218               | 0.0355114   |</pre>"
      ],
      "text/plain": [
       "| 6       | 933.887ms    | 1.59317           | 1.26218               | 0.0355114   |"
      ]
     },
     "metadata": {},
     "output_type": "display_data"
    },
    {
     "data": {
      "text/html": [
       "<pre>| 10      | 1.57s        | 0.867878          | 0.931557              | 0.0355114   |</pre>"
      ],
      "text/plain": [
       "| 10      | 1.57s        | 0.867878          | 0.931557              | 0.0355114   |"
      ]
     },
     "metadata": {},
     "output_type": "display_data"
    },
    {
     "data": {
      "text/html": [
       "<pre>| 11      | 1.80s        | 0.764794          | 0.874478              | 0.0355114   |</pre>"
      ],
      "text/plain": [
       "| 11      | 1.80s        | 0.764794          | 0.874478              | 0.0355114   |"
      ]
     },
     "metadata": {},
     "output_type": "display_data"
    },
    {
     "data": {
      "text/html": [
       "<pre>| 20      | 3.07s        | 0.321782          | 0.567173              | 0.0355114   |</pre>"
      ],
      "text/plain": [
       "| 20      | 3.07s        | 0.321782          | 0.567173              | 0.0355114   |"
      ]
     },
     "metadata": {},
     "output_type": "display_data"
    },
    {
     "data": {
      "text/html": [
       "<pre>| 30      | 4.39s        | 0.174045          | 0.417061              | 0.0355114   |</pre>"
      ],
      "text/plain": [
       "| 30      | 4.39s        | 0.174045          | 0.417061              | 0.0355114   |"
      ]
     },
     "metadata": {},
     "output_type": "display_data"
    },
    {
     "data": {
      "text/html": [
       "<pre>| 40      | 5.98s        | 0.112326          | 0.334988              | 0.0355114   |</pre>"
      ],
      "text/plain": [
       "| 40      | 5.98s        | 0.112326          | 0.334988              | 0.0355114   |"
      ]
     },
     "metadata": {},
     "output_type": "display_data"
    },
    {
     "data": {
      "text/html": [
       "<pre>| 50      | 7.04s        | 0.0800642         | 0.282759              | 0.0355114   |</pre>"
      ],
      "text/plain": [
       "| 50      | 7.04s        | 0.0800642         | 0.282759              | 0.0355114   |"
      ]
     },
     "metadata": {},
     "output_type": "display_data"
    },
    {
     "data": {
      "text/html": [
       "<pre>+---------+--------------+-------------------+-----------------------+-------------+</pre>"
      ],
      "text/plain": [
       "+---------+--------------+-------------------+-----------------------+-------------+"
      ]
     },
     "metadata": {},
     "output_type": "display_data"
    },
    {
     "data": {
      "text/html": [
       "<pre>Optimization Complete: Maximum number of passes through the data reached.</pre>"
      ],
      "text/plain": [
       "Optimization Complete: Maximum number of passes through the data reached."
      ]
     },
     "metadata": {},
     "output_type": "display_data"
    },
    {
     "data": {
      "text/html": [
       "<pre>Computing final objective value and training RMSE.</pre>"
      ],
      "text/plain": [
       "Computing final objective value and training RMSE."
      ]
     },
     "metadata": {},
     "output_type": "display_data"
    },
    {
     "data": {
      "text/html": [
       "<pre>       Final objective value: 0.0687198</pre>"
      ],
      "text/plain": [
       "       Final objective value: 0.0687198"
      ]
     },
     "metadata": {},
     "output_type": "display_data"
    },
    {
     "data": {
      "text/html": [
       "<pre>       Final training RMSE: 0.261932</pre>"
      ],
      "text/plain": [
       "       Final training RMSE: 0.261932"
      ]
     },
     "metadata": {},
     "output_type": "display_data"
    }
   ],
   "source": [
    "m = factorization_recommender.create(sf, user_id='userId', item_id='productId', target='rating',\\\n",
    "                                     user_data=user_info, item_data=item_info)"
   ]
  },
  {
   "cell_type": "code",
   "execution_count": 177,
   "metadata": {
    "collapsed": false
   },
   "outputs": [
    {
     "name": "stdout",
     "output_type": "stream",
     "text": [
      "Canvas is accessible via web browser at the URL: http://localhost:60407/index.html\n",
      "Opening Canvas in default web browser.\n"
     ]
    }
   ],
   "source": [
    "m.show()"
   ]
  },
  {
   "cell_type": "code",
   "execution_count": 178,
   "metadata": {
    "collapsed": false,
    "scrolled": true
   },
   "outputs": [
    {
     "data": {
      "text/plain": [
       "{'intercept': 8.747326110140092, 'productId': Columns:\n",
       " \tproductId\tstr\n",
       " \tlinear_terms\tfloat\n",
       " \tfactors\tarray\n",
       " \n",
       " Rows: 2496\n",
       " \n",
       " Data:\n",
       " +-------------+----------------+-------------------------------+\n",
       " |  productId  |  linear_terms  |            factors            |\n",
       " +-------------+----------------+-------------------------------+\n",
       " | prod1620022 | -3.16549658775 | [0.0383839830756, 0.841843... |\n",
       " | prod1620026 | -3.32721018791 | [0.818790435791, -0.085964... |\n",
       " | prod4080003 | -3.32938838005 | [-0.0225170850754, -0.0425... |\n",
       " | prod2990043 | -3.2190527916  | [0.0838851481676, 0.326937... |\n",
       " | prod3100003 | -3.40285897255 | [0.0376260131598, -0.00815... |\n",
       " | prod2170077 | -3.66573357582 | [-0.12679669261, 0.9692271... |\n",
       " | prod1010004 | -3.33515977859 | [-0.562129795551, 1.012127... |\n",
       " | prod1910038 | -3.59832024574 | [0.454341650009, -0.243273... |\n",
       " | prod3710112 | -3.3422369957  | [0.0173684805632, -0.05488... |\n",
       " | prod1090006 | -3.62442660332 | [0.278952807188, 0.0376635... |\n",
       " +-------------+----------------+-------------------------------+\n",
       " [2496 rows x 3 columns]\n",
       " Note: Only the head of the SFrame is printed.\n",
       " You can use print_rows(num_rows=m, num_columns=n) to print more rows and columns., 'userId': Columns:\n",
       " \tuserId\tint\n",
       " \tlinear_terms\tfloat\n",
       " \tfactors\tarray\n",
       " \n",
       " Rows: 41069\n",
       " \n",
       " Data:\n",
       " +-----------+----------------+-------------------------------+\n",
       " |   userId  |  linear_terms  |            factors            |\n",
       " +-----------+----------------+-------------------------------+\n",
       " |  58617272 | 1.09181332588  | [0.156165674329, 0.0923152... |\n",
       " | 120584661 | 0.388292402029 | [0.376149386168, 0.1487531... |\n",
       " |  88002491 | 0.691908597946 | [-0.00678501138464, 0.2472... |\n",
       " |  34717082 | 1.37881720066  | [-0.16602113843, 0.1545435... |\n",
       " |  98886182 | 0.657117187977 | [-0.0129712140188, 0.26534... |\n",
       " |  42621942 | 0.687624633312 | [-0.0194183718413, 0.26469... |\n",
       " |  87306721 | 1.27008461952  | [0.00392858125269, 0.23154... |\n",
       " | 101296512 | 1.09811675549  | [0.0168408155441, 0.252445... |\n",
       " | 108628242 | 1.92170786858  | [0.048667229712, 0.3798595... |\n",
       " |  87861531 | 0.938980937004 | [0.0786458179355, 0.014531... |\n",
       " +-----------+----------------+-------------------------------+\n",
       " [41069 rows x 3 columns]\n",
       " Note: Only the head of the SFrame is printed.\n",
       " You can use print_rows(num_rows=m, num_columns=n) to print more rows and columns.}"
      ]
     },
     "execution_count": 178,
     "metadata": {},
     "output_type": "execute_result"
    }
   ],
   "source": [
    "m.coefficients"
   ]
  },
  {
   "cell_type": "markdown",
   "metadata": {},
   "source": [
    "This model parses only nutrional/food based products and lowered the RMSE to 0.12927"
   ]
  },
  {
   "cell_type": "code",
   "execution_count": 222,
   "metadata": {
    "collapsed": false,
    "scrolled": true
   },
   "outputs": [
    {
     "data": {
      "text/html": [
       "<pre>Recsys training: model = factorization_recommender</pre>"
      ],
      "text/plain": [
       "Recsys training: model = factorization_recommender"
      ]
     },
     "metadata": {},
     "output_type": "display_data"
    },
    {
     "data": {
      "text/html": [
       "<pre>Preparing data set.</pre>"
      ],
      "text/plain": [
       "Preparing data set."
      ]
     },
     "metadata": {},
     "output_type": "display_data"
    },
    {
     "data": {
      "text/html": [
       "<pre>    Data has 64312 observations with 39465 users and 2131 items.</pre>"
      ],
      "text/plain": [
       "    Data has 64312 observations with 39465 users and 2131 items."
      ]
     },
     "metadata": {},
     "output_type": "display_data"
    },
    {
     "data": {
      "text/html": [
       "<pre>    Data prepared in: 1.15597s</pre>"
      ],
      "text/plain": [
       "    Data prepared in: 1.15597s"
      ]
     },
     "metadata": {},
     "output_type": "display_data"
    },
    {
     "data": {
      "text/html": [
       "<pre>Training factorization_recommender for recommendations.</pre>"
      ],
      "text/plain": [
       "Training factorization_recommender for recommendations."
      ]
     },
     "metadata": {},
     "output_type": "display_data"
    },
    {
     "data": {
      "text/html": [
       "<pre>+--------------------------------+--------------------------------------------------+----------+</pre>"
      ],
      "text/plain": [
       "+--------------------------------+--------------------------------------------------+----------+"
      ]
     },
     "metadata": {},
     "output_type": "display_data"
    },
    {
     "data": {
      "text/html": [
       "<pre>| Parameter                      | Description                                      | Value    |</pre>"
      ],
      "text/plain": [
       "| Parameter                      | Description                                      | Value    |"
      ]
     },
     "metadata": {},
     "output_type": "display_data"
    },
    {
     "data": {
      "text/html": [
       "<pre>+--------------------------------+--------------------------------------------------+----------+</pre>"
      ],
      "text/plain": [
       "+--------------------------------+--------------------------------------------------+----------+"
      ]
     },
     "metadata": {},
     "output_type": "display_data"
    },
    {
     "data": {
      "text/html": [
       "<pre>| num_factors                    | Factor Dimension                                 | 8        |</pre>"
      ],
      "text/plain": [
       "| num_factors                    | Factor Dimension                                 | 8        |"
      ]
     },
     "metadata": {},
     "output_type": "display_data"
    },
    {
     "data": {
      "text/html": [
       "<pre>| regularization                 | L2 Regularization on Factors                     | 1e-08    |</pre>"
      ],
      "text/plain": [
       "| regularization                 | L2 Regularization on Factors                     | 1e-08    |"
      ]
     },
     "metadata": {},
     "output_type": "display_data"
    },
    {
     "data": {
      "text/html": [
       "<pre>| solver                         | Solver used for training                         | adagrad  |</pre>"
      ],
      "text/plain": [
       "| solver                         | Solver used for training                         | adagrad  |"
      ]
     },
     "metadata": {},
     "output_type": "display_data"
    },
    {
     "data": {
      "text/html": [
       "<pre>| linear_regularization          | L2 Regularization on Linear Coefficients         | 1e-10    |</pre>"
      ],
      "text/plain": [
       "| linear_regularization          | L2 Regularization on Linear Coefficients         | 1e-10    |"
      ]
     },
     "metadata": {},
     "output_type": "display_data"
    },
    {
     "data": {
      "text/html": [
       "<pre>| side_data_factorization        | Assign Factors for Side Data                     | True     |</pre>"
      ],
      "text/plain": [
       "| side_data_factorization        | Assign Factors for Side Data                     | True     |"
      ]
     },
     "metadata": {},
     "output_type": "display_data"
    },
    {
     "data": {
      "text/html": [
       "<pre>| max_iterations                 | Maximum Number of Iterations                     | 50       |</pre>"
      ],
      "text/plain": [
       "| max_iterations                 | Maximum Number of Iterations                     | 50       |"
      ]
     },
     "metadata": {},
     "output_type": "display_data"
    },
    {
     "data": {
      "text/html": [
       "<pre>+--------------------------------+--------------------------------------------------+----------+</pre>"
      ],
      "text/plain": [
       "+--------------------------------+--------------------------------------------------+----------+"
      ]
     },
     "metadata": {},
     "output_type": "display_data"
    },
    {
     "data": {
      "text/html": [
       "<pre>  Optimizing model using SGD; tuning step size.</pre>"
      ],
      "text/plain": [
       "  Optimizing model using SGD; tuning step size."
      ]
     },
     "metadata": {},
     "output_type": "display_data"
    },
    {
     "data": {
      "text/html": [
       "<pre>  Using 10000 / 64312 points for tuning the step size.</pre>"
      ],
      "text/plain": [
       "  Using 10000 / 64312 points for tuning the step size."
      ]
     },
     "metadata": {},
     "output_type": "display_data"
    },
    {
     "data": {
      "text/html": [
       "<pre>+---------+-------------------+------------------------------------------+</pre>"
      ],
      "text/plain": [
       "+---------+-------------------+------------------------------------------+"
      ]
     },
     "metadata": {},
     "output_type": "display_data"
    },
    {
     "data": {
      "text/html": [
       "<pre>| Attempt | Initial Step Size | Estimated Objective Value                |</pre>"
      ],
      "text/plain": [
       "| Attempt | Initial Step Size | Estimated Objective Value                |"
      ]
     },
     "metadata": {},
     "output_type": "display_data"
    },
    {
     "data": {
      "text/html": [
       "<pre>+---------+-------------------+------------------------------------------+</pre>"
      ],
      "text/plain": [
       "+---------+-------------------+------------------------------------------+"
      ]
     },
     "metadata": {},
     "output_type": "display_data"
    },
    {
     "data": {
      "text/html": [
       "<pre>| 0       | 5                 | Not Viable                               |</pre>"
      ],
      "text/plain": [
       "| 0       | 5                 | Not Viable                               |"
      ]
     },
     "metadata": {},
     "output_type": "display_data"
    },
    {
     "data": {
      "text/html": [
       "<pre>| 1       | 1.25              | Not Viable                               |</pre>"
      ],
      "text/plain": [
       "| 1       | 1.25              | Not Viable                               |"
      ]
     },
     "metadata": {},
     "output_type": "display_data"
    },
    {
     "data": {
      "text/html": [
       "<pre>| 2       | 0.3125            | Not Viable                               |</pre>"
      ],
      "text/plain": [
       "| 2       | 0.3125            | Not Viable                               |"
      ]
     },
     "metadata": {},
     "output_type": "display_data"
    },
    {
     "data": {
      "text/html": [
       "<pre>| 3       | 0.078125          | 0.638276                                 |</pre>"
      ],
      "text/plain": [
       "| 3       | 0.078125          | 0.638276                                 |"
      ]
     },
     "metadata": {},
     "output_type": "display_data"
    },
    {
     "data": {
      "text/html": [
       "<pre>| 4       | 0.0390625         | 1.65494                                  |</pre>"
      ],
      "text/plain": [
       "| 4       | 0.0390625         | 1.65494                                  |"
      ]
     },
     "metadata": {},
     "output_type": "display_data"
    },
    {
     "data": {
      "text/html": [
       "<pre>+---------+-------------------+------------------------------------------+</pre>"
      ],
      "text/plain": [
       "+---------+-------------------+------------------------------------------+"
      ]
     },
     "metadata": {},
     "output_type": "display_data"
    },
    {
     "data": {
      "text/html": [
       "<pre>| Final   | 0.078125          | 0.638276                                 |</pre>"
      ],
      "text/plain": [
       "| Final   | 0.078125          | 0.638276                                 |"
      ]
     },
     "metadata": {},
     "output_type": "display_data"
    },
    {
     "data": {
      "text/html": [
       "<pre>+---------+-------------------+------------------------------------------+</pre>"
      ],
      "text/plain": [
       "+---------+-------------------+------------------------------------------+"
      ]
     },
     "metadata": {},
     "output_type": "display_data"
    },
    {
     "data": {
      "text/html": [
       "<pre>Starting Optimization.</pre>"
      ],
      "text/plain": [
       "Starting Optimization."
      ]
     },
     "metadata": {},
     "output_type": "display_data"
    },
    {
     "data": {
      "text/html": [
       "<pre>+---------+--------------+-------------------+-----------------------+-------------+</pre>"
      ],
      "text/plain": [
       "+---------+--------------+-------------------+-----------------------+-------------+"
      ]
     },
     "metadata": {},
     "output_type": "display_data"
    },
    {
     "data": {
      "text/html": [
       "<pre>| Iter.   | Elapsed Time | Approx. Objective | Approx. Training RMSE | Step Size   |</pre>"
      ],
      "text/plain": [
       "| Iter.   | Elapsed Time | Approx. Objective | Approx. Training RMSE | Step Size   |"
      ]
     },
     "metadata": {},
     "output_type": "display_data"
    },
    {
     "data": {
      "text/html": [
       "<pre>+---------+--------------+-------------------+-----------------------+-------------+</pre>"
      ],
      "text/plain": [
       "+---------+--------------+-------------------+-----------------------+-------------+"
      ]
     },
     "metadata": {},
     "output_type": "display_data"
    },
    {
     "data": {
      "text/html": [
       "<pre>| Initial | 215us        | 4.54318           | 2.13147               |             |</pre>"
      ],
      "text/plain": [
       "| Initial | 215us        | 4.54318           | 2.13147               |             |"
      ]
     },
     "metadata": {},
     "output_type": "display_data"
    },
    {
     "data": {
      "text/html": [
       "<pre>+---------+--------------+-------------------+-----------------------+-------------+</pre>"
      ],
      "text/plain": [
       "+---------+--------------+-------------------+-----------------------+-------------+"
      ]
     },
     "metadata": {},
     "output_type": "display_data"
    },
    {
     "data": {
      "text/html": [
       "<pre>| 1       | 161.142ms    | 4.57569           | 2.13907               | 0.078125    |</pre>"
      ],
      "text/plain": [
       "| 1       | 161.142ms    | 4.57569           | 2.13907               | 0.078125    |"
      ]
     },
     "metadata": {},
     "output_type": "display_data"
    },
    {
     "data": {
      "text/html": [
       "<pre>| 2       | 244.624ms    | 3.55345           | 1.88504               | 0.078125    |</pre>"
      ],
      "text/plain": [
       "| 2       | 244.624ms    | 3.55345           | 1.88504               | 0.078125    |"
      ]
     },
     "metadata": {},
     "output_type": "display_data"
    },
    {
     "data": {
      "text/html": [
       "<pre>| 3       | 321.024ms    | 2.84811           | 1.68761               | 0.078125    |</pre>"
      ],
      "text/plain": [
       "| 3       | 321.024ms    | 2.84811           | 1.68761               | 0.078125    |"
      ]
     },
     "metadata": {},
     "output_type": "display_data"
    },
    {
     "data": {
      "text/html": [
       "<pre>| 4       | 410.968ms    | 2.23171           | 1.49386               | 0.078125    |</pre>"
      ],
      "text/plain": [
       "| 4       | 410.968ms    | 2.23171           | 1.49386               | 0.078125    |"
      ]
     },
     "metadata": {},
     "output_type": "display_data"
    },
    {
     "data": {
      "text/html": [
       "<pre>| 5       | 510.483ms    | 6.70191           | 2.58879               | 0.078125    |</pre>"
      ],
      "text/plain": [
       "| 5       | 510.483ms    | 6.70191           | 2.58879               | 0.078125    |"
      ]
     },
     "metadata": {},
     "output_type": "display_data"
    },
    {
     "data": {
      "text/html": [
       "<pre>| 6       | 620.79ms     | DIVERGED          | DIVERGED              | 0.078125    |</pre>"
      ],
      "text/plain": [
       "| 6       | 620.79ms     | DIVERGED          | DIVERGED              | 0.078125    |"
      ]
     },
     "metadata": {},
     "output_type": "display_data"
    },
    {
     "data": {
      "text/html": [
       "<pre>| RESET   | 685.372ms    | 4.54308           | 2.13145               |             |</pre>"
      ],
      "text/plain": [
       "| RESET   | 685.372ms    | 4.54308           | 2.13145               |             |"
      ]
     },
     "metadata": {},
     "output_type": "display_data"
    },
    {
     "data": {
      "text/html": [
       "<pre>| 1       | 762.624ms    | 4.28744           | 2.07061               | 0.0390625   |</pre>"
      ],
      "text/plain": [
       "| 1       | 762.624ms    | 4.28744           | 2.07061               | 0.0390625   |"
      ]
     },
     "metadata": {},
     "output_type": "display_data"
    },
    {
     "data": {
      "text/html": [
       "<pre>| 6       | 1.46s        | 1.66157           | 1.289                 | 0.0390625   |</pre>"
      ],
      "text/plain": [
       "| 6       | 1.46s        | 1.66157           | 1.289                 | 0.0390625   |"
      ]
     },
     "metadata": {},
     "output_type": "display_data"
    },
    {
     "data": {
      "text/html": [
       "<pre>| 19      | 2.88s        | 0.393945          | 0.627577              | 0.0390625   |</pre>"
      ],
      "text/plain": [
       "| 19      | 2.88s        | 0.393945          | 0.627577              | 0.0390625   |"
      ]
     },
     "metadata": {},
     "output_type": "display_data"
    },
    {
     "data": {
      "text/html": [
       "<pre>| 44      | 5.50s        | 0.126983          | 0.356195              | 0.0390625   |</pre>"
      ],
      "text/plain": [
       "| 44      | 5.50s        | 0.126983          | 0.356195              | 0.0390625   |"
      ]
     },
     "metadata": {},
     "output_type": "display_data"
    },
    {
     "data": {
      "text/html": [
       "<pre>| 46      | 5.69s        | 0.119919          | 0.346137              | 0.0390625   |</pre>"
      ],
      "text/plain": [
       "| 46      | 5.69s        | 0.119919          | 0.346137              | 0.0390625   |"
      ]
     },
     "metadata": {},
     "output_type": "display_data"
    },
    {
     "data": {
      "text/html": [
       "<pre>+---------+--------------+-------------------+-----------------------+-------------+</pre>"
      ],
      "text/plain": [
       "+---------+--------------+-------------------+-----------------------+-------------+"
      ]
     },
     "metadata": {},
     "output_type": "display_data"
    },
    {
     "data": {
      "text/html": [
       "<pre>Optimization Complete: Maximum number of passes through the data reached (hard limit).</pre>"
      ],
      "text/plain": [
       "Optimization Complete: Maximum number of passes through the data reached (hard limit)."
      ]
     },
     "metadata": {},
     "output_type": "display_data"
    },
    {
     "data": {
      "text/html": [
       "<pre>Computing final objective value and training RMSE.</pre>"
      ],
      "text/plain": [
       "Computing final objective value and training RMSE."
      ]
     },
     "metadata": {},
     "output_type": "display_data"
    },
    {
     "data": {
      "text/html": [
       "<pre>       Final objective value: 0.0986281</pre>"
      ],
      "text/plain": [
       "       Final objective value: 0.0986281"
      ]
     },
     "metadata": {},
     "output_type": "display_data"
    },
    {
     "data": {
      "text/html": [
       "<pre>       Final training RMSE: 0.313877</pre>"
      ],
      "text/plain": [
       "       Final training RMSE: 0.313877"
      ]
     },
     "metadata": {},
     "output_type": "display_data"
    }
   ],
   "source": [
    "df = pd.read_pickle('nutrition.pkl')\n",
    "sf = gl.SFrame(df[['userId', 'productId', 'rating']])\n",
    "user_info = gl.SFrame(df[['username', 'userId', 'height', 'weight', 'bodyfat']])\n",
    "item_info = gl.SFrame(df[['brandName', 'name', 'brandId', 'productId', 'totalItems']])\n",
    "m = factorization_recommender.create(sf, user_id='userId', item_id='productId', target='rating',\\\n",
    "                                     user_data=user_info, item_data=item_info)"
   ]
  },
  {
   "cell_type": "code",
   "execution_count": 188,
   "metadata": {
    "collapsed": true
   },
   "outputs": [],
   "source": [
    "import graphlab as gl\n",
    "from sklearn.decomposition import NMF\n",
    "import pandas as pd\n",
    "from nltk.corpus import stopwords\n",
    "from nltk.stem.snowball import SnowballStemmer\n",
    "from sklearn.feature_extraction.text import TfidfVectorizer, CountVectorizer\n",
    "from string import punctuation"
   ]
  },
  {
   "cell_type": "code",
   "execution_count": 195,
   "metadata": {
    "collapsed": false,
    "scrolled": true
   },
   "outputs": [],
   "source": [
    "def topics(n_topics):\n",
    "    corpus = []\n",
    "    stemmer = SnowballStemmer('english')\n",
    "    for prodId in df.productId.unique():\n",
    "        docs = []\n",
    "        for doc in df[df.productId == prodId].text:\n",
    "            if doc:\n",
    "                doc = ' '.join(stemmer.stem(word.strip(punctuation).lower()) \\\n",
    "                                                for word in doc.split())\n",
    "                docs.append(doc)\n",
    "        corpus.append(' '.join(docs))\n",
    "    tfidf_vectorizer = TfidfVectorizer(stop_words='english')\n",
    "    tfidf = tfidf_vectorizer.fit_transform(corpus)\n",
    "    nmf = NMF(n_components = n_topics).fit(tfidf)\n",
    "    n_topic_words = n_topics\n",
    "    for topic_idx, topic in enumerate(nmf.components_):\n",
    "        print 'Topic #{}:' .format(topic_idx)\n",
    "        print ' '.join([tfidf_vectorizer.get_feature_names()[i] for i \\\n",
    "                            in topic.argsort()[:-n_topic_words -1:-1]])\n",
    "        print()\n",
    "    return str(n_topics) + 'topics' "
   ]
  },
  {
   "cell_type": "code",
   "execution_count": 196,
   "metadata": {
    "collapsed": true
   },
   "outputs": [
    {
     "name": "stdout",
     "output_type": "stream",
     "text": [
      "Topic #0:\n",
      "product notic use day week work differ test feel ani strength booster gain\n",
      "()\n",
      "Topic #1:\n",
      "protein chocol mix milk whey powder vanilla tast shake flavor great best use\n",
      "()\n",
      "Topic #2:\n",
      "workout pre pump energi focus scoop feel preworkout tri caffein great use c4\n",
      "()\n",
      "Topic #3:\n",
      "bar protein tast chocol quest eat like snack good textur cooki flavor chewi\n",
      "()\n",
      "Topic #4:\n",
      "vitamin multi multivitamin pill day great price need swallow easi energi feel pak\n",
      "()\n",
      "Topic #5:\n",
      "sleep night wake zma asleep help dream feel fall rest bed hour melatonin\n",
      "()\n",
      "Topic #6:\n",
      "bcaa workout recoveri amino glutamin product great post use help sore dure mix\n",
      "()\n",
      "Topic #7:\n",
      "tast flavor like mix good water tri drink bad just scoop realli pretti\n",
      "()\n",
      "Topic #8:\n",
      "fish oil burp omega fishi dha epa pill cla great softgel high supplement\n",
      "()\n",
      "Topic #9:\n",
      "creatin mix unflavor strength monohydr gain water shake price use notic muscl mono\n",
      "()\n",
      "Topic #10:\n",
      "product good great veri price work excel qualiti recommend use cheap best high\n",
      "()\n",
      "Topic #11:\n",
      "fat energi burner cla help weight loss appetit work product day burn diet\n",
      "()\n",
      "Topic #12:\n",
      "gainer mass gain weight muscl calori scoop carb pound lean serv use shake\n",
      "()\n"
     ]
    },
    {
     "data": {
      "text/plain": [
       "'13topics'"
      ]
     },
     "execution_count": 196,
     "metadata": {},
     "output_type": "execute_result"
    }
   ],
   "source": [
    "topics(13)"
   ]
  },
  {
   "cell_type": "code",
   "execution_count": 197,
   "metadata": {
    "collapsed": true
   },
   "outputs": [
    {
     "name": "stdout",
     "output_type": "stream",
     "text": [
      "Topic #0:\n",
      "product notic week day use differ test work feel booster strength ani gain increas\n",
      "()\n",
      "Topic #1:\n",
      "protein chocol mix milk whey powder tast vanilla shake flavor great best tri use\n",
      "()\n",
      "Topic #2:\n",
      "workout pre pump energi focus scoop feel preworkout tri caffein use c4 like gym\n",
      "()\n",
      "Topic #3:\n",
      "bar protein tast chocol quest eat like snack textur cooki flavor chewi great tri\n",
      "()\n",
      "Topic #4:\n",
      "vitamin multi multivitamin pill day need swallow great easi feel price pak energi best\n",
      "()\n",
      "Topic #5:\n",
      "sleep night wake zma asleep help dream feel fall rest bed hour melatonin deep\n",
      "()\n",
      "Topic #6:\n",
      "bcaa workout recoveri amino glutamin post sore help dure mix use muscl day drink\n",
      "()\n",
      "Topic #7:\n",
      "tast flavor like mix water drink tri just bad scoop sweet don realli green\n",
      "()\n",
      "Topic #8:\n",
      "fish oil burp omega fishi dha epa pill cla softgel high tast supplement qualiti\n",
      "()\n",
      "Topic #9:\n",
      "creatin mix unflavor strength monohydr gain water shake price notic muscl mono use creapur\n",
      "()\n",
      "Topic #10:\n",
      "good veri price product pretti qualiti energi realli buy bought valu compar labrada anyth\n",
      "()\n",
      "Topic #11:\n",
      "fat energi burner cla weight help loss appetit day burn diet feel work lost\n",
      "()\n",
      "Topic #12:\n",
      "gainer mass gain weight muscl scoop calori carb pound lean serv use shake milk\n",
      "()\n",
      "Topic #13:\n",
      "product great work recommend excel use best high qualiti price result cheap super love\n",
      "()\n"
     ]
    },
    {
     "data": {
      "text/plain": [
       "'14topics'"
      ]
     },
     "execution_count": 197,
     "metadata": {},
     "output_type": "execute_result"
    }
   ],
   "source": [
    "topics(14)"
   ]
  },
  {
   "cell_type": "code",
   "execution_count": 198,
   "metadata": {
    "collapsed": true
   },
   "outputs": [
    {
     "name": "stdout",
     "output_type": "stream",
     "text": [
      "Topic #0:\n",
      "product notic day week use test differ work feel booster ani gain strength increas bottl\n",
      "()\n",
      "Topic #1:\n",
      "protein chocol mix milk whey powder vanilla tast shake flavor great best use tri love\n",
      "()\n",
      "Topic #2:\n",
      "pump workout pre scoop focus tri preworkout c4 best like beta use feel alanin gym\n",
      "()\n",
      "Topic #3:\n",
      "bar protein tast chocol quest eat like snack textur cooki flavor chewi great tri peanut\n",
      "()\n",
      "Topic #4:\n",
      "vitamin multi multivitamin pill day swallow need easi price great pak best feel onli miner\n",
      "()\n",
      "Topic #5:\n",
      "sleep night wake zma asleep help dream feel fall rest bed melatonin deep hour befor\n",
      "()\n",
      "Topic #6:\n",
      "bcaa workout recoveri amino glutamin post sore help dure mix use muscl supplement drink day\n",
      "()\n",
      "Topic #7:\n",
      "tast flavor like mix tri water just bad drink scoop don sweet realli green horribl\n",
      "()\n",
      "Topic #8:\n",
      "fish oil burp omega fishi dha epa pill softgel cla high tast supplement qualiti swallow\n",
      "()\n",
      "Topic #9:\n",
      "creatin mix unflavor strength monohydr gain water shake price notic muscl mono use creapur load\n",
      "()\n",
      "Topic #10:\n",
      "product great work recommend excel use best qualiti high result price cheap love super definit\n",
      "()\n",
      "Topic #11:\n",
      "energi workout caffein feel focus boost pre work day drink jitter morn crash jitteri need\n",
      "()\n",
      "Topic #12:\n",
      "gainer mass gain weight muscl calori scoop pound carb serv lean use shake milk bulk\n",
      "()\n",
      "Topic #13:\n",
      "good veri price product qualiti pretti realli buy compar valu bought labrada anyth overal bit\n",
      "()\n",
      "Topic #14:\n",
      "fat cla burner help weight loss diet appetit product carnitin burn lost bodi result lose\n",
      "()\n"
     ]
    },
    {
     "data": {
      "text/plain": [
       "'15topics'"
      ]
     },
     "execution_count": 198,
     "metadata": {},
     "output_type": "execute_result"
    }
   ],
   "source": [
    "topics(15)"
   ]
  },
  {
   "cell_type": "code",
   "execution_count": 209,
   "metadata": {
    "collapsed": false
   },
   "outputs": [
    {
     "data": {
      "text/html": [
       "<pre>Recsys training: model = factorization_recommender</pre>"
      ],
      "text/plain": [
       "Recsys training: model = factorization_recommender"
      ]
     },
     "metadata": {},
     "output_type": "display_data"
    },
    {
     "data": {
      "text/html": [
       "<pre>Preparing data set.</pre>"
      ],
      "text/plain": [
       "Preparing data set."
      ]
     },
     "metadata": {},
     "output_type": "display_data"
    },
    {
     "data": {
      "text/html": [
       "<pre>    Data has 8 observations with 3 users and 4 items.</pre>"
      ],
      "text/plain": [
       "    Data has 8 observations with 3 users and 4 items."
      ]
     },
     "metadata": {},
     "output_type": "display_data"
    },
    {
     "data": {
      "text/html": [
       "<pre>    Data prepared in: 0.374403s</pre>"
      ],
      "text/plain": [
       "    Data prepared in: 0.374403s"
      ]
     },
     "metadata": {},
     "output_type": "display_data"
    },
    {
     "data": {
      "text/html": [
       "<pre>Training factorization_recommender for recommendations.</pre>"
      ],
      "text/plain": [
       "Training factorization_recommender for recommendations."
      ]
     },
     "metadata": {},
     "output_type": "display_data"
    },
    {
     "data": {
      "text/html": [
       "<pre>+--------------------------------+--------------------------------------------------+----------+</pre>"
      ],
      "text/plain": [
       "+--------------------------------+--------------------------------------------------+----------+"
      ]
     },
     "metadata": {},
     "output_type": "display_data"
    },
    {
     "data": {
      "text/html": [
       "<pre>| Parameter                      | Description                                      | Value    |</pre>"
      ],
      "text/plain": [
       "| Parameter                      | Description                                      | Value    |"
      ]
     },
     "metadata": {},
     "output_type": "display_data"
    },
    {
     "data": {
      "text/html": [
       "<pre>+--------------------------------+--------------------------------------------------+----------+</pre>"
      ],
      "text/plain": [
       "+--------------------------------+--------------------------------------------------+----------+"
      ]
     },
     "metadata": {},
     "output_type": "display_data"
    },
    {
     "data": {
      "text/html": [
       "<pre>| num_factors                    | Factor Dimension                                 | 8        |</pre>"
      ],
      "text/plain": [
       "| num_factors                    | Factor Dimension                                 | 8        |"
      ]
     },
     "metadata": {},
     "output_type": "display_data"
    },
    {
     "data": {
      "text/html": [
       "<pre>| regularization                 | L2 Regularization on Factors                     | 1e-08    |</pre>"
      ],
      "text/plain": [
       "| regularization                 | L2 Regularization on Factors                     | 1e-08    |"
      ]
     },
     "metadata": {},
     "output_type": "display_data"
    },
    {
     "data": {
      "text/html": [
       "<pre>| solver                         | Solver used for training                         | sgd      |</pre>"
      ],
      "text/plain": [
       "| solver                         | Solver used for training                         | sgd      |"
      ]
     },
     "metadata": {},
     "output_type": "display_data"
    },
    {
     "data": {
      "text/html": [
       "<pre>| linear_regularization          | L2 Regularization on Linear Coefficients         | 1e-10    |</pre>"
      ],
      "text/plain": [
       "| linear_regularization          | L2 Regularization on Linear Coefficients         | 1e-10    |"
      ]
     },
     "metadata": {},
     "output_type": "display_data"
    },
    {
     "data": {
      "text/html": [
       "<pre>| max_iterations                 | Maximum Number of Iterations                     | 50       |</pre>"
      ],
      "text/plain": [
       "| max_iterations                 | Maximum Number of Iterations                     | 50       |"
      ]
     },
     "metadata": {},
     "output_type": "display_data"
    },
    {
     "data": {
      "text/html": [
       "<pre>+--------------------------------+--------------------------------------------------+----------+</pre>"
      ],
      "text/plain": [
       "+--------------------------------+--------------------------------------------------+----------+"
      ]
     },
     "metadata": {},
     "output_type": "display_data"
    },
    {
     "data": {
      "text/html": [
       "<pre>  Optimizing model using SGD; tuning step size.</pre>"
      ],
      "text/plain": [
       "  Optimizing model using SGD; tuning step size."
      ]
     },
     "metadata": {},
     "output_type": "display_data"
    },
    {
     "data": {
      "text/html": [
       "<pre>  Using 8 / 8 points for tuning the step size.</pre>"
      ],
      "text/plain": [
       "  Using 8 / 8 points for tuning the step size."
      ]
     },
     "metadata": {},
     "output_type": "display_data"
    },
    {
     "data": {
      "text/html": [
       "<pre>+---------+-------------------+------------------------------------------+</pre>"
      ],
      "text/plain": [
       "+---------+-------------------+------------------------------------------+"
      ]
     },
     "metadata": {},
     "output_type": "display_data"
    },
    {
     "data": {
      "text/html": [
       "<pre>| Attempt | Initial Step Size | Estimated Objective Value                |</pre>"
      ],
      "text/plain": [
       "| Attempt | Initial Step Size | Estimated Objective Value                |"
      ]
     },
     "metadata": {},
     "output_type": "display_data"
    },
    {
     "data": {
      "text/html": [
       "<pre>+---------+-------------------+------------------------------------------+</pre>"
      ],
      "text/plain": [
       "+---------+-------------------+------------------------------------------+"
      ]
     },
     "metadata": {},
     "output_type": "display_data"
    },
    {
     "data": {
      "text/html": [
       "<pre>| 0       | 25                | Not Viable                               |</pre>"
      ],
      "text/plain": [
       "| 0       | 25                | Not Viable                               |"
      ]
     },
     "metadata": {},
     "output_type": "display_data"
    },
    {
     "data": {
      "text/html": [
       "<pre>| 1       | 6.25              | Not Viable                               |</pre>"
      ],
      "text/plain": [
       "| 1       | 6.25              | Not Viable                               |"
      ]
     },
     "metadata": {},
     "output_type": "display_data"
    },
    {
     "data": {
      "text/html": [
       "<pre>| 2       | 1.5625            | No Decrease (9.60715 >= 1.85907)         |</pre>"
      ],
      "text/plain": [
       "| 2       | 1.5625            | No Decrease (9.60715 >= 1.85907)         |"
      ]
     },
     "metadata": {},
     "output_type": "display_data"
    },
    {
     "data": {
      "text/html": [
       "<pre>| 3       | 0.390625          | 0.668311                                 |</pre>"
      ],
      "text/plain": [
       "| 3       | 0.390625          | 0.668311                                 |"
      ]
     },
     "metadata": {},
     "output_type": "display_data"
    },
    {
     "data": {
      "text/html": [
       "<pre>| 4       | 0.195312          | 0.698205                                 |</pre>"
      ],
      "text/plain": [
       "| 4       | 0.195312          | 0.698205                                 |"
      ]
     },
     "metadata": {},
     "output_type": "display_data"
    },
    {
     "data": {
      "text/html": [
       "<pre>| 5       | 0.0976562         | 0.838388                                 |</pre>"
      ],
      "text/plain": [
       "| 5       | 0.0976562         | 0.838388                                 |"
      ]
     },
     "metadata": {},
     "output_type": "display_data"
    },
    {
     "data": {
      "text/html": [
       "<pre>| 6       | 0.0488281         | 1.12493                                  |</pre>"
      ],
      "text/plain": [
       "| 6       | 0.0488281         | 1.12493                                  |"
      ]
     },
     "metadata": {},
     "output_type": "display_data"
    },
    {
     "data": {
      "text/html": [
       "<pre>+---------+-------------------+------------------------------------------+</pre>"
      ],
      "text/plain": [
       "+---------+-------------------+------------------------------------------+"
      ]
     },
     "metadata": {},
     "output_type": "display_data"
    },
    {
     "data": {
      "text/html": [
       "<pre>| Final   | 0.390625          | 0.668311                                 |</pre>"
      ],
      "text/plain": [
       "| Final   | 0.390625          | 0.668311                                 |"
      ]
     },
     "metadata": {},
     "output_type": "display_data"
    },
    {
     "data": {
      "text/html": [
       "<pre>+---------+-------------------+------------------------------------------+</pre>"
      ],
      "text/plain": [
       "+---------+-------------------+------------------------------------------+"
      ]
     },
     "metadata": {},
     "output_type": "display_data"
    },
    {
     "data": {
      "text/html": [
       "<pre>Starting Optimization.</pre>"
      ],
      "text/plain": [
       "Starting Optimization."
      ]
     },
     "metadata": {},
     "output_type": "display_data"
    },
    {
     "data": {
      "text/html": [
       "<pre>+---------+--------------+-------------------+-----------------------+-------------+</pre>"
      ],
      "text/plain": [
       "+---------+--------------+-------------------+-----------------------+-------------+"
      ]
     },
     "metadata": {},
     "output_type": "display_data"
    },
    {
     "data": {
      "text/html": [
       "<pre>| Iter.   | Elapsed Time | Approx. Objective | Approx. Training RMSE | Step Size   |</pre>"
      ],
      "text/plain": [
       "| Iter.   | Elapsed Time | Approx. Objective | Approx. Training RMSE | Step Size   |"
      ]
     },
     "metadata": {},
     "output_type": "display_data"
    },
    {
     "data": {
      "text/html": [
       "<pre>+---------+--------------+-------------------+-----------------------+-------------+</pre>"
      ],
      "text/plain": [
       "+---------+--------------+-------------------+-----------------------+-------------+"
      ]
     },
     "metadata": {},
     "output_type": "display_data"
    },
    {
     "data": {
      "text/html": [
       "<pre>| Initial | 166us        | 1.85907           | 1.36348               |             |</pre>"
      ],
      "text/plain": [
       "| Initial | 166us        | 1.85907           | 1.36348               |             |"
      ]
     },
     "metadata": {},
     "output_type": "display_data"
    },
    {
     "data": {
      "text/html": [
       "<pre>+---------+--------------+-------------------+-----------------------+-------------+</pre>"
      ],
      "text/plain": [
       "+---------+--------------+-------------------+-----------------------+-------------+"
      ]
     },
     "metadata": {},
     "output_type": "display_data"
    },
    {
     "data": {
      "text/html": [
       "<pre>| 1       | 12.814ms     | 3.42382           | 1.85036               | 0.390625    |</pre>"
      ],
      "text/plain": [
       "| 1       | 12.814ms     | 3.42382           | 1.85036               | 0.390625    |"
      ]
     },
     "metadata": {},
     "output_type": "display_data"
    },
    {
     "data": {
      "text/html": [
       "<pre>| 2       | 14.281ms     | 2.56356           | 1.60111               | 0.232267    |</pre>"
      ],
      "text/plain": [
       "| 2       | 14.281ms     | 2.56356           | 1.60111               | 0.232267    |"
      ]
     },
     "metadata": {},
     "output_type": "display_data"
    },
    {
     "data": {
      "text/html": [
       "<pre>| 3       | 14.792ms     | 1.43927           | 1.1997                | 0.171364    |</pre>"
      ],
      "text/plain": [
       "| 3       | 14.792ms     | 1.43927           | 1.1997                | 0.171364    |"
      ]
     },
     "metadata": {},
     "output_type": "display_data"
    },
    {
     "data": {
      "text/html": [
       "<pre>| 4       | 15.734ms     | 1.14831           | 1.07159               | 0.116134    |</pre>"
      ],
      "text/plain": [
       "| 4       | 15.734ms     | 1.14831           | 1.07159               | 0.116134    |"
      ]
     },
     "metadata": {},
     "output_type": "display_data"
    },
    {
     "data": {
      "text/html": [
       "<pre>| 5       | 16.252ms     | 1.00593           | 1.00296               | 0.098237    |</pre>"
      ],
      "text/plain": [
       "| 5       | 16.252ms     | 1.00593           | 1.00296               | 0.098237    |"
      ]
     },
     "metadata": {},
     "output_type": "display_data"
    },
    {
     "data": {
      "text/html": [
       "<pre>| 6       | 16.677ms     | 0.887975          | 0.942324              | 0.0856819   |</pre>"
      ],
      "text/plain": [
       "| 6       | 16.677ms     | 0.887975          | 0.942324              | 0.0856819   |"
      ]
     },
     "metadata": {},
     "output_type": "display_data"
    },
    {
     "data": {
      "text/html": [
       "<pre>| 11      | 19.204ms     | 0.788717          | 0.888097              | 0.0543824   |</pre>"
      ],
      "text/plain": [
       "| 11      | 19.204ms     | 0.788717          | 0.888097              | 0.0543824   |"
      ]
     },
     "metadata": {},
     "output_type": "display_data"
    },
    {
     "data": {
      "text/html": [
       "<pre>+---------+--------------+-------------------+-----------------------+-------------+</pre>"
      ],
      "text/plain": [
       "+---------+--------------+-------------------+-----------------------+-------------+"
      ]
     },
     "metadata": {},
     "output_type": "display_data"
    },
    {
     "data": {
      "text/html": [
       "<pre>Optimization Complete: Maximum number of passes through the data reached.</pre>"
      ],
      "text/plain": [
       "Optimization Complete: Maximum number of passes through the data reached."
      ]
     },
     "metadata": {},
     "output_type": "display_data"
    },
    {
     "data": {
      "text/html": [
       "<pre>Computing final objective value and training RMSE.</pre>"
      ],
      "text/plain": [
       "Computing final objective value and training RMSE."
      ]
     },
     "metadata": {},
     "output_type": "display_data"
    },
    {
     "data": {
      "text/html": [
       "<pre>       Final objective value: 0.00568183</pre>"
      ],
      "text/plain": [
       "       Final objective value: 0.00568183"
      ]
     },
     "metadata": {},
     "output_type": "display_data"
    },
    {
     "data": {
      "text/html": [
       "<pre>       Final training RMSE: 0.0753776</pre>"
      ],
      "text/plain": [
       "       Final training RMSE: 0.0753776"
      ]
     },
     "metadata": {},
     "output_type": "display_data"
    }
   ],
   "source": [
    "sf100 = gl.SFrame({'user_id': [\"0\", \"0\", \"0\", \"1\", \"1\", \"2\", \"2\", \"2\"], \\\n",
    "                         'item_id': [\"a\", \"b\", \"c\", \"a\", \"b\", \"b\", \"c\", \"d\"], \\\n",
    "                         'rating': [1, 3, 2, 5, 4, 1, 4, 3]})\n",
    "m100 = gl.factorization_recommender.create(sf100, user_id='user_id', item_id='item_id', target='rating')"
   ]
  },
  {
   "cell_type": "code",
   "execution_count": 264,
   "metadata": {
    "collapsed": false,
    "scrolled": true
   },
   "outputs": [
    {
     "data": {
      "text/html": [
       "<div style=\"max-height:1000px;max-width:1500px;overflow:auto;\"><table frame=\"box\" rules=\"cols\">\n",
       "    <tr>\n",
       "        <th style=\"padding-left: 1em; padding-right: 1em; text-align: center\">userId</th>\n",
       "        <th style=\"padding-left: 1em; padding-right: 1em; text-align: center\">productId</th>\n",
       "        <th style=\"padding-left: 1em; padding-right: 1em; text-align: center\">score</th>\n",
       "        <th style=\"padding-left: 1em; padding-right: 1em; text-align: center\">rank</th>\n",
       "    </tr>\n",
       "    <tr>\n",
       "        <td style=\"padding-left: 1em; padding-right: 1em; text-align: center; vertical-align: top\">122</td>\n",
       "        <td style=\"padding-left: 1em; padding-right: 1em; text-align: center; vertical-align: top\">28322</td>\n",
       "        <td style=\"padding-left: 1em; padding-right: 1em; text-align: center; vertical-align: top\">13.1978851373</td>\n",
       "        <td style=\"padding-left: 1em; padding-right: 1em; text-align: center; vertical-align: top\">1</td>\n",
       "    </tr>\n",
       "    <tr>\n",
       "        <td style=\"padding-left: 1em; padding-right: 1em; text-align: center; vertical-align: top\">122</td>\n",
       "        <td style=\"padding-left: 1em; padding-right: 1em; text-align: center; vertical-align: top\">27350</td>\n",
       "        <td style=\"padding-left: 1em; padding-right: 1em; text-align: center; vertical-align: top\">13.1895774426</td>\n",
       "        <td style=\"padding-left: 1em; padding-right: 1em; text-align: center; vertical-align: top\">2</td>\n",
       "    </tr>\n",
       "    <tr>\n",
       "        <td style=\"padding-left: 1em; padding-right: 1em; text-align: center; vertical-align: top\">122</td>\n",
       "        <td style=\"padding-left: 1em; padding-right: 1em; text-align: center; vertical-align: top\">prod1560084</td>\n",
       "        <td style=\"padding-left: 1em; padding-right: 1em; text-align: center; vertical-align: top\">13.0548508891</td>\n",
       "        <td style=\"padding-left: 1em; padding-right: 1em; text-align: center; vertical-align: top\">3</td>\n",
       "    </tr>\n",
       "    <tr>\n",
       "        <td style=\"padding-left: 1em; padding-right: 1em; text-align: center; vertical-align: top\">122</td>\n",
       "        <td style=\"padding-left: 1em; padding-right: 1em; text-align: center; vertical-align: top\">prod2140022</td>\n",
       "        <td style=\"padding-left: 1em; padding-right: 1em; text-align: center; vertical-align: top\">13.0026751979</td>\n",
       "        <td style=\"padding-left: 1em; padding-right: 1em; text-align: center; vertical-align: top\">4</td>\n",
       "    </tr>\n",
       "    <tr>\n",
       "        <td style=\"padding-left: 1em; padding-right: 1em; text-align: center; vertical-align: top\">122</td>\n",
       "        <td style=\"padding-left: 1em; padding-right: 1em; text-align: center; vertical-align: top\">prod2030074</td>\n",
       "        <td style=\"padding-left: 1em; padding-right: 1em; text-align: center; vertical-align: top\">12.9391159817</td>\n",
       "        <td style=\"padding-left: 1em; padding-right: 1em; text-align: center; vertical-align: top\">5</td>\n",
       "    </tr>\n",
       "    <tr>\n",
       "        <td style=\"padding-left: 1em; padding-right: 1em; text-align: center; vertical-align: top\">122</td>\n",
       "        <td style=\"padding-left: 1em; padding-right: 1em; text-align: center; vertical-align: top\">28321</td>\n",
       "        <td style=\"padding-left: 1em; padding-right: 1em; text-align: center; vertical-align: top\">12.9166250296</td>\n",
       "        <td style=\"padding-left: 1em; padding-right: 1em; text-align: center; vertical-align: top\">6</td>\n",
       "    </tr>\n",
       "    <tr>\n",
       "        <td style=\"padding-left: 1em; padding-right: 1em; text-align: center; vertical-align: top\">122</td>\n",
       "        <td style=\"padding-left: 1em; padding-right: 1em; text-align: center; vertical-align: top\">prod2690002</td>\n",
       "        <td style=\"padding-left: 1em; padding-right: 1em; text-align: center; vertical-align: top\">12.7456378103</td>\n",
       "        <td style=\"padding-left: 1em; padding-right: 1em; text-align: center; vertical-align: top\">7</td>\n",
       "    </tr>\n",
       "    <tr>\n",
       "        <td style=\"padding-left: 1em; padding-right: 1em; text-align: center; vertical-align: top\">122</td>\n",
       "        <td style=\"padding-left: 1em; padding-right: 1em; text-align: center; vertical-align: top\">prod1390054</td>\n",
       "        <td style=\"padding-left: 1em; padding-right: 1em; text-align: center; vertical-align: top\">12.7440938766</td>\n",
       "        <td style=\"padding-left: 1em; padding-right: 1em; text-align: center; vertical-align: top\">8</td>\n",
       "    </tr>\n",
       "    <tr>\n",
       "        <td style=\"padding-left: 1em; padding-right: 1em; text-align: center; vertical-align: top\">122</td>\n",
       "        <td style=\"padding-left: 1em; padding-right: 1em; text-align: center; vertical-align: top\">prod1560080</td>\n",
       "        <td style=\"padding-left: 1em; padding-right: 1em; text-align: center; vertical-align: top\">12.6116011596</td>\n",
       "        <td style=\"padding-left: 1em; padding-right: 1em; text-align: center; vertical-align: top\">9</td>\n",
       "    </tr>\n",
       "    <tr>\n",
       "        <td style=\"padding-left: 1em; padding-right: 1em; text-align: center; vertical-align: top\">122</td>\n",
       "        <td style=\"padding-left: 1em; padding-right: 1em; text-align: center; vertical-align: top\">25351</td>\n",
       "        <td style=\"padding-left: 1em; padding-right: 1em; text-align: center; vertical-align: top\">12.5038680675</td>\n",
       "        <td style=\"padding-left: 1em; padding-right: 1em; text-align: center; vertical-align: top\">10</td>\n",
       "    </tr>\n",
       "</table>\n",
       "[10 rows x 4 columns]<br/>\n",
       "</div>"
      ],
      "text/plain": [
       "Columns:\n",
       "\tuserId\tint\n",
       "\tproductId\tstr\n",
       "\tscore\tfloat\n",
       "\trank\tint\n",
       "\n",
       "Rows: 10\n",
       "\n",
       "Data:\n",
       "+--------+-------------+---------------+------+\n",
       "| userId |  productId  |     score     | rank |\n",
       "+--------+-------------+---------------+------+\n",
       "|  122   |    28322    | 13.1978851373 |  1   |\n",
       "|  122   |    27350    | 13.1895774426 |  2   |\n",
       "|  122   | prod1560084 | 13.0548508891 |  3   |\n",
       "|  122   | prod2140022 | 13.0026751979 |  4   |\n",
       "|  122   | prod2030074 | 12.9391159817 |  5   |\n",
       "|  122   |    28321    | 12.9166250296 |  6   |\n",
       "|  122   | prod2690002 | 12.7456378103 |  7   |\n",
       "|  122   | prod1390054 | 12.7440938766 |  8   |\n",
       "|  122   | prod1560080 | 12.6116011596 |  9   |\n",
       "|  122   |    25351    | 12.5038680675 |  10  |\n",
       "+--------+-------------+---------------+------+\n",
       "[10 rows x 4 columns]"
      ]
     },
     "execution_count": 264,
     "metadata": {},
     "output_type": "execute_result"
    }
   ],
   "source": [
    "recent_data = gl.SFrame({'userId':[122],'username':['test'], 'height': ['60'], 'weight': ['110'], 'bodyfat': ['32.0']})\n",
    "\n",
    "m.recommend(users=[122], new_user_data=recent_data)"
   ]
  },
  {
   "cell_type": "code",
   "execution_count": 269,
   "metadata": {
    "collapsed": false
   },
   "outputs": [
    {
     "data": {
      "text/html": [
       "<div>\n",
       "<table border=\"1\" class=\"dataframe\">\n",
       "  <thead>\n",
       "    <tr style=\"text-align: right;\">\n",
       "      <th></th>\n",
       "      <th>brandName</th>\n",
       "      <th>brandId</th>\n",
       "      <th>name</th>\n",
       "      <th>productId</th>\n",
       "      <th>username</th>\n",
       "      <th>userId</th>\n",
       "      <th>_id</th>\n",
       "      <th>height</th>\n",
       "      <th>weight</th>\n",
       "      <th>bodyfat</th>\n",
       "      <th>totalItems</th>\n",
       "      <th>text</th>\n",
       "      <th>date</th>\n",
       "      <th>modDate</th>\n",
       "      <th>slug</th>\n",
       "      <th>verifiedBuyerRating</th>\n",
       "      <th>description</th>\n",
       "      <th>updateStatusReason</th>\n",
       "      <th>rating</th>\n",
       "    </tr>\n",
       "  </thead>\n",
       "  <tbody>\n",
       "    <tr>\n",
       "      <th>48418</th>\n",
       "      <td>Walden Farms</td>\n",
       "      <td>BRAND_WALDEN_FARMS</td>\n",
       "      <td>Barbeque Sauce</td>\n",
       "      <td>28322</td>\n",
       "      <td>nicoleliving</td>\n",
       "      <td>92641122</td>\n",
       "      <td>5828d4b10cf2a231f23cb158</td>\n",
       "      <td>67.0</td>\n",
       "      <td>125.0</td>\n",
       "      <td>12.0</td>\n",
       "      <td>7</td>\n",
       "      <td>not the same as sugary bad for you bbq but it ...</td>\n",
       "      <td>{u'$numberLong': u'1479070897000'}</td>\n",
       "      <td>{u'$numberLong': u'1479070897000'}</td>\n",
       "      <td>nicoleliving</td>\n",
       "      <td>8.6</td>\n",
       "      <td>No Carbs, Sugar Free And Calorie Free!</td>\n",
       "      <td>None</td>\n",
       "      <td>10.0</td>\n",
       "    </tr>\n",
       "    <tr>\n",
       "      <th>48419</th>\n",
       "      <td>Walden Farms</td>\n",
       "      <td>BRAND_WALDEN_FARMS</td>\n",
       "      <td>Barbeque Sauce</td>\n",
       "      <td>28322</td>\n",
       "      <td>alexsilverfagan</td>\n",
       "      <td>59295882</td>\n",
       "      <td>5551fa2c0cf2be3a93cc2fff</td>\n",
       "      <td>64.0</td>\n",
       "      <td>115.0</td>\n",
       "      <td>13.4</td>\n",
       "      <td>7</td>\n",
       "      <td>I have been using this product for a year now ...</td>\n",
       "      <td>{u'$numberLong': u'1431435820000'}</td>\n",
       "      <td>{u'$numberLong': u'1431435820000'}</td>\n",
       "      <td>alexsilverfagan</td>\n",
       "      <td>8.6</td>\n",
       "      <td>No Carbs, Sugar Free And Calorie Free!</td>\n",
       "      <td>None</td>\n",
       "      <td>10.0</td>\n",
       "    </tr>\n",
       "    <tr>\n",
       "      <th>48420</th>\n",
       "      <td>Walden Farms</td>\n",
       "      <td>BRAND_WALDEN_FARMS</td>\n",
       "      <td>Barbeque Sauce</td>\n",
       "      <td>28322</td>\n",
       "      <td>lilly2026</td>\n",
       "      <td>93787712</td>\n",
       "      <td>543eb66a0cf25548b189a2af</td>\n",
       "      <td>None</td>\n",
       "      <td>None</td>\n",
       "      <td>None</td>\n",
       "      <td>7</td>\n",
       "      <td></td>\n",
       "      <td>{u'$numberLong': u'1413396074000'}</td>\n",
       "      <td>{u'$numberLong': u'1413396074000'}</td>\n",
       "      <td>lilly2026</td>\n",
       "      <td>8.6</td>\n",
       "      <td>No Carbs, Sugar Free And Calorie Free!</td>\n",
       "      <td>None</td>\n",
       "      <td>1.0</td>\n",
       "    </tr>\n",
       "    <tr>\n",
       "      <th>48421</th>\n",
       "      <td>Walden Farms</td>\n",
       "      <td>BRAND_WALDEN_FARMS</td>\n",
       "      <td>Barbeque Sauce</td>\n",
       "      <td>28322</td>\n",
       "      <td>mrq1324</td>\n",
       "      <td>26033741</td>\n",
       "      <td>53a4bfb50cf216b9260a9b8b</td>\n",
       "      <td>68.0</td>\n",
       "      <td>188.2</td>\n",
       "      <td>17.0</td>\n",
       "      <td>7</td>\n",
       "      <td>This stuff is amazing!!! So impressed. Delicio...</td>\n",
       "      <td>{u'$numberLong': u'1403305909000'}</td>\n",
       "      <td>{u'$numberLong': u'1403305909000'}</td>\n",
       "      <td>mrq1324</td>\n",
       "      <td>8.6</td>\n",
       "      <td>No Carbs, Sugar Free And Calorie Free!</td>\n",
       "      <td>None</td>\n",
       "      <td>10.0</td>\n",
       "    </tr>\n",
       "    <tr>\n",
       "      <th>48422</th>\n",
       "      <td>Walden Farms</td>\n",
       "      <td>BRAND_WALDEN_FARMS</td>\n",
       "      <td>Barbeque Sauce</td>\n",
       "      <td>28322</td>\n",
       "      <td>Kiraavw</td>\n",
       "      <td>64988412</td>\n",
       "      <td>51f9a0b10cf25611125e688b</td>\n",
       "      <td>66.0</td>\n",
       "      <td>176.0</td>\n",
       "      <td>24.0</td>\n",
       "      <td>7</td>\n",
       "      <td>This is very tasty but loaded with sodium so u...</td>\n",
       "      <td>{u'$numberLong': u'1375314097000'}</td>\n",
       "      <td>{u'$numberLong': u'1375314097000'}</td>\n",
       "      <td>Kiraavw</td>\n",
       "      <td>8.6</td>\n",
       "      <td>No Carbs, Sugar Free And Calorie Free!</td>\n",
       "      <td>None</td>\n",
       "      <td>9.0</td>\n",
       "    </tr>\n",
       "    <tr>\n",
       "      <th>48423</th>\n",
       "      <td>Walden Farms</td>\n",
       "      <td>BRAND_WALDEN_FARMS</td>\n",
       "      <td>Barbeque Sauce</td>\n",
       "      <td>28322</td>\n",
       "      <td>quiqueaguilarm1</td>\n",
       "      <td>58871442</td>\n",
       "      <td>51a7c7740cf23b2043039b47</td>\n",
       "      <td>67.72</td>\n",
       "      <td>155.65</td>\n",
       "      <td>16.0</td>\n",
       "      <td>7</td>\n",
       "      <td>The taste of chicken,meat,and fish with this i...</td>\n",
       "      <td>{u'$numberLong': u'1367075442000'}</td>\n",
       "      <td>{u'$numberLong': u'1376087847000'}</td>\n",
       "      <td>quiqueaguilarm1</td>\n",
       "      <td>8.6</td>\n",
       "      <td>No Carbs, Sugar Free And Calorie Free!</td>\n",
       "      <td>None</td>\n",
       "      <td>10.0</td>\n",
       "    </tr>\n",
       "    <tr>\n",
       "      <th>48424</th>\n",
       "      <td>Walden Farms</td>\n",
       "      <td>BRAND_WALDEN_FARMS</td>\n",
       "      <td>Barbeque Sauce</td>\n",
       "      <td>28322</td>\n",
       "      <td>peteni5588</td>\n",
       "      <td>31571262</td>\n",
       "      <td>51a7c76d0cf23b2043020066</td>\n",
       "      <td>67.0</td>\n",
       "      <td>180.0</td>\n",
       "      <td>None</td>\n",
       "      <td>7</td>\n",
       "      <td>I thought that this tasted really good. Burned...</td>\n",
       "      <td>{u'$numberLong': u'1301968427000'}</td>\n",
       "      <td>{u'$numberLong': u'1376081480000'}</td>\n",
       "      <td>peteni5588</td>\n",
       "      <td>8.6</td>\n",
       "      <td>No Carbs, Sugar Free And Calorie Free!</td>\n",
       "      <td>None</td>\n",
       "      <td>10.0</td>\n",
       "    </tr>\n",
       "  </tbody>\n",
       "</table>\n",
       "</div>"
      ],
      "text/plain": [
       "          brandName             brandId            name productId  \\\n",
       "48418  Walden Farms  BRAND_WALDEN_FARMS  Barbeque Sauce     28322   \n",
       "48419  Walden Farms  BRAND_WALDEN_FARMS  Barbeque Sauce     28322   \n",
       "48420  Walden Farms  BRAND_WALDEN_FARMS  Barbeque Sauce     28322   \n",
       "48421  Walden Farms  BRAND_WALDEN_FARMS  Barbeque Sauce     28322   \n",
       "48422  Walden Farms  BRAND_WALDEN_FARMS  Barbeque Sauce     28322   \n",
       "48423  Walden Farms  BRAND_WALDEN_FARMS  Barbeque Sauce     28322   \n",
       "48424  Walden Farms  BRAND_WALDEN_FARMS  Barbeque Sauce     28322   \n",
       "\n",
       "              username    userId                       _id height  weight  \\\n",
       "48418     nicoleliving  92641122  5828d4b10cf2a231f23cb158   67.0   125.0   \n",
       "48419  alexsilverfagan  59295882  5551fa2c0cf2be3a93cc2fff   64.0   115.0   \n",
       "48420        lilly2026  93787712  543eb66a0cf25548b189a2af   None    None   \n",
       "48421          mrq1324  26033741  53a4bfb50cf216b9260a9b8b   68.0   188.2   \n",
       "48422          Kiraavw  64988412  51f9a0b10cf25611125e688b   66.0   176.0   \n",
       "48423  quiqueaguilarm1  58871442  51a7c7740cf23b2043039b47  67.72  155.65   \n",
       "48424       peteni5588  31571262  51a7c76d0cf23b2043020066   67.0   180.0   \n",
       "\n",
       "      bodyfat  totalItems                                               text  \\\n",
       "48418    12.0           7  not the same as sugary bad for you bbq but it ...   \n",
       "48419    13.4           7  I have been using this product for a year now ...   \n",
       "48420    None           7                                                      \n",
       "48421    17.0           7  This stuff is amazing!!! So impressed. Delicio...   \n",
       "48422    24.0           7  This is very tasty but loaded with sodium so u...   \n",
       "48423    16.0           7  The taste of chicken,meat,and fish with this i...   \n",
       "48424    None           7  I thought that this tasted really good. Burned...   \n",
       "\n",
       "                                     date                             modDate  \\\n",
       "48418  {u'$numberLong': u'1479070897000'}  {u'$numberLong': u'1479070897000'}   \n",
       "48419  {u'$numberLong': u'1431435820000'}  {u'$numberLong': u'1431435820000'}   \n",
       "48420  {u'$numberLong': u'1413396074000'}  {u'$numberLong': u'1413396074000'}   \n",
       "48421  {u'$numberLong': u'1403305909000'}  {u'$numberLong': u'1403305909000'}   \n",
       "48422  {u'$numberLong': u'1375314097000'}  {u'$numberLong': u'1375314097000'}   \n",
       "48423  {u'$numberLong': u'1367075442000'}  {u'$numberLong': u'1376087847000'}   \n",
       "48424  {u'$numberLong': u'1301968427000'}  {u'$numberLong': u'1376081480000'}   \n",
       "\n",
       "                  slug  verifiedBuyerRating  \\\n",
       "48418     nicoleliving                  8.6   \n",
       "48419  alexsilverfagan                  8.6   \n",
       "48420        lilly2026                  8.6   \n",
       "48421          mrq1324                  8.6   \n",
       "48422          Kiraavw                  8.6   \n",
       "48423  quiqueaguilarm1                  8.6   \n",
       "48424       peteni5588                  8.6   \n",
       "\n",
       "                                  description updateStatusReason  rating  \n",
       "48418  No Carbs, Sugar Free And Calorie Free!               None    10.0  \n",
       "48419  No Carbs, Sugar Free And Calorie Free!               None    10.0  \n",
       "48420  No Carbs, Sugar Free And Calorie Free!               None     1.0  \n",
       "48421  No Carbs, Sugar Free And Calorie Free!               None    10.0  \n",
       "48422  No Carbs, Sugar Free And Calorie Free!               None     9.0  \n",
       "48423  No Carbs, Sugar Free And Calorie Free!               None    10.0  \n",
       "48424  No Carbs, Sugar Free And Calorie Free!               None    10.0  "
      ]
     },
     "execution_count": 269,
     "metadata": {},
     "output_type": "execute_result"
    }
   ],
   "source": [
    "df[df.productId == '28322']\n"
   ]
  },
  {
   "cell_type": "code",
   "execution_count": 238,
   "metadata": {
    "collapsed": false
   },
   "outputs": [
    {
     "data": {
      "text/html": [
       "<div>\n",
       "<table border=\"1\" class=\"dataframe\">\n",
       "  <thead>\n",
       "    <tr style=\"text-align: right;\">\n",
       "      <th></th>\n",
       "      <th>brandName</th>\n",
       "      <th>brandId</th>\n",
       "      <th>name</th>\n",
       "      <th>productId</th>\n",
       "      <th>username</th>\n",
       "      <th>userId</th>\n",
       "      <th>_id</th>\n",
       "      <th>height</th>\n",
       "      <th>weight</th>\n",
       "      <th>bodyfat</th>\n",
       "      <th>totalItems</th>\n",
       "      <th>text</th>\n",
       "      <th>date</th>\n",
       "      <th>modDate</th>\n",
       "      <th>slug</th>\n",
       "      <th>verifiedBuyerRating</th>\n",
       "      <th>description</th>\n",
       "      <th>updateStatusReason</th>\n",
       "      <th>rating</th>\n",
       "    </tr>\n",
       "  </thead>\n",
       "  <tbody>\n",
       "    <tr>\n",
       "      <th>25963</th>\n",
       "      <td>Nature's Best</td>\n",
       "      <td>BRAND_NATURE_S_BEST</td>\n",
       "      <td>Zero Carb Isopure</td>\n",
       "      <td>25351</td>\n",
       "      <td>dvalego</td>\n",
       "      <td>139575281</td>\n",
       "      <td>581a52600cf2729002346a26</td>\n",
       "      <td>None</td>\n",
       "      <td>None</td>\n",
       "      <td>None</td>\n",
       "      <td>195</td>\n",
       "      <td>Highly recommend. Other than all the good stuf...</td>\n",
       "      <td>{u'$numberLong': u'1478120031000'}</td>\n",
       "      <td>{u'$numberLong': u'1478120031000'}</td>\n",
       "      <td>dvalego</td>\n",
       "      <td>8.8</td>\n",
       "      <td>With 50 Grams Of Protein From 100% Whey Protei...</td>\n",
       "      <td>None</td>\n",
       "      <td>10.000000</td>\n",
       "    </tr>\n",
       "    <tr>\n",
       "      <th>25964</th>\n",
       "      <td>Nature's Best</td>\n",
       "      <td>BRAND_NATURE_S_BEST</td>\n",
       "      <td>Zero Carb Isopure</td>\n",
       "      <td>25351</td>\n",
       "      <td>melc79</td>\n",
       "      <td>46866871</td>\n",
       "      <td>5818e5ce0cf2b35b2ed9b971</td>\n",
       "      <td>68.0</td>\n",
       "      <td>163.0</td>\n",
       "      <td>32.0</td>\n",
       "      <td>195</td>\n",
       "      <td>This protein is very light and mixes really we...</td>\n",
       "      <td>{u'$numberLong': u'1478026702000'}</td>\n",
       "      <td>{u'$numberLong': u'1478026702000'}</td>\n",
       "      <td>melc79</td>\n",
       "      <td>8.8</td>\n",
       "      <td>With 50 Grams Of Protein From 100% Whey Protei...</td>\n",
       "      <td>None</td>\n",
       "      <td>8.000000</td>\n",
       "    </tr>\n",
       "    <tr>\n",
       "      <th>25965</th>\n",
       "      <td>Nature's Best</td>\n",
       "      <td>BRAND_NATURE_S_BEST</td>\n",
       "      <td>Zero Carb Isopure</td>\n",
       "      <td>25351</td>\n",
       "      <td>carcar5</td>\n",
       "      <td>74662731</td>\n",
       "      <td>581013b50cf23884c0c97a90</td>\n",
       "      <td>None</td>\n",
       "      <td>None</td>\n",
       "      <td>None</td>\n",
       "      <td>195</td>\n",
       "      <td></td>\n",
       "      <td>{u'$numberLong': u'1477448629000'}</td>\n",
       "      <td>{u'$numberLong': u'1477448629000'}</td>\n",
       "      <td>carcar5</td>\n",
       "      <td>8.8</td>\n",
       "      <td>With 50 Grams Of Protein From 100% Whey Protei...</td>\n",
       "      <td>None</td>\n",
       "      <td>8.000000</td>\n",
       "    </tr>\n",
       "    <tr>\n",
       "      <th>25966</th>\n",
       "      <td>Nature's Best</td>\n",
       "      <td>BRAND_NATURE_S_BEST</td>\n",
       "      <td>Zero Carb Isopure</td>\n",
       "      <td>25351</td>\n",
       "      <td>frankjfjr</td>\n",
       "      <td>100015082</td>\n",
       "      <td>580fa0ed0cf2d69400e6d530</td>\n",
       "      <td>None</td>\n",
       "      <td>None</td>\n",
       "      <td>None</td>\n",
       "      <td>195</td>\n",
       "      <td>I can't find another protein with as many vita...</td>\n",
       "      <td>{u'$numberLong': u'1477419245000'}</td>\n",
       "      <td>{u'$numberLong': u'1477419245000'}</td>\n",
       "      <td>frankjfjr</td>\n",
       "      <td>8.8</td>\n",
       "      <td>With 50 Grams Of Protein From 100% Whey Protei...</td>\n",
       "      <td>None</td>\n",
       "      <td>7.000000</td>\n",
       "    </tr>\n",
       "    <tr>\n",
       "      <th>25967</th>\n",
       "      <td>Nature's Best</td>\n",
       "      <td>BRAND_NATURE_S_BEST</td>\n",
       "      <td>Zero Carb Isopure</td>\n",
       "      <td>25351</td>\n",
       "      <td>prossford</td>\n",
       "      <td>142132452</td>\n",
       "      <td>580084270cf2578e700fbec8</td>\n",
       "      <td>None</td>\n",
       "      <td>None</td>\n",
       "      <td>None</td>\n",
       "      <td>195</td>\n",
       "      <td>Creamy vanilla taste more like bitter cookies ...</td>\n",
       "      <td>{u'$numberLong': u'1476428839000'}</td>\n",
       "      <td>{u'$numberLong': u'1476428839000'}</td>\n",
       "      <td>prossford</td>\n",
       "      <td>8.8</td>\n",
       "      <td>With 50 Grams Of Protein From 100% Whey Protei...</td>\n",
       "      <td>None</td>\n",
       "      <td>3.000000</td>\n",
       "    </tr>\n",
       "    <tr>\n",
       "      <th>25968</th>\n",
       "      <td>Nature's Best</td>\n",
       "      <td>BRAND_NATURE_S_BEST</td>\n",
       "      <td>Zero Carb Isopure</td>\n",
       "      <td>25351</td>\n",
       "      <td>OmarXV</td>\n",
       "      <td>115578291</td>\n",
       "      <td>57f34ca60cf298d361bcad70</td>\n",
       "      <td>None</td>\n",
       "      <td>165.0</td>\n",
       "      <td>None</td>\n",
       "      <td>195</td>\n",
       "      <td></td>\n",
       "      <td>{u'$numberLong': u'1475562662000'}</td>\n",
       "      <td>{u'$numberLong': u'1475562662000'}</td>\n",
       "      <td>OmarXV</td>\n",
       "      <td>8.8</td>\n",
       "      <td>With 50 Grams Of Protein From 100% Whey Protei...</td>\n",
       "      <td>None</td>\n",
       "      <td>10.000000</td>\n",
       "    </tr>\n",
       "    <tr>\n",
       "      <th>25969</th>\n",
       "      <td>Nature's Best</td>\n",
       "      <td>BRAND_NATURE_S_BEST</td>\n",
       "      <td>Zero Carb Isopure</td>\n",
       "      <td>25351</td>\n",
       "      <td>jamesez2007</td>\n",
       "      <td>81692162</td>\n",
       "      <td>57e848490cf2556e85fcf07a</td>\n",
       "      <td>None</td>\n",
       "      <td>None</td>\n",
       "      <td>None</td>\n",
       "      <td>195</td>\n",
       "      <td>Great protein overall!  Zero/low carb.  The co...</td>\n",
       "      <td>{u'$numberLong': u'1474840649000'}</td>\n",
       "      <td>{u'$numberLong': u'1474840649000'}</td>\n",
       "      <td>jamesez2007</td>\n",
       "      <td>8.8</td>\n",
       "      <td>With 50 Grams Of Protein From 100% Whey Protei...</td>\n",
       "      <td>None</td>\n",
       "      <td>9.000000</td>\n",
       "    </tr>\n",
       "    <tr>\n",
       "      <th>25970</th>\n",
       "      <td>Nature's Best</td>\n",
       "      <td>BRAND_NATURE_S_BEST</td>\n",
       "      <td>Zero Carb Isopure</td>\n",
       "      <td>25351</td>\n",
       "      <td>micahthompson35</td>\n",
       "      <td>136531551</td>\n",
       "      <td>57d960960cf2bff74ebdf4a5</td>\n",
       "      <td>None</td>\n",
       "      <td>189.0</td>\n",
       "      <td>None</td>\n",
       "      <td>195</td>\n",
       "      <td>I love this protein powder! It has a great tas...</td>\n",
       "      <td>{u'$numberLong': u'1473863830000'}</td>\n",
       "      <td>{u'$numberLong': u'1473863830000'}</td>\n",
       "      <td>micahthompson35</td>\n",
       "      <td>8.8</td>\n",
       "      <td>With 50 Grams Of Protein From 100% Whey Protei...</td>\n",
       "      <td>None</td>\n",
       "      <td>10.000000</td>\n",
       "    </tr>\n",
       "    <tr>\n",
       "      <th>25971</th>\n",
       "      <td>Nature's Best</td>\n",
       "      <td>BRAND_NATURE_S_BEST</td>\n",
       "      <td>Zero Carb Isopure</td>\n",
       "      <td>25351</td>\n",
       "      <td>FrowningAngel</td>\n",
       "      <td>110928141</td>\n",
       "      <td>57cee2ba0cf2590ba94c2188</td>\n",
       "      <td>None</td>\n",
       "      <td>219.0</td>\n",
       "      <td>None</td>\n",
       "      <td>195</td>\n",
       "      <td>Ordering my second 7.5 lb. tub. The fact that ...</td>\n",
       "      <td>{u'$numberLong': u'1473176250000'}</td>\n",
       "      <td>{u'$numberLong': u'1473176250000'}</td>\n",
       "      <td>FrowningAngel</td>\n",
       "      <td>8.8</td>\n",
       "      <td>With 50 Grams Of Protein From 100% Whey Protei...</td>\n",
       "      <td>None</td>\n",
       "      <td>10.000000</td>\n",
       "    </tr>\n",
       "    <tr>\n",
       "      <th>25972</th>\n",
       "      <td>Nature's Best</td>\n",
       "      <td>BRAND_NATURE_S_BEST</td>\n",
       "      <td>Zero Carb Isopure</td>\n",
       "      <td>25351</td>\n",
       "      <td>kgurkovskiy</td>\n",
       "      <td>120196661</td>\n",
       "      <td>57bc57ef0cf2dff32f9e9a44</td>\n",
       "      <td>77.0</td>\n",
       "      <td>280.0</td>\n",
       "      <td>25.0</td>\n",
       "      <td>195</td>\n",
       "      <td>I have tried many other isolate protein but IS...</td>\n",
       "      <td>{u'$numberLong': u'1471961071000'}</td>\n",
       "      <td>{u'$numberLong': u'1471961071000'}</td>\n",
       "      <td>kgurkovskiy</td>\n",
       "      <td>8.8</td>\n",
       "      <td>With 50 Grams Of Protein From 100% Whey Protei...</td>\n",
       "      <td>None</td>\n",
       "      <td>10.000000</td>\n",
       "    </tr>\n",
       "    <tr>\n",
       "      <th>25973</th>\n",
       "      <td>Nature's Best</td>\n",
       "      <td>BRAND_NATURE_S_BEST</td>\n",
       "      <td>Zero Carb Isopure</td>\n",
       "      <td>25351</td>\n",
       "      <td>kmoconn2</td>\n",
       "      <td>115903931</td>\n",
       "      <td>57b6492b0cf2a57e01e39d5a</td>\n",
       "      <td>None</td>\n",
       "      <td>None</td>\n",
       "      <td>None</td>\n",
       "      <td>195</td>\n",
       "      <td>so gnarly. I wish I would have purchased a sam...</td>\n",
       "      <td>{u'$numberLong': u'1471564075000'}</td>\n",
       "      <td>{u'$numberLong': u'1471564075000'}</td>\n",
       "      <td>kmoconn2</td>\n",
       "      <td>8.8</td>\n",
       "      <td>With 50 Grams Of Protein From 100% Whey Protei...</td>\n",
       "      <td>None</td>\n",
       "      <td>3.000000</td>\n",
       "    </tr>\n",
       "    <tr>\n",
       "      <th>25974</th>\n",
       "      <td>Nature's Best</td>\n",
       "      <td>BRAND_NATURE_S_BEST</td>\n",
       "      <td>Zero Carb Isopure</td>\n",
       "      <td>25351</td>\n",
       "      <td>Keitarin</td>\n",
       "      <td>115447321</td>\n",
       "      <td>5797f32b0cf2c269f3d3b0cc</td>\n",
       "      <td>69.0</td>\n",
       "      <td>166.0</td>\n",
       "      <td>24.0</td>\n",
       "      <td>195</td>\n",
       "      <td>I wish this the Mint Chocolate Chip flavor had...</td>\n",
       "      <td>{u'$numberLong': u'1469575979000'}</td>\n",
       "      <td>{u'$numberLong': u'1469575979000'}</td>\n",
       "      <td>Keitarin</td>\n",
       "      <td>8.8</td>\n",
       "      <td>With 50 Grams Of Protein From 100% Whey Protei...</td>\n",
       "      <td>:lifes2good</td>\n",
       "      <td>7.000000</td>\n",
       "    </tr>\n",
       "    <tr>\n",
       "      <th>25975</th>\n",
       "      <td>Nature's Best</td>\n",
       "      <td>BRAND_NATURE_S_BEST</td>\n",
       "      <td>Zero Carb Isopure</td>\n",
       "      <td>25351</td>\n",
       "      <td>mitu123.b</td>\n",
       "      <td>32754632</td>\n",
       "      <td>5791cb630cf288570a4b82fd</td>\n",
       "      <td>None</td>\n",
       "      <td>180.0</td>\n",
       "      <td>6.0</td>\n",
       "      <td>195</td>\n",
       "      <td>This is one of the best isolate protein powder...</td>\n",
       "      <td>{u'$numberLong': u'1469172579000'}</td>\n",
       "      <td>{u'$numberLong': u'1469172579000'}</td>\n",
       "      <td>mitu123b</td>\n",
       "      <td>8.8</td>\n",
       "      <td>With 50 Grams Of Protein From 100% Whey Protei...</td>\n",
       "      <td>None</td>\n",
       "      <td>9.000000</td>\n",
       "    </tr>\n",
       "    <tr>\n",
       "      <th>25976</th>\n",
       "      <td>Nature's Best</td>\n",
       "      <td>BRAND_NATURE_S_BEST</td>\n",
       "      <td>Zero Carb Isopure</td>\n",
       "      <td>25351</td>\n",
       "      <td>andrewkabas</td>\n",
       "      <td>132265871</td>\n",
       "      <td>576d54930cf2076c134244b3</td>\n",
       "      <td>None</td>\n",
       "      <td>None</td>\n",
       "      <td>None</td>\n",
       "      <td>195</td>\n",
       "      <td>The taste was good and i love this brand for b...</td>\n",
       "      <td>{u'$numberLong': u'1466782867000'}</td>\n",
       "      <td>{u'$numberLong': u'1466782867000'}</td>\n",
       "      <td>andrewkabas</td>\n",
       "      <td>8.8</td>\n",
       "      <td>With 50 Grams Of Protein From 100% Whey Protei...</td>\n",
       "      <td>None</td>\n",
       "      <td>10.000000</td>\n",
       "    </tr>\n",
       "    <tr>\n",
       "      <th>25977</th>\n",
       "      <td>Nature's Best</td>\n",
       "      <td>BRAND_NATURE_S_BEST</td>\n",
       "      <td>Zero Carb Isopure</td>\n",
       "      <td>25351</td>\n",
       "      <td>Leballinger</td>\n",
       "      <td>121289331</td>\n",
       "      <td>576816420cf242758c167808</td>\n",
       "      <td>None</td>\n",
       "      <td>None</td>\n",
       "      <td>None</td>\n",
       "      <td>195</td>\n",
       "      <td></td>\n",
       "      <td>{u'$numberLong': u'1466439234000'}</td>\n",
       "      <td>{u'$numberLong': u'1466439234000'}</td>\n",
       "      <td>Leballinger</td>\n",
       "      <td>8.8</td>\n",
       "      <td>With 50 Grams Of Protein From 100% Whey Protei...</td>\n",
       "      <td>None</td>\n",
       "      <td>9.000000</td>\n",
       "    </tr>\n",
       "    <tr>\n",
       "      <th>25978</th>\n",
       "      <td>Nature's Best</td>\n",
       "      <td>BRAND_NATURE_S_BEST</td>\n",
       "      <td>Zero Carb Isopure</td>\n",
       "      <td>25351</td>\n",
       "      <td>bigironarmory</td>\n",
       "      <td>125495471</td>\n",
       "      <td>57582e100cf20ab7dfe964af</td>\n",
       "      <td>70.0</td>\n",
       "      <td>168.0</td>\n",
       "      <td>11.0</td>\n",
       "      <td>195</td>\n",
       "      <td>Love this stuff.  ZERO carbs and it tastes lik...</td>\n",
       "      <td>{u'$numberLong': u'1465396752000'}</td>\n",
       "      <td>{u'$numberLong': u'1465396752000'}</td>\n",
       "      <td>bigironarmory</td>\n",
       "      <td>8.8</td>\n",
       "      <td>With 50 Grams Of Protein From 100% Whey Protei...</td>\n",
       "      <td>None</td>\n",
       "      <td>10.000000</td>\n",
       "    </tr>\n",
       "    <tr>\n",
       "      <th>25979</th>\n",
       "      <td>Nature's Best</td>\n",
       "      <td>BRAND_NATURE_S_BEST</td>\n",
       "      <td>Zero Carb Isopure</td>\n",
       "      <td>25351</td>\n",
       "      <td>DRAGONGEO12</td>\n",
       "      <td>125732611</td>\n",
       "      <td>5749b46d0cf257a5a0120148</td>\n",
       "      <td>65.0</td>\n",
       "      <td>155.0</td>\n",
       "      <td>9.6</td>\n",
       "      <td>195</td>\n",
       "      <td></td>\n",
       "      <td>{u'$numberLong': u'1464448109000'}</td>\n",
       "      <td>{u'$numberLong': u'1464448109000'}</td>\n",
       "      <td>DRAGONGEO12</td>\n",
       "      <td>8.8</td>\n",
       "      <td>With 50 Grams Of Protein From 100% Whey Protei...</td>\n",
       "      <td>None</td>\n",
       "      <td>8.000000</td>\n",
       "    </tr>\n",
       "    <tr>\n",
       "      <th>25980</th>\n",
       "      <td>Nature's Best</td>\n",
       "      <td>BRAND_NATURE_S_BEST</td>\n",
       "      <td>Zero Carb Isopure</td>\n",
       "      <td>25351</td>\n",
       "      <td>kyleberg14</td>\n",
       "      <td>122518381</td>\n",
       "      <td>572e6aca0cf2e397e6083335</td>\n",
       "      <td>None</td>\n",
       "      <td>174.0</td>\n",
       "      <td>12.5</td>\n",
       "      <td>195</td>\n",
       "      <td>Great product the purest for your dollar, I ha...</td>\n",
       "      <td>{u'$numberLong': u'1462659786000'}</td>\n",
       "      <td>{u'$numberLong': u'1462659786000'}</td>\n",
       "      <td>kyleberg14</td>\n",
       "      <td>8.8</td>\n",
       "      <td>With 50 Grams Of Protein From 100% Whey Protei...</td>\n",
       "      <td>None</td>\n",
       "      <td>10.000000</td>\n",
       "    </tr>\n",
       "    <tr>\n",
       "      <th>25981</th>\n",
       "      <td>Nature's Best</td>\n",
       "      <td>BRAND_NATURE_S_BEST</td>\n",
       "      <td>Zero Carb Isopure</td>\n",
       "      <td>25351</td>\n",
       "      <td>kevinkasal1</td>\n",
       "      <td>65832282</td>\n",
       "      <td>5723ca720cf235a03de9fd30</td>\n",
       "      <td>67.0</td>\n",
       "      <td>195.0</td>\n",
       "      <td>30.0</td>\n",
       "      <td>195</td>\n",
       "      <td>This is one of my favorite proteins. The quali...</td>\n",
       "      <td>{u'$numberLong': u'1461963378000'}</td>\n",
       "      <td>{u'$numberLong': u'1461963378000'}</td>\n",
       "      <td>kevinkasal1</td>\n",
       "      <td>8.8</td>\n",
       "      <td>With 50 Grams Of Protein From 100% Whey Protei...</td>\n",
       "      <td>None</td>\n",
       "      <td>9.000000</td>\n",
       "    </tr>\n",
       "    <tr>\n",
       "      <th>25982</th>\n",
       "      <td>Nature's Best</td>\n",
       "      <td>BRAND_NATURE_S_BEST</td>\n",
       "      <td>Zero Carb Isopure</td>\n",
       "      <td>25351</td>\n",
       "      <td>alansrs13</td>\n",
       "      <td>115549511</td>\n",
       "      <td>571129f40cf2084df03c0daf</td>\n",
       "      <td>69.0</td>\n",
       "      <td>167.0</td>\n",
       "      <td>13.0</td>\n",
       "      <td>195</td>\n",
       "      <td>Flavor is great, price is a bit high but it's ...</td>\n",
       "      <td>{u'$numberLong': u'1460742644000'}</td>\n",
       "      <td>{u'$numberLong': u'1460742644000'}</td>\n",
       "      <td>alansrs13</td>\n",
       "      <td>8.8</td>\n",
       "      <td>With 50 Grams Of Protein From 100% Whey Protei...</td>\n",
       "      <td>None</td>\n",
       "      <td>9.000000</td>\n",
       "    </tr>\n",
       "    <tr>\n",
       "      <th>25983</th>\n",
       "      <td>Nature's Best</td>\n",
       "      <td>BRAND_NATURE_S_BEST</td>\n",
       "      <td>Zero Carb Isopure</td>\n",
       "      <td>25351</td>\n",
       "      <td>Armenredz</td>\n",
       "      <td>126794281</td>\n",
       "      <td>570858dc0cf21f7f1b78421d</td>\n",
       "      <td>None</td>\n",
       "      <td>None</td>\n",
       "      <td>None</td>\n",
       "      <td>195</td>\n",
       "      <td>Drinking this protein every day after the gym ...</td>\n",
       "      <td>{u'$numberLong': u'1460164828000'}</td>\n",
       "      <td>{u'$numberLong': u'1460164828000'}</td>\n",
       "      <td>Armenredz</td>\n",
       "      <td>8.8</td>\n",
       "      <td>With 50 Grams Of Protein From 100% Whey Protei...</td>\n",
       "      <td>None</td>\n",
       "      <td>10.000000</td>\n",
       "    </tr>\n",
       "    <tr>\n",
       "      <th>25984</th>\n",
       "      <td>Nature's Best</td>\n",
       "      <td>BRAND_NATURE_S_BEST</td>\n",
       "      <td>Zero Carb Isopure</td>\n",
       "      <td>25351</td>\n",
       "      <td>cooldave89</td>\n",
       "      <td>127606071</td>\n",
       "      <td>56fea2bf0cf254ea7e17af69</td>\n",
       "      <td>None</td>\n",
       "      <td>None</td>\n",
       "      <td>None</td>\n",
       "      <td>195</td>\n",
       "      <td></td>\n",
       "      <td>{u'$numberLong': u'1459528417000'}</td>\n",
       "      <td>{u'$numberLong': u'1459528417000'}</td>\n",
       "      <td>cooldave89</td>\n",
       "      <td>8.8</td>\n",
       "      <td>With 50 Grams Of Protein From 100% Whey Protei...</td>\n",
       "      <td>None</td>\n",
       "      <td>8.000000</td>\n",
       "    </tr>\n",
       "    <tr>\n",
       "      <th>25985</th>\n",
       "      <td>Nature's Best</td>\n",
       "      <td>BRAND_NATURE_S_BEST</td>\n",
       "      <td>Zero Carb Isopure</td>\n",
       "      <td>25351</td>\n",
       "      <td>RiggemRiggs</td>\n",
       "      <td>84883482</td>\n",
       "      <td>56f7b65d0cf2e91bb0236e18</td>\n",
       "      <td>71.5</td>\n",
       "      <td>170.0</td>\n",
       "      <td>12.0</td>\n",
       "      <td>195</td>\n",
       "      <td>Ive been on a low carb diet for several months...</td>\n",
       "      <td>{u'$numberLong': u'1459074653000'}</td>\n",
       "      <td>{u'$numberLong': u'1459074653000'}</td>\n",
       "      <td>RiggemRiggs</td>\n",
       "      <td>8.8</td>\n",
       "      <td>With 50 Grams Of Protein From 100% Whey Protei...</td>\n",
       "      <td>None</td>\n",
       "      <td>10.000000</td>\n",
       "    </tr>\n",
       "    <tr>\n",
       "      <th>25986</th>\n",
       "      <td>Nature's Best</td>\n",
       "      <td>BRAND_NATURE_S_BEST</td>\n",
       "      <td>Zero Carb Isopure</td>\n",
       "      <td>25351</td>\n",
       "      <td>tarnow14</td>\n",
       "      <td>62220532</td>\n",
       "      <td>56f145450cf2fa2f1eca865a</td>\n",
       "      <td>66.0</td>\n",
       "      <td>150.0</td>\n",
       "      <td>32.0</td>\n",
       "      <td>195</td>\n",
       "      <td></td>\n",
       "      <td>{u'$numberLong': u'1458653111000'}</td>\n",
       "      <td>{u'$numberLong': u'1458653111000'}</td>\n",
       "      <td>tarnow14</td>\n",
       "      <td>8.8</td>\n",
       "      <td>With 50 Grams Of Protein From 100% Whey Protei...</td>\n",
       "      <td>None</td>\n",
       "      <td>7.000000</td>\n",
       "    </tr>\n",
       "    <tr>\n",
       "      <th>25987</th>\n",
       "      <td>Nature's Best</td>\n",
       "      <td>BRAND_NATURE_S_BEST</td>\n",
       "      <td>Zero Carb Isopure</td>\n",
       "      <td>25351</td>\n",
       "      <td>y2beshay</td>\n",
       "      <td>70443932</td>\n",
       "      <td>56e743890cf2fac2bc502e41</td>\n",
       "      <td>None</td>\n",
       "      <td>None</td>\n",
       "      <td>None</td>\n",
       "      <td>195</td>\n",
       "      <td></td>\n",
       "      <td>{u'$numberLong': u'1457996681000'}</td>\n",
       "      <td>{u'$numberLong': u'1457996681000'}</td>\n",
       "      <td>y2beshay</td>\n",
       "      <td>8.8</td>\n",
       "      <td>With 50 Grams Of Protein From 100% Whey Protei...</td>\n",
       "      <td>None</td>\n",
       "      <td>10.000000</td>\n",
       "    </tr>\n",
       "    <tr>\n",
       "      <th>25988</th>\n",
       "      <td>Nature's Best</td>\n",
       "      <td>BRAND_NATURE_S_BEST</td>\n",
       "      <td>Zero Carb Isopure</td>\n",
       "      <td>25351</td>\n",
       "      <td>Akbcrazy</td>\n",
       "      <td>116755531</td>\n",
       "      <td>56e59a7a0cf2112f50daddeb</td>\n",
       "      <td>72.0</td>\n",
       "      <td>256.0</td>\n",
       "      <td>16.0</td>\n",
       "      <td>195</td>\n",
       "      <td>None of these taste great in my opinion but th...</td>\n",
       "      <td>{u'$numberLong': u'1457887866000'}</td>\n",
       "      <td>{u'$numberLong': u'1457887866000'}</td>\n",
       "      <td>Akbcrazy</td>\n",
       "      <td>8.8</td>\n",
       "      <td>With 50 Grams Of Protein From 100% Whey Protei...</td>\n",
       "      <td>None</td>\n",
       "      <td>9.000000</td>\n",
       "    </tr>\n",
       "    <tr>\n",
       "      <th>25989</th>\n",
       "      <td>Nature's Best</td>\n",
       "      <td>BRAND_NATURE_S_BEST</td>\n",
       "      <td>Zero Carb Isopure</td>\n",
       "      <td>25351</td>\n",
       "      <td>kaskew</td>\n",
       "      <td>46300771</td>\n",
       "      <td>56e05e720cf2eeb324fb567c</td>\n",
       "      <td>71.0</td>\n",
       "      <td>307.0</td>\n",
       "      <td>27.0</td>\n",
       "      <td>195</td>\n",
       "      <td></td>\n",
       "      <td>{u'$numberLong': u'1457544818000'}</td>\n",
       "      <td>{u'$numberLong': u'1457544818000'}</td>\n",
       "      <td>kaskew</td>\n",
       "      <td>8.8</td>\n",
       "      <td>With 50 Grams Of Protein From 100% Whey Protei...</td>\n",
       "      <td>None</td>\n",
       "      <td>10.000000</td>\n",
       "    </tr>\n",
       "    <tr>\n",
       "      <th>25990</th>\n",
       "      <td>Nature's Best</td>\n",
       "      <td>BRAND_NATURE_S_BEST</td>\n",
       "      <td>Zero Carb Isopure</td>\n",
       "      <td>25351</td>\n",
       "      <td>ndeas28</td>\n",
       "      <td>111854791</td>\n",
       "      <td>56d371080cf2fe17997b9f16</td>\n",
       "      <td>69.0</td>\n",
       "      <td>156.0</td>\n",
       "      <td>7.0</td>\n",
       "      <td>195</td>\n",
       "      <td>This has been more favorite protein for at lea...</td>\n",
       "      <td>{u'$numberLong': u'1456697608000'}</td>\n",
       "      <td>{u'$numberLong': u'1456697608000'}</td>\n",
       "      <td>ndeas28</td>\n",
       "      <td>8.8</td>\n",
       "      <td>With 50 Grams Of Protein From 100% Whey Protei...</td>\n",
       "      <td>None</td>\n",
       "      <td>10.000000</td>\n",
       "    </tr>\n",
       "    <tr>\n",
       "      <th>25991</th>\n",
       "      <td>Nature's Best</td>\n",
       "      <td>BRAND_NATURE_S_BEST</td>\n",
       "      <td>Zero Carb Isopure</td>\n",
       "      <td>25351</td>\n",
       "      <td>tralan</td>\n",
       "      <td>32506922</td>\n",
       "      <td>568316a70cf2b94a8a200314</td>\n",
       "      <td>None</td>\n",
       "      <td>None</td>\n",
       "      <td>None</td>\n",
       "      <td>195</td>\n",
       "      <td>I kinda knew going into this protein that I wa...</td>\n",
       "      <td>{u'$numberLong': u'1451431591000'}</td>\n",
       "      <td>{u'$numberLong': u'1451431591000'}</td>\n",
       "      <td>tralan</td>\n",
       "      <td>8.8</td>\n",
       "      <td>With 50 Grams Of Protein From 100% Whey Protei...</td>\n",
       "      <td>None</td>\n",
       "      <td>8.000000</td>\n",
       "    </tr>\n",
       "    <tr>\n",
       "      <th>25992</th>\n",
       "      <td>Nature's Best</td>\n",
       "      <td>BRAND_NATURE_S_BEST</td>\n",
       "      <td>Zero Carb Isopure</td>\n",
       "      <td>25351</td>\n",
       "      <td>mamabeckett</td>\n",
       "      <td>66018352</td>\n",
       "      <td>5682b55d0cf271ee0bd70a39</td>\n",
       "      <td>64.0</td>\n",
       "      <td>194.2</td>\n",
       "      <td>46.6</td>\n",
       "      <td>195</td>\n",
       "      <td>I love the macros, and the fact that both my g...</td>\n",
       "      <td>{u'$numberLong': u'1451406685000'}</td>\n",
       "      <td>{u'$numberLong': u'1451406685000'}</td>\n",
       "      <td>mamabeckett</td>\n",
       "      <td>8.8</td>\n",
       "      <td>With 50 Grams Of Protein From 100% Whey Protei...</td>\n",
       "      <td>None</td>\n",
       "      <td>8.000000</td>\n",
       "    </tr>\n",
       "    <tr>\n",
       "      <th>...</th>\n",
       "      <td>...</td>\n",
       "      <td>...</td>\n",
       "      <td>...</td>\n",
       "      <td>...</td>\n",
       "      <td>...</td>\n",
       "      <td>...</td>\n",
       "      <td>...</td>\n",
       "      <td>...</td>\n",
       "      <td>...</td>\n",
       "      <td>...</td>\n",
       "      <td>...</td>\n",
       "      <td>...</td>\n",
       "      <td>...</td>\n",
       "      <td>...</td>\n",
       "      <td>...</td>\n",
       "      <td>...</td>\n",
       "      <td>...</td>\n",
       "      <td>...</td>\n",
       "      <td>...</td>\n",
       "    </tr>\n",
       "    <tr>\n",
       "      <th>26128</th>\n",
       "      <td>Nature's Best</td>\n",
       "      <td>BRAND_NATURE_S_BEST</td>\n",
       "      <td>Zero Carb Isopure</td>\n",
       "      <td>25351</td>\n",
       "      <td>masterphil1973</td>\n",
       "      <td>27949952</td>\n",
       "      <td>51a7c76e0cf23b2043023459</td>\n",
       "      <td>None</td>\n",
       "      <td>None</td>\n",
       "      <td>None</td>\n",
       "      <td>195</td>\n",
       "      <td>Love this stuff. it works, easy on the digesti...</td>\n",
       "      <td>{u'$numberLong': u'1329165592000'}</td>\n",
       "      <td>{u'$numberLong': u'1376082294000'}</td>\n",
       "      <td>masterphil1973</td>\n",
       "      <td>8.8</td>\n",
       "      <td>With 50 Grams Of Protein From 100% Whey Protei...</td>\n",
       "      <td>None</td>\n",
       "      <td>10.000000</td>\n",
       "    </tr>\n",
       "    <tr>\n",
       "      <th>26129</th>\n",
       "      <td>Nature's Best</td>\n",
       "      <td>BRAND_NATURE_S_BEST</td>\n",
       "      <td>Zero Carb Isopure</td>\n",
       "      <td>25351</td>\n",
       "      <td>laricruvinel</td>\n",
       "      <td>46351781</td>\n",
       "      <td>51a7c76e0cf23b2043023452</td>\n",
       "      <td>None</td>\n",
       "      <td>None</td>\n",
       "      <td>None</td>\n",
       "      <td>195</td>\n",
       "      <td></td>\n",
       "      <td>{u'$numberLong': u'1329163758000'}</td>\n",
       "      <td>{u'$numberLong': u'1376082294000'}</td>\n",
       "      <td>laricruvinel</td>\n",
       "      <td>8.8</td>\n",
       "      <td>With 50 Grams Of Protein From 100% Whey Protei...</td>\n",
       "      <td>None</td>\n",
       "      <td>10.000000</td>\n",
       "    </tr>\n",
       "    <tr>\n",
       "      <th>26130</th>\n",
       "      <td>Nature's Best</td>\n",
       "      <td>BRAND_NATURE_S_BEST</td>\n",
       "      <td>Zero Carb Isopure</td>\n",
       "      <td>25351</td>\n",
       "      <td>udim80</td>\n",
       "      <td>40473812</td>\n",
       "      <td>51a7c76e0cf23b2043021895</td>\n",
       "      <td>None</td>\n",
       "      <td>None</td>\n",
       "      <td>None</td>\n",
       "      <td>195</td>\n",
       "      <td>this is my favorite protein. I gained muscle w...</td>\n",
       "      <td>{u'$numberLong': u'1327823406000'}</td>\n",
       "      <td>{u'$numberLong': u'1376081852000'}</td>\n",
       "      <td>udim80</td>\n",
       "      <td>8.8</td>\n",
       "      <td>With 50 Grams Of Protein From 100% Whey Protei...</td>\n",
       "      <td>None</td>\n",
       "      <td>9.000000</td>\n",
       "    </tr>\n",
       "    <tr>\n",
       "      <th>26131</th>\n",
       "      <td>Nature's Best</td>\n",
       "      <td>BRAND_NATURE_S_BEST</td>\n",
       "      <td>Zero Carb Isopure</td>\n",
       "      <td>25351</td>\n",
       "      <td>therockap1</td>\n",
       "      <td>41901462</td>\n",
       "      <td>51a7c76d0cf23b20430205ee</td>\n",
       "      <td>68.0</td>\n",
       "      <td>194.0</td>\n",
       "      <td>None</td>\n",
       "      <td>195</td>\n",
       "      <td>This is perhaps my favorite protein. Solid stu...</td>\n",
       "      <td>{u'$numberLong': u'1326329379000'}</td>\n",
       "      <td>{u'$numberLong': u'1376081567000'}</td>\n",
       "      <td>therockap1</td>\n",
       "      <td>8.8</td>\n",
       "      <td>With 50 Grams Of Protein From 100% Whey Protei...</td>\n",
       "      <td>None</td>\n",
       "      <td>9.000000</td>\n",
       "    </tr>\n",
       "    <tr>\n",
       "      <th>26132</th>\n",
       "      <td>Nature's Best</td>\n",
       "      <td>BRAND_NATURE_S_BEST</td>\n",
       "      <td>Zero Carb Isopure</td>\n",
       "      <td>25351</td>\n",
       "      <td>Run2bFit</td>\n",
       "      <td>40204152</td>\n",
       "      <td>51a7c7720cf23b204302cd96</td>\n",
       "      <td>62.0</td>\n",
       "      <td>121.5</td>\n",
       "      <td>20.4</td>\n",
       "      <td>195</td>\n",
       "      <td>LOVE THIS Powder!! I half the serving to 1 scp...</td>\n",
       "      <td>{u'$numberLong': u'1315413505000'}</td>\n",
       "      <td>{u'$numberLong': u'1376084659000'}</td>\n",
       "      <td>Run2bFit</td>\n",
       "      <td>8.8</td>\n",
       "      <td>With 50 Grams Of Protein From 100% Whey Protei...</td>\n",
       "      <td>None</td>\n",
       "      <td>10.000000</td>\n",
       "    </tr>\n",
       "    <tr>\n",
       "      <th>26133</th>\n",
       "      <td>Nature's Best</td>\n",
       "      <td>BRAND_NATURE_S_BEST</td>\n",
       "      <td>Zero Carb Isopure</td>\n",
       "      <td>25351</td>\n",
       "      <td>Wereva</td>\n",
       "      <td>13457882</td>\n",
       "      <td>51a7c76e0cf23b204302245c</td>\n",
       "      <td>None</td>\n",
       "      <td>None</td>\n",
       "      <td>None</td>\n",
       "      <td>195</td>\n",
       "      <td>Ive been using Isopure since the late 80's. Ba...</td>\n",
       "      <td>{u'$numberLong': u'1314810918000'}</td>\n",
       "      <td>{u'$numberLong': u'1376082039000'}</td>\n",
       "      <td>Wereva</td>\n",
       "      <td>8.8</td>\n",
       "      <td>With 50 Grams Of Protein From 100% Whey Protei...</td>\n",
       "      <td>None</td>\n",
       "      <td>9.000000</td>\n",
       "    </tr>\n",
       "    <tr>\n",
       "      <th>26134</th>\n",
       "      <td>Nature's Best</td>\n",
       "      <td>BRAND_NATURE_S_BEST</td>\n",
       "      <td>Zero Carb Isopure</td>\n",
       "      <td>25351</td>\n",
       "      <td>my4jacks</td>\n",
       "      <td>212409</td>\n",
       "      <td>51a7c76e0cf23b2043021ef1</td>\n",
       "      <td>None</td>\n",
       "      <td>None</td>\n",
       "      <td>None</td>\n",
       "      <td>195</td>\n",
       "      <td>I love this protein powder! Dutch chocolate an...</td>\n",
       "      <td>{u'$numberLong': u'1314588063000'}</td>\n",
       "      <td>{u'$numberLong': u'1376081949000'}</td>\n",
       "      <td>my4jacks</td>\n",
       "      <td>8.8</td>\n",
       "      <td>With 50 Grams Of Protein From 100% Whey Protei...</td>\n",
       "      <td>None</td>\n",
       "      <td>10.000000</td>\n",
       "    </tr>\n",
       "    <tr>\n",
       "      <th>26135</th>\n",
       "      <td>Nature's Best</td>\n",
       "      <td>BRAND_NATURE_S_BEST</td>\n",
       "      <td>Zero Carb Isopure</td>\n",
       "      <td>25351</td>\n",
       "      <td>2Kold</td>\n",
       "      <td>35354312</td>\n",
       "      <td>51a7c7740cf23b204303d6ac</td>\n",
       "      <td>70.0</td>\n",
       "      <td>200.0</td>\n",
       "      <td>14.2</td>\n",
       "      <td>195</td>\n",
       "      <td>I've switched to this protein about two months...</td>\n",
       "      <td>{u'$numberLong': u'1306547694000'}</td>\n",
       "      <td>{u'$numberLong': u'1373499554000'}</td>\n",
       "      <td>2Kold</td>\n",
       "      <td>8.8</td>\n",
       "      <td>With 50 Grams Of Protein From 100% Whey Protei...</td>\n",
       "      <td>None</td>\n",
       "      <td>10.000000</td>\n",
       "    </tr>\n",
       "    <tr>\n",
       "      <th>26136</th>\n",
       "      <td>Nature's Best</td>\n",
       "      <td>BRAND_NATURE_S_BEST</td>\n",
       "      <td>Zero Carb Isopure</td>\n",
       "      <td>25351</td>\n",
       "      <td>bunniebucks</td>\n",
       "      <td>26984131</td>\n",
       "      <td>51a7c7720cf23b204302d785</td>\n",
       "      <td>66.0</td>\n",
       "      <td>None</td>\n",
       "      <td>None</td>\n",
       "      <td>195</td>\n",
       "      <td>This was ok. It tasted ok and mixed in a blend...</td>\n",
       "      <td>{u'$numberLong': u'1305837312000'}</td>\n",
       "      <td>{u'$numberLong': u'1376084816000'}</td>\n",
       "      <td>bunniebucks</td>\n",
       "      <td>8.8</td>\n",
       "      <td>With 50 Grams Of Protein From 100% Whey Protei...</td>\n",
       "      <td>None</td>\n",
       "      <td>7.000000</td>\n",
       "    </tr>\n",
       "    <tr>\n",
       "      <th>26137</th>\n",
       "      <td>Nature's Best</td>\n",
       "      <td>BRAND_NATURE_S_BEST</td>\n",
       "      <td>Zero Carb Isopure</td>\n",
       "      <td>25351</td>\n",
       "      <td>solucky</td>\n",
       "      <td>18220142</td>\n",
       "      <td>51a7c7720cf23b204302df83</td>\n",
       "      <td>67.0</td>\n",
       "      <td>151.0</td>\n",
       "      <td>None</td>\n",
       "      <td>195</td>\n",
       "      <td>The taste is not terrible to me at all, not su...</td>\n",
       "      <td>{u'$numberLong': u'1305178774000'}</td>\n",
       "      <td>{u'$numberLong': u'1376084962000'}</td>\n",
       "      <td>solucky</td>\n",
       "      <td>8.8</td>\n",
       "      <td>With 50 Grams Of Protein From 100% Whey Protei...</td>\n",
       "      <td>None</td>\n",
       "      <td>10.000000</td>\n",
       "    </tr>\n",
       "    <tr>\n",
       "      <th>26138</th>\n",
       "      <td>Nature's Best</td>\n",
       "      <td>BRAND_NATURE_S_BEST</td>\n",
       "      <td>Zero Carb Isopure</td>\n",
       "      <td>25351</td>\n",
       "      <td>bjmitch1203</td>\n",
       "      <td>34927272</td>\n",
       "      <td>51a7c7720cf23b204302c80c</td>\n",
       "      <td>71.0</td>\n",
       "      <td>195.0</td>\n",
       "      <td>None</td>\n",
       "      <td>195</td>\n",
       "      <td></td>\n",
       "      <td>{u'$numberLong': u'1304315125000'}</td>\n",
       "      <td>{u'$numberLong': u'1376084574000'}</td>\n",
       "      <td>bjmitch1203</td>\n",
       "      <td>8.8</td>\n",
       "      <td>With 50 Grams Of Protein From 100% Whey Protei...</td>\n",
       "      <td>None</td>\n",
       "      <td>10.000000</td>\n",
       "    </tr>\n",
       "    <tr>\n",
       "      <th>26139</th>\n",
       "      <td>Nature's Best</td>\n",
       "      <td>BRAND_NATURE_S_BEST</td>\n",
       "      <td>Zero Carb Isopure</td>\n",
       "      <td>25351</td>\n",
       "      <td>cnaranjo14</td>\n",
       "      <td>34966932</td>\n",
       "      <td>51a7c7720cf23b204302c66c</td>\n",
       "      <td>72.0</td>\n",
       "      <td>258.5</td>\n",
       "      <td>None</td>\n",
       "      <td>195</td>\n",
       "      <td>Great product. Flavor gets a little old after ...</td>\n",
       "      <td>{u'$numberLong': u'1303730294000'}</td>\n",
       "      <td>{u'$numberLong': u'1376084550000'}</td>\n",
       "      <td>cnaranjo14</td>\n",
       "      <td>8.8</td>\n",
       "      <td>With 50 Grams Of Protein From 100% Whey Protei...</td>\n",
       "      <td>None</td>\n",
       "      <td>10.000000</td>\n",
       "    </tr>\n",
       "    <tr>\n",
       "      <th>26140</th>\n",
       "      <td>Nature's Best</td>\n",
       "      <td>BRAND_NATURE_S_BEST</td>\n",
       "      <td>Zero Carb Isopure</td>\n",
       "      <td>25351</td>\n",
       "      <td>ccoldiron</td>\n",
       "      <td>33049562</td>\n",
       "      <td>51a7c7730cf23b20430312cb</td>\n",
       "      <td>None</td>\n",
       "      <td>None</td>\n",
       "      <td>None</td>\n",
       "      <td>195</td>\n",
       "      <td></td>\n",
       "      <td>{u'$numberLong': u'1303314528000'}</td>\n",
       "      <td>{u'$numberLong': u'1376085741000'}</td>\n",
       "      <td>ccoldiron</td>\n",
       "      <td>8.8</td>\n",
       "      <td>With 50 Grams Of Protein From 100% Whey Protei...</td>\n",
       "      <td>None</td>\n",
       "      <td>7.333333</td>\n",
       "    </tr>\n",
       "    <tr>\n",
       "      <th>26141</th>\n",
       "      <td>Nature's Best</td>\n",
       "      <td>BRAND_NATURE_S_BEST</td>\n",
       "      <td>Zero Carb Isopure</td>\n",
       "      <td>25351</td>\n",
       "      <td>davedawes</td>\n",
       "      <td>21604561</td>\n",
       "      <td>51a7c76d0cf23b2043020185</td>\n",
       "      <td>69.0</td>\n",
       "      <td>200.0</td>\n",
       "      <td>8.0</td>\n",
       "      <td>195</td>\n",
       "      <td>Very good. Great taste and it mixes well. The ...</td>\n",
       "      <td>{u'$numberLong': u'1301777298000'}</td>\n",
       "      <td>{u'$numberLong': u'1376081498000'}</td>\n",
       "      <td>davedawes</td>\n",
       "      <td>8.8</td>\n",
       "      <td>With 50 Grams Of Protein From 100% Whey Protei...</td>\n",
       "      <td>None</td>\n",
       "      <td>10.000000</td>\n",
       "    </tr>\n",
       "    <tr>\n",
       "      <th>26142</th>\n",
       "      <td>Nature's Best</td>\n",
       "      <td>BRAND_NATURE_S_BEST</td>\n",
       "      <td>Zero Carb Isopure</td>\n",
       "      <td>25351</td>\n",
       "      <td>ConanOB911</td>\n",
       "      <td>27178441</td>\n",
       "      <td>51a7c76e0cf23b20430221fa</td>\n",
       "      <td>65.0</td>\n",
       "      <td>148.0</td>\n",
       "      <td>13.0</td>\n",
       "      <td>195</td>\n",
       "      <td>This is, by far, the worst taste in protein I'...</td>\n",
       "      <td>{u'$numberLong': u'1300672277000'}</td>\n",
       "      <td>{u'$numberLong': u'1376081998000'}</td>\n",
       "      <td>ConanOB911</td>\n",
       "      <td>8.8</td>\n",
       "      <td>With 50 Grams Of Protein From 100% Whey Protei...</td>\n",
       "      <td>None</td>\n",
       "      <td>7.000000</td>\n",
       "    </tr>\n",
       "    <tr>\n",
       "      <th>26143</th>\n",
       "      <td>Nature's Best</td>\n",
       "      <td>BRAND_NATURE_S_BEST</td>\n",
       "      <td>Zero Carb Isopure</td>\n",
       "      <td>25351</td>\n",
       "      <td>laxplayano19</td>\n",
       "      <td>20548362</td>\n",
       "      <td>51a7c7720cf23b2043030c40</td>\n",
       "      <td>68.0</td>\n",
       "      <td>162.0</td>\n",
       "      <td>15.0</td>\n",
       "      <td>195</td>\n",
       "      <td>This is the best protein ive ever used. I'm a ...</td>\n",
       "      <td>{u'$numberLong': u'1298448717000'}</td>\n",
       "      <td>{u'$numberLong': u'1376085638000'}</td>\n",
       "      <td>laxplayano19</td>\n",
       "      <td>8.8</td>\n",
       "      <td>With 50 Grams Of Protein From 100% Whey Protei...</td>\n",
       "      <td>None</td>\n",
       "      <td>10.000000</td>\n",
       "    </tr>\n",
       "    <tr>\n",
       "      <th>26144</th>\n",
       "      <td>Nature's Best</td>\n",
       "      <td>BRAND_NATURE_S_BEST</td>\n",
       "      <td>Zero Carb Isopure</td>\n",
       "      <td>25351</td>\n",
       "      <td>walfattani</td>\n",
       "      <td>26370701</td>\n",
       "      <td>51a7c7720cf23b204302e56f</td>\n",
       "      <td>79.0</td>\n",
       "      <td>189.0</td>\n",
       "      <td>18.0</td>\n",
       "      <td>195</td>\n",
       "      <td></td>\n",
       "      <td>{u'$numberLong': u'1297176057000'}</td>\n",
       "      <td>{u'$numberLong': u'1376085046000'}</td>\n",
       "      <td>walfattani</td>\n",
       "      <td>8.8</td>\n",
       "      <td>With 50 Grams Of Protein From 100% Whey Protei...</td>\n",
       "      <td>None</td>\n",
       "      <td>10.000000</td>\n",
       "    </tr>\n",
       "    <tr>\n",
       "      <th>26145</th>\n",
       "      <td>Nature's Best</td>\n",
       "      <td>BRAND_NATURE_S_BEST</td>\n",
       "      <td>Zero Carb Isopure</td>\n",
       "      <td>25351</td>\n",
       "      <td>skzamal</td>\n",
       "      <td>18570612</td>\n",
       "      <td>51a7c7730cf23b2043037865</td>\n",
       "      <td>64.0</td>\n",
       "      <td>148.2</td>\n",
       "      <td>34.0</td>\n",
       "      <td>195</td>\n",
       "      <td>Really like this product. taste is good, resul...</td>\n",
       "      <td>{u'$numberLong': u'1288981153000'}</td>\n",
       "      <td>{u'$numberLong': u'1376087313000'}</td>\n",
       "      <td>skzamal</td>\n",
       "      <td>8.8</td>\n",
       "      <td>With 50 Grams Of Protein From 100% Whey Protei...</td>\n",
       "      <td>None</td>\n",
       "      <td>10.000000</td>\n",
       "    </tr>\n",
       "    <tr>\n",
       "      <th>26146</th>\n",
       "      <td>Nature's Best</td>\n",
       "      <td>BRAND_NATURE_S_BEST</td>\n",
       "      <td>Zero Carb Isopure</td>\n",
       "      <td>25351</td>\n",
       "      <td>DrAllstar90</td>\n",
       "      <td>18683452</td>\n",
       "      <td>51a7c7720cf23b204302dca0</td>\n",
       "      <td>75.0</td>\n",
       "      <td>198.4</td>\n",
       "      <td>20.0</td>\n",
       "      <td>195</td>\n",
       "      <td>Being in college, having a strict diet is extr...</td>\n",
       "      <td>{u'$numberLong': u'1288278425000'}</td>\n",
       "      <td>{u'$numberLong': u'1376084918000'}</td>\n",
       "      <td>DrAllstar90</td>\n",
       "      <td>8.8</td>\n",
       "      <td>With 50 Grams Of Protein From 100% Whey Protei...</td>\n",
       "      <td>None</td>\n",
       "      <td>10.000000</td>\n",
       "    </tr>\n",
       "    <tr>\n",
       "      <th>26147</th>\n",
       "      <td>Nature's Best</td>\n",
       "      <td>BRAND_NATURE_S_BEST</td>\n",
       "      <td>Zero Carb Isopure</td>\n",
       "      <td>25351</td>\n",
       "      <td>JPBRONX36</td>\n",
       "      <td>25093211</td>\n",
       "      <td>51a7c7720cf23b204302c970</td>\n",
       "      <td>71.0</td>\n",
       "      <td>310.0</td>\n",
       "      <td>19.0</td>\n",
       "      <td>195</td>\n",
       "      <td>Solid nutrient content. terrible taste &amp;amp;am...</td>\n",
       "      <td>{u'$numberLong': u'1287582379000'}</td>\n",
       "      <td>{u'$numberLong': u'1376084595000'}</td>\n",
       "      <td>PISTILLI</td>\n",
       "      <td>8.8</td>\n",
       "      <td>With 50 Grams Of Protein From 100% Whey Protei...</td>\n",
       "      <td>None</td>\n",
       "      <td>8.000000</td>\n",
       "    </tr>\n",
       "    <tr>\n",
       "      <th>26148</th>\n",
       "      <td>Nature's Best</td>\n",
       "      <td>BRAND_NATURE_S_BEST</td>\n",
       "      <td>Zero Carb Isopure</td>\n",
       "      <td>25351</td>\n",
       "      <td>loreleimurdock</td>\n",
       "      <td>14870852</td>\n",
       "      <td>51a7c7740cf23b20430390cd</td>\n",
       "      <td>None</td>\n",
       "      <td>None</td>\n",
       "      <td>None</td>\n",
       "      <td>195</td>\n",
       "      <td>My favorite brand of powders.  It stirs so eas...</td>\n",
       "      <td>{u'$numberLong': u'1265827748000'}</td>\n",
       "      <td>{u'$numberLong': u'1376087697000'}</td>\n",
       "      <td>loreleimurdock</td>\n",
       "      <td>8.8</td>\n",
       "      <td>With 50 Grams Of Protein From 100% Whey Protei...</td>\n",
       "      <td>None</td>\n",
       "      <td>10.000000</td>\n",
       "    </tr>\n",
       "    <tr>\n",
       "      <th>26149</th>\n",
       "      <td>Nature's Best</td>\n",
       "      <td>BRAND_NATURE_S_BEST</td>\n",
       "      <td>Zero Carb Isopure</td>\n",
       "      <td>25351</td>\n",
       "      <td>Splunkett</td>\n",
       "      <td>25142061</td>\n",
       "      <td>51a7c7730cf23b2043036981</td>\n",
       "      <td>None</td>\n",
       "      <td>None</td>\n",
       "      <td>None</td>\n",
       "      <td>195</td>\n",
       "      <td></td>\n",
       "      <td>{u'$numberLong': u'1265029783000'}</td>\n",
       "      <td>{u'$numberLong': u'1376087071000'}</td>\n",
       "      <td>Splunkett</td>\n",
       "      <td>8.8</td>\n",
       "      <td>With 50 Grams Of Protein From 100% Whey Protei...</td>\n",
       "      <td>None</td>\n",
       "      <td>10.000000</td>\n",
       "    </tr>\n",
       "    <tr>\n",
       "      <th>26150</th>\n",
       "      <td>Nature's Best</td>\n",
       "      <td>BRAND_NATURE_S_BEST</td>\n",
       "      <td>Zero Carb Isopure</td>\n",
       "      <td>25351</td>\n",
       "      <td>cajunmedic</td>\n",
       "      <td>23349731</td>\n",
       "      <td>51a7c7730cf23b2043034621</td>\n",
       "      <td>None</td>\n",
       "      <td>None</td>\n",
       "      <td>None</td>\n",
       "      <td>195</td>\n",
       "      <td>This is by far one of the best protein powders...</td>\n",
       "      <td>{u'$numberLong': u'1263233432000'}</td>\n",
       "      <td>{u'$numberLong': u'1376086508000'}</td>\n",
       "      <td>cajunmedic</td>\n",
       "      <td>8.8</td>\n",
       "      <td>With 50 Grams Of Protein From 100% Whey Protei...</td>\n",
       "      <td>None</td>\n",
       "      <td>10.000000</td>\n",
       "    </tr>\n",
       "    <tr>\n",
       "      <th>26151</th>\n",
       "      <td>Nature's Best</td>\n",
       "      <td>BRAND_NATURE_S_BEST</td>\n",
       "      <td>Zero Carb Isopure</td>\n",
       "      <td>25351</td>\n",
       "      <td>ygohome</td>\n",
       "      <td>19079442</td>\n",
       "      <td>51a7c76e0cf23b2043022c33</td>\n",
       "      <td>73.0</td>\n",
       "      <td>190.0</td>\n",
       "      <td>12.0</td>\n",
       "      <td>195</td>\n",
       "      <td>OMG, so gross tasting!  I bought it thinking i...</td>\n",
       "      <td>{u'$numberLong': u'1248293776000'}</td>\n",
       "      <td>{u'$numberLong': u'1376082163000'}</td>\n",
       "      <td>ygohome</td>\n",
       "      <td>8.8</td>\n",
       "      <td>With 50 Grams Of Protein From 100% Whey Protei...</td>\n",
       "      <td>None</td>\n",
       "      <td>3.000000</td>\n",
       "    </tr>\n",
       "    <tr>\n",
       "      <th>26152</th>\n",
       "      <td>Nature's Best</td>\n",
       "      <td>BRAND_NATURE_S_BEST</td>\n",
       "      <td>Zero Carb Isopure</td>\n",
       "      <td>25351</td>\n",
       "      <td>jonotoole</td>\n",
       "      <td>20893722</td>\n",
       "      <td>51a7c7730cf23b2043035c5b</td>\n",
       "      <td>None</td>\n",
       "      <td>None</td>\n",
       "      <td>None</td>\n",
       "      <td>195</td>\n",
       "      <td></td>\n",
       "      <td>{u'$numberLong': u'1245853863000'}</td>\n",
       "      <td>{u'$numberLong': u'1376086865000'}</td>\n",
       "      <td>jonotoole</td>\n",
       "      <td>8.8</td>\n",
       "      <td>With 50 Grams Of Protein From 100% Whey Protei...</td>\n",
       "      <td>None</td>\n",
       "      <td>8.000000</td>\n",
       "    </tr>\n",
       "    <tr>\n",
       "      <th>26153</th>\n",
       "      <td>Nature's Best</td>\n",
       "      <td>BRAND_NATURE_S_BEST</td>\n",
       "      <td>Zero Carb Isopure</td>\n",
       "      <td>25351</td>\n",
       "      <td>Capt.Spaulding</td>\n",
       "      <td>19593182</td>\n",
       "      <td>51a7c76f0cf23b2043028bec</td>\n",
       "      <td>72.0</td>\n",
       "      <td>253.0</td>\n",
       "      <td>None</td>\n",
       "      <td>195</td>\n",
       "      <td>Hey Guys and Gals,\\rI just decided to try a ne...</td>\n",
       "      <td>{u'$numberLong': u'1237108465000'}</td>\n",
       "      <td>{u'$numberLong': u'1376083664000'}</td>\n",
       "      <td>CaptSpaulding</td>\n",
       "      <td>8.8</td>\n",
       "      <td>With 50 Grams Of Protein From 100% Whey Protei...</td>\n",
       "      <td>None</td>\n",
       "      <td>10.000000</td>\n",
       "    </tr>\n",
       "    <tr>\n",
       "      <th>26154</th>\n",
       "      <td>Nature's Best</td>\n",
       "      <td>BRAND_NATURE_S_BEST</td>\n",
       "      <td>Zero Carb Isopure</td>\n",
       "      <td>25351</td>\n",
       "      <td>egooder</td>\n",
       "      <td>16628542</td>\n",
       "      <td>51a7c7720cf23b204302db6b</td>\n",
       "      <td>71.0</td>\n",
       "      <td>171.0</td>\n",
       "      <td>12.0</td>\n",
       "      <td>195</td>\n",
       "      <td>Taste great, 210 cal for 2 scoops has 54g of p...</td>\n",
       "      <td>{u'$numberLong': u'1235412925000'}</td>\n",
       "      <td>{u'$numberLong': u'1376084894000'}</td>\n",
       "      <td>egooder</td>\n",
       "      <td>8.8</td>\n",
       "      <td>With 50 Grams Of Protein From 100% Whey Protei...</td>\n",
       "      <td>None</td>\n",
       "      <td>10.000000</td>\n",
       "    </tr>\n",
       "    <tr>\n",
       "      <th>26155</th>\n",
       "      <td>Nature's Best</td>\n",
       "      <td>BRAND_NATURE_S_BEST</td>\n",
       "      <td>Zero Carb Isopure</td>\n",
       "      <td>25351</td>\n",
       "      <td>mightyc20</td>\n",
       "      <td>383331</td>\n",
       "      <td>51a7c7720cf23b2043030445</td>\n",
       "      <td>66.0</td>\n",
       "      <td>196.4</td>\n",
       "      <td>35.4</td>\n",
       "      <td>195</td>\n",
       "      <td>Good protein, so great never have finished the...</td>\n",
       "      <td>{u'$numberLong': u'1231223667000'}</td>\n",
       "      <td>{u'$numberLong': u'1376085525000'}</td>\n",
       "      <td>mightyc20</td>\n",
       "      <td>8.8</td>\n",
       "      <td>With 50 Grams Of Protein From 100% Whey Protei...</td>\n",
       "      <td>None</td>\n",
       "      <td>9.000000</td>\n",
       "    </tr>\n",
       "    <tr>\n",
       "      <th>26156</th>\n",
       "      <td>Nature's Best</td>\n",
       "      <td>BRAND_NATURE_S_BEST</td>\n",
       "      <td>Zero Carb Isopure</td>\n",
       "      <td>25351</td>\n",
       "      <td>ecave</td>\n",
       "      <td>16004132</td>\n",
       "      <td>51a7c7730cf23b20430315bf</td>\n",
       "      <td>64.0</td>\n",
       "      <td>235.0</td>\n",
       "      <td>None</td>\n",
       "      <td>195</td>\n",
       "      <td>(Before I began taking this, I heard that appl...</td>\n",
       "      <td>{u'$numberLong': u'1217370067000'}</td>\n",
       "      <td>{u'$numberLong': u'1376085783000'}</td>\n",
       "      <td>ecave</td>\n",
       "      <td>8.8</td>\n",
       "      <td>With 50 Grams Of Protein From 100% Whey Protei...</td>\n",
       "      <td>None</td>\n",
       "      <td>9.000000</td>\n",
       "    </tr>\n",
       "    <tr>\n",
       "      <th>26157</th>\n",
       "      <td>Nature's Best</td>\n",
       "      <td>BRAND_NATURE_S_BEST</td>\n",
       "      <td>Zero Carb Isopure</td>\n",
       "      <td>25351</td>\n",
       "      <td>AllNtRl</td>\n",
       "      <td>15589332</td>\n",
       "      <td>51a7c7730cf23b2043035bfd</td>\n",
       "      <td>75.0</td>\n",
       "      <td>197.0</td>\n",
       "      <td>8.2</td>\n",
       "      <td>195</td>\n",
       "      <td>Excellent source of whey isolates and its tast...</td>\n",
       "      <td>{u'$numberLong': u'1214281788000'}</td>\n",
       "      <td>{u'$numberLong': u'1376086861000'}</td>\n",
       "      <td>AllNtRl</td>\n",
       "      <td>8.8</td>\n",
       "      <td>With 50 Grams Of Protein From 100% Whey Protei...</td>\n",
       "      <td>None</td>\n",
       "      <td>10.000000</td>\n",
       "    </tr>\n",
       "  </tbody>\n",
       "</table>\n",
       "<p>195 rows × 19 columns</p>\n",
       "</div>"
      ],
      "text/plain": [
       "           brandName              brandId               name productId  \\\n",
       "25963  Nature's Best  BRAND_NATURE_S_BEST  Zero Carb Isopure     25351   \n",
       "25964  Nature's Best  BRAND_NATURE_S_BEST  Zero Carb Isopure     25351   \n",
       "25965  Nature's Best  BRAND_NATURE_S_BEST  Zero Carb Isopure     25351   \n",
       "25966  Nature's Best  BRAND_NATURE_S_BEST  Zero Carb Isopure     25351   \n",
       "25967  Nature's Best  BRAND_NATURE_S_BEST  Zero Carb Isopure     25351   \n",
       "25968  Nature's Best  BRAND_NATURE_S_BEST  Zero Carb Isopure     25351   \n",
       "25969  Nature's Best  BRAND_NATURE_S_BEST  Zero Carb Isopure     25351   \n",
       "25970  Nature's Best  BRAND_NATURE_S_BEST  Zero Carb Isopure     25351   \n",
       "25971  Nature's Best  BRAND_NATURE_S_BEST  Zero Carb Isopure     25351   \n",
       "25972  Nature's Best  BRAND_NATURE_S_BEST  Zero Carb Isopure     25351   \n",
       "25973  Nature's Best  BRAND_NATURE_S_BEST  Zero Carb Isopure     25351   \n",
       "25974  Nature's Best  BRAND_NATURE_S_BEST  Zero Carb Isopure     25351   \n",
       "25975  Nature's Best  BRAND_NATURE_S_BEST  Zero Carb Isopure     25351   \n",
       "25976  Nature's Best  BRAND_NATURE_S_BEST  Zero Carb Isopure     25351   \n",
       "25977  Nature's Best  BRAND_NATURE_S_BEST  Zero Carb Isopure     25351   \n",
       "25978  Nature's Best  BRAND_NATURE_S_BEST  Zero Carb Isopure     25351   \n",
       "25979  Nature's Best  BRAND_NATURE_S_BEST  Zero Carb Isopure     25351   \n",
       "25980  Nature's Best  BRAND_NATURE_S_BEST  Zero Carb Isopure     25351   \n",
       "25981  Nature's Best  BRAND_NATURE_S_BEST  Zero Carb Isopure     25351   \n",
       "25982  Nature's Best  BRAND_NATURE_S_BEST  Zero Carb Isopure     25351   \n",
       "25983  Nature's Best  BRAND_NATURE_S_BEST  Zero Carb Isopure     25351   \n",
       "25984  Nature's Best  BRAND_NATURE_S_BEST  Zero Carb Isopure     25351   \n",
       "25985  Nature's Best  BRAND_NATURE_S_BEST  Zero Carb Isopure     25351   \n",
       "25986  Nature's Best  BRAND_NATURE_S_BEST  Zero Carb Isopure     25351   \n",
       "25987  Nature's Best  BRAND_NATURE_S_BEST  Zero Carb Isopure     25351   \n",
       "25988  Nature's Best  BRAND_NATURE_S_BEST  Zero Carb Isopure     25351   \n",
       "25989  Nature's Best  BRAND_NATURE_S_BEST  Zero Carb Isopure     25351   \n",
       "25990  Nature's Best  BRAND_NATURE_S_BEST  Zero Carb Isopure     25351   \n",
       "25991  Nature's Best  BRAND_NATURE_S_BEST  Zero Carb Isopure     25351   \n",
       "25992  Nature's Best  BRAND_NATURE_S_BEST  Zero Carb Isopure     25351   \n",
       "...              ...                  ...                ...       ...   \n",
       "26128  Nature's Best  BRAND_NATURE_S_BEST  Zero Carb Isopure     25351   \n",
       "26129  Nature's Best  BRAND_NATURE_S_BEST  Zero Carb Isopure     25351   \n",
       "26130  Nature's Best  BRAND_NATURE_S_BEST  Zero Carb Isopure     25351   \n",
       "26131  Nature's Best  BRAND_NATURE_S_BEST  Zero Carb Isopure     25351   \n",
       "26132  Nature's Best  BRAND_NATURE_S_BEST  Zero Carb Isopure     25351   \n",
       "26133  Nature's Best  BRAND_NATURE_S_BEST  Zero Carb Isopure     25351   \n",
       "26134  Nature's Best  BRAND_NATURE_S_BEST  Zero Carb Isopure     25351   \n",
       "26135  Nature's Best  BRAND_NATURE_S_BEST  Zero Carb Isopure     25351   \n",
       "26136  Nature's Best  BRAND_NATURE_S_BEST  Zero Carb Isopure     25351   \n",
       "26137  Nature's Best  BRAND_NATURE_S_BEST  Zero Carb Isopure     25351   \n",
       "26138  Nature's Best  BRAND_NATURE_S_BEST  Zero Carb Isopure     25351   \n",
       "26139  Nature's Best  BRAND_NATURE_S_BEST  Zero Carb Isopure     25351   \n",
       "26140  Nature's Best  BRAND_NATURE_S_BEST  Zero Carb Isopure     25351   \n",
       "26141  Nature's Best  BRAND_NATURE_S_BEST  Zero Carb Isopure     25351   \n",
       "26142  Nature's Best  BRAND_NATURE_S_BEST  Zero Carb Isopure     25351   \n",
       "26143  Nature's Best  BRAND_NATURE_S_BEST  Zero Carb Isopure     25351   \n",
       "26144  Nature's Best  BRAND_NATURE_S_BEST  Zero Carb Isopure     25351   \n",
       "26145  Nature's Best  BRAND_NATURE_S_BEST  Zero Carb Isopure     25351   \n",
       "26146  Nature's Best  BRAND_NATURE_S_BEST  Zero Carb Isopure     25351   \n",
       "26147  Nature's Best  BRAND_NATURE_S_BEST  Zero Carb Isopure     25351   \n",
       "26148  Nature's Best  BRAND_NATURE_S_BEST  Zero Carb Isopure     25351   \n",
       "26149  Nature's Best  BRAND_NATURE_S_BEST  Zero Carb Isopure     25351   \n",
       "26150  Nature's Best  BRAND_NATURE_S_BEST  Zero Carb Isopure     25351   \n",
       "26151  Nature's Best  BRAND_NATURE_S_BEST  Zero Carb Isopure     25351   \n",
       "26152  Nature's Best  BRAND_NATURE_S_BEST  Zero Carb Isopure     25351   \n",
       "26153  Nature's Best  BRAND_NATURE_S_BEST  Zero Carb Isopure     25351   \n",
       "26154  Nature's Best  BRAND_NATURE_S_BEST  Zero Carb Isopure     25351   \n",
       "26155  Nature's Best  BRAND_NATURE_S_BEST  Zero Carb Isopure     25351   \n",
       "26156  Nature's Best  BRAND_NATURE_S_BEST  Zero Carb Isopure     25351   \n",
       "26157  Nature's Best  BRAND_NATURE_S_BEST  Zero Carb Isopure     25351   \n",
       "\n",
       "              username     userId                       _id height weight  \\\n",
       "25963          dvalego  139575281  581a52600cf2729002346a26   None   None   \n",
       "25964           melc79   46866871  5818e5ce0cf2b35b2ed9b971   68.0  163.0   \n",
       "25965          carcar5   74662731  581013b50cf23884c0c97a90   None   None   \n",
       "25966        frankjfjr  100015082  580fa0ed0cf2d69400e6d530   None   None   \n",
       "25967        prossford  142132452  580084270cf2578e700fbec8   None   None   \n",
       "25968           OmarXV  115578291  57f34ca60cf298d361bcad70   None  165.0   \n",
       "25969      jamesez2007   81692162  57e848490cf2556e85fcf07a   None   None   \n",
       "25970  micahthompson35  136531551  57d960960cf2bff74ebdf4a5   None  189.0   \n",
       "25971    FrowningAngel  110928141  57cee2ba0cf2590ba94c2188   None  219.0   \n",
       "25972      kgurkovskiy  120196661  57bc57ef0cf2dff32f9e9a44   77.0  280.0   \n",
       "25973         kmoconn2  115903931  57b6492b0cf2a57e01e39d5a   None   None   \n",
       "25974         Keitarin  115447321  5797f32b0cf2c269f3d3b0cc   69.0  166.0   \n",
       "25975        mitu123.b   32754632  5791cb630cf288570a4b82fd   None  180.0   \n",
       "25976      andrewkabas  132265871  576d54930cf2076c134244b3   None   None   \n",
       "25977      Leballinger  121289331  576816420cf242758c167808   None   None   \n",
       "25978    bigironarmory  125495471  57582e100cf20ab7dfe964af   70.0  168.0   \n",
       "25979      DRAGONGEO12  125732611  5749b46d0cf257a5a0120148   65.0  155.0   \n",
       "25980       kyleberg14  122518381  572e6aca0cf2e397e6083335   None  174.0   \n",
       "25981      kevinkasal1   65832282  5723ca720cf235a03de9fd30   67.0  195.0   \n",
       "25982        alansrs13  115549511  571129f40cf2084df03c0daf   69.0  167.0   \n",
       "25983        Armenredz  126794281  570858dc0cf21f7f1b78421d   None   None   \n",
       "25984       cooldave89  127606071  56fea2bf0cf254ea7e17af69   None   None   \n",
       "25985      RiggemRiggs   84883482  56f7b65d0cf2e91bb0236e18   71.5  170.0   \n",
       "25986         tarnow14   62220532  56f145450cf2fa2f1eca865a   66.0  150.0   \n",
       "25987         y2beshay   70443932  56e743890cf2fac2bc502e41   None   None   \n",
       "25988         Akbcrazy  116755531  56e59a7a0cf2112f50daddeb   72.0  256.0   \n",
       "25989           kaskew   46300771  56e05e720cf2eeb324fb567c   71.0  307.0   \n",
       "25990          ndeas28  111854791  56d371080cf2fe17997b9f16   69.0  156.0   \n",
       "25991           tralan   32506922  568316a70cf2b94a8a200314   None   None   \n",
       "25992      mamabeckett   66018352  5682b55d0cf271ee0bd70a39   64.0  194.2   \n",
       "...                ...        ...                       ...    ...    ...   \n",
       "26128   masterphil1973   27949952  51a7c76e0cf23b2043023459   None   None   \n",
       "26129     laricruvinel   46351781  51a7c76e0cf23b2043023452   None   None   \n",
       "26130           udim80   40473812  51a7c76e0cf23b2043021895   None   None   \n",
       "26131       therockap1   41901462  51a7c76d0cf23b20430205ee   68.0  194.0   \n",
       "26132         Run2bFit   40204152  51a7c7720cf23b204302cd96   62.0  121.5   \n",
       "26133           Wereva   13457882  51a7c76e0cf23b204302245c   None   None   \n",
       "26134         my4jacks     212409  51a7c76e0cf23b2043021ef1   None   None   \n",
       "26135            2Kold   35354312  51a7c7740cf23b204303d6ac   70.0  200.0   \n",
       "26136      bunniebucks   26984131  51a7c7720cf23b204302d785   66.0   None   \n",
       "26137          solucky   18220142  51a7c7720cf23b204302df83   67.0  151.0   \n",
       "26138      bjmitch1203   34927272  51a7c7720cf23b204302c80c   71.0  195.0   \n",
       "26139       cnaranjo14   34966932  51a7c7720cf23b204302c66c   72.0  258.5   \n",
       "26140        ccoldiron   33049562  51a7c7730cf23b20430312cb   None   None   \n",
       "26141        davedawes   21604561  51a7c76d0cf23b2043020185   69.0  200.0   \n",
       "26142       ConanOB911   27178441  51a7c76e0cf23b20430221fa   65.0  148.0   \n",
       "26143     laxplayano19   20548362  51a7c7720cf23b2043030c40   68.0  162.0   \n",
       "26144       walfattani   26370701  51a7c7720cf23b204302e56f   79.0  189.0   \n",
       "26145          skzamal   18570612  51a7c7730cf23b2043037865   64.0  148.2   \n",
       "26146      DrAllstar90   18683452  51a7c7720cf23b204302dca0   75.0  198.4   \n",
       "26147        JPBRONX36   25093211  51a7c7720cf23b204302c970   71.0  310.0   \n",
       "26148   loreleimurdock   14870852  51a7c7740cf23b20430390cd   None   None   \n",
       "26149        Splunkett   25142061  51a7c7730cf23b2043036981   None   None   \n",
       "26150       cajunmedic   23349731  51a7c7730cf23b2043034621   None   None   \n",
       "26151          ygohome   19079442  51a7c76e0cf23b2043022c33   73.0  190.0   \n",
       "26152        jonotoole   20893722  51a7c7730cf23b2043035c5b   None   None   \n",
       "26153   Capt.Spaulding   19593182  51a7c76f0cf23b2043028bec   72.0  253.0   \n",
       "26154          egooder   16628542  51a7c7720cf23b204302db6b   71.0  171.0   \n",
       "26155        mightyc20     383331  51a7c7720cf23b2043030445   66.0  196.4   \n",
       "26156            ecave   16004132  51a7c7730cf23b20430315bf   64.0  235.0   \n",
       "26157          AllNtRl   15589332  51a7c7730cf23b2043035bfd   75.0  197.0   \n",
       "\n",
       "      bodyfat  totalItems                                               text  \\\n",
       "25963    None         195  Highly recommend. Other than all the good stuf...   \n",
       "25964    32.0         195  This protein is very light and mixes really we...   \n",
       "25965    None         195                                                      \n",
       "25966    None         195  I can't find another protein with as many vita...   \n",
       "25967    None         195  Creamy vanilla taste more like bitter cookies ...   \n",
       "25968    None         195                                                      \n",
       "25969    None         195  Great protein overall!  Zero/low carb.  The co...   \n",
       "25970    None         195  I love this protein powder! It has a great tas...   \n",
       "25971    None         195  Ordering my second 7.5 lb. tub. The fact that ...   \n",
       "25972    25.0         195  I have tried many other isolate protein but IS...   \n",
       "25973    None         195  so gnarly. I wish I would have purchased a sam...   \n",
       "25974    24.0         195  I wish this the Mint Chocolate Chip flavor had...   \n",
       "25975     6.0         195  This is one of the best isolate protein powder...   \n",
       "25976    None         195  The taste was good and i love this brand for b...   \n",
       "25977    None         195                                                      \n",
       "25978    11.0         195  Love this stuff.  ZERO carbs and it tastes lik...   \n",
       "25979     9.6         195                                                      \n",
       "25980    12.5         195  Great product the purest for your dollar, I ha...   \n",
       "25981    30.0         195  This is one of my favorite proteins. The quali...   \n",
       "25982    13.0         195  Flavor is great, price is a bit high but it's ...   \n",
       "25983    None         195  Drinking this protein every day after the gym ...   \n",
       "25984    None         195                                                      \n",
       "25985    12.0         195  Ive been on a low carb diet for several months...   \n",
       "25986    32.0         195                                                      \n",
       "25987    None         195                                                      \n",
       "25988    16.0         195  None of these taste great in my opinion but th...   \n",
       "25989    27.0         195                                                      \n",
       "25990     7.0         195  This has been more favorite protein for at lea...   \n",
       "25991    None         195  I kinda knew going into this protein that I wa...   \n",
       "25992    46.6         195  I love the macros, and the fact that both my g...   \n",
       "...       ...         ...                                                ...   \n",
       "26128    None         195  Love this stuff. it works, easy on the digesti...   \n",
       "26129    None         195                                                      \n",
       "26130    None         195  this is my favorite protein. I gained muscle w...   \n",
       "26131    None         195  This is perhaps my favorite protein. Solid stu...   \n",
       "26132    20.4         195  LOVE THIS Powder!! I half the serving to 1 scp...   \n",
       "26133    None         195  Ive been using Isopure since the late 80's. Ba...   \n",
       "26134    None         195  I love this protein powder! Dutch chocolate an...   \n",
       "26135    14.2         195  I've switched to this protein about two months...   \n",
       "26136    None         195  This was ok. It tasted ok and mixed in a blend...   \n",
       "26137    None         195  The taste is not terrible to me at all, not su...   \n",
       "26138    None         195                                                      \n",
       "26139    None         195  Great product. Flavor gets a little old after ...   \n",
       "26140    None         195                                                      \n",
       "26141     8.0         195  Very good. Great taste and it mixes well. The ...   \n",
       "26142    13.0         195  This is, by far, the worst taste in protein I'...   \n",
       "26143    15.0         195  This is the best protein ive ever used. I'm a ...   \n",
       "26144    18.0         195                                                      \n",
       "26145    34.0         195  Really like this product. taste is good, resul...   \n",
       "26146    20.0         195  Being in college, having a strict diet is extr...   \n",
       "26147    19.0         195  Solid nutrient content. terrible taste &amp;am...   \n",
       "26148    None         195  My favorite brand of powders.  It stirs so eas...   \n",
       "26149    None         195                                                      \n",
       "26150    None         195  This is by far one of the best protein powders...   \n",
       "26151    12.0         195  OMG, so gross tasting!  I bought it thinking i...   \n",
       "26152    None         195                                                      \n",
       "26153    None         195  Hey Guys and Gals,\\rI just decided to try a ne...   \n",
       "26154    12.0         195  Taste great, 210 cal for 2 scoops has 54g of p...   \n",
       "26155    35.4         195  Good protein, so great never have finished the...   \n",
       "26156    None         195  (Before I began taking this, I heard that appl...   \n",
       "26157     8.2         195  Excellent source of whey isolates and its tast...   \n",
       "\n",
       "                                     date                             modDate  \\\n",
       "25963  {u'$numberLong': u'1478120031000'}  {u'$numberLong': u'1478120031000'}   \n",
       "25964  {u'$numberLong': u'1478026702000'}  {u'$numberLong': u'1478026702000'}   \n",
       "25965  {u'$numberLong': u'1477448629000'}  {u'$numberLong': u'1477448629000'}   \n",
       "25966  {u'$numberLong': u'1477419245000'}  {u'$numberLong': u'1477419245000'}   \n",
       "25967  {u'$numberLong': u'1476428839000'}  {u'$numberLong': u'1476428839000'}   \n",
       "25968  {u'$numberLong': u'1475562662000'}  {u'$numberLong': u'1475562662000'}   \n",
       "25969  {u'$numberLong': u'1474840649000'}  {u'$numberLong': u'1474840649000'}   \n",
       "25970  {u'$numberLong': u'1473863830000'}  {u'$numberLong': u'1473863830000'}   \n",
       "25971  {u'$numberLong': u'1473176250000'}  {u'$numberLong': u'1473176250000'}   \n",
       "25972  {u'$numberLong': u'1471961071000'}  {u'$numberLong': u'1471961071000'}   \n",
       "25973  {u'$numberLong': u'1471564075000'}  {u'$numberLong': u'1471564075000'}   \n",
       "25974  {u'$numberLong': u'1469575979000'}  {u'$numberLong': u'1469575979000'}   \n",
       "25975  {u'$numberLong': u'1469172579000'}  {u'$numberLong': u'1469172579000'}   \n",
       "25976  {u'$numberLong': u'1466782867000'}  {u'$numberLong': u'1466782867000'}   \n",
       "25977  {u'$numberLong': u'1466439234000'}  {u'$numberLong': u'1466439234000'}   \n",
       "25978  {u'$numberLong': u'1465396752000'}  {u'$numberLong': u'1465396752000'}   \n",
       "25979  {u'$numberLong': u'1464448109000'}  {u'$numberLong': u'1464448109000'}   \n",
       "25980  {u'$numberLong': u'1462659786000'}  {u'$numberLong': u'1462659786000'}   \n",
       "25981  {u'$numberLong': u'1461963378000'}  {u'$numberLong': u'1461963378000'}   \n",
       "25982  {u'$numberLong': u'1460742644000'}  {u'$numberLong': u'1460742644000'}   \n",
       "25983  {u'$numberLong': u'1460164828000'}  {u'$numberLong': u'1460164828000'}   \n",
       "25984  {u'$numberLong': u'1459528417000'}  {u'$numberLong': u'1459528417000'}   \n",
       "25985  {u'$numberLong': u'1459074653000'}  {u'$numberLong': u'1459074653000'}   \n",
       "25986  {u'$numberLong': u'1458653111000'}  {u'$numberLong': u'1458653111000'}   \n",
       "25987  {u'$numberLong': u'1457996681000'}  {u'$numberLong': u'1457996681000'}   \n",
       "25988  {u'$numberLong': u'1457887866000'}  {u'$numberLong': u'1457887866000'}   \n",
       "25989  {u'$numberLong': u'1457544818000'}  {u'$numberLong': u'1457544818000'}   \n",
       "25990  {u'$numberLong': u'1456697608000'}  {u'$numberLong': u'1456697608000'}   \n",
       "25991  {u'$numberLong': u'1451431591000'}  {u'$numberLong': u'1451431591000'}   \n",
       "25992  {u'$numberLong': u'1451406685000'}  {u'$numberLong': u'1451406685000'}   \n",
       "...                                   ...                                 ...   \n",
       "26128  {u'$numberLong': u'1329165592000'}  {u'$numberLong': u'1376082294000'}   \n",
       "26129  {u'$numberLong': u'1329163758000'}  {u'$numberLong': u'1376082294000'}   \n",
       "26130  {u'$numberLong': u'1327823406000'}  {u'$numberLong': u'1376081852000'}   \n",
       "26131  {u'$numberLong': u'1326329379000'}  {u'$numberLong': u'1376081567000'}   \n",
       "26132  {u'$numberLong': u'1315413505000'}  {u'$numberLong': u'1376084659000'}   \n",
       "26133  {u'$numberLong': u'1314810918000'}  {u'$numberLong': u'1376082039000'}   \n",
       "26134  {u'$numberLong': u'1314588063000'}  {u'$numberLong': u'1376081949000'}   \n",
       "26135  {u'$numberLong': u'1306547694000'}  {u'$numberLong': u'1373499554000'}   \n",
       "26136  {u'$numberLong': u'1305837312000'}  {u'$numberLong': u'1376084816000'}   \n",
       "26137  {u'$numberLong': u'1305178774000'}  {u'$numberLong': u'1376084962000'}   \n",
       "26138  {u'$numberLong': u'1304315125000'}  {u'$numberLong': u'1376084574000'}   \n",
       "26139  {u'$numberLong': u'1303730294000'}  {u'$numberLong': u'1376084550000'}   \n",
       "26140  {u'$numberLong': u'1303314528000'}  {u'$numberLong': u'1376085741000'}   \n",
       "26141  {u'$numberLong': u'1301777298000'}  {u'$numberLong': u'1376081498000'}   \n",
       "26142  {u'$numberLong': u'1300672277000'}  {u'$numberLong': u'1376081998000'}   \n",
       "26143  {u'$numberLong': u'1298448717000'}  {u'$numberLong': u'1376085638000'}   \n",
       "26144  {u'$numberLong': u'1297176057000'}  {u'$numberLong': u'1376085046000'}   \n",
       "26145  {u'$numberLong': u'1288981153000'}  {u'$numberLong': u'1376087313000'}   \n",
       "26146  {u'$numberLong': u'1288278425000'}  {u'$numberLong': u'1376084918000'}   \n",
       "26147  {u'$numberLong': u'1287582379000'}  {u'$numberLong': u'1376084595000'}   \n",
       "26148  {u'$numberLong': u'1265827748000'}  {u'$numberLong': u'1376087697000'}   \n",
       "26149  {u'$numberLong': u'1265029783000'}  {u'$numberLong': u'1376087071000'}   \n",
       "26150  {u'$numberLong': u'1263233432000'}  {u'$numberLong': u'1376086508000'}   \n",
       "26151  {u'$numberLong': u'1248293776000'}  {u'$numberLong': u'1376082163000'}   \n",
       "26152  {u'$numberLong': u'1245853863000'}  {u'$numberLong': u'1376086865000'}   \n",
       "26153  {u'$numberLong': u'1237108465000'}  {u'$numberLong': u'1376083664000'}   \n",
       "26154  {u'$numberLong': u'1235412925000'}  {u'$numberLong': u'1376084894000'}   \n",
       "26155  {u'$numberLong': u'1231223667000'}  {u'$numberLong': u'1376085525000'}   \n",
       "26156  {u'$numberLong': u'1217370067000'}  {u'$numberLong': u'1376085783000'}   \n",
       "26157  {u'$numberLong': u'1214281788000'}  {u'$numberLong': u'1376086861000'}   \n",
       "\n",
       "                  slug  verifiedBuyerRating  \\\n",
       "25963          dvalego                  8.8   \n",
       "25964           melc79                  8.8   \n",
       "25965          carcar5                  8.8   \n",
       "25966        frankjfjr                  8.8   \n",
       "25967        prossford                  8.8   \n",
       "25968           OmarXV                  8.8   \n",
       "25969      jamesez2007                  8.8   \n",
       "25970  micahthompson35                  8.8   \n",
       "25971    FrowningAngel                  8.8   \n",
       "25972      kgurkovskiy                  8.8   \n",
       "25973         kmoconn2                  8.8   \n",
       "25974         Keitarin                  8.8   \n",
       "25975         mitu123b                  8.8   \n",
       "25976      andrewkabas                  8.8   \n",
       "25977      Leballinger                  8.8   \n",
       "25978    bigironarmory                  8.8   \n",
       "25979      DRAGONGEO12                  8.8   \n",
       "25980       kyleberg14                  8.8   \n",
       "25981      kevinkasal1                  8.8   \n",
       "25982        alansrs13                  8.8   \n",
       "25983        Armenredz                  8.8   \n",
       "25984       cooldave89                  8.8   \n",
       "25985      RiggemRiggs                  8.8   \n",
       "25986         tarnow14                  8.8   \n",
       "25987         y2beshay                  8.8   \n",
       "25988         Akbcrazy                  8.8   \n",
       "25989           kaskew                  8.8   \n",
       "25990          ndeas28                  8.8   \n",
       "25991           tralan                  8.8   \n",
       "25992      mamabeckett                  8.8   \n",
       "...                ...                  ...   \n",
       "26128   masterphil1973                  8.8   \n",
       "26129     laricruvinel                  8.8   \n",
       "26130           udim80                  8.8   \n",
       "26131       therockap1                  8.8   \n",
       "26132         Run2bFit                  8.8   \n",
       "26133           Wereva                  8.8   \n",
       "26134         my4jacks                  8.8   \n",
       "26135            2Kold                  8.8   \n",
       "26136      bunniebucks                  8.8   \n",
       "26137          solucky                  8.8   \n",
       "26138      bjmitch1203                  8.8   \n",
       "26139       cnaranjo14                  8.8   \n",
       "26140        ccoldiron                  8.8   \n",
       "26141        davedawes                  8.8   \n",
       "26142       ConanOB911                  8.8   \n",
       "26143     laxplayano19                  8.8   \n",
       "26144       walfattani                  8.8   \n",
       "26145          skzamal                  8.8   \n",
       "26146      DrAllstar90                  8.8   \n",
       "26147         PISTILLI                  8.8   \n",
       "26148   loreleimurdock                  8.8   \n",
       "26149        Splunkett                  8.8   \n",
       "26150       cajunmedic                  8.8   \n",
       "26151          ygohome                  8.8   \n",
       "26152        jonotoole                  8.8   \n",
       "26153    CaptSpaulding                  8.8   \n",
       "26154          egooder                  8.8   \n",
       "26155        mightyc20                  8.8   \n",
       "26156            ecave                  8.8   \n",
       "26157          AllNtRl                  8.8   \n",
       "\n",
       "                                             description updateStatusReason  \\\n",
       "25963  With 50 Grams Of Protein From 100% Whey Protei...               None   \n",
       "25964  With 50 Grams Of Protein From 100% Whey Protei...               None   \n",
       "25965  With 50 Grams Of Protein From 100% Whey Protei...               None   \n",
       "25966  With 50 Grams Of Protein From 100% Whey Protei...               None   \n",
       "25967  With 50 Grams Of Protein From 100% Whey Protei...               None   \n",
       "25968  With 50 Grams Of Protein From 100% Whey Protei...               None   \n",
       "25969  With 50 Grams Of Protein From 100% Whey Protei...               None   \n",
       "25970  With 50 Grams Of Protein From 100% Whey Protei...               None   \n",
       "25971  With 50 Grams Of Protein From 100% Whey Protei...               None   \n",
       "25972  With 50 Grams Of Protein From 100% Whey Protei...               None   \n",
       "25973  With 50 Grams Of Protein From 100% Whey Protei...               None   \n",
       "25974  With 50 Grams Of Protein From 100% Whey Protei...        :lifes2good   \n",
       "25975  With 50 Grams Of Protein From 100% Whey Protei...               None   \n",
       "25976  With 50 Grams Of Protein From 100% Whey Protei...               None   \n",
       "25977  With 50 Grams Of Protein From 100% Whey Protei...               None   \n",
       "25978  With 50 Grams Of Protein From 100% Whey Protei...               None   \n",
       "25979  With 50 Grams Of Protein From 100% Whey Protei...               None   \n",
       "25980  With 50 Grams Of Protein From 100% Whey Protei...               None   \n",
       "25981  With 50 Grams Of Protein From 100% Whey Protei...               None   \n",
       "25982  With 50 Grams Of Protein From 100% Whey Protei...               None   \n",
       "25983  With 50 Grams Of Protein From 100% Whey Protei...               None   \n",
       "25984  With 50 Grams Of Protein From 100% Whey Protei...               None   \n",
       "25985  With 50 Grams Of Protein From 100% Whey Protei...               None   \n",
       "25986  With 50 Grams Of Protein From 100% Whey Protei...               None   \n",
       "25987  With 50 Grams Of Protein From 100% Whey Protei...               None   \n",
       "25988  With 50 Grams Of Protein From 100% Whey Protei...               None   \n",
       "25989  With 50 Grams Of Protein From 100% Whey Protei...               None   \n",
       "25990  With 50 Grams Of Protein From 100% Whey Protei...               None   \n",
       "25991  With 50 Grams Of Protein From 100% Whey Protei...               None   \n",
       "25992  With 50 Grams Of Protein From 100% Whey Protei...               None   \n",
       "...                                                  ...                ...   \n",
       "26128  With 50 Grams Of Protein From 100% Whey Protei...               None   \n",
       "26129  With 50 Grams Of Protein From 100% Whey Protei...               None   \n",
       "26130  With 50 Grams Of Protein From 100% Whey Protei...               None   \n",
       "26131  With 50 Grams Of Protein From 100% Whey Protei...               None   \n",
       "26132  With 50 Grams Of Protein From 100% Whey Protei...               None   \n",
       "26133  With 50 Grams Of Protein From 100% Whey Protei...               None   \n",
       "26134  With 50 Grams Of Protein From 100% Whey Protei...               None   \n",
       "26135  With 50 Grams Of Protein From 100% Whey Protei...               None   \n",
       "26136  With 50 Grams Of Protein From 100% Whey Protei...               None   \n",
       "26137  With 50 Grams Of Protein From 100% Whey Protei...               None   \n",
       "26138  With 50 Grams Of Protein From 100% Whey Protei...               None   \n",
       "26139  With 50 Grams Of Protein From 100% Whey Protei...               None   \n",
       "26140  With 50 Grams Of Protein From 100% Whey Protei...               None   \n",
       "26141  With 50 Grams Of Protein From 100% Whey Protei...               None   \n",
       "26142  With 50 Grams Of Protein From 100% Whey Protei...               None   \n",
       "26143  With 50 Grams Of Protein From 100% Whey Protei...               None   \n",
       "26144  With 50 Grams Of Protein From 100% Whey Protei...               None   \n",
       "26145  With 50 Grams Of Protein From 100% Whey Protei...               None   \n",
       "26146  With 50 Grams Of Protein From 100% Whey Protei...               None   \n",
       "26147  With 50 Grams Of Protein From 100% Whey Protei...               None   \n",
       "26148  With 50 Grams Of Protein From 100% Whey Protei...               None   \n",
       "26149  With 50 Grams Of Protein From 100% Whey Protei...               None   \n",
       "26150  With 50 Grams Of Protein From 100% Whey Protei...               None   \n",
       "26151  With 50 Grams Of Protein From 100% Whey Protei...               None   \n",
       "26152  With 50 Grams Of Protein From 100% Whey Protei...               None   \n",
       "26153  With 50 Grams Of Protein From 100% Whey Protei...               None   \n",
       "26154  With 50 Grams Of Protein From 100% Whey Protei...               None   \n",
       "26155  With 50 Grams Of Protein From 100% Whey Protei...               None   \n",
       "26156  With 50 Grams Of Protein From 100% Whey Protei...               None   \n",
       "26157  With 50 Grams Of Protein From 100% Whey Protei...               None   \n",
       "\n",
       "          rating  \n",
       "25963  10.000000  \n",
       "25964   8.000000  \n",
       "25965   8.000000  \n",
       "25966   7.000000  \n",
       "25967   3.000000  \n",
       "25968  10.000000  \n",
       "25969   9.000000  \n",
       "25970  10.000000  \n",
       "25971  10.000000  \n",
       "25972  10.000000  \n",
       "25973   3.000000  \n",
       "25974   7.000000  \n",
       "25975   9.000000  \n",
       "25976  10.000000  \n",
       "25977   9.000000  \n",
       "25978  10.000000  \n",
       "25979   8.000000  \n",
       "25980  10.000000  \n",
       "25981   9.000000  \n",
       "25982   9.000000  \n",
       "25983  10.000000  \n",
       "25984   8.000000  \n",
       "25985  10.000000  \n",
       "25986   7.000000  \n",
       "25987  10.000000  \n",
       "25988   9.000000  \n",
       "25989  10.000000  \n",
       "25990  10.000000  \n",
       "25991   8.000000  \n",
       "25992   8.000000  \n",
       "...          ...  \n",
       "26128  10.000000  \n",
       "26129  10.000000  \n",
       "26130   9.000000  \n",
       "26131   9.000000  \n",
       "26132  10.000000  \n",
       "26133   9.000000  \n",
       "26134  10.000000  \n",
       "26135  10.000000  \n",
       "26136   7.000000  \n",
       "26137  10.000000  \n",
       "26138  10.000000  \n",
       "26139  10.000000  \n",
       "26140   7.333333  \n",
       "26141  10.000000  \n",
       "26142   7.000000  \n",
       "26143  10.000000  \n",
       "26144  10.000000  \n",
       "26145  10.000000  \n",
       "26146  10.000000  \n",
       "26147   8.000000  \n",
       "26148  10.000000  \n",
       "26149  10.000000  \n",
       "26150  10.000000  \n",
       "26151   3.000000  \n",
       "26152   8.000000  \n",
       "26153  10.000000  \n",
       "26154  10.000000  \n",
       "26155   9.000000  \n",
       "26156   9.000000  \n",
       "26157  10.000000  \n",
       "\n",
       "[195 rows x 19 columns]"
      ]
     },
     "execution_count": 238,
     "metadata": {},
     "output_type": "execute_result"
    }
   ],
   "source": [
    "df[df.productId == '25351']"
   ]
  },
  {
   "cell_type": "code",
   "execution_count": null,
   "metadata": {
    "collapsed": true
   },
   "outputs": [],
   "source": []
  }
 ],
 "metadata": {
  "anaconda-cloud": {},
  "kernelspec": {
   "display_name": "Python [Root]",
   "language": "python",
   "name": "Python [Root]"
  },
  "language_info": {
   "codemirror_mode": {
    "name": "ipython",
    "version": 2
   },
   "file_extension": ".py",
   "mimetype": "text/x-python",
   "name": "python",
   "nbconvert_exporter": "python",
   "pygments_lexer": "ipython2",
   "version": "2.7.12"
  }
 },
 "nbformat": 4,
 "nbformat_minor": 0
}
