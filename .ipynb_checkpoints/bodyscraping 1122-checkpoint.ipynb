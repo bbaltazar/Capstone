{
 "cells": [
  {
   "cell_type": "code",
   "execution_count": 124,
   "metadata": {
    "collapsed": true
   },
   "outputs": [],
   "source": [
    "import requests\n",
    "from bs4 import BeautifulSoup\n",
    "import numpy as np\n",
    "import pandas as pd"
   ]
  },
  {
   "cell_type": "code",
   "execution_count": 87,
   "metadata": {
    "collapsed": true
   },
   "outputs": [],
   "source": [
    "url = 'https://catalog.bodybuilding.com/products/28286/reviews' #?page=1&size=5&reviewType=verified'"
   ]
  },
  {
   "cell_type": "code",
   "execution_count": 1,
   "metadata": {
    "collapsed": false
   },
   "outputs": [],
   "source": [
    "params = {\\\n",
    "         'page':1,\n",
    "          'reviewType':'verified'}\n",
    "#           ,'size':1000\n",
    "#          }\n",
    "\n",
    "\n",
    "# headers = {\\\n",
    "#            'Accept':'application/json',\n",
    "# 'Accept-Encoding':'gzip, deflate, sdch, br',\n",
    "# 'Accept-Language':'en-US,en;q=0.8',\n",
    "# 'BB-App':'product-detail-app, 5.1.3',\n",
    "# 'Connection':'keep-alive',\n",
    "# 'Host':'catalog.bodybuilding.com',\n",
    "# 'Origin':'http://www.bodybuilding.com',\n",
    "# 'User-Agent':'Mozilla/5.0 (Linux; Android 6.0; Nexus 5 Build/MRA58N) AppleWebKit/537.36 (KHTML, like Gecko) Chrome/46.0.2490.76 Mobile Safari/537.36}'\n",
    "#           }\n",
    "\n",
    "# 'Referer':'http://www.bodybuilding.com/store/musclepharm/combat.html',\n"
   ]
  },
  {
   "cell_type": "code",
   "execution_count": 73,
   "metadata": {
    "collapsed": false
   },
   "outputs": [
    {
     "ename": "NameError",
     "evalue": "name 'foo2' is not defined",
     "output_type": "error",
     "traceback": [
      "\u001b[0;31m---------------------------------------------------------------------------\u001b[0m",
      "\u001b[0;31mNameError\u001b[0m                                 Traceback (most recent call last)",
      "\u001b[0;32m<ipython-input-73-f2d832cc8c06>\u001b[0m in \u001b[0;36m<module>\u001b[0;34m()\u001b[0m\n\u001b[0;32m----> 1\u001b[0;31m \u001b[0mlen\u001b[0m\u001b[0;34m(\u001b[0m\u001b[0mfoo2\u001b[0m\u001b[0;34m.\u001b[0m\u001b[0mjson\u001b[0m\u001b[0;34m(\u001b[0m\u001b[0;34m)\u001b[0m\u001b[0;34m[\u001b[0m\u001b[0;34m'productReviews'\u001b[0m\u001b[0;34m]\u001b[0m\u001b[0;34m)\u001b[0m\u001b[0;34m\u001b[0m\u001b[0m\n\u001b[0m",
      "\u001b[0;31mNameError\u001b[0m: name 'foo2' is not defined"
     ]
    }
   ],
   "source": [
    "len(foo2.json()['productReviews'])"
   ]
  },
  {
   "cell_type": "code",
   "execution_count": 120,
   "metadata": {
    "collapsed": false
   },
   "outputs": [],
   "source": [
    "headers = {\\\n",
    "           'Accept':'application/json',\n",
    "'Accept-Encoding':'gzip, deflate, sdch, br',\n",
    "'Accept-Language':'en-US,en;q=0.8',\n",
    "'BB-App':'product-detail-app, 5.1.3',\n",
    "'Connection':'keep-alive',\n",
    "'Host':'catalog.bodybuilding.com',\n",
    "'Origin':'http://www.bodybuilding.com',\n",
    "'User-Agent':'Mozilla/5.0 (Linux; Android 6.0; Nexus 5 Build/MRA58N) AppleWebKit/537.36 (KHTML, like Gecko) Chrome/46.0.2490.76 Mobile Safari/537.36}'\n",
    "          }\n",
    "# def prod_list(prod_num):\n",
    "#     params = {\\\n",
    "#           'page':1,\n",
    "#           'reviewType':'verified'\n",
    "#          }\n",
    "#     for i in xrange(24000):\n",
    "#         products = []\n",
    "#         url = 'https://catalog.bodybuilding.com/products/'+str(prod_num)+'/reviews'\n",
    "#         foo = requests.get(url, headers=headers, params=params)\n",
    "#         if foo.json()['productReviews']:\n",
    "#             products.append(prod_num)\n",
    "#             prod_num +=1\n",
    "#         else:\n",
    "#             prod_num +=1\n",
    "#     return products \n",
    "def store_data(prod_num):\n",
    "    params = {\\\n",
    "              'page':1,\n",
    "          'reviewType':'verified', 'size':10}\n",
    "    url = 'https://catalog.bodybuilding.com/products/'+str(prod_num)+'/reviews'\n",
    "    foo = requests.get(url, headers=headers, params=params)\n",
    "#         foo = requests.get(url, headers=headers, params={\\\n",
    "#           'page':1,\n",
    "#       'reviewType':'verified',\n",
    "#           'size':foo.json()['totalItems']})\n",
    "#         if foo.json()['productReviews']:\n",
    "#             break          \n",
    "#         else:\n",
    "#             prod_num +=1\n",
    "    return prod_num, foo.json().keys(), foo.json().values(),\\\n",
    "'Total items', foo.json()['totalItems'],\\\n",
    "'Len of prodReviews:', len(foo.json()['productReviews']),\\\n",
    "foo.json()['productReviews']\n",
    "# len(foo.json()), foo.json()['productReviews'], foo.json()"
   ]
  },
  {
   "cell_type": "code",
   "execution_count": 121,
   "metadata": {
    "collapsed": true
   },
   "outputs": [
    {
     "data": {
      "text/plain": [
       "(23880,\n",
       " [u'totalItems', u'productReviews'],\n",
       " [35,\n",
       "  [{u'commentCount': 0,\n",
       "    u'flavorRatings': None,\n",
       "    u'helpful': 0,\n",
       "    u'helpfulTotal': 0,\n",
       "    u'likeCount': None,\n",
       "    u'likeStats': None,\n",
       "    u'member': {u'activated': False,\n",
       "     u'emailAddress': None,\n",
       "     u'gender': None,\n",
       "     u'groupId': None,\n",
       "     u'joinDate': None,\n",
       "     u'lastActivity': None,\n",
       "     u'photoCount': 0,\n",
       "     u'profilePicAvatarPath': None,\n",
       "     u'profilePicOriginalPath': None,\n",
       "     u'profilePicPath': u'http://assets.bodybuilding.com/images/profiledefault_thumb.jpg',\n",
       "     u'profilePicThumbPath': None,\n",
       "     u'profileURL': None,\n",
       "     u'realName': None,\n",
       "     u'slug': u'jrgill525',\n",
       "     u'userId': 67939522,\n",
       "     u'username': u'jrgill525',\n",
       "     u'vbuserId': 0},\n",
       "    u'overallRating': 9.1,\n",
       "    u'product': {u'brandId': u'BRAND_OPTIMUM',\n",
       "     u'brandName': u'Optimum Nutrition',\n",
       "     u'briefDescription': u'',\n",
       "     u'description': u'Helps Refuel And Replenish Hard-Working Muscles!*',\n",
       "     u'flavorList': [u'Colossal Chocolate'],\n",
       "     u'flavorRatings': {u'overallRating': 9.3,\n",
       "      u'ratings': [{u'flavor': u'Colossal Chocolate',\n",
       "        u'id': u'23880-colossal_chocolate',\n",
       "        u'rating': 9.3,\n",
       "        u'totalRatings': 62}],\n",
       "      u'totalRatings': 1},\n",
       "     u'id': u'23880',\n",
       "     u'imageLarge': u'http://store.bbcomcdn.com/images/store/prodimage/prod_23880/image_23880_original_X_450_white.jpg',\n",
       "     u'imageMedium': u'http://store.bbcomcdn.com/images/store/prodimage/prod_23880/image_23880_original_X_130_white.jpg',\n",
       "     u'imageSmall': u'http://store.bbcomcdn.com/images/store/prodimage/prod_23880/image_23880_original_X_70_white.jpg',\n",
       "     u'name': u'2:1:1 Recovery',\n",
       "     u'overallRating': 9.1,\n",
       "     u'productId': u'23880',\n",
       "     u'reviewUrl': u'http://reviews.bodybuilding.com/Optimum/2_1_1_Recovery/',\n",
       "     u'skuList': None,\n",
       "     u'totalRatings': 135,\n",
       "     u'totalReviews': 132,\n",
       "     u'totalVerifiedBuyers': 32,\n",
       "     u'totalVerifiedReviews': 36,\n",
       "     u'url': u'http://www.bodybuilding.com/store/opt/recovery.html',\n",
       "     u'verified': None,\n",
       "     u'verifiedBuyerRating': 9.4},\n",
       "    u'productReview': {u'_id': u'52288bfb0cf243fccd2166ec',\n",
       "     u'brandId': u'BRAND_OPTIMUM',\n",
       "     u'date': 1378388987000,\n",
       "     u'entityId': u'productreview-23880',\n",
       "     u'modDate': 1378388987000,\n",
       "     u'overallRating': None,\n",
       "     u'productId': u'23880',\n",
       "     u'skuList': None,\n",
       "     u'slug': u'jrgill525',\n",
       "     u'status': 1,\n",
       "     u'text': u'Best product I have found. Great after a long bike ride or hard gym workout. Mango flavor taste good and is easy to down. My only Iagree is it tends to clump.',\n",
       "     u'title': u'',\n",
       "     u'totalRatings': None,\n",
       "     u'updateStatusReason': None,\n",
       "     u'userId': 67939522,\n",
       "     u'username': u'jrgill525',\n",
       "     u'verified': True},\n",
       "    u'stats': None,\n",
       "    u'totalRatings': 135,\n",
       "    u'userRating': {u'overallRating': 9.0,\n",
       "     u'ratings': [],\n",
       "     u'totalRatings': None},\n",
       "    u'wasHelpful': None},\n",
       "   {u'commentCount': 0,\n",
       "    u'flavorRatings': None,\n",
       "    u'helpful': 0,\n",
       "    u'helpfulTotal': 0,\n",
       "    u'likeCount': None,\n",
       "    u'likeStats': None,\n",
       "    u'member': {u'activated': False,\n",
       "     u'emailAddress': None,\n",
       "     u'gender': None,\n",
       "     u'groupId': None,\n",
       "     u'joinDate': None,\n",
       "     u'lastActivity': None,\n",
       "     u'photoCount': 0,\n",
       "     u'profilePicAvatarPath': None,\n",
       "     u'profilePicOriginalPath': None,\n",
       "     u'profilePicPath': u'http://imagecdn.bodybuilding.com/profile-photo/15744017/930eb18faf1c42a5837ad05216307365p.jpg',\n",
       "     u'profilePicThumbPath': None,\n",
       "     u'profileURL': None,\n",
       "     u'realName': None,\n",
       "     u'slug': u'lopezjg',\n",
       "     u'userId': 71044751,\n",
       "     u'username': u'lopezjg',\n",
       "     u'vbuserId': 0},\n",
       "    u'overallRating': 9.1,\n",
       "    u'product': {u'brandId': u'BRAND_OPTIMUM',\n",
       "     u'brandName': u'Optimum Nutrition',\n",
       "     u'briefDescription': u'',\n",
       "     u'description': u'Helps Refuel And Replenish Hard-Working Muscles!*',\n",
       "     u'flavorList': [u'Colossal Chocolate'],\n",
       "     u'flavorRatings': {u'overallRating': 9.3,\n",
       "      u'ratings': [{u'flavor': u'Colossal Chocolate',\n",
       "        u'id': u'23880-colossal_chocolate',\n",
       "        u'rating': 9.3,\n",
       "        u'totalRatings': 62}],\n",
       "      u'totalRatings': 1},\n",
       "     u'id': u'23880',\n",
       "     u'imageLarge': u'http://store.bbcomcdn.com/images/store/prodimage/prod_23880/image_23880_original_X_450_white.jpg',\n",
       "     u'imageMedium': u'http://store.bbcomcdn.com/images/store/prodimage/prod_23880/image_23880_original_X_130_white.jpg',\n",
       "     u'imageSmall': u'http://store.bbcomcdn.com/images/store/prodimage/prod_23880/image_23880_original_X_70_white.jpg',\n",
       "     u'name': u'2:1:1 Recovery',\n",
       "     u'overallRating': 9.1,\n",
       "     u'productId': u'23880',\n",
       "     u'reviewUrl': u'http://reviews.bodybuilding.com/Optimum/2_1_1_Recovery/',\n",
       "     u'skuList': None,\n",
       "     u'totalRatings': 135,\n",
       "     u'totalReviews': 132,\n",
       "     u'totalVerifiedBuyers': 32,\n",
       "     u'totalVerifiedReviews': 36,\n",
       "     u'url': u'http://www.bodybuilding.com/store/opt/recovery.html',\n",
       "     u'verified': None,\n",
       "     u'verifiedBuyerRating': 9.4},\n",
       "    u'productReview': {u'_id': u'52193b160cf2452c88d42ff6',\n",
       "     u'brandId': u'BRAND_OPTIMUM',\n",
       "     u'date': 1377385238000,\n",
       "     u'entityId': u'productreview-23880',\n",
       "     u'modDate': 1377385238000,\n",
       "     u'overallRating': None,\n",
       "     u'productId': u'23880',\n",
       "     u'skuList': None,\n",
       "     u'slug': u'lopezjg',\n",
       "     u'status': 1,\n",
       "     u'text': u\"I've used this product for quite some time.  Oddly enough, there aren't that many products that combine carbs and protein in a recovery drink, which this does nicely.  The Mucho Mango flavor is nice and light to chug down following a workout; however, you really need to shake it to avoid clumping, and even then it has a tendency to be a bit chalky... hence the 2pt deduction.  Nevertheless, great product, and a staple in my supp regimen.  \",\n",
       "     u'title': u'',\n",
       "     u'totalRatings': None,\n",
       "     u'updateStatusReason': None,\n",
       "     u'userId': 71044751,\n",
       "     u'username': u'lopezjg',\n",
       "     u'verified': True},\n",
       "    u'stats': {u'bodyfat': u'20.0',\n",
       "     u'height': u'70.0',\n",
       "     u'weight': u'177.0',\n",
       "     u'weightChange': None},\n",
       "    u'totalRatings': 135,\n",
       "    u'userRating': {u'overallRating': 8.0,\n",
       "     u'ratings': [],\n",
       "     u'totalRatings': None},\n",
       "    u'wasHelpful': None},\n",
       "   {u'commentCount': 0,\n",
       "    u'flavorRatings': None,\n",
       "    u'helpful': 0,\n",
       "    u'helpfulTotal': 0,\n",
       "    u'likeCount': None,\n",
       "    u'likeStats': None,\n",
       "    u'member': {u'activated': False,\n",
       "     u'emailAddress': None,\n",
       "     u'gender': None,\n",
       "     u'groupId': None,\n",
       "     u'joinDate': None,\n",
       "     u'lastActivity': None,\n",
       "     u'photoCount': 0,\n",
       "     u'profilePicAvatarPath': None,\n",
       "     u'profilePicOriginalPath': None,\n",
       "     u'profilePicPath': u'http://assets.bodybuilding.com/images/profiledefault_thumb.jpg',\n",
       "     u'profilePicThumbPath': None,\n",
       "     u'profileURL': None,\n",
       "     u'realName': None,\n",
       "     u'slug': u'bkunkelman',\n",
       "     u'userId': 69501242,\n",
       "     u'username': u'bkunkelman',\n",
       "     u'vbuserId': 0},\n",
       "    u'overallRating': 9.1,\n",
       "    u'product': {u'brandId': u'BRAND_OPTIMUM',\n",
       "     u'brandName': u'Optimum Nutrition',\n",
       "     u'briefDescription': u'',\n",
       "     u'description': u'Helps Refuel And Replenish Hard-Working Muscles!*',\n",
       "     u'flavorList': [u'Colossal Chocolate'],\n",
       "     u'flavorRatings': {u'overallRating': 9.3,\n",
       "      u'ratings': [{u'flavor': u'Colossal Chocolate',\n",
       "        u'id': u'23880-colossal_chocolate',\n",
       "        u'rating': 9.3,\n",
       "        u'totalRatings': 62}],\n",
       "      u'totalRatings': 1},\n",
       "     u'id': u'23880',\n",
       "     u'imageLarge': u'http://store.bbcomcdn.com/images/store/prodimage/prod_23880/image_23880_original_X_450_white.jpg',\n",
       "     u'imageMedium': u'http://store.bbcomcdn.com/images/store/prodimage/prod_23880/image_23880_original_X_130_white.jpg',\n",
       "     u'imageSmall': u'http://store.bbcomcdn.com/images/store/prodimage/prod_23880/image_23880_original_X_70_white.jpg',\n",
       "     u'name': u'2:1:1 Recovery',\n",
       "     u'overallRating': 9.1,\n",
       "     u'productId': u'23880',\n",
       "     u'reviewUrl': u'http://reviews.bodybuilding.com/Optimum/2_1_1_Recovery/',\n",
       "     u'skuList': None,\n",
       "     u'totalRatings': 135,\n",
       "     u'totalReviews': 132,\n",
       "     u'totalVerifiedBuyers': 32,\n",
       "     u'totalVerifiedReviews': 36,\n",
       "     u'url': u'http://www.bodybuilding.com/store/opt/recovery.html',\n",
       "     u'verified': None,\n",
       "     u'verifiedBuyerRating': 9.4},\n",
       "    u'productReview': {u'_id': u'51eaa93b0cf2ee4143247ee7',\n",
       "     u'brandId': u'BRAND_OPTIMUM',\n",
       "     u'date': 1374333243000,\n",
       "     u'entityId': u'productreview-23880',\n",
       "     u'modDate': 1374333243000,\n",
       "     u'overallRating': None,\n",
       "     u'productId': u'23880',\n",
       "     u'skuList': None,\n",
       "     u'slug': u'bkunkelman',\n",
       "     u'status': 1,\n",
       "     u'text': u'',\n",
       "     u'title': u'',\n",
       "     u'totalRatings': None,\n",
       "     u'updateStatusReason': None,\n",
       "     u'userId': 69501242,\n",
       "     u'username': u'bkunkelman',\n",
       "     u'verified': True},\n",
       "    u'stats': None,\n",
       "    u'totalRatings': 135,\n",
       "    u'userRating': {u'overallRating': 10.0,\n",
       "     u'ratings': [],\n",
       "     u'totalRatings': None},\n",
       "    u'wasHelpful': None},\n",
       "   {u'commentCount': 0,\n",
       "    u'flavorRatings': None,\n",
       "    u'helpful': 0,\n",
       "    u'helpfulTotal': 0,\n",
       "    u'likeCount': None,\n",
       "    u'likeStats': None,\n",
       "    u'member': {u'activated': False,\n",
       "     u'emailAddress': None,\n",
       "     u'gender': None,\n",
       "     u'groupId': None,\n",
       "     u'joinDate': None,\n",
       "     u'lastActivity': None,\n",
       "     u'photoCount': 0,\n",
       "     u'profilePicAvatarPath': None,\n",
       "     u'profilePicOriginalPath': None,\n",
       "     u'profilePicPath': u'http://imagecdn.bodybuilding.com/profile-photo/19536015/815d1c14b6b044b297f232a6ecbbc82fp.jpg',\n",
       "     u'profilePicThumbPath': None,\n",
       "     u'profileURL': None,\n",
       "     u'realName': None,\n",
       "     u'slug': u'rodolfo1069',\n",
       "     u'userId': 51063591,\n",
       "     u'username': u'rodolfo1069',\n",
       "     u'vbuserId': 0},\n",
       "    u'overallRating': 9.1,\n",
       "    u'product': {u'brandId': u'BRAND_OPTIMUM',\n",
       "     u'brandName': u'Optimum Nutrition',\n",
       "     u'briefDescription': u'',\n",
       "     u'description': u'Helps Refuel And Replenish Hard-Working Muscles!*',\n",
       "     u'flavorList': [u'Colossal Chocolate'],\n",
       "     u'flavorRatings': {u'overallRating': 9.3,\n",
       "      u'ratings': [{u'flavor': u'Colossal Chocolate',\n",
       "        u'id': u'23880-colossal_chocolate',\n",
       "        u'rating': 9.3,\n",
       "        u'totalRatings': 62}],\n",
       "      u'totalRatings': 1},\n",
       "     u'id': u'23880',\n",
       "     u'imageLarge': u'http://store.bbcomcdn.com/images/store/prodimage/prod_23880/image_23880_original_X_450_white.jpg',\n",
       "     u'imageMedium': u'http://store.bbcomcdn.com/images/store/prodimage/prod_23880/image_23880_original_X_130_white.jpg',\n",
       "     u'imageSmall': u'http://store.bbcomcdn.com/images/store/prodimage/prod_23880/image_23880_original_X_70_white.jpg',\n",
       "     u'name': u'2:1:1 Recovery',\n",
       "     u'overallRating': 9.1,\n",
       "     u'productId': u'23880',\n",
       "     u'reviewUrl': u'http://reviews.bodybuilding.com/Optimum/2_1_1_Recovery/',\n",
       "     u'skuList': None,\n",
       "     u'totalRatings': 135,\n",
       "     u'totalReviews': 132,\n",
       "     u'totalVerifiedBuyers': 32,\n",
       "     u'totalVerifiedReviews': 36,\n",
       "     u'url': u'http://www.bodybuilding.com/store/opt/recovery.html',\n",
       "     u'verified': None,\n",
       "     u'verifiedBuyerRating': 9.4},\n",
       "    u'productReview': {u'_id': u'51a7c7730cf23b2043032cde',\n",
       "     u'brandId': u'BRAND_OPTIMUM',\n",
       "     u'date': 1363848509000,\n",
       "     u'entityId': u'productreview-23880',\n",
       "     u'modDate': 1376086131000,\n",
       "     u'overallRating': None,\n",
       "     u'productId': u'23880',\n",
       "     u'skuList': None,\n",
       "     u'slug': u'rodolfo1069',\n",
       "     u'status': 1,\n",
       "     u'text': u'',\n",
       "     u'title': None,\n",
       "     u'totalRatings': None,\n",
       "     u'updateStatusReason': None,\n",
       "     u'userId': 51063591,\n",
       "     u'username': u'rodolfo1069',\n",
       "     u'verified': True},\n",
       "    u'stats': {u'bodyfat': u'8.0',\n",
       "     u'height': u'68.0',\n",
       "     u'weight': u'205.0',\n",
       "     u'weightChange': None},\n",
       "    u'totalRatings': 135,\n",
       "    u'userRating': {u'overallRating': 10.0,\n",
       "     u'ratings': [{u'flavor': u'Colossal Chocolate',\n",
       "       u'id': u'23880-colossal_chocolate',\n",
       "       u'rating': 10.0,\n",
       "       u'totalRatings': 1}],\n",
       "     u'totalRatings': None},\n",
       "    u'wasHelpful': None},\n",
       "   {u'commentCount': 0,\n",
       "    u'flavorRatings': None,\n",
       "    u'helpful': 0,\n",
       "    u'helpfulTotal': 0,\n",
       "    u'likeCount': None,\n",
       "    u'likeStats': None,\n",
       "    u'member': {u'activated': False,\n",
       "     u'emailAddress': None,\n",
       "     u'gender': None,\n",
       "     u'groupId': None,\n",
       "     u'joinDate': None,\n",
       "     u'lastActivity': None,\n",
       "     u'photoCount': 0,\n",
       "     u'profilePicAvatarPath': None,\n",
       "     u'profilePicOriginalPath': None,\n",
       "     u'profilePicPath': u'http://assets.bodybuilding.com/images/profiledefault_thumb.jpg',\n",
       "     u'profilePicThumbPath': None,\n",
       "     u'profileURL': None,\n",
       "     u'realName': None,\n",
       "     u'slug': u'Tmo23',\n",
       "     u'userId': 58868432,\n",
       "     u'username': u'Tmo23',\n",
       "     u'vbuserId': 0},\n",
       "    u'overallRating': 9.1,\n",
       "    u'product': {u'brandId': u'BRAND_OPTIMUM',\n",
       "     u'brandName': u'Optimum Nutrition',\n",
       "     u'briefDescription': u'',\n",
       "     u'description': u'Helps Refuel And Replenish Hard-Working Muscles!*',\n",
       "     u'flavorList': [u'Colossal Chocolate'],\n",
       "     u'flavorRatings': {u'overallRating': 9.3,\n",
       "      u'ratings': [{u'flavor': u'Colossal Chocolate',\n",
       "        u'id': u'23880-colossal_chocolate',\n",
       "        u'rating': 9.3,\n",
       "        u'totalRatings': 62}],\n",
       "      u'totalRatings': 1},\n",
       "     u'id': u'23880',\n",
       "     u'imageLarge': u'http://store.bbcomcdn.com/images/store/prodimage/prod_23880/image_23880_original_X_450_white.jpg',\n",
       "     u'imageMedium': u'http://store.bbcomcdn.com/images/store/prodimage/prod_23880/image_23880_original_X_130_white.jpg',\n",
       "     u'imageSmall': u'http://store.bbcomcdn.com/images/store/prodimage/prod_23880/image_23880_original_X_70_white.jpg',\n",
       "     u'name': u'2:1:1 Recovery',\n",
       "     u'overallRating': 9.1,\n",
       "     u'productId': u'23880',\n",
       "     u'reviewUrl': u'http://reviews.bodybuilding.com/Optimum/2_1_1_Recovery/',\n",
       "     u'skuList': None,\n",
       "     u'totalRatings': 135,\n",
       "     u'totalReviews': 132,\n",
       "     u'totalVerifiedBuyers': 32,\n",
       "     u'totalVerifiedReviews': 36,\n",
       "     u'url': u'http://www.bodybuilding.com/store/opt/recovery.html',\n",
       "     u'verified': None,\n",
       "     u'verifiedBuyerRating': 9.4},\n",
       "    u'productReview': {u'_id': u'51a7c7720cf23b204302f265',\n",
       "     u'brandId': u'BRAND_OPTIMUM',\n",
       "     u'date': 1362598337000,\n",
       "     u'entityId': u'productreview-23880',\n",
       "     u'modDate': 1376085247000,\n",
       "     u'overallRating': None,\n",
       "     u'productId': u'23880',\n",
       "     u'skuList': None,\n",
       "     u'slug': u'Tmo23',\n",
       "     u'status': 1,\n",
       "     u'text': u'',\n",
       "     u'title': None,\n",
       "     u'totalRatings': None,\n",
       "     u'updateStatusReason': None,\n",
       "     u'userId': 58868432,\n",
       "     u'username': u'Tmo23',\n",
       "     u'verified': True},\n",
       "    u'stats': {u'bodyfat': u'8.0',\n",
       "     u'height': u'71.0',\n",
       "     u'weight': u'215.0',\n",
       "     u'weightChange': None},\n",
       "    u'totalRatings': 135,\n",
       "    u'userRating': {u'overallRating': 8.0,\n",
       "     u'ratings': [],\n",
       "     u'totalRatings': None},\n",
       "    u'wasHelpful': None},\n",
       "   {u'commentCount': 0,\n",
       "    u'flavorRatings': None,\n",
       "    u'helpful': 0,\n",
       "    u'helpfulTotal': 0,\n",
       "    u'likeCount': None,\n",
       "    u'likeStats': None,\n",
       "    u'member': {u'activated': False,\n",
       "     u'emailAddress': None,\n",
       "     u'gender': None,\n",
       "     u'groupId': None,\n",
       "     u'joinDate': None,\n",
       "     u'lastActivity': None,\n",
       "     u'photoCount': 0,\n",
       "     u'profilePicAvatarPath': None,\n",
       "     u'profilePicOriginalPath': None,\n",
       "     u'profilePicPath': u'http://assets.bodybuilding.com/images/profiledefault_thumb.jpg',\n",
       "     u'profilePicThumbPath': None,\n",
       "     u'profileURL': None,\n",
       "     u'realName': None,\n",
       "     u'slug': u'japacker',\n",
       "     u'userId': 13791472,\n",
       "     u'username': u'j.a.packer',\n",
       "     u'vbuserId': 0},\n",
       "    u'overallRating': 9.1,\n",
       "    u'product': {u'brandId': u'BRAND_OPTIMUM',\n",
       "     u'brandName': u'Optimum Nutrition',\n",
       "     u'briefDescription': u'',\n",
       "     u'description': u'Helps Refuel And Replenish Hard-Working Muscles!*',\n",
       "     u'flavorList': [u'Colossal Chocolate'],\n",
       "     u'flavorRatings': {u'overallRating': 9.3,\n",
       "      u'ratings': [{u'flavor': u'Colossal Chocolate',\n",
       "        u'id': u'23880-colossal_chocolate',\n",
       "        u'rating': 9.3,\n",
       "        u'totalRatings': 62}],\n",
       "      u'totalRatings': 1},\n",
       "     u'id': u'23880',\n",
       "     u'imageLarge': u'http://store.bbcomcdn.com/images/store/prodimage/prod_23880/image_23880_original_X_450_white.jpg',\n",
       "     u'imageMedium': u'http://store.bbcomcdn.com/images/store/prodimage/prod_23880/image_23880_original_X_130_white.jpg',\n",
       "     u'imageSmall': u'http://store.bbcomcdn.com/images/store/prodimage/prod_23880/image_23880_original_X_70_white.jpg',\n",
       "     u'name': u'2:1:1 Recovery',\n",
       "     u'overallRating': 9.1,\n",
       "     u'productId': u'23880',\n",
       "     u'reviewUrl': u'http://reviews.bodybuilding.com/Optimum/2_1_1_Recovery/',\n",
       "     u'skuList': None,\n",
       "     u'totalRatings': 135,\n",
       "     u'totalReviews': 132,\n",
       "     u'totalVerifiedBuyers': 32,\n",
       "     u'totalVerifiedReviews': 36,\n",
       "     u'url': u'http://www.bodybuilding.com/store/opt/recovery.html',\n",
       "     u'verified': None,\n",
       "     u'verifiedBuyerRating': 9.4},\n",
       "    u'productReview': {u'_id': u'51a7c7710cf23b204302a616',\n",
       "     u'brandId': u'BRAND_OPTIMUM',\n",
       "     u'date': 1352950451000,\n",
       "     u'entityId': u'productreview-23880',\n",
       "     u'modDate': 1376084062000,\n",
       "     u'overallRating': None,\n",
       "     u'productId': u'23880',\n",
       "     u'skuList': None,\n",
       "     u'slug': u'japacker',\n",
       "     u'status': 1,\n",
       "     u'text': u'',\n",
       "     u'title': None,\n",
       "     u'totalRatings': None,\n",
       "     u'updateStatusReason': None,\n",
       "     u'userId': 13791472,\n",
       "     u'username': u'j.a.packer',\n",
       "     u'verified': True},\n",
       "    u'stats': {u'bodyfat': u'10.0',\n",
       "     u'height': None,\n",
       "     u'weight': u'173.0',\n",
       "     u'weightChange': None},\n",
       "    u'totalRatings': 135,\n",
       "    u'userRating': {u'overallRating': 9.0,\n",
       "     u'ratings': [],\n",
       "     u'totalRatings': None},\n",
       "    u'wasHelpful': None},\n",
       "   {u'commentCount': 0,\n",
       "    u'flavorRatings': None,\n",
       "    u'helpful': 0,\n",
       "    u'helpfulTotal': 0,\n",
       "    u'likeCount': None,\n",
       "    u'likeStats': None,\n",
       "    u'member': {u'activated': False,\n",
       "     u'emailAddress': None,\n",
       "     u'gender': None,\n",
       "     u'groupId': None,\n",
       "     u'joinDate': None,\n",
       "     u'lastActivity': None,\n",
       "     u'photoCount': 0,\n",
       "     u'profilePicAvatarPath': None,\n",
       "     u'profilePicOriginalPath': None,\n",
       "     u'profilePicPath': u'http://imagecdn.bodybuilding.com/profile-photo/21786953/18402c81451944e5a1898fce9d388441p.jpg',\n",
       "     u'profilePicThumbPath': None,\n",
       "     u'profileURL': None,\n",
       "     u'realName': None,\n",
       "     u'slug': u'jeffjackson',\n",
       "     u'userId': 35968712,\n",
       "     u'username': u'jeffjackson',\n",
       "     u'vbuserId': 0},\n",
       "    u'overallRating': 9.1,\n",
       "    u'product': {u'brandId': u'BRAND_OPTIMUM',\n",
       "     u'brandName': u'Optimum Nutrition',\n",
       "     u'briefDescription': u'',\n",
       "     u'description': u'Helps Refuel And Replenish Hard-Working Muscles!*',\n",
       "     u'flavorList': [u'Colossal Chocolate'],\n",
       "     u'flavorRatings': {u'overallRating': 9.3,\n",
       "      u'ratings': [{u'flavor': u'Colossal Chocolate',\n",
       "        u'id': u'23880-colossal_chocolate',\n",
       "        u'rating': 9.3,\n",
       "        u'totalRatings': 62}],\n",
       "      u'totalRatings': 1},\n",
       "     u'id': u'23880',\n",
       "     u'imageLarge': u'http://store.bbcomcdn.com/images/store/prodimage/prod_23880/image_23880_original_X_450_white.jpg',\n",
       "     u'imageMedium': u'http://store.bbcomcdn.com/images/store/prodimage/prod_23880/image_23880_original_X_130_white.jpg',\n",
       "     u'imageSmall': u'http://store.bbcomcdn.com/images/store/prodimage/prod_23880/image_23880_original_X_70_white.jpg',\n",
       "     u'name': u'2:1:1 Recovery',\n",
       "     u'overallRating': 9.1,\n",
       "     u'productId': u'23880',\n",
       "     u'reviewUrl': u'http://reviews.bodybuilding.com/Optimum/2_1_1_Recovery/',\n",
       "     u'skuList': None,\n",
       "     u'totalRatings': 135,\n",
       "     u'totalReviews': 132,\n",
       "     u'totalVerifiedBuyers': 32,\n",
       "     u'totalVerifiedReviews': 36,\n",
       "     u'url': u'http://www.bodybuilding.com/store/opt/recovery.html',\n",
       "     u'verified': None,\n",
       "     u'verifiedBuyerRating': 9.4},\n",
       "    u'productReview': {u'_id': u'51a7c7710cf23b204302a407',\n",
       "     u'brandId': u'BRAND_OPTIMUM',\n",
       "     u'date': 1352799454000,\n",
       "     u'entityId': u'productreview-23880',\n",
       "     u'modDate': 1376084034000,\n",
       "     u'overallRating': None,\n",
       "     u'productId': u'23880',\n",
       "     u'skuList': None,\n",
       "     u'slug': u'jeffjackson',\n",
       "     u'status': 1,\n",
       "     u'text': u'Awesome for post workout! \\r\\nI use it with just water from the drinking fountain after my workout. Mixes well and taste great for a protein powder. \\r\\n\\r\\nAwesome product!! ',\n",
       "     u'title': None,\n",
       "     u'totalRatings': None,\n",
       "     u'updateStatusReason': None,\n",
       "     u'userId': 35968712,\n",
       "     u'username': u'jeffjackson',\n",
       "     u'verified': True},\n",
       "    u'stats': {u'bodyfat': u'11.0',\n",
       "     u'height': u'74.0',\n",
       "     u'weight': u'201.0',\n",
       "     u'weightChange': None},\n",
       "    u'totalRatings': 135,\n",
       "    u'userRating': {u'overallRating': 10.0,\n",
       "     u'ratings': [],\n",
       "     u'totalRatings': None},\n",
       "    u'wasHelpful': None},\n",
       "   {u'commentCount': 0,\n",
       "    u'flavorRatings': None,\n",
       "    u'helpful': 0,\n",
       "    u'helpfulTotal': 0,\n",
       "    u'likeCount': None,\n",
       "    u'likeStats': None,\n",
       "    u'member': {u'activated': False,\n",
       "     u'emailAddress': None,\n",
       "     u'gender': None,\n",
       "     u'groupId': None,\n",
       "     u'joinDate': None,\n",
       "     u'lastActivity': None,\n",
       "     u'photoCount': 0,\n",
       "     u'profilePicAvatarPath': None,\n",
       "     u'profilePicOriginalPath': None,\n",
       "     u'profilePicPath': u'http://imagecdn.bodybuilding.com/profile-photo/27753811/1a75eb589eab40fca4d331a9a5dfdbc8p.jpg',\n",
       "     u'profilePicThumbPath': None,\n",
       "     u'profileURL': None,\n",
       "     u'realName': None,\n",
       "     u'slug': u'LimaX',\n",
       "     u'userId': 11835772,\n",
       "     u'username': u'LimaX',\n",
       "     u'vbuserId': 0},\n",
       "    u'overallRating': 9.1,\n",
       "    u'product': {u'brandId': u'BRAND_OPTIMUM',\n",
       "     u'brandName': u'Optimum Nutrition',\n",
       "     u'briefDescription': u'',\n",
       "     u'description': u'Helps Refuel And Replenish Hard-Working Muscles!*',\n",
       "     u'flavorList': [u'Colossal Chocolate'],\n",
       "     u'flavorRatings': {u'overallRating': 9.3,\n",
       "      u'ratings': [{u'flavor': u'Colossal Chocolate',\n",
       "        u'id': u'23880-colossal_chocolate',\n",
       "        u'rating': 9.3,\n",
       "        u'totalRatings': 62}],\n",
       "      u'totalRatings': 1},\n",
       "     u'id': u'23880',\n",
       "     u'imageLarge': u'http://store.bbcomcdn.com/images/store/prodimage/prod_23880/image_23880_original_X_450_white.jpg',\n",
       "     u'imageMedium': u'http://store.bbcomcdn.com/images/store/prodimage/prod_23880/image_23880_original_X_130_white.jpg',\n",
       "     u'imageSmall': u'http://store.bbcomcdn.com/images/store/prodimage/prod_23880/image_23880_original_X_70_white.jpg',\n",
       "     u'name': u'2:1:1 Recovery',\n",
       "     u'overallRating': 9.1,\n",
       "     u'productId': u'23880',\n",
       "     u'reviewUrl': u'http://reviews.bodybuilding.com/Optimum/2_1_1_Recovery/',\n",
       "     u'skuList': None,\n",
       "     u'totalRatings': 135,\n",
       "     u'totalReviews': 132,\n",
       "     u'totalVerifiedBuyers': 32,\n",
       "     u'totalVerifiedReviews': 36,\n",
       "     u'url': u'http://www.bodybuilding.com/store/opt/recovery.html',\n",
       "     u'verified': None,\n",
       "     u'verifiedBuyerRating': 9.4},\n",
       "    u'productReview': {u'_id': u'51a7c7730cf23b2043035db9',\n",
       "     u'brandId': u'BRAND_OPTIMUM',\n",
       "     u'date': 1350083538000,\n",
       "     u'entityId': u'productreview-23880',\n",
       "     u'modDate': 1376086882000,\n",
       "     u'overallRating': None,\n",
       "     u'productId': u'23880',\n",
       "     u'skuList': None,\n",
       "     u'slug': u'LimaX',\n",
       "     u'status': 1,\n",
       "     u'text': u'',\n",
       "     u'title': None,\n",
       "     u'totalRatings': None,\n",
       "     u'updateStatusReason': None,\n",
       "     u'userId': 11835772,\n",
       "     u'username': u'LimaX',\n",
       "     u'verified': True},\n",
       "    u'stats': {u'bodyfat': u'10.0',\n",
       "     u'height': u'71.0',\n",
       "     u'weight': u'172.0',\n",
       "     u'weightChange': None},\n",
       "    u'totalRatings': 135,\n",
       "    u'userRating': {u'overallRating': 10.0,\n",
       "     u'ratings': [],\n",
       "     u'totalRatings': None},\n",
       "    u'wasHelpful': None},\n",
       "   {u'commentCount': 0,\n",
       "    u'flavorRatings': None,\n",
       "    u'helpful': 0,\n",
       "    u'helpfulTotal': 0,\n",
       "    u'likeCount': None,\n",
       "    u'likeStats': None,\n",
       "    u'member': {u'activated': False,\n",
       "     u'emailAddress': None,\n",
       "     u'gender': None,\n",
       "     u'groupId': None,\n",
       "     u'joinDate': None,\n",
       "     u'lastActivity': None,\n",
       "     u'photoCount': 0,\n",
       "     u'profilePicAvatarPath': None,\n",
       "     u'profilePicOriginalPath': None,\n",
       "     u'profilePicPath': u'http://imagecdn.bodybuilding.com/profile-photo/24541514/55fdc93e62994528b5a95c13467cae8bp.jpg',\n",
       "     u'profilePicThumbPath': None,\n",
       "     u'profileURL': None,\n",
       "     u'realName': None,\n",
       "     u'slug': u'noahbehbudi',\n",
       "     u'userId': 41514542,\n",
       "     u'username': u'noahbehbudi',\n",
       "     u'vbuserId': 0},\n",
       "    u'overallRating': 9.1,\n",
       "    u'product': {u'brandId': u'BRAND_OPTIMUM',\n",
       "     u'brandName': u'Optimum Nutrition',\n",
       "     u'briefDescription': u'',\n",
       "     u'description': u'Helps Refuel And Replenish Hard-Working Muscles!*',\n",
       "     u'flavorList': [u'Colossal Chocolate'],\n",
       "     u'flavorRatings': {u'overallRating': 9.3,\n",
       "      u'ratings': [{u'flavor': u'Colossal Chocolate',\n",
       "        u'id': u'23880-colossal_chocolate',\n",
       "        u'rating': 9.3,\n",
       "        u'totalRatings': 62}],\n",
       "      u'totalRatings': 1},\n",
       "     u'id': u'23880',\n",
       "     u'imageLarge': u'http://store.bbcomcdn.com/images/store/prodimage/prod_23880/image_23880_original_X_450_white.jpg',\n",
       "     u'imageMedium': u'http://store.bbcomcdn.com/images/store/prodimage/prod_23880/image_23880_original_X_130_white.jpg',\n",
       "     u'imageSmall': u'http://store.bbcomcdn.com/images/store/prodimage/prod_23880/image_23880_original_X_70_white.jpg',\n",
       "     u'name': u'2:1:1 Recovery',\n",
       "     u'overallRating': 9.1,\n",
       "     u'productId': u'23880',\n",
       "     u'reviewUrl': u'http://reviews.bodybuilding.com/Optimum/2_1_1_Recovery/',\n",
       "     u'skuList': None,\n",
       "     u'totalRatings': 135,\n",
       "     u'totalReviews': 132,\n",
       "     u'totalVerifiedBuyers': 32,\n",
       "     u'totalVerifiedReviews': 36,\n",
       "     u'url': u'http://www.bodybuilding.com/store/opt/recovery.html',\n",
       "     u'verified': None,\n",
       "     u'verifiedBuyerRating': 9.4},\n",
       "    u'productReview': {u'_id': u'51a7c7730cf23b2043036da8',\n",
       "     u'brandId': u'BRAND_OPTIMUM',\n",
       "     u'date': 1349574149000,\n",
       "     u'entityId': u'productreview-23880',\n",
       "     u'modDate': 1376087139000,\n",
       "     u'overallRating': None,\n",
       "     u'productId': u'23880',\n",
       "     u'skuList': None,\n",
       "     u'slug': u'noahbehbudi',\n",
       "     u'status': 1,\n",
       "     u'text': u'This is a great product i would seriously recommend this',\n",
       "     u'title': None,\n",
       "     u'totalRatings': None,\n",
       "     u'updateStatusReason': None,\n",
       "     u'userId': 41514542,\n",
       "     u'username': u'noahbehbudi',\n",
       "     u'verified': True},\n",
       "    u'stats': None,\n",
       "    u'totalRatings': 135,\n",
       "    u'userRating': {u'overallRating': 10.0,\n",
       "     u'ratings': [{u'flavor': u'Colossal Chocolate',\n",
       "       u'id': u'23880-colossal_chocolate',\n",
       "       u'rating': 10.0,\n",
       "       u'totalRatings': 1}],\n",
       "     u'totalRatings': None},\n",
       "    u'wasHelpful': None},\n",
       "   {u'commentCount': 0,\n",
       "    u'flavorRatings': None,\n",
       "    u'helpful': 0,\n",
       "    u'helpfulTotal': 0,\n",
       "    u'likeCount': None,\n",
       "    u'likeStats': None,\n",
       "    u'member': {u'activated': False,\n",
       "     u'emailAddress': None,\n",
       "     u'gender': None,\n",
       "     u'groupId': None,\n",
       "     u'joinDate': None,\n",
       "     u'lastActivity': None,\n",
       "     u'photoCount': 0,\n",
       "     u'profilePicAvatarPath': None,\n",
       "     u'profilePicOriginalPath': None,\n",
       "     u'profilePicPath': u'http://assets.bodybuilding.com/images/profiledefault_thumb.jpg',\n",
       "     u'profilePicThumbPath': None,\n",
       "     u'profileURL': None,\n",
       "     u'realName': None,\n",
       "     u'slug': u'ndalcortivo',\n",
       "     u'userId': 48670762,\n",
       "     u'username': u'ndalcortivo',\n",
       "     u'vbuserId': 0},\n",
       "    u'overallRating': 9.1,\n",
       "    u'product': {u'brandId': u'BRAND_OPTIMUM',\n",
       "     u'brandName': u'Optimum Nutrition',\n",
       "     u'briefDescription': u'',\n",
       "     u'description': u'Helps Refuel And Replenish Hard-Working Muscles!*',\n",
       "     u'flavorList': [u'Colossal Chocolate'],\n",
       "     u'flavorRatings': {u'overallRating': 9.3,\n",
       "      u'ratings': [{u'flavor': u'Colossal Chocolate',\n",
       "        u'id': u'23880-colossal_chocolate',\n",
       "        u'rating': 9.3,\n",
       "        u'totalRatings': 62}],\n",
       "      u'totalRatings': 1},\n",
       "     u'id': u'23880',\n",
       "     u'imageLarge': u'http://store.bbcomcdn.com/images/store/prodimage/prod_23880/image_23880_original_X_450_white.jpg',\n",
       "     u'imageMedium': u'http://store.bbcomcdn.com/images/store/prodimage/prod_23880/image_23880_original_X_130_white.jpg',\n",
       "     u'imageSmall': u'http://store.bbcomcdn.com/images/store/prodimage/prod_23880/image_23880_original_X_70_white.jpg',\n",
       "     u'name': u'2:1:1 Recovery',\n",
       "     u'overallRating': 9.1,\n",
       "     u'productId': u'23880',\n",
       "     u'reviewUrl': u'http://reviews.bodybuilding.com/Optimum/2_1_1_Recovery/',\n",
       "     u'skuList': None,\n",
       "     u'totalRatings': 135,\n",
       "     u'totalReviews': 132,\n",
       "     u'totalVerifiedBuyers': 32,\n",
       "     u'totalVerifiedReviews': 36,\n",
       "     u'url': u'http://www.bodybuilding.com/store/opt/recovery.html',\n",
       "     u'verified': None,\n",
       "     u'verifiedBuyerRating': 9.4},\n",
       "    u'productReview': {u'_id': u'51a7c7730cf23b2043033bb6',\n",
       "     u'brandId': u'BRAND_OPTIMUM',\n",
       "     u'date': 1348324148000,\n",
       "     u'entityId': u'productreview-23880',\n",
       "     u'modDate': 1376086335000,\n",
       "     u'overallRating': None,\n",
       "     u'productId': u'23880',\n",
       "     u'skuList': None,\n",
       "     u'slug': u'ndalcortivo',\n",
       "     u'status': 1,\n",
       "     u'text': u'easily the best supplement I have ever purchased',\n",
       "     u'title': None,\n",
       "     u'totalRatings': None,\n",
       "     u'updateStatusReason': None,\n",
       "     u'userId': 48670762,\n",
       "     u'username': u'ndalcortivo',\n",
       "     u'verified': True},\n",
       "    u'stats': {u'bodyfat': u'9.0',\n",
       "     u'height': u'70.0',\n",
       "     u'weight': u'165.0',\n",
       "     u'weightChange': None},\n",
       "    u'totalRatings': 135,\n",
       "    u'userRating': {u'overallRating': 10.0,\n",
       "     u'ratings': [{u'flavor': u'Colossal Chocolate',\n",
       "       u'id': u'23880-colossal_chocolate',\n",
       "       u'rating': 10.0,\n",
       "       u'totalRatings': 1}],\n",
       "     u'totalRatings': None},\n",
       "    u'wasHelpful': None}]],\n",
       " 'Total items',\n",
       " 35,\n",
       " 'Len of prodReviews:',\n",
       " 10,\n",
       " [{u'commentCount': 0,\n",
       "   u'flavorRatings': None,\n",
       "   u'helpful': 0,\n",
       "   u'helpfulTotal': 0,\n",
       "   u'likeCount': None,\n",
       "   u'likeStats': None,\n",
       "   u'member': {u'activated': False,\n",
       "    u'emailAddress': None,\n",
       "    u'gender': None,\n",
       "    u'groupId': None,\n",
       "    u'joinDate': None,\n",
       "    u'lastActivity': None,\n",
       "    u'photoCount': 0,\n",
       "    u'profilePicAvatarPath': None,\n",
       "    u'profilePicOriginalPath': None,\n",
       "    u'profilePicPath': u'http://assets.bodybuilding.com/images/profiledefault_thumb.jpg',\n",
       "    u'profilePicThumbPath': None,\n",
       "    u'profileURL': None,\n",
       "    u'realName': None,\n",
       "    u'slug': u'jrgill525',\n",
       "    u'userId': 67939522,\n",
       "    u'username': u'jrgill525',\n",
       "    u'vbuserId': 0},\n",
       "   u'overallRating': 9.1,\n",
       "   u'product': {u'brandId': u'BRAND_OPTIMUM',\n",
       "    u'brandName': u'Optimum Nutrition',\n",
       "    u'briefDescription': u'',\n",
       "    u'description': u'Helps Refuel And Replenish Hard-Working Muscles!*',\n",
       "    u'flavorList': [u'Colossal Chocolate'],\n",
       "    u'flavorRatings': {u'overallRating': 9.3,\n",
       "     u'ratings': [{u'flavor': u'Colossal Chocolate',\n",
       "       u'id': u'23880-colossal_chocolate',\n",
       "       u'rating': 9.3,\n",
       "       u'totalRatings': 62}],\n",
       "     u'totalRatings': 1},\n",
       "    u'id': u'23880',\n",
       "    u'imageLarge': u'http://store.bbcomcdn.com/images/store/prodimage/prod_23880/image_23880_original_X_450_white.jpg',\n",
       "    u'imageMedium': u'http://store.bbcomcdn.com/images/store/prodimage/prod_23880/image_23880_original_X_130_white.jpg',\n",
       "    u'imageSmall': u'http://store.bbcomcdn.com/images/store/prodimage/prod_23880/image_23880_original_X_70_white.jpg',\n",
       "    u'name': u'2:1:1 Recovery',\n",
       "    u'overallRating': 9.1,\n",
       "    u'productId': u'23880',\n",
       "    u'reviewUrl': u'http://reviews.bodybuilding.com/Optimum/2_1_1_Recovery/',\n",
       "    u'skuList': None,\n",
       "    u'totalRatings': 135,\n",
       "    u'totalReviews': 132,\n",
       "    u'totalVerifiedBuyers': 32,\n",
       "    u'totalVerifiedReviews': 36,\n",
       "    u'url': u'http://www.bodybuilding.com/store/opt/recovery.html',\n",
       "    u'verified': None,\n",
       "    u'verifiedBuyerRating': 9.4},\n",
       "   u'productReview': {u'_id': u'52288bfb0cf243fccd2166ec',\n",
       "    u'brandId': u'BRAND_OPTIMUM',\n",
       "    u'date': 1378388987000,\n",
       "    u'entityId': u'productreview-23880',\n",
       "    u'modDate': 1378388987000,\n",
       "    u'overallRating': None,\n",
       "    u'productId': u'23880',\n",
       "    u'skuList': None,\n",
       "    u'slug': u'jrgill525',\n",
       "    u'status': 1,\n",
       "    u'text': u'Best product I have found. Great after a long bike ride or hard gym workout. Mango flavor taste good and is easy to down. My only Iagree is it tends to clump.',\n",
       "    u'title': u'',\n",
       "    u'totalRatings': None,\n",
       "    u'updateStatusReason': None,\n",
       "    u'userId': 67939522,\n",
       "    u'username': u'jrgill525',\n",
       "    u'verified': True},\n",
       "   u'stats': None,\n",
       "   u'totalRatings': 135,\n",
       "   u'userRating': {u'overallRating': 9.0,\n",
       "    u'ratings': [],\n",
       "    u'totalRatings': None},\n",
       "   u'wasHelpful': None},\n",
       "  {u'commentCount': 0,\n",
       "   u'flavorRatings': None,\n",
       "   u'helpful': 0,\n",
       "   u'helpfulTotal': 0,\n",
       "   u'likeCount': None,\n",
       "   u'likeStats': None,\n",
       "   u'member': {u'activated': False,\n",
       "    u'emailAddress': None,\n",
       "    u'gender': None,\n",
       "    u'groupId': None,\n",
       "    u'joinDate': None,\n",
       "    u'lastActivity': None,\n",
       "    u'photoCount': 0,\n",
       "    u'profilePicAvatarPath': None,\n",
       "    u'profilePicOriginalPath': None,\n",
       "    u'profilePicPath': u'http://imagecdn.bodybuilding.com/profile-photo/15744017/930eb18faf1c42a5837ad05216307365p.jpg',\n",
       "    u'profilePicThumbPath': None,\n",
       "    u'profileURL': None,\n",
       "    u'realName': None,\n",
       "    u'slug': u'lopezjg',\n",
       "    u'userId': 71044751,\n",
       "    u'username': u'lopezjg',\n",
       "    u'vbuserId': 0},\n",
       "   u'overallRating': 9.1,\n",
       "   u'product': {u'brandId': u'BRAND_OPTIMUM',\n",
       "    u'brandName': u'Optimum Nutrition',\n",
       "    u'briefDescription': u'',\n",
       "    u'description': u'Helps Refuel And Replenish Hard-Working Muscles!*',\n",
       "    u'flavorList': [u'Colossal Chocolate'],\n",
       "    u'flavorRatings': {u'overallRating': 9.3,\n",
       "     u'ratings': [{u'flavor': u'Colossal Chocolate',\n",
       "       u'id': u'23880-colossal_chocolate',\n",
       "       u'rating': 9.3,\n",
       "       u'totalRatings': 62}],\n",
       "     u'totalRatings': 1},\n",
       "    u'id': u'23880',\n",
       "    u'imageLarge': u'http://store.bbcomcdn.com/images/store/prodimage/prod_23880/image_23880_original_X_450_white.jpg',\n",
       "    u'imageMedium': u'http://store.bbcomcdn.com/images/store/prodimage/prod_23880/image_23880_original_X_130_white.jpg',\n",
       "    u'imageSmall': u'http://store.bbcomcdn.com/images/store/prodimage/prod_23880/image_23880_original_X_70_white.jpg',\n",
       "    u'name': u'2:1:1 Recovery',\n",
       "    u'overallRating': 9.1,\n",
       "    u'productId': u'23880',\n",
       "    u'reviewUrl': u'http://reviews.bodybuilding.com/Optimum/2_1_1_Recovery/',\n",
       "    u'skuList': None,\n",
       "    u'totalRatings': 135,\n",
       "    u'totalReviews': 132,\n",
       "    u'totalVerifiedBuyers': 32,\n",
       "    u'totalVerifiedReviews': 36,\n",
       "    u'url': u'http://www.bodybuilding.com/store/opt/recovery.html',\n",
       "    u'verified': None,\n",
       "    u'verifiedBuyerRating': 9.4},\n",
       "   u'productReview': {u'_id': u'52193b160cf2452c88d42ff6',\n",
       "    u'brandId': u'BRAND_OPTIMUM',\n",
       "    u'date': 1377385238000,\n",
       "    u'entityId': u'productreview-23880',\n",
       "    u'modDate': 1377385238000,\n",
       "    u'overallRating': None,\n",
       "    u'productId': u'23880',\n",
       "    u'skuList': None,\n",
       "    u'slug': u'lopezjg',\n",
       "    u'status': 1,\n",
       "    u'text': u\"I've used this product for quite some time.  Oddly enough, there aren't that many products that combine carbs and protein in a recovery drink, which this does nicely.  The Mucho Mango flavor is nice and light to chug down following a workout; however, you really need to shake it to avoid clumping, and even then it has a tendency to be a bit chalky... hence the 2pt deduction.  Nevertheless, great product, and a staple in my supp regimen.  \",\n",
       "    u'title': u'',\n",
       "    u'totalRatings': None,\n",
       "    u'updateStatusReason': None,\n",
       "    u'userId': 71044751,\n",
       "    u'username': u'lopezjg',\n",
       "    u'verified': True},\n",
       "   u'stats': {u'bodyfat': u'20.0',\n",
       "    u'height': u'70.0',\n",
       "    u'weight': u'177.0',\n",
       "    u'weightChange': None},\n",
       "   u'totalRatings': 135,\n",
       "   u'userRating': {u'overallRating': 8.0,\n",
       "    u'ratings': [],\n",
       "    u'totalRatings': None},\n",
       "   u'wasHelpful': None},\n",
       "  {u'commentCount': 0,\n",
       "   u'flavorRatings': None,\n",
       "   u'helpful': 0,\n",
       "   u'helpfulTotal': 0,\n",
       "   u'likeCount': None,\n",
       "   u'likeStats': None,\n",
       "   u'member': {u'activated': False,\n",
       "    u'emailAddress': None,\n",
       "    u'gender': None,\n",
       "    u'groupId': None,\n",
       "    u'joinDate': None,\n",
       "    u'lastActivity': None,\n",
       "    u'photoCount': 0,\n",
       "    u'profilePicAvatarPath': None,\n",
       "    u'profilePicOriginalPath': None,\n",
       "    u'profilePicPath': u'http://assets.bodybuilding.com/images/profiledefault_thumb.jpg',\n",
       "    u'profilePicThumbPath': None,\n",
       "    u'profileURL': None,\n",
       "    u'realName': None,\n",
       "    u'slug': u'bkunkelman',\n",
       "    u'userId': 69501242,\n",
       "    u'username': u'bkunkelman',\n",
       "    u'vbuserId': 0},\n",
       "   u'overallRating': 9.1,\n",
       "   u'product': {u'brandId': u'BRAND_OPTIMUM',\n",
       "    u'brandName': u'Optimum Nutrition',\n",
       "    u'briefDescription': u'',\n",
       "    u'description': u'Helps Refuel And Replenish Hard-Working Muscles!*',\n",
       "    u'flavorList': [u'Colossal Chocolate'],\n",
       "    u'flavorRatings': {u'overallRating': 9.3,\n",
       "     u'ratings': [{u'flavor': u'Colossal Chocolate',\n",
       "       u'id': u'23880-colossal_chocolate',\n",
       "       u'rating': 9.3,\n",
       "       u'totalRatings': 62}],\n",
       "     u'totalRatings': 1},\n",
       "    u'id': u'23880',\n",
       "    u'imageLarge': u'http://store.bbcomcdn.com/images/store/prodimage/prod_23880/image_23880_original_X_450_white.jpg',\n",
       "    u'imageMedium': u'http://store.bbcomcdn.com/images/store/prodimage/prod_23880/image_23880_original_X_130_white.jpg',\n",
       "    u'imageSmall': u'http://store.bbcomcdn.com/images/store/prodimage/prod_23880/image_23880_original_X_70_white.jpg',\n",
       "    u'name': u'2:1:1 Recovery',\n",
       "    u'overallRating': 9.1,\n",
       "    u'productId': u'23880',\n",
       "    u'reviewUrl': u'http://reviews.bodybuilding.com/Optimum/2_1_1_Recovery/',\n",
       "    u'skuList': None,\n",
       "    u'totalRatings': 135,\n",
       "    u'totalReviews': 132,\n",
       "    u'totalVerifiedBuyers': 32,\n",
       "    u'totalVerifiedReviews': 36,\n",
       "    u'url': u'http://www.bodybuilding.com/store/opt/recovery.html',\n",
       "    u'verified': None,\n",
       "    u'verifiedBuyerRating': 9.4},\n",
       "   u'productReview': {u'_id': u'51eaa93b0cf2ee4143247ee7',\n",
       "    u'brandId': u'BRAND_OPTIMUM',\n",
       "    u'date': 1374333243000,\n",
       "    u'entityId': u'productreview-23880',\n",
       "    u'modDate': 1374333243000,\n",
       "    u'overallRating': None,\n",
       "    u'productId': u'23880',\n",
       "    u'skuList': None,\n",
       "    u'slug': u'bkunkelman',\n",
       "    u'status': 1,\n",
       "    u'text': u'',\n",
       "    u'title': u'',\n",
       "    u'totalRatings': None,\n",
       "    u'updateStatusReason': None,\n",
       "    u'userId': 69501242,\n",
       "    u'username': u'bkunkelman',\n",
       "    u'verified': True},\n",
       "   u'stats': None,\n",
       "   u'totalRatings': 135,\n",
       "   u'userRating': {u'overallRating': 10.0,\n",
       "    u'ratings': [],\n",
       "    u'totalRatings': None},\n",
       "   u'wasHelpful': None},\n",
       "  {u'commentCount': 0,\n",
       "   u'flavorRatings': None,\n",
       "   u'helpful': 0,\n",
       "   u'helpfulTotal': 0,\n",
       "   u'likeCount': None,\n",
       "   u'likeStats': None,\n",
       "   u'member': {u'activated': False,\n",
       "    u'emailAddress': None,\n",
       "    u'gender': None,\n",
       "    u'groupId': None,\n",
       "    u'joinDate': None,\n",
       "    u'lastActivity': None,\n",
       "    u'photoCount': 0,\n",
       "    u'profilePicAvatarPath': None,\n",
       "    u'profilePicOriginalPath': None,\n",
       "    u'profilePicPath': u'http://imagecdn.bodybuilding.com/profile-photo/19536015/815d1c14b6b044b297f232a6ecbbc82fp.jpg',\n",
       "    u'profilePicThumbPath': None,\n",
       "    u'profileURL': None,\n",
       "    u'realName': None,\n",
       "    u'slug': u'rodolfo1069',\n",
       "    u'userId': 51063591,\n",
       "    u'username': u'rodolfo1069',\n",
       "    u'vbuserId': 0},\n",
       "   u'overallRating': 9.1,\n",
       "   u'product': {u'brandId': u'BRAND_OPTIMUM',\n",
       "    u'brandName': u'Optimum Nutrition',\n",
       "    u'briefDescription': u'',\n",
       "    u'description': u'Helps Refuel And Replenish Hard-Working Muscles!*',\n",
       "    u'flavorList': [u'Colossal Chocolate'],\n",
       "    u'flavorRatings': {u'overallRating': 9.3,\n",
       "     u'ratings': [{u'flavor': u'Colossal Chocolate',\n",
       "       u'id': u'23880-colossal_chocolate',\n",
       "       u'rating': 9.3,\n",
       "       u'totalRatings': 62}],\n",
       "     u'totalRatings': 1},\n",
       "    u'id': u'23880',\n",
       "    u'imageLarge': u'http://store.bbcomcdn.com/images/store/prodimage/prod_23880/image_23880_original_X_450_white.jpg',\n",
       "    u'imageMedium': u'http://store.bbcomcdn.com/images/store/prodimage/prod_23880/image_23880_original_X_130_white.jpg',\n",
       "    u'imageSmall': u'http://store.bbcomcdn.com/images/store/prodimage/prod_23880/image_23880_original_X_70_white.jpg',\n",
       "    u'name': u'2:1:1 Recovery',\n",
       "    u'overallRating': 9.1,\n",
       "    u'productId': u'23880',\n",
       "    u'reviewUrl': u'http://reviews.bodybuilding.com/Optimum/2_1_1_Recovery/',\n",
       "    u'skuList': None,\n",
       "    u'totalRatings': 135,\n",
       "    u'totalReviews': 132,\n",
       "    u'totalVerifiedBuyers': 32,\n",
       "    u'totalVerifiedReviews': 36,\n",
       "    u'url': u'http://www.bodybuilding.com/store/opt/recovery.html',\n",
       "    u'verified': None,\n",
       "    u'verifiedBuyerRating': 9.4},\n",
       "   u'productReview': {u'_id': u'51a7c7730cf23b2043032cde',\n",
       "    u'brandId': u'BRAND_OPTIMUM',\n",
       "    u'date': 1363848509000,\n",
       "    u'entityId': u'productreview-23880',\n",
       "    u'modDate': 1376086131000,\n",
       "    u'overallRating': None,\n",
       "    u'productId': u'23880',\n",
       "    u'skuList': None,\n",
       "    u'slug': u'rodolfo1069',\n",
       "    u'status': 1,\n",
       "    u'text': u'',\n",
       "    u'title': None,\n",
       "    u'totalRatings': None,\n",
       "    u'updateStatusReason': None,\n",
       "    u'userId': 51063591,\n",
       "    u'username': u'rodolfo1069',\n",
       "    u'verified': True},\n",
       "   u'stats': {u'bodyfat': u'8.0',\n",
       "    u'height': u'68.0',\n",
       "    u'weight': u'205.0',\n",
       "    u'weightChange': None},\n",
       "   u'totalRatings': 135,\n",
       "   u'userRating': {u'overallRating': 10.0,\n",
       "    u'ratings': [{u'flavor': u'Colossal Chocolate',\n",
       "      u'id': u'23880-colossal_chocolate',\n",
       "      u'rating': 10.0,\n",
       "      u'totalRatings': 1}],\n",
       "    u'totalRatings': None},\n",
       "   u'wasHelpful': None},\n",
       "  {u'commentCount': 0,\n",
       "   u'flavorRatings': None,\n",
       "   u'helpful': 0,\n",
       "   u'helpfulTotal': 0,\n",
       "   u'likeCount': None,\n",
       "   u'likeStats': None,\n",
       "   u'member': {u'activated': False,\n",
       "    u'emailAddress': None,\n",
       "    u'gender': None,\n",
       "    u'groupId': None,\n",
       "    u'joinDate': None,\n",
       "    u'lastActivity': None,\n",
       "    u'photoCount': 0,\n",
       "    u'profilePicAvatarPath': None,\n",
       "    u'profilePicOriginalPath': None,\n",
       "    u'profilePicPath': u'http://assets.bodybuilding.com/images/profiledefault_thumb.jpg',\n",
       "    u'profilePicThumbPath': None,\n",
       "    u'profileURL': None,\n",
       "    u'realName': None,\n",
       "    u'slug': u'Tmo23',\n",
       "    u'userId': 58868432,\n",
       "    u'username': u'Tmo23',\n",
       "    u'vbuserId': 0},\n",
       "   u'overallRating': 9.1,\n",
       "   u'product': {u'brandId': u'BRAND_OPTIMUM',\n",
       "    u'brandName': u'Optimum Nutrition',\n",
       "    u'briefDescription': u'',\n",
       "    u'description': u'Helps Refuel And Replenish Hard-Working Muscles!*',\n",
       "    u'flavorList': [u'Colossal Chocolate'],\n",
       "    u'flavorRatings': {u'overallRating': 9.3,\n",
       "     u'ratings': [{u'flavor': u'Colossal Chocolate',\n",
       "       u'id': u'23880-colossal_chocolate',\n",
       "       u'rating': 9.3,\n",
       "       u'totalRatings': 62}],\n",
       "     u'totalRatings': 1},\n",
       "    u'id': u'23880',\n",
       "    u'imageLarge': u'http://store.bbcomcdn.com/images/store/prodimage/prod_23880/image_23880_original_X_450_white.jpg',\n",
       "    u'imageMedium': u'http://store.bbcomcdn.com/images/store/prodimage/prod_23880/image_23880_original_X_130_white.jpg',\n",
       "    u'imageSmall': u'http://store.bbcomcdn.com/images/store/prodimage/prod_23880/image_23880_original_X_70_white.jpg',\n",
       "    u'name': u'2:1:1 Recovery',\n",
       "    u'overallRating': 9.1,\n",
       "    u'productId': u'23880',\n",
       "    u'reviewUrl': u'http://reviews.bodybuilding.com/Optimum/2_1_1_Recovery/',\n",
       "    u'skuList': None,\n",
       "    u'totalRatings': 135,\n",
       "    u'totalReviews': 132,\n",
       "    u'totalVerifiedBuyers': 32,\n",
       "    u'totalVerifiedReviews': 36,\n",
       "    u'url': u'http://www.bodybuilding.com/store/opt/recovery.html',\n",
       "    u'verified': None,\n",
       "    u'verifiedBuyerRating': 9.4},\n",
       "   u'productReview': {u'_id': u'51a7c7720cf23b204302f265',\n",
       "    u'brandId': u'BRAND_OPTIMUM',\n",
       "    u'date': 1362598337000,\n",
       "    u'entityId': u'productreview-23880',\n",
       "    u'modDate': 1376085247000,\n",
       "    u'overallRating': None,\n",
       "    u'productId': u'23880',\n",
       "    u'skuList': None,\n",
       "    u'slug': u'Tmo23',\n",
       "    u'status': 1,\n",
       "    u'text': u'',\n",
       "    u'title': None,\n",
       "    u'totalRatings': None,\n",
       "    u'updateStatusReason': None,\n",
       "    u'userId': 58868432,\n",
       "    u'username': u'Tmo23',\n",
       "    u'verified': True},\n",
       "   u'stats': {u'bodyfat': u'8.0',\n",
       "    u'height': u'71.0',\n",
       "    u'weight': u'215.0',\n",
       "    u'weightChange': None},\n",
       "   u'totalRatings': 135,\n",
       "   u'userRating': {u'overallRating': 8.0,\n",
       "    u'ratings': [],\n",
       "    u'totalRatings': None},\n",
       "   u'wasHelpful': None},\n",
       "  {u'commentCount': 0,\n",
       "   u'flavorRatings': None,\n",
       "   u'helpful': 0,\n",
       "   u'helpfulTotal': 0,\n",
       "   u'likeCount': None,\n",
       "   u'likeStats': None,\n",
       "   u'member': {u'activated': False,\n",
       "    u'emailAddress': None,\n",
       "    u'gender': None,\n",
       "    u'groupId': None,\n",
       "    u'joinDate': None,\n",
       "    u'lastActivity': None,\n",
       "    u'photoCount': 0,\n",
       "    u'profilePicAvatarPath': None,\n",
       "    u'profilePicOriginalPath': None,\n",
       "    u'profilePicPath': u'http://assets.bodybuilding.com/images/profiledefault_thumb.jpg',\n",
       "    u'profilePicThumbPath': None,\n",
       "    u'profileURL': None,\n",
       "    u'realName': None,\n",
       "    u'slug': u'japacker',\n",
       "    u'userId': 13791472,\n",
       "    u'username': u'j.a.packer',\n",
       "    u'vbuserId': 0},\n",
       "   u'overallRating': 9.1,\n",
       "   u'product': {u'brandId': u'BRAND_OPTIMUM',\n",
       "    u'brandName': u'Optimum Nutrition',\n",
       "    u'briefDescription': u'',\n",
       "    u'description': u'Helps Refuel And Replenish Hard-Working Muscles!*',\n",
       "    u'flavorList': [u'Colossal Chocolate'],\n",
       "    u'flavorRatings': {u'overallRating': 9.3,\n",
       "     u'ratings': [{u'flavor': u'Colossal Chocolate',\n",
       "       u'id': u'23880-colossal_chocolate',\n",
       "       u'rating': 9.3,\n",
       "       u'totalRatings': 62}],\n",
       "     u'totalRatings': 1},\n",
       "    u'id': u'23880',\n",
       "    u'imageLarge': u'http://store.bbcomcdn.com/images/store/prodimage/prod_23880/image_23880_original_X_450_white.jpg',\n",
       "    u'imageMedium': u'http://store.bbcomcdn.com/images/store/prodimage/prod_23880/image_23880_original_X_130_white.jpg',\n",
       "    u'imageSmall': u'http://store.bbcomcdn.com/images/store/prodimage/prod_23880/image_23880_original_X_70_white.jpg',\n",
       "    u'name': u'2:1:1 Recovery',\n",
       "    u'overallRating': 9.1,\n",
       "    u'productId': u'23880',\n",
       "    u'reviewUrl': u'http://reviews.bodybuilding.com/Optimum/2_1_1_Recovery/',\n",
       "    u'skuList': None,\n",
       "    u'totalRatings': 135,\n",
       "    u'totalReviews': 132,\n",
       "    u'totalVerifiedBuyers': 32,\n",
       "    u'totalVerifiedReviews': 36,\n",
       "    u'url': u'http://www.bodybuilding.com/store/opt/recovery.html',\n",
       "    u'verified': None,\n",
       "    u'verifiedBuyerRating': 9.4},\n",
       "   u'productReview': {u'_id': u'51a7c7710cf23b204302a616',\n",
       "    u'brandId': u'BRAND_OPTIMUM',\n",
       "    u'date': 1352950451000,\n",
       "    u'entityId': u'productreview-23880',\n",
       "    u'modDate': 1376084062000,\n",
       "    u'overallRating': None,\n",
       "    u'productId': u'23880',\n",
       "    u'skuList': None,\n",
       "    u'slug': u'japacker',\n",
       "    u'status': 1,\n",
       "    u'text': u'',\n",
       "    u'title': None,\n",
       "    u'totalRatings': None,\n",
       "    u'updateStatusReason': None,\n",
       "    u'userId': 13791472,\n",
       "    u'username': u'j.a.packer',\n",
       "    u'verified': True},\n",
       "   u'stats': {u'bodyfat': u'10.0',\n",
       "    u'height': None,\n",
       "    u'weight': u'173.0',\n",
       "    u'weightChange': None},\n",
       "   u'totalRatings': 135,\n",
       "   u'userRating': {u'overallRating': 9.0,\n",
       "    u'ratings': [],\n",
       "    u'totalRatings': None},\n",
       "   u'wasHelpful': None},\n",
       "  {u'commentCount': 0,\n",
       "   u'flavorRatings': None,\n",
       "   u'helpful': 0,\n",
       "   u'helpfulTotal': 0,\n",
       "   u'likeCount': None,\n",
       "   u'likeStats': None,\n",
       "   u'member': {u'activated': False,\n",
       "    u'emailAddress': None,\n",
       "    u'gender': None,\n",
       "    u'groupId': None,\n",
       "    u'joinDate': None,\n",
       "    u'lastActivity': None,\n",
       "    u'photoCount': 0,\n",
       "    u'profilePicAvatarPath': None,\n",
       "    u'profilePicOriginalPath': None,\n",
       "    u'profilePicPath': u'http://imagecdn.bodybuilding.com/profile-photo/21786953/18402c81451944e5a1898fce9d388441p.jpg',\n",
       "    u'profilePicThumbPath': None,\n",
       "    u'profileURL': None,\n",
       "    u'realName': None,\n",
       "    u'slug': u'jeffjackson',\n",
       "    u'userId': 35968712,\n",
       "    u'username': u'jeffjackson',\n",
       "    u'vbuserId': 0},\n",
       "   u'overallRating': 9.1,\n",
       "   u'product': {u'brandId': u'BRAND_OPTIMUM',\n",
       "    u'brandName': u'Optimum Nutrition',\n",
       "    u'briefDescription': u'',\n",
       "    u'description': u'Helps Refuel And Replenish Hard-Working Muscles!*',\n",
       "    u'flavorList': [u'Colossal Chocolate'],\n",
       "    u'flavorRatings': {u'overallRating': 9.3,\n",
       "     u'ratings': [{u'flavor': u'Colossal Chocolate',\n",
       "       u'id': u'23880-colossal_chocolate',\n",
       "       u'rating': 9.3,\n",
       "       u'totalRatings': 62}],\n",
       "     u'totalRatings': 1},\n",
       "    u'id': u'23880',\n",
       "    u'imageLarge': u'http://store.bbcomcdn.com/images/store/prodimage/prod_23880/image_23880_original_X_450_white.jpg',\n",
       "    u'imageMedium': u'http://store.bbcomcdn.com/images/store/prodimage/prod_23880/image_23880_original_X_130_white.jpg',\n",
       "    u'imageSmall': u'http://store.bbcomcdn.com/images/store/prodimage/prod_23880/image_23880_original_X_70_white.jpg',\n",
       "    u'name': u'2:1:1 Recovery',\n",
       "    u'overallRating': 9.1,\n",
       "    u'productId': u'23880',\n",
       "    u'reviewUrl': u'http://reviews.bodybuilding.com/Optimum/2_1_1_Recovery/',\n",
       "    u'skuList': None,\n",
       "    u'totalRatings': 135,\n",
       "    u'totalReviews': 132,\n",
       "    u'totalVerifiedBuyers': 32,\n",
       "    u'totalVerifiedReviews': 36,\n",
       "    u'url': u'http://www.bodybuilding.com/store/opt/recovery.html',\n",
       "    u'verified': None,\n",
       "    u'verifiedBuyerRating': 9.4},\n",
       "   u'productReview': {u'_id': u'51a7c7710cf23b204302a407',\n",
       "    u'brandId': u'BRAND_OPTIMUM',\n",
       "    u'date': 1352799454000,\n",
       "    u'entityId': u'productreview-23880',\n",
       "    u'modDate': 1376084034000,\n",
       "    u'overallRating': None,\n",
       "    u'productId': u'23880',\n",
       "    u'skuList': None,\n",
       "    u'slug': u'jeffjackson',\n",
       "    u'status': 1,\n",
       "    u'text': u'Awesome for post workout! \\r\\nI use it with just water from the drinking fountain after my workout. Mixes well and taste great for a protein powder. \\r\\n\\r\\nAwesome product!! ',\n",
       "    u'title': None,\n",
       "    u'totalRatings': None,\n",
       "    u'updateStatusReason': None,\n",
       "    u'userId': 35968712,\n",
       "    u'username': u'jeffjackson',\n",
       "    u'verified': True},\n",
       "   u'stats': {u'bodyfat': u'11.0',\n",
       "    u'height': u'74.0',\n",
       "    u'weight': u'201.0',\n",
       "    u'weightChange': None},\n",
       "   u'totalRatings': 135,\n",
       "   u'userRating': {u'overallRating': 10.0,\n",
       "    u'ratings': [],\n",
       "    u'totalRatings': None},\n",
       "   u'wasHelpful': None},\n",
       "  {u'commentCount': 0,\n",
       "   u'flavorRatings': None,\n",
       "   u'helpful': 0,\n",
       "   u'helpfulTotal': 0,\n",
       "   u'likeCount': None,\n",
       "   u'likeStats': None,\n",
       "   u'member': {u'activated': False,\n",
       "    u'emailAddress': None,\n",
       "    u'gender': None,\n",
       "    u'groupId': None,\n",
       "    u'joinDate': None,\n",
       "    u'lastActivity': None,\n",
       "    u'photoCount': 0,\n",
       "    u'profilePicAvatarPath': None,\n",
       "    u'profilePicOriginalPath': None,\n",
       "    u'profilePicPath': u'http://imagecdn.bodybuilding.com/profile-photo/27753811/1a75eb589eab40fca4d331a9a5dfdbc8p.jpg',\n",
       "    u'profilePicThumbPath': None,\n",
       "    u'profileURL': None,\n",
       "    u'realName': None,\n",
       "    u'slug': u'LimaX',\n",
       "    u'userId': 11835772,\n",
       "    u'username': u'LimaX',\n",
       "    u'vbuserId': 0},\n",
       "   u'overallRating': 9.1,\n",
       "   u'product': {u'brandId': u'BRAND_OPTIMUM',\n",
       "    u'brandName': u'Optimum Nutrition',\n",
       "    u'briefDescription': u'',\n",
       "    u'description': u'Helps Refuel And Replenish Hard-Working Muscles!*',\n",
       "    u'flavorList': [u'Colossal Chocolate'],\n",
       "    u'flavorRatings': {u'overallRating': 9.3,\n",
       "     u'ratings': [{u'flavor': u'Colossal Chocolate',\n",
       "       u'id': u'23880-colossal_chocolate',\n",
       "       u'rating': 9.3,\n",
       "       u'totalRatings': 62}],\n",
       "     u'totalRatings': 1},\n",
       "    u'id': u'23880',\n",
       "    u'imageLarge': u'http://store.bbcomcdn.com/images/store/prodimage/prod_23880/image_23880_original_X_450_white.jpg',\n",
       "    u'imageMedium': u'http://store.bbcomcdn.com/images/store/prodimage/prod_23880/image_23880_original_X_130_white.jpg',\n",
       "    u'imageSmall': u'http://store.bbcomcdn.com/images/store/prodimage/prod_23880/image_23880_original_X_70_white.jpg',\n",
       "    u'name': u'2:1:1 Recovery',\n",
       "    u'overallRating': 9.1,\n",
       "    u'productId': u'23880',\n",
       "    u'reviewUrl': u'http://reviews.bodybuilding.com/Optimum/2_1_1_Recovery/',\n",
       "    u'skuList': None,\n",
       "    u'totalRatings': 135,\n",
       "    u'totalReviews': 132,\n",
       "    u'totalVerifiedBuyers': 32,\n",
       "    u'totalVerifiedReviews': 36,\n",
       "    u'url': u'http://www.bodybuilding.com/store/opt/recovery.html',\n",
       "    u'verified': None,\n",
       "    u'verifiedBuyerRating': 9.4},\n",
       "   u'productReview': {u'_id': u'51a7c7730cf23b2043035db9',\n",
       "    u'brandId': u'BRAND_OPTIMUM',\n",
       "    u'date': 1350083538000,\n",
       "    u'entityId': u'productreview-23880',\n",
       "    u'modDate': 1376086882000,\n",
       "    u'overallRating': None,\n",
       "    u'productId': u'23880',\n",
       "    u'skuList': None,\n",
       "    u'slug': u'LimaX',\n",
       "    u'status': 1,\n",
       "    u'text': u'',\n",
       "    u'title': None,\n",
       "    u'totalRatings': None,\n",
       "    u'updateStatusReason': None,\n",
       "    u'userId': 11835772,\n",
       "    u'username': u'LimaX',\n",
       "    u'verified': True},\n",
       "   u'stats': {u'bodyfat': u'10.0',\n",
       "    u'height': u'71.0',\n",
       "    u'weight': u'172.0',\n",
       "    u'weightChange': None},\n",
       "   u'totalRatings': 135,\n",
       "   u'userRating': {u'overallRating': 10.0,\n",
       "    u'ratings': [],\n",
       "    u'totalRatings': None},\n",
       "   u'wasHelpful': None},\n",
       "  {u'commentCount': 0,\n",
       "   u'flavorRatings': None,\n",
       "   u'helpful': 0,\n",
       "   u'helpfulTotal': 0,\n",
       "   u'likeCount': None,\n",
       "   u'likeStats': None,\n",
       "   u'member': {u'activated': False,\n",
       "    u'emailAddress': None,\n",
       "    u'gender': None,\n",
       "    u'groupId': None,\n",
       "    u'joinDate': None,\n",
       "    u'lastActivity': None,\n",
       "    u'photoCount': 0,\n",
       "    u'profilePicAvatarPath': None,\n",
       "    u'profilePicOriginalPath': None,\n",
       "    u'profilePicPath': u'http://imagecdn.bodybuilding.com/profile-photo/24541514/55fdc93e62994528b5a95c13467cae8bp.jpg',\n",
       "    u'profilePicThumbPath': None,\n",
       "    u'profileURL': None,\n",
       "    u'realName': None,\n",
       "    u'slug': u'noahbehbudi',\n",
       "    u'userId': 41514542,\n",
       "    u'username': u'noahbehbudi',\n",
       "    u'vbuserId': 0},\n",
       "   u'overallRating': 9.1,\n",
       "   u'product': {u'brandId': u'BRAND_OPTIMUM',\n",
       "    u'brandName': u'Optimum Nutrition',\n",
       "    u'briefDescription': u'',\n",
       "    u'description': u'Helps Refuel And Replenish Hard-Working Muscles!*',\n",
       "    u'flavorList': [u'Colossal Chocolate'],\n",
       "    u'flavorRatings': {u'overallRating': 9.3,\n",
       "     u'ratings': [{u'flavor': u'Colossal Chocolate',\n",
       "       u'id': u'23880-colossal_chocolate',\n",
       "       u'rating': 9.3,\n",
       "       u'totalRatings': 62}],\n",
       "     u'totalRatings': 1},\n",
       "    u'id': u'23880',\n",
       "    u'imageLarge': u'http://store.bbcomcdn.com/images/store/prodimage/prod_23880/image_23880_original_X_450_white.jpg',\n",
       "    u'imageMedium': u'http://store.bbcomcdn.com/images/store/prodimage/prod_23880/image_23880_original_X_130_white.jpg',\n",
       "    u'imageSmall': u'http://store.bbcomcdn.com/images/store/prodimage/prod_23880/image_23880_original_X_70_white.jpg',\n",
       "    u'name': u'2:1:1 Recovery',\n",
       "    u'overallRating': 9.1,\n",
       "    u'productId': u'23880',\n",
       "    u'reviewUrl': u'http://reviews.bodybuilding.com/Optimum/2_1_1_Recovery/',\n",
       "    u'skuList': None,\n",
       "    u'totalRatings': 135,\n",
       "    u'totalReviews': 132,\n",
       "    u'totalVerifiedBuyers': 32,\n",
       "    u'totalVerifiedReviews': 36,\n",
       "    u'url': u'http://www.bodybuilding.com/store/opt/recovery.html',\n",
       "    u'verified': None,\n",
       "    u'verifiedBuyerRating': 9.4},\n",
       "   u'productReview': {u'_id': u'51a7c7730cf23b2043036da8',\n",
       "    u'brandId': u'BRAND_OPTIMUM',\n",
       "    u'date': 1349574149000,\n",
       "    u'entityId': u'productreview-23880',\n",
       "    u'modDate': 1376087139000,\n",
       "    u'overallRating': None,\n",
       "    u'productId': u'23880',\n",
       "    u'skuList': None,\n",
       "    u'slug': u'noahbehbudi',\n",
       "    u'status': 1,\n",
       "    u'text': u'This is a great product i would seriously recommend this',\n",
       "    u'title': None,\n",
       "    u'totalRatings': None,\n",
       "    u'updateStatusReason': None,\n",
       "    u'userId': 41514542,\n",
       "    u'username': u'noahbehbudi',\n",
       "    u'verified': True},\n",
       "   u'stats': None,\n",
       "   u'totalRatings': 135,\n",
       "   u'userRating': {u'overallRating': 10.0,\n",
       "    u'ratings': [{u'flavor': u'Colossal Chocolate',\n",
       "      u'id': u'23880-colossal_chocolate',\n",
       "      u'rating': 10.0,\n",
       "      u'totalRatings': 1}],\n",
       "    u'totalRatings': None},\n",
       "   u'wasHelpful': None},\n",
       "  {u'commentCount': 0,\n",
       "   u'flavorRatings': None,\n",
       "   u'helpful': 0,\n",
       "   u'helpfulTotal': 0,\n",
       "   u'likeCount': None,\n",
       "   u'likeStats': None,\n",
       "   u'member': {u'activated': False,\n",
       "    u'emailAddress': None,\n",
       "    u'gender': None,\n",
       "    u'groupId': None,\n",
       "    u'joinDate': None,\n",
       "    u'lastActivity': None,\n",
       "    u'photoCount': 0,\n",
       "    u'profilePicAvatarPath': None,\n",
       "    u'profilePicOriginalPath': None,\n",
       "    u'profilePicPath': u'http://assets.bodybuilding.com/images/profiledefault_thumb.jpg',\n",
       "    u'profilePicThumbPath': None,\n",
       "    u'profileURL': None,\n",
       "    u'realName': None,\n",
       "    u'slug': u'ndalcortivo',\n",
       "    u'userId': 48670762,\n",
       "    u'username': u'ndalcortivo',\n",
       "    u'vbuserId': 0},\n",
       "   u'overallRating': 9.1,\n",
       "   u'product': {u'brandId': u'BRAND_OPTIMUM',\n",
       "    u'brandName': u'Optimum Nutrition',\n",
       "    u'briefDescription': u'',\n",
       "    u'description': u'Helps Refuel And Replenish Hard-Working Muscles!*',\n",
       "    u'flavorList': [u'Colossal Chocolate'],\n",
       "    u'flavorRatings': {u'overallRating': 9.3,\n",
       "     u'ratings': [{u'flavor': u'Colossal Chocolate',\n",
       "       u'id': u'23880-colossal_chocolate',\n",
       "       u'rating': 9.3,\n",
       "       u'totalRatings': 62}],\n",
       "     u'totalRatings': 1},\n",
       "    u'id': u'23880',\n",
       "    u'imageLarge': u'http://store.bbcomcdn.com/images/store/prodimage/prod_23880/image_23880_original_X_450_white.jpg',\n",
       "    u'imageMedium': u'http://store.bbcomcdn.com/images/store/prodimage/prod_23880/image_23880_original_X_130_white.jpg',\n",
       "    u'imageSmall': u'http://store.bbcomcdn.com/images/store/prodimage/prod_23880/image_23880_original_X_70_white.jpg',\n",
       "    u'name': u'2:1:1 Recovery',\n",
       "    u'overallRating': 9.1,\n",
       "    u'productId': u'23880',\n",
       "    u'reviewUrl': u'http://reviews.bodybuilding.com/Optimum/2_1_1_Recovery/',\n",
       "    u'skuList': None,\n",
       "    u'totalRatings': 135,\n",
       "    u'totalReviews': 132,\n",
       "    u'totalVerifiedBuyers': 32,\n",
       "    u'totalVerifiedReviews': 36,\n",
       "    u'url': u'http://www.bodybuilding.com/store/opt/recovery.html',\n",
       "    u'verified': None,\n",
       "    u'verifiedBuyerRating': 9.4},\n",
       "   u'productReview': {u'_id': u'51a7c7730cf23b2043033bb6',\n",
       "    u'brandId': u'BRAND_OPTIMUM',\n",
       "    u'date': 1348324148000,\n",
       "    u'entityId': u'productreview-23880',\n",
       "    u'modDate': 1376086335000,\n",
       "    u'overallRating': None,\n",
       "    u'productId': u'23880',\n",
       "    u'skuList': None,\n",
       "    u'slug': u'ndalcortivo',\n",
       "    u'status': 1,\n",
       "    u'text': u'easily the best supplement I have ever purchased',\n",
       "    u'title': None,\n",
       "    u'totalRatings': None,\n",
       "    u'updateStatusReason': None,\n",
       "    u'userId': 48670762,\n",
       "    u'username': u'ndalcortivo',\n",
       "    u'verified': True},\n",
       "   u'stats': {u'bodyfat': u'9.0',\n",
       "    u'height': u'70.0',\n",
       "    u'weight': u'165.0',\n",
       "    u'weightChange': None},\n",
       "   u'totalRatings': 135,\n",
       "   u'userRating': {u'overallRating': 10.0,\n",
       "    u'ratings': [{u'flavor': u'Colossal Chocolate',\n",
       "      u'id': u'23880-colossal_chocolate',\n",
       "      u'rating': 10.0,\n",
       "      u'totalRatings': 1}],\n",
       "    u'totalRatings': None},\n",
       "   u'wasHelpful': None}])"
      ]
     },
     "execution_count": 121,
     "metadata": {},
     "output_type": "execute_result"
    }
   ],
   "source": [
    "store_data(23880)"
   ]
  },
  {
   "cell_type": "code",
   "execution_count": 64,
   "metadata": {
    "collapsed": true
   },
   "outputs": [],
   "source": [
    " def prod_list(prod_num):\n",
    "    products = []\n",
    "    for i in xrange(10):\n",
    "        url = 'https://catalog.bodybuilding.com/products/'+str(prod_num)+'/reviews'\n",
    "        foo = requests.get(url, headers=headers, params={'page':1, 'reviewType':'verified'})\n",
    "        if foo.json()['productReviews']:\n",
    "            products.append(prod_num)\n",
    "            prod_num +=1\n",
    "        else:\n",
    "            prod_num +=1\n",
    "    return products "
   ]
  },
  {
   "cell_type": "code",
   "execution_count": 65,
   "metadata": {
    "collapsed": false
   },
   "outputs": [
    {
     "data": {
      "text/plain": [
       "[28286]"
      ]
     },
     "execution_count": 65,
     "metadata": {},
     "output_type": "execute_result"
    }
   ],
   "source": [
    "prod_list(28280)"
   ]
  },
  {
   "cell_type": "code",
   "execution_count": 153,
   "metadata": {
    "collapsed": true
   },
   "outputs": [],
   "source": [
    "def brands_list():\n",
    "    z = requests.get('http://reviews.bodybuilding.com/view-reviews')\n",
    "    soup = BeautifulSoup(z.content)\n",
    "    brands = [soup.findAll(id='brandName')[i]['href'] for i in \n",
    "    xrange(len(soup.findAll(id='brandName')))]\n",
    "    return brands\n",
    "\n",
    "def brand_numbers(brands):\n",
    "    brand_num_list = [] \n",
    "    for brand in brands:\n",
    "        z = requests.get(brand)\n",
    "        soup = BeautifulSoup(z.content)\n",
    "        tags = soup.findAll(attrs={'class':'product-image'})\n",
    "        for i in xrange(0, len(tags), 2):\n",
    "            product_num = tags[i].find('img')['src'].split('image/prod_')[1].split('/')[0]\n",
    "            brand_num_list.append(product_num)\n",
    "    return brand_num_list"
   ]
  },
  {
   "cell_type": "code",
   "execution_count": 156,
   "metadata": {
    "collapsed": false
   },
   "outputs": [
    {
     "data": {
      "text/plain": [
       "4032"
      ]
     },
     "execution_count": 156,
     "metadata": {},
     "output_type": "execute_result"
    }
   ],
   "source": [
    "len(brand_numbers(brands_list()))"
   ]
  },
  {
   "cell_type": "code",
   "execution_count": 4,
   "metadata": {
    "collapsed": true
   },
   "outputs": [
    {
     "name": "stderr",
     "output_type": "stream",
     "text": [
      "/Users/medrine/anaconda/lib/python2.7/site-packages/bs4/__init__.py:166: UserWarning: No parser was explicitly specified, so I'm using the best available HTML parser for this system (\"lxml\"). This usually isn't a problem, but if you run this code on another system, or in a different virtual environment, it may use a different parser and behave differently.\n",
      "\n",
      "To get rid of this warning, change this:\n",
      "\n",
      " BeautifulSoup([your markup])\n",
      "\n",
      "to this:\n",
      "\n",
      " BeautifulSoup([your markup], \"lxml\")\n",
      "\n",
      "  markup_type=markup_type))\n"
     ]
    }
   ],
   "source": [
    "z = requests.get('http://reviews.bodybuilding.com/Allmax_Nutrition/')\n",
    "soup = BeautifulSoup(z.content)\n",
    "tags = soup.findAll(attrs={'class':'pagination-buttons'})"
   ]
  },
  {
   "cell_type": "code",
   "execution_count": 2,
   "metadata": {
    "collapsed": false
   },
   "outputs": [
    {
     "data": {
      "text/plain": [
       "u'/Users/gSchool/Desktop/bodyscrape/Capstone'"
      ]
     },
     "execution_count": 2,
     "metadata": {},
     "output_type": "execute_result"
    }
   ],
   "source": []
  },
  {
   "cell_type": "code",
   "execution_count": 55,
   "metadata": {
    "collapsed": true
   },
   "outputs": [],
   "source": [
    "import graphlab as gl"
   ]
  },
  {
   "cell_type": "code",
   "execution_count": 1,
   "metadata": {
    "collapsed": true
   },
   "outputs": [],
   "source": [
    "import pandas as pd"
   ]
  },
  {
   "cell_type": "code",
   "execution_count": 71,
   "metadata": {
    "collapsed": false
   },
   "outputs": [],
   "source": [
    "run bodycleaning.py"
   ]
  },
  {
   "cell_type": "code",
   "execution_count": 72,
   "metadata": {
    "collapsed": false
   },
   "outputs": [
    {
     "data": {
      "text/plain": [
       "(11091, 2)"
      ]
     },
     "execution_count": 72,
     "metadata": {},
     "output_type": "execute_result"
    }
   ],
   "source": [
    "model.df.shape"
   ]
  },
  {
   "cell_type": "code",
   "execution_count": 73,
   "metadata": {
    "collapsed": false
   },
   "outputs": [],
   "source": [
    "model.add_columns()"
   ]
  },
  {
   "cell_type": "code",
   "execution_count": 74,
   "metadata": {
    "collapsed": true
   },
   "outputs": [],
   "source": [
    "model.df['rating'] = [model.df.userRating[i]['overallRating'] for i in xrange(model.df.shape[0])]"
   ]
  },
  {
   "cell_type": "code",
   "execution_count": 52,
   "metadata": {
    "collapsed": false,
    "scrolled": true
   },
   "outputs": [],
   "source": [
    "sf_product = model.df[['userId', 'productId', 'rating']]"
   ]
  },
  {
   "cell_type": "code",
   "execution_count": 69,
   "metadata": {
    "collapsed": false
   },
   "outputs": [
    {
     "ename": "AttributeError",
     "evalue": "'RankingFactorizationRecommender' object has no attribute 'df'",
     "output_type": "error",
     "traceback": [
      "\u001b[0;31m---------------------------------------------------------------------------\u001b[0m",
      "\u001b[0;31mAttributeError\u001b[0m                            Traceback (most recent call last)",
      "\u001b[0;32m<ipython-input-69-b46a95361546>\u001b[0m in \u001b[0;36m<module>\u001b[0;34m()\u001b[0m\n\u001b[0;32m----> 1\u001b[0;31m \u001b[0mmodel\u001b[0m\u001b[0;34m.\u001b[0m\u001b[0mdf\u001b[0m\u001b[0;34m\u001b[0m\u001b[0m\n\u001b[0m",
      "\u001b[0;32m/Users/gSchool/anaconda2/lib/python2.7/site-packages/graphlab/toolkits/_model.pyc\u001b[0m in \u001b[0;36m__getattribute__\u001b[0;34m(self, attr)\u001b[0m\n\u001b[1;32m    633\u001b[0m             \u001b[0;32mreturn\u001b[0m \u001b[0mself\u001b[0m\u001b[0;34m.\u001b[0m\u001b[0mget\u001b[0m\u001b[0;34m(\u001b[0m\u001b[0mattr\u001b[0m\u001b[0;34m)\u001b[0m\u001b[0;34m\u001b[0m\u001b[0m\n\u001b[1;32m    634\u001b[0m         \u001b[0;32melse\u001b[0m\u001b[0;34m:\u001b[0m\u001b[0;34m\u001b[0m\u001b[0m\n\u001b[0;32m--> 635\u001b[0;31m             \u001b[0;32mreturn\u001b[0m \u001b[0mobject\u001b[0m\u001b[0;34m.\u001b[0m\u001b[0m__getattribute__\u001b[0m\u001b[0;34m(\u001b[0m\u001b[0mself\u001b[0m\u001b[0;34m,\u001b[0m \u001b[0mattr\u001b[0m\u001b[0;34m)\u001b[0m\u001b[0;34m\u001b[0m\u001b[0m\n\u001b[0m\u001b[1;32m    636\u001b[0m \u001b[0;34m\u001b[0m\u001b[0m\n\u001b[1;32m    637\u001b[0m \u001b[0;32mclass\u001b[0m \u001b[0mModel\u001b[0m\u001b[0;34m(\u001b[0m\u001b[0mCustomModel\u001b[0m\u001b[0;34m,\u001b[0m \u001b[0mProxyBasedModel\u001b[0m\u001b[0;34m)\u001b[0m\u001b[0;34m:\u001b[0m\u001b[0;34m\u001b[0m\u001b[0m\n",
      "\u001b[0;31mAttributeError\u001b[0m: 'RankingFactorizationRecommender' object has no attribute 'df'"
     ]
    }
   ],
   "source": []
  },
  {
   "cell_type": "code",
   "execution_count": 66,
   "metadata": {
    "collapsed": false
   },
   "outputs": [
    {
     "ename": "AttributeError",
     "evalue": "'RankingFactorizationRecommender' object has no attribute 'df'",
     "output_type": "error",
     "traceback": [
      "\u001b[0;31m---------------------------------------------------------------------------\u001b[0m",
      "\u001b[0;31mAttributeError\u001b[0m                            Traceback (most recent call last)",
      "\u001b[0;32m<ipython-input-66-33c8fbe39a40>\u001b[0m in \u001b[0;36m<module>\u001b[0;34m()\u001b[0m\n\u001b[0;32m----> 1\u001b[0;31m \u001b[0msf\u001b[0m \u001b[0;34m=\u001b[0m \u001b[0mgl\u001b[0m\u001b[0;34m.\u001b[0m\u001b[0mSFrame\u001b[0m\u001b[0;34m(\u001b[0m\u001b[0mmodel\u001b[0m\u001b[0;34m.\u001b[0m\u001b[0mdf\u001b[0m\u001b[0;34m)\u001b[0m\u001b[0;34m\u001b[0m\u001b[0m\n\u001b[0m",
      "\u001b[0;32m/Users/gSchool/anaconda2/lib/python2.7/site-packages/graphlab/toolkits/_model.pyc\u001b[0m in \u001b[0;36m__getattribute__\u001b[0;34m(self, attr)\u001b[0m\n\u001b[1;32m    633\u001b[0m             \u001b[0;32mreturn\u001b[0m \u001b[0mself\u001b[0m\u001b[0;34m.\u001b[0m\u001b[0mget\u001b[0m\u001b[0;34m(\u001b[0m\u001b[0mattr\u001b[0m\u001b[0;34m)\u001b[0m\u001b[0;34m\u001b[0m\u001b[0m\n\u001b[1;32m    634\u001b[0m         \u001b[0;32melse\u001b[0m\u001b[0;34m:\u001b[0m\u001b[0;34m\u001b[0m\u001b[0m\n\u001b[0;32m--> 635\u001b[0;31m             \u001b[0;32mreturn\u001b[0m \u001b[0mobject\u001b[0m\u001b[0;34m.\u001b[0m\u001b[0m__getattribute__\u001b[0m\u001b[0;34m(\u001b[0m\u001b[0mself\u001b[0m\u001b[0;34m,\u001b[0m \u001b[0mattr\u001b[0m\u001b[0;34m)\u001b[0m\u001b[0;34m\u001b[0m\u001b[0m\n\u001b[0m\u001b[1;32m    636\u001b[0m \u001b[0;34m\u001b[0m\u001b[0m\n\u001b[1;32m    637\u001b[0m \u001b[0;32mclass\u001b[0m \u001b[0mModel\u001b[0m\u001b[0;34m(\u001b[0m\u001b[0mCustomModel\u001b[0m\u001b[0;34m,\u001b[0m \u001b[0mProxyBasedModel\u001b[0m\u001b[0;34m)\u001b[0m\u001b[0;34m:\u001b[0m\u001b[0;34m\u001b[0m\u001b[0m\n",
      "\u001b[0;31mAttributeError\u001b[0m: 'RankingFactorizationRecommender' object has no attribute 'df'"
     ]
    }
   ],
   "source": [
    "sf = gl.SFrame(model.df)"
   ]
  },
  {
   "cell_type": "code",
   "execution_count": 64,
   "metadata": {
    "collapsed": false,
    "scrolled": true
   },
   "outputs": [
    {
     "data": {
      "text/html": [
       "<pre>Recsys training: model = ranking_factorization_recommender</pre>"
      ],
      "text/plain": [
       "Recsys training: model = ranking_factorization_recommender"
      ]
     },
     "metadata": {},
     "output_type": "display_data"
    },
    {
     "data": {
      "text/html": [
       "<pre>Preparing data set.</pre>"
      ],
      "text/plain": [
       "Preparing data set."
      ]
     },
     "metadata": {},
     "output_type": "display_data"
    },
    {
     "data": {
      "text/html": [
       "<pre>    Data has 11091 observations with 8882 users and 17 items.</pre>"
      ],
      "text/plain": [
       "    Data has 11091 observations with 8882 users and 17 items."
      ]
     },
     "metadata": {},
     "output_type": "display_data"
    },
    {
     "data": {
      "text/html": [
       "<pre>    Data prepared in: 0.034279s</pre>"
      ],
      "text/plain": [
       "    Data prepared in: 0.034279s"
      ]
     },
     "metadata": {},
     "output_type": "display_data"
    },
    {
     "data": {
      "text/html": [
       "<pre>Training ranking_factorization_recommender for recommendations.</pre>"
      ],
      "text/plain": [
       "Training ranking_factorization_recommender for recommendations."
      ]
     },
     "metadata": {},
     "output_type": "display_data"
    },
    {
     "data": {
      "text/html": [
       "<pre>+--------------------------------+--------------------------------------------------+----------+</pre>"
      ],
      "text/plain": [
       "+--------------------------------+--------------------------------------------------+----------+"
      ]
     },
     "metadata": {},
     "output_type": "display_data"
    },
    {
     "data": {
      "text/html": [
       "<pre>| Parameter                      | Description                                      | Value    |</pre>"
      ],
      "text/plain": [
       "| Parameter                      | Description                                      | Value    |"
      ]
     },
     "metadata": {},
     "output_type": "display_data"
    },
    {
     "data": {
      "text/html": [
       "<pre>+--------------------------------+--------------------------------------------------+----------+</pre>"
      ],
      "text/plain": [
       "+--------------------------------+--------------------------------------------------+----------+"
      ]
     },
     "metadata": {},
     "output_type": "display_data"
    },
    {
     "data": {
      "text/html": [
       "<pre>| num_factors                    | Factor Dimension                                 | 32       |</pre>"
      ],
      "text/plain": [
       "| num_factors                    | Factor Dimension                                 | 32       |"
      ]
     },
     "metadata": {},
     "output_type": "display_data"
    },
    {
     "data": {
      "text/html": [
       "<pre>| regularization                 | L2 Regularization on Factors                     | 1e-09    |</pre>"
      ],
      "text/plain": [
       "| regularization                 | L2 Regularization on Factors                     | 1e-09    |"
      ]
     },
     "metadata": {},
     "output_type": "display_data"
    },
    {
     "data": {
      "text/html": [
       "<pre>| solver                         | Solver used for training                         | sgd      |</pre>"
      ],
      "text/plain": [
       "| solver                         | Solver used for training                         | sgd      |"
      ]
     },
     "metadata": {},
     "output_type": "display_data"
    },
    {
     "data": {
      "text/html": [
       "<pre>| linear_regularization          | L2 Regularization on Linear Coefficients         | 1e-09    |</pre>"
      ],
      "text/plain": [
       "| linear_regularization          | L2 Regularization on Linear Coefficients         | 1e-09    |"
      ]
     },
     "metadata": {},
     "output_type": "display_data"
    },
    {
     "data": {
      "text/html": [
       "<pre>| ranking_regularization         | Rank-based Regularization Weight                 | 0.25     |</pre>"
      ],
      "text/plain": [
       "| ranking_regularization         | Rank-based Regularization Weight                 | 0.25     |"
      ]
     },
     "metadata": {},
     "output_type": "display_data"
    },
    {
     "data": {
      "text/html": [
       "<pre>| max_iterations                 | Maximum Number of Iterations                     | 25       |</pre>"
      ],
      "text/plain": [
       "| max_iterations                 | Maximum Number of Iterations                     | 25       |"
      ]
     },
     "metadata": {},
     "output_type": "display_data"
    },
    {
     "data": {
      "text/html": [
       "<pre>+--------------------------------+--------------------------------------------------+----------+</pre>"
      ],
      "text/plain": [
       "+--------------------------------+--------------------------------------------------+----------+"
      ]
     },
     "metadata": {},
     "output_type": "display_data"
    },
    {
     "data": {
      "text/html": [
       "<pre>  Optimizing model using SGD; tuning step size.</pre>"
      ],
      "text/plain": [
       "  Optimizing model using SGD; tuning step size."
      ]
     },
     "metadata": {},
     "output_type": "display_data"
    },
    {
     "data": {
      "text/html": [
       "<pre>  Using 10000 / 11091 points for tuning the step size.</pre>"
      ],
      "text/plain": [
       "  Using 10000 / 11091 points for tuning the step size."
      ]
     },
     "metadata": {},
     "output_type": "display_data"
    },
    {
     "data": {
      "text/html": [
       "<pre>+---------+-------------------+------------------------------------------+</pre>"
      ],
      "text/plain": [
       "+---------+-------------------+------------------------------------------+"
      ]
     },
     "metadata": {},
     "output_type": "display_data"
    },
    {
     "data": {
      "text/html": [
       "<pre>| Attempt | Initial Step Size | Estimated Objective Value                |</pre>"
      ],
      "text/plain": [
       "| Attempt | Initial Step Size | Estimated Objective Value                |"
      ]
     },
     "metadata": {},
     "output_type": "display_data"
    },
    {
     "data": {
      "text/html": [
       "<pre>+---------+-------------------+------------------------------------------+</pre>"
      ],
      "text/plain": [
       "+---------+-------------------+------------------------------------------+"
      ]
     },
     "metadata": {},
     "output_type": "display_data"
    },
    {
     "data": {
      "text/html": [
       "<pre>| 0       | 25                | Not Viable                               |</pre>"
      ],
      "text/plain": [
       "| 0       | 25                | Not Viable                               |"
      ]
     },
     "metadata": {},
     "output_type": "display_data"
    },
    {
     "data": {
      "text/html": [
       "<pre>| 1       | 6.25              | Not Viable                               |</pre>"
      ],
      "text/plain": [
       "| 1       | 6.25              | Not Viable                               |"
      ]
     },
     "metadata": {},
     "output_type": "display_data"
    },
    {
     "data": {
      "text/html": [
       "<pre>| 2       | 1.5625            | Not Viable                               |</pre>"
      ],
      "text/plain": [
       "| 2       | 1.5625            | Not Viable                               |"
      ]
     },
     "metadata": {},
     "output_type": "display_data"
    },
    {
     "data": {
      "text/html": [
       "<pre>| 3       | 0.390625          | Not Viable                               |</pre>"
      ],
      "text/plain": [
       "| 3       | 0.390625          | Not Viable                               |"
      ]
     },
     "metadata": {},
     "output_type": "display_data"
    },
    {
     "data": {
      "text/html": [
       "<pre>| 4       | 0.0976562         | 4.68439                                  |</pre>"
      ],
      "text/plain": [
       "| 4       | 0.0976562         | 4.68439                                  |"
      ]
     },
     "metadata": {},
     "output_type": "display_data"
    },
    {
     "data": {
      "text/html": [
       "<pre>| 5       | 0.0488281         | 4.19378                                  |</pre>"
      ],
      "text/plain": [
       "| 5       | 0.0488281         | 4.19378                                  |"
      ]
     },
     "metadata": {},
     "output_type": "display_data"
    },
    {
     "data": {
      "text/html": [
       "<pre>| 6       | 0.0244141         | 5.5593                                   |</pre>"
      ],
      "text/plain": [
       "| 6       | 0.0244141         | 5.5593                                   |"
      ]
     },
     "metadata": {},
     "output_type": "display_data"
    },
    {
     "data": {
      "text/html": [
       "<pre>| 7       | 0.012207          | 5.71911                                  |</pre>"
      ],
      "text/plain": [
       "| 7       | 0.012207          | 5.71911                                  |"
      ]
     },
     "metadata": {},
     "output_type": "display_data"
    },
    {
     "data": {
      "text/html": [
       "<pre>| 8       | 0.00610352        | 5.70219                                  |</pre>"
      ],
      "text/plain": [
       "| 8       | 0.00610352        | 5.70219                                  |"
      ]
     },
     "metadata": {},
     "output_type": "display_data"
    },
    {
     "data": {
      "text/html": [
       "<pre>+---------+-------------------+------------------------------------------+</pre>"
      ],
      "text/plain": [
       "+---------+-------------------+------------------------------------------+"
      ]
     },
     "metadata": {},
     "output_type": "display_data"
    },
    {
     "data": {
      "text/html": [
       "<pre>| Final   | 0.0488281         | 4.19378                                  |</pre>"
      ],
      "text/plain": [
       "| Final   | 0.0488281         | 4.19378                                  |"
      ]
     },
     "metadata": {},
     "output_type": "display_data"
    },
    {
     "data": {
      "text/html": [
       "<pre>+---------+-------------------+------------------------------------------+</pre>"
      ],
      "text/plain": [
       "+---------+-------------------+------------------------------------------+"
      ]
     },
     "metadata": {},
     "output_type": "display_data"
    },
    {
     "data": {
      "text/html": [
       "<pre>Starting Optimization.</pre>"
      ],
      "text/plain": [
       "Starting Optimization."
      ]
     },
     "metadata": {},
     "output_type": "display_data"
    },
    {
     "data": {
      "text/html": [
       "<pre>+---------+--------------+-------------------+-----------------------+-------------+</pre>"
      ],
      "text/plain": [
       "+---------+--------------+-------------------+-----------------------+-------------+"
      ]
     },
     "metadata": {},
     "output_type": "display_data"
    },
    {
     "data": {
      "text/html": [
       "<pre>| Iter.   | Elapsed Time | Approx. Objective | Approx. Training RMSE | Step Size   |</pre>"
      ],
      "text/plain": [
       "| Iter.   | Elapsed Time | Approx. Objective | Approx. Training RMSE | Step Size   |"
      ]
     },
     "metadata": {},
     "output_type": "display_data"
    },
    {
     "data": {
      "text/html": [
       "<pre>+---------+--------------+-------------------+-----------------------+-------------+</pre>"
      ],
      "text/plain": [
       "+---------+--------------+-------------------+-----------------------+-------------+"
      ]
     },
     "metadata": {},
     "output_type": "display_data"
    },
    {
     "data": {
      "text/html": [
       "<pre>| Initial | 114us        | 6.85317           | 1.86961               |             |</pre>"
      ],
      "text/plain": [
       "| Initial | 114us        | 6.85317           | 1.86961               |             |"
      ]
     },
     "metadata": {},
     "output_type": "display_data"
    },
    {
     "data": {
      "text/html": [
       "<pre>+---------+--------------+-------------------+-----------------------+-------------+</pre>"
      ],
      "text/plain": [
       "+---------+--------------+-------------------+-----------------------+-------------+"
      ]
     },
     "metadata": {},
     "output_type": "display_data"
    },
    {
     "data": {
      "text/html": [
       "<pre>| 1       | 30.095ms     | 4.40378           | 1.87655               | 0.0488281   |</pre>"
      ],
      "text/plain": [
       "| 1       | 30.095ms     | 4.40378           | 1.87655               | 0.0488281   |"
      ]
     },
     "metadata": {},
     "output_type": "display_data"
    },
    {
     "data": {
      "text/html": [
       "<pre>| 2       | 79.073ms     | 3.69959           | 1.674                 | 0.0290334   |</pre>"
      ],
      "text/plain": [
       "| 2       | 79.073ms     | 3.69959           | 1.674                 | 0.0290334   |"
      ]
     },
     "metadata": {},
     "output_type": "display_data"
    },
    {
     "data": {
      "text/html": [
       "<pre>| 3       | 163.639ms    | 3.23437           | 1.50576               | 0.0214205   |</pre>"
      ],
      "text/plain": [
       "| 3       | 163.639ms    | 3.23437           | 1.50576               | 0.0214205   |"
      ]
     },
     "metadata": {},
     "output_type": "display_data"
    },
    {
     "data": {
      "text/html": [
       "<pre>| 4       | 218.626ms    | 2.82593           | 1.32434               | 0.0172633   |</pre>"
      ],
      "text/plain": [
       "| 4       | 218.626ms    | 2.82593           | 1.32434               | 0.0172633   |"
      ]
     },
     "metadata": {},
     "output_type": "display_data"
    },
    {
     "data": {
      "text/html": [
       "<pre>| 5       | 273.508ms    | 2.33252           | 1.11168               | 0.014603    |</pre>"
      ],
      "text/plain": [
       "| 5       | 273.508ms    | 2.33252           | 1.11168               | 0.014603    |"
      ]
     },
     "metadata": {},
     "output_type": "display_data"
    },
    {
     "data": {
      "text/html": [
       "<pre>| 6       | 339.319ms    | 1.72066           | 0.885964              | 0.0127367   |</pre>"
      ],
      "text/plain": [
       "| 6       | 339.319ms    | 1.72066           | 0.885964              | 0.0127367   |"
      ]
     },
     "metadata": {},
     "output_type": "display_data"
    },
    {
     "data": {
      "text/html": [
       "<pre>| 11      | 632.895ms    | 0.668237          | 0.525713              | 0.00808399  |</pre>"
      ],
      "text/plain": [
       "| 11      | 632.895ms    | 0.668237          | 0.525713              | 0.00808399  |"
      ]
     },
     "metadata": {},
     "output_type": "display_data"
    },
    {
     "data": {
      "text/html": [
       "<pre>| 25      | 1.05s        | 0.0626311         | 0.128923              | 0.00436732  |</pre>"
      ],
      "text/plain": [
       "| 25      | 1.05s        | 0.0626311         | 0.128923              | 0.00436732  |"
      ]
     },
     "metadata": {},
     "output_type": "display_data"
    },
    {
     "data": {
      "text/html": [
       "<pre>+---------+--------------+-------------------+-----------------------+-------------+</pre>"
      ],
      "text/plain": [
       "+---------+--------------+-------------------+-----------------------+-------------+"
      ]
     },
     "metadata": {},
     "output_type": "display_data"
    },
    {
     "data": {
      "text/html": [
       "<pre>Optimization Complete: Maximum number of passes through the data reached.</pre>"
      ],
      "text/plain": [
       "Optimization Complete: Maximum number of passes through the data reached."
      ]
     },
     "metadata": {},
     "output_type": "display_data"
    },
    {
     "data": {
      "text/html": [
       "<pre>Computing final objective value and training RMSE.</pre>"
      ],
      "text/plain": [
       "Computing final objective value and training RMSE."
      ]
     },
     "metadata": {},
     "output_type": "display_data"
    },
    {
     "data": {
      "text/html": [
       "<pre>       Final objective value: 0.0598014</pre>"
      ],
      "text/plain": [
       "       Final objective value: 0.0598014"
      ]
     },
     "metadata": {},
     "output_type": "display_data"
    },
    {
     "data": {
      "text/html": [
       "<pre>       Final training RMSE: 0.132512</pre>"
      ],
      "text/plain": [
       "       Final training RMSE: 0.132512"
      ]
     },
     "metadata": {},
     "output_type": "display_data"
    }
   ],
   "source": [
    "model_1 = gl.toolkits.recommender.create(sf, user_id = 'userId', item_id='productId', target='rating')"
   ]
  },
  {
   "cell_type": "code",
   "execution_count": 65,
   "metadata": {
    "collapsed": false,
    "scrolled": true
   },
   "outputs": [
    {
     "data": {
      "text/html": [
       "<pre>Recsys training: model = ranking_factorization_recommender</pre>"
      ],
      "text/plain": [
       "Recsys training: model = ranking_factorization_recommender"
      ]
     },
     "metadata": {},
     "output_type": "display_data"
    },
    {
     "name": "stderr",
     "output_type": "stream",
     "text": [
      "[ERROR] graphlab.toolkits._main: Toolkit error: Column name brandId does not exist.\n"
     ]
    },
    {
     "ename": "ToolkitError",
     "evalue": "Column name brandId does not exist.",
     "output_type": "error",
     "traceback": [
      "\u001b[0;31m---------------------------------------------------------------------------\u001b[0m",
      "\u001b[0;31mToolkitError\u001b[0m                              Traceback (most recent call last)",
      "\u001b[0;32m<ipython-input-65-88381fc962b9>\u001b[0m in \u001b[0;36m<module>\u001b[0;34m()\u001b[0m\n\u001b[0;32m----> 1\u001b[0;31m \u001b[0mmodel_2\u001b[0m \u001b[0;34m=\u001b[0m \u001b[0mgl\u001b[0m\u001b[0;34m.\u001b[0m\u001b[0mtoolkits\u001b[0m\u001b[0;34m.\u001b[0m\u001b[0mrecommender\u001b[0m\u001b[0;34m.\u001b[0m\u001b[0mcreate\u001b[0m\u001b[0;34m(\u001b[0m\u001b[0msf\u001b[0m\u001b[0;34m,\u001b[0m \u001b[0muser_id\u001b[0m \u001b[0;34m=\u001b[0m \u001b[0;34m'userId'\u001b[0m\u001b[0;34m,\u001b[0m \u001b[0mitem_id\u001b[0m\u001b[0;34m=\u001b[0m\u001b[0;34m'brandId'\u001b[0m\u001b[0;34m,\u001b[0m \u001b[0mtarget\u001b[0m\u001b[0;34m=\u001b[0m\u001b[0;34m'rating'\u001b[0m\u001b[0;34m)\u001b[0m\u001b[0;34m\u001b[0m\u001b[0m\n\u001b[0m",
      "\u001b[0;32m/Users/gSchool/anaconda2/lib/python2.7/site-packages/graphlab/toolkits/recommender/util.pyc\u001b[0m in \u001b[0;36m_create\u001b[0;34m(observation_data, user_id, item_id, target, user_data, item_data, ranking, verbose)\u001b[0m\n\u001b[1;32m    175\u001b[0m         \u001b[0;32mreturn\u001b[0m \u001b[0m_graphlab\u001b[0m\u001b[0;34m.\u001b[0m\u001b[0mrecommender\u001b[0m\u001b[0;34m.\u001b[0m\u001b[0mfactorization_recommender\u001b[0m\u001b[0;34m.\u001b[0m\u001b[0mcreate\u001b[0m\u001b[0;34m(\u001b[0m\u001b[0;34m**\u001b[0m\u001b[0mopts\u001b[0m\u001b[0;34m)\u001b[0m\u001b[0;34m\u001b[0m\u001b[0m\n\u001b[1;32m    176\u001b[0m     \u001b[0;32melif\u001b[0m \u001b[0mmethod\u001b[0m \u001b[0;34m==\u001b[0m \u001b[0;34m\"ranking_factorization_recommender\"\u001b[0m\u001b[0;34m:\u001b[0m\u001b[0;34m\u001b[0m\u001b[0m\n\u001b[0;32m--> 177\u001b[0;31m         \u001b[0;32mreturn\u001b[0m \u001b[0m_graphlab\u001b[0m\u001b[0;34m.\u001b[0m\u001b[0mrecommender\u001b[0m\u001b[0;34m.\u001b[0m\u001b[0mranking_factorization_recommender\u001b[0m\u001b[0;34m.\u001b[0m\u001b[0mcreate\u001b[0m\u001b[0;34m(\u001b[0m\u001b[0;34m**\u001b[0m\u001b[0mopts\u001b[0m\u001b[0;34m)\u001b[0m\u001b[0;34m\u001b[0m\u001b[0m\n\u001b[0m\u001b[1;32m    178\u001b[0m     \u001b[0;32melse\u001b[0m\u001b[0;34m:\u001b[0m\u001b[0;34m\u001b[0m\u001b[0m\n\u001b[1;32m    179\u001b[0m         \u001b[0;32mraise\u001b[0m \u001b[0mRuntimeError\u001b[0m\u001b[0;34m(\u001b[0m\u001b[0;34m\"Provided method not recognized.\"\u001b[0m\u001b[0;34m)\u001b[0m\u001b[0;34m\u001b[0m\u001b[0m\n",
      "\u001b[0;32m/Users/gSchool/anaconda2/lib/python2.7/site-packages/graphlab/toolkits/recommender/ranking_factorization_recommender.pyc\u001b[0m in \u001b[0;36mcreate\u001b[0;34m(observation_data, user_id, item_id, target, user_data, item_data, num_factors, regularization, linear_regularization, side_data_factorization, ranking_regularization, unobserved_rating_value, num_sampled_negative_examples, max_iterations, sgd_step_size, random_seed, binary_target, solver, verbose, **kwargs)\u001b[0m\n\u001b[1;32m    267\u001b[0m         \u001b[0mopts\u001b[0m\u001b[0;34m.\u001b[0m\u001b[0mupdate\u001b[0m\u001b[0;34m(\u001b[0m\u001b[0mkwargs\u001b[0m\u001b[0;34m)\u001b[0m\u001b[0;34m\u001b[0m\u001b[0m\n\u001b[1;32m    268\u001b[0m \u001b[0;34m\u001b[0m\u001b[0m\n\u001b[0;32m--> 269\u001b[0;31m     \u001b[0mresponse\u001b[0m \u001b[0;34m=\u001b[0m \u001b[0m_graphlab\u001b[0m\u001b[0;34m.\u001b[0m\u001b[0mtoolkits\u001b[0m\u001b[0;34m.\u001b[0m\u001b[0m_main\u001b[0m\u001b[0;34m.\u001b[0m\u001b[0mrun\u001b[0m\u001b[0;34m(\u001b[0m\u001b[0;34m'recsys_train'\u001b[0m\u001b[0;34m,\u001b[0m \u001b[0mopts\u001b[0m\u001b[0;34m,\u001b[0m \u001b[0mverbose\u001b[0m\u001b[0;34m)\u001b[0m\u001b[0;34m\u001b[0m\u001b[0m\n\u001b[0m\u001b[1;32m    270\u001b[0m \u001b[0;34m\u001b[0m\u001b[0m\n\u001b[1;32m    271\u001b[0m     \u001b[0;32mreturn\u001b[0m \u001b[0mRankingFactorizationRecommender\u001b[0m\u001b[0;34m(\u001b[0m\u001b[0mresponse\u001b[0m\u001b[0;34m[\u001b[0m\u001b[0;34m'model'\u001b[0m\u001b[0;34m]\u001b[0m\u001b[0;34m)\u001b[0m\u001b[0;34m\u001b[0m\u001b[0m\n",
      "\u001b[0;32m/Users/gSchool/anaconda2/lib/python2.7/site-packages/graphlab/toolkits/_main.pyc\u001b[0m in \u001b[0;36mrun\u001b[0;34m(toolkit_name, options, verbose, show_progress)\u001b[0m\n\u001b[1;32m     87\u001b[0m         \u001b[0m_get_metric_tracker\u001b[0m\u001b[0;34m(\u001b[0m\u001b[0;34m)\u001b[0m\u001b[0;34m.\u001b[0m\u001b[0mtrack\u001b[0m\u001b[0;34m(\u001b[0m\u001b[0mmetric_name\u001b[0m\u001b[0;34m,\u001b[0m \u001b[0mvalue\u001b[0m\u001b[0;34m=\u001b[0m\u001b[0;36m1\u001b[0m\u001b[0;34m,\u001b[0m \u001b[0mproperties\u001b[0m\u001b[0;34m=\u001b[0m\u001b[0mtrack_props\u001b[0m\u001b[0;34m,\u001b[0m \u001b[0msend_sys_info\u001b[0m\u001b[0;34m=\u001b[0m\u001b[0mFalse\u001b[0m\u001b[0;34m)\u001b[0m\u001b[0;34m\u001b[0m\u001b[0m\n\u001b[1;32m     88\u001b[0m \u001b[0;34m\u001b[0m\u001b[0m\n\u001b[0;32m---> 89\u001b[0;31m         \u001b[0;32mraise\u001b[0m \u001b[0mToolkitError\u001b[0m\u001b[0;34m(\u001b[0m\u001b[0mstr\u001b[0m\u001b[0;34m(\u001b[0m\u001b[0mmessage\u001b[0m\u001b[0;34m)\u001b[0m\u001b[0;34m)\u001b[0m\u001b[0;34m\u001b[0m\u001b[0m\n\u001b[0m",
      "\u001b[0;31mToolkitError\u001b[0m: Column name brandId does not exist."
     ]
    }
   ],
   "source": [
    "model_2 = gl.toolkits.recommender.create(sf, user_id = 'userId', item_id='brandId', target='rating')"
   ]
  },
  {
   "cell_type": "code",
   "execution_count": 77,
   "metadata": {
    "collapsed": false
   },
   "outputs": [],
   "source": [
    "run bodycleaning.py"
   ]
  },
  {
   "cell_type": "code",
   "execution_count": 92,
   "metadata": {
    "collapsed": false
   },
   "outputs": [],
   "source": [
    "sf_1 = gl.SFrame(data.df[['userId', 'brandId', 'rating']])"
   ]
  },
  {
   "cell_type": "code",
   "execution_count": 94,
   "metadata": {
    "collapsed": false,
    "scrolled": false
   },
   "outputs": [
    {
     "data": {
      "text/html": [
       "<pre>Recsys training: model = ranking_factorization_recommender</pre>"
      ],
      "text/plain": [
       "Recsys training: model = ranking_factorization_recommender"
      ]
     },
     "metadata": {},
     "output_type": "display_data"
    },
    {
     "data": {
      "text/html": [
       "<pre>Preparing data set.</pre>"
      ],
      "text/plain": [
       "Preparing data set."
      ]
     },
     "metadata": {},
     "output_type": "display_data"
    },
    {
     "data": {
      "text/html": [
       "<pre>    Data has 67611 observations with 41069 users and 392 items.</pre>"
      ],
      "text/plain": [
       "    Data has 67611 observations with 41069 users and 392 items."
      ]
     },
     "metadata": {},
     "output_type": "display_data"
    },
    {
     "data": {
      "text/html": [
       "<pre>    Data prepared in: 0.314815s</pre>"
      ],
      "text/plain": [
       "    Data prepared in: 0.314815s"
      ]
     },
     "metadata": {},
     "output_type": "display_data"
    },
    {
     "data": {
      "text/html": [
       "<pre>Training ranking_factorization_recommender for recommendations.</pre>"
      ],
      "text/plain": [
       "Training ranking_factorization_recommender for recommendations."
      ]
     },
     "metadata": {},
     "output_type": "display_data"
    },
    {
     "data": {
      "text/html": [
       "<pre>+--------------------------------+--------------------------------------------------+----------+</pre>"
      ],
      "text/plain": [
       "+--------------------------------+--------------------------------------------------+----------+"
      ]
     },
     "metadata": {},
     "output_type": "display_data"
    },
    {
     "data": {
      "text/html": [
       "<pre>| Parameter                      | Description                                      | Value    |</pre>"
      ],
      "text/plain": [
       "| Parameter                      | Description                                      | Value    |"
      ]
     },
     "metadata": {},
     "output_type": "display_data"
    },
    {
     "data": {
      "text/html": [
       "<pre>+--------------------------------+--------------------------------------------------+----------+</pre>"
      ],
      "text/plain": [
       "+--------------------------------+--------------------------------------------------+----------+"
      ]
     },
     "metadata": {},
     "output_type": "display_data"
    },
    {
     "data": {
      "text/html": [
       "<pre>| num_factors                    | Factor Dimension                                 | 32       |</pre>"
      ],
      "text/plain": [
       "| num_factors                    | Factor Dimension                                 | 32       |"
      ]
     },
     "metadata": {},
     "output_type": "display_data"
    },
    {
     "data": {
      "text/html": [
       "<pre>| regularization                 | L2 Regularization on Factors                     | 1e-09    |</pre>"
      ],
      "text/plain": [
       "| regularization                 | L2 Regularization on Factors                     | 1e-09    |"
      ]
     },
     "metadata": {},
     "output_type": "display_data"
    },
    {
     "data": {
      "text/html": [
       "<pre>| solver                         | Solver used for training                         | sgd      |</pre>"
      ],
      "text/plain": [
       "| solver                         | Solver used for training                         | sgd      |"
      ]
     },
     "metadata": {},
     "output_type": "display_data"
    },
    {
     "data": {
      "text/html": [
       "<pre>| linear_regularization          | L2 Regularization on Linear Coefficients         | 1e-09    |</pre>"
      ],
      "text/plain": [
       "| linear_regularization          | L2 Regularization on Linear Coefficients         | 1e-09    |"
      ]
     },
     "metadata": {},
     "output_type": "display_data"
    },
    {
     "data": {
      "text/html": [
       "<pre>| ranking_regularization         | Rank-based Regularization Weight                 | 0.25     |</pre>"
      ],
      "text/plain": [
       "| ranking_regularization         | Rank-based Regularization Weight                 | 0.25     |"
      ]
     },
     "metadata": {},
     "output_type": "display_data"
    },
    {
     "data": {
      "text/html": [
       "<pre>| max_iterations                 | Maximum Number of Iterations                     | 25       |</pre>"
      ],
      "text/plain": [
       "| max_iterations                 | Maximum Number of Iterations                     | 25       |"
      ]
     },
     "metadata": {},
     "output_type": "display_data"
    },
    {
     "data": {
      "text/html": [
       "<pre>+--------------------------------+--------------------------------------------------+----------+</pre>"
      ],
      "text/plain": [
       "+--------------------------------+--------------------------------------------------+----------+"
      ]
     },
     "metadata": {},
     "output_type": "display_data"
    },
    {
     "data": {
      "text/html": [
       "<pre>  Optimizing model using SGD; tuning step size.</pre>"
      ],
      "text/plain": [
       "  Optimizing model using SGD; tuning step size."
      ]
     },
     "metadata": {},
     "output_type": "display_data"
    },
    {
     "data": {
      "text/html": [
       "<pre>  Using 10000 / 67611 points for tuning the step size.</pre>"
      ],
      "text/plain": [
       "  Using 10000 / 67611 points for tuning the step size."
      ]
     },
     "metadata": {},
     "output_type": "display_data"
    },
    {
     "data": {
      "text/html": [
       "<pre>+---------+-------------------+------------------------------------------+</pre>"
      ],
      "text/plain": [
       "+---------+-------------------+------------------------------------------+"
      ]
     },
     "metadata": {},
     "output_type": "display_data"
    },
    {
     "data": {
      "text/html": [
       "<pre>| Attempt | Initial Step Size | Estimated Objective Value                |</pre>"
      ],
      "text/plain": [
       "| Attempt | Initial Step Size | Estimated Objective Value                |"
      ]
     },
     "metadata": {},
     "output_type": "display_data"
    },
    {
     "data": {
      "text/html": [
       "<pre>+---------+-------------------+------------------------------------------+</pre>"
      ],
      "text/plain": [
       "+---------+-------------------+------------------------------------------+"
      ]
     },
     "metadata": {},
     "output_type": "display_data"
    },
    {
     "data": {
      "text/html": [
       "<pre>| 0       | 25                | Not Viable                               |</pre>"
      ],
      "text/plain": [
       "| 0       | 25                | Not Viable                               |"
      ]
     },
     "metadata": {},
     "output_type": "display_data"
    },
    {
     "data": {
      "text/html": [
       "<pre>| 1       | 6.25              | Not Viable                               |</pre>"
      ],
      "text/plain": [
       "| 1       | 6.25              | Not Viable                               |"
      ]
     },
     "metadata": {},
     "output_type": "display_data"
    },
    {
     "data": {
      "text/html": [
       "<pre>| 2       | 1.5625            | Not Viable                               |</pre>"
      ],
      "text/plain": [
       "| 2       | 1.5625            | Not Viable                               |"
      ]
     },
     "metadata": {},
     "output_type": "display_data"
    },
    {
     "data": {
      "text/html": [
       "<pre>| 3       | 0.390625          | Not Viable                               |</pre>"
      ],
      "text/plain": [
       "| 3       | 0.390625          | Not Viable                               |"
      ]
     },
     "metadata": {},
     "output_type": "display_data"
    },
    {
     "data": {
      "text/html": [
       "<pre>| 4       | 0.0976562         | 3.90255                                  |</pre>"
      ],
      "text/plain": [
       "| 4       | 0.0976562         | 3.90255                                  |"
      ]
     },
     "metadata": {},
     "output_type": "display_data"
    },
    {
     "data": {
      "text/html": [
       "<pre>| 5       | 0.0488281         | 5.41912                                  |</pre>"
      ],
      "text/plain": [
       "| 5       | 0.0488281         | 5.41912                                  |"
      ]
     },
     "metadata": {},
     "output_type": "display_data"
    },
    {
     "data": {
      "text/html": [
       "<pre>| 6       | 0.0244141         | 6.32864                                  |</pre>"
      ],
      "text/plain": [
       "| 6       | 0.0244141         | 6.32864                                  |"
      ]
     },
     "metadata": {},
     "output_type": "display_data"
    },
    {
     "data": {
      "text/html": [
       "<pre>| 7       | 0.012207          | 7.05844                                  |</pre>"
      ],
      "text/plain": [
       "| 7       | 0.012207          | 7.05844                                  |"
      ]
     },
     "metadata": {},
     "output_type": "display_data"
    },
    {
     "data": {
      "text/html": [
       "<pre>+---------+-------------------+------------------------------------------+</pre>"
      ],
      "text/plain": [
       "+---------+-------------------+------------------------------------------+"
      ]
     },
     "metadata": {},
     "output_type": "display_data"
    },
    {
     "data": {
      "text/html": [
       "<pre>| Final   | 0.0976562         | 3.90255                                  |</pre>"
      ],
      "text/plain": [
       "| Final   | 0.0976562         | 3.90255                                  |"
      ]
     },
     "metadata": {},
     "output_type": "display_data"
    },
    {
     "data": {
      "text/html": [
       "<pre>+---------+-------------------+------------------------------------------+</pre>"
      ],
      "text/plain": [
       "+---------+-------------------+------------------------------------------+"
      ]
     },
     "metadata": {},
     "output_type": "display_data"
    },
    {
     "data": {
      "text/html": [
       "<pre>Starting Optimization.</pre>"
      ],
      "text/plain": [
       "Starting Optimization."
      ]
     },
     "metadata": {},
     "output_type": "display_data"
    },
    {
     "data": {
      "text/html": [
       "<pre>+---------+--------------+-------------------+-----------------------+-------------+</pre>"
      ],
      "text/plain": [
       "+---------+--------------+-------------------+-----------------------+-------------+"
      ]
     },
     "metadata": {},
     "output_type": "display_data"
    },
    {
     "data": {
      "text/html": [
       "<pre>| Iter.   | Elapsed Time | Approx. Objective | Approx. Training RMSE | Step Size   |</pre>"
      ],
      "text/plain": [
       "| Iter.   | Elapsed Time | Approx. Objective | Approx. Training RMSE | Step Size   |"
      ]
     },
     "metadata": {},
     "output_type": "display_data"
    },
    {
     "data": {
      "text/html": [
       "<pre>+---------+--------------+-------------------+-----------------------+-------------+</pre>"
      ],
      "text/plain": [
       "+---------+--------------+-------------------+-----------------------+-------------+"
      ]
     },
     "metadata": {},
     "output_type": "display_data"
    },
    {
     "data": {
      "text/html": [
       "<pre>| Initial | 126us        | 9.20352           | 2.16664               |             |</pre>"
      ],
      "text/plain": [
       "| Initial | 126us        | 9.20352           | 2.16664               |             |"
      ]
     },
     "metadata": {},
     "output_type": "display_data"
    },
    {
     "data": {
      "text/html": [
       "<pre>+---------+--------------+-------------------+-----------------------+-------------+</pre>"
      ],
      "text/plain": [
       "+---------+--------------+-------------------+-----------------------+-------------+"
      ]
     },
     "metadata": {},
     "output_type": "display_data"
    },
    {
     "data": {
      "text/html": [
       "<pre>| 1       | 104.401ms    | 10.3317           | 2.91485               | 0.0976562   |</pre>"
      ],
      "text/plain": [
       "| 1       | 104.401ms    | 10.3317           | 2.91485               | 0.0976562   |"
      ]
     },
     "metadata": {},
     "output_type": "display_data"
    },
    {
     "data": {
      "text/html": [
       "<pre>| 2       | 274.492ms    | DIVERGED          | DIVERGED              | 0.0580668   |</pre>"
      ],
      "text/plain": [
       "| 2       | 274.492ms    | DIVERGED          | DIVERGED              | 0.0580668   |"
      ]
     },
     "metadata": {},
     "output_type": "display_data"
    },
    {
     "data": {
      "text/html": [
       "<pre>| RESET   | 361.696ms    | 9.20355           | 2.16665               |             |</pre>"
      ],
      "text/plain": [
       "| RESET   | 361.696ms    | 9.20355           | 2.16665               |             |"
      ]
     },
     "metadata": {},
     "output_type": "display_data"
    },
    {
     "data": {
      "text/html": [
       "<pre>| 1       | 476.569ms    | 7.1644            | 2.25872               | 0.0290334   |</pre>"
      ],
      "text/plain": [
       "| 1       | 476.569ms    | 7.1644            | 2.25872               | 0.0290334   |"
      ]
     },
     "metadata": {},
     "output_type": "display_data"
    },
    {
     "data": {
      "text/html": [
       "<pre>| 2       | 582.429ms    | 6.45383           | 2.1985                | 0.0172633   |</pre>"
      ],
      "text/plain": [
       "| 2       | 582.429ms    | 6.45383           | 2.1985                | 0.0172633   |"
      ]
     },
     "metadata": {},
     "output_type": "display_data"
    },
    {
     "data": {
      "text/html": [
       "<pre>| 3       | 676.699ms    | 6.20107           | 2.14344               | 0.0127367   |</pre>"
      ],
      "text/plain": [
       "| 3       | 676.699ms    | 6.20107           | 2.14344               | 0.0127367   |"
      ]
     },
     "metadata": {},
     "output_type": "display_data"
    },
    {
     "data": {
      "text/html": [
       "<pre>| 4       | 784.509ms    | 5.80887           | 2.04322               | 0.0102648   |</pre>"
      ],
      "text/plain": [
       "| 4       | 784.509ms    | 5.80887           | 2.04322               | 0.0102648   |"
      ]
     },
     "metadata": {},
     "output_type": "display_data"
    },
    {
     "data": {
      "text/html": [
       "<pre>| 5       | 880.274ms    | 5.32976           | 1.92484               | 0.008683    |</pre>"
      ],
      "text/plain": [
       "| 5       | 880.274ms    | 5.32976           | 1.92484               | 0.008683    |"
      ]
     },
     "metadata": {},
     "output_type": "display_data"
    },
    {
     "data": {
      "text/html": [
       "<pre>| 8       | 1.16s        | 4.0567            | 1.57382               | 0.00610352  |</pre>"
      ],
      "text/plain": [
       "| 8       | 1.16s        | 4.0567            | 1.57382               | 0.00610352  |"
      ]
     },
     "metadata": {},
     "output_type": "display_data"
    },
    {
     "data": {
      "text/html": [
       "<pre>| 10      | 1.34s        | 3.63584           | 1.45438               | 0.00516295  |</pre>"
      ],
      "text/plain": [
       "| 10      | 1.34s        | 3.63584           | 1.45438               | 0.00516295  |"
      ]
     },
     "metadata": {},
     "output_type": "display_data"
    },
    {
     "data": {
      "text/html": [
       "<pre>| 18      | 2.13s        | 2.45612           | 1.14067               | 0.00332233  |</pre>"
      ],
      "text/plain": [
       "| 18      | 2.13s        | 2.45612           | 1.14067               | 0.00332233  |"
      ]
     },
     "metadata": {},
     "output_type": "display_data"
    },
    {
     "data": {
      "text/html": [
       "<pre>+---------+--------------+-------------------+-----------------------+-------------+</pre>"
      ],
      "text/plain": [
       "+---------+--------------+-------------------+-----------------------+-------------+"
      ]
     },
     "metadata": {},
     "output_type": "display_data"
    },
    {
     "data": {
      "text/html": [
       "<pre>Optimization Complete: Maximum number of passes through the data reached.</pre>"
      ],
      "text/plain": [
       "Optimization Complete: Maximum number of passes through the data reached."
      ]
     },
     "metadata": {},
     "output_type": "display_data"
    },
    {
     "data": {
      "text/html": [
       "<pre>Computing final objective value and training RMSE.</pre>"
      ],
      "text/plain": [
       "Computing final objective value and training RMSE."
      ]
     },
     "metadata": {},
     "output_type": "display_data"
    },
    {
     "data": {
      "text/html": [
       "<pre>       Final objective value: 1.78124</pre>"
      ],
      "text/plain": [
       "       Final objective value: 1.78124"
      ]
     },
     "metadata": {},
     "output_type": "display_data"
    },
    {
     "data": {
      "text/html": [
       "<pre>       Final training RMSE: 0.940268</pre>"
      ],
      "text/plain": [
       "       Final training RMSE: 0.940268"
      ]
     },
     "metadata": {},
     "output_type": "display_data"
    }
   ],
   "source": [
    "model_1_brand = gl.toolkits.recommender.create(sf_1, user_id = 'userId', item_id='brandId', target='rating')"
   ]
  },
  {
   "cell_type": "code",
   "execution_count": 218,
   "metadata": {
    "collapsed": false
   },
   "outputs": [
    {
     "data": {
      "text/html": [
       "<pre>Recsys training: model = ranking_factorization_recommender</pre>"
      ],
      "text/plain": [
       "Recsys training: model = ranking_factorization_recommender"
      ]
     },
     "metadata": {},
     "output_type": "display_data"
    },
    {
     "data": {
      "text/html": [
       "<pre>Preparing data set.</pre>"
      ],
      "text/plain": [
       "Preparing data set."
      ]
     },
     "metadata": {},
     "output_type": "display_data"
    },
    {
     "data": {
      "text/html": [
       "<pre>    Data has 67611 observations with 41069 users and 2496 items.</pre>"
      ],
      "text/plain": [
       "    Data has 67611 observations with 41069 users and 2496 items."
      ]
     },
     "metadata": {},
     "output_type": "display_data"
    },
    {
     "data": {
      "text/html": [
       "<pre>    Data prepared in: 0.263756s</pre>"
      ],
      "text/plain": [
       "    Data prepared in: 0.263756s"
      ]
     },
     "metadata": {},
     "output_type": "display_data"
    },
    {
     "data": {
      "text/html": [
       "<pre>Training ranking_factorization_recommender for recommendations.</pre>"
      ],
      "text/plain": [
       "Training ranking_factorization_recommender for recommendations."
      ]
     },
     "metadata": {},
     "output_type": "display_data"
    },
    {
     "data": {
      "text/html": [
       "<pre>+--------------------------------+--------------------------------------------------+----------+</pre>"
      ],
      "text/plain": [
       "+--------------------------------+--------------------------------------------------+----------+"
      ]
     },
     "metadata": {},
     "output_type": "display_data"
    },
    {
     "data": {
      "text/html": [
       "<pre>| Parameter                      | Description                                      | Value    |</pre>"
      ],
      "text/plain": [
       "| Parameter                      | Description                                      | Value    |"
      ]
     },
     "metadata": {},
     "output_type": "display_data"
    },
    {
     "data": {
      "text/html": [
       "<pre>+--------------------------------+--------------------------------------------------+----------+</pre>"
      ],
      "text/plain": [
       "+--------------------------------+--------------------------------------------------+----------+"
      ]
     },
     "metadata": {},
     "output_type": "display_data"
    },
    {
     "data": {
      "text/html": [
       "<pre>| num_factors                    | Factor Dimension                                 | 32       |</pre>"
      ],
      "text/plain": [
       "| num_factors                    | Factor Dimension                                 | 32       |"
      ]
     },
     "metadata": {},
     "output_type": "display_data"
    },
    {
     "data": {
      "text/html": [
       "<pre>| regularization                 | L2 Regularization on Factors                     | 1e-09    |</pre>"
      ],
      "text/plain": [
       "| regularization                 | L2 Regularization on Factors                     | 1e-09    |"
      ]
     },
     "metadata": {},
     "output_type": "display_data"
    },
    {
     "data": {
      "text/html": [
       "<pre>| solver                         | Solver used for training                         | sgd      |</pre>"
      ],
      "text/plain": [
       "| solver                         | Solver used for training                         | sgd      |"
      ]
     },
     "metadata": {},
     "output_type": "display_data"
    },
    {
     "data": {
      "text/html": [
       "<pre>| linear_regularization          | L2 Regularization on Linear Coefficients         | 1e-09    |</pre>"
      ],
      "text/plain": [
       "| linear_regularization          | L2 Regularization on Linear Coefficients         | 1e-09    |"
      ]
     },
     "metadata": {},
     "output_type": "display_data"
    },
    {
     "data": {
      "text/html": [
       "<pre>| ranking_regularization         | Rank-based Regularization Weight                 | 0.25     |</pre>"
      ],
      "text/plain": [
       "| ranking_regularization         | Rank-based Regularization Weight                 | 0.25     |"
      ]
     },
     "metadata": {},
     "output_type": "display_data"
    },
    {
     "data": {
      "text/html": [
       "<pre>| max_iterations                 | Maximum Number of Iterations                     | 25       |</pre>"
      ],
      "text/plain": [
       "| max_iterations                 | Maximum Number of Iterations                     | 25       |"
      ]
     },
     "metadata": {},
     "output_type": "display_data"
    },
    {
     "data": {
      "text/html": [
       "<pre>+--------------------------------+--------------------------------------------------+----------+</pre>"
      ],
      "text/plain": [
       "+--------------------------------+--------------------------------------------------+----------+"
      ]
     },
     "metadata": {},
     "output_type": "display_data"
    },
    {
     "data": {
      "text/html": [
       "<pre>  Optimizing model using SGD; tuning step size.</pre>"
      ],
      "text/plain": [
       "  Optimizing model using SGD; tuning step size."
      ]
     },
     "metadata": {},
     "output_type": "display_data"
    },
    {
     "data": {
      "text/html": [
       "<pre>  Using 10000 / 67611 points for tuning the step size.</pre>"
      ],
      "text/plain": [
       "  Using 10000 / 67611 points for tuning the step size."
      ]
     },
     "metadata": {},
     "output_type": "display_data"
    },
    {
     "data": {
      "text/html": [
       "<pre>+---------+-------------------+------------------------------------------+</pre>"
      ],
      "text/plain": [
       "+---------+-------------------+------------------------------------------+"
      ]
     },
     "metadata": {},
     "output_type": "display_data"
    },
    {
     "data": {
      "text/html": [
       "<pre>| Attempt | Initial Step Size | Estimated Objective Value                |</pre>"
      ],
      "text/plain": [
       "| Attempt | Initial Step Size | Estimated Objective Value                |"
      ]
     },
     "metadata": {},
     "output_type": "display_data"
    },
    {
     "data": {
      "text/html": [
       "<pre>+---------+-------------------+------------------------------------------+</pre>"
      ],
      "text/plain": [
       "+---------+-------------------+------------------------------------------+"
      ]
     },
     "metadata": {},
     "output_type": "display_data"
    },
    {
     "data": {
      "text/html": [
       "<pre>| 0       | 25                | Not Viable                               |</pre>"
      ],
      "text/plain": [
       "| 0       | 25                | Not Viable                               |"
      ]
     },
     "metadata": {},
     "output_type": "display_data"
    },
    {
     "data": {
      "text/html": [
       "<pre>| 1       | 6.25              | Not Viable                               |</pre>"
      ],
      "text/plain": [
       "| 1       | 6.25              | Not Viable                               |"
      ]
     },
     "metadata": {},
     "output_type": "display_data"
    },
    {
     "data": {
      "text/html": [
       "<pre>| 2       | 1.5625            | Not Viable                               |</pre>"
      ],
      "text/plain": [
       "| 2       | 1.5625            | Not Viable                               |"
      ]
     },
     "metadata": {},
     "output_type": "display_data"
    },
    {
     "data": {
      "text/html": [
       "<pre>| 3       | 0.390625          | Not Viable                               |</pre>"
      ],
      "text/plain": [
       "| 3       | 0.390625          | Not Viable                               |"
      ]
     },
     "metadata": {},
     "output_type": "display_data"
    },
    {
     "data": {
      "text/html": [
       "<pre>| 4       | 0.0976562         | 4.83268                                  |</pre>"
      ],
      "text/plain": [
       "| 4       | 0.0976562         | 4.83268                                  |"
      ]
     },
     "metadata": {},
     "output_type": "display_data"
    },
    {
     "data": {
      "text/html": [
       "<pre>| 5       | 0.0488281         | 5.90553                                  |</pre>"
      ],
      "text/plain": [
       "| 5       | 0.0488281         | 5.90553                                  |"
      ]
     },
     "metadata": {},
     "output_type": "display_data"
    },
    {
     "data": {
      "text/html": [
       "<pre>| 6       | 0.0244141         | 7.02432                                  |</pre>"
      ],
      "text/plain": [
       "| 6       | 0.0244141         | 7.02432                                  |"
      ]
     },
     "metadata": {},
     "output_type": "display_data"
    },
    {
     "data": {
      "text/html": [
       "<pre>| 7       | 0.012207          | 7.88085                                  |</pre>"
      ],
      "text/plain": [
       "| 7       | 0.012207          | 7.88085                                  |"
      ]
     },
     "metadata": {},
     "output_type": "display_data"
    },
    {
     "data": {
      "text/html": [
       "<pre>+---------+-------------------+------------------------------------------+</pre>"
      ],
      "text/plain": [
       "+---------+-------------------+------------------------------------------+"
      ]
     },
     "metadata": {},
     "output_type": "display_data"
    },
    {
     "data": {
      "text/html": [
       "<pre>| Final   | 0.0976562         | 4.83268                                  |</pre>"
      ],
      "text/plain": [
       "| Final   | 0.0976562         | 4.83268                                  |"
      ]
     },
     "metadata": {},
     "output_type": "display_data"
    },
    {
     "data": {
      "text/html": [
       "<pre>+---------+-------------------+------------------------------------------+</pre>"
      ],
      "text/plain": [
       "+---------+-------------------+------------------------------------------+"
      ]
     },
     "metadata": {},
     "output_type": "display_data"
    },
    {
     "data": {
      "text/html": [
       "<pre>Starting Optimization.</pre>"
      ],
      "text/plain": [
       "Starting Optimization."
      ]
     },
     "metadata": {},
     "output_type": "display_data"
    },
    {
     "data": {
      "text/html": [
       "<pre>+---------+--------------+-------------------+-----------------------+-------------+</pre>"
      ],
      "text/plain": [
       "+---------+--------------+-------------------+-----------------------+-------------+"
      ]
     },
     "metadata": {},
     "output_type": "display_data"
    },
    {
     "data": {
      "text/html": [
       "<pre>| Iter.   | Elapsed Time | Approx. Objective | Approx. Training RMSE | Step Size   |</pre>"
      ],
      "text/plain": [
       "| Iter.   | Elapsed Time | Approx. Objective | Approx. Training RMSE | Step Size   |"
      ]
     },
     "metadata": {},
     "output_type": "display_data"
    },
    {
     "data": {
      "text/html": [
       "<pre>+---------+--------------+-------------------+-----------------------+-------------+</pre>"
      ],
      "text/plain": [
       "+---------+--------------+-------------------+-----------------------+-------------+"
      ]
     },
     "metadata": {},
     "output_type": "display_data"
    },
    {
     "data": {
      "text/html": [
       "<pre>| Initial | 140us        | 9.20357           | 2.16665               |             |</pre>"
      ],
      "text/plain": [
       "| Initial | 140us        | 9.20357           | 2.16665               |             |"
      ]
     },
     "metadata": {},
     "output_type": "display_data"
    },
    {
     "data": {
      "text/html": [
       "<pre>+---------+--------------+-------------------+-----------------------+-------------+</pre>"
      ],
      "text/plain": [
       "+---------+--------------+-------------------+-----------------------+-------------+"
      ]
     },
     "metadata": {},
     "output_type": "display_data"
    },
    {
     "data": {
      "text/html": [
       "<pre>| 1       | 112.334ms    | 7.84137           | 2.23133               | 0.0976562   |</pre>"
      ],
      "text/plain": [
       "| 1       | 112.334ms    | 7.84137           | 2.23133               | 0.0976562   |"
      ]
     },
     "metadata": {},
     "output_type": "display_data"
    },
    {
     "data": {
      "text/html": [
       "<pre>| 2       | 217.472ms    | 6.33975           | 2.0685                | 0.0580668   |</pre>"
      ],
      "text/plain": [
       "| 2       | 217.472ms    | 6.33975           | 2.0685                | 0.0580668   |"
      ]
     },
     "metadata": {},
     "output_type": "display_data"
    },
    {
     "data": {
      "text/html": [
       "<pre>| 3       | 325.49ms     | 5.60914           | 1.87916               | 0.042841    |</pre>"
      ],
      "text/plain": [
       "| 3       | 325.49ms     | 5.60914           | 1.87916               | 0.042841    |"
      ]
     },
     "metadata": {},
     "output_type": "display_data"
    },
    {
     "data": {
      "text/html": [
       "<pre>| 4       | 425.67ms     | 4.73677           | 1.63992               | 0.0345267   |</pre>"
      ],
      "text/plain": [
       "| 4       | 425.67ms     | 4.73677           | 1.63992               | 0.0345267   |"
      ]
     },
     "metadata": {},
     "output_type": "display_data"
    },
    {
     "data": {
      "text/html": [
       "<pre>| 5       | 539.93ms     | 4.04075           | 1.42267               | 0.029206    |</pre>"
      ],
      "text/plain": [
       "| 5       | 539.93ms     | 4.04075           | 1.42267               | 0.029206    |"
      ]
     },
     "metadata": {},
     "output_type": "display_data"
    },
    {
     "data": {
      "text/html": [
       "<pre>| 6       | 640.77ms     | 3.56739           | 1.27142               | 0.0254734   |</pre>"
      ],
      "text/plain": [
       "| 6       | 640.77ms     | 3.56739           | 1.27142               | 0.0254734   |"
      ]
     },
     "metadata": {},
     "output_type": "display_data"
    },
    {
     "data": {
      "text/html": [
       "<pre>| 10      | 1.08s        | 2.39009           | 0.902165              | 0.017366    |</pre>"
      ],
      "text/plain": [
       "| 10      | 1.08s        | 2.39009           | 0.902165              | 0.017366    |"
      ]
     },
     "metadata": {},
     "output_type": "display_data"
    },
    {
     "data": {
      "text/html": [
       "<pre>| 11      | 1.19s        | 2.21405           | 0.842884              | 0.016168    |</pre>"
      ],
      "text/plain": [
       "| 11      | 1.19s        | 2.21405           | 0.842884              | 0.016168    |"
      ]
     },
     "metadata": {},
     "output_type": "display_data"
    },
    {
     "data": {
      "text/html": [
       "<pre>| 20      | 2.08s        | 1.26123           | 0.56603               | 0.0103259   |</pre>"
      ],
      "text/plain": [
       "| 20      | 2.08s        | 1.26123           | 0.56603               | 0.0103259   |"
      ]
     },
     "metadata": {},
     "output_type": "display_data"
    },
    {
     "data": {
      "text/html": [
       "<pre>+---------+--------------+-------------------+-----------------------+-------------+</pre>"
      ],
      "text/plain": [
       "+---------+--------------+-------------------+-----------------------+-------------+"
      ]
     },
     "metadata": {},
     "output_type": "display_data"
    },
    {
     "data": {
      "text/html": [
       "<pre>Optimization Complete: Maximum number of passes through the data reached.</pre>"
      ],
      "text/plain": [
       "Optimization Complete: Maximum number of passes through the data reached."
      ]
     },
     "metadata": {},
     "output_type": "display_data"
    },
    {
     "data": {
      "text/html": [
       "<pre>Computing final objective value and training RMSE.</pre>"
      ],
      "text/plain": [
       "Computing final objective value and training RMSE."
      ]
     },
     "metadata": {},
     "output_type": "display_data"
    },
    {
     "data": {
      "text/html": [
       "<pre>       Final objective value: 0.995681</pre>"
      ],
      "text/plain": [
       "       Final objective value: 0.995681"
      ]
     },
     "metadata": {},
     "output_type": "display_data"
    },
    {
     "data": {
      "text/html": [
       "<pre>       Final training RMSE: 0.495997</pre>"
      ],
      "text/plain": [
       "       Final training RMSE: 0.495997"
      ]
     },
     "metadata": {},
     "output_type": "display_data"
    }
   ],
   "source": [
    "sf_2 = gl.SFrame(data.df[['userId', 'productId', 'rating']])\n",
    "model_2_product = gl.toolkits.recommender.create(sf_2, user_id = 'userId', item_id='productId', target='rating')"
   ]
  },
  {
   "cell_type": "code",
   "execution_count": 97,
   "metadata": {
    "collapsed": false,
    "scrolled": true
   },
   "outputs": [
    {
     "data": {
      "text/html": [
       "<pre>Recsys training: model = ranking_factorization_recommender</pre>"
      ],
      "text/plain": [
       "Recsys training: model = ranking_factorization_recommender"
      ]
     },
     "metadata": {},
     "output_type": "display_data"
    },
    {
     "data": {
      "text/html": [
       "<pre>Preparing data set.</pre>"
      ],
      "text/plain": [
       "Preparing data set."
      ]
     },
     "metadata": {},
     "output_type": "display_data"
    },
    {
     "data": {
      "text/html": [
       "<pre>    Data has 67611 observations with 41069 users and 67514 items.</pre>"
      ],
      "text/plain": [
       "    Data has 67611 observations with 41069 users and 67514 items."
      ]
     },
     "metadata": {},
     "output_type": "display_data"
    },
    {
     "data": {
      "text/html": [
       "<pre>    Data prepared in: 0.20154s</pre>"
      ],
      "text/plain": [
       "    Data prepared in: 0.20154s"
      ]
     },
     "metadata": {},
     "output_type": "display_data"
    },
    {
     "data": {
      "text/html": [
       "<pre>Training ranking_factorization_recommender for recommendations.</pre>"
      ],
      "text/plain": [
       "Training ranking_factorization_recommender for recommendations."
      ]
     },
     "metadata": {},
     "output_type": "display_data"
    },
    {
     "data": {
      "text/html": [
       "<pre>+--------------------------------+--------------------------------------------------+----------+</pre>"
      ],
      "text/plain": [
       "+--------------------------------+--------------------------------------------------+----------+"
      ]
     },
     "metadata": {},
     "output_type": "display_data"
    },
    {
     "data": {
      "text/html": [
       "<pre>| Parameter                      | Description                                      | Value    |</pre>"
      ],
      "text/plain": [
       "| Parameter                      | Description                                      | Value    |"
      ]
     },
     "metadata": {},
     "output_type": "display_data"
    },
    {
     "data": {
      "text/html": [
       "<pre>+--------------------------------+--------------------------------------------------+----------+</pre>"
      ],
      "text/plain": [
       "+--------------------------------+--------------------------------------------------+----------+"
      ]
     },
     "metadata": {},
     "output_type": "display_data"
    },
    {
     "data": {
      "text/html": [
       "<pre>| num_factors                    | Factor Dimension                                 | 32       |</pre>"
      ],
      "text/plain": [
       "| num_factors                    | Factor Dimension                                 | 32       |"
      ]
     },
     "metadata": {},
     "output_type": "display_data"
    },
    {
     "data": {
      "text/html": [
       "<pre>| regularization                 | L2 Regularization on Factors                     | 1e-09    |</pre>"
      ],
      "text/plain": [
       "| regularization                 | L2 Regularization on Factors                     | 1e-09    |"
      ]
     },
     "metadata": {},
     "output_type": "display_data"
    },
    {
     "data": {
      "text/html": [
       "<pre>| solver                         | Solver used for training                         | sgd      |</pre>"
      ],
      "text/plain": [
       "| solver                         | Solver used for training                         | sgd      |"
      ]
     },
     "metadata": {},
     "output_type": "display_data"
    },
    {
     "data": {
      "text/html": [
       "<pre>| linear_regularization          | L2 Regularization on Linear Coefficients         | 1e-09    |</pre>"
      ],
      "text/plain": [
       "| linear_regularization          | L2 Regularization on Linear Coefficients         | 1e-09    |"
      ]
     },
     "metadata": {},
     "output_type": "display_data"
    },
    {
     "data": {
      "text/html": [
       "<pre>| ranking_regularization         | Rank-based Regularization Weight                 | 0.25     |</pre>"
      ],
      "text/plain": [
       "| ranking_regularization         | Rank-based Regularization Weight                 | 0.25     |"
      ]
     },
     "metadata": {},
     "output_type": "display_data"
    },
    {
     "data": {
      "text/html": [
       "<pre>| max_iterations                 | Maximum Number of Iterations                     | 25       |</pre>"
      ],
      "text/plain": [
       "| max_iterations                 | Maximum Number of Iterations                     | 25       |"
      ]
     },
     "metadata": {},
     "output_type": "display_data"
    },
    {
     "data": {
      "text/html": [
       "<pre>+--------------------------------+--------------------------------------------------+----------+</pre>"
      ],
      "text/plain": [
       "+--------------------------------+--------------------------------------------------+----------+"
      ]
     },
     "metadata": {},
     "output_type": "display_data"
    },
    {
     "data": {
      "text/html": [
       "<pre>  Optimizing model using SGD; tuning step size.</pre>"
      ],
      "text/plain": [
       "  Optimizing model using SGD; tuning step size."
      ]
     },
     "metadata": {},
     "output_type": "display_data"
    },
    {
     "data": {
      "text/html": [
       "<pre>  Using 10000 / 67611 points for tuning the step size.</pre>"
      ],
      "text/plain": [
       "  Using 10000 / 67611 points for tuning the step size."
      ]
     },
     "metadata": {},
     "output_type": "display_data"
    },
    {
     "data": {
      "text/html": [
       "<pre>+---------+-------------------+------------------------------------------+</pre>"
      ],
      "text/plain": [
       "+---------+-------------------+------------------------------------------+"
      ]
     },
     "metadata": {},
     "output_type": "display_data"
    },
    {
     "data": {
      "text/html": [
       "<pre>| Attempt | Initial Step Size | Estimated Objective Value                |</pre>"
      ],
      "text/plain": [
       "| Attempt | Initial Step Size | Estimated Objective Value                |"
      ]
     },
     "metadata": {},
     "output_type": "display_data"
    },
    {
     "data": {
      "text/html": [
       "<pre>+---------+-------------------+------------------------------------------+</pre>"
      ],
      "text/plain": [
       "+---------+-------------------+------------------------------------------+"
      ]
     },
     "metadata": {},
     "output_type": "display_data"
    },
    {
     "data": {
      "text/html": [
       "<pre>| 0       | 25                | Not Viable                               |</pre>"
      ],
      "text/plain": [
       "| 0       | 25                | Not Viable                               |"
      ]
     },
     "metadata": {},
     "output_type": "display_data"
    },
    {
     "data": {
      "text/html": [
       "<pre>| 1       | 6.25              | Not Viable                               |</pre>"
      ],
      "text/plain": [
       "| 1       | 6.25              | Not Viable                               |"
      ]
     },
     "metadata": {},
     "output_type": "display_data"
    },
    {
     "data": {
      "text/html": [
       "<pre>| 2       | 1.5625            | No Decrease (62.2395 >= 9.21281)         |</pre>"
      ],
      "text/plain": [
       "| 2       | 1.5625            | No Decrease (62.2395 >= 9.21281)         |"
      ]
     },
     "metadata": {},
     "output_type": "display_data"
    },
    {
     "data": {
      "text/html": [
       "<pre>| 3       | 0.390625          | 3.73461                                  |</pre>"
      ],
      "text/plain": [
       "| 3       | 0.390625          | 3.73461                                  |"
      ]
     },
     "metadata": {},
     "output_type": "display_data"
    },
    {
     "data": {
      "text/html": [
       "<pre>| 4       | 0.195312          | 4.19545                                  |</pre>"
      ],
      "text/plain": [
       "| 4       | 0.195312          | 4.19545                                  |"
      ]
     },
     "metadata": {},
     "output_type": "display_data"
    },
    {
     "data": {
      "text/html": [
       "<pre>| 5       | 0.0976562         | 4.81384                                  |</pre>"
      ],
      "text/plain": [
       "| 5       | 0.0976562         | 4.81384                                  |"
      ]
     },
     "metadata": {},
     "output_type": "display_data"
    },
    {
     "data": {
      "text/html": [
       "<pre>| 6       | 0.0488281         | 5.86524                                  |</pre>"
      ],
      "text/plain": [
       "| 6       | 0.0488281         | 5.86524                                  |"
      ]
     },
     "metadata": {},
     "output_type": "display_data"
    },
    {
     "data": {
      "text/html": [
       "<pre>+---------+-------------------+------------------------------------------+</pre>"
      ],
      "text/plain": [
       "+---------+-------------------+------------------------------------------+"
      ]
     },
     "metadata": {},
     "output_type": "display_data"
    },
    {
     "data": {
      "text/html": [
       "<pre>| Final   | 0.390625          | 3.73461                                  |</pre>"
      ],
      "text/plain": [
       "| Final   | 0.390625          | 3.73461                                  |"
      ]
     },
     "metadata": {},
     "output_type": "display_data"
    },
    {
     "data": {
      "text/html": [
       "<pre>+---------+-------------------+------------------------------------------+</pre>"
      ],
      "text/plain": [
       "+---------+-------------------+------------------------------------------+"
      ]
     },
     "metadata": {},
     "output_type": "display_data"
    },
    {
     "data": {
      "text/html": [
       "<pre>Starting Optimization.</pre>"
      ],
      "text/plain": [
       "Starting Optimization."
      ]
     },
     "metadata": {},
     "output_type": "display_data"
    },
    {
     "data": {
      "text/html": [
       "<pre>+---------+--------------+-------------------+-----------------------+-------------+</pre>"
      ],
      "text/plain": [
       "+---------+--------------+-------------------+-----------------------+-------------+"
      ]
     },
     "metadata": {},
     "output_type": "display_data"
    },
    {
     "data": {
      "text/html": [
       "<pre>| Iter.   | Elapsed Time | Approx. Objective | Approx. Training RMSE | Step Size   |</pre>"
      ],
      "text/plain": [
       "| Iter.   | Elapsed Time | Approx. Objective | Approx. Training RMSE | Step Size   |"
      ]
     },
     "metadata": {},
     "output_type": "display_data"
    },
    {
     "data": {
      "text/html": [
       "<pre>+---------+--------------+-------------------+-----------------------+-------------+</pre>"
      ],
      "text/plain": [
       "+---------+--------------+-------------------+-----------------------+-------------+"
      ]
     },
     "metadata": {},
     "output_type": "display_data"
    },
    {
     "data": {
      "text/html": [
       "<pre>| Initial | 133us        | 9.20355           | 2.16665               |             |</pre>"
      ],
      "text/plain": [
       "| Initial | 133us        | 9.20355           | 2.16665               |             |"
      ]
     },
     "metadata": {},
     "output_type": "display_data"
    },
    {
     "data": {
      "text/html": [
       "<pre>+---------+--------------+-------------------+-----------------------+-------------+</pre>"
      ],
      "text/plain": [
       "+---------+--------------+-------------------+-----------------------+-------------+"
      ]
     },
     "metadata": {},
     "output_type": "display_data"
    },
    {
     "data": {
      "text/html": [
       "<pre>| 1       | 151.187ms    | 11.4325           | 2.47223               | 0.390625    |</pre>"
      ],
      "text/plain": [
       "| 1       | 151.187ms    | 11.4325           | 2.47223               | 0.390625    |"
      ]
     },
     "metadata": {},
     "output_type": "display_data"
    },
    {
     "data": {
      "text/html": [
       "<pre>| 2       | 281.22ms     | 9.09611           | 2.05705               | 0.232267    |</pre>"
      ],
      "text/plain": [
       "| 2       | 281.22ms     | 9.09611           | 2.05705               | 0.232267    |"
      ]
     },
     "metadata": {},
     "output_type": "display_data"
    },
    {
     "data": {
      "text/html": [
       "<pre>| 3       | 406.296ms    | 7.09458           | 1.52901               | 0.171364    |</pre>"
      ],
      "text/plain": [
       "| 3       | 406.296ms    | 7.09458           | 1.52901               | 0.171364    |"
      ]
     },
     "metadata": {},
     "output_type": "display_data"
    },
    {
     "data": {
      "text/html": [
       "<pre>| 4       | 517.573ms    | 6.08377           | 1.28535               | 0.116134    |</pre>"
      ],
      "text/plain": [
       "| 4       | 517.573ms    | 6.08377           | 1.28535               | 0.116134    |"
      ]
     },
     "metadata": {},
     "output_type": "display_data"
    },
    {
     "data": {
      "text/html": [
       "<pre>| 5       | 659.985ms    | 5.56454           | 1.16891               | 0.098237    |</pre>"
      ],
      "text/plain": [
       "| 5       | 659.985ms    | 5.56454           | 1.16891               | 0.098237    |"
      ]
     },
     "metadata": {},
     "output_type": "display_data"
    },
    {
     "data": {
      "text/html": [
       "<pre>| 6       | 784.56ms     | 5.17405           | 1.08503               | 0.0856819   |</pre>"
      ],
      "text/plain": [
       "| 6       | 784.56ms     | 5.17405           | 1.08503               | 0.0856819   |"
      ]
     },
     "metadata": {},
     "output_type": "display_data"
    },
    {
     "data": {
      "text/html": [
       "<pre>| 10      | 1.50s        | 4.20829           | 0.887096              | 0.0584121   |</pre>"
      ],
      "text/plain": [
       "| 10      | 1.50s        | 4.20829           | 0.887096              | 0.0584121   |"
      ]
     },
     "metadata": {},
     "output_type": "display_data"
    },
    {
     "data": {
      "text/html": [
       "<pre>| 11      | 1.68s        | 4.03606           | 0.854247              | 0.0543824   |</pre>"
      ],
      "text/plain": [
       "| 11      | 1.68s        | 4.03606           | 0.854247              | 0.0543824   |"
      ]
     },
     "metadata": {},
     "output_type": "display_data"
    },
    {
     "data": {
      "text/html": [
       "<pre>| 20      | 3.02s        | 3.01105           | 0.647905              | 0.034732    |</pre>"
      ],
      "text/plain": [
       "| 20      | 3.02s        | 3.01105           | 0.647905              | 0.034732    |"
      ]
     },
     "metadata": {},
     "output_type": "display_data"
    },
    {
     "data": {
      "text/html": [
       "<pre>+---------+--------------+-------------------+-----------------------+-------------+</pre>"
      ],
      "text/plain": [
       "+---------+--------------+-------------------+-----------------------+-------------+"
      ]
     },
     "metadata": {},
     "output_type": "display_data"
    },
    {
     "data": {
      "text/html": [
       "<pre>Optimization Complete: Maximum number of passes through the data reached.</pre>"
      ],
      "text/plain": [
       "Optimization Complete: Maximum number of passes through the data reached."
      ]
     },
     "metadata": {},
     "output_type": "display_data"
    },
    {
     "data": {
      "text/html": [
       "<pre>Computing final objective value and training RMSE.</pre>"
      ],
      "text/plain": [
       "Computing final objective value and training RMSE."
      ]
     },
     "metadata": {},
     "output_type": "display_data"
    },
    {
     "data": {
      "text/html": [
       "<pre>       Final objective value: 2.52944</pre>"
      ],
      "text/plain": [
       "       Final objective value: 2.52944"
      ]
     },
     "metadata": {},
     "output_type": "display_data"
    },
    {
     "data": {
      "text/html": [
       "<pre>       Final training RMSE: 0.512273</pre>"
      ],
      "text/plain": [
       "       Final training RMSE: 0.512273"
      ]
     },
     "metadata": {},
     "output_type": "display_data"
    }
   ],
   "source": [
    "sf_3 = gl.SFrame(data.df[['userId', '_id', 'rating']])\n",
    "model_3_purchase = gl.toolkits.recommender.create(sf_3, user_id = 'userId', item_id='_id', target='rating')"
   ]
  },
  {
   "cell_type": "code",
   "execution_count": 130,
   "metadata": {
    "collapsed": false,
    "scrolled": true
   },
   "outputs": [],
   "source": [
    "ratrix = data.df[['userId', 'productId','rating']]"
   ]
  },
  {
   "cell_type": "code",
   "execution_count": 180,
   "metadata": {
    "collapsed": false
   },
   "outputs": [],
   "source": [
    "products = ratrix.productId.unique()"
   ]
  },
  {
   "cell_type": "code",
   "execution_count": 133,
   "metadata": {
    "collapsed": false
   },
   "outputs": [],
   "source": [
    "users = ratrix.userId.unique()"
   ]
  },
  {
   "cell_type": "code",
   "execution_count": 213,
   "metadata": {
    "collapsed": false
   },
   "outputs": [
    {
     "data": {
      "text/html": [
       "<div>\n",
       "<table border=\"1\" class=\"dataframe\">\n",
       "  <thead>\n",
       "    <tr style=\"text-align: right;\">\n",
       "      <th></th>\n",
       "      <th>0</th>\n",
       "      <th>1</th>\n",
       "      <th>2</th>\n",
       "      <th>3</th>\n",
       "      <th>4</th>\n",
       "      <th>5</th>\n",
       "      <th>6</th>\n",
       "      <th>7</th>\n",
       "      <th>8</th>\n",
       "      <th>9</th>\n",
       "      <th>...</th>\n",
       "      <th>67601</th>\n",
       "      <th>67602</th>\n",
       "      <th>67603</th>\n",
       "      <th>67604</th>\n",
       "      <th>67605</th>\n",
       "      <th>67606</th>\n",
       "      <th>67607</th>\n",
       "      <th>67608</th>\n",
       "      <th>67609</th>\n",
       "      <th>67610</th>\n",
       "    </tr>\n",
       "  </thead>\n",
       "  <tbody>\n",
       "    <tr>\n",
       "      <th>totalItems</th>\n",
       "      <td>18</td>\n",
       "      <td>18</td>\n",
       "      <td>18</td>\n",
       "      <td>18</td>\n",
       "      <td>18</td>\n",
       "      <td>18</td>\n",
       "      <td>18</td>\n",
       "      <td>18</td>\n",
       "      <td>18</td>\n",
       "      <td>18</td>\n",
       "      <td>...</td>\n",
       "      <td>10</td>\n",
       "      <td>10</td>\n",
       "      <td>10</td>\n",
       "      <td>10</td>\n",
       "      <td>6</td>\n",
       "      <td>6</td>\n",
       "      <td>6</td>\n",
       "      <td>6</td>\n",
       "      <td>6</td>\n",
       "      <td>6</td>\n",
       "    </tr>\n",
       "    <tr>\n",
       "      <th>overallRating</th>\n",
       "      <td>0</td>\n",
       "      <td>0</td>\n",
       "      <td>0</td>\n",
       "      <td>0</td>\n",
       "      <td>0</td>\n",
       "      <td>0</td>\n",
       "      <td>0</td>\n",
       "      <td>0</td>\n",
       "      <td>0</td>\n",
       "      <td>0</td>\n",
       "      <td>...</td>\n",
       "      <td>7.9</td>\n",
       "      <td>7.9</td>\n",
       "      <td>7.9</td>\n",
       "      <td>7.9</td>\n",
       "      <td>0</td>\n",
       "      <td>0</td>\n",
       "      <td>0</td>\n",
       "      <td>0</td>\n",
       "      <td>0</td>\n",
       "      <td>0</td>\n",
       "    </tr>\n",
       "    <tr>\n",
       "      <th>helpful</th>\n",
       "      <td>0</td>\n",
       "      <td>0</td>\n",
       "      <td>0</td>\n",
       "      <td>0</td>\n",
       "      <td>0</td>\n",
       "      <td>0</td>\n",
       "      <td>0</td>\n",
       "      <td>1</td>\n",
       "      <td>0</td>\n",
       "      <td>0</td>\n",
       "      <td>...</td>\n",
       "      <td>0</td>\n",
       "      <td>0</td>\n",
       "      <td>0</td>\n",
       "      <td>0</td>\n",
       "      <td>0</td>\n",
       "      <td>0</td>\n",
       "      <td>0</td>\n",
       "      <td>0</td>\n",
       "      <td>3</td>\n",
       "      <td>0</td>\n",
       "    </tr>\n",
       "    <tr>\n",
       "      <th>totalRatings</th>\n",
       "      <td>0</td>\n",
       "      <td>0</td>\n",
       "      <td>0</td>\n",
       "      <td>0</td>\n",
       "      <td>0</td>\n",
       "      <td>0</td>\n",
       "      <td>0</td>\n",
       "      <td>0</td>\n",
       "      <td>0</td>\n",
       "      <td>0</td>\n",
       "      <td>...</td>\n",
       "      <td>1</td>\n",
       "      <td>1</td>\n",
       "      <td>1</td>\n",
       "      <td>1</td>\n",
       "      <td>0</td>\n",
       "      <td>0</td>\n",
       "      <td>0</td>\n",
       "      <td>0</td>\n",
       "      <td>0</td>\n",
       "      <td>0</td>\n",
       "    </tr>\n",
       "    <tr>\n",
       "      <th>helpfulTotal</th>\n",
       "      <td>0</td>\n",
       "      <td>0</td>\n",
       "      <td>0</td>\n",
       "      <td>0</td>\n",
       "      <td>0</td>\n",
       "      <td>1</td>\n",
       "      <td>0</td>\n",
       "      <td>2</td>\n",
       "      <td>0</td>\n",
       "      <td>0</td>\n",
       "      <td>...</td>\n",
       "      <td>0</td>\n",
       "      <td>0</td>\n",
       "      <td>0</td>\n",
       "      <td>0</td>\n",
       "      <td>1</td>\n",
       "      <td>0</td>\n",
       "      <td>0</td>\n",
       "      <td>0</td>\n",
       "      <td>5</td>\n",
       "      <td>3</td>\n",
       "    </tr>\n",
       "    <tr>\n",
       "      <th>username</th>\n",
       "      <td>coryacehall</td>\n",
       "      <td>dida1984</td>\n",
       "      <td>mango1515</td>\n",
       "      <td>DCGuru</td>\n",
       "      <td>bcnus</td>\n",
       "      <td>aslzr23</td>\n",
       "      <td>Rafaelg90</td>\n",
       "      <td>lizziehessxo</td>\n",
       "      <td>desmichelle</td>\n",
       "      <td>nmontelli8</td>\n",
       "      <td>...</td>\n",
       "      <td>fitbabe6</td>\n",
       "      <td>NickJames206</td>\n",
       "      <td>nebraskaheat</td>\n",
       "      <td>cmdavis11</td>\n",
       "      <td>rrcarroll</td>\n",
       "      <td>musartnova</td>\n",
       "      <td>TBug</td>\n",
       "      <td>jonav</td>\n",
       "      <td>Senad54</td>\n",
       "      <td>ecrivain75000</td>\n",
       "    </tr>\n",
       "    <tr>\n",
       "      <th>_id</th>\n",
       "      <td>5787b7850cf262c7c0381cc6</td>\n",
       "      <td>5721f4cf0cf2d7a0bb1d391f</td>\n",
       "      <td>5714f2d70cf2a1797c83f8b8</td>\n",
       "      <td>56fad5250cf2ae532b9b5462</td>\n",
       "      <td>56e1857f0cf2857466d1b465</td>\n",
       "      <td>55a68a7a0cf22545627578e5</td>\n",
       "      <td>5579f6b60cf281d23a605392</td>\n",
       "      <td>54ff4f360cf23daccb3ce189</td>\n",
       "      <td>555cd9600cf26d3993e1e227</td>\n",
       "      <td>555a4a1a0cf29545352ebb23</td>\n",
       "      <td>...</td>\n",
       "      <td>5421d6740cf206d284d4d150</td>\n",
       "      <td>53ee6b320cf2b899939e6cc8</td>\n",
       "      <td>51a7c7720cf23b204302c5fd</td>\n",
       "      <td>51a7c7730cf23b2043033dda</td>\n",
       "      <td>56f7e9660cf2e2d6c1d3d29e</td>\n",
       "      <td>567d6a330cf215707c6aca98</td>\n",
       "      <td>52f47f8b0cf212e540f28752</td>\n",
       "      <td>51fa807c0cf27692f076eb86</td>\n",
       "      <td>51f9de820cf25611125e7b1e</td>\n",
       "      <td>51a7c7740cf23b20430392d7</td>\n",
       "    </tr>\n",
       "    <tr>\n",
       "      <th>title</th>\n",
       "      <td></td>\n",
       "      <td></td>\n",
       "      <td></td>\n",
       "      <td></td>\n",
       "      <td></td>\n",
       "      <td></td>\n",
       "      <td></td>\n",
       "      <td></td>\n",
       "      <td></td>\n",
       "      <td></td>\n",
       "      <td>...</td>\n",
       "      <td></td>\n",
       "      <td></td>\n",
       "      <td>None</td>\n",
       "      <td>None</td>\n",
       "      <td></td>\n",
       "      <td></td>\n",
       "      <td></td>\n",
       "      <td></td>\n",
       "      <td></td>\n",
       "      <td>None</td>\n",
       "    </tr>\n",
       "    <tr>\n",
       "      <th>text</th>\n",
       "      <td>I did really like this product. I used it in r...</td>\n",
       "      <td>Didn't get a lot of energy like other suppleme...</td>\n",
       "      <td>My 1st review on a product. I did 20 capsules ...</td>\n",
       "      <td>I've never really been a fan of thermogenics s...</td>\n",
       "      <td></td>\n",
       "      <td>I've been taking this product for a couple of ...</td>\n",
       "      <td>This product really worked for me gets me up a...</td>\n",
       "      <td>I have tried many fat burners before, but have...</td>\n",
       "      <td>i have tried four other companies and this is ...</td>\n",
       "      <td>Hands down one of the best thermos I've used. ...</td>\n",
       "      <td>...</td>\n",
       "      <td>I love this product! The taste is quite good a...</td>\n",
       "      <td>This is the first time using a green product. ...</td>\n",
       "      <td>A great profile in an easily drinkable greens ...</td>\n",
       "      <td>This blows Oximega Greens out of the water in ...</td>\n",
       "      <td>Does what it is suppose to do without any fluff.</td>\n",
       "      <td>A+++</td>\n",
       "      <td>Your mind awareness is a little sharper and fo...</td>\n",
       "      <td>Its a great product</td>\n",
       "      <td>I like this product. Before taking it, I could...</td>\n",
       "      <td></td>\n",
       "    </tr>\n",
       "    <tr>\n",
       "      <th>brandId</th>\n",
       "      <td>cat1150004</td>\n",
       "      <td>cat1150004</td>\n",
       "      <td>cat1150004</td>\n",
       "      <td>cat1150004</td>\n",
       "      <td>cat1150004</td>\n",
       "      <td>cat1150004</td>\n",
       "      <td>cat1150004</td>\n",
       "      <td>cat1150004</td>\n",
       "      <td>cat1150004</td>\n",
       "      <td>cat1150004</td>\n",
       "      <td>...</td>\n",
       "      <td>BRAND_S_A_N_</td>\n",
       "      <td>BRAND_S_A_N_</td>\n",
       "      <td>BRAND_S_A_N_</td>\n",
       "      <td>BRAND_S_A_N_</td>\n",
       "      <td>BRAND_NOW</td>\n",
       "      <td>BRAND_NOW</td>\n",
       "      <td>BRAND_NOW</td>\n",
       "      <td>BRAND_NOW</td>\n",
       "      <td>BRAND_NOW</td>\n",
       "      <td>BRAND_NOW</td>\n",
       "    </tr>\n",
       "    <tr>\n",
       "      <th>modDate</th>\n",
       "      <td>{u'$numberLong': u'1468512417000'}</td>\n",
       "      <td>{u'$numberLong': u'1461843151000'}</td>\n",
       "      <td>{u'$numberLong': u'1460990679000'}</td>\n",
       "      <td>{u'$numberLong': u'1459279141000'}</td>\n",
       "      <td>{u'$numberLong': u'1457620351000'}</td>\n",
       "      <td>{u'$numberLong': u'1436977786000'}</td>\n",
       "      <td>{u'$numberLong': u'1434056374000'}</td>\n",
       "      <td>{u'$numberLong': u'1434056177000'}</td>\n",
       "      <td>{u'$numberLong': u'1432148320000'}</td>\n",
       "      <td>{u'$numberLong': u'1431980570000'}</td>\n",
       "      <td>...</td>\n",
       "      <td>{u'$numberLong': u'1411503732000'}</td>\n",
       "      <td>{u'$numberLong': u'1408133938000'}</td>\n",
       "      <td>{u'$numberLong': u'1376084542000'}</td>\n",
       "      <td>{u'$numberLong': u'1376086379000'}</td>\n",
       "      <td>{u'$numberLong': u'1459087718000'}</td>\n",
       "      <td>{u'$numberLong': u'1451059763000'}</td>\n",
       "      <td>{u'$numberLong': u'1391755147000'}</td>\n",
       "      <td>{u'$numberLong': u'1375371388000'}</td>\n",
       "      <td>{u'$numberLong': u'1375329922000'}</td>\n",
       "      <td>{u'$numberLong': u'1376087727000'}</td>\n",
       "    </tr>\n",
       "    <tr>\n",
       "      <th>date</th>\n",
       "      <td>{u'$numberLong': u'1468512417000'}</td>\n",
       "      <td>{u'$numberLong': u'1461843151000'}</td>\n",
       "      <td>{u'$numberLong': u'1460990679000'}</td>\n",
       "      <td>{u'$numberLong': u'1459279141000'}</td>\n",
       "      <td>{u'$numberLong': u'1457620351000'}</td>\n",
       "      <td>{u'$numberLong': u'1436977786000'}</td>\n",
       "      <td>{u'$numberLong': u'1434056374000'}</td>\n",
       "      <td>{u'$numberLong': u'1434056177000'}</td>\n",
       "      <td>{u'$numberLong': u'1432148320000'}</td>\n",
       "      <td>{u'$numberLong': u'1431980570000'}</td>\n",
       "      <td>...</td>\n",
       "      <td>{u'$numberLong': u'1411503732000'}</td>\n",
       "      <td>{u'$numberLong': u'1408133938000'}</td>\n",
       "      <td>{u'$numberLong': u'1354654769000'}</td>\n",
       "      <td>{u'$numberLong': u'1348527318000'}</td>\n",
       "      <td>{u'$numberLong': u'1459087718000'}</td>\n",
       "      <td>{u'$numberLong': u'1451059763000'}</td>\n",
       "      <td>{u'$numberLong': u'1391755147000'}</td>\n",
       "      <td>{u'$numberLong': u'1375371388000'}</td>\n",
       "      <td>{u'$numberLong': u'1375329922000'}</td>\n",
       "      <td>{u'$numberLong': u'1340283671000'}</td>\n",
       "    </tr>\n",
       "    <tr>\n",
       "      <th>entityId</th>\n",
       "      <td>productreview-prod1620022</td>\n",
       "      <td>productreview-prod1620022</td>\n",
       "      <td>productreview-prod1620022</td>\n",
       "      <td>productreview-prod1620022</td>\n",
       "      <td>productreview-prod1620022</td>\n",
       "      <td>productreview-prod1620022</td>\n",
       "      <td>productreview-prod1620022</td>\n",
       "      <td>productreview-prod1620022</td>\n",
       "      <td>productreview-prod1620022</td>\n",
       "      <td>productreview-prod1620022</td>\n",
       "      <td>...</td>\n",
       "      <td>productreview-prod680032</td>\n",
       "      <td>productreview-prod680032</td>\n",
       "      <td>productreview-prod680032</td>\n",
       "      <td>productreview-prod680032</td>\n",
       "      <td>productreview-23649</td>\n",
       "      <td>productreview-23649</td>\n",
       "      <td>productreview-23649</td>\n",
       "      <td>productreview-23649</td>\n",
       "      <td>productreview-23649</td>\n",
       "      <td>productreview-23649</td>\n",
       "    </tr>\n",
       "    <tr>\n",
       "      <th>updateStatusReason</th>\n",
       "      <td>:lifes2good</td>\n",
       "      <td>None</td>\n",
       "      <td>None</td>\n",
       "      <td>None</td>\n",
       "      <td>None</td>\n",
       "      <td>None</td>\n",
       "      <td>None</td>\n",
       "      <td>None</td>\n",
       "      <td>None</td>\n",
       "      <td>None</td>\n",
       "      <td>...</td>\n",
       "      <td>None</td>\n",
       "      <td>None</td>\n",
       "      <td>None</td>\n",
       "      <td>None</td>\n",
       "      <td>None</td>\n",
       "      <td>None</td>\n",
       "      <td>None</td>\n",
       "      <td>None</td>\n",
       "      <td>None</td>\n",
       "      <td>None</td>\n",
       "    </tr>\n",
       "    <tr>\n",
       "      <th>slug</th>\n",
       "      <td>coryacehall</td>\n",
       "      <td>dida1984</td>\n",
       "      <td>mango1515</td>\n",
       "      <td>DCGuru</td>\n",
       "      <td>bcnus</td>\n",
       "      <td>aslzr23</td>\n",
       "      <td>Rafaelg90</td>\n",
       "      <td>lizziehessxo</td>\n",
       "      <td>desmichelle</td>\n",
       "      <td>nmontelli8</td>\n",
       "      <td>...</td>\n",
       "      <td>fitbabe6</td>\n",
       "      <td>NickJames206</td>\n",
       "      <td>nebraskaheat</td>\n",
       "      <td>cmdavis11</td>\n",
       "      <td>rrcarroll</td>\n",
       "      <td>musartnova</td>\n",
       "      <td>TBug</td>\n",
       "      <td>jonav</td>\n",
       "      <td>Senad54</td>\n",
       "      <td>ecrivain75000</td>\n",
       "    </tr>\n",
       "    <tr>\n",
       "      <th>userId</th>\n",
       "      <td>58617272</td>\n",
       "      <td>120584661</td>\n",
       "      <td>88002491</td>\n",
       "      <td>34717082</td>\n",
       "      <td>98886182</td>\n",
       "      <td>42621942</td>\n",
       "      <td>87306721</td>\n",
       "      <td>101296512</td>\n",
       "      <td>108628242</td>\n",
       "      <td>87861531</td>\n",
       "      <td>...</td>\n",
       "      <td>392653</td>\n",
       "      <td>67710702</td>\n",
       "      <td>57064062</td>\n",
       "      <td>43581152</td>\n",
       "      <td>103018372</td>\n",
       "      <td>32410682</td>\n",
       "      <td>79101492</td>\n",
       "      <td>63134382</td>\n",
       "      <td>55870402</td>\n",
       "      <td>49004332</td>\n",
       "    </tr>\n",
       "    <tr>\n",
       "      <th>productId</th>\n",
       "      <td>prod1620022</td>\n",
       "      <td>prod1620022</td>\n",
       "      <td>prod1620022</td>\n",
       "      <td>prod1620022</td>\n",
       "      <td>prod1620022</td>\n",
       "      <td>prod1620022</td>\n",
       "      <td>prod1620022</td>\n",
       "      <td>prod1620022</td>\n",
       "      <td>prod1620022</td>\n",
       "      <td>prod1620022</td>\n",
       "      <td>...</td>\n",
       "      <td>prod680032</td>\n",
       "      <td>prod680032</td>\n",
       "      <td>prod680032</td>\n",
       "      <td>prod680032</td>\n",
       "      <td>23649</td>\n",
       "      <td>23649</td>\n",
       "      <td>23649</td>\n",
       "      <td>23649</td>\n",
       "      <td>23649</td>\n",
       "      <td>23649</td>\n",
       "    </tr>\n",
       "    <tr>\n",
       "      <th>imageMedium</th>\n",
       "      <td>http://store.bbcomcdn.com/images/store/prodima...</td>\n",
       "      <td>http://store.bbcomcdn.com/images/store/prodima...</td>\n",
       "      <td>http://store.bbcomcdn.com/images/store/prodima...</td>\n",
       "      <td>http://store.bbcomcdn.com/images/store/prodima...</td>\n",
       "      <td>http://store.bbcomcdn.com/images/store/prodima...</td>\n",
       "      <td>http://store.bbcomcdn.com/images/store/prodima...</td>\n",
       "      <td>http://store.bbcomcdn.com/images/store/prodima...</td>\n",
       "      <td>http://store.bbcomcdn.com/images/store/prodima...</td>\n",
       "      <td>http://store.bbcomcdn.com/images/store/prodima...</td>\n",
       "      <td>http://store.bbcomcdn.com/images/store/prodima...</td>\n",
       "      <td>...</td>\n",
       "      <td>http://store.bbcomcdn.com/images/store/prodima...</td>\n",
       "      <td>http://store.bbcomcdn.com/images/store/prodima...</td>\n",
       "      <td>http://store.bbcomcdn.com/images/store/prodima...</td>\n",
       "      <td>http://store.bbcomcdn.com/images/store/prodima...</td>\n",
       "      <td>http://store.bbcomcdn.com/images/store/prodima...</td>\n",
       "      <td>http://store.bbcomcdn.com/images/store/prodima...</td>\n",
       "      <td>http://store.bbcomcdn.com/images/store/prodima...</td>\n",
       "      <td>http://store.bbcomcdn.com/images/store/prodima...</td>\n",
       "      <td>http://store.bbcomcdn.com/images/store/prodima...</td>\n",
       "      <td>http://store.bbcomcdn.com/images/store/prodima...</td>\n",
       "    </tr>\n",
       "    <tr>\n",
       "      <th>totalReviews</th>\n",
       "      <td>61</td>\n",
       "      <td>61</td>\n",
       "      <td>61</td>\n",
       "      <td>61</td>\n",
       "      <td>61</td>\n",
       "      <td>61</td>\n",
       "      <td>61</td>\n",
       "      <td>61</td>\n",
       "      <td>61</td>\n",
       "      <td>61</td>\n",
       "      <td>...</td>\n",
       "      <td>20</td>\n",
       "      <td>20</td>\n",
       "      <td>20</td>\n",
       "      <td>20</td>\n",
       "      <td>8</td>\n",
       "      <td>8</td>\n",
       "      <td>8</td>\n",
       "      <td>8</td>\n",
       "      <td>8</td>\n",
       "      <td>8</td>\n",
       "    </tr>\n",
       "    <tr>\n",
       "      <th>flavorList</th>\n",
       "      <td>None</td>\n",
       "      <td>None</td>\n",
       "      <td>None</td>\n",
       "      <td>None</td>\n",
       "      <td>None</td>\n",
       "      <td>None</td>\n",
       "      <td>None</td>\n",
       "      <td>None</td>\n",
       "      <td>None</td>\n",
       "      <td>None</td>\n",
       "      <td>...</td>\n",
       "      <td>[Natural Green]</td>\n",
       "      <td>[Natural Green]</td>\n",
       "      <td>[Natural Green]</td>\n",
       "      <td>[Natural Green]</td>\n",
       "      <td>None</td>\n",
       "      <td>None</td>\n",
       "      <td>None</td>\n",
       "      <td>None</td>\n",
       "      <td>None</td>\n",
       "      <td>None</td>\n",
       "    </tr>\n",
       "    <tr>\n",
       "      <th>totalVerifiedBuyers</th>\n",
       "      <td>20</td>\n",
       "      <td>20</td>\n",
       "      <td>20</td>\n",
       "      <td>20</td>\n",
       "      <td>20</td>\n",
       "      <td>20</td>\n",
       "      <td>20</td>\n",
       "      <td>20</td>\n",
       "      <td>20</td>\n",
       "      <td>20</td>\n",
       "      <td>...</td>\n",
       "      <td>10</td>\n",
       "      <td>10</td>\n",
       "      <td>10</td>\n",
       "      <td>10</td>\n",
       "      <td>6</td>\n",
       "      <td>6</td>\n",
       "      <td>6</td>\n",
       "      <td>6</td>\n",
       "      <td>6</td>\n",
       "      <td>6</td>\n",
       "    </tr>\n",
       "    <tr>\n",
       "      <th>id</th>\n",
       "      <td>prod1620022</td>\n",
       "      <td>prod1620022</td>\n",
       "      <td>prod1620022</td>\n",
       "      <td>prod1620022</td>\n",
       "      <td>prod1620022</td>\n",
       "      <td>prod1620022</td>\n",
       "      <td>prod1620022</td>\n",
       "      <td>prod1620022</td>\n",
       "      <td>prod1620022</td>\n",
       "      <td>prod1620022</td>\n",
       "      <td>...</td>\n",
       "      <td>prod680032</td>\n",
       "      <td>prod680032</td>\n",
       "      <td>prod680032</td>\n",
       "      <td>prod680032</td>\n",
       "      <td>23649</td>\n",
       "      <td>23649</td>\n",
       "      <td>23649</td>\n",
       "      <td>23649</td>\n",
       "      <td>23649</td>\n",
       "      <td>23649</td>\n",
       "    </tr>\n",
       "    <tr>\n",
       "      <th>verifiedBuyerRating</th>\n",
       "      <td>9</td>\n",
       "      <td>9</td>\n",
       "      <td>9</td>\n",
       "      <td>9</td>\n",
       "      <td>9</td>\n",
       "      <td>9</td>\n",
       "      <td>9</td>\n",
       "      <td>9</td>\n",
       "      <td>9</td>\n",
       "      <td>9</td>\n",
       "      <td>...</td>\n",
       "      <td>9.4</td>\n",
       "      <td>9.4</td>\n",
       "      <td>9.4</td>\n",
       "      <td>9.4</td>\n",
       "      <td>9</td>\n",
       "      <td>9</td>\n",
       "      <td>9</td>\n",
       "      <td>9</td>\n",
       "      <td>9</td>\n",
       "      <td>9</td>\n",
       "    </tr>\n",
       "    <tr>\n",
       "      <th>description</th>\n",
       "      <td>Promotes Mental Focus, Memory, Mood, and Fat B...</td>\n",
       "      <td>Promotes Mental Focus, Memory, Mood, and Fat B...</td>\n",
       "      <td>Promotes Mental Focus, Memory, Mood, and Fat B...</td>\n",
       "      <td>Promotes Mental Focus, Memory, Mood, and Fat B...</td>\n",
       "      <td>Promotes Mental Focus, Memory, Mood, and Fat B...</td>\n",
       "      <td>Promotes Mental Focus, Memory, Mood, and Fat B...</td>\n",
       "      <td>Promotes Mental Focus, Memory, Mood, and Fat B...</td>\n",
       "      <td>Promotes Mental Focus, Memory, Mood, and Fat B...</td>\n",
       "      <td>Promotes Mental Focus, Memory, Mood, and Fat B...</td>\n",
       "      <td>Promotes Mental Focus, Memory, Mood, and Fat B...</td>\n",
       "      <td>...</td>\n",
       "      <td>Supports Digestive Health &amp; Food Assimilation!*</td>\n",
       "      <td>Supports Digestive Health &amp; Food Assimilation!*</td>\n",
       "      <td>Supports Digestive Health &amp; Food Assimilation!*</td>\n",
       "      <td>Supports Digestive Health &amp; Food Assimilation!*</td>\n",
       "      <td>Promote Optimal Health!*</td>\n",
       "      <td>Promote Optimal Health!*</td>\n",
       "      <td>Promote Optimal Health!*</td>\n",
       "      <td>Promote Optimal Health!*</td>\n",
       "      <td>Promote Optimal Health!*</td>\n",
       "      <td>Promote Optimal Health!*</td>\n",
       "    </tr>\n",
       "    <tr>\n",
       "      <th>totalVerifiedReviews</th>\n",
       "      <td>19</td>\n",
       "      <td>19</td>\n",
       "      <td>19</td>\n",
       "      <td>19</td>\n",
       "      <td>19</td>\n",
       "      <td>19</td>\n",
       "      <td>19</td>\n",
       "      <td>19</td>\n",
       "      <td>19</td>\n",
       "      <td>19</td>\n",
       "      <td>...</td>\n",
       "      <td>10</td>\n",
       "      <td>10</td>\n",
       "      <td>10</td>\n",
       "      <td>10</td>\n",
       "      <td>6</td>\n",
       "      <td>6</td>\n",
       "      <td>6</td>\n",
       "      <td>6</td>\n",
       "      <td>6</td>\n",
       "      <td>6</td>\n",
       "    </tr>\n",
       "    <tr>\n",
       "      <th>imageLarge</th>\n",
       "      <td>http://store.bbcomcdn.com/images/store/prodima...</td>\n",
       "      <td>http://store.bbcomcdn.com/images/store/prodima...</td>\n",
       "      <td>http://store.bbcomcdn.com/images/store/prodima...</td>\n",
       "      <td>http://store.bbcomcdn.com/images/store/prodima...</td>\n",
       "      <td>http://store.bbcomcdn.com/images/store/prodima...</td>\n",
       "      <td>http://store.bbcomcdn.com/images/store/prodima...</td>\n",
       "      <td>http://store.bbcomcdn.com/images/store/prodima...</td>\n",
       "      <td>http://store.bbcomcdn.com/images/store/prodima...</td>\n",
       "      <td>http://store.bbcomcdn.com/images/store/prodima...</td>\n",
       "      <td>http://store.bbcomcdn.com/images/store/prodima...</td>\n",
       "      <td>...</td>\n",
       "      <td>http://store.bbcomcdn.com/images/store/prodima...</td>\n",
       "      <td>http://store.bbcomcdn.com/images/store/prodima...</td>\n",
       "      <td>http://store.bbcomcdn.com/images/store/prodima...</td>\n",
       "      <td>http://store.bbcomcdn.com/images/store/prodima...</td>\n",
       "      <td>http://store.bbcomcdn.com/images/store/prodima...</td>\n",
       "      <td>http://store.bbcomcdn.com/images/store/prodima...</td>\n",
       "      <td>http://store.bbcomcdn.com/images/store/prodima...</td>\n",
       "      <td>http://store.bbcomcdn.com/images/store/prodima...</td>\n",
       "      <td>http://store.bbcomcdn.com/images/store/prodima...</td>\n",
       "      <td>http://store.bbcomcdn.com/images/store/prodima...</td>\n",
       "    </tr>\n",
       "    <tr>\n",
       "      <th>name</th>\n",
       "      <td>360LEAN</td>\n",
       "      <td>360LEAN</td>\n",
       "      <td>360LEAN</td>\n",
       "      <td>360LEAN</td>\n",
       "      <td>360LEAN</td>\n",
       "      <td>360LEAN</td>\n",
       "      <td>360LEAN</td>\n",
       "      <td>360LEAN</td>\n",
       "      <td>360LEAN</td>\n",
       "      <td>360LEAN</td>\n",
       "      <td>...</td>\n",
       "      <td>Green Supreme Fusion</td>\n",
       "      <td>Green Supreme Fusion</td>\n",
       "      <td>Green Supreme Fusion</td>\n",
       "      <td>Green Supreme Fusion</td>\n",
       "      <td>Ginkgo Biloba</td>\n",
       "      <td>Ginkgo Biloba</td>\n",
       "      <td>Ginkgo Biloba</td>\n",
       "      <td>Ginkgo Biloba</td>\n",
       "      <td>Ginkgo Biloba</td>\n",
       "      <td>Ginkgo Biloba</td>\n",
       "    </tr>\n",
       "    <tr>\n",
       "      <th>imageSmall</th>\n",
       "      <td>http://store.bbcomcdn.com/images/store/prodima...</td>\n",
       "      <td>http://store.bbcomcdn.com/images/store/prodima...</td>\n",
       "      <td>http://store.bbcomcdn.com/images/store/prodima...</td>\n",
       "      <td>http://store.bbcomcdn.com/images/store/prodima...</td>\n",
       "      <td>http://store.bbcomcdn.com/images/store/prodima...</td>\n",
       "      <td>http://store.bbcomcdn.com/images/store/prodima...</td>\n",
       "      <td>http://store.bbcomcdn.com/images/store/prodima...</td>\n",
       "      <td>http://store.bbcomcdn.com/images/store/prodima...</td>\n",
       "      <td>http://store.bbcomcdn.com/images/store/prodima...</td>\n",
       "      <td>http://store.bbcomcdn.com/images/store/prodima...</td>\n",
       "      <td>...</td>\n",
       "      <td>http://store.bbcomcdn.com/images/store/prodima...</td>\n",
       "      <td>http://store.bbcomcdn.com/images/store/prodima...</td>\n",
       "      <td>http://store.bbcomcdn.com/images/store/prodima...</td>\n",
       "      <td>http://store.bbcomcdn.com/images/store/prodima...</td>\n",
       "      <td>http://store.bbcomcdn.com/images/store/prodima...</td>\n",
       "      <td>http://store.bbcomcdn.com/images/store/prodima...</td>\n",
       "      <td>http://store.bbcomcdn.com/images/store/prodima...</td>\n",
       "      <td>http://store.bbcomcdn.com/images/store/prodima...</td>\n",
       "      <td>http://store.bbcomcdn.com/images/store/prodima...</td>\n",
       "      <td>http://store.bbcomcdn.com/images/store/prodima...</td>\n",
       "    </tr>\n",
       "    <tr>\n",
       "      <th>url</th>\n",
       "      <td>http://www.bodybuilding.com/store/360cut/360le...</td>\n",
       "      <td>http://www.bodybuilding.com/store/360cut/360le...</td>\n",
       "      <td>http://www.bodybuilding.com/store/360cut/360le...</td>\n",
       "      <td>http://www.bodybuilding.com/store/360cut/360le...</td>\n",
       "      <td>http://www.bodybuilding.com/store/360cut/360le...</td>\n",
       "      <td>http://www.bodybuilding.com/store/360cut/360le...</td>\n",
       "      <td>http://www.bodybuilding.com/store/360cut/360le...</td>\n",
       "      <td>http://www.bodybuilding.com/store/360cut/360le...</td>\n",
       "      <td>http://www.bodybuilding.com/store/360cut/360le...</td>\n",
       "      <td>http://www.bodybuilding.com/store/360cut/360le...</td>\n",
       "      <td>...</td>\n",
       "      <td>http://www.bodybuilding.com/store/san/green-su...</td>\n",
       "      <td>http://www.bodybuilding.com/store/san/green-su...</td>\n",
       "      <td>http://www.bodybuilding.com/store/san/green-su...</td>\n",
       "      <td>http://www.bodybuilding.com/store/san/green-su...</td>\n",
       "      <td>http://www.bodybuilding.com/store/now/gb.html</td>\n",
       "      <td>http://www.bodybuilding.com/store/now/gb.html</td>\n",
       "      <td>http://www.bodybuilding.com/store/now/gb.html</td>\n",
       "      <td>http://www.bodybuilding.com/store/now/gb.html</td>\n",
       "      <td>http://www.bodybuilding.com/store/now/gb.html</td>\n",
       "      <td>http://www.bodybuilding.com/store/now/gb.html</td>\n",
       "    </tr>\n",
       "    <tr>\n",
       "      <th>brandName</th>\n",
       "      <td>360CUT</td>\n",
       "      <td>360CUT</td>\n",
       "      <td>360CUT</td>\n",
       "      <td>360CUT</td>\n",
       "      <td>360CUT</td>\n",
       "      <td>360CUT</td>\n",
       "      <td>360CUT</td>\n",
       "      <td>360CUT</td>\n",
       "      <td>360CUT</td>\n",
       "      <td>360CUT</td>\n",
       "      <td>...</td>\n",
       "      <td>S.A.N.</td>\n",
       "      <td>S.A.N.</td>\n",
       "      <td>S.A.N.</td>\n",
       "      <td>S.A.N.</td>\n",
       "      <td>NOW</td>\n",
       "      <td>NOW</td>\n",
       "      <td>NOW</td>\n",
       "      <td>NOW</td>\n",
       "      <td>NOW</td>\n",
       "      <td>NOW</td>\n",
       "    </tr>\n",
       "    <tr>\n",
       "      <th>reviewUrl</th>\n",
       "      <td>http://reviews.bodybuilding.com/360CUT/360LEAN/</td>\n",
       "      <td>http://reviews.bodybuilding.com/360CUT/360LEAN/</td>\n",
       "      <td>http://reviews.bodybuilding.com/360CUT/360LEAN/</td>\n",
       "      <td>http://reviews.bodybuilding.com/360CUT/360LEAN/</td>\n",
       "      <td>http://reviews.bodybuilding.com/360CUT/360LEAN/</td>\n",
       "      <td>http://reviews.bodybuilding.com/360CUT/360LEAN/</td>\n",
       "      <td>http://reviews.bodybuilding.com/360CUT/360LEAN/</td>\n",
       "      <td>http://reviews.bodybuilding.com/360CUT/360LEAN/</td>\n",
       "      <td>http://reviews.bodybuilding.com/360CUT/360LEAN/</td>\n",
       "      <td>http://reviews.bodybuilding.com/360CUT/360LEAN/</td>\n",
       "      <td>...</td>\n",
       "      <td>http://reviews.bodybuilding.com/SAN/Green_Supr...</td>\n",
       "      <td>http://reviews.bodybuilding.com/SAN/Green_Supr...</td>\n",
       "      <td>http://reviews.bodybuilding.com/SAN/Green_Supr...</td>\n",
       "      <td>http://reviews.bodybuilding.com/SAN/Green_Supr...</td>\n",
       "      <td>http://reviews.bodybuilding.com/NOW/Ginkgo_Bil...</td>\n",
       "      <td>http://reviews.bodybuilding.com/NOW/Ginkgo_Bil...</td>\n",
       "      <td>http://reviews.bodybuilding.com/NOW/Ginkgo_Bil...</td>\n",
       "      <td>http://reviews.bodybuilding.com/NOW/Ginkgo_Bil...</td>\n",
       "      <td>http://reviews.bodybuilding.com/NOW/Ginkgo_Bil...</td>\n",
       "      <td>http://reviews.bodybuilding.com/NOW/Ginkgo_Bil...</td>\n",
       "    </tr>\n",
       "    <tr>\n",
       "      <th>weight</th>\n",
       "      <td>185.0</td>\n",
       "      <td>143.96</td>\n",
       "      <td>158.0</td>\n",
       "      <td>179.5</td>\n",
       "      <td>230.0</td>\n",
       "      <td>215.0</td>\n",
       "      <td>245.0</td>\n",
       "      <td>None</td>\n",
       "      <td>None</td>\n",
       "      <td>106.5</td>\n",
       "      <td>...</td>\n",
       "      <td>154.0</td>\n",
       "      <td>173.0</td>\n",
       "      <td>200.0</td>\n",
       "      <td>167.0</td>\n",
       "      <td>198.0</td>\n",
       "      <td>165.0</td>\n",
       "      <td>None</td>\n",
       "      <td>180.0</td>\n",
       "      <td>235.0</td>\n",
       "      <td>None</td>\n",
       "    </tr>\n",
       "    <tr>\n",
       "      <th>bodyfat</th>\n",
       "      <td>11.9</td>\n",
       "      <td>16.7</td>\n",
       "      <td>12.3</td>\n",
       "      <td>9.0</td>\n",
       "      <td>12.0</td>\n",
       "      <td>23.0</td>\n",
       "      <td>None</td>\n",
       "      <td>None</td>\n",
       "      <td>None</td>\n",
       "      <td>None</td>\n",
       "      <td>...</td>\n",
       "      <td>29.0</td>\n",
       "      <td>10.0</td>\n",
       "      <td>17.0</td>\n",
       "      <td>11.1</td>\n",
       "      <td>19.0</td>\n",
       "      <td>13.0</td>\n",
       "      <td>None</td>\n",
       "      <td>9.4</td>\n",
       "      <td>16.4</td>\n",
       "      <td>None</td>\n",
       "    </tr>\n",
       "    <tr>\n",
       "      <th>height</th>\n",
       "      <td>74.0</td>\n",
       "      <td>None</td>\n",
       "      <td>68.0</td>\n",
       "      <td>69.0</td>\n",
       "      <td>76.0</td>\n",
       "      <td>None</td>\n",
       "      <td>None</td>\n",
       "      <td>None</td>\n",
       "      <td>None</td>\n",
       "      <td>None</td>\n",
       "      <td>...</td>\n",
       "      <td>64.0</td>\n",
       "      <td>69.0</td>\n",
       "      <td>69.0</td>\n",
       "      <td>71.0</td>\n",
       "      <td>None</td>\n",
       "      <td>70.0</td>\n",
       "      <td>None</td>\n",
       "      <td>70.0</td>\n",
       "      <td>74.0</td>\n",
       "      <td>None</td>\n",
       "    </tr>\n",
       "    <tr>\n",
       "      <th>profilePicPath</th>\n",
       "      <td>http://assets.bodybuilding.com/images/profiled...</td>\n",
       "      <td>http://imagecdn.bodybuilding.com/profile-photo...</td>\n",
       "      <td>http://imagecdn.bodybuilding.com/profile-photo...</td>\n",
       "      <td>http://imagecdn.bodybuilding.com/profile-photo...</td>\n",
       "      <td>http://imagecdn.bodybuilding.com/profile-photo...</td>\n",
       "      <td>http://imagecdn.bodybuilding.com/profile-photo...</td>\n",
       "      <td>http://imagecdn.bodybuilding.com/profile-photo...</td>\n",
       "      <td>http://assets.bodybuilding.com/images/profiled...</td>\n",
       "      <td>http://assets.bodybuilding.com/images/profiled...</td>\n",
       "      <td>http://imagecdn.bodybuilding.com/profile-photo...</td>\n",
       "      <td>...</td>\n",
       "      <td>http://imagecdn.bodybuilding.com/profile-photo...</td>\n",
       "      <td>http://imagecdn.bodybuilding.com/profile-photo...</td>\n",
       "      <td>http://imagecdn.bodybuilding.com/profile-photo...</td>\n",
       "      <td>http://imagecdn.bodybuilding.com/profile-photo...</td>\n",
       "      <td>http://imagecdn.bodybuilding.com/profile-photo...</td>\n",
       "      <td>http://imagecdn.bodybuilding.com/profile-photo...</td>\n",
       "      <td>http://assets.bodybuilding.com/images/profiled...</td>\n",
       "      <td>http://imagecdn.bodybuilding.com/profile-photo...</td>\n",
       "      <td>http://assets.bodybuilding.com/images/profiled...</td>\n",
       "      <td>http://assets.bodybuilding.com/images/profiled...</td>\n",
       "    </tr>\n",
       "    <tr>\n",
       "      <th>ratings</th>\n",
       "      <td>[]</td>\n",
       "      <td>[]</td>\n",
       "      <td>[]</td>\n",
       "      <td>[]</td>\n",
       "      <td>[]</td>\n",
       "      <td>[]</td>\n",
       "      <td>[]</td>\n",
       "      <td>[]</td>\n",
       "      <td>[]</td>\n",
       "      <td>[]</td>\n",
       "      <td>...</td>\n",
       "      <td>[{u'rating': 7.9, u'flavor': u'Natural Green',...</td>\n",
       "      <td>[{u'rating': 7.9, u'flavor': u'Natural Green',...</td>\n",
       "      <td>[{u'rating': 7.9, u'flavor': u'Natural Green',...</td>\n",
       "      <td>[{u'rating': 7.9, u'flavor': u'Natural Green',...</td>\n",
       "      <td>[]</td>\n",
       "      <td>[]</td>\n",
       "      <td>[]</td>\n",
       "      <td>[]</td>\n",
       "      <td>[]</td>\n",
       "      <td>[]</td>\n",
       "    </tr>\n",
       "    <tr>\n",
       "      <th>rating</th>\n",
       "      <td>8</td>\n",
       "      <td>8</td>\n",
       "      <td>9</td>\n",
       "      <td>9</td>\n",
       "      <td>9</td>\n",
       "      <td>9</td>\n",
       "      <td>10</td>\n",
       "      <td>10</td>\n",
       "      <td>10</td>\n",
       "      <td>8</td>\n",
       "      <td>...</td>\n",
       "      <td>10</td>\n",
       "      <td>10</td>\n",
       "      <td>9</td>\n",
       "      <td>9</td>\n",
       "      <td>9</td>\n",
       "      <td>9</td>\n",
       "      <td>8</td>\n",
       "      <td>8</td>\n",
       "      <td>10</td>\n",
       "      <td>10</td>\n",
       "    </tr>\n",
       "  </tbody>\n",
       "</table>\n",
       "<p>37 rows × 67611 columns</p>\n",
       "</div>"
      ],
      "text/plain": [
       "                                                                  0      \\\n",
       "totalItems                                                           18   \n",
       "overallRating                                                         0   \n",
       "helpful                                                               0   \n",
       "totalRatings                                                          0   \n",
       "helpfulTotal                                                          0   \n",
       "username                                                    coryacehall   \n",
       "_id                                            5787b7850cf262c7c0381cc6   \n",
       "title                                                                     \n",
       "text                  I did really like this product. I used it in r...   \n",
       "brandId                                                      cat1150004   \n",
       "modDate                              {u'$numberLong': u'1468512417000'}   \n",
       "date                                 {u'$numberLong': u'1468512417000'}   \n",
       "entityId                                      productreview-prod1620022   \n",
       "updateStatusReason                                          :lifes2good   \n",
       "slug                                                        coryacehall   \n",
       "userId                                                         58617272   \n",
       "productId                                                   prod1620022   \n",
       "imageMedium           http://store.bbcomcdn.com/images/store/prodima...   \n",
       "totalReviews                                                         61   \n",
       "flavorList                                                         None   \n",
       "totalVerifiedBuyers                                                  20   \n",
       "id                                                          prod1620022   \n",
       "verifiedBuyerRating                                                   9   \n",
       "description           Promotes Mental Focus, Memory, Mood, and Fat B...   \n",
       "totalVerifiedReviews                                                 19   \n",
       "imageLarge            http://store.bbcomcdn.com/images/store/prodima...   \n",
       "name                                                            360LEAN   \n",
       "imageSmall            http://store.bbcomcdn.com/images/store/prodima...   \n",
       "url                   http://www.bodybuilding.com/store/360cut/360le...   \n",
       "brandName                                                        360CUT   \n",
       "reviewUrl               http://reviews.bodybuilding.com/360CUT/360LEAN/   \n",
       "weight                                                            185.0   \n",
       "bodyfat                                                            11.9   \n",
       "height                                                             74.0   \n",
       "profilePicPath        http://assets.bodybuilding.com/images/profiled...   \n",
       "ratings                                                              []   \n",
       "rating                                                                8   \n",
       "\n",
       "                                                                  1      \\\n",
       "totalItems                                                           18   \n",
       "overallRating                                                         0   \n",
       "helpful                                                               0   \n",
       "totalRatings                                                          0   \n",
       "helpfulTotal                                                          0   \n",
       "username                                                       dida1984   \n",
       "_id                                            5721f4cf0cf2d7a0bb1d391f   \n",
       "title                                                                     \n",
       "text                  Didn't get a lot of energy like other suppleme...   \n",
       "brandId                                                      cat1150004   \n",
       "modDate                              {u'$numberLong': u'1461843151000'}   \n",
       "date                                 {u'$numberLong': u'1461843151000'}   \n",
       "entityId                                      productreview-prod1620022   \n",
       "updateStatusReason                                                 None   \n",
       "slug                                                           dida1984   \n",
       "userId                                                        120584661   \n",
       "productId                                                   prod1620022   \n",
       "imageMedium           http://store.bbcomcdn.com/images/store/prodima...   \n",
       "totalReviews                                                         61   \n",
       "flavorList                                                         None   \n",
       "totalVerifiedBuyers                                                  20   \n",
       "id                                                          prod1620022   \n",
       "verifiedBuyerRating                                                   9   \n",
       "description           Promotes Mental Focus, Memory, Mood, and Fat B...   \n",
       "totalVerifiedReviews                                                 19   \n",
       "imageLarge            http://store.bbcomcdn.com/images/store/prodima...   \n",
       "name                                                            360LEAN   \n",
       "imageSmall            http://store.bbcomcdn.com/images/store/prodima...   \n",
       "url                   http://www.bodybuilding.com/store/360cut/360le...   \n",
       "brandName                                                        360CUT   \n",
       "reviewUrl               http://reviews.bodybuilding.com/360CUT/360LEAN/   \n",
       "weight                                                           143.96   \n",
       "bodyfat                                                            16.7   \n",
       "height                                                             None   \n",
       "profilePicPath        http://imagecdn.bodybuilding.com/profile-photo...   \n",
       "ratings                                                              []   \n",
       "rating                                                                8   \n",
       "\n",
       "                                                                  2      \\\n",
       "totalItems                                                           18   \n",
       "overallRating                                                         0   \n",
       "helpful                                                               0   \n",
       "totalRatings                                                          0   \n",
       "helpfulTotal                                                          0   \n",
       "username                                                      mango1515   \n",
       "_id                                            5714f2d70cf2a1797c83f8b8   \n",
       "title                                                                     \n",
       "text                  My 1st review on a product. I did 20 capsules ...   \n",
       "brandId                                                      cat1150004   \n",
       "modDate                              {u'$numberLong': u'1460990679000'}   \n",
       "date                                 {u'$numberLong': u'1460990679000'}   \n",
       "entityId                                      productreview-prod1620022   \n",
       "updateStatusReason                                                 None   \n",
       "slug                                                          mango1515   \n",
       "userId                                                         88002491   \n",
       "productId                                                   prod1620022   \n",
       "imageMedium           http://store.bbcomcdn.com/images/store/prodima...   \n",
       "totalReviews                                                         61   \n",
       "flavorList                                                         None   \n",
       "totalVerifiedBuyers                                                  20   \n",
       "id                                                          prod1620022   \n",
       "verifiedBuyerRating                                                   9   \n",
       "description           Promotes Mental Focus, Memory, Mood, and Fat B...   \n",
       "totalVerifiedReviews                                                 19   \n",
       "imageLarge            http://store.bbcomcdn.com/images/store/prodima...   \n",
       "name                                                            360LEAN   \n",
       "imageSmall            http://store.bbcomcdn.com/images/store/prodima...   \n",
       "url                   http://www.bodybuilding.com/store/360cut/360le...   \n",
       "brandName                                                        360CUT   \n",
       "reviewUrl               http://reviews.bodybuilding.com/360CUT/360LEAN/   \n",
       "weight                                                            158.0   \n",
       "bodyfat                                                            12.3   \n",
       "height                                                             68.0   \n",
       "profilePicPath        http://imagecdn.bodybuilding.com/profile-photo...   \n",
       "ratings                                                              []   \n",
       "rating                                                                9   \n",
       "\n",
       "                                                                  3      \\\n",
       "totalItems                                                           18   \n",
       "overallRating                                                         0   \n",
       "helpful                                                               0   \n",
       "totalRatings                                                          0   \n",
       "helpfulTotal                                                          0   \n",
       "username                                                         DCGuru   \n",
       "_id                                            56fad5250cf2ae532b9b5462   \n",
       "title                                                                     \n",
       "text                  I've never really been a fan of thermogenics s...   \n",
       "brandId                                                      cat1150004   \n",
       "modDate                              {u'$numberLong': u'1459279141000'}   \n",
       "date                                 {u'$numberLong': u'1459279141000'}   \n",
       "entityId                                      productreview-prod1620022   \n",
       "updateStatusReason                                                 None   \n",
       "slug                                                             DCGuru   \n",
       "userId                                                         34717082   \n",
       "productId                                                   prod1620022   \n",
       "imageMedium           http://store.bbcomcdn.com/images/store/prodima...   \n",
       "totalReviews                                                         61   \n",
       "flavorList                                                         None   \n",
       "totalVerifiedBuyers                                                  20   \n",
       "id                                                          prod1620022   \n",
       "verifiedBuyerRating                                                   9   \n",
       "description           Promotes Mental Focus, Memory, Mood, and Fat B...   \n",
       "totalVerifiedReviews                                                 19   \n",
       "imageLarge            http://store.bbcomcdn.com/images/store/prodima...   \n",
       "name                                                            360LEAN   \n",
       "imageSmall            http://store.bbcomcdn.com/images/store/prodima...   \n",
       "url                   http://www.bodybuilding.com/store/360cut/360le...   \n",
       "brandName                                                        360CUT   \n",
       "reviewUrl               http://reviews.bodybuilding.com/360CUT/360LEAN/   \n",
       "weight                                                            179.5   \n",
       "bodyfat                                                             9.0   \n",
       "height                                                             69.0   \n",
       "profilePicPath        http://imagecdn.bodybuilding.com/profile-photo...   \n",
       "ratings                                                              []   \n",
       "rating                                                                9   \n",
       "\n",
       "                                                                  4      \\\n",
       "totalItems                                                           18   \n",
       "overallRating                                                         0   \n",
       "helpful                                                               0   \n",
       "totalRatings                                                          0   \n",
       "helpfulTotal                                                          0   \n",
       "username                                                          bcnus   \n",
       "_id                                            56e1857f0cf2857466d1b465   \n",
       "title                                                                     \n",
       "text                                                                      \n",
       "brandId                                                      cat1150004   \n",
       "modDate                              {u'$numberLong': u'1457620351000'}   \n",
       "date                                 {u'$numberLong': u'1457620351000'}   \n",
       "entityId                                      productreview-prod1620022   \n",
       "updateStatusReason                                                 None   \n",
       "slug                                                              bcnus   \n",
       "userId                                                         98886182   \n",
       "productId                                                   prod1620022   \n",
       "imageMedium           http://store.bbcomcdn.com/images/store/prodima...   \n",
       "totalReviews                                                         61   \n",
       "flavorList                                                         None   \n",
       "totalVerifiedBuyers                                                  20   \n",
       "id                                                          prod1620022   \n",
       "verifiedBuyerRating                                                   9   \n",
       "description           Promotes Mental Focus, Memory, Mood, and Fat B...   \n",
       "totalVerifiedReviews                                                 19   \n",
       "imageLarge            http://store.bbcomcdn.com/images/store/prodima...   \n",
       "name                                                            360LEAN   \n",
       "imageSmall            http://store.bbcomcdn.com/images/store/prodima...   \n",
       "url                   http://www.bodybuilding.com/store/360cut/360le...   \n",
       "brandName                                                        360CUT   \n",
       "reviewUrl               http://reviews.bodybuilding.com/360CUT/360LEAN/   \n",
       "weight                                                            230.0   \n",
       "bodyfat                                                            12.0   \n",
       "height                                                             76.0   \n",
       "profilePicPath        http://imagecdn.bodybuilding.com/profile-photo...   \n",
       "ratings                                                              []   \n",
       "rating                                                                9   \n",
       "\n",
       "                                                                  5      \\\n",
       "totalItems                                                           18   \n",
       "overallRating                                                         0   \n",
       "helpful                                                               0   \n",
       "totalRatings                                                          0   \n",
       "helpfulTotal                                                          1   \n",
       "username                                                        aslzr23   \n",
       "_id                                            55a68a7a0cf22545627578e5   \n",
       "title                                                                     \n",
       "text                  I've been taking this product for a couple of ...   \n",
       "brandId                                                      cat1150004   \n",
       "modDate                              {u'$numberLong': u'1436977786000'}   \n",
       "date                                 {u'$numberLong': u'1436977786000'}   \n",
       "entityId                                      productreview-prod1620022   \n",
       "updateStatusReason                                                 None   \n",
       "slug                                                            aslzr23   \n",
       "userId                                                         42621942   \n",
       "productId                                                   prod1620022   \n",
       "imageMedium           http://store.bbcomcdn.com/images/store/prodima...   \n",
       "totalReviews                                                         61   \n",
       "flavorList                                                         None   \n",
       "totalVerifiedBuyers                                                  20   \n",
       "id                                                          prod1620022   \n",
       "verifiedBuyerRating                                                   9   \n",
       "description           Promotes Mental Focus, Memory, Mood, and Fat B...   \n",
       "totalVerifiedReviews                                                 19   \n",
       "imageLarge            http://store.bbcomcdn.com/images/store/prodima...   \n",
       "name                                                            360LEAN   \n",
       "imageSmall            http://store.bbcomcdn.com/images/store/prodima...   \n",
       "url                   http://www.bodybuilding.com/store/360cut/360le...   \n",
       "brandName                                                        360CUT   \n",
       "reviewUrl               http://reviews.bodybuilding.com/360CUT/360LEAN/   \n",
       "weight                                                            215.0   \n",
       "bodyfat                                                            23.0   \n",
       "height                                                             None   \n",
       "profilePicPath        http://imagecdn.bodybuilding.com/profile-photo...   \n",
       "ratings                                                              []   \n",
       "rating                                                                9   \n",
       "\n",
       "                                                                  6      \\\n",
       "totalItems                                                           18   \n",
       "overallRating                                                         0   \n",
       "helpful                                                               0   \n",
       "totalRatings                                                          0   \n",
       "helpfulTotal                                                          0   \n",
       "username                                                      Rafaelg90   \n",
       "_id                                            5579f6b60cf281d23a605392   \n",
       "title                                                                     \n",
       "text                  This product really worked for me gets me up a...   \n",
       "brandId                                                      cat1150004   \n",
       "modDate                              {u'$numberLong': u'1434056374000'}   \n",
       "date                                 {u'$numberLong': u'1434056374000'}   \n",
       "entityId                                      productreview-prod1620022   \n",
       "updateStatusReason                                                 None   \n",
       "slug                                                          Rafaelg90   \n",
       "userId                                                         87306721   \n",
       "productId                                                   prod1620022   \n",
       "imageMedium           http://store.bbcomcdn.com/images/store/prodima...   \n",
       "totalReviews                                                         61   \n",
       "flavorList                                                         None   \n",
       "totalVerifiedBuyers                                                  20   \n",
       "id                                                          prod1620022   \n",
       "verifiedBuyerRating                                                   9   \n",
       "description           Promotes Mental Focus, Memory, Mood, and Fat B...   \n",
       "totalVerifiedReviews                                                 19   \n",
       "imageLarge            http://store.bbcomcdn.com/images/store/prodima...   \n",
       "name                                                            360LEAN   \n",
       "imageSmall            http://store.bbcomcdn.com/images/store/prodima...   \n",
       "url                   http://www.bodybuilding.com/store/360cut/360le...   \n",
       "brandName                                                        360CUT   \n",
       "reviewUrl               http://reviews.bodybuilding.com/360CUT/360LEAN/   \n",
       "weight                                                            245.0   \n",
       "bodyfat                                                            None   \n",
       "height                                                             None   \n",
       "profilePicPath        http://imagecdn.bodybuilding.com/profile-photo...   \n",
       "ratings                                                              []   \n",
       "rating                                                               10   \n",
       "\n",
       "                                                                  7      \\\n",
       "totalItems                                                           18   \n",
       "overallRating                                                         0   \n",
       "helpful                                                               1   \n",
       "totalRatings                                                          0   \n",
       "helpfulTotal                                                          2   \n",
       "username                                                   lizziehessxo   \n",
       "_id                                            54ff4f360cf23daccb3ce189   \n",
       "title                                                                     \n",
       "text                  I have tried many fat burners before, but have...   \n",
       "brandId                                                      cat1150004   \n",
       "modDate                              {u'$numberLong': u'1434056177000'}   \n",
       "date                                 {u'$numberLong': u'1434056177000'}   \n",
       "entityId                                      productreview-prod1620022   \n",
       "updateStatusReason                                                 None   \n",
       "slug                                                       lizziehessxo   \n",
       "userId                                                        101296512   \n",
       "productId                                                   prod1620022   \n",
       "imageMedium           http://store.bbcomcdn.com/images/store/prodima...   \n",
       "totalReviews                                                         61   \n",
       "flavorList                                                         None   \n",
       "totalVerifiedBuyers                                                  20   \n",
       "id                                                          prod1620022   \n",
       "verifiedBuyerRating                                                   9   \n",
       "description           Promotes Mental Focus, Memory, Mood, and Fat B...   \n",
       "totalVerifiedReviews                                                 19   \n",
       "imageLarge            http://store.bbcomcdn.com/images/store/prodima...   \n",
       "name                                                            360LEAN   \n",
       "imageSmall            http://store.bbcomcdn.com/images/store/prodima...   \n",
       "url                   http://www.bodybuilding.com/store/360cut/360le...   \n",
       "brandName                                                        360CUT   \n",
       "reviewUrl               http://reviews.bodybuilding.com/360CUT/360LEAN/   \n",
       "weight                                                             None   \n",
       "bodyfat                                                            None   \n",
       "height                                                             None   \n",
       "profilePicPath        http://assets.bodybuilding.com/images/profiled...   \n",
       "ratings                                                              []   \n",
       "rating                                                               10   \n",
       "\n",
       "                                                                  8      \\\n",
       "totalItems                                                           18   \n",
       "overallRating                                                         0   \n",
       "helpful                                                               0   \n",
       "totalRatings                                                          0   \n",
       "helpfulTotal                                                          0   \n",
       "username                                                    desmichelle   \n",
       "_id                                            555cd9600cf26d3993e1e227   \n",
       "title                                                                     \n",
       "text                  i have tried four other companies and this is ...   \n",
       "brandId                                                      cat1150004   \n",
       "modDate                              {u'$numberLong': u'1432148320000'}   \n",
       "date                                 {u'$numberLong': u'1432148320000'}   \n",
       "entityId                                      productreview-prod1620022   \n",
       "updateStatusReason                                                 None   \n",
       "slug                                                        desmichelle   \n",
       "userId                                                        108628242   \n",
       "productId                                                   prod1620022   \n",
       "imageMedium           http://store.bbcomcdn.com/images/store/prodima...   \n",
       "totalReviews                                                         61   \n",
       "flavorList                                                         None   \n",
       "totalVerifiedBuyers                                                  20   \n",
       "id                                                          prod1620022   \n",
       "verifiedBuyerRating                                                   9   \n",
       "description           Promotes Mental Focus, Memory, Mood, and Fat B...   \n",
       "totalVerifiedReviews                                                 19   \n",
       "imageLarge            http://store.bbcomcdn.com/images/store/prodima...   \n",
       "name                                                            360LEAN   \n",
       "imageSmall            http://store.bbcomcdn.com/images/store/prodima...   \n",
       "url                   http://www.bodybuilding.com/store/360cut/360le...   \n",
       "brandName                                                        360CUT   \n",
       "reviewUrl               http://reviews.bodybuilding.com/360CUT/360LEAN/   \n",
       "weight                                                             None   \n",
       "bodyfat                                                            None   \n",
       "height                                                             None   \n",
       "profilePicPath        http://assets.bodybuilding.com/images/profiled...   \n",
       "ratings                                                              []   \n",
       "rating                                                               10   \n",
       "\n",
       "                                                                  9      \\\n",
       "totalItems                                                           18   \n",
       "overallRating                                                         0   \n",
       "helpful                                                               0   \n",
       "totalRatings                                                          0   \n",
       "helpfulTotal                                                          0   \n",
       "username                                                     nmontelli8   \n",
       "_id                                            555a4a1a0cf29545352ebb23   \n",
       "title                                                                     \n",
       "text                  Hands down one of the best thermos I've used. ...   \n",
       "brandId                                                      cat1150004   \n",
       "modDate                              {u'$numberLong': u'1431980570000'}   \n",
       "date                                 {u'$numberLong': u'1431980570000'}   \n",
       "entityId                                      productreview-prod1620022   \n",
       "updateStatusReason                                                 None   \n",
       "slug                                                         nmontelli8   \n",
       "userId                                                         87861531   \n",
       "productId                                                   prod1620022   \n",
       "imageMedium           http://store.bbcomcdn.com/images/store/prodima...   \n",
       "totalReviews                                                         61   \n",
       "flavorList                                                         None   \n",
       "totalVerifiedBuyers                                                  20   \n",
       "id                                                          prod1620022   \n",
       "verifiedBuyerRating                                                   9   \n",
       "description           Promotes Mental Focus, Memory, Mood, and Fat B...   \n",
       "totalVerifiedReviews                                                 19   \n",
       "imageLarge            http://store.bbcomcdn.com/images/store/prodima...   \n",
       "name                                                            360LEAN   \n",
       "imageSmall            http://store.bbcomcdn.com/images/store/prodima...   \n",
       "url                   http://www.bodybuilding.com/store/360cut/360le...   \n",
       "brandName                                                        360CUT   \n",
       "reviewUrl               http://reviews.bodybuilding.com/360CUT/360LEAN/   \n",
       "weight                                                            106.5   \n",
       "bodyfat                                                            None   \n",
       "height                                                             None   \n",
       "profilePicPath        http://imagecdn.bodybuilding.com/profile-photo...   \n",
       "ratings                                                              []   \n",
       "rating                                                                8   \n",
       "\n",
       "                                            ...                          \\\n",
       "totalItems                                  ...                           \n",
       "overallRating                               ...                           \n",
       "helpful                                     ...                           \n",
       "totalRatings                                ...                           \n",
       "helpfulTotal                                ...                           \n",
       "username                                    ...                           \n",
       "_id                                         ...                           \n",
       "title                                       ...                           \n",
       "text                                        ...                           \n",
       "brandId                                     ...                           \n",
       "modDate                                     ...                           \n",
       "date                                        ...                           \n",
       "entityId                                    ...                           \n",
       "updateStatusReason                          ...                           \n",
       "slug                                        ...                           \n",
       "userId                                      ...                           \n",
       "productId                                   ...                           \n",
       "imageMedium                                 ...                           \n",
       "totalReviews                                ...                           \n",
       "flavorList                                  ...                           \n",
       "totalVerifiedBuyers                         ...                           \n",
       "id                                          ...                           \n",
       "verifiedBuyerRating                         ...                           \n",
       "description                                 ...                           \n",
       "totalVerifiedReviews                        ...                           \n",
       "imageLarge                                  ...                           \n",
       "name                                        ...                           \n",
       "imageSmall                                  ...                           \n",
       "url                                         ...                           \n",
       "brandName                                   ...                           \n",
       "reviewUrl                                   ...                           \n",
       "weight                                      ...                           \n",
       "bodyfat                                     ...                           \n",
       "height                                      ...                           \n",
       "profilePicPath                              ...                           \n",
       "ratings                                     ...                           \n",
       "rating                                      ...                           \n",
       "\n",
       "                                                                  67601  \\\n",
       "totalItems                                                           10   \n",
       "overallRating                                                       7.9   \n",
       "helpful                                                               0   \n",
       "totalRatings                                                          1   \n",
       "helpfulTotal                                                          0   \n",
       "username                                                       fitbabe6   \n",
       "_id                                            5421d6740cf206d284d4d150   \n",
       "title                                                                     \n",
       "text                  I love this product! The taste is quite good a...   \n",
       "brandId                                                    BRAND_S_A_N_   \n",
       "modDate                              {u'$numberLong': u'1411503732000'}   \n",
       "date                                 {u'$numberLong': u'1411503732000'}   \n",
       "entityId                                       productreview-prod680032   \n",
       "updateStatusReason                                                 None   \n",
       "slug                                                           fitbabe6   \n",
       "userId                                                           392653   \n",
       "productId                                                    prod680032   \n",
       "imageMedium           http://store.bbcomcdn.com/images/store/prodima...   \n",
       "totalReviews                                                         20   \n",
       "flavorList                                              [Natural Green]   \n",
       "totalVerifiedBuyers                                                  10   \n",
       "id                                                           prod680032   \n",
       "verifiedBuyerRating                                                 9.4   \n",
       "description             Supports Digestive Health & Food Assimilation!*   \n",
       "totalVerifiedReviews                                                 10   \n",
       "imageLarge            http://store.bbcomcdn.com/images/store/prodima...   \n",
       "name                                               Green Supreme Fusion   \n",
       "imageSmall            http://store.bbcomcdn.com/images/store/prodima...   \n",
       "url                   http://www.bodybuilding.com/store/san/green-su...   \n",
       "brandName                                                        S.A.N.   \n",
       "reviewUrl             http://reviews.bodybuilding.com/SAN/Green_Supr...   \n",
       "weight                                                            154.0   \n",
       "bodyfat                                                            29.0   \n",
       "height                                                             64.0   \n",
       "profilePicPath        http://imagecdn.bodybuilding.com/profile-photo...   \n",
       "ratings               [{u'rating': 7.9, u'flavor': u'Natural Green',...   \n",
       "rating                                                               10   \n",
       "\n",
       "                                                                  67602  \\\n",
       "totalItems                                                           10   \n",
       "overallRating                                                       7.9   \n",
       "helpful                                                               0   \n",
       "totalRatings                                                          1   \n",
       "helpfulTotal                                                          0   \n",
       "username                                                   NickJames206   \n",
       "_id                                            53ee6b320cf2b899939e6cc8   \n",
       "title                                                                     \n",
       "text                  This is the first time using a green product. ...   \n",
       "brandId                                                    BRAND_S_A_N_   \n",
       "modDate                              {u'$numberLong': u'1408133938000'}   \n",
       "date                                 {u'$numberLong': u'1408133938000'}   \n",
       "entityId                                       productreview-prod680032   \n",
       "updateStatusReason                                                 None   \n",
       "slug                                                       NickJames206   \n",
       "userId                                                         67710702   \n",
       "productId                                                    prod680032   \n",
       "imageMedium           http://store.bbcomcdn.com/images/store/prodima...   \n",
       "totalReviews                                                         20   \n",
       "flavorList                                              [Natural Green]   \n",
       "totalVerifiedBuyers                                                  10   \n",
       "id                                                           prod680032   \n",
       "verifiedBuyerRating                                                 9.4   \n",
       "description             Supports Digestive Health & Food Assimilation!*   \n",
       "totalVerifiedReviews                                                 10   \n",
       "imageLarge            http://store.bbcomcdn.com/images/store/prodima...   \n",
       "name                                               Green Supreme Fusion   \n",
       "imageSmall            http://store.bbcomcdn.com/images/store/prodima...   \n",
       "url                   http://www.bodybuilding.com/store/san/green-su...   \n",
       "brandName                                                        S.A.N.   \n",
       "reviewUrl             http://reviews.bodybuilding.com/SAN/Green_Supr...   \n",
       "weight                                                            173.0   \n",
       "bodyfat                                                            10.0   \n",
       "height                                                             69.0   \n",
       "profilePicPath        http://imagecdn.bodybuilding.com/profile-photo...   \n",
       "ratings               [{u'rating': 7.9, u'flavor': u'Natural Green',...   \n",
       "rating                                                               10   \n",
       "\n",
       "                                                                  67603  \\\n",
       "totalItems                                                           10   \n",
       "overallRating                                                       7.9   \n",
       "helpful                                                               0   \n",
       "totalRatings                                                          1   \n",
       "helpfulTotal                                                          0   \n",
       "username                                                   nebraskaheat   \n",
       "_id                                            51a7c7720cf23b204302c5fd   \n",
       "title                                                              None   \n",
       "text                  A great profile in an easily drinkable greens ...   \n",
       "brandId                                                    BRAND_S_A_N_   \n",
       "modDate                              {u'$numberLong': u'1376084542000'}   \n",
       "date                                 {u'$numberLong': u'1354654769000'}   \n",
       "entityId                                       productreview-prod680032   \n",
       "updateStatusReason                                                 None   \n",
       "slug                                                       nebraskaheat   \n",
       "userId                                                         57064062   \n",
       "productId                                                    prod680032   \n",
       "imageMedium           http://store.bbcomcdn.com/images/store/prodima...   \n",
       "totalReviews                                                         20   \n",
       "flavorList                                              [Natural Green]   \n",
       "totalVerifiedBuyers                                                  10   \n",
       "id                                                           prod680032   \n",
       "verifiedBuyerRating                                                 9.4   \n",
       "description             Supports Digestive Health & Food Assimilation!*   \n",
       "totalVerifiedReviews                                                 10   \n",
       "imageLarge            http://store.bbcomcdn.com/images/store/prodima...   \n",
       "name                                               Green Supreme Fusion   \n",
       "imageSmall            http://store.bbcomcdn.com/images/store/prodima...   \n",
       "url                   http://www.bodybuilding.com/store/san/green-su...   \n",
       "brandName                                                        S.A.N.   \n",
       "reviewUrl             http://reviews.bodybuilding.com/SAN/Green_Supr...   \n",
       "weight                                                            200.0   \n",
       "bodyfat                                                            17.0   \n",
       "height                                                             69.0   \n",
       "profilePicPath        http://imagecdn.bodybuilding.com/profile-photo...   \n",
       "ratings               [{u'rating': 7.9, u'flavor': u'Natural Green',...   \n",
       "rating                                                                9   \n",
       "\n",
       "                                                                  67604  \\\n",
       "totalItems                                                           10   \n",
       "overallRating                                                       7.9   \n",
       "helpful                                                               0   \n",
       "totalRatings                                                          1   \n",
       "helpfulTotal                                                          0   \n",
       "username                                                      cmdavis11   \n",
       "_id                                            51a7c7730cf23b2043033dda   \n",
       "title                                                              None   \n",
       "text                  This blows Oximega Greens out of the water in ...   \n",
       "brandId                                                    BRAND_S_A_N_   \n",
       "modDate                              {u'$numberLong': u'1376086379000'}   \n",
       "date                                 {u'$numberLong': u'1348527318000'}   \n",
       "entityId                                       productreview-prod680032   \n",
       "updateStatusReason                                                 None   \n",
       "slug                                                          cmdavis11   \n",
       "userId                                                         43581152   \n",
       "productId                                                    prod680032   \n",
       "imageMedium           http://store.bbcomcdn.com/images/store/prodima...   \n",
       "totalReviews                                                         20   \n",
       "flavorList                                              [Natural Green]   \n",
       "totalVerifiedBuyers                                                  10   \n",
       "id                                                           prod680032   \n",
       "verifiedBuyerRating                                                 9.4   \n",
       "description             Supports Digestive Health & Food Assimilation!*   \n",
       "totalVerifiedReviews                                                 10   \n",
       "imageLarge            http://store.bbcomcdn.com/images/store/prodima...   \n",
       "name                                               Green Supreme Fusion   \n",
       "imageSmall            http://store.bbcomcdn.com/images/store/prodima...   \n",
       "url                   http://www.bodybuilding.com/store/san/green-su...   \n",
       "brandName                                                        S.A.N.   \n",
       "reviewUrl             http://reviews.bodybuilding.com/SAN/Green_Supr...   \n",
       "weight                                                            167.0   \n",
       "bodyfat                                                            11.1   \n",
       "height                                                             71.0   \n",
       "profilePicPath        http://imagecdn.bodybuilding.com/profile-photo...   \n",
       "ratings               [{u'rating': 7.9, u'flavor': u'Natural Green',...   \n",
       "rating                                                                9   \n",
       "\n",
       "                                                                  67605  \\\n",
       "totalItems                                                            6   \n",
       "overallRating                                                         0   \n",
       "helpful                                                               0   \n",
       "totalRatings                                                          0   \n",
       "helpfulTotal                                                          1   \n",
       "username                                                      rrcarroll   \n",
       "_id                                            56f7e9660cf2e2d6c1d3d29e   \n",
       "title                                                                     \n",
       "text                  Does what it is suppose to do without any fluff.    \n",
       "brandId                                                       BRAND_NOW   \n",
       "modDate                              {u'$numberLong': u'1459087718000'}   \n",
       "date                                 {u'$numberLong': u'1459087718000'}   \n",
       "entityId                                            productreview-23649   \n",
       "updateStatusReason                                                 None   \n",
       "slug                                                          rrcarroll   \n",
       "userId                                                        103018372   \n",
       "productId                                                         23649   \n",
       "imageMedium           http://store.bbcomcdn.com/images/store/prodima...   \n",
       "totalReviews                                                          8   \n",
       "flavorList                                                         None   \n",
       "totalVerifiedBuyers                                                   6   \n",
       "id                                                                23649   \n",
       "verifiedBuyerRating                                                   9   \n",
       "description                                    Promote Optimal Health!*   \n",
       "totalVerifiedReviews                                                  6   \n",
       "imageLarge            http://store.bbcomcdn.com/images/store/prodima...   \n",
       "name                                                      Ginkgo Biloba   \n",
       "imageSmall            http://store.bbcomcdn.com/images/store/prodima...   \n",
       "url                       http://www.bodybuilding.com/store/now/gb.html   \n",
       "brandName                                                           NOW   \n",
       "reviewUrl             http://reviews.bodybuilding.com/NOW/Ginkgo_Bil...   \n",
       "weight                                                            198.0   \n",
       "bodyfat                                                            19.0   \n",
       "height                                                             None   \n",
       "profilePicPath        http://imagecdn.bodybuilding.com/profile-photo...   \n",
       "ratings                                                              []   \n",
       "rating                                                                9   \n",
       "\n",
       "                                                                  67606  \\\n",
       "totalItems                                                            6   \n",
       "overallRating                                                         0   \n",
       "helpful                                                               0   \n",
       "totalRatings                                                          0   \n",
       "helpfulTotal                                                          0   \n",
       "username                                                     musartnova   \n",
       "_id                                            567d6a330cf215707c6aca98   \n",
       "title                                                                     \n",
       "text                                                               A+++   \n",
       "brandId                                                       BRAND_NOW   \n",
       "modDate                              {u'$numberLong': u'1451059763000'}   \n",
       "date                                 {u'$numberLong': u'1451059763000'}   \n",
       "entityId                                            productreview-23649   \n",
       "updateStatusReason                                                 None   \n",
       "slug                                                         musartnova   \n",
       "userId                                                         32410682   \n",
       "productId                                                         23649   \n",
       "imageMedium           http://store.bbcomcdn.com/images/store/prodima...   \n",
       "totalReviews                                                          8   \n",
       "flavorList                                                         None   \n",
       "totalVerifiedBuyers                                                   6   \n",
       "id                                                                23649   \n",
       "verifiedBuyerRating                                                   9   \n",
       "description                                    Promote Optimal Health!*   \n",
       "totalVerifiedReviews                                                  6   \n",
       "imageLarge            http://store.bbcomcdn.com/images/store/prodima...   \n",
       "name                                                      Ginkgo Biloba   \n",
       "imageSmall            http://store.bbcomcdn.com/images/store/prodima...   \n",
       "url                       http://www.bodybuilding.com/store/now/gb.html   \n",
       "brandName                                                           NOW   \n",
       "reviewUrl             http://reviews.bodybuilding.com/NOW/Ginkgo_Bil...   \n",
       "weight                                                            165.0   \n",
       "bodyfat                                                            13.0   \n",
       "height                                                             70.0   \n",
       "profilePicPath        http://imagecdn.bodybuilding.com/profile-photo...   \n",
       "ratings                                                              []   \n",
       "rating                                                                9   \n",
       "\n",
       "                                                                  67607  \\\n",
       "totalItems                                                            6   \n",
       "overallRating                                                         0   \n",
       "helpful                                                               0   \n",
       "totalRatings                                                          0   \n",
       "helpfulTotal                                                          0   \n",
       "username                                                           TBug   \n",
       "_id                                            52f47f8b0cf212e540f28752   \n",
       "title                                                                     \n",
       "text                  Your mind awareness is a little sharper and fo...   \n",
       "brandId                                                       BRAND_NOW   \n",
       "modDate                              {u'$numberLong': u'1391755147000'}   \n",
       "date                                 {u'$numberLong': u'1391755147000'}   \n",
       "entityId                                            productreview-23649   \n",
       "updateStatusReason                                                 None   \n",
       "slug                                                               TBug   \n",
       "userId                                                         79101492   \n",
       "productId                                                         23649   \n",
       "imageMedium           http://store.bbcomcdn.com/images/store/prodima...   \n",
       "totalReviews                                                          8   \n",
       "flavorList                                                         None   \n",
       "totalVerifiedBuyers                                                   6   \n",
       "id                                                                23649   \n",
       "verifiedBuyerRating                                                   9   \n",
       "description                                    Promote Optimal Health!*   \n",
       "totalVerifiedReviews                                                  6   \n",
       "imageLarge            http://store.bbcomcdn.com/images/store/prodima...   \n",
       "name                                                      Ginkgo Biloba   \n",
       "imageSmall            http://store.bbcomcdn.com/images/store/prodima...   \n",
       "url                       http://www.bodybuilding.com/store/now/gb.html   \n",
       "brandName                                                           NOW   \n",
       "reviewUrl             http://reviews.bodybuilding.com/NOW/Ginkgo_Bil...   \n",
       "weight                                                             None   \n",
       "bodyfat                                                            None   \n",
       "height                                                             None   \n",
       "profilePicPath        http://assets.bodybuilding.com/images/profiled...   \n",
       "ratings                                                              []   \n",
       "rating                                                                8   \n",
       "\n",
       "                                                                  67608  \\\n",
       "totalItems                                                            6   \n",
       "overallRating                                                         0   \n",
       "helpful                                                               0   \n",
       "totalRatings                                                          0   \n",
       "helpfulTotal                                                          0   \n",
       "username                                                          jonav   \n",
       "_id                                            51fa807c0cf27692f076eb86   \n",
       "title                                                                     \n",
       "text                                                Its a great product   \n",
       "brandId                                                       BRAND_NOW   \n",
       "modDate                              {u'$numberLong': u'1375371388000'}   \n",
       "date                                 {u'$numberLong': u'1375371388000'}   \n",
       "entityId                                            productreview-23649   \n",
       "updateStatusReason                                                 None   \n",
       "slug                                                              jonav   \n",
       "userId                                                         63134382   \n",
       "productId                                                         23649   \n",
       "imageMedium           http://store.bbcomcdn.com/images/store/prodima...   \n",
       "totalReviews                                                          8   \n",
       "flavorList                                                         None   \n",
       "totalVerifiedBuyers                                                   6   \n",
       "id                                                                23649   \n",
       "verifiedBuyerRating                                                   9   \n",
       "description                                    Promote Optimal Health!*   \n",
       "totalVerifiedReviews                                                  6   \n",
       "imageLarge            http://store.bbcomcdn.com/images/store/prodima...   \n",
       "name                                                      Ginkgo Biloba   \n",
       "imageSmall            http://store.bbcomcdn.com/images/store/prodima...   \n",
       "url                       http://www.bodybuilding.com/store/now/gb.html   \n",
       "brandName                                                           NOW   \n",
       "reviewUrl             http://reviews.bodybuilding.com/NOW/Ginkgo_Bil...   \n",
       "weight                                                            180.0   \n",
       "bodyfat                                                             9.4   \n",
       "height                                                             70.0   \n",
       "profilePicPath        http://imagecdn.bodybuilding.com/profile-photo...   \n",
       "ratings                                                              []   \n",
       "rating                                                                8   \n",
       "\n",
       "                                                                  67609  \\\n",
       "totalItems                                                            6   \n",
       "overallRating                                                         0   \n",
       "helpful                                                               3   \n",
       "totalRatings                                                          0   \n",
       "helpfulTotal                                                          5   \n",
       "username                                                        Senad54   \n",
       "_id                                            51f9de820cf25611125e7b1e   \n",
       "title                                                                     \n",
       "text                  I like this product. Before taking it, I could...   \n",
       "brandId                                                       BRAND_NOW   \n",
       "modDate                              {u'$numberLong': u'1375329922000'}   \n",
       "date                                 {u'$numberLong': u'1375329922000'}   \n",
       "entityId                                            productreview-23649   \n",
       "updateStatusReason                                                 None   \n",
       "slug                                                            Senad54   \n",
       "userId                                                         55870402   \n",
       "productId                                                         23649   \n",
       "imageMedium           http://store.bbcomcdn.com/images/store/prodima...   \n",
       "totalReviews                                                          8   \n",
       "flavorList                                                         None   \n",
       "totalVerifiedBuyers                                                   6   \n",
       "id                                                                23649   \n",
       "verifiedBuyerRating                                                   9   \n",
       "description                                    Promote Optimal Health!*   \n",
       "totalVerifiedReviews                                                  6   \n",
       "imageLarge            http://store.bbcomcdn.com/images/store/prodima...   \n",
       "name                                                      Ginkgo Biloba   \n",
       "imageSmall            http://store.bbcomcdn.com/images/store/prodima...   \n",
       "url                       http://www.bodybuilding.com/store/now/gb.html   \n",
       "brandName                                                           NOW   \n",
       "reviewUrl             http://reviews.bodybuilding.com/NOW/Ginkgo_Bil...   \n",
       "weight                                                            235.0   \n",
       "bodyfat                                                            16.4   \n",
       "height                                                             74.0   \n",
       "profilePicPath        http://assets.bodybuilding.com/images/profiled...   \n",
       "ratings                                                              []   \n",
       "rating                                                               10   \n",
       "\n",
       "                                                                  67610  \n",
       "totalItems                                                            6  \n",
       "overallRating                                                         0  \n",
       "helpful                                                               0  \n",
       "totalRatings                                                          0  \n",
       "helpfulTotal                                                          3  \n",
       "username                                                  ecrivain75000  \n",
       "_id                                            51a7c7740cf23b20430392d7  \n",
       "title                                                              None  \n",
       "text                                                                     \n",
       "brandId                                                       BRAND_NOW  \n",
       "modDate                              {u'$numberLong': u'1376087727000'}  \n",
       "date                                 {u'$numberLong': u'1340283671000'}  \n",
       "entityId                                            productreview-23649  \n",
       "updateStatusReason                                                 None  \n",
       "slug                                                      ecrivain75000  \n",
       "userId                                                         49004332  \n",
       "productId                                                         23649  \n",
       "imageMedium           http://store.bbcomcdn.com/images/store/prodima...  \n",
       "totalReviews                                                          8  \n",
       "flavorList                                                         None  \n",
       "totalVerifiedBuyers                                                   6  \n",
       "id                                                                23649  \n",
       "verifiedBuyerRating                                                   9  \n",
       "description                                    Promote Optimal Health!*  \n",
       "totalVerifiedReviews                                                  6  \n",
       "imageLarge            http://store.bbcomcdn.com/images/store/prodima...  \n",
       "name                                                      Ginkgo Biloba  \n",
       "imageSmall            http://store.bbcomcdn.com/images/store/prodima...  \n",
       "url                       http://www.bodybuilding.com/store/now/gb.html  \n",
       "brandName                                                           NOW  \n",
       "reviewUrl             http://reviews.bodybuilding.com/NOW/Ginkgo_Bil...  \n",
       "weight                                                             None  \n",
       "bodyfat                                                            None  \n",
       "height                                                             None  \n",
       "profilePicPath        http://assets.bodybuilding.com/images/profiled...  \n",
       "ratings                                                              []  \n",
       "rating                                                               10  \n",
       "\n",
       "[37 rows x 67611 columns]"
      ]
     },
     "execution_count": 213,
     "metadata": {},
     "output_type": "execute_result"
    }
   ],
   "source": [
    "data.df.T"
   ]
  },
  {
   "cell_type": "code",
   "execution_count": null,
   "metadata": {
    "collapsed": true
   },
   "outputs": [],
   "source": [
    "np. == 5"
   ]
  },
  {
   "cell_type": "code",
   "execution_count": 182,
   "metadata": {
    "collapsed": false
   },
   "outputs": [],
   "source": [
    "mat = np.zeros((len(users), len(products)))"
   ]
  },
  {
   "cell_type": "code",
   "execution_count": 210,
   "metadata": {
    "collapsed": false,
    "scrolled": true
   },
   "outputs": [
    {
     "name": "stdout",
     "output_type": "stream",
     "text": [
      "(array([0]),) (array([0]),)\n",
      "(array([1]),) (array([0]),)\n",
      "(array([2]),) (array([0]),)\n"
     ]
    }
   ],
   "source": [
    "for i in xrange(3):#ratrix.shape[0]):\n",
    "    row = np.where(users == ratrix.T[i][0])\n",
    "    col = np.where(products ==(ratrix.T[i][1]))\n",
    "    print row, col\n",
    "    #     mat = [row][col]ratrix.T[i][2]"
   ]
  },
  {
   "cell_type": "code",
   "execution_count": 204,
   "metadata": {
    "collapsed": false,
    "scrolled": true
   },
   "outputs": [
    {
     "data": {
      "text/plain": [
       "[(array([0]),)]"
      ]
     },
     "execution_count": 204,
     "metadata": {},
     "output_type": "execute_result"
    }
   ],
   "source": [
    "[np.where(products ==(ratrix.T[15][1]))]"
   ]
  },
  {
   "cell_type": "code",
   "execution_count": 196,
   "metadata": {
    "collapsed": false,
    "scrolled": true
   },
   "outputs": [
    {
     "data": {
      "text/plain": [
       "userId          58617272\n",
       "productId    prod1620022\n",
       "rating                 8\n",
       "Name: 0, dtype: object"
      ]
     },
     "execution_count": 196,
     "metadata": {},
     "output_type": "execute_result"
    }
   ],
   "source": [
    "ratrix.T[0]"
   ]
  },
  {
   "cell_type": "code",
   "execution_count": 197,
   "metadata": {
    "collapsed": false
   },
   "outputs": [
    {
     "data": {
      "text/plain": [
       "(array([    1,   808,  1257,  9922, 26855, 32422, 32957, 33822, 41316,\n",
       "        41555, 43997, 46289, 46563, 47889, 54927, 56396, 62417, 62830,\n",
       "        63471, 67326]),)"
      ]
     },
     "execution_count": 197,
     "metadata": {},
     "output_type": "execute_result"
    }
   ],
   "source": [
    "np.where(ratrix.userId == ratrix.T[1][0])"
   ]
  },
  {
   "cell_type": "code",
   "execution_count": null,
   "metadata": {
    "collapsed": true
   },
   "outputs": [],
   "source": []
  },
  {
   "cell_type": "code",
   "execution_count": null,
   "metadata": {
    "collapsed": true
   },
   "outputs": [],
   "source": []
  },
  {
   "cell_type": "code",
   "execution_count": 186,
   "metadata": {
    "collapsed": false
   },
   "outputs": [],
   "source": [
    "practice= np.array([[1,2,3],[4,5,6],[7,8,9]])"
   ]
  },
  {
   "cell_type": "code",
   "execution_count": 187,
   "metadata": {
    "collapsed": false
   },
   "outputs": [
    {
     "data": {
      "text/plain": [
       "array([[1, 2, 3],\n",
       "       [4, 5, 6],\n",
       "       [7, 8, 9]])"
      ]
     },
     "execution_count": 187,
     "metadata": {},
     "output_type": "execute_result"
    }
   ],
   "source": [
    "practice"
   ]
  },
  {
   "cell_type": "code",
   "execution_count": 190,
   "metadata": {
    "collapsed": false
   },
   "outputs": [],
   "source": [
    "practice[0][2] = 5"
   ]
  },
  {
   "cell_type": "code",
   "execution_count": 194,
   "metadata": {
    "collapsed": false
   },
   "outputs": [
    {
     "data": {
      "text/plain": [
       "(array([2]), array([1]))"
      ]
     },
     "execution_count": 194,
     "metadata": {},
     "output_type": "execute_result"
    }
   ],
   "source": [
    "np.where(practice ==8)"
   ]
  },
  {
   "cell_type": "code",
   "execution_count": 230,
   "metadata": {
    "collapsed": false
   },
   "outputs": [
    {
     "data": {
      "text/html": [
       "<pre>Recsys training: model = ranking_factorization_recommender</pre>"
      ],
      "text/plain": [
       "Recsys training: model = ranking_factorization_recommender"
      ]
     },
     "metadata": {},
     "output_type": "display_data"
    },
    {
     "data": {
      "text/html": [
       "<pre>Preparing data set.</pre>"
      ],
      "text/plain": [
       "Preparing data set."
      ]
     },
     "metadata": {},
     "output_type": "display_data"
    },
    {
     "data": {
      "text/html": [
       "<pre>    Data has 67611 observations with 41069 users and 2496 items.</pre>"
      ],
      "text/plain": [
       "    Data has 67611 observations with 41069 users and 2496 items."
      ]
     },
     "metadata": {},
     "output_type": "display_data"
    },
    {
     "data": {
      "text/html": [
       "<pre>    Data prepared in: 0.38065s</pre>"
      ],
      "text/plain": [
       "    Data prepared in: 0.38065s"
      ]
     },
     "metadata": {},
     "output_type": "display_data"
    },
    {
     "data": {
      "text/html": [
       "<pre>Training ranking_factorization_recommender for recommendations.</pre>"
      ],
      "text/plain": [
       "Training ranking_factorization_recommender for recommendations."
      ]
     },
     "metadata": {},
     "output_type": "display_data"
    },
    {
     "data": {
      "text/html": [
       "<pre>+--------------------------------+--------------------------------------------------+----------+</pre>"
      ],
      "text/plain": [
       "+--------------------------------+--------------------------------------------------+----------+"
      ]
     },
     "metadata": {},
     "output_type": "display_data"
    },
    {
     "data": {
      "text/html": [
       "<pre>| Parameter                      | Description                                      | Value    |</pre>"
      ],
      "text/plain": [
       "| Parameter                      | Description                                      | Value    |"
      ]
     },
     "metadata": {},
     "output_type": "display_data"
    },
    {
     "data": {
      "text/html": [
       "<pre>+--------------------------------+--------------------------------------------------+----------+</pre>"
      ],
      "text/plain": [
       "+--------------------------------+--------------------------------------------------+----------+"
      ]
     },
     "metadata": {},
     "output_type": "display_data"
    },
    {
     "data": {
      "text/html": [
       "<pre>| num_factors                    | Factor Dimension                                 | 32       |</pre>"
      ],
      "text/plain": [
       "| num_factors                    | Factor Dimension                                 | 32       |"
      ]
     },
     "metadata": {},
     "output_type": "display_data"
    },
    {
     "data": {
      "text/html": [
       "<pre>| regularization                 | L2 Regularization on Factors                     | 1e-09    |</pre>"
      ],
      "text/plain": [
       "| regularization                 | L2 Regularization on Factors                     | 1e-09    |"
      ]
     },
     "metadata": {},
     "output_type": "display_data"
    },
    {
     "data": {
      "text/html": [
       "<pre>| solver                         | Solver used for training                         | adagrad  |</pre>"
      ],
      "text/plain": [
       "| solver                         | Solver used for training                         | adagrad  |"
      ]
     },
     "metadata": {},
     "output_type": "display_data"
    },
    {
     "data": {
      "text/html": [
       "<pre>| linear_regularization          | L2 Regularization on Linear Coefficients         | 1e-09    |</pre>"
      ],
      "text/plain": [
       "| linear_regularization          | L2 Regularization on Linear Coefficients         | 1e-09    |"
      ]
     },
     "metadata": {},
     "output_type": "display_data"
    },
    {
     "data": {
      "text/html": [
       "<pre>| ranking_regularization         | Rank-based Regularization Weight                 | 0.25     |</pre>"
      ],
      "text/plain": [
       "| ranking_regularization         | Rank-based Regularization Weight                 | 0.25     |"
      ]
     },
     "metadata": {},
     "output_type": "display_data"
    },
    {
     "data": {
      "text/html": [
       "<pre>| max_iterations                 | Maximum Number of Iterations                     | 25       |</pre>"
      ],
      "text/plain": [
       "| max_iterations                 | Maximum Number of Iterations                     | 25       |"
      ]
     },
     "metadata": {},
     "output_type": "display_data"
    },
    {
     "data": {
      "text/html": [
       "<pre>+--------------------------------+--------------------------------------------------+----------+</pre>"
      ],
      "text/plain": [
       "+--------------------------------+--------------------------------------------------+----------+"
      ]
     },
     "metadata": {},
     "output_type": "display_data"
    },
    {
     "data": {
      "text/html": [
       "<pre>  Optimizing model using SGD; tuning step size.</pre>"
      ],
      "text/plain": [
       "  Optimizing model using SGD; tuning step size."
      ]
     },
     "metadata": {},
     "output_type": "display_data"
    },
    {
     "data": {
      "text/html": [
       "<pre>  Using 10000 / 67611 points for tuning the step size.</pre>"
      ],
      "text/plain": [
       "  Using 10000 / 67611 points for tuning the step size."
      ]
     },
     "metadata": {},
     "output_type": "display_data"
    },
    {
     "data": {
      "text/html": [
       "<pre>+---------+-------------------+------------------------------------------+</pre>"
      ],
      "text/plain": [
       "+---------+-------------------+------------------------------------------+"
      ]
     },
     "metadata": {},
     "output_type": "display_data"
    },
    {
     "data": {
      "text/html": [
       "<pre>| Attempt | Initial Step Size | Estimated Objective Value                |</pre>"
      ],
      "text/plain": [
       "| Attempt | Initial Step Size | Estimated Objective Value                |"
      ]
     },
     "metadata": {},
     "output_type": "display_data"
    },
    {
     "data": {
      "text/html": [
       "<pre>+---------+-------------------+------------------------------------------+</pre>"
      ],
      "text/plain": [
       "+---------+-------------------+------------------------------------------+"
      ]
     },
     "metadata": {},
     "output_type": "display_data"
    },
    {
     "data": {
      "text/html": [
       "<pre>| 0       | 8.33333           | Not Viable                               |</pre>"
      ],
      "text/plain": [
       "| 0       | 8.33333           | Not Viable                               |"
      ]
     },
     "metadata": {},
     "output_type": "display_data"
    },
    {
     "data": {
      "text/html": [
       "<pre>| 1       | 2.08333           | Not Viable                               |</pre>"
      ],
      "text/plain": [
       "| 1       | 2.08333           | Not Viable                               |"
      ]
     },
     "metadata": {},
     "output_type": "display_data"
    },
    {
     "data": {
      "text/html": [
       "<pre>| 2       | 0.520833          | 2.73316                                  |</pre>"
      ],
      "text/plain": [
       "| 2       | 0.520833          | 2.73316                                  |"
      ]
     },
     "metadata": {},
     "output_type": "display_data"
    },
    {
     "data": {
      "text/html": [
       "<pre>| 3       | 0.260417          | 1.45792                                  |</pre>"
      ],
      "text/plain": [
       "| 3       | 0.260417          | 1.45792                                  |"
      ]
     },
     "metadata": {},
     "output_type": "display_data"
    },
    {
     "data": {
      "text/html": [
       "<pre>| 4       | 0.130208          | 1.07478                                  |</pre>"
      ],
      "text/plain": [
       "| 4       | 0.130208          | 1.07478                                  |"
      ]
     },
     "metadata": {},
     "output_type": "display_data"
    },
    {
     "data": {
      "text/html": [
       "<pre>| 5       | 0.0651042         | 1.08687                                  |</pre>"
      ],
      "text/plain": [
       "| 5       | 0.0651042         | 1.08687                                  |"
      ]
     },
     "metadata": {},
     "output_type": "display_data"
    },
    {
     "data": {
      "text/html": [
       "<pre>| 6       | 0.0325521         | 2.46753                                  |</pre>"
      ],
      "text/plain": [
       "| 6       | 0.0325521         | 2.46753                                  |"
      ]
     },
     "metadata": {},
     "output_type": "display_data"
    },
    {
     "data": {
      "text/html": [
       "<pre>+---------+-------------------+------------------------------------------+</pre>"
      ],
      "text/plain": [
       "+---------+-------------------+------------------------------------------+"
      ]
     },
     "metadata": {},
     "output_type": "display_data"
    },
    {
     "data": {
      "text/html": [
       "<pre>| Final   | 0.130208          | 1.07478                                  |</pre>"
      ],
      "text/plain": [
       "| Final   | 0.130208          | 1.07478                                  |"
      ]
     },
     "metadata": {},
     "output_type": "display_data"
    },
    {
     "data": {
      "text/html": [
       "<pre>+---------+-------------------+------------------------------------------+</pre>"
      ],
      "text/plain": [
       "+---------+-------------------+------------------------------------------+"
      ]
     },
     "metadata": {},
     "output_type": "display_data"
    },
    {
     "data": {
      "text/html": [
       "<pre>Starting Optimization.</pre>"
      ],
      "text/plain": [
       "Starting Optimization."
      ]
     },
     "metadata": {},
     "output_type": "display_data"
    },
    {
     "data": {
      "text/html": [
       "<pre>+---------+--------------+-------------------+-----------------------+-------------+</pre>"
      ],
      "text/plain": [
       "+---------+--------------+-------------------+-----------------------+-------------+"
      ]
     },
     "metadata": {},
     "output_type": "display_data"
    },
    {
     "data": {
      "text/html": [
       "<pre>| Iter.   | Elapsed Time | Approx. Objective | Approx. Training RMSE | Step Size   |</pre>"
      ],
      "text/plain": [
       "| Iter.   | Elapsed Time | Approx. Objective | Approx. Training RMSE | Step Size   |"
      ]
     },
     "metadata": {},
     "output_type": "display_data"
    },
    {
     "data": {
      "text/html": [
       "<pre>+---------+--------------+-------------------+-----------------------+-------------+</pre>"
      ],
      "text/plain": [
       "+---------+--------------+-------------------+-----------------------+-------------+"
      ]
     },
     "metadata": {},
     "output_type": "display_data"
    },
    {
     "data": {
      "text/html": [
       "<pre>| Initial | 103us        | 9.20339           | 2.16664               |             |</pre>"
      ],
      "text/plain": [
       "| Initial | 103us        | 9.20339           | 2.16664               |             |"
      ]
     },
     "metadata": {},
     "output_type": "display_data"
    },
    {
     "data": {
      "text/html": [
       "<pre>+---------+--------------+-------------------+-----------------------+-------------+</pre>"
      ],
      "text/plain": [
       "+---------+--------------+-------------------+-----------------------+-------------+"
      ]
     },
     "metadata": {},
     "output_type": "display_data"
    },
    {
     "data": {
      "text/html": [
       "<pre>| 1       | 357.859ms    | 7.62034           | 2.36523               | 0.130208    |</pre>"
      ],
      "text/plain": [
       "| 1       | 357.859ms    | 7.62034           | 2.36523               | 0.130208    |"
      ]
     },
     "metadata": {},
     "output_type": "display_data"
    },
    {
     "data": {
      "text/html": [
       "<pre>| 2       | 786.361ms    | 3.37353           | 1.56659               | 0.130208    |</pre>"
      ],
      "text/plain": [
       "| 2       | 786.361ms    | 3.37353           | 1.56659               | 0.130208    |"
      ]
     },
     "metadata": {},
     "output_type": "display_data"
    },
    {
     "data": {
      "text/html": [
       "<pre>| 3       | 1.14s        | 1.47021           | 0.965548              | 0.130208    |</pre>"
      ],
      "text/plain": [
       "| 3       | 1.14s        | 1.47021           | 0.965548              | 0.130208    |"
      ]
     },
     "metadata": {},
     "output_type": "display_data"
    },
    {
     "data": {
      "text/html": [
       "<pre>| 4       | 1.40s        | 0.860889          | 0.69376               | 0.130208    |</pre>"
      ],
      "text/plain": [
       "| 4       | 1.40s        | 0.860889          | 0.69376               | 0.130208    |"
      ]
     },
     "metadata": {},
     "output_type": "display_data"
    },
    {
     "data": {
      "text/html": [
       "<pre>| 5       | 1.68s        | 0.610609          | 0.5576                | 0.130208    |</pre>"
      ],
      "text/plain": [
       "| 5       | 1.68s        | 0.610609          | 0.5576                | 0.130208    |"
      ]
     },
     "metadata": {},
     "output_type": "display_data"
    },
    {
     "data": {
      "text/html": [
       "<pre>| 6       | 1.96s        | 0.48589           | 0.475509              | 0.130208    |</pre>"
      ],
      "text/plain": [
       "| 6       | 1.96s        | 0.48589           | 0.475509              | 0.130208    |"
      ]
     },
     "metadata": {},
     "output_type": "display_data"
    },
    {
     "data": {
      "text/html": [
       "<pre>| 10      | 3.01s        | 0.285544          | 0.327761              | 0.130208    |</pre>"
      ],
      "text/plain": [
       "| 10      | 3.01s        | 0.285544          | 0.327761              | 0.130208    |"
      ]
     },
     "metadata": {},
     "output_type": "display_data"
    },
    {
     "data": {
      "text/html": [
       "<pre>| 11      | 3.24s        | 0.263854          | 0.310506              | 0.130208    |</pre>"
      ],
      "text/plain": [
       "| 11      | 3.24s        | 0.263854          | 0.310506              | 0.130208    |"
      ]
     },
     "metadata": {},
     "output_type": "display_data"
    },
    {
     "data": {
      "text/html": [
       "<pre>| 15      | 4.23s        | 0.211937          | 0.270402              | 0.130208    |</pre>"
      ],
      "text/plain": [
       "| 15      | 4.23s        | 0.211937          | 0.270402              | 0.130208    |"
      ]
     },
     "metadata": {},
     "output_type": "display_data"
    },
    {
     "data": {
      "text/html": [
       "<pre>| 20      | 5.42s        | 0.179509          | 0.247209              | 0.130208    |</pre>"
      ],
      "text/plain": [
       "| 20      | 5.42s        | 0.179509          | 0.247209              | 0.130208    |"
      ]
     },
     "metadata": {},
     "output_type": "display_data"
    },
    {
     "data": {
      "text/html": [
       "<pre>| 25      | 6.61s        | 0.160378          | 0.237404              | 0.130208    |</pre>"
      ],
      "text/plain": [
       "| 25      | 6.61s        | 0.160378          | 0.237404              | 0.130208    |"
      ]
     },
     "metadata": {},
     "output_type": "display_data"
    },
    {
     "data": {
      "text/html": [
       "<pre>+---------+--------------+-------------------+-----------------------+-------------+</pre>"
      ],
      "text/plain": [
       "+---------+--------------+-------------------+-----------------------+-------------+"
      ]
     },
     "metadata": {},
     "output_type": "display_data"
    },
    {
     "data": {
      "text/html": [
       "<pre>Optimization Complete: Maximum number of passes through the data reached.</pre>"
      ],
      "text/plain": [
       "Optimization Complete: Maximum number of passes through the data reached."
      ]
     },
     "metadata": {},
     "output_type": "display_data"
    },
    {
     "data": {
      "text/html": [
       "<pre>Computing final objective value and training RMSE.</pre>"
      ],
      "text/plain": [
       "Computing final objective value and training RMSE."
      ]
     },
     "metadata": {},
     "output_type": "display_data"
    },
    {
     "data": {
      "text/html": [
       "<pre>       Final objective value: 0.16341</pre>"
      ],
      "text/plain": [
       "       Final objective value: 0.16341"
      ]
     },
     "metadata": {},
     "output_type": "display_data"
    },
    {
     "data": {
      "text/html": [
       "<pre>       Final training RMSE: 0.243693</pre>"
      ],
      "text/plain": [
       "       Final training RMSE: 0.243693"
      ]
     },
     "metadata": {},
     "output_type": "display_data"
    }
   ],
   "source": [
    "sf_4 = gl.SFrame(data.df[['userId', 'productId', 'brandId', 'rating', 'weight', 'bodyfat', 'height']])\n",
    "model_4_weight_bf_ht = gl.toolkits.recommender.create(sf_4, user_id = 'userId', item_id='productId', target='rating')"
   ]
  },
  {
   "cell_type": "code",
   "execution_count": 233,
   "metadata": {
    "collapsed": false
   },
   "outputs": [
    {
     "data": {
      "text/html": [
       "<pre>Recsys training: model = ranking_factorization_recommender</pre>"
      ],
      "text/plain": [
       "Recsys training: model = ranking_factorization_recommender"
      ]
     },
     "metadata": {},
     "output_type": "display_data"
    },
    {
     "data": {
      "text/html": [
       "<pre>Preparing data set.</pre>"
      ],
      "text/plain": [
       "Preparing data set."
      ]
     },
     "metadata": {},
     "output_type": "display_data"
    },
    {
     "data": {
      "text/html": [
       "<pre>    Data has 67611 observations with 41069 users and 2496 items.</pre>"
      ],
      "text/plain": [
       "    Data has 67611 observations with 41069 users and 2496 items."
      ]
     },
     "metadata": {},
     "output_type": "display_data"
    },
    {
     "data": {
      "text/html": [
       "<pre>    Data prepared in: 0.347083s</pre>"
      ],
      "text/plain": [
       "    Data prepared in: 0.347083s"
      ]
     },
     "metadata": {},
     "output_type": "display_data"
    },
    {
     "data": {
      "text/html": [
       "<pre>Training ranking_factorization_recommender for recommendations.</pre>"
      ],
      "text/plain": [
       "Training ranking_factorization_recommender for recommendations."
      ]
     },
     "metadata": {},
     "output_type": "display_data"
    },
    {
     "data": {
      "text/html": [
       "<pre>+--------------------------------+--------------------------------------------------+----------+</pre>"
      ],
      "text/plain": [
       "+--------------------------------+--------------------------------------------------+----------+"
      ]
     },
     "metadata": {},
     "output_type": "display_data"
    },
    {
     "data": {
      "text/html": [
       "<pre>| Parameter                      | Description                                      | Value    |</pre>"
      ],
      "text/plain": [
       "| Parameter                      | Description                                      | Value    |"
      ]
     },
     "metadata": {},
     "output_type": "display_data"
    },
    {
     "data": {
      "text/html": [
       "<pre>+--------------------------------+--------------------------------------------------+----------+</pre>"
      ],
      "text/plain": [
       "+--------------------------------+--------------------------------------------------+----------+"
      ]
     },
     "metadata": {},
     "output_type": "display_data"
    },
    {
     "data": {
      "text/html": [
       "<pre>| num_factors                    | Factor Dimension                                 | 32       |</pre>"
      ],
      "text/plain": [
       "| num_factors                    | Factor Dimension                                 | 32       |"
      ]
     },
     "metadata": {},
     "output_type": "display_data"
    },
    {
     "data": {
      "text/html": [
       "<pre>| regularization                 | L2 Regularization on Factors                     | 1e-09    |</pre>"
      ],
      "text/plain": [
       "| regularization                 | L2 Regularization on Factors                     | 1e-09    |"
      ]
     },
     "metadata": {},
     "output_type": "display_data"
    },
    {
     "data": {
      "text/html": [
       "<pre>| solver                         | Solver used for training                         | adagrad  |</pre>"
      ],
      "text/plain": [
       "| solver                         | Solver used for training                         | adagrad  |"
      ]
     },
     "metadata": {},
     "output_type": "display_data"
    },
    {
     "data": {
      "text/html": [
       "<pre>| linear_regularization          | L2 Regularization on Linear Coefficients         | 1e-09    |</pre>"
      ],
      "text/plain": [
       "| linear_regularization          | L2 Regularization on Linear Coefficients         | 1e-09    |"
      ]
     },
     "metadata": {},
     "output_type": "display_data"
    },
    {
     "data": {
      "text/html": [
       "<pre>| ranking_regularization         | Rank-based Regularization Weight                 | 0.25     |</pre>"
      ],
      "text/plain": [
       "| ranking_regularization         | Rank-based Regularization Weight                 | 0.25     |"
      ]
     },
     "metadata": {},
     "output_type": "display_data"
    },
    {
     "data": {
      "text/html": [
       "<pre>| max_iterations                 | Maximum Number of Iterations                     | 25       |</pre>"
      ],
      "text/plain": [
       "| max_iterations                 | Maximum Number of Iterations                     | 25       |"
      ]
     },
     "metadata": {},
     "output_type": "display_data"
    },
    {
     "data": {
      "text/html": [
       "<pre>+--------------------------------+--------------------------------------------------+----------+</pre>"
      ],
      "text/plain": [
       "+--------------------------------+--------------------------------------------------+----------+"
      ]
     },
     "metadata": {},
     "output_type": "display_data"
    },
    {
     "data": {
      "text/html": [
       "<pre>  Optimizing model using SGD; tuning step size.</pre>"
      ],
      "text/plain": [
       "  Optimizing model using SGD; tuning step size."
      ]
     },
     "metadata": {},
     "output_type": "display_data"
    },
    {
     "data": {
      "text/html": [
       "<pre>  Using 10000 / 67611 points for tuning the step size.</pre>"
      ],
      "text/plain": [
       "  Using 10000 / 67611 points for tuning the step size."
      ]
     },
     "metadata": {},
     "output_type": "display_data"
    },
    {
     "data": {
      "text/html": [
       "<pre>+---------+-------------------+------------------------------------------+</pre>"
      ],
      "text/plain": [
       "+---------+-------------------+------------------------------------------+"
      ]
     },
     "metadata": {},
     "output_type": "display_data"
    },
    {
     "data": {
      "text/html": [
       "<pre>| Attempt | Initial Step Size | Estimated Objective Value                |</pre>"
      ],
      "text/plain": [
       "| Attempt | Initial Step Size | Estimated Objective Value                |"
      ]
     },
     "metadata": {},
     "output_type": "display_data"
    },
    {
     "data": {
      "text/html": [
       "<pre>+---------+-------------------+------------------------------------------+</pre>"
      ],
      "text/plain": [
       "+---------+-------------------+------------------------------------------+"
      ]
     },
     "metadata": {},
     "output_type": "display_data"
    },
    {
     "data": {
      "text/html": [
       "<pre>| 0       | 8.33333           | Not Viable                               |</pre>"
      ],
      "text/plain": [
       "| 0       | 8.33333           | Not Viable                               |"
      ]
     },
     "metadata": {},
     "output_type": "display_data"
    },
    {
     "data": {
      "text/html": [
       "<pre>| 1       | 2.08333           | Not Viable                               |</pre>"
      ],
      "text/plain": [
       "| 1       | 2.08333           | Not Viable                               |"
      ]
     },
     "metadata": {},
     "output_type": "display_data"
    },
    {
     "data": {
      "text/html": [
       "<pre>| 2       | 0.520833          | 2.7089                                   |</pre>"
      ],
      "text/plain": [
       "| 2       | 0.520833          | 2.7089                                   |"
      ]
     },
     "metadata": {},
     "output_type": "display_data"
    },
    {
     "data": {
      "text/html": [
       "<pre>| 3       | 0.260417          | 1.52491                                  |</pre>"
      ],
      "text/plain": [
       "| 3       | 0.260417          | 1.52491                                  |"
      ]
     },
     "metadata": {},
     "output_type": "display_data"
    },
    {
     "data": {
      "text/html": [
       "<pre>| 4       | 0.130208          | 1.09569                                  |</pre>"
      ],
      "text/plain": [
       "| 4       | 0.130208          | 1.09569                                  |"
      ]
     },
     "metadata": {},
     "output_type": "display_data"
    },
    {
     "data": {
      "text/html": [
       "<pre>| 5       | 0.0651042         | 1.10473                                  |</pre>"
      ],
      "text/plain": [
       "| 5       | 0.0651042         | 1.10473                                  |"
      ]
     },
     "metadata": {},
     "output_type": "display_data"
    },
    {
     "data": {
      "text/html": [
       "<pre>| 6       | 0.0325521         | 2.38573                                  |</pre>"
      ],
      "text/plain": [
       "| 6       | 0.0325521         | 2.38573                                  |"
      ]
     },
     "metadata": {},
     "output_type": "display_data"
    },
    {
     "data": {
      "text/html": [
       "<pre>+---------+-------------------+------------------------------------------+</pre>"
      ],
      "text/plain": [
       "+---------+-------------------+------------------------------------------+"
      ]
     },
     "metadata": {},
     "output_type": "display_data"
    },
    {
     "data": {
      "text/html": [
       "<pre>| Final   | 0.130208          | 1.09569                                  |</pre>"
      ],
      "text/plain": [
       "| Final   | 0.130208          | 1.09569                                  |"
      ]
     },
     "metadata": {},
     "output_type": "display_data"
    },
    {
     "data": {
      "text/html": [
       "<pre>+---------+-------------------+------------------------------------------+</pre>"
      ],
      "text/plain": [
       "+---------+-------------------+------------------------------------------+"
      ]
     },
     "metadata": {},
     "output_type": "display_data"
    },
    {
     "data": {
      "text/html": [
       "<pre>Starting Optimization.</pre>"
      ],
      "text/plain": [
       "Starting Optimization."
      ]
     },
     "metadata": {},
     "output_type": "display_data"
    },
    {
     "data": {
      "text/html": [
       "<pre>+---------+--------------+-------------------+-----------------------+-------------+</pre>"
      ],
      "text/plain": [
       "+---------+--------------+-------------------+-----------------------+-------------+"
      ]
     },
     "metadata": {},
     "output_type": "display_data"
    },
    {
     "data": {
      "text/html": [
       "<pre>| Iter.   | Elapsed Time | Approx. Objective | Approx. Training RMSE | Step Size   |</pre>"
      ],
      "text/plain": [
       "| Iter.   | Elapsed Time | Approx. Objective | Approx. Training RMSE | Step Size   |"
      ]
     },
     "metadata": {},
     "output_type": "display_data"
    },
    {
     "data": {
      "text/html": [
       "<pre>+---------+--------------+-------------------+-----------------------+-------------+</pre>"
      ],
      "text/plain": [
       "+---------+--------------+-------------------+-----------------------+-------------+"
      ]
     },
     "metadata": {},
     "output_type": "display_data"
    },
    {
     "data": {
      "text/html": [
       "<pre>| Initial | 115us        | 9.20394           | 2.16667               |             |</pre>"
      ],
      "text/plain": [
       "| Initial | 115us        | 9.20394           | 2.16667               |             |"
      ]
     },
     "metadata": {},
     "output_type": "display_data"
    },
    {
     "data": {
      "text/html": [
       "<pre>+---------+--------------+-------------------+-----------------------+-------------+</pre>"
      ],
      "text/plain": [
       "+---------+--------------+-------------------+-----------------------+-------------+"
      ]
     },
     "metadata": {},
     "output_type": "display_data"
    },
    {
     "data": {
      "text/html": [
       "<pre>| 1       | 326.045ms    | 7.60608           | 2.36132               | 0.130208    |</pre>"
      ],
      "text/plain": [
       "| 1       | 326.045ms    | 7.60608           | 2.36132               | 0.130208    |"
      ]
     },
     "metadata": {},
     "output_type": "display_data"
    },
    {
     "data": {
      "text/html": [
       "<pre>| 2       | 671.632ms    | 3.39475           | 1.57439               | 0.130208    |</pre>"
      ],
      "text/plain": [
       "| 2       | 671.632ms    | 3.39475           | 1.57439               | 0.130208    |"
      ]
     },
     "metadata": {},
     "output_type": "display_data"
    },
    {
     "data": {
      "text/html": [
       "<pre>| 3       | 949.811ms    | 1.48524           | 0.973794              | 0.130208    |</pre>"
      ],
      "text/plain": [
       "| 3       | 949.811ms    | 1.48524           | 0.973794              | 0.130208    |"
      ]
     },
     "metadata": {},
     "output_type": "display_data"
    },
    {
     "data": {
      "text/html": [
       "<pre>| 4       | 1.26s        | 0.863556          | 0.695446              | 0.130208    |</pre>"
      ],
      "text/plain": [
       "| 4       | 1.26s        | 0.863556          | 0.695446              | 0.130208    |"
      ]
     },
     "metadata": {},
     "output_type": "display_data"
    },
    {
     "data": {
      "text/html": [
       "<pre>| 5       | 1.53s        | 0.615134          | 0.558239              | 0.130208    |</pre>"
      ],
      "text/plain": [
       "| 5       | 1.53s        | 0.615134          | 0.558239              | 0.130208    |"
      ]
     },
     "metadata": {},
     "output_type": "display_data"
    },
    {
     "data": {
      "text/html": [
       "<pre>| 6       | 1.78s        | 0.484696          | 0.478591              | 0.130208    |</pre>"
      ],
      "text/plain": [
       "| 6       | 1.78s        | 0.484696          | 0.478591              | 0.130208    |"
      ]
     },
     "metadata": {},
     "output_type": "display_data"
    },
    {
     "data": {
      "text/html": [
       "<pre>| 10      | 2.83s        | 0.287499          | 0.328768              | 0.130208    |</pre>"
      ],
      "text/plain": [
       "| 10      | 2.83s        | 0.287499          | 0.328768              | 0.130208    |"
      ]
     },
     "metadata": {},
     "output_type": "display_data"
    },
    {
     "data": {
      "text/html": [
       "<pre>| 11      | 3.06s        | 0.26606           | 0.310919              | 0.130208    |</pre>"
      ],
      "text/plain": [
       "| 11      | 3.06s        | 0.26606           | 0.310919              | 0.130208    |"
      ]
     },
     "metadata": {},
     "output_type": "display_data"
    },
    {
     "data": {
      "text/html": [
       "<pre>| 15      | 4.06s        | 0.218584          | 0.271145              | 0.130208    |</pre>"
      ],
      "text/plain": [
       "| 15      | 4.06s        | 0.218584          | 0.271145              | 0.130208    |"
      ]
     },
     "metadata": {},
     "output_type": "display_data"
    },
    {
     "data": {
      "text/html": [
       "<pre>| 20      | 5.25s        | 0.178723          | 0.245567              | 0.130208    |</pre>"
      ],
      "text/plain": [
       "| 20      | 5.25s        | 0.178723          | 0.245567              | 0.130208    |"
      ]
     },
     "metadata": {},
     "output_type": "display_data"
    },
    {
     "data": {
      "text/html": [
       "<pre>| 25      | 6.52s        | 0.168969          | 0.240319              | 0.130208    |</pre>"
      ],
      "text/plain": [
       "| 25      | 6.52s        | 0.168969          | 0.240319              | 0.130208    |"
      ]
     },
     "metadata": {},
     "output_type": "display_data"
    },
    {
     "data": {
      "text/html": [
       "<pre>+---------+--------------+-------------------+-----------------------+-------------+</pre>"
      ],
      "text/plain": [
       "+---------+--------------+-------------------+-----------------------+-------------+"
      ]
     },
     "metadata": {},
     "output_type": "display_data"
    },
    {
     "data": {
      "text/html": [
       "<pre>Optimization Complete: Maximum number of passes through the data reached.</pre>"
      ],
      "text/plain": [
       "Optimization Complete: Maximum number of passes through the data reached."
      ]
     },
     "metadata": {},
     "output_type": "display_data"
    },
    {
     "data": {
      "text/html": [
       "<pre>Computing final objective value and training RMSE.</pre>"
      ],
      "text/plain": [
       "Computing final objective value and training RMSE."
      ]
     },
     "metadata": {},
     "output_type": "display_data"
    },
    {
     "data": {
      "text/html": [
       "<pre>       Final objective value: 0.169088</pre>"
      ],
      "text/plain": [
       "       Final objective value: 0.169088"
      ]
     },
     "metadata": {},
     "output_type": "display_data"
    },
    {
     "data": {
      "text/html": [
       "<pre>       Final training RMSE: 0.239066</pre>"
      ],
      "text/plain": [
       "       Final training RMSE: 0.239066"
      ]
     },
     "metadata": {},
     "output_type": "display_data"
    }
   ],
   "source": [
    "sf_5 = gl.SFrame(data.df[['userId', 'productId', 'brandId', 'rating', 'height', 'bodyfat', 'weight']])\n",
    "model_5_weight_bf_ht = gl.toolkits.recommender.create(sf_5, user_id = 'userId', item_id='productId', target='rating')"
   ]
  },
  {
   "cell_type": "code",
   "execution_count": null,
   "metadata": {
    "collapsed": true
   },
   "outputs": [],
   "source": []
  }
 ],
 "metadata": {
  "anaconda-cloud": {},
  "kernelspec": {
   "display_name": "Python [Root]",
   "language": "python",
   "name": "Python [Root]"
  },
  "language_info": {
   "codemirror_mode": {
    "name": "ipython",
    "version": 2
   },
   "file_extension": ".py",
   "mimetype": "text/x-python",
   "name": "python",
   "nbconvert_exporter": "python",
   "pygments_lexer": "ipython2",
   "version": "2.7.12"
  }
 },
 "nbformat": 4,
 "nbformat_minor": 0
}
