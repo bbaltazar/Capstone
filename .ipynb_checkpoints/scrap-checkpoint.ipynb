{
 "cells": [
  {
   "cell_type": "code",
   "execution_count": 43,
   "metadata": {
    "collapsed": true
   },
   "outputs": [],
   "source": [
    "import requests\n",
    "from bs4 import BeautifulSoup\n",
    "import pandas as pd\n",
    "import numpy as np"
   ]
  },
  {
   "cell_type": "code",
   "execution_count": 2,
   "metadata": {
    "collapsed": true
   },
   "outputs": [],
   "source": [
    "from pymongo import MongoClient"
   ]
  },
  {
   "cell_type": "code",
   "execution_count": 7,
   "metadata": {
    "collapsed": false
   },
   "outputs": [],
   "source": [
    "client = MongoClient()\n",
    "db = client['bodyscrape']\n",
    "coll = db['products']"
   ]
  },
  {
   "cell_type": "code",
   "execution_count": 2,
   "metadata": {
    "collapsed": false
   },
   "outputs": [
    {
     "ename": "ImportError",
     "evalue": "cannot import name webdriver",
     "output_type": "error",
     "traceback": [
      "\u001b[0;31m---------------------------------------------------------------------------\u001b[0m",
      "\u001b[0;31mImportError\u001b[0m                               Traceback (most recent call last)",
      "\u001b[0;32m<ipython-input-2-e7d8c2850744>\u001b[0m in \u001b[0;36m<module>\u001b[0;34m()\u001b[0m\n\u001b[0;32m----> 1\u001b[0;31m \u001b[0;32mfrom\u001b[0m \u001b[0mselenium\u001b[0m \u001b[0;32mimport\u001b[0m \u001b[0mwebdriver\u001b[0m\u001b[0;34m\u001b[0m\u001b[0m\n\u001b[0m",
      "\u001b[0;31mImportError\u001b[0m: cannot import name webdriver"
     ]
    }
   ],
   "source": [
    "from selenium import webdriver"
   ]
  },
  {
   "cell_type": "code",
   "execution_count": 42,
   "metadata": {
    "collapsed": false
   },
   "outputs": [],
   "source": [
    "run bodycleaning.py"
   ]
  },
  {
   "cell_type": "code",
   "execution_count": 43,
   "metadata": {
    "collapsed": false
   },
   "outputs": [
    {
     "data": {
      "text/plain": [
       "(2160, 36)"
      ]
     },
     "execution_count": 43,
     "metadata": {},
     "output_type": "execute_result"
    }
   ],
   "source": [
    "model.df.shape"
   ]
  },
  {
   "cell_type": "code",
   "execution_count": 44,
   "metadata": {
    "collapsed": false
   },
   "outputs": [],
   "source": [
    "def next():\n",
    "    for i in xrange(2160):\n",
    "        yield model.df.columns[i], model.df[model.df.columns[i]]\n",
    "        "
   ]
  },
  {
   "cell_type": "code",
   "execution_count": 53,
   "metadata": {
    "collapsed": true
   },
   "outputs": [],
   "source": [
    "check = next()\n",
    "\n",
    "df.title\n",
    "df.username"
   ]
  },
  {
   "cell_type": "code",
   "execution_count": 62,
   "metadata": {
    "collapsed": false
   },
   "outputs": [
    {
     "data": {
      "text/plain": [
       "(u'updateStatusReason', 0              None\n",
       " 1              None\n",
       " 2              None\n",
       " 3              None\n",
       " 4       :lifes2good\n",
       " 5              None\n",
       " 6              None\n",
       " 7              None\n",
       " 8              None\n",
       " 9              None\n",
       " 10             None\n",
       " 11             None\n",
       " 12             None\n",
       " 13             None\n",
       " 14             None\n",
       " 15             None\n",
       " 16             None\n",
       " 17             None\n",
       " 18      :lifes2good\n",
       " 19             None\n",
       " 20             None\n",
       " 21             None\n",
       " 22             None\n",
       " 23             None\n",
       " 24             None\n",
       " 25             None\n",
       " 26             None\n",
       " 27             None\n",
       " 28             None\n",
       " 29             None\n",
       "            ...     \n",
       " 2130    :lifes2good\n",
       " 2131           None\n",
       " 2132           None\n",
       " 2133           None\n",
       " 2134           None\n",
       " 2135           None\n",
       " 2136           None\n",
       " 2137           None\n",
       " 2138           None\n",
       " 2139           None\n",
       " 2140           None\n",
       " 2141           None\n",
       " 2142           None\n",
       " 2143           None\n",
       " 2144           None\n",
       " 2145    :lifes2good\n",
       " 2146           None\n",
       " 2147           None\n",
       " 2148           None\n",
       " 2149           None\n",
       " 2150           None\n",
       " 2151           None\n",
       " 2152       :MrJHyde\n",
       " 2153           None\n",
       " 2154           None\n",
       " 2155           None\n",
       " 2156           None\n",
       " 2157           None\n",
       " 2158           None\n",
       " 2159           None\n",
       " Name: updateStatusReason, dtype: object)"
      ]
     },
     "execution_count": 62,
     "metadata": {},
     "output_type": "execute_result"
    }
   ],
   "source": [
    "check.next()"
   ]
  },
  {
   "cell_type": "code",
   "execution_count": 73,
   "metadata": {
    "collapsed": false,
    "scrolled": false
   },
   "outputs": [
    {
     "data": {
      "text/html": [
       "<div>\n",
       "<table border=\"1\" class=\"dataframe\">\n",
       "  <thead>\n",
       "    <tr style=\"text-align: right;\">\n",
       "      <th></th>\n",
       "      <th>totalItems</th>\n",
       "      <th>helpful</th>\n",
       "      <th>overallRating</th>\n",
       "      <th>totalRatings</th>\n",
       "      <th>helpfulTotal</th>\n",
       "      <th>title</th>\n",
       "      <th>text</th>\n",
       "      <th>username</th>\n",
       "      <th>updateStatusReason</th>\n",
       "      <th>brandId</th>\n",
       "      <th>...</th>\n",
       "      <th>imageLarge</th>\n",
       "      <th>name</th>\n",
       "      <th>imageSmall</th>\n",
       "      <th>url</th>\n",
       "      <th>brandName</th>\n",
       "      <th>reviewUrl</th>\n",
       "      <th>weight</th>\n",
       "      <th>bodyfat</th>\n",
       "      <th>height</th>\n",
       "      <th>ratings</th>\n",
       "    </tr>\n",
       "  </thead>\n",
       "  <tbody>\n",
       "    <tr>\n",
       "      <th>200</th>\n",
       "      <td>2</td>\n",
       "      <td>0</td>\n",
       "      <td>3.7</td>\n",
       "      <td>3</td>\n",
       "      <td>0</td>\n",
       "      <td></td>\n",
       "      <td>I ordered this product after hearing very good...</td>\n",
       "      <td>Palmer0123</td>\n",
       "      <td>:MrJHyde</td>\n",
       "      <td>BRAND_BETANCOURT_NUTRITION</td>\n",
       "      <td>...</td>\n",
       "      <td>http://store.bbcomcdn.com/images/store/prodima...</td>\n",
       "      <td>D-Stunner Alpha</td>\n",
       "      <td>http://store.bbcomcdn.com/images/store/prodima...</td>\n",
       "      <td>http://www.bodybuilding.com/store/betancourt/d...</td>\n",
       "      <td>Betancourt Nutrition</td>\n",
       "      <td>http://reviews.bodybuilding.com/betancourt/d-s...</td>\n",
       "      <td>151.0</td>\n",
       "      <td>14.9</td>\n",
       "      <td>None</td>\n",
       "      <td>[{u'rating': 0, u'flavor': u'Lemon Drop', u'to...</td>\n",
       "    </tr>\n",
       "    <tr>\n",
       "      <th>229</th>\n",
       "      <td>12</td>\n",
       "      <td>0</td>\n",
       "      <td>9.3</td>\n",
       "      <td>2</td>\n",
       "      <td>0</td>\n",
       "      <td></td>\n",
       "      <td>I drink this during my workout. It's not heavy...</td>\n",
       "      <td>cmakrickas</td>\n",
       "      <td>:MrJHyde</td>\n",
       "      <td>BRAND_BEVERLY_INT_</td>\n",
       "      <td>...</td>\n",
       "      <td>http://store.bbcomcdn.com/images/store/prodima...</td>\n",
       "      <td>Muscle Provider</td>\n",
       "      <td>http://store.bbcomcdn.com/images/store/prodima...</td>\n",
       "      <td>http://www.bodybuilding.com/store/bev/muscle.html</td>\n",
       "      <td>Beverly International</td>\n",
       "      <td>http://reviews.bodybuilding.com/Beverly_Intern...</td>\n",
       "      <td>141.0</td>\n",
       "      <td>21.1</td>\n",
       "      <td>64.0</td>\n",
       "      <td>[{u'rating': 9.6, u'flavor': u'Chocolate', u't...</td>\n",
       "    </tr>\n",
       "    <tr>\n",
       "      <th>412</th>\n",
       "      <td>128</td>\n",
       "      <td>0</td>\n",
       "      <td>0.0</td>\n",
       "      <td>0</td>\n",
       "      <td>0</td>\n",
       "      <td></td>\n",
       "      <td>I have only used this a few days, but I will n...</td>\n",
       "      <td>globeHopper</td>\n",
       "      <td>:MrJHyde</td>\n",
       "      <td>BRAND_BSN</td>\n",
       "      <td>...</td>\n",
       "      <td>http://store.bbcomcdn.com/images/store/prodima...</td>\n",
       "      <td>HYPER SHRED</td>\n",
       "      <td>http://store.bbcomcdn.com/images/store/prodima...</td>\n",
       "      <td>http://www.bodybuilding.com/store/bsn/hyper-sh...</td>\n",
       "      <td>BSN</td>\n",
       "      <td>http://reviews.bodybuilding.com/BSN/HYPER_SHRED/</td>\n",
       "      <td>170.0</td>\n",
       "      <td>11.0</td>\n",
       "      <td>70.0</td>\n",
       "      <td>[]</td>\n",
       "    </tr>\n",
       "    <tr>\n",
       "      <th>428</th>\n",
       "      <td>58</td>\n",
       "      <td>0</td>\n",
       "      <td>9.3</td>\n",
       "      <td>2</td>\n",
       "      <td>0</td>\n",
       "      <td></td>\n",
       "      <td>Was having to take time off of my major lifts ...</td>\n",
       "      <td>Braap105</td>\n",
       "      <td>:MrJHyde</td>\n",
       "      <td>cat2190001</td>\n",
       "      <td>...</td>\n",
       "      <td>http://store.bbcomcdn.com/images/store/prodima...</td>\n",
       "      <td>Recover</td>\n",
       "      <td>http://store.bbcomcdn.com/images/store/prodima...</td>\n",
       "      <td>http://www.bodybuilding.com/store/carbon-by-la...</td>\n",
       "      <td>Carbon by Layne Norton</td>\n",
       "      <td>http://reviews.bodybuilding.com/carbon-by-layn...</td>\n",
       "      <td>220.0</td>\n",
       "      <td>14.0</td>\n",
       "      <td>74.0</td>\n",
       "      <td>[{u'rating': 9.3, u'flavor': u'Blueberry Pomeg...</td>\n",
       "    </tr>\n",
       "    <tr>\n",
       "      <th>439</th>\n",
       "      <td>5</td>\n",
       "      <td>0</td>\n",
       "      <td>6.2</td>\n",
       "      <td>5</td>\n",
       "      <td>0</td>\n",
       "      <td></td>\n",
       "      <td>This product gives me the push I need to make ...</td>\n",
       "      <td>rcastellano628</td>\n",
       "      <td>:MrJHyde</td>\n",
       "      <td>BRAND_CELLUCOR</td>\n",
       "      <td>...</td>\n",
       "      <td>http://store.bbcomcdn.com/images/store/prodima...</td>\n",
       "      <td>C4 On The Go</td>\n",
       "      <td>http://store.bbcomcdn.com/images/store/prodima...</td>\n",
       "      <td>http://www.bodybuilding.com/store/cellucor/c4-...</td>\n",
       "      <td>Cellucor</td>\n",
       "      <td>http://reviews.bodybuilding.com/cellucor/c4-on...</td>\n",
       "      <td>223.0</td>\n",
       "      <td>33.5</td>\n",
       "      <td>69.0</td>\n",
       "      <td>[{u'rating': 9.2, u'flavor': u'Watermelon', u'...</td>\n",
       "    </tr>\n",
       "    <tr>\n",
       "      <th>502</th>\n",
       "      <td>4</td>\n",
       "      <td>0</td>\n",
       "      <td>7.7</td>\n",
       "      <td>1</td>\n",
       "      <td>0</td>\n",
       "      <td></td>\n",
       "      <td>This works pretty well. Does more than it shou...</td>\n",
       "      <td>drhondyjr93</td>\n",
       "      <td>:MrJHyde</td>\n",
       "      <td>BRAND_CONTROLLED_LABS</td>\n",
       "      <td>...</td>\n",
       "      <td>http://store.bbcomcdn.com/images/store/prodima...</td>\n",
       "      <td>Orange OxiMega Kit</td>\n",
       "      <td>http://store.bbcomcdn.com/images/store/prodima...</td>\n",
       "      <td>http://www.bodybuilding.com/store/clabs/orange...</td>\n",
       "      <td>Controlled Labs</td>\n",
       "      <td>http://reviews.bodybuilding.com/Controlled_Lab...</td>\n",
       "      <td>180.0</td>\n",
       "      <td>5.0</td>\n",
       "      <td>71.0</td>\n",
       "      <td>[{u'rating': 7.7, u'flavor': u'Spearmint/Citru...</td>\n",
       "    </tr>\n",
       "    <tr>\n",
       "      <th>638</th>\n",
       "      <td>4</td>\n",
       "      <td>0</td>\n",
       "      <td>7.4</td>\n",
       "      <td>3</td>\n",
       "      <td>1</td>\n",
       "      <td></td>\n",
       "      <td>I had never used a preworkout before this, but...</td>\n",
       "      <td>justindahlquist</td>\n",
       "      <td>:MrJHyde</td>\n",
       "      <td>BRAND_EAS</td>\n",
       "      <td>...</td>\n",
       "      <td>http://store.bbcomcdn.com/images/store/prodima...</td>\n",
       "      <td>Myoplex Pre-Workout</td>\n",
       "      <td>http://store.bbcomcdn.com/images/store/prodima...</td>\n",
       "      <td>http://www.bodybuilding.com/store/eas/myoplex-...</td>\n",
       "      <td>EAS</td>\n",
       "      <td>http://reviews.bodybuilding.com/eas/myoplex-pr...</td>\n",
       "      <td>139.0</td>\n",
       "      <td>8.0</td>\n",
       "      <td>70.0</td>\n",
       "      <td>[{u'rating': 8, u'flavor': u'Red Apple', u'tot...</td>\n",
       "    </tr>\n",
       "    <tr>\n",
       "      <th>646</th>\n",
       "      <td>1</td>\n",
       "      <td>0</td>\n",
       "      <td>9.4</td>\n",
       "      <td>2</td>\n",
       "      <td>0</td>\n",
       "      <td></td>\n",
       "      <td>My favorite pre workout. Formula is solid. I l...</td>\n",
       "      <td>EGFLEX1</td>\n",
       "      <td>:MrJHyde</td>\n",
       "      <td>cat2860026</td>\n",
       "      <td>...</td>\n",
       "      <td>http://store.bbcomcdn.com/images/store/prodima...</td>\n",
       "      <td>Enrage</td>\n",
       "      <td>http://store.bbcomcdn.com/images/store/prodima...</td>\n",
       "      <td>http://www.bodybuilding.com/store/eflow-nutrit...</td>\n",
       "      <td>eFlow Nutrition</td>\n",
       "      <td>http://reviews.bodybuilding.com/eflow-nutritio...</td>\n",
       "      <td>None</td>\n",
       "      <td>None</td>\n",
       "      <td>None</td>\n",
       "      <td>[{u'rating': 9.1, u'flavor': u'Gladiator Green...</td>\n",
       "    </tr>\n",
       "    <tr>\n",
       "      <th>757</th>\n",
       "      <td>18</td>\n",
       "      <td>0</td>\n",
       "      <td>0.0</td>\n",
       "      <td>0</td>\n",
       "      <td>0</td>\n",
       "      <td></td>\n",
       "      <td>I'm almost 39 years old and train hard and hea...</td>\n",
       "      <td>astwoodb</td>\n",
       "      <td>:MrJHyde</td>\n",
       "      <td>cat510016</td>\n",
       "      <td>...</td>\n",
       "      <td>http://store.bbcomcdn.com/images/store/prodima...</td>\n",
       "      <td>Flexible</td>\n",
       "      <td>http://store.bbcomcdn.com/images/store/prodima...</td>\n",
       "      <td>http://www.bodybuilding.com/store/formutech-nu...</td>\n",
       "      <td>Formutech Nutrition</td>\n",
       "      <td>http://reviews.bodybuilding.com/Formutech_Nutr...</td>\n",
       "      <td>227.0</td>\n",
       "      <td>9.0</td>\n",
       "      <td>72.0</td>\n",
       "      <td>[]</td>\n",
       "    </tr>\n",
       "    <tr>\n",
       "      <th>1133</th>\n",
       "      <td>4</td>\n",
       "      <td>0</td>\n",
       "      <td>2.8</td>\n",
       "      <td>1</td>\n",
       "      <td>0</td>\n",
       "      <td></td>\n",
       "      <td>does exactly what i says. 10/10. i usually sla...</td>\n",
       "      <td>ectobruh</td>\n",
       "      <td>:MrJHyde</td>\n",
       "      <td>BRAND_LIVELONG_NUTRITION</td>\n",
       "      <td>...</td>\n",
       "      <td>http://store.bbcomcdn.com/images/store/prodima...</td>\n",
       "      <td>Cissus</td>\n",
       "      <td>http://store.bbcomcdn.com/images/store/prodima...</td>\n",
       "      <td>http://www.bodybuilding.com/store/livelong-nut...</td>\n",
       "      <td>LiveLong Nutrition</td>\n",
       "      <td>http://reviews.bodybuilding.com/LiveLong_Nutri...</td>\n",
       "      <td>172.0</td>\n",
       "      <td>11.0</td>\n",
       "      <td>68.0</td>\n",
       "      <td>[{u'rating': 2.8, u'flavor': u'Unflavored', u'...</td>\n",
       "    </tr>\n",
       "    <tr>\n",
       "      <th>1156</th>\n",
       "      <td>5</td>\n",
       "      <td>0</td>\n",
       "      <td>0.0</td>\n",
       "      <td>0</td>\n",
       "      <td>0</td>\n",
       "      <td></td>\n",
       "      <td>I have tried twice this product.\\nOverall is a...</td>\n",
       "      <td>dinausore</td>\n",
       "      <td>:MrJHyde</td>\n",
       "      <td>BRAND_MAGNUM_NUTRACEUTICALS</td>\n",
       "      <td>...</td>\n",
       "      <td>http://store.bbcomcdn.com/images/store/prodima...</td>\n",
       "      <td>Thrust</td>\n",
       "      <td>http://store.bbcomcdn.com/images/store/prodima...</td>\n",
       "      <td>http://www.bodybuilding.com/store/magnum/thrus...</td>\n",
       "      <td>Magnum Nutraceuticals</td>\n",
       "      <td>http://reviews.bodybuilding.com/Magnum_Nutrace...</td>\n",
       "      <td>188.5</td>\n",
       "      <td>15.0</td>\n",
       "      <td>72.44</td>\n",
       "      <td>[]</td>\n",
       "    </tr>\n",
       "    <tr>\n",
       "      <th>1183</th>\n",
       "      <td>17</td>\n",
       "      <td>0</td>\n",
       "      <td>0.0</td>\n",
       "      <td>0</td>\n",
       "      <td>0</td>\n",
       "      <td></td>\n",
       "      <td>I have been taking this vitamin for over a yea...</td>\n",
       "      <td>ljones1903</td>\n",
       "      <td>:MrJHyde</td>\n",
       "      <td>BRAND_MET_RX</td>\n",
       "      <td>...</td>\n",
       "      <td>http://store.bbcomcdn.com/images/store/prodima...</td>\n",
       "      <td>Active Woman</td>\n",
       "      <td>http://store.bbcomcdn.com/images/store/prodima...</td>\n",
       "      <td>http://www.bodybuilding.com/store/met-rx/activ...</td>\n",
       "      <td>MET-Rx</td>\n",
       "      <td>http://reviews.bodybuilding.com/METRx/Active_W...</td>\n",
       "      <td>178.0</td>\n",
       "      <td>32.0</td>\n",
       "      <td>66.0</td>\n",
       "      <td>[]</td>\n",
       "    </tr>\n",
       "    <tr>\n",
       "      <th>1278</th>\n",
       "      <td>228</td>\n",
       "      <td>0</td>\n",
       "      <td>5.8</td>\n",
       "      <td>9</td>\n",
       "      <td>0</td>\n",
       "      <td></td>\n",
       "      <td>I was one of those protein consumers that was ...</td>\n",
       "      <td>haalejandre</td>\n",
       "      <td>:MrJHyde</td>\n",
       "      <td>BRAND_MUSCLEMEDS</td>\n",
       "      <td>...</td>\n",
       "      <td>http://store.bbcomcdn.com/images/store/prodima...</td>\n",
       "      <td>Carnivor</td>\n",
       "      <td>http://store.bbcomcdn.com/images/store/prodima...</td>\n",
       "      <td>http://www.bodybuilding.com/store/musclemeds/c...</td>\n",
       "      <td>MuscleMeds</td>\n",
       "      <td>http://reviews.bodybuilding.com/MuscleMeds/Car...</td>\n",
       "      <td>172.0</td>\n",
       "      <td>14.0</td>\n",
       "      <td>None</td>\n",
       "      <td>[{u'rating': 4.6, u'flavor': u'Cherry Vanilla'...</td>\n",
       "    </tr>\n",
       "    <tr>\n",
       "      <th>1334</th>\n",
       "      <td>196</td>\n",
       "      <td>0</td>\n",
       "      <td>8.3</td>\n",
       "      <td>3</td>\n",
       "      <td>0</td>\n",
       "      <td></td>\n",
       "      <td>This is the first pre-workout I have used in a...</td>\n",
       "      <td>daniloluis21</td>\n",
       "      <td>:MrJHyde</td>\n",
       "      <td>BRAND_MUSCLETECH</td>\n",
       "      <td>...</td>\n",
       "      <td>http://store.bbcomcdn.com/images/store/prodima...</td>\n",
       "      <td>Anarchy</td>\n",
       "      <td>http://store.bbcomcdn.com/images/store/prodima...</td>\n",
       "      <td>http://www.bodybuilding.com/store/musctech/per...</td>\n",
       "      <td>MuscleTech</td>\n",
       "      <td>http://reviews.bodybuilding.com/musctech/anarchy/</td>\n",
       "      <td>217.0</td>\n",
       "      <td>None</td>\n",
       "      <td>None</td>\n",
       "      <td>[{u'rating': 8.3, u'flavor': u'Blue Raspberry'...</td>\n",
       "    </tr>\n",
       "    <tr>\n",
       "      <th>1354</th>\n",
       "      <td>27</td>\n",
       "      <td>0</td>\n",
       "      <td>5.6</td>\n",
       "      <td>8</td>\n",
       "      <td>2</td>\n",
       "      <td></td>\n",
       "      <td>Gave me arse cancer, kys who ever made this.</td>\n",
       "      <td>ArronCarter1997</td>\n",
       "      <td>:MrJHyde</td>\n",
       "      <td>cat210016</td>\n",
       "      <td>...</td>\n",
       "      <td>http://store.bbcomcdn.com/images/store/prodima...</td>\n",
       "      <td>Mass</td>\n",
       "      <td>http://store.bbcomcdn.com/images/store/prodima...</td>\n",
       "      <td>http://www.bodybuilding.com/store/mutant/mutan...</td>\n",
       "      <td>MUTANT</td>\n",
       "      <td>http://reviews.bodybuilding.com/MUTANT/Mass/</td>\n",
       "      <td>165.0</td>\n",
       "      <td>17.0</td>\n",
       "      <td>71.0</td>\n",
       "      <td>[{u'rating': 8.2, u'flavor': u'Strawberry Bana...</td>\n",
       "    </tr>\n",
       "    <tr>\n",
       "      <th>1636</th>\n",
       "      <td>1</td>\n",
       "      <td>1</td>\n",
       "      <td>7.8</td>\n",
       "      <td>2</td>\n",
       "      <td>1</td>\n",
       "      <td></td>\n",
       "      <td>Suffering from possible food allergies looking...</td>\n",
       "      <td>Dexxter28</td>\n",
       "      <td>:MrJHyde</td>\n",
       "      <td>cat1480002</td>\n",
       "      <td>...</td>\n",
       "      <td>http://store.bbcomcdn.com/images/store/prodima...</td>\n",
       "      <td>Vegan Series Select Protein</td>\n",
       "      <td>http://store.bbcomcdn.com/images/store/prodima...</td>\n",
       "      <td>http://www.bodybuilding.com/store/pescience/se...</td>\n",
       "      <td>PEScience</td>\n",
       "      <td>http://reviews.bodybuilding.com/pescience/sele...</td>\n",
       "      <td>127.0</td>\n",
       "      <td>14.0</td>\n",
       "      <td>None</td>\n",
       "      <td>[{u'rating': 8.8, u'flavor': u'Chocolate Bliss...</td>\n",
       "    </tr>\n",
       "    <tr>\n",
       "      <th>1697</th>\n",
       "      <td>2</td>\n",
       "      <td>0</td>\n",
       "      <td>0.0</td>\n",
       "      <td>0</td>\n",
       "      <td>0</td>\n",
       "      <td></td>\n",
       "      <td>I'm not sure how you would know it works excep...</td>\n",
       "      <td>bluedog1b</td>\n",
       "      <td>:MrJHyde</td>\n",
       "      <td>BRAND_PRIMAFORCE</td>\n",
       "      <td>...</td>\n",
       "      <td>http://store.bbcomcdn.com/images/store/prodima...</td>\n",
       "      <td>Pro Liver</td>\n",
       "      <td>http://store.bbcomcdn.com/images/store/prodima...</td>\n",
       "      <td>http://www.bodybuilding.com/store/prima/liver....</td>\n",
       "      <td>PrimaForce</td>\n",
       "      <td>http://reviews.bodybuilding.com/PrimaForce/Pro...</td>\n",
       "      <td>218.0</td>\n",
       "      <td>11.0</td>\n",
       "      <td>71.0</td>\n",
       "      <td>[]</td>\n",
       "    </tr>\n",
       "    <tr>\n",
       "      <th>1941</th>\n",
       "      <td>4</td>\n",
       "      <td>0</td>\n",
       "      <td>4.5</td>\n",
       "      <td>2</td>\n",
       "      <td>0</td>\n",
       "      <td></td>\n",
       "      <td>I've been dealing with a couple of chronic inf...</td>\n",
       "      <td>carynatate</td>\n",
       "      <td>:MrJHyde</td>\n",
       "      <td>BRAND_SNAC</td>\n",
       "      <td>...</td>\n",
       "      <td>http://store.bbcomcdn.com/images/store/prodima...</td>\n",
       "      <td>Xpedite</td>\n",
       "      <td>http://store.bbcomcdn.com/images/store/prodima...</td>\n",
       "      <td>http://www.bodybuilding.com/store/snac-system/...</td>\n",
       "      <td>SNAC</td>\n",
       "      <td>http://reviews.bodybuilding.com/SNAC/XPEDITE/</td>\n",
       "      <td>None</td>\n",
       "      <td>None</td>\n",
       "      <td>None</td>\n",
       "      <td>[{u'rating': 8.9, u'flavor': u'Raspberry Lemon...</td>\n",
       "    </tr>\n",
       "    <tr>\n",
       "      <th>1993</th>\n",
       "      <td>2</td>\n",
       "      <td>0</td>\n",
       "      <td>0.0</td>\n",
       "      <td>0</td>\n",
       "      <td>0</td>\n",
       "      <td></td>\n",
       "      <td>Lots of libido as well as increasing stamina.</td>\n",
       "      <td>a5el</td>\n",
       "      <td>:MrJHyde</td>\n",
       "      <td>BRAND_SUPREME_SPORTS_ENHANCEMENTS</td>\n",
       "      <td>...</td>\n",
       "      <td>http://store.bbcomcdn.com/images/store/prodima...</td>\n",
       "      <td>LipoTHERM Elite</td>\n",
       "      <td>http://store.bbcomcdn.com/images/store/prodima...</td>\n",
       "      <td>http://www.bodybuilding.com/store/supreme-spor...</td>\n",
       "      <td>Supreme Sports Enhancements</td>\n",
       "      <td>http://reviews.bodybuilding.com/supreme-sports...</td>\n",
       "      <td>None</td>\n",
       "      <td>None</td>\n",
       "      <td>None</td>\n",
       "      <td>[]</td>\n",
       "    </tr>\n",
       "    <tr>\n",
       "      <th>2108</th>\n",
       "      <td>8</td>\n",
       "      <td>0</td>\n",
       "      <td>10.0</td>\n",
       "      <td>1</td>\n",
       "      <td>0</td>\n",
       "      <td></td>\n",
       "      <td>Good energy, no crash afterwards. I warm up wi...</td>\n",
       "      <td>babbyj</td>\n",
       "      <td>:MrJHyde</td>\n",
       "      <td>BRAND_VIGOR_LABS</td>\n",
       "      <td>...</td>\n",
       "      <td>http://store.bbcomcdn.com/images/store/prodima...</td>\n",
       "      <td>Cracked Energy</td>\n",
       "      <td>http://store.bbcomcdn.com/images/store/prodima...</td>\n",
       "      <td>http://www.bodybuilding.com/store/vigor-labs/c...</td>\n",
       "      <td>Vigor Labs</td>\n",
       "      <td>http://reviews.bodybuilding.com/Vigor_Labs/Cra...</td>\n",
       "      <td>191.0</td>\n",
       "      <td>16.9</td>\n",
       "      <td>69.0</td>\n",
       "      <td>[{u'rating': 10, u'flavor': u'Exclusive!', u't...</td>\n",
       "    </tr>\n",
       "    <tr>\n",
       "      <th>2115</th>\n",
       "      <td>48</td>\n",
       "      <td>0</td>\n",
       "      <td>6.5</td>\n",
       "      <td>5</td>\n",
       "      <td>0</td>\n",
       "      <td></td>\n",
       "      <td>Well what can i say... it's vitargo s2... its ...</td>\n",
       "      <td>Jasonva</td>\n",
       "      <td>:MrJHyde</td>\n",
       "      <td>BRAND_GENR8</td>\n",
       "      <td>...</td>\n",
       "      <td>http://store.bbcomcdn.com/images/store/prodima...</td>\n",
       "      <td>Vitargo S2</td>\n",
       "      <td>http://store.bbcomcdn.com/images/store/prodima...</td>\n",
       "      <td>http://www.bodybuilding.com/store/vitargo-glob...</td>\n",
       "      <td>Vitargo Global Sciences</td>\n",
       "      <td>http://reviews.bodybuilding.com/GENR8/Vitargo_S2/</td>\n",
       "      <td>193.0</td>\n",
       "      <td>8.0</td>\n",
       "      <td>69.0</td>\n",
       "      <td>[{u'rating': 7.4, u'flavor': u'Natural Juicy O...</td>\n",
       "    </tr>\n",
       "    <tr>\n",
       "      <th>2152</th>\n",
       "      <td>88</td>\n",
       "      <td>0</td>\n",
       "      <td>9.0</td>\n",
       "      <td>10</td>\n",
       "      <td>0</td>\n",
       "      <td></td>\n",
       "      <td>Flavor: Excellent 10! When heated in a sauce p...</td>\n",
       "      <td>Arch3rRosi3</td>\n",
       "      <td>:MrJHyde</td>\n",
       "      <td>BRAND_XTREME_FORMULATIONS</td>\n",
       "      <td>...</td>\n",
       "      <td>http://store.bbcomcdn.com/images/store/prodima...</td>\n",
       "      <td>Ultra Peptide</td>\n",
       "      <td>http://store.bbcomcdn.com/images/store/prodima...</td>\n",
       "      <td>http://www.bodybuilding.com/store/xf/ultrapept...</td>\n",
       "      <td>Xtreme Formulations</td>\n",
       "      <td>http://reviews.bodybuilding.com/Xtreme_Formula...</td>\n",
       "      <td>134.0</td>\n",
       "      <td>24.0</td>\n",
       "      <td>62.5</td>\n",
       "      <td>[{u'rating': 8.5, u'flavor': u'Mochaccino', u'...</td>\n",
       "    </tr>\n",
       "  </tbody>\n",
       "</table>\n",
       "<p>22 rows × 36 columns</p>\n",
       "</div>"
      ],
      "text/plain": [
       "      totalItems  helpful  overallRating  totalRatings  helpfulTotal title  \\\n",
       "200            2        0            3.7             3             0         \n",
       "229           12        0            9.3             2             0         \n",
       "412          128        0            0.0             0             0         \n",
       "428           58        0            9.3             2             0         \n",
       "439            5        0            6.2             5             0         \n",
       "502            4        0            7.7             1             0         \n",
       "638            4        0            7.4             3             1         \n",
       "646            1        0            9.4             2             0         \n",
       "757           18        0            0.0             0             0         \n",
       "1133           4        0            2.8             1             0         \n",
       "1156           5        0            0.0             0             0         \n",
       "1183          17        0            0.0             0             0         \n",
       "1278         228        0            5.8             9             0         \n",
       "1334         196        0            8.3             3             0         \n",
       "1354          27        0            5.6             8             2         \n",
       "1636           1        1            7.8             2             1         \n",
       "1697           2        0            0.0             0             0         \n",
       "1941           4        0            4.5             2             0         \n",
       "1993           2        0            0.0             0             0         \n",
       "2108           8        0           10.0             1             0         \n",
       "2115          48        0            6.5             5             0         \n",
       "2152          88        0            9.0            10             0         \n",
       "\n",
       "                                                   text         username  \\\n",
       "200   I ordered this product after hearing very good...       Palmer0123   \n",
       "229   I drink this during my workout. It's not heavy...       cmakrickas   \n",
       "412   I have only used this a few days, but I will n...      globeHopper   \n",
       "428   Was having to take time off of my major lifts ...         Braap105   \n",
       "439   This product gives me the push I need to make ...   rcastellano628   \n",
       "502   This works pretty well. Does more than it shou...      drhondyjr93   \n",
       "638   I had never used a preworkout before this, but...  justindahlquist   \n",
       "646   My favorite pre workout. Formula is solid. I l...          EGFLEX1   \n",
       "757   I'm almost 39 years old and train hard and hea...         astwoodb   \n",
       "1133  does exactly what i says. 10/10. i usually sla...         ectobruh   \n",
       "1156  I have tried twice this product.\\nOverall is a...        dinausore   \n",
       "1183  I have been taking this vitamin for over a yea...       ljones1903   \n",
       "1278  I was one of those protein consumers that was ...      haalejandre   \n",
       "1334  This is the first pre-workout I have used in a...     daniloluis21   \n",
       "1354       Gave me arse cancer, kys who ever made this.  ArronCarter1997   \n",
       "1636  Suffering from possible food allergies looking...        Dexxter28   \n",
       "1697  I'm not sure how you would know it works excep...        bluedog1b   \n",
       "1941  I've been dealing with a couple of chronic inf...       carynatate   \n",
       "1993      Lots of libido as well as increasing stamina.             a5el   \n",
       "2108  Good energy, no crash afterwards. I warm up wi...           babbyj   \n",
       "2115  Well what can i say... it's vitargo s2... its ...          Jasonva   \n",
       "2152  Flavor: Excellent 10! When heated in a sauce p...      Arch3rRosi3   \n",
       "\n",
       "     updateStatusReason                            brandId  \\\n",
       "200            :MrJHyde         BRAND_BETANCOURT_NUTRITION   \n",
       "229            :MrJHyde                 BRAND_BEVERLY_INT_   \n",
       "412            :MrJHyde                          BRAND_BSN   \n",
       "428            :MrJHyde                         cat2190001   \n",
       "439            :MrJHyde                     BRAND_CELLUCOR   \n",
       "502            :MrJHyde              BRAND_CONTROLLED_LABS   \n",
       "638            :MrJHyde                          BRAND_EAS   \n",
       "646            :MrJHyde                         cat2860026   \n",
       "757            :MrJHyde                          cat510016   \n",
       "1133           :MrJHyde           BRAND_LIVELONG_NUTRITION   \n",
       "1156           :MrJHyde        BRAND_MAGNUM_NUTRACEUTICALS   \n",
       "1183           :MrJHyde                       BRAND_MET_RX   \n",
       "1278           :MrJHyde                   BRAND_MUSCLEMEDS   \n",
       "1334           :MrJHyde                   BRAND_MUSCLETECH   \n",
       "1354           :MrJHyde                          cat210016   \n",
       "1636           :MrJHyde                         cat1480002   \n",
       "1697           :MrJHyde                   BRAND_PRIMAFORCE   \n",
       "1941           :MrJHyde                         BRAND_SNAC   \n",
       "1993           :MrJHyde  BRAND_SUPREME_SPORTS_ENHANCEMENTS   \n",
       "2108           :MrJHyde                   BRAND_VIGOR_LABS   \n",
       "2115           :MrJHyde                        BRAND_GENR8   \n",
       "2152           :MrJHyde          BRAND_XTREME_FORMULATIONS   \n",
       "\n",
       "                            ...                          \\\n",
       "200                         ...                           \n",
       "229                         ...                           \n",
       "412                         ...                           \n",
       "428                         ...                           \n",
       "439                         ...                           \n",
       "502                         ...                           \n",
       "638                         ...                           \n",
       "646                         ...                           \n",
       "757                         ...                           \n",
       "1133                        ...                           \n",
       "1156                        ...                           \n",
       "1183                        ...                           \n",
       "1278                        ...                           \n",
       "1334                        ...                           \n",
       "1354                        ...                           \n",
       "1636                        ...                           \n",
       "1697                        ...                           \n",
       "1941                        ...                           \n",
       "1993                        ...                           \n",
       "2108                        ...                           \n",
       "2115                        ...                           \n",
       "2152                        ...                           \n",
       "\n",
       "                                             imageLarge  \\\n",
       "200   http://store.bbcomcdn.com/images/store/prodima...   \n",
       "229   http://store.bbcomcdn.com/images/store/prodima...   \n",
       "412   http://store.bbcomcdn.com/images/store/prodima...   \n",
       "428   http://store.bbcomcdn.com/images/store/prodima...   \n",
       "439   http://store.bbcomcdn.com/images/store/prodima...   \n",
       "502   http://store.bbcomcdn.com/images/store/prodima...   \n",
       "638   http://store.bbcomcdn.com/images/store/prodima...   \n",
       "646   http://store.bbcomcdn.com/images/store/prodima...   \n",
       "757   http://store.bbcomcdn.com/images/store/prodima...   \n",
       "1133  http://store.bbcomcdn.com/images/store/prodima...   \n",
       "1156  http://store.bbcomcdn.com/images/store/prodima...   \n",
       "1183  http://store.bbcomcdn.com/images/store/prodima...   \n",
       "1278  http://store.bbcomcdn.com/images/store/prodima...   \n",
       "1334  http://store.bbcomcdn.com/images/store/prodima...   \n",
       "1354  http://store.bbcomcdn.com/images/store/prodima...   \n",
       "1636  http://store.bbcomcdn.com/images/store/prodima...   \n",
       "1697  http://store.bbcomcdn.com/images/store/prodima...   \n",
       "1941  http://store.bbcomcdn.com/images/store/prodima...   \n",
       "1993  http://store.bbcomcdn.com/images/store/prodima...   \n",
       "2108  http://store.bbcomcdn.com/images/store/prodima...   \n",
       "2115  http://store.bbcomcdn.com/images/store/prodima...   \n",
       "2152  http://store.bbcomcdn.com/images/store/prodima...   \n",
       "\n",
       "                             name  \\\n",
       "200               D-Stunner Alpha   \n",
       "229               Muscle Provider   \n",
       "412                   HYPER SHRED   \n",
       "428                       Recover   \n",
       "439                  C4 On The Go   \n",
       "502            Orange OxiMega Kit   \n",
       "638           Myoplex Pre-Workout   \n",
       "646                        Enrage   \n",
       "757                      Flexible   \n",
       "1133                       Cissus   \n",
       "1156                       Thrust   \n",
       "1183                 Active Woman   \n",
       "1278                     Carnivor   \n",
       "1334                      Anarchy   \n",
       "1354                         Mass   \n",
       "1636  Vegan Series Select Protein   \n",
       "1697                    Pro Liver   \n",
       "1941                      Xpedite   \n",
       "1993              LipoTHERM Elite   \n",
       "2108               Cracked Energy   \n",
       "2115                   Vitargo S2   \n",
       "2152                Ultra Peptide   \n",
       "\n",
       "                                             imageSmall  \\\n",
       "200   http://store.bbcomcdn.com/images/store/prodima...   \n",
       "229   http://store.bbcomcdn.com/images/store/prodima...   \n",
       "412   http://store.bbcomcdn.com/images/store/prodima...   \n",
       "428   http://store.bbcomcdn.com/images/store/prodima...   \n",
       "439   http://store.bbcomcdn.com/images/store/prodima...   \n",
       "502   http://store.bbcomcdn.com/images/store/prodima...   \n",
       "638   http://store.bbcomcdn.com/images/store/prodima...   \n",
       "646   http://store.bbcomcdn.com/images/store/prodima...   \n",
       "757   http://store.bbcomcdn.com/images/store/prodima...   \n",
       "1133  http://store.bbcomcdn.com/images/store/prodima...   \n",
       "1156  http://store.bbcomcdn.com/images/store/prodima...   \n",
       "1183  http://store.bbcomcdn.com/images/store/prodima...   \n",
       "1278  http://store.bbcomcdn.com/images/store/prodima...   \n",
       "1334  http://store.bbcomcdn.com/images/store/prodima...   \n",
       "1354  http://store.bbcomcdn.com/images/store/prodima...   \n",
       "1636  http://store.bbcomcdn.com/images/store/prodima...   \n",
       "1697  http://store.bbcomcdn.com/images/store/prodima...   \n",
       "1941  http://store.bbcomcdn.com/images/store/prodima...   \n",
       "1993  http://store.bbcomcdn.com/images/store/prodima...   \n",
       "2108  http://store.bbcomcdn.com/images/store/prodima...   \n",
       "2115  http://store.bbcomcdn.com/images/store/prodima...   \n",
       "2152  http://store.bbcomcdn.com/images/store/prodima...   \n",
       "\n",
       "                                                    url  \\\n",
       "200   http://www.bodybuilding.com/store/betancourt/d...   \n",
       "229   http://www.bodybuilding.com/store/bev/muscle.html   \n",
       "412   http://www.bodybuilding.com/store/bsn/hyper-sh...   \n",
       "428   http://www.bodybuilding.com/store/carbon-by-la...   \n",
       "439   http://www.bodybuilding.com/store/cellucor/c4-...   \n",
       "502   http://www.bodybuilding.com/store/clabs/orange...   \n",
       "638   http://www.bodybuilding.com/store/eas/myoplex-...   \n",
       "646   http://www.bodybuilding.com/store/eflow-nutrit...   \n",
       "757   http://www.bodybuilding.com/store/formutech-nu...   \n",
       "1133  http://www.bodybuilding.com/store/livelong-nut...   \n",
       "1156  http://www.bodybuilding.com/store/magnum/thrus...   \n",
       "1183  http://www.bodybuilding.com/store/met-rx/activ...   \n",
       "1278  http://www.bodybuilding.com/store/musclemeds/c...   \n",
       "1334  http://www.bodybuilding.com/store/musctech/per...   \n",
       "1354  http://www.bodybuilding.com/store/mutant/mutan...   \n",
       "1636  http://www.bodybuilding.com/store/pescience/se...   \n",
       "1697  http://www.bodybuilding.com/store/prima/liver....   \n",
       "1941  http://www.bodybuilding.com/store/snac-system/...   \n",
       "1993  http://www.bodybuilding.com/store/supreme-spor...   \n",
       "2108  http://www.bodybuilding.com/store/vigor-labs/c...   \n",
       "2115  http://www.bodybuilding.com/store/vitargo-glob...   \n",
       "2152  http://www.bodybuilding.com/store/xf/ultrapept...   \n",
       "\n",
       "                        brandName  \\\n",
       "200          Betancourt Nutrition   \n",
       "229         Beverly International   \n",
       "412                           BSN   \n",
       "428        Carbon by Layne Norton   \n",
       "439                      Cellucor   \n",
       "502               Controlled Labs   \n",
       "638                           EAS   \n",
       "646               eFlow Nutrition   \n",
       "757           Formutech Nutrition   \n",
       "1133           LiveLong Nutrition   \n",
       "1156        Magnum Nutraceuticals   \n",
       "1183                       MET-Rx   \n",
       "1278                   MuscleMeds   \n",
       "1334                   MuscleTech   \n",
       "1354                       MUTANT   \n",
       "1636                    PEScience   \n",
       "1697                   PrimaForce   \n",
       "1941                         SNAC   \n",
       "1993  Supreme Sports Enhancements   \n",
       "2108                   Vigor Labs   \n",
       "2115      Vitargo Global Sciences   \n",
       "2152          Xtreme Formulations   \n",
       "\n",
       "                                              reviewUrl weight bodyfat height  \\\n",
       "200   http://reviews.bodybuilding.com/betancourt/d-s...  151.0    14.9   None   \n",
       "229   http://reviews.bodybuilding.com/Beverly_Intern...  141.0    21.1   64.0   \n",
       "412    http://reviews.bodybuilding.com/BSN/HYPER_SHRED/  170.0    11.0   70.0   \n",
       "428   http://reviews.bodybuilding.com/carbon-by-layn...  220.0    14.0   74.0   \n",
       "439   http://reviews.bodybuilding.com/cellucor/c4-on...  223.0    33.5   69.0   \n",
       "502   http://reviews.bodybuilding.com/Controlled_Lab...  180.0     5.0   71.0   \n",
       "638   http://reviews.bodybuilding.com/eas/myoplex-pr...  139.0     8.0   70.0   \n",
       "646   http://reviews.bodybuilding.com/eflow-nutritio...   None    None   None   \n",
       "757   http://reviews.bodybuilding.com/Formutech_Nutr...  227.0     9.0   72.0   \n",
       "1133  http://reviews.bodybuilding.com/LiveLong_Nutri...  172.0    11.0   68.0   \n",
       "1156  http://reviews.bodybuilding.com/Magnum_Nutrace...  188.5    15.0  72.44   \n",
       "1183  http://reviews.bodybuilding.com/METRx/Active_W...  178.0    32.0   66.0   \n",
       "1278  http://reviews.bodybuilding.com/MuscleMeds/Car...  172.0    14.0   None   \n",
       "1334  http://reviews.bodybuilding.com/musctech/anarchy/  217.0    None   None   \n",
       "1354       http://reviews.bodybuilding.com/MUTANT/Mass/  165.0    17.0   71.0   \n",
       "1636  http://reviews.bodybuilding.com/pescience/sele...  127.0    14.0   None   \n",
       "1697  http://reviews.bodybuilding.com/PrimaForce/Pro...  218.0    11.0   71.0   \n",
       "1941      http://reviews.bodybuilding.com/SNAC/XPEDITE/   None    None   None   \n",
       "1993  http://reviews.bodybuilding.com/supreme-sports...   None    None   None   \n",
       "2108  http://reviews.bodybuilding.com/Vigor_Labs/Cra...  191.0    16.9   69.0   \n",
       "2115  http://reviews.bodybuilding.com/GENR8/Vitargo_S2/  193.0     8.0   69.0   \n",
       "2152  http://reviews.bodybuilding.com/Xtreme_Formula...  134.0    24.0   62.5   \n",
       "\n",
       "                                                ratings  \n",
       "200   [{u'rating': 0, u'flavor': u'Lemon Drop', u'to...  \n",
       "229   [{u'rating': 9.6, u'flavor': u'Chocolate', u't...  \n",
       "412                                                  []  \n",
       "428   [{u'rating': 9.3, u'flavor': u'Blueberry Pomeg...  \n",
       "439   [{u'rating': 9.2, u'flavor': u'Watermelon', u'...  \n",
       "502   [{u'rating': 7.7, u'flavor': u'Spearmint/Citru...  \n",
       "638   [{u'rating': 8, u'flavor': u'Red Apple', u'tot...  \n",
       "646   [{u'rating': 9.1, u'flavor': u'Gladiator Green...  \n",
       "757                                                  []  \n",
       "1133  [{u'rating': 2.8, u'flavor': u'Unflavored', u'...  \n",
       "1156                                                 []  \n",
       "1183                                                 []  \n",
       "1278  [{u'rating': 4.6, u'flavor': u'Cherry Vanilla'...  \n",
       "1334  [{u'rating': 8.3, u'flavor': u'Blue Raspberry'...  \n",
       "1354  [{u'rating': 8.2, u'flavor': u'Strawberry Bana...  \n",
       "1636  [{u'rating': 8.8, u'flavor': u'Chocolate Bliss...  \n",
       "1697                                                 []  \n",
       "1941  [{u'rating': 8.9, u'flavor': u'Raspberry Lemon...  \n",
       "1993                                                 []  \n",
       "2108  [{u'rating': 10, u'flavor': u'Exclusive!', u't...  \n",
       "2115  [{u'rating': 7.4, u'flavor': u'Natural Juicy O...  \n",
       "2152  [{u'rating': 8.5, u'flavor': u'Mochaccino', u'...  \n",
       "\n",
       "[22 rows x 36 columns]"
      ]
     },
     "execution_count": 73,
     "metadata": {},
     "output_type": "execute_result"
    }
   ],
   "source": [
    "model.df[model.df.updateStatusReason == ':MrJHyde']"
   ]
  },
  {
   "cell_type": "code",
   "execution_count": 78,
   "metadata": {
    "collapsed": false,
    "scrolled": true
   },
   "outputs": [
    {
     "name": "stdout",
     "output_type": "stream",
     "text": [
      "<type 'numpy.int64'>\n",
      "<type 'numpy.int64'>\n",
      "<type 'numpy.float64'>\n",
      "<type 'numpy.int64'>\n",
      "<type 'numpy.int64'>\n",
      "<type 'unicode'>\n",
      "<type 'unicode'>\n",
      "<type 'unicode'>\n",
      "<type 'NoneType'>\n",
      "<type 'unicode'>\n",
      "<type 'dict'>\n",
      "<type 'dict'>\n",
      "<type 'unicode'>\n",
      "<type 'unicode'>\n",
      "<type 'unicode'>\n",
      "<type 'numpy.int64'>\n",
      "<type 'unicode'>\n",
      "<type 'unicode'>\n",
      "<type 'unicode'>\n",
      "<type 'numpy.int64'>\n",
      "<type 'list'>\n",
      "<type 'numpy.int64'>\n",
      "<type 'unicode'>\n",
      "<type 'numpy.float64'>\n",
      "<type 'unicode'>\n",
      "<type 'numpy.int64'>\n",
      "<type 'unicode'>\n",
      "<type 'unicode'>\n",
      "<type 'unicode'>\n",
      "<type 'unicode'>\n",
      "<type 'unicode'>\n",
      "<type 'unicode'>\n",
      "<type 'unicode'>\n",
      "<type 'unicode'>\n",
      "<type 'unicode'>\n",
      "<type 'list'>\n"
     ]
    }
   ],
   "source": [
    "for col in model.df.columns:\n",
    "{\"totalItems\":9,\"productReviews\":[{\"productReview\":{\"_id\":\"56f96b6f0cf2a4144a3adb38\",\"entityId\":\"productreview-prod3700065\",\"userId\":127617211,\"slug\":\"paulalyons\",\"username\":\"paulalyons\",\"title\":\"\",\"text\":\"Love Amino Cuts as an everyday pick me up! Also use it just before a blast of cardio or added to a non stimulant Pre-workout powder.  LOVE the Pina Colada!!! Amazing flavor and No jitters!! \",\"date\":1459186543000,\"modDate\":1459186543000,\"status\":1,\"updateStatusReason\":null,\"brandId\":\"BRAND_ALLMAX_NUTRITION\",\"skuList\":null,\"productId\":\"prod3700065\",\"totalRatings\":null,\"overallRating\":null,\"verified\":true},\"product\":{\"id\":\"prod3700065\",\"productId\":\"prod3700065\",\"name\":\"A:Cuts\",\"description\":\"Designed to Give You Energy To Train and Aminos to Maintain!*\",\"briefDescription\":\"\",\"url\":\"http://www.bodybuilding.com/store/allmax-nutrition/acuts.html\",\"skuList\":null,\"flavorList\":[\"Pina Colada\",\"Goji Berry Martini\",\"Pink Lemonade\",\"Arctic Orange\"],\"brandId\":\"BRAND_ALLMAX_NUTRITION\",\"brandName\":\"AllMax Nutrition\",\"imageSmall\":\"http://store.bbcomcdn.com/images/store/prodimage/prod_prod3700065/image_prodprod3700065_largeImage_X_70_white.jpg\",\"imageMedium\":\"http://store.bbcomcdn.com/images/store/prodimage/prod_prod3700065/image_prodprod3700065_largeImage_X_130_white.jpg\",\"imageLarge\":\"http://store.bbcomcdn.com/images/store/prodimage/prod_prod3700065/image_prodprod3700065_largeImage_X_450_white.jpg\",\"flavorRatings\":{\"overallRating\":9.3,\"totalRatings\":4,\"ratings\":[{\"id\":\"prod3700065-goji_berry_martini\",\"flavor\":\"Goji Berry Martini\",\"rating\":8.3,\"totalRatings\":3},{\"id\":\"prod3700065-arctic_orange\",\"flavor\":\"Arctic Orange\",\"rating\":10.0,\"totalRatings\":1},{\"id\":\"prod3700065-pina_colada\",\"flavor\":\"Pina Colada\",\"rating\":10.0,\"totalRatings\":9},{\"id\":\"prod3700065-pink_lemonade\",\"flavor\":\"Pink Lemonade\",\"rating\":9.0,\"totalRatings\":5}]},\"reviewUrl\":\"http://reviews.bodybuilding.com/allmax-nutrition/acuts/\",\"overallRating\":9.4,\"totalRatings\":17,\"verifiedBuyerRating\":9.9,\"totalVerifiedBuyers\":9,\"totalReviews\":16,\"totalVerifiedReviews\":9,\"verified\":null},\"overallRating\":9.4,\"totalRatings\":17,\"userRating\":{\"overallRating\":9.0,\"totalRatings\":null,\"ratings\":[{\"id\":\"prod3700065-pina_colada\",\"flavor\":\"Pina Colada\",\"rating\":10.0,\"totalRatings\":1}]},\"flavorRatings\":null,\"likeCount\":null,\"commentCount\":0,\"helpful\":0,\"helpfulTotal\":0,\"wasHelpful\":null,\"member\":{\"userId\":127617211,\"username\":\"paulalyons\",\"slug\":\"paulalyons\",\"vbuserId\":0,\"lastActivity\":null,\"profilePicThumbPath\":null,\"profilePicPath\":\"http://assets.bodybuilding.com/images/profiledefault_thumb.jpg\",\"profilePicAvatarPath\":null,\"profilePicOriginalPath\":null,\"realName\":null,\"profileURL\":null,\"groupId\":null,\"activated\":false,\"emailAddress\":null,\"joinDate\":null,\"gender\":null,\"photoCount\":0},\"stats\":null,\"likeStats\":null},{\"productReview\":{\"_id\":\"56e6bef70cf250667f25e525\",\"entityId\":\"productreview-prod3700065\",\"userId\":51039461,\"slug\":\"Renegade81\",\"username\":\"Renegade81\",\"title\":\"\",\"text\":\"I've been using aminos for a little over two years now.. \\n\\nI'm always open to try new products because I want any extra help I can get.\\nI was given a tub of the piña colada to sample and immediately was sold on the flavor, that's going to be for anyone. But for me it's what's in the aminos, at a quick glance the first thing I noticed was CLA and natural caffeine .. I thought well this is winning me over already, I grabbed two other aminos I currently used and compared and it was pretty black and white which aminos was better..\\n\\nNot only did I switch to allmax aminos but also glutamine and protein for starters .. I'll definitely try pre workouts and other things down the road . \",\"date\":1457962743000,\"modDate\":1457962743000,\"status\":1,\"updateStatusReason\":null,\"brandId\":\"BRAND_ALLMAX_NUTRITION\",\"skuList\":null,\"productId\":\"prod3700065\",\"totalRatings\":null,\"overallRating\":null,\"verified\":true},\"product\":{\"id\":\"prod3700065\",\"productId\":\"prod3700065\",\"name\":\"A:Cuts\",\"description\":\"Designed to Give You Energy To Train and Aminos to Maintain!*\",\"briefDescription\":\"\",\"url\":\"http://www.bodybuilding.com/store/allmax-nutrition/acuts.html\",\"skuList\":null,\"flavorList\":[\"Pina Colada\",\"Goji Berry Martini\",\"Pink Lemonade\",\"Arctic Orange\"],\"brandId\":\"BRAND_ALLMAX_NUTRITION\",\"brandName\":\"AllMax Nutrition\",\"imageSmall\":\"http://store.bbcomcdn.com/images/store/prodimage/prod_prod3700065/image_prodprod3700065_largeImage_X_70_white.jpg\",\"imageMedium\":\"http://store.bbcomcdn.com/images/store/prodimage/prod_prod3700065/image_prodprod3700065_largeImage_X_130_white.jpg\",\"imageLarge\":\"http://store.bbcomcdn.com/images/store/prodimage/prod_prod3700065/image_prodprod3700065_largeImage_X_450_white.jpg\",\"flavorRatings\":{\"overallRating\":9.3,\"totalRatings\":4,\"ratings\":[{\"id\":\"prod3700065-goji_berry_martini\",\"flavor\":\"Goji Berry Martini\",\"rating\":8.3,\"totalRatings\":3},{\"id\":\"prod3700065-arctic_orange\",\"flavor\":\"Arctic Orange\",\"rating\":10.0,\"totalRatings\":1},{\"id\":\"prod3700065-pina_colada\",\"flavor\":\"Pina Colada\",\"rating\":10.0,\"totalRatings\":9},{\"id\":\"prod3700065-pink_lemonade\",\"flavor\":\"Pink Lemonade\",\"rating\":9.0,\"totalRatings\":5}]},\"reviewUrl\":\"http://reviews.bodybuilding.com/allmax-nutrition/acuts/\",\"overallRating\":9.4,\"totalRatings\":17,\"verifiedBuyerRating\":9.9,\"totalVerifiedBuyers\":9,\"totalReviews\":16,\"totalVerifiedReviews\":9,\"verified\":null},\"overallRating\":9.4,\"totalRatings\":17,\"userRating\":{\"overallRating\":10.0,\"totalRatings\":null,\"ratings\":[{\"id\":\"prod3700065-goji_berry_martini\",\"flavor\":\"Goji Berry Martini\",\"rating\":9.0,\"totalRatings\":1},{\"id\":\"prod3700065-pina_colada\",\"flavor\":\"Pina Colada\",\"rating\":10.0,\"totalRatings\":1}]},\"flavorRatings\":null,\"likeCount\":null,\"commentCount\":0,\"helpful\":0,\"helpfulTotal\":0,\"wasHelpful\":null,\"member\":{\"userId\":51039461,\"username\":\"Renegade81\",\"slug\":\"Renegade81\",\"vbuserId\":0,\"lastActivity\":null,\"profilePicThumbPath\":null,\"profilePicPath\":\"http://imagecdn.bodybuilding.com/profile-photo/16493015/7c55628fc59048bbb435829a4957c8f3p.jpg\",\"profilePicAvatarPath\":null,\"profilePicOriginalPath\":null,\"realName\":null,\"profileURL\":null,\"groupId\":null,\"activated\":false,\"emailAddress\":null,\"joinDate\":null,\"gender\":null,\"photoCount\":0},\"stats\":{\"height\":\"63.0\",\"weight\":\"140.0\",\"weightChange\":null,\"bodyfat\":\"11.0\"},\"likeStats\":null},{\"productReview\":{\"_id\":\"56c4b6350cf2ca53884fced7\",\"entityId\":\"productreview-prod3700065\",\"userId\":104723352,\"slug\":\"Mdflores23\",\"username\":\"Mdflores23\",\"title\":\"\",\"text\":\"Flavor is awesome! Gives me the push I need specifically on cardio day \",\"date\":1455732277000,\"modDate\":1455732277000,\"status\":1,\"updateStatusReason\":null,\"brandId\":\"BRAND_ALLMAX_NUTRITION\",\"skuList\":null,\"productId\":\"prod3700065\",\"totalRatings\":null,\"overallRating\":null,\"verified\":true},\"product\":{\"id\":\"prod3700065\",\"productId\":\"prod3700065\",\"name\":\"A:Cuts\",\"description\":\"Designed to Give You Energy To Train and Aminos to Maintain!*\",\"briefDescription\":\"\",\"url\":\"http://www.bodybuilding.com/store/allmax-nutrition/acuts.html\",\"skuList\":null,\"flavorList\":[\"Pina Colada\",\"Goji Berry Martini\",\"Pink Lemonade\",\"Arctic Orange\"],\"brandId\":\"BRAND_ALLMAX_NUTRITION\",\"brandName\":\"AllMax Nutrition\",\"imageSmall\":\"http://store.bbcomcdn.com/images/store/prodimage/prod_prod3700065/image_prodprod3700065_largeImage_X_70_white.jpg\",\"imageMedium\":\"http://store.bbcomcdn.com/images/store/prodimage/prod_prod3700065/image_prodprod3700065_largeImage_X_130_white.jpg\",\"imageLarge\":\"http://store.bbcomcdn.com/images/store/prodimage/prod_prod3700065/image_prodprod3700065_largeImage_X_450_white.jpg\",\"flavorRatings\":{\"overallRating\":9.3,\"totalRatings\":4,\"ratings\":[{\"id\":\"prod3700065-goji_berry_martini\",\"flavor\":\"Goji Berry Martini\",\"rating\":8.3,\"totalRatings\":3},{\"id\":\"prod3700065-arctic_orange\",\"flavor\":\"Arctic Orange\",\"rating\":10.0,\"totalRatings\":1},{\"id\":\"prod3700065-pina_colada\",\"flavor\":\"Pina Colada\",\"rating\":10.0,\"totalRatings\":9},{\"id\":\"prod3700065-pink_lemonade\",\"flavor\":\"Pink Lemonade\",\"rating\":9.0,\"totalRatings\":5}]},\"reviewUrl\":\"http://reviews.bodybuilding.com/allmax-nutrition/acuts/\",\"overallRating\":9.4,\"totalRatings\":17,\"verifiedBuyerRating\":9.9,\"totalVerifiedBuyers\":9,\"totalReviews\":16,\"totalVerifiedReviews\":9,\"verified\":null},\"overallRating\":9.4,\"totalRatings\":17,\"userRating\":{\"overallRating\":10.0,\"totalRatings\":null,\"ratings\":[]},\"flavorRatings\":null,\"likeCount\":null,\"commentCount\":0,\"helpful\":0,\"helpfulTotal\":0,\"wasHelpful\":null,\"member\":{\"userId\":104723352,\"username\":\"Mdflores23\",\"slug\":\"Mdflores23\",\"vbuserId\":0,\"lastActivity\":null,\"profilePicThumbPath\":null,\"profilePicPath\":\"http://assets.bodybuilding.com/images/profiledefault_thumb.jpg\",\"profilePicAvatarPath\":null,\"profilePicOriginalPath\":null,\"realName\":null,\"profileURL\":null,\"groupId\":null,\"activated\":false,\"emailAddress\":null,\"joinDate\":null,\"gender\":null,\"photoCount\":0},\"stats\":{\"height\":null,\"weight\":\"122.0\",\"weightChange\":null,\"bodyfat\":null},\"likeStats\":null},{\"productReview\":{\"_id\":\"56b4b5b10cf2f1083f89b75b\",\"entityId\":\"productreview-prod3700065\",\"userId\":83481012,\"slug\":\"Odibiris\",\"username\":\"Odibiris\",\"title\":\"\",\"text\":\"In love with this product ❤️ Taste amazing \",\"date\":1454683569000,\"modDate\":1454683569000,\"status\":1,\"updateStatusReason\":null,\"brandId\":\"BRAND_ALLMAX_NUTRITION\",\"skuList\":null,\"productId\":\"prod3700065\",\"totalRatings\":null,\"overallRating\":null,\"verified\":true},\"product\":{\"id\":\"prod3700065\",\"productId\":\"prod3700065\",\"name\":\"A:Cuts\",\"description\":\"Designed to Give You Energy To Train and Aminos to Maintain!*\",\"briefDescription\":\"\",\"url\":\"http://www.bodybuilding.com/store/allmax-nutrition/acuts.html\",\"skuList\":null,\"flavorList\":[\"Pina Colada\",\"Goji Berry Martini\",\"Pink Lemonade\",\"Arctic Orange\"],\"brandId\":\"BRAND_ALLMAX_NUTRITION\",\"brandName\":\"AllMax Nutrition\",\"imageSmall\":\"http://store.bbcomcdn.com/images/store/prodimage/prod_prod3700065/image_prodprod3700065_largeImage_X_70_white.jpg\",\"imageMedium\":\"http://store.bbcomcdn.com/images/store/prodimage/prod_prod3700065/image_prodprod3700065_largeImage_X_130_white.jpg\",\"imageLarge\":\"http://store.bbcomcdn.com/images/store/prodimage/prod_prod3700065/image_prodprod3700065_largeImage_X_450_white.jpg\",\"flavorRatings\":{\"overallRating\":9.3,\"totalRatings\":4,\"ratings\":[{\"id\":\"prod3700065-goji_berry_martini\",\"flavor\":\"Goji Berry Martini\",\"rating\":8.3,\"totalRatings\":3},{\"id\":\"prod3700065-arctic_orange\",\"flavor\":\"Arctic Orange\",\"rating\":10.0,\"totalRatings\":1},{\"id\":\"prod3700065-pina_colada\",\"flavor\":\"Pina Colada\",\"rating\":10.0,\"totalRatings\":9},{\"id\":\"prod3700065-pink_lemonade\",\"flavor\":\"Pink Lemonade\",\"rating\":9.0,\"totalRatings\":5}]},\"reviewUrl\":\"http://reviews.bodybuilding.com/allmax-nutrition/acuts/\",\"overallRating\":9.4,\"totalRatings\":17,\"verifiedBuyerRating\":9.9,\"totalVerifiedBuyers\":9,\"totalReviews\":16,\"totalVerifiedReviews\":9,\"verified\":null},\"overallRating\":9.4,\"totalRatings\":17,\"userRating\":{\"overallRating\":10.0,\"totalRatings\":null,\"ratings\":[]},\"flavorRatings\":null,\"likeCount\":null,\"commentCount\":0,\"helpful\":1,\"helpfulTotal\":1,\"wasHelpful\":null,\"member\":{\"userId\":83481012,\"username\":\"Odibiris\",\"slug\":\"Odibiris\",\"vbuserId\":0,\"lastActivity\":null,\"profilePicThumbPath\":null,\"profilePicPath\":\"http://imagecdn.bodybuilding.com/profile-photo/21018438/e040dcb876e54cb98ffc9a6b0c0d8e0bp.jpg\",\"profilePicAvatarPath\":null,\"profilePicOriginalPath\":null,\"realName\":null,\"profileURL\":null,\"groupId\":null,\"activated\":false,\"emailAddress\":null,\"joinDate\":null,\"gender\":null,\"photoCount\":0},\"stats\":{\"height\":\"62.0\",\"weight\":\"131.0\",\"weightChange\":null,\"bodyfat\":\"17.9\"},\"likeStats\":null}]}    print type(model.df[col][20])"
   ]
  },
  {
   "cell_type": "code",
   "execution_count": 83,
   "metadata": {
    "collapsed": false
   },
   "outputs": [
    {
     "data": {
      "text/plain": [
       "[{u'flavor': u'Whipped Vanilla',\n",
       "  u'id': u'prod1250016-whipped_vanilla',\n",
       "  u'rating': 8.4,\n",
       "  u'totalRatings': 239},\n",
       " {u'flavor': u\"Cookies N' Cream\",\n",
       "  u'id': u\"prod1250016-cookies_n'_cream\",\n",
       "  u'rating': 8.1,\n",
       "  u'totalRatings': 261},\n",
       " {u'flavor': u'Mint Chocolate Chip - Exclusive!',\n",
       "  u'id': u'prod1250016-mint_chocolate_chip_-_exclusive!',\n",
       "  u'rating': 8.7,\n",
       "  u'totalRatings': 177},\n",
       " {u'flavor': u'Strawberry Milkshake',\n",
       "  u'id': u'prod1250016-strawberry_milkshake',\n",
       "  u'rating': 7.6,\n",
       "  u'totalRatings': 186},\n",
       " {u'flavor': u'Cinnamon Swirl',\n",
       "  u'id': u'prod1250016-cinnamon_swirl',\n",
       "  u'rating': 8.8,\n",
       "  u'totalRatings': 698},\n",
       " {u'flavor': u'Chocolate Peanut Butter',\n",
       "  u'id': u'prod1250016-chocolate_peanut_butter',\n",
       "  u'rating': 8.8,\n",
       "  u'totalRatings': 34},\n",
       " {u'flavor': u'Peanut Butter Marshmallow',\n",
       "  u'id': u'prod1250016-peanut_butter_marshmallow',\n",
       "  u'rating': 8.7,\n",
       "  u'totalRatings': 573},\n",
       " {u'flavor': u'Molten Chocolate',\n",
       "  u'id': u'prod1250016-molten_chocolate',\n",
       "  u'rating': 8.7,\n",
       "  u'totalRatings': 438}]"
      ]
     },
     "execution_count": 83,
     "metadata": {},
     "output_type": "execute_result"
    }
   ],
   "source": [
    "model.df.ratings[450]"
   ]
  },
  {
   "cell_type": "code",
   "execution_count": 84,
   "metadata": {
    "collapsed": true
   },
   "outputs": [
    {
     "ename": "NameError",
     "evalue": "name 'null' is not defined",
     "output_type": "error",
     "traceback": [
      "\u001b[0;31m---------------------------------------------------------------------------\u001b[0m",
      "\u001b[0;31mNameError\u001b[0m                                 Traceback (most recent call last)",
      "\u001b[0;32m<ipython-input-84-6125bbbc408e>\u001b[0m in \u001b[0;36m<module>\u001b[0;34m()\u001b[0m\n\u001b[0;32m----> 1\u001b[0;31m \u001b[0mtest\u001b[0m \u001b[0;34m=\u001b[0m\u001b[0;34m{\u001b[0m\u001b[0;34m\"totalItems\"\u001b[0m\u001b[0;34m:\u001b[0m\u001b[0;36m9\u001b[0m\u001b[0;34m,\u001b[0m\u001b[0;34m\"productReviews\"\u001b[0m\u001b[0;34m:\u001b[0m\u001b[0;34m[\u001b[0m\u001b[0;34m{\u001b[0m\u001b[0;34m\"productReview\"\u001b[0m\u001b[0;34m:\u001b[0m\u001b[0;34m{\u001b[0m\u001b[0;34m\"_id\"\u001b[0m\u001b[0;34m:\u001b[0m\u001b[0;34m\"56f96b6f0cf2a4144a3adb38\"\u001b[0m\u001b[0;34m,\u001b[0m\u001b[0;34m\"entityId\"\u001b[0m\u001b[0;34m:\u001b[0m\u001b[0;34m\"productreview-prod3700065\"\u001b[0m\u001b[0;34m,\u001b[0m\u001b[0;34m\"userId\"\u001b[0m\u001b[0;34m:\u001b[0m\u001b[0;36m127617211\u001b[0m\u001b[0;34m,\u001b[0m\u001b[0;34m\"slug\"\u001b[0m\u001b[0;34m:\u001b[0m\u001b[0;34m\"paulalyons\"\u001b[0m\u001b[0;34m,\u001b[0m\u001b[0;34m\"username\"\u001b[0m\u001b[0;34m:\u001b[0m\u001b[0;34m\"paulalyons\"\u001b[0m\u001b[0;34m,\u001b[0m\u001b[0;34m\"title\"\u001b[0m\u001b[0;34m:\u001b[0m\u001b[0;34m\"\"\u001b[0m\u001b[0;34m,\u001b[0m\u001b[0;34m\"text\"\u001b[0m\u001b[0;34m:\u001b[0m\u001b[0;34m\"Love Amino Cuts as an everyday pick me up! Also use it just before a blast of cardio or added to a non stimulant Pre-workout powder.  LOVE the Pina Colada!!! Amazing flavor and No jitters!! \"\u001b[0m\u001b[0;34m,\u001b[0m\u001b[0;34m\"date\"\u001b[0m\u001b[0;34m:\u001b[0m\u001b[0;36m1459186543000\u001b[0m\u001b[0;34m,\u001b[0m\u001b[0;34m\"modDate\"\u001b[0m\u001b[0;34m:\u001b[0m\u001b[0;36m1459186543000\u001b[0m\u001b[0;34m,\u001b[0m\u001b[0;34m\"status\"\u001b[0m\u001b[0;34m:\u001b[0m\u001b[0;36m1\u001b[0m\u001b[0;34m,\u001b[0m\u001b[0;34m\"updateStatusReason\"\u001b[0m\u001b[0;34m:\u001b[0m\u001b[0mnull\u001b[0m\u001b[0;34m,\u001b[0m\u001b[0;34m\"brandId\"\u001b[0m\u001b[0;34m:\u001b[0m\u001b[0;34m\"BRAND_ALLMAX_NUTRITION\"\u001b[0m\u001b[0;34m,\u001b[0m\u001b[0;34m\"skuList\"\u001b[0m\u001b[0;34m:\u001b[0m\u001b[0mnull\u001b[0m\u001b[0;34m,\u001b[0m\u001b[0;34m\"productId\"\u001b[0m\u001b[0;34m:\u001b[0m\u001b[0;34m\"prod3700065\"\u001b[0m\u001b[0;34m,\u001b[0m\u001b[0;34m\"totalRatings\"\u001b[0m\u001b[0;34m:\u001b[0m\u001b[0mnull\u001b[0m\u001b[0;34m,\u001b[0m\u001b[0;34m\"overallRating\"\u001b[0m\u001b[0;34m:\u001b[0m\u001b[0mnull\u001b[0m\u001b[0;34m,\u001b[0m\u001b[0;34m\"verified\"\u001b[0m\u001b[0;34m:\u001b[0m\u001b[0mtrue\u001b[0m\u001b[0;34m}\u001b[0m\u001b[0;34m,\u001b[0m\u001b[0;34m\"product\"\u001b[0m\u001b[0;34m:\u001b[0m\u001b[0;34m{\u001b[0m\u001b[0;34m\"id\"\u001b[0m\u001b[0;34m:\u001b[0m\u001b[0;34m\"prod3700065\"\u001b[0m\u001b[0;34m,\u001b[0m\u001b[0;34m\"productId\"\u001b[0m\u001b[0;34m:\u001b[0m\u001b[0;34m\"prod3700065\"\u001b[0m\u001b[0;34m,\u001b[0m\u001b[0;34m\"name\"\u001b[0m\u001b[0;34m:\u001b[0m\u001b[0;34m\"A:Cuts\"\u001b[0m\u001b[0;34m,\u001b[0m\u001b[0;34m\"description\"\u001b[0m\u001b[0;34m:\u001b[0m\u001b[0;34m\"Designed to Give You Energy To Train and Aminos to Maintain!*\"\u001b[0m\u001b[0;34m,\u001b[0m\u001b[0;34m\"briefDescription\"\u001b[0m\u001b[0;34m:\u001b[0m\u001b[0;34m\"\"\u001b[0m\u001b[0;34m,\u001b[0m\u001b[0;34m\"url\"\u001b[0m\u001b[0;34m:\u001b[0m\u001b[0;34m\"http://www.bodybuilding.com/store/allmax-nutrition/acuts.html\"\u001b[0m\u001b[0;34m,\u001b[0m\u001b[0;34m\"skuList\"\u001b[0m\u001b[0;34m:\u001b[0m\u001b[0mnull\u001b[0m\u001b[0;34m,\u001b[0m\u001b[0;34m\"flavorList\"\u001b[0m\u001b[0;34m:\u001b[0m\u001b[0;34m[\u001b[0m\u001b[0;34m\"Pina Colada\"\u001b[0m\u001b[0;34m,\u001b[0m\u001b[0;34m\"Goji Berry Martini\"\u001b[0m\u001b[0;34m,\u001b[0m\u001b[0;34m\"Pink Lemonade\"\u001b[0m\u001b[0;34m,\u001b[0m\u001b[0;34m\"Arctic Orange\"\u001b[0m\u001b[0;34m]\u001b[0m\u001b[0;34m,\u001b[0m\u001b[0;34m\"brandId\"\u001b[0m\u001b[0;34m:\u001b[0m\u001b[0;34m\"BRAND_ALLMAX_NUTRITION\"\u001b[0m\u001b[0;34m,\u001b[0m\u001b[0;34m\"brandName\"\u001b[0m\u001b[0;34m:\u001b[0m\u001b[0;34m\"AllMax Nutrition\"\u001b[0m\u001b[0;34m,\u001b[0m\u001b[0;34m\"imageSmall\"\u001b[0m\u001b[0;34m:\u001b[0m\u001b[0;34m\"http://store.bbcomcdn.com/images/store/prodimage/prod_prod3700065/image_prodprod3700065_largeImage_X_70_white.jpg\"\u001b[0m\u001b[0;34m,\u001b[0m\u001b[0;34m\"imageMedium\"\u001b[0m\u001b[0;34m:\u001b[0m\u001b[0;34m\"http://store.bbcomcdn.com/images/store/prodimage/prod_prod3700065/image_prodprod3700065_largeImage_X_130_white.jpg\"\u001b[0m\u001b[0;34m,\u001b[0m\u001b[0;34m\"imageLarge\"\u001b[0m\u001b[0;34m:\u001b[0m\u001b[0;34m\"http://store.bbcomcdn.com/images/store/prodimage/prod_prod3700065/image_prodprod3700065_largeImage_X_450_white.jpg\"\u001b[0m\u001b[0;34m,\u001b[0m\u001b[0;34m\"flavorRatings\"\u001b[0m\u001b[0;34m:\u001b[0m\u001b[0;34m{\u001b[0m\u001b[0;34m\"overallRating\"\u001b[0m\u001b[0;34m:\u001b[0m\u001b[0;36m9.3\u001b[0m\u001b[0;34m,\u001b[0m\u001b[0;34m\"totalRatings\"\u001b[0m\u001b[0;34m:\u001b[0m\u001b[0;36m4\u001b[0m\u001b[0;34m,\u001b[0m\u001b[0;34m\"ratings\"\u001b[0m\u001b[0;34m:\u001b[0m\u001b[0;34m[\u001b[0m\u001b[0;34m{\u001b[0m\u001b[0;34m\"id\"\u001b[0m\u001b[0;34m:\u001b[0m\u001b[0;34m\"prod3700065-goji_berry_martini\"\u001b[0m\u001b[0;34m,\u001b[0m\u001b[0;34m\"flavor\"\u001b[0m\u001b[0;34m:\u001b[0m\u001b[0;34m\"Goji Berry Martini\"\u001b[0m\u001b[0;34m,\u001b[0m\u001b[0;34m\"rating\"\u001b[0m\u001b[0;34m:\u001b[0m\u001b[0;36m8.3\u001b[0m\u001b[0;34m,\u001b[0m\u001b[0;34m\"totalRatings\"\u001b[0m\u001b[0;34m:\u001b[0m\u001b[0;36m3\u001b[0m\u001b[0;34m}\u001b[0m\u001b[0;34m,\u001b[0m\u001b[0;34m{\u001b[0m\u001b[0;34m\"id\"\u001b[0m\u001b[0;34m:\u001b[0m\u001b[0;34m\"prod3700065-arctic_orange\"\u001b[0m\u001b[0;34m,\u001b[0m\u001b[0;34m\"flavor\"\u001b[0m\u001b[0;34m:\u001b[0m\u001b[0;34m\"Arctic Orange\"\u001b[0m\u001b[0;34m,\u001b[0m\u001b[0;34m\"rating\"\u001b[0m\u001b[0;34m:\u001b[0m\u001b[0;36m10.0\u001b[0m\u001b[0;34m,\u001b[0m\u001b[0;34m\"totalRatings\"\u001b[0m\u001b[0;34m:\u001b[0m\u001b[0;36m1\u001b[0m\u001b[0;34m}\u001b[0m\u001b[0;34m,\u001b[0m\u001b[0;34m{\u001b[0m\u001b[0;34m\"id\"\u001b[0m\u001b[0;34m:\u001b[0m\u001b[0;34m\"prod3700065-pina_colada\"\u001b[0m\u001b[0;34m,\u001b[0m\u001b[0;34m\"flavor\"\u001b[0m\u001b[0;34m:\u001b[0m\u001b[0;34m\"Pina Colada\"\u001b[0m\u001b[0;34m,\u001b[0m\u001b[0;34m\"rating\"\u001b[0m\u001b[0;34m:\u001b[0m\u001b[0;36m10.0\u001b[0m\u001b[0;34m,\u001b[0m\u001b[0;34m\"totalRatings\"\u001b[0m\u001b[0;34m:\u001b[0m\u001b[0;36m9\u001b[0m\u001b[0;34m}\u001b[0m\u001b[0;34m,\u001b[0m\u001b[0;34m{\u001b[0m\u001b[0;34m\"id\"\u001b[0m\u001b[0;34m:\u001b[0m\u001b[0;34m\"prod3700065-pink_lemonade\"\u001b[0m\u001b[0;34m,\u001b[0m\u001b[0;34m\"flavor\"\u001b[0m\u001b[0;34m:\u001b[0m\u001b[0;34m\"Pink Lemonade\"\u001b[0m\u001b[0;34m,\u001b[0m\u001b[0;34m\"rating\"\u001b[0m\u001b[0;34m:\u001b[0m\u001b[0;36m9.0\u001b[0m\u001b[0;34m,\u001b[0m\u001b[0;34m\"totalRatings\"\u001b[0m\u001b[0;34m:\u001b[0m\u001b[0;36m5\u001b[0m\u001b[0;34m}\u001b[0m\u001b[0;34m]\u001b[0m\u001b[0;34m}\u001b[0m\u001b[0;34m,\u001b[0m\u001b[0;34m\"reviewUrl\"\u001b[0m\u001b[0;34m:\u001b[0m\u001b[0;34m\"http://reviews.bodybuilding.com/allmax-nutrition/acuts/\"\u001b[0m\u001b[0;34m,\u001b[0m\u001b[0;34m\"overallRating\"\u001b[0m\u001b[0;34m:\u001b[0m\u001b[0;36m9.4\u001b[0m\u001b[0;34m,\u001b[0m\u001b[0;34m\"totalRatings\"\u001b[0m\u001b[0;34m:\u001b[0m\u001b[0;36m17\u001b[0m\u001b[0;34m,\u001b[0m\u001b[0;34m\"verifiedBuyerRating\"\u001b[0m\u001b[0;34m:\u001b[0m\u001b[0;36m9.9\u001b[0m\u001b[0;34m,\u001b[0m\u001b[0;34m\"totalVerifiedBuyers\"\u001b[0m\u001b[0;34m:\u001b[0m\u001b[0;36m9\u001b[0m\u001b[0;34m,\u001b[0m\u001b[0;34m\"totalReviews\"\u001b[0m\u001b[0;34m:\u001b[0m\u001b[0;36m16\u001b[0m\u001b[0;34m,\u001b[0m\u001b[0;34m\"totalVerifiedReviews\"\u001b[0m\u001b[0;34m:\u001b[0m\u001b[0;36m9\u001b[0m\u001b[0;34m,\u001b[0m\u001b[0;34m\"verified\"\u001b[0m\u001b[0;34m:\u001b[0m\u001b[0mnull\u001b[0m\u001b[0;34m}\u001b[0m\u001b[0;34m,\u001b[0m\u001b[0;34m\"overallRating\"\u001b[0m\u001b[0;34m:\u001b[0m\u001b[0;36m9.4\u001b[0m\u001b[0;34m,\u001b[0m\u001b[0;34m\"totalRatings\"\u001b[0m\u001b[0;34m:\u001b[0m\u001b[0;36m17\u001b[0m\u001b[0;34m,\u001b[0m\u001b[0;34m\"userRating\"\u001b[0m\u001b[0;34m:\u001b[0m\u001b[0;34m{\u001b[0m\u001b[0;34m\"overallRating\"\u001b[0m\u001b[0;34m:\u001b[0m\u001b[0;36m9.0\u001b[0m\u001b[0;34m,\u001b[0m\u001b[0;34m\"totalRatings\"\u001b[0m\u001b[0;34m:\u001b[0m\u001b[0mnull\u001b[0m\u001b[0;34m,\u001b[0m\u001b[0;34m\"ratings\"\u001b[0m\u001b[0;34m:\u001b[0m\u001b[0;34m[\u001b[0m\u001b[0;34m{\u001b[0m\u001b[0;34m\"id\"\u001b[0m\u001b[0;34m:\u001b[0m\u001b[0;34m\"prod3700065-pina_colada\"\u001b[0m\u001b[0;34m,\u001b[0m\u001b[0;34m\"flavor\"\u001b[0m\u001b[0;34m:\u001b[0m\u001b[0;34m\"Pina Colada\"\u001b[0m\u001b[0;34m,\u001b[0m\u001b[0;34m\"rating\"\u001b[0m\u001b[0;34m:\u001b[0m\u001b[0;36m10.0\u001b[0m\u001b[0;34m,\u001b[0m\u001b[0;34m\"totalRatings\"\u001b[0m\u001b[0;34m:\u001b[0m\u001b[0;36m1\u001b[0m\u001b[0;34m}\u001b[0m\u001b[0;34m]\u001b[0m\u001b[0;34m}\u001b[0m\u001b[0;34m,\u001b[0m\u001b[0;34m\"flavorRatings\"\u001b[0m\u001b[0;34m:\u001b[0m\u001b[0mnull\u001b[0m\u001b[0;34m,\u001b[0m\u001b[0;34m\"likeCount\"\u001b[0m\u001b[0;34m:\u001b[0m\u001b[0mnull\u001b[0m\u001b[0;34m,\u001b[0m\u001b[0;34m\"commentCount\"\u001b[0m\u001b[0;34m:\u001b[0m\u001b[0;36m0\u001b[0m\u001b[0;34m,\u001b[0m\u001b[0;34m\"helpful\"\u001b[0m\u001b[0;34m:\u001b[0m\u001b[0;36m0\u001b[0m\u001b[0;34m,\u001b[0m\u001b[0;34m\"helpfulTotal\"\u001b[0m\u001b[0;34m:\u001b[0m\u001b[0;36m0\u001b[0m\u001b[0;34m,\u001b[0m\u001b[0;34m\"wasHelpful\"\u001b[0m\u001b[0;34m:\u001b[0m\u001b[0mnull\u001b[0m\u001b[0;34m,\u001b[0m\u001b[0;34m\"member\"\u001b[0m\u001b[0;34m:\u001b[0m\u001b[0;34m{\u001b[0m\u001b[0;34m\"userId\"\u001b[0m\u001b[0;34m:\u001b[0m\u001b[0;36m127617211\u001b[0m\u001b[0;34m,\u001b[0m\u001b[0;34m\"username\"\u001b[0m\u001b[0;34m:\u001b[0m\u001b[0;34m\"paulalyons\"\u001b[0m\u001b[0;34m,\u001b[0m\u001b[0;34m\"slug\"\u001b[0m\u001b[0;34m:\u001b[0m\u001b[0;34m\"paulalyons\"\u001b[0m\u001b[0;34m,\u001b[0m\u001b[0;34m\"vbuserId\"\u001b[0m\u001b[0;34m:\u001b[0m\u001b[0;36m0\u001b[0m\u001b[0;34m,\u001b[0m\u001b[0;34m\"lastActivity\"\u001b[0m\u001b[0;34m:\u001b[0m\u001b[0mnull\u001b[0m\u001b[0;34m,\u001b[0m\u001b[0;34m\"profilePicThumbPath\"\u001b[0m\u001b[0;34m:\u001b[0m\u001b[0mnull\u001b[0m\u001b[0;34m,\u001b[0m\u001b[0;34m\"profilePicPath\"\u001b[0m\u001b[0;34m:\u001b[0m\u001b[0;34m\"http://assets.bodybuilding.com/images/profiledefault_thumb.jpg\"\u001b[0m\u001b[0;34m,\u001b[0m\u001b[0;34m\"profilePicAvatarPath\"\u001b[0m\u001b[0;34m:\u001b[0m\u001b[0mnull\u001b[0m\u001b[0;34m,\u001b[0m\u001b[0;34m\"profilePicOriginalPath\"\u001b[0m\u001b[0;34m:\u001b[0m\u001b[0mnull\u001b[0m\u001b[0;34m,\u001b[0m\u001b[0;34m\"realName\"\u001b[0m\u001b[0;34m:\u001b[0m\u001b[0mnull\u001b[0m\u001b[0;34m,\u001b[0m\u001b[0;34m\"profileURL\"\u001b[0m\u001b[0;34m:\u001b[0m\u001b[0mnull\u001b[0m\u001b[0;34m,\u001b[0m\u001b[0;34m\"groupId\"\u001b[0m\u001b[0;34m:\u001b[0m\u001b[0mnull\u001b[0m\u001b[0;34m,\u001b[0m\u001b[0;34m\"activated\"\u001b[0m\u001b[0;34m:\u001b[0m\u001b[0mfalse\u001b[0m\u001b[0;34m,\u001b[0m\u001b[0;34m\"emailAddress\"\u001b[0m\u001b[0;34m:\u001b[0m\u001b[0mnull\u001b[0m\u001b[0;34m,\u001b[0m\u001b[0;34m\"joinDate\"\u001b[0m\u001b[0;34m:\u001b[0m\u001b[0mnull\u001b[0m\u001b[0;34m,\u001b[0m\u001b[0;34m\"gender\"\u001b[0m\u001b[0;34m:\u001b[0m\u001b[0mnull\u001b[0m\u001b[0;34m,\u001b[0m\u001b[0;34m\"photoCount\"\u001b[0m\u001b[0;34m:\u001b[0m\u001b[0;36m0\u001b[0m\u001b[0;34m}\u001b[0m\u001b[0;34m,\u001b[0m\u001b[0;34m\"stats\"\u001b[0m\u001b[0;34m:\u001b[0m\u001b[0mnull\u001b[0m\u001b[0;34m,\u001b[0m\u001b[0;34m\"likeStats\"\u001b[0m\u001b[0;34m:\u001b[0m\u001b[0mnull\u001b[0m\u001b[0;34m}\u001b[0m\u001b[0;34m,\u001b[0m\u001b[0;34m{\u001b[0m\u001b[0;34m\"productReview\"\u001b[0m\u001b[0;34m:\u001b[0m\u001b[0;34m{\u001b[0m\u001b[0;34m\"_id\"\u001b[0m\u001b[0;34m:\u001b[0m\u001b[0;34m\"56e6bef70cf250667f25e525\"\u001b[0m\u001b[0;34m,\u001b[0m\u001b[0;34m\"entityId\"\u001b[0m\u001b[0;34m:\u001b[0m\u001b[0;34m\"productreview-prod3700065\"\u001b[0m\u001b[0;34m,\u001b[0m\u001b[0;34m\"userId\"\u001b[0m\u001b[0;34m:\u001b[0m\u001b[0;36m51039461\u001b[0m\u001b[0;34m,\u001b[0m\u001b[0;34m\"slug\"\u001b[0m\u001b[0;34m:\u001b[0m\u001b[0;34m\"Renegade81\"\u001b[0m\u001b[0;34m,\u001b[0m\u001b[0;34m\"username\"\u001b[0m\u001b[0;34m:\u001b[0m\u001b[0;34m\"Renegade81\"\u001b[0m\u001b[0;34m,\u001b[0m\u001b[0;34m\"title\"\u001b[0m\u001b[0;34m:\u001b[0m\u001b[0;34m\"\"\u001b[0m\u001b[0;34m,\u001b[0m\u001b[0;34m\"text\"\u001b[0m\u001b[0;34m:\u001b[0m\u001b[0;34m\"I've been using aminos for a little over two years now.. \\n\\nI'm always open to try new products because I want any extra help I can get.\\nI was given a tub of the piña colada to sample and immediately was sold on the flavor, that's going to be for anyone. But for me it's what's in the aminos, at a quick glance the first thing I noticed was CLA and natural caffeine .. I thought well this is winning me over already, I grabbed two other aminos I currently used and compared and it was pretty black and white which aminos was better..\\n\\nNot only did I switch to allmax aminos but also glutamine and protein for starters .. I'll definitely try pre workouts and other things down the road . \"\u001b[0m\u001b[0;34m,\u001b[0m\u001b[0;34m\"date\"\u001b[0m\u001b[0;34m:\u001b[0m\u001b[0;36m1457962743000\u001b[0m\u001b[0;34m,\u001b[0m\u001b[0;34m\"modDate\"\u001b[0m\u001b[0;34m:\u001b[0m\u001b[0;36m1457962743000\u001b[0m\u001b[0;34m,\u001b[0m\u001b[0;34m\"status\"\u001b[0m\u001b[0;34m:\u001b[0m\u001b[0;36m1\u001b[0m\u001b[0;34m,\u001b[0m\u001b[0;34m\"updateStatusReason\"\u001b[0m\u001b[0;34m:\u001b[0m\u001b[0mnull\u001b[0m\u001b[0;34m,\u001b[0m\u001b[0;34m\"brandId\"\u001b[0m\u001b[0;34m:\u001b[0m\u001b[0;34m\"BRAND_ALLMAX_NUTRITION\"\u001b[0m\u001b[0;34m,\u001b[0m\u001b[0;34m\"skuList\"\u001b[0m\u001b[0;34m:\u001b[0m\u001b[0mnull\u001b[0m\u001b[0;34m,\u001b[0m\u001b[0;34m\"productId\"\u001b[0m\u001b[0;34m:\u001b[0m\u001b[0;34m\"prod3700065\"\u001b[0m\u001b[0;34m,\u001b[0m\u001b[0;34m\"totalRatings\"\u001b[0m\u001b[0;34m:\u001b[0m\u001b[0mnull\u001b[0m\u001b[0;34m,\u001b[0m\u001b[0;34m\"overallRating\"\u001b[0m\u001b[0;34m:\u001b[0m\u001b[0mnull\u001b[0m\u001b[0;34m,\u001b[0m\u001b[0;34m\"verified\"\u001b[0m\u001b[0;34m:\u001b[0m\u001b[0mtrue\u001b[0m\u001b[0;34m}\u001b[0m\u001b[0;34m,\u001b[0m\u001b[0;34m\"product\"\u001b[0m\u001b[0;34m:\u001b[0m\u001b[0;34m{\u001b[0m\u001b[0;34m\"id\"\u001b[0m\u001b[0;34m:\u001b[0m\u001b[0;34m\"prod3700065\"\u001b[0m\u001b[0;34m,\u001b[0m\u001b[0;34m\"productId\"\u001b[0m\u001b[0;34m:\u001b[0m\u001b[0;34m\"prod3700065\"\u001b[0m\u001b[0;34m,\u001b[0m\u001b[0;34m\"name\"\u001b[0m\u001b[0;34m:\u001b[0m\u001b[0;34m\"A:Cuts\"\u001b[0m\u001b[0;34m,\u001b[0m\u001b[0;34m\"description\"\u001b[0m\u001b[0;34m:\u001b[0m\u001b[0;34m\"Designed to Give You Energy To Train and Aminos to Maintain!*\"\u001b[0m\u001b[0;34m,\u001b[0m\u001b[0;34m\"briefDescription\"\u001b[0m\u001b[0;34m:\u001b[0m\u001b[0;34m\"\"\u001b[0m\u001b[0;34m,\u001b[0m\u001b[0;34m\"url\"\u001b[0m\u001b[0;34m:\u001b[0m\u001b[0;34m\"http://www.bodybuilding.com/store/allmax-nutrition/acuts.html\"\u001b[0m\u001b[0;34m,\u001b[0m\u001b[0;34m\"skuList\"\u001b[0m\u001b[0;34m:\u001b[0m\u001b[0mnull\u001b[0m\u001b[0;34m,\u001b[0m\u001b[0;34m\"flavorList\"\u001b[0m\u001b[0;34m:\u001b[0m\u001b[0;34m[\u001b[0m\u001b[0;34m\"Pina Colada\"\u001b[0m\u001b[0;34m,\u001b[0m\u001b[0;34m\"Goji Berry Martini\"\u001b[0m\u001b[0;34m,\u001b[0m\u001b[0;34m\"Pink Lemonade\"\u001b[0m\u001b[0;34m,\u001b[0m\u001b[0;34m\"Arctic Orange\"\u001b[0m\u001b[0;34m]\u001b[0m\u001b[0;34m,\u001b[0m\u001b[0;34m\"brandId\"\u001b[0m\u001b[0;34m:\u001b[0m\u001b[0;34m\"BRAND_ALLMAX_NUTRITION\"\u001b[0m\u001b[0;34m,\u001b[0m\u001b[0;34m\"brandName\"\u001b[0m\u001b[0;34m:\u001b[0m\u001b[0;34m\"AllMax Nutrition\"\u001b[0m\u001b[0;34m,\u001b[0m\u001b[0;34m\"imageSmall\"\u001b[0m\u001b[0;34m:\u001b[0m\u001b[0;34m\"http://store.bbcomcdn.com/images/store/prodimage/prod_prod3700065/image_prodprod3700065_largeImage_X_70_white.jpg\"\u001b[0m\u001b[0;34m,\u001b[0m\u001b[0;34m\"imageMedium\"\u001b[0m\u001b[0;34m:\u001b[0m\u001b[0;34m\"http://store.bbcomcdn.com/images/store/prodimage/prod_prod3700065/image_prodprod3700065_largeImage_X_130_white.jpg\"\u001b[0m\u001b[0;34m,\u001b[0m\u001b[0;34m\"imageLarge\"\u001b[0m\u001b[0;34m:\u001b[0m\u001b[0;34m\"http://store.bbcomcdn.com/images/store/prodimage/prod_prod3700065/image_prodprod3700065_largeImage_X_450_white.jpg\"\u001b[0m\u001b[0;34m,\u001b[0m\u001b[0;34m\"flavorRatings\"\u001b[0m\u001b[0;34m:\u001b[0m\u001b[0;34m{\u001b[0m\u001b[0;34m\"overallRating\"\u001b[0m\u001b[0;34m:\u001b[0m\u001b[0;36m9.3\u001b[0m\u001b[0;34m,\u001b[0m\u001b[0;34m\"totalRatings\"\u001b[0m\u001b[0;34m:\u001b[0m\u001b[0;36m4\u001b[0m\u001b[0;34m,\u001b[0m\u001b[0;34m\"ratings\"\u001b[0m\u001b[0;34m:\u001b[0m\u001b[0;34m[\u001b[0m\u001b[0;34m{\u001b[0m\u001b[0;34m\"id\"\u001b[0m\u001b[0;34m:\u001b[0m\u001b[0;34m\"prod3700065-goji_berry_martini\"\u001b[0m\u001b[0;34m,\u001b[0m\u001b[0;34m\"flavor\"\u001b[0m\u001b[0;34m:\u001b[0m\u001b[0;34m\"Goji Berry Martini\"\u001b[0m\u001b[0;34m,\u001b[0m\u001b[0;34m\"rating\"\u001b[0m\u001b[0;34m:\u001b[0m\u001b[0;36m8.3\u001b[0m\u001b[0;34m,\u001b[0m\u001b[0;34m\"totalRatings\"\u001b[0m\u001b[0;34m:\u001b[0m\u001b[0;36m3\u001b[0m\u001b[0;34m}\u001b[0m\u001b[0;34m,\u001b[0m\u001b[0;34m{\u001b[0m\u001b[0;34m\"id\"\u001b[0m\u001b[0;34m:\u001b[0m\u001b[0;34m\"prod3700065-arctic_orange\"\u001b[0m\u001b[0;34m,\u001b[0m\u001b[0;34m\"flavor\"\u001b[0m\u001b[0;34m:\u001b[0m\u001b[0;34m\"Arctic Orange\"\u001b[0m\u001b[0;34m,\u001b[0m\u001b[0;34m\"rating\"\u001b[0m\u001b[0;34m:\u001b[0m\u001b[0;36m10.0\u001b[0m\u001b[0;34m,\u001b[0m\u001b[0;34m\"totalRatings\"\u001b[0m\u001b[0;34m:\u001b[0m\u001b[0;36m1\u001b[0m\u001b[0;34m}\u001b[0m\u001b[0;34m,\u001b[0m\u001b[0;34m{\u001b[0m\u001b[0;34m\"id\"\u001b[0m\u001b[0;34m:\u001b[0m\u001b[0;34m\"prod3700065-pina_colada\"\u001b[0m\u001b[0;34m,\u001b[0m\u001b[0;34m\"flavor\"\u001b[0m\u001b[0;34m:\u001b[0m\u001b[0;34m\"Pina Colada\"\u001b[0m\u001b[0;34m,\u001b[0m\u001b[0;34m\"rating\"\u001b[0m\u001b[0;34m:\u001b[0m\u001b[0;36m10.0\u001b[0m\u001b[0;34m,\u001b[0m\u001b[0;34m\"totalRatings\"\u001b[0m\u001b[0;34m:\u001b[0m\u001b[0;36m9\u001b[0m\u001b[0;34m}\u001b[0m\u001b[0;34m,\u001b[0m\u001b[0;34m{\u001b[0m\u001b[0;34m\"id\"\u001b[0m\u001b[0;34m:\u001b[0m\u001b[0;34m\"prod3700065-pink_lemonade\"\u001b[0m\u001b[0;34m,\u001b[0m\u001b[0;34m\"flavor\"\u001b[0m\u001b[0;34m:\u001b[0m\u001b[0;34m\"Pink Lemonade\"\u001b[0m\u001b[0;34m,\u001b[0m\u001b[0;34m\"rating\"\u001b[0m\u001b[0;34m:\u001b[0m\u001b[0;36m9.0\u001b[0m\u001b[0;34m,\u001b[0m\u001b[0;34m\"totalRatings\"\u001b[0m\u001b[0;34m:\u001b[0m\u001b[0;36m5\u001b[0m\u001b[0;34m}\u001b[0m\u001b[0;34m]\u001b[0m\u001b[0;34m}\u001b[0m\u001b[0;34m,\u001b[0m\u001b[0;34m\"reviewUrl\"\u001b[0m\u001b[0;34m:\u001b[0m\u001b[0;34m\"http://reviews.bodybuilding.com/allmax-nutrition/acuts/\"\u001b[0m\u001b[0;34m,\u001b[0m\u001b[0;34m\"overallRating\"\u001b[0m\u001b[0;34m:\u001b[0m\u001b[0;36m9.4\u001b[0m\u001b[0;34m,\u001b[0m\u001b[0;34m\"totalRatings\"\u001b[0m\u001b[0;34m:\u001b[0m\u001b[0;36m17\u001b[0m\u001b[0;34m,\u001b[0m\u001b[0;34m\"verifiedBuyerRating\"\u001b[0m\u001b[0;34m:\u001b[0m\u001b[0;36m9.9\u001b[0m\u001b[0;34m,\u001b[0m\u001b[0;34m\"totalVerifiedBuyers\"\u001b[0m\u001b[0;34m:\u001b[0m\u001b[0;36m9\u001b[0m\u001b[0;34m,\u001b[0m\u001b[0;34m\"totalReviews\"\u001b[0m\u001b[0;34m:\u001b[0m\u001b[0;36m16\u001b[0m\u001b[0;34m,\u001b[0m\u001b[0;34m\"totalVerifiedReviews\"\u001b[0m\u001b[0;34m:\u001b[0m\u001b[0;36m9\u001b[0m\u001b[0;34m,\u001b[0m\u001b[0;34m\"verified\"\u001b[0m\u001b[0;34m:\u001b[0m\u001b[0mnull\u001b[0m\u001b[0;34m}\u001b[0m\u001b[0;34m,\u001b[0m\u001b[0;34m\"overallRating\"\u001b[0m\u001b[0;34m:\u001b[0m\u001b[0;36m9.4\u001b[0m\u001b[0;34m,\u001b[0m\u001b[0;34m\"totalRatings\"\u001b[0m\u001b[0;34m:\u001b[0m\u001b[0;36m17\u001b[0m\u001b[0;34m,\u001b[0m\u001b[0;34m\"userRating\"\u001b[0m\u001b[0;34m:\u001b[0m\u001b[0;34m{\u001b[0m\u001b[0;34m\"overallRating\"\u001b[0m\u001b[0;34m:\u001b[0m\u001b[0;36m10.0\u001b[0m\u001b[0;34m,\u001b[0m\u001b[0;34m\"totalRatings\"\u001b[0m\u001b[0;34m:\u001b[0m\u001b[0mnull\u001b[0m\u001b[0;34m,\u001b[0m\u001b[0;34m\"ratings\"\u001b[0m\u001b[0;34m:\u001b[0m\u001b[0;34m[\u001b[0m\u001b[0;34m{\u001b[0m\u001b[0;34m\"id\"\u001b[0m\u001b[0;34m:\u001b[0m\u001b[0;34m\"prod3700065-goji_berry_martini\"\u001b[0m\u001b[0;34m,\u001b[0m\u001b[0;34m\"flavor\"\u001b[0m\u001b[0;34m:\u001b[0m\u001b[0;34m\"Goji Berry Martini\"\u001b[0m\u001b[0;34m,\u001b[0m\u001b[0;34m\"rating\"\u001b[0m\u001b[0;34m:\u001b[0m\u001b[0;36m9.0\u001b[0m\u001b[0;34m,\u001b[0m\u001b[0;34m\"totalRatings\"\u001b[0m\u001b[0;34m:\u001b[0m\u001b[0;36m1\u001b[0m\u001b[0;34m}\u001b[0m\u001b[0;34m,\u001b[0m\u001b[0;34m{\u001b[0m\u001b[0;34m\"id\"\u001b[0m\u001b[0;34m:\u001b[0m\u001b[0;34m\"prod3700065-pina_colada\"\u001b[0m\u001b[0;34m,\u001b[0m\u001b[0;34m\"flavor\"\u001b[0m\u001b[0;34m:\u001b[0m\u001b[0;34m\"Pina Colada\"\u001b[0m\u001b[0;34m,\u001b[0m\u001b[0;34m\"rating\"\u001b[0m\u001b[0;34m:\u001b[0m\u001b[0;36m10.0\u001b[0m\u001b[0;34m,\u001b[0m\u001b[0;34m\"totalRatings\"\u001b[0m\u001b[0;34m:\u001b[0m\u001b[0;36m1\u001b[0m\u001b[0;34m}\u001b[0m\u001b[0;34m]\u001b[0m\u001b[0;34m}\u001b[0m\u001b[0;34m,\u001b[0m\u001b[0;34m\"flavorRatings\"\u001b[0m\u001b[0;34m:\u001b[0m\u001b[0mnull\u001b[0m\u001b[0;34m,\u001b[0m\u001b[0;34m\"likeCount\"\u001b[0m\u001b[0;34m:\u001b[0m\u001b[0mnull\u001b[0m\u001b[0;34m,\u001b[0m\u001b[0;34m\"commentCount\"\u001b[0m\u001b[0;34m:\u001b[0m\u001b[0;36m0\u001b[0m\u001b[0;34m,\u001b[0m\u001b[0;34m\"helpful\"\u001b[0m\u001b[0;34m:\u001b[0m\u001b[0;36m0\u001b[0m\u001b[0;34m,\u001b[0m\u001b[0;34m\"helpfulTotal\"\u001b[0m\u001b[0;34m:\u001b[0m\u001b[0;36m0\u001b[0m\u001b[0;34m,\u001b[0m\u001b[0;34m\"wasHelpful\"\u001b[0m\u001b[0;34m:\u001b[0m\u001b[0mnull\u001b[0m\u001b[0;34m,\u001b[0m\u001b[0;34m\"member\"\u001b[0m\u001b[0;34m:\u001b[0m\u001b[0;34m{\u001b[0m\u001b[0;34m\"userId\"\u001b[0m\u001b[0;34m:\u001b[0m\u001b[0;36m51039461\u001b[0m\u001b[0;34m,\u001b[0m\u001b[0;34m\"username\"\u001b[0m\u001b[0;34m:\u001b[0m\u001b[0;34m\"Renegade81\"\u001b[0m\u001b[0;34m,\u001b[0m\u001b[0;34m\"slug\"\u001b[0m\u001b[0;34m:\u001b[0m\u001b[0;34m\"Renegade81\"\u001b[0m\u001b[0;34m,\u001b[0m\u001b[0;34m\"vbuserId\"\u001b[0m\u001b[0;34m:\u001b[0m\u001b[0;36m0\u001b[0m\u001b[0;34m,\u001b[0m\u001b[0;34m\"lastActivity\"\u001b[0m\u001b[0;34m:\u001b[0m\u001b[0mnull\u001b[0m\u001b[0;34m,\u001b[0m\u001b[0;34m\"profilePicThumbPath\"\u001b[0m\u001b[0;34m:\u001b[0m\u001b[0mnull\u001b[0m\u001b[0;34m,\u001b[0m\u001b[0;34m\"profilePicPath\"\u001b[0m\u001b[0;34m:\u001b[0m\u001b[0;34m\"http://imagecdn.bodybuilding.com/profile-photo/16493015/7c55628fc59048bbb435829a4957c8f3p.jpg\"\u001b[0m\u001b[0;34m,\u001b[0m\u001b[0;34m\"profilePicAvatarPath\"\u001b[0m\u001b[0;34m:\u001b[0m\u001b[0mnull\u001b[0m\u001b[0;34m,\u001b[0m\u001b[0;34m\"profilePicOriginalPath\"\u001b[0m\u001b[0;34m:\u001b[0m\u001b[0mnull\u001b[0m\u001b[0;34m,\u001b[0m\u001b[0;34m\"realName\"\u001b[0m\u001b[0;34m:\u001b[0m\u001b[0mnull\u001b[0m\u001b[0;34m,\u001b[0m\u001b[0;34m\"profileURL\"\u001b[0m\u001b[0;34m:\u001b[0m\u001b[0mnull\u001b[0m\u001b[0;34m,\u001b[0m\u001b[0;34m\"groupId\"\u001b[0m\u001b[0;34m:\u001b[0m\u001b[0mnull\u001b[0m\u001b[0;34m,\u001b[0m\u001b[0;34m\"activated\"\u001b[0m\u001b[0;34m:\u001b[0m\u001b[0mfalse\u001b[0m\u001b[0;34m,\u001b[0m\u001b[0;34m\"emailAddress\"\u001b[0m\u001b[0;34m:\u001b[0m\u001b[0mnull\u001b[0m\u001b[0;34m,\u001b[0m\u001b[0;34m\"joinDate\"\u001b[0m\u001b[0;34m:\u001b[0m\u001b[0mnull\u001b[0m\u001b[0;34m,\u001b[0m\u001b[0;34m\"gender\"\u001b[0m\u001b[0;34m:\u001b[0m\u001b[0mnull\u001b[0m\u001b[0;34m,\u001b[0m\u001b[0;34m\"photoCount\"\u001b[0m\u001b[0;34m:\u001b[0m\u001b[0;36m0\u001b[0m\u001b[0;34m}\u001b[0m\u001b[0;34m,\u001b[0m\u001b[0;34m\"stats\"\u001b[0m\u001b[0;34m:\u001b[0m\u001b[0;34m{\u001b[0m\u001b[0;34m\"height\"\u001b[0m\u001b[0;34m:\u001b[0m\u001b[0;34m\"63.0\"\u001b[0m\u001b[0;34m,\u001b[0m\u001b[0;34m\"weight\"\u001b[0m\u001b[0;34m:\u001b[0m\u001b[0;34m\"140.0\"\u001b[0m\u001b[0;34m,\u001b[0m\u001b[0;34m\"weightChange\"\u001b[0m\u001b[0;34m:\u001b[0m\u001b[0mnull\u001b[0m\u001b[0;34m,\u001b[0m\u001b[0;34m\"bodyfat\"\u001b[0m\u001b[0;34m:\u001b[0m\u001b[0;34m\"11.0\"\u001b[0m\u001b[0;34m}\u001b[0m\u001b[0;34m,\u001b[0m\u001b[0;34m\"likeStats\"\u001b[0m\u001b[0;34m:\u001b[0m\u001b[0mnull\u001b[0m\u001b[0;34m}\u001b[0m\u001b[0;34m,\u001b[0m\u001b[0;34m{\u001b[0m\u001b[0;34m\"productReview\"\u001b[0m\u001b[0;34m:\u001b[0m\u001b[0;34m{\u001b[0m\u001b[0;34m\"_id\"\u001b[0m\u001b[0;34m:\u001b[0m\u001b[0;34m\"56c4b6350cf2ca53884fced7\"\u001b[0m\u001b[0;34m,\u001b[0m\u001b[0;34m\"entityId\"\u001b[0m\u001b[0;34m:\u001b[0m\u001b[0;34m\"productreview-prod3700065\"\u001b[0m\u001b[0;34m,\u001b[0m\u001b[0;34m\"userId\"\u001b[0m\u001b[0;34m:\u001b[0m\u001b[0;36m104723352\u001b[0m\u001b[0;34m,\u001b[0m\u001b[0;34m\"slug\"\u001b[0m\u001b[0;34m:\u001b[0m\u001b[0;34m\"Mdflores23\"\u001b[0m\u001b[0;34m,\u001b[0m\u001b[0;34m\"username\"\u001b[0m\u001b[0;34m:\u001b[0m\u001b[0;34m\"Mdflores23\"\u001b[0m\u001b[0;34m,\u001b[0m\u001b[0;34m\"title\"\u001b[0m\u001b[0;34m:\u001b[0m\u001b[0;34m\"\"\u001b[0m\u001b[0;34m,\u001b[0m\u001b[0;34m\"text\"\u001b[0m\u001b[0;34m:\u001b[0m\u001b[0;34m\"Flavor is awesome! Gives me the push I need specifically on cardio day \"\u001b[0m\u001b[0;34m,\u001b[0m\u001b[0;34m\"date\"\u001b[0m\u001b[0;34m:\u001b[0m\u001b[0;36m1455732277000\u001b[0m\u001b[0;34m,\u001b[0m\u001b[0;34m\"modDate\"\u001b[0m\u001b[0;34m:\u001b[0m\u001b[0;36m1455732277000\u001b[0m\u001b[0;34m,\u001b[0m\u001b[0;34m\"status\"\u001b[0m\u001b[0;34m:\u001b[0m\u001b[0;36m1\u001b[0m\u001b[0;34m,\u001b[0m\u001b[0;34m\"updateStatusReason\"\u001b[0m\u001b[0;34m:\u001b[0m\u001b[0mnull\u001b[0m\u001b[0;34m,\u001b[0m\u001b[0;34m\"brandId\"\u001b[0m\u001b[0;34m:\u001b[0m\u001b[0;34m\"BRAND_ALLMAX_NUTRITION\"\u001b[0m\u001b[0;34m,\u001b[0m\u001b[0;34m\"skuList\"\u001b[0m\u001b[0;34m:\u001b[0m\u001b[0mnull\u001b[0m\u001b[0;34m,\u001b[0m\u001b[0;34m\"productId\"\u001b[0m\u001b[0;34m:\u001b[0m\u001b[0;34m\"prod3700065\"\u001b[0m\u001b[0;34m,\u001b[0m\u001b[0;34m\"totalRatings\"\u001b[0m\u001b[0;34m:\u001b[0m\u001b[0mnull\u001b[0m\u001b[0;34m,\u001b[0m\u001b[0;34m\"overallRating\"\u001b[0m\u001b[0;34m:\u001b[0m\u001b[0mnull\u001b[0m\u001b[0;34m,\u001b[0m\u001b[0;34m\"verified\"\u001b[0m\u001b[0;34m:\u001b[0m\u001b[0mtrue\u001b[0m\u001b[0;34m}\u001b[0m\u001b[0;34m,\u001b[0m\u001b[0;34m\"product\"\u001b[0m\u001b[0;34m:\u001b[0m\u001b[0;34m{\u001b[0m\u001b[0;34m\"id\"\u001b[0m\u001b[0;34m:\u001b[0m\u001b[0;34m\"prod3700065\"\u001b[0m\u001b[0;34m,\u001b[0m\u001b[0;34m\"productId\"\u001b[0m\u001b[0;34m:\u001b[0m\u001b[0;34m\"prod3700065\"\u001b[0m\u001b[0;34m,\u001b[0m\u001b[0;34m\"name\"\u001b[0m\u001b[0;34m:\u001b[0m\u001b[0;34m\"A:Cuts\"\u001b[0m\u001b[0;34m,\u001b[0m\u001b[0;34m\"description\"\u001b[0m\u001b[0;34m:\u001b[0m\u001b[0;34m\"Designed to Give You Energy To Train and Aminos to Maintain!*\"\u001b[0m\u001b[0;34m,\u001b[0m\u001b[0;34m\"briefDescription\"\u001b[0m\u001b[0;34m:\u001b[0m\u001b[0;34m\"\"\u001b[0m\u001b[0;34m,\u001b[0m\u001b[0;34m\"url\"\u001b[0m\u001b[0;34m:\u001b[0m\u001b[0;34m\"http://www.bodybuilding.com/store/allmax-nutrition/acuts.html\"\u001b[0m\u001b[0;34m,\u001b[0m\u001b[0;34m\"skuList\"\u001b[0m\u001b[0;34m:\u001b[0m\u001b[0mnull\u001b[0m\u001b[0;34m,\u001b[0m\u001b[0;34m\"flavorList\"\u001b[0m\u001b[0;34m:\u001b[0m\u001b[0;34m[\u001b[0m\u001b[0;34m\"Pina Colada\"\u001b[0m\u001b[0;34m,\u001b[0m\u001b[0;34m\"Goji Berry Martini\"\u001b[0m\u001b[0;34m,\u001b[0m\u001b[0;34m\"Pink Lemonade\"\u001b[0m\u001b[0;34m,\u001b[0m\u001b[0;34m\"Arctic Orange\"\u001b[0m\u001b[0;34m]\u001b[0m\u001b[0;34m,\u001b[0m\u001b[0;34m\"brandId\"\u001b[0m\u001b[0;34m:\u001b[0m\u001b[0;34m\"BRAND_ALLMAX_NUTRITION\"\u001b[0m\u001b[0;34m,\u001b[0m\u001b[0;34m\"brandName\"\u001b[0m\u001b[0;34m:\u001b[0m\u001b[0;34m\"AllMax Nutrition\"\u001b[0m\u001b[0;34m,\u001b[0m\u001b[0;34m\"imageSmall\"\u001b[0m\u001b[0;34m:\u001b[0m\u001b[0;34m\"http://store.bbcomcdn.com/images/store/prodimage/prod_prod3700065/image_prodprod3700065_largeImage_X_70_white.jpg\"\u001b[0m\u001b[0;34m,\u001b[0m\u001b[0;34m\"imageMedium\"\u001b[0m\u001b[0;34m:\u001b[0m\u001b[0;34m\"http://store.bbcomcdn.com/images/store/prodimage/prod_prod3700065/image_prodprod3700065_largeImage_X_130_white.jpg\"\u001b[0m\u001b[0;34m,\u001b[0m\u001b[0;34m\"imageLarge\"\u001b[0m\u001b[0;34m:\u001b[0m\u001b[0;34m\"http://store.bbcomcdn.com/images/store/prodimage/prod_prod3700065/image_prodprod3700065_largeImage_X_450_white.jpg\"\u001b[0m\u001b[0;34m,\u001b[0m\u001b[0;34m\"flavorRatings\"\u001b[0m\u001b[0;34m:\u001b[0m\u001b[0;34m{\u001b[0m\u001b[0;34m\"overallRating\"\u001b[0m\u001b[0;34m:\u001b[0m\u001b[0;36m9.3\u001b[0m\u001b[0;34m,\u001b[0m\u001b[0;34m\"totalRatings\"\u001b[0m\u001b[0;34m:\u001b[0m\u001b[0;36m4\u001b[0m\u001b[0;34m,\u001b[0m\u001b[0;34m\"ratings\"\u001b[0m\u001b[0;34m:\u001b[0m\u001b[0;34m[\u001b[0m\u001b[0;34m{\u001b[0m\u001b[0;34m\"id\"\u001b[0m\u001b[0;34m:\u001b[0m\u001b[0;34m\"prod3700065-goji_berry_martini\"\u001b[0m\u001b[0;34m,\u001b[0m\u001b[0;34m\"flavor\"\u001b[0m\u001b[0;34m:\u001b[0m\u001b[0;34m\"Goji Berry Martini\"\u001b[0m\u001b[0;34m,\u001b[0m\u001b[0;34m\"rating\"\u001b[0m\u001b[0;34m:\u001b[0m\u001b[0;36m8.3\u001b[0m\u001b[0;34m,\u001b[0m\u001b[0;34m\"totalRatings\"\u001b[0m\u001b[0;34m:\u001b[0m\u001b[0;36m3\u001b[0m\u001b[0;34m}\u001b[0m\u001b[0;34m,\u001b[0m\u001b[0;34m{\u001b[0m\u001b[0;34m\"id\"\u001b[0m\u001b[0;34m:\u001b[0m\u001b[0;34m\"prod3700065-arctic_orange\"\u001b[0m\u001b[0;34m,\u001b[0m\u001b[0;34m\"flavor\"\u001b[0m\u001b[0;34m:\u001b[0m\u001b[0;34m\"Arctic Orange\"\u001b[0m\u001b[0;34m,\u001b[0m\u001b[0;34m\"rating\"\u001b[0m\u001b[0;34m:\u001b[0m\u001b[0;36m10.0\u001b[0m\u001b[0;34m,\u001b[0m\u001b[0;34m\"totalRatings\"\u001b[0m\u001b[0;34m:\u001b[0m\u001b[0;36m1\u001b[0m\u001b[0;34m}\u001b[0m\u001b[0;34m,\u001b[0m\u001b[0;34m{\u001b[0m\u001b[0;34m\"id\"\u001b[0m\u001b[0;34m:\u001b[0m\u001b[0;34m\"prod3700065-pina_colada\"\u001b[0m\u001b[0;34m,\u001b[0m\u001b[0;34m\"flavor\"\u001b[0m\u001b[0;34m:\u001b[0m\u001b[0;34m\"Pina Colada\"\u001b[0m\u001b[0;34m,\u001b[0m\u001b[0;34m\"rating\"\u001b[0m\u001b[0;34m:\u001b[0m\u001b[0;36m10.0\u001b[0m\u001b[0;34m,\u001b[0m\u001b[0;34m\"totalRatings\"\u001b[0m\u001b[0;34m:\u001b[0m\u001b[0;36m9\u001b[0m\u001b[0;34m}\u001b[0m\u001b[0;34m,\u001b[0m\u001b[0;34m{\u001b[0m\u001b[0;34m\"id\"\u001b[0m\u001b[0;34m:\u001b[0m\u001b[0;34m\"prod3700065-pink_lemonade\"\u001b[0m\u001b[0;34m,\u001b[0m\u001b[0;34m\"flavor\"\u001b[0m\u001b[0;34m:\u001b[0m\u001b[0;34m\"Pink Lemonade\"\u001b[0m\u001b[0;34m,\u001b[0m\u001b[0;34m\"rating\"\u001b[0m\u001b[0;34m:\u001b[0m\u001b[0;36m9.0\u001b[0m\u001b[0;34m,\u001b[0m\u001b[0;34m\"totalRatings\"\u001b[0m\u001b[0;34m:\u001b[0m\u001b[0;36m5\u001b[0m\u001b[0;34m}\u001b[0m\u001b[0;34m]\u001b[0m\u001b[0;34m}\u001b[0m\u001b[0;34m,\u001b[0m\u001b[0;34m\"reviewUrl\"\u001b[0m\u001b[0;34m:\u001b[0m\u001b[0;34m\"http://reviews.bodybuilding.com/allmax-nutrition/acuts/\"\u001b[0m\u001b[0;34m,\u001b[0m\u001b[0;34m\"overallRating\"\u001b[0m\u001b[0;34m:\u001b[0m\u001b[0;36m9.4\u001b[0m\u001b[0;34m,\u001b[0m\u001b[0;34m\"totalRatings\"\u001b[0m\u001b[0;34m:\u001b[0m\u001b[0;36m17\u001b[0m\u001b[0;34m,\u001b[0m\u001b[0;34m\"verifiedBuyerRating\"\u001b[0m\u001b[0;34m:\u001b[0m\u001b[0;36m9.9\u001b[0m\u001b[0;34m,\u001b[0m\u001b[0;34m\"totalVerifiedBuyers\"\u001b[0m\u001b[0;34m:\u001b[0m\u001b[0;36m9\u001b[0m\u001b[0;34m,\u001b[0m\u001b[0;34m\"totalReviews\"\u001b[0m\u001b[0;34m:\u001b[0m\u001b[0;36m16\u001b[0m\u001b[0;34m,\u001b[0m\u001b[0;34m\"totalVerifiedReviews\"\u001b[0m\u001b[0;34m:\u001b[0m\u001b[0;36m9\u001b[0m\u001b[0;34m,\u001b[0m\u001b[0;34m\"verified\"\u001b[0m\u001b[0;34m:\u001b[0m\u001b[0mnull\u001b[0m\u001b[0;34m}\u001b[0m\u001b[0;34m,\u001b[0m\u001b[0;34m\"overallRating\"\u001b[0m\u001b[0;34m:\u001b[0m\u001b[0;36m9.4\u001b[0m\u001b[0;34m,\u001b[0m\u001b[0;34m\"totalRatings\"\u001b[0m\u001b[0;34m:\u001b[0m\u001b[0;36m17\u001b[0m\u001b[0;34m,\u001b[0m\u001b[0;34m\"userRating\"\u001b[0m\u001b[0;34m:\u001b[0m\u001b[0;34m{\u001b[0m\u001b[0;34m\"overallRating\"\u001b[0m\u001b[0;34m:\u001b[0m\u001b[0;36m10.0\u001b[0m\u001b[0;34m,\u001b[0m\u001b[0;34m\"totalRatings\"\u001b[0m\u001b[0;34m:\u001b[0m\u001b[0mnull\u001b[0m\u001b[0;34m,\u001b[0m\u001b[0;34m\"ratings\"\u001b[0m\u001b[0;34m:\u001b[0m\u001b[0;34m[\u001b[0m\u001b[0;34m]\u001b[0m\u001b[0;34m}\u001b[0m\u001b[0;34m,\u001b[0m\u001b[0;34m\"flavorRatings\"\u001b[0m\u001b[0;34m:\u001b[0m\u001b[0mnull\u001b[0m\u001b[0;34m,\u001b[0m\u001b[0;34m\"likeCount\"\u001b[0m\u001b[0;34m:\u001b[0m\u001b[0mnull\u001b[0m\u001b[0;34m,\u001b[0m\u001b[0;34m\"commentCount\"\u001b[0m\u001b[0;34m:\u001b[0m\u001b[0;36m0\u001b[0m\u001b[0;34m,\u001b[0m\u001b[0;34m\"helpful\"\u001b[0m\u001b[0;34m:\u001b[0m\u001b[0;36m0\u001b[0m\u001b[0;34m,\u001b[0m\u001b[0;34m\"helpfulTotal\"\u001b[0m\u001b[0;34m:\u001b[0m\u001b[0;36m0\u001b[0m\u001b[0;34m,\u001b[0m\u001b[0;34m\"wasHelpful\"\u001b[0m\u001b[0;34m:\u001b[0m\u001b[0mnull\u001b[0m\u001b[0;34m,\u001b[0m\u001b[0;34m\"member\"\u001b[0m\u001b[0;34m:\u001b[0m\u001b[0;34m{\u001b[0m\u001b[0;34m\"userId\"\u001b[0m\u001b[0;34m:\u001b[0m\u001b[0;36m104723352\u001b[0m\u001b[0;34m,\u001b[0m\u001b[0;34m\"username\"\u001b[0m\u001b[0;34m:\u001b[0m\u001b[0;34m\"Mdflores23\"\u001b[0m\u001b[0;34m,\u001b[0m\u001b[0;34m\"slug\"\u001b[0m\u001b[0;34m:\u001b[0m\u001b[0;34m\"Mdflores23\"\u001b[0m\u001b[0;34m,\u001b[0m\u001b[0;34m\"vbuserId\"\u001b[0m\u001b[0;34m:\u001b[0m\u001b[0;36m0\u001b[0m\u001b[0;34m,\u001b[0m\u001b[0;34m\"lastActivity\"\u001b[0m\u001b[0;34m:\u001b[0m\u001b[0mnull\u001b[0m\u001b[0;34m,\u001b[0m\u001b[0;34m\"profilePicThumbPath\"\u001b[0m\u001b[0;34m:\u001b[0m\u001b[0mnull\u001b[0m\u001b[0;34m,\u001b[0m\u001b[0;34m\"profilePicPath\"\u001b[0m\u001b[0;34m:\u001b[0m\u001b[0;34m\"http://assets.bodybuilding.com/images/profiledefault_thumb.jpg\"\u001b[0m\u001b[0;34m,\u001b[0m\u001b[0;34m\"profilePicAvatarPath\"\u001b[0m\u001b[0;34m:\u001b[0m\u001b[0mnull\u001b[0m\u001b[0;34m,\u001b[0m\u001b[0;34m\"profilePicOriginalPath\"\u001b[0m\u001b[0;34m:\u001b[0m\u001b[0mnull\u001b[0m\u001b[0;34m,\u001b[0m\u001b[0;34m\"realName\"\u001b[0m\u001b[0;34m:\u001b[0m\u001b[0mnull\u001b[0m\u001b[0;34m,\u001b[0m\u001b[0;34m\"profileURL\"\u001b[0m\u001b[0;34m:\u001b[0m\u001b[0mnull\u001b[0m\u001b[0;34m,\u001b[0m\u001b[0;34m\"groupId\"\u001b[0m\u001b[0;34m:\u001b[0m\u001b[0mnull\u001b[0m\u001b[0;34m,\u001b[0m\u001b[0;34m\"activated\"\u001b[0m\u001b[0;34m:\u001b[0m\u001b[0mfalse\u001b[0m\u001b[0;34m,\u001b[0m\u001b[0;34m\"emailAddress\"\u001b[0m\u001b[0;34m:\u001b[0m\u001b[0mnull\u001b[0m\u001b[0;34m,\u001b[0m\u001b[0;34m\"joinDate\"\u001b[0m\u001b[0;34m:\u001b[0m\u001b[0mnull\u001b[0m\u001b[0;34m,\u001b[0m\u001b[0;34m\"gender\"\u001b[0m\u001b[0;34m:\u001b[0m\u001b[0mnull\u001b[0m\u001b[0;34m,\u001b[0m\u001b[0;34m\"photoCount\"\u001b[0m\u001b[0;34m:\u001b[0m\u001b[0;36m0\u001b[0m\u001b[0;34m}\u001b[0m\u001b[0;34m,\u001b[0m\u001b[0;34m\"stats\"\u001b[0m\u001b[0;34m:\u001b[0m\u001b[0;34m{\u001b[0m\u001b[0;34m\"height\"\u001b[0m\u001b[0;34m:\u001b[0m\u001b[0mnull\u001b[0m\u001b[0;34m,\u001b[0m\u001b[0;34m\"weight\"\u001b[0m\u001b[0;34m:\u001b[0m\u001b[0;34m\"122.0\"\u001b[0m\u001b[0;34m,\u001b[0m\u001b[0;34m\"weightChange\"\u001b[0m\u001b[0;34m:\u001b[0m\u001b[0mnull\u001b[0m\u001b[0;34m,\u001b[0m\u001b[0;34m\"bodyfat\"\u001b[0m\u001b[0;34m:\u001b[0m\u001b[0mnull\u001b[0m\u001b[0;34m}\u001b[0m\u001b[0;34m,\u001b[0m\u001b[0;34m\"likeStats\"\u001b[0m\u001b[0;34m:\u001b[0m\u001b[0mnull\u001b[0m\u001b[0;34m}\u001b[0m\u001b[0;34m,\u001b[0m\u001b[0;34m{\u001b[0m\u001b[0;34m\"productReview\"\u001b[0m\u001b[0;34m:\u001b[0m\u001b[0;34m{\u001b[0m\u001b[0;34m\"_id\"\u001b[0m\u001b[0;34m:\u001b[0m\u001b[0;34m\"56b4b5b10cf2f1083f89b75b\"\u001b[0m\u001b[0;34m,\u001b[0m\u001b[0;34m\"entityId\"\u001b[0m\u001b[0;34m:\u001b[0m\u001b[0;34m\"productreview-prod3700065\"\u001b[0m\u001b[0;34m,\u001b[0m\u001b[0;34m\"userId\"\u001b[0m\u001b[0;34m:\u001b[0m\u001b[0;36m83481012\u001b[0m\u001b[0;34m,\u001b[0m\u001b[0;34m\"slug\"\u001b[0m\u001b[0;34m:\u001b[0m\u001b[0;34m\"Odibiris\"\u001b[0m\u001b[0;34m,\u001b[0m\u001b[0;34m\"username\"\u001b[0m\u001b[0;34m:\u001b[0m\u001b[0;34m\"Odibiris\"\u001b[0m\u001b[0;34m,\u001b[0m\u001b[0;34m\"title\"\u001b[0m\u001b[0;34m:\u001b[0m\u001b[0;34m\"\"\u001b[0m\u001b[0;34m,\u001b[0m\u001b[0;34m\"text\"\u001b[0m\u001b[0;34m:\u001b[0m\u001b[0;34m\"In love with this product ❤️ Taste amazing \"\u001b[0m\u001b[0;34m,\u001b[0m\u001b[0;34m\"date\"\u001b[0m\u001b[0;34m:\u001b[0m\u001b[0;36m1454683569000\u001b[0m\u001b[0;34m,\u001b[0m\u001b[0;34m\"modDate\"\u001b[0m\u001b[0;34m:\u001b[0m\u001b[0;36m1454683569000\u001b[0m\u001b[0;34m,\u001b[0m\u001b[0;34m\"status\"\u001b[0m\u001b[0;34m:\u001b[0m\u001b[0;36m1\u001b[0m\u001b[0;34m,\u001b[0m\u001b[0;34m\"updateStatusReason\"\u001b[0m\u001b[0;34m:\u001b[0m\u001b[0mnull\u001b[0m\u001b[0;34m,\u001b[0m\u001b[0;34m\"brandId\"\u001b[0m\u001b[0;34m:\u001b[0m\u001b[0;34m\"BRAND_ALLMAX_NUTRITION\"\u001b[0m\u001b[0;34m,\u001b[0m\u001b[0;34m\"skuList\"\u001b[0m\u001b[0;34m:\u001b[0m\u001b[0mnull\u001b[0m\u001b[0;34m,\u001b[0m\u001b[0;34m\"productId\"\u001b[0m\u001b[0;34m:\u001b[0m\u001b[0;34m\"prod3700065\"\u001b[0m\u001b[0;34m,\u001b[0m\u001b[0;34m\"totalRatings\"\u001b[0m\u001b[0;34m:\u001b[0m\u001b[0mnull\u001b[0m\u001b[0;34m,\u001b[0m\u001b[0;34m\"overallRating\"\u001b[0m\u001b[0;34m:\u001b[0m\u001b[0mnull\u001b[0m\u001b[0;34m,\u001b[0m\u001b[0;34m\"verified\"\u001b[0m\u001b[0;34m:\u001b[0m\u001b[0mtrue\u001b[0m\u001b[0;34m}\u001b[0m\u001b[0;34m,\u001b[0m\u001b[0;34m\"product\"\u001b[0m\u001b[0;34m:\u001b[0m\u001b[0;34m{\u001b[0m\u001b[0;34m\"id\"\u001b[0m\u001b[0;34m:\u001b[0m\u001b[0;34m\"prod3700065\"\u001b[0m\u001b[0;34m,\u001b[0m\u001b[0;34m\"productId\"\u001b[0m\u001b[0;34m:\u001b[0m\u001b[0;34m\"prod3700065\"\u001b[0m\u001b[0;34m,\u001b[0m\u001b[0;34m\"name\"\u001b[0m\u001b[0;34m:\u001b[0m\u001b[0;34m\"A:Cuts\"\u001b[0m\u001b[0;34m,\u001b[0m\u001b[0;34m\"description\"\u001b[0m\u001b[0;34m:\u001b[0m\u001b[0;34m\"Designed to Give You Energy To Train and Aminos to Maintain!*\"\u001b[0m\u001b[0;34m,\u001b[0m\u001b[0;34m\"briefDescription\"\u001b[0m\u001b[0;34m:\u001b[0m\u001b[0;34m\"\"\u001b[0m\u001b[0;34m,\u001b[0m\u001b[0;34m\"url\"\u001b[0m\u001b[0;34m:\u001b[0m\u001b[0;34m\"http://www.bodybuilding.com/store/allmax-nutrition/acuts.html\"\u001b[0m\u001b[0;34m,\u001b[0m\u001b[0;34m\"skuList\"\u001b[0m\u001b[0;34m:\u001b[0m\u001b[0mnull\u001b[0m\u001b[0;34m,\u001b[0m\u001b[0;34m\"flavorList\"\u001b[0m\u001b[0;34m:\u001b[0m\u001b[0;34m[\u001b[0m\u001b[0;34m\"Pina Colada\"\u001b[0m\u001b[0;34m,\u001b[0m\u001b[0;34m\"Goji Berry Martini\"\u001b[0m\u001b[0;34m,\u001b[0m\u001b[0;34m\"Pink Lemonade\"\u001b[0m\u001b[0;34m,\u001b[0m\u001b[0;34m\"Arctic Orange\"\u001b[0m\u001b[0;34m]\u001b[0m\u001b[0;34m,\u001b[0m\u001b[0;34m\"brandId\"\u001b[0m\u001b[0;34m:\u001b[0m\u001b[0;34m\"BRAND_ALLMAX_NUTRITION\"\u001b[0m\u001b[0;34m,\u001b[0m\u001b[0;34m\"brandName\"\u001b[0m\u001b[0;34m:\u001b[0m\u001b[0;34m\"AllMax Nutrition\"\u001b[0m\u001b[0;34m,\u001b[0m\u001b[0;34m\"imageSmall\"\u001b[0m\u001b[0;34m:\u001b[0m\u001b[0;34m\"http://store.bbcomcdn.com/images/store/prodimage/prod_prod3700065/image_prodprod3700065_largeImage_X_70_white.jpg\"\u001b[0m\u001b[0;34m,\u001b[0m\u001b[0;34m\"imageMedium\"\u001b[0m\u001b[0;34m:\u001b[0m\u001b[0;34m\"http://store.bbcomcdn.com/images/store/prodimage/prod_prod3700065/image_prodprod3700065_largeImage_X_130_white.jpg\"\u001b[0m\u001b[0;34m,\u001b[0m\u001b[0;34m\"imageLarge\"\u001b[0m\u001b[0;34m:\u001b[0m\u001b[0;34m\"http://store.bbcomcdn.com/images/store/prodimage/prod_prod3700065/image_prodprod3700065_largeImage_X_450_white.jpg\"\u001b[0m\u001b[0;34m,\u001b[0m\u001b[0;34m\"flavorRatings\"\u001b[0m\u001b[0;34m:\u001b[0m\u001b[0;34m{\u001b[0m\u001b[0;34m\"overallRating\"\u001b[0m\u001b[0;34m:\u001b[0m\u001b[0;36m9.3\u001b[0m\u001b[0;34m,\u001b[0m\u001b[0;34m\"totalRatings\"\u001b[0m\u001b[0;34m:\u001b[0m\u001b[0;36m4\u001b[0m\u001b[0;34m,\u001b[0m\u001b[0;34m\"ratings\"\u001b[0m\u001b[0;34m:\u001b[0m\u001b[0;34m[\u001b[0m\u001b[0;34m{\u001b[0m\u001b[0;34m\"id\"\u001b[0m\u001b[0;34m:\u001b[0m\u001b[0;34m\"prod3700065-goji_berry_martini\"\u001b[0m\u001b[0;34m,\u001b[0m\u001b[0;34m\"flavor\"\u001b[0m\u001b[0;34m:\u001b[0m\u001b[0;34m\"Goji Berry Martini\"\u001b[0m\u001b[0;34m,\u001b[0m\u001b[0;34m\"rating\"\u001b[0m\u001b[0;34m:\u001b[0m\u001b[0;36m8.3\u001b[0m\u001b[0;34m,\u001b[0m\u001b[0;34m\"totalRatings\"\u001b[0m\u001b[0;34m:\u001b[0m\u001b[0;36m3\u001b[0m\u001b[0;34m}\u001b[0m\u001b[0;34m,\u001b[0m\u001b[0;34m{\u001b[0m\u001b[0;34m\"id\"\u001b[0m\u001b[0;34m:\u001b[0m\u001b[0;34m\"prod3700065-arctic_orange\"\u001b[0m\u001b[0;34m,\u001b[0m\u001b[0;34m\"flavor\"\u001b[0m\u001b[0;34m:\u001b[0m\u001b[0;34m\"Arctic Orange\"\u001b[0m\u001b[0;34m,\u001b[0m\u001b[0;34m\"rating\"\u001b[0m\u001b[0;34m:\u001b[0m\u001b[0;36m10.0\u001b[0m\u001b[0;34m,\u001b[0m\u001b[0;34m\"totalRatings\"\u001b[0m\u001b[0;34m:\u001b[0m\u001b[0;36m1\u001b[0m\u001b[0;34m}\u001b[0m\u001b[0;34m,\u001b[0m\u001b[0;34m{\u001b[0m\u001b[0;34m\"id\"\u001b[0m\u001b[0;34m:\u001b[0m\u001b[0;34m\"prod3700065-pina_colada\"\u001b[0m\u001b[0;34m,\u001b[0m\u001b[0;34m\"flavor\"\u001b[0m\u001b[0;34m:\u001b[0m\u001b[0;34m\"Pina Colada\"\u001b[0m\u001b[0;34m,\u001b[0m\u001b[0;34m\"rating\"\u001b[0m\u001b[0;34m:\u001b[0m\u001b[0;36m10.0\u001b[0m\u001b[0;34m,\u001b[0m\u001b[0;34m\"totalRatings\"\u001b[0m\u001b[0;34m:\u001b[0m\u001b[0;36m9\u001b[0m\u001b[0;34m}\u001b[0m\u001b[0;34m,\u001b[0m\u001b[0;34m{\u001b[0m\u001b[0;34m\"id\"\u001b[0m\u001b[0;34m:\u001b[0m\u001b[0;34m\"prod3700065-pink_lemonade\"\u001b[0m\u001b[0;34m,\u001b[0m\u001b[0;34m\"flavor\"\u001b[0m\u001b[0;34m:\u001b[0m\u001b[0;34m\"Pink Lemonade\"\u001b[0m\u001b[0;34m,\u001b[0m\u001b[0;34m\"rating\"\u001b[0m\u001b[0;34m:\u001b[0m\u001b[0;36m9.0\u001b[0m\u001b[0;34m,\u001b[0m\u001b[0;34m\"totalRatings\"\u001b[0m\u001b[0;34m:\u001b[0m\u001b[0;36m5\u001b[0m\u001b[0;34m}\u001b[0m\u001b[0;34m]\u001b[0m\u001b[0;34m}\u001b[0m\u001b[0;34m,\u001b[0m\u001b[0;34m\"reviewUrl\"\u001b[0m\u001b[0;34m:\u001b[0m\u001b[0;34m\"http://reviews.bodybuilding.com/allmax-nutrition/acuts/\"\u001b[0m\u001b[0;34m,\u001b[0m\u001b[0;34m\"overallRating\"\u001b[0m\u001b[0;34m:\u001b[0m\u001b[0;36m9.4\u001b[0m\u001b[0;34m,\u001b[0m\u001b[0;34m\"totalRatings\"\u001b[0m\u001b[0;34m:\u001b[0m\u001b[0;36m17\u001b[0m\u001b[0;34m,\u001b[0m\u001b[0;34m\"verifiedBuyerRating\"\u001b[0m\u001b[0;34m:\u001b[0m\u001b[0;36m9.9\u001b[0m\u001b[0;34m,\u001b[0m\u001b[0;34m\"totalVerifiedBuyers\"\u001b[0m\u001b[0;34m:\u001b[0m\u001b[0;36m9\u001b[0m\u001b[0;34m,\u001b[0m\u001b[0;34m\"totalReviews\"\u001b[0m\u001b[0;34m:\u001b[0m\u001b[0;36m16\u001b[0m\u001b[0;34m,\u001b[0m\u001b[0;34m\"totalVerifiedReviews\"\u001b[0m\u001b[0;34m:\u001b[0m\u001b[0;36m9\u001b[0m\u001b[0;34m,\u001b[0m\u001b[0;34m\"verified\"\u001b[0m\u001b[0;34m:\u001b[0m\u001b[0mnull\u001b[0m\u001b[0;34m}\u001b[0m\u001b[0;34m,\u001b[0m\u001b[0;34m\"overallRating\"\u001b[0m\u001b[0;34m:\u001b[0m\u001b[0;36m9.4\u001b[0m\u001b[0;34m,\u001b[0m\u001b[0;34m\"totalRatings\"\u001b[0m\u001b[0;34m:\u001b[0m\u001b[0;36m17\u001b[0m\u001b[0;34m,\u001b[0m\u001b[0;34m\"userRating\"\u001b[0m\u001b[0;34m:\u001b[0m\u001b[0;34m{\u001b[0m\u001b[0;34m\"overallRating\"\u001b[0m\u001b[0;34m:\u001b[0m\u001b[0;36m10.0\u001b[0m\u001b[0;34m,\u001b[0m\u001b[0;34m\"totalRatings\"\u001b[0m\u001b[0;34m:\u001b[0m\u001b[0mnull\u001b[0m\u001b[0;34m,\u001b[0m\u001b[0;34m\"ratings\"\u001b[0m\u001b[0;34m:\u001b[0m\u001b[0;34m[\u001b[0m\u001b[0;34m]\u001b[0m\u001b[0;34m}\u001b[0m\u001b[0;34m,\u001b[0m\u001b[0;34m\"flavorRatings\"\u001b[0m\u001b[0;34m:\u001b[0m\u001b[0mnull\u001b[0m\u001b[0;34m,\u001b[0m\u001b[0;34m\"likeCount\"\u001b[0m\u001b[0;34m:\u001b[0m\u001b[0mnull\u001b[0m\u001b[0;34m,\u001b[0m\u001b[0;34m\"commentCount\"\u001b[0m\u001b[0;34m:\u001b[0m\u001b[0;36m0\u001b[0m\u001b[0;34m,\u001b[0m\u001b[0;34m\"helpful\"\u001b[0m\u001b[0;34m:\u001b[0m\u001b[0;36m1\u001b[0m\u001b[0;34m,\u001b[0m\u001b[0;34m\"helpfulTotal\"\u001b[0m\u001b[0;34m:\u001b[0m\u001b[0;36m1\u001b[0m\u001b[0;34m,\u001b[0m\u001b[0;34m\"wasHelpful\"\u001b[0m\u001b[0;34m:\u001b[0m\u001b[0mnull\u001b[0m\u001b[0;34m,\u001b[0m\u001b[0;34m\"member\"\u001b[0m\u001b[0;34m:\u001b[0m\u001b[0;34m{\u001b[0m\u001b[0;34m\"userId\"\u001b[0m\u001b[0;34m:\u001b[0m\u001b[0;36m83481012\u001b[0m\u001b[0;34m,\u001b[0m\u001b[0;34m\"username\"\u001b[0m\u001b[0;34m:\u001b[0m\u001b[0;34m\"Odibiris\"\u001b[0m\u001b[0;34m,\u001b[0m\u001b[0;34m\"slug\"\u001b[0m\u001b[0;34m:\u001b[0m\u001b[0;34m\"Odibiris\"\u001b[0m\u001b[0;34m,\u001b[0m\u001b[0;34m\"vbuserId\"\u001b[0m\u001b[0;34m:\u001b[0m\u001b[0;36m0\u001b[0m\u001b[0;34m,\u001b[0m\u001b[0;34m\"lastActivity\"\u001b[0m\u001b[0;34m:\u001b[0m\u001b[0mnull\u001b[0m\u001b[0;34m,\u001b[0m\u001b[0;34m\"profilePicThumbPath\"\u001b[0m\u001b[0;34m:\u001b[0m\u001b[0mnull\u001b[0m\u001b[0;34m,\u001b[0m\u001b[0;34m\"profilePicPath\"\u001b[0m\u001b[0;34m:\u001b[0m\u001b[0;34m\"http://imagecdn.bodybuilding.com/profile-photo/21018438/e040dcb876e54cb98ffc9a6b0c0d8e0bp.jpg\"\u001b[0m\u001b[0;34m,\u001b[0m\u001b[0;34m\"profilePicAvatarPath\"\u001b[0m\u001b[0;34m:\u001b[0m\u001b[0mnull\u001b[0m\u001b[0;34m,\u001b[0m\u001b[0;34m\"profilePicOriginalPath\"\u001b[0m\u001b[0;34m:\u001b[0m\u001b[0mnull\u001b[0m\u001b[0;34m,\u001b[0m\u001b[0;34m\"realName\"\u001b[0m\u001b[0;34m:\u001b[0m\u001b[0mnull\u001b[0m\u001b[0;34m,\u001b[0m\u001b[0;34m\"profileURL\"\u001b[0m\u001b[0;34m:\u001b[0m\u001b[0mnull\u001b[0m\u001b[0;34m,\u001b[0m\u001b[0;34m\"groupId\"\u001b[0m\u001b[0;34m:\u001b[0m\u001b[0mnull\u001b[0m\u001b[0;34m,\u001b[0m\u001b[0;34m\"activated\"\u001b[0m\u001b[0;34m:\u001b[0m\u001b[0mfalse\u001b[0m\u001b[0;34m,\u001b[0m\u001b[0;34m\"emailAddress\"\u001b[0m\u001b[0;34m:\u001b[0m\u001b[0mnull\u001b[0m\u001b[0;34m,\u001b[0m\u001b[0;34m\"joinDate\"\u001b[0m\u001b[0;34m:\u001b[0m\u001b[0mnull\u001b[0m\u001b[0;34m,\u001b[0m\u001b[0;34m\"gender\"\u001b[0m\u001b[0;34m:\u001b[0m\u001b[0mnull\u001b[0m\u001b[0;34m,\u001b[0m\u001b[0;34m\"photoCount\"\u001b[0m\u001b[0;34m:\u001b[0m\u001b[0;36m0\u001b[0m\u001b[0;34m}\u001b[0m\u001b[0;34m,\u001b[0m\u001b[0;34m\"stats\"\u001b[0m\u001b[0;34m:\u001b[0m\u001b[0;34m{\u001b[0m\u001b[0;34m\"height\"\u001b[0m\u001b[0;34m:\u001b[0m\u001b[0;34m\"62.0\"\u001b[0m\u001b[0;34m,\u001b[0m\u001b[0;34m\"weight\"\u001b[0m\u001b[0;34m:\u001b[0m\u001b[0;34m\"131.0\"\u001b[0m\u001b[0;34m,\u001b[0m\u001b[0;34m\"weightChange\"\u001b[0m\u001b[0;34m:\u001b[0m\u001b[0mnull\u001b[0m\u001b[0;34m,\u001b[0m\u001b[0;34m\"bodyfat\"\u001b[0m\u001b[0;34m:\u001b[0m\u001b[0;34m\"17.9\"\u001b[0m\u001b[0;34m}\u001b[0m\u001b[0;34m,\u001b[0m\u001b[0;34m\"likeStats\"\u001b[0m\u001b[0;34m:\u001b[0m\u001b[0mnull\u001b[0m\u001b[0;34m}\u001b[0m\u001b[0;34m]\u001b[0m\u001b[0;34m}\u001b[0m\u001b[0;34m\u001b[0m\u001b[0m\n\u001b[0m\u001b[1;32m      2\u001b[0m \u001b[0;34m\u001b[0m\u001b[0m\n\u001b[1;32m      3\u001b[0m \u001b[0;34m\u001b[0m\u001b[0m\n\u001b[1;32m      4\u001b[0m \u001b[0;34m\u001b[0m\u001b[0m\n\u001b[1;32m      5\u001b[0m \u001b[0;34m\u001b[0m\u001b[0m\n",
      "\u001b[0;31mNameError\u001b[0m: name 'null' is not defined"
     ]
    }
   ],
   "source": [
    "{\\\n",
    "     \"totalItems\":9,\n",
    " \"productReviews\":[{\\\n",
    "                    \"productReview\":{\\\n",
    "                                            \"_id\":\"56f96b6f0cf2a4144a3adb38\",\n",
    "                                       \"entityId\":\"productreview-prod3700065\",\n",
    "                                         \"userId\":127617211,\n",
    "                                           \"slug\":\"paulalyons\",\n",
    "                                       \"username\":\"paulalyons\",\n",
    "                                          \"title\":\"\",\n",
    "                                           \"text\":\"Love Amino Cuts as an everyday pick me up! Also use it just before a blast of cardio or added to a non stimulant Pre-workout powder.  LOVE the Pina Colada!!! Amazing flavor and No jitters!! \",\n",
    "                                           \"date\":1459186543000,\n",
    "                                        \"modDate\":1459186543000,\n",
    "                                         \"status\":1,\n",
    "                             \"updateStatusReason\":null,\n",
    "                                        \"brandId\":\"BRAND_ALLMAX_NUTRITION\",\n",
    "                                        \"skuList\":null,\n",
    "                                      \"productId\":\"prod3700065\",\n",
    "                                   \"totalRatings\":null,\n",
    "                                  \"overallRating\":null,\n",
    "                                       \"verified\":true},\n",
    "                          \"product\":{\\\n",
    "                                             \"id\":\"prod3700065\",\n",
    "                                      \"productId\":\"prod3700065\",\n",
    "                                           \"name\":\"A:Cuts\",\n",
    "                                    \"description\":\"Designed to Give You Energy To Train and Aminos to Maintain!*\",\n",
    "                               \"briefDescription\":\"\",\n",
    "                                            \"url\":\"http://www.bodybuilding.com/store/allmax-nutrition/acuts.html\",\n",
    "                                        \"skuList\":null,\n",
    "                                     \"flavorList\":[\"Pina Colada\",\"Goji Berry Martini\",\"Pink Lemonade\",\"Arctic Orange\"],\n",
    "                                        \"brandId\":\"BRAND_ALLMAX_NUTRITION\",\n",
    "                                      \"brandName\":\"AllMax Nutrition\",\n",
    "                                     \"imageSmall\":\"http://store.bbcomcdn.com/images/store/prodimage/prod_prod3700065/image_prodprod3700065_largeImage_X_70_white.jpg\",\n",
    "                                    \"imageMedium\":\"http://store.bbcomcdn.com/images/store/prodimage/prod_prod3700065/image_prodprod3700065_largeImage_X_130_white.jpg\",\n",
    "                                     \"imageLarge\":\"http://store.bbcomcdn.com/images/store/prodimage/prod_prod3700065/image_prodprod3700065_largeImage_X_450_white.jpg\",\n",
    "                                  \"flavorRatings\":{\\\n",
    "                                                   \"overallRating\":9.3,\n",
    "                                                    \"totalRatings\":4,\n",
    "                                                         \"ratings\":[\\\n",
    "                                                                    {\"id\":\"prod3700065-goji_berry_martini\",\"flavor\":\"Goji Berry Martini\",\"rating\":8.3,\"totalRatings\":3},\n",
    "                                                                    {\"id\":\"prod3700065-arctic_orange\",\"flavor\":\"Arctic Orange\",\"rating\":10.0,\"totalRatings\":1},\n",
    "                                                                    {\"id\":\"prod3700065-pina_colada\",\"flavor\":\"Pina Colada\",\"rating\":10.0,\"totalRatings\":9},\n",
    "                                                                    {\"id\":\"prod3700065-pink_lemonade\",\"flavor\":\"Pink Lemonade\",\"rating\":9.0,\"totalRatings\":5}]},\n",
    "                                      \"reviewUrl\":\"http://reviews.bodybuilding.com/allmax-nutrition/acuts/\",\n",
    "                                  \"overallRating\":9.4,\n",
    "                                   \"totalRatings\":17,\n",
    "                            \"verifiedBuyerRating\":9.9,\n",
    "                            \"totalVerifiedBuyers\":9,\n",
    "                                   \"totalReviews\":16,\n",
    "                           \"totalVerifiedReviews\":9,\n",
    "                                       \"verified\":null},\n",
    "                                  \"overallRating\":9.4,\n",
    "                                   \"totalRatings\":17,\n",
    "                                     \"userRating\":{\\\n",
    "                                                   \"overallRating\":9.0,\n",
    "                                                    \"totalRatings\":null,\n",
    "                                                         \"ratings\":[\\\n",
    "                                                                    {\"id\":\"prod3700065-pina_colada\",\"flavor\":\"Pina Colada\",\"rating\":10.0,\"totalRatings\":1}]},\n",
    "                                  \"flavorRatings\":null,\n",
    "                                      \"likeCount\":null,\n",
    "                                   \"commentCount\":0,\n",
    "                                        \"helpful\":0,\n",
    "                                   \"helpfulTotal\":0,\n",
    "                                     \"wasHelpful\":null,\n",
    "                                         \"member\":{\\\n",
    "                                                          \"userId\":127617211,\n",
    "                                                        \"username\":\"paulalyons\",\n",
    "                                                            \"slug\":\"paulalyons\",\n",
    "                                                        \"vbuserId\":0,\n",
    "                                                    \"lastActivity\":null,\n",
    "                                             \"profilePicThumbPath\":null,\n",
    "                                                  \"profilePicPath\":\"http://assets.bodybuilding.com/images/profiledefault_thumb.jpg\",\n",
    "                                            \"profilePicAvatarPath\":null,\n",
    "                                          \"profilePicOriginalPath\":null,\n",
    "                                                        \"realName\":null,\n",
    "                                                      \"profileURL\":null,\n",
    "                                                         \"groupId\":null,\n",
    "                                                       \"activated\":false,\n",
    "                                                    \"emailAddress\":null,\n",
    "                                                        \"joinDate\":null,\n",
    "                                                          \"gender\":null,\n",
    "                                                      \"photoCount\":0},\n",
    "                                          \"stats\":null,\n",
    "                                      \"likeStats\":null},\n",
    "                   {\"productReview\":{\"_id\":\"56e6bef70cf250667f25e525\",\"entityId\":\"productreview-prod3700065\",\"userId\":51039461,\"slug\":\"Renegade81\",\"username\":\"Renegade81\",\"title\":\"\",\"text\":\"I've been using aminos for a little over two years now.. \\n\\nI'm always open to try new products because I want any extra help I can get.\\nI was given a tub of the piña colada to sample and immediately was sold on the flavor, that's going to be for anyone. But for me it's what's in the aminos, at a quick glance the first thing I noticed was CLA and natural caffeine .. I thought well this is winning me over already, I grabbed two other aminos I currently used and compared and it was pretty black and white which aminos was better..\\n\\nNot only did I switch to allmax aminos but also glutamine and protein for starters .. I'll definitely try pre workouts and other things down the road . \",\"date\":1457962743000,\"modDate\":1457962743000,\"status\":1,\"updateStatusReason\":null,\"brandId\":\"BRAND_ALLMAX_NUTRITION\",\"skuList\":null,\"productId\":\"prod3700065\",\"totalRatings\":null,\"overallRating\":null,\"verified\":true},\"product\":{\"id\":\"prod3700065\",\"productId\":\"prod3700065\",\"name\":\"A:Cuts\",\"description\":\"Designed to Give You Energy To Train and Aminos to Maintain!*\",\"briefDescription\":\"\",\"url\":\"http://www.bodybuilding.com/store/allmax-nutrition/acuts.html\",\"skuList\":null,\"flavorList\":[\"Pina Colada\",\"Goji Berry Martini\",\"Pink Lemonade\",\"Arctic Orange\"],\"brandId\":\"BRAND_ALLMAX_NUTRITION\",\"brandName\":\"AllMax Nutrition\",\"imageSmall\":\"http://store.bbcomcdn.com/images/store/prodimage/prod_prod3700065/image_prodprod3700065_largeImage_X_70_white.jpg\",\"imageMedium\":\"http://store.bbcomcdn.com/images/store/prodimage/prod_prod3700065/image_prodprod3700065_largeImage_X_130_white.jpg\",\"imageLarge\":\"http://store.bbcomcdn.com/images/store/prodimage/prod_prod3700065/image_prodprod3700065_largeImage_X_450_white.jpg\",\"flavorRatings\":{\"overallRating\":9.3,\"totalRatings\":4,\"ratings\":[{\"id\":\"prod3700065-goji_berry_martini\",\"flavor\":\"Goji Berry Martini\",\"rating\":8.3,\"totalRatings\":3},{\"id\":\"prod3700065-arctic_orange\",\"flavor\":\"Arctic Orange\",\"rating\":10.0,\"totalRatings\":1},{\"id\":\"prod3700065-pina_colada\",\"flavor\":\"Pina Colada\",\"rating\":10.0,\"totalRatings\":9},{\"id\":\"prod3700065-pink_lemonade\",\"flavor\":\"Pink Lemonade\",\"rating\":9.0,\"totalRatings\":5}]},\"reviewUrl\":\"http://reviews.bodybuilding.com/allmax-nutrition/acuts/\",\"overallRating\":9.4,\"totalRatings\":17,\"verifiedBuyerRating\":9.9,\"totalVerifiedBuyers\":9,\"totalReviews\":16,\"totalVerifiedReviews\":9,\"verified\":null},\"overallRating\":9.4,\"totalRatings\":17,\"userRating\":{\"overallRating\":10.0,\"totalRatings\":null,\"ratings\":[{\"id\":\"prod3700065-goji_berry_martini\",\"flavor\":\"Goji Berry Martini\",\"rating\":9.0,\"totalRatings\":1},{\"id\":\"prod3700065-pina_colada\",\"flavor\":\"Pina Colada\",\"rating\":10.0,\"totalRatings\":1}]},\"flavorRatings\":null,\"likeCount\":null,\"commentCount\":0,\"helpful\":0,\"helpfulTotal\":0,\"wasHelpful\":null,\"member\":{\"userId\":51039461,\"username\":\"Renegade81\",\"slug\":\"Renegade81\",\"vbuserId\":0,\"lastActivity\":null,\"profilePicThumbPath\":null,\"profilePicPath\":\"http://imagecdn.bodybuilding.com/profile-photo/16493015/7c55628fc59048bbb435829a4957c8f3p.jpg\",\"profilePicAvatarPath\":null,\"profilePicOriginalPath\":null,\"realName\":null,\"profileURL\":null,\"groupId\":null,\"activated\":false,\"emailAddress\":null,\"joinDate\":null,\"gender\":null,\"photoCount\":0},\"stats\":{\"height\":\"63.0\",\"weight\":\"140.0\",\"weightChange\":null,\"bodyfat\":\"11.0\"},\"likeStats\":null},{\"productReview\":{\"_id\":\"56c4b6350cf2ca53884fced7\",\"entityId\":\"productreview-prod3700065\",\"userId\":104723352,\"slug\":\"Mdflores23\",\"username\":\"Mdflores23\",\"title\":\"\",\"text\":\"Flavor is awesome! Gives me the push I need specifically on cardio day \",\"date\":1455732277000,\"modDate\":1455732277000,\"status\":1,\"updateStatusReason\":null,\"brandId\":\"BRAND_ALLMAX_NUTRITION\",\"skuList\":null,\"productId\":\"prod3700065\",\"totalRatings\":null,\"overallRating\":null,\"verified\":true},\"product\":{\"id\":\"prod3700065\",\"productId\":\"prod3700065\",\"name\":\"A:Cuts\",\"description\":\"Designed to Give You Energy To Train and Aminos to Maintain!*\",\"briefDescription\":\"\",\"url\":\"http://www.bodybuilding.com/store/allmax-nutrition/acuts.html\",\"skuList\":null,\"flavorList\":[\"Pina Colada\",\"Goji Berry Martini\",\"Pink Lemonade\",\"Arctic Orange\"],\"brandId\":\"BRAND_ALLMAX_NUTRITION\",\"brandName\":\"AllMax Nutrition\",\"imageSmall\":\"http://store.bbcomcdn.com/images/store/prodimage/prod_prod3700065/image_prodprod3700065_largeImage_X_70_white.jpg\",\"imageMedium\":\"http://store.bbcomcdn.com/images/store/prodimage/prod_prod3700065/image_prodprod3700065_largeImage_X_130_white.jpg\",\"imageLarge\":\"http://store.bbcomcdn.com/images/store/prodimage/prod_prod3700065/image_prodprod3700065_largeImage_X_450_white.jpg\",\"flavorRatings\":{\"overallRating\":9.3,\"totalRatings\":4,\"ratings\":[{\"id\":\"prod3700065-goji_berry_martini\",\"flavor\":\"Goji Berry Martini\",\"rating\":8.3,\"totalRatings\":3},{\"id\":\"prod3700065-arctic_orange\",\"flavor\":\"Arctic Orange\",\"rating\":10.0,\"totalRatings\":1},{\"id\":\"prod3700065-pina_colada\",\"flavor\":\"Pina Colada\",\"rating\":10.0,\"totalRatings\":9},{\"id\":\"prod3700065-pink_lemonade\",\"flavor\":\"Pink Lemonade\",\"rating\":9.0,\"totalRatings\":5}]},\"reviewUrl\":\"http://reviews.bodybuilding.com/allmax-nutrition/acuts/\",\"overallRating\":9.4,\"totalRatings\":17,\"verifiedBuyerRating\":9.9,\"totalVerifiedBuyers\":9,\"totalReviews\":16,\"totalVerifiedReviews\":9,\"verified\":null},\"overallRating\":9.4,\"totalRatings\":17,\"userRating\":{\"overallRating\":10.0,\"totalRatings\":null,\"ratings\":[]},\"flavorRatings\":null,\"likeCount\":null,\"commentCount\":0,\"helpful\":0,\"helpfulTotal\":0,\"wasHelpful\":null,\"member\":{\"userId\":104723352,\"username\":\"Mdflores23\",\"slug\":\"Mdflores23\",\"vbuserId\":0,\"lastActivity\":null,\"profilePicThumbPath\":null,\"profilePicPath\":\"http://assets.bodybuilding.com/images/profiledefault_thumb.jpg\",\"profilePicAvatarPath\":null,\"profilePicOriginalPath\":null,\"realName\":null,\"profileURL\":null,\"groupId\":null,\"activated\":false,\"emailAddress\":null,\"joinDate\":null,\"gender\":null,\"photoCount\":0},\"stats\":{\"height\":null,\"weight\":\"122.0\",\"weightChange\":null,\"bodyfat\":null},\"likeStats\":null},{\"productReview\":{\"_id\":\"56b4b5b10cf2f1083f89b75b\",\"entityId\":\"productreview-prod3700065\",\"userId\":83481012,\"slug\":\"Odibiris\",\"username\":\"Odibiris\",\"title\":\"\",\"text\":\"In love with this product ❤️ Taste amazing \",\"date\":1454683569000,\"modDate\":1454683569000,\"status\":1,\"updateStatusReason\":null,\"brandId\":\"BRAND_ALLMAX_NUTRITION\",\"skuList\":null,\"productId\":\"prod3700065\",\"totalRatings\":null,\"overallRating\":null,\"verified\":true},\"product\":{\"id\":\"prod3700065\",\"productId\":\"prod3700065\",\"name\":\"A:Cuts\",\"description\":\"Designed to Give You Energy To Train and Aminos to Maintain!*\",\"briefDescription\":\"\",\"url\":\"http://www.bodybuilding.com/store/allmax-nutrition/acuts.html\",\"skuList\":null,\"flavorList\":[\"Pina Colada\",\"Goji Berry Martini\",\"Pink Lemonade\",\"Arctic Orange\"],\"brandId\":\"BRAND_ALLMAX_NUTRITION\",\"brandName\":\"AllMax Nutrition\",\"imageSmall\":\"http://store.bbcomcdn.com/images/store/prodimage/prod_prod3700065/image_prodprod3700065_largeImage_X_70_white.jpg\",\"imageMedium\":\"http://store.bbcomcdn.com/images/store/prodimage/prod_prod3700065/image_prodprod3700065_largeImage_X_130_white.jpg\",\"imageLarge\":\"http://store.bbcomcdn.com/images/store/prodimage/prod_prod3700065/image_prodprod3700065_largeImage_X_450_white.jpg\",\"flavorRatings\":{\"overallRating\":9.3,\"totalRatings\":4,\"ratings\":[{\"id\":\"prod3700065-goji_berry_martini\",\"flavor\":\"Goji Berry Martini\",\"rating\":8.3,\"totalRatings\":3},{\"id\":\"prod3700065-arctic_orange\",\"flavor\":\"Arctic Orange\",\"rating\":10.0,\"totalRatings\":1},{\"id\":\"prod3700065-pina_colada\",\"flavor\":\"Pina Colada\",\"rating\":10.0,\"totalRatings\":9},{\"id\":\"prod3700065-pink_lemonade\",\"flavor\":\"Pink Lemonade\",\"rating\":9.0,\"totalRatings\":5}]},\"reviewUrl\":\"http://reviews.bodybuilding.com/allmax-nutrition/acuts/\",\"overallRating\":9.4,\"totalRatings\":17,\"verifiedBuyerRating\":9.9,\"totalVerifiedBuyers\":9,\"totalReviews\":16,\"totalVerifiedReviews\":9,\"verified\":null},\"overallRating\":9.4,\"totalRatings\":17,\"userRating\":{\"overallRating\":10.0,\"totalRatings\":null,\"ratings\":[]},\"flavorRatings\":null,\"likeCount\":null,\"commentCount\":0,\"helpful\":1,\"helpfulTotal\":1,\"wasHelpful\":null,\"member\":{\"userId\":83481012,\"username\":\"Odibiris\",\"slug\":\"Odibiris\",\"vbuserId\":0,\"lastActivity\":null,\"profilePicThumbPath\":null,\"profilePicPath\":\"http://imagecdn.bodybuilding.com/profile-photo/21018438/e040dcb876e54cb98ffc9a6b0c0d8e0bp.jpg\",\"profilePicAvatarPath\":null,\"profilePicOriginalPath\":null,\"realName\":null,\"profileURL\":null,\"groupId\":null,\"activated\":false,\"emailAddress\":null,\"joinDate\":null,\"gender\":null,\"photoCount\":0},\"stats\":{\"height\":\"62.0\",\"weight\":\"131.0\",\"weightChange\":null,\"bodyfat\":\"17.9\"},\"likeStats\":null}]}\n",
    "#product only shot out two reviews based on the 'see more reviews' click however 9 exist\n",
    "\n",
    "\n",
    "\n",
    "\n",
    "\n",
    "\n",
    "\n",
    "\n",
    "\n"
   ]
  },
  {
   "cell_type": "code",
   "execution_count": 91,
   "metadata": {
    "collapsed": true
   },
   "outputs": [],
   "source": [
    "import requests"
   ]
  },
  {
   "cell_type": "code",
   "execution_count": 242,
   "metadata": {
    "collapsed": false
   },
   "outputs": [],
   "source": [
    "def insert_product(prod_num):\n",
    "    '''\n",
    "    Inserts JSON dictionary entries into db.products collection\n",
    "    '''\n",
    "    params = {\\\n",
    "          'page':'1', # explicitly giving page # may not result or will result with wrong size query\n",
    "      'reviewType':'verified'\n",
    "      ,'size':1} # foo.json()['totalItems'] gives total size but cannot call until foo.json initiated\n",
    "    headers = {\\\n",
    "             'Accept':'application/json',\n",
    "    'Accept-Encoding':'gzip, deflate, sdch, br',\n",
    "    'Accept-Language':'en-US,en;q=0.8',\n",
    "    'BB-App':'product-detail-app, 5.1.3',\n",
    "    'Connection':'keep-alive',\n",
    "    'Host':'catalog.bodybuilding.com',\n",
    "    'Origin':'http://www.bodybuilding.com',\n",
    "    'User-Agent':'Mozilla/5.0 (Linux; Android 6.0; Nexus 5 Build/MRA58N) \\\n",
    "    AppleWebKit/537.36 (KHTML, like Gecko) Chrome/46.0.2490.76 Mobile Safari/537.36}'\n",
    "              }\n",
    "    url = 'https://catalog.bodybuilding.com/products/'+str(prod_num)+'/reviews'\n",
    "    r = requests.get(url, headers=headers, params=params)\n",
    "    r_json = r.json()\n",
    "    return r_json"
   ]
  },
  {
   "cell_type": "code",
   "execution_count": 243,
   "metadata": {
    "collapsed": false
   },
   "outputs": [],
   "source": [
    "a = insert_product(\"28848\")"
   ]
  },
  {
   "cell_type": "code",
   "execution_count": 244,
   "metadata": {
    "collapsed": false
   },
   "outputs": [
    {
     "data": {
      "text/plain": [
       "{u'productReviews': [{u'commentCount': 0,\n",
       "   u'flavorRatings': None,\n",
       "   u'helpful': 1,\n",
       "   u'helpfulTotal': 1,\n",
       "   u'likeCount': None,\n",
       "   u'likeStats': None,\n",
       "   u'member': {u'activated': False,\n",
       "    u'emailAddress': None,\n",
       "    u'gender': None,\n",
       "    u'groupId': None,\n",
       "    u'joinDate': None,\n",
       "    u'lastActivity': None,\n",
       "    u'photoCount': 0,\n",
       "    u'profilePicAvatarPath': None,\n",
       "    u'profilePicOriginalPath': None,\n",
       "    u'profilePicPath': u'http://assets.bodybuilding.com/images/profiledefault_thumb.jpg',\n",
       "    u'profilePicThumbPath': None,\n",
       "    u'profileURL': None,\n",
       "    u'realName': None,\n",
       "    u'slug': u'agrasso65',\n",
       "    u'userId': 79864712,\n",
       "    u'username': u'agrasso65',\n",
       "    u'vbuserId': 0},\n",
       "   u'overallRating': 8.6,\n",
       "   u'product': {u'brandId': u'BRAND_DYMATIZE',\n",
       "    u'brandName': u'Dymatize',\n",
       "    u'briefDescription': u'',\n",
       "    u'description': u'High Quality Protein, Loaded with Muscle Fuel and a New Improved Taste*',\n",
       "    u'flavorList': [u'Rich Chocolate', u'Gourmet Vanilla'],\n",
       "    u'flavorRatings': {u'overallRating': 8.2,\n",
       "     u'ratings': [{u'flavor': u'Rich Chocolate',\n",
       "       u'id': u'28848-rich_chocolate',\n",
       "       u'rating': 8.2,\n",
       "       u'totalRatings': 142},\n",
       "      {u'flavor': u'Gourmet Vanilla',\n",
       "       u'id': u'28848-gourmet_vanilla',\n",
       "       u'rating': 8.2,\n",
       "       u'totalRatings': 87}],\n",
       "     u'totalRatings': 2},\n",
       "    u'id': u'28848',\n",
       "    u'imageLarge': u'http://store.bbcomcdn.com/images/store/prodimage/prod_28848/image_28848_original_X_450_white.jpg',\n",
       "    u'imageMedium': u'http://store.bbcomcdn.com/images/store/prodimage/prod_28848/image_28848_original_X_130_white.jpg',\n",
       "    u'imageSmall': u'http://store.bbcomcdn.com/images/store/prodimage/prod_28848/image_28848_original_X_70_white.jpg',\n",
       "    u'name': u'All Natural Elite 100% Whey Protein',\n",
       "    u'overallRating': 8.6,\n",
       "    u'productId': u'28848',\n",
       "    u'reviewUrl': u'http://reviews.bodybuilding.com/Dymatize/All_Natural_Elite_Whey_Protein/',\n",
       "    u'skuList': None,\n",
       "    u'totalRatings': 285,\n",
       "    u'totalReviews': 277,\n",
       "    u'totalVerifiedBuyers': 47,\n",
       "    u'totalVerifiedReviews': 53,\n",
       "    u'url': u'http://www.bodybuilding.com/store/dym/elitenatural.html',\n",
       "    u'verified': None,\n",
       "    u'verifiedBuyerRating': 8.3},\n",
       "   u'productReview': {u'_id': u'561ab17d0cf2a4ef2d3842fc',\n",
       "    u'brandId': u'BRAND_DYMATIZE',\n",
       "    u'date': 1460140532000,\n",
       "    u'entityId': u'productreview-28848',\n",
       "    u'modDate': 1460140532000,\n",
       "    u'overallRating': None,\n",
       "    u'productId': u'28848',\n",
       "    u'skuList': None,\n",
       "    u'slug': u'agrasso65',\n",
       "    u'status': 1,\n",
       "    u'text': u'Just place a call with Dymatize customer service. Seem like Dymatize is \"Clueless\" as to when they will have this product on the market again. Rating for the product is excellent. Rating for the company Dymatize is a big FAT ZERO!\\n\\nRecommend do not purchase Dymatize product since the company is so unreliable.',\n",
       "    u'title': u'',\n",
       "    u'totalRatings': None,\n",
       "    u'updateStatusReason': None,\n",
       "    u'userId': 79864712,\n",
       "    u'username': u'agrasso65',\n",
       "    u'verified': True},\n",
       "   u'stats': None,\n",
       "   u'totalRatings': 285,\n",
       "   u'userRating': {u'overallRating': 9.0,\n",
       "    u'ratings': [],\n",
       "    u'totalRatings': None},\n",
       "   u'wasHelpful': None}],\n",
       " u'totalItems': 51}"
      ]
     },
     "execution_count": 244,
     "metadata": {},
     "output_type": "execute_result"
    }
   ],
   "source": [
    "a"
   ]
  },
  {
   "cell_type": "code",
   "execution_count": 230,
   "metadata": {
    "collapsed": false
   },
   "outputs": [],
   "source": [
    "def insert_product(prod_num):\n",
    "    '''\n",
    "    Inserts JSON dictionary entries into db.products collection\n",
    "    '''\n",
    "    params = {\\\n",
    "          'page':0,\n",
    "    'reviewType':'verified',\n",
    "          'size':'0'} \n",
    "    headers = {\\\n",
    "               'Accept':'application/json',\n",
    "    'Accept-Encoding':'gzip, deflate, sdch, br',\n",
    "    'Accept-Language':'en-US,en;q=0.8',\n",
    "    'BB-App':'product-detail-app, 5.1.3',\n",
    "    'Connection':'keep-alive',\n",
    "    'Host':'catalog.bodybuilding.com',\n",
    "    'Origin':'http://www.bodybuilding.com',\n",
    "    'User-Agent':'Mozilla/5.0 (Linux; Android 6.0; Nexus 5 Build/MRA58N) \\\n",
    "    AppleWebKit/537.36 (KHTML, like Gecko) Chrome/46.0.2490.76 Mobile Safari/537.36}'\n",
    "              }\n",
    "    url = 'https://catalog.bodybuilding.com/products/'+str(prod_num)+'/reviews'\n",
    "    r = requests.get(url, headers=headers, params=params)\n",
    "    for i in xrange(r.json()['totalItems']):\n",
    "        params = {\\\n",
    "          'page':0, # explicitly giving page # may not result or will result with wrong size query\n",
    "    'reviewType':'verified',\n",
    "          'size':'1'}\n",
    "        z = requests.get(url, headers=headers, params=params)\n",
    "        z_json = z.json()\n",
    "        return z_json"
   ]
  },
  {
   "cell_type": "code",
   "execution_count": 231,
   "metadata": {
    "collapsed": false
   },
   "outputs": [],
   "source": [
    "a = insert_product(28848)"
   ]
  },
  {
   "cell_type": "code",
   "execution_count": 232,
   "metadata": {
    "collapsed": false
   },
   "outputs": [
    {
     "data": {
      "text/plain": [
       "2"
      ]
     },
     "execution_count": 232,
     "metadata": {},
     "output_type": "execute_result"
    }
   ],
   "source": [
    "len(a)"
   ]
  },
  {
   "cell_type": "code",
   "execution_count": 197,
   "metadata": {
    "collapsed": false
   },
   "outputs": [
    {
     "data": {
      "text/plain": [
       "2"
      ]
     },
     "execution_count": 197,
     "metadata": {},
     "output_type": "execute_result"
    }
   ],
   "source": [
    "len(a)"
   ]
  },
  {
   "cell_type": "code",
   "execution_count": 252,
   "metadata": {
    "collapsed": false
   },
   "outputs": [
    {
     "data": {
      "text/plain": [
       "u'http://www.bodybuilding.com/store/22-days-nutrition/protein-and-energy-bar.html'"
      ]
     },
     "execution_count": 252,
     "metadata": {},
     "output_type": "execute_result"
    }
   ],
   "source": [
    "model.df.head"
   ]
  },
  {
   "cell_type": "code",
   "execution_count": 288,
   "metadata": {
    "collapsed": false
   },
   "outputs": [
    {
     "data": {
      "text/plain": [
       "2160"
      ]
     },
     "execution_count": 288,
     "metadata": {},
     "output_type": "execute_result"
    }
   ],
   "source": [
    "len(model.df._id.unique())"
   ]
  },
  {
   "cell_type": "code",
   "execution_count": 258,
   "metadata": {
    "collapsed": true
   },
   "outputs": [],
   "source": []
  },
  {
   "cell_type": "code",
   "execution_count": 269,
   "metadata": {
    "collapsed": false
   },
   "outputs": [],
   "source": [
    "import json\n",
    "model.add_columns()"
   ]
  },
  {
   "cell_type": "code",
   "execution_count": 290,
   "metadata": {
    "collapsed": false
   },
   "outputs": [
    {
     "data": {
      "text/plain": [
       "{u'overallRating': 10,\n",
       " u'ratings': [{u'flavor': u'Watermelon',\n",
       "   u'id': u'prod3810021-watermelon',\n",
       "   u'rating': 10,\n",
       "   u'totalRatings': 1},\n",
       "  {u'flavor': u'Green Apple',\n",
       "   u'id': u'prod3810021-green_apple',\n",
       "   u'rating': 9,\n",
       "   u'totalRatings': 1}],\n",
       " u'totalRatings': None}"
      ]
     },
     "execution_count": 290,
     "metadata": {},
     "output_type": "execute_result"
    }
   ],
   "source": [
    "model.df.userRating[2]"
   ]
  },
  {
   "cell_type": "code",
   "execution_count": 285,
   "metadata": {
    "collapsed": false
   },
   "outputs": [
    {
     "ename": "AttributeError",
     "evalue": "'DataFrame' object has no attribute 'model'",
     "output_type": "error",
     "traceback": [
      "\u001b[0;31m---------------------------------------------------------------------------\u001b[0m",
      "\u001b[0;31mAttributeError\u001b[0m                            Traceback (most recent call last)",
      "\u001b[0;32m<ipython-input-285-aa5df275b839>\u001b[0m in \u001b[0;36m<module>\u001b[0;34m()\u001b[0m\n\u001b[0;32m----> 1\u001b[0;31m \u001b[0mdf\u001b[0m\u001b[0;34m.\u001b[0m\u001b[0mmodel\u001b[0m\u001b[0;34m.\u001b[0m\u001b[0mnew_cols\u001b[0m\u001b[0;34m\u001b[0m\u001b[0m\n\u001b[0m",
      "\u001b[0;32m/Users/gSchool/anaconda2/lib/python2.7/site-packages/pandas/core/generic.pyc\u001b[0m in \u001b[0;36m__getattr__\u001b[0;34m(self, name)\u001b[0m\n\u001b[1;32m   2670\u001b[0m             \u001b[0;32mif\u001b[0m \u001b[0mname\u001b[0m \u001b[0;32min\u001b[0m \u001b[0mself\u001b[0m\u001b[0;34m.\u001b[0m\u001b[0m_info_axis\u001b[0m\u001b[0;34m:\u001b[0m\u001b[0;34m\u001b[0m\u001b[0m\n\u001b[1;32m   2671\u001b[0m                 \u001b[0;32mreturn\u001b[0m \u001b[0mself\u001b[0m\u001b[0;34m[\u001b[0m\u001b[0mname\u001b[0m\u001b[0;34m]\u001b[0m\u001b[0;34m\u001b[0m\u001b[0m\n\u001b[0;32m-> 2672\u001b[0;31m             \u001b[0;32mreturn\u001b[0m \u001b[0mobject\u001b[0m\u001b[0;34m.\u001b[0m\u001b[0m__getattribute__\u001b[0m\u001b[0;34m(\u001b[0m\u001b[0mself\u001b[0m\u001b[0;34m,\u001b[0m \u001b[0mname\u001b[0m\u001b[0;34m)\u001b[0m\u001b[0;34m\u001b[0m\u001b[0m\n\u001b[0m\u001b[1;32m   2673\u001b[0m \u001b[0;34m\u001b[0m\u001b[0m\n\u001b[1;32m   2674\u001b[0m     \u001b[0;32mdef\u001b[0m \u001b[0m__setattr__\u001b[0m\u001b[0;34m(\u001b[0m\u001b[0mself\u001b[0m\u001b[0;34m,\u001b[0m \u001b[0mname\u001b[0m\u001b[0;34m,\u001b[0m \u001b[0mvalue\u001b[0m\u001b[0;34m)\u001b[0m\u001b[0;34m:\u001b[0m\u001b[0;34m\u001b[0m\u001b[0m\n",
      "\u001b[0;31mAttributeError\u001b[0m: 'DataFrame' object has no attribute 'model'"
     ]
    }
   ],
   "source": [
    "df.model.new_cols"
   ]
  },
  {
   "cell_type": "code",
   "execution_count": 284,
   "metadata": {
    "collapsed": false
   },
   "outputs": [
    {
     "ename": "AttributeError",
     "evalue": "'DataFrame' object has no attribute 'new_cols'",
     "output_type": "error",
     "traceback": [
      "\u001b[0;31m---------------------------------------------------------------------------\u001b[0m",
      "\u001b[0;31mAttributeError\u001b[0m                            Traceback (most recent call last)",
      "\u001b[0;32m<ipython-input-284-eecfa8790ebb>\u001b[0m in \u001b[0;36m<module>\u001b[0;34m()\u001b[0m\n\u001b[0;32m----> 1\u001b[0;31m \u001b[0mdf\u001b[0m\u001b[0;34m.\u001b[0m\u001b[0mnew_cols\u001b[0m\u001b[0;34m\u001b[0m\u001b[0m\n\u001b[0m",
      "\u001b[0;32m/Users/gSchool/anaconda2/lib/python2.7/site-packages/pandas/core/generic.pyc\u001b[0m in \u001b[0;36m__getattr__\u001b[0;34m(self, name)\u001b[0m\n\u001b[1;32m   2670\u001b[0m             \u001b[0;32mif\u001b[0m \u001b[0mname\u001b[0m \u001b[0;32min\u001b[0m \u001b[0mself\u001b[0m\u001b[0;34m.\u001b[0m\u001b[0m_info_axis\u001b[0m\u001b[0;34m:\u001b[0m\u001b[0;34m\u001b[0m\u001b[0m\n\u001b[1;32m   2671\u001b[0m                 \u001b[0;32mreturn\u001b[0m \u001b[0mself\u001b[0m\u001b[0;34m[\u001b[0m\u001b[0mname\u001b[0m\u001b[0;34m]\u001b[0m\u001b[0;34m\u001b[0m\u001b[0m\n\u001b[0;32m-> 2672\u001b[0;31m             \u001b[0;32mreturn\u001b[0m \u001b[0mobject\u001b[0m\u001b[0;34m.\u001b[0m\u001b[0m__getattribute__\u001b[0m\u001b[0;34m(\u001b[0m\u001b[0mself\u001b[0m\u001b[0;34m,\u001b[0m \u001b[0mname\u001b[0m\u001b[0;34m)\u001b[0m\u001b[0;34m\u001b[0m\u001b[0m\n\u001b[0m\u001b[1;32m   2673\u001b[0m \u001b[0;34m\u001b[0m\u001b[0m\n\u001b[1;32m   2674\u001b[0m     \u001b[0;32mdef\u001b[0m \u001b[0m__setattr__\u001b[0m\u001b[0;34m(\u001b[0m\u001b[0mself\u001b[0m\u001b[0;34m,\u001b[0m \u001b[0mname\u001b[0m\u001b[0;34m,\u001b[0m \u001b[0mvalue\u001b[0m\u001b[0;34m)\u001b[0m\u001b[0;34m:\u001b[0m\u001b[0;34m\u001b[0m\u001b[0m\n",
      "\u001b[0;31mAttributeError\u001b[0m: 'DataFrame' object has no attribute 'new_cols'"
     ]
    }
   ],
   "source": [
    "df.new_cols"
   ]
  },
  {
   "cell_type": "code",
   "execution_count": 295,
   "metadata": {
    "collapsed": true
   },
   "outputs": [],
   "source": [
    "df = pd.read_csv('products.csv')"
   ]
  },
  {
   "cell_type": "code",
   "execution_count": 309,
   "metadata": {
    "collapsed": false
   },
   "outputs": [],
   "source": [
    "run bodycleaning.py"
   ]
  },
  {
   "cell_type": "code",
   "execution_count": 311,
   "metadata": {
    "collapsed": false
   },
   "outputs": [],
   "source": [
    "model.add_columns()"
   ]
  },
  {
   "cell_type": "code",
   "execution_count": 319,
   "metadata": {
    "collapsed": false,
    "scrolled": false
   },
   "outputs": [
    {
     "data": {
      "text/plain": [
       "array([u'22 Days Nutrition', u'2XU', u'360CUT', u'4 Dimension Nutrition',\n",
       "       u'6 Pack Fitness', u'AI Sports Nutrition', u'AllMax Nutrition',\n",
       "       u'Beast Sports Nutrition', u'Body Nutrition', u'BPI Sports', u'BSN',\n",
       "       u'Cellucor', u'MusclePharm', u'Optimum Nutrition'], dtype=object)"
      ]
     },
     "execution_count": 319,
     "metadata": {},
     "output_type": "execute_result"
    }
   ],
   "source": [
    "model.df.brandName.unique()"
   ]
  },
  {
   "cell_type": "code",
   "execution_count": 352,
   "metadata": {
    "collapsed": false
   },
   "outputs": [],
   "source": [
    "reviewed =model.df.productId.unique()"
   ]
  },
  {
   "cell_type": "code",
   "execution_count": 357,
   "metadata": {
    "collapsed": false
   },
   "outputs": [
    {
     "ename": "SyntaxError",
     "evalue": "invalid syntax (<ipython-input-357-b5cf7ec7cf99>, line 4)",
     "output_type": "error",
     "traceback": [
      "\u001b[0;36m  File \u001b[0;32m\"<ipython-input-357-b5cf7ec7cf99>\"\u001b[0;36m, line \u001b[0;32m4\u001b[0m\n\u001b[0;31m    i in a for i in b\u001b[0m\n\u001b[0m             ^\u001b[0m\n\u001b[0;31mSyntaxError\u001b[0m\u001b[0;31m:\u001b[0m invalid syntax\n"
     ]
    }
   ],
   "source": [
    "a = [1,2,3,4,5,6,7]\n",
    "b = [2,3]"
   ]
  },
  {
   "cell_type": "code",
   "execution_count": 323,
   "metadata": {
    "collapsed": true
   },
   "outputs": [],
   "source": [
    "run bodyscraping.py"
   ]
  },
  {
   "cell_type": "code",
   "execution_count": 333,
   "metadata": {
    "collapsed": false
   },
   "outputs": [
    {
     "data": {
      "text/plain": [
       "2754"
      ]
     },
     "execution_count": 333,
     "metadata": {},
     "output_type": "execute_result"
    }
   ],
   "source": [
    "script.brand_num_list.index('23880')"
   ]
  },
  {
   "cell_type": "code",
   "execution_count": 330,
   "metadata": {
    "collapsed": false
   },
   "outputs": [
    {
     "data": {
      "text/plain": [
       "4016"
      ]
     },
     "execution_count": 330,
     "metadata": {},
     "output_type": "execute_result"
    }
   ],
   "source": [
    "len(script.brand_num_list)"
   ]
  },
  {
   "cell_type": "code",
   "execution_count": 338,
   "metadata": {
    "collapsed": false
   },
   "outputs": [],
   "source": [
    "url = 'https://catalog.bodybuilding.com/products/23880/reviews'"
   ]
  },
  {
   "cell_type": "code",
   "execution_count": 343,
   "metadata": {
    "collapsed": false
   },
   "outputs": [
    {
     "name": "stdout",
     "output_type": "stream",
     "text": [
      "good so far....\n"
     ]
    }
   ],
   "source": [
    "params = {\\\n",
    "     'page':0,\n",
    "  'reviewType':'verified',\n",
    "  'size':'1'} # foo.json()['totalItems'] gives total size but cannot call until foo.json initiated\n",
    "headers = {\\\n",
    "           'Accept':'application/json',\n",
    "'Accept-Encoding':'gzip, deflate, sdch, br',\n",
    "'Accept-Language':'en-US,en;q=0.8',\n",
    "'BB-App':'product-detail-app, 5.1.3',\n",
    "'Connection':'keep-alive',\n",
    "'Host':'catalog.bodybuilding.com',\n",
    "'Origin':'http://www.bodybuilding.com',\n",
    "'User-Agent':'Mozilla/5.0 (Linux; Android 6.0; Nexus 5 Build/MRA58N) \\\n",
    "AppleWebKit/537.36 (KHTML, like Gecko) Chrome/46.0.2490.76 Mobile Safari/537.36}'\n",
    "          }\n",
    "\n",
    "r = requests.get(url, headers=headers, params=params)\n",
    "if r.json()['productReviews']:\n",
    "    print 'good so far....'"
   ]
  },
  {
   "cell_type": "code",
   "execution_count": null,
   "metadata": {
    "collapsed": true
   },
   "outputs": [],
   "source": []
  }
 ],
 "metadata": {
  "anaconda-cloud": {},
  "kernelspec": {
   "display_name": "Python [Root]",
   "language": "python",
   "name": "Python [Root]"
  },
  "language_info": {
   "codemirror_mode": {
    "name": "ipython",
    "version": 2
   },
   "file_extension": ".py",
   "mimetype": "text/x-python",
   "name": "python",
   "nbconvert_exporter": "python",
   "pygments_lexer": "ipython2",
   "version": "2.7.12"
  }
 },
 "nbformat": 4,
 "nbformat_minor": 0
}
