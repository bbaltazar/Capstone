{
 "cells": [
  {
   "cell_type": "code",
   "execution_count": 43,
   "metadata": {
    "collapsed": true
   },
   "outputs": [],
   "source": [
    "import requests\n",
    "from bs4 import BeautifulSoup\n",
    "import pandas as pd\n",
    "import numpy as np"
   ]
  },
  {
   "cell_type": "code",
   "execution_count": 5,
   "metadata": {
    "collapsed": true
   },
   "outputs": [],
   "source": [
    "from sklearn.feature_extraction.text import TfidfVectorizer\n",
    "from sklearn.decomposition import NMF"
   ]
  },
  {
   "cell_type": "code",
   "execution_count": 13,
   "metadata": {
    "collapsed": true
   },
   "outputs": [],
   "source": [
    "from nltk import word_tokenize"
   ]
  },
  {
   "cell_type": "code",
   "execution_count": 2,
   "metadata": {
    "collapsed": true
   },
   "outputs": [],
   "source": [
    "from pymongo import MongoClient"
   ]
  },
  {
   "cell_type": "code",
   "execution_count": 42,
   "metadata": {
    "collapsed": false
   },
   "outputs": [],
   "source": [
    "run bodycleaning.py"
   ]
  },
  {
   "cell_type": "code",
   "execution_count": 91,
   "metadata": {
    "collapsed": true
   },
   "outputs": [],
   "source": [
    "import requests"
   ]
  },
  {
   "cell_type": "code",
   "execution_count": 1,
   "metadata": {
    "collapsed": false
   },
   "outputs": [
    {
     "ename": "AttributeError",
     "evalue": "'BBclean' object has no attribute 'check_useless'",
     "output_type": "error",
     "traceback": [
      "\u001b[0;31m---------------------------------------------------------------------------\u001b[0m",
      "\u001b[0;31mAttributeError\u001b[0m                            Traceback (most recent call last)",
      "\u001b[0;32m/Users/gSchool/Desktop/bodyscrape/Capstone/bodycleaning.py\u001b[0m in \u001b[0;36m<module>\u001b[0;34m()\u001b[0m\n\u001b[1;32m    139\u001b[0m     \u001b[0mdata\u001b[0m\u001b[0;34m.\u001b[0m\u001b[0mexpand_columns\u001b[0m\u001b[0;34m(\u001b[0m\u001b[0;34m)\u001b[0m\u001b[0;34m\u001b[0m\u001b[0m\n\u001b[1;32m    140\u001b[0m     \u001b[0mdata\u001b[0m\u001b[0;34m.\u001b[0m\u001b[0mparse_food_prods\u001b[0m\u001b[0;34m(\u001b[0m\u001b[0;34m)\u001b[0m\u001b[0;34m\u001b[0m\u001b[0m\n\u001b[0;32m--> 141\u001b[0;31m     \u001b[0mdata\u001b[0m\u001b[0;34m.\u001b[0m\u001b[0mcheck_useless\u001b[0m\u001b[0;34m(\u001b[0m\u001b[0;34m)\u001b[0m\u001b[0;34m\u001b[0m\u001b[0m\n\u001b[0m\u001b[1;32m    142\u001b[0m     \u001b[0mdata\u001b[0m\u001b[0;34m.\u001b[0m\u001b[0mdel_columns\u001b[0m\u001b[0;34m(\u001b[0m\u001b[0;34m)\u001b[0m\u001b[0;34m\u001b[0m\u001b[0m\n",
      "\u001b[0;31mAttributeError\u001b[0m: 'BBclean' object has no attribute 'check_useless'"
     ]
    }
   ],
   "source": [
    "run bodycleaning.py"
   ]
  },
  {
   "cell_type": "code",
   "execution_count": 14,
   "metadata": {
    "collapsed": false,
    "scrolled": true
   },
   "outputs": [],
   "source": [
    "'''\n",
    "feature extraction based corpus being whole doc and each doc being all \n",
    "cumulative product reviews.\n",
    "'''\n",
    "corpus = []\n",
    "for prodId in data.df.productId.unique():\n",
    "    docs = ''\n",
    "    for doc in data.df[data.df.productId == prodId].text:\n",
    "        if doc:\n",
    "            docs += ' ' + doc\n",
    "    corpus.append(docs)\n",
    "tfidf_vectorizer = TfidfVectorizer(stop_words='english', \\\n",
    "                                   tokenizer=word_tokenize)\n",
    "tfidf = tfidf_vectorizer.fit_transform(corpus)   "
   ]
  },
  {
   "cell_type": "code",
   "execution_count": 16,
   "metadata": {
    "collapsed": false,
    "scrolled": true
   },
   "outputs": [
    {
     "data": {
      "text/plain": [
       "(2131, 34870)"
      ]
     },
     "execution_count": 16,
     "metadata": {},
     "output_type": "execute_result"
    }
   ],
   "source": [
    "tfidf.shape"
   ]
  },
  {
   "cell_type": "code",
   "execution_count": 64,
   "metadata": {
    "collapsed": false
   },
   "outputs": [
    {
     "data": {
      "text/plain": [
       "\"this is d.s not make ense here's another example damn\""
      ]
     },
     "execution_count": 64,
     "metadata": {},
     "output_type": "execute_result"
    }
   ],
   "source": [
    "test = ['this! is? d.s not make $ense?', \"here's another example! Damn.\"]\n",
    "docum = []\n",
    "for sentence in test:\n",
    "    sentence =' '.join(word.strip(punctuation).lower() for word in sentence.split())\n",
    "    docum.append(sentence)\n",
    "    \n",
    "# doc = ''.join([char for char in doc if char not in \\\n",
    "#                     punctuation])\n",
    "' '.join(docum)"
   ]
  },
  {
   "cell_type": "code",
   "execution_count": 72,
   "metadata": {
    "collapsed": false,
    "scrolled": true
   },
   "outputs": [
    {
     "ename": "NameError",
     "evalue": "global name 'nmf' is not defined",
     "output_type": "error",
     "traceback": [
      "\u001b[0;31m---------------------------------------------------------------------------\u001b[0m",
      "\u001b[0;31mNameError\u001b[0m                                 Traceback (most recent call last)",
      "\u001b[0;32m/Users/gSchool/Desktop/bodyscrape/Capstone/bodycleaning.py\u001b[0m in \u001b[0;36m<module>\u001b[0;34m()\u001b[0m\n\u001b[1;32m    154\u001b[0m     \u001b[0mdata\u001b[0m\u001b[0;34m.\u001b[0m\u001b[0mexpand_columns\u001b[0m\u001b[0;34m(\u001b[0m\u001b[0;34m)\u001b[0m\u001b[0;34m\u001b[0m\u001b[0m\n\u001b[1;32m    155\u001b[0m     \u001b[0;31m# data.parse_food_prods()\u001b[0m\u001b[0;34m\u001b[0m\u001b[0;34m\u001b[0m\u001b[0m\n\u001b[0;32m--> 156\u001b[0;31m     \u001b[0mdata\u001b[0m\u001b[0;34m.\u001b[0m\u001b[0mmyvectorizer\u001b[0m\u001b[0;34m(\u001b[0m\u001b[0;34m)\u001b[0m\u001b[0;34m\u001b[0m\u001b[0m\n\u001b[0m\u001b[1;32m    157\u001b[0m     \u001b[0;31m# data.check_useless()\u001b[0m\u001b[0;34m\u001b[0m\u001b[0;34m\u001b[0m\u001b[0m\n\u001b[1;32m    158\u001b[0m     \u001b[0;31m# data.del_columns()\u001b[0m\u001b[0;34m\u001b[0m\u001b[0;34m\u001b[0m\u001b[0m\n",
      "\u001b[0;32m/Users/gSchool/Desktop/bodyscrape/Capstone/bodycleaning.py\u001b[0m in \u001b[0;36mmyvectorizer\u001b[0;34m(self)\u001b[0m\n\u001b[1;32m     90\u001b[0m         \u001b[0mself\u001b[0m\u001b[0;34m.\u001b[0m\u001b[0mtfidf\u001b[0m \u001b[0;34m=\u001b[0m \u001b[0mself\u001b[0m\u001b[0;34m.\u001b[0m\u001b[0mtfidf_vectorizer\u001b[0m\u001b[0;34m.\u001b[0m\u001b[0mfit_transform\u001b[0m\u001b[0;34m(\u001b[0m\u001b[0mcorpus\u001b[0m\u001b[0;34m)\u001b[0m\u001b[0;34m\u001b[0m\u001b[0m\n\u001b[1;32m     91\u001b[0m         \u001b[0mself\u001b[0m\u001b[0;34m.\u001b[0m\u001b[0mnmf\u001b[0m \u001b[0;34m=\u001b[0m \u001b[0mNMF\u001b[0m\u001b[0;34m(\u001b[0m\u001b[0mn_components\u001b[0m \u001b[0;34m=\u001b[0m \u001b[0mself\u001b[0m\u001b[0;34m.\u001b[0m\u001b[0mn_topics\u001b[0m\u001b[0;34m)\u001b[0m\u001b[0;34m.\u001b[0m\u001b[0mfit\u001b[0m\u001b[0;34m(\u001b[0m\u001b[0mself\u001b[0m\u001b[0;34m.\u001b[0m\u001b[0mtfidf\u001b[0m\u001b[0;34m)\u001b[0m\u001b[0;34m\u001b[0m\u001b[0m\n\u001b[0;32m---> 92\u001b[0;31m         \u001b[0;32mfor\u001b[0m \u001b[0mtopic_idx\u001b[0m\u001b[0;34m,\u001b[0m \u001b[0mtopic\u001b[0m \u001b[0;32min\u001b[0m \u001b[0menumerate\u001b[0m\u001b[0;34m(\u001b[0m\u001b[0mnmf\u001b[0m\u001b[0;34m.\u001b[0m\u001b[0mcomponents_\u001b[0m\u001b[0;34m)\u001b[0m\u001b[0;34m:\u001b[0m\u001b[0;34m\u001b[0m\u001b[0m\n\u001b[0m\u001b[1;32m     93\u001b[0m             \u001b[0;32mprint\u001b[0m\u001b[0;34m(\u001b[0m\u001b[0;34m\"Topic #%d:\"\u001b[0m \u001b[0;34m%\u001b[0m \u001b[0mtopic_idx\u001b[0m\u001b[0;34m)\u001b[0m\u001b[0;34m\u001b[0m\u001b[0m\n\u001b[1;32m     94\u001b[0m             print(\" \".join([tfidf_vectorizer.get_feature_names()[i] \\\n",
      "\u001b[0;31mNameError\u001b[0m: global name 'nmf' is not defined"
     ]
    }
   ],
   "source": [
    "run bodycleaning.py"
   ]
  },
  {
   "cell_type": "code",
   "execution_count": null,
   "metadata": {
    "collapsed": true
   },
   "outputs": [],
   "source": [
    "from nltk import SnowballStemmer"
   ]
  },
  {
   "cell_type": "code",
   "execution_count": 2,
   "metadata": {
    "collapsed": false,
    "scrolled": false
   },
   "outputs": [
    {
     "data": {
      "text/plain": [
       "2131"
      ]
     },
     "execution_count": 2,
     "metadata": {},
     "output_type": "execute_result"
    }
   ],
   "source": [
    "len(data.df.productId.unique())"
   ]
  },
  {
   "cell_type": "code",
   "execution_count": 17,
   "metadata": {
    "collapsed": true
   },
   "outputs": [],
   "source": [
    "from string import punctuation"
   ]
  },
  {
   "cell_type": "code",
   "execution_count": 41,
   "metadata": {
    "collapsed": true
   },
   "outputs": [],
   "source": [
    "def print_top_words(model, feature_names, n_top_words = n_topics):\n",
    "    for topic_idx, topic in enumerate(model.components_):\n",
    "        print(\"Topic #%d:\" % topic_idx)\n",
    "        print(\" \".join([feature_names[i]\n",
    "                        for i in topic.argsort()[:-n_top_words - 1:-1]]))\n",
    "    print()\n"
   ]
  },
  {
   "cell_type": "code",
   "execution_count": 44,
   "metadata": {
    "collapsed": false
   },
   "outputs": [],
   "source": [
    "n_topics = 20\n",
    "corpus = []\n",
    "for prodId in data.df.productId.unique():\n",
    "    docs = ''\n",
    "    for doc in data.df[data.df.productId == prodId].text:\n",
    "        if doc:\n",
    "            doc = ''.join([char for char in doc if char not in punctuation])\n",
    "            docs += ' ' + doc\n",
    "    corpus.append(docs)\n",
    "tfidf_vectorizer = TfidfVectorizer(stop_words='english')\n",
    "tfidf = tfidf_vectorizer.fit_transform(corpus)\n",
    "nmf = NMF(n_components = n_topics).fit(tfidf)"
   ]
  },
  {
   "cell_type": "code",
   "execution_count": 47,
   "metadata": {
    "collapsed": false
   },
   "outputs": [
    {
     "data": {
      "text/plain": [
       "(20, 34572)"
      ]
     },
     "execution_count": 47,
     "metadata": {},
     "output_type": "execute_result"
    }
   ],
   "source": [
    "nmf.components_.shape"
   ]
  },
  {
   "cell_type": "code",
   "execution_count": 45,
   "metadata": {
    "collapsed": false,
    "scrolled": false
   },
   "outputs": [
    {
     "name": "stdout",
     "output_type": "stream",
     "text": [
      "Topic #0:\n",
      "test strength taking feel results gains noticed did weeks muscle difference booster days didnt week\n",
      "Topic #1:\n",
      "protein chocolate milk whey vanilla flavor mixes powder tastes proteins like great shake cream tasting\n",
      "Topic #2:\n",
      "pump preworkout workout pre pumps focus scoop like c4 preworkouts workouts scoops gym just flavor\n",
      "Topic #3:\n",
      "bar bars protein taste quest chocolate chewy texture like snack eat candy cookie dough box\n",
      "Topic #4:\n",
      "sleep night zma wake asleep dreams bed sleeping deep melatonin fall taking rested hours better\n",
      "Topic #5:\n",
      "creatine strength monohydrate unflavored gains water mixes mix loading price mono creapure creatines results just\n",
      "Topic #6:\n",
      "product excellent quality super recommended recommend using does disappointed did happy money capsules just serving\n",
      "Topic #7:\n",
      "multi multivitamin vitamin vitamins pills day multivitamins taking swallow easy feel price pill pak animal\n",
      "Topic #8:\n",
      "fish oil burps fishy omega oils dha epa epadha omegas cla quality burp omega3 citrus\n",
      "Topic #9:\n",
      "good price pretty quality really didnt sure compared buy value got bought bit labrada overall\n",
      "Topic #10:\n",
      "taste like bad mix flavor tastes water dont just horrible does drink awful pretty mixed\n",
      "Topic #11:\n",
      "energy caffeine boost feel workout gives focus jitters day work preworkout morning coffee jittery cardio\n",
      "Topic #12:\n",
      "gainer mass weight gainers gain gained calories scoops milk muscle pounds serving lean gains shake\n",
      "Topic #13:\n",
      "glutamine recovery workout post muscle supplement unflavored soreness workouts shake protein mix sore use mixes\n",
      "Topic #14:\n",
      "shaker bottle mix use blender powder like cup just love easy shake does lid fiber\n",
      "Topic #15:\n",
      "fat cla weight loss diet taking lost results burner appetite body lose lcarnitine product day\n",
      "Topic #16:\n",
      "great works results cheap tastes love price really recommended flavor worked mixes value highly use\n",
      "Topic #17:\n",
      "bcaa bcaas flavor amino workout watermelon recovery love product aminos drink tastes blue workouts amazing\n",
      "Topic #18:\n",
      "butter peanut chocolate flavor love cookie like pb pancakes cream cookies tastes amazing delicious just\n",
      "Topic #19:\n",
      "best ive tried far tasting used amazing hands products market thing favorite brands different taken\n",
      "()\n"
     ]
    }
   ],
   "source": [
    "print_top_words(nmf, tfidf_vectorizer.get_feature_names())"
   ]
  },
  {
   "cell_type": "code",
   "execution_count": 70,
   "metadata": {
    "collapsed": false
   },
   "outputs": [
    {
     "data": {
      "text/html": [
       "<div>\n",
       "<table border=\"1\" class=\"dataframe\">\n",
       "  <thead>\n",
       "    <tr style=\"text-align: right;\">\n",
       "      <th></th>\n",
       "      <th>totalItems</th>\n",
       "      <th>productReviews</th>\n",
       "      <th>productReview</th>\n",
       "      <th>overallRating</th>\n",
       "      <th>product</th>\n",
       "      <th>likeStats</th>\n",
       "      <th>stats</th>\n",
       "      <th>helpful</th>\n",
       "      <th>totalRatings</th>\n",
       "      <th>wasHelpful</th>\n",
       "      <th>...</th>\n",
       "      <th>profileURL</th>\n",
       "      <th>profilePicOriginalPath</th>\n",
       "      <th>emailAddress</th>\n",
       "      <th>gender</th>\n",
       "      <th>joinDate</th>\n",
       "      <th>lastActivity</th>\n",
       "      <th>groupId</th>\n",
       "      <th>realName</th>\n",
       "      <th>ratings</th>\n",
       "      <th>rating</th>\n",
       "    </tr>\n",
       "  </thead>\n",
       "  <tbody>\n",
       "    <tr>\n",
       "      <th>0</th>\n",
       "      <td>18</td>\n",
       "      <td>{u'productReview': {u'username': u'coryacehall...</td>\n",
       "      <td>{u'username': u'coryacehall', u'status': 1, u'...</td>\n",
       "      <td>0.0</td>\n",
       "      <td>{u'imageMedium': u'http://store.bbcomcdn.com/i...</td>\n",
       "      <td>None</td>\n",
       "      <td>{u'weightChange': None, u'weight': u'185.0', u...</td>\n",
       "      <td>0</td>\n",
       "      <td>0</td>\n",
       "      <td>None</td>\n",
       "      <td>...</td>\n",
       "      <td>None</td>\n",
       "      <td>None</td>\n",
       "      <td>None</td>\n",
       "      <td>None</td>\n",
       "      <td>None</td>\n",
       "      <td>None</td>\n",
       "      <td>None</td>\n",
       "      <td>None</td>\n",
       "      <td>[]</td>\n",
       "      <td>8.0</td>\n",
       "    </tr>\n",
       "    <tr>\n",
       "      <th>1</th>\n",
       "      <td>18</td>\n",
       "      <td>{u'productReview': {u'username': u'dida1984', ...</td>\n",
       "      <td>{u'username': u'dida1984', u'status': 1, u'_id...</td>\n",
       "      <td>0.0</td>\n",
       "      <td>{u'imageMedium': u'http://store.bbcomcdn.com/i...</td>\n",
       "      <td>None</td>\n",
       "      <td>{u'weightChange': None, u'weight': u'143.96', ...</td>\n",
       "      <td>0</td>\n",
       "      <td>0</td>\n",
       "      <td>None</td>\n",
       "      <td>...</td>\n",
       "      <td>None</td>\n",
       "      <td>None</td>\n",
       "      <td>None</td>\n",
       "      <td>None</td>\n",
       "      <td>None</td>\n",
       "      <td>None</td>\n",
       "      <td>None</td>\n",
       "      <td>None</td>\n",
       "      <td>[]</td>\n",
       "      <td>8.0</td>\n",
       "    </tr>\n",
       "    <tr>\n",
       "      <th>2</th>\n",
       "      <td>18</td>\n",
       "      <td>{u'productReview': {u'username': u'mango1515',...</td>\n",
       "      <td>{u'username': u'mango1515', u'status': 1, u'_i...</td>\n",
       "      <td>0.0</td>\n",
       "      <td>{u'imageMedium': u'http://store.bbcomcdn.com/i...</td>\n",
       "      <td>None</td>\n",
       "      <td>{u'weightChange': None, u'weight': u'158.0', u...</td>\n",
       "      <td>0</td>\n",
       "      <td>0</td>\n",
       "      <td>None</td>\n",
       "      <td>...</td>\n",
       "      <td>None</td>\n",
       "      <td>None</td>\n",
       "      <td>None</td>\n",
       "      <td>None</td>\n",
       "      <td>None</td>\n",
       "      <td>None</td>\n",
       "      <td>None</td>\n",
       "      <td>None</td>\n",
       "      <td>[]</td>\n",
       "      <td>9.0</td>\n",
       "    </tr>\n",
       "    <tr>\n",
       "      <th>3</th>\n",
       "      <td>18</td>\n",
       "      <td>{u'productReview': {u'username': u'DCGuru', u'...</td>\n",
       "      <td>{u'username': u'DCGuru', u'status': 1, u'_id':...</td>\n",
       "      <td>0.0</td>\n",
       "      <td>{u'imageMedium': u'http://store.bbcomcdn.com/i...</td>\n",
       "      <td>None</td>\n",
       "      <td>{u'weightChange': None, u'weight': u'179.5', u...</td>\n",
       "      <td>0</td>\n",
       "      <td>0</td>\n",
       "      <td>None</td>\n",
       "      <td>...</td>\n",
       "      <td>None</td>\n",
       "      <td>None</td>\n",
       "      <td>None</td>\n",
       "      <td>None</td>\n",
       "      <td>None</td>\n",
       "      <td>None</td>\n",
       "      <td>None</td>\n",
       "      <td>None</td>\n",
       "      <td>[]</td>\n",
       "      <td>9.0</td>\n",
       "    </tr>\n",
       "    <tr>\n",
       "      <th>4</th>\n",
       "      <td>18</td>\n",
       "      <td>{u'productReview': {u'username': u'bcnus', u's...</td>\n",
       "      <td>{u'username': u'bcnus', u'status': 1, u'_id': ...</td>\n",
       "      <td>0.0</td>\n",
       "      <td>{u'imageMedium': u'http://store.bbcomcdn.com/i...</td>\n",
       "      <td>None</td>\n",
       "      <td>{u'weightChange': None, u'weight': u'230.0', u...</td>\n",
       "      <td>0</td>\n",
       "      <td>0</td>\n",
       "      <td>None</td>\n",
       "      <td>...</td>\n",
       "      <td>None</td>\n",
       "      <td>None</td>\n",
       "      <td>None</td>\n",
       "      <td>None</td>\n",
       "      <td>None</td>\n",
       "      <td>None</td>\n",
       "      <td>None</td>\n",
       "      <td>None</td>\n",
       "      <td>[]</td>\n",
       "      <td>9.0</td>\n",
       "    </tr>\n",
       "  </tbody>\n",
       "</table>\n",
       "<p>5 rows × 66 columns</p>\n",
       "</div>"
      ],
      "text/plain": [
       "   totalItems                                     productReviews  \\\n",
       "0          18  {u'productReview': {u'username': u'coryacehall...   \n",
       "1          18  {u'productReview': {u'username': u'dida1984', ...   \n",
       "2          18  {u'productReview': {u'username': u'mango1515',...   \n",
       "3          18  {u'productReview': {u'username': u'DCGuru', u'...   \n",
       "4          18  {u'productReview': {u'username': u'bcnus', u's...   \n",
       "\n",
       "                                       productReview  overallRating  \\\n",
       "0  {u'username': u'coryacehall', u'status': 1, u'...            0.0   \n",
       "1  {u'username': u'dida1984', u'status': 1, u'_id...            0.0   \n",
       "2  {u'username': u'mango1515', u'status': 1, u'_i...            0.0   \n",
       "3  {u'username': u'DCGuru', u'status': 1, u'_id':...            0.0   \n",
       "4  {u'username': u'bcnus', u'status': 1, u'_id': ...            0.0   \n",
       "\n",
       "                                             product likeStats  \\\n",
       "0  {u'imageMedium': u'http://store.bbcomcdn.com/i...      None   \n",
       "1  {u'imageMedium': u'http://store.bbcomcdn.com/i...      None   \n",
       "2  {u'imageMedium': u'http://store.bbcomcdn.com/i...      None   \n",
       "3  {u'imageMedium': u'http://store.bbcomcdn.com/i...      None   \n",
       "4  {u'imageMedium': u'http://store.bbcomcdn.com/i...      None   \n",
       "\n",
       "                                               stats  helpful  totalRatings  \\\n",
       "0  {u'weightChange': None, u'weight': u'185.0', u...        0             0   \n",
       "1  {u'weightChange': None, u'weight': u'143.96', ...        0             0   \n",
       "2  {u'weightChange': None, u'weight': u'158.0', u...        0             0   \n",
       "3  {u'weightChange': None, u'weight': u'179.5', u...        0             0   \n",
       "4  {u'weightChange': None, u'weight': u'230.0', u...        0             0   \n",
       "\n",
       "  wasHelpful  ...   profileURL  profilePicOriginalPath emailAddress gender  \\\n",
       "0       None  ...         None                    None         None   None   \n",
       "1       None  ...         None                    None         None   None   \n",
       "2       None  ...         None                    None         None   None   \n",
       "3       None  ...         None                    None         None   None   \n",
       "4       None  ...         None                    None         None   None   \n",
       "\n",
       "   joinDate lastActivity groupId  realName ratings rating  \n",
       "0      None         None    None      None      []    8.0  \n",
       "1      None         None    None      None      []    8.0  \n",
       "2      None         None    None      None      []    9.0  \n",
       "3      None         None    None      None      []    9.0  \n",
       "4      None         None    None      None      []    9.0  \n",
       "\n",
       "[5 rows x 66 columns]"
      ]
     },
     "execution_count": 70,
     "metadata": {},
     "output_type": "execute_result"
    }
   ],
   "source": [
    "data.df.head()"
   ]
  },
  {
   "cell_type": "code",
   "execution_count": 71,
   "metadata": {
    "collapsed": false
   },
   "outputs": [
    {
     "ename": "UnicodeEncodeError",
     "evalue": "'ascii' codec can't encode character u'\\xf1' in position 163: ordinal not in range(128)",
     "output_type": "error",
     "traceback": [
      "\u001b[0;31m---------------------------------------------------------------------------\u001b[0m",
      "\u001b[0;31mUnicodeEncodeError\u001b[0m                        Traceback (most recent call last)",
      "\u001b[0;32m<ipython-input-71-fb5c713ae4f9>\u001b[0m in \u001b[0;36m<module>\u001b[0;34m()\u001b[0m\n\u001b[0;32m----> 1\u001b[0;31m \u001b[0mdata\u001b[0m\u001b[0;34m.\u001b[0m\u001b[0mdf\u001b[0m\u001b[0;34m.\u001b[0m\u001b[0mto_csv\u001b[0m\u001b[0;34m(\u001b[0m\u001b[0;34m)\u001b[0m\u001b[0;34m\u001b[0m\u001b[0m\n\u001b[0m",
      "\u001b[0;32m/Users/gSchool/anaconda2/lib/python2.7/site-packages/pandas/core/frame.pyc\u001b[0m in \u001b[0;36mto_csv\u001b[0;34m(self, path_or_buf, sep, na_rep, float_format, columns, header, index, index_label, mode, encoding, compression, quoting, quotechar, line_terminator, chunksize, tupleize_cols, date_format, doublequote, escapechar, decimal, **kwds)\u001b[0m\n\u001b[1;32m   1342\u001b[0m                                      \u001b[0mdoublequote\u001b[0m\u001b[0;34m=\u001b[0m\u001b[0mdoublequote\u001b[0m\u001b[0;34m,\u001b[0m\u001b[0;34m\u001b[0m\u001b[0m\n\u001b[1;32m   1343\u001b[0m                                      escapechar=escapechar, decimal=decimal)\n\u001b[0;32m-> 1344\u001b[0;31m         \u001b[0mformatter\u001b[0m\u001b[0;34m.\u001b[0m\u001b[0msave\u001b[0m\u001b[0;34m(\u001b[0m\u001b[0;34m)\u001b[0m\u001b[0;34m\u001b[0m\u001b[0m\n\u001b[0m\u001b[1;32m   1345\u001b[0m \u001b[0;34m\u001b[0m\u001b[0m\n\u001b[1;32m   1346\u001b[0m         \u001b[0;32mif\u001b[0m \u001b[0mpath_or_buf\u001b[0m \u001b[0;32mis\u001b[0m \u001b[0mNone\u001b[0m\u001b[0;34m:\u001b[0m\u001b[0;34m\u001b[0m\u001b[0m\n",
      "\u001b[0;32m/Users/gSchool/anaconda2/lib/python2.7/site-packages/pandas/formats/format.pyc\u001b[0m in \u001b[0;36msave\u001b[0;34m(self)\u001b[0m\n\u001b[1;32m   1549\u001b[0m \u001b[0;34m\u001b[0m\u001b[0m\n\u001b[1;32m   1550\u001b[0m             \u001b[0;32melse\u001b[0m\u001b[0;34m:\u001b[0m\u001b[0;34m\u001b[0m\u001b[0m\n\u001b[0;32m-> 1551\u001b[0;31m                 \u001b[0mself\u001b[0m\u001b[0;34m.\u001b[0m\u001b[0m_save\u001b[0m\u001b[0;34m(\u001b[0m\u001b[0;34m)\u001b[0m\u001b[0;34m\u001b[0m\u001b[0m\n\u001b[0m\u001b[1;32m   1552\u001b[0m \u001b[0;34m\u001b[0m\u001b[0m\n\u001b[1;32m   1553\u001b[0m         \u001b[0;32mfinally\u001b[0m\u001b[0;34m:\u001b[0m\u001b[0;34m\u001b[0m\u001b[0m\n",
      "\u001b[0;32m/Users/gSchool/anaconda2/lib/python2.7/site-packages/pandas/formats/format.pyc\u001b[0m in \u001b[0;36m_save\u001b[0;34m(self)\u001b[0m\n\u001b[1;32m   1650\u001b[0m                 \u001b[0;32mbreak\u001b[0m\u001b[0;34m\u001b[0m\u001b[0m\n\u001b[1;32m   1651\u001b[0m \u001b[0;34m\u001b[0m\u001b[0m\n\u001b[0;32m-> 1652\u001b[0;31m             \u001b[0mself\u001b[0m\u001b[0;34m.\u001b[0m\u001b[0m_save_chunk\u001b[0m\u001b[0;34m(\u001b[0m\u001b[0mstart_i\u001b[0m\u001b[0;34m,\u001b[0m \u001b[0mend_i\u001b[0m\u001b[0;34m)\u001b[0m\u001b[0;34m\u001b[0m\u001b[0m\n\u001b[0m\u001b[1;32m   1653\u001b[0m \u001b[0;34m\u001b[0m\u001b[0m\n\u001b[1;32m   1654\u001b[0m     \u001b[0;32mdef\u001b[0m \u001b[0m_save_chunk\u001b[0m\u001b[0;34m(\u001b[0m\u001b[0mself\u001b[0m\u001b[0;34m,\u001b[0m \u001b[0mstart_i\u001b[0m\u001b[0;34m,\u001b[0m \u001b[0mend_i\u001b[0m\u001b[0;34m)\u001b[0m\u001b[0;34m:\u001b[0m\u001b[0;34m\u001b[0m\u001b[0m\n",
      "\u001b[0;32m/Users/gSchool/anaconda2/lib/python2.7/site-packages/pandas/formats/format.pyc\u001b[0m in \u001b[0;36m_save_chunk\u001b[0;34m(self, start_i, end_i)\u001b[0m\n\u001b[1;32m   1676\u001b[0m                                         quoting=self.quoting)\n\u001b[1;32m   1677\u001b[0m \u001b[0;34m\u001b[0m\u001b[0m\n\u001b[0;32m-> 1678\u001b[0;31m         \u001b[0mlib\u001b[0m\u001b[0;34m.\u001b[0m\u001b[0mwrite_csv_rows\u001b[0m\u001b[0;34m(\u001b[0m\u001b[0mself\u001b[0m\u001b[0;34m.\u001b[0m\u001b[0mdata\u001b[0m\u001b[0;34m,\u001b[0m \u001b[0mix\u001b[0m\u001b[0;34m,\u001b[0m \u001b[0mself\u001b[0m\u001b[0;34m.\u001b[0m\u001b[0mnlevels\u001b[0m\u001b[0;34m,\u001b[0m \u001b[0mself\u001b[0m\u001b[0;34m.\u001b[0m\u001b[0mcols\u001b[0m\u001b[0;34m,\u001b[0m \u001b[0mself\u001b[0m\u001b[0;34m.\u001b[0m\u001b[0mwriter\u001b[0m\u001b[0;34m)\u001b[0m\u001b[0;34m\u001b[0m\u001b[0m\n\u001b[0m\u001b[1;32m   1679\u001b[0m \u001b[0;34m\u001b[0m\u001b[0m\n\u001b[1;32m   1680\u001b[0m \u001b[0;31m# from collections import namedtuple\u001b[0m\u001b[0;34m\u001b[0m\u001b[0;34m\u001b[0m\u001b[0m\n",
      "\u001b[0;32mpandas/lib.pyx\u001b[0m in \u001b[0;36mpandas.lib.write_csv_rows (pandas/lib.c:19472)\u001b[0;34m()\u001b[0m\n",
      "\u001b[0;31mUnicodeEncodeError\u001b[0m: 'ascii' codec can't encode character u'\\xf1' in position 163: ordinal not in range(128)"
     ]
    }
   ],
   "source": [
    "data.df.to_csv('clean_df.csv')"
   ]
  },
  {
   "cell_type": "code",
   "execution_count": 74,
   "metadata": {
    "collapsed": false,
    "scrolled": true
   },
   "outputs": [
    {
     "data": {
      "text/html": [
       "<div>\n",
       "<table border=\"1\" class=\"dataframe\">\n",
       "  <thead>\n",
       "    <tr style=\"text-align: right;\">\n",
       "      <th></th>\n",
       "      <th>productId</th>\n",
       "      <th>drop_down</th>\n",
       "    </tr>\n",
       "  </thead>\n",
       "  <tbody>\n",
       "    <tr>\n",
       "      <th>0</th>\n",
       "      <td>prod1620022</td>\n",
       "      <td>360CUT 360LEAN</td>\n",
       "    </tr>\n",
       "    <tr>\n",
       "      <th>18</th>\n",
       "      <td>prod1620026</td>\n",
       "      <td>360CUT 360PRE</td>\n",
       "    </tr>\n",
       "    <tr>\n",
       "      <th>35</th>\n",
       "      <td>prod4080003</td>\n",
       "      <td>360CUT 360PUMP</td>\n",
       "    </tr>\n",
       "    <tr>\n",
       "      <th>37</th>\n",
       "      <td>prod2990043</td>\n",
       "      <td>360CUT 360SLIM For Her</td>\n",
       "    </tr>\n",
       "    <tr>\n",
       "      <th>42</th>\n",
       "      <td>prod3100003</td>\n",
       "      <td>360CUT 360STIM</td>\n",
       "    </tr>\n",
       "    <tr>\n",
       "      <th>43</th>\n",
       "      <td>prod2170077</td>\n",
       "      <td>4 Dimension Nutrition Amino Matrix</td>\n",
       "    </tr>\n",
       "    <tr>\n",
       "      <th>50</th>\n",
       "      <td>prod1010004</td>\n",
       "      <td>4 Dimension Nutrition Casein</td>\n",
       "    </tr>\n",
       "    <tr>\n",
       "      <th>70</th>\n",
       "      <td>prod1910038</td>\n",
       "      <td>4 Dimension Nutrition Glutamine</td>\n",
       "    </tr>\n",
       "    <tr>\n",
       "      <th>71</th>\n",
       "      <td>prod3710112</td>\n",
       "      <td>4 Dimension Nutrition Instantized BCAA 5000</td>\n",
       "    </tr>\n",
       "    <tr>\n",
       "      <th>73</th>\n",
       "      <td>prod1090006</td>\n",
       "      <td>4 Dimension Nutrition Omega-3 Plus</td>\n",
       "    </tr>\n",
       "    <tr>\n",
       "      <th>76</th>\n",
       "      <td>prod2320052</td>\n",
       "      <td>4 Dimension Nutrition Tribulus 800</td>\n",
       "    </tr>\n",
       "    <tr>\n",
       "      <th>77</th>\n",
       "      <td>prod2630003</td>\n",
       "      <td>4 Dimension Nutrition True Iso Zero</td>\n",
       "    </tr>\n",
       "    <tr>\n",
       "      <th>80</th>\n",
       "      <td>27029</td>\n",
       "      <td>Ab Cuts Ab Cuts</td>\n",
       "    </tr>\n",
       "    <tr>\n",
       "      <th>88</th>\n",
       "      <td>prod2180028</td>\n",
       "      <td>Ab Cuts Sleek and Lean Super Burn</td>\n",
       "    </tr>\n",
       "    <tr>\n",
       "      <th>90</th>\n",
       "      <td>28749</td>\n",
       "      <td>ABB Pure Pro 50</td>\n",
       "    </tr>\n",
       "    <tr>\n",
       "      <th>98</th>\n",
       "      <td>28935</td>\n",
       "      <td>ABB Ripped Force</td>\n",
       "    </tr>\n",
       "    <tr>\n",
       "      <th>99</th>\n",
       "      <td>28931</td>\n",
       "      <td>ABB Speed Stack</td>\n",
       "    </tr>\n",
       "    <tr>\n",
       "      <th>108</th>\n",
       "      <td>prod1540016</td>\n",
       "      <td>ACTIVLAB BCAA Xtra Drink</td>\n",
       "    </tr>\n",
       "    <tr>\n",
       "      <th>109</th>\n",
       "      <td>prod1520110</td>\n",
       "      <td>ACTIVLAB Mass Up</td>\n",
       "    </tr>\n",
       "    <tr>\n",
       "      <th>111</th>\n",
       "      <td>prod4070004</td>\n",
       "      <td>Adaptogen Science 100% Beef</td>\n",
       "    </tr>\n",
       "    <tr>\n",
       "      <th>113</th>\n",
       "      <td>prod3710040</td>\n",
       "      <td>Adaptogen Science WARP 5</td>\n",
       "    </tr>\n",
       "    <tr>\n",
       "      <th>114</th>\n",
       "      <td>27473</td>\n",
       "      <td>Ageless Foundation UltraMAX Gold</td>\n",
       "    </tr>\n",
       "    <tr>\n",
       "      <th>115</th>\n",
       "      <td>prod3660004</td>\n",
       "      <td>AI Sports Nutrition 100% Whey Protein</td>\n",
       "    </tr>\n",
       "    <tr>\n",
       "      <th>116</th>\n",
       "      <td>prod670014</td>\n",
       "      <td>AI Sports Nutrition Agmatine</td>\n",
       "    </tr>\n",
       "    <tr>\n",
       "      <th>121</th>\n",
       "      <td>prod2320066</td>\n",
       "      <td>AI Sports Nutrition D-Aspartic Acid</td>\n",
       "    </tr>\n",
       "    <tr>\n",
       "      <th>122</th>\n",
       "      <td>prod2030006</td>\n",
       "      <td>AI Sports Nutrition Furious</td>\n",
       "    </tr>\n",
       "    <tr>\n",
       "      <th>124</th>\n",
       "      <td>25814</td>\n",
       "      <td>AI Sports Nutrition HGHpro</td>\n",
       "    </tr>\n",
       "    <tr>\n",
       "      <th>130</th>\n",
       "      <td>prod1150082</td>\n",
       "      <td>AI Sports Nutrition NO WHEY</td>\n",
       "    </tr>\n",
       "    <tr>\n",
       "      <th>143</th>\n",
       "      <td>prod3700065</td>\n",
       "      <td>AllMax Nutrition A:Cuts</td>\n",
       "    </tr>\n",
       "    <tr>\n",
       "      <th>152</th>\n",
       "      <td>prod4000026</td>\n",
       "      <td>AllMax Nutrition AllWhey Classic</td>\n",
       "    </tr>\n",
       "    <tr>\n",
       "      <th>...</th>\n",
       "      <td>...</td>\n",
       "      <td>...</td>\n",
       "    </tr>\n",
       "    <tr>\n",
       "      <th>65887</th>\n",
       "      <td>26654</td>\n",
       "      <td>NOW Special Two Tablets</td>\n",
       "    </tr>\n",
       "    <tr>\n",
       "      <th>65889</th>\n",
       "      <td>24512</td>\n",
       "      <td>NOW True Calm</td>\n",
       "    </tr>\n",
       "    <tr>\n",
       "      <th>65894</th>\n",
       "      <td>24218</td>\n",
       "      <td>Optimum Nutrition Opti-Men</td>\n",
       "    </tr>\n",
       "    <tr>\n",
       "      <th>66569</th>\n",
       "      <td>24409</td>\n",
       "      <td>S.A.N. Tight</td>\n",
       "    </tr>\n",
       "    <tr>\n",
       "      <th>66575</th>\n",
       "      <td>prod1080012</td>\n",
       "      <td>Twinlab Yohimbe Fuel 8.0</td>\n",
       "    </tr>\n",
       "    <tr>\n",
       "      <th>66587</th>\n",
       "      <td>prod440044</td>\n",
       "      <td>Universal Nutrition Fish Oil</td>\n",
       "    </tr>\n",
       "    <tr>\n",
       "      <th>66606</th>\n",
       "      <td>24770</td>\n",
       "      <td>Universal Nutrition NOX3</td>\n",
       "    </tr>\n",
       "    <tr>\n",
       "      <th>66612</th>\n",
       "      <td>prod2490122</td>\n",
       "      <td>S.A.N. BCAA PRO Reloaded Tablets</td>\n",
       "    </tr>\n",
       "    <tr>\n",
       "      <th>66614</th>\n",
       "      <td>27117</td>\n",
       "      <td>BSN True-Mass</td>\n",
       "    </tr>\n",
       "    <tr>\n",
       "      <th>66699</th>\n",
       "      <td>prod990002</td>\n",
       "      <td>Infinite Labs Pro Z</td>\n",
       "    </tr>\n",
       "    <tr>\n",
       "      <th>66714</th>\n",
       "      <td>prod1270086</td>\n",
       "      <td>LiveLong Nutrition Yohimbine</td>\n",
       "    </tr>\n",
       "    <tr>\n",
       "      <th>66719</th>\n",
       "      <td>prod1530030</td>\n",
       "      <td>MUTANT Whey</td>\n",
       "    </tr>\n",
       "    <tr>\n",
       "      <th>66728</th>\n",
       "      <td>26244</td>\n",
       "      <td>NOW Dandelion Root</td>\n",
       "    </tr>\n",
       "    <tr>\n",
       "      <th>66740</th>\n",
       "      <td>24440</td>\n",
       "      <td>NOW IGF-1</td>\n",
       "    </tr>\n",
       "    <tr>\n",
       "      <th>66747</th>\n",
       "      <td>24558</td>\n",
       "      <td>NOW Psyllium Husk</td>\n",
       "    </tr>\n",
       "    <tr>\n",
       "      <th>66757</th>\n",
       "      <td>25445</td>\n",
       "      <td>NOW Whey Protein Isolate</td>\n",
       "    </tr>\n",
       "    <tr>\n",
       "      <th>66849</th>\n",
       "      <td>prod2080024</td>\n",
       "      <td>Pro Supps PURE Karbolyn</td>\n",
       "    </tr>\n",
       "    <tr>\n",
       "      <th>66865</th>\n",
       "      <td>25754</td>\n",
       "      <td>Universal Nutrition Animal Pak</td>\n",
       "    </tr>\n",
       "    <tr>\n",
       "      <th>67295</th>\n",
       "      <td>prod1000016</td>\n",
       "      <td>Universal Nutrition Uni-Vite</td>\n",
       "    </tr>\n",
       "    <tr>\n",
       "      <th>67325</th>\n",
       "      <td>prod3020004</td>\n",
       "      <td>Pro Supps MR. HYDE Energy Shot</td>\n",
       "    </tr>\n",
       "    <tr>\n",
       "      <th>67326</th>\n",
       "      <td>prod1280056</td>\n",
       "      <td>Betancourt Nutrition RIPPED JUICE EX2</td>\n",
       "    </tr>\n",
       "    <tr>\n",
       "      <th>67335</th>\n",
       "      <td>prod1810056</td>\n",
       "      <td>Labrada Jamie Eason Signature Series Krill Oil</td>\n",
       "    </tr>\n",
       "    <tr>\n",
       "      <th>67354</th>\n",
       "      <td>25963</td>\n",
       "      <td>NOW C-1000</td>\n",
       "    </tr>\n",
       "    <tr>\n",
       "      <th>67396</th>\n",
       "      <td>prod2840011</td>\n",
       "      <td>Optimum Nutrition Protein Energy</td>\n",
       "    </tr>\n",
       "    <tr>\n",
       "      <th>67484</th>\n",
       "      <td>prod440040</td>\n",
       "      <td>Universal Nutrition BCAA Pro</td>\n",
       "    </tr>\n",
       "    <tr>\n",
       "      <th>67500</th>\n",
       "      <td>prod3180014</td>\n",
       "      <td>MuscleTech PhosphaMuscle</td>\n",
       "    </tr>\n",
       "    <tr>\n",
       "      <th>67511</th>\n",
       "      <td>26338</td>\n",
       "      <td>NOW Super Omega 3-6-9</td>\n",
       "    </tr>\n",
       "    <tr>\n",
       "      <th>67523</th>\n",
       "      <td>23745</td>\n",
       "      <td>Dymatize Super Mass Gainer</td>\n",
       "    </tr>\n",
       "    <tr>\n",
       "      <th>67595</th>\n",
       "      <td>prod680032</td>\n",
       "      <td>S.A.N. Green Supreme Fusion</td>\n",
       "    </tr>\n",
       "    <tr>\n",
       "      <th>67605</th>\n",
       "      <td>23649</td>\n",
       "      <td>NOW Ginkgo Biloba</td>\n",
       "    </tr>\n",
       "  </tbody>\n",
       "</table>\n",
       "<p>2131 rows × 2 columns</p>\n",
       "</div>"
      ],
      "text/plain": [
       "         productId                                       drop_down\n",
       "0      prod1620022                                  360CUT 360LEAN\n",
       "18     prod1620026                                   360CUT 360PRE\n",
       "35     prod4080003                                  360CUT 360PUMP\n",
       "37     prod2990043                          360CUT 360SLIM For Her\n",
       "42     prod3100003                                  360CUT 360STIM\n",
       "43     prod2170077              4 Dimension Nutrition Amino Matrix\n",
       "50     prod1010004                    4 Dimension Nutrition Casein\n",
       "70     prod1910038                 4 Dimension Nutrition Glutamine\n",
       "71     prod3710112     4 Dimension Nutrition Instantized BCAA 5000\n",
       "73     prod1090006              4 Dimension Nutrition Omega-3 Plus\n",
       "76     prod2320052              4 Dimension Nutrition Tribulus 800\n",
       "77     prod2630003             4 Dimension Nutrition True Iso Zero\n",
       "80           27029                                 Ab Cuts Ab Cuts\n",
       "88     prod2180028               Ab Cuts Sleek and Lean Super Burn\n",
       "90           28749                                 ABB Pure Pro 50\n",
       "98           28935                                ABB Ripped Force\n",
       "99           28931                                 ABB Speed Stack\n",
       "108    prod1540016                        ACTIVLAB BCAA Xtra Drink\n",
       "109    prod1520110                                ACTIVLAB Mass Up\n",
       "111    prod4070004                     Adaptogen Science 100% Beef\n",
       "113    prod3710040                        Adaptogen Science WARP 5\n",
       "114          27473                Ageless Foundation UltraMAX Gold\n",
       "115    prod3660004           AI Sports Nutrition 100% Whey Protein\n",
       "116     prod670014                    AI Sports Nutrition Agmatine\n",
       "121    prod2320066             AI Sports Nutrition D-Aspartic Acid\n",
       "122    prod2030006                     AI Sports Nutrition Furious\n",
       "124          25814                      AI Sports Nutrition HGHpro\n",
       "130    prod1150082                     AI Sports Nutrition NO WHEY\n",
       "143    prod3700065                         AllMax Nutrition A:Cuts\n",
       "152    prod4000026                AllMax Nutrition AllWhey Classic\n",
       "...            ...                                             ...\n",
       "65887        26654                         NOW Special Two Tablets\n",
       "65889        24512                                   NOW True Calm\n",
       "65894        24218                      Optimum Nutrition Opti-Men\n",
       "66569        24409                                    S.A.N. Tight\n",
       "66575  prod1080012                        Twinlab Yohimbe Fuel 8.0\n",
       "66587   prod440044                    Universal Nutrition Fish Oil\n",
       "66606        24770                        Universal Nutrition NOX3\n",
       "66612  prod2490122                S.A.N. BCAA PRO Reloaded Tablets\n",
       "66614        27117                                   BSN True-Mass\n",
       "66699   prod990002                             Infinite Labs Pro Z\n",
       "66714  prod1270086                    LiveLong Nutrition Yohimbine\n",
       "66719  prod1530030                                     MUTANT Whey\n",
       "66728        26244                              NOW Dandelion Root\n",
       "66740        24440                                       NOW IGF-1\n",
       "66747        24558                               NOW Psyllium Husk\n",
       "66757        25445                        NOW Whey Protein Isolate\n",
       "66849  prod2080024                         Pro Supps PURE Karbolyn\n",
       "66865        25754                  Universal Nutrition Animal Pak\n",
       "67295  prod1000016                    Universal Nutrition Uni-Vite\n",
       "67325  prod3020004                  Pro Supps MR. HYDE Energy Shot\n",
       "67326  prod1280056           Betancourt Nutrition RIPPED JUICE EX2\n",
       "67335  prod1810056  Labrada Jamie Eason Signature Series Krill Oil\n",
       "67354        25963                                      NOW C-1000\n",
       "67396  prod2840011                Optimum Nutrition Protein Energy\n",
       "67484   prod440040                    Universal Nutrition BCAA Pro\n",
       "67500  prod3180014                        MuscleTech PhosphaMuscle\n",
       "67511        26338                           NOW Super Omega 3-6-9\n",
       "67523        23745                      Dymatize Super Mass Gainer\n",
       "67595   prod680032                     S.A.N. Green Supreme Fusion\n",
       "67605        23649                               NOW Ginkgo Biloba\n",
       "\n",
       "[2131 rows x 2 columns]"
      ]
     },
     "execution_count": 74,
     "metadata": {},
     "output_type": "execute_result"
    }
   ],
   "source": [
    "df = pd.read_pickle('rateaproduct.pkl')\n",
    "df"
   ]
  },
  {
   "cell_type": "code",
   "execution_count": 108,
   "metadata": {
    "collapsed": false
   },
   "outputs": [
    {
     "data": {
      "text/plain": [
       "u'23934'"
      ]
     },
     "execution_count": 108,
     "metadata": {},
     "output_type": "execute_result"
    }
   ],
   "source": [
    "df[df.drop_down =='AI Sports Nutrition RecoverPro'].values[0][0]"
   ]
  },
  {
   "cell_type": "code",
   "execution_count": null,
   "metadata": {
    "collapsed": true
   },
   "outputs": [],
   "source": []
  },
  {
   "cell_type": "code",
   "execution_count": null,
   "metadata": {
    "collapsed": true
   },
   "outputs": [],
   "source": []
  }
 ],
 "metadata": {
  "anaconda-cloud": {},
  "kernelspec": {
   "display_name": "Python [Root]",
   "language": "python",
   "name": "Python [Root]"
  },
  "language_info": {
   "codemirror_mode": {
    "name": "ipython",
    "version": 2
   },
   "file_extension": ".py",
   "mimetype": "text/x-python",
   "name": "python",
   "nbconvert_exporter": "python",
   "pygments_lexer": "ipython2",
   "version": "2.7.12"
  }
 },
 "nbformat": 4,
 "nbformat_minor": 0
}
