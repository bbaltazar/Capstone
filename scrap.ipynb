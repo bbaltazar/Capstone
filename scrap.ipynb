{
 "cells": [
  {
   "cell_type": "code",
   "execution_count": 43,
   "metadata": {
    "collapsed": true
   },
   "outputs": [],
   "source": [
    "import requests\n",
    "from bs4 import BeautifulSoup\n",
    "import pandas as pd\n",
    "import numpy as np"
   ]
  },
  {
   "cell_type": "code",
   "execution_count": 2,
   "metadata": {
    "collapsed": true
   },
   "outputs": [],
   "source": [
    "from pymongo import MongoClient"
   ]
  },
  {
   "cell_type": "code",
   "execution_count": 7,
   "metadata": {
    "collapsed": false
   },
   "outputs": [],
   "source": [
    "client = MongoClient()\n",
    "db = client['bodyscrape']\n",
    "coll = db['products']"
   ]
  },
  {
   "cell_type": "code",
   "execution_count": 37,
   "metadata": {
    "collapsed": false
   },
   "outputs": [],
   "source": [
    "def insert_product(num):\n",
    "    '''\n",
    "    Inserts JSON dictionary entries into db.products collection\n",
    "    '''\n",
    "    params = {\\\n",
    "#           'page':1,\n",
    "      'reviewType':'verified'}\n",
    "#       ,'size':500} # foo.json()['totalItems'] gives total size but cannot call until foo.json initiated\n",
    "    headers = {\\\n",
    "               'Accept':'application/json',\n",
    "    'Accept-Encoding':'gzip, deflate, sdch, br',\n",
    "    'Accept-Language':'en-US,en;q=0.8',\n",
    "    'BB-App':'product-detail-app, 5.1.3',\n",
    "    'Connection':'keep-alive',\n",
    "    'Host':'catalog.bodybuilding.com',\n",
    "    'Origin':'http://www.bodybuilding.com',\n",
    "    'User-Agent':'Mozilla/5.0 (Linux; Android 6.0; Nexus 5 Build/MRA58N) \\\n",
    "    AppleWebKit/537.36 (KHTML, like Gecko) Chrome/46.0.2490.76 Mobile Safari/537.36}'\n",
    "              }\n",
    "    url = 'https://catalog.bodybuilding.com/products/'+str(num)+'/reviews'\n",
    "    r = requests.get(url, headers=headers, params=params)\n",
    "    r_json = r.json()\n",
    "    return r_json"
   ]
  },
  {
   "cell_type": "code",
   "execution_count": 38,
   "metadata": {
    "collapsed": true
   },
   "outputs": [],
   "source": [
    "test = insert_product('27113')"
   ]
  },
  {
   "cell_type": "code",
   "execution_count": 41,
   "metadata": {
    "collapsed": false
   },
   "outputs": [
    {
     "data": {
      "text/plain": [
       "[u'totalItems', u'productReviews']"
      ]
     },
     "execution_count": 41,
     "metadata": {},
     "output_type": "execute_result"
    }
   ],
   "source": [
    "test.keys()"
   ]
  },
  {
   "cell_type": "code",
   "execution_count": 67,
   "metadata": {
    "collapsed": false
   },
   "outputs": [],
   "source": [
    "params = {\\\n",
    "      'page':1,\n",
    "  'reviewType':'verified',\n",
    "  'size':20} # foo.json()['totalItems'] gives total size but cannot call until foo.json initiated\n",
    "headers = {\\\n",
    "           'Accept':'application/json',\n",
    "'Accept-Encoding':'gzip, deflate, sdch, br',\n",
    "'Accept-Language':'en-US,en;q=0.8',\n",
    "'BB-App':'product-detail-app, 5.1.3',\n",
    "'Connection':'keep-alive',\n",
    "'Host':'catalog.bodybuilding.com',\n",
    "'Origin':'http://www.bodybuilding.com',\n",
    "'User-Agent':'Mozilla/5.0 (Linux; Android 6.0; Nexus 5 Build/MRA58N) \\\n",
    "AppleWebKit/537.36 (KHTML, like Gecko) Chrome/46.0.2490.76 Mobile Safari/537.36}'\n",
    "          }\n",
    "\n",
    "url = 'https://catalog.bodybuilding.com/products/prod1620022/reviews'\n",
    "r = requests.get(url, headers=headers, params=params)\n"
   ]
  },
  {
   "cell_type": "code",
   "execution_count": 68,
   "metadata": {
    "collapsed": false
   },
   "outputs": [
    {
     "data": {
      "text/plain": [
       "(0, 18)"
      ]
     },
     "execution_count": 68,
     "metadata": {},
     "output_type": "execute_result"
    }
   ],
   "source": [
    "len(r.json()['productReviews']), r.json()['totalItems']"
   ]
  },
  {
   "cell_type": "code",
   "execution_count": 37,
   "metadata": {
    "collapsed": false
   },
   "outputs": [],
   "source": [
    "headers = {\\\n",
    "           'Accept':'application/json',\n",
    "'Accept-Encoding':'gzip, deflate, sdch, br',\n",
    "'Accept-Language':'en-US,en;q=0.8',\n",
    "'BB-App':'product-detail-app, 5.1.3',\n",
    "'Connection':'keep-alive',\n",
    "'Host':'catalog.bodybuilding.com',\n",
    "'Origin':'http://www.bodybuilding.com',\n",
    "'User-Agent':'Mozilla/5.0 (Linux; Android 6.0; Nexus 5 Build/MRA58N) AppleWebKit/537.36 (KHTML, like Gecko) Chrome/46.0.2490.76 Mobile Safari/537.36}'\n",
    "          }\n",
    "\n",
    "def store_data(prod_num):\n",
    "    params = {\\\n",
    "              'page':1,\n",
    "          'reviewType':'verified', 'size':50}\n",
    "    url = 'https://catalog.bodybuilding.com/products/'+str(prod_num)+'/reviews'\n",
    "    foo = requests.get(url, headers=headers, params=params)\n",
    "    return foo.json()\n",
    "#    return prod_num, foo.json().keys(), foo.json().values(),\\\n",
    "#'Total items', foo.json()['totalItems'],\\\n",
    "#'Len of prodReviews:', len(foo.json()['productReviews']),\\\n",
    "#foo.json()['productReviews']"
   ]
  },
  {
   "cell_type": "code",
   "execution_count": 35,
   "metadata": {
    "collapsed": false
   },
   "outputs": [],
   "source": [
    "no_results = store_data('prod3990046')\n",
    "results = store_data('24175')"
   ]
  },
  {
   "cell_type": "code",
   "execution_count": 36,
   "metadata": {
    "collapsed": false
   },
   "outputs": [
    {
     "data": {
      "text/plain": [
       "{u'productReviews': [], u'totalItems': 94}"
      ]
     },
     "execution_count": 36,
     "metadata": {},
     "output_type": "execute_result"
    }
   ],
   "source": [
    "results"
   ]
  },
  {
   "cell_type": "code",
   "execution_count": null,
   "metadata": {
    "collapsed": false
   },
   "outputs": [],
   "source": [
    "results.content == '{\"totalItems\":0,\"productReviews\":[]}'"
   ]
  },
  {
   "cell_type": "code",
   "execution_count": null,
   "metadata": {
    "collapsed": true
   },
   "outputs": [],
   "source": [
    "z = requests.get('http://reviews.bodybuilding.com/view-reviews')"
   ]
  },
  {
   "cell_type": "code",
   "execution_count": null,
   "metadata": {
    "collapsed": false
   },
   "outputs": [],
   "source": [
    "soup = BeautifulSoup(z.content)"
   ]
  },
  {
   "cell_type": "code",
   "execution_count": null,
   "metadata": {
    "collapsed": false
   },
   "outputs": [],
   "source": [
    "soup"
   ]
  },
  {
   "cell_type": "code",
   "execution_count": null,
   "metadata": {
    "collapsed": false,
    "scrolled": true
   },
   "outputs": [],
   "source": [
    "soup.findAll(id='brandName')[18]['href']"
   ]
  },
  {
   "cell_type": "code",
   "execution_count": null,
   "metadata": {
    "collapsed": false
   },
   "outputs": [],
   "source": [
    "brand_list =[soup.findAll(id='brandName')[i]['href'] for i in xrange(len(soup.findAll(id='brandName')))]\n",
    "    "
   ]
  },
  {
   "cell_type": "code",
   "execution_count": null,
   "metadata": {
    "collapsed": false,
    "scrolled": true
   },
   "outputs": [],
   "source": [
    "\n",
    "y = requests.get(brand_list[420])\n",
    "soup_y = BeautifulSoup(y.content)\n",
    "check =soup_y.findAll(attrs={'class':'product-image'})\n",
    "check"
   ]
  },
  {
   "cell_type": "code",
   "execution_count": null,
   "metadata": {
    "collapsed": true
   },
   "outputs": [],
   "source": [
    "def "
   ]
  },
  {
   "cell_type": "code",
   "execution_count": null,
   "metadata": {
    "collapsed": false
   },
   "outputs": [],
   "source": [
    "check[0].find('img')['src'].split('image/prod_')[1].split('/')[0]"
   ]
  },
  {
   "cell_type": "code",
   "execution_count": null,
   "metadata": {
    "collapsed": false
   },
   "outputs": [],
   "source": [
    "check[1]['src']"
   ]
  },
  {
   "cell_type": "code",
   "execution_count": null,
   "metadata": {
    "collapsed": false
   },
   "outputs": [],
   "source": [
    "check[2].find('img')['src'].split('image/prod_')[1].split('/')[0]"
   ]
  },
  {
   "cell_type": "code",
   "execution_count": null,
   "metadata": {
    "collapsed": false
   },
   "outputs": [],
   "source": [
    "for i in xrange(0, len(check), 2):\n",
    "    print check[i].find('img')['src'].split('image/prod_')[1].split('/')[0]"
   ]
  },
  {
   "cell_type": "code",
   "execution_count": null,
   "metadata": {
    "collapsed": true
   },
   "outputs": [],
   "source": [
    "def find_one(url):\n",
    "    \n",
    "     \n",
    "    \n",
    "\n",
    "\n",
    "\n"
   ]
  },
  {
   "cell_type": "code",
   "execution_count": null,
   "metadata": {
    "collapsed": false
   },
   "outputs": [],
   "source": [
    "z = requests.get('http://reviews.bodybuilding.com/Allmax_Nutrition/')\n",
    "soup = BeautifulSoup(z.content)\n",
    "tags = soup.findAll(attrs={'class':'button icon end'})"
   ]
  },
  {
   "cell_type": "code",
   "execution_count": null,
   "metadata": {
    "collapsed": false,
    "scrolled": true
   },
   "outputs": [],
   "source": [
    "for tag in tags:\n",
    "    print tag"
   ]
  },
  {
   "cell_type": "code",
   "execution_count": null,
   "metadata": {
    "collapsed": true
   },
   "outputs": [],
   "source": [
    "z = requests.get('http://reviews.bodybuilding.com/gasp/')\n",
    "soup = BeautifulSoup(z.content)\n",
    "tag = soup.findAll(attrs={'class':'button icon end'})[2]\n",
    "url = tag['href'].replace('./', 'http://reviews.bodybuilding.com/gasp/')"
   ]
  },
  {
   "cell_type": "code",
   "execution_count": null,
   "metadata": {
    "collapsed": false,
    "scrolled": true
   },
   "outputs": [],
   "source": [
    "soup.findAll(attrs={'class':'button icon end'})"
   ]
  },
  {
   "cell_type": "code",
   "execution_count": null,
   "metadata": {
    "collapsed": false
   },
   "outputs": [],
   "source": [
    "tag['href']\n"
   ]
  },
  {
   "cell_type": "code",
   "execution_count": null,
   "metadata": {
    "collapsed": false
   },
   "outputs": [],
   "source": [
    "url"
   ]
  },
  {
   "cell_type": "code",
   "execution_count": null,
   "metadata": {
    "collapsed": true
   },
   "outputs": [],
   "source": [
    "headers_next_page = {'Accept':'application/xml, text/xml, */*; q=0.01',\\\n",
    "'Accept-Encoding':'gzip, deflate, sdch',\\\n",
    "'Accept-Language':'en-US,en;q=0.8',\\\n",
    "'Connection':'keep-alive',\\\n",
    "'Host':'reviews.bodybuilding.com',\\\n",
    "'Referer':'http://reviews.bodybuilding.com/gasp/',\\\n",
    "'User-Agent':'Mozilla/5.0 (Macintosh; Intel Mac OS X 10_11_2) \\\n",
    "AppleWebKit/537.36 (KHTML, like Gecko) Chrome/54.0.2840.71 Safari/537.36',\\\n",
    "'Wicket-Ajax':'true',\\\n",
    "'Wicket-Ajax-BaseURL':'gasp/',\\\n",
    "'Wicket-FocusedElementId':'id33',\\\n",
    "'X-Requested-With':'XMLHttpRequest'\\\n",
    "}\n",
    "url = 'http://reviews.bodybuilding.com/gasp/?6-1.ILinkListener-products~container-productspanel-productsgroup-data~view~container-top~paginator-next&dataProvider=com.bodybuilding.reviews.providers.ProductDataProvider@7ccf59ba'\n",
    "foo = requests.get(url, headers=headers_next_page)"
   ]
  },
  {
   "cell_type": "code",
   "execution_count": 8,
   "metadata": {
    "collapsed": true
   },
   "outputs": [],
   "source": [
    "test =insert_product(24157)"
   ]
  },
  {
   "cell_type": "code",
   "execution_count": 44,
   "metadata": {
    "collapsed": false
   },
   "outputs": [],
   "source": [
    "df = pd.read_csv('products.csv')"
   ]
  },
  {
   "cell_type": "code",
   "execution_count": 67,
   "metadata": {
    "collapsed": true
   },
   "outputs": [],
   "source": [
    "import json"
   ]
  },
  {
   "cell_type": "code",
   "execution_count": 310,
   "metadata": {
    "collapsed": true
   },
   "outputs": [],
   "source": [
    "w = df.copy()"
   ]
  },
  {
   "cell_type": "code",
   "execution_count": 311,
   "metadata": {
    "collapsed": false,
    "scrolled": true
   },
   "outputs": [],
   "source": [
    "w.productReviews =w.productReviews.apply(lambda x: json.loads(x)[0])"
   ]
  },
  {
   "cell_type": "code",
   "execution_count": 312,
   "metadata": {
    "collapsed": false
   },
   "outputs": [
    {
     "data": {
      "text/plain": [
       "2160"
      ]
     },
     "execution_count": 312,
     "metadata": {},
     "output_type": "execute_result"
    }
   ],
   "source": [
    "w.shape[0]"
   ]
  },
  {
   "cell_type": "code",
   "execution_count": 313,
   "metadata": {
    "collapsed": false
   },
   "outputs": [],
   "source": [
    "def new_columns():\n",
    "    new_cols = []\n",
    "    for col in w.productReviews[0].keys():\n",
    "        w[col] = [w.productReviews[n][col] for n in xrange(w.shape[0])]\n",
    "        new_cols.append(col)\n",
    "    for new_col in new_cols:\n",
    "        if type(w[new_col][0]) == dict:\n",
    "            for sub_col in w[new_col][0].keys():\n",
    "                w[sub_col] = [w[new_col][m][sub_col] for m in xrange(w.shape[0])]"
   ]
  },
  {
   "cell_type": "code",
   "execution_count": 337,
   "metadata": {
    "collapsed": false,
    "scrolled": false
   },
   "outputs": [
    {
     "data": {
      "text/plain": [
       "u'This is a great pre workout to get you going after a long day of work. No cash effect and keeps you focused on your workout. Maui orange is a great tasting flavor addition '"
      ]
     },
     "execution_count": 337,
     "metadata": {},
     "output_type": "execute_result"
    }
   ],
   "source": [
    "w\n",
    "w.drop(['productReviews','totalItems'], axis=1)\n",
    "w['productReview'][7]\n",
    "w['text'][7]"
   ]
  },
  {
   "cell_type": "code",
   "execution_count": 309,
   "metadata": {
    "collapsed": false,
    "scrolled": true
   },
   "outputs": [
    {
     "data": {
      "text/plain": [
       "Index([            u'totalItems',         u'productReviews',\n",
       "                u'productReview',                 u'member',\n",
       "                      u'product',              u'likeStats',\n",
       "                        u'stats',                u'helpful',\n",
       "                u'overallRating',           u'totalRatings',\n",
       "                   u'wasHelpful',              u'likeCount',\n",
       "                 u'commentCount',           u'helpfulTotal',\n",
       "                   u'userRating',          u'flavorRatings',\n",
       "                       u'status',               u'verified',\n",
       "                        u'title',                   u'text',\n",
       "                     u'username',     u'updateStatusReason',\n",
       "                      u'brandId',                u'skuList',\n",
       "                      u'modDate',                   u'date',\n",
       "                     u'entityId',                    u'_id',\n",
       "                         u'slug',                 u'userId',\n",
       "                    u'productId',         u'profilePicPath',\n",
       "                   u'photoCount',    u'profilePicThumbPath',\n",
       "         u'profilePicAvatarPath',                 u'gender',\n",
       "                    u'activated',               u'vbuserId',\n",
       "                   u'profileURL', u'profilePicOriginalPath',\n",
       "                 u'lastActivity',               u'joinDate',\n",
       "                 u'emailAddress',                u'groupId',\n",
       "                     u'realName',            u'imageMedium',\n",
       "                 u'totalReviews',             u'flavorList',\n",
       "          u'totalVerifiedBuyers',       u'briefDescription',\n",
       "                           u'id',    u'verifiedBuyerRating',\n",
       "                  u'description',   u'totalVerifiedReviews',\n",
       "                   u'imageLarge',                   u'name',\n",
       "                   u'imageSmall',                    u'url',\n",
       "                    u'brandName',              u'reviewUrl',\n",
       "                 u'weightChange',                 u'weight',\n",
       "                      u'bodyfat',                 u'height',\n",
       "                      u'ratings'],\n",
       "      dtype='object')"
      ]
     },
     "execution_count": 309,
     "metadata": {},
     "output_type": "execute_result"
    }
   ],
   "source": [
    "q.columns"
   ]
  },
  {
   "cell_type": "code",
   "execution_count": 293,
   "metadata": {
    "collapsed": false
   },
   "outputs": [
    {
     "data": {
      "text/plain": [
       "{u'commentCount': 0,\n",
       " u'flavorRatings': None,\n",
       " u'helpful': 0,\n",
       " u'helpfulTotal': 1,\n",
       " u'likeCount': None,\n",
       " u'likeStats': None,\n",
       " u'member': {u'activated': False,\n",
       "  u'emailAddress': None,\n",
       "  u'gender': None,\n",
       "  u'groupId': None,\n",
       "  u'joinDate': None,\n",
       "  u'lastActivity': None,\n",
       "  u'photoCount': 0,\n",
       "  u'profilePicAvatarPath': None,\n",
       "  u'profilePicOriginalPath': None,\n",
       "  u'profilePicPath': u'http://imagecdn.bodybuilding.com/profile-photo/27178626/74a69651bb064fbeaf7b161ec49285eep.jpg',\n",
       "  u'profilePicThumbPath': None,\n",
       "  u'profileURL': None,\n",
       "  u'realName': None,\n",
       "  u'slug': u'AmenDela',\n",
       "  u'userId': 62687172,\n",
       "  u'username': u'AmenDela',\n",
       "  u'vbuserId': 0},\n",
       " u'overallRating': 8.1,\n",
       " u'product': {u'brandId': u'cat1370002',\n",
       "  u'brandName': u'22 Days Nutrition',\n",
       "  u'briefDescription': u'',\n",
       "  u'description': u'Made with USDA Organic, Non-GMO, Plant-Based, Dairy-free and Gluten-free ingredients.',\n",
       "  u'flavorList': [u'Daily Mocha Mantra'],\n",
       "  u'flavorRatings': {u'overallRating': 4,\n",
       "   u'ratings': [{u'flavor': u'Daily Mocha Mantra',\n",
       "     u'id': u'prod2000002-daily_mocha_mantra',\n",
       "     u'rating': 4,\n",
       "     u'totalRatings': 2}],\n",
       "   u'totalRatings': 1},\n",
       "  u'id': u'prod2000002',\n",
       "  u'imageLarge': u'http://store.bbcomcdn.com/images/store/prodimage/prod_prod2000002/image_prodprod2000002_largeImage_X_450_white.jpg',\n",
       "  u'imageMedium': u'http://store.bbcomcdn.com/images/store/prodimage/prod_prod2000002/image_prodprod2000002_largeImage_X_130_white.jpg',\n",
       "  u'imageSmall': u'http://store.bbcomcdn.com/images/store/prodimage/prod_prod2000002/image_prodprod2000002_largeImage_X_70_white.jpg',\n",
       "  u'name': u'Protein Bars',\n",
       "  u'overallRating': 8.1,\n",
       "  u'productId': u'prod2000002',\n",
       "  u'reviewUrl': u'http://reviews.bodybuilding.com/22_Days_Nutrition/Protein_Bars/',\n",
       "  u'skuList': None,\n",
       "  u'totalRatings': 7,\n",
       "  u'totalReviews': 7,\n",
       "  u'totalVerifiedBuyers': 2,\n",
       "  u'totalVerifiedReviews': 2,\n",
       "  u'url': u'http://www.bodybuilding.com/store/22-days-nutrition/protein-and-energy-bar.html',\n",
       "  u'verified': None,\n",
       "  u'verifiedBuyerRating': 7.5},\n",
       " u'productReview': {u'_id': u'56fc428e0cf243f19e2d0f90',\n",
       "  u'brandId': u'cat1370002',\n",
       "  u'date': {u'$numberLong': u'1459372686000'},\n",
       "  u'entityId': u'productreview-prod2000002',\n",
       "  u'modDate': {u'$numberLong': u'1459372686000'},\n",
       "  u'overallRating': None,\n",
       "  u'productId': u'prod2000002',\n",
       "  u'skuList': None,\n",
       "  u'slug': u'AmenDela',\n",
       "  u'status': 1,\n",
       "  u'text': u'was weird to tate',\n",
       "  u'title': u'',\n",
       "  u'totalRatings': None,\n",
       "  u'updateStatusReason': None,\n",
       "  u'userId': 62687172,\n",
       "  u'username': u'AmenDela',\n",
       "  u'verified': True},\n",
       " u'stats': {u'bodyfat': u'15.0',\n",
       "  u'height': u'71.0',\n",
       "  u'weight': u'180.0',\n",
       "  u'weightChange': None},\n",
       " u'totalRatings': 7,\n",
       " u'userRating': {u'overallRating': 5,\n",
       "  u'ratings': [{u'flavor': u'Daily Mocha Mantra',\n",
       "    u'id': u'prod2000002-daily_mocha_mantra',\n",
       "    u'rating': 4,\n",
       "    u'totalRatings': 1}],\n",
       "  u'totalRatings': None},\n",
       " u'wasHelpful': None}"
      ]
     },
     "execution_count": 293,
     "metadata": {},
     "output_type": "execute_result"
    }
   ],
   "source": [
    "q['productReviews'][0]"
   ]
  },
  {
   "cell_type": "code",
   "execution_count": 292,
   "metadata": {
    "collapsed": false
   },
   "outputs": [
    {
     "data": {
      "text/plain": [
       "0        8.1\n",
       "1        9.5\n",
       "2        9.2\n",
       "3        8.9\n",
       "4        9.0\n",
       "5        8.9\n",
       "6        9.7\n",
       "7        8.4\n",
       "8        9.4\n",
       "9        9.3\n",
       "10       9.1\n",
       "11       9.5\n",
       "12       9.5\n",
       "13       8.2\n",
       "14       8.7\n",
       "15       9.0\n",
       "16       7.6\n",
       "17       9.0\n",
       "18       7.5\n",
       "19       9.0\n",
       "20       9.3\n",
       "21       8.5\n",
       "22       9.4\n",
       "23       9.0\n",
       "24       9.3\n",
       "25       7.5\n",
       "26       9.2\n",
       "27      10.0\n",
       "28       9.3\n",
       "29       9.0\n",
       "        ... \n",
       "2130     8.0\n",
       "2131    10.0\n",
       "2132     7.2\n",
       "2133     8.0\n",
       "2134     7.5\n",
       "2135     7.3\n",
       "2136     9.2\n",
       "2137     8.4\n",
       "2138     9.0\n",
       "2139     6.7\n",
       "2140     3.3\n",
       "2141     7.9\n",
       "2142     9.0\n",
       "2143     6.5\n",
       "2144     3.7\n",
       "2145    10.0\n",
       "2146     9.0\n",
       "2147    10.0\n",
       "2148    10.0\n",
       "2149     9.0\n",
       "2150     9.7\n",
       "2151     9.0\n",
       "2152     9.3\n",
       "2153     9.0\n",
       "2154     9.3\n",
       "2155     1.0\n",
       "2156     8.4\n",
       "2157     6.4\n",
       "2158     7.3\n",
       "2159     9.6\n",
       "Name: overallRating, dtype: float64"
      ]
     },
     "execution_count": 292,
     "metadata": {},
     "output_type": "execute_result"
    }
   ],
   "source": [
    "q['overallRating']"
   ]
  },
  {
   "cell_type": "code",
   "execution_count": null,
   "metadata": {
    "collapsed": true
   },
   "outputs": [],
   "source": []
  },
  {
   "cell_type": "code",
   "execution_count": null,
   "metadata": {
    "collapsed": true
   },
   "outputs": [],
   "source": []
  },
  {
   "cell_type": "code",
   "execution_count": 238,
   "metadata": {
    "collapsed": false
   },
   "outputs": [
    {
     "data": {
      "text/plain": [
       "True"
      ]
     },
     "execution_count": 238,
     "metadata": {},
     "output_type": "execute_result"
    }
   ],
   "source": [
    "p['productReview'][1]['overallRating']"
   ]
  },
  {
   "cell_type": "code",
   "execution_count": 211,
   "metadata": {
    "collapsed": false
   },
   "outputs": [
    {
     "data": {
      "text/plain": [
       "u'56a7c50f0cf28061f5b7dbaf'"
      ]
     },
     "execution_count": 211,
     "metadata": {},
     "output_type": "execute_result"
    }
   ],
   "source": [
    "p['productReview'][1]['_id']"
   ]
  },
  {
   "cell_type": "code",
   "execution_count": 179,
   "metadata": {
    "collapsed": false
   },
   "outputs": [
    {
     "data": {
      "text/plain": [
       "{u'_id': u'577a9c9d0cf238cc95092960',\n",
       " u'brandId': u'cat1150004',\n",
       " u'date': {u'$numberLong': u'1467653277000'},\n",
       " u'entityId': u'productreview-prod3810021',\n",
       " u'modDate': {u'$numberLong': u'1467653277000'},\n",
       " u'overallRating': None,\n",
       " u'productId': u'prod3810021',\n",
       " u'skuList': None,\n",
       " u'slug': u'Jaxmoney',\n",
       " u'status': 1,\n",
       " u'text': u'I absolutely love these aminos! ',\n",
       " u'title': u'',\n",
       " u'totalRatings': None,\n",
       " u'updateStatusReason': None,\n",
       " u'userId': 110109721,\n",
       " u'username': u'Jaxmoney',\n",
       " u'verified': True}"
      ]
     },
     "execution_count": 179,
     "metadata": {},
     "output_type": "execute_result"
    }
   ],
   "source": [
    "p.productReviews[2]['productReview']"
   ]
  },
  {
   "cell_type": "code",
   "execution_count": 90,
   "metadata": {
    "collapsed": false
   },
   "outputs": [
    {
     "data": {
      "text/html": [
       "<div>\n",
       "<table border=\"1\" class=\"dataframe\">\n",
       "  <thead>\n",
       "    <tr style=\"text-align: right;\">\n",
       "      <th></th>\n",
       "      <th>totalItems</th>\n",
       "      <th>productReviews</th>\n",
       "    </tr>\n",
       "  </thead>\n",
       "  <tbody>\n",
       "    <tr>\n",
       "      <th>0</th>\n",
       "      <td>2</td>\n",
       "      <td>{u'productReview': {u'status': 1, u'overallRat...</td>\n",
       "    </tr>\n",
       "    <tr>\n",
       "      <th>1</th>\n",
       "      <td>2</td>\n",
       "      <td>{u'productReview': {u'status': 1, u'overallRat...</td>\n",
       "    </tr>\n",
       "    <tr>\n",
       "      <th>2</th>\n",
       "      <td>1</td>\n",
       "      <td>{u'productReview': {u'status': 1, u'overallRat...</td>\n",
       "    </tr>\n",
       "    <tr>\n",
       "      <th>3</th>\n",
       "      <td>4</td>\n",
       "      <td>{u'productReview': {u'status': 1, u'overallRat...</td>\n",
       "    </tr>\n",
       "    <tr>\n",
       "      <th>4</th>\n",
       "      <td>18</td>\n",
       "      <td>{u'productReview': {u'status': 1, u'overallRat...</td>\n",
       "    </tr>\n",
       "  </tbody>\n",
       "</table>\n",
       "</div>"
      ],
      "text/plain": [
       "   totalItems                                     productReviews\n",
       "0           2  {u'productReview': {u'status': 1, u'overallRat...\n",
       "1           2  {u'productReview': {u'status': 1, u'overallRat...\n",
       "2           1  {u'productReview': {u'status': 1, u'overallRat...\n",
       "3           4  {u'productReview': {u'status': 1, u'overallRat...\n",
       "4          18  {u'productReview': {u'status': 1, u'overallRat..."
      ]
     },
     "execution_count": 90,
     "metadata": {},
     "output_type": "execute_result"
    }
   ],
   "source": [
    "p.productReviews()"
   ]
  },
  {
   "cell_type": "code",
   "execution_count": 171,
   "metadata": {
    "collapsed": false,
    "scrolled": false
   },
   "outputs": [
    {
     "data": {
      "text/html": [
       "<div>\n",
       "<table border=\"1\" class=\"dataframe\">\n",
       "  <thead>\n",
       "    <tr style=\"text-align: right;\">\n",
       "      <th></th>\n",
       "      <th>productReview</th>\n",
       "      <th>member</th>\n",
       "      <th>product</th>\n",
       "      <th>likeStats</th>\n",
       "      <th>stats</th>\n",
       "      <th>helpful</th>\n",
       "      <th>overallRating</th>\n",
       "      <th>totalRatings</th>\n",
       "      <th>wasHelpful</th>\n",
       "      <th>likeCount</th>\n",
       "      <th>commentCount</th>\n",
       "      <th>helpfulTotal</th>\n",
       "      <th>userRating</th>\n",
       "      <th>flavorRatings</th>\n",
       "    </tr>\n",
       "  </thead>\n",
       "  <tbody>\n",
       "    <tr>\n",
       "      <th>0</th>\n",
       "      <td>{u'status': 1, u'overallRating': None, u'verif...</td>\n",
       "      <td>{u'username': u'AmenDela', u'profilePicPath': ...</td>\n",
       "      <td>{u'imageMedium': u'http://store.bbcomcdn.com/i...</td>\n",
       "      <td>None</td>\n",
       "      <td>{u'weightChange': None, u'weight': u'180.0', u...</td>\n",
       "      <td>0</td>\n",
       "      <td>8.1</td>\n",
       "      <td>7</td>\n",
       "      <td>None</td>\n",
       "      <td>None</td>\n",
       "      <td>0</td>\n",
       "      <td>1</td>\n",
       "      <td>{u'overallRating': 5, u'totalRatings': None, u...</td>\n",
       "      <td>None</td>\n",
       "    </tr>\n",
       "  </tbody>\n",
       "</table>\n",
       "</div>"
      ],
      "text/plain": [
       "                                       productReview  \\\n",
       "0  {u'status': 1, u'overallRating': None, u'verif...   \n",
       "\n",
       "                                              member  \\\n",
       "0  {u'username': u'AmenDela', u'profilePicPath': ...   \n",
       "\n",
       "                                             product likeStats  \\\n",
       "0  {u'imageMedium': u'http://store.bbcomcdn.com/i...      None   \n",
       "\n",
       "                                               stats helpful overallRating  \\\n",
       "0  {u'weightChange': None, u'weight': u'180.0', u...       0           8.1   \n",
       "\n",
       "  totalRatings wasHelpful likeCount commentCount helpfulTotal  \\\n",
       "0            7       None      None            0            1   \n",
       "\n",
       "                                          userRating flavorRatings  \n",
       "0  {u'overallRating': 5, u'totalRatings': None, u...          None  "
      ]
     },
     "execution_count": 171,
     "metadata": {},
     "output_type": "execute_result"
    }
   ],
   "source": [
    "data1 = pd.DataFrame(np.array([p.productReviews[0].values()]), columns = p.productReviews[0].keys())\n",
    "def new_cols():\n",
    "    new_rows = pd.DataFrame()"
   ]
  },
  {
   "cell_type": "code",
   "execution_count": 135,
   "metadata": {
    "collapsed": false,
    "scrolled": false
   },
   "outputs": [
    {
     "data": {
      "text/plain": [
       "[u'productReview',\n",
       " u'member',\n",
       " u'product',\n",
       " u'likeStats',\n",
       " u'stats',\n",
       " u'helpful',\n",
       " u'overallRating',\n",
       " u'totalRatings',\n",
       " u'wasHelpful',\n",
       " u'likeCount',\n",
       " u'commentCount',\n",
       " u'helpfulTotal',\n",
       " u'userRating',\n",
       " u'flavorRatings']"
      ]
     },
     "execution_count": 135,
     "metadata": {},
     "output_type": "execute_result"
    }
   ],
   "source": [
    "p.productReviews[0].keys()"
   ]
  },
  {
   "cell_type": "code",
   "execution_count": 167,
   "metadata": {
    "collapsed": false
   },
   "outputs": [
    {
     "data": {
      "text/plain": [
       "(['a', 'c', 'b'], ['1', '3', '2'])"
      ]
     },
     "execution_count": 167,
     "metadata": {},
     "output_type": "execute_result"
    }
   ],
   "source": [
    "ugh = {'a':'1','b':'2','c':'3'}\n",
    "dfugh = pd.DataFrame(np.array([ugh.values()]), columns = ugh.keys())\n",
    "ugh.keys(), ugh.values()"
   ]
  },
  {
   "cell_type": "code",
   "execution_count": 168,
   "metadata": {
    "collapsed": false
   },
   "outputs": [
    {
     "data": {
      "text/html": [
       "<div>\n",
       "<table border=\"1\" class=\"dataframe\">\n",
       "  <thead>\n",
       "    <tr style=\"text-align: right;\">\n",
       "      <th></th>\n",
       "      <th>a</th>\n",
       "      <th>c</th>\n",
       "      <th>b</th>\n",
       "    </tr>\n",
       "  </thead>\n",
       "  <tbody>\n",
       "    <tr>\n",
       "      <th>0</th>\n",
       "      <td>1</td>\n",
       "      <td>3</td>\n",
       "      <td>2</td>\n",
       "    </tr>\n",
       "  </tbody>\n",
       "</table>\n",
       "</div>"
      ],
      "text/plain": [
       "   a  c  b\n",
       "0  1  3  2"
      ]
     },
     "execution_count": 168,
     "metadata": {},
     "output_type": "execute_result"
    }
   ],
   "source": [
    "dfugh"
   ]
  },
  {
   "cell_type": "code",
   "execution_count": null,
   "metadata": {
    "collapsed": true
   },
   "outputs": [],
   "source": []
  },
  {
   "cell_type": "code",
   "execution_count": 166,
   "metadata": {
    "collapsed": false
   },
   "outputs": [
    {
     "data": {
      "text/html": [
       "<div>\n",
       "<table border=\"1\" class=\"dataframe\">\n",
       "  <thead>\n",
       "    <tr style=\"text-align: right;\">\n",
       "      <th></th>\n",
       "      <th>a</th>\n",
       "      <th>b</th>\n",
       "      <th>c</th>\n",
       "      <th>d</th>\n",
       "      <th>e</th>\n",
       "    </tr>\n",
       "  </thead>\n",
       "  <tbody>\n",
       "    <tr>\n",
       "      <th>0</th>\n",
       "      <td>1</td>\n",
       "      <td>2</td>\n",
       "      <td>3</td>\n",
       "      <td>4</td>\n",
       "      <td>5</td>\n",
       "    </tr>\n",
       "  </tbody>\n",
       "</table>\n",
       "</div>"
      ],
      "text/plain": [
       "   a  b  c  d  e\n",
       "0  1  2  3  4  5"
      ]
     },
     "execution_count": 166,
     "metadata": {},
     "output_type": "execute_result"
    }
   ],
   "source": [
    "df3 = pd.DataFrame([np.random.randn(10, 5)], columns=['a', 'b', 'c', 'd', 'e'])\n",
    "df3"
   ]
  },
  {
   "cell_type": "code",
   "execution_count": 107,
   "metadata": {
    "collapsed": false
   },
   "outputs": [
    {
     "data": {
      "text/plain": [
       "[u'productReview',\n",
       " u'member',\n",
       " u'product',\n",
       " u'likeStats',\n",
       " u'stats',\n",
       " u'helpful',\n",
       " u'overallRating',\n",
       " u'totalRatings',\n",
       " u'wasHelpful',\n",
       " u'likeCount',\n",
       " u'commentCount',\n",
       " u'helpfulTotal',\n",
       " u'userRating',\n",
       " u'flavorRatings']"
      ]
     },
     "execution_count": 107,
     "metadata": {},
     "output_type": "execute_result"
    }
   ],
   "source": [
    "p.productReviews[0].keys()"
   ]
  },
  {
   "cell_type": "code",
   "execution_count": 68,
   "metadata": {
    "collapsed": false
   },
   "outputs": [
    {
     "data": {
      "text/plain": [
       "str"
      ]
     },
     "execution_count": 68,
     "metadata": {},
     "output_type": "execute_result"
    }
   ],
   "source": [
    "a = df.productReviews[0]\n",
    "type(a)"
   ]
  },
  {
   "cell_type": "code",
   "execution_count": 419,
   "metadata": {
    "collapsed": false
   },
   "outputs": [
    {
     "ename": "TypeError",
     "evalue": "'NoneType' object has no attribute '__getitem__'",
     "output_type": "error",
     "traceback": [
      "\u001b[0;31m---------------------------------------------------------------------------\u001b[0m",
      "\u001b[0;31mTypeError\u001b[0m                                 Traceback (most recent call last)",
      "\u001b[0;32m/Users/gSchool/Desktop/bodyscrape/Capstone/bodymodeling.py\u001b[0m in \u001b[0;36m<module>\u001b[0;34m()\u001b[0m\n\u001b[1;32m     37\u001b[0m \u001b[0;32mif\u001b[0m \u001b[0m__name__\u001b[0m \u001b[0;34m==\u001b[0m \u001b[0;34m'__main__'\u001b[0m\u001b[0;34m:\u001b[0m\u001b[0;34m\u001b[0m\u001b[0m\n\u001b[1;32m     38\u001b[0m     \u001b[0mmodel\u001b[0m \u001b[0;34m=\u001b[0m \u001b[0mBBmodel\u001b[0m\u001b[0;34m(\u001b[0m\u001b[0;34m)\u001b[0m\u001b[0;34m\u001b[0m\u001b[0m\n\u001b[0;32m---> 39\u001b[0;31m     \u001b[0mmodel\u001b[0m\u001b[0;34m.\u001b[0m\u001b[0madd_columns\u001b[0m\u001b[0;34m(\u001b[0m\u001b[0;34m)\u001b[0m\u001b[0;34m\u001b[0m\u001b[0m\n\u001b[0m\u001b[1;32m     40\u001b[0m     \u001b[0mmodel\u001b[0m\u001b[0;34m.\u001b[0m\u001b[0mdel_columns\u001b[0m\u001b[0;34m(\u001b[0m\u001b[0;34m)\u001b[0m\u001b[0;34m\u001b[0m\u001b[0m\n\u001b[1;32m     41\u001b[0m     \u001b[0mmodel\u001b[0m\u001b[0;34m.\u001b[0m\u001b[0mcheck_useless\u001b[0m\u001b[0;34m(\u001b[0m\u001b[0;34m)\u001b[0m\u001b[0;34m\u001b[0m\u001b[0m\n",
      "\u001b[0;32m/Users/gSchool/Desktop/bodyscrape/Capstone/bodymodeling.py\u001b[0m in \u001b[0;36madd_columns\u001b[0;34m(self)\u001b[0m\n\u001b[1;32m     25\u001b[0m                 \u001b[0;32mfor\u001b[0m \u001b[0msub_col\u001b[0m \u001b[0;32min\u001b[0m \u001b[0mself\u001b[0m\u001b[0;34m.\u001b[0m\u001b[0mdf\u001b[0m\u001b[0;34m[\u001b[0m\u001b[0mnew_col\u001b[0m\u001b[0;34m]\u001b[0m\u001b[0;34m[\u001b[0m\u001b[0;36m0\u001b[0m\u001b[0;34m]\u001b[0m\u001b[0;34m.\u001b[0m\u001b[0mkeys\u001b[0m\u001b[0;34m(\u001b[0m\u001b[0;34m)\u001b[0m\u001b[0;34m:\u001b[0m\u001b[0;34m\u001b[0m\u001b[0m\n\u001b[1;32m     26\u001b[0m                     self.df[sub_col] = [self.df[new_col][j][sub_col] \\\n\u001b[0;32m---> 27\u001b[0;31m                     for j in xrange(self.df.shape[0])]\n\u001b[0m\u001b[1;32m     28\u001b[0m \u001b[0;31m#works when method called in terminal\u001b[0m\u001b[0;34m\u001b[0m\u001b[0;34m\u001b[0m\u001b[0m\n\u001b[1;32m     29\u001b[0m     \u001b[0;32mdef\u001b[0m \u001b[0mdel_columns\u001b[0m\u001b[0;34m(\u001b[0m\u001b[0mself\u001b[0m\u001b[0;34m)\u001b[0m\u001b[0;34m:\u001b[0m\u001b[0;34m\u001b[0m\u001b[0m\n",
      "\u001b[0;31mTypeError\u001b[0m: 'NoneType' object has no attribute '__getitem__'"
     ]
    }
   ],
   "source": [
    "run bodymodeling.py"
   ]
  },
  {
   "cell_type": "code",
   "execution_count": 424,
   "metadata": {
    "collapsed": false,
    "scrolled": true
   },
   "outputs": [
    {
     "ename": "TypeError",
     "evalue": "unhashable type: 'dict'",
     "output_type": "error",
     "traceback": [
      "\u001b[0;31m---------------------------------------------------------------------------\u001b[0m",
      "\u001b[0;31mTypeError\u001b[0m                                 Traceback (most recent call last)",
      "\u001b[0;32m<ipython-input-424-fe359647a984>\u001b[0m in \u001b[0;36m<module>\u001b[0;34m()\u001b[0m\n\u001b[0;32m----> 1\u001b[0;31m \u001b[0mmodel\u001b[0m\u001b[0;34m.\u001b[0m\u001b[0mcheck_useless\u001b[0m\u001b[0;34m(\u001b[0m\u001b[0;34m)\u001b[0m\u001b[0;34m\u001b[0m\u001b[0m\n\u001b[0m",
      "\u001b[0;32m/Users/gSchool/Desktop/bodyscrape/Capstone/bodymodeling.py\u001b[0m in \u001b[0;36mcheck_useless\u001b[0;34m(self)\u001b[0m\n\u001b[1;32m     32\u001b[0m     \u001b[0;32mdef\u001b[0m \u001b[0mcheck_useless\u001b[0m\u001b[0;34m(\u001b[0m\u001b[0mself\u001b[0m\u001b[0;34m)\u001b[0m\u001b[0;34m:\u001b[0m\u001b[0;34m\u001b[0m\u001b[0m\n\u001b[1;32m     33\u001b[0m         \u001b[0;32mfor\u001b[0m \u001b[0mcol\u001b[0m \u001b[0;32min\u001b[0m \u001b[0mself\u001b[0m\u001b[0;34m.\u001b[0m\u001b[0mdf\u001b[0m\u001b[0;34m.\u001b[0m\u001b[0mcolumns\u001b[0m\u001b[0;34m:\u001b[0m\u001b[0;34m\u001b[0m\u001b[0m\n\u001b[0;32m---> 34\u001b[0;31m             \u001b[0;32mif\u001b[0m \u001b[0mlen\u001b[0m\u001b[0;34m(\u001b[0m\u001b[0mself\u001b[0m\u001b[0;34m.\u001b[0m\u001b[0mdf\u001b[0m\u001b[0;34m[\u001b[0m\u001b[0mcol\u001b[0m\u001b[0;34m]\u001b[0m\u001b[0;34m.\u001b[0m\u001b[0munique\u001b[0m\u001b[0;34m(\u001b[0m\u001b[0;34m)\u001b[0m\u001b[0;34m)\u001b[0m \u001b[0;34m==\u001b[0m\u001b[0;36m1\u001b[0m\u001b[0;34m:\u001b[0m\u001b[0;34m\u001b[0m\u001b[0m\n\u001b[0m\u001b[1;32m     35\u001b[0m                 \u001b[0mself\u001b[0m\u001b[0;34m.\u001b[0m\u001b[0mdf\u001b[0m\u001b[0;34m.\u001b[0m\u001b[0mdrop\u001b[0m\u001b[0;34m(\u001b[0m\u001b[0mcol\u001b[0m\u001b[0;34m,\u001b[0m \u001b[0maxis\u001b[0m\u001b[0;34m=\u001b[0m\u001b[0;36m1\u001b[0m\u001b[0;34m,\u001b[0m \u001b[0minplace\u001b[0m\u001b[0;34m=\u001b[0m\u001b[0mTrue\u001b[0m\u001b[0;34m)\u001b[0m\u001b[0;34m\u001b[0m\u001b[0m\n\u001b[1;32m     36\u001b[0m \u001b[0;34m\u001b[0m\u001b[0m\n",
      "\u001b[0;32m/Users/gSchool/anaconda2/lib/python2.7/site-packages/pandas/core/base.pyc\u001b[0m in \u001b[0;36munique\u001b[0;34m(self)\u001b[0m\n\u001b[1;32m    962\u001b[0m             \u001b[0;32mreturn\u001b[0m \u001b[0mvalues\u001b[0m\u001b[0;34m.\u001b[0m\u001b[0munique\u001b[0m\u001b[0;34m(\u001b[0m\u001b[0;34m)\u001b[0m\u001b[0;34m\u001b[0m\u001b[0m\n\u001b[1;32m    963\u001b[0m \u001b[0;34m\u001b[0m\u001b[0m\n\u001b[0;32m--> 964\u001b[0;31m         \u001b[0;32mreturn\u001b[0m \u001b[0munique1d\u001b[0m\u001b[0;34m(\u001b[0m\u001b[0mvalues\u001b[0m\u001b[0;34m)\u001b[0m\u001b[0;34m\u001b[0m\u001b[0m\n\u001b[0m\u001b[1;32m    965\u001b[0m \u001b[0;34m\u001b[0m\u001b[0m\n\u001b[1;32m    966\u001b[0m     \u001b[0;32mdef\u001b[0m \u001b[0mnunique\u001b[0m\u001b[0;34m(\u001b[0m\u001b[0mself\u001b[0m\u001b[0;34m,\u001b[0m \u001b[0mdropna\u001b[0m\u001b[0;34m=\u001b[0m\u001b[0mTrue\u001b[0m\u001b[0;34m)\u001b[0m\u001b[0;34m:\u001b[0m\u001b[0;34m\u001b[0m\u001b[0m\n",
      "\u001b[0;32m/Users/gSchool/anaconda2/lib/python2.7/site-packages/pandas/core/nanops.pyc\u001b[0m in \u001b[0;36munique1d\u001b[0;34m(values)\u001b[0m\n\u001b[1;32m    794\u001b[0m     \u001b[0;32melse\u001b[0m\u001b[0;34m:\u001b[0m\u001b[0;34m\u001b[0m\u001b[0m\n\u001b[1;32m    795\u001b[0m         \u001b[0mtable\u001b[0m \u001b[0;34m=\u001b[0m \u001b[0m_hash\u001b[0m\u001b[0;34m.\u001b[0m\u001b[0mPyObjectHashTable\u001b[0m\u001b[0;34m(\u001b[0m\u001b[0mlen\u001b[0m\u001b[0;34m(\u001b[0m\u001b[0mvalues\u001b[0m\u001b[0;34m)\u001b[0m\u001b[0;34m)\u001b[0m\u001b[0;34m\u001b[0m\u001b[0m\n\u001b[0;32m--> 796\u001b[0;31m         \u001b[0muniques\u001b[0m \u001b[0;34m=\u001b[0m \u001b[0mtable\u001b[0m\u001b[0;34m.\u001b[0m\u001b[0munique\u001b[0m\u001b[0;34m(\u001b[0m\u001b[0m_ensure_object\u001b[0m\u001b[0;34m(\u001b[0m\u001b[0mvalues\u001b[0m\u001b[0;34m)\u001b[0m\u001b[0;34m)\u001b[0m\u001b[0;34m\u001b[0m\u001b[0m\n\u001b[0m\u001b[1;32m    797\u001b[0m     \u001b[0;32mreturn\u001b[0m \u001b[0muniques\u001b[0m\u001b[0;34m\u001b[0m\u001b[0m\n",
      "\u001b[0;32mpandas/hashtable.pyx\u001b[0m in \u001b[0;36mpandas.hashtable.PyObjectHashTable.unique (pandas/hashtable.c:13585)\u001b[0;34m()\u001b[0m\n",
      "\u001b[0;31mTypeError\u001b[0m: unhashable type: 'dict'"
     ]
    }
   ],
   "source": [
    "model.check_useless()"
   ]
  },
  {
   "cell_type": "code",
   "execution_count": 433,
   "metadata": {
    "collapsed": false
   },
   "outputs": [
    {
     "data": {
      "text/plain": [
       "True"
      ]
     },
     "execution_count": 433,
     "metadata": {},
     "output_type": "execute_result"
    }
   ],
   "source": [
    "len(model.df['briefDescription'].unique()) == 1"
   ]
  },
  {
   "cell_type": "code",
   "execution_count": 437,
   "metadata": {
    "collapsed": false
   },
   "outputs": [
    {
     "name": "stdout",
     "output_type": "stream",
     "text": [
      "False\n",
      "False\n",
      "False\n",
      "False\n",
      "False\n"
     ]
    },
    {
     "ename": "TypeError",
     "evalue": "unhashable type: 'dict'",
     "output_type": "error",
     "traceback": [
      "\u001b[0;31m---------------------------------------------------------------------------\u001b[0m",
      "\u001b[0;31mTypeError\u001b[0m                                 Traceback (most recent call last)",
      "\u001b[0;32m<ipython-input-437-29faaabce1a5>\u001b[0m in \u001b[0;36m<module>\u001b[0;34m()\u001b[0m\n\u001b[1;32m      1\u001b[0m \u001b[0;32mfor\u001b[0m \u001b[0mi\u001b[0m \u001b[0;32min\u001b[0m \u001b[0mmodel\u001b[0m\u001b[0;34m.\u001b[0m\u001b[0mdf\u001b[0m\u001b[0;34m.\u001b[0m\u001b[0mcolumns\u001b[0m\u001b[0;34m:\u001b[0m\u001b[0;34m\u001b[0m\u001b[0m\n\u001b[0;32m----> 2\u001b[0;31m     \u001b[0;32mprint\u001b[0m \u001b[0mlen\u001b[0m\u001b[0;34m(\u001b[0m\u001b[0mmodel\u001b[0m\u001b[0;34m.\u001b[0m\u001b[0mdf\u001b[0m\u001b[0;34m[\u001b[0m\u001b[0mi\u001b[0m\u001b[0;34m]\u001b[0m\u001b[0;34m.\u001b[0m\u001b[0munique\u001b[0m\u001b[0;34m(\u001b[0m\u001b[0;34m)\u001b[0m\u001b[0;34m)\u001b[0m \u001b[0;34m==\u001b[0m\u001b[0;36m1\u001b[0m\u001b[0;34m\u001b[0m\u001b[0m\n\u001b[0m",
      "\u001b[0;32m/Users/gSchool/anaconda2/lib/python2.7/site-packages/pandas/core/base.pyc\u001b[0m in \u001b[0;36munique\u001b[0;34m(self)\u001b[0m\n\u001b[1;32m    962\u001b[0m             \u001b[0;32mreturn\u001b[0m \u001b[0mvalues\u001b[0m\u001b[0;34m.\u001b[0m\u001b[0munique\u001b[0m\u001b[0;34m(\u001b[0m\u001b[0;34m)\u001b[0m\u001b[0;34m\u001b[0m\u001b[0m\n\u001b[1;32m    963\u001b[0m \u001b[0;34m\u001b[0m\u001b[0m\n\u001b[0;32m--> 964\u001b[0;31m         \u001b[0;32mreturn\u001b[0m \u001b[0munique1d\u001b[0m\u001b[0;34m(\u001b[0m\u001b[0mvalues\u001b[0m\u001b[0;34m)\u001b[0m\u001b[0;34m\u001b[0m\u001b[0m\n\u001b[0m\u001b[1;32m    965\u001b[0m \u001b[0;34m\u001b[0m\u001b[0m\n\u001b[1;32m    966\u001b[0m     \u001b[0;32mdef\u001b[0m \u001b[0mnunique\u001b[0m\u001b[0;34m(\u001b[0m\u001b[0mself\u001b[0m\u001b[0;34m,\u001b[0m \u001b[0mdropna\u001b[0m\u001b[0;34m=\u001b[0m\u001b[0mTrue\u001b[0m\u001b[0;34m)\u001b[0m\u001b[0;34m:\u001b[0m\u001b[0;34m\u001b[0m\u001b[0m\n",
      "\u001b[0;32m/Users/gSchool/anaconda2/lib/python2.7/site-packages/pandas/core/nanops.pyc\u001b[0m in \u001b[0;36munique1d\u001b[0;34m(values)\u001b[0m\n\u001b[1;32m    794\u001b[0m     \u001b[0;32melse\u001b[0m\u001b[0;34m:\u001b[0m\u001b[0;34m\u001b[0m\u001b[0m\n\u001b[1;32m    795\u001b[0m         \u001b[0mtable\u001b[0m \u001b[0;34m=\u001b[0m \u001b[0m_hash\u001b[0m\u001b[0;34m.\u001b[0m\u001b[0mPyObjectHashTable\u001b[0m\u001b[0;34m(\u001b[0m\u001b[0mlen\u001b[0m\u001b[0;34m(\u001b[0m\u001b[0mvalues\u001b[0m\u001b[0;34m)\u001b[0m\u001b[0;34m)\u001b[0m\u001b[0;34m\u001b[0m\u001b[0m\n\u001b[0;32m--> 796\u001b[0;31m         \u001b[0muniques\u001b[0m \u001b[0;34m=\u001b[0m \u001b[0mtable\u001b[0m\u001b[0;34m.\u001b[0m\u001b[0munique\u001b[0m\u001b[0;34m(\u001b[0m\u001b[0m_ensure_object\u001b[0m\u001b[0;34m(\u001b[0m\u001b[0mvalues\u001b[0m\u001b[0;34m)\u001b[0m\u001b[0;34m)\u001b[0m\u001b[0;34m\u001b[0m\u001b[0m\n\u001b[0m\u001b[1;32m    797\u001b[0m     \u001b[0;32mreturn\u001b[0m \u001b[0muniques\u001b[0m\u001b[0;34m\u001b[0m\u001b[0m\n",
      "\u001b[0;32mpandas/hashtable.pyx\u001b[0m in \u001b[0;36mpandas.hashtable.PyObjectHashTable.unique (pandas/hashtable.c:13585)\u001b[0;34m()\u001b[0m\n",
      "\u001b[0;31mTypeError\u001b[0m: unhashable type: 'dict'"
     ]
    }
   ],
   "source": [
    "for i in model.df.columns:\n",
    "    print len(model.df[i].unique()) ==1\n"
   ]
  },
  {
   "cell_type": "code",
   "execution_count": 444,
   "metadata": {
    "collapsed": false
   },
   "outputs": [
    {
     "name": "stdout",
     "output_type": "stream",
     "text": [
      "3\n",
      "3\n",
      "3\n"
     ]
    }
   ],
   "source": [
    "for rating in model.df.userRating[:3]:\n",
    "    print len(rating)"
   ]
  },
  {
   "cell_type": "code",
   "execution_count": null,
   "metadata": {
    "collapsed": true
   },
   "outputs": [],
   "source": []
  }
 ],
 "metadata": {
  "kernelspec": {
   "display_name": "Python [Root]",
   "language": "python",
   "name": "Python [Root]"
  },
  "language_info": {
   "codemirror_mode": {
    "name": "ipython",
    "version": 2
   },
   "file_extension": ".py",
   "mimetype": "text/x-python",
   "name": "python",
   "nbconvert_exporter": "python",
   "pygments_lexer": "ipython2",
   "version": "2.7.12"
  }
 },
 "nbformat": 4,
 "nbformat_minor": 0
}
