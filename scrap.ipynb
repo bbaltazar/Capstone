{
 "cells": [
  {
   "cell_type": "code",
   "execution_count": 14,
   "metadata": {
    "collapsed": true
   },
   "outputs": [],
   "source": [
    "import requests\n",
    "from bs4 import BeautifulSoup"
   ]
  },
  {
   "cell_type": "code",
   "execution_count": 15,
   "metadata": {
    "collapsed": true
   },
   "outputs": [],
   "source": [
    "from pymongo import MongoClient"
   ]
  },
  {
   "cell_type": "code",
   "execution_count": 16,
   "metadata": {
    "collapsed": false
   },
   "outputs": [],
   "source": [
    "client = MongoClient()\n",
    "db = client['bodyscrape']\n",
    "coll = db['products']"
   ]
  },
  {
   "cell_type": "code",
   "execution_count": 17,
   "metadata": {
    "collapsed": false
   },
   "outputs": [
    {
     "data": {
      "text/plain": [
       "{u'_id': ObjectId('582bae5cda7a2222e35f28c1'), u'uh': u'cmon'}"
      ]
     },
     "execution_count": 17,
     "metadata": {},
     "output_type": "execute_result"
    }
   ],
   "source": [
    "coll.find_one()"
   ]
  },
  {
   "cell_type": "code",
   "execution_count": 18,
   "metadata": {
    "collapsed": false
   },
   "outputs": [
    {
     "data": {
      "text/plain": [
       "{u'_id': ObjectId('582bae5cda7a2222e35f28c1'), u'uh': u'cmon'}"
      ]
     },
     "execution_count": 18,
     "metadata": {},
     "output_type": "execute_result"
    }
   ],
   "source": [
    "coll.find_one()"
   ]
  },
  {
   "cell_type": "code",
   "execution_count": 20,
   "metadata": {
    "collapsed": false
   },
   "outputs": [],
   "source": [
    "def insert_product(num):\n",
    "    '''\n",
    "    Inserts JSON dictionary entries into db.products collection\n",
    "    '''\n",
    "    params = {\\\n",
    "          'page':1,\n",
    "      'reviewType':'verified',\n",
    "      'size':500} # foo.json()['totalItems'] gives total size but cannot call until foo.json initiated\n",
    "    headers = {\\\n",
    "               'Accept':'application/json',\n",
    "    'Accept-Encoding':'gzip, deflate, sdch, br',\n",
    "    'Accept-Language':'en-US,en;q=0.8',\n",
    "    'BB-App':'product-detail-app, 5.1.3',\n",
    "    'Connection':'keep-alive',\n",
    "    'Host':'catalog.bodybuilding.com',\n",
    "    'Origin':'http://www.bodybuilding.com',\n",
    "    'User-Agent':'Mozilla/5.0 (Linux; Android 6.0; Nexus 5 Build/MRA58N) \\\n",
    "    AppleWebKit/537.36 (KHTML, like Gecko) Chrome/46.0.2490.76 Mobile Safari/537.36}'\n",
    "              }\n",
    "    url = 'https://catalog.bodybuilding.com/products/'+str(num)+'/reviews'\n",
    "    r = requests.get(url, headers=headers, params=params)\n",
    "    r_json = r.json()\n",
    "    return r_json"
   ]
  },
  {
   "cell_type": "code",
   "execution_count": 23,
   "metadata": {
    "collapsed": true
   },
   "outputs": [],
   "source": [
    "test = insert_product('24175')"
   ]
  },
  {
   "cell_type": "code",
   "execution_count": 24,
   "metadata": {
    "collapsed": false
   },
   "outputs": [
    {
     "data": {
      "text/plain": [
       "{u'productReviews': [], u'totalItems': 94}"
      ]
     },
     "execution_count": 24,
     "metadata": {},
     "output_type": "execute_result"
    }
   ],
   "source": [
    "test"
   ]
  },
  {
   "cell_type": "code",
   "execution_count": 67,
   "metadata": {
    "collapsed": false
   },
   "outputs": [],
   "source": [
    "params = {\\\n",
    "      'page':1,\n",
    "  'reviewType':'verified',\n",
    "  'size':20} # foo.json()['totalItems'] gives total size but cannot call until foo.json initiated\n",
    "headers = {\\\n",
    "           'Accept':'application/json',\n",
    "'Accept-Encoding':'gzip, deflate, sdch, br',\n",
    "'Accept-Language':'en-US,en;q=0.8',\n",
    "'BB-App':'product-detail-app, 5.1.3',\n",
    "'Connection':'keep-alive',\n",
    "'Host':'catalog.bodybuilding.com',\n",
    "'Origin':'http://www.bodybuilding.com',\n",
    "'User-Agent':'Mozilla/5.0 (Linux; Android 6.0; Nexus 5 Build/MRA58N) \\\n",
    "AppleWebKit/537.36 (KHTML, like Gecko) Chrome/46.0.2490.76 Mobile Safari/537.36}'\n",
    "          }\n",
    "\n",
    "url = 'https://catalog.bodybuilding.com/products/prod1620022/reviews'\n",
    "r = requests.get(url, headers=headers, params=params)\n"
   ]
  },
  {
   "cell_type": "code",
   "execution_count": 68,
   "metadata": {
    "collapsed": false
   },
   "outputs": [
    {
     "data": {
      "text/plain": [
       "(0, 18)"
      ]
     },
     "execution_count": 68,
     "metadata": {},
     "output_type": "execute_result"
    }
   ],
   "source": [
    "len(r.json()['productReviews']), r.json()['totalItems']"
   ]
  },
  {
   "cell_type": "code",
   "execution_count": 37,
   "metadata": {
    "collapsed": false
   },
   "outputs": [],
   "source": [
    "headers = {\\\n",
    "           'Accept':'application/json',\n",
    "'Accept-Encoding':'gzip, deflate, sdch, br',\n",
    "'Accept-Language':'en-US,en;q=0.8',\n",
    "'BB-App':'product-detail-app, 5.1.3',\n",
    "'Connection':'keep-alive',\n",
    "'Host':'catalog.bodybuilding.com',\n",
    "'Origin':'http://www.bodybuilding.com',\n",
    "'User-Agent':'Mozilla/5.0 (Linux; Android 6.0; Nexus 5 Build/MRA58N) AppleWebKit/537.36 (KHTML, like Gecko) Chrome/46.0.2490.76 Mobile Safari/537.36}'\n",
    "          }\n",
    "\n",
    "def store_data(prod_num):\n",
    "    params = {\\\n",
    "              'page':1,\n",
    "          'reviewType':'verified', 'size':50}\n",
    "    url = 'https://catalog.bodybuilding.com/products/'+str(prod_num)+'/reviews'\n",
    "    foo = requests.get(url, headers=headers, params=params)\n",
    "    return foo.json()\n",
    "#    return prod_num, foo.json().keys(), foo.json().values(),\\\n",
    "#'Total items', foo.json()['totalItems'],\\\n",
    "#'Len of prodReviews:', len(foo.json()['productReviews']),\\\n",
    "#foo.json()['productReviews']"
   ]
  },
  {
   "cell_type": "code",
   "execution_count": 35,
   "metadata": {
    "collapsed": false
   },
   "outputs": [],
   "source": [
    "no_results = store_data('prod3990046')\n",
    "results = store_data('24175')"
   ]
  },
  {
   "cell_type": "code",
   "execution_count": 36,
   "metadata": {
    "collapsed": false
   },
   "outputs": [
    {
     "data": {
      "text/plain": [
       "{u'productReviews': [], u'totalItems': 94}"
      ]
     },
     "execution_count": 36,
     "metadata": {},
     "output_type": "execute_result"
    }
   ],
   "source": [
    "results"
   ]
  },
  {
   "cell_type": "code",
   "execution_count": null,
   "metadata": {
    "collapsed": false
   },
   "outputs": [],
   "source": [
    "results.content == '{\"totalItems\":0,\"productReviews\":[]}'"
   ]
  },
  {
   "cell_type": "code",
   "execution_count": null,
   "metadata": {
    "collapsed": true
   },
   "outputs": [],
   "source": [
    "z = requests.get('http://reviews.bodybuilding.com/view-reviews')"
   ]
  },
  {
   "cell_type": "code",
   "execution_count": null,
   "metadata": {
    "collapsed": false
   },
   "outputs": [],
   "source": [
    "soup = BeautifulSoup(z.content)"
   ]
  },
  {
   "cell_type": "code",
   "execution_count": null,
   "metadata": {
    "collapsed": false
   },
   "outputs": [],
   "source": [
    "soup"
   ]
  },
  {
   "cell_type": "code",
   "execution_count": null,
   "metadata": {
    "collapsed": false,
    "scrolled": true
   },
   "outputs": [],
   "source": [
    "soup.findAll(id='brandName')[18]['href']"
   ]
  },
  {
   "cell_type": "code",
   "execution_count": null,
   "metadata": {
    "collapsed": false
   },
   "outputs": [],
   "source": [
    "brand_list =[soup.findAll(id='brandName')[i]['href'] for i in xrange(len(soup.findAll(id='brandName')))]\n",
    "    "
   ]
  },
  {
   "cell_type": "code",
   "execution_count": null,
   "metadata": {
    "collapsed": false,
    "scrolled": true
   },
   "outputs": [],
   "source": [
    "\n",
    "y = requests.get(brand_list[420])\n",
    "soup_y = BeautifulSoup(y.content)\n",
    "check =soup_y.findAll(attrs={'class':'product-image'})\n",
    "check"
   ]
  },
  {
   "cell_type": "code",
   "execution_count": null,
   "metadata": {
    "collapsed": true
   },
   "outputs": [],
   "source": [
    "def "
   ]
  },
  {
   "cell_type": "code",
   "execution_count": null,
   "metadata": {
    "collapsed": false
   },
   "outputs": [],
   "source": [
    "check[0].find('img')['src'].split('image/prod_')[1].split('/')[0]"
   ]
  },
  {
   "cell_type": "code",
   "execution_count": null,
   "metadata": {
    "collapsed": false
   },
   "outputs": [],
   "source": [
    "check[1]['src']"
   ]
  },
  {
   "cell_type": "code",
   "execution_count": null,
   "metadata": {
    "collapsed": false
   },
   "outputs": [],
   "source": [
    "check[2].find('img')['src'].split('image/prod_')[1].split('/')[0]"
   ]
  },
  {
   "cell_type": "code",
   "execution_count": null,
   "metadata": {
    "collapsed": false
   },
   "outputs": [],
   "source": [
    "for i in xrange(0, len(check), 2):\n",
    "    print check[i].find('img')['src'].split('image/prod_')[1].split('/')[0]"
   ]
  },
  {
   "cell_type": "code",
   "execution_count": null,
   "metadata": {
    "collapsed": true
   },
   "outputs": [],
   "source": [
    "def find_one(url):\n",
    "    \n",
    "     \n",
    "    \n",
    "\n",
    "\n",
    "\n"
   ]
  },
  {
   "cell_type": "code",
   "execution_count": null,
   "metadata": {
    "collapsed": false
   },
   "outputs": [],
   "source": [
    "z = requests.get('http://reviews.bodybuilding.com/Allmax_Nutrition/')\n",
    "soup = BeautifulSoup(z.content)\n",
    "tags = soup.findAll(attrs={'class':'button icon end'})"
   ]
  },
  {
   "cell_type": "code",
   "execution_count": null,
   "metadata": {
    "collapsed": false,
    "scrolled": true
   },
   "outputs": [],
   "source": [
    "for tag in tags:\n",
    "    print tag"
   ]
  },
  {
   "cell_type": "code",
   "execution_count": null,
   "metadata": {
    "collapsed": true
   },
   "outputs": [],
   "source": [
    "z = requests.get('http://reviews.bodybuilding.com/gasp/')\n",
    "soup = BeautifulSoup(z.content)\n",
    "tag = soup.findAll(attrs={'class':'button icon end'})[2]\n",
    "url = tag['href'].replace('./', 'http://reviews.bodybuilding.com/gasp/')"
   ]
  },
  {
   "cell_type": "code",
   "execution_count": null,
   "metadata": {
    "collapsed": false,
    "scrolled": true
   },
   "outputs": [],
   "source": [
    "soup.findAll(attrs={'class':'button icon end'})"
   ]
  },
  {
   "cell_type": "code",
   "execution_count": null,
   "metadata": {
    "collapsed": false
   },
   "outputs": [],
   "source": [
    "tag['href']\n"
   ]
  },
  {
   "cell_type": "code",
   "execution_count": null,
   "metadata": {
    "collapsed": false
   },
   "outputs": [],
   "source": [
    "url"
   ]
  },
  {
   "cell_type": "code",
   "execution_count": null,
   "metadata": {
    "collapsed": true
   },
   "outputs": [],
   "source": [
    "headers_next_page = {'Accept':'application/xml, text/xml, */*; q=0.01',\\\n",
    "'Accept-Encoding':'gzip, deflate, sdch',\\\n",
    "'Accept-Language':'en-US,en;q=0.8',\\\n",
    "'Connection':'keep-alive',\\\n",
    "'Host':'reviews.bodybuilding.com',\\\n",
    "'Referer':'http://reviews.bodybuilding.com/gasp/',\\\n",
    "'User-Agent':'Mozilla/5.0 (Macintosh; Intel Mac OS X 10_11_2) \\\n",
    "AppleWebKit/537.36 (KHTML, like Gecko) Chrome/54.0.2840.71 Safari/537.36',\\\n",
    "'Wicket-Ajax':'true',\\\n",
    "'Wicket-Ajax-BaseURL':'gasp/',\\\n",
    "'Wicket-FocusedElementId':'id33',\\\n",
    "'X-Requested-With':'XMLHttpRequest'\\\n",
    "}\n",
    "url = 'http://reviews.bodybuilding.com/gasp/?6-1.ILinkListener-products~container-productspanel-productsgroup-data~view~container-top~paginator-next&dataProvider=com.bodybuilding.reviews.providers.ProductDataProvider@7ccf59ba'\n",
    "foo = requests.get(url, headers=headers_next_page)"
   ]
  },
  {
   "cell_type": "code",
   "execution_count": 8,
   "metadata": {
    "collapsed": true
   },
   "outputs": [],
   "source": [
    "test =insert_product(24157)"
   ]
  },
  {
   "cell_type": "code",
   "execution_count": 9,
   "metadata": {
    "collapsed": false
   },
   "outputs": [
    {
     "data": {
      "text/plain": [
       "{u'commentCount': 0,\n",
       " u'flavorRatings': None,\n",
       " u'helpful': 0,\n",
       " u'helpfulTotal': 2,\n",
       " u'likeCount': None,\n",
       " u'likeStats': None,\n",
       " u'member': {u'activated': False,\n",
       "  u'emailAddress': None,\n",
       "  u'gender': None,\n",
       "  u'groupId': None,\n",
       "  u'joinDate': None,\n",
       "  u'lastActivity': None,\n",
       "  u'photoCount': 0,\n",
       "  u'profilePicAvatarPath': None,\n",
       "  u'profilePicOriginalPath': None,\n",
       "  u'profilePicPath': u'http://assets.bodybuilding.com/images/profiledefault_thumb.jpg',\n",
       "  u'profilePicThumbPath': None,\n",
       "  u'profileURL': None,\n",
       "  u'realName': None,\n",
       "  u'slug': u'kevpadil',\n",
       "  u'userId': 66093222,\n",
       "  u'username': u'kevpadil',\n",
       "  u'vbuserId': 0},\n",
       " u'overallRating': 9.2,\n",
       " u'product': None,\n",
       " u'productReview': {u'_id': u'55e3d4b40cf223f697d2c499',\n",
       "  u'brandId': u'BRAND_OPTIMUM',\n",
       "  u'date': 1441055361000,\n",
       "  u'entityId': u'productreview-24157',\n",
       "  u'modDate': 1441055361000,\n",
       "  u'overallRating': None,\n",
       "  u'productId': u'24157',\n",
       "  u'skuList': None,\n",
       "  u'slug': u'kevpadil',\n",
       "  u'status': 1,\n",
       "  u'text': u'very unhappy that 3 out the 5 choices for bulk 10lb purchase are chocolate of some kind. i hate chocolate, and i love your product,  why havnt you added more flavors to this line, banana or strawberry bannana would be great as my only other choices are vanilla and strawberry which get old! this stuff gets very expensive and u can only stand a flavor soooo long. PLEASE, ADD MORE CHOICES FOR 10 LB BAG !!!\\r\\n\\r\\nwhy the hell is the 8lb bag more affordable per serving than a 10lb bag.*****',\n",
       "  u'title': u'',\n",
       "  u'totalRatings': None,\n",
       "  u'updateStatusReason': None,\n",
       "  u'userId': 66093222,\n",
       "  u'username': u'kevpadil',\n",
       "  u'verified': True},\n",
       " u'stats': None,\n",
       " u'totalRatings': 10425,\n",
       " u'userRating': {u'overallRating': 1.0,\n",
       "  u'ratings': [{u'flavor': u'Strawberry Banana',\n",
       "    u'id': u'24157-strawberry_banana',\n",
       "    u'rating': 10.0,\n",
       "    u'totalRatings': 1}],\n",
       "  u'totalRatings': None},\n",
       " u'wasHelpful': None}"
      ]
     },
     "execution_count": 9,
     "metadata": {},
     "output_type": "execute_result"
    }
   ],
   "source": [
    "test['productReviews'][0]"
   ]
  },
  {
   "cell_type": "code",
   "execution_count": 14,
   "metadata": {
    "collapsed": true
   },
   "outputs": [],
   "source": [
    "test2 =insert_product('prod2240118')"
   ]
  },
  {
   "cell_type": "code",
   "execution_count": 15,
   "metadata": {
    "collapsed": false
   },
   "outputs": [
    {
     "data": {
      "text/plain": [
       "{u'productReviews': [], u'totalItems': 0}"
      ]
     },
     "execution_count": 15,
     "metadata": {},
     "output_type": "execute_result"
    }
   ],
   "source": [
    "test2"
   ]
  },
  {
   "cell_type": "code",
   "execution_count": null,
   "metadata": {
    "collapsed": true
   },
   "outputs": [],
   "source": [
    "['prod2240118',\n",
    " 'prod2240120',\n",
    " 'prod2250018',\n",
    " 'prod2250012',\n",
    " 'prod2250008',\n",
    " 'prod2250010',\n",
    " 'prod2240116',\n",
    " 'prod2240122',\n",
    " 'prod2240112',\n",
    " 'prod3650082',\n",
    " 'prod3650102',\n",
    " 'prod3950002',\n",
    " 'prod2240110',\n",
    " 'prod2240108',\n",
    " 'prod2240106',\n",
    " 'prod2240090',\n",
    " 'prod2240088',\n",
    " 'prod2240086',\n",
    " 'prod2240084',\n",
    " 'prod2240060',\n",
    " 'prod3810021',\n",
    " 'prod3200001',\n",
    " 'prod1620020',\n",
    " 'prod1620022',\n",
    " 'prod3990046',\n",
    " 'prod1620026',\n",
    " 'prod4290006',\n",
    " 'prod4080003',\n",
    " 'prod3150002',\n",
    " 'prod2990043',\n",
    " 'prod1620028',\n",
    " 'prod3100003',\n",
    " 'prod1840030']"
   ]
  },
  {
   "cell_type": "code",
   "execution_count": null,
   "metadata": {
    "collapsed": true
   },
   "outputs": [],
   "source": []
  },
  {
   "cell_type": "code",
   "execution_count": null,
   "metadata": {
    "collapsed": true
   },
   "outputs": [],
   "source": []
  }
 ],
 "metadata": {
  "kernelspec": {
   "display_name": "Python [Root]",
   "language": "python",
   "name": "Python [Root]"
  },
  "language_info": {
   "codemirror_mode": {
    "name": "ipython",
    "version": 2
   },
   "file_extension": ".py",
   "mimetype": "text/x-python",
   "name": "python",
   "nbconvert_exporter": "python",
   "pygments_lexer": "ipython2",
   "version": "2.7.12"
  }
 },
 "nbformat": 4,
 "nbformat_minor": 0
}
