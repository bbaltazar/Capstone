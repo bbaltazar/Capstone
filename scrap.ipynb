{
 "cells": [
  {
   "cell_type": "code",
   "execution_count": 43,
   "metadata": {
    "collapsed": true
   },
   "outputs": [],
   "source": [
    "import requests\n",
    "from bs4 import BeautifulSoup\n",
    "import pandas as pd\n",
    "import numpy as np"
   ]
  },
  {
   "cell_type": "code",
   "execution_count": 2,
   "metadata": {
    "collapsed": true
   },
   "outputs": [],
   "source": [
    "from pymongo import MongoClient"
   ]
  },
  {
   "cell_type": "code",
   "execution_count": 7,
   "metadata": {
    "collapsed": false
   },
   "outputs": [],
   "source": [
    "client = MongoClient()\n",
    "db = client['bodyscrape']\n",
    "coll = db['products']"
   ]
  },
  {
   "cell_type": "code",
   "execution_count": 37,
   "metadata": {
    "collapsed": false
   },
   "outputs": [],
   "source": [
    "def insert_product(num):\n",
    "    '''\n",
    "    Inserts JSON dictionary entries into db.products collection\n",
    "    '''\n",
    "    params = {\\\n",
    "#           'page':1,\n",
    "      'reviewType':'verified'}\n",
    "#       ,'size':500} # foo.json()['totalItems'] gives total size but cannot call until foo.json initiated\n",
    "    headers = {\\\n",
    "               'Accept':'application/json',\n",
    "    'Accept-Encoding':'gzip, deflate, sdch, br',\n",
    "    'Accept-Language':'en-US,en;q=0.8',\n",
    "    'BB-App':'product-detail-app, 5.1.3',\n",
    "    'Connection':'keep-alive',\n",
    "    'Host':'catalog.bodybuilding.com',\n",
    "    'Origin':'http://www.bodybuilding.com',\n",
    "    'User-Agent':'Mozilla/5.0 (Linux; Android 6.0; Nexus 5 Build/MRA58N) \\\n",
    "    AppleWebKit/537.36 (KHTML, like Gecko) Chrome/46.0.2490.76 Mobile Safari/537.36}'\n",
    "              }\n",
    "    url = 'https://catalog.bodybuilding.com/products/'+str(num)+'/reviews'\n",
    "    r = requests.get(url, headers=headers, params=params)\n",
    "    r_json = r.json()\n",
    "    return r_json"
   ]
  },
  {
   "cell_type": "code",
   "execution_count": 38,
   "metadata": {
    "collapsed": true
   },
   "outputs": [],
   "source": [
    "test = insert_product('27113')"
   ]
  },
  {
   "cell_type": "code",
   "execution_count": 41,
   "metadata": {
    "collapsed": false
   },
   "outputs": [
    {
     "data": {
      "text/plain": [
       "[u'totalItems', u'productReviews']"
      ]
     },
     "execution_count": 41,
     "metadata": {},
     "output_type": "execute_result"
    }
   ],
   "source": [
    "test.keys()"
   ]
  },
  {
   "cell_type": "code",
   "execution_count": 67,
   "metadata": {
    "collapsed": false
   },
   "outputs": [],
   "source": [
    "params = {\\\n",
    "      'page':1,\n",
    "  'reviewType':'verified',\n",
    "  'size':20} # foo.json()['totalItems'] gives total size but cannot call until foo.json initiated\n",
    "headers = {\\\n",
    "           'Accept':'application/json',\n",
    "'Accept-Encoding':'gzip, deflate, sdch, br',\n",
    "'Accept-Language':'en-US,en;q=0.8',\n",
    "'BB-App':'product-detail-app, 5.1.3',\n",
    "'Connection':'keep-alive',\n",
    "'Host':'catalog.bodybuilding.com',\n",
    "'Origin':'http://www.bodybuilding.com',\n",
    "'User-Agent':'Mozilla/5.0 (Linux; Android 6.0; Nexus 5 Build/MRA58N) \\\n",
    "AppleWebKit/537.36 (KHTML, like Gecko) Chrome/46.0.2490.76 Mobile Safari/537.36}'\n",
    "          }\n",
    "\n",
    "url = 'https://catalog.bodybuilding.com/products/prod1620022/reviews'\n",
    "r = requests.get(url, headers=headers, params=params)\n"
   ]
  },
  {
   "cell_type": "code",
   "execution_count": 68,
   "metadata": {
    "collapsed": false
   },
   "outputs": [
    {
     "data": {
      "text/plain": [
       "(0, 18)"
      ]
     },
     "execution_count": 68,
     "metadata": {},
     "output_type": "execute_result"
    }
   ],
   "source": [
    "len(r.json()['productReviews']), r.json()['totalItems']"
   ]
  },
  {
   "cell_type": "code",
   "execution_count": 37,
   "metadata": {
    "collapsed": false
   },
   "outputs": [],
   "source": [
    "headers = {\\\n",
    "           'Accept':'application/json',\n",
    "'Accept-Encoding':'gzip, deflate, sdch, br',\n",
    "'Accept-Language':'en-US,en;q=0.8',\n",
    "'BB-App':'product-detail-app, 5.1.3',\n",
    "'Connection':'keep-alive',\n",
    "'Host':'catalog.bodybuilding.com',\n",
    "'Origin':'http://www.bodybuilding.com',\n",
    "'User-Agent':'Mozilla/5.0 (Linux; Android 6.0; Nexus 5 Build/MRA58N) AppleWebKit/537.36 (KHTML, like Gecko) Chrome/46.0.2490.76 Mobile Safari/537.36}'\n",
    "          }\n",
    "\n",
    "def store_data(prod_num):\n",
    "    params = {\\\n",
    "              'page':1,\n",
    "          'reviewType':'verified', 'size':50}\n",
    "    url = 'https://catalog.bodybuilding.com/products/'+str(prod_num)+'/reviews'\n",
    "    foo = requests.get(url, headers=headers, params=params)\n",
    "    return foo.json()\n",
    "#    return prod_num, foo.json().keys(), foo.json().values(),\\\n",
    "#'Total items', foo.json()['totalItems'],\\\n",
    "#'Len of prodReviews:', len(foo.json()['productReviews']),\\\n",
    "#foo.json()['productReviews']"
   ]
  },
  {
   "cell_type": "code",
   "execution_count": 35,
   "metadata": {
    "collapsed": false
   },
   "outputs": [],
   "source": [
    "no_results = store_data('prod3990046')\n",
    "results = store_data('24175')"
   ]
  },
  {
   "cell_type": "code",
   "execution_count": 36,
   "metadata": {
    "collapsed": false
   },
   "outputs": [
    {
     "data": {
      "text/plain": [
       "{u'productReviews': [], u'totalItems': 94}"
      ]
     },
     "execution_count": 36,
     "metadata": {},
     "output_type": "execute_result"
    }
   ],
   "source": [
    "results"
   ]
  },
  {
   "cell_type": "code",
   "execution_count": null,
   "metadata": {
    "collapsed": false
   },
   "outputs": [],
   "source": [
    "results.content == '{\"totalItems\":0,\"productReviews\":[]}'"
   ]
  },
  {
   "cell_type": "code",
   "execution_count": null,
   "metadata": {
    "collapsed": true
   },
   "outputs": [],
   "source": [
    "z = requests.get('http://reviews.bodybuilding.com/view-reviews')"
   ]
  },
  {
   "cell_type": "code",
   "execution_count": null,
   "metadata": {
    "collapsed": false
   },
   "outputs": [],
   "source": [
    "soup = BeautifulSoup(z.content)"
   ]
  },
  {
   "cell_type": "code",
   "execution_count": null,
   "metadata": {
    "collapsed": false
   },
   "outputs": [],
   "source": [
    "soup"
   ]
  },
  {
   "cell_type": "code",
   "execution_count": null,
   "metadata": {
    "collapsed": false,
    "scrolled": true
   },
   "outputs": [],
   "source": [
    "soup.findAll(id='brandName')[18]['href']"
   ]
  },
  {
   "cell_type": "code",
   "execution_count": null,
   "metadata": {
    "collapsed": false
   },
   "outputs": [],
   "source": [
    "brand_list =[soup.findAll(id='brandName')[i]['href'] for i in xrange(len(soup.findAll(id='brandName')))]\n",
    "    "
   ]
  },
  {
   "cell_type": "code",
   "execution_count": null,
   "metadata": {
    "collapsed": false,
    "scrolled": true
   },
   "outputs": [],
   "source": [
    "\n",
    "y = requests.get(brand_list[420])\n",
    "soup_y = BeautifulSoup(y.content)\n",
    "check =soup_y.findAll(attrs={'class':'product-image'})\n",
    "check"
   ]
  },
  {
   "cell_type": "code",
   "execution_count": null,
   "metadata": {
    "collapsed": true
   },
   "outputs": [],
   "source": [
    "def "
   ]
  },
  {
   "cell_type": "code",
   "execution_count": null,
   "metadata": {
    "collapsed": false
   },
   "outputs": [],
   "source": [
    "check[0].find('img')['src'].split('image/prod_')[1].split('/')[0]"
   ]
  },
  {
   "cell_type": "code",
   "execution_count": null,
   "metadata": {
    "collapsed": false
   },
   "outputs": [],
   "source": [
    "check[1]['src']"
   ]
  },
  {
   "cell_type": "code",
   "execution_count": null,
   "metadata": {
    "collapsed": false
   },
   "outputs": [],
   "source": [
    "check[2].find('img')['src'].split('image/prod_')[1].split('/')[0]"
   ]
  },
  {
   "cell_type": "code",
   "execution_count": null,
   "metadata": {
    "collapsed": false
   },
   "outputs": [],
   "source": [
    "for i in xrange(0, len(check), 2):\n",
    "    print check[i].find('img')['src'].split('image/prod_')[1].split('/')[0]"
   ]
  },
  {
   "cell_type": "code",
   "execution_count": null,
   "metadata": {
    "collapsed": true
   },
   "outputs": [],
   "source": [
    "def find_one(url):\n",
    "    \n",
    "     \n",
    "    \n",
    "\n",
    "\n",
    "\n"
   ]
  },
  {
   "cell_type": "code",
   "execution_count": null,
   "metadata": {
    "collapsed": false
   },
   "outputs": [],
   "source": [
    "z = requests.get('http://reviews.bodybuilding.com/Allmax_Nutrition/')\n",
    "soup = BeautifulSoup(z.content)\n",
    "tags = soup.findAll(attrs={'class':'button icon end'})"
   ]
  },
  {
   "cell_type": "code",
   "execution_count": null,
   "metadata": {
    "collapsed": false,
    "scrolled": true
   },
   "outputs": [],
   "source": [
    "for tag in tags:\n",
    "    print tag"
   ]
  },
  {
   "cell_type": "code",
   "execution_count": null,
   "metadata": {
    "collapsed": true
   },
   "outputs": [],
   "source": [
    "z = requests.get('http://reviews.bodybuilding.com/gasp/')\n",
    "soup = BeautifulSoup(z.content)\n",
    "tag = soup.findAll(attrs={'class':'button icon end'})[2]\n",
    "url = tag['href'].replace('./', 'http://reviews.bodybuilding.com/gasp/')"
   ]
  },
  {
   "cell_type": "code",
   "execution_count": null,
   "metadata": {
    "collapsed": false,
    "scrolled": true
   },
   "outputs": [],
   "source": [
    "soup.findAll(attrs={'class':'button icon end'})"
   ]
  },
  {
   "cell_type": "code",
   "execution_count": null,
   "metadata": {
    "collapsed": false
   },
   "outputs": [],
   "source": [
    "tag['href']\n"
   ]
  },
  {
   "cell_type": "code",
   "execution_count": null,
   "metadata": {
    "collapsed": false
   },
   "outputs": [],
   "source": [
    "url"
   ]
  },
  {
   "cell_type": "code",
   "execution_count": null,
   "metadata": {
    "collapsed": true
   },
   "outputs": [],
   "source": [
    "headers_next_page = {'Accept':'application/xml, text/xml, */*; q=0.01',\\\n",
    "'Accept-Encoding':'gzip, deflate, sdch',\\\n",
    "'Accept-Language':'en-US,en;q=0.8',\\\n",
    "'Connection':'keep-alive',\\\n",
    "'Host':'reviews.bodybuilding.com',\\\n",
    "'Referer':'http://reviews.bodybuilding.com/gasp/',\\\n",
    "'User-Agent':'Mozilla/5.0 (Macintosh; Intel Mac OS X 10_11_2) \\\n",
    "AppleWebKit/537.36 (KHTML, like Gecko) Chrome/54.0.2840.71 Safari/537.36',\\\n",
    "'Wicket-Ajax':'true',\\\n",
    "'Wicket-Ajax-BaseURL':'gasp/',\\\n",
    "'Wicket-FocusedElementId':'id33',\\\n",
    "'X-Requested-With':'XMLHttpRequest'\\\n",
    "}\n",
    "url = 'http://reviews.bodybuilding.com/gasp/?6-1.ILinkListener-products~container-productspanel-productsgroup-data~view~container-top~paginator-next&dataProvider=com.bodybuilding.reviews.providers.ProductDataProvider@7ccf59ba'\n",
    "foo = requests.get(url, headers=headers_next_page)"
   ]
  },
  {
   "cell_type": "code",
   "execution_count": 8,
   "metadata": {
    "collapsed": true
   },
   "outputs": [],
   "source": [
    "test =insert_product(24157)"
   ]
  },
  {
   "cell_type": "code",
   "execution_count": 44,
   "metadata": {
    "collapsed": false
   },
   "outputs": [],
   "source": [
    "df = pd.read_csv('products.csv')"
   ]
  },
  {
   "cell_type": "code",
   "execution_count": 67,
   "metadata": {
    "collapsed": true
   },
   "outputs": [],
   "source": [
    "import json"
   ]
  },
  {
   "cell_type": "code",
   "execution_count": 310,
   "metadata": {
    "collapsed": true
   },
   "outputs": [],
   "source": [
    "w = df.copy()"
   ]
  },
  {
   "cell_type": "code",
   "execution_count": 311,
   "metadata": {
    "collapsed": false,
    "scrolled": true
   },
   "outputs": [],
   "source": [
    "w.productReviews =w.productReviews.apply(lambda x: json.loads(x)[0])"
   ]
  },
  {
   "cell_type": "code",
   "execution_count": 312,
   "metadata": {
    "collapsed": false
   },
   "outputs": [
    {
     "data": {
      "text/plain": [
       "2160"
      ]
     },
     "execution_count": 312,
     "metadata": {},
     "output_type": "execute_result"
    }
   ],
   "source": [
    "w.shape[0]"
   ]
  },
  {
   "cell_type": "code",
   "execution_count": 313,
   "metadata": {
    "collapsed": false
   },
   "outputs": [],
   "source": [
    "def new_columns():\n",
    "    new_cols = []\n",
    "    for col in w.productReviews[0].keys():\n",
    "        w[col] = [w.productReviews[n][col] for n in xrange(w.shape[0])]\n",
    "        new_cols.append(col)\n",
    "    for new_col in new_cols:\n",
    "        if type(w[new_col][0]) == dict:\n",
    "            for sub_col in w[new_col][0].keys():\n",
    "                w[sub_col] = [w[new_col][m][sub_col] for m in xrange(w.shape[0])]"
   ]
  },
  {
   "cell_type": "code",
   "execution_count": 337,
   "metadata": {
    "collapsed": false,
    "scrolled": false
   },
   "outputs": [
    {
     "data": {
      "text/plain": [
       "u'This is a great pre workout to get you going after a long day of work. No cash effect and keeps you focused on your workout. Maui orange is a great tasting flavor addition '"
      ]
     },
     "execution_count": 337,
     "metadata": {},
     "output_type": "execute_result"
    }
   ],
   "source": [
    "w\n",
    "w.drop(['productReviews','totalItems'], axis=1)\n",
    "w['productReview'][7]\n",
    "w['text'][7]"
   ]
  },
  {
   "cell_type": "code",
   "execution_count": 309,
   "metadata": {
    "collapsed": false,
    "scrolled": true
   },
   "outputs": [
    {
     "data": {
      "text/plain": [
       "Index([            u'totalItems',         u'productReviews',\n",
       "                u'productReview',                 u'member',\n",
       "                      u'product',              u'likeStats',\n",
       "                        u'stats',                u'helpful',\n",
       "                u'overallRating',           u'totalRatings',\n",
       "                   u'wasHelpful',              u'likeCount',\n",
       "                 u'commentCount',           u'helpfulTotal',\n",
       "                   u'userRating',          u'flavorRatings',\n",
       "                       u'status',               u'verified',\n",
       "                        u'title',                   u'text',\n",
       "                     u'username',     u'updateStatusReason',\n",
       "                      u'brandId',                u'skuList',\n",
       "                      u'modDate',                   u'date',\n",
       "                     u'entityId',                    u'_id',\n",
       "                         u'slug',                 u'userId',\n",
       "                    u'productId',         u'profilePicPath',\n",
       "                   u'photoCount',    u'profilePicThumbPath',\n",
       "         u'profilePicAvatarPath',                 u'gender',\n",
       "                    u'activated',               u'vbuserId',\n",
       "                   u'profileURL', u'profilePicOriginalPath',\n",
       "                 u'lastActivity',               u'joinDate',\n",
       "                 u'emailAddress',                u'groupId',\n",
       "                     u'realName',            u'imageMedium',\n",
       "                 u'totalReviews',             u'flavorList',\n",
       "          u'totalVerifiedBuyers',       u'briefDescription',\n",
       "                           u'id',    u'verifiedBuyerRating',\n",
       "                  u'description',   u'totalVerifiedReviews',\n",
       "                   u'imageLarge',                   u'name',\n",
       "                   u'imageSmall',                    u'url',\n",
       "                    u'brandName',              u'reviewUrl',\n",
       "                 u'weightChange',                 u'weight',\n",
       "                      u'bodyfat',                 u'height',\n",
       "                      u'ratings'],\n",
       "      dtype='object')"
      ]
     },
     "execution_count": 309,
     "metadata": {},
     "output_type": "execute_result"
    }
   ],
   "source": [
    "q.columns"
   ]
  },
  {
   "cell_type": "code",
   "execution_count": 293,
   "metadata": {
    "collapsed": false
   },
   "outputs": [
    {
     "data": {
      "text/plain": [
       "{u'commentCount': 0,\n",
       " u'flavorRatings': None,\n",
       " u'helpful': 0,\n",
       " u'helpfulTotal': 1,\n",
       " u'likeCount': None,\n",
       " u'likeStats': None,\n",
       " u'member': {u'activated': False,\n",
       "  u'emailAddress': None,\n",
       "  u'gender': None,\n",
       "  u'groupId': None,\n",
       "  u'joinDate': None,\n",
       "  u'lastActivity': None,\n",
       "  u'photoCount': 0,\n",
       "  u'profilePicAvatarPath': None,\n",
       "  u'profilePicOriginalPath': None,\n",
       "  u'profilePicPath': u'http://imagecdn.bodybuilding.com/profile-photo/27178626/74a69651bb064fbeaf7b161ec49285eep.jpg',\n",
       "  u'profilePicThumbPath': None,\n",
       "  u'profileURL': None,\n",
       "  u'realName': None,\n",
       "  u'slug': u'AmenDela',\n",
       "  u'userId': 62687172,\n",
       "  u'username': u'AmenDela',\n",
       "  u'vbuserId': 0},\n",
       " u'overallRating': 8.1,\n",
       " u'product': {u'brandId': u'cat1370002',\n",
       "  u'brandName': u'22 Days Nutrition',\n",
       "  u'briefDescription': u'',\n",
       "  u'description': u'Made with USDA Organic, Non-GMO, Plant-Based, Dairy-free and Gluten-free ingredients.',\n",
       "  u'flavorList': [u'Daily Mocha Mantra'],\n",
       "  u'flavorRatings': {u'overallRating': 4,\n",
       "   u'ratings': [{u'flavor': u'Daily Mocha Mantra',\n",
       "     u'id': u'prod2000002-daily_mocha_mantra',\n",
       "     u'rating': 4,\n",
       "     u'totalRatings': 2}],\n",
       "   u'totalRatings': 1},\n",
       "  u'id': u'prod2000002',\n",
       "  u'imageLarge': u'http://store.bbcomcdn.com/images/store/prodimage/prod_prod2000002/image_prodprod2000002_largeImage_X_450_white.jpg',\n",
       "  u'imageMedium': u'http://store.bbcomcdn.com/images/store/prodimage/prod_prod2000002/image_prodprod2000002_largeImage_X_130_white.jpg',\n",
       "  u'imageSmall': u'http://store.bbcomcdn.com/images/store/prodimage/prod_prod2000002/image_prodprod2000002_largeImage_X_70_white.jpg',\n",
       "  u'name': u'Protein Bars',\n",
       "  u'overallRating': 8.1,\n",
       "  u'productId': u'prod2000002',\n",
       "  u'reviewUrl': u'http://reviews.bodybuilding.com/22_Days_Nutrition/Protein_Bars/',\n",
       "  u'skuList': None,\n",
       "  u'totalRatings': 7,\n",
       "  u'totalReviews': 7,\n",
       "  u'totalVerifiedBuyers': 2,\n",
       "  u'totalVerifiedReviews': 2,\n",
       "  u'url': u'http://www.bodybuilding.com/store/22-days-nutrition/protein-and-energy-bar.html',\n",
       "  u'verified': None,\n",
       "  u'verifiedBuyerRating': 7.5},\n",
       " u'productReview': {u'_id': u'56fc428e0cf243f19e2d0f90',\n",
       "  u'brandId': u'cat1370002',\n",
       "  u'date': {u'$numberLong': u'1459372686000'},\n",
       "  u'entityId': u'productreview-prod2000002',\n",
       "  u'modDate': {u'$numberLong': u'1459372686000'},\n",
       "  u'overallRating': None,\n",
       "  u'productId': u'prod2000002',\n",
       "  u'skuList': None,\n",
       "  u'slug': u'AmenDela',\n",
       "  u'status': 1,\n",
       "  u'text': u'was weird to tate',\n",
       "  u'title': u'',\n",
       "  u'totalRatings': None,\n",
       "  u'updateStatusReason': None,\n",
       "  u'userId': 62687172,\n",
       "  u'username': u'AmenDela',\n",
       "  u'verified': True},\n",
       " u'stats': {u'bodyfat': u'15.0',\n",
       "  u'height': u'71.0',\n",
       "  u'weight': u'180.0',\n",
       "  u'weightChange': None},\n",
       " u'totalRatings': 7,\n",
       " u'userRating': {u'overallRating': 5,\n",
       "  u'ratings': [{u'flavor': u'Daily Mocha Mantra',\n",
       "    u'id': u'prod2000002-daily_mocha_mantra',\n",
       "    u'rating': 4,\n",
       "    u'totalRatings': 1}],\n",
       "  u'totalRatings': None},\n",
       " u'wasHelpful': None}"
      ]
     },
     "execution_count": 293,
     "metadata": {},
     "output_type": "execute_result"
    }
   ],
   "source": [
    "q['productReviews'][0]"
   ]
  },
  {
   "cell_type": "code",
   "execution_count": 292,
   "metadata": {
    "collapsed": false
   },
   "outputs": [
    {
     "data": {
      "text/plain": [
       "0        8.1\n",
       "1        9.5\n",
       "2        9.2\n",
       "3        8.9\n",
       "4        9.0\n",
       "5        8.9\n",
       "6        9.7\n",
       "7        8.4\n",
       "8        9.4\n",
       "9        9.3\n",
       "10       9.1\n",
       "11       9.5\n",
       "12       9.5\n",
       "13       8.2\n",
       "14       8.7\n",
       "15       9.0\n",
       "16       7.6\n",
       "17       9.0\n",
       "18       7.5\n",
       "19       9.0\n",
       "20       9.3\n",
       "21       8.5\n",
       "22       9.4\n",
       "23       9.0\n",
       "24       9.3\n",
       "25       7.5\n",
       "26       9.2\n",
       "27      10.0\n",
       "28       9.3\n",
       "29       9.0\n",
       "        ... \n",
       "2130     8.0\n",
       "2131    10.0\n",
       "2132     7.2\n",
       "2133     8.0\n",
       "2134     7.5\n",
       "2135     7.3\n",
       "2136     9.2\n",
       "2137     8.4\n",
       "2138     9.0\n",
       "2139     6.7\n",
       "2140     3.3\n",
       "2141     7.9\n",
       "2142     9.0\n",
       "2143     6.5\n",
       "2144     3.7\n",
       "2145    10.0\n",
       "2146     9.0\n",
       "2147    10.0\n",
       "2148    10.0\n",
       "2149     9.0\n",
       "2150     9.7\n",
       "2151     9.0\n",
       "2152     9.3\n",
       "2153     9.0\n",
       "2154     9.3\n",
       "2155     1.0\n",
       "2156     8.4\n",
       "2157     6.4\n",
       "2158     7.3\n",
       "2159     9.6\n",
       "Name: overallRating, dtype: float64"
      ]
     },
     "execution_count": 292,
     "metadata": {},
     "output_type": "execute_result"
    }
   ],
   "source": [
    "q['overallRating']"
   ]
  },
  {
   "cell_type": "code",
   "execution_count": null,
   "metadata": {
    "collapsed": true
   },
   "outputs": [],
   "source": []
  },
  {
   "cell_type": "code",
   "execution_count": null,
   "metadata": {
    "collapsed": true
   },
   "outputs": [],
   "source": []
  },
  {
   "cell_type": "code",
   "execution_count": 238,
   "metadata": {
    "collapsed": false
   },
   "outputs": [
    {
     "data": {
      "text/plain": [
       "True"
      ]
     },
     "execution_count": 238,
     "metadata": {},
     "output_type": "execute_result"
    }
   ],
   "source": [
    "p['productReview'][1]['overallRating']"
   ]
  },
  {
   "cell_type": "code",
   "execution_count": 211,
   "metadata": {
    "collapsed": false
   },
   "outputs": [
    {
     "data": {
      "text/plain": [
       "u'56a7c50f0cf28061f5b7dbaf'"
      ]
     },
     "execution_count": 211,
     "metadata": {},
     "output_type": "execute_result"
    }
   ],
   "source": [
    "p['productReview'][1]['_id']"
   ]
  },
  {
   "cell_type": "code",
   "execution_count": 179,
   "metadata": {
    "collapsed": false
   },
   "outputs": [
    {
     "data": {
      "text/plain": [
       "{u'_id': u'577a9c9d0cf238cc95092960',\n",
       " u'brandId': u'cat1150004',\n",
       " u'date': {u'$numberLong': u'1467653277000'},\n",
       " u'entityId': u'productreview-prod3810021',\n",
       " u'modDate': {u'$numberLong': u'1467653277000'},\n",
       " u'overallRating': None,\n",
       " u'productId': u'prod3810021',\n",
       " u'skuList': None,\n",
       " u'slug': u'Jaxmoney',\n",
       " u'status': 1,\n",
       " u'text': u'I absolutely love these aminos! ',\n",
       " u'title': u'',\n",
       " u'totalRatings': None,\n",
       " u'updateStatusReason': None,\n",
       " u'userId': 110109721,\n",
       " u'username': u'Jaxmoney',\n",
       " u'verified': True}"
      ]
     },
     "execution_count": 179,
     "metadata": {},
     "output_type": "execute_result"
    }
   ],
   "source": [
    "p.productReviews[2]['productReview']"
   ]
  },
  {
   "cell_type": "code",
   "execution_count": 90,
   "metadata": {
    "collapsed": false
   },
   "outputs": [
    {
     "data": {
      "text/html": [
       "<div>\n",
       "<table border=\"1\" class=\"dataframe\">\n",
       "  <thead>\n",
       "    <tr style=\"text-align: right;\">\n",
       "      <th></th>\n",
       "      <th>totalItems</th>\n",
       "      <th>productReviews</th>\n",
       "    </tr>\n",
       "  </thead>\n",
       "  <tbody>\n",
       "    <tr>\n",
       "      <th>0</th>\n",
       "      <td>2</td>\n",
       "      <td>{u'productReview': {u'status': 1, u'overallRat...</td>\n",
       "    </tr>\n",
       "    <tr>\n",
       "      <th>1</th>\n",
       "      <td>2</td>\n",
       "      <td>{u'productReview': {u'status': 1, u'overallRat...</td>\n",
       "    </tr>\n",
       "    <tr>\n",
       "      <th>2</th>\n",
       "      <td>1</td>\n",
       "      <td>{u'productReview': {u'status': 1, u'overallRat...</td>\n",
       "    </tr>\n",
       "    <tr>\n",
       "      <th>3</th>\n",
       "      <td>4</td>\n",
       "      <td>{u'productReview': {u'status': 1, u'overallRat...</td>\n",
       "    </tr>\n",
       "    <tr>\n",
       "      <th>4</th>\n",
       "      <td>18</td>\n",
       "      <td>{u'productReview': {u'status': 1, u'overallRat...</td>\n",
       "    </tr>\n",
       "  </tbody>\n",
       "</table>\n",
       "</div>"
      ],
      "text/plain": [
       "   totalItems                                     productReviews\n",
       "0           2  {u'productReview': {u'status': 1, u'overallRat...\n",
       "1           2  {u'productReview': {u'status': 1, u'overallRat...\n",
       "2           1  {u'productReview': {u'status': 1, u'overallRat...\n",
       "3           4  {u'productReview': {u'status': 1, u'overallRat...\n",
       "4          18  {u'productReview': {u'status': 1, u'overallRat..."
      ]
     },
     "execution_count": 90,
     "metadata": {},
     "output_type": "execute_result"
    }
   ],
   "source": [
    "p.productReviews()"
   ]
  },
  {
   "cell_type": "code",
   "execution_count": 171,
   "metadata": {
    "collapsed": false,
    "scrolled": false
   },
   "outputs": [
    {
     "data": {
      "text/html": [
       "<div>\n",
       "<table border=\"1\" class=\"dataframe\">\n",
       "  <thead>\n",
       "    <tr style=\"text-align: right;\">\n",
       "      <th></th>\n",
       "      <th>productReview</th>\n",
       "      <th>member</th>\n",
       "      <th>product</th>\n",
       "      <th>likeStats</th>\n",
       "      <th>stats</th>\n",
       "      <th>helpful</th>\n",
       "      <th>overallRating</th>\n",
       "      <th>totalRatings</th>\n",
       "      <th>wasHelpful</th>\n",
       "      <th>likeCount</th>\n",
       "      <th>commentCount</th>\n",
       "      <th>helpfulTotal</th>\n",
       "      <th>userRating</th>\n",
       "      <th>flavorRatings</th>\n",
       "    </tr>\n",
       "  </thead>\n",
       "  <tbody>\n",
       "    <tr>\n",
       "      <th>0</th>\n",
       "      <td>{u'status': 1, u'overallRating': None, u'verif...</td>\n",
       "      <td>{u'username': u'AmenDela', u'profilePicPath': ...</td>\n",
       "      <td>{u'imageMedium': u'http://store.bbcomcdn.com/i...</td>\n",
       "      <td>None</td>\n",
       "      <td>{u'weightChange': None, u'weight': u'180.0', u...</td>\n",
       "      <td>0</td>\n",
       "      <td>8.1</td>\n",
       "      <td>7</td>\n",
       "      <td>None</td>\n",
       "      <td>None</td>\n",
       "      <td>0</td>\n",
       "      <td>1</td>\n",
       "      <td>{u'overallRating': 5, u'totalRatings': None, u...</td>\n",
       "      <td>None</td>\n",
       "    </tr>\n",
       "  </tbody>\n",
       "</table>\n",
       "</div>"
      ],
      "text/plain": [
       "                                       productReview  \\\n",
       "0  {u'status': 1, u'overallRating': None, u'verif...   \n",
       "\n",
       "                                              member  \\\n",
       "0  {u'username': u'AmenDela', u'profilePicPath': ...   \n",
       "\n",
       "                                             product likeStats  \\\n",
       "0  {u'imageMedium': u'http://store.bbcomcdn.com/i...      None   \n",
       "\n",
       "                                               stats helpful overallRating  \\\n",
       "0  {u'weightChange': None, u'weight': u'180.0', u...       0           8.1   \n",
       "\n",
       "  totalRatings wasHelpful likeCount commentCount helpfulTotal  \\\n",
       "0            7       None      None            0            1   \n",
       "\n",
       "                                          userRating flavorRatings  \n",
       "0  {u'overallRating': 5, u'totalRatings': None, u...          None  "
      ]
     },
     "execution_count": 171,
     "metadata": {},
     "output_type": "execute_result"
    }
   ],
   "source": [
    "data1 = pd.DataFrame(np.array([p.productReviews[0].values()]), columns = p.productReviews[0].keys())\n",
    "def new_cols():\n",
    "    new_rows = pd.DataFrame()"
   ]
  },
  {
   "cell_type": "code",
   "execution_count": 135,
   "metadata": {
    "collapsed": false,
    "scrolled": false
   },
   "outputs": [
    {
     "data": {
      "text/plain": [
       "[u'productReview',\n",
       " u'member',\n",
       " u'product',\n",
       " u'likeStats',\n",
       " u'stats',\n",
       " u'helpful',\n",
       " u'overallRating',\n",
       " u'totalRatings',\n",
       " u'wasHelpful',\n",
       " u'likeCount',\n",
       " u'commentCount',\n",
       " u'helpfulTotal',\n",
       " u'userRating',\n",
       " u'flavorRatings']"
      ]
     },
     "execution_count": 135,
     "metadata": {},
     "output_type": "execute_result"
    }
   ],
   "source": [
    "p.productReviews[0].keys()"
   ]
  },
  {
   "cell_type": "code",
   "execution_count": 167,
   "metadata": {
    "collapsed": false
   },
   "outputs": [
    {
     "data": {
      "text/plain": [
       "(['a', 'c', 'b'], ['1', '3', '2'])"
      ]
     },
     "execution_count": 167,
     "metadata": {},
     "output_type": "execute_result"
    }
   ],
   "source": [
    "ugh = {'a':'1','b':'2','c':'3'}\n",
    "dfugh = pd.DataFrame(np.array([ugh.values()]), columns = ugh.keys())\n",
    "ugh.keys(), ugh.values()"
   ]
  },
  {
   "cell_type": "code",
   "execution_count": 168,
   "metadata": {
    "collapsed": false
   },
   "outputs": [
    {
     "data": {
      "text/html": [
       "<div>\n",
       "<table border=\"1\" class=\"dataframe\">\n",
       "  <thead>\n",
       "    <tr style=\"text-align: right;\">\n",
       "      <th></th>\n",
       "      <th>a</th>\n",
       "      <th>c</th>\n",
       "      <th>b</th>\n",
       "    </tr>\n",
       "  </thead>\n",
       "  <tbody>\n",
       "    <tr>\n",
       "      <th>0</th>\n",
       "      <td>1</td>\n",
       "      <td>3</td>\n",
       "      <td>2</td>\n",
       "    </tr>\n",
       "  </tbody>\n",
       "</table>\n",
       "</div>"
      ],
      "text/plain": [
       "   a  c  b\n",
       "0  1  3  2"
      ]
     },
     "execution_count": 168,
     "metadata": {},
     "output_type": "execute_result"
    }
   ],
   "source": [
    "dfugh"
   ]
  },
  {
   "cell_type": "code",
   "execution_count": null,
   "metadata": {
    "collapsed": true
   },
   "outputs": [],
   "source": []
  },
  {
   "cell_type": "code",
   "execution_count": 166,
   "metadata": {
    "collapsed": false
   },
   "outputs": [
    {
     "data": {
      "text/html": [
       "<div>\n",
       "<table border=\"1\" class=\"dataframe\">\n",
       "  <thead>\n",
       "    <tr style=\"text-align: right;\">\n",
       "      <th></th>\n",
       "      <th>a</th>\n",
       "      <th>b</th>\n",
       "      <th>c</th>\n",
       "      <th>d</th>\n",
       "      <th>e</th>\n",
       "    </tr>\n",
       "  </thead>\n",
       "  <tbody>\n",
       "    <tr>\n",
       "      <th>0</th>\n",
       "      <td>1</td>\n",
       "      <td>2</td>\n",
       "      <td>3</td>\n",
       "      <td>4</td>\n",
       "      <td>5</td>\n",
       "    </tr>\n",
       "  </tbody>\n",
       "</table>\n",
       "</div>"
      ],
      "text/plain": [
       "   a  b  c  d  e\n",
       "0  1  2  3  4  5"
      ]
     },
     "execution_count": 166,
     "metadata": {},
     "output_type": "execute_result"
    }
   ],
   "source": [
    "df3 = pd.DataFrame([np.random.randn(10, 5)], columns=['a', 'b', 'c', 'd', 'e'])\n",
    "df3"
   ]
  },
  {
   "cell_type": "code",
   "execution_count": 107,
   "metadata": {
    "collapsed": false
   },
   "outputs": [
    {
     "data": {
      "text/plain": [
       "[u'productReview',\n",
       " u'member',\n",
       " u'product',\n",
       " u'likeStats',\n",
       " u'stats',\n",
       " u'helpful',\n",
       " u'overallRating',\n",
       " u'totalRatings',\n",
       " u'wasHelpful',\n",
       " u'likeCount',\n",
       " u'commentCount',\n",
       " u'helpfulTotal',\n",
       " u'userRating',\n",
       " u'flavorRatings']"
      ]
     },
     "execution_count": 107,
     "metadata": {},
     "output_type": "execute_result"
    }
   ],
   "source": [
    "p.productReviews[0].keys()"
   ]
  },
  {
   "cell_type": "code",
   "execution_count": 68,
   "metadata": {
    "collapsed": false
   },
   "outputs": [
    {
     "data": {
      "text/plain": [
       "str"
      ]
     },
     "execution_count": 68,
     "metadata": {},
     "output_type": "execute_result"
    }
   ],
   "source": [
    "a = df.productReviews[0]\n",
    "type(a)"
   ]
  },
  {
   "cell_type": "code",
   "execution_count": 419,
   "metadata": {
    "collapsed": false
   },
   "outputs": [
    {
     "ename": "TypeError",
     "evalue": "'NoneType' object has no attribute '__getitem__'",
     "output_type": "error",
     "traceback": [
      "\u001b[0;31m---------------------------------------------------------------------------\u001b[0m",
      "\u001b[0;31mTypeError\u001b[0m                                 Traceback (most recent call last)",
      "\u001b[0;32m/Users/gSchool/Desktop/bodyscrape/Capstone/bodymodeling.py\u001b[0m in \u001b[0;36m<module>\u001b[0;34m()\u001b[0m\n\u001b[1;32m     37\u001b[0m \u001b[0;32mif\u001b[0m \u001b[0m__name__\u001b[0m \u001b[0;34m==\u001b[0m \u001b[0;34m'__main__'\u001b[0m\u001b[0;34m:\u001b[0m\u001b[0;34m\u001b[0m\u001b[0m\n\u001b[1;32m     38\u001b[0m     \u001b[0mmodel\u001b[0m \u001b[0;34m=\u001b[0m \u001b[0mBBmodel\u001b[0m\u001b[0;34m(\u001b[0m\u001b[0;34m)\u001b[0m\u001b[0;34m\u001b[0m\u001b[0m\n\u001b[0;32m---> 39\u001b[0;31m     \u001b[0mmodel\u001b[0m\u001b[0;34m.\u001b[0m\u001b[0madd_columns\u001b[0m\u001b[0;34m(\u001b[0m\u001b[0;34m)\u001b[0m\u001b[0;34m\u001b[0m\u001b[0m\n\u001b[0m\u001b[1;32m     40\u001b[0m     \u001b[0mmodel\u001b[0m\u001b[0;34m.\u001b[0m\u001b[0mdel_columns\u001b[0m\u001b[0;34m(\u001b[0m\u001b[0;34m)\u001b[0m\u001b[0;34m\u001b[0m\u001b[0m\n\u001b[1;32m     41\u001b[0m     \u001b[0mmodel\u001b[0m\u001b[0;34m.\u001b[0m\u001b[0mcheck_useless\u001b[0m\u001b[0;34m(\u001b[0m\u001b[0;34m)\u001b[0m\u001b[0;34m\u001b[0m\u001b[0m\n",
      "\u001b[0;32m/Users/gSchool/Desktop/bodyscrape/Capstone/bodymodeling.py\u001b[0m in \u001b[0;36madd_columns\u001b[0;34m(self)\u001b[0m\n\u001b[1;32m     25\u001b[0m                 \u001b[0;32mfor\u001b[0m \u001b[0msub_col\u001b[0m \u001b[0;32min\u001b[0m \u001b[0mself\u001b[0m\u001b[0;34m.\u001b[0m\u001b[0mdf\u001b[0m\u001b[0;34m[\u001b[0m\u001b[0mnew_col\u001b[0m\u001b[0;34m]\u001b[0m\u001b[0;34m[\u001b[0m\u001b[0;36m0\u001b[0m\u001b[0;34m]\u001b[0m\u001b[0;34m.\u001b[0m\u001b[0mkeys\u001b[0m\u001b[0;34m(\u001b[0m\u001b[0;34m)\u001b[0m\u001b[0;34m:\u001b[0m\u001b[0;34m\u001b[0m\u001b[0m\n\u001b[1;32m     26\u001b[0m                     self.df[sub_col] = [self.df[new_col][j][sub_col] \\\n\u001b[0;32m---> 27\u001b[0;31m                     for j in xrange(self.df.shape[0])]\n\u001b[0m\u001b[1;32m     28\u001b[0m \u001b[0;31m#works when method called in terminal\u001b[0m\u001b[0;34m\u001b[0m\u001b[0;34m\u001b[0m\u001b[0m\n\u001b[1;32m     29\u001b[0m     \u001b[0;32mdef\u001b[0m \u001b[0mdel_columns\u001b[0m\u001b[0;34m(\u001b[0m\u001b[0mself\u001b[0m\u001b[0;34m)\u001b[0m\u001b[0;34m:\u001b[0m\u001b[0;34m\u001b[0m\u001b[0m\n",
      "\u001b[0;31mTypeError\u001b[0m: 'NoneType' object has no attribute '__getitem__'"
     ]
    }
   ],
   "source": [
    "run bodymodeling.py"
   ]
  },
  {
   "cell_type": "code",
   "execution_count": 424,
   "metadata": {
    "collapsed": false,
    "scrolled": true
   },
   "outputs": [
    {
     "ename": "TypeError",
     "evalue": "unhashable type: 'dict'",
     "output_type": "error",
     "traceback": [
      "\u001b[0;31m---------------------------------------------------------------------------\u001b[0m",
      "\u001b[0;31mTypeError\u001b[0m                                 Traceback (most recent call last)",
      "\u001b[0;32m<ipython-input-424-fe359647a984>\u001b[0m in \u001b[0;36m<module>\u001b[0;34m()\u001b[0m\n\u001b[0;32m----> 1\u001b[0;31m \u001b[0mmodel\u001b[0m\u001b[0;34m.\u001b[0m\u001b[0mcheck_useless\u001b[0m\u001b[0;34m(\u001b[0m\u001b[0;34m)\u001b[0m\u001b[0;34m\u001b[0m\u001b[0m\n\u001b[0m",
      "\u001b[0;32m/Users/gSchool/Desktop/bodyscrape/Capstone/bodymodeling.py\u001b[0m in \u001b[0;36mcheck_useless\u001b[0;34m(self)\u001b[0m\n\u001b[1;32m     32\u001b[0m     \u001b[0;32mdef\u001b[0m \u001b[0mcheck_useless\u001b[0m\u001b[0;34m(\u001b[0m\u001b[0mself\u001b[0m\u001b[0;34m)\u001b[0m\u001b[0;34m:\u001b[0m\u001b[0;34m\u001b[0m\u001b[0m\n\u001b[1;32m     33\u001b[0m         \u001b[0;32mfor\u001b[0m \u001b[0mcol\u001b[0m \u001b[0;32min\u001b[0m \u001b[0mself\u001b[0m\u001b[0;34m.\u001b[0m\u001b[0mdf\u001b[0m\u001b[0;34m.\u001b[0m\u001b[0mcolumns\u001b[0m\u001b[0;34m:\u001b[0m\u001b[0;34m\u001b[0m\u001b[0m\n\u001b[0;32m---> 34\u001b[0;31m             \u001b[0;32mif\u001b[0m \u001b[0mlen\u001b[0m\u001b[0;34m(\u001b[0m\u001b[0mself\u001b[0m\u001b[0;34m.\u001b[0m\u001b[0mdf\u001b[0m\u001b[0;34m[\u001b[0m\u001b[0mcol\u001b[0m\u001b[0;34m]\u001b[0m\u001b[0;34m.\u001b[0m\u001b[0munique\u001b[0m\u001b[0;34m(\u001b[0m\u001b[0;34m)\u001b[0m\u001b[0;34m)\u001b[0m \u001b[0;34m==\u001b[0m\u001b[0;36m1\u001b[0m\u001b[0;34m:\u001b[0m\u001b[0;34m\u001b[0m\u001b[0m\n\u001b[0m\u001b[1;32m     35\u001b[0m                 \u001b[0mself\u001b[0m\u001b[0;34m.\u001b[0m\u001b[0mdf\u001b[0m\u001b[0;34m.\u001b[0m\u001b[0mdrop\u001b[0m\u001b[0;34m(\u001b[0m\u001b[0mcol\u001b[0m\u001b[0;34m,\u001b[0m \u001b[0maxis\u001b[0m\u001b[0;34m=\u001b[0m\u001b[0;36m1\u001b[0m\u001b[0;34m,\u001b[0m \u001b[0minplace\u001b[0m\u001b[0;34m=\u001b[0m\u001b[0mTrue\u001b[0m\u001b[0;34m)\u001b[0m\u001b[0;34m\u001b[0m\u001b[0m\n\u001b[1;32m     36\u001b[0m \u001b[0;34m\u001b[0m\u001b[0m\n",
      "\u001b[0;32m/Users/gSchool/anaconda2/lib/python2.7/site-packages/pandas/core/base.pyc\u001b[0m in \u001b[0;36munique\u001b[0;34m(self)\u001b[0m\n\u001b[1;32m    962\u001b[0m             \u001b[0;32mreturn\u001b[0m \u001b[0mvalues\u001b[0m\u001b[0;34m.\u001b[0m\u001b[0munique\u001b[0m\u001b[0;34m(\u001b[0m\u001b[0;34m)\u001b[0m\u001b[0;34m\u001b[0m\u001b[0m\n\u001b[1;32m    963\u001b[0m \u001b[0;34m\u001b[0m\u001b[0m\n\u001b[0;32m--> 964\u001b[0;31m         \u001b[0;32mreturn\u001b[0m \u001b[0munique1d\u001b[0m\u001b[0;34m(\u001b[0m\u001b[0mvalues\u001b[0m\u001b[0;34m)\u001b[0m\u001b[0;34m\u001b[0m\u001b[0m\n\u001b[0m\u001b[1;32m    965\u001b[0m \u001b[0;34m\u001b[0m\u001b[0m\n\u001b[1;32m    966\u001b[0m     \u001b[0;32mdef\u001b[0m \u001b[0mnunique\u001b[0m\u001b[0;34m(\u001b[0m\u001b[0mself\u001b[0m\u001b[0;34m,\u001b[0m \u001b[0mdropna\u001b[0m\u001b[0;34m=\u001b[0m\u001b[0mTrue\u001b[0m\u001b[0;34m)\u001b[0m\u001b[0;34m:\u001b[0m\u001b[0;34m\u001b[0m\u001b[0m\n",
      "\u001b[0;32m/Users/gSchool/anaconda2/lib/python2.7/site-packages/pandas/core/nanops.pyc\u001b[0m in \u001b[0;36munique1d\u001b[0;34m(values)\u001b[0m\n\u001b[1;32m    794\u001b[0m     \u001b[0;32melse\u001b[0m\u001b[0;34m:\u001b[0m\u001b[0;34m\u001b[0m\u001b[0m\n\u001b[1;32m    795\u001b[0m         \u001b[0mtable\u001b[0m \u001b[0;34m=\u001b[0m \u001b[0m_hash\u001b[0m\u001b[0;34m.\u001b[0m\u001b[0mPyObjectHashTable\u001b[0m\u001b[0;34m(\u001b[0m\u001b[0mlen\u001b[0m\u001b[0;34m(\u001b[0m\u001b[0mvalues\u001b[0m\u001b[0;34m)\u001b[0m\u001b[0;34m)\u001b[0m\u001b[0;34m\u001b[0m\u001b[0m\n\u001b[0;32m--> 796\u001b[0;31m         \u001b[0muniques\u001b[0m \u001b[0;34m=\u001b[0m \u001b[0mtable\u001b[0m\u001b[0;34m.\u001b[0m\u001b[0munique\u001b[0m\u001b[0;34m(\u001b[0m\u001b[0m_ensure_object\u001b[0m\u001b[0;34m(\u001b[0m\u001b[0mvalues\u001b[0m\u001b[0;34m)\u001b[0m\u001b[0;34m)\u001b[0m\u001b[0;34m\u001b[0m\u001b[0m\n\u001b[0m\u001b[1;32m    797\u001b[0m     \u001b[0;32mreturn\u001b[0m \u001b[0muniques\u001b[0m\u001b[0;34m\u001b[0m\u001b[0m\n",
      "\u001b[0;32mpandas/hashtable.pyx\u001b[0m in \u001b[0;36mpandas.hashtable.PyObjectHashTable.unique (pandas/hashtable.c:13585)\u001b[0;34m()\u001b[0m\n",
      "\u001b[0;31mTypeError\u001b[0m: unhashable type: 'dict'"
     ]
    }
   ],
   "source": [
    "model.check_useless()"
   ]
  },
  {
   "cell_type": "code",
   "execution_count": 433,
   "metadata": {
    "collapsed": false
   },
   "outputs": [
    {
     "data": {
      "text/plain": [
       "True"
      ]
     },
     "execution_count": 433,
     "metadata": {},
     "output_type": "execute_result"
    }
   ],
   "source": [
    "len(model.df['briefDescription'].unique()) == 1"
   ]
  },
  {
   "cell_type": "code",
   "execution_count": 437,
   "metadata": {
    "collapsed": false
   },
   "outputs": [
    {
     "name": "stdout",
     "output_type": "stream",
     "text": [
      "False\n",
      "False\n",
      "False\n",
      "False\n",
      "False\n"
     ]
    },
    {
     "ename": "TypeError",
     "evalue": "unhashable type: 'dict'",
     "output_type": "error",
     "traceback": [
      "\u001b[0;31m---------------------------------------------------------------------------\u001b[0m",
      "\u001b[0;31mTypeError\u001b[0m                                 Traceback (most recent call last)",
      "\u001b[0;32m<ipython-input-437-29faaabce1a5>\u001b[0m in \u001b[0;36m<module>\u001b[0;34m()\u001b[0m\n\u001b[1;32m      1\u001b[0m \u001b[0;32mfor\u001b[0m \u001b[0mi\u001b[0m \u001b[0;32min\u001b[0m \u001b[0mmodel\u001b[0m\u001b[0;34m.\u001b[0m\u001b[0mdf\u001b[0m\u001b[0;34m.\u001b[0m\u001b[0mcolumns\u001b[0m\u001b[0;34m:\u001b[0m\u001b[0;34m\u001b[0m\u001b[0m\n\u001b[0;32m----> 2\u001b[0;31m     \u001b[0;32mprint\u001b[0m \u001b[0mlen\u001b[0m\u001b[0;34m(\u001b[0m\u001b[0mmodel\u001b[0m\u001b[0;34m.\u001b[0m\u001b[0mdf\u001b[0m\u001b[0;34m[\u001b[0m\u001b[0mi\u001b[0m\u001b[0;34m]\u001b[0m\u001b[0;34m.\u001b[0m\u001b[0munique\u001b[0m\u001b[0;34m(\u001b[0m\u001b[0;34m)\u001b[0m\u001b[0;34m)\u001b[0m \u001b[0;34m==\u001b[0m\u001b[0;36m1\u001b[0m\u001b[0;34m\u001b[0m\u001b[0m\n\u001b[0m",
      "\u001b[0;32m/Users/gSchool/anaconda2/lib/python2.7/site-packages/pandas/core/base.pyc\u001b[0m in \u001b[0;36munique\u001b[0;34m(self)\u001b[0m\n\u001b[1;32m    962\u001b[0m             \u001b[0;32mreturn\u001b[0m \u001b[0mvalues\u001b[0m\u001b[0;34m.\u001b[0m\u001b[0munique\u001b[0m\u001b[0;34m(\u001b[0m\u001b[0;34m)\u001b[0m\u001b[0;34m\u001b[0m\u001b[0m\n\u001b[1;32m    963\u001b[0m \u001b[0;34m\u001b[0m\u001b[0m\n\u001b[0;32m--> 964\u001b[0;31m         \u001b[0;32mreturn\u001b[0m \u001b[0munique1d\u001b[0m\u001b[0;34m(\u001b[0m\u001b[0mvalues\u001b[0m\u001b[0;34m)\u001b[0m\u001b[0;34m\u001b[0m\u001b[0m\n\u001b[0m\u001b[1;32m    965\u001b[0m \u001b[0;34m\u001b[0m\u001b[0m\n\u001b[1;32m    966\u001b[0m     \u001b[0;32mdef\u001b[0m \u001b[0mnunique\u001b[0m\u001b[0;34m(\u001b[0m\u001b[0mself\u001b[0m\u001b[0;34m,\u001b[0m \u001b[0mdropna\u001b[0m\u001b[0;34m=\u001b[0m\u001b[0mTrue\u001b[0m\u001b[0;34m)\u001b[0m\u001b[0;34m:\u001b[0m\u001b[0;34m\u001b[0m\u001b[0m\n",
      "\u001b[0;32m/Users/gSchool/anaconda2/lib/python2.7/site-packages/pandas/core/nanops.pyc\u001b[0m in \u001b[0;36munique1d\u001b[0;34m(values)\u001b[0m\n\u001b[1;32m    794\u001b[0m     \u001b[0;32melse\u001b[0m\u001b[0;34m:\u001b[0m\u001b[0;34m\u001b[0m\u001b[0m\n\u001b[1;32m    795\u001b[0m         \u001b[0mtable\u001b[0m \u001b[0;34m=\u001b[0m \u001b[0m_hash\u001b[0m\u001b[0;34m.\u001b[0m\u001b[0mPyObjectHashTable\u001b[0m\u001b[0;34m(\u001b[0m\u001b[0mlen\u001b[0m\u001b[0;34m(\u001b[0m\u001b[0mvalues\u001b[0m\u001b[0;34m)\u001b[0m\u001b[0;34m)\u001b[0m\u001b[0;34m\u001b[0m\u001b[0m\n\u001b[0;32m--> 796\u001b[0;31m         \u001b[0muniques\u001b[0m \u001b[0;34m=\u001b[0m \u001b[0mtable\u001b[0m\u001b[0;34m.\u001b[0m\u001b[0munique\u001b[0m\u001b[0;34m(\u001b[0m\u001b[0m_ensure_object\u001b[0m\u001b[0;34m(\u001b[0m\u001b[0mvalues\u001b[0m\u001b[0;34m)\u001b[0m\u001b[0;34m)\u001b[0m\u001b[0;34m\u001b[0m\u001b[0m\n\u001b[0m\u001b[1;32m    797\u001b[0m     \u001b[0;32mreturn\u001b[0m \u001b[0muniques\u001b[0m\u001b[0;34m\u001b[0m\u001b[0m\n",
      "\u001b[0;32mpandas/hashtable.pyx\u001b[0m in \u001b[0;36mpandas.hashtable.PyObjectHashTable.unique (pandas/hashtable.c:13585)\u001b[0;34m()\u001b[0m\n",
      "\u001b[0;31mTypeError\u001b[0m: unhashable type: 'dict'"
     ]
    }
   ],
   "source": [
    "for i in model.df.columns:\n",
    "    print len(model.df[i].unique()) ==1\n"
   ]
  },
  {
   "cell_type": "code",
   "execution_count": 444,
   "metadata": {
    "collapsed": false
   },
   "outputs": [
    {
     "name": "stdout",
     "output_type": "stream",
     "text": [
      "3\n",
      "3\n",
      "3\n"
     ]
    }
   ],
   "source": [
    "for rating in model.df.userRating[:3]:\n",
    "    print len(rating)"
   ]
  },
  {
   "cell_type": "code",
   "execution_count": 59,
   "metadata": {
    "collapsed": false
   },
   "outputs": [
    {
     "data": {
      "text/plain": [
       "[u'productReview',\n",
       " u'member',\n",
       " u'product',\n",
       " u'likeStats',\n",
       " u'stats',\n",
       " u'helpful',\n",
       " u'overallRating',\n",
       " u'totalRatings',\n",
       " u'wasHelpful',\n",
       " u'likeCount',\n",
       " u'commentCount',\n",
       " u'helpfulTotal',\n",
       " u'userRating',\n",
       " u'flavorRatings']"
      ]
     },
     "execution_count": 59,
     "metadata": {},
     "output_type": "execute_result"
    }
   ],
   "source": [
    "model.new_cols"
   ]
  },
  {
   "cell_type": "code",
   "execution_count": 136,
   "metadata": {
    "collapsed": false,
    "scrolled": true
   },
   "outputs": [],
   "source": [
    "run bodymodeling.py"
   ]
  },
  {
   "cell_type": "code",
   "execution_count": 141,
   "metadata": {
    "collapsed": false
   },
   "outputs": [
    {
     "data": {
      "text/plain": [
       "0       {u'overallRating': 5, u'totalRatings': None, u...\n",
       "1       {u'overallRating': 10, u'totalRatings': None, ...\n",
       "2       {u'overallRating': 10, u'totalRatings': None, ...\n",
       "3       {u'overallRating': 10, u'totalRatings': None, ...\n",
       "4       {u'overallRating': 8, u'totalRatings': None, u...\n",
       "5       {u'overallRating': 10, u'totalRatings': None, ...\n",
       "6       {u'overallRating': 10, u'totalRatings': None, ...\n",
       "7       {u'overallRating': 10, u'totalRatings': None, ...\n",
       "8       {u'overallRating': 9, u'totalRatings': None, u...\n",
       "9       {u'overallRating': 10, u'totalRatings': None, ...\n",
       "10      {u'overallRating': 10, u'totalRatings': None, ...\n",
       "11      {u'overallRating': 10, u'totalRatings': None, ...\n",
       "12      {u'overallRating': 9, u'totalRatings': None, u...\n",
       "13      {u'overallRating': 9, u'totalRatings': None, u...\n",
       "14      {u'overallRating': 3, u'totalRatings': None, u...\n",
       "15      {u'overallRating': 9, u'totalRatings': None, u...\n",
       "16      {u'overallRating': 8, u'totalRatings': None, u...\n",
       "17      {u'overallRating': 9, u'totalRatings': None, u...\n",
       "18      {u'overallRating': 2, u'totalRatings': None, u...\n",
       "19      {u'overallRating': 9, u'totalRatings': None, u...\n",
       "20      {u'overallRating': 8, u'totalRatings': None, u...\n",
       "21      {u'overallRating': 8, u'totalRatings': None, u...\n",
       "22      {u'overallRating': 10, u'totalRatings': None, ...\n",
       "23      {u'overallRating': 5, u'totalRatings': None, u...\n",
       "24      {u'overallRating': 10, u'totalRatings': None, ...\n",
       "25      {u'overallRating': 5, u'totalRatings': None, u...\n",
       "26      {u'overallRating': 10, u'totalRatings': None, ...\n",
       "27      {u'overallRating': 10, u'totalRatings': None, ...\n",
       "28      {u'overallRating': 10, u'totalRatings': None, ...\n",
       "29      {u'overallRating': 3, u'totalRatings': None, u...\n",
       "                              ...                        \n",
       "2130    {u'overallRating': 8, u'totalRatings': None, u...\n",
       "2131    {u'overallRating': 10, u'totalRatings': None, ...\n",
       "2132    {u'overallRating': 10, u'totalRatings': None, ...\n",
       "2133    {u'overallRating': 8, u'totalRatings': None, u...\n",
       "2134    {u'overallRating': 7, u'totalRatings': None, u...\n",
       "2135    {u'overallRating': 10, u'totalRatings': None, ...\n",
       "2136    {u'overallRating': 10, u'totalRatings': None, ...\n",
       "2137    {u'overallRating': 10, u'totalRatings': None, ...\n",
       "2138    {u'overallRating': 10, u'totalRatings': None, ...\n",
       "2139    {u'overallRating': 1, u'totalRatings': None, u...\n",
       "2140    {u'overallRating': 1, u'totalRatings': None, u...\n",
       "2141    {u'overallRating': 10, u'totalRatings': None, ...\n",
       "2142    {u'overallRating': 10, u'totalRatings': None, ...\n",
       "2143    {u'overallRating': 7, u'totalRatings': None, u...\n",
       "2144    {u'overallRating': 9, u'totalRatings': None, u...\n",
       "2145    {u'overallRating': 10, u'totalRatings': None, ...\n",
       "2146    {u'overallRating': 9, u'totalRatings': None, u...\n",
       "2147    {u'overallRating': 10, u'totalRatings': None, ...\n",
       "2148    {u'overallRating': 10, u'totalRatings': None, ...\n",
       "2149    {u'overallRating': 9, u'totalRatings': None, u...\n",
       "2150    {u'overallRating': 10, u'totalRatings': None, ...\n",
       "2151    {u'overallRating': 9, u'totalRatings': None, u...\n",
       "2152    {u'overallRating': 8, u'totalRatings': None, u...\n",
       "2153    {u'overallRating': 8, u'totalRatings': None, u...\n",
       "2154    {u'overallRating': 2, u'totalRatings': None, u...\n",
       "2155    {u'overallRating': 1, u'totalRatings': None, u...\n",
       "2156    {u'overallRating': 10, u'totalRatings': None, ...\n",
       "2157    {u'overallRating': 1, u'totalRatings': None, u...\n",
       "2158    {u'overallRating': 10, u'totalRatings': None, ...\n",
       "2159    {u'overallRating': 10, u'totalRatings': None, ...\n",
       "Name: userRating, dtype: object"
      ]
     },
     "execution_count": 141,
     "metadata": {},
     "output_type": "execute_result"
    }
   ],
   "source": [
    "model.df.userRating"
   ]
  },
  {
   "cell_type": "code",
   "execution_count": null,
   "metadata": {
    "collapsed": true
   },
   "outputs": [],
   "source": []
  },
  {
   "cell_type": "code",
   "execution_count": null,
   "metadata": {
    "collapsed": true
   },
   "outputs": [],
   "source": []
  },
  {
   "cell_type": "code",
   "execution_count": 107,
   "metadata": {
    "collapsed": false,
    "scrolled": true
   },
   "outputs": [
    {
     "name": "stdout",
     "output_type": "stream",
     "text": [
      "weightChange\n",
      "weight\n",
      "bodyfat\n",
      "height\n"
     ]
    }
   ],
   "source": [
    "dup_cols = []\n",
    "for new_col in model.new_cols[4:5]:\n",
    "    if type(model.df[new_col][0]) == dict:\n",
    "        for sub_col in model.df[new_col][0].keys():\n",
    "            print sub_col"
   ]
  },
  {
   "cell_type": "code",
   "execution_count": 133,
   "metadata": {
    "collapsed": false
   },
   "outputs": [],
   "source": [
    "column_list = []\n",
    "for i in xrange(model.df.shape[0]):\n",
    "    try:\n",
    "        column_list.append(model.df[new_col][i][sub_col])\n",
    "    except:\n",
    "        column_list.append(None)\n",
    "model.df['height'] = column_list"
   ]
  },
  {
   "cell_type": "code",
   "execution_count": 135,
   "metadata": {
    "collapsed": false
   },
   "outputs": [
    {
     "data": {
      "text/html": [
       "<div>\n",
       "<table border=\"1\" class=\"dataframe\">\n",
       "  <thead>\n",
       "    <tr style=\"text-align: right;\">\n",
       "      <th></th>\n",
       "      <th>0</th>\n",
       "      <th>1</th>\n",
       "      <th>2</th>\n",
       "      <th>3</th>\n",
       "      <th>4</th>\n",
       "      <th>5</th>\n",
       "      <th>6</th>\n",
       "      <th>7</th>\n",
       "      <th>8</th>\n",
       "      <th>9</th>\n",
       "      <th>...</th>\n",
       "      <th>2150</th>\n",
       "      <th>2151</th>\n",
       "      <th>2152</th>\n",
       "      <th>2153</th>\n",
       "      <th>2154</th>\n",
       "      <th>2155</th>\n",
       "      <th>2156</th>\n",
       "      <th>2157</th>\n",
       "      <th>2158</th>\n",
       "      <th>2159</th>\n",
       "    </tr>\n",
       "  </thead>\n",
       "  <tbody>\n",
       "    <tr>\n",
       "      <th>totalItems</th>\n",
       "      <td>2</td>\n",
       "      <td>2</td>\n",
       "      <td>1</td>\n",
       "      <td>4</td>\n",
       "      <td>18</td>\n",
       "      <td>17</td>\n",
       "      <td>2</td>\n",
       "      <td>4</td>\n",
       "      <td>5</td>\n",
       "      <td>12</td>\n",
       "      <td>...</td>\n",
       "      <td>1</td>\n",
       "      <td>1</td>\n",
       "      <td>88</td>\n",
       "      <td>10</td>\n",
       "      <td>5</td>\n",
       "      <td>1</td>\n",
       "      <td>12</td>\n",
       "      <td>2</td>\n",
       "      <td>1</td>\n",
       "      <td>6</td>\n",
       "    </tr>\n",
       "    <tr>\n",
       "      <th>productReviews</th>\n",
       "      <td>{u'productReview': {u'status': 1, u'overallRat...</td>\n",
       "      <td>{u'productReview': {u'status': 1, u'overallRat...</td>\n",
       "      <td>{u'productReview': {u'status': 1, u'overallRat...</td>\n",
       "      <td>{u'productReview': {u'status': 1, u'overallRat...</td>\n",
       "      <td>{u'productReview': {u'status': 1, u'overallRat...</td>\n",
       "      <td>{u'productReview': {u'status': 1, u'overallRat...</td>\n",
       "      <td>{u'productReview': {u'status': 1, u'overallRat...</td>\n",
       "      <td>{u'productReview': {u'status': 1, u'overallRat...</td>\n",
       "      <td>{u'productReview': {u'status': 1, u'overallRat...</td>\n",
       "      <td>{u'productReview': {u'status': 1, u'overallRat...</td>\n",
       "      <td>...</td>\n",
       "      <td>{u'productReview': {u'status': 1, u'overallRat...</td>\n",
       "      <td>{u'productReview': {u'status': 1, u'overallRat...</td>\n",
       "      <td>{u'productReview': {u'status': 1, u'overallRat...</td>\n",
       "      <td>{u'productReview': {u'status': 1, u'overallRat...</td>\n",
       "      <td>{u'productReview': {u'status': 1, u'overallRat...</td>\n",
       "      <td>{u'productReview': {u'status': 1, u'overallRat...</td>\n",
       "      <td>{u'productReview': {u'status': 1, u'overallRat...</td>\n",
       "      <td>{u'productReview': {u'status': 1, u'overallRat...</td>\n",
       "      <td>{u'productReview': {u'status': 1, u'overallRat...</td>\n",
       "      <td>{u'productReview': {u'status': 1, u'overallRat...</td>\n",
       "    </tr>\n",
       "    <tr>\n",
       "      <th>productReview</th>\n",
       "      <td>{u'status': 1, u'overallRating': None, u'verif...</td>\n",
       "      <td>{u'status': 1, u'overallRating': None, u'verif...</td>\n",
       "      <td>{u'status': 1, u'overallRating': None, u'verif...</td>\n",
       "      <td>{u'status': 1, u'overallRating': None, u'verif...</td>\n",
       "      <td>{u'status': 1, u'overallRating': None, u'verif...</td>\n",
       "      <td>{u'status': 1, u'overallRating': None, u'verif...</td>\n",
       "      <td>{u'status': 1, u'overallRating': None, u'verif...</td>\n",
       "      <td>{u'status': 1, u'overallRating': None, u'verif...</td>\n",
       "      <td>{u'status': 1, u'overallRating': None, u'verif...</td>\n",
       "      <td>{u'status': 1, u'overallRating': None, u'verif...</td>\n",
       "      <td>...</td>\n",
       "      <td>{u'status': 1, u'overallRating': None, u'verif...</td>\n",
       "      <td>{u'status': 1, u'overallRating': None, u'verif...</td>\n",
       "      <td>{u'status': 1, u'overallRating': None, u'verif...</td>\n",
       "      <td>{u'status': 1, u'overallRating': None, u'verif...</td>\n",
       "      <td>{u'status': 1, u'overallRating': None, u'verif...</td>\n",
       "      <td>{u'status': 1, u'overallRating': None, u'verif...</td>\n",
       "      <td>{u'status': 1, u'overallRating': None, u'verif...</td>\n",
       "      <td>{u'status': 1, u'overallRating': None, u'verif...</td>\n",
       "      <td>{u'status': 1, u'overallRating': None, u'verif...</td>\n",
       "      <td>{u'status': 1, u'overallRating': None, u'verif...</td>\n",
       "    </tr>\n",
       "    <tr>\n",
       "      <th>member</th>\n",
       "      <td>{u'username': u'AmenDela', u'profilePicPath': ...</td>\n",
       "      <td>{u'username': u'scadieux', u'profilePicPath': ...</td>\n",
       "      <td>{u'username': u'Jaxmoney', u'profilePicPath': ...</td>\n",
       "      <td>{u'username': u'JohnPMoran', u'profilePicPath'...</td>\n",
       "      <td>{u'username': u'coryacehall', u'profilePicPath...</td>\n",
       "      <td>{u'username': u'dyertyler2009', u'profilePicPa...</td>\n",
       "      <td>{u'username': u'Suleymanzada', u'profilePicPat...</td>\n",
       "      <td>{u'username': u'christiank15', u'profilePicPat...</td>\n",
       "      <td>{u'username': u'lionxeyes', u'profilePicPath':...</td>\n",
       "      <td>{u'username': u'DCGuru', u'profilePicPath': u'...</td>\n",
       "      <td>...</td>\n",
       "      <td>{u'username': u'humble2219', u'profilePicPath'...</td>\n",
       "      <td>{u'username': u'mr.symmetry', u'profilePicPath...</td>\n",
       "      <td>{u'username': u'Arch3rRosi3', u'profilePicPath...</td>\n",
       "      <td>{u'username': u'-=Zeus=-!', u'profilePicPath':...</td>\n",
       "      <td>{u'username': u'ccunnin2', u'profilePicPath': ...</td>\n",
       "      <td>{u'username': u'jjh0628', u'profilePicPath': u...</td>\n",
       "      <td>{u'username': u'mainlandnewfie', u'profilePicP...</td>\n",
       "      <td>{u'username': u'slimbaby28', u'profilePicPath'...</td>\n",
       "      <td>{u'username': u'hawkeyestilt', u'profilePicPat...</td>\n",
       "      <td>{u'username': u'nicoleliving', u'profilePicPat...</td>\n",
       "    </tr>\n",
       "    <tr>\n",
       "      <th>product</th>\n",
       "      <td>{u'imageMedium': u'http://store.bbcomcdn.com/i...</td>\n",
       "      <td>{u'imageMedium': u'http://store.bbcomcdn.com/i...</td>\n",
       "      <td>{u'imageMedium': u'http://store.bbcomcdn.com/i...</td>\n",
       "      <td>{u'imageMedium': u'http://store.bbcomcdn.com/i...</td>\n",
       "      <td>{u'imageMedium': u'http://store.bbcomcdn.com/i...</td>\n",
       "      <td>{u'imageMedium': u'http://store.bbcomcdn.com/i...</td>\n",
       "      <td>{u'imageMedium': u'http://store.bbcomcdn.com/i...</td>\n",
       "      <td>{u'imageMedium': u'http://store.bbcomcdn.com/i...</td>\n",
       "      <td>{u'imageMedium': u'http://store.bbcomcdn.com/i...</td>\n",
       "      <td>{u'imageMedium': u'http://store.bbcomcdn.com/i...</td>\n",
       "      <td>...</td>\n",
       "      <td>{u'imageMedium': u'http://store.bbcomcdn.com/i...</td>\n",
       "      <td>{u'imageMedium': u'http://store.bbcomcdn.com/i...</td>\n",
       "      <td>{u'imageMedium': u'http://store.bbcomcdn.com/i...</td>\n",
       "      <td>{u'imageMedium': u'http://store.bbcomcdn.com/i...</td>\n",
       "      <td>{u'imageMedium': u'http://store.bbcomcdn.com/i...</td>\n",
       "      <td>{u'imageMedium': u'http://store.bbcomcdn.com/i...</td>\n",
       "      <td>{u'imageMedium': u'http://store.bbcomcdn.com/i...</td>\n",
       "      <td>{u'imageMedium': u'http://store.bbcomcdn.com/i...</td>\n",
       "      <td>{u'imageMedium': u'http://store.bbcomcdn.com/i...</td>\n",
       "      <td>{u'imageMedium': u'http://store.bbcomcdn.com/i...</td>\n",
       "    </tr>\n",
       "    <tr>\n",
       "      <th>likeStats</th>\n",
       "      <td>None</td>\n",
       "      <td>None</td>\n",
       "      <td>None</td>\n",
       "      <td>None</td>\n",
       "      <td>None</td>\n",
       "      <td>None</td>\n",
       "      <td>None</td>\n",
       "      <td>None</td>\n",
       "      <td>None</td>\n",
       "      <td>None</td>\n",
       "      <td>...</td>\n",
       "      <td>None</td>\n",
       "      <td>None</td>\n",
       "      <td>None</td>\n",
       "      <td>None</td>\n",
       "      <td>None</td>\n",
       "      <td>None</td>\n",
       "      <td>None</td>\n",
       "      <td>None</td>\n",
       "      <td>None</td>\n",
       "      <td>None</td>\n",
       "    </tr>\n",
       "    <tr>\n",
       "      <th>stats</th>\n",
       "      <td>{u'weightChange': None, u'weight': u'180.0', u...</td>\n",
       "      <td>{u'weightChange': None, u'weight': u'130.0', u...</td>\n",
       "      <td>{u'weightChange': None, u'weight': u'212.0', u...</td>\n",
       "      <td>None</td>\n",
       "      <td>{u'weightChange': None, u'weight': u'185.0', u...</td>\n",
       "      <td>{u'weightChange': None, u'weight': u'166.0', u...</td>\n",
       "      <td>{u'weightChange': None, u'weight': u'155.0', u...</td>\n",
       "      <td>None</td>\n",
       "      <td>None</td>\n",
       "      <td>{u'weightChange': None, u'weight': u'179.5', u...</td>\n",
       "      <td>...</td>\n",
       "      <td>None</td>\n",
       "      <td>{u'weightChange': None, u'weight': u'223.0', u...</td>\n",
       "      <td>{u'weightChange': None, u'weight': u'134.0', u...</td>\n",
       "      <td>{u'weightChange': None, u'weight': u'190.0', u...</td>\n",
       "      <td>None</td>\n",
       "      <td>None</td>\n",
       "      <td>None</td>\n",
       "      <td>{u'weightChange': None, u'weight': u'139.6', u...</td>\n",
       "      <td>None</td>\n",
       "      <td>{u'weightChange': None, u'weight': u'125.0', u...</td>\n",
       "    </tr>\n",
       "    <tr>\n",
       "      <th>helpful</th>\n",
       "      <td>0</td>\n",
       "      <td>0</td>\n",
       "      <td>1</td>\n",
       "      <td>0</td>\n",
       "      <td>0</td>\n",
       "      <td>0</td>\n",
       "      <td>0</td>\n",
       "      <td>0</td>\n",
       "      <td>0</td>\n",
       "      <td>2</td>\n",
       "      <td>...</td>\n",
       "      <td>1</td>\n",
       "      <td>0</td>\n",
       "      <td>0</td>\n",
       "      <td>1</td>\n",
       "      <td>0</td>\n",
       "      <td>0</td>\n",
       "      <td>0</td>\n",
       "      <td>0</td>\n",
       "      <td>0</td>\n",
       "      <td>0</td>\n",
       "    </tr>\n",
       "    <tr>\n",
       "      <th>overallRating</th>\n",
       "      <td>8.1</td>\n",
       "      <td>9.5</td>\n",
       "      <td>9.2</td>\n",
       "      <td>8.9</td>\n",
       "      <td>9</td>\n",
       "      <td>8.9</td>\n",
       "      <td>9.7</td>\n",
       "      <td>8.4</td>\n",
       "      <td>9.4</td>\n",
       "      <td>9.3</td>\n",
       "      <td>...</td>\n",
       "      <td>9.7</td>\n",
       "      <td>9</td>\n",
       "      <td>9.3</td>\n",
       "      <td>9</td>\n",
       "      <td>9.3</td>\n",
       "      <td>1</td>\n",
       "      <td>8.4</td>\n",
       "      <td>6.4</td>\n",
       "      <td>7.3</td>\n",
       "      <td>9.6</td>\n",
       "    </tr>\n",
       "    <tr>\n",
       "      <th>totalRatings</th>\n",
       "      <td>7</td>\n",
       "      <td>4</td>\n",
       "      <td>6</td>\n",
       "      <td>78</td>\n",
       "      <td>66</td>\n",
       "      <td>169</td>\n",
       "      <td>10</td>\n",
       "      <td>70</td>\n",
       "      <td>23</td>\n",
       "      <td>92</td>\n",
       "      <td>...</td>\n",
       "      <td>51</td>\n",
       "      <td>1</td>\n",
       "      <td>264</td>\n",
       "      <td>92</td>\n",
       "      <td>35</td>\n",
       "      <td>1</td>\n",
       "      <td>39</td>\n",
       "      <td>8</td>\n",
       "      <td>18</td>\n",
       "      <td>14</td>\n",
       "    </tr>\n",
       "    <tr>\n",
       "      <th>wasHelpful</th>\n",
       "      <td>None</td>\n",
       "      <td>None</td>\n",
       "      <td>None</td>\n",
       "      <td>None</td>\n",
       "      <td>None</td>\n",
       "      <td>None</td>\n",
       "      <td>None</td>\n",
       "      <td>None</td>\n",
       "      <td>None</td>\n",
       "      <td>None</td>\n",
       "      <td>...</td>\n",
       "      <td>None</td>\n",
       "      <td>None</td>\n",
       "      <td>None</td>\n",
       "      <td>None</td>\n",
       "      <td>None</td>\n",
       "      <td>None</td>\n",
       "      <td>None</td>\n",
       "      <td>None</td>\n",
       "      <td>None</td>\n",
       "      <td>None</td>\n",
       "    </tr>\n",
       "    <tr>\n",
       "      <th>likeCount</th>\n",
       "      <td>None</td>\n",
       "      <td>None</td>\n",
       "      <td>None</td>\n",
       "      <td>None</td>\n",
       "      <td>None</td>\n",
       "      <td>None</td>\n",
       "      <td>None</td>\n",
       "      <td>None</td>\n",
       "      <td>None</td>\n",
       "      <td>None</td>\n",
       "      <td>...</td>\n",
       "      <td>None</td>\n",
       "      <td>None</td>\n",
       "      <td>None</td>\n",
       "      <td>None</td>\n",
       "      <td>None</td>\n",
       "      <td>None</td>\n",
       "      <td>None</td>\n",
       "      <td>None</td>\n",
       "      <td>None</td>\n",
       "      <td>None</td>\n",
       "    </tr>\n",
       "    <tr>\n",
       "      <th>commentCount</th>\n",
       "      <td>0</td>\n",
       "      <td>0</td>\n",
       "      <td>0</td>\n",
       "      <td>0</td>\n",
       "      <td>0</td>\n",
       "      <td>0</td>\n",
       "      <td>0</td>\n",
       "      <td>0</td>\n",
       "      <td>0</td>\n",
       "      <td>0</td>\n",
       "      <td>...</td>\n",
       "      <td>0</td>\n",
       "      <td>0</td>\n",
       "      <td>0</td>\n",
       "      <td>0</td>\n",
       "      <td>0</td>\n",
       "      <td>0</td>\n",
       "      <td>0</td>\n",
       "      <td>0</td>\n",
       "      <td>0</td>\n",
       "      <td>0</td>\n",
       "    </tr>\n",
       "    <tr>\n",
       "      <th>helpfulTotal</th>\n",
       "      <td>1</td>\n",
       "      <td>0</td>\n",
       "      <td>1</td>\n",
       "      <td>0</td>\n",
       "      <td>0</td>\n",
       "      <td>0</td>\n",
       "      <td>1</td>\n",
       "      <td>0</td>\n",
       "      <td>0</td>\n",
       "      <td>2</td>\n",
       "      <td>...</td>\n",
       "      <td>1</td>\n",
       "      <td>0</td>\n",
       "      <td>0</td>\n",
       "      <td>1</td>\n",
       "      <td>0</td>\n",
       "      <td>0</td>\n",
       "      <td>0</td>\n",
       "      <td>0</td>\n",
       "      <td>0</td>\n",
       "      <td>0</td>\n",
       "    </tr>\n",
       "    <tr>\n",
       "      <th>userRating</th>\n",
       "      <td>{u'overallRating': 5, u'totalRatings': None, u...</td>\n",
       "      <td>{u'overallRating': 10, u'totalRatings': None, ...</td>\n",
       "      <td>{u'overallRating': 10, u'totalRatings': None, ...</td>\n",
       "      <td>{u'overallRating': 10, u'totalRatings': None, ...</td>\n",
       "      <td>{u'overallRating': 8, u'totalRatings': None, u...</td>\n",
       "      <td>{u'overallRating': 10, u'totalRatings': None, ...</td>\n",
       "      <td>{u'overallRating': 10, u'totalRatings': None, ...</td>\n",
       "      <td>{u'overallRating': 10, u'totalRatings': None, ...</td>\n",
       "      <td>{u'overallRating': 9, u'totalRatings': None, u...</td>\n",
       "      <td>{u'overallRating': 10, u'totalRatings': None, ...</td>\n",
       "      <td>...</td>\n",
       "      <td>{u'overallRating': 10, u'totalRatings': None, ...</td>\n",
       "      <td>{u'overallRating': 9, u'totalRatings': None, u...</td>\n",
       "      <td>{u'overallRating': 8, u'totalRatings': None, u...</td>\n",
       "      <td>{u'overallRating': 8, u'totalRatings': None, u...</td>\n",
       "      <td>{u'overallRating': 2, u'totalRatings': None, u...</td>\n",
       "      <td>{u'overallRating': 1, u'totalRatings': None, u...</td>\n",
       "      <td>{u'overallRating': 10, u'totalRatings': None, ...</td>\n",
       "      <td>{u'overallRating': 1, u'totalRatings': None, u...</td>\n",
       "      <td>{u'overallRating': 10, u'totalRatings': None, ...</td>\n",
       "      <td>{u'overallRating': 10, u'totalRatings': None, ...</td>\n",
       "    </tr>\n",
       "    <tr>\n",
       "      <th>flavorRatings</th>\n",
       "      <td>None</td>\n",
       "      <td>None</td>\n",
       "      <td>None</td>\n",
       "      <td>None</td>\n",
       "      <td>None</td>\n",
       "      <td>None</td>\n",
       "      <td>None</td>\n",
       "      <td>None</td>\n",
       "      <td>None</td>\n",
       "      <td>None</td>\n",
       "      <td>...</td>\n",
       "      <td>None</td>\n",
       "      <td>None</td>\n",
       "      <td>None</td>\n",
       "      <td>None</td>\n",
       "      <td>None</td>\n",
       "      <td>None</td>\n",
       "      <td>None</td>\n",
       "      <td>None</td>\n",
       "      <td>None</td>\n",
       "      <td>None</td>\n",
       "    </tr>\n",
       "    <tr>\n",
       "      <th>height</th>\n",
       "      <td>71.0</td>\n",
       "      <td>65.0</td>\n",
       "      <td>None</td>\n",
       "      <td>None</td>\n",
       "      <td>74.0</td>\n",
       "      <td>68.0</td>\n",
       "      <td>67.0</td>\n",
       "      <td>None</td>\n",
       "      <td>None</td>\n",
       "      <td>69.0</td>\n",
       "      <td>...</td>\n",
       "      <td>None</td>\n",
       "      <td>72.0</td>\n",
       "      <td>62.5</td>\n",
       "      <td>72.0</td>\n",
       "      <td>None</td>\n",
       "      <td>None</td>\n",
       "      <td>None</td>\n",
       "      <td>67.0</td>\n",
       "      <td>None</td>\n",
       "      <td>67.0</td>\n",
       "    </tr>\n",
       "  </tbody>\n",
       "</table>\n",
       "<p>17 rows × 2160 columns</p>\n",
       "</div>"
      ],
      "text/plain": [
       "                                                             0     \\\n",
       "totalItems                                                      2   \n",
       "productReviews  {u'productReview': {u'status': 1, u'overallRat...   \n",
       "productReview   {u'status': 1, u'overallRating': None, u'verif...   \n",
       "member          {u'username': u'AmenDela', u'profilePicPath': ...   \n",
       "product         {u'imageMedium': u'http://store.bbcomcdn.com/i...   \n",
       "likeStats                                                    None   \n",
       "stats           {u'weightChange': None, u'weight': u'180.0', u...   \n",
       "helpful                                                         0   \n",
       "overallRating                                                 8.1   \n",
       "totalRatings                                                    7   \n",
       "wasHelpful                                                   None   \n",
       "likeCount                                                    None   \n",
       "commentCount                                                    0   \n",
       "helpfulTotal                                                    1   \n",
       "userRating      {u'overallRating': 5, u'totalRatings': None, u...   \n",
       "flavorRatings                                                None   \n",
       "height                                                       71.0   \n",
       "\n",
       "                                                             1     \\\n",
       "totalItems                                                      2   \n",
       "productReviews  {u'productReview': {u'status': 1, u'overallRat...   \n",
       "productReview   {u'status': 1, u'overallRating': None, u'verif...   \n",
       "member          {u'username': u'scadieux', u'profilePicPath': ...   \n",
       "product         {u'imageMedium': u'http://store.bbcomcdn.com/i...   \n",
       "likeStats                                                    None   \n",
       "stats           {u'weightChange': None, u'weight': u'130.0', u...   \n",
       "helpful                                                         0   \n",
       "overallRating                                                 9.5   \n",
       "totalRatings                                                    4   \n",
       "wasHelpful                                                   None   \n",
       "likeCount                                                    None   \n",
       "commentCount                                                    0   \n",
       "helpfulTotal                                                    0   \n",
       "userRating      {u'overallRating': 10, u'totalRatings': None, ...   \n",
       "flavorRatings                                                None   \n",
       "height                                                       65.0   \n",
       "\n",
       "                                                             2     \\\n",
       "totalItems                                                      1   \n",
       "productReviews  {u'productReview': {u'status': 1, u'overallRat...   \n",
       "productReview   {u'status': 1, u'overallRating': None, u'verif...   \n",
       "member          {u'username': u'Jaxmoney', u'profilePicPath': ...   \n",
       "product         {u'imageMedium': u'http://store.bbcomcdn.com/i...   \n",
       "likeStats                                                    None   \n",
       "stats           {u'weightChange': None, u'weight': u'212.0', u...   \n",
       "helpful                                                         1   \n",
       "overallRating                                                 9.2   \n",
       "totalRatings                                                    6   \n",
       "wasHelpful                                                   None   \n",
       "likeCount                                                    None   \n",
       "commentCount                                                    0   \n",
       "helpfulTotal                                                    1   \n",
       "userRating      {u'overallRating': 10, u'totalRatings': None, ...   \n",
       "flavorRatings                                                None   \n",
       "height                                                       None   \n",
       "\n",
       "                                                             3     \\\n",
       "totalItems                                                      4   \n",
       "productReviews  {u'productReview': {u'status': 1, u'overallRat...   \n",
       "productReview   {u'status': 1, u'overallRating': None, u'verif...   \n",
       "member          {u'username': u'JohnPMoran', u'profilePicPath'...   \n",
       "product         {u'imageMedium': u'http://store.bbcomcdn.com/i...   \n",
       "likeStats                                                    None   \n",
       "stats                                                        None   \n",
       "helpful                                                         0   \n",
       "overallRating                                                 8.9   \n",
       "totalRatings                                                   78   \n",
       "wasHelpful                                                   None   \n",
       "likeCount                                                    None   \n",
       "commentCount                                                    0   \n",
       "helpfulTotal                                                    0   \n",
       "userRating      {u'overallRating': 10, u'totalRatings': None, ...   \n",
       "flavorRatings                                                None   \n",
       "height                                                       None   \n",
       "\n",
       "                                                             4     \\\n",
       "totalItems                                                     18   \n",
       "productReviews  {u'productReview': {u'status': 1, u'overallRat...   \n",
       "productReview   {u'status': 1, u'overallRating': None, u'verif...   \n",
       "member          {u'username': u'coryacehall', u'profilePicPath...   \n",
       "product         {u'imageMedium': u'http://store.bbcomcdn.com/i...   \n",
       "likeStats                                                    None   \n",
       "stats           {u'weightChange': None, u'weight': u'185.0', u...   \n",
       "helpful                                                         0   \n",
       "overallRating                                                   9   \n",
       "totalRatings                                                   66   \n",
       "wasHelpful                                                   None   \n",
       "likeCount                                                    None   \n",
       "commentCount                                                    0   \n",
       "helpfulTotal                                                    0   \n",
       "userRating      {u'overallRating': 8, u'totalRatings': None, u...   \n",
       "flavorRatings                                                None   \n",
       "height                                                       74.0   \n",
       "\n",
       "                                                             5     \\\n",
       "totalItems                                                     17   \n",
       "productReviews  {u'productReview': {u'status': 1, u'overallRat...   \n",
       "productReview   {u'status': 1, u'overallRating': None, u'verif...   \n",
       "member          {u'username': u'dyertyler2009', u'profilePicPa...   \n",
       "product         {u'imageMedium': u'http://store.bbcomcdn.com/i...   \n",
       "likeStats                                                    None   \n",
       "stats           {u'weightChange': None, u'weight': u'166.0', u...   \n",
       "helpful                                                         0   \n",
       "overallRating                                                 8.9   \n",
       "totalRatings                                                  169   \n",
       "wasHelpful                                                   None   \n",
       "likeCount                                                    None   \n",
       "commentCount                                                    0   \n",
       "helpfulTotal                                                    0   \n",
       "userRating      {u'overallRating': 10, u'totalRatings': None, ...   \n",
       "flavorRatings                                                None   \n",
       "height                                                       68.0   \n",
       "\n",
       "                                                             6     \\\n",
       "totalItems                                                      2   \n",
       "productReviews  {u'productReview': {u'status': 1, u'overallRat...   \n",
       "productReview   {u'status': 1, u'overallRating': None, u'verif...   \n",
       "member          {u'username': u'Suleymanzada', u'profilePicPat...   \n",
       "product         {u'imageMedium': u'http://store.bbcomcdn.com/i...   \n",
       "likeStats                                                    None   \n",
       "stats           {u'weightChange': None, u'weight': u'155.0', u...   \n",
       "helpful                                                         0   \n",
       "overallRating                                                 9.7   \n",
       "totalRatings                                                   10   \n",
       "wasHelpful                                                   None   \n",
       "likeCount                                                    None   \n",
       "commentCount                                                    0   \n",
       "helpfulTotal                                                    1   \n",
       "userRating      {u'overallRating': 10, u'totalRatings': None, ...   \n",
       "flavorRatings                                                None   \n",
       "height                                                       67.0   \n",
       "\n",
       "                                                             7     \\\n",
       "totalItems                                                      4   \n",
       "productReviews  {u'productReview': {u'status': 1, u'overallRat...   \n",
       "productReview   {u'status': 1, u'overallRating': None, u'verif...   \n",
       "member          {u'username': u'christiank15', u'profilePicPat...   \n",
       "product         {u'imageMedium': u'http://store.bbcomcdn.com/i...   \n",
       "likeStats                                                    None   \n",
       "stats                                                        None   \n",
       "helpful                                                         0   \n",
       "overallRating                                                 8.4   \n",
       "totalRatings                                                   70   \n",
       "wasHelpful                                                   None   \n",
       "likeCount                                                    None   \n",
       "commentCount                                                    0   \n",
       "helpfulTotal                                                    0   \n",
       "userRating      {u'overallRating': 10, u'totalRatings': None, ...   \n",
       "flavorRatings                                                None   \n",
       "height                                                       None   \n",
       "\n",
       "                                                             8     \\\n",
       "totalItems                                                      5   \n",
       "productReviews  {u'productReview': {u'status': 1, u'overallRat...   \n",
       "productReview   {u'status': 1, u'overallRating': None, u'verif...   \n",
       "member          {u'username': u'lionxeyes', u'profilePicPath':...   \n",
       "product         {u'imageMedium': u'http://store.bbcomcdn.com/i...   \n",
       "likeStats                                                    None   \n",
       "stats                                                        None   \n",
       "helpful                                                         0   \n",
       "overallRating                                                 9.4   \n",
       "totalRatings                                                   23   \n",
       "wasHelpful                                                   None   \n",
       "likeCount                                                    None   \n",
       "commentCount                                                    0   \n",
       "helpfulTotal                                                    0   \n",
       "userRating      {u'overallRating': 9, u'totalRatings': None, u...   \n",
       "flavorRatings                                                None   \n",
       "height                                                       None   \n",
       "\n",
       "                                                             9     \\\n",
       "totalItems                                                     12   \n",
       "productReviews  {u'productReview': {u'status': 1, u'overallRat...   \n",
       "productReview   {u'status': 1, u'overallRating': None, u'verif...   \n",
       "member          {u'username': u'DCGuru', u'profilePicPath': u'...   \n",
       "product         {u'imageMedium': u'http://store.bbcomcdn.com/i...   \n",
       "likeStats                                                    None   \n",
       "stats           {u'weightChange': None, u'weight': u'179.5', u...   \n",
       "helpful                                                         2   \n",
       "overallRating                                                 9.3   \n",
       "totalRatings                                                   92   \n",
       "wasHelpful                                                   None   \n",
       "likeCount                                                    None   \n",
       "commentCount                                                    0   \n",
       "helpfulTotal                                                    2   \n",
       "userRating      {u'overallRating': 10, u'totalRatings': None, ...   \n",
       "flavorRatings                                                None   \n",
       "height                                                       69.0   \n",
       "\n",
       "                                      ...                          \\\n",
       "totalItems                            ...                           \n",
       "productReviews                        ...                           \n",
       "productReview                         ...                           \n",
       "member                                ...                           \n",
       "product                               ...                           \n",
       "likeStats                             ...                           \n",
       "stats                                 ...                           \n",
       "helpful                               ...                           \n",
       "overallRating                         ...                           \n",
       "totalRatings                          ...                           \n",
       "wasHelpful                            ...                           \n",
       "likeCount                             ...                           \n",
       "commentCount                          ...                           \n",
       "helpfulTotal                          ...                           \n",
       "userRating                            ...                           \n",
       "flavorRatings                         ...                           \n",
       "height                                ...                           \n",
       "\n",
       "                                                             2150  \\\n",
       "totalItems                                                      1   \n",
       "productReviews  {u'productReview': {u'status': 1, u'overallRat...   \n",
       "productReview   {u'status': 1, u'overallRating': None, u'verif...   \n",
       "member          {u'username': u'humble2219', u'profilePicPath'...   \n",
       "product         {u'imageMedium': u'http://store.bbcomcdn.com/i...   \n",
       "likeStats                                                    None   \n",
       "stats                                                        None   \n",
       "helpful                                                         1   \n",
       "overallRating                                                 9.7   \n",
       "totalRatings                                                   51   \n",
       "wasHelpful                                                   None   \n",
       "likeCount                                                    None   \n",
       "commentCount                                                    0   \n",
       "helpfulTotal                                                    1   \n",
       "userRating      {u'overallRating': 10, u'totalRatings': None, ...   \n",
       "flavorRatings                                                None   \n",
       "height                                                       None   \n",
       "\n",
       "                                                             2151  \\\n",
       "totalItems                                                      1   \n",
       "productReviews  {u'productReview': {u'status': 1, u'overallRat...   \n",
       "productReview   {u'status': 1, u'overallRating': None, u'verif...   \n",
       "member          {u'username': u'mr.symmetry', u'profilePicPath...   \n",
       "product         {u'imageMedium': u'http://store.bbcomcdn.com/i...   \n",
       "likeStats                                                    None   \n",
       "stats           {u'weightChange': None, u'weight': u'223.0', u...   \n",
       "helpful                                                         0   \n",
       "overallRating                                                   9   \n",
       "totalRatings                                                    1   \n",
       "wasHelpful                                                   None   \n",
       "likeCount                                                    None   \n",
       "commentCount                                                    0   \n",
       "helpfulTotal                                                    0   \n",
       "userRating      {u'overallRating': 9, u'totalRatings': None, u...   \n",
       "flavorRatings                                                None   \n",
       "height                                                       72.0   \n",
       "\n",
       "                                                             2152  \\\n",
       "totalItems                                                     88   \n",
       "productReviews  {u'productReview': {u'status': 1, u'overallRat...   \n",
       "productReview   {u'status': 1, u'overallRating': None, u'verif...   \n",
       "member          {u'username': u'Arch3rRosi3', u'profilePicPath...   \n",
       "product         {u'imageMedium': u'http://store.bbcomcdn.com/i...   \n",
       "likeStats                                                    None   \n",
       "stats           {u'weightChange': None, u'weight': u'134.0', u...   \n",
       "helpful                                                         0   \n",
       "overallRating                                                 9.3   \n",
       "totalRatings                                                  264   \n",
       "wasHelpful                                                   None   \n",
       "likeCount                                                    None   \n",
       "commentCount                                                    0   \n",
       "helpfulTotal                                                    0   \n",
       "userRating      {u'overallRating': 8, u'totalRatings': None, u...   \n",
       "flavorRatings                                                None   \n",
       "height                                                       62.5   \n",
       "\n",
       "                                                             2153  \\\n",
       "totalItems                                                     10   \n",
       "productReviews  {u'productReview': {u'status': 1, u'overallRat...   \n",
       "productReview   {u'status': 1, u'overallRating': None, u'verif...   \n",
       "member          {u'username': u'-=Zeus=-!', u'profilePicPath':...   \n",
       "product         {u'imageMedium': u'http://store.bbcomcdn.com/i...   \n",
       "likeStats                                                    None   \n",
       "stats           {u'weightChange': None, u'weight': u'190.0', u...   \n",
       "helpful                                                         1   \n",
       "overallRating                                                   9   \n",
       "totalRatings                                                   92   \n",
       "wasHelpful                                                   None   \n",
       "likeCount                                                    None   \n",
       "commentCount                                                    0   \n",
       "helpfulTotal                                                    1   \n",
       "userRating      {u'overallRating': 8, u'totalRatings': None, u...   \n",
       "flavorRatings                                                None   \n",
       "height                                                       72.0   \n",
       "\n",
       "                                                             2154  \\\n",
       "totalItems                                                      5   \n",
       "productReviews  {u'productReview': {u'status': 1, u'overallRat...   \n",
       "productReview   {u'status': 1, u'overallRating': None, u'verif...   \n",
       "member          {u'username': u'ccunnin2', u'profilePicPath': ...   \n",
       "product         {u'imageMedium': u'http://store.bbcomcdn.com/i...   \n",
       "likeStats                                                    None   \n",
       "stats                                                        None   \n",
       "helpful                                                         0   \n",
       "overallRating                                                 9.3   \n",
       "totalRatings                                                   35   \n",
       "wasHelpful                                                   None   \n",
       "likeCount                                                    None   \n",
       "commentCount                                                    0   \n",
       "helpfulTotal                                                    0   \n",
       "userRating      {u'overallRating': 2, u'totalRatings': None, u...   \n",
       "flavorRatings                                                None   \n",
       "height                                                       None   \n",
       "\n",
       "                                                             2155  \\\n",
       "totalItems                                                      1   \n",
       "productReviews  {u'productReview': {u'status': 1, u'overallRat...   \n",
       "productReview   {u'status': 1, u'overallRating': None, u'verif...   \n",
       "member          {u'username': u'jjh0628', u'profilePicPath': u...   \n",
       "product         {u'imageMedium': u'http://store.bbcomcdn.com/i...   \n",
       "likeStats                                                    None   \n",
       "stats                                                        None   \n",
       "helpful                                                         0   \n",
       "overallRating                                                   1   \n",
       "totalRatings                                                    1   \n",
       "wasHelpful                                                   None   \n",
       "likeCount                                                    None   \n",
       "commentCount                                                    0   \n",
       "helpfulTotal                                                    0   \n",
       "userRating      {u'overallRating': 1, u'totalRatings': None, u...   \n",
       "flavorRatings                                                None   \n",
       "height                                                       None   \n",
       "\n",
       "                                                             2156  \\\n",
       "totalItems                                                     12   \n",
       "productReviews  {u'productReview': {u'status': 1, u'overallRat...   \n",
       "productReview   {u'status': 1, u'overallRating': None, u'verif...   \n",
       "member          {u'username': u'mainlandnewfie', u'profilePicP...   \n",
       "product         {u'imageMedium': u'http://store.bbcomcdn.com/i...   \n",
       "likeStats                                                    None   \n",
       "stats                                                        None   \n",
       "helpful                                                         0   \n",
       "overallRating                                                 8.4   \n",
       "totalRatings                                                   39   \n",
       "wasHelpful                                                   None   \n",
       "likeCount                                                    None   \n",
       "commentCount                                                    0   \n",
       "helpfulTotal                                                    0   \n",
       "userRating      {u'overallRating': 10, u'totalRatings': None, ...   \n",
       "flavorRatings                                                None   \n",
       "height                                                       None   \n",
       "\n",
       "                                                             2157  \\\n",
       "totalItems                                                      2   \n",
       "productReviews  {u'productReview': {u'status': 1, u'overallRat...   \n",
       "productReview   {u'status': 1, u'overallRating': None, u'verif...   \n",
       "member          {u'username': u'slimbaby28', u'profilePicPath'...   \n",
       "product         {u'imageMedium': u'http://store.bbcomcdn.com/i...   \n",
       "likeStats                                                    None   \n",
       "stats           {u'weightChange': None, u'weight': u'139.6', u...   \n",
       "helpful                                                         0   \n",
       "overallRating                                                 6.4   \n",
       "totalRatings                                                    8   \n",
       "wasHelpful                                                   None   \n",
       "likeCount                                                    None   \n",
       "commentCount                                                    0   \n",
       "helpfulTotal                                                    0   \n",
       "userRating      {u'overallRating': 1, u'totalRatings': None, u...   \n",
       "flavorRatings                                                None   \n",
       "height                                                       67.0   \n",
       "\n",
       "                                                             2158  \\\n",
       "totalItems                                                      1   \n",
       "productReviews  {u'productReview': {u'status': 1, u'overallRat...   \n",
       "productReview   {u'status': 1, u'overallRating': None, u'verif...   \n",
       "member          {u'username': u'hawkeyestilt', u'profilePicPat...   \n",
       "product         {u'imageMedium': u'http://store.bbcomcdn.com/i...   \n",
       "likeStats                                                    None   \n",
       "stats                                                        None   \n",
       "helpful                                                         0   \n",
       "overallRating                                                 7.3   \n",
       "totalRatings                                                   18   \n",
       "wasHelpful                                                   None   \n",
       "likeCount                                                    None   \n",
       "commentCount                                                    0   \n",
       "helpfulTotal                                                    0   \n",
       "userRating      {u'overallRating': 10, u'totalRatings': None, ...   \n",
       "flavorRatings                                                None   \n",
       "height                                                       None   \n",
       "\n",
       "                                                             2159  \n",
       "totalItems                                                      6  \n",
       "productReviews  {u'productReview': {u'status': 1, u'overallRat...  \n",
       "productReview   {u'status': 1, u'overallRating': None, u'verif...  \n",
       "member          {u'username': u'nicoleliving', u'profilePicPat...  \n",
       "product         {u'imageMedium': u'http://store.bbcomcdn.com/i...  \n",
       "likeStats                                                    None  \n",
       "stats           {u'weightChange': None, u'weight': u'125.0', u...  \n",
       "helpful                                                         0  \n",
       "overallRating                                                 9.6  \n",
       "totalRatings                                                   14  \n",
       "wasHelpful                                                   None  \n",
       "likeCount                                                    None  \n",
       "commentCount                                                    0  \n",
       "helpfulTotal                                                    0  \n",
       "userRating      {u'overallRating': 10, u'totalRatings': None, ...  \n",
       "flavorRatings                                                None  \n",
       "height                                                       67.0  \n",
       "\n",
       "[17 rows x 2160 columns]"
      ]
     },
     "execution_count": 135,
     "metadata": {},
     "output_type": "execute_result"
    }
   ],
   "source": [
    "model.df.T"
   ]
  },
  {
   "cell_type": "code",
   "execution_count": 142,
   "metadata": {
    "collapsed": false
   },
   "outputs": [
    {
     "ename": "AttributeError",
     "evalue": "'BBmodel' object has no attribute 'useless'",
     "output_type": "error",
     "traceback": [
      "\u001b[0;31m---------------------------------------------------------------------------\u001b[0m",
      "\u001b[0;31mAttributeError\u001b[0m                            Traceback (most recent call last)",
      "\u001b[0;32m<ipython-input-142-e5b262e9f2a9>\u001b[0m in \u001b[0;36m<module>\u001b[0;34m()\u001b[0m\n\u001b[0;32m----> 1\u001b[0;31m \u001b[0mmodel\u001b[0m\u001b[0;34m.\u001b[0m\u001b[0museless\u001b[0m\u001b[0;34m\u001b[0m\u001b[0m\n\u001b[0m",
      "\u001b[0;31mAttributeError\u001b[0m: 'BBmodel' object has no attribute 'useless'"
     ]
    }
   ],
   "source": [
    "model.useless"
   ]
  },
  {
   "cell_type": "code",
   "execution_count": 186,
   "metadata": {
    "collapsed": false
   },
   "outputs": [],
   "source": [
    "run bodymodeling.py"
   ]
  },
  {
   "cell_type": "code",
   "execution_count": 197,
   "metadata": {
    "collapsed": false
   },
   "outputs": [
    {
     "data": {
      "text/plain": [
       "0       Made with USDA Organic, Non-GMO, Plant-Based, ...\n",
       "1       Lightweight And Supportive To The Major Leg Mu...\n",
       "2       Ideal For Between Workouts To Feed Muscles And...\n",
       "3       Supports Energy, Endurance, & Mental Clarity D...\n",
       "4       Promotes Mental Focus, Memory, Mood, and Fat B...\n",
       "5       Great Tasting Pre-Training Formula for Increas...\n",
       "6       Contains Hydromax Glycerol, Agmatine Sulfate A...\n",
       "7       Includes Ingredients Designed To Support Skin ...\n",
       "8       Designed for Women to Support Fat Burning and ...\n",
       "9       Promotes Athletic Performance and Lean Muscle ...\n",
       "10                   Comes In An Easy Single Dose Capsule\n",
       "11                     Mix It Smooth! Anytime! Anywhere!!\n",
       "12      High Potency Amino Acid For Overall Health And...\n",
       "13      Includes a Blend of Nutrients Proven to Maximi...\n",
       "14      Enhances Endurance, Boosts Metabolism, and Cra...\n",
       "15      Perfect Between Meal and Nighttime Muscle Buil...\n",
       "16         Unflavored Citrulline Malate with Zero Fillers\n",
       "17      Support Muscle Recovery, Endurance, and Strength*\n",
       "18         Supports Your Body’s Ability For Muscle Growth\n",
       "19                            Supports Repair & Recovery*\n",
       "20      Delivers Ultra Premium 100% Whey Protein Isola...\n",
       "21      Ideal For Between Meals During Workouts To Fee...\n",
       "22                   Recover Faster for Peak Performance*\n",
       "23      Supports Cardiovascular, Immune Systems and Br...\n",
       "24      Tribulus May Naturally Support Testosterone Le...\n",
       "25      Designed To Control Appetite While Boosting Fa...\n",
       "26      A Bi-Phasic Protein Blend with No Fillers or P...\n",
       "27                Supports Brain, Skin, and Joint Health*\n",
       "28      Offers Comprehensive Meal Management Capabilit...\n",
       "29      Travel Effortlessly with Meals, Sports Nutriti...\n",
       "                              ...                        \n",
       "2130    Well Suited For Single or Dual Hand Core Movem...\n",
       "2131    Medicine Balls Help Build Core Strength and De...\n",
       "2132               No Carbs, Sugar Free And Calorie Free!\n",
       "2133              Rich Creamy Calorie Free Coffee Creamer\n",
       "2134            The Perfect Low Calorie Sugar Free Snack!\n",
       "2135    Incredibly Delicious And Perfect For Eating He...\n",
       "2136    Perfect on Pancakes, Ice Cream, Smoothies and ...\n",
       "2137                               Love The Food You Eat!\n",
       "2138                     A Great Sugar Free Fruit Spread!\n",
       "2139               No Carbs, Sugar Free And Calorie Free!\n",
       "2140                 Natural Fresh Roasted Peanut Flavor!\n",
       "2141    Provides More Work Output And More Muscular Po...\n",
       "2142    A Healthy Way To Support Weight Loss And Energ...\n",
       "2143    Help Build And Repair Body Tissues Including M...\n",
       "2144                          X2X Logos On Front And Back\n",
       "2145                       Features Soft Tri-Blend Fabric\n",
       "2146    Features Very Soft With Good Fabric Stretch an...\n",
       "2147    A Stringer Cut Tank with Y-Back Made With Supe...\n",
       "2148    Ultra-Soft Tee with X2X Logo Printed Verticall...\n",
       "2149                 Soft Combed Cotton With Good Stretch\n",
       "2150    Designed For Hardcore Workouts, Hardcore Inten...\n",
       "2151                               Sweetened With Xylitol\n",
       "2152    Professional Caliber Sustained Release Micella...\n",
       "2153      Fast Acting Whey Protein & Loaded With BCAA's!*\n",
       "2154                  Naturally Flavored High Protein Bar\n",
       "2155               Unrivaled Comfort And Range Of Motion!\n",
       "2156    Energy Drink Loaded With 25 High Quality Vitam...\n",
       "2157                    High Energy Fat Burning Support!*\n",
       "2158    The Ideal Balance Of Protein, Carbs, Fats, Vit...\n",
       "2159                   Indulgence Without The Guilt Trip!\n",
       "Name: description, dtype: object"
      ]
     },
     "execution_count": 197,
     "metadata": {},
     "output_type": "execute_result"
    }
   ],
   "source": [
    "model.df['description']"
   ]
  },
  {
   "cell_type": "code",
   "execution_count": 184,
   "metadata": {
    "collapsed": false
   },
   "outputs": [
    {
     "data": {
      "text/plain": [
       "Index([            u'totalItems',         u'productReviews',\n",
       "                u'productReview',                 u'member',\n",
       "                      u'product',              u'likeStats',\n",
       "                        u'stats',                u'helpful',\n",
       "                u'overallRating',           u'totalRatings',\n",
       "                   u'wasHelpful',              u'likeCount',\n",
       "                 u'commentCount',           u'helpfulTotal',\n",
       "                   u'userRating',          u'flavorRatings',\n",
       "                       u'status',               u'verified',\n",
       "                        u'title',                   u'text',\n",
       "                     u'username',     u'updateStatusReason',\n",
       "                      u'brandId',                u'skuList',\n",
       "                      u'modDate',                   u'date',\n",
       "                     u'entityId',                    u'_id',\n",
       "                         u'slug',                 u'userId',\n",
       "                    u'productId',         u'profilePicPath',\n",
       "                   u'photoCount',    u'profilePicThumbPath',\n",
       "         u'profilePicAvatarPath',                 u'gender',\n",
       "                    u'activated',               u'vbuserId',\n",
       "                   u'profileURL', u'profilePicOriginalPath',\n",
       "                 u'lastActivity',               u'joinDate',\n",
       "                 u'emailAddress',                u'groupId',\n",
       "                     u'realName',            u'imageMedium',\n",
       "                 u'totalReviews',             u'flavorList',\n",
       "          u'totalVerifiedBuyers',       u'briefDescription',\n",
       "                           u'id',    u'verifiedBuyerRating',\n",
       "                  u'description',   u'totalVerifiedReviews',\n",
       "                   u'imageLarge',                   u'name',\n",
       "                   u'imageSmall',                    u'url',\n",
       "                    u'brandName',              u'reviewUrl',\n",
       "                 u'weightChange',                 u'weight',\n",
       "                      u'bodyfat',                 u'height',\n",
       "                      u'ratings'],\n",
       "      dtype='object')"
      ]
     },
     "execution_count": 184,
     "metadata": {},
     "output_type": "execute_result"
    }
   ],
   "source": [
    "model.df.columns"
   ]
  },
  {
   "cell_type": "code",
   "execution_count": 163,
   "metadata": {
    "collapsed": false
   },
   "outputs": [
    {
     "data": {
      "text/plain": [
       "[u'likeStats',\n",
       " u'wasHelpful',\n",
       " u'likeCount',\n",
       " u'commentCount',\n",
       " u'status',\n",
       " u'verified',\n",
       " u'skuList',\n",
       " u'photoCount',\n",
       " u'profilePicThumbPath',\n",
       " u'profilePicAvatarPath',\n",
       " u'gender',\n",
       " u'activated',\n",
       " u'vbuserId',\n",
       " u'profileURL',\n",
       " u'profilePicOriginalPath',\n",
       " u'lastActivity',\n",
       " u'joinDate',\n",
       " u'emailAddress',\n",
       " u'groupId',\n",
       " u'realName',\n",
       " u'briefDescription',\n",
       " u'weightChange']"
      ]
     },
     "execution_count": 163,
     "metadata": {},
     "output_type": "execute_result"
    }
   ],
   "source": [
    "model.useless"
   ]
  },
  {
   "cell_type": "code",
   "execution_count": 164,
   "metadata": {
    "collapsed": false
   },
   "outputs": [
    {
     "data": {
      "text/plain": [
       "0       None\n",
       "1       None\n",
       "2       None\n",
       "3       None\n",
       "4       None\n",
       "5       None\n",
       "6       None\n",
       "7       None\n",
       "8       None\n",
       "9       None\n",
       "10      None\n",
       "11      None\n",
       "12      None\n",
       "13      None\n",
       "14      None\n",
       "15      None\n",
       "16      None\n",
       "17      None\n",
       "18      None\n",
       "19      None\n",
       "20      None\n",
       "21      None\n",
       "22      None\n",
       "23      None\n",
       "24      None\n",
       "25      None\n",
       "26      None\n",
       "27      None\n",
       "28      None\n",
       "29      None\n",
       "        ... \n",
       "2130    None\n",
       "2131    None\n",
       "2132    None\n",
       "2133    None\n",
       "2134    None\n",
       "2135    None\n",
       "2136    None\n",
       "2137    None\n",
       "2138    None\n",
       "2139    None\n",
       "2140    None\n",
       "2141    None\n",
       "2142    None\n",
       "2143    None\n",
       "2144    None\n",
       "2145    None\n",
       "2146    None\n",
       "2147    None\n",
       "2148    None\n",
       "2149    None\n",
       "2150    None\n",
       "2151    None\n",
       "2152    None\n",
       "2153    None\n",
       "2154    None\n",
       "2155    None\n",
       "2156    None\n",
       "2157    None\n",
       "2158    None\n",
       "2159    None\n",
       "Name: joinDate, dtype: object"
      ]
     },
     "execution_count": 164,
     "metadata": {},
     "output_type": "execute_result"
    }
   ],
   "source": [
    "model.df.joinDate"
   ]
  },
  {
   "cell_type": "code",
   "execution_count": null,
   "metadata": {
    "collapsed": true
   },
   "outputs": [],
   "source": []
  }
 ],
 "metadata": {
  "kernelspec": {
   "display_name": "Python [Root]",
   "language": "python",
   "name": "Python [Root]"
  },
  "language_info": {
   "codemirror_mode": {
    "name": "ipython",
    "version": 2
   },
   "file_extension": ".py",
   "mimetype": "text/x-python",
   "name": "python",
   "nbconvert_exporter": "python",
   "pygments_lexer": "ipython2",
   "version": "2.7.12"
  }
 },
 "nbformat": 4,
 "nbformat_minor": 0
}
