{
 "cells": [
  {
   "cell_type": "code",
   "execution_count": 43,
   "metadata": {
    "collapsed": true
   },
   "outputs": [],
   "source": [
    "import requests\n",
    "from bs4 import BeautifulSoup\n",
    "import pandas as pd\n",
    "import numpy as np"
   ]
  },
  {
   "cell_type": "code",
   "execution_count": 2,
   "metadata": {
    "collapsed": true
   },
   "outputs": [],
   "source": [
    "from pymongo import MongoClient"
   ]
  },
  {
   "cell_type": "code",
   "execution_count": 7,
   "metadata": {
    "collapsed": false
   },
   "outputs": [],
   "source": [
    "client = MongoClient()\n",
    "db = client['bodyscrape']\n",
    "coll = db['products']"
   ]
  },
  {
   "cell_type": "code",
   "execution_count": 37,
   "metadata": {
    "collapsed": false
   },
   "outputs": [],
   "source": [
    "def insert_product(num):\n",
    "    '''\n",
    "    Inserts JSON dictionary entries into db.products collection\n",
    "    '''\n",
    "    params = {\\\n",
    "#           'page':1,\n",
    "      'reviewType':'verified'}\n",
    "#       ,'size':500} # foo.json()['totalItems'] gives total size but cannot call until foo.json initiated\n",
    "    headers = {\\\n",
    "               'Accept':'application/json',\n",
    "    'Accept-Encoding':'gzip, deflate, sdch, br',\n",
    "    'Accept-Language':'en-US,en;q=0.8',\n",
    "    'BB-App':'product-detail-app, 5.1.3',\n",
    "    'Connection':'keep-alive',\n",
    "    'Host':'catalog.bodybuilding.com',\n",
    "    'Origin':'http://www.bodybuilding.com',\n",
    "    'User-Agent':'Mozilla/5.0 (Linux; Android 6.0; Nexus 5 Build/MRA58N) \\\n",
    "    AppleWebKit/537.36 (KHTML, like Gecko) Chrome/46.0.2490.76 Mobile Safari/537.36}'\n",
    "              }\n",
    "    url = 'https://catalog.bodybuilding.com/products/'+str(num)+'/reviews'\n",
    "    r = requests.get(url, headers=headers, params=params)\n",
    "    r_json = r.json()\n",
    "    return r_json"
   ]
  },
  {
   "cell_type": "code",
   "execution_count": 38,
   "metadata": {
    "collapsed": true
   },
   "outputs": [],
   "source": [
    "test = insert_product('27113')"
   ]
  },
  {
   "cell_type": "code",
   "execution_count": 41,
   "metadata": {
    "collapsed": false
   },
   "outputs": [
    {
     "data": {
      "text/plain": [
       "[u'totalItems', u'productReviews']"
      ]
     },
     "execution_count": 41,
     "metadata": {},
     "output_type": "execute_result"
    }
   ],
   "source": [
    "test.keys()"
   ]
  },
  {
   "cell_type": "code",
   "execution_count": 67,
   "metadata": {
    "collapsed": false
   },
   "outputs": [],
   "source": [
    "params = {\\\n",
    "      'page':1,\n",
    "  'reviewType':'verified',\n",
    "  'size':20} # foo.json()['totalItems'] gives total size but cannot call until foo.json initiated\n",
    "headers = {\\\n",
    "           'Accept':'application/json',\n",
    "'Accept-Encoding':'gzip, deflate, sdch, br',\n",
    "'Accept-Language':'en-US,en;q=0.8',\n",
    "'BB-App':'product-detail-app, 5.1.3',\n",
    "'Connection':'keep-alive',\n",
    "'Host':'catalog.bodybuilding.com',\n",
    "'Origin':'http://www.bodybuilding.com',\n",
    "'User-Agent':'Mozilla/5.0 (Linux; Android 6.0; Nexus 5 Build/MRA58N) \\\n",
    "AppleWebKit/537.36 (KHTML, like Gecko) Chrome/46.0.2490.76 Mobile Safari/537.36}'\n",
    "          }\n",
    "\n",
    "url = 'https://catalog.bodybuilding.com/products/prod1620022/reviews'\n",
    "r = requests.get(url, headers=headers, params=params)\n"
   ]
  },
  {
   "cell_type": "code",
   "execution_count": 68,
   "metadata": {
    "collapsed": false
   },
   "outputs": [
    {
     "data": {
      "text/plain": [
       "(0, 18)"
      ]
     },
     "execution_count": 68,
     "metadata": {},
     "output_type": "execute_result"
    }
   ],
   "source": [
    "len(r.json()['productReviews']), r.json()['totalItems']"
   ]
  },
  {
   "cell_type": "code",
   "execution_count": 37,
   "metadata": {
    "collapsed": false
   },
   "outputs": [],
   "source": [
    "headers = {\\\n",
    "           'Accept':'application/json',\n",
    "'Accept-Encoding':'gzip, deflate, sdch, br',\n",
    "'Accept-Language':'en-US,en;q=0.8',\n",
    "'BB-App':'product-detail-app, 5.1.3',\n",
    "'Connection':'keep-alive',\n",
    "'Host':'catalog.bodybuilding.com',\n",
    "'Origin':'http://www.bodybuilding.com',\n",
    "'User-Agent':'Mozilla/5.0 (Linux; Android 6.0; Nexus 5 Build/MRA58N) AppleWebKit/537.36 (KHTML, like Gecko) Chrome/46.0.2490.76 Mobile Safari/537.36}'\n",
    "          }\n",
    "\n",
    "def store_data(prod_num):\n",
    "    params = {\\\n",
    "              'page':1,\n",
    "          'reviewType':'verified', 'size':50}\n",
    "    url = 'https://catalog.bodybuilding.com/products/'+str(prod_num)+'/reviews'\n",
    "    foo = requests.get(url, headers=headers, params=params)\n",
    "    return foo.json()\n",
    "#    return prod_num, foo.json().keys(), foo.json().values(),\\\n",
    "#'Total items', foo.json()['totalItems'],\\\n",
    "#'Len of prodReviews:', len(foo.json()['productReviews']),\\\n",
    "#foo.json()['productReviews']"
   ]
  },
  {
   "cell_type": "code",
   "execution_count": 35,
   "metadata": {
    "collapsed": false
   },
   "outputs": [],
   "source": [
    "no_results = store_data('prod3990046')\n",
    "results = store_data('24175')"
   ]
  },
  {
   "cell_type": "code",
   "execution_count": 36,
   "metadata": {
    "collapsed": false
   },
   "outputs": [
    {
     "data": {
      "text/plain": [
       "{u'productReviews': [], u'totalItems': 94}"
      ]
     },
     "execution_count": 36,
     "metadata": {},
     "output_type": "execute_result"
    }
   ],
   "source": [
    "results"
   ]
  },
  {
   "cell_type": "code",
   "execution_count": null,
   "metadata": {
    "collapsed": false
   },
   "outputs": [],
   "source": [
    "results.content == '{\"totalItems\":0,\"productReviews\":[]}'"
   ]
  },
  {
   "cell_type": "code",
   "execution_count": null,
   "metadata": {
    "collapsed": true
   },
   "outputs": [],
   "source": [
    "z = requests.get('http://reviews.bodybuilding.com/view-reviews')"
   ]
  },
  {
   "cell_type": "code",
   "execution_count": null,
   "metadata": {
    "collapsed": false
   },
   "outputs": [],
   "source": [
    "soup = BeautifulSoup(z.content)"
   ]
  },
  {
   "cell_type": "code",
   "execution_count": null,
   "metadata": {
    "collapsed": false
   },
   "outputs": [],
   "source": [
    "soup"
   ]
  },
  {
   "cell_type": "code",
   "execution_count": null,
   "metadata": {
    "collapsed": false,
    "scrolled": true
   },
   "outputs": [],
   "source": [
    "soup.findAll(id='brandName')[18]['href']"
   ]
  },
  {
   "cell_type": "code",
   "execution_count": null,
   "metadata": {
    "collapsed": false
   },
   "outputs": [],
   "source": [
    "brand_list =[soup.findAll(id='brandName')[i]['href'] for i in xrange(len(soup.findAll(id='brandName')))]\n",
    "    "
   ]
  },
  {
   "cell_type": "code",
   "execution_count": null,
   "metadata": {
    "collapsed": false,
    "scrolled": true
   },
   "outputs": [],
   "source": [
    "\n",
    "y = requests.get(brand_list[420])\n",
    "soup_y = BeautifulSoup(y.content)\n",
    "check =soup_y.findAll(attrs={'class':'product-image'})\n",
    "check"
   ]
  },
  {
   "cell_type": "code",
   "execution_count": null,
   "metadata": {
    "collapsed": true
   },
   "outputs": [],
   "source": [
    "def "
   ]
  },
  {
   "cell_type": "code",
   "execution_count": null,
   "metadata": {
    "collapsed": false
   },
   "outputs": [],
   "source": [
    "check[0].find('img')['src'].split('image/prod_')[1].split('/')[0]"
   ]
  },
  {
   "cell_type": "code",
   "execution_count": null,
   "metadata": {
    "collapsed": false
   },
   "outputs": [],
   "source": [
    "check[1]['src']"
   ]
  },
  {
   "cell_type": "code",
   "execution_count": null,
   "metadata": {
    "collapsed": false
   },
   "outputs": [],
   "source": [
    "check[2].find('img')['src'].split('image/prod_')[1].split('/')[0]"
   ]
  },
  {
   "cell_type": "code",
   "execution_count": null,
   "metadata": {
    "collapsed": false
   },
   "outputs": [],
   "source": [
    "for i in xrange(0, len(check), 2):\n",
    "    print check[i].find('img')['src'].split('image/prod_')[1].split('/')[0]"
   ]
  },
  {
   "cell_type": "code",
   "execution_count": null,
   "metadata": {
    "collapsed": true
   },
   "outputs": [],
   "source": [
    "def find_one(url):\n",
    "    \n",
    "     \n",
    "    \n",
    "\n",
    "\n",
    "\n"
   ]
  },
  {
   "cell_type": "code",
   "execution_count": null,
   "metadata": {
    "collapsed": false
   },
   "outputs": [],
   "source": [
    "z = requests.get('http://reviews.bodybuilding.com/Allmax_Nutrition/')\n",
    "soup = BeautifulSoup(z.content)\n",
    "tags = soup.findAll(attrs={'class':'button icon end'})"
   ]
  },
  {
   "cell_type": "code",
   "execution_count": null,
   "metadata": {
    "collapsed": false,
    "scrolled": true
   },
   "outputs": [],
   "source": [
    "for tag in tags:\n",
    "    print tag"
   ]
  },
  {
   "cell_type": "code",
   "execution_count": null,
   "metadata": {
    "collapsed": true
   },
   "outputs": [],
   "source": [
    "z = requests.get('http://reviews.bodybuilding.com/gasp/')\n",
    "soup = BeautifulSoup(z.content)\n",
    "tag = soup.findAll(attrs={'class':'button icon end'})[2]\n",
    "url = tag['href'].replace('./', 'http://reviews.bodybuilding.com/gasp/')"
   ]
  },
  {
   "cell_type": "code",
   "execution_count": null,
   "metadata": {
    "collapsed": false,
    "scrolled": true
   },
   "outputs": [],
   "source": [
    "soup.findAll(attrs={'class':'button icon end'})"
   ]
  },
  {
   "cell_type": "code",
   "execution_count": null,
   "metadata": {
    "collapsed": false
   },
   "outputs": [],
   "source": [
    "tag['href']\n"
   ]
  },
  {
   "cell_type": "code",
   "execution_count": null,
   "metadata": {
    "collapsed": false
   },
   "outputs": [],
   "source": [
    "url"
   ]
  },
  {
   "cell_type": "code",
   "execution_count": null,
   "metadata": {
    "collapsed": true
   },
   "outputs": [],
   "source": [
    "headers_next_page = {'Accept':'application/xml, text/xml, */*; q=0.01',\\\n",
    "'Accept-Encoding':'gzip, deflate, sdch',\\\n",
    "'Accept-Language':'en-US,en;q=0.8',\\\n",
    "'Connection':'keep-alive',\\\n",
    "'Host':'reviews.bodybuilding.com',\\\n",
    "'Referer':'http://reviews.bodybuilding.com/gasp/',\\\n",
    "'User-Agent':'Mozilla/5.0 (Macintosh; Intel Mac OS X 10_11_2) \\\n",
    "AppleWebKit/537.36 (KHTML, like Gecko) Chrome/54.0.2840.71 Safari/537.36',\\\n",
    "'Wicket-Ajax':'true',\\\n",
    "'Wicket-Ajax-BaseURL':'gasp/',\\\n",
    "'Wicket-FocusedElementId':'id33',\\\n",
    "'X-Requested-With':'XMLHttpRequest'\\\n",
    "}\n",
    "url = 'http://reviews.bodybuilding.com/gasp/?6-1.ILinkListener-products~container-productspanel-productsgroup-data~view~container-top~paginator-next&dataProvider=com.bodybuilding.reviews.providers.ProductDataProvider@7ccf59ba'\n",
    "foo = requests.get(url, headers=headers_next_page)"
   ]
  },
  {
   "cell_type": "code",
   "execution_count": 8,
   "metadata": {
    "collapsed": true
   },
   "outputs": [],
   "source": [
    "test =insert_product(24157)"
   ]
  },
  {
   "cell_type": "code",
   "execution_count": 44,
   "metadata": {
    "collapsed": false
   },
   "outputs": [],
   "source": [
    "df = pd.read_csv('products.csv')"
   ]
  },
  {
   "cell_type": "code",
   "execution_count": 67,
   "metadata": {
    "collapsed": true
   },
   "outputs": [],
   "source": [
    "import json"
   ]
  },
  {
   "cell_type": "code",
   "execution_count": 72,
   "metadata": {
    "collapsed": true
   },
   "outputs": [],
   "source": [
    "p = df.copy()"
   ]
  },
  {
   "cell_type": "code",
   "execution_count": 85,
   "metadata": {
    "collapsed": false,
    "scrolled": true
   },
   "outputs": [],
   "source": [
    "p.productReviews =p.productReviews.apply(lambda x: json.loads(x)[0])"
   ]
  },
  {
   "cell_type": "code",
   "execution_count": 182,
   "metadata": {
    "collapsed": false
   },
   "outputs": [
    {
     "data": {
      "text/plain": [
       "2160"
      ]
     },
     "execution_count": 182,
     "metadata": {},
     "output_type": "execute_result"
    }
   ],
   "source": [
    "p.shape[0]"
   ]
  },
  {
   "cell_type": "code",
   "execution_count": 185,
   "metadata": {
    "collapsed": false
   },
   "outputs": [],
   "source": [
    "def new_columns():\n",
    "    for col in p.productReviews[0].keys():\n",
    "        p[col] = [p.productReviews[i][col] for i in xrange(p.shape[0])]"
   ]
  },
  {
   "cell_type": "code",
   "execution_count": 189,
   "metadata": {
    "collapsed": false
   },
   "outputs": [
    {
     "data": {
      "text/html": [
       "<div>\n",
       "<table border=\"1\" class=\"dataframe\">\n",
       "  <thead>\n",
       "    <tr style=\"text-align: right;\">\n",
       "      <th></th>\n",
       "      <th>totalItems</th>\n",
       "      <th>productReviews</th>\n",
       "      <th>productReview</th>\n",
       "      <th>member</th>\n",
       "      <th>product</th>\n",
       "      <th>likeStats</th>\n",
       "      <th>stats</th>\n",
       "      <th>helpful</th>\n",
       "      <th>overallRating</th>\n",
       "      <th>totalRatings</th>\n",
       "      <th>wasHelpful</th>\n",
       "      <th>likeCount</th>\n",
       "      <th>commentCount</th>\n",
       "      <th>helpfulTotal</th>\n",
       "      <th>userRating</th>\n",
       "      <th>flavorRatings</th>\n",
       "    </tr>\n",
       "  </thead>\n",
       "  <tbody>\n",
       "    <tr>\n",
       "      <th>0</th>\n",
       "      <td>2</td>\n",
       "      <td>{u'productReview': {u'status': 1, u'overallRat...</td>\n",
       "      <td>{u'status': 1, u'overallRating': None, u'verif...</td>\n",
       "      <td>{u'username': u'AmenDela', u'profilePicPath': ...</td>\n",
       "      <td>{u'imageMedium': u'http://store.bbcomcdn.com/i...</td>\n",
       "      <td>None</td>\n",
       "      <td>{u'weightChange': None, u'weight': u'180.0', u...</td>\n",
       "      <td>0</td>\n",
       "      <td>8.1</td>\n",
       "      <td>7</td>\n",
       "      <td>None</td>\n",
       "      <td>None</td>\n",
       "      <td>0</td>\n",
       "      <td>1</td>\n",
       "      <td>{u'overallRating': 5, u'totalRatings': None, u...</td>\n",
       "      <td>None</td>\n",
       "    </tr>\n",
       "    <tr>\n",
       "      <th>1</th>\n",
       "      <td>2</td>\n",
       "      <td>{u'productReview': {u'status': 1, u'overallRat...</td>\n",
       "      <td>{u'status': 1, u'overallRating': None, u'verif...</td>\n",
       "      <td>{u'username': u'scadieux', u'profilePicPath': ...</td>\n",
       "      <td>{u'imageMedium': u'http://store.bbcomcdn.com/i...</td>\n",
       "      <td>None</td>\n",
       "      <td>{u'weightChange': None, u'weight': u'130.0', u...</td>\n",
       "      <td>0</td>\n",
       "      <td>9.5</td>\n",
       "      <td>4</td>\n",
       "      <td>None</td>\n",
       "      <td>None</td>\n",
       "      <td>0</td>\n",
       "      <td>0</td>\n",
       "      <td>{u'overallRating': 10, u'totalRatings': None, ...</td>\n",
       "      <td>None</td>\n",
       "    </tr>\n",
       "    <tr>\n",
       "      <th>2</th>\n",
       "      <td>1</td>\n",
       "      <td>{u'productReview': {u'status': 1, u'overallRat...</td>\n",
       "      <td>{u'status': 1, u'overallRating': None, u'verif...</td>\n",
       "      <td>{u'username': u'Jaxmoney', u'profilePicPath': ...</td>\n",
       "      <td>{u'imageMedium': u'http://store.bbcomcdn.com/i...</td>\n",
       "      <td>None</td>\n",
       "      <td>{u'weightChange': None, u'weight': u'212.0', u...</td>\n",
       "      <td>1</td>\n",
       "      <td>9.2</td>\n",
       "      <td>6</td>\n",
       "      <td>None</td>\n",
       "      <td>None</td>\n",
       "      <td>0</td>\n",
       "      <td>1</td>\n",
       "      <td>{u'overallRating': 10, u'totalRatings': None, ...</td>\n",
       "      <td>None</td>\n",
       "    </tr>\n",
       "    <tr>\n",
       "      <th>3</th>\n",
       "      <td>4</td>\n",
       "      <td>{u'productReview': {u'status': 1, u'overallRat...</td>\n",
       "      <td>{u'status': 1, u'overallRating': None, u'verif...</td>\n",
       "      <td>{u'username': u'JohnPMoran', u'profilePicPath'...</td>\n",
       "      <td>{u'imageMedium': u'http://store.bbcomcdn.com/i...</td>\n",
       "      <td>None</td>\n",
       "      <td>None</td>\n",
       "      <td>0</td>\n",
       "      <td>8.9</td>\n",
       "      <td>78</td>\n",
       "      <td>None</td>\n",
       "      <td>None</td>\n",
       "      <td>0</td>\n",
       "      <td>0</td>\n",
       "      <td>{u'overallRating': 10, u'totalRatings': None, ...</td>\n",
       "      <td>None</td>\n",
       "    </tr>\n",
       "    <tr>\n",
       "      <th>4</th>\n",
       "      <td>18</td>\n",
       "      <td>{u'productReview': {u'status': 1, u'overallRat...</td>\n",
       "      <td>{u'status': 1, u'overallRating': None, u'verif...</td>\n",
       "      <td>{u'username': u'coryacehall', u'profilePicPath...</td>\n",
       "      <td>{u'imageMedium': u'http://store.bbcomcdn.com/i...</td>\n",
       "      <td>None</td>\n",
       "      <td>{u'weightChange': None, u'weight': u'185.0', u...</td>\n",
       "      <td>0</td>\n",
       "      <td>9.0</td>\n",
       "      <td>66</td>\n",
       "      <td>None</td>\n",
       "      <td>None</td>\n",
       "      <td>0</td>\n",
       "      <td>0</td>\n",
       "      <td>{u'overallRating': 8, u'totalRatings': None, u...</td>\n",
       "      <td>None</td>\n",
       "    </tr>\n",
       "  </tbody>\n",
       "</table>\n",
       "</div>"
      ],
      "text/plain": [
       "   totalItems                                     productReviews  \\\n",
       "0           2  {u'productReview': {u'status': 1, u'overallRat...   \n",
       "1           2  {u'productReview': {u'status': 1, u'overallRat...   \n",
       "2           1  {u'productReview': {u'status': 1, u'overallRat...   \n",
       "3           4  {u'productReview': {u'status': 1, u'overallRat...   \n",
       "4          18  {u'productReview': {u'status': 1, u'overallRat...   \n",
       "\n",
       "                                       productReview  \\\n",
       "0  {u'status': 1, u'overallRating': None, u'verif...   \n",
       "1  {u'status': 1, u'overallRating': None, u'verif...   \n",
       "2  {u'status': 1, u'overallRating': None, u'verif...   \n",
       "3  {u'status': 1, u'overallRating': None, u'verif...   \n",
       "4  {u'status': 1, u'overallRating': None, u'verif...   \n",
       "\n",
       "                                              member  \\\n",
       "0  {u'username': u'AmenDela', u'profilePicPath': ...   \n",
       "1  {u'username': u'scadieux', u'profilePicPath': ...   \n",
       "2  {u'username': u'Jaxmoney', u'profilePicPath': ...   \n",
       "3  {u'username': u'JohnPMoran', u'profilePicPath'...   \n",
       "4  {u'username': u'coryacehall', u'profilePicPath...   \n",
       "\n",
       "                                             product likeStats  \\\n",
       "0  {u'imageMedium': u'http://store.bbcomcdn.com/i...      None   \n",
       "1  {u'imageMedium': u'http://store.bbcomcdn.com/i...      None   \n",
       "2  {u'imageMedium': u'http://store.bbcomcdn.com/i...      None   \n",
       "3  {u'imageMedium': u'http://store.bbcomcdn.com/i...      None   \n",
       "4  {u'imageMedium': u'http://store.bbcomcdn.com/i...      None   \n",
       "\n",
       "                                               stats  helpful  overallRating  \\\n",
       "0  {u'weightChange': None, u'weight': u'180.0', u...        0            8.1   \n",
       "1  {u'weightChange': None, u'weight': u'130.0', u...        0            9.5   \n",
       "2  {u'weightChange': None, u'weight': u'212.0', u...        1            9.2   \n",
       "3                                               None        0            8.9   \n",
       "4  {u'weightChange': None, u'weight': u'185.0', u...        0            9.0   \n",
       "\n",
       "   totalRatings wasHelpful likeCount  commentCount  helpfulTotal  \\\n",
       "0             7       None      None             0             1   \n",
       "1             4       None      None             0             0   \n",
       "2             6       None      None             0             1   \n",
       "3            78       None      None             0             0   \n",
       "4            66       None      None             0             0   \n",
       "\n",
       "                                          userRating flavorRatings  \n",
       "0  {u'overallRating': 5, u'totalRatings': None, u...          None  \n",
       "1  {u'overallRating': 10, u'totalRatings': None, ...          None  \n",
       "2  {u'overallRating': 10, u'totalRatings': None, ...          None  \n",
       "3  {u'overallRating': 10, u'totalRatings': None, ...          None  \n",
       "4  {u'overallRating': 8, u'totalRatings': None, u...          None  "
      ]
     },
     "execution_count": 189,
     "metadata": {},
     "output_type": "execute_result"
    }
   ],
   "source": [
    "p.head()"
   ]
  },
  {
   "cell_type": "code",
   "execution_count": 179,
   "metadata": {
    "collapsed": false
   },
   "outputs": [
    {
     "data": {
      "text/plain": [
       "{u'_id': u'577a9c9d0cf238cc95092960',\n",
       " u'brandId': u'cat1150004',\n",
       " u'date': {u'$numberLong': u'1467653277000'},\n",
       " u'entityId': u'productreview-prod3810021',\n",
       " u'modDate': {u'$numberLong': u'1467653277000'},\n",
       " u'overallRating': None,\n",
       " u'productId': u'prod3810021',\n",
       " u'skuList': None,\n",
       " u'slug': u'Jaxmoney',\n",
       " u'status': 1,\n",
       " u'text': u'I absolutely love these aminos! ',\n",
       " u'title': u'',\n",
       " u'totalRatings': None,\n",
       " u'updateStatusReason': None,\n",
       " u'userId': 110109721,\n",
       " u'username': u'Jaxmoney',\n",
       " u'verified': True}"
      ]
     },
     "execution_count": 179,
     "metadata": {},
     "output_type": "execute_result"
    }
   ],
   "source": [
    "p.productReviews[2]['productReview']"
   ]
  },
  {
   "cell_type": "code",
   "execution_count": 90,
   "metadata": {
    "collapsed": false
   },
   "outputs": [
    {
     "data": {
      "text/html": [
       "<div>\n",
       "<table border=\"1\" class=\"dataframe\">\n",
       "  <thead>\n",
       "    <tr style=\"text-align: right;\">\n",
       "      <th></th>\n",
       "      <th>totalItems</th>\n",
       "      <th>productReviews</th>\n",
       "    </tr>\n",
       "  </thead>\n",
       "  <tbody>\n",
       "    <tr>\n",
       "      <th>0</th>\n",
       "      <td>2</td>\n",
       "      <td>{u'productReview': {u'status': 1, u'overallRat...</td>\n",
       "    </tr>\n",
       "    <tr>\n",
       "      <th>1</th>\n",
       "      <td>2</td>\n",
       "      <td>{u'productReview': {u'status': 1, u'overallRat...</td>\n",
       "    </tr>\n",
       "    <tr>\n",
       "      <th>2</th>\n",
       "      <td>1</td>\n",
       "      <td>{u'productReview': {u'status': 1, u'overallRat...</td>\n",
       "    </tr>\n",
       "    <tr>\n",
       "      <th>3</th>\n",
       "      <td>4</td>\n",
       "      <td>{u'productReview': {u'status': 1, u'overallRat...</td>\n",
       "    </tr>\n",
       "    <tr>\n",
       "      <th>4</th>\n",
       "      <td>18</td>\n",
       "      <td>{u'productReview': {u'status': 1, u'overallRat...</td>\n",
       "    </tr>\n",
       "  </tbody>\n",
       "</table>\n",
       "</div>"
      ],
      "text/plain": [
       "   totalItems                                     productReviews\n",
       "0           2  {u'productReview': {u'status': 1, u'overallRat...\n",
       "1           2  {u'productReview': {u'status': 1, u'overallRat...\n",
       "2           1  {u'productReview': {u'status': 1, u'overallRat...\n",
       "3           4  {u'productReview': {u'status': 1, u'overallRat...\n",
       "4          18  {u'productReview': {u'status': 1, u'overallRat..."
      ]
     },
     "execution_count": 90,
     "metadata": {},
     "output_type": "execute_result"
    }
   ],
   "source": [
    "p.productReviews()"
   ]
  },
  {
   "cell_type": "code",
   "execution_count": 171,
   "metadata": {
    "collapsed": false,
    "scrolled": false
   },
   "outputs": [
    {
     "data": {
      "text/html": [
       "<div>\n",
       "<table border=\"1\" class=\"dataframe\">\n",
       "  <thead>\n",
       "    <tr style=\"text-align: right;\">\n",
       "      <th></th>\n",
       "      <th>productReview</th>\n",
       "      <th>member</th>\n",
       "      <th>product</th>\n",
       "      <th>likeStats</th>\n",
       "      <th>stats</th>\n",
       "      <th>helpful</th>\n",
       "      <th>overallRating</th>\n",
       "      <th>totalRatings</th>\n",
       "      <th>wasHelpful</th>\n",
       "      <th>likeCount</th>\n",
       "      <th>commentCount</th>\n",
       "      <th>helpfulTotal</th>\n",
       "      <th>userRating</th>\n",
       "      <th>flavorRatings</th>\n",
       "    </tr>\n",
       "  </thead>\n",
       "  <tbody>\n",
       "    <tr>\n",
       "      <th>0</th>\n",
       "      <td>{u'status': 1, u'overallRating': None, u'verif...</td>\n",
       "      <td>{u'username': u'AmenDela', u'profilePicPath': ...</td>\n",
       "      <td>{u'imageMedium': u'http://store.bbcomcdn.com/i...</td>\n",
       "      <td>None</td>\n",
       "      <td>{u'weightChange': None, u'weight': u'180.0', u...</td>\n",
       "      <td>0</td>\n",
       "      <td>8.1</td>\n",
       "      <td>7</td>\n",
       "      <td>None</td>\n",
       "      <td>None</td>\n",
       "      <td>0</td>\n",
       "      <td>1</td>\n",
       "      <td>{u'overallRating': 5, u'totalRatings': None, u...</td>\n",
       "      <td>None</td>\n",
       "    </tr>\n",
       "  </tbody>\n",
       "</table>\n",
       "</div>"
      ],
      "text/plain": [
       "                                       productReview  \\\n",
       "0  {u'status': 1, u'overallRating': None, u'verif...   \n",
       "\n",
       "                                              member  \\\n",
       "0  {u'username': u'AmenDela', u'profilePicPath': ...   \n",
       "\n",
       "                                             product likeStats  \\\n",
       "0  {u'imageMedium': u'http://store.bbcomcdn.com/i...      None   \n",
       "\n",
       "                                               stats helpful overallRating  \\\n",
       "0  {u'weightChange': None, u'weight': u'180.0', u...       0           8.1   \n",
       "\n",
       "  totalRatings wasHelpful likeCount commentCount helpfulTotal  \\\n",
       "0            7       None      None            0            1   \n",
       "\n",
       "                                          userRating flavorRatings  \n",
       "0  {u'overallRating': 5, u'totalRatings': None, u...          None  "
      ]
     },
     "execution_count": 171,
     "metadata": {},
     "output_type": "execute_result"
    }
   ],
   "source": [
    "data1 = pd.DataFrame(np.array([p.productReviews[0].values()]), columns = p.productReviews[0].keys())\n",
    "def new_cols():\n",
    "    new_rows = pd.DataFrame()"
   ]
  },
  {
   "cell_type": "code",
   "execution_count": 135,
   "metadata": {
    "collapsed": false,
    "scrolled": false
   },
   "outputs": [
    {
     "data": {
      "text/plain": [
       "[u'productReview',\n",
       " u'member',\n",
       " u'product',\n",
       " u'likeStats',\n",
       " u'stats',\n",
       " u'helpful',\n",
       " u'overallRating',\n",
       " u'totalRatings',\n",
       " u'wasHelpful',\n",
       " u'likeCount',\n",
       " u'commentCount',\n",
       " u'helpfulTotal',\n",
       " u'userRating',\n",
       " u'flavorRatings']"
      ]
     },
     "execution_count": 135,
     "metadata": {},
     "output_type": "execute_result"
    }
   ],
   "source": [
    "p.productReviews[0].keys()"
   ]
  },
  {
   "cell_type": "code",
   "execution_count": 167,
   "metadata": {
    "collapsed": false
   },
   "outputs": [
    {
     "data": {
      "text/plain": [
       "(['a', 'c', 'b'], ['1', '3', '2'])"
      ]
     },
     "execution_count": 167,
     "metadata": {},
     "output_type": "execute_result"
    }
   ],
   "source": [
    "ugh = {'a':'1','b':'2','c':'3'}\n",
    "dfugh = pd.DataFrame(np.array([ugh.values()]), columns = ugh.keys())\n",
    "ugh.keys(), ugh.values()"
   ]
  },
  {
   "cell_type": "code",
   "execution_count": 168,
   "metadata": {
    "collapsed": false
   },
   "outputs": [
    {
     "data": {
      "text/html": [
       "<div>\n",
       "<table border=\"1\" class=\"dataframe\">\n",
       "  <thead>\n",
       "    <tr style=\"text-align: right;\">\n",
       "      <th></th>\n",
       "      <th>a</th>\n",
       "      <th>c</th>\n",
       "      <th>b</th>\n",
       "    </tr>\n",
       "  </thead>\n",
       "  <tbody>\n",
       "    <tr>\n",
       "      <th>0</th>\n",
       "      <td>1</td>\n",
       "      <td>3</td>\n",
       "      <td>2</td>\n",
       "    </tr>\n",
       "  </tbody>\n",
       "</table>\n",
       "</div>"
      ],
      "text/plain": [
       "   a  c  b\n",
       "0  1  3  2"
      ]
     },
     "execution_count": 168,
     "metadata": {},
     "output_type": "execute_result"
    }
   ],
   "source": [
    "dfugh"
   ]
  },
  {
   "cell_type": "code",
   "execution_count": null,
   "metadata": {
    "collapsed": true
   },
   "outputs": [],
   "source": []
  },
  {
   "cell_type": "code",
   "execution_count": 166,
   "metadata": {
    "collapsed": false
   },
   "outputs": [
    {
     "data": {
      "text/html": [
       "<div>\n",
       "<table border=\"1\" class=\"dataframe\">\n",
       "  <thead>\n",
       "    <tr style=\"text-align: right;\">\n",
       "      <th></th>\n",
       "      <th>a</th>\n",
       "      <th>b</th>\n",
       "      <th>c</th>\n",
       "      <th>d</th>\n",
       "      <th>e</th>\n",
       "    </tr>\n",
       "  </thead>\n",
       "  <tbody>\n",
       "    <tr>\n",
       "      <th>0</th>\n",
       "      <td>1</td>\n",
       "      <td>2</td>\n",
       "      <td>3</td>\n",
       "      <td>4</td>\n",
       "      <td>5</td>\n",
       "    </tr>\n",
       "  </tbody>\n",
       "</table>\n",
       "</div>"
      ],
      "text/plain": [
       "   a  b  c  d  e\n",
       "0  1  2  3  4  5"
      ]
     },
     "execution_count": 166,
     "metadata": {},
     "output_type": "execute_result"
    }
   ],
   "source": [
    "df3 = pd.DataFrame([np.random.randn(10, 5)], columns=['a', 'b', 'c', 'd', 'e'])\n",
    "df3"
   ]
  },
  {
   "cell_type": "code",
   "execution_count": 107,
   "metadata": {
    "collapsed": false
   },
   "outputs": [
    {
     "data": {
      "text/plain": [
       "[u'productReview',\n",
       " u'member',\n",
       " u'product',\n",
       " u'likeStats',\n",
       " u'stats',\n",
       " u'helpful',\n",
       " u'overallRating',\n",
       " u'totalRatings',\n",
       " u'wasHelpful',\n",
       " u'likeCount',\n",
       " u'commentCount',\n",
       " u'helpfulTotal',\n",
       " u'userRating',\n",
       " u'flavorRatings']"
      ]
     },
     "execution_count": 107,
     "metadata": {},
     "output_type": "execute_result"
    }
   ],
   "source": [
    "p.productReviews[0].keys()"
   ]
  },
  {
   "cell_type": "code",
   "execution_count": 68,
   "metadata": {
    "collapsed": false
   },
   "outputs": [
    {
     "data": {
      "text/plain": [
       "str"
      ]
     },
     "execution_count": 68,
     "metadata": {},
     "output_type": "execute_result"
    }
   ],
   "source": [
    "a = df.productReviews[0]\n",
    "type(a)"
   ]
  },
  {
   "cell_type": "code",
   "execution_count": 70,
   "metadata": {
    "collapsed": false
   },
   "outputs": [
    {
     "data": {
      "text/plain": [
       "dict"
      ]
     },
     "execution_count": 70,
     "metadata": {},
     "output_type": "execute_result"
    }
   ],
   "source": [
    "b = json.loads(a)\n",
    "type(b[0])"
   ]
  },
  {
   "cell_type": "code",
   "execution_count": null,
   "metadata": {
    "collapsed": true
   },
   "outputs": [],
   "source": []
  }
 ],
 "metadata": {
  "kernelspec": {
   "display_name": "Python [Root]",
   "language": "python",
   "name": "Python [Root]"
  },
  "language_info": {
   "codemirror_mode": {
    "name": "ipython",
    "version": 2
   },
   "file_extension": ".py",
   "mimetype": "text/x-python",
   "name": "python",
   "nbconvert_exporter": "python",
   "pygments_lexer": "ipython2",
   "version": "2.7.12"
  }
 },
 "nbformat": 4,
 "nbformat_minor": 0
}
