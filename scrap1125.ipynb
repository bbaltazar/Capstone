{
 "cells": [
  {
   "cell_type": "code",
   "execution_count": 101,
   "metadata": {
    "collapsed": false
   },
   "outputs": [],
   "source": [
    "run bodycleaning.py"
   ]
  },
  {
   "cell_type": "code",
   "execution_count": 106,
   "metadata": {
    "collapsed": true
   },
   "outputs": [],
   "source": [
    "data.df.drop_duplicates(subset='_id', inplace=True)"
   ]
  },
  {
   "cell_type": "code",
   "execution_count": null,
   "metadata": {
    "collapsed": true
   },
   "outputs": [],
   "source": [
    "data.df.to_pickle('reviews.pkl')"
   ]
  },
  {
   "cell_type": "code",
   "execution_count": 110,
   "metadata": {
    "collapsed": false,
    "scrolled": true
   },
   "outputs": [
    {
     "data": {
      "text/plain": [
       "(67514, (67514, 19))"
      ]
     },
     "execution_count": 110,
     "metadata": {},
     "output_type": "execute_result"
    }
   ],
   "source": [
    "len(data.df._id.unique()), data.df.shape"
   ]
  },
  {
   "cell_type": "code",
   "execution_count": 111,
   "metadata": {
    "collapsed": true
   },
   "outputs": [],
   "source": [
    "data.df.to_pickle('reviews.pkl')"
   ]
  },
  {
   "cell_type": "code",
   "execution_count": 102,
   "metadata": {
    "collapsed": false,
    "scrolled": true
   },
   "outputs": [
    {
     "data": {
      "text/plain": [
       "(67611, 66)"
      ]
     },
     "execution_count": 102,
     "metadata": {},
     "output_type": "execute_result"
    }
   ],
   "source": [
    "data.df.shape"
   ]
  },
  {
   "cell_type": "code",
   "execution_count": 117,
   "metadata": {
    "collapsed": true
   },
   "outputs": [],
   "source": [
    "df_0 = pd.read_csv('../products.csv')"
   ]
  },
  {
   "cell_type": "code",
   "execution_count": 126,
   "metadata": {
    "collapsed": false
   },
   "outputs": [
    {
     "data": {
      "text/plain": [
       "0"
      ]
     },
     "execution_count": 126,
     "metadata": {},
     "output_type": "execute_result"
    }
   ],
   "source": [
    "json.loads(df_0.productReviews[0])[0]['helpful']#.keys()"
   ]
  },
  {
   "cell_type": "code",
   "execution_count": 116,
   "metadata": {
    "collapsed": false
   },
   "outputs": [
    {
     "data": {
      "text/html": [
       "<div>\n",
       "<table border=\"1\" class=\"dataframe\">\n",
       "  <thead>\n",
       "    <tr style=\"text-align: right;\">\n",
       "      <th></th>\n",
       "      <th>0</th>\n",
       "      <th>1</th>\n",
       "      <th>2</th>\n",
       "      <th>3</th>\n",
       "      <th>4</th>\n",
       "      <th>5</th>\n",
       "      <th>6</th>\n",
       "      <th>7</th>\n",
       "      <th>8</th>\n",
       "      <th>9</th>\n",
       "      <th>...</th>\n",
       "      <th>67601</th>\n",
       "      <th>67602</th>\n",
       "      <th>67603</th>\n",
       "      <th>67604</th>\n",
       "      <th>67605</th>\n",
       "      <th>67606</th>\n",
       "      <th>67607</th>\n",
       "      <th>67608</th>\n",
       "      <th>67609</th>\n",
       "      <th>67610</th>\n",
       "    </tr>\n",
       "  </thead>\n",
       "  <tbody>\n",
       "    <tr>\n",
       "      <th>brandName</th>\n",
       "      <td>360CUT</td>\n",
       "      <td>360CUT</td>\n",
       "      <td>360CUT</td>\n",
       "      <td>360CUT</td>\n",
       "      <td>360CUT</td>\n",
       "      <td>360CUT</td>\n",
       "      <td>360CUT</td>\n",
       "      <td>360CUT</td>\n",
       "      <td>360CUT</td>\n",
       "      <td>360CUT</td>\n",
       "      <td>...</td>\n",
       "      <td>S.A.N.</td>\n",
       "      <td>S.A.N.</td>\n",
       "      <td>S.A.N.</td>\n",
       "      <td>S.A.N.</td>\n",
       "      <td>NOW</td>\n",
       "      <td>NOW</td>\n",
       "      <td>NOW</td>\n",
       "      <td>NOW</td>\n",
       "      <td>NOW</td>\n",
       "      <td>NOW</td>\n",
       "    </tr>\n",
       "    <tr>\n",
       "      <th>brandId</th>\n",
       "      <td>cat1150004</td>\n",
       "      <td>cat1150004</td>\n",
       "      <td>cat1150004</td>\n",
       "      <td>cat1150004</td>\n",
       "      <td>cat1150004</td>\n",
       "      <td>cat1150004</td>\n",
       "      <td>cat1150004</td>\n",
       "      <td>cat1150004</td>\n",
       "      <td>cat1150004</td>\n",
       "      <td>cat1150004</td>\n",
       "      <td>...</td>\n",
       "      <td>BRAND_S_A_N_</td>\n",
       "      <td>BRAND_S_A_N_</td>\n",
       "      <td>BRAND_S_A_N_</td>\n",
       "      <td>BRAND_S_A_N_</td>\n",
       "      <td>BRAND_NOW</td>\n",
       "      <td>BRAND_NOW</td>\n",
       "      <td>BRAND_NOW</td>\n",
       "      <td>BRAND_NOW</td>\n",
       "      <td>BRAND_NOW</td>\n",
       "      <td>BRAND_NOW</td>\n",
       "    </tr>\n",
       "    <tr>\n",
       "      <th>name</th>\n",
       "      <td>360LEAN</td>\n",
       "      <td>360LEAN</td>\n",
       "      <td>360LEAN</td>\n",
       "      <td>360LEAN</td>\n",
       "      <td>360LEAN</td>\n",
       "      <td>360LEAN</td>\n",
       "      <td>360LEAN</td>\n",
       "      <td>360LEAN</td>\n",
       "      <td>360LEAN</td>\n",
       "      <td>360LEAN</td>\n",
       "      <td>...</td>\n",
       "      <td>Green Supreme Fusion</td>\n",
       "      <td>Green Supreme Fusion</td>\n",
       "      <td>Green Supreme Fusion</td>\n",
       "      <td>Green Supreme Fusion</td>\n",
       "      <td>Ginkgo Biloba</td>\n",
       "      <td>Ginkgo Biloba</td>\n",
       "      <td>Ginkgo Biloba</td>\n",
       "      <td>Ginkgo Biloba</td>\n",
       "      <td>Ginkgo Biloba</td>\n",
       "      <td>Ginkgo Biloba</td>\n",
       "    </tr>\n",
       "    <tr>\n",
       "      <th>productId</th>\n",
       "      <td>prod1620022</td>\n",
       "      <td>prod1620022</td>\n",
       "      <td>prod1620022</td>\n",
       "      <td>prod1620022</td>\n",
       "      <td>prod1620022</td>\n",
       "      <td>prod1620022</td>\n",
       "      <td>prod1620022</td>\n",
       "      <td>prod1620022</td>\n",
       "      <td>prod1620022</td>\n",
       "      <td>prod1620022</td>\n",
       "      <td>...</td>\n",
       "      <td>prod680032</td>\n",
       "      <td>prod680032</td>\n",
       "      <td>prod680032</td>\n",
       "      <td>prod680032</td>\n",
       "      <td>23649</td>\n",
       "      <td>23649</td>\n",
       "      <td>23649</td>\n",
       "      <td>23649</td>\n",
       "      <td>23649</td>\n",
       "      <td>23649</td>\n",
       "    </tr>\n",
       "    <tr>\n",
       "      <th>username</th>\n",
       "      <td>coryacehall</td>\n",
       "      <td>dida1984</td>\n",
       "      <td>mango1515</td>\n",
       "      <td>DCGuru</td>\n",
       "      <td>bcnus</td>\n",
       "      <td>aslzr23</td>\n",
       "      <td>Rafaelg90</td>\n",
       "      <td>lizziehessxo</td>\n",
       "      <td>desmichelle</td>\n",
       "      <td>nmontelli8</td>\n",
       "      <td>...</td>\n",
       "      <td>fitbabe6</td>\n",
       "      <td>NickJames206</td>\n",
       "      <td>nebraskaheat</td>\n",
       "      <td>cmdavis11</td>\n",
       "      <td>rrcarroll</td>\n",
       "      <td>musartnova</td>\n",
       "      <td>TBug</td>\n",
       "      <td>jonav</td>\n",
       "      <td>Senad54</td>\n",
       "      <td>ecrivain75000</td>\n",
       "    </tr>\n",
       "    <tr>\n",
       "      <th>userId</th>\n",
       "      <td>58617272</td>\n",
       "      <td>120584661</td>\n",
       "      <td>88002491</td>\n",
       "      <td>34717082</td>\n",
       "      <td>98886182</td>\n",
       "      <td>42621942</td>\n",
       "      <td>87306721</td>\n",
       "      <td>101296512</td>\n",
       "      <td>108628242</td>\n",
       "      <td>87861531</td>\n",
       "      <td>...</td>\n",
       "      <td>392653</td>\n",
       "      <td>67710702</td>\n",
       "      <td>57064062</td>\n",
       "      <td>43581152</td>\n",
       "      <td>103018372</td>\n",
       "      <td>32410682</td>\n",
       "      <td>79101492</td>\n",
       "      <td>63134382</td>\n",
       "      <td>55870402</td>\n",
       "      <td>49004332</td>\n",
       "    </tr>\n",
       "    <tr>\n",
       "      <th>_id</th>\n",
       "      <td>5787b7850cf262c7c0381cc6</td>\n",
       "      <td>5721f4cf0cf2d7a0bb1d391f</td>\n",
       "      <td>5714f2d70cf2a1797c83f8b8</td>\n",
       "      <td>56fad5250cf2ae532b9b5462</td>\n",
       "      <td>56e1857f0cf2857466d1b465</td>\n",
       "      <td>55a68a7a0cf22545627578e5</td>\n",
       "      <td>5579f6b60cf281d23a605392</td>\n",
       "      <td>54ff4f360cf23daccb3ce189</td>\n",
       "      <td>555cd9600cf26d3993e1e227</td>\n",
       "      <td>555a4a1a0cf29545352ebb23</td>\n",
       "      <td>...</td>\n",
       "      <td>5421d6740cf206d284d4d150</td>\n",
       "      <td>53ee6b320cf2b899939e6cc8</td>\n",
       "      <td>51a7c7720cf23b204302c5fd</td>\n",
       "      <td>51a7c7730cf23b2043033dda</td>\n",
       "      <td>56f7e9660cf2e2d6c1d3d29e</td>\n",
       "      <td>567d6a330cf215707c6aca98</td>\n",
       "      <td>52f47f8b0cf212e540f28752</td>\n",
       "      <td>51fa807c0cf27692f076eb86</td>\n",
       "      <td>51f9de820cf25611125e7b1e</td>\n",
       "      <td>51a7c7740cf23b20430392d7</td>\n",
       "    </tr>\n",
       "    <tr>\n",
       "      <th>height</th>\n",
       "      <td>74.0</td>\n",
       "      <td>None</td>\n",
       "      <td>68.0</td>\n",
       "      <td>69.0</td>\n",
       "      <td>76.0</td>\n",
       "      <td>None</td>\n",
       "      <td>None</td>\n",
       "      <td>None</td>\n",
       "      <td>None</td>\n",
       "      <td>None</td>\n",
       "      <td>...</td>\n",
       "      <td>64.0</td>\n",
       "      <td>69.0</td>\n",
       "      <td>69.0</td>\n",
       "      <td>71.0</td>\n",
       "      <td>None</td>\n",
       "      <td>70.0</td>\n",
       "      <td>None</td>\n",
       "      <td>70.0</td>\n",
       "      <td>74.0</td>\n",
       "      <td>None</td>\n",
       "    </tr>\n",
       "    <tr>\n",
       "      <th>weight</th>\n",
       "      <td>185.0</td>\n",
       "      <td>143.96</td>\n",
       "      <td>158.0</td>\n",
       "      <td>179.5</td>\n",
       "      <td>230.0</td>\n",
       "      <td>215.0</td>\n",
       "      <td>245.0</td>\n",
       "      <td>None</td>\n",
       "      <td>None</td>\n",
       "      <td>106.5</td>\n",
       "      <td>...</td>\n",
       "      <td>154.0</td>\n",
       "      <td>173.0</td>\n",
       "      <td>200.0</td>\n",
       "      <td>167.0</td>\n",
       "      <td>198.0</td>\n",
       "      <td>165.0</td>\n",
       "      <td>None</td>\n",
       "      <td>180.0</td>\n",
       "      <td>235.0</td>\n",
       "      <td>None</td>\n",
       "    </tr>\n",
       "    <tr>\n",
       "      <th>bodyfat</th>\n",
       "      <td>11.9</td>\n",
       "      <td>16.7</td>\n",
       "      <td>12.3</td>\n",
       "      <td>9.0</td>\n",
       "      <td>12.0</td>\n",
       "      <td>23.0</td>\n",
       "      <td>None</td>\n",
       "      <td>None</td>\n",
       "      <td>None</td>\n",
       "      <td>None</td>\n",
       "      <td>...</td>\n",
       "      <td>29.0</td>\n",
       "      <td>10.0</td>\n",
       "      <td>17.0</td>\n",
       "      <td>11.1</td>\n",
       "      <td>19.0</td>\n",
       "      <td>13.0</td>\n",
       "      <td>None</td>\n",
       "      <td>9.4</td>\n",
       "      <td>16.4</td>\n",
       "      <td>None</td>\n",
       "    </tr>\n",
       "    <tr>\n",
       "      <th>totalItems</th>\n",
       "      <td>18</td>\n",
       "      <td>18</td>\n",
       "      <td>18</td>\n",
       "      <td>18</td>\n",
       "      <td>18</td>\n",
       "      <td>18</td>\n",
       "      <td>18</td>\n",
       "      <td>18</td>\n",
       "      <td>18</td>\n",
       "      <td>18</td>\n",
       "      <td>...</td>\n",
       "      <td>10</td>\n",
       "      <td>10</td>\n",
       "      <td>10</td>\n",
       "      <td>10</td>\n",
       "      <td>6</td>\n",
       "      <td>6</td>\n",
       "      <td>6</td>\n",
       "      <td>6</td>\n",
       "      <td>6</td>\n",
       "      <td>6</td>\n",
       "    </tr>\n",
       "    <tr>\n",
       "      <th>text</th>\n",
       "      <td>I did really like this product. I used it in r...</td>\n",
       "      <td>Didn't get a lot of energy like other suppleme...</td>\n",
       "      <td>My 1st review on a product. I did 20 capsules ...</td>\n",
       "      <td>I've never really been a fan of thermogenics s...</td>\n",
       "      <td></td>\n",
       "      <td>I've been taking this product for a couple of ...</td>\n",
       "      <td>This product really worked for me gets me up a...</td>\n",
       "      <td>I have tried many fat burners before, but have...</td>\n",
       "      <td>i have tried four other companies and this is ...</td>\n",
       "      <td>Hands down one of the best thermos I've used. ...</td>\n",
       "      <td>...</td>\n",
       "      <td>I love this product! The taste is quite good a...</td>\n",
       "      <td>This is the first time using a green product. ...</td>\n",
       "      <td>A great profile in an easily drinkable greens ...</td>\n",
       "      <td>This blows Oximega Greens out of the water in ...</td>\n",
       "      <td>Does what it is suppose to do without any fluff.</td>\n",
       "      <td>A+++</td>\n",
       "      <td>Your mind awareness is a little sharper and fo...</td>\n",
       "      <td>Its a great product</td>\n",
       "      <td>I like this product. Before taking it, I could...</td>\n",
       "      <td></td>\n",
       "    </tr>\n",
       "    <tr>\n",
       "      <th>date</th>\n",
       "      <td>{u'$numberLong': u'1468512417000'}</td>\n",
       "      <td>{u'$numberLong': u'1461843151000'}</td>\n",
       "      <td>{u'$numberLong': u'1460990679000'}</td>\n",
       "      <td>{u'$numberLong': u'1459279141000'}</td>\n",
       "      <td>{u'$numberLong': u'1457620351000'}</td>\n",
       "      <td>{u'$numberLong': u'1436977786000'}</td>\n",
       "      <td>{u'$numberLong': u'1434056374000'}</td>\n",
       "      <td>{u'$numberLong': u'1434056177000'}</td>\n",
       "      <td>{u'$numberLong': u'1432148320000'}</td>\n",
       "      <td>{u'$numberLong': u'1431980570000'}</td>\n",
       "      <td>...</td>\n",
       "      <td>{u'$numberLong': u'1411503732000'}</td>\n",
       "      <td>{u'$numberLong': u'1408133938000'}</td>\n",
       "      <td>{u'$numberLong': u'1354654769000'}</td>\n",
       "      <td>{u'$numberLong': u'1348527318000'}</td>\n",
       "      <td>{u'$numberLong': u'1459087718000'}</td>\n",
       "      <td>{u'$numberLong': u'1451059763000'}</td>\n",
       "      <td>{u'$numberLong': u'1391755147000'}</td>\n",
       "      <td>{u'$numberLong': u'1375371388000'}</td>\n",
       "      <td>{u'$numberLong': u'1375329922000'}</td>\n",
       "      <td>{u'$numberLong': u'1340283671000'}</td>\n",
       "    </tr>\n",
       "    <tr>\n",
       "      <th>modDate</th>\n",
       "      <td>{u'$numberLong': u'1468512417000'}</td>\n",
       "      <td>{u'$numberLong': u'1461843151000'}</td>\n",
       "      <td>{u'$numberLong': u'1460990679000'}</td>\n",
       "      <td>{u'$numberLong': u'1459279141000'}</td>\n",
       "      <td>{u'$numberLong': u'1457620351000'}</td>\n",
       "      <td>{u'$numberLong': u'1436977786000'}</td>\n",
       "      <td>{u'$numberLong': u'1434056374000'}</td>\n",
       "      <td>{u'$numberLong': u'1434056177000'}</td>\n",
       "      <td>{u'$numberLong': u'1432148320000'}</td>\n",
       "      <td>{u'$numberLong': u'1431980570000'}</td>\n",
       "      <td>...</td>\n",
       "      <td>{u'$numberLong': u'1411503732000'}</td>\n",
       "      <td>{u'$numberLong': u'1408133938000'}</td>\n",
       "      <td>{u'$numberLong': u'1376084542000'}</td>\n",
       "      <td>{u'$numberLong': u'1376086379000'}</td>\n",
       "      <td>{u'$numberLong': u'1459087718000'}</td>\n",
       "      <td>{u'$numberLong': u'1451059763000'}</td>\n",
       "      <td>{u'$numberLong': u'1391755147000'}</td>\n",
       "      <td>{u'$numberLong': u'1375371388000'}</td>\n",
       "      <td>{u'$numberLong': u'1375329922000'}</td>\n",
       "      <td>{u'$numberLong': u'1376087727000'}</td>\n",
       "    </tr>\n",
       "    <tr>\n",
       "      <th>slug</th>\n",
       "      <td>coryacehall</td>\n",
       "      <td>dida1984</td>\n",
       "      <td>mango1515</td>\n",
       "      <td>DCGuru</td>\n",
       "      <td>bcnus</td>\n",
       "      <td>aslzr23</td>\n",
       "      <td>Rafaelg90</td>\n",
       "      <td>lizziehessxo</td>\n",
       "      <td>desmichelle</td>\n",
       "      <td>nmontelli8</td>\n",
       "      <td>...</td>\n",
       "      <td>fitbabe6</td>\n",
       "      <td>NickJames206</td>\n",
       "      <td>nebraskaheat</td>\n",
       "      <td>cmdavis11</td>\n",
       "      <td>rrcarroll</td>\n",
       "      <td>musartnova</td>\n",
       "      <td>TBug</td>\n",
       "      <td>jonav</td>\n",
       "      <td>Senad54</td>\n",
       "      <td>ecrivain75000</td>\n",
       "    </tr>\n",
       "    <tr>\n",
       "      <th>verifiedBuyerRating</th>\n",
       "      <td>9</td>\n",
       "      <td>9</td>\n",
       "      <td>9</td>\n",
       "      <td>9</td>\n",
       "      <td>9</td>\n",
       "      <td>9</td>\n",
       "      <td>9</td>\n",
       "      <td>9</td>\n",
       "      <td>9</td>\n",
       "      <td>9</td>\n",
       "      <td>...</td>\n",
       "      <td>9.4</td>\n",
       "      <td>9.4</td>\n",
       "      <td>9.4</td>\n",
       "      <td>9.4</td>\n",
       "      <td>9</td>\n",
       "      <td>9</td>\n",
       "      <td>9</td>\n",
       "      <td>9</td>\n",
       "      <td>9</td>\n",
       "      <td>9</td>\n",
       "    </tr>\n",
       "    <tr>\n",
       "      <th>description</th>\n",
       "      <td>Promotes Mental Focus, Memory, Mood, and Fat B...</td>\n",
       "      <td>Promotes Mental Focus, Memory, Mood, and Fat B...</td>\n",
       "      <td>Promotes Mental Focus, Memory, Mood, and Fat B...</td>\n",
       "      <td>Promotes Mental Focus, Memory, Mood, and Fat B...</td>\n",
       "      <td>Promotes Mental Focus, Memory, Mood, and Fat B...</td>\n",
       "      <td>Promotes Mental Focus, Memory, Mood, and Fat B...</td>\n",
       "      <td>Promotes Mental Focus, Memory, Mood, and Fat B...</td>\n",
       "      <td>Promotes Mental Focus, Memory, Mood, and Fat B...</td>\n",
       "      <td>Promotes Mental Focus, Memory, Mood, and Fat B...</td>\n",
       "      <td>Promotes Mental Focus, Memory, Mood, and Fat B...</td>\n",
       "      <td>...</td>\n",
       "      <td>Supports Digestive Health &amp; Food Assimilation!*</td>\n",
       "      <td>Supports Digestive Health &amp; Food Assimilation!*</td>\n",
       "      <td>Supports Digestive Health &amp; Food Assimilation!*</td>\n",
       "      <td>Supports Digestive Health &amp; Food Assimilation!*</td>\n",
       "      <td>Promote Optimal Health!*</td>\n",
       "      <td>Promote Optimal Health!*</td>\n",
       "      <td>Promote Optimal Health!*</td>\n",
       "      <td>Promote Optimal Health!*</td>\n",
       "      <td>Promote Optimal Health!*</td>\n",
       "      <td>Promote Optimal Health!*</td>\n",
       "    </tr>\n",
       "    <tr>\n",
       "      <th>updateStatusReason</th>\n",
       "      <td>:lifes2good</td>\n",
       "      <td>None</td>\n",
       "      <td>None</td>\n",
       "      <td>None</td>\n",
       "      <td>None</td>\n",
       "      <td>None</td>\n",
       "      <td>None</td>\n",
       "      <td>None</td>\n",
       "      <td>None</td>\n",
       "      <td>None</td>\n",
       "      <td>...</td>\n",
       "      <td>None</td>\n",
       "      <td>None</td>\n",
       "      <td>None</td>\n",
       "      <td>None</td>\n",
       "      <td>None</td>\n",
       "      <td>None</td>\n",
       "      <td>None</td>\n",
       "      <td>None</td>\n",
       "      <td>None</td>\n",
       "      <td>None</td>\n",
       "    </tr>\n",
       "    <tr>\n",
       "      <th>rating</th>\n",
       "      <td>8</td>\n",
       "      <td>8</td>\n",
       "      <td>9</td>\n",
       "      <td>9</td>\n",
       "      <td>9</td>\n",
       "      <td>9</td>\n",
       "      <td>10</td>\n",
       "      <td>10</td>\n",
       "      <td>10</td>\n",
       "      <td>8</td>\n",
       "      <td>...</td>\n",
       "      <td>10</td>\n",
       "      <td>10</td>\n",
       "      <td>9</td>\n",
       "      <td>9</td>\n",
       "      <td>9</td>\n",
       "      <td>9</td>\n",
       "      <td>8</td>\n",
       "      <td>8</td>\n",
       "      <td>10</td>\n",
       "      <td>10</td>\n",
       "    </tr>\n",
       "  </tbody>\n",
       "</table>\n",
       "<p>19 rows × 67514 columns</p>\n",
       "</div>"
      ],
      "text/plain": [
       "                                                                 0      \\\n",
       "brandName                                                       360CUT   \n",
       "brandId                                                     cat1150004   \n",
       "name                                                           360LEAN   \n",
       "productId                                                  prod1620022   \n",
       "username                                                   coryacehall   \n",
       "userId                                                        58617272   \n",
       "_id                                           5787b7850cf262c7c0381cc6   \n",
       "height                                                            74.0   \n",
       "weight                                                           185.0   \n",
       "bodyfat                                                           11.9   \n",
       "totalItems                                                          18   \n",
       "text                 I did really like this product. I used it in r...   \n",
       "date                                {u'$numberLong': u'1468512417000'}   \n",
       "modDate                             {u'$numberLong': u'1468512417000'}   \n",
       "slug                                                       coryacehall   \n",
       "verifiedBuyerRating                                                  9   \n",
       "description          Promotes Mental Focus, Memory, Mood, and Fat B...   \n",
       "updateStatusReason                                         :lifes2good   \n",
       "rating                                                               8   \n",
       "\n",
       "                                                                 1      \\\n",
       "brandName                                                       360CUT   \n",
       "brandId                                                     cat1150004   \n",
       "name                                                           360LEAN   \n",
       "productId                                                  prod1620022   \n",
       "username                                                      dida1984   \n",
       "userId                                                       120584661   \n",
       "_id                                           5721f4cf0cf2d7a0bb1d391f   \n",
       "height                                                            None   \n",
       "weight                                                          143.96   \n",
       "bodyfat                                                           16.7   \n",
       "totalItems                                                          18   \n",
       "text                 Didn't get a lot of energy like other suppleme...   \n",
       "date                                {u'$numberLong': u'1461843151000'}   \n",
       "modDate                             {u'$numberLong': u'1461843151000'}   \n",
       "slug                                                          dida1984   \n",
       "verifiedBuyerRating                                                  9   \n",
       "description          Promotes Mental Focus, Memory, Mood, and Fat B...   \n",
       "updateStatusReason                                                None   \n",
       "rating                                                               8   \n",
       "\n",
       "                                                                 2      \\\n",
       "brandName                                                       360CUT   \n",
       "brandId                                                     cat1150004   \n",
       "name                                                           360LEAN   \n",
       "productId                                                  prod1620022   \n",
       "username                                                     mango1515   \n",
       "userId                                                        88002491   \n",
       "_id                                           5714f2d70cf2a1797c83f8b8   \n",
       "height                                                            68.0   \n",
       "weight                                                           158.0   \n",
       "bodyfat                                                           12.3   \n",
       "totalItems                                                          18   \n",
       "text                 My 1st review on a product. I did 20 capsules ...   \n",
       "date                                {u'$numberLong': u'1460990679000'}   \n",
       "modDate                             {u'$numberLong': u'1460990679000'}   \n",
       "slug                                                         mango1515   \n",
       "verifiedBuyerRating                                                  9   \n",
       "description          Promotes Mental Focus, Memory, Mood, and Fat B...   \n",
       "updateStatusReason                                                None   \n",
       "rating                                                               9   \n",
       "\n",
       "                                                                 3      \\\n",
       "brandName                                                       360CUT   \n",
       "brandId                                                     cat1150004   \n",
       "name                                                           360LEAN   \n",
       "productId                                                  prod1620022   \n",
       "username                                                        DCGuru   \n",
       "userId                                                        34717082   \n",
       "_id                                           56fad5250cf2ae532b9b5462   \n",
       "height                                                            69.0   \n",
       "weight                                                           179.5   \n",
       "bodyfat                                                            9.0   \n",
       "totalItems                                                          18   \n",
       "text                 I've never really been a fan of thermogenics s...   \n",
       "date                                {u'$numberLong': u'1459279141000'}   \n",
       "modDate                             {u'$numberLong': u'1459279141000'}   \n",
       "slug                                                            DCGuru   \n",
       "verifiedBuyerRating                                                  9   \n",
       "description          Promotes Mental Focus, Memory, Mood, and Fat B...   \n",
       "updateStatusReason                                                None   \n",
       "rating                                                               9   \n",
       "\n",
       "                                                                 4      \\\n",
       "brandName                                                       360CUT   \n",
       "brandId                                                     cat1150004   \n",
       "name                                                           360LEAN   \n",
       "productId                                                  prod1620022   \n",
       "username                                                         bcnus   \n",
       "userId                                                        98886182   \n",
       "_id                                           56e1857f0cf2857466d1b465   \n",
       "height                                                            76.0   \n",
       "weight                                                           230.0   \n",
       "bodyfat                                                           12.0   \n",
       "totalItems                                                          18   \n",
       "text                                                                     \n",
       "date                                {u'$numberLong': u'1457620351000'}   \n",
       "modDate                             {u'$numberLong': u'1457620351000'}   \n",
       "slug                                                             bcnus   \n",
       "verifiedBuyerRating                                                  9   \n",
       "description          Promotes Mental Focus, Memory, Mood, and Fat B...   \n",
       "updateStatusReason                                                None   \n",
       "rating                                                               9   \n",
       "\n",
       "                                                                 5      \\\n",
       "brandName                                                       360CUT   \n",
       "brandId                                                     cat1150004   \n",
       "name                                                           360LEAN   \n",
       "productId                                                  prod1620022   \n",
       "username                                                       aslzr23   \n",
       "userId                                                        42621942   \n",
       "_id                                           55a68a7a0cf22545627578e5   \n",
       "height                                                            None   \n",
       "weight                                                           215.0   \n",
       "bodyfat                                                           23.0   \n",
       "totalItems                                                          18   \n",
       "text                 I've been taking this product for a couple of ...   \n",
       "date                                {u'$numberLong': u'1436977786000'}   \n",
       "modDate                             {u'$numberLong': u'1436977786000'}   \n",
       "slug                                                           aslzr23   \n",
       "verifiedBuyerRating                                                  9   \n",
       "description          Promotes Mental Focus, Memory, Mood, and Fat B...   \n",
       "updateStatusReason                                                None   \n",
       "rating                                                               9   \n",
       "\n",
       "                                                                 6      \\\n",
       "brandName                                                       360CUT   \n",
       "brandId                                                     cat1150004   \n",
       "name                                                           360LEAN   \n",
       "productId                                                  prod1620022   \n",
       "username                                                     Rafaelg90   \n",
       "userId                                                        87306721   \n",
       "_id                                           5579f6b60cf281d23a605392   \n",
       "height                                                            None   \n",
       "weight                                                           245.0   \n",
       "bodyfat                                                           None   \n",
       "totalItems                                                          18   \n",
       "text                 This product really worked for me gets me up a...   \n",
       "date                                {u'$numberLong': u'1434056374000'}   \n",
       "modDate                             {u'$numberLong': u'1434056374000'}   \n",
       "slug                                                         Rafaelg90   \n",
       "verifiedBuyerRating                                                  9   \n",
       "description          Promotes Mental Focus, Memory, Mood, and Fat B...   \n",
       "updateStatusReason                                                None   \n",
       "rating                                                              10   \n",
       "\n",
       "                                                                 7      \\\n",
       "brandName                                                       360CUT   \n",
       "brandId                                                     cat1150004   \n",
       "name                                                           360LEAN   \n",
       "productId                                                  prod1620022   \n",
       "username                                                  lizziehessxo   \n",
       "userId                                                       101296512   \n",
       "_id                                           54ff4f360cf23daccb3ce189   \n",
       "height                                                            None   \n",
       "weight                                                            None   \n",
       "bodyfat                                                           None   \n",
       "totalItems                                                          18   \n",
       "text                 I have tried many fat burners before, but have...   \n",
       "date                                {u'$numberLong': u'1434056177000'}   \n",
       "modDate                             {u'$numberLong': u'1434056177000'}   \n",
       "slug                                                      lizziehessxo   \n",
       "verifiedBuyerRating                                                  9   \n",
       "description          Promotes Mental Focus, Memory, Mood, and Fat B...   \n",
       "updateStatusReason                                                None   \n",
       "rating                                                              10   \n",
       "\n",
       "                                                                 8      \\\n",
       "brandName                                                       360CUT   \n",
       "brandId                                                     cat1150004   \n",
       "name                                                           360LEAN   \n",
       "productId                                                  prod1620022   \n",
       "username                                                   desmichelle   \n",
       "userId                                                       108628242   \n",
       "_id                                           555cd9600cf26d3993e1e227   \n",
       "height                                                            None   \n",
       "weight                                                            None   \n",
       "bodyfat                                                           None   \n",
       "totalItems                                                          18   \n",
       "text                 i have tried four other companies and this is ...   \n",
       "date                                {u'$numberLong': u'1432148320000'}   \n",
       "modDate                             {u'$numberLong': u'1432148320000'}   \n",
       "slug                                                       desmichelle   \n",
       "verifiedBuyerRating                                                  9   \n",
       "description          Promotes Mental Focus, Memory, Mood, and Fat B...   \n",
       "updateStatusReason                                                None   \n",
       "rating                                                              10   \n",
       "\n",
       "                                                                 9      \\\n",
       "brandName                                                       360CUT   \n",
       "brandId                                                     cat1150004   \n",
       "name                                                           360LEAN   \n",
       "productId                                                  prod1620022   \n",
       "username                                                    nmontelli8   \n",
       "userId                                                        87861531   \n",
       "_id                                           555a4a1a0cf29545352ebb23   \n",
       "height                                                            None   \n",
       "weight                                                           106.5   \n",
       "bodyfat                                                           None   \n",
       "totalItems                                                          18   \n",
       "text                 Hands down one of the best thermos I've used. ...   \n",
       "date                                {u'$numberLong': u'1431980570000'}   \n",
       "modDate                             {u'$numberLong': u'1431980570000'}   \n",
       "slug                                                        nmontelli8   \n",
       "verifiedBuyerRating                                                  9   \n",
       "description          Promotes Mental Focus, Memory, Mood, and Fat B...   \n",
       "updateStatusReason                                                None   \n",
       "rating                                                               8   \n",
       "\n",
       "                                    ...                  \\\n",
       "brandName                           ...                   \n",
       "brandId                             ...                   \n",
       "name                                ...                   \n",
       "productId                           ...                   \n",
       "username                            ...                   \n",
       "userId                              ...                   \n",
       "_id                                 ...                   \n",
       "height                              ...                   \n",
       "weight                              ...                   \n",
       "bodyfat                             ...                   \n",
       "totalItems                          ...                   \n",
       "text                                ...                   \n",
       "date                                ...                   \n",
       "modDate                             ...                   \n",
       "slug                                ...                   \n",
       "verifiedBuyerRating                 ...                   \n",
       "description                         ...                   \n",
       "updateStatusReason                  ...                   \n",
       "rating                              ...                   \n",
       "\n",
       "                                                                 67601  \\\n",
       "brandName                                                       S.A.N.   \n",
       "brandId                                                   BRAND_S_A_N_   \n",
       "name                                              Green Supreme Fusion   \n",
       "productId                                                   prod680032   \n",
       "username                                                      fitbabe6   \n",
       "userId                                                          392653   \n",
       "_id                                           5421d6740cf206d284d4d150   \n",
       "height                                                            64.0   \n",
       "weight                                                           154.0   \n",
       "bodyfat                                                           29.0   \n",
       "totalItems                                                          10   \n",
       "text                 I love this product! The taste is quite good a...   \n",
       "date                                {u'$numberLong': u'1411503732000'}   \n",
       "modDate                             {u'$numberLong': u'1411503732000'}   \n",
       "slug                                                          fitbabe6   \n",
       "verifiedBuyerRating                                                9.4   \n",
       "description            Supports Digestive Health & Food Assimilation!*   \n",
       "updateStatusReason                                                None   \n",
       "rating                                                              10   \n",
       "\n",
       "                                                                 67602  \\\n",
       "brandName                                                       S.A.N.   \n",
       "brandId                                                   BRAND_S_A_N_   \n",
       "name                                              Green Supreme Fusion   \n",
       "productId                                                   prod680032   \n",
       "username                                                  NickJames206   \n",
       "userId                                                        67710702   \n",
       "_id                                           53ee6b320cf2b899939e6cc8   \n",
       "height                                                            69.0   \n",
       "weight                                                           173.0   \n",
       "bodyfat                                                           10.0   \n",
       "totalItems                                                          10   \n",
       "text                 This is the first time using a green product. ...   \n",
       "date                                {u'$numberLong': u'1408133938000'}   \n",
       "modDate                             {u'$numberLong': u'1408133938000'}   \n",
       "slug                                                      NickJames206   \n",
       "verifiedBuyerRating                                                9.4   \n",
       "description            Supports Digestive Health & Food Assimilation!*   \n",
       "updateStatusReason                                                None   \n",
       "rating                                                              10   \n",
       "\n",
       "                                                                 67603  \\\n",
       "brandName                                                       S.A.N.   \n",
       "brandId                                                   BRAND_S_A_N_   \n",
       "name                                              Green Supreme Fusion   \n",
       "productId                                                   prod680032   \n",
       "username                                                  nebraskaheat   \n",
       "userId                                                        57064062   \n",
       "_id                                           51a7c7720cf23b204302c5fd   \n",
       "height                                                            69.0   \n",
       "weight                                                           200.0   \n",
       "bodyfat                                                           17.0   \n",
       "totalItems                                                          10   \n",
       "text                 A great profile in an easily drinkable greens ...   \n",
       "date                                {u'$numberLong': u'1354654769000'}   \n",
       "modDate                             {u'$numberLong': u'1376084542000'}   \n",
       "slug                                                      nebraskaheat   \n",
       "verifiedBuyerRating                                                9.4   \n",
       "description            Supports Digestive Health & Food Assimilation!*   \n",
       "updateStatusReason                                                None   \n",
       "rating                                                               9   \n",
       "\n",
       "                                                                 67604  \\\n",
       "brandName                                                       S.A.N.   \n",
       "brandId                                                   BRAND_S_A_N_   \n",
       "name                                              Green Supreme Fusion   \n",
       "productId                                                   prod680032   \n",
       "username                                                     cmdavis11   \n",
       "userId                                                        43581152   \n",
       "_id                                           51a7c7730cf23b2043033dda   \n",
       "height                                                            71.0   \n",
       "weight                                                           167.0   \n",
       "bodyfat                                                           11.1   \n",
       "totalItems                                                          10   \n",
       "text                 This blows Oximega Greens out of the water in ...   \n",
       "date                                {u'$numberLong': u'1348527318000'}   \n",
       "modDate                             {u'$numberLong': u'1376086379000'}   \n",
       "slug                                                         cmdavis11   \n",
       "verifiedBuyerRating                                                9.4   \n",
       "description            Supports Digestive Health & Food Assimilation!*   \n",
       "updateStatusReason                                                None   \n",
       "rating                                                               9   \n",
       "\n",
       "                                                                 67605  \\\n",
       "brandName                                                          NOW   \n",
       "brandId                                                      BRAND_NOW   \n",
       "name                                                     Ginkgo Biloba   \n",
       "productId                                                        23649   \n",
       "username                                                     rrcarroll   \n",
       "userId                                                       103018372   \n",
       "_id                                           56f7e9660cf2e2d6c1d3d29e   \n",
       "height                                                            None   \n",
       "weight                                                           198.0   \n",
       "bodyfat                                                           19.0   \n",
       "totalItems                                                           6   \n",
       "text                 Does what it is suppose to do without any fluff.    \n",
       "date                                {u'$numberLong': u'1459087718000'}   \n",
       "modDate                             {u'$numberLong': u'1459087718000'}   \n",
       "slug                                                         rrcarroll   \n",
       "verifiedBuyerRating                                                  9   \n",
       "description                                   Promote Optimal Health!*   \n",
       "updateStatusReason                                                None   \n",
       "rating                                                               9   \n",
       "\n",
       "                                                  67606  \\\n",
       "brandName                                           NOW   \n",
       "brandId                                       BRAND_NOW   \n",
       "name                                      Ginkgo Biloba   \n",
       "productId                                         23649   \n",
       "username                                     musartnova   \n",
       "userId                                         32410682   \n",
       "_id                            567d6a330cf215707c6aca98   \n",
       "height                                             70.0   \n",
       "weight                                            165.0   \n",
       "bodyfat                                            13.0   \n",
       "totalItems                                            6   \n",
       "text                                               A+++   \n",
       "date                 {u'$numberLong': u'1451059763000'}   \n",
       "modDate              {u'$numberLong': u'1451059763000'}   \n",
       "slug                                         musartnova   \n",
       "verifiedBuyerRating                                   9   \n",
       "description                    Promote Optimal Health!*   \n",
       "updateStatusReason                                 None   \n",
       "rating                                                9   \n",
       "\n",
       "                                                                 67607  \\\n",
       "brandName                                                          NOW   \n",
       "brandId                                                      BRAND_NOW   \n",
       "name                                                     Ginkgo Biloba   \n",
       "productId                                                        23649   \n",
       "username                                                          TBug   \n",
       "userId                                                        79101492   \n",
       "_id                                           52f47f8b0cf212e540f28752   \n",
       "height                                                            None   \n",
       "weight                                                            None   \n",
       "bodyfat                                                           None   \n",
       "totalItems                                                           6   \n",
       "text                 Your mind awareness is a little sharper and fo...   \n",
       "date                                {u'$numberLong': u'1391755147000'}   \n",
       "modDate                             {u'$numberLong': u'1391755147000'}   \n",
       "slug                                                              TBug   \n",
       "verifiedBuyerRating                                                  9   \n",
       "description                                   Promote Optimal Health!*   \n",
       "updateStatusReason                                                None   \n",
       "rating                                                               8   \n",
       "\n",
       "                                                  67608  \\\n",
       "brandName                                           NOW   \n",
       "brandId                                       BRAND_NOW   \n",
       "name                                      Ginkgo Biloba   \n",
       "productId                                         23649   \n",
       "username                                          jonav   \n",
       "userId                                         63134382   \n",
       "_id                            51fa807c0cf27692f076eb86   \n",
       "height                                             70.0   \n",
       "weight                                            180.0   \n",
       "bodyfat                                             9.4   \n",
       "totalItems                                            6   \n",
       "text                                Its a great product   \n",
       "date                 {u'$numberLong': u'1375371388000'}   \n",
       "modDate              {u'$numberLong': u'1375371388000'}   \n",
       "slug                                              jonav   \n",
       "verifiedBuyerRating                                   9   \n",
       "description                    Promote Optimal Health!*   \n",
       "updateStatusReason                                 None   \n",
       "rating                                                8   \n",
       "\n",
       "                                                                 67609  \\\n",
       "brandName                                                          NOW   \n",
       "brandId                                                      BRAND_NOW   \n",
       "name                                                     Ginkgo Biloba   \n",
       "productId                                                        23649   \n",
       "username                                                       Senad54   \n",
       "userId                                                        55870402   \n",
       "_id                                           51f9de820cf25611125e7b1e   \n",
       "height                                                            74.0   \n",
       "weight                                                           235.0   \n",
       "bodyfat                                                           16.4   \n",
       "totalItems                                                           6   \n",
       "text                 I like this product. Before taking it, I could...   \n",
       "date                                {u'$numberLong': u'1375329922000'}   \n",
       "modDate                             {u'$numberLong': u'1375329922000'}   \n",
       "slug                                                           Senad54   \n",
       "verifiedBuyerRating                                                  9   \n",
       "description                                   Promote Optimal Health!*   \n",
       "updateStatusReason                                                None   \n",
       "rating                                                              10   \n",
       "\n",
       "                                                  67610  \n",
       "brandName                                           NOW  \n",
       "brandId                                       BRAND_NOW  \n",
       "name                                      Ginkgo Biloba  \n",
       "productId                                         23649  \n",
       "username                                  ecrivain75000  \n",
       "userId                                         49004332  \n",
       "_id                            51a7c7740cf23b20430392d7  \n",
       "height                                             None  \n",
       "weight                                             None  \n",
       "bodyfat                                            None  \n",
       "totalItems                                            6  \n",
       "text                                                     \n",
       "date                 {u'$numberLong': u'1340283671000'}  \n",
       "modDate              {u'$numberLong': u'1376087727000'}  \n",
       "slug                                      ecrivain75000  \n",
       "verifiedBuyerRating                                   9  \n",
       "description                    Promote Optimal Health!*  \n",
       "updateStatusReason                                 None  \n",
       "rating                                               10  \n",
       "\n",
       "[19 rows x 67514 columns]"
      ]
     },
     "execution_count": 116,
     "metadata": {},
     "output_type": "execute_result"
    }
   ],
   "source": [
    "df.T"
   ]
  },
  {
   "cell_type": "code",
   "execution_count": null,
   "metadata": {
    "collapsed": true
   },
   "outputs": [],
   "source": []
  },
  {
   "cell_type": "code",
   "execution_count": 112,
   "metadata": {
    "collapsed": true
   },
   "outputs": [],
   "source": [
    "df = pd.read_pickle('reviews.pkl')"
   ]
  },
  {
   "cell_type": "code",
   "execution_count": 79,
   "metadata": {
    "collapsed": true
   },
   "outputs": [],
   "source": [
    "import graphlab as gl"
   ]
  },
  {
   "cell_type": "code",
   "execution_count": 115,
   "metadata": {
    "collapsed": false
   },
   "outputs": [
    {
     "data": {
      "text/plain": [
       "Index([          u'brandName',             u'brandId',                u'name',\n",
       "                 u'productId',            u'username',              u'userId',\n",
       "                       u'_id',              u'height',              u'weight',\n",
       "                   u'bodyfat',          u'totalItems',                u'text',\n",
       "                      u'date',             u'modDate',                u'slug',\n",
       "       u'verifiedBuyerRating',         u'description',  u'updateStatusReason',\n",
       "                    u'rating'],\n",
       "      dtype='object')"
      ]
     },
     "execution_count": 115,
     "metadata": {},
     "output_type": "execute_result"
    }
   ],
   "source": [
    "from graphlab.toolkits.recommender import item_similarity_recommender, popularity_recommender factorization_recommender, "
   ]
  },
  {
   "cell_type": "code",
   "execution_count": 114,
   "metadata": {
    "collapsed": false
   },
   "outputs": [
    {
     "name": "stdout",
     "output_type": "stream",
     "text": [
      "This non-commercial license of GraphLab Create for academic use is assigned to bta.baltazar@gmail.com and will expire on October 21, 2017.\n"
     ]
    },
    {
     "name": "stderr",
     "output_type": "stream",
     "text": [
      "[INFO] graphlab.cython.cy_server: GraphLab Create v2.1 started. Logging: /tmp/graphlab_server_1480121902.log\n"
     ]
    },
    {
     "data": {
      "text/html": [
       "<pre>Recsys training: model = ranking_factorization_recommender</pre>"
      ],
      "text/plain": [
       "Recsys training: model = ranking_factorization_recommender"
      ]
     },
     "metadata": {},
     "output_type": "display_data"
    },
    {
     "data": {
      "text/html": [
       "<pre>Preparing data set.</pre>"
      ],
      "text/plain": [
       "Preparing data set."
      ]
     },
     "metadata": {},
     "output_type": "display_data"
    },
    {
     "data": {
      "text/html": [
       "<pre>    Data has 67514 observations with 41069 users and 392 items.</pre>"
      ],
      "text/plain": [
       "    Data has 67514 observations with 41069 users and 392 items."
      ]
     },
     "metadata": {},
     "output_type": "display_data"
    },
    {
     "data": {
      "text/html": [
       "<pre>    Data prepared in: 0.539759s</pre>"
      ],
      "text/plain": [
       "    Data prepared in: 0.539759s"
      ]
     },
     "metadata": {},
     "output_type": "display_data"
    },
    {
     "data": {
      "text/html": [
       "<pre>Training ranking_factorization_recommender for recommendations.</pre>"
      ],
      "text/plain": [
       "Training ranking_factorization_recommender for recommendations."
      ]
     },
     "metadata": {},
     "output_type": "display_data"
    },
    {
     "data": {
      "text/html": [
       "<pre>+--------------------------------+--------------------------------------------------+----------+</pre>"
      ],
      "text/plain": [
       "+--------------------------------+--------------------------------------------------+----------+"
      ]
     },
     "metadata": {},
     "output_type": "display_data"
    },
    {
     "data": {
      "text/html": [
       "<pre>| Parameter                      | Description                                      | Value    |</pre>"
      ],
      "text/plain": [
       "| Parameter                      | Description                                      | Value    |"
      ]
     },
     "metadata": {},
     "output_type": "display_data"
    },
    {
     "data": {
      "text/html": [
       "<pre>+--------------------------------+--------------------------------------------------+----------+</pre>"
      ],
      "text/plain": [
       "+--------------------------------+--------------------------------------------------+----------+"
      ]
     },
     "metadata": {},
     "output_type": "display_data"
    },
    {
     "data": {
      "text/html": [
       "<pre>| num_factors                    | Factor Dimension                                 | 32       |</pre>"
      ],
      "text/plain": [
       "| num_factors                    | Factor Dimension                                 | 32       |"
      ]
     },
     "metadata": {},
     "output_type": "display_data"
    },
    {
     "data": {
      "text/html": [
       "<pre>| regularization                 | L2 Regularization on Factors                     | 1e-09    |</pre>"
      ],
      "text/plain": [
       "| regularization                 | L2 Regularization on Factors                     | 1e-09    |"
      ]
     },
     "metadata": {},
     "output_type": "display_data"
    },
    {
     "data": {
      "text/html": [
       "<pre>| solver                         | Solver used for training                         | sgd      |</pre>"
      ],
      "text/plain": [
       "| solver                         | Solver used for training                         | sgd      |"
      ]
     },
     "metadata": {},
     "output_type": "display_data"
    },
    {
     "data": {
      "text/html": [
       "<pre>| linear_regularization          | L2 Regularization on Linear Coefficients         | 1e-09    |</pre>"
      ],
      "text/plain": [
       "| linear_regularization          | L2 Regularization on Linear Coefficients         | 1e-09    |"
      ]
     },
     "metadata": {},
     "output_type": "display_data"
    },
    {
     "data": {
      "text/html": [
       "<pre>| ranking_regularization         | Rank-based Regularization Weight                 | 0.25     |</pre>"
      ],
      "text/plain": [
       "| ranking_regularization         | Rank-based Regularization Weight                 | 0.25     |"
      ]
     },
     "metadata": {},
     "output_type": "display_data"
    },
    {
     "data": {
      "text/html": [
       "<pre>| max_iterations                 | Maximum Number of Iterations                     | 25       |</pre>"
      ],
      "text/plain": [
       "| max_iterations                 | Maximum Number of Iterations                     | 25       |"
      ]
     },
     "metadata": {},
     "output_type": "display_data"
    },
    {
     "data": {
      "text/html": [
       "<pre>+--------------------------------+--------------------------------------------------+----------+</pre>"
      ],
      "text/plain": [
       "+--------------------------------+--------------------------------------------------+----------+"
      ]
     },
     "metadata": {},
     "output_type": "display_data"
    },
    {
     "data": {
      "text/html": [
       "<pre>  Optimizing model using SGD; tuning step size.</pre>"
      ],
      "text/plain": [
       "  Optimizing model using SGD; tuning step size."
      ]
     },
     "metadata": {},
     "output_type": "display_data"
    },
    {
     "data": {
      "text/html": [
       "<pre>  Using 10000 / 67514 points for tuning the step size.</pre>"
      ],
      "text/plain": [
       "  Using 10000 / 67514 points for tuning the step size."
      ]
     },
     "metadata": {},
     "output_type": "display_data"
    },
    {
     "data": {
      "text/html": [
       "<pre>+---------+-------------------+------------------------------------------+</pre>"
      ],
      "text/plain": [
       "+---------+-------------------+------------------------------------------+"
      ]
     },
     "metadata": {},
     "output_type": "display_data"
    },
    {
     "data": {
      "text/html": [
       "<pre>| Attempt | Initial Step Size | Estimated Objective Value                |</pre>"
      ],
      "text/plain": [
       "| Attempt | Initial Step Size | Estimated Objective Value                |"
      ]
     },
     "metadata": {},
     "output_type": "display_data"
    },
    {
     "data": {
      "text/html": [
       "<pre>+---------+-------------------+------------------------------------------+</pre>"
      ],
      "text/plain": [
       "+---------+-------------------+------------------------------------------+"
      ]
     },
     "metadata": {},
     "output_type": "display_data"
    },
    {
     "data": {
      "text/html": [
       "<pre>| 0       | 25                | Not Viable                               |</pre>"
      ],
      "text/plain": [
       "| 0       | 25                | Not Viable                               |"
      ]
     },
     "metadata": {},
     "output_type": "display_data"
    },
    {
     "data": {
      "text/html": [
       "<pre>| 1       | 6.25              | Not Viable                               |</pre>"
      ],
      "text/plain": [
       "| 1       | 6.25              | Not Viable                               |"
      ]
     },
     "metadata": {},
     "output_type": "display_data"
    },
    {
     "data": {
      "text/html": [
       "<pre>| 2       | 1.5625            | Not Viable                               |</pre>"
      ],
      "text/plain": [
       "| 2       | 1.5625            | Not Viable                               |"
      ]
     },
     "metadata": {},
     "output_type": "display_data"
    },
    {
     "data": {
      "text/html": [
       "<pre>| 3       | 0.390625          | Not Viable                               |</pre>"
      ],
      "text/plain": [
       "| 3       | 0.390625          | Not Viable                               |"
      ]
     },
     "metadata": {},
     "output_type": "display_data"
    },
    {
     "data": {
      "text/html": [
       "<pre>| 4       | 0.0976562         | 3.86508                                  |</pre>"
      ],
      "text/plain": [
       "| 4       | 0.0976562         | 3.86508                                  |"
      ]
     },
     "metadata": {},
     "output_type": "display_data"
    },
    {
     "data": {
      "text/html": [
       "<pre>| 5       | 0.0488281         | 5.44629                                  |</pre>"
      ],
      "text/plain": [
       "| 5       | 0.0488281         | 5.44629                                  |"
      ]
     },
     "metadata": {},
     "output_type": "display_data"
    },
    {
     "data": {
      "text/html": [
       "<pre>| 6       | 0.0244141         | 6.32479                                  |</pre>"
      ],
      "text/plain": [
       "| 6       | 0.0244141         | 6.32479                                  |"
      ]
     },
     "metadata": {},
     "output_type": "display_data"
    },
    {
     "data": {
      "text/html": [
       "<pre>| 7       | 0.012207          | 7.08025                                  |</pre>"
      ],
      "text/plain": [
       "| 7       | 0.012207          | 7.08025                                  |"
      ]
     },
     "metadata": {},
     "output_type": "display_data"
    },
    {
     "data": {
      "text/html": [
       "<pre>+---------+-------------------+------------------------------------------+</pre>"
      ],
      "text/plain": [
       "+---------+-------------------+------------------------------------------+"
      ]
     },
     "metadata": {},
     "output_type": "display_data"
    },
    {
     "data": {
      "text/html": [
       "<pre>| Final   | 0.0976562         | 3.86508                                  |</pre>"
      ],
      "text/plain": [
       "| Final   | 0.0976562         | 3.86508                                  |"
      ]
     },
     "metadata": {},
     "output_type": "display_data"
    },
    {
     "data": {
      "text/html": [
       "<pre>+---------+-------------------+------------------------------------------+</pre>"
      ],
      "text/plain": [
       "+---------+-------------------+------------------------------------------+"
      ]
     },
     "metadata": {},
     "output_type": "display_data"
    },
    {
     "data": {
      "text/html": [
       "<pre>Starting Optimization.</pre>"
      ],
      "text/plain": [
       "Starting Optimization."
      ]
     },
     "metadata": {},
     "output_type": "display_data"
    },
    {
     "data": {
      "text/html": [
       "<pre>+---------+--------------+-------------------+-----------------------+-------------+</pre>"
      ],
      "text/plain": [
       "+---------+--------------+-------------------+-----------------------+-------------+"
      ]
     },
     "metadata": {},
     "output_type": "display_data"
    },
    {
     "data": {
      "text/html": [
       "<pre>| Iter.   | Elapsed Time | Approx. Objective | Approx. Training RMSE | Step Size   |</pre>"
      ],
      "text/plain": [
       "| Iter.   | Elapsed Time | Approx. Objective | Approx. Training RMSE | Step Size   |"
      ]
     },
     "metadata": {},
     "output_type": "display_data"
    },
    {
     "data": {
      "text/html": [
       "<pre>+---------+--------------+-------------------+-----------------------+-------------+</pre>"
      ],
      "text/plain": [
       "+---------+--------------+-------------------+-----------------------+-------------+"
      ]
     },
     "metadata": {},
     "output_type": "display_data"
    },
    {
     "data": {
      "text/html": [
       "<pre>| Initial | 159us        | 9.2015            | 2.16641               |             |</pre>"
      ],
      "text/plain": [
       "| Initial | 159us        | 9.2015            | 2.16641               |             |"
      ]
     },
     "metadata": {},
     "output_type": "display_data"
    },
    {
     "data": {
      "text/html": [
       "<pre>+---------+--------------+-------------------+-----------------------+-------------+</pre>"
      ],
      "text/plain": [
       "+---------+--------------+-------------------+-----------------------+-------------+"
      ]
     },
     "metadata": {},
     "output_type": "display_data"
    },
    {
     "data": {
      "text/html": [
       "<pre>| 1       | 167.762ms    | 12.2226           | 3.2139                | 0.0976562   |</pre>"
      ],
      "text/plain": [
       "| 1       | 167.762ms    | 12.2226           | 3.2139                | 0.0976562   |"
      ]
     },
     "metadata": {},
     "output_type": "display_data"
    },
    {
     "data": {
      "text/html": [
       "<pre>| 2       | 375.187ms    | DIVERGED          | DIVERGED              | 0.0580668   |</pre>"
      ],
      "text/plain": [
       "| 2       | 375.187ms    | DIVERGED          | DIVERGED              | 0.0580668   |"
      ]
     },
     "metadata": {},
     "output_type": "display_data"
    },
    {
     "data": {
      "text/html": [
       "<pre>| RESET   | 586.547ms    | 9.20146           | 2.1664                |             |</pre>"
      ],
      "text/plain": [
       "| RESET   | 586.547ms    | 9.20146           | 2.1664                |             |"
      ]
     },
     "metadata": {},
     "output_type": "display_data"
    },
    {
     "data": {
      "text/html": [
       "<pre>| 1       | 921.088ms    | 7.16264           | 2.25971               | 0.0290334   |</pre>"
      ],
      "text/plain": [
       "| 1       | 921.088ms    | 7.16264           | 2.25971               | 0.0290334   |"
      ]
     },
     "metadata": {},
     "output_type": "display_data"
    },
    {
     "data": {
      "text/html": [
       "<pre>| 2       | 1.08s        | 6.46584           | 2.20564               | 0.0172633   |</pre>"
      ],
      "text/plain": [
       "| 2       | 1.08s        | 6.46584           | 2.20564               | 0.0172633   |"
      ]
     },
     "metadata": {},
     "output_type": "display_data"
    },
    {
     "data": {
      "text/html": [
       "<pre>| 3       | 1.41s        | 6.16767           | 2.1363                | 0.0127367   |</pre>"
      ],
      "text/plain": [
       "| 3       | 1.41s        | 6.16767           | 2.1363                | 0.0127367   |"
      ]
     },
     "metadata": {},
     "output_type": "display_data"
    },
    {
     "data": {
      "text/html": [
       "<pre>| 4       | 1.76s        | 5.79627           | 2.04536               | 0.0102648   |</pre>"
      ],
      "text/plain": [
       "| 4       | 1.76s        | 5.79627           | 2.04536               | 0.0102648   |"
      ]
     },
     "metadata": {},
     "output_type": "display_data"
    },
    {
     "data": {
      "text/html": [
       "<pre>| 5       | 1.93s        | 5.32714           | 1.92761               | 0.008683    |</pre>"
      ],
      "text/plain": [
       "| 5       | 1.93s        | 5.32714           | 1.92761               | 0.008683    |"
      ]
     },
     "metadata": {},
     "output_type": "display_data"
    },
    {
     "data": {
      "text/html": [
       "<pre>| 8       | 2.82s        | 4.04547           | 1.58002               | 0.00610352  |</pre>"
      ],
      "text/plain": [
       "| 8       | 2.82s        | 4.04547           | 1.58002               | 0.00610352  |"
      ]
     },
     "metadata": {},
     "output_type": "display_data"
    },
    {
     "data": {
      "text/html": [
       "<pre>| 10      | 3.20s        | 3.67643           | 1.4686                | 0.00516295  |</pre>"
      ],
      "text/plain": [
       "| 10      | 3.20s        | 3.67643           | 1.4686                | 0.00516295  |"
      ]
     },
     "metadata": {},
     "output_type": "display_data"
    },
    {
     "data": {
      "text/html": [
       "<pre>| 13      | 3.71s        | 3.13462           | 1.32525               | 0.00424072  |</pre>"
      ],
      "text/plain": [
       "| 13      | 3.71s        | 3.13462           | 1.32525               | 0.00424072  |"
      ]
     },
     "metadata": {},
     "output_type": "display_data"
    },
    {
     "data": {
      "text/html": [
       "<pre>| 18      | 4.52s        | 2.49541           | 1.1493                | 0.00332233  |</pre>"
      ],
      "text/plain": [
       "| 18      | 4.52s        | 2.49541           | 1.1493                | 0.00332233  |"
      ]
     },
     "metadata": {},
     "output_type": "display_data"
    },
    {
     "data": {
      "text/html": [
       "<pre>| 23      | 5.24s        | 2.08258           | 1.03863               | 0.00276441  |</pre>"
      ],
      "text/plain": [
       "| 23      | 5.24s        | 2.08258           | 1.03863               | 0.00276441  |"
      ]
     },
     "metadata": {},
     "output_type": "display_data"
    },
    {
     "data": {
      "text/html": [
       "<pre>+---------+--------------+-------------------+-----------------------+-------------+</pre>"
      ],
      "text/plain": [
       "+---------+--------------+-------------------+-----------------------+-------------+"
      ]
     },
     "metadata": {},
     "output_type": "display_data"
    },
    {
     "data": {
      "text/html": [
       "<pre>Optimization Complete: Maximum number of passes through the data reached.</pre>"
      ],
      "text/plain": [
       "Optimization Complete: Maximum number of passes through the data reached."
      ]
     },
     "metadata": {},
     "output_type": "display_data"
    },
    {
     "data": {
      "text/html": [
       "<pre>Computing final objective value and training RMSE.</pre>"
      ],
      "text/plain": [
       "Computing final objective value and training RMSE."
      ]
     },
     "metadata": {},
     "output_type": "display_data"
    },
    {
     "data": {
      "text/html": [
       "<pre>       Final objective value: 1.84137</pre>"
      ],
      "text/plain": [
       "       Final objective value: 1.84137"
      ]
     },
     "metadata": {},
     "output_type": "display_data"
    },
    {
     "data": {
      "text/html": [
       "<pre>       Final training RMSE: 0.95111</pre>"
      ],
      "text/plain": [
       "       Final training RMSE: 0.95111"
      ]
     },
     "metadata": {},
     "output_type": "display_data"
    }
   ],
   "source": [
    "    sf_1 = gl.SFrame(df[['userId', 'brandId', 'rating']])\n",
    "model_1_brand = gl.toolkits.recommender.create(sf_1, user_id = 'userId', item_id='brandId', target='rating')"
   ]
  },
  {
   "cell_type": "code",
   "execution_count": null,
   "metadata": {
    "collapsed": true
   },
   "outputs": [],
   "source": []
  }
 ],
 "metadata": {
  "anaconda-cloud": {},
  "kernelspec": {
   "display_name": "Python [Root]",
   "language": "python",
   "name": "Python [Root]"
  },
  "language_info": {
   "codemirror_mode": {
    "name": "ipython",
    "version": 2
   },
   "file_extension": ".py",
   "mimetype": "text/x-python",
   "name": "python",
   "nbconvert_exporter": "python",
   "pygments_lexer": "ipython2",
   "version": "2.7.12"
  }
 },
 "nbformat": 4,
 "nbformat_minor": 0
}
